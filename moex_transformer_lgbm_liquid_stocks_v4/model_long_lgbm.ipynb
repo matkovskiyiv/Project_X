{
 "cells": [
  {
   "cell_type": "code",
   "execution_count": 4,
   "id": "d6e30ae7-7754-45c6-8ab7-f0faf1d303cb",
   "metadata": {
    "id": "d6e30ae7-7754-45c6-8ab7-f0faf1d303cb"
   },
   "outputs": [],
   "source": [
    "import numpy as np\n",
    "import pandas as pd\n",
    "from tqdm import tqdm\n",
    "import random\n",
    "import matplotlib.pyplot as plt\n",
    "import seaborn as sns \n",
    "import datetime\n",
    "import math\n",
    "import gc\n",
    "\n",
    "from sklearn.metrics import roc_auc_score\n",
    "\n",
    "import lightgbm as lgbm\n",
    "\n",
    "import pickle\n",
    "def dump_pkl(data, filename):\n",
    "  with open(filename, 'wb') as handle:\n",
    "    pickle.dump(data, handle, protocol=pickle.HIGHEST_PROTOCOL)\n",
    "\n",
    "def load_pkl(filename):\n",
    "  with open(filename, 'rb') as handle:\n",
    "    data = pickle.load(handle)\n",
    "  return data"
   ]
  },
  {
   "cell_type": "code",
   "execution_count": null,
   "id": "qirDY6OVczYo",
   "metadata": {
    "id": "qirDY6OVczYo"
   },
   "outputs": [],
   "source": []
  },
  {
   "cell_type": "code",
   "execution_count": null,
   "id": "f33837fa-b1a1-4457-8760-12875c46470c",
   "metadata": {
    "id": "f33837fa-b1a1-4457-8760-12875c46470c"
   },
   "outputs": [],
   "source": []
  },
  {
   "cell_type": "code",
   "execution_count": 7,
   "id": "abae8128-7f9c-4e0c-bcfc-38c3f6a7c7b1",
   "metadata": {
    "id": "abae8128-7f9c-4e0c-bcfc-38c3f6a7c7b1"
   },
   "outputs": [],
   "source": [
    "df = load_pkl('./data/feat_engin/lgbm/data_15min_1hour_1day.pkl')"
   ]
  },
  {
   "cell_type": "code",
   "execution_count": 8,
   "id": "aaaec63d-9f8a-4fe4-8de7-95f0e2b42a97",
   "metadata": {
    "id": "aaaec63d-9f8a-4fe4-8de7-95f0e2b42a97"
   },
   "outputs": [
    {
     "data": {
      "text/plain": [
       "(2340439, 1712)"
      ]
     },
     "execution_count": 8,
     "metadata": {},
     "output_type": "execute_result"
    }
   ],
   "source": [
    "df.shape"
   ]
  },
  {
   "cell_type": "code",
   "execution_count": 10,
   "id": "fed12ab2-9143-4cb7-818f-cb6d0bc474ff",
   "metadata": {},
   "outputs": [
    {
     "data": {
      "text/html": [
       "<div>\n",
       "<style scoped>\n",
       "    .dataframe tbody tr th:only-of-type {\n",
       "        vertical-align: middle;\n",
       "    }\n",
       "\n",
       "    .dataframe tbody tr th {\n",
       "        vertical-align: top;\n",
       "    }\n",
       "\n",
       "    .dataframe thead th {\n",
       "        text-align: right;\n",
       "    }\n",
       "</style>\n",
       "<table border=\"1\" class=\"dataframe\">\n",
       "  <thead>\n",
       "    <tr style=\"text-align: right;\">\n",
       "      <th></th>\n",
       "      <th>time</th>\n",
       "      <th>close</th>\n",
       "      <th>volume</th>\n",
       "      <th>ticker</th>\n",
       "      <th>tmos_close</th>\n",
       "      <th>index_1hour</th>\n",
       "      <th>index_1day</th>\n",
       "      <th>result</th>\n",
       "      <th>delta_time</th>\n",
       "      <th>income_rate</th>\n",
       "      <th>...</th>\n",
       "      <th>tmos_close_1day_w10_min/tmos_close_1day_w10_max</th>\n",
       "      <th>close_1day_w20_min/close_1day_w20_max</th>\n",
       "      <th>volume_1day_w20_min/volume_1day_w20_max</th>\n",
       "      <th>tmos_close_1day_w20_min/tmos_close_1day_w20_max</th>\n",
       "      <th>close_1day_w30_min/close_1day_w30_max</th>\n",
       "      <th>tmos_close_1day_w30_min/tmos_close_1day_w30_max</th>\n",
       "      <th>close_1day_w60_min/close_1day_w60_max</th>\n",
       "      <th>tmos_close_1day_w60_min/tmos_close_1day_w60_max</th>\n",
       "      <th>close_1day_w120_min/close_1day_w120_max</th>\n",
       "      <th>tmos_close_1day_w120_min/tmos_close_1day_w120_max</th>\n",
       "    </tr>\n",
       "  </thead>\n",
       "  <tbody>\n",
       "    <tr>\n",
       "      <th>0</th>\n",
       "      <td>2022-05-04 10:00:00</td>\n",
       "      <td>31.520000</td>\n",
       "      <td>165423.0</td>\n",
       "      <td>AFLT</td>\n",
       "      <td>4.30</td>\n",
       "      <td>NaN</td>\n",
       "      <td>NaN</td>\n",
       "      <td>LOSE</td>\n",
       "      <td>0 days 00:15:00</td>\n",
       "      <td>0.994</td>\n",
       "      <td>...</td>\n",
       "      <td>NaN</td>\n",
       "      <td>NaN</td>\n",
       "      <td>NaN</td>\n",
       "      <td>NaN</td>\n",
       "      <td>NaN</td>\n",
       "      <td>NaN</td>\n",
       "      <td>NaN</td>\n",
       "      <td>NaN</td>\n",
       "      <td>NaN</td>\n",
       "      <td>NaN</td>\n",
       "    </tr>\n",
       "    <tr>\n",
       "      <th>1</th>\n",
       "      <td>2022-05-04 10:15:00</td>\n",
       "      <td>31.920000</td>\n",
       "      <td>99825.0</td>\n",
       "      <td>AFLT</td>\n",
       "      <td>4.32</td>\n",
       "      <td>NaN</td>\n",
       "      <td>NaN</td>\n",
       "      <td>LOSE</td>\n",
       "      <td>0 days 00:15:00</td>\n",
       "      <td>0.994</td>\n",
       "      <td>...</td>\n",
       "      <td>NaN</td>\n",
       "      <td>NaN</td>\n",
       "      <td>NaN</td>\n",
       "      <td>NaN</td>\n",
       "      <td>NaN</td>\n",
       "      <td>NaN</td>\n",
       "      <td>NaN</td>\n",
       "      <td>NaN</td>\n",
       "      <td>NaN</td>\n",
       "      <td>NaN</td>\n",
       "    </tr>\n",
       "    <tr>\n",
       "      <th>2</th>\n",
       "      <td>2022-05-04 10:30:00</td>\n",
       "      <td>32.400002</td>\n",
       "      <td>171391.0</td>\n",
       "      <td>AFLT</td>\n",
       "      <td>4.29</td>\n",
       "      <td>NaN</td>\n",
       "      <td>NaN</td>\n",
       "      <td>WIN</td>\n",
       "      <td>0 days 00:30:00</td>\n",
       "      <td>1.009</td>\n",
       "      <td>...</td>\n",
       "      <td>NaN</td>\n",
       "      <td>NaN</td>\n",
       "      <td>NaN</td>\n",
       "      <td>NaN</td>\n",
       "      <td>NaN</td>\n",
       "      <td>NaN</td>\n",
       "      <td>NaN</td>\n",
       "      <td>NaN</td>\n",
       "      <td>NaN</td>\n",
       "      <td>NaN</td>\n",
       "    </tr>\n",
       "    <tr>\n",
       "      <th>3</th>\n",
       "      <td>2022-05-04 10:45:00</td>\n",
       "      <td>32.099998</td>\n",
       "      <td>66741.0</td>\n",
       "      <td>AFLT</td>\n",
       "      <td>4.27</td>\n",
       "      <td>0.0</td>\n",
       "      <td>NaN</td>\n",
       "      <td>WIN</td>\n",
       "      <td>0 days 00:30:00</td>\n",
       "      <td>1.009</td>\n",
       "      <td>...</td>\n",
       "      <td>NaN</td>\n",
       "      <td>NaN</td>\n",
       "      <td>NaN</td>\n",
       "      <td>NaN</td>\n",
       "      <td>NaN</td>\n",
       "      <td>NaN</td>\n",
       "      <td>NaN</td>\n",
       "      <td>NaN</td>\n",
       "      <td>NaN</td>\n",
       "      <td>NaN</td>\n",
       "    </tr>\n",
       "    <tr>\n",
       "      <th>4</th>\n",
       "      <td>2022-05-04 11:00:00</td>\n",
       "      <td>31.940001</td>\n",
       "      <td>42552.0</td>\n",
       "      <td>AFLT</td>\n",
       "      <td>4.25</td>\n",
       "      <td>0.0</td>\n",
       "      <td>NaN</td>\n",
       "      <td>WIN</td>\n",
       "      <td>0 days 00:15:00</td>\n",
       "      <td>1.009</td>\n",
       "      <td>...</td>\n",
       "      <td>NaN</td>\n",
       "      <td>NaN</td>\n",
       "      <td>NaN</td>\n",
       "      <td>NaN</td>\n",
       "      <td>NaN</td>\n",
       "      <td>NaN</td>\n",
       "      <td>NaN</td>\n",
       "      <td>NaN</td>\n",
       "      <td>NaN</td>\n",
       "      <td>NaN</td>\n",
       "    </tr>\n",
       "  </tbody>\n",
       "</table>\n",
       "<p>5 rows × 1712 columns</p>\n",
       "</div>"
      ],
      "text/plain": [
       "                 time      close    volume ticker  tmos_close  index_1hour  \\\n",
       "0 2022-05-04 10:00:00  31.520000  165423.0   AFLT        4.30          NaN   \n",
       "1 2022-05-04 10:15:00  31.920000   99825.0   AFLT        4.32          NaN   \n",
       "2 2022-05-04 10:30:00  32.400002  171391.0   AFLT        4.29          NaN   \n",
       "3 2022-05-04 10:45:00  32.099998   66741.0   AFLT        4.27          0.0   \n",
       "4 2022-05-04 11:00:00  31.940001   42552.0   AFLT        4.25          0.0   \n",
       "\n",
       "   index_1day result      delta_time  income_rate  ...  \\\n",
       "0         NaN   LOSE 0 days 00:15:00        0.994  ...   \n",
       "1         NaN   LOSE 0 days 00:15:00        0.994  ...   \n",
       "2         NaN    WIN 0 days 00:30:00        1.009  ...   \n",
       "3         NaN    WIN 0 days 00:30:00        1.009  ...   \n",
       "4         NaN    WIN 0 days 00:15:00        1.009  ...   \n",
       "\n",
       "   tmos_close_1day_w10_min/tmos_close_1day_w10_max  \\\n",
       "0                                              NaN   \n",
       "1                                              NaN   \n",
       "2                                              NaN   \n",
       "3                                              NaN   \n",
       "4                                              NaN   \n",
       "\n",
       "   close_1day_w20_min/close_1day_w20_max  \\\n",
       "0                                    NaN   \n",
       "1                                    NaN   \n",
       "2                                    NaN   \n",
       "3                                    NaN   \n",
       "4                                    NaN   \n",
       "\n",
       "   volume_1day_w20_min/volume_1day_w20_max  \\\n",
       "0                                      NaN   \n",
       "1                                      NaN   \n",
       "2                                      NaN   \n",
       "3                                      NaN   \n",
       "4                                      NaN   \n",
       "\n",
       "   tmos_close_1day_w20_min/tmos_close_1day_w20_max  \\\n",
       "0                                              NaN   \n",
       "1                                              NaN   \n",
       "2                                              NaN   \n",
       "3                                              NaN   \n",
       "4                                              NaN   \n",
       "\n",
       "   close_1day_w30_min/close_1day_w30_max  \\\n",
       "0                                    NaN   \n",
       "1                                    NaN   \n",
       "2                                    NaN   \n",
       "3                                    NaN   \n",
       "4                                    NaN   \n",
       "\n",
       "   tmos_close_1day_w30_min/tmos_close_1day_w30_max  \\\n",
       "0                                              NaN   \n",
       "1                                              NaN   \n",
       "2                                              NaN   \n",
       "3                                              NaN   \n",
       "4                                              NaN   \n",
       "\n",
       "   close_1day_w60_min/close_1day_w60_max  \\\n",
       "0                                    NaN   \n",
       "1                                    NaN   \n",
       "2                                    NaN   \n",
       "3                                    NaN   \n",
       "4                                    NaN   \n",
       "\n",
       "   tmos_close_1day_w60_min/tmos_close_1day_w60_max  \\\n",
       "0                                              NaN   \n",
       "1                                              NaN   \n",
       "2                                              NaN   \n",
       "3                                              NaN   \n",
       "4                                              NaN   \n",
       "\n",
       "   close_1day_w120_min/close_1day_w120_max  \\\n",
       "0                                      NaN   \n",
       "1                                      NaN   \n",
       "2                                      NaN   \n",
       "3                                      NaN   \n",
       "4                                      NaN   \n",
       "\n",
       "   tmos_close_1day_w120_min/tmos_close_1day_w120_max  \n",
       "0                                                NaN  \n",
       "1                                                NaN  \n",
       "2                                                NaN  \n",
       "3                                                NaN  \n",
       "4                                                NaN  \n",
       "\n",
       "[5 rows x 1712 columns]"
      ]
     },
     "execution_count": 10,
     "metadata": {},
     "output_type": "execute_result"
    }
   ],
   "source": [
    "df.head()"
   ]
  },
  {
   "cell_type": "code",
   "execution_count": 11,
   "id": "83c5be43-3580-4a95-a75a-81cfc54d8d6b",
   "metadata": {},
   "outputs": [
    {
     "data": {
      "text/plain": [
       "result\n",
       "LOSE    0.572551\n",
       "WIN     0.327577\n",
       "DNF     0.099872\n",
       "Name: proportion, dtype: float64"
      ]
     },
     "execution_count": 11,
     "metadata": {},
     "output_type": "execute_result"
    }
   ],
   "source": [
    "df['result'].value_counts(normalize=True)"
   ]
  },
  {
   "cell_type": "code",
   "execution_count": 12,
   "id": "431f4601-61c2-4253-9110-3bdcb605bec3",
   "metadata": {},
   "outputs": [
    {
     "data": {
      "text/plain": [
       "0.00    0.994\n",
       "0.01    0.994\n",
       "0.10    0.994\n",
       "0.20    0.994\n",
       "0.30    0.994\n",
       "0.40    0.994\n",
       "0.50    0.994\n",
       "0.60    0.999\n",
       "0.70    1.009\n",
       "0.80    1.009\n",
       "0.90    1.009\n",
       "0.99    1.009\n",
       "1.00    1.009\n",
       "Name: income_rate, dtype: float64"
      ]
     },
     "execution_count": 12,
     "metadata": {},
     "output_type": "execute_result"
    }
   ],
   "source": [
    "df['income_rate'].quantile(q=[0, 0.01]+np.arange(0.1, 1, 0.1).tolist()+[0.99, 1])"
   ]
  },
  {
   "cell_type": "code",
   "execution_count": 13,
   "id": "9d82ad4d-d663-4b96-b920-1da562884cb2",
   "metadata": {},
   "outputs": [
    {
     "data": {
      "text/plain": [
       "0.00       0.0\n",
       "0.01       0.0\n",
       "0.10       0.0\n",
       "0.20       1.0\n",
       "0.30       2.0\n",
       "0.40       3.0\n",
       "0.50       8.0\n",
       "0.60      14.0\n",
       "0.70      18.0\n",
       "0.80      24.0\n",
       "0.90      59.0\n",
       "0.99      72.0\n",
       "1.00    6736.0\n",
       "Name: delta_time, dtype: float64"
      ]
     },
     "execution_count": 13,
     "metadata": {},
     "output_type": "execute_result"
    }
   ],
   "source": [
    "#распределение времени в часах\n",
    "(df['delta_time']//pd.Timedelta('1 hour')).quantile(q=[0, 0.01]+np.arange(0.1, 1, 0.1).tolist()+[0.99, 1])"
   ]
  },
  {
   "cell_type": "code",
   "execution_count": null,
   "id": "9e19013d-776f-4c91-9ffa-58f839245457",
   "metadata": {},
   "outputs": [],
   "source": []
  },
  {
   "cell_type": "markdown",
   "id": "101fccdc-b201-4228-b434-25c813c61d8c",
   "metadata": {},
   "source": [
    "## CHANGE TARGET"
   ]
  },
  {
   "cell_type": "code",
   "execution_count": 16,
   "id": "f753a7ad-46e5-4a2e-8660-757e9aeefa38",
   "metadata": {},
   "outputs": [],
   "source": [
    "def get_target(df_all, ind, val_first, val_second, points_to_wait):\n",
    "    #цель - достичь val_second, не достигнув val_first\n",
    "\n",
    "    ind_end = min(ind+points_to_wait+1, df_all.shape[0])\n",
    "    \n",
    "    df = df_all.iloc[ind:ind_end].copy()\n",
    "    \n",
    "    mask_stock = np.array(df['ticker'] == df['ticker'].iloc[0])\n",
    "    df = df.loc[mask_stock, :]\n",
    "\n",
    "    start_price = df['close'].iloc[0]\n",
    "    \n",
    "    if val_first < val_second:                                 \n",
    "        mask_val_first = np.array(df['close'] < val_first)\n",
    "        mask_val_second = np.array(df['close'] > val_second)\n",
    "    else: #short game\n",
    "        mask_val_first = np.array(df['close'] > val_first)\n",
    "        mask_val_second = np.array(df['close'] < val_second)\n",
    "\n",
    "    \n",
    "    if (mask_val_first.sum() == 0) & (mask_val_second.sum() == 0):\n",
    "\n",
    "        ind_end = df.shape[0]-1\n",
    "        delta_time = df['time'].iloc[ind_end] - df['time'].iloc[0]\n",
    "        res_price = df['close'].iloc[ind_end]\n",
    "        if val_first < val_second:\n",
    "            income_rate = res_price/start_price\n",
    "        else: #short game\n",
    "            income_rate = (2*start_price-res_price)/start_price\n",
    "        return 'DNF', delta_time, income_rate, res_price, ind_end+ind\n",
    "        \n",
    "    if (mask_val_first.sum() == 0) & (mask_val_second.sum() != 0):\n",
    "        ind_val_second = np.argwhere(mask_val_second).ravel()[0]\n",
    "        delta_time = df['time'].iloc[ind_val_second] - df['time'].iloc[0]\n",
    "        res_price = df['close'].iloc[ind_val_second]\n",
    "        if val_first < val_second:\n",
    "            income_rate = res_price/start_price\n",
    "        else: #short game\n",
    "            income_rate = (2*start_price-res_price)/start_price\n",
    "        return 'WIN', delta_time, income_rate, res_price, ind_val_second+ind\n",
    "        \n",
    "    if (mask_val_first.sum() != 0) & (mask_val_second.sum() == 0):\n",
    "        ind_val_first = np.argwhere(mask_val_first).ravel()[0]\n",
    "        delta_time = df['time'].iloc[ind_val_first] - df['time'].iloc[0]\n",
    "        res_price = df['close'].iloc[ind_val_first]\n",
    "        if val_first < val_second:\n",
    "            income_rate = res_price/start_price\n",
    "        else: #short game\n",
    "            income_rate = (2*start_price-res_price)/start_price\n",
    "        return 'LOSE', delta_time, income_rate, res_price, ind_val_first+ind\n",
    "\n",
    "    if (mask_val_first.sum() != 0) & (mask_val_second.sum() != 0):\n",
    "        ind_val_first = np.argwhere(mask_val_first).ravel()[0]\n",
    "        ind_val_second = np.argwhere(mask_val_second).ravel()[0]\n",
    "        if ind_val_first < ind_val_second:\n",
    "            delta_time = df['time'].iloc[ind_val_first] - df['time'].iloc[0]\n",
    "            res_price = df['close'].iloc[ind_val_first]\n",
    "            if val_first < val_second:\n",
    "                income_rate = res_price/start_price\n",
    "            else: #short game\n",
    "                income_rate = (2*start_price-res_price)/start_price\n",
    "            return 'LOSE', delta_time, income_rate, res_price, ind_val_first+ind\n",
    "        if ind_val_first > ind_val_second:\n",
    "            delta_time = df['time'].iloc[ind_val_second] - df['time'].iloc[0]\n",
    "            res_price = df['close'].iloc[ind_val_second]\n",
    "            if val_first < val_second:\n",
    "                income_rate = res_price/start_price\n",
    "            else:  #short game\n",
    "                income_rate = (2*start_price-res_price)/start_price\n",
    "            return 'WIN', delta_time, income_rate, res_price, ind_val_second+ind\n",
    "\n",
    "\n",
    "def get_df_target(df, indx, percent_first=None, percent_second=None, points_to_wait=None):\n",
    "    times = []\n",
    "    results = []\n",
    "    delta_times = []\n",
    "    income_rates = []\n",
    "    closes = []\n",
    "    tickers = []\n",
    "    res_prices = []\n",
    "    res_inds = []\n",
    "    \n",
    "    #for ind in indx:\n",
    "    for ind in tqdm(indx):\n",
    "        time = df['time'].iloc[ind]\n",
    "        close = df['close'].iloc[ind]\n",
    "        ticker = df['ticker'].iloc[ind]\n",
    "        \n",
    "        val_first = df['close'].iloc[ind] * percent_first\n",
    "        val_second = df['close'].iloc[ind] * percent_second\n",
    "        result, delta_time, income_rate, res_price, res_ind = get_target(df, ind, val_first, val_second, points_to_wait)\n",
    "        \n",
    "        times += [time]\n",
    "        closes += [close]\n",
    "        tickers += [ticker]\n",
    "        results += [result]\n",
    "        delta_times += [delta_time]\n",
    "        income_rates += [income_rate]\n",
    "        res_prices += [res_price]\n",
    "        res_inds += [res_ind]\n",
    "        \n",
    "\n",
    "    df_result = pd.DataFrame({'ind' : indx,\n",
    "                              'time' : times,\n",
    "                              'close' : closes,\n",
    "                              'result' : results,\n",
    "                              'ticker' : tickers, \n",
    "                              'delta_time' : delta_times,\n",
    "                              'income_rate' : income_rates,\n",
    "                              'res_price' : res_prices,\n",
    "                              'res_ind' : res_inds\n",
    "                             })\n",
    "\n",
    "    #макс выигрыш и потери\n",
    "    if percent_first < percent_second:  \n",
    "        df_result[\"income_rate\"] = np.maximum(df_result[\"income_rate\"], percent_first) #макс потери\n",
    "        df_result[\"income_rate\"] = np.minimum(df_result[\"income_rate\"], percent_second) #макс выигрыш\n",
    "    else:\n",
    "        df_result[\"income_rate\"] = np.maximum(df_result[\"income_rate\"], 2-percent_first) #макс потери\n",
    "        df_result[\"income_rate\"] = np.minimum(df_result[\"income_rate\"], 2-percent_second) #макс выигрыш\n",
    "    \n",
    "    df_result['income_rate'] -= 0.001\n",
    "    \n",
    "    return df_result    "
   ]
  },
  {
   "cell_type": "code",
   "execution_count": 17,
   "id": "2e708c82-9387-468d-96ec-120ee25bed7a",
   "metadata": {},
   "outputs": [
    {
     "data": {
      "text/plain": [
       "(2340439,)"
      ]
     },
     "execution_count": 17,
     "metadata": {},
     "output_type": "execute_result"
    }
   ],
   "source": [
    "inds = np.arange(df.shape[0])\n",
    "inds.shape"
   ]
  },
  {
   "cell_type": "code",
   "execution_count": null,
   "id": "161dce3a-1612-46f8-9628-5212c41e10a1",
   "metadata": {},
   "outputs": [],
   "source": []
  },
  {
   "cell_type": "code",
   "execution_count": 68,
   "id": "ccb43afe-2007-4e1f-b59c-8bc3345e64e5",
   "metadata": {},
   "outputs": [
    {
     "name": "stderr",
     "output_type": "stream",
     "text": [
      "100%|█████████████████████████████████████████████████████████████| 2340439/2340439 [25:26<00:00, 1533.19it/s]\n"
     ]
    }
   ],
   "source": [
    "df_result = get_df_target(df[['time', 'close', 'ticker']], inds, percent_first=0.99, percent_second=1.03, points_to_wait=4*14*2)"
   ]
  },
  {
   "cell_type": "code",
   "execution_count": 74,
   "id": "24a4f139-6a43-4fa5-8fd4-a0f318381bea",
   "metadata": {},
   "outputs": [],
   "source": [
    "dump_pkl(df_result, './data/feat_engin/lgbm/df_result_-1_+3_1day.pkl')"
   ]
  },
  {
   "cell_type": "code",
   "execution_count": 76,
   "id": "c59649ca-a5c9-40a9-987d-9d375d530f77",
   "metadata": {},
   "outputs": [
    {
     "data": {
      "text/html": [
       "<div>\n",
       "<style scoped>\n",
       "    .dataframe tbody tr th:only-of-type {\n",
       "        vertical-align: middle;\n",
       "    }\n",
       "\n",
       "    .dataframe tbody tr th {\n",
       "        vertical-align: top;\n",
       "    }\n",
       "\n",
       "    .dataframe thead th {\n",
       "        text-align: right;\n",
       "    }\n",
       "</style>\n",
       "<table border=\"1\" class=\"dataframe\">\n",
       "  <thead>\n",
       "    <tr style=\"text-align: right;\">\n",
       "      <th></th>\n",
       "      <th>ind</th>\n",
       "      <th>time</th>\n",
       "      <th>close</th>\n",
       "      <th>result</th>\n",
       "      <th>ticker</th>\n",
       "      <th>delta_time</th>\n",
       "      <th>income_rate</th>\n",
       "      <th>res_price</th>\n",
       "      <th>res_ind</th>\n",
       "    </tr>\n",
       "  </thead>\n",
       "  <tbody>\n",
       "    <tr>\n",
       "      <th>0</th>\n",
       "      <td>0</td>\n",
       "      <td>2022-05-04 10:00:00</td>\n",
       "      <td>31.520000</td>\n",
       "      <td>LOSE</td>\n",
       "      <td>AFLT</td>\n",
       "      <td>0 days 04:15:00</td>\n",
       "      <td>0.989000</td>\n",
       "      <td>31.200001</td>\n",
       "      <td>17</td>\n",
       "    </tr>\n",
       "    <tr>\n",
       "      <th>1</th>\n",
       "      <td>1</td>\n",
       "      <td>2022-05-04 10:15:00</td>\n",
       "      <td>31.920000</td>\n",
       "      <td>LOSE</td>\n",
       "      <td>AFLT</td>\n",
       "      <td>0 days 01:00:00</td>\n",
       "      <td>0.989000</td>\n",
       "      <td>31.299999</td>\n",
       "      <td>5</td>\n",
       "    </tr>\n",
       "    <tr>\n",
       "      <th>2</th>\n",
       "      <td>2</td>\n",
       "      <td>2022-05-04 10:30:00</td>\n",
       "      <td>32.400002</td>\n",
       "      <td>LOSE</td>\n",
       "      <td>AFLT</td>\n",
       "      <td>0 days 00:30:00</td>\n",
       "      <td>0.989000</td>\n",
       "      <td>31.940001</td>\n",
       "      <td>4</td>\n",
       "    </tr>\n",
       "    <tr>\n",
       "      <th>3</th>\n",
       "      <td>3</td>\n",
       "      <td>2022-05-04 10:45:00</td>\n",
       "      <td>32.099998</td>\n",
       "      <td>LOSE</td>\n",
       "      <td>AFLT</td>\n",
       "      <td>0 days 00:30:00</td>\n",
       "      <td>0.989000</td>\n",
       "      <td>31.299999</td>\n",
       "      <td>5</td>\n",
       "    </tr>\n",
       "    <tr>\n",
       "      <th>4</th>\n",
       "      <td>4</td>\n",
       "      <td>2022-05-04 11:00:00</td>\n",
       "      <td>31.940001</td>\n",
       "      <td>LOSE</td>\n",
       "      <td>AFLT</td>\n",
       "      <td>0 days 00:15:00</td>\n",
       "      <td>0.989000</td>\n",
       "      <td>31.299999</td>\n",
       "      <td>5</td>\n",
       "    </tr>\n",
       "    <tr>\n",
       "      <th>...</th>\n",
       "      <td>...</td>\n",
       "      <td>...</td>\n",
       "      <td>...</td>\n",
       "      <td>...</td>\n",
       "      <td>...</td>\n",
       "      <td>...</td>\n",
       "      <td>...</td>\n",
       "      <td>...</td>\n",
       "      <td>...</td>\n",
       "    </tr>\n",
       "    <tr>\n",
       "      <th>2340434</th>\n",
       "      <td>2340434</td>\n",
       "      <td>2025-02-07 22:45:00</td>\n",
       "      <td>375.739990</td>\n",
       "      <td>DNF</td>\n",
       "      <td>BSPB</td>\n",
       "      <td>0 days 01:00:00</td>\n",
       "      <td>0.998894</td>\n",
       "      <td>375.700012</td>\n",
       "      <td>2340438</td>\n",
       "    </tr>\n",
       "    <tr>\n",
       "      <th>2340435</th>\n",
       "      <td>2340435</td>\n",
       "      <td>2025-02-07 23:00:00</td>\n",
       "      <td>375.709991</td>\n",
       "      <td>DNF</td>\n",
       "      <td>BSPB</td>\n",
       "      <td>0 days 00:45:00</td>\n",
       "      <td>0.998973</td>\n",
       "      <td>375.700012</td>\n",
       "      <td>2340438</td>\n",
       "    </tr>\n",
       "    <tr>\n",
       "      <th>2340436</th>\n",
       "      <td>2340436</td>\n",
       "      <td>2025-02-07 23:15:00</td>\n",
       "      <td>375.540009</td>\n",
       "      <td>DNF</td>\n",
       "      <td>BSPB</td>\n",
       "      <td>0 days 00:30:00</td>\n",
       "      <td>0.999426</td>\n",
       "      <td>375.700012</td>\n",
       "      <td>2340438</td>\n",
       "    </tr>\n",
       "    <tr>\n",
       "      <th>2340437</th>\n",
       "      <td>2340437</td>\n",
       "      <td>2025-02-07 23:30:00</td>\n",
       "      <td>375.700012</td>\n",
       "      <td>DNF</td>\n",
       "      <td>BSPB</td>\n",
       "      <td>0 days 00:15:00</td>\n",
       "      <td>0.999000</td>\n",
       "      <td>375.700012</td>\n",
       "      <td>2340438</td>\n",
       "    </tr>\n",
       "    <tr>\n",
       "      <th>2340438</th>\n",
       "      <td>2340438</td>\n",
       "      <td>2025-02-07 23:45:00</td>\n",
       "      <td>375.700012</td>\n",
       "      <td>DNF</td>\n",
       "      <td>BSPB</td>\n",
       "      <td>0 days 00:00:00</td>\n",
       "      <td>0.999000</td>\n",
       "      <td>375.700012</td>\n",
       "      <td>2340438</td>\n",
       "    </tr>\n",
       "  </tbody>\n",
       "</table>\n",
       "<p>2340439 rows × 9 columns</p>\n",
       "</div>"
      ],
      "text/plain": [
       "             ind                time       close result ticker  \\\n",
       "0              0 2022-05-04 10:00:00   31.520000   LOSE   AFLT   \n",
       "1              1 2022-05-04 10:15:00   31.920000   LOSE   AFLT   \n",
       "2              2 2022-05-04 10:30:00   32.400002   LOSE   AFLT   \n",
       "3              3 2022-05-04 10:45:00   32.099998   LOSE   AFLT   \n",
       "4              4 2022-05-04 11:00:00   31.940001   LOSE   AFLT   \n",
       "...          ...                 ...         ...    ...    ...   \n",
       "2340434  2340434 2025-02-07 22:45:00  375.739990    DNF   BSPB   \n",
       "2340435  2340435 2025-02-07 23:00:00  375.709991    DNF   BSPB   \n",
       "2340436  2340436 2025-02-07 23:15:00  375.540009    DNF   BSPB   \n",
       "2340437  2340437 2025-02-07 23:30:00  375.700012    DNF   BSPB   \n",
       "2340438  2340438 2025-02-07 23:45:00  375.700012    DNF   BSPB   \n",
       "\n",
       "             delta_time  income_rate   res_price  res_ind  \n",
       "0       0 days 04:15:00     0.989000   31.200001       17  \n",
       "1       0 days 01:00:00     0.989000   31.299999        5  \n",
       "2       0 days 00:30:00     0.989000   31.940001        4  \n",
       "3       0 days 00:30:00     0.989000   31.299999        5  \n",
       "4       0 days 00:15:00     0.989000   31.299999        5  \n",
       "...                 ...          ...         ...      ...  \n",
       "2340434 0 days 01:00:00     0.998894  375.700012  2340438  \n",
       "2340435 0 days 00:45:00     0.998973  375.700012  2340438  \n",
       "2340436 0 days 00:30:00     0.999426  375.700012  2340438  \n",
       "2340437 0 days 00:15:00     0.999000  375.700012  2340438  \n",
       "2340438 0 days 00:00:00     0.999000  375.700012  2340438  \n",
       "\n",
       "[2340439 rows x 9 columns]"
      ]
     },
     "execution_count": 76,
     "metadata": {},
     "output_type": "execute_result"
    }
   ],
   "source": [
    "df_result = load_pkl('./data/feat_engin/lgbm/df_result_-1_+3_1day.pkl')\n",
    "df_result"
   ]
  },
  {
   "cell_type": "code",
   "execution_count": null,
   "id": "7da65df2-67af-4bfd-85ee-5fc2098c87fe",
   "metadata": {},
   "outputs": [],
   "source": []
  },
  {
   "cell_type": "code",
   "execution_count": 79,
   "id": "1be266c6-ad46-4a04-bd3d-c26b11b54a87",
   "metadata": {},
   "outputs": [
    {
     "data": {
      "text/plain": [
       "result\n",
       "LOSE    0.570729\n",
       "DNF     0.240621\n",
       "WIN     0.188650\n",
       "Name: proportion, dtype: float64"
      ]
     },
     "execution_count": 79,
     "metadata": {},
     "output_type": "execute_result"
    }
   ],
   "source": [
    "df_result['result'].value_counts(normalize=True)\n"
   ]
  },
  {
   "cell_type": "code",
   "execution_count": 81,
   "id": "a663a492-ce4c-4f09-9ff5-64c0df22efe3",
   "metadata": {},
   "outputs": [
    {
     "data": {
      "text/plain": [
       "0.00    0.989000\n",
       "0.01    0.989000\n",
       "0.10    0.989000\n",
       "0.20    0.989000\n",
       "0.30    0.989000\n",
       "0.40    0.989000\n",
       "0.50    0.989000\n",
       "0.60    0.995742\n",
       "0.70    1.005768\n",
       "0.80    1.021900\n",
       "0.90    1.029000\n",
       "0.99    1.029000\n",
       "1.00    1.029000\n",
       "Name: income_rate, dtype: float64"
      ]
     },
     "execution_count": 81,
     "metadata": {},
     "output_type": "execute_result"
    }
   ],
   "source": [
    "df_result['income_rate'].quantile(q=[0, 0.01]+np.arange(0.1, 1, 0.1).tolist()+[0.99, 1])"
   ]
  },
  {
   "cell_type": "code",
   "execution_count": 83,
   "id": "1ce0fdd5-ffcd-4f1c-b785-8354007684d8",
   "metadata": {},
   "outputs": [
    {
     "data": {
      "text/plain": [
       "0.00       0.0\n",
       "0.01       0.0\n",
       "0.10       2.0\n",
       "0.20       6.0\n",
       "0.30      15.0\n",
       "0.40      20.0\n",
       "0.50      25.0\n",
       "0.60      47.0\n",
       "0.70      48.0\n",
       "0.80      71.0\n",
       "0.90      96.0\n",
       "0.99     121.0\n",
       "1.00    6768.0\n",
       "Name: delta_time, dtype: float64"
      ]
     },
     "execution_count": 83,
     "metadata": {},
     "output_type": "execute_result"
    }
   ],
   "source": [
    "#распределение времени в часах\n",
    "(df_result['delta_time']//pd.Timedelta('1 hour')).quantile(q=[0, 0.01]+np.arange(0.1, 1, 0.1).tolist()+[0.99, 1])"
   ]
  },
  {
   "cell_type": "code",
   "execution_count": null,
   "id": "c90a354d-3079-4883-8729-7390b5af8d21",
   "metadata": {},
   "outputs": [],
   "source": []
  },
  {
   "cell_type": "code",
   "execution_count": 86,
   "id": "d2361c4a-07e2-4ae3-92d7-259e0deb5a77",
   "metadata": {},
   "outputs": [
    {
     "data": {
      "text/plain": [
       "(True, True)"
      ]
     },
     "execution_count": 86,
     "metadata": {},
     "output_type": "execute_result"
    }
   ],
   "source": [
    "(df['close'].values == df_result['close'].values).all(), (df['time'].values == df_result['time'].values).all()"
   ]
  },
  {
   "cell_type": "code",
   "execution_count": 88,
   "id": "474788ea-0b4f-4142-bb0e-4a79da14b86b",
   "metadata": {},
   "outputs": [
    {
     "data": {
      "text/html": [
       "<div>\n",
       "<style scoped>\n",
       "    .dataframe tbody tr th:only-of-type {\n",
       "        vertical-align: middle;\n",
       "    }\n",
       "\n",
       "    .dataframe tbody tr th {\n",
       "        vertical-align: top;\n",
       "    }\n",
       "\n",
       "    .dataframe thead th {\n",
       "        text-align: right;\n",
       "    }\n",
       "</style>\n",
       "<table border=\"1\" class=\"dataframe\">\n",
       "  <thead>\n",
       "    <tr style=\"text-align: right;\">\n",
       "      <th></th>\n",
       "      <th>ind</th>\n",
       "      <th>time</th>\n",
       "      <th>close</th>\n",
       "      <th>result</th>\n",
       "      <th>ticker</th>\n",
       "      <th>delta_time</th>\n",
       "      <th>income_rate</th>\n",
       "      <th>res_price</th>\n",
       "      <th>res_ind</th>\n",
       "    </tr>\n",
       "  </thead>\n",
       "  <tbody>\n",
       "    <tr>\n",
       "      <th>0</th>\n",
       "      <td>0</td>\n",
       "      <td>2022-05-04 10:00:00</td>\n",
       "      <td>31.520000</td>\n",
       "      <td>LOSE</td>\n",
       "      <td>AFLT</td>\n",
       "      <td>0 days 04:15:00</td>\n",
       "      <td>0.989</td>\n",
       "      <td>31.200001</td>\n",
       "      <td>17</td>\n",
       "    </tr>\n",
       "    <tr>\n",
       "      <th>1</th>\n",
       "      <td>1</td>\n",
       "      <td>2022-05-04 10:15:00</td>\n",
       "      <td>31.920000</td>\n",
       "      <td>LOSE</td>\n",
       "      <td>AFLT</td>\n",
       "      <td>0 days 01:00:00</td>\n",
       "      <td>0.989</td>\n",
       "      <td>31.299999</td>\n",
       "      <td>5</td>\n",
       "    </tr>\n",
       "    <tr>\n",
       "      <th>2</th>\n",
       "      <td>2</td>\n",
       "      <td>2022-05-04 10:30:00</td>\n",
       "      <td>32.400002</td>\n",
       "      <td>LOSE</td>\n",
       "      <td>AFLT</td>\n",
       "      <td>0 days 00:30:00</td>\n",
       "      <td>0.989</td>\n",
       "      <td>31.940001</td>\n",
       "      <td>4</td>\n",
       "    </tr>\n",
       "    <tr>\n",
       "      <th>3</th>\n",
       "      <td>3</td>\n",
       "      <td>2022-05-04 10:45:00</td>\n",
       "      <td>32.099998</td>\n",
       "      <td>LOSE</td>\n",
       "      <td>AFLT</td>\n",
       "      <td>0 days 00:30:00</td>\n",
       "      <td>0.989</td>\n",
       "      <td>31.299999</td>\n",
       "      <td>5</td>\n",
       "    </tr>\n",
       "    <tr>\n",
       "      <th>4</th>\n",
       "      <td>4</td>\n",
       "      <td>2022-05-04 11:00:00</td>\n",
       "      <td>31.940001</td>\n",
       "      <td>LOSE</td>\n",
       "      <td>AFLT</td>\n",
       "      <td>0 days 00:15:00</td>\n",
       "      <td>0.989</td>\n",
       "      <td>31.299999</td>\n",
       "      <td>5</td>\n",
       "    </tr>\n",
       "  </tbody>\n",
       "</table>\n",
       "</div>"
      ],
      "text/plain": [
       "   ind                time      close result ticker      delta_time  \\\n",
       "0    0 2022-05-04 10:00:00  31.520000   LOSE   AFLT 0 days 04:15:00   \n",
       "1    1 2022-05-04 10:15:00  31.920000   LOSE   AFLT 0 days 01:00:00   \n",
       "2    2 2022-05-04 10:30:00  32.400002   LOSE   AFLT 0 days 00:30:00   \n",
       "3    3 2022-05-04 10:45:00  32.099998   LOSE   AFLT 0 days 00:30:00   \n",
       "4    4 2022-05-04 11:00:00  31.940001   LOSE   AFLT 0 days 00:15:00   \n",
       "\n",
       "   income_rate  res_price  res_ind  \n",
       "0        0.989  31.200001       17  \n",
       "1        0.989  31.299999        5  \n",
       "2        0.989  31.940001        4  \n",
       "3        0.989  31.299999        5  \n",
       "4        0.989  31.299999        5  "
      ]
     },
     "execution_count": 88,
     "metadata": {},
     "output_type": "execute_result"
    }
   ],
   "source": [
    "df_result.head()"
   ]
  },
  {
   "cell_type": "code",
   "execution_count": null,
   "id": "29a196f4-2297-404c-a40c-e65993077d1b",
   "metadata": {},
   "outputs": [],
   "source": []
  },
  {
   "cell_type": "code",
   "execution_count": 91,
   "id": "e7b7e7d1-859c-4bd6-b0b1-90c78791cc24",
   "metadata": {},
   "outputs": [],
   "source": [
    "df[['result', 'delta_time', 'income_rate', 'res_price', 'res_ind']] = df_result[['result', 'delta_time', 'income_rate', 'res_price', 'res_ind']]"
   ]
  },
  {
   "cell_type": "code",
   "execution_count": null,
   "id": "a1418829-c1e1-4105-8f95-e7e889b7e6a3",
   "metadata": {},
   "outputs": [],
   "source": []
  },
  {
   "cell_type": "code",
   "execution_count": 94,
   "id": "628e83ef-a5d7-4f49-bdb5-4dd4e225f9bd",
   "metadata": {},
   "outputs": [
    {
     "data": {
      "text/html": [
       "<div>\n",
       "<style scoped>\n",
       "    .dataframe tbody tr th:only-of-type {\n",
       "        vertical-align: middle;\n",
       "    }\n",
       "\n",
       "    .dataframe tbody tr th {\n",
       "        vertical-align: top;\n",
       "    }\n",
       "\n",
       "    .dataframe thead th {\n",
       "        text-align: right;\n",
       "    }\n",
       "</style>\n",
       "<table border=\"1\" class=\"dataframe\">\n",
       "  <thead>\n",
       "    <tr style=\"text-align: right;\">\n",
       "      <th></th>\n",
       "      <th>ticker</th>\n",
       "      <th>time</th>\n",
       "      <th>close</th>\n",
       "      <th>close_1hour</th>\n",
       "      <th>close_1day</th>\n",
       "      <th>result</th>\n",
       "      <th>delta_time</th>\n",
       "      <th>income_rate</th>\n",
       "      <th>res_price</th>\n",
       "      <th>res_ind</th>\n",
       "    </tr>\n",
       "  </thead>\n",
       "  <tbody>\n",
       "    <tr>\n",
       "      <th>491070</th>\n",
       "      <td>SGZH</td>\n",
       "      <td>2025-02-03 19:30:00</td>\n",
       "      <td>1.379</td>\n",
       "      <td>1.381</td>\n",
       "      <td>1.377</td>\n",
       "      <td>LOSE</td>\n",
       "      <td>1 days 02:15:00</td>\n",
       "      <td>0.989</td>\n",
       "      <td>1.364</td>\n",
       "      <td>491135</td>\n",
       "    </tr>\n",
       "    <tr>\n",
       "      <th>491071</th>\n",
       "      <td>SGZH</td>\n",
       "      <td>2025-02-03 19:45:00</td>\n",
       "      <td>1.378</td>\n",
       "      <td>1.378</td>\n",
       "      <td>1.377</td>\n",
       "      <td>LOSE</td>\n",
       "      <td>1 days 02:00:00</td>\n",
       "      <td>0.989</td>\n",
       "      <td>1.364</td>\n",
       "      <td>491135</td>\n",
       "    </tr>\n",
       "    <tr>\n",
       "      <th>491072</th>\n",
       "      <td>SGZH</td>\n",
       "      <td>2025-02-03 20:00:00</td>\n",
       "      <td>1.379</td>\n",
       "      <td>1.378</td>\n",
       "      <td>1.377</td>\n",
       "      <td>LOSE</td>\n",
       "      <td>1 days 01:45:00</td>\n",
       "      <td>0.989</td>\n",
       "      <td>1.364</td>\n",
       "      <td>491135</td>\n",
       "    </tr>\n",
       "    <tr>\n",
       "      <th>491073</th>\n",
       "      <td>SGZH</td>\n",
       "      <td>2025-02-03 20:15:00</td>\n",
       "      <td>1.379</td>\n",
       "      <td>1.378</td>\n",
       "      <td>1.377</td>\n",
       "      <td>LOSE</td>\n",
       "      <td>1 days 01:30:00</td>\n",
       "      <td>0.989</td>\n",
       "      <td>1.364</td>\n",
       "      <td>491135</td>\n",
       "    </tr>\n",
       "    <tr>\n",
       "      <th>491074</th>\n",
       "      <td>SGZH</td>\n",
       "      <td>2025-02-03 20:30:00</td>\n",
       "      <td>1.380</td>\n",
       "      <td>1.378</td>\n",
       "      <td>1.377</td>\n",
       "      <td>LOSE</td>\n",
       "      <td>1 days 01:15:00</td>\n",
       "      <td>0.989</td>\n",
       "      <td>1.364</td>\n",
       "      <td>491135</td>\n",
       "    </tr>\n",
       "    <tr>\n",
       "      <th>491075</th>\n",
       "      <td>SGZH</td>\n",
       "      <td>2025-02-03 20:45:00</td>\n",
       "      <td>1.379</td>\n",
       "      <td>1.379</td>\n",
       "      <td>1.377</td>\n",
       "      <td>LOSE</td>\n",
       "      <td>1 days 01:00:00</td>\n",
       "      <td>0.989</td>\n",
       "      <td>1.364</td>\n",
       "      <td>491135</td>\n",
       "    </tr>\n",
       "    <tr>\n",
       "      <th>491076</th>\n",
       "      <td>SGZH</td>\n",
       "      <td>2025-02-03 21:00:00</td>\n",
       "      <td>1.380</td>\n",
       "      <td>1.379</td>\n",
       "      <td>1.377</td>\n",
       "      <td>LOSE</td>\n",
       "      <td>1 days 00:45:00</td>\n",
       "      <td>0.989</td>\n",
       "      <td>1.364</td>\n",
       "      <td>491135</td>\n",
       "    </tr>\n",
       "    <tr>\n",
       "      <th>491077</th>\n",
       "      <td>SGZH</td>\n",
       "      <td>2025-02-03 21:15:00</td>\n",
       "      <td>1.379</td>\n",
       "      <td>1.379</td>\n",
       "      <td>1.377</td>\n",
       "      <td>LOSE</td>\n",
       "      <td>1 days 00:30:00</td>\n",
       "      <td>0.989</td>\n",
       "      <td>1.364</td>\n",
       "      <td>491135</td>\n",
       "    </tr>\n",
       "    <tr>\n",
       "      <th>491078</th>\n",
       "      <td>SGZH</td>\n",
       "      <td>2025-02-03 21:30:00</td>\n",
       "      <td>1.379</td>\n",
       "      <td>1.379</td>\n",
       "      <td>1.377</td>\n",
       "      <td>LOSE</td>\n",
       "      <td>1 days 00:15:00</td>\n",
       "      <td>0.989</td>\n",
       "      <td>1.364</td>\n",
       "      <td>491135</td>\n",
       "    </tr>\n",
       "    <tr>\n",
       "      <th>491079</th>\n",
       "      <td>SGZH</td>\n",
       "      <td>2025-02-03 21:45:00</td>\n",
       "      <td>1.380</td>\n",
       "      <td>1.380</td>\n",
       "      <td>1.377</td>\n",
       "      <td>LOSE</td>\n",
       "      <td>1 days 00:00:00</td>\n",
       "      <td>0.989</td>\n",
       "      <td>1.364</td>\n",
       "      <td>491135</td>\n",
       "    </tr>\n",
       "  </tbody>\n",
       "</table>\n",
       "</div>"
      ],
      "text/plain": [
       "       ticker                time  close  close_1hour  close_1day result  \\\n",
       "491070   SGZH 2025-02-03 19:30:00  1.379        1.381       1.377   LOSE   \n",
       "491071   SGZH 2025-02-03 19:45:00  1.378        1.378       1.377   LOSE   \n",
       "491072   SGZH 2025-02-03 20:00:00  1.379        1.378       1.377   LOSE   \n",
       "491073   SGZH 2025-02-03 20:15:00  1.379        1.378       1.377   LOSE   \n",
       "491074   SGZH 2025-02-03 20:30:00  1.380        1.378       1.377   LOSE   \n",
       "491075   SGZH 2025-02-03 20:45:00  1.379        1.379       1.377   LOSE   \n",
       "491076   SGZH 2025-02-03 21:00:00  1.380        1.379       1.377   LOSE   \n",
       "491077   SGZH 2025-02-03 21:15:00  1.379        1.379       1.377   LOSE   \n",
       "491078   SGZH 2025-02-03 21:30:00  1.379        1.379       1.377   LOSE   \n",
       "491079   SGZH 2025-02-03 21:45:00  1.380        1.380       1.377   LOSE   \n",
       "\n",
       "            delta_time  income_rate  res_price  res_ind  \n",
       "491070 1 days 02:15:00        0.989      1.364   491135  \n",
       "491071 1 days 02:00:00        0.989      1.364   491135  \n",
       "491072 1 days 01:45:00        0.989      1.364   491135  \n",
       "491073 1 days 01:30:00        0.989      1.364   491135  \n",
       "491074 1 days 01:15:00        0.989      1.364   491135  \n",
       "491075 1 days 01:00:00        0.989      1.364   491135  \n",
       "491076 1 days 00:45:00        0.989      1.364   491135  \n",
       "491077 1 days 00:30:00        0.989      1.364   491135  \n",
       "491078 1 days 00:15:00        0.989      1.364   491135  \n",
       "491079 1 days 00:00:00        0.989      1.364   491135  "
      ]
     },
     "execution_count": 94,
     "metadata": {},
     "output_type": "execute_result"
    }
   ],
   "source": [
    "#проверить данные\n",
    "\n",
    "mask = df['time'] >= pd.Timestamp('2025-02-01')\n",
    "\n",
    "\n",
    "i = 3676\n",
    "cols = ['ticker', 'time', 'close', 'close_1hour', 'close_1day', 'result', 'delta_time', 'income_rate', 'res_price', 'res_ind']\n",
    "df.loc[mask, cols].iloc[i:i+10]"
   ]
  },
  {
   "cell_type": "code",
   "execution_count": 96,
   "id": "7f2112ec-a994-4010-9984-c804804d9754",
   "metadata": {},
   "outputs": [
    {
     "data": {
      "text/html": [
       "<div>\n",
       "<style scoped>\n",
       "    .dataframe tbody tr th:only-of-type {\n",
       "        vertical-align: middle;\n",
       "    }\n",
       "\n",
       "    .dataframe tbody tr th {\n",
       "        vertical-align: top;\n",
       "    }\n",
       "\n",
       "    .dataframe thead th {\n",
       "        text-align: right;\n",
       "    }\n",
       "</style>\n",
       "<table border=\"1\" class=\"dataframe\">\n",
       "  <thead>\n",
       "    <tr style=\"text-align: right;\">\n",
       "      <th></th>\n",
       "      <th>ticker</th>\n",
       "      <th>time</th>\n",
       "      <th>close</th>\n",
       "      <th>close_1hour</th>\n",
       "      <th>close_1day</th>\n",
       "      <th>result</th>\n",
       "      <th>delta_time</th>\n",
       "      <th>income_rate</th>\n",
       "      <th>res_price</th>\n",
       "      <th>res_ind</th>\n",
       "    </tr>\n",
       "  </thead>\n",
       "  <tbody>\n",
       "    <tr>\n",
       "      <th>491081</th>\n",
       "      <td>SGZH</td>\n",
       "      <td>2025-02-03 22:15:00</td>\n",
       "      <td>1.389</td>\n",
       "      <td>1.38</td>\n",
       "      <td>1.377</td>\n",
       "      <td>LOSE</td>\n",
       "      <td>0 days 17:00:00</td>\n",
       "      <td>0.989</td>\n",
       "      <td>1.371</td>\n",
       "      <td>491109</td>\n",
       "    </tr>\n",
       "  </tbody>\n",
       "</table>\n",
       "</div>"
      ],
      "text/plain": [
       "       ticker                time  close  close_1hour  close_1day result  \\\n",
       "491081   SGZH 2025-02-03 22:15:00  1.389         1.38       1.377   LOSE   \n",
       "\n",
       "            delta_time  income_rate  res_price  res_ind  \n",
       "491081 0 days 17:00:00        0.989      1.371   491109  "
      ]
     },
     "execution_count": 96,
     "metadata": {},
     "output_type": "execute_result"
    }
   ],
   "source": [
    "i = 491081\n",
    "df[cols].iloc[i:i+1]"
   ]
  },
  {
   "cell_type": "code",
   "execution_count": null,
   "id": "be02a5b3-d0b3-4d06-911d-b908e6ec0eb7",
   "metadata": {},
   "outputs": [],
   "source": []
  },
  {
   "cell_type": "code",
   "execution_count": null,
   "id": "8a356b57-c93a-4170-b3a0-932e43730731",
   "metadata": {},
   "outputs": [],
   "source": []
  },
  {
   "cell_type": "markdown",
   "id": "71583068-8381-4c0e-84d6-2df8016561b2",
   "metadata": {
    "colab": {
     "base_uri": "https://localhost:8080/",
     "height": 649
    },
    "id": "kBB5RD46wGyz",
    "outputId": "3c651055-243e-410f-d772-ddd7e1a76b49"
   },
   "source": [
    "### 1. train/valid/test/test2 split"
   ]
  },
  {
   "cell_type": "code",
   "execution_count": 101,
   "id": "a0611864-8569-418a-a959-5ab39595b320",
   "metadata": {
    "id": "a0611864-8569-418a-a959-5ab39595b320"
   },
   "outputs": [],
   "source": [
    "df['target'] = (df['result'] == 'WIN').astype(int)"
   ]
  },
  {
   "cell_type": "code",
   "execution_count": 103,
   "id": "f3472da7-9d47-4cc9-9010-79813506b891",
   "metadata": {
    "colab": {
     "base_uri": "https://localhost:8080/",
     "height": 600
    },
    "id": "f3472da7-9d47-4cc9-9010-79813506b891",
    "outputId": "9e0c074e-8788-46a7-9307-09003b7d4881"
   },
   "outputs": [
    {
     "data": {
      "text/plain": [
       "<Axes: xlabel='time'>"
      ]
     },
     "execution_count": 103,
     "metadata": {},
     "output_type": "execute_result"
    },
    {
     "data": {
      "image/png": "[encoded data removed]",
      "text/plain": [
       "<Figure size 640x480 with 1 Axes>"
      ]
     },
     "metadata": {},
     "output_type": "display_data"
    }
   ],
   "source": [
    "df[['time', 'target']].groupby(pd.Grouper(key='time', freq='ME')).target.mean().plot.bar()"
   ]
  },
  {
   "cell_type": "code",
   "execution_count": 105,
   "id": "76a0d3ac-ea8e-4f05-919a-73bdeb4f467c",
   "metadata": {
    "id": "76a0d3ac-ea8e-4f05-919a-73bdeb4f467c"
   },
   "outputs": [
    {
     "data": {
      "text/plain": [
       "<Axes: xlabel='time'>"
      ]
     },
     "execution_count": 105,
     "metadata": {},
     "output_type": "execute_result"
    },
    {
     "data": {
      "image/png": "[encoded data removed]",
      "text/plain": [
       "<Figure size 640x480 with 1 Axes>"
      ]
     },
     "metadata": {},
     "output_type": "display_data"
    }
   ],
   "source": [
    "(df[['time', 'income_rate']].groupby(pd.Grouper(key='time', freq='ME')).income_rate.mean()-1).plot.bar()"
   ]
  },
  {
   "cell_type": "code",
   "execution_count": null,
   "id": "2bd83a17-e071-4da3-bcc4-0d12dbad85fe",
   "metadata": {
    "id": "2bd83a17-e071-4da3-bcc4-0d12dbad85fe"
   },
   "outputs": [],
   "source": []
  },
  {
   "cell_type": "code",
   "execution_count": 108,
   "id": "b42d6beb-ad36-477c-9275-5ef422c0f375",
   "metadata": {},
   "outputs": [
    {
     "data": {
      "text/plain": [
       "ticker\n",
       "IRAO     0.101125\n",
       "MTSS     0.113505\n",
       "PHOR     0.114045\n",
       "GAZP     0.118163\n",
       "SBERP    0.118210\n",
       "HYDR     0.120039\n",
       "LKOH     0.120271\n",
       "SBER     0.125724\n",
       "TATNP    0.131442\n",
       "GMKN     0.131674\n",
       "ROSN     0.139409\n",
       "TRNFP    0.143644\n",
       "TATN     0.143763\n",
       "RTKM     0.144760\n",
       "NVTK     0.147192\n",
       "VSMO     0.151433\n",
       "ALRS     0.151931\n",
       "RUAL     0.155751\n",
       "MOEX     0.160041\n",
       "MAGN     0.160156\n",
       "VTBR     0.163783\n",
       "SGZH     0.164101\n",
       "MGNT     0.168125\n",
       "BELU     0.169130\n",
       "SNGSP    0.171261\n",
       "POSI     0.172856\n",
       "SIBN     0.173207\n",
       "SMLT     0.173453\n",
       "NLMK     0.177615\n",
       "CHMF     0.180045\n",
       "PIKK     0.180558\n",
       "ENPG     0.181154\n",
       "PLZL     0.184355\n",
       "UPRO     0.188261\n",
       "SNGS     0.190166\n",
       "AFLT     0.190451\n",
       "AFKS     0.193217\n",
       "FEES     0.200819\n",
       "YDEX     0.204764\n",
       "X5       0.208838\n",
       "T        0.210326\n",
       "MVID     0.216927\n",
       "FLOT     0.217232\n",
       "VKCO     0.224907\n",
       "SPBE     0.226729\n",
       "TRMK     0.226946\n",
       "WUSH     0.231918\n",
       "BSPB     0.236641\n",
       "SELG     0.236704\n",
       "RASP     0.239120\n",
       "NMTP     0.239331\n",
       "HEAD     0.244830\n",
       "BANEP    0.244917\n",
       "FESH     0.245703\n",
       "ABIO     0.245802\n",
       "UNAC     0.246446\n",
       "MTLRP    0.247967\n",
       "MTLR     0.249083\n",
       "SFIN     0.250793\n",
       "SVAV     0.253057\n",
       "MDMG     0.254396\n",
       "IRKT     0.255384\n",
       "LSRG     0.257378\n",
       "RNFT     0.260456\n",
       "UWGN     0.261339\n",
       "TGKN     0.275025\n",
       "GTRK     0.277087\n",
       "Name: target, dtype: float64"
      ]
     },
     "execution_count": 108,
     "metadata": {},
     "output_type": "execute_result"
    }
   ],
   "source": [
    "pd.set_option('display.max_rows', 150)\n",
    "df[['ticker', 'target']].groupby('ticker').target.mean().sort_values()"
   ]
  },
  {
   "cell_type": "code",
   "execution_count": 110,
   "id": "48ebcea7-e76d-4585-932e-fe199c78745a",
   "metadata": {},
   "outputs": [
    {
     "data": {
      "text/plain": [
       "ticker\n",
       "VSMO     0.997990\n",
       "SGZH     0.999172\n",
       "HYDR     0.999188\n",
       "GAZP     0.999500\n",
       "SMLT     0.999510\n",
       "GMKN     0.999566\n",
       "SPBE     0.999634\n",
       "RUAL     0.999698\n",
       "NVTK     0.999720\n",
       "VTBR     0.999836\n",
       "ENPG     0.999854\n",
       "PHOR     0.999895\n",
       "ABIO     0.999977\n",
       "PIKK     0.999978\n",
       "IRKT     0.999987\n",
       "ALRS     1.000018\n",
       "UNAC     1.000081\n",
       "UWGN     1.000113\n",
       "HEAD     1.000122\n",
       "MAGN     1.000127\n",
       "WUSH     1.000137\n",
       "IRAO     1.000338\n",
       "RTKM     1.000339\n",
       "MTSS     1.000362\n",
       "NLMK     1.000377\n",
       "SVAV     1.000559\n",
       "MGNT     1.000586\n",
       "UPRO     1.000609\n",
       "MTLRP    1.000629\n",
       "TRNFP    1.000630\n",
       "SNGS     1.000644\n",
       "VKCO     1.000668\n",
       "TRMK     1.000721\n",
       "NMTP     1.000743\n",
       "BELU     1.000747\n",
       "RNFT     1.000803\n",
       "FESH     1.000809\n",
       "SIBN     1.000811\n",
       "FEES     1.000829\n",
       "TGKN     1.000842\n",
       "MVID     1.000867\n",
       "GTRK     1.000875\n",
       "TATN     1.000902\n",
       "MTLR     1.000932\n",
       "POSI     1.000941\n",
       "ROSN     1.000961\n",
       "RASP     1.000980\n",
       "LKOH     1.001009\n",
       "AFKS     1.001022\n",
       "AFLT     1.001024\n",
       "MOEX     1.001041\n",
       "FLOT     1.001052\n",
       "TATNP    1.001055\n",
       "SELG     1.001157\n",
       "YDEX     1.001313\n",
       "T        1.001315\n",
       "CHMF     1.001331\n",
       "SBER     1.001343\n",
       "PLZL     1.001353\n",
       "SFIN     1.001353\n",
       "SBERP    1.001420\n",
       "LSRG     1.001428\n",
       "SNGSP    1.001806\n",
       "MDMG     1.001906\n",
       "BSPB     1.002019\n",
       "BANEP    1.002097\n",
       "X5       1.002209\n",
       "Name: income_rate, dtype: float32"
      ]
     },
     "execution_count": 110,
     "metadata": {},
     "output_type": "execute_result"
    }
   ],
   "source": [
    "df[['ticker', 'income_rate']].groupby('ticker').income_rate.mean().sort_values()"
   ]
  },
  {
   "cell_type": "code",
   "execution_count": null,
   "id": "9cabaad6-f22b-4313-8c54-d8af949bb360",
   "metadata": {},
   "outputs": [],
   "source": []
  },
  {
   "cell_type": "code",
   "execution_count": null,
   "id": "5855df5d-0dbf-4d3c-8484-7cea6933d80d",
   "metadata": {},
   "outputs": [],
   "source": []
  },
  {
   "cell_type": "code",
   "execution_count": 112,
   "id": "ee8aeebd-5971-41a3-b415-1795cf8a3bea",
   "metadata": {},
   "outputs": [
    {
     "data": {
      "text/plain": [
       "Timestamp('2025-02-07 23:45:00')"
      ]
     },
     "execution_count": 112,
     "metadata": {},
     "output_type": "execute_result"
    }
   ],
   "source": [
    "df['time'].max()"
   ]
  },
  {
   "cell_type": "code",
   "execution_count": 114,
   "id": "91a9b3ab-3c5c-4ea7-93ca-32e75db8300e",
   "metadata": {
    "id": "91a9b3ab-3c5c-4ea7-93ca-32e75db8300e"
   },
   "outputs": [],
   "source": [
    "mask_train = np.array((pd.Timestamp('2022-01-01') <= df['time']) & (df['time'] < pd.Timestamp('2024-06-01')))\n",
    "mask_valid = np.array((pd.Timestamp('2024-06-01') <= df['time']) & (df['time'] < pd.Timestamp('2024-08-01')))\n",
    "mask_test = np.array((pd.Timestamp('2024-08-01') <= df['time']) & (df['time'] < pd.Timestamp('2024-10-01')))\n",
    "mask_test2 = np.array((pd.Timestamp('2024-10-01') <= df['time']) & (df['time'] < pd.Timestamp('2025-01-01')))\n",
    "mask_test3 = np.array((pd.Timestamp('2025-01-01') <= df['time']) & (df['time'] < pd.Timestamp('2025-03-01')))"
   ]
  },
  {
   "cell_type": "code",
   "execution_count": 116,
   "id": "84c4fddf-8964-40ba-9660-b152b70b454c",
   "metadata": {},
   "outputs": [
    {
     "data": {
      "text/plain": [
       "(1687801, 154130, 155907, 242253)"
      ]
     },
     "execution_count": 116,
     "metadata": {},
     "output_type": "execute_result"
    }
   ],
   "source": [
    "mask_train.sum(), mask_valid.sum(), mask_test.sum(), mask_test2.sum()"
   ]
  },
  {
   "cell_type": "code",
   "execution_count": 118,
   "id": "c89ba456-ac41-4564-8bd4-081110fed48f",
   "metadata": {},
   "outputs": [
    {
     "data": {
      "text/plain": [
       "100348"
      ]
     },
     "execution_count": 118,
     "metadata": {},
     "output_type": "execute_result"
    }
   ],
   "source": [
    "mask_test3.sum()"
   ]
  },
  {
   "cell_type": "code",
   "execution_count": null,
   "id": "8ff42399-e1e4-4c41-9def-4a93c00babad",
   "metadata": {},
   "outputs": [],
   "source": []
  },
  {
   "cell_type": "code",
   "execution_count": 121,
   "id": "070c530d-6408-4800-938a-c666d5f44322",
   "metadata": {},
   "outputs": [],
   "source": [
    "# некоторые акции имеют более короткую историю\n",
    "NEED_POINTS = 122\n",
    "mask_avbl_all = np.zeros_like(mask_train).astype(bool)\n",
    "for ticker in df[\"ticker\"].unique():\n",
    "    mask = np.array(df['ticker'] == ticker)\n",
    "    count_days = df.loc[mask, 'time'].dt.date.nunique()\n",
    "    if count_days < NEED_POINTS:\n",
    "        mask_avbl = np.zeros_like(mask_train).astype(bool)\n",
    "    else:\n",
    "        date_first_avbl =  np.sort(df.loc[mask, 'time'].dt.date.unique())[NEED_POINTS]\n",
    "        #print(date_first_avbl)\n",
    "        mask_avbl = np.array(df[\"time\"] >= pd.to_datetime(date_first_avbl))\n",
    "    \n",
    "    mask_ticker = np.array(df['ticker'] == ticker)\n",
    "    mask_avbl_ticker = mask_ticker & mask_avbl\n",
    "\n",
    "    mask_avbl_all |= mask_avbl_ticker\n",
    "\n",
    "mask_train &= mask_avbl_all\n",
    "mask_valid &= mask_avbl_all\n",
    "mask_test &= mask_avbl_all\n",
    "mask_test2 &= mask_avbl_all\n",
    "\n",
    "mask_test3 &= mask_avbl_all\n",
    "\n",
    "\n",
    "#мб дату неправильно обрезаю"
   ]
  },
  {
   "cell_type": "code",
   "execution_count": 122,
   "id": "e7df157a-6bc3-4017-927e-c3e30ddda7c6",
   "metadata": {},
   "outputs": [
    {
     "data": {
      "text/plain": [
       "(1374660, 154130, 155907, 242253)"
      ]
     },
     "execution_count": 122,
     "metadata": {},
     "output_type": "execute_result"
    }
   ],
   "source": [
    "mask_train.sum(), mask_valid.sum(), mask_test.sum(), mask_test2.sum()"
   ]
  },
  {
   "cell_type": "code",
   "execution_count": 123,
   "id": "5ecba77c-88bc-4a9e-97eb-a94d9843e0be",
   "metadata": {},
   "outputs": [
    {
     "data": {
      "text/plain": [
       "100348"
      ]
     },
     "execution_count": 123,
     "metadata": {},
     "output_type": "execute_result"
    }
   ],
   "source": [
    "mask_test3.sum()"
   ]
  },
  {
   "cell_type": "code",
   "execution_count": null,
   "id": "a6fa593e-76ee-4775-8a34-0b98e58ead79",
   "metadata": {},
   "outputs": [],
   "source": []
  },
  {
   "cell_type": "code",
   "execution_count": null,
   "id": "e3aa095f-8138-444e-9384-404c46093702",
   "metadata": {},
   "outputs": [],
   "source": []
  },
  {
   "cell_type": "code",
   "execution_count": 126,
   "id": "9d034842-5335-4162-b271-467cfb9efc5a",
   "metadata": {
    "colab": {
     "base_uri": "https://localhost:8080/"
    },
    "id": "9d034842-5335-4162-b271-467cfb9efc5a",
    "outputId": "b5c07106-07e6-46f3-ca64-78f68bd02573"
   },
   "outputs": [
    {
     "data": {
      "text/plain": [
       "1926950"
      ]
     },
     "execution_count": 126,
     "metadata": {},
     "output_type": "execute_result"
    }
   ],
   "source": [
    "mask_data = mask_train|mask_valid|mask_test|mask_test2\n",
    "(mask_data).sum()"
   ]
  },
  {
   "cell_type": "code",
   "execution_count": 885,
   "id": "7d2e414a-a9a0-4f7a-b2b6-df3b01d776c6",
   "metadata": {},
   "outputs": [],
   "source": [
    "# for col in tqdm(df.columns):\n",
    "#     assert df.loc[mask_data, col].isnull().sum() == 0, f'Nulls {col}'"
   ]
  },
  {
   "cell_type": "code",
   "execution_count": 886,
   "id": "67a17813-8477-4802-a2a8-73e5ee9d3c21",
   "metadata": {},
   "outputs": [
    {
     "data": {
      "text/plain": [
       "67"
      ]
     },
     "execution_count": 886,
     "metadata": {},
     "output_type": "execute_result"
    }
   ],
   "source": [
    "df.loc[mask_train, 'ticker'].nunique()"
   ]
  },
  {
   "cell_type": "code",
   "execution_count": 887,
   "id": "37aa29ef-e1a1-4038-9b22-de54997337b4",
   "metadata": {},
   "outputs": [],
   "source": [
    "#Гуд"
   ]
  },
  {
   "cell_type": "code",
   "execution_count": null,
   "id": "fde745eb-3f41-40f4-a708-0bf91f52491f",
   "metadata": {},
   "outputs": [],
   "source": []
  },
  {
   "cell_type": "code",
   "execution_count": 127,
   "id": "e43d7543-daf2-495d-b4ea-15dd838d133c",
   "metadata": {
    "colab": {
     "base_uri": "https://localhost:8080/"
    },
    "id": "e43d7543-daf2-495d-b4ea-15dd838d133c",
    "outputId": "4a7505e0-1cb3-4fbd-e2ca-3c11369609c3"
   },
   "outputs": [
    {
     "data": {
      "text/plain": [
       "(0.7133864397104233,\n",
       " 0.07998650717455046,\n",
       " 0.08090868989854433,\n",
       " 0.125718363216482)"
      ]
     },
     "execution_count": 127,
     "metadata": {},
     "output_type": "execute_result"
    }
   ],
   "source": [
    "mask_train.sum()/(mask_data).sum(), mask_valid.sum()/(mask_data).sum(), mask_test.sum()/(mask_data).sum(), mask_test2.sum()/(mask_data).sum()"
   ]
  },
  {
   "cell_type": "code",
   "execution_count": null,
   "id": "ef8b4f0d-c272-4dd3-85ba-3c87ebf57563",
   "metadata": {},
   "outputs": [],
   "source": []
  },
  {
   "cell_type": "code",
   "execution_count": 134,
   "id": "cb46d1d9-fc8c-45c5-99e5-bf771bdb6ccc",
   "metadata": {
    "colab": {
     "base_uri": "https://localhost:8080/"
    },
    "id": "cb46d1d9-fc8c-45c5-99e5-bf771bdb6ccc",
    "outputId": "2712958f-8c51-4d72-c55e-974f26e6c2da"
   },
   "outputs": [
    {
     "data": {
      "text/plain": [
       "(0.16922148022056363,\n",
       " 0.17003179134496854,\n",
       " 0.2110617226936571,\n",
       " 0.20078595517908962)"
      ]
     },
     "execution_count": 134,
     "metadata": {},
     "output_type": "execute_result"
    }
   ],
   "source": [
    "df.loc[mask_train, 'target'].mean(), df.loc[mask_valid, 'target'].mean(), df.loc[mask_test, 'target'].mean(), df.loc[mask_test2, 'target'].mean()"
   ]
  },
  {
   "cell_type": "code",
   "execution_count": 136,
   "id": "5291460c-b6db-4b62-91c8-a1472e27980f",
   "metadata": {},
   "outputs": [
    {
     "data": {
      "text/plain": [
       "0.18873320843464741"
      ]
     },
     "execution_count": 136,
     "metadata": {},
     "output_type": "execute_result"
    }
   ],
   "source": [
    "df.loc[mask_test3, 'target'].mean()"
   ]
  },
  {
   "cell_type": "code",
   "execution_count": null,
   "id": "4f58ee4b-f4c6-480d-85b4-c0fc56dd5a3c",
   "metadata": {},
   "outputs": [],
   "source": []
  },
  {
   "cell_type": "code",
   "execution_count": 139,
   "id": "c176dba9-2a64-4129-9de3-9f7515f0d9d7",
   "metadata": {
    "id": "c176dba9-2a64-4129-9de3-9f7515f0d9d7"
   },
   "outputs": [
    {
     "data": {
      "text/plain": [
       "(1.0011218, 0.9986447, 0.99961483, 0.9991903)"
      ]
     },
     "execution_count": 139,
     "metadata": {},
     "output_type": "execute_result"
    }
   ],
   "source": [
    "df.loc[mask_train, 'income_rate'].mean(), df.loc[mask_valid, 'income_rate'].mean(), df.loc[mask_test, 'income_rate'].mean(), df.loc[mask_test2, 'income_rate'].mean()"
   ]
  },
  {
   "cell_type": "code",
   "execution_count": 141,
   "id": "f6493bd2-8ddf-4bcb-9a21-48903cabbc9b",
   "metadata": {
    "id": "f6493bd2-8ddf-4bcb-9a21-48903cabbc9b"
   },
   "outputs": [
    {
     "data": {
      "text/plain": [
       "0.99998444"
      ]
     },
     "execution_count": 141,
     "metadata": {},
     "output_type": "execute_result"
    }
   ],
   "source": [
    "df.loc[mask_test3, 'income_rate'].mean()"
   ]
  },
  {
   "cell_type": "code",
   "execution_count": null,
   "id": "41294ed0-bc41-4f65-91e1-fb482436b099",
   "metadata": {},
   "outputs": [],
   "source": []
  },
  {
   "cell_type": "code",
   "execution_count": null,
   "id": "f9852e35-914a-4628-8d54-e35f4bb769fb",
   "metadata": {},
   "outputs": [],
   "source": []
  },
  {
   "cell_type": "code",
   "execution_count": 145,
   "id": "b89d98db-d939-4ef2-bbc1-f1d31bf5cd15",
   "metadata": {
    "id": "b89d98db-d939-4ef2-bbc1-f1d31bf5cd15"
   },
   "outputs": [],
   "source": [
    "#проверки"
   ]
  },
  {
   "cell_type": "code",
   "execution_count": 147,
   "id": "4b37867a-0700-4508-b310-38dcabce67b3",
   "metadata": {
    "colab": {
     "base_uri": "https://localhost:8080/"
    },
    "id": "4b37867a-0700-4508-b310-38dcabce67b3",
    "outputId": "de0fefdf-893c-45a0-9994-a08f835e5044"
   },
   "outputs": [
    {
     "data": {
      "text/plain": [
       "True"
      ]
     },
     "execution_count": 147,
     "metadata": {},
     "output_type": "execute_result"
    }
   ],
   "source": [
    "(mask_train.sum()+mask_valid.sum()+mask_test.sum()+mask_test2.sum()) ==(mask_data).sum()\n",
    "\n",
    "#(mask_train.sum()+mask_valid.sum()+mask_test.sum()) ==(mask_data).sum()"
   ]
  },
  {
   "cell_type": "code",
   "execution_count": null,
   "id": "1aa1877f-774a-4a30-9ec2-54a5c4f06e39",
   "metadata": {},
   "outputs": [],
   "source": []
  },
  {
   "cell_type": "markdown",
   "id": "9d03cb92-24f8-4f58-a9e4-22594fb46791",
   "metadata": {},
   "source": [
    "## 3. Model"
   ]
  },
  {
   "cell_type": "markdown",
   "id": "ecbfd04d-8185-45ea-aa3f-007bfd4543a2",
   "metadata": {},
   "source": [
    "### 3.1 Base model"
   ]
  },
  {
   "cell_type": "code",
   "execution_count": 152,
   "id": "95830b86-f0d4-4980-b23e-08134dd814c4",
   "metadata": {},
   "outputs": [
    {
     "name": "stderr",
     "output_type": "stream",
     "text": [
      "/var/folders/rm/zt5_90s5727289mv2gzbkw980000gn/T/ipykernel_34131/153766446.py:1: PerformanceWarning: DataFrame is highly fragmented.  This is usually the result of calling `frame.insert` many times, which has poor performance.  Consider joining all columns at once using pd.concat(axis=1) instead. To get a de-fragmented frame, use `newframe = frame.copy()`\n",
      "  df['ticker_code'] = df['ticker'].astype('category').cat.codes\n"
     ]
    }
   ],
   "source": [
    "df['ticker_code'] = df['ticker'].astype('category').cat.codes"
   ]
  },
  {
   "cell_type": "code",
   "execution_count": 154,
   "id": "f068ed48-4f10-496a-942e-0d3c31437b35",
   "metadata": {},
   "outputs": [
    {
     "data": {
      "text/plain": [
       "67"
      ]
     },
     "execution_count": 154,
     "metadata": {},
     "output_type": "execute_result"
    }
   ],
   "source": [
    "df['ticker_code'].nunique()"
   ]
  },
  {
   "cell_type": "code",
   "execution_count": 156,
   "id": "7d8df700-9113-4523-8016-d84bd97e6dc5",
   "metadata": {},
   "outputs": [
    {
     "data": {
      "text/plain": [
       "67"
      ]
     },
     "execution_count": 156,
     "metadata": {},
     "output_type": "execute_result"
    }
   ],
   "source": [
    "df.loc[mask_train, 'ticker_code'].nunique()"
   ]
  },
  {
   "cell_type": "code",
   "execution_count": 158,
   "id": "bccd90f0-310c-4b43-9200-a2b84c7b2e83",
   "metadata": {
    "scrolled": true
   },
   "outputs": [
    {
     "data": {
      "text/plain": [
       "(2340439, 1714)"
      ]
     },
     "execution_count": 158,
     "metadata": {},
     "output_type": "execute_result"
    }
   ],
   "source": [
    "df.shape"
   ]
  },
  {
   "cell_type": "code",
   "execution_count": 160,
   "id": "b2878c59-f5fe-4d28-9beb-b5f0a5b49dd6",
   "metadata": {},
   "outputs": [],
   "source": [
    "drop_cols = [\n",
    " 'time',\n",
    " 'close',\n",
    " 'volume',\n",
    " 'tmos_close',\n",
    "\n",
    " 'ticker',\n",
    "\n",
    " 'index_1hour',\n",
    " 'index_1day',\n",
    "    \n",
    " 'result',\n",
    " 'delta_time',\n",
    " 'income_rate',\n",
    " 'res_price',\n",
    " 'res_ind',\n",
    "\n",
    "'time_1hour',\n",
    " 'close_1hour',\n",
    " 'volume_1hour',\n",
    " 'tmos_close_1hour',\n",
    "\n",
    "'time_1day',\n",
    " 'close_1day',\n",
    " 'volume_1day',\n",
    " 'tmos_close_1day',\n",
    "    \n",
    "             'target',\n",
    "             'y_pred']\n",
    "\n",
    "\n",
    "features = df.columns[~df.columns.isin(drop_cols)].tolist()\n",
    "\n",
    "cat_features_all = ['ticker_code',\n",
    "                'hour', 'day', 'weekday',\n",
    "]\n",
    "cat_features = cat_features_all\n",
    "\n",
    "target = 'target'"
   ]
  },
  {
   "cell_type": "code",
   "execution_count": 162,
   "id": "e890bd5f-2150-4696-8f2b-a2ee11093c23",
   "metadata": {},
   "outputs": [
    {
     "data": {
      "text/plain": [
       "(1693, 4)"
      ]
     },
     "execution_count": 162,
     "metadata": {},
     "output_type": "execute_result"
    }
   ],
   "source": [
    "len(features), len(cat_features)"
   ]
  },
  {
   "cell_type": "code",
   "execution_count": null,
   "id": "34761126-fe44-4a88-90d8-c3050e323c96",
   "metadata": {},
   "outputs": [],
   "source": []
  },
  {
   "cell_type": "markdown",
   "id": "d8d5ada8-3783-448e-9a48-f2e1310f10cf",
   "metadata": {},
   "source": [
    "### Get stability features"
   ]
  },
  {
   "cell_type": "code",
   "execution_count": 166,
   "id": "bc4b7387-9d70-450d-856d-8e79ac5e2c9f",
   "metadata": {},
   "outputs": [
    {
     "data": {
      "text/plain": [
       "(1374660, 154130, 155907, 242253)"
      ]
     },
     "execution_count": 166,
     "metadata": {},
     "output_type": "execute_result"
    }
   ],
   "source": [
    "mask_train.sum(), mask_valid.sum(), mask_test.sum(), mask_test2.sum()"
   ]
  },
  {
   "cell_type": "code",
   "execution_count": null,
   "id": "ea99c8cf-6d3c-4982-9ab9-a76f492d7dac",
   "metadata": {},
   "outputs": [],
   "source": []
  },
  {
   "cell_type": "code",
   "execution_count": 170,
   "id": "6bdc389e-aedc-4bdb-9d33-e54dbbacd10c",
   "metadata": {},
   "outputs": [
    {
     "data": {
      "text/plain": [
       "274932"
      ]
     },
     "execution_count": 170,
     "metadata": {},
     "output_type": "execute_result"
    }
   ],
   "source": [
    "#subsample_train\n",
    "\n",
    "coeff_subsample = 0.2\n",
    "\n",
    "inds_train = np.argwhere(mask_train).ravel()\n",
    "inds_train_subsample = np.random.RandomState(seed=42).permutation(inds_train)[:int(len(inds_train)*coeff_subsample)]\n",
    "\n",
    "mask_train_subsample = np.zeros_like(mask_train).astype(bool)\n",
    "mask_train_subsample[inds_train_subsample] = True\n",
    "\n",
    "mask_train_subsample.sum()"
   ]
  },
  {
   "cell_type": "code",
   "execution_count": null,
   "id": "84a15f14-7303-48f0-b2a1-a071f4780210",
   "metadata": {},
   "outputs": [],
   "source": []
  },
  {
   "cell_type": "code",
   "execution_count": 173,
   "id": "94ab3d8d-7292-4146-824d-924bd03d58a9",
   "metadata": {},
   "outputs": [],
   "source": [
    "def mean_income_rate_point(D_sample, y_pred, threshold=None):\n",
    "    # q=threshold\n",
    "    # mask = y_pred >= np.quantile(y_pred, q)\n",
    "    mask = y_pred >= threshold\n",
    "    score = np.mean(D_sample.income_rate[mask]) - 1\n",
    "    \n",
    "    return score\n",
    "\n",
    "def mean_income_rate_day(D_sample, y_pred, threshold=None):\n",
    "    # q=threshold\n",
    "    # mask = y_pred >= np.quantile(y_pred, q)\n",
    "    mask = y_pred >= threshold\n",
    "    df_sup = pd.DataFrame({'time' : D_sample.time,\n",
    "                           'income_rate' : D_sample.income_rate,\n",
    "                           'y_pred' : y_pred})\n",
    "    score = (df_sup.loc[mask].groupby(pd.Grouper(key='time', freq='D')).income_rate.mean()-1).mean()\n",
    "\n",
    "    return score\n",
    "    \n",
    "def mean_income_rate_month(D_sample, y_pred, threshold=None):\n",
    "    # q=threshold\n",
    "    # mask = y_pred >= np.quantile(y_pred, q)\n",
    "    mask = y_pred >= threshold\n",
    "    df_sup = pd.DataFrame({'time' : D_sample.time,\n",
    "                           'income_rate' : D_sample.income_rate,\n",
    "                           'y_pred' : y_pred})\n",
    "    score = (df_sup.loc[mask].groupby(pd.Grouper(key='time', freq='D')).income_rate.mean()-1).mean() * df_sup.loc[mask, 'time'].dt.date.nunique()\n",
    "    score = score * (22 / df_sup['time'].dt.date.nunique()) #22 day in month\n",
    "    \n",
    "    return score\n",
    "\n",
    "\n",
    "def mean_income_rate(y_pred, D_sample):\n",
    "    q = 0.99\n",
    "    mask = y_pred >= np.quantile(y_pred, q)\n",
    "    #mask = y_pred >= threshold\n",
    "    df_sup = pd.DataFrame({'time' : D_sample.time,\n",
    "                           'income_rate' : D_sample.income_rate,\n",
    "                           'y_pred' : y_pred})\n",
    "    #score = (df_sup.loc[mask].groupby(pd.Grouper(key='time', freq='D')).income_rate.mean()-1).mean() #day\n",
    "    score = (df_sup.loc[mask].groupby(pd.Grouper(key='time', freq='D')).income_rate.mean()-1).mean() * df_sup.loc[mask, 'time'].dt.date.nunique()\n",
    "    score = score * (22 / df_sup['time'].dt.date.nunique()) #22 day in month\n",
    "    score = round(score, 4)\n",
    "    \n",
    "    return 'mean_income_rate', score, True#is_higher_better"
   ]
  },
  {
   "cell_type": "code",
   "execution_count": 175,
   "id": "5bee5c07-0840-404f-8583-f9de0e794996",
   "metadata": {
    "scrolled": true
   },
   "outputs": [
    {
     "name": "stderr",
     "output_type": "stream",
     "text": [
      " 15%|██████████▊                                                           | 262/1693 [04:51<37:31,  1.57s/it]/opt/anaconda3/lib/python3.12/site-packages/numpy/core/fromnumeric.py:3504: RuntimeWarning: Mean of empty slice.\n",
      "  return _methods._mean(a, axis=axis, dtype=dtype,\n",
      "/opt/anaconda3/lib/python3.12/site-packages/numpy/core/_methods.py:129: RuntimeWarning: invalid value encountered in divide\n",
      "  ret = ret.dtype.type(ret / rcount)\n",
      " 21%|██████████████▉                                                       | 360/1693 [06:45<26:44,  1.20s/it]/opt/anaconda3/lib/python3.12/site-packages/numpy/core/fromnumeric.py:3504: RuntimeWarning: Mean of empty slice.\n",
      "  return _methods._mean(a, axis=axis, dtype=dtype,\n",
      "/opt/anaconda3/lib/python3.12/site-packages/numpy/core/_methods.py:129: RuntimeWarning: invalid value encountered in divide\n",
      "  ret = ret.dtype.type(ret / rcount)\n",
      " 22%|███████████████                                                       | 365/1693 [06:52<31:00,  1.40s/it]/opt/anaconda3/lib/python3.12/site-packages/numpy/core/fromnumeric.py:3504: RuntimeWarning: Mean of empty slice.\n",
      "  return _methods._mean(a, axis=axis, dtype=dtype,\n",
      "/opt/anaconda3/lib/python3.12/site-packages/numpy/core/_methods.py:129: RuntimeWarning: invalid value encountered in divide\n",
      "  ret = ret.dtype.type(ret / rcount)\n",
      " 22%|███████████████▏                                                      | 366/1693 [06:53<28:32,  1.29s/it]/opt/anaconda3/lib/python3.12/site-packages/numpy/core/fromnumeric.py:3504: RuntimeWarning: Mean of empty slice.\n",
      "  return _methods._mean(a, axis=axis, dtype=dtype,\n",
      "/opt/anaconda3/lib/python3.12/site-packages/numpy/core/_methods.py:129: RuntimeWarning: invalid value encountered in divide\n",
      "  ret = ret.dtype.type(ret / rcount)\n",
      " 22%|███████████████▍                                                      | 374/1693 [07:02<26:57,  1.23s/it]/opt/anaconda3/lib/python3.12/site-packages/numpy/core/fromnumeric.py:3504: RuntimeWarning: Mean of empty slice.\n",
      "  return _methods._mean(a, axis=axis, dtype=dtype,\n",
      "/opt/anaconda3/lib/python3.12/site-packages/numpy/core/_methods.py:129: RuntimeWarning: invalid value encountered in divide\n",
      "  ret = ret.dtype.type(ret / rcount)\n",
      " 24%|████████████████▍                                                     | 399/1693 [07:34<24:34,  1.14s/it]/opt/anaconda3/lib/python3.12/site-packages/numpy/core/fromnumeric.py:3504: RuntimeWarning: Mean of empty slice.\n",
      "  return _methods._mean(a, axis=axis, dtype=dtype,\n",
      "/opt/anaconda3/lib/python3.12/site-packages/numpy/core/_methods.py:129: RuntimeWarning: invalid value encountered in divide\n",
      "  ret = ret.dtype.type(ret / rcount)\n",
      " 24%|████████████████▋                                                     | 403/1693 [07:39<25:51,  1.20s/it]/opt/anaconda3/lib/python3.12/site-packages/numpy/core/fromnumeric.py:3504: RuntimeWarning: Mean of empty slice.\n",
      "  return _methods._mean(a, axis=axis, dtype=dtype,\n",
      "/opt/anaconda3/lib/python3.12/site-packages/numpy/core/_methods.py:129: RuntimeWarning: invalid value encountered in divide\n",
      "  ret = ret.dtype.type(ret / rcount)\n",
      " 31%|█████████████████████▊                                                | 529/1693 [10:11<19:43,  1.02s/it]/opt/anaconda3/lib/python3.12/site-packages/numpy/core/fromnumeric.py:3504: RuntimeWarning: Mean of empty slice.\n",
      "  return _methods._mean(a, axis=axis, dtype=dtype,\n",
      "/opt/anaconda3/lib/python3.12/site-packages/numpy/core/_methods.py:129: RuntimeWarning: invalid value encountered in divide\n",
      "  ret = ret.dtype.type(ret / rcount)\n",
      " 49%|██████████████████████████████████▏                                   | 827/1693 [15:35<16:51,  1.17s/it]/opt/anaconda3/lib/python3.12/site-packages/numpy/core/fromnumeric.py:3504: RuntimeWarning: Mean of empty slice.\n",
      "  return _methods._mean(a, axis=axis, dtype=dtype,\n",
      "/opt/anaconda3/lib/python3.12/site-packages/numpy/core/_methods.py:129: RuntimeWarning: invalid value encountered in divide\n",
      "  ret = ret.dtype.type(ret / rcount)\n",
      " 77%|█████████████████████████████████████████████████████                | 1301/1693 [24:50<10:25,  1.60s/it]/opt/anaconda3/lib/python3.12/site-packages/numpy/core/fromnumeric.py:3504: RuntimeWarning: Mean of empty slice.\n",
      "  return _methods._mean(a, axis=axis, dtype=dtype,\n",
      "/opt/anaconda3/lib/python3.12/site-packages/numpy/core/_methods.py:129: RuntimeWarning: invalid value encountered in divide\n",
      "  ret = ret.dtype.type(ret / rcount)\n",
      " 77%|█████████████████████████████████████████████████████▏               | 1304/1693 [24:54<09:55,  1.53s/it]/opt/anaconda3/lib/python3.12/site-packages/numpy/core/fromnumeric.py:3504: RuntimeWarning: Mean of empty slice.\n",
      "  return _methods._mean(a, axis=axis, dtype=dtype,\n",
      "/opt/anaconda3/lib/python3.12/site-packages/numpy/core/_methods.py:129: RuntimeWarning: invalid value encountered in divide\n",
      "  ret = ret.dtype.type(ret / rcount)\n",
      " 77%|█████████████████████████████████████████████████████▎               | 1309/1693 [25:02<09:58,  1.56s/it]/opt/anaconda3/lib/python3.12/site-packages/numpy/core/fromnumeric.py:3504: RuntimeWarning: Mean of empty slice.\n",
      "  return _methods._mean(a, axis=axis, dtype=dtype,\n",
      "/opt/anaconda3/lib/python3.12/site-packages/numpy/core/_methods.py:129: RuntimeWarning: invalid value encountered in divide\n",
      "  ret = ret.dtype.type(ret / rcount)\n",
      " 80%|██████████████████████████████████████████████████████▉              | 1348/1693 [26:02<06:47,  1.18s/it]/opt/anaconda3/lib/python3.12/site-packages/numpy/core/fromnumeric.py:3504: RuntimeWarning: Mean of empty slice.\n",
      "  return _methods._mean(a, axis=axis, dtype=dtype,\n",
      "/opt/anaconda3/lib/python3.12/site-packages/numpy/core/_methods.py:129: RuntimeWarning: invalid value encountered in divide\n",
      "  ret = ret.dtype.type(ret / rcount)\n",
      " 80%|███████████████████████████████████████████████████████              | 1351/1693 [26:04<05:23,  1.06it/s]/opt/anaconda3/lib/python3.12/site-packages/numpy/core/fromnumeric.py:3504: RuntimeWarning: Mean of empty slice.\n",
      "  return _methods._mean(a, axis=axis, dtype=dtype,\n",
      "/opt/anaconda3/lib/python3.12/site-packages/numpy/core/_methods.py:129: RuntimeWarning: invalid value encountered in divide\n",
      "  ret = ret.dtype.type(ret / rcount)\n",
      " 80%|███████████████████████████████████████████████████████              | 1352/1693 [26:05<05:25,  1.05it/s]/opt/anaconda3/lib/python3.12/site-packages/numpy/core/fromnumeric.py:3504: RuntimeWarning: Mean of empty slice.\n",
      "  return _methods._mean(a, axis=axis, dtype=dtype,\n",
      "/opt/anaconda3/lib/python3.12/site-packages/numpy/core/_methods.py:129: RuntimeWarning: invalid value encountered in divide\n",
      "  ret = ret.dtype.type(ret / rcount)\n",
      " 81%|███████████████████████████████████████████████████████▊             | 1370/1693 [26:25<05:20,  1.01it/s]/opt/anaconda3/lib/python3.12/site-packages/numpy/core/fromnumeric.py:3504: RuntimeWarning: Mean of empty slice.\n",
      "  return _methods._mean(a, axis=axis, dtype=dtype,\n",
      "/opt/anaconda3/lib/python3.12/site-packages/numpy/core/_methods.py:129: RuntimeWarning: invalid value encountered in divide\n",
      "  ret = ret.dtype.type(ret / rcount)\n",
      " 83%|█████████████████████████████████████████████████████████▌           | 1411/1693 [27:11<05:31,  1.18s/it]/opt/anaconda3/lib/python3.12/site-packages/numpy/core/fromnumeric.py:3504: RuntimeWarning: Mean of empty slice.\n",
      "  return _methods._mean(a, axis=axis, dtype=dtype,\n",
      "/opt/anaconda3/lib/python3.12/site-packages/numpy/core/_methods.py:129: RuntimeWarning: invalid value encountered in divide\n",
      "  ret = ret.dtype.type(ret / rcount)\n",
      " 85%|██████████████████████████████████████████████████████████▊          | 1444/1693 [27:53<06:09,  1.48s/it]/opt/anaconda3/lib/python3.12/site-packages/numpy/core/fromnumeric.py:3504: RuntimeWarning: Mean of empty slice.\n",
      "  return _methods._mean(a, axis=axis, dtype=dtype,\n",
      "/opt/anaconda3/lib/python3.12/site-packages/numpy/core/_methods.py:129: RuntimeWarning: invalid value encountered in divide\n",
      "  ret = ret.dtype.type(ret / rcount)\n",
      " 88%|████████████████████████████████████████████████████████████▌        | 1487/1693 [28:44<02:51,  1.20it/s]/opt/anaconda3/lib/python3.12/site-packages/numpy/core/fromnumeric.py:3504: RuntimeWarning: Mean of empty slice.\n",
      "  return _methods._mean(a, axis=axis, dtype=dtype,\n",
      "/opt/anaconda3/lib/python3.12/site-packages/numpy/core/_methods.py:129: RuntimeWarning: invalid value encountered in divide\n",
      "  ret = ret.dtype.type(ret / rcount)\n",
      " 89%|█████████████████████████████████████████████████████████████▎       | 1505/1693 [29:03<03:04,  1.02it/s]/opt/anaconda3/lib/python3.12/site-packages/numpy/core/fromnumeric.py:3504: RuntimeWarning: Mean of empty slice.\n",
      "  return _methods._mean(a, axis=axis, dtype=dtype,\n",
      "/opt/anaconda3/lib/python3.12/site-packages/numpy/core/_methods.py:129: RuntimeWarning: invalid value encountered in divide\n",
      "  ret = ret.dtype.type(ret / rcount)\n",
      " 89%|█████████████████████████████████████████████████████████████▌       | 1509/1693 [29:06<02:48,  1.09it/s]/opt/anaconda3/lib/python3.12/site-packages/numpy/core/fromnumeric.py:3504: RuntimeWarning: Mean of empty slice.\n",
      "  return _methods._mean(a, axis=axis, dtype=dtype,\n",
      "/opt/anaconda3/lib/python3.12/site-packages/numpy/core/_methods.py:129: RuntimeWarning: invalid value encountered in divide\n",
      "  ret = ret.dtype.type(ret / rcount)\n",
      " 92%|███████████████████████████████████████████████████████████████▎     | 1553/1693 [30:01<02:16,  1.02it/s]/opt/anaconda3/lib/python3.12/site-packages/numpy/core/fromnumeric.py:3504: RuntimeWarning: Mean of empty slice.\n",
      "  return _methods._mean(a, axis=axis, dtype=dtype,\n",
      "/opt/anaconda3/lib/python3.12/site-packages/numpy/core/_methods.py:129: RuntimeWarning: invalid value encountered in divide\n",
      "  ret = ret.dtype.type(ret / rcount)\n",
      " 92%|███████████████████████████████████████████████████████████████▍     | 1558/1693 [30:05<01:47,  1.26it/s]/opt/anaconda3/lib/python3.12/site-packages/numpy/core/fromnumeric.py:3504: RuntimeWarning: Mean of empty slice.\n",
      "  return _methods._mean(a, axis=axis, dtype=dtype,\n",
      "/opt/anaconda3/lib/python3.12/site-packages/numpy/core/_methods.py:129: RuntimeWarning: invalid value encountered in divide\n",
      "  ret = ret.dtype.type(ret / rcount)\n",
      " 92%|███████████████████████████████████████████████████████████████▌     | 1559/1693 [30:05<01:43,  1.30it/s]/opt/anaconda3/lib/python3.12/site-packages/numpy/core/fromnumeric.py:3504: RuntimeWarning: Mean of empty slice.\n",
      "  return _methods._mean(a, axis=axis, dtype=dtype,\n",
      "/opt/anaconda3/lib/python3.12/site-packages/numpy/core/_methods.py:129: RuntimeWarning: invalid value encountered in divide\n",
      "  ret = ret.dtype.type(ret / rcount)\n",
      "100%|█████████████████████████████████████████████████████████████████████| 1693/1693 [32:49<00:00,  1.16s/it]\n"
     ]
    }
   ],
   "source": [
    "\n",
    "\n",
    "\n",
    "params = {\n",
    "    \"boosting_type\": \"gbdt\",\n",
    "    \"objective\": \"binary\",\n",
    "    \n",
    "    \"num_leaves\": 2,\n",
    "\n",
    "     \"bagging_fraction\": 0.5,\n",
    "     \"bagging_freq\": 1,\n",
    "     \"verbose\": -1,\n",
    "     #\"metric\": \"auc\",\n",
    "     \"metric\": \"mean_income_rate\",    \n",
    "    \"early_stopping\" : 10, \n",
    "    \n",
    "    \n",
    "}\n",
    "\n",
    "auc_features = {'feature' : [],\n",
    "                \n",
    "               'auc_train' : [],\n",
    "               'auc_valid' : [],\n",
    "               'auc_test' : [],\n",
    "               'auc_test2' : [],\n",
    "           \n",
    "           'mir_point@1_train' : [],\n",
    "           'mir_point@1_valid' : [],\n",
    "           'mir_point@1_test' : [],\n",
    "           'mir_point@1_test2' : [],\n",
    "\n",
    "           'mir_day@1_train' : [],\n",
    "           'mir_day@1_valid' : [],\n",
    "           'mir_day@1_test' : [],\n",
    "           'mir_day@1_test2' : [],\n",
    "\n",
    "           'mir_month@1_train' : [],\n",
    "           'mir_month@1_valid' : [],\n",
    "           'mir_month@1_test' : [],\n",
    "           'mir_month@1_test2' : [],\n",
    "\n",
    "                \n",
    "           'mir_point@2_train' : [],\n",
    "           'mir_point@2_valid' : [],\n",
    "           'mir_point@2_test' : [],\n",
    "           'mir_point@2_test2' : [],\n",
    "           \n",
    "           'mir_day@2_train' : [],\n",
    "           'mir_day@2_valid' : [],\n",
    "           'mir_day@2_test' : [],\n",
    "           'mir_day@2_test2' : [],\n",
    "\n",
    "           'mir_month@2_train' : [],\n",
    "           'mir_month@2_valid' : [],\n",
    "           'mir_month@2_test' : [],\n",
    "           'mir_month@2_test2' : [],\n",
    "               }\n",
    "\n",
    "for feature in tqdm(features):\n",
    "    stab_features = [feature]\n",
    "    stab_cat_features = [feature] if feature in cat_features else []\n",
    "    \n",
    "    D_train = lgbm.Dataset(df.loc[mask_train_subsample, stab_features], label=df.loc[mask_train_subsample, target], feature_name=stab_features, categorical_feature=stab_cat_features, free_raw_data=False)\n",
    "    D_valid = lgbm.Dataset(df.loc[mask_valid, stab_features], label=df.loc[mask_valid, target], feature_name=stab_features, categorical_feature=stab_cat_features, free_raw_data=False)\n",
    "    D_test = lgbm.Dataset(df.loc[mask_test, stab_features], label=df.loc[mask_test, target], feature_name=stab_features, categorical_feature=stab_cat_features, free_raw_data=False)\n",
    "    D_test2 = lgbm.Dataset(df.loc[mask_test2, stab_features], label=df.loc[mask_test2, target], feature_name=stab_features, categorical_feature=stab_cat_features, free_raw_data=False)\n",
    "\n",
    "    D_train.income_rate = df.loc[mask_train_subsample, 'income_rate'].values\n",
    "    D_valid.income_rate = df.loc[mask_valid, 'income_rate'].values\n",
    "    D_test.income_rate = df.loc[mask_test, 'income_rate'].values\n",
    "    D_test2.income_rate = df.loc[mask_test2, 'income_rate'].values\n",
    "    \n",
    "    D_train.time = df.loc[mask_train_subsample, 'time'].values\n",
    "    D_valid.time = df.loc[mask_valid, 'time'].values\n",
    "    D_test.time = df.loc[mask_test, 'time'].values\n",
    "    D_test2.time = df.loc[mask_test2, 'time'].values\n",
    "\n",
    "\n",
    "    \n",
    "    model = lgbm.train(params, num_boost_round=1000, train_set=D_train, valid_sets=[D_valid], feval=mean_income_rate)\n",
    "    \n",
    "    y_pred_train = model.predict(D_train.data)\n",
    "    y_pred_valid = model.predict(D_valid.data)\n",
    "    y_pred_test = model.predict(D_test.data)\n",
    "    y_pred_test2 = model.predict(D_test2.data)\n",
    "\n",
    "    auc_features['feature'] += [feature]\n",
    "    auc_features['auc_train'] += [roc_auc_score(D_train.label, y_pred_train)]\n",
    "    auc_features['auc_valid'] += [roc_auc_score(D_valid.label, y_pred_valid)]\n",
    "    auc_features['auc_test'] += [roc_auc_score(D_test.label, y_pred_test)]\n",
    "    auc_features['auc_test2'] += [roc_auc_score(D_test2.label, y_pred_test2)]\n",
    "\n",
    "\n",
    "    threshold1 = np.quantile(y_pred_valid, q=0.99)\n",
    "    threshold2 = np.quantile(y_pred_valid, q=0.95)\n",
    "    \n",
    "    auc_features['mir_point@1_train'] += [mean_income_rate_point(D_train, y_pred_train, threshold=threshold1)]\n",
    "    auc_features['mir_point@1_valid'] += [mean_income_rate_point(D_valid, y_pred_valid, threshold=threshold1)]\n",
    "    auc_features['mir_point@1_test'] += [mean_income_rate_point(D_test, y_pred_test, threshold=threshold1)]\n",
    "    auc_features['mir_point@1_test2'] += [mean_income_rate_point(D_test2, y_pred_test2, threshold=threshold1)]\n",
    "   \n",
    "    auc_features['mir_point@2_train'] += [mean_income_rate_point(D_train, y_pred_train, threshold=threshold2)]\n",
    "    auc_features['mir_point@2_valid'] += [mean_income_rate_point(D_valid, y_pred_valid, threshold=threshold2)]\n",
    "    auc_features['mir_point@2_test'] += [mean_income_rate_point(D_test, y_pred_test, threshold=threshold2)]\n",
    "    auc_features['mir_point@2_test2'] += [mean_income_rate_point(D_test2, y_pred_test2, threshold=threshold2)]\n",
    "\n",
    "\n",
    "    auc_features['mir_day@1_train'] += [mean_income_rate_day(D_train, y_pred_train, threshold=threshold1)]\n",
    "    auc_features['mir_day@1_valid'] += [mean_income_rate_day(D_valid, y_pred_valid, threshold=threshold1)]\n",
    "    auc_features['mir_day@1_test'] += [mean_income_rate_day(D_test, y_pred_test, threshold=threshold1)]\n",
    "    auc_features['mir_day@1_test2'] += [mean_income_rate_day(D_test2, y_pred_test2, threshold=threshold1)]\n",
    "   \n",
    "    auc_features['mir_day@2_train'] += [mean_income_rate_day(D_train, y_pred_train, threshold=threshold2)]\n",
    "    auc_features['mir_day@2_valid'] += [mean_income_rate_day(D_valid, y_pred_valid, threshold=threshold2)]\n",
    "    auc_features['mir_day@2_test'] += [mean_income_rate_day(D_test, y_pred_test, threshold=threshold2)]\n",
    "    auc_features['mir_day@2_test2'] += [mean_income_rate_day(D_test2, y_pred_test2, threshold=threshold2)]\n",
    "\n",
    "    \n",
    "    auc_features['mir_month@1_train'] += [mean_income_rate_month(D_train, y_pred_train, threshold=threshold1)]\n",
    "    auc_features['mir_month@1_valid'] += [mean_income_rate_month(D_valid, y_pred_valid, threshold=threshold1)]\n",
    "    auc_features['mir_month@1_test'] += [mean_income_rate_month(D_test, y_pred_test, threshold=threshold1)]\n",
    "    auc_features['mir_month@1_test2'] += [mean_income_rate_month(D_test2, y_pred_test2, threshold=threshold1)]\n",
    "   \n",
    "    auc_features['mir_month@2_train'] += [mean_income_rate_month(D_train, y_pred_train, threshold=threshold2)]\n",
    "    auc_features['mir_month@2_valid'] += [mean_income_rate_month(D_valid, y_pred_valid, threshold=threshold2)]\n",
    "    auc_features['mir_month@2_test'] += [mean_income_rate_month(D_test, y_pred_test, threshold=threshold2)]\n",
    "    auc_features['mir_month@2_test2'] += [mean_income_rate_month(D_test2, y_pred_test2, threshold=threshold2)]\n",
    "\n",
    "auc_features_cp = auc_features.copy()"
   ]
  },
  {
   "cell_type": "code",
   "execution_count": null,
   "id": "162a13c1-1d61-470b-a359-94b7fef33781",
   "metadata": {},
   "outputs": [],
   "source": []
  },
  {
   "cell_type": "code",
   "execution_count": 179,
   "id": "aec4be1a-335e-4969-a8c7-459844deba94",
   "metadata": {},
   "outputs": [],
   "source": [
    "dump_pkl(auc_features, 'auc_features__-1_+3_1day.pkl')"
   ]
  },
  {
   "cell_type": "code",
   "execution_count": null,
   "id": "6868be90-2486-40d6-ac87-7edbc3ed1234",
   "metadata": {},
   "outputs": [],
   "source": []
  },
  {
   "cell_type": "code",
   "execution_count": null,
   "id": "a19c5c2f-62c6-474e-97b9-536b36bf0a37",
   "metadata": {},
   "outputs": [],
   "source": []
  },
  {
   "cell_type": "code",
   "execution_count": 183,
   "id": "74cb30c9-6bd2-48c6-b445-f834b5488c61",
   "metadata": {},
   "outputs": [],
   "source": [
    "auc_features = load_pkl('auc_features__-1_+3_1day.pkl')"
   ]
  },
  {
   "cell_type": "code",
   "execution_count": 185,
   "id": "b83979b6-d3c5-4d29-a65b-2ef47c28a461",
   "metadata": {},
   "outputs": [
    {
     "data": {
      "text/html": [
       "<div>\n",
       "<style scoped>\n",
       "    .dataframe tbody tr th:only-of-type {\n",
       "        vertical-align: middle;\n",
       "    }\n",
       "\n",
       "    .dataframe tbody tr th {\n",
       "        vertical-align: top;\n",
       "    }\n",
       "\n",
       "    .dataframe thead th {\n",
       "        text-align: right;\n",
       "    }\n",
       "</style>\n",
       "<table border=\"1\" class=\"dataframe\">\n",
       "  <thead>\n",
       "    <tr style=\"text-align: right;\">\n",
       "      <th></th>\n",
       "      <th>feature</th>\n",
       "      <th>auc_train</th>\n",
       "      <th>auc_valid</th>\n",
       "      <th>auc_test</th>\n",
       "      <th>auc_test2</th>\n",
       "      <th>mir_point@1_train</th>\n",
       "      <th>mir_point@1_valid</th>\n",
       "      <th>mir_point@1_test</th>\n",
       "      <th>mir_point@1_test2</th>\n",
       "      <th>mir_day@1_train</th>\n",
       "      <th>mir_day@1_valid</th>\n",
       "      <th>mir_day@1_test</th>\n",
       "      <th>mir_day@1_test2</th>\n",
       "      <th>mir_month@1_train</th>\n",
       "      <th>mir_month@1_valid</th>\n",
       "      <th>mir_month@1_test</th>\n",
       "      <th>mir_month@1_test2</th>\n",
       "      <th>mir_point@2_train</th>\n",
       "      <th>mir_point@2_valid</th>\n",
       "      <th>mir_point@2_test</th>\n",
       "      <th>mir_point@2_test2</th>\n",
       "      <th>mir_day@2_train</th>\n",
       "      <th>mir_day@2_valid</th>\n",
       "      <th>mir_day@2_test</th>\n",
       "      <th>mir_day@2_test2</th>\n",
       "      <th>mir_month@2_train</th>\n",
       "      <th>mir_month@2_valid</th>\n",
       "      <th>mir_month@2_test</th>\n",
       "      <th>mir_month@2_test2</th>\n",
       "    </tr>\n",
       "  </thead>\n",
       "  <tbody>\n",
       "    <tr>\n",
       "      <th>0</th>\n",
       "      <td>close_w1_roc</td>\n",
       "      <td>0.535323</td>\n",
       "      <td>0.543623</td>\n",
       "      <td>0.519700</td>\n",
       "      <td>0.523036</td>\n",
       "      <td>0.002266</td>\n",
       "      <td>0.001022</td>\n",
       "      <td>0.000799</td>\n",
       "      <td>0.000328</td>\n",
       "      <td>0.002681</td>\n",
       "      <td>0.001012</td>\n",
       "      <td>0.001155</td>\n",
       "      <td>0.000233</td>\n",
       "      <td>0.058847</td>\n",
       "      <td>0.022256</td>\n",
       "      <td>0.025420</td>\n",
       "      <td>0.005132</td>\n",
       "      <td>0.001516</td>\n",
       "      <td>-0.000249</td>\n",
       "      <td>0.000158</td>\n",
       "      <td>-0.000142</td>\n",
       "      <td>0.002225</td>\n",
       "      <td>0.000048</td>\n",
       "      <td>0.000772</td>\n",
       "      <td>0.000131</td>\n",
       "      <td>0.048951</td>\n",
       "      <td>0.001062</td>\n",
       "      <td>0.016976</td>\n",
       "      <td>0.002873</td>\n",
       "    </tr>\n",
       "    <tr>\n",
       "      <th>1</th>\n",
       "      <td>volume_w1_roc</td>\n",
       "      <td>0.503029</td>\n",
       "      <td>0.499844</td>\n",
       "      <td>0.500334</td>\n",
       "      <td>0.497758</td>\n",
       "      <td>0.001491</td>\n",
       "      <td>-0.001721</td>\n",
       "      <td>-0.000640</td>\n",
       "      <td>-0.001548</td>\n",
       "      <td>0.001576</td>\n",
       "      <td>-0.001590</td>\n",
       "      <td>-0.000424</td>\n",
       "      <td>-0.001208</td>\n",
       "      <td>0.034681</td>\n",
       "      <td>-0.034989</td>\n",
       "      <td>-0.009323</td>\n",
       "      <td>-0.026578</td>\n",
       "      <td>0.001126</td>\n",
       "      <td>-0.001355</td>\n",
       "      <td>-0.000385</td>\n",
       "      <td>-0.000810</td>\n",
       "      <td>0.001248</td>\n",
       "      <td>-0.001348</td>\n",
       "      <td>-0.000404</td>\n",
       "      <td>-0.000762</td>\n",
       "      <td>0.027453</td>\n",
       "      <td>-0.029657</td>\n",
       "      <td>-0.008892</td>\n",
       "      <td>-0.016765</td>\n",
       "    </tr>\n",
       "    <tr>\n",
       "      <th>2</th>\n",
       "      <td>tmos_close_w1_roc</td>\n",
       "      <td>0.514648</td>\n",
       "      <td>0.510674</td>\n",
       "      <td>0.514216</td>\n",
       "      <td>0.502819</td>\n",
       "      <td>0.002415</td>\n",
       "      <td>0.000311</td>\n",
       "      <td>0.000287</td>\n",
       "      <td>-0.000820</td>\n",
       "      <td>0.001062</td>\n",
       "      <td>-0.000782</td>\n",
       "      <td>-0.000834</td>\n",
       "      <td>-0.001247</td>\n",
       "      <td>0.021354</td>\n",
       "      <td>-0.016001</td>\n",
       "      <td>-0.018357</td>\n",
       "      <td>-0.026597</td>\n",
       "      <td>0.002415</td>\n",
       "      <td>0.000311</td>\n",
       "      <td>0.000287</td>\n",
       "      <td>-0.000820</td>\n",
       "      <td>0.001062</td>\n",
       "      <td>-0.000782</td>\n",
       "      <td>-0.000834</td>\n",
       "      <td>-0.001247</td>\n",
       "      <td>0.021354</td>\n",
       "      <td>-0.016001</td>\n",
       "      <td>-0.018357</td>\n",
       "      <td>-0.026597</td>\n",
       "    </tr>\n",
       "    <tr>\n",
       "      <th>3</th>\n",
       "      <td>close_w5_norm_std</td>\n",
       "      <td>0.569341</td>\n",
       "      <td>0.586383</td>\n",
       "      <td>0.543043</td>\n",
       "      <td>0.546192</td>\n",
       "      <td>0.000501</td>\n",
       "      <td>0.001260</td>\n",
       "      <td>0.000649</td>\n",
       "      <td>0.000724</td>\n",
       "      <td>0.000402</td>\n",
       "      <td>-0.000534</td>\n",
       "      <td>-0.000593</td>\n",
       "      <td>-0.002064</td>\n",
       "      <td>0.008719</td>\n",
       "      <td>-0.011744</td>\n",
       "      <td>-0.013044</td>\n",
       "      <td>-0.045406</td>\n",
       "      <td>0.000478</td>\n",
       "      <td>0.000294</td>\n",
       "      <td>0.000428</td>\n",
       "      <td>0.000310</td>\n",
       "      <td>0.000679</td>\n",
       "      <td>-0.000816</td>\n",
       "      <td>-0.000486</td>\n",
       "      <td>-0.001414</td>\n",
       "      <td>0.014906</td>\n",
       "      <td>-0.017963</td>\n",
       "      <td>-0.010693</td>\n",
       "      <td>-0.031101</td>\n",
       "    </tr>\n",
       "    <tr>\n",
       "      <th>4</th>\n",
       "      <td>close_w5_mean_abs_pct</td>\n",
       "      <td>0.571410</td>\n",
       "      <td>0.587184</td>\n",
       "      <td>0.544974</td>\n",
       "      <td>0.545675</td>\n",
       "      <td>0.000743</td>\n",
       "      <td>-0.000224</td>\n",
       "      <td>0.000198</td>\n",
       "      <td>-0.000208</td>\n",
       "      <td>0.001092</td>\n",
       "      <td>-0.000828</td>\n",
       "      <td>-0.000336</td>\n",
       "      <td>-0.001022</td>\n",
       "      <td>0.024024</td>\n",
       "      <td>-0.018212</td>\n",
       "      <td>-0.007389</td>\n",
       "      <td>-0.022490</td>\n",
       "      <td>0.000743</td>\n",
       "      <td>-0.000224</td>\n",
       "      <td>0.000198</td>\n",
       "      <td>-0.000208</td>\n",
       "      <td>0.001092</td>\n",
       "      <td>-0.000828</td>\n",
       "      <td>-0.000336</td>\n",
       "      <td>-0.001022</td>\n",
       "      <td>0.024024</td>\n",
       "      <td>-0.018212</td>\n",
       "      <td>-0.007389</td>\n",
       "      <td>-0.022490</td>\n",
       "    </tr>\n",
       "    <tr>\n",
       "      <th>...</th>\n",
       "      <td>...</td>\n",
       "      <td>...</td>\n",
       "      <td>...</td>\n",
       "      <td>...</td>\n",
       "      <td>...</td>\n",
       "      <td>...</td>\n",
       "      <td>...</td>\n",
       "      <td>...</td>\n",
       "      <td>...</td>\n",
       "      <td>...</td>\n",
       "      <td>...</td>\n",
       "      <td>...</td>\n",
       "      <td>...</td>\n",
       "      <td>...</td>\n",
       "      <td>...</td>\n",
       "      <td>...</td>\n",
       "      <td>...</td>\n",
       "      <td>...</td>\n",
       "      <td>...</td>\n",
       "      <td>...</td>\n",
       "      <td>...</td>\n",
       "      <td>...</td>\n",
       "      <td>...</td>\n",
       "      <td>...</td>\n",
       "      <td>...</td>\n",
       "      <td>...</td>\n",
       "      <td>...</td>\n",
       "      <td>...</td>\n",
       "      <td>...</td>\n",
       "    </tr>\n",
       "    <tr>\n",
       "      <th>1688</th>\n",
       "      <td>close_1day_w60_min/close_1day_w60_max</td>\n",
       "      <td>0.595547</td>\n",
       "      <td>0.600542</td>\n",
       "      <td>0.590993</td>\n",
       "      <td>0.568647</td>\n",
       "      <td>0.000593</td>\n",
       "      <td>0.002036</td>\n",
       "      <td>0.002398</td>\n",
       "      <td>-0.000019</td>\n",
       "      <td>0.000952</td>\n",
       "      <td>0.000954</td>\n",
       "      <td>0.000411</td>\n",
       "      <td>-0.000615</td>\n",
       "      <td>0.020702</td>\n",
       "      <td>0.020983</td>\n",
       "      <td>0.009042</td>\n",
       "      <td>-0.013533</td>\n",
       "      <td>0.000593</td>\n",
       "      <td>0.002036</td>\n",
       "      <td>0.002398</td>\n",
       "      <td>-0.000019</td>\n",
       "      <td>0.000952</td>\n",
       "      <td>0.000954</td>\n",
       "      <td>0.000411</td>\n",
       "      <td>-0.000615</td>\n",
       "      <td>0.020702</td>\n",
       "      <td>0.020983</td>\n",
       "      <td>0.009042</td>\n",
       "      <td>-0.013533</td>\n",
       "    </tr>\n",
       "    <tr>\n",
       "      <th>1689</th>\n",
       "      <td>tmos_close_1day_w60_min/tmos_close_1day_w60_max</td>\n",
       "      <td>0.541445</td>\n",
       "      <td>0.461925</td>\n",
       "      <td>0.500000</td>\n",
       "      <td>0.492402</td>\n",
       "      <td>0.001891</td>\n",
       "      <td>-0.001487</td>\n",
       "      <td>-0.000385</td>\n",
       "      <td>-0.000802</td>\n",
       "      <td>0.001732</td>\n",
       "      <td>-0.001234</td>\n",
       "      <td>-0.000404</td>\n",
       "      <td>-0.000824</td>\n",
       "      <td>0.020603</td>\n",
       "      <td>-0.019579</td>\n",
       "      <td>-0.008892</td>\n",
       "      <td>-0.018123</td>\n",
       "      <td>0.001891</td>\n",
       "      <td>-0.001487</td>\n",
       "      <td>-0.000385</td>\n",
       "      <td>-0.000802</td>\n",
       "      <td>0.001732</td>\n",
       "      <td>-0.001234</td>\n",
       "      <td>-0.000404</td>\n",
       "      <td>-0.000824</td>\n",
       "      <td>0.020603</td>\n",
       "      <td>-0.019579</td>\n",
       "      <td>-0.008892</td>\n",
       "      <td>-0.018123</td>\n",
       "    </tr>\n",
       "    <tr>\n",
       "      <th>1690</th>\n",
       "      <td>close_1day_w120_min/close_1day_w120_max</td>\n",
       "      <td>0.591421</td>\n",
       "      <td>0.606387</td>\n",
       "      <td>0.597311</td>\n",
       "      <td>0.543972</td>\n",
       "      <td>0.000432</td>\n",
       "      <td>0.002028</td>\n",
       "      <td>0.002294</td>\n",
       "      <td>-0.000271</td>\n",
       "      <td>0.000716</td>\n",
       "      <td>0.000564</td>\n",
       "      <td>-0.000101</td>\n",
       "      <td>-0.000985</td>\n",
       "      <td>0.015567</td>\n",
       "      <td>0.012406</td>\n",
       "      <td>-0.002230</td>\n",
       "      <td>-0.021675</td>\n",
       "      <td>0.000798</td>\n",
       "      <td>-0.000470</td>\n",
       "      <td>0.001379</td>\n",
       "      <td>-0.000829</td>\n",
       "      <td>0.000975</td>\n",
       "      <td>-0.000718</td>\n",
       "      <td>0.000155</td>\n",
       "      <td>-0.001057</td>\n",
       "      <td>0.021444</td>\n",
       "      <td>-0.015796</td>\n",
       "      <td>0.003406</td>\n",
       "      <td>-0.023251</td>\n",
       "    </tr>\n",
       "    <tr>\n",
       "      <th>1691</th>\n",
       "      <td>tmos_close_1day_w120_min/tmos_close_1day_w120_max</td>\n",
       "      <td>0.537178</td>\n",
       "      <td>0.500000</td>\n",
       "      <td>0.500000</td>\n",
       "      <td>0.501877</td>\n",
       "      <td>0.001126</td>\n",
       "      <td>-0.001355</td>\n",
       "      <td>-0.000385</td>\n",
       "      <td>-0.000810</td>\n",
       "      <td>0.001248</td>\n",
       "      <td>-0.001348</td>\n",
       "      <td>-0.000404</td>\n",
       "      <td>-0.000762</td>\n",
       "      <td>0.027453</td>\n",
       "      <td>-0.029657</td>\n",
       "      <td>-0.008892</td>\n",
       "      <td>-0.016765</td>\n",
       "      <td>0.001126</td>\n",
       "      <td>-0.001355</td>\n",
       "      <td>-0.000385</td>\n",
       "      <td>-0.000810</td>\n",
       "      <td>0.001248</td>\n",
       "      <td>-0.001348</td>\n",
       "      <td>-0.000404</td>\n",
       "      <td>-0.000762</td>\n",
       "      <td>0.027453</td>\n",
       "      <td>-0.029657</td>\n",
       "      <td>-0.008892</td>\n",
       "      <td>-0.016765</td>\n",
       "    </tr>\n",
       "    <tr>\n",
       "      <th>1692</th>\n",
       "      <td>ticker_code</td>\n",
       "      <td>0.605480</td>\n",
       "      <td>0.580809</td>\n",
       "      <td>0.541412</td>\n",
       "      <td>0.512442</td>\n",
       "      <td>0.001444</td>\n",
       "      <td>-0.000517</td>\n",
       "      <td>-0.000119</td>\n",
       "      <td>-0.000972</td>\n",
       "      <td>0.001752</td>\n",
       "      <td>-0.000449</td>\n",
       "      <td>-0.000109</td>\n",
       "      <td>-0.000918</td>\n",
       "      <td>0.038547</td>\n",
       "      <td>-0.009873</td>\n",
       "      <td>-0.002388</td>\n",
       "      <td>-0.020193</td>\n",
       "      <td>0.001444</td>\n",
       "      <td>-0.000517</td>\n",
       "      <td>-0.000119</td>\n",
       "      <td>-0.000972</td>\n",
       "      <td>0.001752</td>\n",
       "      <td>-0.000449</td>\n",
       "      <td>-0.000109</td>\n",
       "      <td>-0.000918</td>\n",
       "      <td>0.038547</td>\n",
       "      <td>-0.009873</td>\n",
       "      <td>-0.002388</td>\n",
       "      <td>-0.020193</td>\n",
       "    </tr>\n",
       "  </tbody>\n",
       "</table>\n",
       "<p>1693 rows × 29 columns</p>\n",
       "</div>"
      ],
      "text/plain": [
       "                                                feature  auc_train  auc_valid  \\\n",
       "0                                          close_w1_roc   0.535323   0.543623   \n",
       "1                                         volume_w1_roc   0.503029   0.499844   \n",
       "2                                     tmos_close_w1_roc   0.514648   0.510674   \n",
       "3                                     close_w5_norm_std   0.569341   0.586383   \n",
       "4                                 close_w5_mean_abs_pct   0.571410   0.587184   \n",
       "...                                                 ...        ...        ...   \n",
       "1688              close_1day_w60_min/close_1day_w60_max   0.595547   0.600542   \n",
       "1689    tmos_close_1day_w60_min/tmos_close_1day_w60_max   0.541445   0.461925   \n",
       "1690            close_1day_w120_min/close_1day_w120_max   0.591421   0.606387   \n",
       "1691  tmos_close_1day_w120_min/tmos_close_1day_w120_max   0.537178   0.500000   \n",
       "1692                                        ticker_code   0.605480   0.580809   \n",
       "\n",
       "      auc_test  auc_test2  mir_point@1_train  mir_point@1_valid  \\\n",
       "0     0.519700   0.523036           0.002266           0.001022   \n",
       "1     0.500334   0.497758           0.001491          -0.001721   \n",
       "2     0.514216   0.502819           0.002415           0.000311   \n",
       "3     0.543043   0.546192           0.000501           0.001260   \n",
       "4     0.544974   0.545675           0.000743          -0.000224   \n",
       "...        ...        ...                ...                ...   \n",
       "1688  0.590993   0.568647           0.000593           0.002036   \n",
       "1689  0.500000   0.492402           0.001891          -0.001487   \n",
       "1690  0.597311   0.543972           0.000432           0.002028   \n",
       "1691  0.500000   0.501877           0.001126          -0.001355   \n",
       "1692  0.541412   0.512442           0.001444          -0.000517   \n",
       "\n",
       "      mir_point@1_test  mir_point@1_test2  mir_day@1_train  mir_day@1_valid  \\\n",
       "0             0.000799           0.000328         0.002681         0.001012   \n",
       "1            -0.000640          -0.001548         0.001576        -0.001590   \n",
       "2             0.000287          -0.000820         0.001062        -0.000782   \n",
       "3             0.000649           0.000724         0.000402        -0.000534   \n",
       "4             0.000198          -0.000208         0.001092        -0.000828   \n",
       "...                ...                ...              ...              ...   \n",
       "1688          0.002398          -0.000019         0.000952         0.000954   \n",
       "1689         -0.000385          -0.000802         0.001732        -0.001234   \n",
       "1690          0.002294          -0.000271         0.000716         0.000564   \n",
       "1691         -0.000385          -0.000810         0.001248        -0.001348   \n",
       "1692         -0.000119          -0.000972         0.001752        -0.000449   \n",
       "\n",
       "      mir_day@1_test  mir_day@1_test2  mir_month@1_train  mir_month@1_valid  \\\n",
       "0           0.001155         0.000233           0.058847           0.022256   \n",
       "1          -0.000424        -0.001208           0.034681          -0.034989   \n",
       "2          -0.000834        -0.001247           0.021354          -0.016001   \n",
       "3          -0.000593        -0.002064           0.008719          -0.011744   \n",
       "4          -0.000336        -0.001022           0.024024          -0.018212   \n",
       "...              ...              ...                ...                ...   \n",
       "1688        0.000411        -0.000615           0.020702           0.020983   \n",
       "1689       -0.000404        -0.000824           0.020603          -0.019579   \n",
       "1690       -0.000101        -0.000985           0.015567           0.012406   \n",
       "1691       -0.000404        -0.000762           0.027453          -0.029657   \n",
       "1692       -0.000109        -0.000918           0.038547          -0.009873   \n",
       "\n",
       "      mir_month@1_test  mir_month@1_test2  mir_point@2_train  \\\n",
       "0             0.025420           0.005132           0.001516   \n",
       "1            -0.009323          -0.026578           0.001126   \n",
       "2            -0.018357          -0.026597           0.002415   \n",
       "3            -0.013044          -0.045406           0.000478   \n",
       "4            -0.007389          -0.022490           0.000743   \n",
       "...                ...                ...                ...   \n",
       "1688          0.009042          -0.013533           0.000593   \n",
       "1689         -0.008892          -0.018123           0.001891   \n",
       "1690         -0.002230          -0.021675           0.000798   \n",
       "1691         -0.008892          -0.016765           0.001126   \n",
       "1692         -0.002388          -0.020193           0.001444   \n",
       "\n",
       "      mir_point@2_valid  mir_point@2_test  mir_point@2_test2  mir_day@2_train  \\\n",
       "0             -0.000249          0.000158          -0.000142         0.002225   \n",
       "1             -0.001355         -0.000385          -0.000810         0.001248   \n",
       "2              0.000311          0.000287          -0.000820         0.001062   \n",
       "3              0.000294          0.000428           0.000310         0.000679   \n",
       "4             -0.000224          0.000198          -0.000208         0.001092   \n",
       "...                 ...               ...                ...              ...   \n",
       "1688           0.002036          0.002398          -0.000019         0.000952   \n",
       "1689          -0.001487         -0.000385          -0.000802         0.001732   \n",
       "1690          -0.000470          0.001379          -0.000829         0.000975   \n",
       "1691          -0.001355         -0.000385          -0.000810         0.001248   \n",
       "1692          -0.000517         -0.000119          -0.000972         0.001752   \n",
       "\n",
       "      mir_day@2_valid  mir_day@2_test  mir_day@2_test2  mir_month@2_train  \\\n",
       "0            0.000048        0.000772         0.000131           0.048951   \n",
       "1           -0.001348       -0.000404        -0.000762           0.027453   \n",
       "2           -0.000782       -0.000834        -0.001247           0.021354   \n",
       "3           -0.000816       -0.000486        -0.001414           0.014906   \n",
       "4           -0.000828       -0.000336        -0.001022           0.024024   \n",
       "...               ...             ...              ...                ...   \n",
       "1688         0.000954        0.000411        -0.000615           0.020702   \n",
       "1689        -0.001234       -0.000404        -0.000824           0.020603   \n",
       "1690        -0.000718        0.000155        -0.001057           0.021444   \n",
       "1691        -0.001348       -0.000404        -0.000762           0.027453   \n",
       "1692        -0.000449       -0.000109        -0.000918           0.038547   \n",
       "\n",
       "      mir_month@2_valid  mir_month@2_test  mir_month@2_test2  \n",
       "0              0.001062          0.016976           0.002873  \n",
       "1             -0.029657         -0.008892          -0.016765  \n",
       "2             -0.016001         -0.018357          -0.026597  \n",
       "3             -0.017963         -0.010693          -0.031101  \n",
       "4             -0.018212         -0.007389          -0.022490  \n",
       "...                 ...               ...                ...  \n",
       "1688           0.020983          0.009042          -0.013533  \n",
       "1689          -0.019579         -0.008892          -0.018123  \n",
       "1690          -0.015796          0.003406          -0.023251  \n",
       "1691          -0.029657         -0.008892          -0.016765  \n",
       "1692          -0.009873         -0.002388          -0.020193  \n",
       "\n",
       "[1693 rows x 29 columns]"
      ]
     },
     "execution_count": 185,
     "metadata": {},
     "output_type": "execute_result"
    }
   ],
   "source": [
    "pd.set_option('display.max_columns', 100)\n",
    "df_auc_features = pd.DataFrame(auc_features)\n",
    "df_auc_features"
   ]
  },
  {
   "cell_type": "code",
   "execution_count": null,
   "id": "e96e7bf3-619c-4ccc-ac00-4ef99ba4625a",
   "metadata": {},
   "outputs": [],
   "source": []
  },
  {
   "cell_type": "markdown",
   "id": "494b2b1e-333f-408c-a24c-35c638798142",
   "metadata": {},
   "source": [
    "#### auc <=0.525"
   ]
  },
  {
   "cell_type": "code",
   "execution_count": 189,
   "id": "6c91fb9b-306c-4218-a930-5331dafae4a2",
   "metadata": {},
   "outputs": [],
   "source": [
    "auc_treshold = 0.51"
   ]
  },
  {
   "cell_type": "code",
   "execution_count": 191,
   "id": "2a3dd8ba-b02c-4f6d-ae1d-98c3af6f0f1b",
   "metadata": {},
   "outputs": [
    {
     "data": {
      "text/plain": [
       "447"
      ]
     },
     "execution_count": 191,
     "metadata": {},
     "output_type": "execute_result"
    }
   ],
   "source": [
    "mask_auc_train  = df_auc_features['auc_train'] <= auc_treshold \n",
    "mask_auc_train.sum()"
   ]
  },
  {
   "cell_type": "code",
   "execution_count": 193,
   "id": "db6cd0a8-14ee-4708-b4e0-2201825f5a72",
   "metadata": {},
   "outputs": [
    {
     "data": {
      "text/plain": [
       "890"
      ]
     },
     "execution_count": 193,
     "metadata": {},
     "output_type": "execute_result"
    }
   ],
   "source": [
    "mask_auc_valid  = df_auc_features['auc_valid'] <= auc_treshold \n",
    "mask_auc_valid.sum()"
   ]
  },
  {
   "cell_type": "code",
   "execution_count": 195,
   "id": "1f734e30-8a55-4b46-9af2-66b38091a5e6",
   "metadata": {},
   "outputs": [
    {
     "data": {
      "text/plain": [
       "880"
      ]
     },
     "execution_count": 195,
     "metadata": {},
     "output_type": "execute_result"
    }
   ],
   "source": [
    "mask_auc_test  = df_auc_features['auc_test'] <= auc_treshold \n",
    "mask_auc_test.sum()"
   ]
  },
  {
   "cell_type": "code",
   "execution_count": 197,
   "id": "eff55f09-4c76-4fb7-893f-fb8d0e767fb1",
   "metadata": {},
   "outputs": [
    {
     "data": {
      "text/plain": [
       "1175"
      ]
     },
     "execution_count": 197,
     "metadata": {},
     "output_type": "execute_result"
    }
   ],
   "source": [
    "(mask_auc_train | mask_auc_valid | mask_auc_test).sum()"
   ]
  },
  {
   "cell_type": "code",
   "execution_count": null,
   "id": "b12318c9-0417-4fe9-beaf-fa556f7eb8b3",
   "metadata": {},
   "outputs": [],
   "source": []
  },
  {
   "cell_type": "code",
   "execution_count": 200,
   "id": "c020802e-7fb6-475e-9d57-8176e3182c53",
   "metadata": {},
   "outputs": [
    {
     "data": {
      "text/plain": [
       "784"
      ]
     },
     "execution_count": 200,
     "metadata": {},
     "output_type": "execute_result"
    }
   ],
   "source": [
    "mask_auc_test2  = df_auc_features['auc_test2'] <= auc_treshold \n",
    "mask_auc_test2.sum()"
   ]
  },
  {
   "cell_type": "code",
   "execution_count": 202,
   "id": "b8b58f1e-774f-4bd0-87b9-7f0f4c39258c",
   "metadata": {},
   "outputs": [
    {
     "data": {
      "text/plain": [
       "1253"
      ]
     },
     "execution_count": 202,
     "metadata": {},
     "output_type": "execute_result"
    }
   ],
   "source": [
    "(mask_auc_train | mask_auc_valid | mask_auc_test | mask_auc_test2).sum()"
   ]
  },
  {
   "cell_type": "code",
   "execution_count": null,
   "id": "3f357fff-304a-4fa0-889e-d6c2e1e3fdd3",
   "metadata": {},
   "outputs": [],
   "source": []
  },
  {
   "cell_type": "code",
   "execution_count": null,
   "id": "516b68e7-9833-4e7a-b37f-29fa28cb6c82",
   "metadata": {},
   "outputs": [],
   "source": []
  },
  {
   "cell_type": "markdown",
   "id": "41389361-1e65-470a-b842-50b3a83a7ce1",
   "metadata": {},
   "source": [
    "#### delta_auc > 0.05"
   ]
  },
  {
   "cell_type": "code",
   "execution_count": 207,
   "id": "4402e22a-4bcf-4ee9-b3ea-c4fe6e3c9936",
   "metadata": {},
   "outputs": [],
   "source": [
    "auc_delta_treshold  = 0.02"
   ]
  },
  {
   "cell_type": "code",
   "execution_count": 209,
   "id": "2f334402-19fe-4a10-a9f6-1ceefc4cccc3",
   "metadata": {},
   "outputs": [
    {
     "data": {
      "text/plain": [
       "716"
      ]
     },
     "execution_count": 209,
     "metadata": {},
     "output_type": "execute_result"
    }
   ],
   "source": [
    "mask_auc_delta_valid = (df_auc_features['auc_train'] - df_auc_features['auc_valid']).abs() > auc_delta_treshold\n",
    "mask_auc_delta_valid.sum()"
   ]
  },
  {
   "cell_type": "code",
   "execution_count": 211,
   "id": "77063ca4-24d6-4bfd-9861-42a85a311312",
   "metadata": {},
   "outputs": [
    {
     "data": {
      "text/plain": [
       "597"
      ]
     },
     "execution_count": 211,
     "metadata": {},
     "output_type": "execute_result"
    }
   ],
   "source": [
    "mask_auc_delta_test = (df_auc_features['auc_train'] - df_auc_features['auc_test']).abs() > auc_delta_treshold\n",
    "mask_auc_delta_test.sum()"
   ]
  },
  {
   "cell_type": "code",
   "execution_count": 213,
   "id": "9e33118e-6816-4163-94d7-563286a4f73b",
   "metadata": {},
   "outputs": [
    {
     "data": {
      "text/plain": [
       "907"
      ]
     },
     "execution_count": 213,
     "metadata": {},
     "output_type": "execute_result"
    }
   ],
   "source": [
    "(mask_auc_delta_valid | mask_auc_delta_test).sum()"
   ]
  },
  {
   "cell_type": "code",
   "execution_count": null,
   "id": "818a61e9-9721-4ccd-b725-05861a7524dc",
   "metadata": {},
   "outputs": [],
   "source": []
  },
  {
   "cell_type": "code",
   "execution_count": 216,
   "id": "08710988-d357-4012-9f74-3233051df104",
   "metadata": {},
   "outputs": [
    {
     "data": {
      "text/plain": [
       "613"
      ]
     },
     "execution_count": 216,
     "metadata": {},
     "output_type": "execute_result"
    }
   ],
   "source": [
    "mask_auc_delta_test2 = (df_auc_features['auc_train'] - df_auc_features['auc_test2']).abs() > auc_delta_treshold\n",
    "mask_auc_delta_test2.sum()"
   ]
  },
  {
   "cell_type": "code",
   "execution_count": 218,
   "id": "a7eaa5c1-9eaf-4aaa-b118-40155fa9ed5e",
   "metadata": {},
   "outputs": [
    {
     "data": {
      "text/plain": [
       "1020"
      ]
     },
     "execution_count": 218,
     "metadata": {},
     "output_type": "execute_result"
    }
   ],
   "source": [
    "(mask_auc_delta_valid | mask_auc_delta_test | mask_auc_delta_test2).sum()"
   ]
  },
  {
   "cell_type": "code",
   "execution_count": null,
   "id": "775e6f6b-f367-481e-8335-7fe474b2e818",
   "metadata": {},
   "outputs": [],
   "source": []
  },
  {
   "cell_type": "code",
   "execution_count": null,
   "id": "61e6c5b7-828b-4511-955e-74a79353f95a",
   "metadata": {},
   "outputs": [],
   "source": []
  },
  {
   "cell_type": "code",
   "execution_count": null,
   "id": "dfd4d1d2-835e-4105-8fc9-51d23969f5d7",
   "metadata": {},
   "outputs": [],
   "source": []
  },
  {
   "cell_type": "markdown",
   "id": "0e6ff173-8495-4965-b6c7-e70cc373bf08",
   "metadata": {},
   "source": [
    "#### union criterias"
   ]
  },
  {
   "cell_type": "code",
   "execution_count": 224,
   "id": "82441312-6e31-4590-9ec9-f51e95bf15a5",
   "metadata": {},
   "outputs": [
    {
     "data": {
      "text/plain": [
       "1454"
      ]
     },
     "execution_count": 224,
     "metadata": {},
     "output_type": "execute_result"
    }
   ],
   "source": [
    "mask_criterias1 = mask_auc_train | mask_auc_valid | mask_auc_test | mask_auc_delta_valid | mask_auc_delta_test\n",
    "mask_criterias1.sum()"
   ]
  },
  {
   "cell_type": "code",
   "execution_count": 226,
   "id": "60c05f6f-bfa3-44f3-a6a2-a3869f69d328",
   "metadata": {},
   "outputs": [
    {
     "data": {
      "text/plain": [
       "1528"
      ]
     },
     "execution_count": 226,
     "metadata": {},
     "output_type": "execute_result"
    }
   ],
   "source": [
    "mask_criterias2 = mask_auc_train | mask_auc_valid | mask_auc_test | mask_auc_test2 | mask_auc_delta_valid | mask_auc_delta_test | mask_auc_delta_test2\n",
    "mask_criterias2.sum()"
   ]
  },
  {
   "cell_type": "code",
   "execution_count": null,
   "id": "c079a4a2-7dc9-448b-bd6c-998fa1c59cb9",
   "metadata": {},
   "outputs": [],
   "source": []
  },
  {
   "cell_type": "code",
   "execution_count": 229,
   "id": "30a29847-aa57-44e4-a761-bab51f321fee",
   "metadata": {
    "scrolled": true
   },
   "outputs": [
    {
     "data": {
      "text/plain": [
       "(239,\n",
       " array(['close_w1_roc', 'tmos_close_w1_roc', 'close_w5_roc',\n",
       "        'tmos_close_w5_mean_abs_pct', 'tmos_close_w5_rsi', 'close_w10_roc',\n",
       "        'tmos_close_w10_norm_std', 'tmos_close_w10_roc', 'close_w20_alpha',\n",
       "        'close_w20_roc', 'tmos_close_w20_norm_std', 'tmos_close_w20_rsi',\n",
       "        'tmos_close_w20_roc', 'close_w30_alpha', 'close_w30_roc',\n",
       "        'tmos_close_w30_norm_std', 'tmos_close_w30_alpha',\n",
       "        'tmos_close_w30_rsi', 'tmos_close_w30_roc',\n",
       "        'close_w30_lvl_1-1.005', 'close_w30_lvl_-0.99-0.995',\n",
       "        'close_w30_lvl_-0.98-0.99', 'close_w30_lvl_1.02-1.03',\n",
       "        'close_w30_lvl_-0.97-0.98', 'close_w30_lvl_-0.96-0.97',\n",
       "        'tmos_close_w30_lvl_1-1.005', 'tmos_close_w30_lvl_-0.985-0.99',\n",
       "        'tmos_close_w60_mean_abs_pct', 'close_w120_lvl_1.01-1.02',\n",
       "        'close_w120_lvl_-0.96-0.97', 'tmos_close_w120_lvl_1.02-1.03',\n",
       "        'close_1hour_w1_roc', 'tmos_close_1hour_w1_roc',\n",
       "        'close_1hour_w5_alpha', 'close_1hour_w5_rsi', 'close_1hour_w5_roc',\n",
       "        'tmos_close_1hour_w5_norm_std', 'tmos_close_1hour_w5_mean_abs_pct',\n",
       "        'tmos_close_1hour_w5_alpha', 'tmos_close_1hour_w5_roc',\n",
       "        'tmos_close_1hour_w10_norm_std',\n",
       "        'tmos_close_1hour_w10_mean_abs_pct', 'tmos_close_1hour_w20_alpha',\n",
       "        'close_1hour_w30_norm_std', 'close_1hour_w30_mean_abs_pct',\n",
       "        'close_1hour_w30_lvl_1.005-1.01', 'close_1hour_w30_lvl_-0.97-0.98',\n",
       "        'close_1hour_w30_lvl_-0.96-0.97', 'close_1hour_w60_norm_std',\n",
       "        'close_1hour_w60_mean_abs_pct', 'close_1hour_w120_lvl_1.005-1.01',\n",
       "        'close_1hour_w120_lvl_-0.99-0.995',\n",
       "        'close_1hour_w120_lvl_1.01-1.02', 'close_1hour_w120_lvl_1.02-1.03',\n",
       "        'close_1hour_w120_lvl_1.03-1.04', 'tmos_close_1day_w5_roc',\n",
       "        'close_1day_w20_norm_std', 'volume_1day_w20_roc',\n",
       "        'tmos_close_1day_w20_norm_std', 'close_1day_w30_norm_std',\n",
       "        'close_1day_w30_lvl_1.005-1.01', 'close_1day_w30_lvl_1.01-1.02',\n",
       "        'close_1day_w30_lvl_1.02-1.03', 'close_1day_w30_lvl_1.03-1.04',\n",
       "        'close_1day_w30_lvl_-0.96-0.97', 'close_1day_w30_lvl_1.05-1.07',\n",
       "        'tmos_close_1day_w30_lvl_1.005-1.01', 'close_1day_w120_norm_std',\n",
       "        'close_1day_w120_mean_abs_pct', 'close_1day_w120_lvl_1.005-1.01',\n",
       "        'close_1day_w120_lvl_-0.99-0.995', 'close_1day_w120_lvl_1.01-1.02',\n",
       "        'close_1day_w120_lvl_1.02-1.03', 'close_1day_w120_lvl_1.03-1.04',\n",
       "        'close_1day_w120_lvl_-0.96-0.97', 'close_1day_w120_lvl_-0.95-0.96',\n",
       "        'close_1day_w120_lvl_-0.9299999999999999-0.95',\n",
       "        'close_w1_roc/close_w30_alpha',\n",
       "        'tmos_close_w1_roc/tmos_close_w60_alpha',\n",
       "        'tmos_close_w1_roc/tmos_close_w5_roc',\n",
       "        'tmos_close_w5_std/tmos_close_w10_std',\n",
       "        'tmos_close_w5_norm_std/tmos_close_w10_norm_std',\n",
       "        'close_w20_rsi/close_w60_rsi', 'close_w20_rsi/close_w120_rsi',\n",
       "        'close_w30_rsi/close_w60_rsi',\n",
       "        'tmos_close_w5_rsi/tmos_close_w120_rsi',\n",
       "        'tmos_close_w20_rsi/tmos_close_w120_rsi',\n",
       "        'tmos_close_w30_rsi/tmos_close_w120_rsi', 'close/close_w5_ma',\n",
       "        'close/close_w10_ma', 'close/close_w20_ma', 'close/close_w30_ma',\n",
       "        'close/close_w60_ma', 'close_w5_ma/close_w10_ma',\n",
       "        'close_w5_ma/close_w20_ma', 'close_w5_ma/close_w30_ma',\n",
       "        'close_w10_ma/close_w20_ma', 'close_w10_ma/close_w30_ma',\n",
       "        'close_w20_ma/close_w30_ma', 'tmos_close/tmos_close_w5_ma',\n",
       "        'tmos_close/tmos_close_w10_ma', 'tmos_close/tmos_close_w30_ma',\n",
       "        'tmos_close_w5_ma/tmos_close_w10_ma',\n",
       "        'tmos_close_w10_ma/tmos_close_w20_ma',\n",
       "        'tmos_close_w20_ma/tmos_close_w30_ma', 'close/close_w5_expma',\n",
       "        'close/close_w10_expma', 'close/close_w20_expma',\n",
       "        'close/close_w30_expma', 'close_w5_expma/close_w10_expma',\n",
       "        'close_w5_expma/close_w20_expma', 'close_w5_expma/close_w30_expma',\n",
       "        'close_w5_expma/close_w60_expma',\n",
       "        'close_w10_expma/close_w20_expma',\n",
       "        'close_w10_expma/close_w30_expma',\n",
       "        'close_w10_expma/close_w60_expma',\n",
       "        'tmos_close/tmos_close_w10_expma',\n",
       "        'tmos_close/tmos_close_w20_expma',\n",
       "        'tmos_close_w5_expma/tmos_close_w20_expma',\n",
       "        'tmos_close_w10_expma/tmos_close_w20_expma', 'close_w5_min/close',\n",
       "        'close_w10_min/close', 'close_w20_min/close',\n",
       "        'close_w30_min/close', 'tmos_close_w10_min/tmos_close',\n",
       "        'tmos_close_w20_min/tmos_close', 'close_w5_ma_low_2std/close',\n",
       "        'close_w5_ma_low_3std/close',\n",
       "        'tmos_close_w5_ma_low_2std/tmos_close',\n",
       "        'tmos_close_w5_ma_low_3std/tmos_close',\n",
       "        'tmos_close_w5_ma_up_3std/tmos_close',\n",
       "        'close_w10_ma_low_2std/close', 'close_w10_ma_low_3std/close',\n",
       "        'tmos_close_w10_ma_low_2std/tmos_close',\n",
       "        'tmos_close_w10_ma_low_3std/tmos_close',\n",
       "        'tmos_close_w10_ma_up_3std/tmos_close',\n",
       "        'close_w20_ma_low_2std/close', 'close_w20_ma_low_3std/close',\n",
       "        'tmos_close_w20_ma_low_2std/tmos_close',\n",
       "        'tmos_close_w20_ma_low_3std/tmos_close',\n",
       "        'tmos_close_w20_ma_up_3std/tmos_close',\n",
       "        'close_w30_ma_low_2std/close', 'close_w30_ma_low_3std/close',\n",
       "        'tmos_close_w30_ma_low_3std/tmos_close',\n",
       "        'close_w60_ma_low_3std/close',\n",
       "        'tmos_close_w60_ma_up_2std/tmos_close',\n",
       "        'close_w120_ma_low_3std/close',\n",
       "        'tmos_close_w20_min/tmos_close_w20_max',\n",
       "        'tmos_close_w30_min/tmos_close_w30_max',\n",
       "        'close_w60_min/close_w60_max', 'close_w120_min/close_w120_max',\n",
       "        'close_1hour_w1_roc/close_1hour_w20_alpha',\n",
       "        'close_1hour_w1_roc/close_1hour_w30_alpha',\n",
       "        'close_1hour_w1_roc/close_1hour_w60_alpha',\n",
       "        'close_1hour_w1_roc/close_1hour_w120_alpha',\n",
       "        'tmos_close_1hour_w1_roc/tmos_close_1hour_w5_alpha',\n",
       "        'tmos_close_1hour_w1_roc/tmos_close_1hour_w10_alpha',\n",
       "        'tmos_close_1hour_w1_roc/tmos_close_1hour_w30_alpha',\n",
       "        'tmos_close_1hour_w1_roc/tmos_close_1hour_w120_alpha',\n",
       "        'close_1hour_w10_roc/close_1hour_w60_roc',\n",
       "        'close_1hour_w10_roc/close_1hour_w120_roc',\n",
       "        'tmos_close_1hour_w20_roc/tmos_close_1hour_w120_roc',\n",
       "        'tmos_close_1hour_w30_roc/tmos_close_1hour_w120_roc',\n",
       "        'close_1hour_w20_std/close_1hour_w120_std',\n",
       "        'tmos_close_1hour_w5_std/tmos_close_1hour_w60_std',\n",
       "        'tmos_close_1hour_w5_std/tmos_close_1hour_w120_std',\n",
       "        'tmos_close_1hour_w10_std/tmos_close_1hour_w120_std',\n",
       "        'tmos_close_1hour_w20_std/tmos_close_1hour_w60_std',\n",
       "        'tmos_close_1hour_w5_norm_std/tmos_close_1hour_w120_norm_std',\n",
       "        'tmos_close_1hour_w10_norm_std/tmos_close_1hour_w120_norm_std',\n",
       "        'tmos_close_1hour_w20_norm_std/tmos_close_1hour_w60_norm_std',\n",
       "        'tmos_close_1hour_w30_norm_std/tmos_close_1hour_w60_norm_std',\n",
       "        'close_1hour_w5_rsi/close_1hour_w30_rsi',\n",
       "        'close_1hour_w5_rsi/close_1hour_w120_rsi',\n",
       "        'close_1hour_w10_rsi/close_1hour_w60_rsi',\n",
       "        'close_1hour_w60_rsi/close_1hour_w120_rsi',\n",
       "        'tmos_close_1hour_w30_rsi/tmos_close_1hour_w60_rsi',\n",
       "        'close/close_1hour_w5_ma', 'close/close_1hour_w10_ma',\n",
       "        'close_1hour_w5_ma/close_1hour_w10_ma',\n",
       "        'close_1hour_w5_ma/close_1hour_w60_ma',\n",
       "        'close_1hour_w10_ma/close_1hour_w60_ma',\n",
       "        'close_1hour_w20_ma/close_1hour_w30_ma',\n",
       "        'volume_1hour_w10_ma/volume_1hour_w20_ma',\n",
       "        'tmos_close/tmos_close_1hour_w10_ma',\n",
       "        'tmos_close_1hour_w20_ma/tmos_close_1hour_w60_ma',\n",
       "        'close/close_1hour_w5_expma', 'close/close_1hour_w10_expma',\n",
       "        'volume_1hour_w10_expma/volume_1hour_w20_expma',\n",
       "        'tmos_close/tmos_close_1hour_w10_expma',\n",
       "        'close_1hour_w5_min/close', 'close_1hour_w10_min/close',\n",
       "        'tmos_close_1hour_w5_min/tmos_close',\n",
       "        'tmos_close_1hour_w10_min/tmos_close', 'close_1hour_w5_max/close',\n",
       "        'close_1hour_w10_max/close', 'tmos_close_1hour_w20_max/tmos_close',\n",
       "        'close_1hour_w5_ma_low_2std/close',\n",
       "        'tmos_close_1hour_w5_ma_low_2std/tmos_close',\n",
       "        'tmos_close_1hour_w5_ma_low_3std/tmos_close',\n",
       "        'close_1hour_w10_ma_low_2std/close',\n",
       "        'close_1hour_w10_ma_low_3std/close',\n",
       "        'close_1hour_w20_ma_low_3std/close',\n",
       "        'close_1hour_w30_min/close_1hour_w30_max',\n",
       "        'close_1hour_w60_min/close_1hour_w60_max',\n",
       "        'close_1day_w1_roc/close_1day_w5_alpha',\n",
       "        'close_1day_w5_alpha/close_1day_w20_alpha',\n",
       "        'close_1day_w20_alpha/close_1day_w120_alpha',\n",
       "        'close_1day_w30_alpha/close_1day_w60_alpha',\n",
       "        'close_1day_w60_alpha/close_1day_w120_alpha',\n",
       "        'close_1day_w1_roc/close_1day_w20_roc',\n",
       "        'close_1day_w1_roc/close_1day_w30_roc',\n",
       "        'close_1day_w1_roc/close_1day_w120_roc',\n",
       "        'close_1day_w5_roc/close_1day_w30_roc',\n",
       "        'close_1day_w20_roc/close_1day_w30_roc',\n",
       "        'close_1day_w20_roc/close_1day_w120_roc',\n",
       "        'close_1day_w60_roc/close_1day_w120_roc',\n",
       "        'tmos_close_1day_w5_std/tmos_close_1day_w30_std',\n",
       "        'close_1day_w20_norm_std/close_1day_w120_norm_std',\n",
       "        'tmos_close_1day_w5_norm_std/tmos_close_1day_w30_norm_std',\n",
       "        'tmos_close_1day_w30_norm_std/tmos_close_1day_w60_norm_std',\n",
       "        'tmos_close_1day_w60_norm_std/tmos_close_1day_w120_norm_std',\n",
       "        'tmos_close_1day_w5_rsi/tmos_close_1day_w20_rsi',\n",
       "        'close_1day_w5_ma/close_1day_w10_ma',\n",
       "        'close_1day_w5_ma/close_1day_w120_ma',\n",
       "        'close_1day_w10_ma/close_1day_w120_ma',\n",
       "        'close_1day_w20_ma/close_1day_w30_ma',\n",
       "        'volume_1day_w5_ma/volume_1day_w20_ma',\n",
       "        'volume_1day_w10_ma/volume_1day_w20_ma',\n",
       "        'tmos_close/tmos_close_1day_w10_ma',\n",
       "        'volume_1day_w10_expma/volume_1day_w20_expma',\n",
       "        'tmos_close_1day_w60_ma_low_2std/tmos_close',\n",
       "        'tmos_close_1day_w60_ma_low_3std/tmos_close',\n",
       "        'close_1day_w5_min/close_1day_w5_max',\n",
       "        'close_1day_w20_min/close_1day_w20_max',\n",
       "        'tmos_close_1day_w20_min/tmos_close_1day_w20_max',\n",
       "        'close_1day_w30_min/close_1day_w30_max',\n",
       "        'close_1day_w60_min/close_1day_w60_max',\n",
       "        'close_1day_w120_min/close_1day_w120_max'], dtype=object))"
      ]
     },
     "execution_count": 229,
     "metadata": {},
     "output_type": "execute_result"
    }
   ],
   "source": [
    "features_criteria1 = df_auc_features['feature'].values[~mask_criterias1]\n",
    "len(features_criteria1), features_criteria1"
   ]
  },
  {
   "cell_type": "code",
   "execution_count": 231,
   "id": "f3061f26-e738-41af-932d-6597ca601611",
   "metadata": {
    "scrolled": true
   },
   "outputs": [
    {
     "data": {
      "text/html": [
       "<div>\n",
       "<style scoped>\n",
       "    .dataframe tbody tr th:only-of-type {\n",
       "        vertical-align: middle;\n",
       "    }\n",
       "\n",
       "    .dataframe tbody tr th {\n",
       "        vertical-align: top;\n",
       "    }\n",
       "\n",
       "    .dataframe thead th {\n",
       "        text-align: right;\n",
       "    }\n",
       "</style>\n",
       "<table border=\"1\" class=\"dataframe\">\n",
       "  <thead>\n",
       "    <tr style=\"text-align: right;\">\n",
       "      <th></th>\n",
       "      <th>feature</th>\n",
       "      <th>auc_train</th>\n",
       "      <th>auc_valid</th>\n",
       "      <th>auc_test</th>\n",
       "      <th>auc_test2</th>\n",
       "      <th>mir_point@1_train</th>\n",
       "      <th>mir_point@1_valid</th>\n",
       "      <th>mir_point@1_test</th>\n",
       "      <th>mir_point@1_test2</th>\n",
       "      <th>mir_day@1_train</th>\n",
       "      <th>mir_day@1_valid</th>\n",
       "      <th>mir_day@1_test</th>\n",
       "      <th>mir_day@1_test2</th>\n",
       "      <th>mir_month@1_train</th>\n",
       "      <th>mir_month@1_valid</th>\n",
       "      <th>mir_month@1_test</th>\n",
       "      <th>mir_month@1_test2</th>\n",
       "      <th>mir_point@2_train</th>\n",
       "      <th>mir_point@2_valid</th>\n",
       "      <th>mir_point@2_test</th>\n",
       "      <th>mir_point@2_test2</th>\n",
       "      <th>mir_day@2_train</th>\n",
       "      <th>mir_day@2_valid</th>\n",
       "      <th>mir_day@2_test</th>\n",
       "      <th>mir_day@2_test2</th>\n",
       "      <th>mir_month@2_train</th>\n",
       "      <th>mir_month@2_valid</th>\n",
       "      <th>mir_month@2_test</th>\n",
       "      <th>mir_month@2_test2</th>\n",
       "    </tr>\n",
       "  </thead>\n",
       "  <tbody>\n",
       "    <tr>\n",
       "      <th>1683</th>\n",
       "      <td>close_1day_w20_min/close_1day_w20_max</td>\n",
       "      <td>0.602901</td>\n",
       "      <td>0.613649</td>\n",
       "      <td>0.601401</td>\n",
       "      <td>0.575738</td>\n",
       "      <td>0.001088</td>\n",
       "      <td>0.000177</td>\n",
       "      <td>0.001365</td>\n",
       "      <td>0.000048</td>\n",
       "      <td>0.001348</td>\n",
       "      <td>-0.000418</td>\n",
       "      <td>-1.021693e-04</td>\n",
       "      <td>-0.000976</td>\n",
       "      <td>0.029305</td>\n",
       "      <td>-0.009197</td>\n",
       "      <td>-0.002248</td>\n",
       "      <td>-0.021478</td>\n",
       "      <td>0.001088</td>\n",
       "      <td>0.000177</td>\n",
       "      <td>0.001365</td>\n",
       "      <td>0.000048</td>\n",
       "      <td>0.001348</td>\n",
       "      <td>-0.000418</td>\n",
       "      <td>-1.021693e-04</td>\n",
       "      <td>-0.000976</td>\n",
       "      <td>0.029305</td>\n",
       "      <td>-0.009197</td>\n",
       "      <td>-0.002248</td>\n",
       "      <td>-0.021478</td>\n",
       "    </tr>\n",
       "    <tr>\n",
       "      <th>224</th>\n",
       "      <td>close_1hour_w60_mean_abs_pct</td>\n",
       "      <td>0.594656</td>\n",
       "      <td>0.609802</td>\n",
       "      <td>0.596936</td>\n",
       "      <td>0.565564</td>\n",
       "      <td>0.001106</td>\n",
       "      <td>0.000007</td>\n",
       "      <td>0.000885</td>\n",
       "      <td>-0.000229</td>\n",
       "      <td>0.001097</td>\n",
       "      <td>-0.001157</td>\n",
       "      <td>-2.334575e-04</td>\n",
       "      <td>-0.000890</td>\n",
       "      <td>0.024142</td>\n",
       "      <td>-0.025454</td>\n",
       "      <td>-0.005136</td>\n",
       "      <td>-0.019580</td>\n",
       "      <td>0.001106</td>\n",
       "      <td>0.000007</td>\n",
       "      <td>0.000885</td>\n",
       "      <td>-0.000229</td>\n",
       "      <td>0.001097</td>\n",
       "      <td>-0.001157</td>\n",
       "      <td>-2.334575e-04</td>\n",
       "      <td>-0.000890</td>\n",
       "      <td>0.024142</td>\n",
       "      <td>-0.025454</td>\n",
       "      <td>-0.005136</td>\n",
       "      <td>-0.019580</td>\n",
       "    </tr>\n",
       "    <tr>\n",
       "      <th>186</th>\n",
       "      <td>close_1hour_w30_mean_abs_pct</td>\n",
       "      <td>0.596556</td>\n",
       "      <td>0.609371</td>\n",
       "      <td>0.597005</td>\n",
       "      <td>0.563452</td>\n",
       "      <td>0.000778</td>\n",
       "      <td>-0.000166</td>\n",
       "      <td>0.001046</td>\n",
       "      <td>-0.000313</td>\n",
       "      <td>0.000832</td>\n",
       "      <td>-0.001122</td>\n",
       "      <td>-1.219816e-07</td>\n",
       "      <td>-0.001214</td>\n",
       "      <td>0.018298</td>\n",
       "      <td>-0.024679</td>\n",
       "      <td>-0.000003</td>\n",
       "      <td>-0.026704</td>\n",
       "      <td>0.000778</td>\n",
       "      <td>-0.000166</td>\n",
       "      <td>0.001046</td>\n",
       "      <td>-0.000313</td>\n",
       "      <td>0.000832</td>\n",
       "      <td>-0.001122</td>\n",
       "      <td>-1.219816e-07</td>\n",
       "      <td>-0.001214</td>\n",
       "      <td>0.018298</td>\n",
       "      <td>-0.024679</td>\n",
       "      <td>-0.000003</td>\n",
       "      <td>-0.026704</td>\n",
       "    </tr>\n",
       "    <tr>\n",
       "      <th>1686</th>\n",
       "      <td>close_1day_w30_min/close_1day_w30_max</td>\n",
       "      <td>0.605430</td>\n",
       "      <td>0.609260</td>\n",
       "      <td>0.593327</td>\n",
       "      <td>0.590771</td>\n",
       "      <td>0.001271</td>\n",
       "      <td>0.000708</td>\n",
       "      <td>0.001346</td>\n",
       "      <td>0.000420</td>\n",
       "      <td>0.001629</td>\n",
       "      <td>0.000070</td>\n",
       "      <td>-2.724209e-05</td>\n",
       "      <td>-0.000749</td>\n",
       "      <td>0.035589</td>\n",
       "      <td>0.001533</td>\n",
       "      <td>-0.000599</td>\n",
       "      <td>-0.016476</td>\n",
       "      <td>0.001271</td>\n",
       "      <td>0.000708</td>\n",
       "      <td>0.001346</td>\n",
       "      <td>0.000420</td>\n",
       "      <td>0.001629</td>\n",
       "      <td>0.000070</td>\n",
       "      <td>-2.724209e-05</td>\n",
       "      <td>-0.000749</td>\n",
       "      <td>0.035589</td>\n",
       "      <td>0.001533</td>\n",
       "      <td>-0.000599</td>\n",
       "      <td>-0.016476</td>\n",
       "    </tr>\n",
       "    <tr>\n",
       "      <th>304</th>\n",
       "      <td>close_1day_w20_norm_std</td>\n",
       "      <td>0.592848</td>\n",
       "      <td>0.609227</td>\n",
       "      <td>0.587976</td>\n",
       "      <td>0.571248</td>\n",
       "      <td>0.001458</td>\n",
       "      <td>0.000294</td>\n",
       "      <td>0.001109</td>\n",
       "      <td>0.000045</td>\n",
       "      <td>0.001756</td>\n",
       "      <td>-0.000575</td>\n",
       "      <td>-4.825440e-04</td>\n",
       "      <td>-0.001116</td>\n",
       "      <td>0.038640</td>\n",
       "      <td>-0.012641</td>\n",
       "      <td>-0.010616</td>\n",
       "      <td>-0.024560</td>\n",
       "      <td>0.001458</td>\n",
       "      <td>0.000294</td>\n",
       "      <td>0.001109</td>\n",
       "      <td>0.000045</td>\n",
       "      <td>0.001756</td>\n",
       "      <td>-0.000575</td>\n",
       "      <td>-4.825440e-04</td>\n",
       "      <td>-0.001116</td>\n",
       "      <td>0.038640</td>\n",
       "      <td>-0.012641</td>\n",
       "      <td>-0.010616</td>\n",
       "      <td>-0.024560</td>\n",
       "    </tr>\n",
       "    <tr>\n",
       "      <th>...</th>\n",
       "      <td>...</td>\n",
       "      <td>...</td>\n",
       "      <td>...</td>\n",
       "      <td>...</td>\n",
       "      <td>...</td>\n",
       "      <td>...</td>\n",
       "      <td>...</td>\n",
       "      <td>...</td>\n",
       "      <td>...</td>\n",
       "      <td>...</td>\n",
       "      <td>...</td>\n",
       "      <td>...</td>\n",
       "      <td>...</td>\n",
       "      <td>...</td>\n",
       "      <td>...</td>\n",
       "      <td>...</td>\n",
       "      <td>...</td>\n",
       "      <td>...</td>\n",
       "      <td>...</td>\n",
       "      <td>...</td>\n",
       "      <td>...</td>\n",
       "      <td>...</td>\n",
       "      <td>...</td>\n",
       "      <td>...</td>\n",
       "      <td>...</td>\n",
       "      <td>...</td>\n",
       "      <td>...</td>\n",
       "      <td>...</td>\n",
       "      <td>...</td>\n",
       "    </tr>\n",
       "    <tr>\n",
       "      <th>1477</th>\n",
       "      <td>tmos_close_1day_w5_rsi/tmos_close_1day_w20_rsi</td>\n",
       "      <td>0.513343</td>\n",
       "      <td>0.510567</td>\n",
       "      <td>0.526242</td>\n",
       "      <td>0.505014</td>\n",
       "      <td>0.001552</td>\n",
       "      <td>0.000349</td>\n",
       "      <td>0.001243</td>\n",
       "      <td>-0.000290</td>\n",
       "      <td>0.001957</td>\n",
       "      <td>0.001147</td>\n",
       "      <td>-1.844466e-04</td>\n",
       "      <td>-0.000661</td>\n",
       "      <td>0.007415</td>\n",
       "      <td>0.006455</td>\n",
       "      <td>-0.000944</td>\n",
       "      <td>-0.004404</td>\n",
       "      <td>0.001552</td>\n",
       "      <td>0.000349</td>\n",
       "      <td>0.001243</td>\n",
       "      <td>-0.000290</td>\n",
       "      <td>0.001957</td>\n",
       "      <td>0.001147</td>\n",
       "      <td>-1.844466e-04</td>\n",
       "      <td>-0.000661</td>\n",
       "      <td>0.007415</td>\n",
       "      <td>0.006455</td>\n",
       "      <td>-0.000944</td>\n",
       "      <td>-0.004404</td>\n",
       "    </tr>\n",
       "    <tr>\n",
       "      <th>35</th>\n",
       "      <td>close_w20_alpha</td>\n",
       "      <td>0.526223</td>\n",
       "      <td>0.510495</td>\n",
       "      <td>0.531515</td>\n",
       "      <td>0.520235</td>\n",
       "      <td>0.002613</td>\n",
       "      <td>-0.001265</td>\n",
       "      <td>0.001608</td>\n",
       "      <td>-0.001749</td>\n",
       "      <td>0.002632</td>\n",
       "      <td>-0.001226</td>\n",
       "      <td>2.444288e-03</td>\n",
       "      <td>-0.001163</td>\n",
       "      <td>0.055967</td>\n",
       "      <td>-0.026965</td>\n",
       "      <td>0.053774</td>\n",
       "      <td>-0.025594</td>\n",
       "      <td>0.001627</td>\n",
       "      <td>-0.000634</td>\n",
       "      <td>0.000225</td>\n",
       "      <td>-0.000213</td>\n",
       "      <td>0.000912</td>\n",
       "      <td>-0.002238</td>\n",
       "      <td>-1.319117e-03</td>\n",
       "      <td>-0.001746</td>\n",
       "      <td>0.020072</td>\n",
       "      <td>-0.049227</td>\n",
       "      <td>-0.029021</td>\n",
       "      <td>-0.038411</td>\n",
       "    </tr>\n",
       "    <tr>\n",
       "      <th>974</th>\n",
       "      <td>close_1hour_w20_std/close_1hour_w120_std</td>\n",
       "      <td>0.515162</td>\n",
       "      <td>0.510254</td>\n",
       "      <td>0.523805</td>\n",
       "      <td>0.547148</td>\n",
       "      <td>0.002166</td>\n",
       "      <td>0.000101</td>\n",
       "      <td>0.001130</td>\n",
       "      <td>0.002318</td>\n",
       "      <td>0.001549</td>\n",
       "      <td>-0.002121</td>\n",
       "      <td>5.453617e-04</td>\n",
       "      <td>-0.000821</td>\n",
       "      <td>0.033990</td>\n",
       "      <td>-0.046662</td>\n",
       "      <td>0.011998</td>\n",
       "      <td>-0.018071</td>\n",
       "      <td>0.002166</td>\n",
       "      <td>0.000101</td>\n",
       "      <td>0.001130</td>\n",
       "      <td>0.002318</td>\n",
       "      <td>0.001549</td>\n",
       "      <td>-0.002121</td>\n",
       "      <td>5.453617e-04</td>\n",
       "      <td>-0.000821</td>\n",
       "      <td>0.033990</td>\n",
       "      <td>-0.046662</td>\n",
       "      <td>0.011998</td>\n",
       "      <td>-0.018071</td>\n",
       "    </tr>\n",
       "    <tr>\n",
       "      <th>110</th>\n",
       "      <td>close_w120_lvl_1.01-1.02</td>\n",
       "      <td>0.512222</td>\n",
       "      <td>0.510071</td>\n",
       "      <td>0.520665</td>\n",
       "      <td>0.522323</td>\n",
       "      <td>0.001222</td>\n",
       "      <td>-0.001201</td>\n",
       "      <td>-0.000135</td>\n",
       "      <td>-0.000528</td>\n",
       "      <td>0.001237</td>\n",
       "      <td>-0.001389</td>\n",
       "      <td>-4.293655e-04</td>\n",
       "      <td>-0.000734</td>\n",
       "      <td>0.027211</td>\n",
       "      <td>-0.030548</td>\n",
       "      <td>-0.009446</td>\n",
       "      <td>-0.016148</td>\n",
       "      <td>0.001222</td>\n",
       "      <td>-0.001201</td>\n",
       "      <td>-0.000135</td>\n",
       "      <td>-0.000528</td>\n",
       "      <td>0.001237</td>\n",
       "      <td>-0.001389</td>\n",
       "      <td>-4.293655e-04</td>\n",
       "      <td>-0.000734</td>\n",
       "      <td>0.027211</td>\n",
       "      <td>-0.030548</td>\n",
       "      <td>-0.009446</td>\n",
       "      <td>-0.016148</td>\n",
       "    </tr>\n",
       "    <tr>\n",
       "      <th>143</th>\n",
       "      <td>close_1hour_w5_rsi</td>\n",
       "      <td>0.521159</td>\n",
       "      <td>0.510046</td>\n",
       "      <td>0.522247</td>\n",
       "      <td>0.523630</td>\n",
       "      <td>0.001644</td>\n",
       "      <td>-0.000554</td>\n",
       "      <td>0.000329</td>\n",
       "      <td>0.000066</td>\n",
       "      <td>0.000864</td>\n",
       "      <td>-0.002430</td>\n",
       "      <td>-1.358843e-03</td>\n",
       "      <td>-0.001808</td>\n",
       "      <td>0.019012</td>\n",
       "      <td>-0.053450</td>\n",
       "      <td>-0.029895</td>\n",
       "      <td>-0.039770</td>\n",
       "      <td>0.001644</td>\n",
       "      <td>-0.000554</td>\n",
       "      <td>0.000329</td>\n",
       "      <td>0.000066</td>\n",
       "      <td>0.000864</td>\n",
       "      <td>-0.002430</td>\n",
       "      <td>-1.358843e-03</td>\n",
       "      <td>-0.001808</td>\n",
       "      <td>0.019012</td>\n",
       "      <td>-0.053450</td>\n",
       "      <td>-0.029895</td>\n",
       "      <td>-0.039770</td>\n",
       "    </tr>\n",
       "  </tbody>\n",
       "</table>\n",
       "<p>239 rows × 29 columns</p>\n",
       "</div>"
      ],
      "text/plain": [
       "                                             feature  auc_train  auc_valid  \\\n",
       "1683           close_1day_w20_min/close_1day_w20_max   0.602901   0.613649   \n",
       "224                     close_1hour_w60_mean_abs_pct   0.594656   0.609802   \n",
       "186                     close_1hour_w30_mean_abs_pct   0.596556   0.609371   \n",
       "1686           close_1day_w30_min/close_1day_w30_max   0.605430   0.609260   \n",
       "304                          close_1day_w20_norm_std   0.592848   0.609227   \n",
       "...                                              ...        ...        ...   \n",
       "1477  tmos_close_1day_w5_rsi/tmos_close_1day_w20_rsi   0.513343   0.510567   \n",
       "35                                   close_w20_alpha   0.526223   0.510495   \n",
       "974         close_1hour_w20_std/close_1hour_w120_std   0.515162   0.510254   \n",
       "110                         close_w120_lvl_1.01-1.02   0.512222   0.510071   \n",
       "143                               close_1hour_w5_rsi   0.521159   0.510046   \n",
       "\n",
       "      auc_test  auc_test2  mir_point@1_train  mir_point@1_valid  \\\n",
       "1683  0.601401   0.575738           0.001088           0.000177   \n",
       "224   0.596936   0.565564           0.001106           0.000007   \n",
       "186   0.597005   0.563452           0.000778          -0.000166   \n",
       "1686  0.593327   0.590771           0.001271           0.000708   \n",
       "304   0.587976   0.571248           0.001458           0.000294   \n",
       "...        ...        ...                ...                ...   \n",
       "1477  0.526242   0.505014           0.001552           0.000349   \n",
       "35    0.531515   0.520235           0.002613          -0.001265   \n",
       "974   0.523805   0.547148           0.002166           0.000101   \n",
       "110   0.520665   0.522323           0.001222          -0.001201   \n",
       "143   0.522247   0.523630           0.001644          -0.000554   \n",
       "\n",
       "      mir_point@1_test  mir_point@1_test2  mir_day@1_train  mir_day@1_valid  \\\n",
       "1683          0.001365           0.000048         0.001348        -0.000418   \n",
       "224           0.000885          -0.000229         0.001097        -0.001157   \n",
       "186           0.001046          -0.000313         0.000832        -0.001122   \n",
       "1686          0.001346           0.000420         0.001629         0.000070   \n",
       "304           0.001109           0.000045         0.001756        -0.000575   \n",
       "...                ...                ...              ...              ...   \n",
       "1477          0.001243          -0.000290         0.001957         0.001147   \n",
       "35            0.001608          -0.001749         0.002632        -0.001226   \n",
       "974           0.001130           0.002318         0.001549        -0.002121   \n",
       "110          -0.000135          -0.000528         0.001237        -0.001389   \n",
       "143           0.000329           0.000066         0.000864        -0.002430   \n",
       "\n",
       "      mir_day@1_test  mir_day@1_test2  mir_month@1_train  mir_month@1_valid  \\\n",
       "1683   -1.021693e-04        -0.000976           0.029305          -0.009197   \n",
       "224    -2.334575e-04        -0.000890           0.024142          -0.025454   \n",
       "186    -1.219816e-07        -0.001214           0.018298          -0.024679   \n",
       "1686   -2.724209e-05        -0.000749           0.035589           0.001533   \n",
       "304    -4.825440e-04        -0.001116           0.038640          -0.012641   \n",
       "...              ...              ...                ...                ...   \n",
       "1477   -1.844466e-04        -0.000661           0.007415           0.006455   \n",
       "35      2.444288e-03        -0.001163           0.055967          -0.026965   \n",
       "974     5.453617e-04        -0.000821           0.033990          -0.046662   \n",
       "110    -4.293655e-04        -0.000734           0.027211          -0.030548   \n",
       "143    -1.358843e-03        -0.001808           0.019012          -0.053450   \n",
       "\n",
       "      mir_month@1_test  mir_month@1_test2  mir_point@2_train  \\\n",
       "1683         -0.002248          -0.021478           0.001088   \n",
       "224          -0.005136          -0.019580           0.001106   \n",
       "186          -0.000003          -0.026704           0.000778   \n",
       "1686         -0.000599          -0.016476           0.001271   \n",
       "304          -0.010616          -0.024560           0.001458   \n",
       "...                ...                ...                ...   \n",
       "1477         -0.000944          -0.004404           0.001552   \n",
       "35            0.053774          -0.025594           0.001627   \n",
       "974           0.011998          -0.018071           0.002166   \n",
       "110          -0.009446          -0.016148           0.001222   \n",
       "143          -0.029895          -0.039770           0.001644   \n",
       "\n",
       "      mir_point@2_valid  mir_point@2_test  mir_point@2_test2  mir_day@2_train  \\\n",
       "1683           0.000177          0.001365           0.000048         0.001348   \n",
       "224            0.000007          0.000885          -0.000229         0.001097   \n",
       "186           -0.000166          0.001046          -0.000313         0.000832   \n",
       "1686           0.000708          0.001346           0.000420         0.001629   \n",
       "304            0.000294          0.001109           0.000045         0.001756   \n",
       "...                 ...               ...                ...              ...   \n",
       "1477           0.000349          0.001243          -0.000290         0.001957   \n",
       "35            -0.000634          0.000225          -0.000213         0.000912   \n",
       "974            0.000101          0.001130           0.002318         0.001549   \n",
       "110           -0.001201         -0.000135          -0.000528         0.001237   \n",
       "143           -0.000554          0.000329           0.000066         0.000864   \n",
       "\n",
       "      mir_day@2_valid  mir_day@2_test  mir_day@2_test2  mir_month@2_train  \\\n",
       "1683        -0.000418   -1.021693e-04        -0.000976           0.029305   \n",
       "224         -0.001157   -2.334575e-04        -0.000890           0.024142   \n",
       "186         -0.001122   -1.219816e-07        -0.001214           0.018298   \n",
       "1686         0.000070   -2.724209e-05        -0.000749           0.035589   \n",
       "304         -0.000575   -4.825440e-04        -0.001116           0.038640   \n",
       "...               ...             ...              ...                ...   \n",
       "1477         0.001147   -1.844466e-04        -0.000661           0.007415   \n",
       "35          -0.002238   -1.319117e-03        -0.001746           0.020072   \n",
       "974         -0.002121    5.453617e-04        -0.000821           0.033990   \n",
       "110         -0.001389   -4.293655e-04        -0.000734           0.027211   \n",
       "143         -0.002430   -1.358843e-03        -0.001808           0.019012   \n",
       "\n",
       "      mir_month@2_valid  mir_month@2_test  mir_month@2_test2  \n",
       "1683          -0.009197         -0.002248          -0.021478  \n",
       "224           -0.025454         -0.005136          -0.019580  \n",
       "186           -0.024679         -0.000003          -0.026704  \n",
       "1686           0.001533         -0.000599          -0.016476  \n",
       "304           -0.012641         -0.010616          -0.024560  \n",
       "...                 ...               ...                ...  \n",
       "1477           0.006455         -0.000944          -0.004404  \n",
       "35            -0.049227         -0.029021          -0.038411  \n",
       "974           -0.046662          0.011998          -0.018071  \n",
       "110           -0.030548         -0.009446          -0.016148  \n",
       "143           -0.053450         -0.029895          -0.039770  \n",
       "\n",
       "[239 rows x 29 columns]"
      ]
     },
     "execution_count": 231,
     "metadata": {},
     "output_type": "execute_result"
    }
   ],
   "source": [
    "df_auc_features.loc[df_auc_features['feature'].isin(features_criteria1)].sort_values('auc_valid', ascending=False)"
   ]
  },
  {
   "cell_type": "code",
   "execution_count": null,
   "id": "9dd15d30-236b-48a4-b9eb-04921e53f9cb",
   "metadata": {},
   "outputs": [],
   "source": []
  },
  {
   "cell_type": "code",
   "execution_count": 234,
   "id": "d64e93af-329e-4b34-8a7f-aa57a1dcbffd",
   "metadata": {
    "scrolled": true
   },
   "outputs": [
    {
     "data": {
      "text/plain": [
       "(165,\n",
       " array(['close_w1_roc', 'close_w5_roc', 'tmos_close_w5_mean_abs_pct',\n",
       "        'tmos_close_w5_rsi', 'close_w10_roc', 'tmos_close_w10_norm_std',\n",
       "        'tmos_close_w10_roc', 'close_w20_alpha', 'close_w20_roc',\n",
       "        'tmos_close_w20_norm_std', 'tmos_close_w20_rsi',\n",
       "        'tmos_close_w20_roc', 'close_w30_alpha', 'close_w30_roc',\n",
       "        'tmos_close_w30_norm_std', 'tmos_close_w30_alpha',\n",
       "        'tmos_close_w30_rsi', 'tmos_close_w30_roc',\n",
       "        'close_w30_lvl_1-1.005', 'close_w30_lvl_-0.99-0.995',\n",
       "        'close_w30_lvl_-0.98-0.99', 'close_w30_lvl_-0.97-0.98',\n",
       "        'close_w30_lvl_-0.96-0.97', 'tmos_close_w30_lvl_1-1.005',\n",
       "        'tmos_close_w60_mean_abs_pct', 'close_w120_lvl_1.01-1.02',\n",
       "        'close_w120_lvl_-0.96-0.97', 'close_1hour_w1_roc',\n",
       "        'tmos_close_1hour_w1_roc', 'close_1hour_w5_alpha',\n",
       "        'close_1hour_w5_rsi', 'close_1hour_w5_roc',\n",
       "        'tmos_close_1hour_w5_norm_std', 'tmos_close_1hour_w5_mean_abs_pct',\n",
       "        'tmos_close_1hour_w5_alpha', 'tmos_close_1hour_w5_roc',\n",
       "        'tmos_close_1hour_w10_norm_std', 'tmos_close_1hour_w20_alpha',\n",
       "        'close_1hour_w30_norm_std', 'close_1hour_w30_lvl_1.005-1.01',\n",
       "        'close_1hour_w30_lvl_-0.97-0.98', 'close_1hour_w30_lvl_-0.96-0.97',\n",
       "        'close_1hour_w120_lvl_1.005-1.01',\n",
       "        'close_1hour_w120_lvl_1.01-1.02', 'close_1hour_w120_lvl_1.02-1.03',\n",
       "        'close_1hour_w120_lvl_1.03-1.04', 'close_1day_w30_norm_std',\n",
       "        'close_1day_w30_lvl_1.005-1.01', 'close_1day_w30_lvl_1.01-1.02',\n",
       "        'close_1day_w30_lvl_1.03-1.04', 'close_1day_w30_lvl_-0.96-0.97',\n",
       "        'close_1day_w120_lvl_1.005-1.01',\n",
       "        'close_1day_w120_lvl_-0.99-0.995', 'close_1day_w120_lvl_1.01-1.02',\n",
       "        'close_1day_w120_lvl_1.02-1.03', 'close_1day_w120_lvl_-0.96-0.97',\n",
       "        'close_1day_w120_lvl_-0.95-0.96',\n",
       "        'close_1day_w120_lvl_-0.9299999999999999-0.95',\n",
       "        'tmos_close_w5_norm_std/tmos_close_w10_norm_std',\n",
       "        'close_w20_rsi/close_w120_rsi', 'close_w30_rsi/close_w60_rsi',\n",
       "        'tmos_close_w5_rsi/tmos_close_w120_rsi', 'close/close_w5_ma',\n",
       "        'close/close_w10_ma', 'close/close_w20_ma', 'close/close_w30_ma',\n",
       "        'close/close_w60_ma', 'close_w5_ma/close_w10_ma',\n",
       "        'close_w5_ma/close_w20_ma', 'close_w5_ma/close_w30_ma',\n",
       "        'close_w10_ma/close_w20_ma', 'close_w10_ma/close_w30_ma',\n",
       "        'close_w20_ma/close_w30_ma', 'tmos_close/tmos_close_w5_ma',\n",
       "        'tmos_close/tmos_close_w10_ma', 'tmos_close/tmos_close_w30_ma',\n",
       "        'tmos_close_w5_ma/tmos_close_w10_ma',\n",
       "        'tmos_close_w10_ma/tmos_close_w20_ma',\n",
       "        'tmos_close_w20_ma/tmos_close_w30_ma', 'close/close_w5_expma',\n",
       "        'close/close_w10_expma', 'close/close_w20_expma',\n",
       "        'close/close_w30_expma', 'close_w5_expma/close_w10_expma',\n",
       "        'close_w5_expma/close_w20_expma', 'close_w5_expma/close_w30_expma',\n",
       "        'close_w5_expma/close_w60_expma',\n",
       "        'close_w10_expma/close_w20_expma',\n",
       "        'close_w10_expma/close_w30_expma',\n",
       "        'close_w10_expma/close_w60_expma',\n",
       "        'tmos_close/tmos_close_w10_expma',\n",
       "        'tmos_close/tmos_close_w20_expma',\n",
       "        'tmos_close_w5_expma/tmos_close_w20_expma',\n",
       "        'tmos_close_w10_expma/tmos_close_w20_expma', 'close_w5_min/close',\n",
       "        'close_w10_min/close', 'close_w20_min/close',\n",
       "        'close_w30_min/close', 'close_w5_ma_low_2std/close',\n",
       "        'close_w5_ma_low_3std/close',\n",
       "        'tmos_close_w5_ma_low_2std/tmos_close',\n",
       "        'tmos_close_w5_ma_low_3std/tmos_close',\n",
       "        'close_w10_ma_low_2std/close', 'close_w10_ma_low_3std/close',\n",
       "        'tmos_close_w10_ma_low_2std/tmos_close',\n",
       "        'tmos_close_w10_ma_low_3std/tmos_close',\n",
       "        'tmos_close_w10_ma_up_3std/tmos_close',\n",
       "        'close_w20_ma_low_2std/close', 'close_w20_ma_low_3std/close',\n",
       "        'tmos_close_w20_ma_low_2std/tmos_close',\n",
       "        'tmos_close_w20_ma_low_3std/tmos_close',\n",
       "        'tmos_close_w20_ma_up_3std/tmos_close',\n",
       "        'close_w30_ma_low_2std/close', 'close_w30_ma_low_3std/close',\n",
       "        'tmos_close_w30_ma_low_3std/tmos_close',\n",
       "        'close_w60_ma_low_3std/close', 'close_w120_ma_low_3std/close',\n",
       "        'tmos_close_w20_min/tmos_close_w20_max',\n",
       "        'tmos_close_w30_min/tmos_close_w30_max',\n",
       "        'close_1hour_w1_roc/close_1hour_w60_alpha',\n",
       "        'close_1hour_w1_roc/close_1hour_w120_alpha',\n",
       "        'tmos_close_1hour_w1_roc/tmos_close_1hour_w5_alpha',\n",
       "        'tmos_close_1hour_w1_roc/tmos_close_1hour_w10_alpha',\n",
       "        'tmos_close_1hour_w1_roc/tmos_close_1hour_w30_alpha',\n",
       "        'tmos_close_1hour_w30_roc/tmos_close_1hour_w120_roc',\n",
       "        'tmos_close_1hour_w5_std/tmos_close_1hour_w60_std',\n",
       "        'tmos_close_1hour_w20_std/tmos_close_1hour_w60_std',\n",
       "        'tmos_close_1hour_w20_norm_std/tmos_close_1hour_w60_norm_std',\n",
       "        'close_1hour_w5_rsi/close_1hour_w30_rsi',\n",
       "        'close_1hour_w5_rsi/close_1hour_w120_rsi',\n",
       "        'close/close_1hour_w5_ma', 'close/close_1hour_w10_ma',\n",
       "        'close_1hour_w5_ma/close_1hour_w10_ma',\n",
       "        'close_1hour_w5_ma/close_1hour_w60_ma',\n",
       "        'close_1hour_w10_ma/close_1hour_w60_ma',\n",
       "        'close_1hour_w20_ma/close_1hour_w30_ma',\n",
       "        'volume_1hour_w10_ma/volume_1hour_w20_ma',\n",
       "        'tmos_close/tmos_close_1hour_w10_ma',\n",
       "        'tmos_close_1hour_w20_ma/tmos_close_1hour_w60_ma',\n",
       "        'close/close_1hour_w5_expma', 'close/close_1hour_w10_expma',\n",
       "        'tmos_close/tmos_close_1hour_w10_expma',\n",
       "        'close_1hour_w5_min/close', 'close_1hour_w10_min/close',\n",
       "        'tmos_close_1hour_w10_min/tmos_close', 'close_1hour_w5_max/close',\n",
       "        'close_1hour_w5_ma_low_2std/close',\n",
       "        'tmos_close_1hour_w5_ma_low_2std/tmos_close',\n",
       "        'tmos_close_1hour_w5_ma_low_3std/tmos_close',\n",
       "        'close_1hour_w10_ma_low_2std/close',\n",
       "        'close_1hour_w20_ma_low_3std/close',\n",
       "        'close_1day_w20_alpha/close_1day_w120_alpha',\n",
       "        'close_1day_w30_alpha/close_1day_w60_alpha',\n",
       "        'close_1day_w60_alpha/close_1day_w120_alpha',\n",
       "        'close_1day_w1_roc/close_1day_w20_roc',\n",
       "        'close_1day_w1_roc/close_1day_w30_roc',\n",
       "        'close_1day_w1_roc/close_1day_w120_roc',\n",
       "        'close_1day_w20_roc/close_1day_w30_roc',\n",
       "        'close_1day_w20_roc/close_1day_w120_roc',\n",
       "        'close_1day_w20_norm_std/close_1day_w120_norm_std',\n",
       "        'close_1day_w5_ma/close_1day_w10_ma',\n",
       "        'volume_1day_w5_ma/volume_1day_w20_ma',\n",
       "        'volume_1day_w10_ma/volume_1day_w20_ma',\n",
       "        'tmos_close_1day_w60_ma_low_3std/tmos_close',\n",
       "        'close_1day_w30_min/close_1day_w30_max'], dtype=object))"
      ]
     },
     "execution_count": 234,
     "metadata": {},
     "output_type": "execute_result"
    }
   ],
   "source": [
    "features_criteria2 = df_auc_features['feature'].values[~mask_criterias2]\n",
    "len(features_criteria2), features_criteria2"
   ]
  },
  {
   "cell_type": "code",
   "execution_count": 236,
   "id": "99bc0c14-3b3e-4a76-a514-8c0d4a5d22a0",
   "metadata": {
    "scrolled": true
   },
   "outputs": [
    {
     "data": {
      "text/html": [
       "<div>\n",
       "<style scoped>\n",
       "    .dataframe tbody tr th:only-of-type {\n",
       "        vertical-align: middle;\n",
       "    }\n",
       "\n",
       "    .dataframe tbody tr th {\n",
       "        vertical-align: top;\n",
       "    }\n",
       "\n",
       "    .dataframe thead th {\n",
       "        text-align: right;\n",
       "    }\n",
       "</style>\n",
       "<table border=\"1\" class=\"dataframe\">\n",
       "  <thead>\n",
       "    <tr style=\"text-align: right;\">\n",
       "      <th></th>\n",
       "      <th>feature</th>\n",
       "      <th>auc_train</th>\n",
       "      <th>auc_valid</th>\n",
       "      <th>auc_test</th>\n",
       "      <th>auc_test2</th>\n",
       "      <th>mir_point@1_train</th>\n",
       "      <th>mir_point@1_valid</th>\n",
       "      <th>mir_point@1_test</th>\n",
       "      <th>mir_point@1_test2</th>\n",
       "      <th>mir_day@1_train</th>\n",
       "      <th>mir_day@1_valid</th>\n",
       "      <th>mir_day@1_test</th>\n",
       "      <th>mir_day@1_test2</th>\n",
       "      <th>mir_month@1_train</th>\n",
       "      <th>mir_month@1_valid</th>\n",
       "      <th>mir_month@1_test</th>\n",
       "      <th>mir_month@1_test2</th>\n",
       "      <th>mir_point@2_train</th>\n",
       "      <th>mir_point@2_valid</th>\n",
       "      <th>mir_point@2_test</th>\n",
       "      <th>mir_point@2_test2</th>\n",
       "      <th>mir_day@2_train</th>\n",
       "      <th>mir_day@2_valid</th>\n",
       "      <th>mir_day@2_test</th>\n",
       "      <th>mir_day@2_test2</th>\n",
       "      <th>mir_month@2_train</th>\n",
       "      <th>mir_month@2_valid</th>\n",
       "      <th>mir_month@2_test</th>\n",
       "      <th>mir_month@2_test2</th>\n",
       "    </tr>\n",
       "  </thead>\n",
       "  <tbody>\n",
       "    <tr>\n",
       "      <th>1686</th>\n",
       "      <td>close_1day_w30_min/close_1day_w30_max</td>\n",
       "      <td>0.605430</td>\n",
       "      <td>0.609260</td>\n",
       "      <td>0.593327</td>\n",
       "      <td>0.590771</td>\n",
       "      <td>0.001271</td>\n",
       "      <td>0.000708</td>\n",
       "      <td>0.001346</td>\n",
       "      <td>0.000420</td>\n",
       "      <td>0.001629</td>\n",
       "      <td>0.000070</td>\n",
       "      <td>-0.000027</td>\n",
       "      <td>-0.000749</td>\n",
       "      <td>0.035589</td>\n",
       "      <td>0.001533</td>\n",
       "      <td>-0.000599</td>\n",
       "      <td>-0.016476</td>\n",
       "      <td>0.001271</td>\n",
       "      <td>0.000708</td>\n",
       "      <td>0.001346</td>\n",
       "      <td>0.000420</td>\n",
       "      <td>0.001629</td>\n",
       "      <td>0.000070</td>\n",
       "      <td>-0.000027</td>\n",
       "      <td>-0.000749</td>\n",
       "      <td>0.035589</td>\n",
       "      <td>0.001533</td>\n",
       "      <td>-0.000599</td>\n",
       "      <td>-0.016476</td>\n",
       "    </tr>\n",
       "    <tr>\n",
       "      <th>319</th>\n",
       "      <td>close_1day_w30_norm_std</td>\n",
       "      <td>0.600584</td>\n",
       "      <td>0.606270</td>\n",
       "      <td>0.594368</td>\n",
       "      <td>0.595219</td>\n",
       "      <td>0.001418</td>\n",
       "      <td>0.000783</td>\n",
       "      <td>0.002017</td>\n",
       "      <td>0.000332</td>\n",
       "      <td>0.001680</td>\n",
       "      <td>0.000178</td>\n",
       "      <td>0.000322</td>\n",
       "      <td>-0.001055</td>\n",
       "      <td>0.036701</td>\n",
       "      <td>0.003916</td>\n",
       "      <td>0.007085</td>\n",
       "      <td>-0.023207</td>\n",
       "      <td>0.001418</td>\n",
       "      <td>0.000783</td>\n",
       "      <td>0.002017</td>\n",
       "      <td>0.000332</td>\n",
       "      <td>0.001680</td>\n",
       "      <td>0.000178</td>\n",
       "      <td>0.000322</td>\n",
       "      <td>-0.001055</td>\n",
       "      <td>0.036701</td>\n",
       "      <td>0.003916</td>\n",
       "      <td>0.007085</td>\n",
       "      <td>-0.023207</td>\n",
       "    </tr>\n",
       "    <tr>\n",
       "      <th>379</th>\n",
       "      <td>close_1day_w120_lvl_1.005-1.01</td>\n",
       "      <td>0.563633</td>\n",
       "      <td>0.580713</td>\n",
       "      <td>0.548200</td>\n",
       "      <td>0.554366</td>\n",
       "      <td>0.001508</td>\n",
       "      <td>-0.000502</td>\n",
       "      <td>0.000280</td>\n",
       "      <td>-0.000325</td>\n",
       "      <td>0.001576</td>\n",
       "      <td>-0.000974</td>\n",
       "      <td>-0.000177</td>\n",
       "      <td>-0.000820</td>\n",
       "      <td>0.034666</td>\n",
       "      <td>-0.021419</td>\n",
       "      <td>-0.003903</td>\n",
       "      <td>-0.018034</td>\n",
       "      <td>0.001508</td>\n",
       "      <td>-0.000502</td>\n",
       "      <td>0.000280</td>\n",
       "      <td>-0.000325</td>\n",
       "      <td>0.001576</td>\n",
       "      <td>-0.000974</td>\n",
       "      <td>-0.000177</td>\n",
       "      <td>-0.000820</td>\n",
       "      <td>0.034666</td>\n",
       "      <td>-0.021419</td>\n",
       "      <td>-0.003903</td>\n",
       "      <td>-0.018034</td>\n",
       "    </tr>\n",
       "    <tr>\n",
       "      <th>383</th>\n",
       "      <td>close_1day_w120_lvl_1.02-1.03</td>\n",
       "      <td>0.567263</td>\n",
       "      <td>0.578969</td>\n",
       "      <td>0.569303</td>\n",
       "      <td>0.558439</td>\n",
       "      <td>0.001828</td>\n",
       "      <td>-0.000258</td>\n",
       "      <td>0.000894</td>\n",
       "      <td>0.000248</td>\n",
       "      <td>0.002003</td>\n",
       "      <td>-0.000751</td>\n",
       "      <td>-0.000141</td>\n",
       "      <td>-0.000873</td>\n",
       "      <td>0.044057</td>\n",
       "      <td>-0.016516</td>\n",
       "      <td>-0.003106</td>\n",
       "      <td>-0.019199</td>\n",
       "      <td>0.001828</td>\n",
       "      <td>-0.000258</td>\n",
       "      <td>0.000894</td>\n",
       "      <td>0.000248</td>\n",
       "      <td>0.002003</td>\n",
       "      <td>-0.000751</td>\n",
       "      <td>-0.000141</td>\n",
       "      <td>-0.000873</td>\n",
       "      <td>0.044057</td>\n",
       "      <td>-0.016516</td>\n",
       "      <td>-0.003106</td>\n",
       "      <td>-0.019199</td>\n",
       "    </tr>\n",
       "    <tr>\n",
       "      <th>381</th>\n",
       "      <td>close_1day_w120_lvl_1.01-1.02</td>\n",
       "      <td>0.560698</td>\n",
       "      <td>0.576311</td>\n",
       "      <td>0.548298</td>\n",
       "      <td>0.551278</td>\n",
       "      <td>0.001709</td>\n",
       "      <td>-0.000455</td>\n",
       "      <td>0.000180</td>\n",
       "      <td>-0.000145</td>\n",
       "      <td>0.001808</td>\n",
       "      <td>-0.000988</td>\n",
       "      <td>-0.000529</td>\n",
       "      <td>-0.000993</td>\n",
       "      <td>0.039766</td>\n",
       "      <td>-0.021746</td>\n",
       "      <td>-0.011647</td>\n",
       "      <td>-0.021855</td>\n",
       "      <td>0.001709</td>\n",
       "      <td>-0.000455</td>\n",
       "      <td>0.000180</td>\n",
       "      <td>-0.000145</td>\n",
       "      <td>0.001808</td>\n",
       "      <td>-0.000988</td>\n",
       "      <td>-0.000529</td>\n",
       "      <td>-0.000993</td>\n",
       "      <td>0.039766</td>\n",
       "      <td>-0.021746</td>\n",
       "      <td>-0.011647</td>\n",
       "      <td>-0.021855</td>\n",
       "    </tr>\n",
       "    <tr>\n",
       "      <th>...</th>\n",
       "      <td>...</td>\n",
       "      <td>...</td>\n",
       "      <td>...</td>\n",
       "      <td>...</td>\n",
       "      <td>...</td>\n",
       "      <td>...</td>\n",
       "      <td>...</td>\n",
       "      <td>...</td>\n",
       "      <td>...</td>\n",
       "      <td>...</td>\n",
       "      <td>...</td>\n",
       "      <td>...</td>\n",
       "      <td>...</td>\n",
       "      <td>...</td>\n",
       "      <td>...</td>\n",
       "      <td>...</td>\n",
       "      <td>...</td>\n",
       "      <td>...</td>\n",
       "      <td>...</td>\n",
       "      <td>...</td>\n",
       "      <td>...</td>\n",
       "      <td>...</td>\n",
       "      <td>...</td>\n",
       "      <td>...</td>\n",
       "      <td>...</td>\n",
       "      <td>...</td>\n",
       "      <td>...</td>\n",
       "      <td>...</td>\n",
       "      <td>...</td>\n",
       "    </tr>\n",
       "    <tr>\n",
       "      <th>1316</th>\n",
       "      <td>close_1day_w1_roc/close_1day_w120_roc</td>\n",
       "      <td>0.515184</td>\n",
       "      <td>0.511073</td>\n",
       "      <td>0.514190</td>\n",
       "      <td>0.519788</td>\n",
       "      <td>0.001530</td>\n",
       "      <td>-0.001037</td>\n",
       "      <td>-0.000137</td>\n",
       "      <td>-0.000368</td>\n",
       "      <td>0.001504</td>\n",
       "      <td>-0.001102</td>\n",
       "      <td>-0.000183</td>\n",
       "      <td>-0.000561</td>\n",
       "      <td>0.033079</td>\n",
       "      <td>-0.024250</td>\n",
       "      <td>-0.004016</td>\n",
       "      <td>-0.012337</td>\n",
       "      <td>0.001530</td>\n",
       "      <td>-0.001037</td>\n",
       "      <td>-0.000137</td>\n",
       "      <td>-0.000368</td>\n",
       "      <td>0.001504</td>\n",
       "      <td>-0.001102</td>\n",
       "      <td>-0.000183</td>\n",
       "      <td>-0.000561</td>\n",
       "      <td>0.033079</td>\n",
       "      <td>-0.024250</td>\n",
       "      <td>-0.004016</td>\n",
       "      <td>-0.012337</td>\n",
       "    </tr>\n",
       "    <tr>\n",
       "      <th>984</th>\n",
       "      <td>tmos_close_1hour_w5_std/tmos_close_1hour_w60_std</td>\n",
       "      <td>0.529070</td>\n",
       "      <td>0.510807</td>\n",
       "      <td>0.521915</td>\n",
       "      <td>0.516778</td>\n",
       "      <td>0.002088</td>\n",
       "      <td>-0.000766</td>\n",
       "      <td>0.000706</td>\n",
       "      <td>-0.000426</td>\n",
       "      <td>0.000919</td>\n",
       "      <td>-0.001495</td>\n",
       "      <td>-0.000461</td>\n",
       "      <td>-0.000922</td>\n",
       "      <td>0.019060</td>\n",
       "      <td>-0.032896</td>\n",
       "      <td>-0.010132</td>\n",
       "      <td>-0.017526</td>\n",
       "      <td>0.002088</td>\n",
       "      <td>-0.000766</td>\n",
       "      <td>0.000706</td>\n",
       "      <td>-0.000426</td>\n",
       "      <td>0.000919</td>\n",
       "      <td>-0.001495</td>\n",
       "      <td>-0.000461</td>\n",
       "      <td>-0.000922</td>\n",
       "      <td>0.019060</td>\n",
       "      <td>-0.032896</td>\n",
       "      <td>-0.010132</td>\n",
       "      <td>-0.017526</td>\n",
       "    </tr>\n",
       "    <tr>\n",
       "      <th>35</th>\n",
       "      <td>close_w20_alpha</td>\n",
       "      <td>0.526223</td>\n",
       "      <td>0.510495</td>\n",
       "      <td>0.531515</td>\n",
       "      <td>0.520235</td>\n",
       "      <td>0.002613</td>\n",
       "      <td>-0.001265</td>\n",
       "      <td>0.001608</td>\n",
       "      <td>-0.001749</td>\n",
       "      <td>0.002632</td>\n",
       "      <td>-0.001226</td>\n",
       "      <td>0.002444</td>\n",
       "      <td>-0.001163</td>\n",
       "      <td>0.055967</td>\n",
       "      <td>-0.026965</td>\n",
       "      <td>0.053774</td>\n",
       "      <td>-0.025594</td>\n",
       "      <td>0.001627</td>\n",
       "      <td>-0.000634</td>\n",
       "      <td>0.000225</td>\n",
       "      <td>-0.000213</td>\n",
       "      <td>0.000912</td>\n",
       "      <td>-0.002238</td>\n",
       "      <td>-0.001319</td>\n",
       "      <td>-0.001746</td>\n",
       "      <td>0.020072</td>\n",
       "      <td>-0.049227</td>\n",
       "      <td>-0.029021</td>\n",
       "      <td>-0.038411</td>\n",
       "    </tr>\n",
       "    <tr>\n",
       "      <th>110</th>\n",
       "      <td>close_w120_lvl_1.01-1.02</td>\n",
       "      <td>0.512222</td>\n",
       "      <td>0.510071</td>\n",
       "      <td>0.520665</td>\n",
       "      <td>0.522323</td>\n",
       "      <td>0.001222</td>\n",
       "      <td>-0.001201</td>\n",
       "      <td>-0.000135</td>\n",
       "      <td>-0.000528</td>\n",
       "      <td>0.001237</td>\n",
       "      <td>-0.001389</td>\n",
       "      <td>-0.000429</td>\n",
       "      <td>-0.000734</td>\n",
       "      <td>0.027211</td>\n",
       "      <td>-0.030548</td>\n",
       "      <td>-0.009446</td>\n",
       "      <td>-0.016148</td>\n",
       "      <td>0.001222</td>\n",
       "      <td>-0.001201</td>\n",
       "      <td>-0.000135</td>\n",
       "      <td>-0.000528</td>\n",
       "      <td>0.001237</td>\n",
       "      <td>-0.001389</td>\n",
       "      <td>-0.000429</td>\n",
       "      <td>-0.000734</td>\n",
       "      <td>0.027211</td>\n",
       "      <td>-0.030548</td>\n",
       "      <td>-0.009446</td>\n",
       "      <td>-0.016148</td>\n",
       "    </tr>\n",
       "    <tr>\n",
       "      <th>143</th>\n",
       "      <td>close_1hour_w5_rsi</td>\n",
       "      <td>0.521159</td>\n",
       "      <td>0.510046</td>\n",
       "      <td>0.522247</td>\n",
       "      <td>0.523630</td>\n",
       "      <td>0.001644</td>\n",
       "      <td>-0.000554</td>\n",
       "      <td>0.000329</td>\n",
       "      <td>0.000066</td>\n",
       "      <td>0.000864</td>\n",
       "      <td>-0.002430</td>\n",
       "      <td>-0.001359</td>\n",
       "      <td>-0.001808</td>\n",
       "      <td>0.019012</td>\n",
       "      <td>-0.053450</td>\n",
       "      <td>-0.029895</td>\n",
       "      <td>-0.039770</td>\n",
       "      <td>0.001644</td>\n",
       "      <td>-0.000554</td>\n",
       "      <td>0.000329</td>\n",
       "      <td>0.000066</td>\n",
       "      <td>0.000864</td>\n",
       "      <td>-0.002430</td>\n",
       "      <td>-0.001359</td>\n",
       "      <td>-0.001808</td>\n",
       "      <td>0.019012</td>\n",
       "      <td>-0.053450</td>\n",
       "      <td>-0.029895</td>\n",
       "      <td>-0.039770</td>\n",
       "    </tr>\n",
       "  </tbody>\n",
       "</table>\n",
       "<p>165 rows × 29 columns</p>\n",
       "</div>"
      ],
      "text/plain": [
       "                                               feature  auc_train  auc_valid  \\\n",
       "1686             close_1day_w30_min/close_1day_w30_max   0.605430   0.609260   \n",
       "319                            close_1day_w30_norm_std   0.600584   0.606270   \n",
       "379                     close_1day_w120_lvl_1.005-1.01   0.563633   0.580713   \n",
       "383                      close_1day_w120_lvl_1.02-1.03   0.567263   0.578969   \n",
       "381                      close_1day_w120_lvl_1.01-1.02   0.560698   0.576311   \n",
       "...                                                ...        ...        ...   \n",
       "1316             close_1day_w1_roc/close_1day_w120_roc   0.515184   0.511073   \n",
       "984   tmos_close_1hour_w5_std/tmos_close_1hour_w60_std   0.529070   0.510807   \n",
       "35                                     close_w20_alpha   0.526223   0.510495   \n",
       "110                           close_w120_lvl_1.01-1.02   0.512222   0.510071   \n",
       "143                                 close_1hour_w5_rsi   0.521159   0.510046   \n",
       "\n",
       "      auc_test  auc_test2  mir_point@1_train  mir_point@1_valid  \\\n",
       "1686  0.593327   0.590771           0.001271           0.000708   \n",
       "319   0.594368   0.595219           0.001418           0.000783   \n",
       "379   0.548200   0.554366           0.001508          -0.000502   \n",
       "383   0.569303   0.558439           0.001828          -0.000258   \n",
       "381   0.548298   0.551278           0.001709          -0.000455   \n",
       "...        ...        ...                ...                ...   \n",
       "1316  0.514190   0.519788           0.001530          -0.001037   \n",
       "984   0.521915   0.516778           0.002088          -0.000766   \n",
       "35    0.531515   0.520235           0.002613          -0.001265   \n",
       "110   0.520665   0.522323           0.001222          -0.001201   \n",
       "143   0.522247   0.523630           0.001644          -0.000554   \n",
       "\n",
       "      mir_point@1_test  mir_point@1_test2  mir_day@1_train  mir_day@1_valid  \\\n",
       "1686          0.001346           0.000420         0.001629         0.000070   \n",
       "319           0.002017           0.000332         0.001680         0.000178   \n",
       "379           0.000280          -0.000325         0.001576        -0.000974   \n",
       "383           0.000894           0.000248         0.002003        -0.000751   \n",
       "381           0.000180          -0.000145         0.001808        -0.000988   \n",
       "...                ...                ...              ...              ...   \n",
       "1316         -0.000137          -0.000368         0.001504        -0.001102   \n",
       "984           0.000706          -0.000426         0.000919        -0.001495   \n",
       "35            0.001608          -0.001749         0.002632        -0.001226   \n",
       "110          -0.000135          -0.000528         0.001237        -0.001389   \n",
       "143           0.000329           0.000066         0.000864        -0.002430   \n",
       "\n",
       "      mir_day@1_test  mir_day@1_test2  mir_month@1_train  mir_month@1_valid  \\\n",
       "1686       -0.000027        -0.000749           0.035589           0.001533   \n",
       "319         0.000322        -0.001055           0.036701           0.003916   \n",
       "379        -0.000177        -0.000820           0.034666          -0.021419   \n",
       "383        -0.000141        -0.000873           0.044057          -0.016516   \n",
       "381        -0.000529        -0.000993           0.039766          -0.021746   \n",
       "...              ...              ...                ...                ...   \n",
       "1316       -0.000183        -0.000561           0.033079          -0.024250   \n",
       "984        -0.000461        -0.000922           0.019060          -0.032896   \n",
       "35          0.002444        -0.001163           0.055967          -0.026965   \n",
       "110        -0.000429        -0.000734           0.027211          -0.030548   \n",
       "143        -0.001359        -0.001808           0.019012          -0.053450   \n",
       "\n",
       "      mir_month@1_test  mir_month@1_test2  mir_point@2_train  \\\n",
       "1686         -0.000599          -0.016476           0.001271   \n",
       "319           0.007085          -0.023207           0.001418   \n",
       "379          -0.003903          -0.018034           0.001508   \n",
       "383          -0.003106          -0.019199           0.001828   \n",
       "381          -0.011647          -0.021855           0.001709   \n",
       "...                ...                ...                ...   \n",
       "1316         -0.004016          -0.012337           0.001530   \n",
       "984          -0.010132          -0.017526           0.002088   \n",
       "35            0.053774          -0.025594           0.001627   \n",
       "110          -0.009446          -0.016148           0.001222   \n",
       "143          -0.029895          -0.039770           0.001644   \n",
       "\n",
       "      mir_point@2_valid  mir_point@2_test  mir_point@2_test2  mir_day@2_train  \\\n",
       "1686           0.000708          0.001346           0.000420         0.001629   \n",
       "319            0.000783          0.002017           0.000332         0.001680   \n",
       "379           -0.000502          0.000280          -0.000325         0.001576   \n",
       "383           -0.000258          0.000894           0.000248         0.002003   \n",
       "381           -0.000455          0.000180          -0.000145         0.001808   \n",
       "...                 ...               ...                ...              ...   \n",
       "1316          -0.001037         -0.000137          -0.000368         0.001504   \n",
       "984           -0.000766          0.000706          -0.000426         0.000919   \n",
       "35            -0.000634          0.000225          -0.000213         0.000912   \n",
       "110           -0.001201         -0.000135          -0.000528         0.001237   \n",
       "143           -0.000554          0.000329           0.000066         0.000864   \n",
       "\n",
       "      mir_day@2_valid  mir_day@2_test  mir_day@2_test2  mir_month@2_train  \\\n",
       "1686         0.000070       -0.000027        -0.000749           0.035589   \n",
       "319          0.000178        0.000322        -0.001055           0.036701   \n",
       "379         -0.000974       -0.000177        -0.000820           0.034666   \n",
       "383         -0.000751       -0.000141        -0.000873           0.044057   \n",
       "381         -0.000988       -0.000529        -0.000993           0.039766   \n",
       "...               ...             ...              ...                ...   \n",
       "1316        -0.001102       -0.000183        -0.000561           0.033079   \n",
       "984         -0.001495       -0.000461        -0.000922           0.019060   \n",
       "35          -0.002238       -0.001319        -0.001746           0.020072   \n",
       "110         -0.001389       -0.000429        -0.000734           0.027211   \n",
       "143         -0.002430       -0.001359        -0.001808           0.019012   \n",
       "\n",
       "      mir_month@2_valid  mir_month@2_test  mir_month@2_test2  \n",
       "1686           0.001533         -0.000599          -0.016476  \n",
       "319            0.003916          0.007085          -0.023207  \n",
       "379           -0.021419         -0.003903          -0.018034  \n",
       "383           -0.016516         -0.003106          -0.019199  \n",
       "381           -0.021746         -0.011647          -0.021855  \n",
       "...                 ...               ...                ...  \n",
       "1316          -0.024250         -0.004016          -0.012337  \n",
       "984           -0.032896         -0.010132          -0.017526  \n",
       "35            -0.049227         -0.029021          -0.038411  \n",
       "110           -0.030548         -0.009446          -0.016148  \n",
       "143           -0.053450         -0.029895          -0.039770  \n",
       "\n",
       "[165 rows x 29 columns]"
      ]
     },
     "execution_count": 236,
     "metadata": {},
     "output_type": "execute_result"
    }
   ],
   "source": [
    "pd.set_option('display.max_rows', 160)\n",
    "df_auc_features.loc[df_auc_features['feature'].isin(features_criteria2)].sort_values('auc_valid', ascending=False)"
   ]
  },
  {
   "cell_type": "code",
   "execution_count": null,
   "id": "361b0c6f-8ff3-4dba-8a9c-9501e667968c",
   "metadata": {},
   "outputs": [],
   "source": []
  },
  {
   "cell_type": "code",
   "execution_count": null,
   "id": "94e227a8-d946-471c-9ee7-d59df400f002",
   "metadata": {},
   "outputs": [],
   "source": []
  },
  {
   "cell_type": "markdown",
   "id": "ef32feac-1a21-4b66-95b7-8f67d3f72a4e",
   "metadata": {},
   "source": [
    "### mask3"
   ]
  },
  {
   "cell_type": "markdown",
   "id": "092dc387-f6bf-4e61-91e0-8b436c42d564",
   "metadata": {},
   "source": [
    "#### #1"
   ]
  },
  {
   "cell_type": "code",
   "execution_count": 242,
   "id": "599dac85-9ba8-4773-9d3f-46b58615ca98",
   "metadata": {},
   "outputs": [
    {
     "data": {
      "text/plain": [
       "(472, 83, 85, 24)"
      ]
     },
     "execution_count": 242,
     "metadata": {},
     "output_type": "execute_result"
    }
   ],
   "source": [
    "col = 'mir_month@1'\n",
    "threshold = 0.03\n",
    "# mask_ir_valid = (df_auc_features[f'{col}_train'] - df_auc_features[f'{col}_valid']).abs() < threshold\n",
    "# mask_ir_test = (df_auc_features[f'{col}_train'] - df_auc_features[f'{col}_test']).abs() < threshold\n",
    "# mask_ir_test2 = (df_auc_features[f'{col}_train'] - df_auc_features[f'{col}_test2']).abs() < threshold\n",
    "\n",
    "mask_ir_train = df_auc_features[f'{col}_train'] >=  threshold\n",
    "mask_ir_valid = df_auc_features[f'{col}_valid'] >=  threshold\n",
    "mask_ir_test = df_auc_features[f'{col}_test'] >= threshold\n",
    "mask_ir_test2 = df_auc_features[f'{col}_test2'] >=  threshold\n",
    "\n",
    "\n",
    "mask_ir_train.sum(), mask_ir_valid.sum(), mask_ir_test.sum(), mask_ir_test2.sum()"
   ]
  },
  {
   "cell_type": "code",
   "execution_count": 244,
   "id": "195e48a8-d4fb-49b3-8ff8-10cc083bcd76",
   "metadata": {},
   "outputs": [
    {
     "data": {
      "text/plain": [
       "(7, 4)"
      ]
     },
     "execution_count": 244,
     "metadata": {},
     "output_type": "execute_result"
    }
   ],
   "source": [
    "(mask_ir_valid&mask_ir_test&mask_ir_test2).sum(), (mask_ir_train&mask_ir_valid&mask_ir_test&mask_ir_test2).sum()"
   ]
  },
  {
   "cell_type": "code",
   "execution_count": 246,
   "id": "f27b212f-3586-4438-8b78-815b5c41cf72",
   "metadata": {},
   "outputs": [
    {
     "data": {
      "text/plain": [
       "7"
      ]
     },
     "execution_count": 246,
     "metadata": {},
     "output_type": "execute_result"
    }
   ],
   "source": [
    "mask_ir= mask_ir_valid&mask_ir_test&mask_ir_test2\n",
    "\n",
    "#mask_ir= mask_ir_train&mask_ir_valid&mask_ir_test&mask_ir_test2\n",
    "mask_ir.sum()"
   ]
  },
  {
   "cell_type": "code",
   "execution_count": null,
   "id": "c883460e-314a-4a81-ab22-7dfde1016e55",
   "metadata": {},
   "outputs": [],
   "source": []
  },
  {
   "cell_type": "markdown",
   "id": "a72539e5-e51a-4ed3-b00b-e9a0533ed02f",
   "metadata": {},
   "source": [
    "#### #2"
   ]
  },
  {
   "cell_type": "code",
   "execution_count": 250,
   "id": "63a473e0-a8d7-444e-9150-99c5d0ed5209",
   "metadata": {},
   "outputs": [
    {
     "data": {
      "text/plain": [
       "(357, 508)"
      ]
     },
     "execution_count": 250,
     "metadata": {},
     "output_type": "execute_result"
    }
   ],
   "source": [
    "col = 'mir_month@2'\n",
    "threshold = 0.01\n",
    "# mask_ir_valid = (df_auc_features[f'{col}_train'] - df_auc_features[f'{col}_valid']).abs() < threshold\n",
    "# mask_ir_test = (df_auc_features[f'{col}_train'] - df_auc_features[f'{col}_test']).abs() < threshold\n",
    "# mask_ir_test2 = (df_auc_features[f'{col}_train'] - df_auc_features[f'{col}_test2']).abs() < threshold\n",
    "\n",
    "mask_ir2_test = np.abs(df_auc_features[f'{col}_valid'] - df_auc_features[f'{col}_test']) < threshold\n",
    "mask_ir2_test2 = np.abs(df_auc_features[f'{col}_valid'] - df_auc_features[f'{col}_test2']) < threshold\n",
    "\n",
    "\n",
    "mask_ir2_test.sum(), mask_ir2_test2.sum()"
   ]
  },
  {
   "cell_type": "code",
   "execution_count": 252,
   "id": "cfaa1f38-148c-473b-ba53-2d1149b43370",
   "metadata": {},
   "outputs": [
    {
     "data": {
      "text/plain": [
       "162"
      ]
     },
     "execution_count": 252,
     "metadata": {},
     "output_type": "execute_result"
    }
   ],
   "source": [
    "mask_ir2= mask_ir2_test&mask_ir2_test2\n",
    "mask_ir2.sum()"
   ]
  },
  {
   "cell_type": "code",
   "execution_count": null,
   "id": "a6c57d32-c159-4e84-a635-f4184c870060",
   "metadata": {},
   "outputs": [],
   "source": []
  },
  {
   "cell_type": "code",
   "execution_count": 255,
   "id": "58b5df0e-27e1-4b5c-a7c0-3b981bcc5dc5",
   "metadata": {},
   "outputs": [
    {
     "data": {
      "text/plain": [
       "3"
      ]
     },
     "execution_count": 255,
     "metadata": {},
     "output_type": "execute_result"
    }
   ],
   "source": [
    "(mask_ir&mask_ir2).sum()"
   ]
  },
  {
   "cell_type": "code",
   "execution_count": null,
   "id": "cd289f18-040a-4ecd-8fe8-4dccbe4f7627",
   "metadata": {},
   "outputs": [],
   "source": []
  },
  {
   "cell_type": "code",
   "execution_count": null,
   "id": "1f395f77-87dd-43ea-bd9a-994a95b0a376",
   "metadata": {},
   "outputs": [],
   "source": []
  },
  {
   "cell_type": "code",
   "execution_count": 259,
   "id": "2b730938-d93f-4b75-8dc7-9f4710aa41b1",
   "metadata": {},
   "outputs": [
    {
     "data": {
      "text/plain": [
       "(7,\n",
       " array(['close_w30_lvl_1.03-1.04', 'close/close_w10_ma',\n",
       "        'close/close_w5_expma', 'close/close_w10_expma',\n",
       "        'close_w10_max/close', 'close_w60_ma_up_3std/close',\n",
       "        'close_1hour_w5_max/close'], dtype=object))"
      ]
     },
     "execution_count": 259,
     "metadata": {},
     "output_type": "execute_result"
    }
   ],
   "source": [
    "mask_criteria3 = mask_ir#&mask_ir2\n",
    "features_criteria3 = df_auc_features['feature'].values[mask_criteria3]\n",
    "len(features_criteria3), features_criteria3"
   ]
  },
  {
   "cell_type": "code",
   "execution_count": 261,
   "id": "2c56c354-05de-4974-8c8d-3f18f14462f9",
   "metadata": {},
   "outputs": [
    {
     "data": {
      "text/html": [
       "<div>\n",
       "<style scoped>\n",
       "    .dataframe tbody tr th:only-of-type {\n",
       "        vertical-align: middle;\n",
       "    }\n",
       "\n",
       "    .dataframe tbody tr th {\n",
       "        vertical-align: top;\n",
       "    }\n",
       "\n",
       "    .dataframe thead th {\n",
       "        text-align: right;\n",
       "    }\n",
       "</style>\n",
       "<table border=\"1\" class=\"dataframe\">\n",
       "  <thead>\n",
       "    <tr style=\"text-align: right;\">\n",
       "      <th></th>\n",
       "      <th>feature</th>\n",
       "      <th>auc_train</th>\n",
       "      <th>auc_valid</th>\n",
       "      <th>auc_test</th>\n",
       "      <th>auc_test2</th>\n",
       "      <th>mir_point@1_train</th>\n",
       "      <th>mir_point@1_valid</th>\n",
       "      <th>mir_point@1_test</th>\n",
       "      <th>mir_point@1_test2</th>\n",
       "      <th>mir_day@1_train</th>\n",
       "      <th>mir_day@1_valid</th>\n",
       "      <th>mir_day@1_test</th>\n",
       "      <th>mir_day@1_test2</th>\n",
       "      <th>mir_month@1_train</th>\n",
       "      <th>mir_month@1_valid</th>\n",
       "      <th>mir_month@1_test</th>\n",
       "      <th>mir_month@1_test2</th>\n",
       "      <th>mir_point@2_train</th>\n",
       "      <th>mir_point@2_valid</th>\n",
       "      <th>mir_point@2_test</th>\n",
       "      <th>mir_point@2_test2</th>\n",
       "      <th>mir_day@2_train</th>\n",
       "      <th>mir_day@2_valid</th>\n",
       "      <th>mir_day@2_test</th>\n",
       "      <th>mir_day@2_test2</th>\n",
       "      <th>mir_month@2_train</th>\n",
       "      <th>mir_month@2_valid</th>\n",
       "      <th>mir_month@2_test</th>\n",
       "      <th>mir_month@2_test2</th>\n",
       "    </tr>\n",
       "  </thead>\n",
       "  <tbody>\n",
       "    <tr>\n",
       "      <th>806</th>\n",
       "      <td>close_w60_ma_up_3std/close</td>\n",
       "      <td>0.540886</td>\n",
       "      <td>0.580822</td>\n",
       "      <td>0.520473</td>\n",
       "      <td>0.505983</td>\n",
       "      <td>0.002105</td>\n",
       "      <td>0.000670</td>\n",
       "      <td>0.000454</td>\n",
       "      <td>-0.001538</td>\n",
       "      <td>0.002796</td>\n",
       "      <td>0.006240</td>\n",
       "      <td>0.003665</td>\n",
       "      <td>0.002381</td>\n",
       "      <td>0.034146</td>\n",
       "      <td>0.095780</td>\n",
       "      <td>0.043127</td>\n",
       "      <td>0.035709</td>\n",
       "      <td>0.000874</td>\n",
       "      <td>0.001366</td>\n",
       "      <td>-0.000126</td>\n",
       "      <td>-0.000762</td>\n",
       "      <td>0.001222</td>\n",
       "      <td>0.003746</td>\n",
       "      <td>0.000982</td>\n",
       "      <td>-0.000552</td>\n",
       "      <td>0.023214</td>\n",
       "      <td>0.076672</td>\n",
       "      <td>0.020597</td>\n",
       "      <td>-0.011229</td>\n",
       "    </tr>\n",
       "    <tr>\n",
       "      <th>682</th>\n",
       "      <td>close/close_w10_expma</td>\n",
       "      <td>0.541985</td>\n",
       "      <td>0.554707</td>\n",
       "      <td>0.532390</td>\n",
       "      <td>0.533351</td>\n",
       "      <td>0.002578</td>\n",
       "      <td>0.001389</td>\n",
       "      <td>0.001155</td>\n",
       "      <td>-0.000265</td>\n",
       "      <td>0.003953</td>\n",
       "      <td>0.003681</td>\n",
       "      <td>0.004298</td>\n",
       "      <td>0.002255</td>\n",
       "      <td>0.068662</td>\n",
       "      <td>0.080975</td>\n",
       "      <td>0.094545</td>\n",
       "      <td>0.049613</td>\n",
       "      <td>0.000943</td>\n",
       "      <td>0.000537</td>\n",
       "      <td>0.000479</td>\n",
       "      <td>0.000727</td>\n",
       "      <td>0.000288</td>\n",
       "      <td>-0.001913</td>\n",
       "      <td>-0.001979</td>\n",
       "      <td>-0.002720</td>\n",
       "      <td>0.006328</td>\n",
       "      <td>-0.042090</td>\n",
       "      <td>-0.043540</td>\n",
       "      <td>-0.059830</td>\n",
       "    </tr>\n",
       "    <tr>\n",
       "      <th>681</th>\n",
       "      <td>close/close_w5_expma</td>\n",
       "      <td>0.543109</td>\n",
       "      <td>0.553719</td>\n",
       "      <td>0.527951</td>\n",
       "      <td>0.530296</td>\n",
       "      <td>0.002169</td>\n",
       "      <td>0.000826</td>\n",
       "      <td>0.000992</td>\n",
       "      <td>0.000010</td>\n",
       "      <td>0.003401</td>\n",
       "      <td>0.002098</td>\n",
       "      <td>0.002933</td>\n",
       "      <td>0.001569</td>\n",
       "      <td>0.069097</td>\n",
       "      <td>0.046157</td>\n",
       "      <td>0.064521</td>\n",
       "      <td>0.034528</td>\n",
       "      <td>0.001441</td>\n",
       "      <td>-0.000333</td>\n",
       "      <td>0.000228</td>\n",
       "      <td>-0.000380</td>\n",
       "      <td>0.003132</td>\n",
       "      <td>0.001291</td>\n",
       "      <td>0.001720</td>\n",
       "      <td>0.001117</td>\n",
       "      <td>0.068736</td>\n",
       "      <td>0.028391</td>\n",
       "      <td>0.037843</td>\n",
       "      <td>0.024578</td>\n",
       "    </tr>\n",
       "    <tr>\n",
       "      <th>745</th>\n",
       "      <td>close_w10_max/close</td>\n",
       "      <td>0.530019</td>\n",
       "      <td>0.551926</td>\n",
       "      <td>0.514206</td>\n",
       "      <td>0.522501</td>\n",
       "      <td>0.002035</td>\n",
       "      <td>0.002064</td>\n",
       "      <td>0.002131</td>\n",
       "      <td>-0.000189</td>\n",
       "      <td>0.001698</td>\n",
       "      <td>0.002847</td>\n",
       "      <td>0.004406</td>\n",
       "      <td>0.001414</td>\n",
       "      <td>0.029842</td>\n",
       "      <td>0.059714</td>\n",
       "      <td>0.092418</td>\n",
       "      <td>0.030642</td>\n",
       "      <td>0.000637</td>\n",
       "      <td>0.000318</td>\n",
       "      <td>0.000455</td>\n",
       "      <td>-0.000351</td>\n",
       "      <td>0.001607</td>\n",
       "      <td>0.001425</td>\n",
       "      <td>0.001785</td>\n",
       "      <td>0.001014</td>\n",
       "      <td>0.034766</td>\n",
       "      <td>0.031342</td>\n",
       "      <td>0.039277</td>\n",
       "      <td>0.022299</td>\n",
       "    </tr>\n",
       "    <tr>\n",
       "      <th>634</th>\n",
       "      <td>close/close_w10_ma</td>\n",
       "      <td>0.534614</td>\n",
       "      <td>0.545147</td>\n",
       "      <td>0.530869</td>\n",
       "      <td>0.530674</td>\n",
       "      <td>0.002598</td>\n",
       "      <td>0.001253</td>\n",
       "      <td>0.001298</td>\n",
       "      <td>0.000099</td>\n",
       "      <td>0.003884</td>\n",
       "      <td>0.003581</td>\n",
       "      <td>0.004345</td>\n",
       "      <td>0.002427</td>\n",
       "      <td>0.067875</td>\n",
       "      <td>0.078774</td>\n",
       "      <td>0.095588</td>\n",
       "      <td>0.053403</td>\n",
       "      <td>0.000957</td>\n",
       "      <td>-0.000041</td>\n",
       "      <td>0.000591</td>\n",
       "      <td>0.000400</td>\n",
       "      <td>0.000554</td>\n",
       "      <td>-0.001990</td>\n",
       "      <td>-0.001682</td>\n",
       "      <td>-0.002268</td>\n",
       "      <td>0.012178</td>\n",
       "      <td>-0.043781</td>\n",
       "      <td>-0.036993</td>\n",
       "      <td>-0.049886</td>\n",
       "    </tr>\n",
       "    <tr>\n",
       "      <th>1173</th>\n",
       "      <td>close_1hour_w5_max/close</td>\n",
       "      <td>0.522513</td>\n",
       "      <td>0.541638</td>\n",
       "      <td>0.511271</td>\n",
       "      <td>0.514663</td>\n",
       "      <td>0.000539</td>\n",
       "      <td>0.001271</td>\n",
       "      <td>-0.000095</td>\n",
       "      <td>-0.001787</td>\n",
       "      <td>0.001403</td>\n",
       "      <td>0.002364</td>\n",
       "      <td>0.002778</td>\n",
       "      <td>0.002223</td>\n",
       "      <td>0.027763</td>\n",
       "      <td>0.052001</td>\n",
       "      <td>0.059694</td>\n",
       "      <td>0.048916</td>\n",
       "      <td>0.000456</td>\n",
       "      <td>0.000631</td>\n",
       "      <td>-0.000176</td>\n",
       "      <td>-0.001650</td>\n",
       "      <td>0.001605</td>\n",
       "      <td>0.002102</td>\n",
       "      <td>0.002308</td>\n",
       "      <td>0.001580</td>\n",
       "      <td>0.033529</td>\n",
       "      <td>0.046237</td>\n",
       "      <td>0.050769</td>\n",
       "      <td>0.034750</td>\n",
       "    </tr>\n",
       "    <tr>\n",
       "      <th>66</th>\n",
       "      <td>close_w30_lvl_1.03-1.04</td>\n",
       "      <td>0.507769</td>\n",
       "      <td>0.523443</td>\n",
       "      <td>0.513280</td>\n",
       "      <td>0.499547</td>\n",
       "      <td>-0.000056</td>\n",
       "      <td>0.000207</td>\n",
       "      <td>0.000265</td>\n",
       "      <td>-0.002393</td>\n",
       "      <td>0.001057</td>\n",
       "      <td>0.001614</td>\n",
       "      <td>0.002255</td>\n",
       "      <td>0.002739</td>\n",
       "      <td>0.020913</td>\n",
       "      <td>0.035518</td>\n",
       "      <td>0.048455</td>\n",
       "      <td>0.060251</td>\n",
       "      <td>-0.000056</td>\n",
       "      <td>0.000207</td>\n",
       "      <td>0.000265</td>\n",
       "      <td>-0.002393</td>\n",
       "      <td>0.001057</td>\n",
       "      <td>0.001614</td>\n",
       "      <td>0.002255</td>\n",
       "      <td>0.002739</td>\n",
       "      <td>0.020913</td>\n",
       "      <td>0.035518</td>\n",
       "      <td>0.048455</td>\n",
       "      <td>0.060251</td>\n",
       "    </tr>\n",
       "  </tbody>\n",
       "</table>\n",
       "</div>"
      ],
      "text/plain": [
       "                         feature  auc_train  auc_valid  auc_test  auc_test2  \\\n",
       "806   close_w60_ma_up_3std/close   0.540886   0.580822  0.520473   0.505983   \n",
       "682        close/close_w10_expma   0.541985   0.554707  0.532390   0.533351   \n",
       "681         close/close_w5_expma   0.543109   0.553719  0.527951   0.530296   \n",
       "745          close_w10_max/close   0.530019   0.551926  0.514206   0.522501   \n",
       "634           close/close_w10_ma   0.534614   0.545147  0.530869   0.530674   \n",
       "1173    close_1hour_w5_max/close   0.522513   0.541638  0.511271   0.514663   \n",
       "66       close_w30_lvl_1.03-1.04   0.507769   0.523443  0.513280   0.499547   \n",
       "\n",
       "      mir_point@1_train  mir_point@1_valid  mir_point@1_test  \\\n",
       "806            0.002105           0.000670          0.000454   \n",
       "682            0.002578           0.001389          0.001155   \n",
       "681            0.002169           0.000826          0.000992   \n",
       "745            0.002035           0.002064          0.002131   \n",
       "634            0.002598           0.001253          0.001298   \n",
       "1173           0.000539           0.001271         -0.000095   \n",
       "66            -0.000056           0.000207          0.000265   \n",
       "\n",
       "      mir_point@1_test2  mir_day@1_train  mir_day@1_valid  mir_day@1_test  \\\n",
       "806           -0.001538         0.002796         0.006240        0.003665   \n",
       "682           -0.000265         0.003953         0.003681        0.004298   \n",
       "681            0.000010         0.003401         0.002098        0.002933   \n",
       "745           -0.000189         0.001698         0.002847        0.004406   \n",
       "634            0.000099         0.003884         0.003581        0.004345   \n",
       "1173          -0.001787         0.001403         0.002364        0.002778   \n",
       "66            -0.002393         0.001057         0.001614        0.002255   \n",
       "\n",
       "      mir_day@1_test2  mir_month@1_train  mir_month@1_valid  mir_month@1_test  \\\n",
       "806          0.002381           0.034146           0.095780          0.043127   \n",
       "682          0.002255           0.068662           0.080975          0.094545   \n",
       "681          0.001569           0.069097           0.046157          0.064521   \n",
       "745          0.001414           0.029842           0.059714          0.092418   \n",
       "634          0.002427           0.067875           0.078774          0.095588   \n",
       "1173         0.002223           0.027763           0.052001          0.059694   \n",
       "66           0.002739           0.020913           0.035518          0.048455   \n",
       "\n",
       "      mir_month@1_test2  mir_point@2_train  mir_point@2_valid  \\\n",
       "806            0.035709           0.000874           0.001366   \n",
       "682            0.049613           0.000943           0.000537   \n",
       "681            0.034528           0.001441          -0.000333   \n",
       "745            0.030642           0.000637           0.000318   \n",
       "634            0.053403           0.000957          -0.000041   \n",
       "1173           0.048916           0.000456           0.000631   \n",
       "66             0.060251          -0.000056           0.000207   \n",
       "\n",
       "      mir_point@2_test  mir_point@2_test2  mir_day@2_train  mir_day@2_valid  \\\n",
       "806          -0.000126          -0.000762         0.001222         0.003746   \n",
       "682           0.000479           0.000727         0.000288        -0.001913   \n",
       "681           0.000228          -0.000380         0.003132         0.001291   \n",
       "745           0.000455          -0.000351         0.001607         0.001425   \n",
       "634           0.000591           0.000400         0.000554        -0.001990   \n",
       "1173         -0.000176          -0.001650         0.001605         0.002102   \n",
       "66            0.000265          -0.002393         0.001057         0.001614   \n",
       "\n",
       "      mir_day@2_test  mir_day@2_test2  mir_month@2_train  mir_month@2_valid  \\\n",
       "806         0.000982        -0.000552           0.023214           0.076672   \n",
       "682        -0.001979        -0.002720           0.006328          -0.042090   \n",
       "681         0.001720         0.001117           0.068736           0.028391   \n",
       "745         0.001785         0.001014           0.034766           0.031342   \n",
       "634        -0.001682        -0.002268           0.012178          -0.043781   \n",
       "1173        0.002308         0.001580           0.033529           0.046237   \n",
       "66          0.002255         0.002739           0.020913           0.035518   \n",
       "\n",
       "      mir_month@2_test  mir_month@2_test2  \n",
       "806           0.020597          -0.011229  \n",
       "682          -0.043540          -0.059830  \n",
       "681           0.037843           0.024578  \n",
       "745           0.039277           0.022299  \n",
       "634          -0.036993          -0.049886  \n",
       "1173          0.050769           0.034750  \n",
       "66            0.048455           0.060251  "
      ]
     },
     "execution_count": 261,
     "metadata": {},
     "output_type": "execute_result"
    }
   ],
   "source": [
    "pd.set_option('display.max_rows', 160)\n",
    "df_auc_features.loc[df_auc_features['feature'].isin(features_criteria3)].sort_values('auc_valid', ascending=False)"
   ]
  },
  {
   "cell_type": "code",
   "execution_count": null,
   "id": "c10ae08e-c757-4755-9ac3-bec04e40de4e",
   "metadata": {},
   "outputs": [],
   "source": []
  },
  {
   "cell_type": "code",
   "execution_count": null,
   "id": "d0897475-1ffa-4598-9e20-46de611c9dac",
   "metadata": {},
   "outputs": [],
   "source": []
  },
  {
   "cell_type": "code",
   "execution_count": null,
   "id": "d846a041-c0f1-4000-a036-7576c0fd5fe8",
   "metadata": {},
   "outputs": [],
   "source": []
  },
  {
   "cell_type": "markdown",
   "id": "655227a2-e0de-4198-84d3-136e19d45472",
   "metadata": {},
   "source": [
    "### model"
   ]
  },
  {
   "cell_type": "code",
   "execution_count": null,
   "id": "dd06d627-bbc5-4560-92e3-a5c75286c51b",
   "metadata": {},
   "outputs": [],
   "source": []
  },
  {
   "cell_type": "code",
   "execution_count": 267,
   "id": "be183f90-2574-4e8c-b026-fddda5a547c0",
   "metadata": {},
   "outputs": [],
   "source": [
    "features = features_criteria3.tolist()\n",
    "#features = ['close/close_w30_expma']\n",
    "cat_features = [feature for feature in features if feature in cat_features_all]"
   ]
  },
  {
   "cell_type": "code",
   "execution_count": 269,
   "id": "8ba6eabe-4549-43db-869c-def297526684",
   "metadata": {},
   "outputs": [
    {
     "data": {
      "text/plain": [
       "(7, 0)"
      ]
     },
     "execution_count": 269,
     "metadata": {},
     "output_type": "execute_result"
    }
   ],
   "source": [
    "len(features), len(cat_features)"
   ]
  },
  {
   "cell_type": "code",
   "execution_count": 271,
   "id": "c4760c04-cfb4-4eb3-b2af-72ff5783d4bd",
   "metadata": {},
   "outputs": [
    {
     "data": {
      "text/plain": [
       "False"
      ]
     },
     "execution_count": 271,
     "metadata": {},
     "output_type": "execute_result"
    }
   ],
   "source": [
    "'ticker_code' in features"
   ]
  },
  {
   "cell_type": "code",
   "execution_count": 273,
   "id": "5b168574-e058-4f88-9053-27addf400943",
   "metadata": {},
   "outputs": [],
   "source": [
    "D_train = lgbm.Dataset(df.loc[mask_train, features], label=df.loc[mask_train, target], feature_name=features, categorical_feature=cat_features, free_raw_data=False)\n",
    "D_valid = lgbm.Dataset(df.loc[mask_valid, features], label=df.loc[mask_valid, target], feature_name=features, categorical_feature=cat_features, free_raw_data=False)\n",
    "D_test = lgbm.Dataset(df.loc[mask_test, features], label=df.loc[mask_test, target], feature_name=features, categorical_feature=cat_features, free_raw_data=False)\n",
    "D_test2 = lgbm.Dataset(df.loc[mask_test2, features], label=df.loc[mask_test2, target], feature_name=features, categorical_feature=cat_features, free_raw_data=False)\n",
    "\n",
    "\n",
    "D_train.income_rate = df.loc[mask_train, 'income_rate'].values\n",
    "D_valid.income_rate = df.loc[mask_valid, 'income_rate'].values\n",
    "D_test.income_rate = df.loc[mask_test, 'income_rate'].values\n",
    "D_test2.income_rate = df.loc[mask_test2, 'income_rate'].values\n",
    "\n",
    "D_train.time = df.loc[mask_train, 'time'].values\n",
    "D_valid.time = df.loc[mask_valid, 'time'].values\n",
    "D_test.time = df.loc[mask_test, 'time'].values\n",
    "D_test2.time = df.loc[mask_test2, 'time'].values"
   ]
  },
  {
   "cell_type": "code",
   "execution_count": 275,
   "id": "2db16284-fc7e-4e11-8fb5-f81242d5c1c5",
   "metadata": {},
   "outputs": [],
   "source": [
    "# D_test3 = lgbm.Dataset(df.loc[mask_test3, features], label=df.loc[mask_test3, target], feature_name=features, categorical_feature=cat_features, free_raw_data=False)\n",
    "# D_test3.income_rate = df.loc[mask_test3, 'income_rate'].values\n",
    "# D_test3.time = df.loc[mask_test3, 'time'].values\n"
   ]
  },
  {
   "cell_type": "code",
   "execution_count": null,
   "id": "f4bba79b-8148-4f1d-b6d1-edeccbd1c3ca",
   "metadata": {},
   "outputs": [],
   "source": []
  },
  {
   "cell_type": "code",
   "execution_count": 353,
   "id": "4850aaa6-6479-48b2-9904-ea030be3cc6f",
   "metadata": {},
   "outputs": [
    {
     "name": "stderr",
     "output_type": "stream",
     "text": [
      "/opt/anaconda3/lib/python3.12/site-packages/lightgbm/engine.py:204: UserWarning: Found `num_boost_round` in params. Will use it instead of argument\n",
      "  _log_warning(f\"Found `{alias}` in params. Will use it instead of argument\")\n"
     ]
    }
   ],
   "source": [
    "\n",
    "\n",
    "\n",
    "# def mean_income_rate(y_pred, data):\n",
    "#     q = 0.98\n",
    "#     mask = y_pred >= np.quantile(y_pred, q)\n",
    "#     score = round(data.income_rate[mask].mean(), 5)\n",
    "    \n",
    "#     return 'mean_income_rate', score, True#is_higher_better\n",
    "\n",
    "# def mean_income_rate(y_pred, D_sample):\n",
    "#     q = 0.99\n",
    "#     mask = y_pred >= np.quantile(y_pred, q)\n",
    "#     #mask = y_pred >= threshold\n",
    "#     df_sup = pd.DataFrame({'time' : D_sample.time,\n",
    "#                            'income_rate' : D_sample.income_rate,\n",
    "#                            'y_pred' : y_pred})\n",
    "#     #score = (df_sup.loc[mask].groupby(pd.Grouper(key='time', freq='D')).income_rate.mean()-1).mean() #day\n",
    "#     score = (df_sup.loc[mask].groupby(pd.Grouper(key='time', freq='D')).income_rate.mean()-1).mean() * df_sup.loc[mask, 'time'].dt.date.nunique()\n",
    "#     score = score * (22 / df_sup['time'].dt.date.nunique()) #22 day in month\n",
    "#     score = round(score, 4)\n",
    "    \n",
    "#     return 'mean_income_rate', score, True#is_higher_better\n",
    "\n",
    "params = {\n",
    "    \"boosting_type\": \"gbdt\",\n",
    "    \"objective\": \"binary\",\n",
    "    \n",
    "    \n",
    "    \"num_boost_round\" : 20,\n",
    "\n",
    "    \n",
    "    \"num_leaves\": 2,\n",
    "    #\"learning_rate\": 0.001,\n",
    "     \"feature_fraction\": 0.5,\n",
    "     \"bagging_fraction\": 0.5,\n",
    "     \"bagging_freq\": 1,\n",
    "     'lambda_l1' : 10,\n",
    "     'lambda_l2' : 10,\n",
    "    #\"verbose\": 0,\n",
    "\n",
    "    #'max_bin' : 100000,\n",
    "    \n",
    "    \n",
    "    #\"metric\": \"auc\",\n",
    "     #\"metric\" : 'mean_income_rate',\n",
    "     #\"early_stopping\" : 10,\n",
    "\n",
    "\n",
    "\n",
    "    \n",
    "}\n",
    "\n",
    "\n",
    "    \n",
    "\n",
    "model = lgbm.train(params, train_set=D_train, valid_sets=[D_valid], feval=mean_income_rate, )"
   ]
  },
  {
   "cell_type": "code",
   "execution_count": 355,
   "id": "da124508-57d4-4975-a91c-6c03fb5c1887",
   "metadata": {},
   "outputs": [
    {
     "data": {
      "text/plain": [
       "20"
      ]
     },
     "execution_count": 355,
     "metadata": {},
     "output_type": "execute_result"
    }
   ],
   "source": [
    "model.num_trees()"
   ]
  },
  {
   "cell_type": "code",
   "execution_count": null,
   "id": "aaaeb79e-9d06-4ff6-9ea9-25fe493f2442",
   "metadata": {},
   "outputs": [],
   "source": []
  },
  {
   "cell_type": "code",
   "execution_count": 358,
   "id": "2552168c-b31b-408e-b055-ecb7e47ab560",
   "metadata": {},
   "outputs": [
    {
     "data": {
      "text/plain": [
       "(0.5657399152425563,\n",
       " 0.5995869033071056,\n",
       " 0.5386819295644371,\n",
       " 0.5324740063205426)"
      ]
     },
     "execution_count": 358,
     "metadata": {},
     "output_type": "execute_result"
    }
   ],
   "source": [
    "y_pred_train = model.predict(D_train.data)\n",
    "y_pred_valid = model.predict(D_valid.data)\n",
    "y_pred_test = model.predict(D_test.data)\n",
    "y_pred_test2 = model.predict(D_test2.data)\n",
    "\n",
    "\n",
    "df[\"y_pred\"] = None\n",
    "df.loc[mask_train, 'y_pred'] = y_pred_train\n",
    "df.loc[mask_valid, 'y_pred'] = y_pred_valid\n",
    "df.loc[mask_test, 'y_pred'] = y_pred_test\n",
    "df.loc[mask_test2, 'y_pred'] = y_pred_test2\n",
    "\n",
    "roc_auc_score(D_train.label, y_pred_train), roc_auc_score(D_valid.label, y_pred_valid), roc_auc_score(D_test.label, y_pred_test), roc_auc_score(D_test2.label, y_pred_test2)\n"
   ]
  },
  {
   "cell_type": "code",
   "execution_count": null,
   "id": "e01f5937-e481-4103-a124-c726c6d1eee5",
   "metadata": {},
   "outputs": [],
   "source": []
  },
  {
   "cell_type": "code",
   "execution_count": 361,
   "id": "3a6e2953-4108-4ff0-84b4-ab0cfa745204",
   "metadata": {},
   "outputs": [
    {
     "name": "stdout",
     "output_type": "stream",
     "text": [
      "\n",
      "Valid\n",
      "result\n",
      "LOSE    0.624216\n",
      "WIN     0.348181\n",
      "DNF     0.027604\n",
      "Name: proportion, dtype: float64\n",
      "1.00353\n",
      "\n",
      "Test\n",
      "result\n",
      "LOSE    0.727326\n",
      "WIN     0.262791\n",
      "DNF     0.009884\n",
      "Name: proportion, dtype: float64\n",
      "0.9996896\n",
      "\n",
      "Test2\n",
      "result\n",
      "LOSE    0.681171\n",
      "WIN     0.282229\n",
      "DNF     0.036600\n",
      "Name: proportion, dtype: float64\n",
      "1.0010439\n"
     ]
    }
   ],
   "source": [
    "#свой threshold\n",
    "\n",
    "q = 0.99\n",
    "\n",
    "threshold = np.quantile(df.loc[mask_valid, 'y_pred'], q=q)\n",
    "mask = df['y_pred'] >= threshold\n",
    "print('\\nValid')\n",
    "print(df.loc[mask_valid&mask, 'result'].value_counts(normalize=True))\n",
    "print(df.loc[mask_valid&mask, 'income_rate'].mean())\n",
    "\n",
    "threshold = np.quantile(df.loc[mask_test, 'y_pred'], q=q)\n",
    "mask = df['y_pred'] >= threshold\n",
    "print('\\nTest')\n",
    "print(df.loc[mask_test&mask, 'result'].value_counts(normalize=True))\n",
    "print(df.loc[mask_test&mask, 'income_rate'].mean())\n",
    "\n",
    "threshold = np.quantile(df.loc[mask_test2, 'y_pred'], q=q)\n",
    "mask = df['y_pred'] >= threshold\n",
    "print('\\nTest2')\n",
    "print(df.loc[mask_test2&mask, 'result'].value_counts(normalize=True))\n",
    "print(df.loc[mask_test2&mask, 'income_rate'].mean())"
   ]
  },
  {
   "cell_type": "code",
   "execution_count": null,
   "id": "236f1f7f-fc28-4869-ad70-1c71505778a8",
   "metadata": {},
   "outputs": [],
   "source": []
  },
  {
   "cell_type": "code",
   "execution_count": 364,
   "id": "9439068c-13b2-4374-9904-0c411ff6d9b7",
   "metadata": {},
   "outputs": [
    {
     "name": "stdout",
     "output_type": "stream",
     "text": [
      "threshokd = 0.2169180888975168\n",
      "\n",
      "Valid\n",
      "result\n",
      "LOSE    0.624216\n",
      "WIN     0.348181\n",
      "DNF     0.027604\n",
      "Name: proportion, dtype: float64\n",
      "1.00353\n",
      "\n",
      "Test\n",
      "result\n",
      "LOSE    0.732320\n",
      "WIN     0.257766\n",
      "DNF     0.009914\n",
      "Name: proportion, dtype: float64\n",
      "0.9994923\n",
      "\n",
      "Tetst2\n",
      "result\n",
      "LOSE    0.680699\n",
      "WIN     0.285266\n",
      "DNF     0.034035\n",
      "Name: proportion, dtype: float64\n",
      "1.0011106\n"
     ]
    }
   ],
   "source": [
    "#общий threshold\n",
    "\n",
    "threshold = np.quantile(df.loc[mask_valid, 'y_pred'], q=q)\n",
    "print(f'threshokd = {threshold}')\n",
    "\n",
    "mask = df['y_pred'] >= threshold\n",
    "print('\\nValid')\n",
    "print(df.loc[mask_valid&mask, 'result'].value_counts(normalize=True))\n",
    "print(df.loc[mask_valid&mask, 'income_rate'].mean())\n",
    "\n",
    "#threshold = np.quantile(df.loc[mask_test, 'y_pred'], q=0.99)\n",
    "#mask = df['y_pred'] > threshold\n",
    "print(\"\\nTest\")\n",
    "print(df.loc[mask_test&mask, 'result'].value_counts(normalize=True))\n",
    "print(df.loc[mask_test&mask, 'income_rate'].mean())\n",
    "\n",
    "#threshold = np.quantile(df.loc[mask_test2, 'y_pred'], q=0.99)\n",
    "#mask = df['y_pred'] > threshold\n",
    "print('\\nTetst2')\n",
    "print(df.loc[mask_test2&mask, 'result'].value_counts(normalize=True))\n",
    "print(df.loc[mask_test2&mask, 'income_rate'].mean())"
   ]
  },
  {
   "cell_type": "code",
   "execution_count": null,
   "id": "c722fd25-a805-451b-863e-4dc0671f4a58",
   "metadata": {},
   "outputs": [],
   "source": []
  },
  {
   "cell_type": "code",
   "execution_count": 367,
   "id": "127a8447-9068-4285-ad44-3c5ef93c45c8",
   "metadata": {},
   "outputs": [
    {
     "data": {
      "text/plain": [
       "(0.006333470344543457, -0.0019090771675109863, 0.0011466741561889648)"
      ]
     },
     "execution_count": 367,
     "metadata": {},
     "output_type": "execute_result"
    }
   ],
   "source": [
    "threshold = np.quantile(df.loc[mask_valid, 'y_pred'], q=0.999)\n",
    "mask = df['y_pred'] >= threshold\n",
    "\n",
    "mean_income_rate_point(D_valid, y_pred_valid, threshold=threshold), mean_income_rate_point(D_test, y_pred_test, threshold=threshold), mean_income_rate_point(D_test2, y_pred_test2, threshold=threshold)"
   ]
  },
  {
   "cell_type": "code",
   "execution_count": 369,
   "id": "a9e95436-16ba-4632-b96e-d5c10d32a565",
   "metadata": {},
   "outputs": [],
   "source": [
    "#(0.00519963161109227, 0.004548106594387313, 0.005202952029520258)"
   ]
  },
  {
   "cell_type": "code",
   "execution_count": 371,
   "id": "dbb697b3-1e88-4b4e-b922-ae1ea0d8fa13",
   "metadata": {},
   "outputs": [
    {
     "data": {
      "text/plain": [
       "(0.9986447, 0.99961483, 0.9991903)"
      ]
     },
     "execution_count": 371,
     "metadata": {},
     "output_type": "execute_result"
    }
   ],
   "source": [
    "df.loc[mask_valid, 'income_rate'].mean(), df.loc[mask_test, 'income_rate'].mean(), df.loc[mask_test2, 'income_rate'].mean()"
   ]
  },
  {
   "cell_type": "code",
   "execution_count": 373,
   "id": "3b989fbc-e4fe-4b3c-aa9d-42c9da3f7559",
   "metadata": {},
   "outputs": [
    {
     "data": {
      "text/plain": [
       "(-0.003504932, -0.0008935283, -0.0014039186)"
      ]
     },
     "execution_count": 373,
     "metadata": {},
     "output_type": "execute_result"
    }
   ],
   "source": [
    "mean_income_rate_day(D_valid, y_pred_valid, threshold=threshold), mean_income_rate_day(D_test, y_pred_test, threshold=threshold), mean_income_rate_day(D_test2, y_pred_test2, threshold=threshold)"
   ]
  },
  {
   "cell_type": "code",
   "execution_count": 375,
   "id": "62160626-6d7a-4c88-8471-f2a2b1c17f43",
   "metadata": {},
   "outputs": [],
   "source": [
    "#(0.004938866300974756, 0.006170416911948592, 0.0044445648451688635)"
   ]
  },
  {
   "cell_type": "code",
   "execution_count": 377,
   "id": "aea3a286-0760-41f5-ac3b-ff66d45231b3",
   "metadata": {},
   "outputs": [
    {
     "data": {
      "text/plain": [
       "(-0.03945086168688397, -0.010971696116030216, -0.012167294587319095)"
      ]
     },
     "execution_count": 377,
     "metadata": {},
     "output_type": "execute_result"
    }
   ],
   "source": [
    "mean_income_rate_month(D_valid, y_pred_valid, threshold=threshold), mean_income_rate_month(D_test, y_pred_test, threshold=threshold), mean_income_rate_month(D_test2, y_pred_test2, threshold=threshold)"
   ]
  },
  {
   "cell_type": "code",
   "execution_count": 379,
   "id": "ec3d4ecf-ff87-4d7a-baac-367d1dff8e44",
   "metadata": {},
   "outputs": [],
   "source": [
    "#(0.06822526936695361, 0.06629610728651743, 0.06960640537179712)"
   ]
  },
  {
   "cell_type": "code",
   "execution_count": 381,
   "id": "27a7acb5-0755-400c-bbba-2cb111554c54",
   "metadata": {},
   "outputs": [
    {
     "data": {
      "text/plain": [
       "(Timedelta('0 days 02:30:00'),\n",
       " Timedelta('0 days 01:45:00'),\n",
       " Timedelta('0 days 02:00:00'))"
      ]
     },
     "execution_count": 381,
     "metadata": {},
     "output_type": "execute_result"
    }
   ],
   "source": [
    "df.loc[mask_valid&mask, 'delta_time'].median(), df.loc[mask_test&mask, 'delta_time'].median(), df.loc[mask_test2&mask, 'delta_time'].median()"
   ]
  },
  {
   "cell_type": "code",
   "execution_count": 1211,
   "id": "a401c562-edba-46e9-b760-c71b7490b794",
   "metadata": {},
   "outputs": [
    {
     "data": {
      "text/plain": [
       "(156, 342, 299)"
      ]
     },
     "execution_count": 1211,
     "metadata": {},
     "output_type": "execute_result"
    }
   ],
   "source": [
    "(mask_valid&mask).sum(), (mask_test&mask).sum(), (mask_test2&mask).sum()"
   ]
  },
  {
   "cell_type": "code",
   "execution_count": 1213,
   "id": "702017dd-4346-4ce9-a57d-99f9fba9f35f",
   "metadata": {},
   "outputs": [
    {
     "data": {
      "text/plain": [
       "(7, 14, 15)"
      ]
     },
     "execution_count": 1213,
     "metadata": {},
     "output_type": "execute_result"
    }
   ],
   "source": [
    "df.loc[mask_valid&mask, 'time'].dt.date.nunique(), df.loc[mask_test&mask, 'time'].dt.date.nunique(), df.loc[mask_test2&mask, 'time'].dt.date.nunique()\n"
   ]
  },
  {
   "cell_type": "code",
   "execution_count": 1108,
   "id": "1377a1cb-9386-4147-9b51-2c5ea72f3006",
   "metadata": {},
   "outputs": [
    {
     "data": {
      "text/plain": [
       "array(['SPBE', 'MTLRP', 'SGZH', 'UWGN', 'TGKN', 'ABIO', 'VSMO', 'IRKT',\n",
       "       'RTKM', 'SMLT', 'PIKK'], dtype=object)"
      ]
     },
     "execution_count": 1108,
     "metadata": {},
     "output_type": "execute_result"
    }
   ],
   "source": [
    "df.loc[mask_test2&mask, 'ticker'].unique()"
   ]
  },
  {
   "cell_type": "code",
   "execution_count": 1110,
   "id": "88e63d91-3ce6-49e8-82e3-e38943c7ba76",
   "metadata": {
    "id": "88e63d91-3ce6-49e8-82e3-e38943c7ba76",
    "scrolled": true
   },
   "outputs": [
    {
     "name": "stderr",
     "output_type": "stream",
     "text": [
      "/var/folders/rm/zt5_90s5727289mv2gzbkw980000gn/T/ipykernel_33127/480691733.py:2: DeprecationWarning: DataFrameGroupBy.apply operated on the grouping columns. This behavior is deprecated, and in a future version of pandas the grouping columns will be excluded from the operation. Either pass `include_groups=False` to exclude the groupings or explicitly select the grouping columns after groupby to silence this warning.\n",
      "  df.loc[mask_test2&mask, ['ticker', 'income_rate']].groupby('ticker').apply(lambda x: pd.Series({'count' : x['income_rate'].count(),\n"
     ]
    },
    {
     "data": {
      "text/html": [
       "<div>\n",
       "<style scoped>\n",
       "    .dataframe tbody tr th:only-of-type {\n",
       "        vertical-align: middle;\n",
       "    }\n",
       "\n",
       "    .dataframe tbody tr th {\n",
       "        vertical-align: top;\n",
       "    }\n",
       "\n",
       "    .dataframe thead th {\n",
       "        text-align: right;\n",
       "    }\n",
       "</style>\n",
       "<table border=\"1\" class=\"dataframe\">\n",
       "  <thead>\n",
       "    <tr style=\"text-align: right;\">\n",
       "      <th></th>\n",
       "      <th>count</th>\n",
       "      <th>income_rate</th>\n",
       "    </tr>\n",
       "    <tr>\n",
       "      <th>ticker</th>\n",
       "      <th></th>\n",
       "      <th></th>\n",
       "    </tr>\n",
       "  </thead>\n",
       "  <tbody>\n",
       "    <tr>\n",
       "      <th>UWGN</th>\n",
       "      <td>1.0</td>\n",
       "      <td>0.979000</td>\n",
       "    </tr>\n",
       "    <tr>\n",
       "      <th>SPBE</th>\n",
       "      <td>2.0</td>\n",
       "      <td>1.020061</td>\n",
       "    </tr>\n",
       "    <tr>\n",
       "      <th>RTKM</th>\n",
       "      <td>3.0</td>\n",
       "      <td>0.979000</td>\n",
       "    </tr>\n",
       "    <tr>\n",
       "      <th>VSMO</th>\n",
       "      <td>3.0</td>\n",
       "      <td>1.008054</td>\n",
       "    </tr>\n",
       "    <tr>\n",
       "      <th>SGZH</th>\n",
       "      <td>4.0</td>\n",
       "      <td>1.024000</td>\n",
       "    </tr>\n",
       "    <tr>\n",
       "      <th>MTLRP</th>\n",
       "      <td>6.0</td>\n",
       "      <td>0.979000</td>\n",
       "    </tr>\n",
       "    <tr>\n",
       "      <th>ABIO</th>\n",
       "      <td>10.0</td>\n",
       "      <td>1.009617</td>\n",
       "    </tr>\n",
       "    <tr>\n",
       "      <th>PIKK</th>\n",
       "      <td>15.0</td>\n",
       "      <td>1.011087</td>\n",
       "    </tr>\n",
       "    <tr>\n",
       "      <th>SMLT</th>\n",
       "      <td>39.0</td>\n",
       "      <td>1.033888</td>\n",
       "    </tr>\n",
       "    <tr>\n",
       "      <th>IRKT</th>\n",
       "      <td>54.0</td>\n",
       "      <td>1.014719</td>\n",
       "    </tr>\n",
       "    <tr>\n",
       "      <th>TGKN</th>\n",
       "      <td>55.0</td>\n",
       "      <td>1.012399</td>\n",
       "    </tr>\n",
       "  </tbody>\n",
       "</table>\n",
       "</div>"
      ],
      "text/plain": [
       "        count  income_rate\n",
       "ticker                    \n",
       "UWGN      1.0     0.979000\n",
       "SPBE      2.0     1.020061\n",
       "RTKM      3.0     0.979000\n",
       "VSMO      3.0     1.008054\n",
       "SGZH      4.0     1.024000\n",
       "MTLRP     6.0     0.979000\n",
       "ABIO     10.0     1.009617\n",
       "PIKK     15.0     1.011087\n",
       "SMLT     39.0     1.033888\n",
       "IRKT     54.0     1.014719\n",
       "TGKN     55.0     1.012399"
      ]
     },
     "execution_count": 1110,
     "metadata": {},
     "output_type": "execute_result"
    }
   ],
   "source": [
    "pd.set_option('display.max_rows', 150)\n",
    "df.loc[mask_test2&mask, ['ticker', 'income_rate']].groupby('ticker').apply(lambda x: pd.Series({'count' : x['income_rate'].count(),\n",
    "                                                                                                               'income_rate' : x['income_rate'].mean()})).sort_values('count')"
   ]
  },
  {
   "cell_type": "code",
   "execution_count": null,
   "id": "7d3d6057-174a-4409-9495-2283cf9d89fc",
   "metadata": {},
   "outputs": [],
   "source": []
  },
  {
   "cell_type": "code",
   "execution_count": 1113,
   "id": "07f6f70c-a6b6-4617-bd67-aac5b14b856f",
   "metadata": {
    "id": "07f6f70c-a6b6-4617-bd67-aac5b14b856f",
    "scrolled": true
   },
   "outputs": [
    {
     "data": {
      "text/plain": [
       "[('close_1day_w30_min/close_1day_w30_max', 37.72),\n",
       " ('close_w120_roc', 13.99),\n",
       " ('close_1day_w30_norm_std', 10.3),\n",
       " ('tmos_close_1hour_w120_min/tmos_close_1hour_w120_max', 8.02),\n",
       " ('close_1hour_w120_lvl_1.01-1.02', 7.27),\n",
       " ('close_w30_lvl_-0.97-0.98', 4.57),\n",
       " ('volume_1day_w10_alpha', 3.87),\n",
       " ('tmos_close_1day_w20_rsi/tmos_close_1day_w60_rsi', 2.38),\n",
       " ('close_w30_lvl_-0.96-0.97', 2.05),\n",
       " ('tmos_close_1day_w120_lvl_1-1.005', 1.78),\n",
       " ('close_1day_w5_ma/close_1day_w30_ma', 1.28),\n",
       " ('close_w30_lvl_-0.95-0.96', 0.96),\n",
       " ('tmos_close/tmos_close_1hour_w60_ma', 0.86),\n",
       " ('volume_1hour_w20_norm_std', 0.66),\n",
       " ('close_w60_ma/close_w120_ma', 0.66),\n",
       " ('close_1day_w30_lvl_1.01-1.02', 0.49),\n",
       " ('tmos_close_w60_min/tmos_close_w60_max', 0.46),\n",
       " ('close_w30_lvl_-0.9299999999999999-0.95', 0.43),\n",
       " ('tmos_close_w20_expma/tmos_close_w30_expma', 0.39),\n",
       " ('close_1day_w5_ma/close_1day_w10_ma', 0.39),\n",
       " ('volume/volume_1day_w20_expma', 0.35),\n",
       " ('tmos_close/tmos_close_1hour_w20_ma', 0.31),\n",
       " ('volume_1day_w10_ma_up_3std/volume', 0.27),\n",
       " ('volume_1day_w10_ma_up_2std/volume', 0.2),\n",
       " ('tmos_close_1day_w5_mean_abs_pct', 0.19),\n",
       " ('tmos_close_1hour_w30_lvl_1-1.005', 0.17),\n",
       " ('tmos_close_w1_roc', 0.0),\n",
       " ('tmos_close_w5_norm_std', 0.0),\n",
       " ('tmos_close_w5_roc', 0.0),\n",
       " ('tmos_close_w10_rsi', 0.0),\n",
       " ('tmos_close_w10_roc', 0.0),\n",
       " ('tmos_close_w30_alpha', 0.0),\n",
       " ('close_w30_lvl_1.005-1.01', 0.0),\n",
       " ('close_w120_lvl_1.005-1.01', 0.0),\n",
       " ('volume_1hour_w5_roc', 0.0),\n",
       " ('volume_1hour_w10_mean_abs_pct', 0.0),\n",
       " ('volume_1hour_w10_rsi', 0.0),\n",
       " ('tmos_close_1hour_w10_alpha', 0.0),\n",
       " ('volume_1hour_w20_mean_abs_pct', 0.0),\n",
       " ('close_1hour_w30_lvl_1.005-1.01', 0.0),\n",
       " ('close_1hour_w30_lvl_-0.99-0.995', 0.0),\n",
       " ('close_1hour_w120_lvl_1.03-1.04', 0.0),\n",
       " ('tmos_close_1day_w5_norm_std', 0.0),\n",
       " ('volume_1day_w10_rsi', 0.0),\n",
       " ('close_1day_w30_lvl_-0.995-1', 0.0),\n",
       " ('close_1day_w30_lvl_1.005-1.01', 0.0),\n",
       " ('close_1day_w30_lvl_-0.96-0.97', 0.0),\n",
       " ('close_1day_w60_rsi', 0.0),\n",
       " ('close_w10_alpha/close_w120_alpha', 0.0),\n",
       " ('close_w20_alpha/close_w120_alpha', 0.0),\n",
       " ('volume_w1_roc/volume_w20_alpha', 0.0),\n",
       " ('tmos_close_w5_alpha/tmos_close_w60_alpha', 0.0),\n",
       " ('close_w20_roc/close_w120_roc', 0.0),\n",
       " ('tmos_close_w1_roc/tmos_close_w5_roc', 0.0),\n",
       " ('tmos_close_w1_roc/tmos_close_w10_roc', 0.0),\n",
       " ('tmos_close_w5_roc/tmos_close_w10_roc', 0.0),\n",
       " ('tmos_close_w5_roc/tmos_close_w20_roc', 0.0),\n",
       " ('tmos_close_w20_roc/tmos_close_w120_roc', 0.0),\n",
       " ('tmos_close_w30_roc/tmos_close_w120_roc', 0.0),\n",
       " ('tmos_close_w60_roc/tmos_close_w120_roc', 0.0),\n",
       " ('close_w10_mean_abs_pct/close_w120_mean_abs_pct', 0.0),\n",
       " ('close_w20_mean_abs_pct/close_w120_mean_abs_pct', 0.0),\n",
       " ('close_w30_mean_abs_pct/close_w120_mean_abs_pct', 0.0),\n",
       " ('close_w20_rsi/close_w60_rsi', 0.0),\n",
       " ('close_w30_rsi/close_w60_rsi', 0.0),\n",
       " ('tmos_close/tmos_close_w5_ma', 0.0),\n",
       " ('tmos_close_w5_ma/tmos_close_w60_ma', 0.0),\n",
       " ('tmos_close_w20_ma/tmos_close_w60_ma', 0.0),\n",
       " ('tmos_close/tmos_close_w10_expma', 0.0),\n",
       " ('tmos_close_w5_min/tmos_close', 0.0),\n",
       " ('tmos_close_w10_min/tmos_close', 0.0),\n",
       " ('tmos_close_w5_ma_up_2std/tmos_close', 0.0),\n",
       " ('tmos_close_w5_ma_up_3std/tmos_close', 0.0),\n",
       " ('tmos_close_w10_ma_up_3std/tmos_close', 0.0),\n",
       " ('tmos_close_w5_min/tmos_close_w5_max', 0.0),\n",
       " ('close_1hour_w5_alpha/close_1hour_w30_alpha', 0.0),\n",
       " ('close_1hour_w5_alpha/close_1hour_w60_alpha', 0.0),\n",
       " ('close_1hour_w10_alpha/close_1hour_w60_alpha', 0.0),\n",
       " ('close_1hour_w30_alpha/close_1hour_w60_alpha', 0.0),\n",
       " ('volume_1hour_w1_roc/volume_1hour_w5_alpha', 0.0),\n",
       " ('volume_1hour_w5_alpha/volume_1hour_w10_alpha', 0.0),\n",
       " ('tmos_close_1hour_w1_roc/tmos_close_1hour_w120_alpha', 0.0),\n",
       " ('close_1hour_w5_roc/close_1hour_w30_roc', 0.0),\n",
       " ('tmos_close_1hour_w10_roc/tmos_close_1hour_w60_roc', 0.0),\n",
       " ('tmos_close_1hour_w10_roc/tmos_close_1hour_w120_roc', 0.0),\n",
       " ('close_1hour_w5_mean_abs_pct/close_1hour_w10_mean_abs_pct', 0.0),\n",
       " ('close_1hour_w5_mean_abs_pct/close_1hour_w20_mean_abs_pct', 0.0),\n",
       " ('close_1hour_w5_mean_abs_pct/close_1hour_w30_mean_abs_pct', 0.0),\n",
       " ('close_1hour_w5_mean_abs_pct/close_1hour_w60_mean_abs_pct', 0.0),\n",
       " ('close_1hour_w10_mean_abs_pct/close_1hour_w20_mean_abs_pct', 0.0),\n",
       " ('close_1hour_w10_mean_abs_pct/close_1hour_w60_mean_abs_pct', 0.0),\n",
       " ('close_1hour_w20_mean_abs_pct/close_1hour_w60_mean_abs_pct', 0.0),\n",
       " ('volume_1hour_w10_mean_abs_pct/volume_1hour_w20_mean_abs_pct', 0.0),\n",
       " ('volume_1hour_w5_std/volume_1hour_w20_std', 0.0),\n",
       " ('volume_1hour_w10_std/volume_1hour_w20_std', 0.0),\n",
       " ('tmos_close_1hour_w5_std/tmos_close_1hour_w120_std', 0.0),\n",
       " ('tmos_close_1hour_w20_std/tmos_close_1hour_w60_std', 0.0),\n",
       " ('volume_1hour_w5_norm_std/volume_1hour_w10_norm_std', 0.0),\n",
       " ('volume_1hour_w5_norm_std/volume_1hour_w20_norm_std', 0.0),\n",
       " ('tmos_close_1hour_w5_norm_std/tmos_close_1hour_w120_norm_std', 0.0),\n",
       " ('tmos_close_1hour_w20_norm_std/tmos_close_1hour_w60_norm_std', 0.0),\n",
       " ('close_1hour_w5_rsi/close_1hour_w20_rsi', 0.0),\n",
       " ('close_1hour_w5_rsi/close_1hour_w30_rsi', 0.0),\n",
       " ('close_1hour_w5_rsi/close_1hour_w120_rsi', 0.0),\n",
       " ('volume_1hour_w10_rsi/volume_1hour_w20_rsi', 0.0),\n",
       " ('close_1hour_w20_ma/close_1hour_w30_ma', 0.0),\n",
       " ('volume_1hour_w5_ma/volume_1hour_w10_ma', 0.0),\n",
       " ('volume_1hour_w5_ma/volume_1hour_w20_ma', 0.0),\n",
       " ('volume_1hour_w10_ma/volume_1hour_w20_ma', 0.0),\n",
       " ('volume_1hour_w5_expma/volume_1hour_w10_expma', 0.0),\n",
       " ('volume_1hour_w5_expma/volume_1hour_w20_expma', 0.0),\n",
       " ('tmos_close/tmos_close_1hour_w20_expma', 0.0),\n",
       " ('volume_1hour_w5_min/volume', 0.0),\n",
       " ('volume_1hour_w10_min/volume', 0.0),\n",
       " ('volume_1hour_w20_min/volume', 0.0),\n",
       " ('tmos_close_1hour_w5_min/tmos_close', 0.0),\n",
       " ('volume_1hour_w20_min/volume_1hour_w20_max', 0.0),\n",
       " ('close_1day_w5_alpha/close_1day_w20_alpha', 0.0),\n",
       " ('close_1day_w5_alpha/close_1day_w30_alpha', 0.0),\n",
       " ('close_1day_w10_alpha/close_1day_w20_alpha', 0.0),\n",
       " ('close_1day_w10_alpha/close_1day_w120_alpha', 0.0),\n",
       " ('close_1day_w20_alpha/close_1day_w120_alpha', 0.0),\n",
       " ('volume_1day_w5_alpha/volume_1day_w10_alpha', 0.0),\n",
       " ('close_1day_w1_roc/close_1day_w60_roc', 0.0),\n",
       " ('close_1day_w5_mean_abs_pct/close_1day_w120_mean_abs_pct', 0.0),\n",
       " ('close_1day_w5_norm_std/close_1day_w120_norm_std', 0.0),\n",
       " ('volume_1day_w10_rsi/volume_1day_w20_rsi', 0.0),\n",
       " ('volume_1day_w10_max/volume', 0.0),\n",
       " ('volume_1day_w20_max/volume', 0.0),\n",
       " ('volume_1day_w20_ma_up_3std/volume', 0.0)]"
      ]
     },
     "execution_count": 1113,
     "metadata": {},
     "output_type": "execute_result"
    }
   ],
   "source": [
    "s = model.feature_importance(importance_type='gain').sum()\n",
    "sorted(zip(features, np.round((model.feature_importance(importance_type='gain')/s*100), 2)), key=lambda x: -x[1])"
   ]
  },
  {
   "cell_type": "code",
   "execution_count": null,
   "id": "7df0c630-6d5e-4c7c-896f-54ad85a2d14b",
   "metadata": {},
   "outputs": [],
   "source": []
  },
  {
   "cell_type": "markdown",
   "id": "320ddb35-d238-404f-9d5e-26853fedf9ab",
   "metadata": {},
   "source": [
    "# 3.2 Tuning hyperparams"
   ]
  },
  {
   "cell_type": "code",
   "execution_count": 510,
   "id": "3830ddfb-68d7-49bb-854b-ef9b400c4fef",
   "metadata": {},
   "outputs": [],
   "source": [
    "top_features = [elem[0] for elem in zip(features, model.feature_importance(importance_type='gain')) if elem[1] > 0]\n",
    "top_cat_features = [elem for elem in top_features if elem in cat_features]"
   ]
  },
  {
   "cell_type": "code",
   "execution_count": 512,
   "id": "f0079e8b-c75b-43ce-8dfa-0b11c5dbd394",
   "metadata": {},
   "outputs": [
    {
     "data": {
      "text/plain": [
       "(6, 0)"
      ]
     },
     "execution_count": 512,
     "metadata": {},
     "output_type": "execute_result"
    }
   ],
   "source": [
    "len(top_features), len(top_cat_features)"
   ]
  },
  {
   "cell_type": "code",
   "execution_count": 514,
   "id": "0cbd9a54-bbd3-4f10-beaa-8c6db3147b31",
   "metadata": {},
   "outputs": [
    {
     "data": {
      "text/plain": [
       "['close/close_w10_ma',\n",
       " 'close/close_w30_ma',\n",
       " 'close/close_w10_expma',\n",
       " 'close/close_w30_expma',\n",
       " 'close_w10_max/close',\n",
       " 'close/close_1hour_w10_expma']"
      ]
     },
     "execution_count": 514,
     "metadata": {},
     "output_type": "execute_result"
    }
   ],
   "source": [
    "top_features"
   ]
  },
  {
   "cell_type": "code",
   "execution_count": null,
   "id": "ec82dfda-e5e2-4258-9106-f5be5241cb5b",
   "metadata": {},
   "outputs": [],
   "source": []
  },
  {
   "cell_type": "code",
   "execution_count": 295,
   "id": "fcddee06-e189-47a8-a666-18b21e24cb80",
   "metadata": {},
   "outputs": [],
   "source": [
    "D_train = lgbm.Dataset(df.loc[mask_train, top_features], label=df.loc[mask_train, target], feature_name=top_features, categorical_feature=top_cat_features, free_raw_data=False)\n",
    "D_valid = lgbm.Dataset(df.loc[mask_valid, top_features], label=df.loc[mask_valid, target], feature_name=top_features, categorical_feature=top_cat_features, free_raw_data=False)\n",
    "D_test = lgbm.Dataset(df.loc[mask_test, top_features], label=df.loc[mask_test, target], feature_name=top_features, categorical_feature=top_cat_features, free_raw_data=False)\n",
    "D_test2 = lgbm.Dataset(df.loc[mask_test2, top_features], label=df.loc[mask_test2, target], feature_name=top_features, categorical_feature=top_cat_features, free_raw_data=False)\n",
    "\n",
    "D_train.income_rate = df.loc[mask_train, 'income_rate'].values\n",
    "D_valid.income_rate = df.loc[mask_valid, 'income_rate'].values\n",
    "D_test.income_rate = df.loc[mask_test, 'income_rate'].values\n",
    "D_test2.income_rate = df.loc[mask_test2, 'income_rate'].values\n",
    "\n",
    "D_train.time = df.loc[mask_train, 'time'].values\n",
    "D_valid.time = df.loc[mask_valid, 'time'].values\n",
    "D_test.time = df.loc[mask_test, 'time'].values\n",
    "D_test2.time = df.loc[mask_test2, 'time'].values"
   ]
  },
  {
   "cell_type": "code",
   "execution_count": 518,
   "id": "5dac3a95-2f18-47b9-98ff-371522656d17",
   "metadata": {},
   "outputs": [],
   "source": [
    "#D_train.data"
   ]
  },
  {
   "cell_type": "code",
   "execution_count": 297,
   "id": "fa60a36b-604c-4d8a-a74a-a576dfbf2d80",
   "metadata": {},
   "outputs": [
    {
     "data": {
      "text/plain": [
       "(1446127, 6)"
      ]
     },
     "execution_count": 297,
     "metadata": {},
     "output_type": "execute_result"
    }
   ],
   "source": [
    "D_train.data.shape"
   ]
  },
  {
   "cell_type": "code",
   "execution_count": 299,
   "id": "01e224bf-bb2d-435b-b753-8a0251798823",
   "metadata": {},
   "outputs": [
    {
     "data": {
      "text/plain": [
       "{'boosting_type': 'gbdt',\n",
       " 'objective': 'binary',\n",
       " 'num_boost_round': 1000,\n",
       " 'num_leaves': 5,\n",
       " 'feature_fraction': 0.3,\n",
       " 'bagging_fraction': 0.3,\n",
       " 'bagging_freq': 1,\n",
       " 'lambda_l1': 100,\n",
       " 'lambda_l2': 100,\n",
       " 'metric': 'mean_income_rate',\n",
       " 'early_stopping': 10}"
      ]
     },
     "execution_count": 299,
     "metadata": {},
     "output_type": "execute_result"
    }
   ],
   "source": [
    "params"
   ]
  },
  {
   "cell_type": "code",
   "execution_count": 301,
   "id": "ae4b89ec-8cc0-4a1d-ab2a-c9817c4af666",
   "metadata": {},
   "outputs": [
    {
     "name": "stderr",
     "output_type": "stream",
     "text": [
      "100%|███████████████████████████████████████████████████████████████████████| 768/768 [24:24<00:00,  1.91s/it]\n"
     ]
    }
   ],
   "source": [
    "from IPython.display import clear_output\n",
    "\n",
    "history = {'params' : [],\n",
    "           'num_trees' : [],\n",
    "\n",
    "          \n",
    "           'auc_train' : [],\n",
    "           'auc_valid' : [],\n",
    "           'auc_test' : [],\n",
    "           'auc_test2' : [],\n",
    "\n",
    "          \n",
    "           'mir_point@1_train' : [],\n",
    "           'mir_point@1_valid' : [],\n",
    "           'mir_point@1_test' : [],\n",
    "           'mir_point@1_test2' : [],\n",
    "\n",
    "           'mir_day@1_train' : [],\n",
    "           'mir_day@1_valid' : [],\n",
    "           'mir_day@1_test' : [],\n",
    "           'mir_day@1_test2' : [],\n",
    "\n",
    "           'mir_month@1_train' : [],\n",
    "           'mir_month@1_valid' : [],\n",
    "           'mir_month@1_test' : [],\n",
    "           'mir_month@1_test2' : [],\n",
    "           \n",
    "           'mir_point@2_train' : [],\n",
    "           'mir_point@2_valid' : [],\n",
    "           'mir_point@2_test' : [],\n",
    "           'mir_point@2_test2' : [],\n",
    "          \n",
    "           \n",
    "           'mir_day@2_train' : [],\n",
    "           'mir_day@2_valid' : [],\n",
    "           'mir_day@2_test' : [],\n",
    "           'mir_day@2_test2' : [],\n",
    "\n",
    "\n",
    "           'mir_month@2_train' : [],\n",
    "           'mir_month@2_valid' : [],\n",
    "           'mir_month@2_test' : [],\n",
    "           'mir_month@2_test2' : [],\n",
    "          \n",
    "          }\n",
    "\n",
    "\n",
    "\n",
    "pbar = tqdm(total=4*1*3*8*8)\n",
    "# for lambda_x in [0.001, 0.01, 0.1, 1]:\n",
    "#     for learning_rate in [0.1, 0.01, 0.001]:\n",
    "#         for num_leaves in [2, 4, 8, 16, 32]:\n",
    "#             for feature_fraction in np.arange(1, 0, -0.1):\n",
    "#                 for bagging_fraction in np.arange(1, 0, -0.1):\n",
    "for lambda_x in [1, 10, 100, 1000]:\n",
    "    for learning_rate in [0.1]:\n",
    "        for num_leaves in [2, 5, 8]:\n",
    "            for feature_fraction in np.arange(0.3, 1.1, 0.1)[::-1]:\n",
    "                for bagging_fraction in np.arange(0.3, 1.1, 0.1)[::-1]:\n",
    "                    feature_fraction = min(feature_fraction, 1)\n",
    "                    bagging_fraction = min(bagging_fraction, 1)\n",
    "\n",
    "                    \n",
    "                    params = {\n",
    "                                \"boosting_type\": \"gbdt\",\n",
    "                                \"objective\": \"binary\",\n",
    "                            \n",
    "                                \n",
    "                                 \"num_leaves\": num_leaves,\n",
    "                                 \"learning_rate\": learning_rate,\n",
    "                                 \"feature_fraction\": feature_fraction,\n",
    "                                 \"bagging_fraction\": bagging_fraction,\n",
    "                                 \"bagging_freq\": 1,\n",
    "                                 'lambda_l1' : lambda_x,\n",
    "                                 'lambda_l2' : lambda_x,\n",
    "                                \n",
    "                                \"verbose\": -1,\n",
    "                                    \n",
    "                                \"metric\": 'mean_income_rate',\n",
    "                                \"early_stopping\" : 10,\n",
    "                            }\n",
    "                    model = lgbm.train(params, num_boost_round=1_000, train_set=D_train, valid_sets=[D_valid], feval=mean_income_rate)\n",
    "                    \n",
    "                    y_pred_train = model.predict(D_train.data)\n",
    "                    y_pred_valid = model.predict(D_valid.data)\n",
    "                    y_pred_test = model.predict(D_test.data)\n",
    "                    y_pred_test2 = model.predict(D_test2.data)\n",
    "                    \n",
    "                    #history\n",
    "                    history['params'] += [params.copy()]\n",
    "                    history['num_trees'] += [model.num_trees()]\n",
    "        \n",
    "                    history['auc_train'] += [roc_auc_score(D_train.label, y_pred_train)]\n",
    "                    history['auc_valid'] += [roc_auc_score(D_valid.label, y_pred_valid)]\n",
    "                    history['auc_test'] += [roc_auc_score(D_test.label, y_pred_test)]\n",
    "                    history['auc_test2'] += [roc_auc_score(D_test2.label, y_pred_test2)]\n",
    "\n",
    "\n",
    "                    threshold1 = np.quantile(y_pred_valid, q=0.99)\n",
    "                    threshold2 = np.quantile(y_pred_valid, q=0.95)\n",
    "                    \n",
    "                    history['mir_point@1_train'] += [mean_income_rate_point(D_train, y_pred_train, threshold=threshold1)]\n",
    "                    history['mir_point@1_valid'] += [mean_income_rate_point(D_valid, y_pred_valid, threshold=threshold1)]\n",
    "                    history['mir_point@1_test'] += [mean_income_rate_point(D_test, y_pred_test, threshold=threshold1)]\n",
    "                    history['mir_point@1_test2'] += [mean_income_rate_point(D_test2, y_pred_test2, threshold=threshold1)]\n",
    "\n",
    "                    history['mir_day@1_train'] += [mean_income_rate_day(D_train, y_pred_train, threshold=threshold1)]\n",
    "                    history['mir_day@1_valid'] += [mean_income_rate_day(D_valid, y_pred_valid, threshold=threshold1)]\n",
    "                    history['mir_day@1_test'] += [mean_income_rate_day(D_test, y_pred_test, threshold=threshold1)]\n",
    "                    history['mir_day@1_test2'] += [mean_income_rate_day(D_test2, y_pred_test2, threshold=threshold1)]\n",
    "                    \n",
    "                    history['mir_month@1_train'] += [mean_income_rate_month(D_train, y_pred_train, threshold=threshold1)]\n",
    "                    history['mir_month@1_valid'] += [mean_income_rate_month(D_valid, y_pred_valid, threshold=threshold1)]\n",
    "                    history['mir_month@1_test'] += [mean_income_rate_month(D_test, y_pred_test, threshold=threshold1)]\n",
    "                    history['mir_month@1_test2'] += [mean_income_rate_month(D_test2, y_pred_test2, threshold=threshold1)]\n",
    "\n",
    "\n",
    "                    \n",
    "\n",
    "                    history['mir_point@2_train'] += [mean_income_rate_point(D_train, y_pred_train, threshold=threshold2)]\n",
    "                    history['mir_point@2_valid'] += [mean_income_rate_point(D_valid, y_pred_valid, threshold=threshold2)]\n",
    "                    history['mir_point@2_test'] += [mean_income_rate_point(D_test, y_pred_test, threshold=threshold2)]\n",
    "                    history['mir_point@2_test2'] += [mean_income_rate_point(D_test2, y_pred_test2, threshold=threshold2)]\n",
    "\n",
    "                    history['mir_day@2_train'] += [mean_income_rate_day(D_train, y_pred_train, threshold=threshold2)]\n",
    "                    history['mir_day@2_valid'] += [mean_income_rate_day(D_valid, y_pred_valid, threshold=threshold2)]\n",
    "                    history['mir_day@2_test'] += [mean_income_rate_day(D_test, y_pred_test, threshold=threshold2)]\n",
    "                    history['mir_day@2_test2'] += [mean_income_rate_day(D_test2, y_pred_test2, threshold=threshold2)]\n",
    "                   \n",
    "                    history['mir_month@2_train'] += [mean_income_rate_month(D_train, y_pred_train, threshold=threshold2)]\n",
    "                    history['mir_month@2_valid'] += [mean_income_rate_month(D_valid, y_pred_valid, threshold=threshold2)]\n",
    "                    history['mir_month@2_test'] += [mean_income_rate_month(D_test, y_pred_test, threshold=threshold2)]\n",
    "                    history['mir_month@2_test2'] += [mean_income_rate_month(D_test2, y_pred_test2, threshold=threshold2)]\n",
    "\n",
    "\n",
    "                    \n",
    "                    clear_output()\n",
    "                    pbar.update(1)\n",
    "                    \n",
    "pbar.close()\n",
    "                    \n",
    "\n",
    "history_cp = history.copy()"
   ]
  },
  {
   "cell_type": "code",
   "execution_count": 302,
   "id": "dbff69a6-22b6-4b44-9cee-7ffc56a1e114",
   "metadata": {},
   "outputs": [],
   "source": [
    "dump_pkl(history, './hst_-0.5_+1.5_4hour.pkl')"
   ]
  },
  {
   "cell_type": "code",
   "execution_count": null,
   "id": "cf897534-9dd9-489e-b397-4f1f21160afa",
   "metadata": {},
   "outputs": [],
   "source": []
  },
  {
   "cell_type": "code",
   "execution_count": 5173,
   "id": "bd6f26ec-69bc-49e1-acca-0ccabaf0881d",
   "metadata": {},
   "outputs": [],
   "source": [
    "history = load_pkl('./hst_-0.5_+1.5_4hour.pkl')"
   ]
  },
  {
   "cell_type": "code",
   "execution_count": 305,
   "id": "a4e1bd8f-97cf-4779-9380-736e48b1d31d",
   "metadata": {},
   "outputs": [
    {
     "data": {
      "text/html": [
       "<div>\n",
       "<style scoped>\n",
       "    .dataframe tbody tr th:only-of-type {\n",
       "        vertical-align: middle;\n",
       "    }\n",
       "\n",
       "    .dataframe tbody tr th {\n",
       "        vertical-align: top;\n",
       "    }\n",
       "\n",
       "    .dataframe thead th {\n",
       "        text-align: right;\n",
       "    }\n",
       "</style>\n",
       "<table border=\"1\" class=\"dataframe\">\n",
       "  <thead>\n",
       "    <tr style=\"text-align: right;\">\n",
       "      <th></th>\n",
       "      <th>params</th>\n",
       "      <th>num_trees</th>\n",
       "      <th>auc_train</th>\n",
       "      <th>auc_valid</th>\n",
       "      <th>auc_test</th>\n",
       "      <th>auc_test2</th>\n",
       "      <th>mir_point@1_train</th>\n",
       "      <th>mir_point@1_valid</th>\n",
       "      <th>mir_point@1_test</th>\n",
       "      <th>mir_point@1_test2</th>\n",
       "      <th>mir_day@1_train</th>\n",
       "      <th>mir_day@1_valid</th>\n",
       "      <th>mir_day@1_test</th>\n",
       "      <th>mir_day@1_test2</th>\n",
       "      <th>mir_month@1_train</th>\n",
       "      <th>mir_month@1_valid</th>\n",
       "      <th>mir_month@1_test</th>\n",
       "      <th>mir_month@1_test2</th>\n",
       "      <th>mir_point@2_train</th>\n",
       "      <th>mir_point@2_valid</th>\n",
       "      <th>mir_point@2_test</th>\n",
       "      <th>mir_point@2_test2</th>\n",
       "      <th>mir_day@2_train</th>\n",
       "      <th>mir_day@2_valid</th>\n",
       "      <th>mir_day@2_test</th>\n",
       "      <th>mir_day@2_test2</th>\n",
       "      <th>mir_month@2_train</th>\n",
       "      <th>mir_month@2_valid</th>\n",
       "      <th>mir_month@2_test</th>\n",
       "      <th>mir_month@2_test2</th>\n",
       "    </tr>\n",
       "  </thead>\n",
       "  <tbody>\n",
       "    <tr>\n",
       "      <th>0</th>\n",
       "      <td>{'boosting_type': 'gbdt', 'objective': 'binary...</td>\n",
       "      <td>32</td>\n",
       "      <td>0.642828</td>\n",
       "      <td>0.601831</td>\n",
       "      <td>0.604062</td>\n",
       "      <td>0.573098</td>\n",
       "      <td>0.001818</td>\n",
       "      <td>0.000462</td>\n",
       "      <td>0.001205</td>\n",
       "      <td>0.001078</td>\n",
       "      <td>0.002228</td>\n",
       "      <td>0.002875</td>\n",
       "      <td>0.001664</td>\n",
       "      <td>0.002351</td>\n",
       "      <td>0.044984</td>\n",
       "      <td>0.061846</td>\n",
       "      <td>0.035775</td>\n",
       "      <td>0.048117</td>\n",
       "      <td>0.001045</td>\n",
       "      <td>-0.000154</td>\n",
       "      <td>0.000716</td>\n",
       "      <td>0.000442</td>\n",
       "      <td>0.001309</td>\n",
       "      <td>0.001190</td>\n",
       "      <td>0.001221</td>\n",
       "      <td>0.001036</td>\n",
       "      <td>0.028273</td>\n",
       "      <td>0.026170</td>\n",
       "      <td>0.026858</td>\n",
       "      <td>0.022253</td>\n",
       "    </tr>\n",
       "    <tr>\n",
       "      <th>1</th>\n",
       "      <td>{'boosting_type': 'gbdt', 'objective': 'binary...</td>\n",
       "      <td>12</td>\n",
       "      <td>0.624520</td>\n",
       "      <td>0.594835</td>\n",
       "      <td>0.593708</td>\n",
       "      <td>0.566168</td>\n",
       "      <td>0.001578</td>\n",
       "      <td>-0.000001</td>\n",
       "      <td>0.000883</td>\n",
       "      <td>0.000358</td>\n",
       "      <td>0.002120</td>\n",
       "      <td>0.002219</td>\n",
       "      <td>0.001986</td>\n",
       "      <td>0.001947</td>\n",
       "      <td>0.044832</td>\n",
       "      <td>0.048824</td>\n",
       "      <td>0.043693</td>\n",
       "      <td>0.041837</td>\n",
       "      <td>0.001107</td>\n",
       "      <td>-0.000167</td>\n",
       "      <td>0.000726</td>\n",
       "      <td>0.000363</td>\n",
       "      <td>0.001488</td>\n",
       "      <td>0.001371</td>\n",
       "      <td>0.001372</td>\n",
       "      <td>0.001344</td>\n",
       "      <td>0.032136</td>\n",
       "      <td>0.030159</td>\n",
       "      <td>0.030182</td>\n",
       "      <td>0.028872</td>\n",
       "    </tr>\n",
       "    <tr>\n",
       "      <th>2</th>\n",
       "      <td>{'boosting_type': 'gbdt', 'objective': 'binary...</td>\n",
       "      <td>14</td>\n",
       "      <td>0.626674</td>\n",
       "      <td>0.595243</td>\n",
       "      <td>0.594842</td>\n",
       "      <td>0.567469</td>\n",
       "      <td>0.001568</td>\n",
       "      <td>0.000011</td>\n",
       "      <td>0.000855</td>\n",
       "      <td>0.000352</td>\n",
       "      <td>0.002111</td>\n",
       "      <td>0.002228</td>\n",
       "      <td>0.001943</td>\n",
       "      <td>0.002014</td>\n",
       "      <td>0.044649</td>\n",
       "      <td>0.049007</td>\n",
       "      <td>0.042757</td>\n",
       "      <td>0.043287</td>\n",
       "      <td>0.001086</td>\n",
       "      <td>-0.000149</td>\n",
       "      <td>0.000659</td>\n",
       "      <td>0.000397</td>\n",
       "      <td>0.001341</td>\n",
       "      <td>0.001297</td>\n",
       "      <td>0.001263</td>\n",
       "      <td>0.001173</td>\n",
       "      <td>0.028894</td>\n",
       "      <td>0.028533</td>\n",
       "      <td>0.027776</td>\n",
       "      <td>0.025214</td>\n",
       "    </tr>\n",
       "    <tr>\n",
       "      <th>3</th>\n",
       "      <td>{'boosting_type': 'gbdt', 'objective': 'binary...</td>\n",
       "      <td>32</td>\n",
       "      <td>0.642618</td>\n",
       "      <td>0.602215</td>\n",
       "      <td>0.604165</td>\n",
       "      <td>0.573116</td>\n",
       "      <td>0.001816</td>\n",
       "      <td>0.000462</td>\n",
       "      <td>0.001205</td>\n",
       "      <td>0.001078</td>\n",
       "      <td>0.002225</td>\n",
       "      <td>0.002875</td>\n",
       "      <td>0.001664</td>\n",
       "      <td>0.002351</td>\n",
       "      <td>0.044917</td>\n",
       "      <td>0.061846</td>\n",
       "      <td>0.035775</td>\n",
       "      <td>0.048117</td>\n",
       "      <td>0.001112</td>\n",
       "      <td>-0.000048</td>\n",
       "      <td>0.000661</td>\n",
       "      <td>0.000482</td>\n",
       "      <td>0.001318</td>\n",
       "      <td>0.001354</td>\n",
       "      <td>0.001199</td>\n",
       "      <td>0.001266</td>\n",
       "      <td>0.028341</td>\n",
       "      <td>0.029791</td>\n",
       "      <td>0.026379</td>\n",
       "      <td>0.027208</td>\n",
       "    </tr>\n",
       "    <tr>\n",
       "      <th>4</th>\n",
       "      <td>{'boosting_type': 'gbdt', 'objective': 'binary...</td>\n",
       "      <td>10</td>\n",
       "      <td>0.617723</td>\n",
       "      <td>0.591128</td>\n",
       "      <td>0.589091</td>\n",
       "      <td>0.565039</td>\n",
       "      <td>0.001502</td>\n",
       "      <td>-0.000055</td>\n",
       "      <td>0.000962</td>\n",
       "      <td>0.000699</td>\n",
       "      <td>0.002023</td>\n",
       "      <td>0.001818</td>\n",
       "      <td>0.001698</td>\n",
       "      <td>0.002219</td>\n",
       "      <td>0.042888</td>\n",
       "      <td>0.039997</td>\n",
       "      <td>0.037346</td>\n",
       "      <td>0.047687</td>\n",
       "      <td>0.001042</td>\n",
       "      <td>-0.000244</td>\n",
       "      <td>0.000668</td>\n",
       "      <td>0.000324</td>\n",
       "      <td>0.001368</td>\n",
       "      <td>0.001185</td>\n",
       "      <td>0.001246</td>\n",
       "      <td>0.001124</td>\n",
       "      <td>0.029548</td>\n",
       "      <td>0.026070</td>\n",
       "      <td>0.027405</td>\n",
       "      <td>0.024147</td>\n",
       "    </tr>\n",
       "    <tr>\n",
       "      <th>...</th>\n",
       "      <td>...</td>\n",
       "      <td>...</td>\n",
       "      <td>...</td>\n",
       "      <td>...</td>\n",
       "      <td>...</td>\n",
       "      <td>...</td>\n",
       "      <td>...</td>\n",
       "      <td>...</td>\n",
       "      <td>...</td>\n",
       "      <td>...</td>\n",
       "      <td>...</td>\n",
       "      <td>...</td>\n",
       "      <td>...</td>\n",
       "      <td>...</td>\n",
       "      <td>...</td>\n",
       "      <td>...</td>\n",
       "      <td>...</td>\n",
       "      <td>...</td>\n",
       "      <td>...</td>\n",
       "      <td>...</td>\n",
       "      <td>...</td>\n",
       "      <td>...</td>\n",
       "      <td>...</td>\n",
       "      <td>...</td>\n",
       "      <td>...</td>\n",
       "      <td>...</td>\n",
       "      <td>...</td>\n",
       "      <td>...</td>\n",
       "      <td>...</td>\n",
       "      <td>...</td>\n",
       "    </tr>\n",
       "    <tr>\n",
       "      <th>763</th>\n",
       "      <td>{'boosting_type': 'gbdt', 'objective': 'binary...</td>\n",
       "      <td>38</td>\n",
       "      <td>0.650277</td>\n",
       "      <td>0.609061</td>\n",
       "      <td>0.604311</td>\n",
       "      <td>0.571548</td>\n",
       "      <td>0.002125</td>\n",
       "      <td>0.000098</td>\n",
       "      <td>0.001321</td>\n",
       "      <td>0.000950</td>\n",
       "      <td>0.003508</td>\n",
       "      <td>0.002798</td>\n",
       "      <td>0.002544</td>\n",
       "      <td>0.003683</td>\n",
       "      <td>0.068550</td>\n",
       "      <td>0.061556</td>\n",
       "      <td>0.053415</td>\n",
       "      <td>0.077247</td>\n",
       "      <td>0.001283</td>\n",
       "      <td>-0.000278</td>\n",
       "      <td>0.000774</td>\n",
       "      <td>0.000358</td>\n",
       "      <td>0.001904</td>\n",
       "      <td>0.001339</td>\n",
       "      <td>0.001942</td>\n",
       "      <td>0.001856</td>\n",
       "      <td>0.041122</td>\n",
       "      <td>0.029459</td>\n",
       "      <td>0.042714</td>\n",
       "      <td>0.040831</td>\n",
       "    </tr>\n",
       "    <tr>\n",
       "      <th>764</th>\n",
       "      <td>{'boosting_type': 'gbdt', 'objective': 'binary...</td>\n",
       "      <td>44</td>\n",
       "      <td>0.650052</td>\n",
       "      <td>0.608623</td>\n",
       "      <td>0.604188</td>\n",
       "      <td>0.571333</td>\n",
       "      <td>0.002126</td>\n",
       "      <td>0.000098</td>\n",
       "      <td>0.001321</td>\n",
       "      <td>0.000950</td>\n",
       "      <td>0.003510</td>\n",
       "      <td>0.002798</td>\n",
       "      <td>0.002544</td>\n",
       "      <td>0.003683</td>\n",
       "      <td>0.068583</td>\n",
       "      <td>0.061556</td>\n",
       "      <td>0.053415</td>\n",
       "      <td>0.077247</td>\n",
       "      <td>0.001260</td>\n",
       "      <td>-0.000284</td>\n",
       "      <td>0.000732</td>\n",
       "      <td>0.000358</td>\n",
       "      <td>0.001782</td>\n",
       "      <td>0.001320</td>\n",
       "      <td>0.001809</td>\n",
       "      <td>0.001645</td>\n",
       "      <td>0.038478</td>\n",
       "      <td>0.029041</td>\n",
       "      <td>0.039788</td>\n",
       "      <td>0.035356</td>\n",
       "    </tr>\n",
       "    <tr>\n",
       "      <th>765</th>\n",
       "      <td>{'boosting_type': 'gbdt', 'objective': 'binary...</td>\n",
       "      <td>40</td>\n",
       "      <td>0.649431</td>\n",
       "      <td>0.608804</td>\n",
       "      <td>0.603635</td>\n",
       "      <td>0.570874</td>\n",
       "      <td>0.002059</td>\n",
       "      <td>0.000033</td>\n",
       "      <td>0.001234</td>\n",
       "      <td>0.000853</td>\n",
       "      <td>0.003516</td>\n",
       "      <td>0.002778</td>\n",
       "      <td>0.002727</td>\n",
       "      <td>0.003524</td>\n",
       "      <td>0.071165</td>\n",
       "      <td>0.061117</td>\n",
       "      <td>0.058629</td>\n",
       "      <td>0.073929</td>\n",
       "      <td>0.001275</td>\n",
       "      <td>-0.000337</td>\n",
       "      <td>0.000775</td>\n",
       "      <td>0.000346</td>\n",
       "      <td>0.001907</td>\n",
       "      <td>0.001209</td>\n",
       "      <td>0.001973</td>\n",
       "      <td>0.001705</td>\n",
       "      <td>0.041279</td>\n",
       "      <td>0.026590</td>\n",
       "      <td>0.043408</td>\n",
       "      <td>0.036640</td>\n",
       "    </tr>\n",
       "    <tr>\n",
       "      <th>766</th>\n",
       "      <td>{'boosting_type': 'gbdt', 'objective': 'binary...</td>\n",
       "      <td>21</td>\n",
       "      <td>0.646752</td>\n",
       "      <td>0.605981</td>\n",
       "      <td>0.599423</td>\n",
       "      <td>0.567547</td>\n",
       "      <td>0.001376</td>\n",
       "      <td>-0.000296</td>\n",
       "      <td>0.000865</td>\n",
       "      <td>0.000257</td>\n",
       "      <td>0.002461</td>\n",
       "      <td>0.001897</td>\n",
       "      <td>0.002538</td>\n",
       "      <td>0.002551</td>\n",
       "      <td>0.051788</td>\n",
       "      <td>0.041732</td>\n",
       "      <td>0.055830</td>\n",
       "      <td>0.054815</td>\n",
       "      <td>0.001235</td>\n",
       "      <td>-0.000389</td>\n",
       "      <td>0.000775</td>\n",
       "      <td>0.000211</td>\n",
       "      <td>0.002470</td>\n",
       "      <td>0.001610</td>\n",
       "      <td>0.002609</td>\n",
       "      <td>0.002466</td>\n",
       "      <td>0.052599</td>\n",
       "      <td>0.035425</td>\n",
       "      <td>0.057401</td>\n",
       "      <td>0.052998</td>\n",
       "    </tr>\n",
       "    <tr>\n",
       "      <th>767</th>\n",
       "      <td>{'boosting_type': 'gbdt', 'objective': 'binary...</td>\n",
       "      <td>19</td>\n",
       "      <td>0.645776</td>\n",
       "      <td>0.604977</td>\n",
       "      <td>0.598369</td>\n",
       "      <td>0.566505</td>\n",
       "      <td>0.001142</td>\n",
       "      <td>-0.000468</td>\n",
       "      <td>0.000744</td>\n",
       "      <td>0.000080</td>\n",
       "      <td>0.002314</td>\n",
       "      <td>0.001610</td>\n",
       "      <td>0.002587</td>\n",
       "      <td>0.002188</td>\n",
       "      <td>0.049285</td>\n",
       "      <td>0.035426</td>\n",
       "      <td>0.056903</td>\n",
       "      <td>0.048139</td>\n",
       "      <td>0.001142</td>\n",
       "      <td>-0.000468</td>\n",
       "      <td>0.000744</td>\n",
       "      <td>0.000080</td>\n",
       "      <td>0.002314</td>\n",
       "      <td>0.001610</td>\n",
       "      <td>0.002587</td>\n",
       "      <td>0.002188</td>\n",
       "      <td>0.049285</td>\n",
       "      <td>0.035426</td>\n",
       "      <td>0.056903</td>\n",
       "      <td>0.048139</td>\n",
       "    </tr>\n",
       "  </tbody>\n",
       "</table>\n",
       "<p>768 rows × 30 columns</p>\n",
       "</div>"
      ],
      "text/plain": [
       "                                                params  num_trees  auc_train  \\\n",
       "0    {'boosting_type': 'gbdt', 'objective': 'binary...         32   0.642828   \n",
       "1    {'boosting_type': 'gbdt', 'objective': 'binary...         12   0.624520   \n",
       "2    {'boosting_type': 'gbdt', 'objective': 'binary...         14   0.626674   \n",
       "3    {'boosting_type': 'gbdt', 'objective': 'binary...         32   0.642618   \n",
       "4    {'boosting_type': 'gbdt', 'objective': 'binary...         10   0.617723   \n",
       "..                                                 ...        ...        ...   \n",
       "763  {'boosting_type': 'gbdt', 'objective': 'binary...         38   0.650277   \n",
       "764  {'boosting_type': 'gbdt', 'objective': 'binary...         44   0.650052   \n",
       "765  {'boosting_type': 'gbdt', 'objective': 'binary...         40   0.649431   \n",
       "766  {'boosting_type': 'gbdt', 'objective': 'binary...         21   0.646752   \n",
       "767  {'boosting_type': 'gbdt', 'objective': 'binary...         19   0.645776   \n",
       "\n",
       "     auc_valid  auc_test  auc_test2  mir_point@1_train  mir_point@1_valid  \\\n",
       "0     0.601831  0.604062   0.573098           0.001818           0.000462   \n",
       "1     0.594835  0.593708   0.566168           0.001578          -0.000001   \n",
       "2     0.595243  0.594842   0.567469           0.001568           0.000011   \n",
       "3     0.602215  0.604165   0.573116           0.001816           0.000462   \n",
       "4     0.591128  0.589091   0.565039           0.001502          -0.000055   \n",
       "..         ...       ...        ...                ...                ...   \n",
       "763   0.609061  0.604311   0.571548           0.002125           0.000098   \n",
       "764   0.608623  0.604188   0.571333           0.002126           0.000098   \n",
       "765   0.608804  0.603635   0.570874           0.002059           0.000033   \n",
       "766   0.605981  0.599423   0.567547           0.001376          -0.000296   \n",
       "767   0.604977  0.598369   0.566505           0.001142          -0.000468   \n",
       "\n",
       "     mir_point@1_test  mir_point@1_test2  mir_day@1_train  mir_day@1_valid  \\\n",
       "0            0.001205           0.001078         0.002228         0.002875   \n",
       "1            0.000883           0.000358         0.002120         0.002219   \n",
       "2            0.000855           0.000352         0.002111         0.002228   \n",
       "3            0.001205           0.001078         0.002225         0.002875   \n",
       "4            0.000962           0.000699         0.002023         0.001818   \n",
       "..                ...                ...              ...              ...   \n",
       "763          0.001321           0.000950         0.003508         0.002798   \n",
       "764          0.001321           0.000950         0.003510         0.002798   \n",
       "765          0.001234           0.000853         0.003516         0.002778   \n",
       "766          0.000865           0.000257         0.002461         0.001897   \n",
       "767          0.000744           0.000080         0.002314         0.001610   \n",
       "\n",
       "     mir_day@1_test  mir_day@1_test2  mir_month@1_train  mir_month@1_valid  \\\n",
       "0          0.001664         0.002351           0.044984           0.061846   \n",
       "1          0.001986         0.001947           0.044832           0.048824   \n",
       "2          0.001943         0.002014           0.044649           0.049007   \n",
       "3          0.001664         0.002351           0.044917           0.061846   \n",
       "4          0.001698         0.002219           0.042888           0.039997   \n",
       "..              ...              ...                ...                ...   \n",
       "763        0.002544         0.003683           0.068550           0.061556   \n",
       "764        0.002544         0.003683           0.068583           0.061556   \n",
       "765        0.002727         0.003524           0.071165           0.061117   \n",
       "766        0.002538         0.002551           0.051788           0.041732   \n",
       "767        0.002587         0.002188           0.049285           0.035426   \n",
       "\n",
       "     mir_month@1_test  mir_month@1_test2  mir_point@2_train  \\\n",
       "0            0.035775           0.048117           0.001045   \n",
       "1            0.043693           0.041837           0.001107   \n",
       "2            0.042757           0.043287           0.001086   \n",
       "3            0.035775           0.048117           0.001112   \n",
       "4            0.037346           0.047687           0.001042   \n",
       "..                ...                ...                ...   \n",
       "763          0.053415           0.077247           0.001283   \n",
       "764          0.053415           0.077247           0.001260   \n",
       "765          0.058629           0.073929           0.001275   \n",
       "766          0.055830           0.054815           0.001235   \n",
       "767          0.056903           0.048139           0.001142   \n",
       "\n",
       "     mir_point@2_valid  mir_point@2_test  mir_point@2_test2  mir_day@2_train  \\\n",
       "0            -0.000154          0.000716           0.000442         0.001309   \n",
       "1            -0.000167          0.000726           0.000363         0.001488   \n",
       "2            -0.000149          0.000659           0.000397         0.001341   \n",
       "3            -0.000048          0.000661           0.000482         0.001318   \n",
       "4            -0.000244          0.000668           0.000324         0.001368   \n",
       "..                 ...               ...                ...              ...   \n",
       "763          -0.000278          0.000774           0.000358         0.001904   \n",
       "764          -0.000284          0.000732           0.000358         0.001782   \n",
       "765          -0.000337          0.000775           0.000346         0.001907   \n",
       "766          -0.000389          0.000775           0.000211         0.002470   \n",
       "767          -0.000468          0.000744           0.000080         0.002314   \n",
       "\n",
       "     mir_day@2_valid  mir_day@2_test  mir_day@2_test2  mir_month@2_train  \\\n",
       "0           0.001190        0.001221         0.001036           0.028273   \n",
       "1           0.001371        0.001372         0.001344           0.032136   \n",
       "2           0.001297        0.001263         0.001173           0.028894   \n",
       "3           0.001354        0.001199         0.001266           0.028341   \n",
       "4           0.001185        0.001246         0.001124           0.029548   \n",
       "..               ...             ...              ...                ...   \n",
       "763         0.001339        0.001942         0.001856           0.041122   \n",
       "764         0.001320        0.001809         0.001645           0.038478   \n",
       "765         0.001209        0.001973         0.001705           0.041279   \n",
       "766         0.001610        0.002609         0.002466           0.052599   \n",
       "767         0.001610        0.002587         0.002188           0.049285   \n",
       "\n",
       "     mir_month@2_valid  mir_month@2_test  mir_month@2_test2  \n",
       "0             0.026170          0.026858           0.022253  \n",
       "1             0.030159          0.030182           0.028872  \n",
       "2             0.028533          0.027776           0.025214  \n",
       "3             0.029791          0.026379           0.027208  \n",
       "4             0.026070          0.027405           0.024147  \n",
       "..                 ...               ...                ...  \n",
       "763           0.029459          0.042714           0.040831  \n",
       "764           0.029041          0.039788           0.035356  \n",
       "765           0.026590          0.043408           0.036640  \n",
       "766           0.035425          0.057401           0.052998  \n",
       "767           0.035426          0.056903           0.048139  \n",
       "\n",
       "[768 rows x 30 columns]"
      ]
     },
     "execution_count": 305,
     "metadata": {},
     "output_type": "execute_result"
    }
   ],
   "source": [
    "pd.set_option('display.max_columns', 100)\n",
    "order_cols = ['params', 'num_trees', 'auc_train', 'auc_valid', 'auc_test', 'auc_test2', 'mir_point@1_train', 'mir_point@1_valid', 'mir_point@1_test', 'mir_point@1_test2', 'mir_day@1_train', 'mir_day@1_valid', 'mir_day@1_test', 'mir_day@1_test2', 'mir_month@1_train', 'mir_month@1_valid', 'mir_month@1_test', 'mir_month@1_test2', 'mir_point@2_train', 'mir_point@2_valid', 'mir_point@2_test', 'mir_point@2_test2', 'mir_day@2_train', 'mir_day@2_valid', 'mir_day@2_test', 'mir_day@2_test2', 'mir_month@2_train', 'mir_month@2_valid', 'mir_month@2_test', 'mir_month@2_test2']\n",
    "df_hst = pd.DataFrame(history)[order_cols]\n",
    "df_hst"
   ]
  },
  {
   "cell_type": "code",
   "execution_count": null,
   "id": "840d23ca-ad92-4bba-b0f2-3867b1c5fc0b",
   "metadata": {},
   "outputs": [],
   "source": []
  },
  {
   "cell_type": "code",
   "execution_count": null,
   "id": "32c73d87-8af0-48df-ac83-b1a161d78fb9",
   "metadata": {},
   "outputs": [],
   "source": []
  },
  {
   "cell_type": "markdown",
   "id": "88f862f1-3e9b-4006-9979-46447949df95",
   "metadata": {},
   "source": [
    "### threshold delta AUC"
   ]
  },
  {
   "cell_type": "code",
   "execution_count": 310,
   "id": "e070e45b-938b-45ba-86cc-79702716a26a",
   "metadata": {},
   "outputs": [
    {
     "data": {
      "text/plain": [
       "(115, 15, 0)"
      ]
     },
     "execution_count": 310,
     "metadata": {},
     "output_type": "execute_result"
    }
   ],
   "source": [
    "threshold = 0.03\n",
    "mask_model_valid = (df_hst['auc_train'] - df_hst['auc_valid']) < threshold\n",
    "mask_model_test = (df_hst['auc_train'] - df_hst['auc_test']) < threshold\n",
    "mask_model_test2 = (df_hst['auc_train'] - df_hst['auc_test2']) < threshold\n",
    "mask_model_valid.sum(), mask_model_test.sum(), mask_model_test2.sum()"
   ]
  },
  {
   "cell_type": "code",
   "execution_count": 312,
   "id": "0d9c7019-77f3-4196-90fa-618a7cc32f80",
   "metadata": {},
   "outputs": [
    {
     "data": {
      "text/plain": [
       "(14, 0)"
      ]
     },
     "execution_count": 312,
     "metadata": {},
     "output_type": "execute_result"
    }
   ],
   "source": [
    "(mask_model_valid&mask_model_test).sum(), (mask_model_valid&mask_model_test&mask_model_test2).sum()"
   ]
  },
  {
   "cell_type": "code",
   "execution_count": 314,
   "id": "454b8de6-5528-4a4d-906f-62e736a0d0c3",
   "metadata": {},
   "outputs": [
    {
     "data": {
      "text/html": [
       "<div>\n",
       "<style scoped>\n",
       "    .dataframe tbody tr th:only-of-type {\n",
       "        vertical-align: middle;\n",
       "    }\n",
       "\n",
       "    .dataframe tbody tr th {\n",
       "        vertical-align: top;\n",
       "    }\n",
       "\n",
       "    .dataframe thead th {\n",
       "        text-align: right;\n",
       "    }\n",
       "</style>\n",
       "<table border=\"1\" class=\"dataframe\">\n",
       "  <thead>\n",
       "    <tr style=\"text-align: right;\">\n",
       "      <th></th>\n",
       "      <th>params</th>\n",
       "      <th>num_trees</th>\n",
       "      <th>auc_train</th>\n",
       "      <th>auc_valid</th>\n",
       "      <th>auc_test</th>\n",
       "      <th>auc_test2</th>\n",
       "      <th>mir_point@1_train</th>\n",
       "      <th>mir_point@1_valid</th>\n",
       "      <th>mir_point@1_test</th>\n",
       "      <th>mir_point@1_test2</th>\n",
       "      <th>mir_day@1_train</th>\n",
       "      <th>mir_day@1_valid</th>\n",
       "      <th>mir_day@1_test</th>\n",
       "      <th>mir_day@1_test2</th>\n",
       "      <th>mir_month@1_train</th>\n",
       "      <th>mir_month@1_valid</th>\n",
       "      <th>mir_month@1_test</th>\n",
       "      <th>mir_month@1_test2</th>\n",
       "      <th>mir_point@2_train</th>\n",
       "      <th>mir_point@2_valid</th>\n",
       "      <th>mir_point@2_test</th>\n",
       "      <th>mir_point@2_test2</th>\n",
       "      <th>mir_day@2_train</th>\n",
       "      <th>mir_day@2_valid</th>\n",
       "      <th>mir_day@2_test</th>\n",
       "      <th>mir_day@2_test2</th>\n",
       "      <th>mir_month@2_train</th>\n",
       "      <th>mir_month@2_valid</th>\n",
       "      <th>mir_month@2_test</th>\n",
       "      <th>mir_month@2_test2</th>\n",
       "    </tr>\n",
       "  </thead>\n",
       "  <tbody>\n",
       "    <tr>\n",
       "      <th>4</th>\n",
       "      <td>{'boosting_type': 'gbdt', 'objective': 'binary...</td>\n",
       "      <td>10</td>\n",
       "      <td>0.617723</td>\n",
       "      <td>0.591128</td>\n",
       "      <td>0.589091</td>\n",
       "      <td>0.565039</td>\n",
       "      <td>0.001502</td>\n",
       "      <td>-0.000055</td>\n",
       "      <td>0.000962</td>\n",
       "      <td>0.000699</td>\n",
       "      <td>0.002023</td>\n",
       "      <td>0.001818</td>\n",
       "      <td>0.001698</td>\n",
       "      <td>0.002219</td>\n",
       "      <td>0.042888</td>\n",
       "      <td>0.039997</td>\n",
       "      <td>0.037346</td>\n",
       "      <td>0.047687</td>\n",
       "      <td>0.001042</td>\n",
       "      <td>-0.000244</td>\n",
       "      <td>0.000668</td>\n",
       "      <td>0.000324</td>\n",
       "      <td>0.001368</td>\n",
       "      <td>0.001185</td>\n",
       "      <td>0.001246</td>\n",
       "      <td>0.001124</td>\n",
       "      <td>0.029548</td>\n",
       "      <td>0.026070</td>\n",
       "      <td>0.027405</td>\n",
       "      <td>0.024147</td>\n",
       "    </tr>\n",
       "    <tr>\n",
       "      <th>397</th>\n",
       "      <td>{'boosting_type': 'gbdt', 'objective': 'binary...</td>\n",
       "      <td>9</td>\n",
       "      <td>0.614175</td>\n",
       "      <td>0.587564</td>\n",
       "      <td>0.585836</td>\n",
       "      <td>0.563168</td>\n",
       "      <td>0.001278</td>\n",
       "      <td>-0.000181</td>\n",
       "      <td>0.000702</td>\n",
       "      <td>0.000324</td>\n",
       "      <td>0.001749</td>\n",
       "      <td>0.001526</td>\n",
       "      <td>0.001452</td>\n",
       "      <td>0.001659</td>\n",
       "      <td>0.037608</td>\n",
       "      <td>0.033570</td>\n",
       "      <td>0.031938</td>\n",
       "      <td>0.035656</td>\n",
       "      <td>0.001076</td>\n",
       "      <td>-0.000260</td>\n",
       "      <td>0.000797</td>\n",
       "      <td>0.000329</td>\n",
       "      <td>0.001434</td>\n",
       "      <td>0.001156</td>\n",
       "      <td>0.001319</td>\n",
       "      <td>0.001193</td>\n",
       "      <td>0.031036</td>\n",
       "      <td>0.025436</td>\n",
       "      <td>0.029018</td>\n",
       "      <td>0.025635</td>\n",
       "    </tr>\n",
       "    <tr>\n",
       "      <th>405</th>\n",
       "      <td>{'boosting_type': 'gbdt', 'objective': 'binary...</td>\n",
       "      <td>9</td>\n",
       "      <td>0.614175</td>\n",
       "      <td>0.587564</td>\n",
       "      <td>0.585836</td>\n",
       "      <td>0.563168</td>\n",
       "      <td>0.001278</td>\n",
       "      <td>-0.000181</td>\n",
       "      <td>0.000702</td>\n",
       "      <td>0.000324</td>\n",
       "      <td>0.001749</td>\n",
       "      <td>0.001526</td>\n",
       "      <td>0.001452</td>\n",
       "      <td>0.001659</td>\n",
       "      <td>0.037608</td>\n",
       "      <td>0.033570</td>\n",
       "      <td>0.031938</td>\n",
       "      <td>0.035656</td>\n",
       "      <td>0.001076</td>\n",
       "      <td>-0.000260</td>\n",
       "      <td>0.000797</td>\n",
       "      <td>0.000329</td>\n",
       "      <td>0.001434</td>\n",
       "      <td>0.001156</td>\n",
       "      <td>0.001319</td>\n",
       "      <td>0.001193</td>\n",
       "      <td>0.031036</td>\n",
       "      <td>0.025436</td>\n",
       "      <td>0.029018</td>\n",
       "      <td>0.025635</td>\n",
       "    </tr>\n",
       "    <tr>\n",
       "      <th>438</th>\n",
       "      <td>{'boosting_type': 'gbdt', 'objective': 'binary...</td>\n",
       "      <td>7</td>\n",
       "      <td>0.605522</td>\n",
       "      <td>0.581058</td>\n",
       "      <td>0.576780</td>\n",
       "      <td>0.559037</td>\n",
       "      <td>0.001577</td>\n",
       "      <td>-0.000232</td>\n",
       "      <td>0.001056</td>\n",
       "      <td>0.000449</td>\n",
       "      <td>0.002718</td>\n",
       "      <td>0.001906</td>\n",
       "      <td>0.002462</td>\n",
       "      <td>0.002499</td>\n",
       "      <td>0.057609</td>\n",
       "      <td>0.041942</td>\n",
       "      <td>0.054162</td>\n",
       "      <td>0.053689</td>\n",
       "      <td>0.001260</td>\n",
       "      <td>-0.000342</td>\n",
       "      <td>0.000763</td>\n",
       "      <td>0.000244</td>\n",
       "      <td>0.001968</td>\n",
       "      <td>0.001341</td>\n",
       "      <td>0.002034</td>\n",
       "      <td>0.001641</td>\n",
       "      <td>0.042499</td>\n",
       "      <td>0.029511</td>\n",
       "      <td>0.044758</td>\n",
       "      <td>0.035265</td>\n",
       "    </tr>\n",
       "    <tr>\n",
       "      <th>446</th>\n",
       "      <td>{'boosting_type': 'gbdt', 'objective': 'binary...</td>\n",
       "      <td>7</td>\n",
       "      <td>0.605522</td>\n",
       "      <td>0.581058</td>\n",
       "      <td>0.576780</td>\n",
       "      <td>0.559037</td>\n",
       "      <td>0.001577</td>\n",
       "      <td>-0.000232</td>\n",
       "      <td>0.001056</td>\n",
       "      <td>0.000449</td>\n",
       "      <td>0.002718</td>\n",
       "      <td>0.001906</td>\n",
       "      <td>0.002462</td>\n",
       "      <td>0.002499</td>\n",
       "      <td>0.057609</td>\n",
       "      <td>0.041942</td>\n",
       "      <td>0.054162</td>\n",
       "      <td>0.053689</td>\n",
       "      <td>0.001260</td>\n",
       "      <td>-0.000342</td>\n",
       "      <td>0.000763</td>\n",
       "      <td>0.000244</td>\n",
       "      <td>0.001968</td>\n",
       "      <td>0.001341</td>\n",
       "      <td>0.002034</td>\n",
       "      <td>0.001641</td>\n",
       "      <td>0.042499</td>\n",
       "      <td>0.029511</td>\n",
       "      <td>0.044758</td>\n",
       "      <td>0.035265</td>\n",
       "    </tr>\n",
       "  </tbody>\n",
       "</table>\n",
       "</div>"
      ],
      "text/plain": [
       "                                                params  num_trees  auc_train  \\\n",
       "4    {'boosting_type': 'gbdt', 'objective': 'binary...         10   0.617723   \n",
       "397  {'boosting_type': 'gbdt', 'objective': 'binary...          9   0.614175   \n",
       "405  {'boosting_type': 'gbdt', 'objective': 'binary...          9   0.614175   \n",
       "438  {'boosting_type': 'gbdt', 'objective': 'binary...          7   0.605522   \n",
       "446  {'boosting_type': 'gbdt', 'objective': 'binary...          7   0.605522   \n",
       "\n",
       "     auc_valid  auc_test  auc_test2  mir_point@1_train  mir_point@1_valid  \\\n",
       "4     0.591128  0.589091   0.565039           0.001502          -0.000055   \n",
       "397   0.587564  0.585836   0.563168           0.001278          -0.000181   \n",
       "405   0.587564  0.585836   0.563168           0.001278          -0.000181   \n",
       "438   0.581058  0.576780   0.559037           0.001577          -0.000232   \n",
       "446   0.581058  0.576780   0.559037           0.001577          -0.000232   \n",
       "\n",
       "     mir_point@1_test  mir_point@1_test2  mir_day@1_train  mir_day@1_valid  \\\n",
       "4            0.000962           0.000699         0.002023         0.001818   \n",
       "397          0.000702           0.000324         0.001749         0.001526   \n",
       "405          0.000702           0.000324         0.001749         0.001526   \n",
       "438          0.001056           0.000449         0.002718         0.001906   \n",
       "446          0.001056           0.000449         0.002718         0.001906   \n",
       "\n",
       "     mir_day@1_test  mir_day@1_test2  mir_month@1_train  mir_month@1_valid  \\\n",
       "4          0.001698         0.002219           0.042888           0.039997   \n",
       "397        0.001452         0.001659           0.037608           0.033570   \n",
       "405        0.001452         0.001659           0.037608           0.033570   \n",
       "438        0.002462         0.002499           0.057609           0.041942   \n",
       "446        0.002462         0.002499           0.057609           0.041942   \n",
       "\n",
       "     mir_month@1_test  mir_month@1_test2  mir_point@2_train  \\\n",
       "4            0.037346           0.047687           0.001042   \n",
       "397          0.031938           0.035656           0.001076   \n",
       "405          0.031938           0.035656           0.001076   \n",
       "438          0.054162           0.053689           0.001260   \n",
       "446          0.054162           0.053689           0.001260   \n",
       "\n",
       "     mir_point@2_valid  mir_point@2_test  mir_point@2_test2  mir_day@2_train  \\\n",
       "4            -0.000244          0.000668           0.000324         0.001368   \n",
       "397          -0.000260          0.000797           0.000329         0.001434   \n",
       "405          -0.000260          0.000797           0.000329         0.001434   \n",
       "438          -0.000342          0.000763           0.000244         0.001968   \n",
       "446          -0.000342          0.000763           0.000244         0.001968   \n",
       "\n",
       "     mir_day@2_valid  mir_day@2_test  mir_day@2_test2  mir_month@2_train  \\\n",
       "4           0.001185        0.001246         0.001124           0.029548   \n",
       "397         0.001156        0.001319         0.001193           0.031036   \n",
       "405         0.001156        0.001319         0.001193           0.031036   \n",
       "438         0.001341        0.002034         0.001641           0.042499   \n",
       "446         0.001341        0.002034         0.001641           0.042499   \n",
       "\n",
       "     mir_month@2_valid  mir_month@2_test  mir_month@2_test2  \n",
       "4             0.026070          0.027405           0.024147  \n",
       "397           0.025436          0.029018           0.025635  \n",
       "405           0.025436          0.029018           0.025635  \n",
       "438           0.029511          0.044758           0.035265  \n",
       "446           0.029511          0.044758           0.035265  "
      ]
     },
     "execution_count": 314,
     "metadata": {},
     "output_type": "execute_result"
    }
   ],
   "source": [
    "mask_auc = mask_model_valid&mask_model_test#&mask_model_test2\n",
    "df_hst.loc[mask_auc].sort_values(by='auc_valid', ascending=False).iloc[:5]\n",
    "#df_hst.loc[mask_model_valid&mask_model_test].sort_values(by='income_rate@1_valid', ascending=False).iloc[:5]"
   ]
  },
  {
   "cell_type": "code",
   "execution_count": 319,
   "id": "af6a0c6b-bd45-4014-b72c-cef31f1a1aa7",
   "metadata": {},
   "outputs": [],
   "source": [
    "#df_hst['params'].iloc[1033]"
   ]
  },
  {
   "cell_type": "code",
   "execution_count": null,
   "id": "2fa1eb40-36a6-4e83-9d27-d4ede9a5e6cb",
   "metadata": {},
   "outputs": [],
   "source": []
  },
  {
   "cell_type": "code",
   "execution_count": null,
   "id": "2915d7ae-8135-45f9-a2c7-535c703d5d93",
   "metadata": {},
   "outputs": [],
   "source": []
  },
  {
   "cell_type": "markdown",
   "id": "acad20fb-ccae-449a-8a9e-8a1088dfb98f",
   "metadata": {},
   "source": [
    "### threshold income_rate"
   ]
  },
  {
   "cell_type": "code",
   "execution_count": 1601,
   "id": "6d254ab5-161b-44db-ad26-43c47c0cc3e9",
   "metadata": {},
   "outputs": [
    {
     "data": {
      "text/plain": [
       "(495, 251, 480)"
      ]
     },
     "execution_count": 1601,
     "metadata": {},
     "output_type": "execute_result"
    }
   ],
   "source": [
    "col = 'mir_month@1'\n",
    "threshold = 0.06\n",
    "# mask_ir_valid = (df_hst[f'{col}_train'] - df_hst[f'{col}_valid']).abs() < threshold\n",
    "# mask_ir_test = (df_hst[f'{col}_train'] - df_hst[f'{col}_test']).abs() < threshold\n",
    "# mask_ir_test2 = (df_hst[f'{col}_train'] - df_hst[f'{col}_test2']).abs() < threshold\n",
    "\n",
    "mask_ir_valid = df_hst[f'{col}_valid'] >=  threshold\n",
    "mask_ir_test = df_hst[f'{col}_test'] >= threshold\n",
    "mask_ir_test2 = df_hst[f'{col}_test2'] >=  threshold\n",
    "\n",
    "\n",
    "mask_ir_valid.sum(), mask_ir_test.sum(), mask_ir_test2.sum()"
   ]
  },
  {
   "cell_type": "code",
   "execution_count": 1603,
   "id": "051e3f4e-9993-47e6-a5cf-3c32e387c59b",
   "metadata": {},
   "outputs": [
    {
     "data": {
      "text/plain": [
       "(240, 197)"
      ]
     },
     "execution_count": 1603,
     "metadata": {},
     "output_type": "execute_result"
    }
   ],
   "source": [
    "(mask_ir_valid&mask_ir_test).sum(), (mask_ir_valid&mask_ir_test&mask_ir_test2).sum()"
   ]
  },
  {
   "cell_type": "code",
   "execution_count": 1605,
   "id": "a9dd756f-16af-42b2-9735-fc8d222c62f3",
   "metadata": {},
   "outputs": [
    {
     "data": {
      "text/plain": [
       "197"
      ]
     },
     "execution_count": 1605,
     "metadata": {},
     "output_type": "execute_result"
    }
   ],
   "source": [
    "mask_ir= mask_ir_valid&mask_ir_test&mask_ir_test2\n",
    "mask_ir.sum()\n",
    "\n"
   ]
  },
  {
   "cell_type": "code",
   "execution_count": 1607,
   "id": "c75720f4-87c6-4098-9ae8-42c864dcb6ac",
   "metadata": {},
   "outputs": [],
   "source": [
    "#(mask_ir&mask_auc).sum()"
   ]
  },
  {
   "cell_type": "code",
   "execution_count": 1609,
   "id": "71d8430e-7dfc-4f54-8984-94d7e7744c51",
   "metadata": {},
   "outputs": [
    {
     "data": {
      "text/plain": [
       "(378, 237, 524)"
      ]
     },
     "execution_count": 1609,
     "metadata": {},
     "output_type": "execute_result"
    }
   ],
   "source": [
    "col = 'mir_day@1'\n",
    "threshold = 0.003\n",
    "\n",
    "# mask2_ir_valid = (df_hst[f'{col}_train'] - df_hst[f'{col}_valid']).abs() < threshold\n",
    "# mask2_ir_test = (df_hst[f'{col}_train'] - df_hst[f'{col}_test']).abs() < threshold\n",
    "# mask2_ir_test2 = (df_hst[f'{col}_train'] - df_hst[f'{col}_test2']).abs() < threshold\n",
    "\n",
    "mask2_ir_valid = df_hst[f'{col}_valid'] >=  threshold\n",
    "mask2_ir_test = df_hst[f'{col}_test'] >= threshold\n",
    "mask2_ir_test2 = df_hst[f'{col}_test2'] >=  threshold\n",
    "\n",
    "\n",
    "mask2_ir_valid.sum(), mask2_ir_test.sum(), mask2_ir_test2.sum()"
   ]
  },
  {
   "cell_type": "code",
   "execution_count": 1611,
   "id": "0b3ae22a-c249-4db1-a392-45b353aefdcf",
   "metadata": {},
   "outputs": [
    {
     "data": {
      "text/plain": [
       "(231, 231)"
      ]
     },
     "execution_count": 1611,
     "metadata": {},
     "output_type": "execute_result"
    }
   ],
   "source": [
    "(mask2_ir_valid&mask2_ir_test).sum(), (mask2_ir_valid&mask2_ir_test&mask2_ir_test2).sum()"
   ]
  },
  {
   "cell_type": "code",
   "execution_count": 1613,
   "id": "26d446ca-3daf-44c8-b8e5-d6c865d045ad",
   "metadata": {},
   "outputs": [
    {
     "data": {
      "text/plain": [
       "231"
      ]
     },
     "execution_count": 1613,
     "metadata": {},
     "output_type": "execute_result"
    }
   ],
   "source": [
    "mask2_ir = mask2_ir_valid&mask2_ir_test&mask2_ir_test2\n",
    "mask2_ir.sum()"
   ]
  },
  {
   "cell_type": "code",
   "execution_count": null,
   "id": "2d3c00e6-daa3-456b-ac62-3d5b00bc3002",
   "metadata": {},
   "outputs": [],
   "source": []
  },
  {
   "cell_type": "code",
   "execution_count": 1616,
   "id": "e35e3629-d9c1-4ec8-b314-64d11a70e123",
   "metadata": {},
   "outputs": [
    {
     "data": {
      "text/plain": [
       "173"
      ]
     },
     "execution_count": 1616,
     "metadata": {},
     "output_type": "execute_result"
    }
   ],
   "source": [
    "(mask_ir&mask2_ir).sum()"
   ]
  },
  {
   "cell_type": "code",
   "execution_count": null,
   "id": "61c6bac7-112e-4824-95ed-306680957b04",
   "metadata": {},
   "outputs": [],
   "source": []
  },
  {
   "cell_type": "code",
   "execution_count": null,
   "id": "492237cf-40b5-4e86-ba55-86833d15f7e5",
   "metadata": {},
   "outputs": [],
   "source": []
  },
  {
   "cell_type": "code",
   "execution_count": 1620,
   "id": "aed36e6b-f36d-44ea-9d6a-362b67c37455",
   "metadata": {},
   "outputs": [],
   "source": [
    "# col = 'mir_point@1'\n",
    "# threshold = 0.003\n",
    "\n",
    "# # mask2_ir_valid = (df_hst[f'{col}_train'] - df_hst[f'{col}_valid']).abs() < threshold\n",
    "# # mask2_ir_test = (df_hst[f'{col}_train'] - df_hst[f'{col}_test']).abs() < threshold\n",
    "# # mask2_ir_test2 = (df_hst[f'{col}_train'] - df_hst[f'{col}_test2']).abs() < threshold\n",
    "\n",
    "# mask3_ir_valid = df_hst[f'{col}_valid'] >=  threshold\n",
    "# mask3_ir_test = df_hst[f'{col}_test'] >= threshold\n",
    "# mask3_ir_test2 = df_hst[f'{col}_test2'] >=  threshold\n",
    "\n",
    "\n",
    "# mask3_ir_valid.sum(), mask3_ir_test.sum(), mask3_ir_test2.sum()"
   ]
  },
  {
   "cell_type": "code",
   "execution_count": 1622,
   "id": "d8248bbe-83c3-4497-a135-b64376b2727d",
   "metadata": {},
   "outputs": [],
   "source": [
    "# (mask3_ir_valid&mask3_ir_test).sum(), (mask3_ir_valid&mask3_ir_test&mask3_ir_test2).sum()"
   ]
  },
  {
   "cell_type": "code",
   "execution_count": 1624,
   "id": "f55748e9-0add-4afa-855d-70eb5911a127",
   "metadata": {},
   "outputs": [],
   "source": [
    "# mask3_ir = mask3_ir_valid&mask3_ir_test&mask3_ir_test2\n",
    "# mask3_ir.sum()"
   ]
  },
  {
   "cell_type": "code",
   "execution_count": null,
   "id": "00fd3f6f-a374-4574-bde4-697c96e6b2f1",
   "metadata": {},
   "outputs": [],
   "source": []
  },
  {
   "cell_type": "code",
   "execution_count": 1627,
   "id": "dbbcf135-434e-4440-83d3-f15ee6ced633",
   "metadata": {},
   "outputs": [],
   "source": [
    "# (mask_ir&mask2_ir&mask3_ir).sum()"
   ]
  },
  {
   "cell_type": "code",
   "execution_count": null,
   "id": "77817509-1ca3-4814-9d37-62667c6d26bb",
   "metadata": {},
   "outputs": [],
   "source": []
  },
  {
   "cell_type": "code",
   "execution_count": null,
   "id": "069093c1-f4c9-4357-9147-bfd913904996",
   "metadata": {},
   "outputs": [],
   "source": []
  },
  {
   "cell_type": "code",
   "execution_count": 1630,
   "id": "c30bf38e-7f90-44a5-aec7-f3ef6386f380",
   "metadata": {},
   "outputs": [
    {
     "data": {
      "text/html": [
       "<div>\n",
       "<style scoped>\n",
       "    .dataframe tbody tr th:only-of-type {\n",
       "        vertical-align: middle;\n",
       "    }\n",
       "\n",
       "    .dataframe tbody tr th {\n",
       "        vertical-align: top;\n",
       "    }\n",
       "\n",
       "    .dataframe thead th {\n",
       "        text-align: right;\n",
       "    }\n",
       "</style>\n",
       "<table border=\"1\" class=\"dataframe\">\n",
       "  <thead>\n",
       "    <tr style=\"text-align: right;\">\n",
       "      <th></th>\n",
       "      <th>params</th>\n",
       "      <th>num_trees</th>\n",
       "      <th>auc_train</th>\n",
       "      <th>auc_valid</th>\n",
       "      <th>auc_test</th>\n",
       "      <th>auc_test2</th>\n",
       "      <th>mir_point@1_train</th>\n",
       "      <th>mir_point@1_valid</th>\n",
       "      <th>mir_point@1_test</th>\n",
       "      <th>mir_point@1_test2</th>\n",
       "      <th>mir_day@1_train</th>\n",
       "      <th>mir_day@1_valid</th>\n",
       "      <th>mir_day@1_test</th>\n",
       "      <th>mir_day@1_test2</th>\n",
       "      <th>mir_month@1_train</th>\n",
       "      <th>mir_month@1_valid</th>\n",
       "      <th>mir_month@1_test</th>\n",
       "      <th>mir_month@1_test2</th>\n",
       "      <th>mir_point@2_train</th>\n",
       "      <th>mir_point@2_valid</th>\n",
       "      <th>mir_point@2_test</th>\n",
       "      <th>mir_point@2_test2</th>\n",
       "      <th>mir_day@2_train</th>\n",
       "      <th>mir_day@2_valid</th>\n",
       "      <th>mir_day@2_test</th>\n",
       "      <th>mir_day@2_test2</th>\n",
       "      <th>mir_month@2_train</th>\n",
       "      <th>mir_month@2_valid</th>\n",
       "      <th>mir_month@2_test</th>\n",
       "      <th>mir_month@2_test2</th>\n",
       "    </tr>\n",
       "  </thead>\n",
       "  <tbody>\n",
       "    <tr>\n",
       "      <th>149</th>\n",
       "      <td>{'boosting_type': 'gbdt', 'objective': 'binary...</td>\n",
       "      <td>27</td>\n",
       "      <td>0.662656</td>\n",
       "      <td>0.620916</td>\n",
       "      <td>0.618368</td>\n",
       "      <td>0.580464</td>\n",
       "      <td>0.002764</td>\n",
       "      <td>0.000832</td>\n",
       "      <td>0.002166</td>\n",
       "      <td>0.001638</td>\n",
       "      <td>0.004270</td>\n",
       "      <td>0.004005</td>\n",
       "      <td>0.003285</td>\n",
       "      <td>0.003697</td>\n",
       "      <td>0.075058</td>\n",
       "      <td>0.078319</td>\n",
       "      <td>0.064053</td>\n",
       "      <td>0.068101</td>\n",
       "      <td>0.000965</td>\n",
       "      <td>-0.000080</td>\n",
       "      <td>0.000294</td>\n",
       "      <td>0.001144</td>\n",
       "      <td>0.000768</td>\n",
       "      <td>0.000749</td>\n",
       "      <td>0.000319</td>\n",
       "      <td>0.000508</td>\n",
       "      <td>0.016664</td>\n",
       "      <td>0.016485</td>\n",
       "      <td>0.007026</td>\n",
       "      <td>0.011167</td>\n",
       "    </tr>\n",
       "    <tr>\n",
       "      <th>141</th>\n",
       "      <td>{'boosting_type': 'gbdt', 'objective': 'binary...</td>\n",
       "      <td>27</td>\n",
       "      <td>0.662656</td>\n",
       "      <td>0.620916</td>\n",
       "      <td>0.618368</td>\n",
       "      <td>0.580464</td>\n",
       "      <td>0.002764</td>\n",
       "      <td>0.000832</td>\n",
       "      <td>0.002166</td>\n",
       "      <td>0.001638</td>\n",
       "      <td>0.004270</td>\n",
       "      <td>0.004005</td>\n",
       "      <td>0.003285</td>\n",
       "      <td>0.003697</td>\n",
       "      <td>0.075058</td>\n",
       "      <td>0.078319</td>\n",
       "      <td>0.064053</td>\n",
       "      <td>0.068101</td>\n",
       "      <td>0.000965</td>\n",
       "      <td>-0.000080</td>\n",
       "      <td>0.000294</td>\n",
       "      <td>0.001144</td>\n",
       "      <td>0.000768</td>\n",
       "      <td>0.000749</td>\n",
       "      <td>0.000319</td>\n",
       "      <td>0.000508</td>\n",
       "      <td>0.016664</td>\n",
       "      <td>0.016485</td>\n",
       "      <td>0.007026</td>\n",
       "      <td>0.011167</td>\n",
       "    </tr>\n",
       "    <tr>\n",
       "      <th>133</th>\n",
       "      <td>{'boosting_type': 'gbdt', 'objective': 'binary...</td>\n",
       "      <td>19</td>\n",
       "      <td>0.660552</td>\n",
       "      <td>0.619019</td>\n",
       "      <td>0.616073</td>\n",
       "      <td>0.578822</td>\n",
       "      <td>0.002484</td>\n",
       "      <td>0.000758</td>\n",
       "      <td>0.001836</td>\n",
       "      <td>0.001296</td>\n",
       "      <td>0.004033</td>\n",
       "      <td>0.003848</td>\n",
       "      <td>0.003362</td>\n",
       "      <td>0.003461</td>\n",
       "      <td>0.069286</td>\n",
       "      <td>0.073378</td>\n",
       "      <td>0.063875</td>\n",
       "      <td>0.063739</td>\n",
       "      <td>0.000957</td>\n",
       "      <td>-0.000045</td>\n",
       "      <td>0.000408</td>\n",
       "      <td>0.001078</td>\n",
       "      <td>0.000726</td>\n",
       "      <td>0.000841</td>\n",
       "      <td>0.000432</td>\n",
       "      <td>0.000549</td>\n",
       "      <td>0.015754</td>\n",
       "      <td>0.018499</td>\n",
       "      <td>0.009496</td>\n",
       "      <td>0.012070</td>\n",
       "    </tr>\n",
       "    <tr>\n",
       "      <th>132</th>\n",
       "      <td>{'boosting_type': 'gbdt', 'objective': 'binary...</td>\n",
       "      <td>13</td>\n",
       "      <td>0.657334</td>\n",
       "      <td>0.615430</td>\n",
       "      <td>0.614047</td>\n",
       "      <td>0.578545</td>\n",
       "      <td>0.002492</td>\n",
       "      <td>0.000723</td>\n",
       "      <td>0.001822</td>\n",
       "      <td>0.001298</td>\n",
       "      <td>0.004081</td>\n",
       "      <td>0.003830</td>\n",
       "      <td>0.003400</td>\n",
       "      <td>0.003451</td>\n",
       "      <td>0.067848</td>\n",
       "      <td>0.073021</td>\n",
       "      <td>0.064603</td>\n",
       "      <td>0.061791</td>\n",
       "      <td>0.000953</td>\n",
       "      <td>-0.000063</td>\n",
       "      <td>0.000454</td>\n",
       "      <td>0.000925</td>\n",
       "      <td>0.000759</td>\n",
       "      <td>0.000765</td>\n",
       "      <td>0.000467</td>\n",
       "      <td>0.000626</td>\n",
       "      <td>0.016514</td>\n",
       "      <td>0.016826</td>\n",
       "      <td>0.010268</td>\n",
       "      <td>0.013777</td>\n",
       "    </tr>\n",
       "    <tr>\n",
       "      <th>323</th>\n",
       "      <td>{'boosting_type': 'gbdt', 'objective': 'binary...</td>\n",
       "      <td>14</td>\n",
       "      <td>0.658119</td>\n",
       "      <td>0.615756</td>\n",
       "      <td>0.613767</td>\n",
       "      <td>0.578116</td>\n",
       "      <td>0.002305</td>\n",
       "      <td>0.000698</td>\n",
       "      <td>0.001816</td>\n",
       "      <td>0.001323</td>\n",
       "      <td>0.003856</td>\n",
       "      <td>0.003826</td>\n",
       "      <td>0.003341</td>\n",
       "      <td>0.003497</td>\n",
       "      <td>0.066235</td>\n",
       "      <td>0.072947</td>\n",
       "      <td>0.063472</td>\n",
       "      <td>0.062622</td>\n",
       "      <td>0.000924</td>\n",
       "      <td>-0.000072</td>\n",
       "      <td>0.000363</td>\n",
       "      <td>0.000958</td>\n",
       "      <td>0.000699</td>\n",
       "      <td>0.000743</td>\n",
       "      <td>0.000403</td>\n",
       "      <td>0.000465</td>\n",
       "      <td>0.015164</td>\n",
       "      <td>0.016346</td>\n",
       "      <td>0.008875</td>\n",
       "      <td>0.010224</td>\n",
       "    </tr>\n",
       "    <tr>\n",
       "      <th>350</th>\n",
       "      <td>{'boosting_type': 'gbdt', 'objective': 'binary...</td>\n",
       "      <td>14</td>\n",
       "      <td>0.656749</td>\n",
       "      <td>0.614607</td>\n",
       "      <td>0.610878</td>\n",
       "      <td>0.576726</td>\n",
       "      <td>0.002317</td>\n",
       "      <td>0.000736</td>\n",
       "      <td>0.001861</td>\n",
       "      <td>0.001322</td>\n",
       "      <td>0.003801</td>\n",
       "      <td>0.003800</td>\n",
       "      <td>0.003095</td>\n",
       "      <td>0.003476</td>\n",
       "      <td>0.066637</td>\n",
       "      <td>0.072459</td>\n",
       "      <td>0.061893</td>\n",
       "      <td>0.064015</td>\n",
       "      <td>0.001042</td>\n",
       "      <td>-0.000034</td>\n",
       "      <td>0.000460</td>\n",
       "      <td>0.000640</td>\n",
       "      <td>0.000973</td>\n",
       "      <td>0.000975</td>\n",
       "      <td>0.000752</td>\n",
       "      <td>0.000678</td>\n",
       "      <td>0.020968</td>\n",
       "      <td>0.021449</td>\n",
       "      <td>0.016542</td>\n",
       "      <td>0.014906</td>\n",
       "    </tr>\n",
       "    <tr>\n",
       "      <th>358</th>\n",
       "      <td>{'boosting_type': 'gbdt', 'objective': 'binary...</td>\n",
       "      <td>14</td>\n",
       "      <td>0.656749</td>\n",
       "      <td>0.614607</td>\n",
       "      <td>0.610878</td>\n",
       "      <td>0.576726</td>\n",
       "      <td>0.002317</td>\n",
       "      <td>0.000736</td>\n",
       "      <td>0.001861</td>\n",
       "      <td>0.001322</td>\n",
       "      <td>0.003801</td>\n",
       "      <td>0.003800</td>\n",
       "      <td>0.003095</td>\n",
       "      <td>0.003476</td>\n",
       "      <td>0.066637</td>\n",
       "      <td>0.072459</td>\n",
       "      <td>0.061893</td>\n",
       "      <td>0.064015</td>\n",
       "      <td>0.001042</td>\n",
       "      <td>-0.000034</td>\n",
       "      <td>0.000460</td>\n",
       "      <td>0.000640</td>\n",
       "      <td>0.000973</td>\n",
       "      <td>0.000975</td>\n",
       "      <td>0.000752</td>\n",
       "      <td>0.000678</td>\n",
       "      <td>0.020968</td>\n",
       "      <td>0.021449</td>\n",
       "      <td>0.016542</td>\n",
       "      <td>0.014906</td>\n",
       "    </tr>\n",
       "    <tr>\n",
       "      <th>115</th>\n",
       "      <td>{'boosting_type': 'gbdt', 'objective': 'binary...</td>\n",
       "      <td>23</td>\n",
       "      <td>0.650355</td>\n",
       "      <td>0.610127</td>\n",
       "      <td>0.604407</td>\n",
       "      <td>0.573714</td>\n",
       "      <td>0.002512</td>\n",
       "      <td>0.000719</td>\n",
       "      <td>0.002395</td>\n",
       "      <td>0.001489</td>\n",
       "      <td>0.004042</td>\n",
       "      <td>0.003798</td>\n",
       "      <td>0.003668</td>\n",
       "      <td>0.003387</td>\n",
       "      <td>0.071464</td>\n",
       "      <td>0.074269</td>\n",
       "      <td>0.075190</td>\n",
       "      <td>0.064125</td>\n",
       "      <td>0.000980</td>\n",
       "      <td>-0.000166</td>\n",
       "      <td>0.000454</td>\n",
       "      <td>0.000533</td>\n",
       "      <td>0.000939</td>\n",
       "      <td>0.000735</td>\n",
       "      <td>0.000927</td>\n",
       "      <td>0.000615</td>\n",
       "      <td>0.020278</td>\n",
       "      <td>0.016178</td>\n",
       "      <td>0.020397</td>\n",
       "      <td>0.013528</td>\n",
       "    </tr>\n",
       "    <tr>\n",
       "      <th>123</th>\n",
       "      <td>{'boosting_type': 'gbdt', 'objective': 'binary...</td>\n",
       "      <td>23</td>\n",
       "      <td>0.650355</td>\n",
       "      <td>0.610127</td>\n",
       "      <td>0.604407</td>\n",
       "      <td>0.573714</td>\n",
       "      <td>0.002512</td>\n",
       "      <td>0.000719</td>\n",
       "      <td>0.002395</td>\n",
       "      <td>0.001489</td>\n",
       "      <td>0.004042</td>\n",
       "      <td>0.003798</td>\n",
       "      <td>0.003668</td>\n",
       "      <td>0.003387</td>\n",
       "      <td>0.071464</td>\n",
       "      <td>0.074269</td>\n",
       "      <td>0.075190</td>\n",
       "      <td>0.064125</td>\n",
       "      <td>0.000980</td>\n",
       "      <td>-0.000166</td>\n",
       "      <td>0.000454</td>\n",
       "      <td>0.000533</td>\n",
       "      <td>0.000939</td>\n",
       "      <td>0.000735</td>\n",
       "      <td>0.000927</td>\n",
       "      <td>0.000615</td>\n",
       "      <td>0.020278</td>\n",
       "      <td>0.016178</td>\n",
       "      <td>0.020397</td>\n",
       "      <td>0.013528</td>\n",
       "    </tr>\n",
       "    <tr>\n",
       "      <th>317</th>\n",
       "      <td>{'boosting_type': 'gbdt', 'objective': 'binary...</td>\n",
       "      <td>21</td>\n",
       "      <td>0.649381</td>\n",
       "      <td>0.608174</td>\n",
       "      <td>0.603421</td>\n",
       "      <td>0.572557</td>\n",
       "      <td>0.002337</td>\n",
       "      <td>0.000733</td>\n",
       "      <td>0.002015</td>\n",
       "      <td>0.001329</td>\n",
       "      <td>0.003703</td>\n",
       "      <td>0.003793</td>\n",
       "      <td>0.003041</td>\n",
       "      <td>0.003508</td>\n",
       "      <td>0.065663</td>\n",
       "      <td>0.072323</td>\n",
       "      <td>0.060829</td>\n",
       "      <td>0.064621</td>\n",
       "      <td>0.001178</td>\n",
       "      <td>-0.000119</td>\n",
       "      <td>0.000655</td>\n",
       "      <td>0.000379</td>\n",
       "      <td>0.001424</td>\n",
       "      <td>0.001118</td>\n",
       "      <td>0.001489</td>\n",
       "      <td>0.000903</td>\n",
       "      <td>0.030691</td>\n",
       "      <td>0.024589</td>\n",
       "      <td>0.032765</td>\n",
       "      <td>0.019869</td>\n",
       "    </tr>\n",
       "  </tbody>\n",
       "</table>\n",
       "</div>"
      ],
      "text/plain": [
       "                                                params  num_trees  auc_train  \\\n",
       "149  {'boosting_type': 'gbdt', 'objective': 'binary...         27   0.662656   \n",
       "141  {'boosting_type': 'gbdt', 'objective': 'binary...         27   0.662656   \n",
       "133  {'boosting_type': 'gbdt', 'objective': 'binary...         19   0.660552   \n",
       "132  {'boosting_type': 'gbdt', 'objective': 'binary...         13   0.657334   \n",
       "323  {'boosting_type': 'gbdt', 'objective': 'binary...         14   0.658119   \n",
       "350  {'boosting_type': 'gbdt', 'objective': 'binary...         14   0.656749   \n",
       "358  {'boosting_type': 'gbdt', 'objective': 'binary...         14   0.656749   \n",
       "115  {'boosting_type': 'gbdt', 'objective': 'binary...         23   0.650355   \n",
       "123  {'boosting_type': 'gbdt', 'objective': 'binary...         23   0.650355   \n",
       "317  {'boosting_type': 'gbdt', 'objective': 'binary...         21   0.649381   \n",
       "\n",
       "     auc_valid  auc_test  auc_test2  mir_point@1_train  mir_point@1_valid  \\\n",
       "149   0.620916  0.618368   0.580464           0.002764           0.000832   \n",
       "141   0.620916  0.618368   0.580464           0.002764           0.000832   \n",
       "133   0.619019  0.616073   0.578822           0.002484           0.000758   \n",
       "132   0.615430  0.614047   0.578545           0.002492           0.000723   \n",
       "323   0.615756  0.613767   0.578116           0.002305           0.000698   \n",
       "350   0.614607  0.610878   0.576726           0.002317           0.000736   \n",
       "358   0.614607  0.610878   0.576726           0.002317           0.000736   \n",
       "115   0.610127  0.604407   0.573714           0.002512           0.000719   \n",
       "123   0.610127  0.604407   0.573714           0.002512           0.000719   \n",
       "317   0.608174  0.603421   0.572557           0.002337           0.000733   \n",
       "\n",
       "     mir_point@1_test  mir_point@1_test2  mir_day@1_train  mir_day@1_valid  \\\n",
       "149          0.002166           0.001638         0.004270         0.004005   \n",
       "141          0.002166           0.001638         0.004270         0.004005   \n",
       "133          0.001836           0.001296         0.004033         0.003848   \n",
       "132          0.001822           0.001298         0.004081         0.003830   \n",
       "323          0.001816           0.001323         0.003856         0.003826   \n",
       "350          0.001861           0.001322         0.003801         0.003800   \n",
       "358          0.001861           0.001322         0.003801         0.003800   \n",
       "115          0.002395           0.001489         0.004042         0.003798   \n",
       "123          0.002395           0.001489         0.004042         0.003798   \n",
       "317          0.002015           0.001329         0.003703         0.003793   \n",
       "\n",
       "     mir_day@1_test  mir_day@1_test2  mir_month@1_train  mir_month@1_valid  \\\n",
       "149        0.003285         0.003697           0.075058           0.078319   \n",
       "141        0.003285         0.003697           0.075058           0.078319   \n",
       "133        0.003362         0.003461           0.069286           0.073378   \n",
       "132        0.003400         0.003451           0.067848           0.073021   \n",
       "323        0.003341         0.003497           0.066235           0.072947   \n",
       "350        0.003095         0.003476           0.066637           0.072459   \n",
       "358        0.003095         0.003476           0.066637           0.072459   \n",
       "115        0.003668         0.003387           0.071464           0.074269   \n",
       "123        0.003668         0.003387           0.071464           0.074269   \n",
       "317        0.003041         0.003508           0.065663           0.072323   \n",
       "\n",
       "     mir_month@1_test  mir_month@1_test2  mir_point@2_train  \\\n",
       "149          0.064053           0.068101           0.000965   \n",
       "141          0.064053           0.068101           0.000965   \n",
       "133          0.063875           0.063739           0.000957   \n",
       "132          0.064603           0.061791           0.000953   \n",
       "323          0.063472           0.062622           0.000924   \n",
       "350          0.061893           0.064015           0.001042   \n",
       "358          0.061893           0.064015           0.001042   \n",
       "115          0.075190           0.064125           0.000980   \n",
       "123          0.075190           0.064125           0.000980   \n",
       "317          0.060829           0.064621           0.001178   \n",
       "\n",
       "     mir_point@2_valid  mir_point@2_test  mir_point@2_test2  mir_day@2_train  \\\n",
       "149          -0.000080          0.000294           0.001144         0.000768   \n",
       "141          -0.000080          0.000294           0.001144         0.000768   \n",
       "133          -0.000045          0.000408           0.001078         0.000726   \n",
       "132          -0.000063          0.000454           0.000925         0.000759   \n",
       "323          -0.000072          0.000363           0.000958         0.000699   \n",
       "350          -0.000034          0.000460           0.000640         0.000973   \n",
       "358          -0.000034          0.000460           0.000640         0.000973   \n",
       "115          -0.000166          0.000454           0.000533         0.000939   \n",
       "123          -0.000166          0.000454           0.000533         0.000939   \n",
       "317          -0.000119          0.000655           0.000379         0.001424   \n",
       "\n",
       "     mir_day@2_valid  mir_day@2_test  mir_day@2_test2  mir_month@2_train  \\\n",
       "149         0.000749        0.000319         0.000508           0.016664   \n",
       "141         0.000749        0.000319         0.000508           0.016664   \n",
       "133         0.000841        0.000432         0.000549           0.015754   \n",
       "132         0.000765        0.000467         0.000626           0.016514   \n",
       "323         0.000743        0.000403         0.000465           0.015164   \n",
       "350         0.000975        0.000752         0.000678           0.020968   \n",
       "358         0.000975        0.000752         0.000678           0.020968   \n",
       "115         0.000735        0.000927         0.000615           0.020278   \n",
       "123         0.000735        0.000927         0.000615           0.020278   \n",
       "317         0.001118        0.001489         0.000903           0.030691   \n",
       "\n",
       "     mir_month@2_valid  mir_month@2_test  mir_month@2_test2  \n",
       "149           0.016485          0.007026           0.011167  \n",
       "141           0.016485          0.007026           0.011167  \n",
       "133           0.018499          0.009496           0.012070  \n",
       "132           0.016826          0.010268           0.013777  \n",
       "323           0.016346          0.008875           0.010224  \n",
       "350           0.021449          0.016542           0.014906  \n",
       "358           0.021449          0.016542           0.014906  \n",
       "115           0.016178          0.020397           0.013528  \n",
       "123           0.016178          0.020397           0.013528  \n",
       "317           0.024589          0.032765           0.019869  "
      ]
     },
     "execution_count": 1630,
     "metadata": {},
     "output_type": "execute_result"
    }
   ],
   "source": [
    "mask = mask_ir&mask2_ir#&mask3_ir\n",
    "df_hst.loc[mask].sort_values(by=f'mir_day@1_valid', ascending=False).iloc[:10]"
   ]
  },
  {
   "cell_type": "code",
   "execution_count": null,
   "id": "79f9e74f-82e3-49b8-b7f4-101e98b4cec0",
   "metadata": {},
   "outputs": [],
   "source": []
  },
  {
   "cell_type": "code",
   "execution_count": null,
   "id": "0941213c-273e-41c5-928b-e3bcdfcce894",
   "metadata": {},
   "outputs": [],
   "source": []
  },
  {
   "cell_type": "code",
   "execution_count": 1632,
   "id": "19204a8d-2011-42c3-956e-ad348e683be0",
   "metadata": {},
   "outputs": [
    {
     "data": {
      "text/html": [
       "<div>\n",
       "<style scoped>\n",
       "    .dataframe tbody tr th:only-of-type {\n",
       "        vertical-align: middle;\n",
       "    }\n",
       "\n",
       "    .dataframe tbody tr th {\n",
       "        vertical-align: top;\n",
       "    }\n",
       "\n",
       "    .dataframe thead th {\n",
       "        text-align: right;\n",
       "    }\n",
       "</style>\n",
       "<table border=\"1\" class=\"dataframe\">\n",
       "  <thead>\n",
       "    <tr style=\"text-align: right;\">\n",
       "      <th></th>\n",
       "      <th>params</th>\n",
       "      <th>num_trees</th>\n",
       "      <th>auc_train</th>\n",
       "      <th>auc_valid</th>\n",
       "      <th>auc_test</th>\n",
       "      <th>auc_test2</th>\n",
       "      <th>mir_point@1_train</th>\n",
       "      <th>mir_point@1_valid</th>\n",
       "      <th>mir_point@1_test</th>\n",
       "      <th>mir_point@1_test2</th>\n",
       "      <th>mir_day@1_train</th>\n",
       "      <th>mir_day@1_valid</th>\n",
       "      <th>mir_day@1_test</th>\n",
       "      <th>mir_day@1_test2</th>\n",
       "      <th>mir_month@1_train</th>\n",
       "      <th>mir_month@1_valid</th>\n",
       "      <th>mir_month@1_test</th>\n",
       "      <th>mir_month@1_test2</th>\n",
       "      <th>mir_point@2_train</th>\n",
       "      <th>mir_point@2_valid</th>\n",
       "      <th>mir_point@2_test</th>\n",
       "      <th>mir_point@2_test2</th>\n",
       "      <th>mir_day@2_train</th>\n",
       "      <th>mir_day@2_valid</th>\n",
       "      <th>mir_day@2_test</th>\n",
       "      <th>mir_day@2_test2</th>\n",
       "      <th>mir_month@2_train</th>\n",
       "      <th>mir_month@2_valid</th>\n",
       "      <th>mir_month@2_test</th>\n",
       "      <th>mir_month@2_test2</th>\n",
       "    </tr>\n",
       "  </thead>\n",
       "  <tbody>\n",
       "    <tr>\n",
       "      <th>111</th>\n",
       "      <td>{'boosting_type': 'gbdt', 'objective': 'binary...</td>\n",
       "      <td>17</td>\n",
       "      <td>0.652944</td>\n",
       "      <td>0.610673</td>\n",
       "      <td>0.608529</td>\n",
       "      <td>0.576003</td>\n",
       "      <td>0.002316</td>\n",
       "      <td>0.000534</td>\n",
       "      <td>0.001741</td>\n",
       "      <td>0.001280</td>\n",
       "      <td>0.003945</td>\n",
       "      <td>0.003393</td>\n",
       "      <td>0.003930</td>\n",
       "      <td>0.003674</td>\n",
       "      <td>0.069954</td>\n",
       "      <td>0.069660</td>\n",
       "      <td>0.082540</td>\n",
       "      <td>0.073317</td>\n",
       "      <td>0.001126</td>\n",
       "      <td>-0.000135</td>\n",
       "      <td>0.000515</td>\n",
       "      <td>0.000352</td>\n",
       "      <td>0.001299</td>\n",
       "      <td>0.001204</td>\n",
       "      <td>0.001439</td>\n",
       "      <td>0.000930</td>\n",
       "      <td>0.027986</td>\n",
       "      <td>0.026483</td>\n",
       "      <td>0.031652</td>\n",
       "      <td>0.020449</td>\n",
       "    </tr>\n",
       "    <tr>\n",
       "      <th>149</th>\n",
       "      <td>{'boosting_type': 'gbdt', 'objective': 'binary...</td>\n",
       "      <td>27</td>\n",
       "      <td>0.662656</td>\n",
       "      <td>0.620916</td>\n",
       "      <td>0.618368</td>\n",
       "      <td>0.580464</td>\n",
       "      <td>0.002764</td>\n",
       "      <td>0.000832</td>\n",
       "      <td>0.002166</td>\n",
       "      <td>0.001638</td>\n",
       "      <td>0.004270</td>\n",
       "      <td>0.004005</td>\n",
       "      <td>0.003285</td>\n",
       "      <td>0.003697</td>\n",
       "      <td>0.075058</td>\n",
       "      <td>0.078319</td>\n",
       "      <td>0.064053</td>\n",
       "      <td>0.068101</td>\n",
       "      <td>0.000965</td>\n",
       "      <td>-0.000080</td>\n",
       "      <td>0.000294</td>\n",
       "      <td>0.001144</td>\n",
       "      <td>0.000768</td>\n",
       "      <td>0.000749</td>\n",
       "      <td>0.000319</td>\n",
       "      <td>0.000508</td>\n",
       "      <td>0.016664</td>\n",
       "      <td>0.016485</td>\n",
       "      <td>0.007026</td>\n",
       "      <td>0.011167</td>\n",
       "    </tr>\n",
       "  </tbody>\n",
       "</table>\n",
       "</div>"
      ],
      "text/plain": [
       "                                                params  num_trees  auc_train  \\\n",
       "111  {'boosting_type': 'gbdt', 'objective': 'binary...         17   0.652944   \n",
       "149  {'boosting_type': 'gbdt', 'objective': 'binary...         27   0.662656   \n",
       "\n",
       "     auc_valid  auc_test  auc_test2  mir_point@1_train  mir_point@1_valid  \\\n",
       "111   0.610673  0.608529   0.576003           0.002316           0.000534   \n",
       "149   0.620916  0.618368   0.580464           0.002764           0.000832   \n",
       "\n",
       "     mir_point@1_test  mir_point@1_test2  mir_day@1_train  mir_day@1_valid  \\\n",
       "111          0.001741           0.001280         0.003945         0.003393   \n",
       "149          0.002166           0.001638         0.004270         0.004005   \n",
       "\n",
       "     mir_day@1_test  mir_day@1_test2  mir_month@1_train  mir_month@1_valid  \\\n",
       "111        0.003930         0.003674           0.069954           0.069660   \n",
       "149        0.003285         0.003697           0.075058           0.078319   \n",
       "\n",
       "     mir_month@1_test  mir_month@1_test2  mir_point@2_train  \\\n",
       "111          0.082540           0.073317           0.001126   \n",
       "149          0.064053           0.068101           0.000965   \n",
       "\n",
       "     mir_point@2_valid  mir_point@2_test  mir_point@2_test2  mir_day@2_train  \\\n",
       "111          -0.000135          0.000515           0.000352         0.001299   \n",
       "149          -0.000080          0.000294           0.001144         0.000768   \n",
       "\n",
       "     mir_day@2_valid  mir_day@2_test  mir_day@2_test2  mir_month@2_train  \\\n",
       "111         0.001204        0.001439         0.000930           0.027986   \n",
       "149         0.000749        0.000319         0.000508           0.016664   \n",
       "\n",
       "     mir_month@2_valid  mir_month@2_test  mir_month@2_test2  \n",
       "111           0.026483          0.031652           0.020449  \n",
       "149           0.016485          0.007026           0.011167  "
      ]
     },
     "execution_count": 1632,
     "metadata": {},
     "output_type": "execute_result"
    }
   ],
   "source": [
    "df_hst.iloc[[111, 149]]"
   ]
  },
  {
   "cell_type": "code",
   "execution_count": 1636,
   "id": "37dfb79a-d94f-4986-856c-b4a6b659b638",
   "metadata": {},
   "outputs": [
    {
     "data": {
      "text/plain": [
       "{'boosting_type': 'gbdt',\n",
       " 'objective': 'binary',\n",
       " 'num_leaves': 8,\n",
       " 'learning_rate': 0.1,\n",
       " 'feature_fraction': 0.8000000000000002,\n",
       " 'bagging_fraction': 0.5,\n",
       " 'bagging_freq': 1,\n",
       " 'lambda_l1': 1,\n",
       " 'lambda_l2': 1,\n",
       " 'verbose': -1,\n",
       " 'metric': 'mean_income_rate',\n",
       " 'early_stopping': 10}"
      ]
     },
     "execution_count": 1636,
     "metadata": {},
     "output_type": "execute_result"
    }
   ],
   "source": [
    "df_hst['params'].iloc[149]"
   ]
  },
  {
   "cell_type": "code",
   "execution_count": null,
   "id": "646dc548-34b4-4a07-b5da-bbe722feb663",
   "metadata": {},
   "outputs": [],
   "source": []
  },
  {
   "cell_type": "markdown",
   "id": "92d122d4-7dbf-4905-bbb9-0c17ed68e1ef",
   "metadata": {},
   "source": [
    "# Feature selection"
   ]
  },
  {
   "cell_type": "code",
   "execution_count": 1640,
   "id": "eb1d10e1-bddc-4189-94f1-d0e2ac4b83e2",
   "metadata": {},
   "outputs": [
    {
     "data": {
      "text/plain": [
       "(6,\n",
       " ['close/close_w10_ma',\n",
       "  'close/close_w30_ma',\n",
       "  'close/close_w10_expma',\n",
       "  'close/close_w30_expma',\n",
       "  'close_w10_max/close',\n",
       "  'close/close_1hour_w10_expma'])"
      ]
     },
     "execution_count": 1640,
     "metadata": {},
     "output_type": "execute_result"
    }
   ],
   "source": [
    "len(top_features), top_features"
   ]
  },
  {
   "cell_type": "code",
   "execution_count": 1709,
   "id": "9614b0aa-372a-450f-a331-3d51df36ff41",
   "metadata": {},
   "outputs": [],
   "source": [
    "top_features = ['close/close_w10_ma',\n",
    "  'close/close_w30_ma',\n",
    "  'close/close_w10_expma',\n",
    "  'close/close_w30_expma',\n",
    "  'close_w10_max/close',\n",
    "  'close/close_1hour_w10_expma']"
   ]
  },
  {
   "cell_type": "code",
   "execution_count": 1711,
   "id": "cf207af9-34b2-4b2f-a1a4-b29e30ed3102",
   "metadata": {},
   "outputs": [],
   "source": [
    "#features = features_criteria2.tolist()\n",
    "features = top_features\n",
    "\n",
    "\n",
    "cat_features = [elem for elem in features if elem in cat_features_all]"
   ]
  },
  {
   "cell_type": "code",
   "execution_count": 1713,
   "id": "a96ddbfc-9312-496c-b758-afc98f6d0923",
   "metadata": {},
   "outputs": [
    {
     "data": {
      "text/plain": [
       "(6, 0)"
      ]
     },
     "execution_count": 1713,
     "metadata": {},
     "output_type": "execute_result"
    }
   ],
   "source": [
    "len(features), len(cat_features)"
   ]
  },
  {
   "cell_type": "code",
   "execution_count": 1715,
   "id": "4afdab4c-d01b-4ebf-bf40-29ca5c35a103",
   "metadata": {},
   "outputs": [
    {
     "data": {
      "text/plain": [
       "False"
      ]
     },
     "execution_count": 1715,
     "metadata": {},
     "output_type": "execute_result"
    }
   ],
   "source": [
    "'ticker_code' in features"
   ]
  },
  {
   "cell_type": "code",
   "execution_count": 1717,
   "id": "b8155c1f-2ad4-4637-ae94-367f540770cb",
   "metadata": {},
   "outputs": [],
   "source": [
    "target = 'target'"
   ]
  },
  {
   "cell_type": "code",
   "execution_count": 1719,
   "id": "064a8e25-0e69-4c45-aa78-8a137090fa45",
   "metadata": {},
   "outputs": [],
   "source": [
    "D_train = lgbm.Dataset(df.loc[mask_train, features], label=df.loc[mask_train, target], feature_name=features, categorical_feature=cat_features, free_raw_data=False)\n",
    "D_valid = lgbm.Dataset(df.loc[mask_valid, features], label=df.loc[mask_valid, target], feature_name=features, categorical_feature=cat_features, free_raw_data=False)\n",
    "D_test = lgbm.Dataset(df.loc[mask_test, features], label=df.loc[mask_test, target], feature_name=features, categorical_feature=cat_features, free_raw_data=False)\n",
    "D_test2 = lgbm.Dataset(df.loc[mask_test2, features], label=df.loc[mask_test2, target], feature_name=features, categorical_feature=cat_features, free_raw_data=False)\n",
    "\n",
    "\n",
    "D_train.income_rate = df.loc[mask_train, 'income_rate'].values\n",
    "D_valid.income_rate = df.loc[mask_valid, 'income_rate'].values\n",
    "D_test.income_rate = df.loc[mask_test, 'income_rate'].values\n",
    "D_test2.income_rate = df.loc[mask_test2, 'income_rate'].values\n",
    "\n",
    "D_train.time = df.loc[mask_train, 'time'].values\n",
    "D_valid.time = df.loc[mask_valid, 'time'].values\n",
    "D_test.time = df.loc[mask_test, 'time'].values\n",
    "D_test2.time = df.loc[mask_test2, 'time'].values"
   ]
  },
  {
   "cell_type": "code",
   "execution_count": 1720,
   "id": "90f7acd9-d8a8-46a8-a576-dc71f1e082e6",
   "metadata": {},
   "outputs": [
    {
     "data": {
      "text/html": [
       "<div>\n",
       "<style scoped>\n",
       "    .dataframe tbody tr th:only-of-type {\n",
       "        vertical-align: middle;\n",
       "    }\n",
       "\n",
       "    .dataframe tbody tr th {\n",
       "        vertical-align: top;\n",
       "    }\n",
       "\n",
       "    .dataframe thead th {\n",
       "        text-align: right;\n",
       "    }\n",
       "</style>\n",
       "<table border=\"1\" class=\"dataframe\">\n",
       "  <thead>\n",
       "    <tr style=\"text-align: right;\">\n",
       "      <th></th>\n",
       "      <th>close/close_w10_ma</th>\n",
       "      <th>close/close_w30_ma</th>\n",
       "      <th>close/close_w10_expma</th>\n",
       "      <th>close/close_w30_expma</th>\n",
       "      <th>close_w10_max/close</th>\n",
       "      <th>close/close_1hour_w10_expma</th>\n",
       "    </tr>\n",
       "  </thead>\n",
       "  <tbody>\n",
       "    <tr>\n",
       "      <th>34250</th>\n",
       "      <td>1.004638</td>\n",
       "      <td>1.011641</td>\n",
       "      <td>1.005106</td>\n",
       "      <td>1.008195</td>\n",
       "      <td>1.000000</td>\n",
       "      <td>1.007999</td>\n",
       "    </tr>\n",
       "    <tr>\n",
       "      <th>34251</th>\n",
       "      <td>1.002253</td>\n",
       "      <td>1.009579</td>\n",
       "      <td>1.002815</td>\n",
       "      <td>1.006102</td>\n",
       "      <td>1.001658</td>\n",
       "      <td>1.006331</td>\n",
       "    </tr>\n",
       "    <tr>\n",
       "      <th>34252</th>\n",
       "      <td>1.004541</td>\n",
       "      <td>1.011769</td>\n",
       "      <td>1.004415</td>\n",
       "      <td>1.008132</td>\n",
       "      <td>1.000000</td>\n",
       "      <td>1.008926</td>\n",
       "    </tr>\n",
       "    <tr>\n",
       "      <th>34253</th>\n",
       "      <td>0.997600</td>\n",
       "      <td>1.004561</td>\n",
       "      <td>0.997873</td>\n",
       "      <td>1.001022</td>\n",
       "      <td>1.007032</td>\n",
       "      <td>1.001539</td>\n",
       "    </tr>\n",
       "    <tr>\n",
       "      <th>34254</th>\n",
       "      <td>0.995200</td>\n",
       "      <td>1.001970</td>\n",
       "      <td>0.996293</td>\n",
       "      <td>0.998703</td>\n",
       "      <td>1.009460</td>\n",
       "      <td>0.999129</td>\n",
       "    </tr>\n",
       "    <tr>\n",
       "      <th>...</th>\n",
       "      <td>...</td>\n",
       "      <td>...</td>\n",
       "      <td>...</td>\n",
       "      <td>...</td>\n",
       "      <td>...</td>\n",
       "      <td>...</td>\n",
       "    </tr>\n",
       "    <tr>\n",
       "      <th>2338926</th>\n",
       "      <td>1.001332</td>\n",
       "      <td>1.001260</td>\n",
       "      <td>1.000852</td>\n",
       "      <td>1.001409</td>\n",
       "      <td>1.000190</td>\n",
       "      <td>1.002039</td>\n",
       "    </tr>\n",
       "    <tr>\n",
       "      <th>2338927</th>\n",
       "      <td>1.001014</td>\n",
       "      <td>1.001202</td>\n",
       "      <td>1.000697</td>\n",
       "      <td>1.001318</td>\n",
       "      <td>1.000190</td>\n",
       "      <td>1.002039</td>\n",
       "    </tr>\n",
       "    <tr>\n",
       "      <th>2338928</th>\n",
       "      <td>0.998173</td>\n",
       "      <td>0.998298</td>\n",
       "      <td>0.998102</td>\n",
       "      <td>0.998409</td>\n",
       "      <td>1.003214</td>\n",
       "      <td>0.998649</td>\n",
       "    </tr>\n",
       "    <tr>\n",
       "      <th>2338929</th>\n",
       "      <td>1.000872</td>\n",
       "      <td>1.001328</td>\n",
       "      <td>1.000916</td>\n",
       "      <td>1.001335</td>\n",
       "      <td>1.000190</td>\n",
       "      <td>1.001668</td>\n",
       "    </tr>\n",
       "    <tr>\n",
       "      <th>2338930</th>\n",
       "      <td>0.996564</td>\n",
       "      <td>0.996845</td>\n",
       "      <td>0.996945</td>\n",
       "      <td>0.996899</td>\n",
       "      <td>1.004856</td>\n",
       "      <td>0.997558</td>\n",
       "    </tr>\n",
       "  </tbody>\n",
       "</table>\n",
       "<p>157454 rows × 6 columns</p>\n",
       "</div>"
      ],
      "text/plain": [
       "         close/close_w10_ma  close/close_w30_ma  close/close_w10_expma  \\\n",
       "34250              1.004638            1.011641               1.005106   \n",
       "34251              1.002253            1.009579               1.002815   \n",
       "34252              1.004541            1.011769               1.004415   \n",
       "34253              0.997600            1.004561               0.997873   \n",
       "34254              0.995200            1.001970               0.996293   \n",
       "...                     ...                 ...                    ...   \n",
       "2338926            1.001332            1.001260               1.000852   \n",
       "2338927            1.001014            1.001202               1.000697   \n",
       "2338928            0.998173            0.998298               0.998102   \n",
       "2338929            1.000872            1.001328               1.000916   \n",
       "2338930            0.996564            0.996845               0.996945   \n",
       "\n",
       "         close/close_w30_expma  close_w10_max/close  \\\n",
       "34250                 1.008195             1.000000   \n",
       "34251                 1.006102             1.001658   \n",
       "34252                 1.008132             1.000000   \n",
       "34253                 1.001022             1.007032   \n",
       "34254                 0.998703             1.009460   \n",
       "...                        ...                  ...   \n",
       "2338926               1.001409             1.000190   \n",
       "2338927               1.001318             1.000190   \n",
       "2338928               0.998409             1.003214   \n",
       "2338929               1.001335             1.000190   \n",
       "2338930               0.996899             1.004856   \n",
       "\n",
       "         close/close_1hour_w10_expma  \n",
       "34250                       1.007999  \n",
       "34251                       1.006331  \n",
       "34252                       1.008926  \n",
       "34253                       1.001539  \n",
       "34254                       0.999129  \n",
       "...                              ...  \n",
       "2338926                     1.002039  \n",
       "2338927                     1.002039  \n",
       "2338928                     0.998649  \n",
       "2338929                     1.001668  \n",
       "2338930                     0.997558  \n",
       "\n",
       "[157454 rows x 6 columns]"
      ]
     },
     "execution_count": 1720,
     "metadata": {},
     "output_type": "execute_result"
    }
   ],
   "source": [
    "D_test2.data"
   ]
  },
  {
   "cell_type": "code",
   "execution_count": null,
   "id": "a3c5cb46-527b-40d8-80ae-5b90d8139d38",
   "metadata": {},
   "outputs": [],
   "source": []
  },
  {
   "cell_type": "code",
   "execution_count": 1983,
   "id": "a93da917-bee4-42b8-b972-e2543a4a379a",
   "metadata": {},
   "outputs": [],
   "source": [
    "params = { 'boosting_type': 'gbdt',\n",
    " 'objective': 'binary',\n",
    " 'num_leaves': 5,\n",
    " 'learning_rate': 0.1,\n",
    " 'feature_fraction': 0.5,\n",
    " 'bagging_fraction': 0.3,\n",
    " 'bagging_freq': 1,\n",
    " 'lambda_l1': 1,\n",
    " 'lambda_l2': 1,\n",
    " 'verbose': -1,\n",
    " 'metric': 'mean_income_rate',\n",
    " 'early_stopping': 10}\n",
    "\n",
    "# {'boosting_type': 'gbdt',\n",
    "#  'objective': 'binary',\n",
    "#  'num_leaves': 8,\n",
    "#  'learning_rate': 0.1,\n",
    "#  'feature_fraction': 0.8,\n",
    "#  'bagging_fraction': 0.5,\n",
    "#  'bagging_freq': 1,\n",
    "#  'lambda_l1': 1,\n",
    "#  'lambda_l2': 1,\n",
    "#  'verbose': -1,\n",
    "#  'metric': 'mean_income_rate',\n",
    "#  'early_stopping': 10}\n",
    "\n",
    "# #111 - num_trees=17\n",
    "# {'boosting_type': 'gbdt',\n",
    "#  'objective': 'binary',\n",
    "#  'num_leaves': 5,\n",
    "#  'learning_rate': 0.1,\n",
    "#  'feature_fraction': 0.5,\n",
    "#  'bagging_fraction': 0.3,\n",
    "#  'bagging_freq': 1,\n",
    "#  'lambda_l1': 1,\n",
    "#  'lambda_l2': 1,\n",
    "#  'verbose': -1,\n",
    "#  'metric': 'mean_income_rate',\n",
    "#  'early_stopping': 10}\n",
    "\n",
    "model = lgbm.train(params,  num_boost_round=2_000, train_set=D_train, valid_sets=[D_valid], feval=mean_income_rate)"
   ]
  },
  {
   "cell_type": "code",
   "execution_count": 1985,
   "id": "d8446407-c7dd-4bb3-adf1-70bfffd132c6",
   "metadata": {},
   "outputs": [
    {
     "data": {
      "text/plain": [
       "17"
      ]
     },
     "execution_count": 1985,
     "metadata": {},
     "output_type": "execute_result"
    }
   ],
   "source": [
    "model.num_trees()"
   ]
  },
  {
   "cell_type": "code",
   "execution_count": null,
   "id": "02807cb2-8985-44b1-b5ef-1ee3d5a7cf5f",
   "metadata": {},
   "outputs": [],
   "source": []
  },
  {
   "cell_type": "code",
   "execution_count": 1988,
   "id": "5b24339c-2392-4ee1-bfc3-fea092f906c0",
   "metadata": {},
   "outputs": [
    {
     "data": {
      "text/plain": [
       "(0.652944363854863, 0.6106727017819044, 0.6085286847042677, 0.5760034988223279)"
      ]
     },
     "execution_count": 1988,
     "metadata": {},
     "output_type": "execute_result"
    }
   ],
   "source": [
    "y_pred_train = model.predict(D_train.data)\n",
    "y_pred_valid = model.predict(D_valid.data)\n",
    "y_pred_test = model.predict(D_test.data)\n",
    "y_pred_test2 = model.predict(D_test2.data)\n",
    "\n",
    "\n",
    "df[\"y_pred\"] = None\n",
    "df.loc[mask_train, 'y_pred'] = y_pred_train\n",
    "df.loc[mask_valid, 'y_pred'] = y_pred_valid\n",
    "df.loc[mask_test, 'y_pred'] = y_pred_test\n",
    "df.loc[mask_test2, 'y_pred'] = y_pred_test2\n",
    "\n",
    "roc_auc_score(D_train.label, y_pred_train), roc_auc_score(D_valid.label, y_pred_valid), roc_auc_score(D_test.label, y_pred_test), roc_auc_score(D_test2.label, y_pred_test2)\n"
   ]
  },
  {
   "cell_type": "code",
   "execution_count": 1989,
   "id": "193d7604-1f87-4b4d-b721-6dc1858d2249",
   "metadata": {},
   "outputs": [
    {
     "name": "stdout",
     "output_type": "stream",
     "text": [
      "\n",
      "Valid\n",
      "result\n",
      "LOSE    0.602980\n",
      "WIN     0.266631\n",
      "DNF     0.130389\n",
      "Name: proportion, dtype: float64\n",
      "1.0005339\n",
      "\n",
      "Test\n",
      "result\n",
      "LOSE    0.534453\n",
      "WIN     0.280834\n",
      "DNF     0.184713\n",
      "Name: proportion, dtype: float64\n",
      "1.0013725\n",
      "\n",
      "Test2\n",
      "result\n",
      "LOSE    0.532609\n",
      "WIN     0.292271\n",
      "DNF     0.175121\n",
      "Name: proportion, dtype: float64\n",
      "1.0013669\n"
     ]
    }
   ],
   "source": [
    "#свой threshold\n",
    "\n",
    "q = 0.99\n",
    "\n",
    "threshold = np.quantile(df.loc[mask_valid, 'y_pred'], q=q)\n",
    "mask = df['y_pred'] >= threshold\n",
    "print('\\nValid')\n",
    "print(df.loc[mask_valid&mask, 'result'].value_counts(normalize=True))\n",
    "print(df.loc[mask_valid&mask, 'income_rate'].mean())\n",
    "\n",
    "threshold = np.quantile(df.loc[mask_test, 'y_pred'], q=q)\n",
    "mask = df['y_pred'] >= threshold\n",
    "print('\\nTest')\n",
    "print(df.loc[mask_test&mask, 'result'].value_counts(normalize=True))\n",
    "print(df.loc[mask_test&mask, 'income_rate'].mean())\n",
    "\n",
    "threshold = np.quantile(df.loc[mask_test2, 'y_pred'], q=q)\n",
    "mask = df['y_pred'] >= threshold\n",
    "print('\\nTest2')\n",
    "print(df.loc[mask_test2&mask, 'result'].value_counts(normalize=True))\n",
    "print(df.loc[mask_test2&mask, 'income_rate'].mean())"
   ]
  },
  {
   "cell_type": "code",
   "execution_count": 1990,
   "id": "98a8bcad-97c9-478a-8fa3-51ffcb06548a",
   "metadata": {},
   "outputs": [
    {
     "data": {
      "text/plain": [
       "(Timedelta('0 days 01:00:00'),\n",
       " Timedelta('0 days 01:15:00'),\n",
       " Timedelta('0 days 01:00:00'))"
      ]
     },
     "execution_count": 1990,
     "metadata": {},
     "output_type": "execute_result"
    }
   ],
   "source": [
    "df.loc[mask_valid&mask, 'delta_time'].median(), df.loc[mask_test&mask, 'delta_time'].median(), df.loc[mask_test2&mask, 'delta_time'].median()"
   ]
  },
  {
   "cell_type": "code",
   "execution_count": null,
   "id": "c8eebfe5-85ef-4128-8b0d-1eb042d23f99",
   "metadata": {},
   "outputs": [],
   "source": []
  },
  {
   "cell_type": "code",
   "execution_count": 1995,
   "id": "bc3dac2d-5ead-4c02-999c-23e180ce8185",
   "metadata": {},
   "outputs": [
    {
     "name": "stdout",
     "output_type": "stream",
     "text": [
      "threshokd = 0.2591240486482249\n",
      "\n",
      "Valid\n",
      "result\n",
      "LOSE    0.602980\n",
      "WIN     0.266631\n",
      "DNF     0.130389\n",
      "Name: proportion, dtype: float64\n",
      "1.0005339\n",
      "\n",
      "Test\n",
      "result\n",
      "LOSE    0.530280\n",
      "WIN     0.310559\n",
      "DNF     0.159161\n",
      "Name: proportion, dtype: float64\n",
      "1.0017412\n",
      "\n",
      "Tetst2\n",
      "result\n",
      "LOSE    0.543643\n",
      "WIN     0.296907\n",
      "DNF     0.159450\n",
      "Name: proportion, dtype: float64\n",
      "1.0012803\n"
     ]
    }
   ],
   "source": [
    "#общий threshold\n",
    "\n",
    "threshold = np.quantile(df.loc[mask_valid, 'y_pred'], q=q)\n",
    "print(f'threshokd = {threshold}')\n",
    "\n",
    "mask = df['y_pred'] >= threshold\n",
    "print('\\nValid')\n",
    "print(df.loc[mask_valid&mask, 'result'].value_counts(normalize=True))\n",
    "print(df.loc[mask_valid&mask, 'income_rate'].mean())\n",
    "\n",
    "#threshold = np.quantile(df.loc[mask_test, 'y_pred'], q=0.99)\n",
    "#mask = df['y_pred'] > threshold\n",
    "print(\"\\nTest\")\n",
    "print(df.loc[mask_test&mask, 'result'].value_counts(normalize=True))\n",
    "print(df.loc[mask_test&mask, 'income_rate'].mean())\n",
    "\n",
    "#threshold = np.quantile(df.loc[mask_test2, 'y_pred'], q=0.99)\n",
    "#mask = df['y_pred'] > threshold\n",
    "print('\\nTetst2')\n",
    "print(df.loc[mask_test2&mask, 'result'].value_counts(normalize=True))\n",
    "print(df.loc[mask_test2&mask, 'income_rate'].mean())"
   ]
  },
  {
   "cell_type": "code",
   "execution_count": 1997,
   "id": "540956b0-5183-4c9c-8134-a41ef3a2c4c8",
   "metadata": {},
   "outputs": [
    {
     "data": {
      "text/plain": [
       "(Timedelta('0 days 01:00:00'),\n",
       " Timedelta('0 days 01:00:00'),\n",
       " Timedelta('0 days 01:00:00'))"
      ]
     },
     "execution_count": 1997,
     "metadata": {},
     "output_type": "execute_result"
    }
   ],
   "source": [
    "df.loc[mask_valid&mask, 'delta_time'].median(), df.loc[mask_test&mask, 'delta_time'].median(), df.loc[mask_test2&mask, 'delta_time'].median()"
   ]
  },
  {
   "cell_type": "code",
   "execution_count": 1999,
   "id": "8a15e1ec-1621-472f-b999-3da0d91c0749",
   "metadata": {},
   "outputs": [
    {
     "data": {
      "text/plain": [
       "(1879, 1288, 1455)"
      ]
     },
     "execution_count": 1999,
     "metadata": {},
     "output_type": "execute_result"
    }
   ],
   "source": [
    "(mask_valid&mask).sum(), (mask_test&mask).sum(), (mask_test2&mask).sum()"
   ]
  },
  {
   "cell_type": "code",
   "execution_count": 2001,
   "id": "884fb780-a989-4c17-8ba0-aefc55ce47c9",
   "metadata": {},
   "outputs": [
    {
     "data": {
      "text/plain": [
       "(42, 42, 39)"
      ]
     },
     "execution_count": 2001,
     "metadata": {},
     "output_type": "execute_result"
    }
   ],
   "source": [
    "df.loc[mask_valid&mask, 'time'].dt.date.nunique(), df.loc[mask_test&mask, 'time'].dt.date.nunique(), df.loc[mask_test2&mask, 'time'].dt.date.nunique()\n"
   ]
  },
  {
   "cell_type": "code",
   "execution_count": null,
   "id": "61f32341-ac6d-4149-93f5-3d59f2f9b276",
   "metadata": {},
   "outputs": [],
   "source": []
  },
  {
   "cell_type": "code",
   "execution_count": 2004,
   "id": "4aa51b1a-dd30-4238-86c1-edf7902822df",
   "metadata": {},
   "outputs": [],
   "source": [
    "threshold = np.quantile(df.loc[mask_valid, 'y_pred'], q=0.99)"
   ]
  },
  {
   "cell_type": "code",
   "execution_count": 2006,
   "id": "52046224-2862-46bb-9471-5a12444391a4",
   "metadata": {},
   "outputs": [
    {
     "data": {
      "text/plain": [
       "(0.0005339384078979492, 0.001741170883178711, 0.0012803077697753906)"
      ]
     },
     "execution_count": 2006,
     "metadata": {},
     "output_type": "execute_result"
    }
   ],
   "source": [
    "mean_income_rate_point(D_valid, y_pred_valid, threshold=threshold), mean_income_rate_point(D_test, y_pred_test, threshold=threshold), mean_income_rate_point(D_test2, y_pred_test2, threshold=threshold)"
   ]
  },
  {
   "cell_type": "code",
   "execution_count": 2008,
   "id": "77a1e987-3d88-4e29-9153-a59e141c6e8f",
   "metadata": {},
   "outputs": [
    {
     "data": {
      "text/plain": [
       "(0.0033925232, 0.0039304667, 0.0036743742)"
      ]
     },
     "execution_count": 2008,
     "metadata": {},
     "output_type": "execute_result"
    }
   ],
   "source": [
    "mean_income_rate_day(D_valid, y_pred_valid, threshold=threshold), mean_income_rate_day(D_test, y_pred_test, threshold=threshold), mean_income_rate_day(D_test2, y_pred_test2, threshold=threshold)"
   ]
  },
  {
   "cell_type": "code",
   "execution_count": 2010,
   "id": "aa2421bb-43c1-4881-89e3-0872a5dde3eb",
   "metadata": {},
   "outputs": [
    {
     "data": {
      "text/plain": [
       "(0.06965980877478917, 0.08253980102017522, 0.07331658277097483)"
      ]
     },
     "execution_count": 2010,
     "metadata": {},
     "output_type": "execute_result"
    }
   ],
   "source": [
    "mean_income_rate_month(D_valid, y_pred_valid, threshold=threshold), mean_income_rate_month(D_test, y_pred_test, threshold=threshold), mean_income_rate_month(D_test2, y_pred_test2, threshold=threshold)"
   ]
  },
  {
   "cell_type": "code",
   "execution_count": null,
   "id": "24c7dc7e-989a-49ad-9d76-89e883a4bfc7",
   "metadata": {},
   "outputs": [],
   "source": []
  },
  {
   "cell_type": "code",
   "execution_count": 2013,
   "id": "432a4615-6b0d-48ec-a465-6aeb1409b20a",
   "metadata": {},
   "outputs": [
    {
     "data": {
      "text/plain": [
       "array(['AFLT', 'IRAO', 'MVID', 'SPBE', 'MTLRP', 'SFIN', 'FEES', 'LKOH',\n",
       "       'FESH', 'MDMG', 'VKCO', 'SELG', 'SGZH', 'ENPG', 'LSRG', 'NMTP',\n",
       "       'PLZL', 'TATN', 'AFKS', 'GMKN', 'RNFT', 'YDEX', 'UWGN', 'TGKN',\n",
       "       'HYDR', 'ABIO', 'WUSH', 'GTRK', 'NLMK', 'TATNP', 'ALRS', 'VSMO',\n",
       "       'TRNFP', 'MGNT', 'IRKT', 'MTLR', 'HEAD', 'RUAL', 'SNGS', 'NVTK',\n",
       "       'RASP', 'VTBR', 'PHOR', 'T', 'TRMK', 'MOEX', 'CHMF', 'RTKM',\n",
       "       'SMLT', 'UNAC', 'GAZP', 'ROSN', 'BELU', 'FLOT', 'PIKK', 'SVAV',\n",
       "       'POSI', 'SNGSP', 'MTSS', 'MAGN', 'BANEP', 'BSPB'], dtype=object)"
      ]
     },
     "execution_count": 2013,
     "metadata": {},
     "output_type": "execute_result"
    }
   ],
   "source": [
    "df.loc[mask_test2&mask, 'ticker'].unique()"
   ]
  },
  {
   "cell_type": "code",
   "execution_count": 2015,
   "id": "fad750fd-ecaa-437b-9275-9707b65e0293",
   "metadata": {
    "id": "88e63d91-3ce6-49e8-82e3-e38943c7ba76",
    "scrolled": true
   },
   "outputs": [
    {
     "name": "stderr",
     "output_type": "stream",
     "text": [
      "/var/folders/rm/zt5_90s5727289mv2gzbkw980000gn/T/ipykernel_27664/480691733.py:2: DeprecationWarning: DataFrameGroupBy.apply operated on the grouping columns. This behavior is deprecated, and in a future version of pandas the grouping columns will be excluded from the operation. Either pass `include_groups=False` to exclude the groupings or explicitly select the grouping columns after groupby to silence this warning.\n",
      "  df.loc[mask_test2&mask, ['ticker', 'income_rate']].groupby('ticker').apply(lambda x: pd.Series({'count' : x['income_rate'].count(),\n"
     ]
    },
    {
     "data": {
      "text/html": [
       "<div>\n",
       "<style scoped>\n",
       "    .dataframe tbody tr th:only-of-type {\n",
       "        vertical-align: middle;\n",
       "    }\n",
       "\n",
       "    .dataframe tbody tr th {\n",
       "        vertical-align: top;\n",
       "    }\n",
       "\n",
       "    .dataframe thead th {\n",
       "        text-align: right;\n",
       "    }\n",
       "</style>\n",
       "<table border=\"1\" class=\"dataframe\">\n",
       "  <thead>\n",
       "    <tr style=\"text-align: right;\">\n",
       "      <th></th>\n",
       "      <th>count</th>\n",
       "      <th>income_rate</th>\n",
       "    </tr>\n",
       "    <tr>\n",
       "      <th>ticker</th>\n",
       "      <th></th>\n",
       "      <th></th>\n",
       "    </tr>\n",
       "  </thead>\n",
       "  <tbody>\n",
       "    <tr>\n",
       "      <th>PHOR</th>\n",
       "      <td>1.0</td>\n",
       "      <td>1.009423</td>\n",
       "    </tr>\n",
       "    <tr>\n",
       "      <th>ROSN</th>\n",
       "      <td>2.0</td>\n",
       "      <td>0.997834</td>\n",
       "    </tr>\n",
       "    <tr>\n",
       "      <th>NLMK</th>\n",
       "      <td>2.0</td>\n",
       "      <td>1.014000</td>\n",
       "    </tr>\n",
       "    <tr>\n",
       "      <th>MDMG</th>\n",
       "      <td>2.0</td>\n",
       "      <td>1.008354</td>\n",
       "    </tr>\n",
       "    <tr>\n",
       "      <th>GMKN</th>\n",
       "      <td>2.0</td>\n",
       "      <td>0.998990</td>\n",
       "    </tr>\n",
       "    <tr>\n",
       "      <th>SNGSP</th>\n",
       "      <td>3.0</td>\n",
       "      <td>1.007333</td>\n",
       "    </tr>\n",
       "    <tr>\n",
       "      <th>SNGS</th>\n",
       "      <td>3.0</td>\n",
       "      <td>0.996834</td>\n",
       "    </tr>\n",
       "    <tr>\n",
       "      <th>NVTK</th>\n",
       "      <td>3.0</td>\n",
       "      <td>1.003587</td>\n",
       "    </tr>\n",
       "    <tr>\n",
       "      <th>IRAO</th>\n",
       "      <td>3.0</td>\n",
       "      <td>1.014000</td>\n",
       "    </tr>\n",
       "    <tr>\n",
       "      <th>YDEX</th>\n",
       "      <td>4.0</td>\n",
       "      <td>1.004000</td>\n",
       "    </tr>\n",
       "    <tr>\n",
       "      <th>ALRS</th>\n",
       "      <td>5.0</td>\n",
       "      <td>0.996159</td>\n",
       "    </tr>\n",
       "    <tr>\n",
       "      <th>ENPG</th>\n",
       "      <td>5.0</td>\n",
       "      <td>0.998000</td>\n",
       "    </tr>\n",
       "    <tr>\n",
       "      <th>MOEX</th>\n",
       "      <td>5.0</td>\n",
       "      <td>1.012264</td>\n",
       "    </tr>\n",
       "    <tr>\n",
       "      <th>HYDR</th>\n",
       "      <td>5.0</td>\n",
       "      <td>1.008806</td>\n",
       "    </tr>\n",
       "    <tr>\n",
       "      <th>TATNP</th>\n",
       "      <td>6.0</td>\n",
       "      <td>1.008331</td>\n",
       "    </tr>\n",
       "    <tr>\n",
       "      <th>TATN</th>\n",
       "      <td>6.0</td>\n",
       "      <td>1.008229</td>\n",
       "    </tr>\n",
       "    <tr>\n",
       "      <th>NMTP</th>\n",
       "      <td>6.0</td>\n",
       "      <td>1.007333</td>\n",
       "    </tr>\n",
       "    <tr>\n",
       "      <th>BANEP</th>\n",
       "      <td>8.0</td>\n",
       "      <td>0.998949</td>\n",
       "    </tr>\n",
       "    <tr>\n",
       "      <th>VTBR</th>\n",
       "      <td>9.0</td>\n",
       "      <td>0.996350</td>\n",
       "    </tr>\n",
       "    <tr>\n",
       "      <th>LKOH</th>\n",
       "      <td>9.0</td>\n",
       "      <td>0.998244</td>\n",
       "    </tr>\n",
       "    <tr>\n",
       "      <th>AFLT</th>\n",
       "      <td>10.0</td>\n",
       "      <td>0.997125</td>\n",
       "    </tr>\n",
       "    <tr>\n",
       "      <th>GAZP</th>\n",
       "      <td>10.0</td>\n",
       "      <td>0.999520</td>\n",
       "    </tr>\n",
       "    <tr>\n",
       "      <th>FLOT</th>\n",
       "      <td>10.0</td>\n",
       "      <td>1.012000</td>\n",
       "    </tr>\n",
       "    <tr>\n",
       "      <th>PLZL</th>\n",
       "      <td>10.0</td>\n",
       "      <td>0.997831</td>\n",
       "    </tr>\n",
       "    <tr>\n",
       "      <th>MAGN</th>\n",
       "      <td>11.0</td>\n",
       "      <td>1.007939</td>\n",
       "    </tr>\n",
       "    <tr>\n",
       "      <th>FEES</th>\n",
       "      <td>11.0</td>\n",
       "      <td>1.003708</td>\n",
       "    </tr>\n",
       "    <tr>\n",
       "      <th>MTSS</th>\n",
       "      <td>12.0</td>\n",
       "      <td>1.003953</td>\n",
       "    </tr>\n",
       "    <tr>\n",
       "      <th>HEAD</th>\n",
       "      <td>13.0</td>\n",
       "      <td>0.997205</td>\n",
       "    </tr>\n",
       "    <tr>\n",
       "      <th>T</th>\n",
       "      <td>14.0</td>\n",
       "      <td>0.998712</td>\n",
       "    </tr>\n",
       "    <tr>\n",
       "      <th>MGNT</th>\n",
       "      <td>14.0</td>\n",
       "      <td>1.001143</td>\n",
       "    </tr>\n",
       "    <tr>\n",
       "      <th>CHMF</th>\n",
       "      <td>14.0</td>\n",
       "      <td>1.001284</td>\n",
       "    </tr>\n",
       "    <tr>\n",
       "      <th>RUAL</th>\n",
       "      <td>15.0</td>\n",
       "      <td>0.997130</td>\n",
       "    </tr>\n",
       "    <tr>\n",
       "      <th>FESH</th>\n",
       "      <td>16.0</td>\n",
       "      <td>1.000393</td>\n",
       "    </tr>\n",
       "    <tr>\n",
       "      <th>SPBE</th>\n",
       "      <td>16.0</td>\n",
       "      <td>1.004799</td>\n",
       "    </tr>\n",
       "    <tr>\n",
       "      <th>VSMO</th>\n",
       "      <td>16.0</td>\n",
       "      <td>1.001230</td>\n",
       "    </tr>\n",
       "    <tr>\n",
       "      <th>TRMK</th>\n",
       "      <td>17.0</td>\n",
       "      <td>1.000000</td>\n",
       "    </tr>\n",
       "    <tr>\n",
       "      <th>BSPB</th>\n",
       "      <td>19.0</td>\n",
       "      <td>0.999083</td>\n",
       "    </tr>\n",
       "    <tr>\n",
       "      <th>SFIN</th>\n",
       "      <td>20.0</td>\n",
       "      <td>0.999913</td>\n",
       "    </tr>\n",
       "    <tr>\n",
       "      <th>RTKM</th>\n",
       "      <td>20.0</td>\n",
       "      <td>1.001132</td>\n",
       "    </tr>\n",
       "    <tr>\n",
       "      <th>ABIO</th>\n",
       "      <td>23.0</td>\n",
       "      <td>1.000399</td>\n",
       "    </tr>\n",
       "    <tr>\n",
       "      <th>SELG</th>\n",
       "      <td>25.0</td>\n",
       "      <td>1.001951</td>\n",
       "    </tr>\n",
       "    <tr>\n",
       "      <th>AFKS</th>\n",
       "      <td>25.0</td>\n",
       "      <td>0.999087</td>\n",
       "    </tr>\n",
       "    <tr>\n",
       "      <th>UNAC</th>\n",
       "      <td>27.0</td>\n",
       "      <td>1.005049</td>\n",
       "    </tr>\n",
       "    <tr>\n",
       "      <th>VKCO</th>\n",
       "      <td>28.0</td>\n",
       "      <td>0.999000</td>\n",
       "    </tr>\n",
       "    <tr>\n",
       "      <th>MTLR</th>\n",
       "      <td>29.0</td>\n",
       "      <td>1.001803</td>\n",
       "    </tr>\n",
       "    <tr>\n",
       "      <th>MTLRP</th>\n",
       "      <td>31.0</td>\n",
       "      <td>1.001545</td>\n",
       "    </tr>\n",
       "    <tr>\n",
       "      <th>LSRG</th>\n",
       "      <td>31.0</td>\n",
       "      <td>0.997938</td>\n",
       "    </tr>\n",
       "    <tr>\n",
       "      <th>RASP</th>\n",
       "      <td>34.0</td>\n",
       "      <td>0.997281</td>\n",
       "    </tr>\n",
       "    <tr>\n",
       "      <th>BELU</th>\n",
       "      <td>35.0</td>\n",
       "      <td>1.001691</td>\n",
       "    </tr>\n",
       "    <tr>\n",
       "      <th>SVAV</th>\n",
       "      <td>39.0</td>\n",
       "      <td>0.999979</td>\n",
       "    </tr>\n",
       "    <tr>\n",
       "      <th>TRNFP</th>\n",
       "      <td>39.0</td>\n",
       "      <td>1.003442</td>\n",
       "    </tr>\n",
       "    <tr>\n",
       "      <th>WUSH</th>\n",
       "      <td>43.0</td>\n",
       "      <td>1.001484</td>\n",
       "    </tr>\n",
       "    <tr>\n",
       "      <th>RNFT</th>\n",
       "      <td>49.0</td>\n",
       "      <td>0.998683</td>\n",
       "    </tr>\n",
       "    <tr>\n",
       "      <th>POSI</th>\n",
       "      <td>50.0</td>\n",
       "      <td>1.002260</td>\n",
       "    </tr>\n",
       "    <tr>\n",
       "      <th>MVID</th>\n",
       "      <td>57.0</td>\n",
       "      <td>1.004219</td>\n",
       "    </tr>\n",
       "    <tr>\n",
       "      <th>IRKT</th>\n",
       "      <td>58.0</td>\n",
       "      <td>1.000908</td>\n",
       "    </tr>\n",
       "    <tr>\n",
       "      <th>PIKK</th>\n",
       "      <td>60.0</td>\n",
       "      <td>1.000531</td>\n",
       "    </tr>\n",
       "    <tr>\n",
       "      <th>UWGN</th>\n",
       "      <td>60.0</td>\n",
       "      <td>1.003016</td>\n",
       "    </tr>\n",
       "    <tr>\n",
       "      <th>TGKN</th>\n",
       "      <td>79.0</td>\n",
       "      <td>1.000277</td>\n",
       "    </tr>\n",
       "    <tr>\n",
       "      <th>SMLT</th>\n",
       "      <td>90.0</td>\n",
       "      <td>1.000218</td>\n",
       "    </tr>\n",
       "    <tr>\n",
       "      <th>SGZH</th>\n",
       "      <td>93.0</td>\n",
       "      <td>1.003514</td>\n",
       "    </tr>\n",
       "    <tr>\n",
       "      <th>GTRK</th>\n",
       "      <td>93.0</td>\n",
       "      <td>1.000233</td>\n",
       "    </tr>\n",
       "  </tbody>\n",
       "</table>\n",
       "</div>"
      ],
      "text/plain": [
       "        count  income_rate\n",
       "ticker                    \n",
       "PHOR      1.0     1.009423\n",
       "ROSN      2.0     0.997834\n",
       "NLMK      2.0     1.014000\n",
       "MDMG      2.0     1.008354\n",
       "GMKN      2.0     0.998990\n",
       "SNGSP     3.0     1.007333\n",
       "SNGS      3.0     0.996834\n",
       "NVTK      3.0     1.003587\n",
       "IRAO      3.0     1.014000\n",
       "YDEX      4.0     1.004000\n",
       "ALRS      5.0     0.996159\n",
       "ENPG      5.0     0.998000\n",
       "MOEX      5.0     1.012264\n",
       "HYDR      5.0     1.008806\n",
       "TATNP     6.0     1.008331\n",
       "TATN      6.0     1.008229\n",
       "NMTP      6.0     1.007333\n",
       "BANEP     8.0     0.998949\n",
       "VTBR      9.0     0.996350\n",
       "LKOH      9.0     0.998244\n",
       "AFLT     10.0     0.997125\n",
       "GAZP     10.0     0.999520\n",
       "FLOT     10.0     1.012000\n",
       "PLZL     10.0     0.997831\n",
       "MAGN     11.0     1.007939\n",
       "FEES     11.0     1.003708\n",
       "MTSS     12.0     1.003953\n",
       "HEAD     13.0     0.997205\n",
       "T        14.0     0.998712\n",
       "MGNT     14.0     1.001143\n",
       "CHMF     14.0     1.001284\n",
       "RUAL     15.0     0.997130\n",
       "FESH     16.0     1.000393\n",
       "SPBE     16.0     1.004799\n",
       "VSMO     16.0     1.001230\n",
       "TRMK     17.0     1.000000\n",
       "BSPB     19.0     0.999083\n",
       "SFIN     20.0     0.999913\n",
       "RTKM     20.0     1.001132\n",
       "ABIO     23.0     1.000399\n",
       "SELG     25.0     1.001951\n",
       "AFKS     25.0     0.999087\n",
       "UNAC     27.0     1.005049\n",
       "VKCO     28.0     0.999000\n",
       "MTLR     29.0     1.001803\n",
       "MTLRP    31.0     1.001545\n",
       "LSRG     31.0     0.997938\n",
       "RASP     34.0     0.997281\n",
       "BELU     35.0     1.001691\n",
       "SVAV     39.0     0.999979\n",
       "TRNFP    39.0     1.003442\n",
       "WUSH     43.0     1.001484\n",
       "RNFT     49.0     0.998683\n",
       "POSI     50.0     1.002260\n",
       "MVID     57.0     1.004219\n",
       "IRKT     58.0     1.000908\n",
       "PIKK     60.0     1.000531\n",
       "UWGN     60.0     1.003016\n",
       "TGKN     79.0     1.000277\n",
       "SMLT     90.0     1.000218\n",
       "SGZH     93.0     1.003514\n",
       "GTRK     93.0     1.000233"
      ]
     },
     "execution_count": 2015,
     "metadata": {},
     "output_type": "execute_result"
    }
   ],
   "source": [
    "pd.set_option('display.max_rows', 150)\n",
    "df.loc[mask_test2&mask, ['ticker', 'income_rate']].groupby('ticker').apply(lambda x: pd.Series({'count' : x['income_rate'].count(),\n",
    "                                                                                                               'income_rate' : x['income_rate'].mean()})).sort_values('count')"
   ]
  },
  {
   "cell_type": "code",
   "execution_count": null,
   "id": "e1ffbd3c-7c14-489c-bb08-36a9f7b15ccd",
   "metadata": {},
   "outputs": [],
   "source": []
  },
  {
   "cell_type": "code",
   "execution_count": null,
   "id": "62d4ddc5-2eb4-480f-8998-055dcd390aae",
   "metadata": {},
   "outputs": [],
   "source": []
  },
  {
   "cell_type": "markdown",
   "id": "3c766143-0300-4352-8c56-41aa6b4862a3",
   "metadata": {},
   "source": [
    "# Drop weak features"
   ]
  },
  {
   "cell_type": "code",
   "execution_count": 2020,
   "id": "0e4a80a3-d6fb-4719-a55c-985d80bbc5ec",
   "metadata": {},
   "outputs": [
    {
     "data": {
      "text/plain": [
       "[('close/close_w30_ma', 1.57),\n",
       " ('close/close_w10_ma', 2.25),\n",
       " ('close/close_w10_expma', 2.79),\n",
       " ('close_w10_max/close', 19.1),\n",
       " ('close/close_w30_expma', 24.83),\n",
       " ('close/close_1hour_w10_expma', 49.47)]"
      ]
     },
     "execution_count": 2020,
     "metadata": {},
     "output_type": "execute_result"
    }
   ],
   "source": [
    "s = model.feature_importance(importance_type='gain').sum()\n",
    "sorted(zip(features, np.round((model.feature_importance(importance_type='gain')/s*100), 2)), key=lambda x: x[1])"
   ]
  },
  {
   "cell_type": "code",
   "execution_count": 1698,
   "id": "fefd1745-5e01-403c-b3bf-da44c1bcffee",
   "metadata": {},
   "outputs": [],
   "source": [
    "#Не использовал"
   ]
  },
  {
   "cell_type": "code",
   "execution_count": 1700,
   "id": "3c59d675-d2d4-4dcd-9c03-c291eadb3bc7",
   "metadata": {},
   "outputs": [
    {
     "data": {
      "text/plain": [
       "['close/close_w10_ma',\n",
       " 'close/close_w30_expma',\n",
       " 'close/close_w10_expma',\n",
       " 'close/close_w30_ma',\n",
       " 'close_w10_max/close',\n",
       " 'close/close_1hour_w10_expma']"
      ]
     },
     "execution_count": 1700,
     "metadata": {},
     "output_type": "execute_result"
    }
   ],
   "source": [
    "features_order_to_drop = []\n",
    "for elem in sorted(zip(features, np.round((model.feature_importance(importance_type='gain')/s*100), 2)), key=lambda x: x[1]):\n",
    "    if elem[1] > 0:\n",
    "        features_order_to_drop += [elem[0]]\n",
    "features_order_to_drop"
   ]
  },
  {
   "cell_type": "code",
   "execution_count": 1702,
   "id": "d563f7d6-b6b7-4131-b5be-831a0c77e0cf",
   "metadata": {},
   "outputs": [
    {
     "data": {
      "text/plain": [
       "0"
      ]
     },
     "execution_count": 1702,
     "metadata": {},
     "output_type": "execute_result"
    }
   ],
   "source": [
    "cat_features = [elem for elem in features_order_to_drop if elem in cat_features_all]\n",
    "len(cat_features)"
   ]
  },
  {
   "cell_type": "code",
   "execution_count": 1704,
   "id": "31571b77-aa74-48f2-aae5-a79363f322da",
   "metadata": {},
   "outputs": [
    {
     "data": {
      "text/plain": [
       "{'boosting_type': 'gbdt',\n",
       " 'objective': 'binary',\n",
       " 'num_leaves': 8,\n",
       " 'learning_rate': 0.1,\n",
       " 'feature_fraction': 0.8,\n",
       " 'bagging_fraction': 0.5,\n",
       " 'bagging_freq': 1,\n",
       " 'lambda_l1': 1,\n",
       " 'lambda_l2': 1,\n",
       " 'verbose': -1,\n",
       " 'metric': 'mean_income_rate',\n",
       " 'early_stopping': 10}"
      ]
     },
     "execution_count": 1704,
     "metadata": {},
     "output_type": "execute_result"
    }
   ],
   "source": [
    "params"
   ]
  },
  {
   "cell_type": "code",
   "execution_count": null,
   "id": "abf78476-dc28-4445-853f-c66b850711ee",
   "metadata": {},
   "outputs": [],
   "source": [
    "from IPython.display import clear_output\n",
    "\n",
    "history_fe = {'features' : [],\n",
    "           'num_trees' : [],\n",
    "\n",
    "           'auc_train' : [],\n",
    "           'auc_valid' : [],\n",
    "           'auc_test' : [],\n",
    "           'auc_test2' : [],\n",
    "           \n",
    "           'mir_point@1_train' : [],\n",
    "           'mir_point@1_valid' : [],\n",
    "           'mir_point@1_test' : [],\n",
    "           'mir_point@1_test2' : [],\n",
    "              \n",
    "           'mir_day@1_train' : [],\n",
    "           'mir_day@1_valid' : [],\n",
    "           'mir_day@1_test' : [],\n",
    "           'mir_day@1_test2' : [],\n",
    "              \n",
    "           'mir_month@1_train' : [],\n",
    "           'mir_month@1_valid' : [],\n",
    "           'mir_month@1_test' : [],\n",
    "           'mir_month@1_test2' : [],\n",
    "          \n",
    "          }\n",
    "    \n",
    "for i in tqdm(range(len(features_order_to_drop))):\n",
    "    features_fe = features_order_to_drop[i:]\n",
    "    cat_features = [elem for elem in features_fe if elem in cat_features_all]\n",
    "\n",
    "    D_train = lgbm.Dataset(df.loc[mask_train, features_fe], label=df.loc[mask_train, target], feature_name=features_fe, categorical_feature=cat_features, free_raw_data=False)\n",
    "    D_valid = lgbm.Dataset(df.loc[mask_valid, features_fe], label=df.loc[mask_valid, target], feature_name=features_fe, categorical_feature=cat_features, free_raw_data=False)\n",
    "    D_test = lgbm.Dataset(df.loc[mask_test, features_fe], label=df.loc[mask_test, target], feature_name=features_fe, categorical_feature=cat_features, free_raw_data=False)\n",
    "    D_test2 = lgbm.Dataset(df.loc[mask_test2, features_fe], label=df.loc[mask_test2, target], feature_name=features_fe, categorical_feature=cat_features, free_raw_data=False)\n",
    "    \n",
    "    D_train.income_rate = df.loc[mask_train, 'income_rate'].values\n",
    "    D_valid.income_rate = df.loc[mask_valid, 'income_rate'].values\n",
    "    D_test.income_rate = df.loc[mask_test, 'income_rate'].values\n",
    "    D_test2.income_rate = df.loc[mask_test2, 'income_rate'].values\n",
    "\n",
    "    D_train.time = df.loc[mask_train, 'time'].values\n",
    "    D_valid.time = df.loc[mask_valid, 'time'].values\n",
    "    D_test.time = df.loc[mask_test, 'time'].values\n",
    "    D_test2.time = df.loc[mask_test2, 'time'].values\n",
    "\n",
    "    model = lgbm.train(params, num_boost_round=2_000, train_set=D_train, valid_sets=[D_valid])\n",
    "                    \n",
    "    y_pred_train = model.predict(D_train.data)\n",
    "    y_pred_valid = model.predict(D_valid.data)\n",
    "    y_pred_test = model.predict(D_test.data)\n",
    "    y_pred_test2 = model.predict(D_test2.data)\n",
    "    \n",
    "    #history_fe\n",
    "    history_fe['features'] += [features_fe.copy()]\n",
    "    history_fe['num_trees'] += [model.num_trees()]\n",
    "\n",
    "    history_fe['auc_train'] += [roc_auc_score(D_train.label, y_pred_train)]\n",
    "    history_fe['auc_valid'] += [roc_auc_score(D_valid.label, y_pred_valid)]\n",
    "    history_fe['auc_test'] += [roc_auc_score(D_test.label, y_pred_test)]\n",
    "    history_fe['auc_test2'] += [roc_auc_score(D_test2.label, y_pred_test2)]\n",
    "\n",
    "    threshold1 = np.quantile(y_pred_valid, q=0.95)\n",
    "      \n",
    "    history_fe['mir_point@1_train'] += [mean_income_rate_point(D_train, y_pred_train, threshold=threshold1)]\n",
    "    history_fe['mir_point@1_valid'] += [mean_income_rate_point(D_valid, y_pred_valid, threshold=threshold1)]\n",
    "    history_fe['mir_point@1_test'] += [mean_income_rate_point(D_test, y_pred_test, threshold=threshold1)]\n",
    "    history_fe['mir_point@1_test2'] += [mean_income_rate_point(D_test2, y_pred_test2, threshold=threshold1)]\n",
    "    \n",
    "    history_fe['mir_day@1_train'] += [mean_income_rate_day(D_train, y_pred_train, threshold=threshold1)]\n",
    "    history_fe['mir_day@1_valid'] += [mean_income_rate_day(D_valid, y_pred_valid, threshold=threshold1)]\n",
    "    history_fe['mir_day@1_test'] += [mean_income_rate_day(D_test, y_pred_test, threshold=threshold1)]\n",
    "    history_fe['mir_day@1_test2'] += [mean_income_rate_day(D_test2, y_pred_test2, threshold=threshold1)]\n",
    "    \n",
    "    history_fe['mir_month@1_train'] += [mean_income_rate_month(D_train, y_pred_train, threshold=threshold1)]\n",
    "    history_fe['mir_month@1_valid'] += [mean_income_rate_month(D_valid, y_pred_valid, threshold=threshold1)]\n",
    "    history_fe['mir_month@1_test'] += [mean_income_rate_month(D_test, y_pred_test, threshold=threshold1)]\n",
    "    history_fe['mir_month@1_test2'] += [mean_income_rate_month(D_test2, y_pred_test2, threshold=threshold1)]\n",
    "                   \n",
    "\n",
    "\n",
    "\n",
    "    #clear_output()\n"
   ]
  },
  {
   "cell_type": "code",
   "execution_count": null,
   "id": "cd3b8dbd-d505-4fb9-b1f7-bc54cd06d51b",
   "metadata": {},
   "outputs": [],
   "source": []
  },
  {
   "cell_type": "code",
   "execution_count": 5570,
   "id": "83d4a5d8-8b66-4a9c-acaa-da696cdf5f9e",
   "metadata": {},
   "outputs": [
    {
     "data": {
      "text/html": [
       "<div>\n",
       "<style scoped>\n",
       "    .dataframe tbody tr th:only-of-type {\n",
       "        vertical-align: middle;\n",
       "    }\n",
       "\n",
       "    .dataframe tbody tr th {\n",
       "        vertical-align: top;\n",
       "    }\n",
       "\n",
       "    .dataframe thead th {\n",
       "        text-align: right;\n",
       "    }\n",
       "</style>\n",
       "<table border=\"1\" class=\"dataframe\">\n",
       "  <thead>\n",
       "    <tr style=\"text-align: right;\">\n",
       "      <th></th>\n",
       "      <th>features</th>\n",
       "      <th>num_trees</th>\n",
       "      <th>auc_train</th>\n",
       "      <th>auc_valid</th>\n",
       "      <th>auc_test</th>\n",
       "      <th>auc_test2</th>\n",
       "      <th>mir_point@1_train</th>\n",
       "      <th>mir_point@1_valid</th>\n",
       "      <th>mir_point@1_test</th>\n",
       "      <th>mir_point@1_test2</th>\n",
       "      <th>mir_day@1_train</th>\n",
       "      <th>mir_day@1_valid</th>\n",
       "      <th>mir_day@1_test</th>\n",
       "      <th>mir_day@1_test2</th>\n",
       "      <th>mir_month@1_train</th>\n",
       "      <th>mir_month@1_valid</th>\n",
       "      <th>mir_month@1_test</th>\n",
       "      <th>mir_month@1_test2</th>\n",
       "    </tr>\n",
       "  </thead>\n",
       "  <tbody>\n",
       "    <tr>\n",
       "      <th>0</th>\n",
       "      <td>[sin_time_hour, volume_w5_min/volume, volume_w...</td>\n",
       "      <td>198</td>\n",
       "      <td>0.733658</td>\n",
       "      <td>0.605363</td>\n",
       "      <td>0.588251</td>\n",
       "      <td>0.566186</td>\n",
       "      <td>0.005320</td>\n",
       "      <td>0.002203</td>\n",
       "      <td>0.003810</td>\n",
       "      <td>0.003521</td>\n",
       "      <td>0.004375</td>\n",
       "      <td>0.003251</td>\n",
       "      <td>0.004013</td>\n",
       "      <td>0.003654</td>\n",
       "      <td>0.071424</td>\n",
       "      <td>0.058214</td>\n",
       "      <td>0.069799</td>\n",
       "      <td>0.065403</td>\n",
       "    </tr>\n",
       "    <tr>\n",
       "      <th>1</th>\n",
       "      <td>[volume_w5_min/volume, volume_w5_min/volume_w5...</td>\n",
       "      <td>8</td>\n",
       "      <td>0.626349</td>\n",
       "      <td>0.592369</td>\n",
       "      <td>0.567153</td>\n",
       "      <td>0.544459</td>\n",
       "      <td>0.002744</td>\n",
       "      <td>0.002199</td>\n",
       "      <td>0.002413</td>\n",
       "      <td>0.002320</td>\n",
       "      <td>0.002435</td>\n",
       "      <td>0.002864</td>\n",
       "      <td>0.002869</td>\n",
       "      <td>0.003028</td>\n",
       "      <td>0.053090</td>\n",
       "      <td>0.063001</td>\n",
       "      <td>0.063114</td>\n",
       "      <td>0.066627</td>\n",
       "    </tr>\n",
       "    <tr>\n",
       "      <th>2</th>\n",
       "      <td>[volume_w5_min/volume_w5_max, close_1day_w3_ro...</td>\n",
       "      <td>5</td>\n",
       "      <td>0.617089</td>\n",
       "      <td>0.597449</td>\n",
       "      <td>0.563820</td>\n",
       "      <td>0.540159</td>\n",
       "      <td>0.002400</td>\n",
       "      <td>0.002699</td>\n",
       "      <td>0.002609</td>\n",
       "      <td>0.002344</td>\n",
       "      <td>0.002444</td>\n",
       "      <td>0.003178</td>\n",
       "      <td>0.003085</td>\n",
       "      <td>0.003197</td>\n",
       "      <td>0.053271</td>\n",
       "      <td>0.069918</td>\n",
       "      <td>0.067865</td>\n",
       "      <td>0.070329</td>\n",
       "    </tr>\n",
       "    <tr>\n",
       "      <th>3</th>\n",
       "      <td>[close_1day_w3_roc/close_1day_w20_roc, tmos_cl...</td>\n",
       "      <td>4</td>\n",
       "      <td>0.612161</td>\n",
       "      <td>0.581042</td>\n",
       "      <td>0.571640</td>\n",
       "      <td>0.539485</td>\n",
       "      <td>0.002089</td>\n",
       "      <td>0.002281</td>\n",
       "      <td>0.002165</td>\n",
       "      <td>0.001655</td>\n",
       "      <td>0.002047</td>\n",
       "      <td>0.002570</td>\n",
       "      <td>0.002515</td>\n",
       "      <td>0.002428</td>\n",
       "      <td>0.044729</td>\n",
       "      <td>0.056542</td>\n",
       "      <td>0.055324</td>\n",
       "      <td>0.053420</td>\n",
       "    </tr>\n",
       "    <tr>\n",
       "      <th>4</th>\n",
       "      <td>[tmos_close_w1_roc, tmos_close_w70_lvl_1.005-1...</td>\n",
       "      <td>19</td>\n",
       "      <td>0.643543</td>\n",
       "      <td>0.584569</td>\n",
       "      <td>0.576878</td>\n",
       "      <td>0.551086</td>\n",
       "      <td>0.003359</td>\n",
       "      <td>0.003056</td>\n",
       "      <td>0.003245</td>\n",
       "      <td>0.002576</td>\n",
       "      <td>0.002848</td>\n",
       "      <td>0.003406</td>\n",
       "      <td>0.003572</td>\n",
       "      <td>0.003038</td>\n",
       "      <td>0.061091</td>\n",
       "      <td>0.074934</td>\n",
       "      <td>0.078575</td>\n",
       "      <td>0.064562</td>\n",
       "    </tr>\n",
       "    <tr>\n",
       "      <th>5</th>\n",
       "      <td>[tmos_close_w70_lvl_1.005-1.01, volume_w5_std/...</td>\n",
       "      <td>155</td>\n",
       "      <td>0.725221</td>\n",
       "      <td>0.581633</td>\n",
       "      <td>0.578709</td>\n",
       "      <td>0.551594</td>\n",
       "      <td>0.004945</td>\n",
       "      <td>0.001972</td>\n",
       "      <td>0.003755</td>\n",
       "      <td>0.003535</td>\n",
       "      <td>0.003968</td>\n",
       "      <td>0.003743</td>\n",
       "      <td>0.003683</td>\n",
       "      <td>0.003398</td>\n",
       "      <td>0.067759</td>\n",
       "      <td>0.070853</td>\n",
       "      <td>0.067836</td>\n",
       "      <td>0.067163</td>\n",
       "    </tr>\n",
       "    <tr>\n",
       "      <th>6</th>\n",
       "      <td>[volume_w5_std/volume_w14_std, volume_w5_norm_...</td>\n",
       "      <td>27</td>\n",
       "      <td>0.655332</td>\n",
       "      <td>0.591613</td>\n",
       "      <td>0.587970</td>\n",
       "      <td>0.541675</td>\n",
       "      <td>0.003341</td>\n",
       "      <td>0.002632</td>\n",
       "      <td>0.002640</td>\n",
       "      <td>0.002069</td>\n",
       "      <td>0.002874</td>\n",
       "      <td>0.003287</td>\n",
       "      <td>0.003355</td>\n",
       "      <td>0.003183</td>\n",
       "      <td>0.061353</td>\n",
       "      <td>0.072307</td>\n",
       "      <td>0.073818</td>\n",
       "      <td>0.070019</td>\n",
       "    </tr>\n",
       "    <tr>\n",
       "      <th>7</th>\n",
       "      <td>[volume_w5_norm_std, tmos_close_w14_roc, tmos_...</td>\n",
       "      <td>14</td>\n",
       "      <td>0.635161</td>\n",
       "      <td>0.584168</td>\n",
       "      <td>0.562551</td>\n",
       "      <td>0.540024</td>\n",
       "      <td>0.002796</td>\n",
       "      <td>0.001442</td>\n",
       "      <td>0.002697</td>\n",
       "      <td>0.001501</td>\n",
       "      <td>0.002647</td>\n",
       "      <td>0.003120</td>\n",
       "      <td>0.003235</td>\n",
       "      <td>0.003293</td>\n",
       "      <td>0.057429</td>\n",
       "      <td>0.068640</td>\n",
       "      <td>0.071168</td>\n",
       "      <td>0.072437</td>\n",
       "    </tr>\n",
       "    <tr>\n",
       "      <th>8</th>\n",
       "      <td>[tmos_close_w14_roc, tmos_close_w14_rsi, tmos_...</td>\n",
       "      <td>18</td>\n",
       "      <td>0.645007</td>\n",
       "      <td>0.593090</td>\n",
       "      <td>0.577566</td>\n",
       "      <td>0.549284</td>\n",
       "      <td>0.002760</td>\n",
       "      <td>0.002264</td>\n",
       "      <td>0.002785</td>\n",
       "      <td>0.002028</td>\n",
       "      <td>0.002737</td>\n",
       "      <td>0.003247</td>\n",
       "      <td>0.003388</td>\n",
       "      <td>0.003200</td>\n",
       "      <td>0.059535</td>\n",
       "      <td>0.071441</td>\n",
       "      <td>0.074547</td>\n",
       "      <td>0.070403</td>\n",
       "    </tr>\n",
       "    <tr>\n",
       "      <th>9</th>\n",
       "      <td>[tmos_close_w14_rsi, tmos_close_w70_lvl_1.01-1...</td>\n",
       "      <td>171</td>\n",
       "      <td>0.727386</td>\n",
       "      <td>0.603621</td>\n",
       "      <td>0.576106</td>\n",
       "      <td>0.561384</td>\n",
       "      <td>0.005111</td>\n",
       "      <td>0.002727</td>\n",
       "      <td>0.003434</td>\n",
       "      <td>0.004079</td>\n",
       "      <td>0.003959</td>\n",
       "      <td>0.003684</td>\n",
       "      <td>0.005079</td>\n",
       "      <td>0.003918</td>\n",
       "      <td>0.058854</td>\n",
       "      <td>0.067851</td>\n",
       "      <td>0.080552</td>\n",
       "      <td>0.067209</td>\n",
       "    </tr>\n",
       "    <tr>\n",
       "      <th>10</th>\n",
       "      <td>[tmos_close_w70_lvl_1.01-1.015, tmos_close_w70...</td>\n",
       "      <td>4</td>\n",
       "      <td>0.610072</td>\n",
       "      <td>0.587565</td>\n",
       "      <td>0.568763</td>\n",
       "      <td>0.535223</td>\n",
       "      <td>0.001725</td>\n",
       "      <td>0.001660</td>\n",
       "      <td>0.001907</td>\n",
       "      <td>0.001775</td>\n",
       "      <td>0.001914</td>\n",
       "      <td>0.002491</td>\n",
       "      <td>0.002559</td>\n",
       "      <td>0.002664</td>\n",
       "      <td>0.042098</td>\n",
       "      <td>0.054813</td>\n",
       "      <td>0.056293</td>\n",
       "      <td>0.058601</td>\n",
       "    </tr>\n",
       "    <tr>\n",
       "      <th>11</th>\n",
       "      <td>[tmos_close_w70_lvl_-0.985-0.99, tmos_close_1d...</td>\n",
       "      <td>2</td>\n",
       "      <td>0.598932</td>\n",
       "      <td>0.576465</td>\n",
       "      <td>0.558644</td>\n",
       "      <td>0.539835</td>\n",
       "      <td>0.001851</td>\n",
       "      <td>0.001592</td>\n",
       "      <td>0.001977</td>\n",
       "      <td>0.001627</td>\n",
       "      <td>0.001342</td>\n",
       "      <td>0.001862</td>\n",
       "      <td>0.001758</td>\n",
       "      <td>0.001642</td>\n",
       "      <td>0.021375</td>\n",
       "      <td>0.037146</td>\n",
       "      <td>0.038670</td>\n",
       "      <td>0.035514</td>\n",
       "    </tr>\n",
       "    <tr>\n",
       "      <th>12</th>\n",
       "      <td>[tmos_close_1day_w20_lvl_1.005-1.01, tmos_clos...</td>\n",
       "      <td>16</td>\n",
       "      <td>0.638584</td>\n",
       "      <td>0.584375</td>\n",
       "      <td>0.579817</td>\n",
       "      <td>0.547017</td>\n",
       "      <td>0.003074</td>\n",
       "      <td>0.002370</td>\n",
       "      <td>0.002606</td>\n",
       "      <td>0.002299</td>\n",
       "      <td>0.002624</td>\n",
       "      <td>0.003271</td>\n",
       "      <td>0.003273</td>\n",
       "      <td>0.003333</td>\n",
       "      <td>0.057079</td>\n",
       "      <td>0.071959</td>\n",
       "      <td>0.071996</td>\n",
       "      <td>0.073315</td>\n",
       "    </tr>\n",
       "    <tr>\n",
       "      <th>13</th>\n",
       "      <td>[tmos_close_1day_w100_lvl_1.04-1.05, tmos_clos...</td>\n",
       "      <td>11</td>\n",
       "      <td>0.630843</td>\n",
       "      <td>0.595853</td>\n",
       "      <td>0.574546</td>\n",
       "      <td>0.559451</td>\n",
       "      <td>0.002674</td>\n",
       "      <td>0.002554</td>\n",
       "      <td>0.002701</td>\n",
       "      <td>0.002582</td>\n",
       "      <td>0.002544</td>\n",
       "      <td>0.003087</td>\n",
       "      <td>0.003214</td>\n",
       "      <td>0.003446</td>\n",
       "      <td>0.055448</td>\n",
       "      <td>0.067923</td>\n",
       "      <td>0.070719</td>\n",
       "      <td>0.075814</td>\n",
       "    </tr>\n",
       "    <tr>\n",
       "      <th>14</th>\n",
       "      <td>[tmos_close_w70_rsi, tmos_close_w70_roc, close...</td>\n",
       "      <td>62</td>\n",
       "      <td>0.679490</td>\n",
       "      <td>0.593048</td>\n",
       "      <td>0.578862</td>\n",
       "      <td>0.553060</td>\n",
       "      <td>0.004394</td>\n",
       "      <td>0.002576</td>\n",
       "      <td>0.003232</td>\n",
       "      <td>0.002651</td>\n",
       "      <td>0.003071</td>\n",
       "      <td>0.003256</td>\n",
       "      <td>0.003148</td>\n",
       "      <td>0.003141</td>\n",
       "      <td>0.059997</td>\n",
       "      <td>0.071641</td>\n",
       "      <td>0.064423</td>\n",
       "      <td>0.067928</td>\n",
       "    </tr>\n",
       "    <tr>\n",
       "      <th>15</th>\n",
       "      <td>[tmos_close_w70_roc, close_w70_rsi, hour, tmos...</td>\n",
       "      <td>15</td>\n",
       "      <td>0.640389</td>\n",
       "      <td>0.598035</td>\n",
       "      <td>0.574202</td>\n",
       "      <td>0.546889</td>\n",
       "      <td>0.003221</td>\n",
       "      <td>0.002758</td>\n",
       "      <td>0.002576</td>\n",
       "      <td>0.001596</td>\n",
       "      <td>0.002898</td>\n",
       "      <td>0.003264</td>\n",
       "      <td>0.003335</td>\n",
       "      <td>0.002862</td>\n",
       "      <td>0.056477</td>\n",
       "      <td>0.070132</td>\n",
       "      <td>0.069964</td>\n",
       "      <td>0.059765</td>\n",
       "    </tr>\n",
       "    <tr>\n",
       "      <th>16</th>\n",
       "      <td>[close_w70_rsi, hour, tmos_close_w70_ma_up_2st...</td>\n",
       "      <td>16</td>\n",
       "      <td>0.638406</td>\n",
       "      <td>0.580452</td>\n",
       "      <td>0.580025</td>\n",
       "      <td>0.555406</td>\n",
       "      <td>0.003105</td>\n",
       "      <td>0.001885</td>\n",
       "      <td>0.002947</td>\n",
       "      <td>0.002214</td>\n",
       "      <td>0.002683</td>\n",
       "      <td>0.002889</td>\n",
       "      <td>0.003227</td>\n",
       "      <td>0.003072</td>\n",
       "      <td>0.058228</td>\n",
       "      <td>0.063561</td>\n",
       "      <td>0.070997</td>\n",
       "      <td>0.067581</td>\n",
       "    </tr>\n",
       "    <tr>\n",
       "      <th>17</th>\n",
       "      <td>[hour, tmos_close_w70_ma_up_2std/tmos_close, t...</td>\n",
       "      <td>45</td>\n",
       "      <td>0.663421</td>\n",
       "      <td>0.581921</td>\n",
       "      <td>0.584261</td>\n",
       "      <td>0.546988</td>\n",
       "      <td>0.004559</td>\n",
       "      <td>0.002132</td>\n",
       "      <td>0.003274</td>\n",
       "      <td>0.002969</td>\n",
       "      <td>0.003493</td>\n",
       "      <td>0.003719</td>\n",
       "      <td>0.003844</td>\n",
       "      <td>0.003183</td>\n",
       "      <td>0.061412</td>\n",
       "      <td>0.081808</td>\n",
       "      <td>0.066876</td>\n",
       "      <td>0.066457</td>\n",
       "    </tr>\n",
       "    <tr>\n",
       "      <th>18</th>\n",
       "      <td>[tmos_close_w70_ma_up_2std/tmos_close, tmos_cl...</td>\n",
       "      <td>5</td>\n",
       "      <td>0.611144</td>\n",
       "      <td>0.587364</td>\n",
       "      <td>0.565582</td>\n",
       "      <td>0.552388</td>\n",
       "      <td>0.001639</td>\n",
       "      <td>0.001775</td>\n",
       "      <td>0.001918</td>\n",
       "      <td>0.001858</td>\n",
       "      <td>0.001897</td>\n",
       "      <td>0.002516</td>\n",
       "      <td>0.002492</td>\n",
       "      <td>0.002671</td>\n",
       "      <td>0.041742</td>\n",
       "      <td>0.055347</td>\n",
       "      <td>0.054824</td>\n",
       "      <td>0.058754</td>\n",
       "    </tr>\n",
       "    <tr>\n",
       "      <th>19</th>\n",
       "      <td>[tmos_close_w14_ma/tmos_close_w70_ma, close_w7...</td>\n",
       "      <td>5</td>\n",
       "      <td>0.613305</td>\n",
       "      <td>0.590429</td>\n",
       "      <td>0.564605</td>\n",
       "      <td>0.547468</td>\n",
       "      <td>0.002289</td>\n",
       "      <td>0.002475</td>\n",
       "      <td>0.002993</td>\n",
       "      <td>0.001611</td>\n",
       "      <td>0.002578</td>\n",
       "      <td>0.003328</td>\n",
       "      <td>0.003192</td>\n",
       "      <td>0.003377</td>\n",
       "      <td>0.056079</td>\n",
       "      <td>0.073223</td>\n",
       "      <td>0.070221</td>\n",
       "      <td>0.074289</td>\n",
       "    </tr>\n",
       "    <tr>\n",
       "      <th>20</th>\n",
       "      <td>[close_w70_lvl_-0.98-0.99, tmos_close_w5_ma/tm...</td>\n",
       "      <td>92</td>\n",
       "      <td>0.687420</td>\n",
       "      <td>0.590689</td>\n",
       "      <td>0.572401</td>\n",
       "      <td>0.543948</td>\n",
       "      <td>0.004636</td>\n",
       "      <td>0.002094</td>\n",
       "      <td>0.003755</td>\n",
       "      <td>0.003596</td>\n",
       "      <td>0.003752</td>\n",
       "      <td>0.004036</td>\n",
       "      <td>0.003248</td>\n",
       "      <td>0.004099</td>\n",
       "      <td>0.062191</td>\n",
       "      <td>0.076407</td>\n",
       "      <td>0.061478</td>\n",
       "      <td>0.079486</td>\n",
       "    </tr>\n",
       "    <tr>\n",
       "      <th>21</th>\n",
       "      <td>[tmos_close_w5_ma/tmos_close_w70_ma, tmos_clos...</td>\n",
       "      <td>15</td>\n",
       "      <td>0.630530</td>\n",
       "      <td>0.584839</td>\n",
       "      <td>0.575258</td>\n",
       "      <td>0.551246</td>\n",
       "      <td>0.002616</td>\n",
       "      <td>0.003143</td>\n",
       "      <td>0.002759</td>\n",
       "      <td>0.002008</td>\n",
       "      <td>0.002581</td>\n",
       "      <td>0.003412</td>\n",
       "      <td>0.003260</td>\n",
       "      <td>0.003419</td>\n",
       "      <td>0.056266</td>\n",
       "      <td>0.075069</td>\n",
       "      <td>0.071711</td>\n",
       "      <td>0.075209</td>\n",
       "    </tr>\n",
       "    <tr>\n",
       "      <th>22</th>\n",
       "      <td>[tmos_close_w14_max/tmos_close, tmos_close_1da...</td>\n",
       "      <td>2</td>\n",
       "      <td>0.598729</td>\n",
       "      <td>0.582269</td>\n",
       "      <td>0.568956</td>\n",
       "      <td>0.535589</td>\n",
       "      <td>0.002431</td>\n",
       "      <td>0.002140</td>\n",
       "      <td>0.002666</td>\n",
       "      <td>0.001889</td>\n",
       "      <td>0.002503</td>\n",
       "      <td>0.002869</td>\n",
       "      <td>0.003014</td>\n",
       "      <td>0.002812</td>\n",
       "      <td>0.054566</td>\n",
       "      <td>0.063118</td>\n",
       "      <td>0.066310</td>\n",
       "      <td>0.061870</td>\n",
       "    </tr>\n",
       "    <tr>\n",
       "      <th>23</th>\n",
       "      <td>[tmos_close_1day_w100_lvl_1.015-1.02, tmos_clo...</td>\n",
       "      <td>57</td>\n",
       "      <td>0.669771</td>\n",
       "      <td>0.580974</td>\n",
       "      <td>0.602528</td>\n",
       "      <td>0.537651</td>\n",
       "      <td>0.004408</td>\n",
       "      <td>0.001834</td>\n",
       "      <td>0.004077</td>\n",
       "      <td>0.004148</td>\n",
       "      <td>0.003644</td>\n",
       "      <td>0.003281</td>\n",
       "      <td>0.003698</td>\n",
       "      <td>0.003882</td>\n",
       "      <td>0.058395</td>\n",
       "      <td>0.062112</td>\n",
       "      <td>0.071892</td>\n",
       "      <td>0.079612</td>\n",
       "    </tr>\n",
       "    <tr>\n",
       "      <th>24</th>\n",
       "      <td>[tmos_close_1day_w20_lvl_1.015-1.02, tmos_clos...</td>\n",
       "      <td>91</td>\n",
       "      <td>0.687240</td>\n",
       "      <td>0.590844</td>\n",
       "      <td>0.595105</td>\n",
       "      <td>0.537035</td>\n",
       "      <td>0.004595</td>\n",
       "      <td>0.002099</td>\n",
       "      <td>0.003005</td>\n",
       "      <td>0.002345</td>\n",
       "      <td>0.003354</td>\n",
       "      <td>0.003980</td>\n",
       "      <td>0.003049</td>\n",
       "      <td>0.003990</td>\n",
       "      <td>0.063676</td>\n",
       "      <td>0.075339</td>\n",
       "      <td>0.062404</td>\n",
       "      <td>0.080350</td>\n",
       "    </tr>\n",
       "    <tr>\n",
       "      <th>25</th>\n",
       "      <td>[tmos_close_w5_max/tmos_close, close_w1_roc, t...</td>\n",
       "      <td>10</td>\n",
       "      <td>0.613478</td>\n",
       "      <td>0.582474</td>\n",
       "      <td>0.573837</td>\n",
       "      <td>0.551870</td>\n",
       "      <td>0.002075</td>\n",
       "      <td>0.001890</td>\n",
       "      <td>0.002089</td>\n",
       "      <td>0.001886</td>\n",
       "      <td>0.002068</td>\n",
       "      <td>0.002940</td>\n",
       "      <td>0.002740</td>\n",
       "      <td>0.003000</td>\n",
       "      <td>0.045503</td>\n",
       "      <td>0.064674</td>\n",
       "      <td>0.060282</td>\n",
       "      <td>0.066003</td>\n",
       "    </tr>\n",
       "    <tr>\n",
       "      <th>26</th>\n",
       "      <td>[close_w1_roc, tmos_close_1day_w3_mean_abs_pct...</td>\n",
       "      <td>2</td>\n",
       "      <td>0.583995</td>\n",
       "      <td>0.556212</td>\n",
       "      <td>0.529639</td>\n",
       "      <td>0.545565</td>\n",
       "      <td>0.002608</td>\n",
       "      <td>0.003344</td>\n",
       "      <td>0.002690</td>\n",
       "      <td>0.002212</td>\n",
       "      <td>0.002562</td>\n",
       "      <td>0.003552</td>\n",
       "      <td>0.003268</td>\n",
       "      <td>0.003478</td>\n",
       "      <td>0.055711</td>\n",
       "      <td>0.078138</td>\n",
       "      <td>0.071890</td>\n",
       "      <td>0.076515</td>\n",
       "    </tr>\n",
       "    <tr>\n",
       "      <th>27</th>\n",
       "      <td>[tmos_close_1day_w3_mean_abs_pct/tmos_close_1d...</td>\n",
       "      <td>53</td>\n",
       "      <td>0.656068</td>\n",
       "      <td>0.535823</td>\n",
       "      <td>0.514837</td>\n",
       "      <td>0.550336</td>\n",
       "      <td>0.004090</td>\n",
       "      <td>0.001200</td>\n",
       "      <td>-0.003321</td>\n",
       "      <td>NaN</td>\n",
       "      <td>0.003708</td>\n",
       "      <td>0.001184</td>\n",
       "      <td>-0.003321</td>\n",
       "      <td>NaN</td>\n",
       "      <td>0.005774</td>\n",
       "      <td>0.001817</td>\n",
       "      <td>-0.001699</td>\n",
       "      <td>NaN</td>\n",
       "    </tr>\n",
       "    <tr>\n",
       "      <th>28</th>\n",
       "      <td>[tmos_close_1day_w5_ma_low_2std/tmos_close_1day]</td>\n",
       "      <td>79</td>\n",
       "      <td>0.635685</td>\n",
       "      <td>0.555491</td>\n",
       "      <td>0.505207</td>\n",
       "      <td>0.514943</td>\n",
       "      <td>0.002850</td>\n",
       "      <td>0.001606</td>\n",
       "      <td>-0.000479</td>\n",
       "      <td>-0.000816</td>\n",
       "      <td>0.002648</td>\n",
       "      <td>-0.000126</td>\n",
       "      <td>-0.000368</td>\n",
       "      <td>-0.000807</td>\n",
       "      <td>0.007848</td>\n",
       "      <td>-0.000322</td>\n",
       "      <td>-0.001319</td>\n",
       "      <td>-0.001505</td>\n",
       "    </tr>\n",
       "  </tbody>\n",
       "</table>\n",
       "</div>"
      ],
      "text/plain": [
       "                                             features  num_trees  auc_train  \\\n",
       "0   [sin_time_hour, volume_w5_min/volume, volume_w...        198   0.733658   \n",
       "1   [volume_w5_min/volume, volume_w5_min/volume_w5...          8   0.626349   \n",
       "2   [volume_w5_min/volume_w5_max, close_1day_w3_ro...          5   0.617089   \n",
       "3   [close_1day_w3_roc/close_1day_w20_roc, tmos_cl...          4   0.612161   \n",
       "4   [tmos_close_w1_roc, tmos_close_w70_lvl_1.005-1...         19   0.643543   \n",
       "5   [tmos_close_w70_lvl_1.005-1.01, volume_w5_std/...        155   0.725221   \n",
       "6   [volume_w5_std/volume_w14_std, volume_w5_norm_...         27   0.655332   \n",
       "7   [volume_w5_norm_std, tmos_close_w14_roc, tmos_...         14   0.635161   \n",
       "8   [tmos_close_w14_roc, tmos_close_w14_rsi, tmos_...         18   0.645007   \n",
       "9   [tmos_close_w14_rsi, tmos_close_w70_lvl_1.01-1...        171   0.727386   \n",
       "10  [tmos_close_w70_lvl_1.01-1.015, tmos_close_w70...          4   0.610072   \n",
       "11  [tmos_close_w70_lvl_-0.985-0.99, tmos_close_1d...          2   0.598932   \n",
       "12  [tmos_close_1day_w20_lvl_1.005-1.01, tmos_clos...         16   0.638584   \n",
       "13  [tmos_close_1day_w100_lvl_1.04-1.05, tmos_clos...         11   0.630843   \n",
       "14  [tmos_close_w70_rsi, tmos_close_w70_roc, close...         62   0.679490   \n",
       "15  [tmos_close_w70_roc, close_w70_rsi, hour, tmos...         15   0.640389   \n",
       "16  [close_w70_rsi, hour, tmos_close_w70_ma_up_2st...         16   0.638406   \n",
       "17  [hour, tmos_close_w70_ma_up_2std/tmos_close, t...         45   0.663421   \n",
       "18  [tmos_close_w70_ma_up_2std/tmos_close, tmos_cl...          5   0.611144   \n",
       "19  [tmos_close_w14_ma/tmos_close_w70_ma, close_w7...          5   0.613305   \n",
       "20  [close_w70_lvl_-0.98-0.99, tmos_close_w5_ma/tm...         92   0.687420   \n",
       "21  [tmos_close_w5_ma/tmos_close_w70_ma, tmos_clos...         15   0.630530   \n",
       "22  [tmos_close_w14_max/tmos_close, tmos_close_1da...          2   0.598729   \n",
       "23  [tmos_close_1day_w100_lvl_1.015-1.02, tmos_clo...         57   0.669771   \n",
       "24  [tmos_close_1day_w20_lvl_1.015-1.02, tmos_clos...         91   0.687240   \n",
       "25  [tmos_close_w5_max/tmos_close, close_w1_roc, t...         10   0.613478   \n",
       "26  [close_w1_roc, tmos_close_1day_w3_mean_abs_pct...          2   0.583995   \n",
       "27  [tmos_close_1day_w3_mean_abs_pct/tmos_close_1d...         53   0.656068   \n",
       "28   [tmos_close_1day_w5_ma_low_2std/tmos_close_1day]         79   0.635685   \n",
       "\n",
       "    auc_valid  auc_test  auc_test2  mir_point@1_train  mir_point@1_valid  \\\n",
       "0    0.605363  0.588251   0.566186           0.005320           0.002203   \n",
       "1    0.592369  0.567153   0.544459           0.002744           0.002199   \n",
       "2    0.597449  0.563820   0.540159           0.002400           0.002699   \n",
       "3    0.581042  0.571640   0.539485           0.002089           0.002281   \n",
       "4    0.584569  0.576878   0.551086           0.003359           0.003056   \n",
       "5    0.581633  0.578709   0.551594           0.004945           0.001972   \n",
       "6    0.591613  0.587970   0.541675           0.003341           0.002632   \n",
       "7    0.584168  0.562551   0.540024           0.002796           0.001442   \n",
       "8    0.593090  0.577566   0.549284           0.002760           0.002264   \n",
       "9    0.603621  0.576106   0.561384           0.005111           0.002727   \n",
       "10   0.587565  0.568763   0.535223           0.001725           0.001660   \n",
       "11   0.576465  0.558644   0.539835           0.001851           0.001592   \n",
       "12   0.584375  0.579817   0.547017           0.003074           0.002370   \n",
       "13   0.595853  0.574546   0.559451           0.002674           0.002554   \n",
       "14   0.593048  0.578862   0.553060           0.004394           0.002576   \n",
       "15   0.598035  0.574202   0.546889           0.003221           0.002758   \n",
       "16   0.580452  0.580025   0.555406           0.003105           0.001885   \n",
       "17   0.581921  0.584261   0.546988           0.004559           0.002132   \n",
       "18   0.587364  0.565582   0.552388           0.001639           0.001775   \n",
       "19   0.590429  0.564605   0.547468           0.002289           0.002475   \n",
       "20   0.590689  0.572401   0.543948           0.004636           0.002094   \n",
       "21   0.584839  0.575258   0.551246           0.002616           0.003143   \n",
       "22   0.582269  0.568956   0.535589           0.002431           0.002140   \n",
       "23   0.580974  0.602528   0.537651           0.004408           0.001834   \n",
       "24   0.590844  0.595105   0.537035           0.004595           0.002099   \n",
       "25   0.582474  0.573837   0.551870           0.002075           0.001890   \n",
       "26   0.556212  0.529639   0.545565           0.002608           0.003344   \n",
       "27   0.535823  0.514837   0.550336           0.004090           0.001200   \n",
       "28   0.555491  0.505207   0.514943           0.002850           0.001606   \n",
       "\n",
       "    mir_point@1_test  mir_point@1_test2  mir_day@1_train  mir_day@1_valid  \\\n",
       "0           0.003810           0.003521         0.004375         0.003251   \n",
       "1           0.002413           0.002320         0.002435         0.002864   \n",
       "2           0.002609           0.002344         0.002444         0.003178   \n",
       "3           0.002165           0.001655         0.002047         0.002570   \n",
       "4           0.003245           0.002576         0.002848         0.003406   \n",
       "5           0.003755           0.003535         0.003968         0.003743   \n",
       "6           0.002640           0.002069         0.002874         0.003287   \n",
       "7           0.002697           0.001501         0.002647         0.003120   \n",
       "8           0.002785           0.002028         0.002737         0.003247   \n",
       "9           0.003434           0.004079         0.003959         0.003684   \n",
       "10          0.001907           0.001775         0.001914         0.002491   \n",
       "11          0.001977           0.001627         0.001342         0.001862   \n",
       "12          0.002606           0.002299         0.002624         0.003271   \n",
       "13          0.002701           0.002582         0.002544         0.003087   \n",
       "14          0.003232           0.002651         0.003071         0.003256   \n",
       "15          0.002576           0.001596         0.002898         0.003264   \n",
       "16          0.002947           0.002214         0.002683         0.002889   \n",
       "17          0.003274           0.002969         0.003493         0.003719   \n",
       "18          0.001918           0.001858         0.001897         0.002516   \n",
       "19          0.002993           0.001611         0.002578         0.003328   \n",
       "20          0.003755           0.003596         0.003752         0.004036   \n",
       "21          0.002759           0.002008         0.002581         0.003412   \n",
       "22          0.002666           0.001889         0.002503         0.002869   \n",
       "23          0.004077           0.004148         0.003644         0.003281   \n",
       "24          0.003005           0.002345         0.003354         0.003980   \n",
       "25          0.002089           0.001886         0.002068         0.002940   \n",
       "26          0.002690           0.002212         0.002562         0.003552   \n",
       "27         -0.003321                NaN         0.003708         0.001184   \n",
       "28         -0.000479          -0.000816         0.002648        -0.000126   \n",
       "\n",
       "    mir_day@1_test  mir_day@1_test2  mir_month@1_train  mir_month@1_valid  \\\n",
       "0         0.004013         0.003654           0.071424           0.058214   \n",
       "1         0.002869         0.003028           0.053090           0.063001   \n",
       "2         0.003085         0.003197           0.053271           0.069918   \n",
       "3         0.002515         0.002428           0.044729           0.056542   \n",
       "4         0.003572         0.003038           0.061091           0.074934   \n",
       "5         0.003683         0.003398           0.067759           0.070853   \n",
       "6         0.003355         0.003183           0.061353           0.072307   \n",
       "7         0.003235         0.003293           0.057429           0.068640   \n",
       "8         0.003388         0.003200           0.059535           0.071441   \n",
       "9         0.005079         0.003918           0.058854           0.067851   \n",
       "10        0.002559         0.002664           0.042098           0.054813   \n",
       "11        0.001758         0.001642           0.021375           0.037146   \n",
       "12        0.003273         0.003333           0.057079           0.071959   \n",
       "13        0.003214         0.003446           0.055448           0.067923   \n",
       "14        0.003148         0.003141           0.059997           0.071641   \n",
       "15        0.003335         0.002862           0.056477           0.070132   \n",
       "16        0.003227         0.003072           0.058228           0.063561   \n",
       "17        0.003844         0.003183           0.061412           0.081808   \n",
       "18        0.002492         0.002671           0.041742           0.055347   \n",
       "19        0.003192         0.003377           0.056079           0.073223   \n",
       "20        0.003248         0.004099           0.062191           0.076407   \n",
       "21        0.003260         0.003419           0.056266           0.075069   \n",
       "22        0.003014         0.002812           0.054566           0.063118   \n",
       "23        0.003698         0.003882           0.058395           0.062112   \n",
       "24        0.003049         0.003990           0.063676           0.075339   \n",
       "25        0.002740         0.003000           0.045503           0.064674   \n",
       "26        0.003268         0.003478           0.055711           0.078138   \n",
       "27       -0.003321              NaN           0.005774           0.001817   \n",
       "28       -0.000368        -0.000807           0.007848          -0.000322   \n",
       "\n",
       "    mir_month@1_test  mir_month@1_test2  \n",
       "0           0.069799           0.065403  \n",
       "1           0.063114           0.066627  \n",
       "2           0.067865           0.070329  \n",
       "3           0.055324           0.053420  \n",
       "4           0.078575           0.064562  \n",
       "5           0.067836           0.067163  \n",
       "6           0.073818           0.070019  \n",
       "7           0.071168           0.072437  \n",
       "8           0.074547           0.070403  \n",
       "9           0.080552           0.067209  \n",
       "10          0.056293           0.058601  \n",
       "11          0.038670           0.035514  \n",
       "12          0.071996           0.073315  \n",
       "13          0.070719           0.075814  \n",
       "14          0.064423           0.067928  \n",
       "15          0.069964           0.059765  \n",
       "16          0.070997           0.067581  \n",
       "17          0.066876           0.066457  \n",
       "18          0.054824           0.058754  \n",
       "19          0.070221           0.074289  \n",
       "20          0.061478           0.079486  \n",
       "21          0.071711           0.075209  \n",
       "22          0.066310           0.061870  \n",
       "23          0.071892           0.079612  \n",
       "24          0.062404           0.080350  \n",
       "25          0.060282           0.066003  \n",
       "26          0.071890           0.076515  \n",
       "27         -0.001699                NaN  \n",
       "28         -0.001319          -0.001505  "
      ]
     },
     "execution_count": 5570,
     "metadata": {},
     "output_type": "execute_result"
    }
   ],
   "source": [
    "df_hst_fe = pd.DataFrame(history_fe)\n",
    "df_hst_fe"
   ]
  },
  {
   "cell_type": "code",
   "execution_count": 5909,
   "id": "9dcd3136-d616-4bba-a1a6-d2b4b68f83ec",
   "metadata": {},
   "outputs": [
    {
     "data": {
      "text/plain": [
       "['tmos_close_w70_lvl_1.005-1.01',\n",
       " 'volume_w5_std/volume_w14_std',\n",
       " 'volume_w5_norm_std',\n",
       " 'tmos_close_w14_roc',\n",
       " 'tmos_close_w14_rsi',\n",
       " 'tmos_close_w70_lvl_1.01-1.015',\n",
       " 'tmos_close_w70_lvl_-0.985-0.99',\n",
       " 'tmos_close_1day_w20_lvl_1.005-1.01',\n",
       " 'tmos_close_1day_w100_lvl_1.04-1.05',\n",
       " 'tmos_close_w70_rsi',\n",
       " 'tmos_close_w70_roc',\n",
       " 'close_w70_rsi',\n",
       " 'hour',\n",
       " 'tmos_close_w70_ma_up_2std/tmos_close',\n",
       " 'tmos_close_w14_ma/tmos_close_w70_ma',\n",
       " 'close_w70_lvl_-0.98-0.99',\n",
       " 'tmos_close_w5_ma/tmos_close_w70_ma',\n",
       " 'tmos_close_w14_max/tmos_close',\n",
       " 'tmos_close_1day_w100_lvl_1.015-1.02',\n",
       " 'tmos_close_1day_w20_lvl_1.015-1.02',\n",
       " 'tmos_close_w5_max/tmos_close',\n",
       " 'close_w1_roc',\n",
       " 'tmos_close_1day_w3_mean_abs_pct/tmos_close_1day_w5_mean_abs_pct',\n",
       " 'tmos_close_1day_w5_ma_low_2std/tmos_close_1day']"
      ]
     },
     "execution_count": 5909,
     "metadata": {},
     "output_type": "execute_result"
    }
   ],
   "source": [
    "df_hst_fe['features'].loc[5]"
   ]
  },
  {
   "cell_type": "code",
   "execution_count": null,
   "id": "4bad0685-02f9-4f77-8af4-7e11ee4281ea",
   "metadata": {},
   "outputs": [],
   "source": []
  },
  {
   "cell_type": "markdown",
   "id": "a36080da-e8b6-421e-970a-8a74c6fe53b5",
   "metadata": {},
   "source": [
    "# BEST"
   ]
  },
  {
   "cell_type": "code",
   "execution_count": null,
   "id": "21501ec4-7516-43a4-9888-031ddc4e91bd",
   "metadata": {},
   "outputs": [],
   "source": []
  },
  {
   "cell_type": "code",
   "execution_count": 1115,
   "id": "2d4b931e-ad64-4fef-aecc-844130ba8757",
   "metadata": {},
   "outputs": [
    {
     "data": {
      "text/plain": [
       "['tmos_close_w1_roc',\n",
       " 'tmos_close_w5_norm_std',\n",
       " 'tmos_close_w5_roc',\n",
       " 'tmos_close_w10_rsi',\n",
       " 'tmos_close_w10_roc',\n",
       " 'tmos_close_w30_alpha',\n",
       " 'close_w30_lvl_1.005-1.01',\n",
       " 'close_w30_lvl_-0.97-0.98',\n",
       " 'close_w30_lvl_-0.96-0.97',\n",
       " 'close_w30_lvl_-0.95-0.96',\n",
       " 'close_w30_lvl_-0.9299999999999999-0.95',\n",
       " 'close_w120_roc',\n",
       " 'close_w120_lvl_1.005-1.01',\n",
       " 'volume_1hour_w5_roc',\n",
       " 'volume_1hour_w10_mean_abs_pct',\n",
       " 'volume_1hour_w10_rsi',\n",
       " 'tmos_close_1hour_w10_alpha',\n",
       " 'volume_1hour_w20_norm_std',\n",
       " 'volume_1hour_w20_mean_abs_pct',\n",
       " 'close_1hour_w30_lvl_1.005-1.01',\n",
       " 'close_1hour_w30_lvl_-0.99-0.995',\n",
       " 'tmos_close_1hour_w30_lvl_1-1.005',\n",
       " 'close_1hour_w120_lvl_1.01-1.02',\n",
       " 'close_1hour_w120_lvl_1.03-1.04',\n",
       " 'tmos_close_1day_w5_norm_std',\n",
       " 'tmos_close_1day_w5_mean_abs_pct',\n",
       " 'volume_1day_w10_alpha',\n",
       " 'volume_1day_w10_rsi',\n",
       " 'close_1day_w30_norm_std',\n",
       " 'close_1day_w30_lvl_-0.995-1',\n",
       " 'close_1day_w30_lvl_1.005-1.01',\n",
       " 'close_1day_w30_lvl_1.01-1.02',\n",
       " 'close_1day_w30_lvl_-0.96-0.97',\n",
       " 'close_1day_w60_rsi',\n",
       " 'tmos_close_1day_w120_lvl_1-1.005',\n",
       " 'close_w10_alpha/close_w120_alpha',\n",
       " 'close_w20_alpha/close_w120_alpha',\n",
       " 'volume_w1_roc/volume_w20_alpha',\n",
       " 'tmos_close_w5_alpha/tmos_close_w60_alpha',\n",
       " 'close_w20_roc/close_w120_roc',\n",
       " 'tmos_close_w1_roc/tmos_close_w5_roc',\n",
       " 'tmos_close_w1_roc/tmos_close_w10_roc',\n",
       " 'tmos_close_w5_roc/tmos_close_w10_roc',\n",
       " 'tmos_close_w5_roc/tmos_close_w20_roc',\n",
       " 'tmos_close_w20_roc/tmos_close_w120_roc',\n",
       " 'tmos_close_w30_roc/tmos_close_w120_roc',\n",
       " 'tmos_close_w60_roc/tmos_close_w120_roc',\n",
       " 'close_w10_mean_abs_pct/close_w120_mean_abs_pct',\n",
       " 'close_w20_mean_abs_pct/close_w120_mean_abs_pct',\n",
       " 'close_w30_mean_abs_pct/close_w120_mean_abs_pct',\n",
       " 'close_w20_rsi/close_w60_rsi',\n",
       " 'close_w30_rsi/close_w60_rsi',\n",
       " 'close_w60_ma/close_w120_ma',\n",
       " 'tmos_close/tmos_close_w5_ma',\n",
       " 'tmos_close_w5_ma/tmos_close_w60_ma',\n",
       " 'tmos_close_w20_ma/tmos_close_w60_ma',\n",
       " 'tmos_close/tmos_close_w10_expma',\n",
       " 'tmos_close_w20_expma/tmos_close_w30_expma',\n",
       " 'tmos_close_w5_min/tmos_close',\n",
       " 'tmos_close_w10_min/tmos_close',\n",
       " 'tmos_close_w5_ma_up_2std/tmos_close',\n",
       " 'tmos_close_w5_ma_up_3std/tmos_close',\n",
       " 'tmos_close_w10_ma_up_3std/tmos_close',\n",
       " 'tmos_close_w5_min/tmos_close_w5_max',\n",
       " 'tmos_close_w60_min/tmos_close_w60_max',\n",
       " 'close_1hour_w5_alpha/close_1hour_w30_alpha',\n",
       " 'close_1hour_w5_alpha/close_1hour_w60_alpha',\n",
       " 'close_1hour_w10_alpha/close_1hour_w60_alpha',\n",
       " 'close_1hour_w30_alpha/close_1hour_w60_alpha',\n",
       " 'volume_1hour_w1_roc/volume_1hour_w5_alpha',\n",
       " 'volume_1hour_w5_alpha/volume_1hour_w10_alpha',\n",
       " 'tmos_close_1hour_w1_roc/tmos_close_1hour_w120_alpha',\n",
       " 'close_1hour_w5_roc/close_1hour_w30_roc',\n",
       " 'tmos_close_1hour_w10_roc/tmos_close_1hour_w60_roc',\n",
       " 'tmos_close_1hour_w10_roc/tmos_close_1hour_w120_roc',\n",
       " 'close_1hour_w5_mean_abs_pct/close_1hour_w10_mean_abs_pct',\n",
       " 'close_1hour_w5_mean_abs_pct/close_1hour_w20_mean_abs_pct',\n",
       " 'close_1hour_w5_mean_abs_pct/close_1hour_w30_mean_abs_pct',\n",
       " 'close_1hour_w5_mean_abs_pct/close_1hour_w60_mean_abs_pct',\n",
       " 'close_1hour_w10_mean_abs_pct/close_1hour_w20_mean_abs_pct',\n",
       " 'close_1hour_w10_mean_abs_pct/close_1hour_w60_mean_abs_pct',\n",
       " 'close_1hour_w20_mean_abs_pct/close_1hour_w60_mean_abs_pct',\n",
       " 'volume_1hour_w10_mean_abs_pct/volume_1hour_w20_mean_abs_pct',\n",
       " 'volume_1hour_w5_std/volume_1hour_w20_std',\n",
       " 'volume_1hour_w10_std/volume_1hour_w20_std',\n",
       " 'tmos_close_1hour_w5_std/tmos_close_1hour_w120_std',\n",
       " 'tmos_close_1hour_w20_std/tmos_close_1hour_w60_std',\n",
       " 'volume_1hour_w5_norm_std/volume_1hour_w10_norm_std',\n",
       " 'volume_1hour_w5_norm_std/volume_1hour_w20_norm_std',\n",
       " 'tmos_close_1hour_w5_norm_std/tmos_close_1hour_w120_norm_std',\n",
       " 'tmos_close_1hour_w20_norm_std/tmos_close_1hour_w60_norm_std',\n",
       " 'close_1hour_w5_rsi/close_1hour_w20_rsi',\n",
       " 'close_1hour_w5_rsi/close_1hour_w30_rsi',\n",
       " 'close_1hour_w5_rsi/close_1hour_w120_rsi',\n",
       " 'volume_1hour_w10_rsi/volume_1hour_w20_rsi',\n",
       " 'close_1hour_w20_ma/close_1hour_w30_ma',\n",
       " 'volume_1hour_w5_ma/volume_1hour_w10_ma',\n",
       " 'volume_1hour_w5_ma/volume_1hour_w20_ma',\n",
       " 'volume_1hour_w10_ma/volume_1hour_w20_ma',\n",
       " 'tmos_close/tmos_close_1hour_w20_ma',\n",
       " 'tmos_close/tmos_close_1hour_w60_ma',\n",
       " 'volume_1hour_w5_expma/volume_1hour_w10_expma',\n",
       " 'volume_1hour_w5_expma/volume_1hour_w20_expma',\n",
       " 'tmos_close/tmos_close_1hour_w20_expma',\n",
       " 'volume_1hour_w5_min/volume',\n",
       " 'volume_1hour_w10_min/volume',\n",
       " 'volume_1hour_w20_min/volume',\n",
       " 'tmos_close_1hour_w5_min/tmos_close',\n",
       " 'volume_1hour_w20_min/volume_1hour_w20_max',\n",
       " 'tmos_close_1hour_w120_min/tmos_close_1hour_w120_max',\n",
       " 'close_1day_w5_alpha/close_1day_w20_alpha',\n",
       " 'close_1day_w5_alpha/close_1day_w30_alpha',\n",
       " 'close_1day_w10_alpha/close_1day_w20_alpha',\n",
       " 'close_1day_w10_alpha/close_1day_w120_alpha',\n",
       " 'close_1day_w20_alpha/close_1day_w120_alpha',\n",
       " 'volume_1day_w5_alpha/volume_1day_w10_alpha',\n",
       " 'close_1day_w1_roc/close_1day_w60_roc',\n",
       " 'close_1day_w5_mean_abs_pct/close_1day_w120_mean_abs_pct',\n",
       " 'close_1day_w5_norm_std/close_1day_w120_norm_std',\n",
       " 'volume_1day_w10_rsi/volume_1day_w20_rsi',\n",
       " 'tmos_close_1day_w20_rsi/tmos_close_1day_w60_rsi',\n",
       " 'close_1day_w5_ma/close_1day_w10_ma',\n",
       " 'close_1day_w5_ma/close_1day_w30_ma',\n",
       " 'volume/volume_1day_w20_expma',\n",
       " 'volume_1day_w10_max/volume',\n",
       " 'volume_1day_w20_max/volume',\n",
       " 'volume_1day_w10_ma_up_2std/volume',\n",
       " 'volume_1day_w10_ma_up_3std/volume',\n",
       " 'volume_1day_w20_ma_up_3std/volume',\n",
       " 'close_1day_w30_min/close_1day_w30_max']"
      ]
     },
     "execution_count": 1115,
     "metadata": {},
     "output_type": "execute_result"
    }
   ],
   "source": [
    "features_fe = features\n",
    "features"
   ]
  },
  {
   "cell_type": "code",
   "execution_count": 1117,
   "id": "47f82d0e-b8af-47ee-b856-3a0e589158a7",
   "metadata": {},
   "outputs": [
    {
     "data": {
      "text/plain": [
       "{'boosting_type': 'gbdt',\n",
       " 'objective': 'binary',\n",
       " 'num_boost_round': 1000,\n",
       " 'num_leaves': 5,\n",
       " 'feature_fraction': 0.5,\n",
       " 'bagging_fraction': 0.5,\n",
       " 'bagging_freq': 1,\n",
       " 'lambda_l1': 10,\n",
       " 'lambda_l2': 10,\n",
       " 'metric': 'auc',\n",
       " 'early_stopping': 10}"
      ]
     },
     "execution_count": 1117,
     "metadata": {},
     "output_type": "execute_result"
    }
   ],
   "source": [
    "params"
   ]
  },
  {
   "cell_type": "code",
   "execution_count": 2026,
   "id": "b72bf984-634b-41bf-aff0-6b0e019cb27e",
   "metadata": {},
   "outputs": [],
   "source": [
    "params = {'boosting_type': 'gbdt',\n",
    " 'objective': 'binary',\n",
    " 'num_leaves': 5,\n",
    " 'learning_rate': 0.1,\n",
    " 'feature_fraction': 0.5,\n",
    " 'bagging_fraction': 0.3,\n",
    " 'bagging_freq': 1,\n",
    " 'lambda_l1': 1,\n",
    " 'lambda_l2': 1,\n",
    " 'verbose': -1,\n",
    " 'metric': 'mean_income_rate',\n",
    " 'early_stopping': 10}"
   ]
  },
  {
   "cell_type": "code",
   "execution_count": null,
   "id": "5101a3b2-f23a-446d-806a-3626292c9bff",
   "metadata": {},
   "outputs": [],
   "source": []
  },
  {
   "cell_type": "code",
   "execution_count": 2029,
   "id": "be636cd6-b448-43b1-afc3-4c2cc220e5c5",
   "metadata": {},
   "outputs": [
    {
     "data": {
      "text/plain": [
       "0"
      ]
     },
     "execution_count": 2029,
     "metadata": {},
     "output_type": "execute_result"
    }
   ],
   "source": [
    "target = 'target'\n",
    "cat_features = [elem for elem in features_fe if elem in cat_features_all]\n",
    "len(cat_features)"
   ]
  },
  {
   "cell_type": "code",
   "execution_count": 2031,
   "id": "02d6a8ab-671d-4527-83e7-8b0937aa66e0",
   "metadata": {},
   "outputs": [],
   "source": [
    "D_train = lgbm.Dataset(df.loc[mask_train, features_fe], label=df.loc[mask_train, target], feature_name=features_fe, categorical_feature=cat_features, free_raw_data=False)\n",
    "D_valid = lgbm.Dataset(df.loc[mask_valid, features_fe], label=df.loc[mask_valid, target], feature_name=features_fe, categorical_feature=cat_features, free_raw_data=False)\n",
    "D_test = lgbm.Dataset(df.loc[mask_test, features_fe], label=df.loc[mask_test, target], feature_name=features_fe, categorical_feature=cat_features, free_raw_data=False)\n",
    "D_test2 = lgbm.Dataset(df.loc[mask_test2, features_fe], label=df.loc[mask_test2, target], feature_name=features_fe, categorical_feature=cat_features, free_raw_data=False)\n",
    "\n",
    "\n",
    "D_train.income_rate = df.loc[mask_train, 'income_rate'].values\n",
    "D_valid.income_rate = df.loc[mask_valid, 'income_rate'].values\n",
    "D_test.income_rate = df.loc[mask_test, 'income_rate'].values\n",
    "D_test2.income_rate = df.loc[mask_test2, 'income_rate'].values\n",
    "\n",
    "D_train.time = df.loc[mask_train, 'time'].values\n",
    "D_valid.time = df.loc[mask_valid, 'time'].values\n",
    "D_test.time = df.loc[mask_test, 'time'].values\n",
    "D_test2.time = df.loc[mask_test2, 'time'].values"
   ]
  },
  {
   "cell_type": "code",
   "execution_count": 2033,
   "id": "40df68ac-ab4c-48ea-9043-18acfea70e06",
   "metadata": {},
   "outputs": [],
   "source": [
    "D_test3 = lgbm.Dataset(df.loc[mask_test3, features_fe], label=df.loc[mask_test3, target], feature_name=features_fe, categorical_feature=cat_features, free_raw_data=False)\n",
    "D_test3.income_rate = df.loc[mask_test3, 'income_rate'].values\n",
    "D_test3.time = df.loc[mask_test3, 'time'].values"
   ]
  },
  {
   "cell_type": "code",
   "execution_count": null,
   "id": "027ac9ff-ad02-411d-9cde-47fff7f4cc03",
   "metadata": {},
   "outputs": [],
   "source": []
  },
  {
   "cell_type": "markdown",
   "id": "7fd1c4c9-770b-4743-9eca-c9e2be68eba0",
   "metadata": {},
   "source": [
    "# INCORPORATION"
   ]
  },
  {
   "cell_type": "code",
   "execution_count": 1119,
   "id": "96e6db72-aad2-4e06-9bde-27c889a61d73",
   "metadata": {},
   "outputs": [],
   "source": [
    "D_test3 = lgbm.Dataset(df.loc[mask_test3, features], label=df.loc[mask_test3, target], feature_name=features, categorical_feature=cat_features, free_raw_data=False)\n",
    "D_test3.income_rate = df.loc[mask_test3, 'income_rate'].values\n",
    "D_test3.time = df.loc[mask_test3, 'time'].values"
   ]
  },
  {
   "cell_type": "code",
   "execution_count": null,
   "id": "f43b6864-50c6-4b73-85e2-f99c264a9497",
   "metadata": {},
   "outputs": [],
   "source": []
  },
  {
   "cell_type": "code",
   "execution_count": null,
   "id": "02066b6c-e5bc-4b1f-9401-b3de110d904a",
   "metadata": {},
   "outputs": [],
   "source": []
  },
  {
   "cell_type": "code",
   "execution_count": 2041,
   "id": "3ac5fb91-116e-4908-9a0f-46b00fec35dd",
   "metadata": {},
   "outputs": [],
   "source": [
    "model = lgbm.train(params,  num_boost_round=1_000, train_set=D_train, valid_sets=[D_valid], feval=mean_income_rate)"
   ]
  },
  {
   "cell_type": "code",
   "execution_count": 2042,
   "id": "c78d9e98-0a1e-445a-ba9f-08596427a922",
   "metadata": {},
   "outputs": [],
   "source": [
    "#dump_pkl(model, './model.pkl')"
   ]
  },
  {
   "cell_type": "code",
   "execution_count": 2045,
   "id": "92afb8c1-91f5-42df-84d1-df3bdd3d3cf1",
   "metadata": {},
   "outputs": [],
   "source": [
    "#model = load_pkl('./model.pkl')"
   ]
  },
  {
   "cell_type": "code",
   "execution_count": 1121,
   "id": "a18c46fb-9cb5-434b-a975-66dbd34bad57",
   "metadata": {},
   "outputs": [
    {
     "data": {
      "text/plain": [
       "28"
      ]
     },
     "execution_count": 1121,
     "metadata": {},
     "output_type": "execute_result"
    }
   ],
   "source": [
    "model.num_trees()"
   ]
  },
  {
   "cell_type": "code",
   "execution_count": null,
   "id": "33b54470-cba7-4d19-9e27-d6f3dff258b1",
   "metadata": {},
   "outputs": [],
   "source": []
  },
  {
   "cell_type": "code",
   "execution_count": 2050,
   "id": "17490e8b-d3de-4420-8154-7c0854078a50",
   "metadata": {},
   "outputs": [
    {
     "data": {
      "text/plain": [
       "True"
      ]
     },
     "execution_count": 2050,
     "metadata": {},
     "output_type": "execute_result"
    }
   ],
   "source": [
    "(model.predict(D_test2.data) == model.predict(df.loc[mask_test2, features_fe])).all()"
   ]
  },
  {
   "cell_type": "code",
   "execution_count": null,
   "id": "fa2fd1fe-c002-49d1-9087-65a5e6b7049b",
   "metadata": {},
   "outputs": [],
   "source": []
  },
  {
   "cell_type": "code",
   "execution_count": 2053,
   "id": "f87daa7a-cf45-48c3-8ad6-f4ef6b686979",
   "metadata": {},
   "outputs": [
    {
     "data": {
      "text/plain": [
       "(0.652944363854863, 0.6106727017819044, 0.6085286847042677, 0.5760034988223279)"
      ]
     },
     "execution_count": 2053,
     "metadata": {},
     "output_type": "execute_result"
    }
   ],
   "source": [
    "y_pred_train = model.predict(D_train.data)\n",
    "y_pred_valid = model.predict(D_valid.data)\n",
    "y_pred_test = model.predict(D_test.data)\n",
    "y_pred_test2 = model.predict(D_test2.data)\n",
    "\n",
    "\n",
    "df[\"y_pred\"] = None\n",
    "df.loc[mask_train, 'y_pred'] = y_pred_train\n",
    "df.loc[mask_valid, 'y_pred'] = y_pred_valid\n",
    "df.loc[mask_test, 'y_pred'] = y_pred_test\n",
    "df.loc[mask_test2, 'y_pred'] = y_pred_test2\n",
    "\n",
    "roc_auc_score(D_train.label, y_pred_train), roc_auc_score(D_valid.label, y_pred_valid), roc_auc_score(D_test.label, y_pred_test), roc_auc_score(D_test2.label, y_pred_test2)\n"
   ]
  },
  {
   "cell_type": "code",
   "execution_count": null,
   "id": "54ab589c-30dc-4ab9-8314-dd1da2e35a5f",
   "metadata": {},
   "outputs": [],
   "source": []
  },
  {
   "cell_type": "code",
   "execution_count": 1123,
   "id": "68fed094-3791-492f-9fac-5e492b31932c",
   "metadata": {},
   "outputs": [
    {
     "data": {
      "text/plain": [
       "0.6199716798399015"
      ]
     },
     "execution_count": 1123,
     "metadata": {},
     "output_type": "execute_result"
    }
   ],
   "source": [
    "y_pred_test3 = model.predict(D_test3.data)\n",
    "df.loc[mask_test3, 'y_pred'] = y_pred_test3\n",
    "roc_auc_score(D_test3.label, y_pred_test3)"
   ]
  },
  {
   "cell_type": "code",
   "execution_count": null,
   "id": "39d2ffeb-1f13-416d-bd17-2c4ca507bc95",
   "metadata": {},
   "outputs": [],
   "source": []
  },
  {
   "cell_type": "code",
   "execution_count": null,
   "id": "3125a056-8b59-408d-ae66-3ca1cc4842ae",
   "metadata": {},
   "outputs": [],
   "source": []
  },
  {
   "cell_type": "code",
   "execution_count": 1127,
   "id": "2e94c498-3adc-46b3-a7ae-526495ea233d",
   "metadata": {},
   "outputs": [
    {
     "name": "stdout",
     "output_type": "stream",
     "text": [
      "\n",
      "Valid\n",
      "result\n",
      "LOSE    0.423575\n",
      "DNF     0.419041\n",
      "WIN     0.157383\n",
      "Name: proportion, dtype: float64\n",
      "0.99683756\n",
      "\n",
      "Test\n",
      "result\n",
      "LOSE    0.462174\n",
      "WIN     0.346472\n",
      "DNF     0.191354\n",
      "Name: proportion, dtype: float64\n",
      "1.0051572\n",
      "\n",
      "Test2\n",
      "result\n",
      "DNF     0.464109\n",
      "WIN     0.300330\n",
      "LOSE    0.235561\n",
      "Name: proportion, dtype: float64\n",
      "1.0111561\n"
     ]
    }
   ],
   "source": [
    "#свой threshold\n",
    "\n",
    "q = 0.99\n",
    "\n",
    "threshold = np.quantile(df.loc[mask_valid, 'y_pred'], q=q)\n",
    "mask = df['y_pred'] >= threshold\n",
    "print('\\nValid')\n",
    "print(df.loc[mask_valid&mask, 'result'].value_counts(normalize=True))\n",
    "print(df.loc[mask_valid&mask, 'income_rate'].mean())\n",
    "\n",
    "threshold = np.quantile(df.loc[mask_test, 'y_pred'], q=q)\n",
    "mask = df['y_pred'] >= threshold\n",
    "print('\\nTest')\n",
    "print(df.loc[mask_test&mask, 'result'].value_counts(normalize=True))\n",
    "print(df.loc[mask_test&mask, 'income_rate'].mean())\n",
    "\n",
    "threshold = np.quantile(df.loc[mask_test2, 'y_pred'], q=q)\n",
    "mask = df['y_pred'] >= threshold\n",
    "print('\\nTest2')\n",
    "print(df.loc[mask_test2&mask, 'result'].value_counts(normalize=True))\n",
    "print(df.loc[mask_test2&mask, 'income_rate'].mean())"
   ]
  },
  {
   "cell_type": "code",
   "execution_count": 1128,
   "id": "9cc82279-6390-4d63-bbda-94e14509f768",
   "metadata": {},
   "outputs": [
    {
     "name": "stdout",
     "output_type": "stream",
     "text": [
      "\n",
      "Test3\n",
      "result\n",
      "LOSE    0.433267\n",
      "WIN     0.290837\n",
      "DNF     0.275896\n",
      "Name: proportion, dtype: float64\n",
      "1.0034573\n"
     ]
    }
   ],
   "source": [
    "threshold = np.quantile(df.loc[mask_test3, 'y_pred'], q=q)\n",
    "mask = df['y_pred'] >= threshold\n",
    "print('\\nTest3')\n",
    "print(df.loc[mask_test3&mask, 'result'].value_counts(normalize=True))\n",
    "print(df.loc[mask_test3&mask, 'income_rate'].mean())"
   ]
  },
  {
   "cell_type": "code",
   "execution_count": 1131,
   "id": "9bea6687-68a3-4711-88f6-2c427407eee2",
   "metadata": {},
   "outputs": [
    {
     "data": {
      "text/plain": [
       "(Timedelta('0 days 16:15:00'),\n",
       " Timedelta('0 days 16:45:00'),\n",
       " Timedelta('1 days 00:00:00'))"
      ]
     },
     "execution_count": 1131,
     "metadata": {},
     "output_type": "execute_result"
    }
   ],
   "source": [
    "df.loc[mask_valid&mask, 'delta_time'].median(), df.loc[mask_test&mask, 'delta_time'].median(), df.loc[mask_test2&mask, 'delta_time'].median()"
   ]
  },
  {
   "cell_type": "code",
   "execution_count": 1133,
   "id": "3d8fb25e-3898-4ad4-a92a-78e8664d9cf0",
   "metadata": {},
   "outputs": [
    {
     "data": {
      "text/plain": [
       "Timedelta('0 days 22:45:00')"
      ]
     },
     "execution_count": 1133,
     "metadata": {},
     "output_type": "execute_result"
    }
   ],
   "source": [
    "df.loc[mask_test3&mask, 'delta_time'].median()"
   ]
  },
  {
   "cell_type": "code",
   "execution_count": null,
   "id": "b0659e55-aae4-43a4-9d27-796422b90ff5",
   "metadata": {},
   "outputs": [],
   "source": []
  },
  {
   "cell_type": "code",
   "execution_count": 1136,
   "id": "3a433145-0500-4574-ae48-acf834593dac",
   "metadata": {},
   "outputs": [
    {
     "name": "stdout",
     "output_type": "stream",
     "text": [
      "threshokd = 0.293042809953795\n",
      "\n",
      "Valid\n",
      "result\n",
      "LOSE    0.423575\n",
      "DNF     0.419041\n",
      "WIN     0.157383\n",
      "Name: proportion, dtype: float64\n",
      "0.99683756\n",
      "\n",
      "Test\n",
      "result\n",
      "LOSE    0.523443\n",
      "WIN     0.272894\n",
      "DNF     0.203663\n",
      "Name: proportion, dtype: float64\n",
      "1.0013412\n",
      "\n",
      "Tetst2\n",
      "result\n",
      "DNF     0.468836\n",
      "WIN     0.304766\n",
      "LOSE    0.226398\n",
      "Name: proportion, dtype: float64\n",
      "1.0115858\n"
     ]
    }
   ],
   "source": [
    "#общий threshold\n",
    "\n",
    "q = 0.99\n",
    "\n",
    "threshold = np.quantile(df.loc[mask_valid, 'y_pred'], q=q)\n",
    "print(f'threshokd = {threshold}')\n",
    "\n",
    "mask = df['y_pred'] >= threshold\n",
    "print('\\nValid')\n",
    "print(df.loc[mask_valid&mask, 'result'].value_counts(normalize=True))\n",
    "print(df.loc[mask_valid&mask, 'income_rate'].mean())\n",
    "\n",
    "#threshold = np.quantile(df.loc[mask_test, 'y_pred'], q=0.99)\n",
    "#mask = df['y_pred'] > threshold\n",
    "print(\"\\nTest\")\n",
    "print(df.loc[mask_test&mask, 'result'].value_counts(normalize=True))\n",
    "print(df.loc[mask_test&mask, 'income_rate'].mean())\n",
    "\n",
    "#threshold = np.quantile(df.loc[mask_test2, 'y_pred'], q=0.99)\n",
    "#mask = df['y_pred'] > threshold\n",
    "print('\\nTetst2')\n",
    "print(df.loc[mask_test2&mask, 'result'].value_counts(normalize=True))\n",
    "print(df.loc[mask_test2&mask, 'income_rate'].mean())"
   ]
  },
  {
   "cell_type": "code",
   "execution_count": 1138,
   "id": "0b879410-c8d0-44f0-a7a0-c5e250a3d06b",
   "metadata": {},
   "outputs": [
    {
     "data": {
      "text/plain": [
       "(16, 20, 24)"
      ]
     },
     "execution_count": 1138,
     "metadata": {},
     "output_type": "execute_result"
    }
   ],
   "source": [
    "df.loc[mask_valid&mask, 'time'].dt.date.nunique(), df.loc[mask_test&mask, 'time'].dt.date.nunique(),  df.loc[mask_test2&mask, 'time'].dt.date.nunique()\n"
   ]
  },
  {
   "cell_type": "code",
   "execution_count": null,
   "id": "263d842e-9ddf-448f-aa53-18d43d30ec74",
   "metadata": {},
   "outputs": [],
   "source": []
  },
  {
   "cell_type": "code",
   "execution_count": null,
   "id": "5cbedcdd-f524-449c-b5da-3a327d64d271",
   "metadata": {},
   "outputs": [],
   "source": []
  },
  {
   "cell_type": "code",
   "execution_count": 1142,
   "id": "c1f1e2ed-3352-4379-a5ae-24958c536ece",
   "metadata": {},
   "outputs": [
    {
     "data": {
      "text/plain": [
       "(3, 27)"
      ]
     },
     "execution_count": 1142,
     "metadata": {},
     "output_type": "execute_result"
    }
   ],
   "source": [
    "df.loc[mask_test3&mask, 'time'].dt.date.nunique(), df.loc[mask_test3, 'time'].dt.date.nunique()\n"
   ]
  },
  {
   "cell_type": "code",
   "execution_count": null,
   "id": "870b0a02-ecb3-43a2-9a53-d08a50ba9804",
   "metadata": {},
   "outputs": [],
   "source": []
  },
  {
   "cell_type": "code",
   "execution_count": 1145,
   "id": "f2ab98fd-bddd-4995-9c3c-97d137c578ff",
   "metadata": {},
   "outputs": [
    {
     "name": "stdout",
     "output_type": "stream",
     "text": [
      "\n",
      "Tetst3\n",
      "result\n",
      "WIN     0.75\n",
      "LOSE    0.25\n",
      "Name: proportion, dtype: float64\n",
      "1.0239999\n"
     ]
    }
   ],
   "source": [
    "print('\\nTetst3')\n",
    "print(df.loc[mask_test3&mask, 'result'].value_counts(normalize=True))\n",
    "print(df.loc[mask_test3&mask, 'income_rate'].mean())"
   ]
  },
  {
   "cell_type": "code",
   "execution_count": 1147,
   "id": "43ce4fc4-86d3-4cd3-ba63-fc436bae8197",
   "metadata": {},
   "outputs": [
    {
     "name": "stderr",
     "output_type": "stream",
     "text": [
      "/opt/anaconda3/lib/python3.12/site-packages/IPython/core/displayhook.py:281: UserWarning: Output cache limit (currently 1000 entries) hit.\n",
      "Flushing oldest 200 entries.\n",
      "  warn('Output cache limit (currently {sz} entries) hit.\\n'\n"
     ]
    },
    {
     "data": {
      "text/plain": [
       "(Timedelta('0 days 18:30:00'),\n",
       " Timedelta('0 days 18:15:00'),\n",
       " Timedelta('1 days 00:00:00'))"
      ]
     },
     "execution_count": 1147,
     "metadata": {},
     "output_type": "execute_result"
    }
   ],
   "source": [
    "df.loc[mask_valid&mask, 'delta_time'].median(), df.loc[mask_test&mask, 'delta_time'].median(), df.loc[mask_test2&mask, 'delta_time'].median()"
   ]
  },
  {
   "cell_type": "code",
   "execution_count": 1149,
   "id": "0feffef0-7a3b-40cc-a756-f90c8ef0a94c",
   "metadata": {},
   "outputs": [
    {
     "data": {
      "text/plain": [
       "Timedelta('0 days 04:30:00')"
      ]
     },
     "execution_count": 1149,
     "metadata": {},
     "output_type": "execute_result"
    }
   ],
   "source": [
    "df.loc[mask_test3&mask, 'delta_time'].median()"
   ]
  },
  {
   "cell_type": "code",
   "execution_count": null,
   "id": "42cc298f-9037-4a95-8572-9f49c7d2fcd5",
   "metadata": {},
   "outputs": [],
   "source": []
  },
  {
   "cell_type": "code",
   "execution_count": 1152,
   "id": "27091e01-3fd5-4706-b00a-d01f1f9af069",
   "metadata": {},
   "outputs": [
    {
     "data": {
      "text/plain": [
       "0.293042809953795"
      ]
     },
     "execution_count": 1152,
     "metadata": {},
     "output_type": "execute_result"
    }
   ],
   "source": [
    "threshold = np.quantile(df.loc[mask_valid, 'y_pred'], q=0.99)\n",
    "mask = df['y_pred'] >= threshold\n",
    "threshold"
   ]
  },
  {
   "cell_type": "code",
   "execution_count": null,
   "id": "19691c13-b471-4824-a8d0-e8750072e708",
   "metadata": {},
   "outputs": [],
   "source": []
  },
  {
   "cell_type": "code",
   "execution_count": 1155,
   "id": "77c51002-fc71-44c8-a8c1-9ad9fed2cb16",
   "metadata": {},
   "outputs": [
    {
     "data": {
      "text/plain": [
       "(-0.0031624436378479004, 0.0013412237167358398, 0.011585831642150879)"
      ]
     },
     "execution_count": 1155,
     "metadata": {},
     "output_type": "execute_result"
    }
   ],
   "source": [
    "mean_income_rate_point(D_valid, y_pred_valid, threshold=threshold), mean_income_rate_point(D_test, y_pred_test, threshold=threshold), mean_income_rate_point(D_test2, y_pred_test2, threshold=threshold)"
   ]
  },
  {
   "cell_type": "code",
   "execution_count": null,
   "id": "0d5b27e4-6fff-4e72-b5c8-011b9080af9a",
   "metadata": {},
   "outputs": [],
   "source": []
  },
  {
   "cell_type": "code",
   "execution_count": null,
   "id": "95f15f31-ee7f-41cd-b0c9-a025629d7a23",
   "metadata": {},
   "outputs": [],
   "source": []
  },
  {
   "cell_type": "code",
   "execution_count": 1159,
   "id": "4f75e363-731f-4e6f-b029-6f3ee40fc56a",
   "metadata": {},
   "outputs": [
    {
     "data": {
      "text/plain": [
       "(-0.0061344244, -0.003164044, -0.00049872947)"
      ]
     },
     "execution_count": 1159,
     "metadata": {},
     "output_type": "execute_result"
    }
   ],
   "source": [
    "mean_income_rate_day(D_valid, y_pred_valid, threshold=threshold), mean_income_rate_day(D_test, y_pred_test, threshold=threshold), mean_income_rate_day(D_test2, y_pred_test2, threshold=threshold)"
   ]
  },
  {
   "cell_type": "code",
   "execution_count": null,
   "id": "f879d1d4-def5-48f9-8492-61e8c0d75dbb",
   "metadata": {},
   "outputs": [],
   "source": []
  },
  {
   "cell_type": "code",
   "execution_count": null,
   "id": "b03557d4-4376-4773-827b-744c21cc2595",
   "metadata": {},
   "outputs": [],
   "source": []
  },
  {
   "cell_type": "code",
   "execution_count": 1163,
   "id": "3ec18b2a-499f-4c42-a8fb-0fe1bf5aa633",
   "metadata": {},
   "outputs": [
    {
     "data": {
      "text/plain": [
       "(-0.05021668312161468, -0.032376265369875486, -0.003989835735410452)"
      ]
     },
     "execution_count": 1163,
     "metadata": {},
     "output_type": "execute_result"
    }
   ],
   "source": [
    "mean_income_rate_month(D_valid, y_pred_valid, threshold=threshold), mean_income_rate_month(D_test, y_pred_test, threshold=threshold), mean_income_rate_month(D_test2, y_pred_test2, threshold=threshold)"
   ]
  },
  {
   "cell_type": "code",
   "execution_count": null,
   "id": "cad82ae0-2ec3-4e3b-85b6-9468dbf02b6a",
   "metadata": {},
   "outputs": [],
   "source": []
  },
  {
   "cell_type": "code",
   "execution_count": null,
   "id": "e01f6d3a-f734-416a-b6c9-caf0450fef2a",
   "metadata": {},
   "outputs": [],
   "source": []
  },
  {
   "cell_type": "code",
   "execution_count": 1167,
   "id": "c06b4910-e224-409a-aa22-9497f32c8eb8",
   "metadata": {},
   "outputs": [
    {
     "data": {
      "text/plain": [
       "0.023999929428100586"
      ]
     },
     "execution_count": 1167,
     "metadata": {},
     "output_type": "execute_result"
    }
   ],
   "source": [
    "mean_income_rate_point(D_test3, y_pred_test3, threshold=threshold)"
   ]
  },
  {
   "cell_type": "code",
   "execution_count": null,
   "id": "0a5c8688-4ecd-4bfe-ab24-b75dc18e3861",
   "metadata": {},
   "outputs": [],
   "source": []
  },
  {
   "cell_type": "code",
   "execution_count": 1170,
   "id": "2b672a40-5fe8-48a2-a176-b1261c44b3dd",
   "metadata": {},
   "outputs": [
    {
     "data": {
      "text/plain": [
       "-0.001000007"
      ]
     },
     "execution_count": 1170,
     "metadata": {},
     "output_type": "execute_result"
    }
   ],
   "source": [
    "mean_income_rate_day(D_test3, y_pred_test3, threshold=threshold)"
   ]
  },
  {
   "cell_type": "code",
   "execution_count": null,
   "id": "a4bac858-5291-462e-96a7-2b6f6e3d27b8",
   "metadata": {},
   "outputs": [],
   "source": []
  },
  {
   "cell_type": "code",
   "execution_count": 1173,
   "id": "81ac408e-f346-4c63-aa2d-68f176c7bf5c",
   "metadata": {},
   "outputs": [
    {
     "data": {
      "text/plain": [
       "-0.0024444616347965267"
      ]
     },
     "execution_count": 1173,
     "metadata": {},
     "output_type": "execute_result"
    }
   ],
   "source": [
    "mean_income_rate_month(D_test3, y_pred_test3, threshold=threshold)"
   ]
  },
  {
   "cell_type": "code",
   "execution_count": null,
   "id": "ec7ae162-9401-4be5-a14a-c4bedc19ab4c",
   "metadata": {},
   "outputs": [],
   "source": []
  },
  {
   "cell_type": "code",
   "execution_count": null,
   "id": "624d9eb9-32a3-45ec-9c3b-2431a6862d5f",
   "metadata": {},
   "outputs": [],
   "source": []
  },
  {
   "cell_type": "code",
   "execution_count": 1177,
   "id": "5f7e4b19-170a-4ed7-a764-8238ed639255",
   "metadata": {},
   "outputs": [
    {
     "data": {
      "text/plain": [
       "array(['MVID', 'SPBE', 'MTLRP', 'FESH', 'VKCO', 'SELG', 'SGZH', 'TATN',\n",
       "       'AFKS', 'GMKN', 'RNFT', 'UWGN', 'TGKN', 'ABIO', 'WUSH', 'GTRK',\n",
       "       'NLMK', 'TATNP', 'VSMO', 'MGNT', 'IRKT', 'MTLR', 'HEAD', 'SIBN',\n",
       "       'NVTK', 'VTBR', 'CHMF', 'RTKM', 'SMLT', 'ROSN', 'PIKK', 'POSI',\n",
       "       'MAGN'], dtype=object)"
      ]
     },
     "execution_count": 1177,
     "metadata": {},
     "output_type": "execute_result"
    }
   ],
   "source": [
    "df.loc[mask_test2&mask, 'ticker'].unique()"
   ]
  },
  {
   "cell_type": "code",
   "execution_count": 1179,
   "id": "2f7d5412-17f7-493e-8885-4ed1f0abcef6",
   "metadata": {
    "id": "88e63d91-3ce6-49e8-82e3-e38943c7ba76",
    "scrolled": true
   },
   "outputs": [
    {
     "name": "stderr",
     "output_type": "stream",
     "text": [
      "/var/folders/rm/zt5_90s5727289mv2gzbkw980000gn/T/ipykernel_33127/480691733.py:2: DeprecationWarning: DataFrameGroupBy.apply operated on the grouping columns. This behavior is deprecated, and in a future version of pandas the grouping columns will be excluded from the operation. Either pass `include_groups=False` to exclude the groupings or explicitly select the grouping columns after groupby to silence this warning.\n",
      "  df.loc[mask_test2&mask, ['ticker', 'income_rate']].groupby('ticker').apply(lambda x: pd.Series({'count' : x['income_rate'].count(),\n"
     ]
    },
    {
     "data": {
      "text/html": [
       "<div>\n",
       "<style scoped>\n",
       "    .dataframe tbody tr th:only-of-type {\n",
       "        vertical-align: middle;\n",
       "    }\n",
       "\n",
       "    .dataframe tbody tr th {\n",
       "        vertical-align: top;\n",
       "    }\n",
       "\n",
       "    .dataframe thead th {\n",
       "        text-align: right;\n",
       "    }\n",
       "</style>\n",
       "<table border=\"1\" class=\"dataframe\">\n",
       "  <thead>\n",
       "    <tr style=\"text-align: right;\">\n",
       "      <th></th>\n",
       "      <th>count</th>\n",
       "      <th>income_rate</th>\n",
       "    </tr>\n",
       "    <tr>\n",
       "      <th>ticker</th>\n",
       "      <th></th>\n",
       "      <th></th>\n",
       "    </tr>\n",
       "  </thead>\n",
       "  <tbody>\n",
       "    <tr>\n",
       "      <th>CHMF</th>\n",
       "      <td>1.0</td>\n",
       "      <td>1.037060</td>\n",
       "    </tr>\n",
       "    <tr>\n",
       "      <th>POSI</th>\n",
       "      <td>2.0</td>\n",
       "      <td>0.979000</td>\n",
       "    </tr>\n",
       "    <tr>\n",
       "      <th>TATNP</th>\n",
       "      <td>3.0</td>\n",
       "      <td>1.004103</td>\n",
       "    </tr>\n",
       "    <tr>\n",
       "      <th>NVTK</th>\n",
       "      <td>4.0</td>\n",
       "      <td>0.994285</td>\n",
       "    </tr>\n",
       "    <tr>\n",
       "      <th>ROSN</th>\n",
       "      <td>8.0</td>\n",
       "      <td>1.022341</td>\n",
       "    </tr>\n",
       "    <tr>\n",
       "      <th>HEAD</th>\n",
       "      <td>13.0</td>\n",
       "      <td>0.992846</td>\n",
       "    </tr>\n",
       "    <tr>\n",
       "      <th>MAGN</th>\n",
       "      <td>15.0</td>\n",
       "      <td>1.002132</td>\n",
       "    </tr>\n",
       "    <tr>\n",
       "      <th>TATN</th>\n",
       "      <td>18.0</td>\n",
       "      <td>1.001837</td>\n",
       "    </tr>\n",
       "    <tr>\n",
       "      <th>GMKN</th>\n",
       "      <td>21.0</td>\n",
       "      <td>1.024013</td>\n",
       "    </tr>\n",
       "    <tr>\n",
       "      <th>WUSH</th>\n",
       "      <td>23.0</td>\n",
       "      <td>0.996446</td>\n",
       "    </tr>\n",
       "    <tr>\n",
       "      <th>VTBR</th>\n",
       "      <td>24.0</td>\n",
       "      <td>1.014395</td>\n",
       "    </tr>\n",
       "    <tr>\n",
       "      <th>FESH</th>\n",
       "      <td>25.0</td>\n",
       "      <td>1.003013</td>\n",
       "    </tr>\n",
       "    <tr>\n",
       "      <th>SIBN</th>\n",
       "      <td>33.0</td>\n",
       "      <td>1.011162</td>\n",
       "    </tr>\n",
       "    <tr>\n",
       "      <th>MVID</th>\n",
       "      <td>34.0</td>\n",
       "      <td>1.002932</td>\n",
       "    </tr>\n",
       "    <tr>\n",
       "      <th>MGNT</th>\n",
       "      <td>39.0</td>\n",
       "      <td>1.009637</td>\n",
       "    </tr>\n",
       "    <tr>\n",
       "      <th>NLMK</th>\n",
       "      <td>49.0</td>\n",
       "      <td>1.010154</td>\n",
       "    </tr>\n",
       "    <tr>\n",
       "      <th>SPBE</th>\n",
       "      <td>61.0</td>\n",
       "      <td>1.006763</td>\n",
       "    </tr>\n",
       "    <tr>\n",
       "      <th>AFKS</th>\n",
       "      <td>62.0</td>\n",
       "      <td>0.994994</td>\n",
       "    </tr>\n",
       "    <tr>\n",
       "      <th>UWGN</th>\n",
       "      <td>65.0</td>\n",
       "      <td>1.019411</td>\n",
       "    </tr>\n",
       "    <tr>\n",
       "      <th>RTKM</th>\n",
       "      <td>79.0</td>\n",
       "      <td>1.008919</td>\n",
       "    </tr>\n",
       "    <tr>\n",
       "      <th>SGZH</th>\n",
       "      <td>83.0</td>\n",
       "      <td>1.019435</td>\n",
       "    </tr>\n",
       "    <tr>\n",
       "      <th>SELG</th>\n",
       "      <td>85.0</td>\n",
       "      <td>1.016664</td>\n",
       "    </tr>\n",
       "    <tr>\n",
       "      <th>RNFT</th>\n",
       "      <td>88.0</td>\n",
       "      <td>1.008582</td>\n",
       "    </tr>\n",
       "    <tr>\n",
       "      <th>ABIO</th>\n",
       "      <td>93.0</td>\n",
       "      <td>1.010352</td>\n",
       "    </tr>\n",
       "    <tr>\n",
       "      <th>MTLR</th>\n",
       "      <td>96.0</td>\n",
       "      <td>1.015066</td>\n",
       "    </tr>\n",
       "    <tr>\n",
       "      <th>VSMO</th>\n",
       "      <td>100.0</td>\n",
       "      <td>1.013622</td>\n",
       "    </tr>\n",
       "    <tr>\n",
       "      <th>PIKK</th>\n",
       "      <td>114.0</td>\n",
       "      <td>1.014436</td>\n",
       "    </tr>\n",
       "    <tr>\n",
       "      <th>MTLRP</th>\n",
       "      <td>118.0</td>\n",
       "      <td>1.012082</td>\n",
       "    </tr>\n",
       "    <tr>\n",
       "      <th>VKCO</th>\n",
       "      <td>122.0</td>\n",
       "      <td>1.004250</td>\n",
       "    </tr>\n",
       "    <tr>\n",
       "      <th>SMLT</th>\n",
       "      <td>155.0</td>\n",
       "      <td>1.018405</td>\n",
       "    </tr>\n",
       "    <tr>\n",
       "      <th>GTRK</th>\n",
       "      <td>161.0</td>\n",
       "      <td>1.005212</td>\n",
       "    </tr>\n",
       "    <tr>\n",
       "      <th>TGKN</th>\n",
       "      <td>167.0</td>\n",
       "      <td>1.010155</td>\n",
       "    </tr>\n",
       "    <tr>\n",
       "      <th>IRKT</th>\n",
       "      <td>221.0</td>\n",
       "      <td>1.019719</td>\n",
       "    </tr>\n",
       "  </tbody>\n",
       "</table>\n",
       "</div>"
      ],
      "text/plain": [
       "        count  income_rate\n",
       "ticker                    \n",
       "CHMF      1.0     1.037060\n",
       "POSI      2.0     0.979000\n",
       "TATNP     3.0     1.004103\n",
       "NVTK      4.0     0.994285\n",
       "ROSN      8.0     1.022341\n",
       "HEAD     13.0     0.992846\n",
       "MAGN     15.0     1.002132\n",
       "TATN     18.0     1.001837\n",
       "GMKN     21.0     1.024013\n",
       "WUSH     23.0     0.996446\n",
       "VTBR     24.0     1.014395\n",
       "FESH     25.0     1.003013\n",
       "SIBN     33.0     1.011162\n",
       "MVID     34.0     1.002932\n",
       "MGNT     39.0     1.009637\n",
       "NLMK     49.0     1.010154\n",
       "SPBE     61.0     1.006763\n",
       "AFKS     62.0     0.994994\n",
       "UWGN     65.0     1.019411\n",
       "RTKM     79.0     1.008919\n",
       "SGZH     83.0     1.019435\n",
       "SELG     85.0     1.016664\n",
       "RNFT     88.0     1.008582\n",
       "ABIO     93.0     1.010352\n",
       "MTLR     96.0     1.015066\n",
       "VSMO    100.0     1.013622\n",
       "PIKK    114.0     1.014436\n",
       "MTLRP   118.0     1.012082\n",
       "VKCO    122.0     1.004250\n",
       "SMLT    155.0     1.018405\n",
       "GTRK    161.0     1.005212\n",
       "TGKN    167.0     1.010155\n",
       "IRKT    221.0     1.019719"
      ]
     },
     "execution_count": 1179,
     "metadata": {},
     "output_type": "execute_result"
    }
   ],
   "source": [
    "pd.set_option('display.max_rows', 150)\n",
    "df.loc[mask_test2&mask, ['ticker', 'income_rate']].groupby('ticker').apply(lambda x: pd.Series({'count' : x['income_rate'].count(),\n",
    "                                                                                                               'income_rate' : x['income_rate'].mean()})).sort_values('count')"
   ]
  },
  {
   "cell_type": "code",
   "execution_count": null,
   "id": "2e8e6403-8a3b-41a9-9bde-5a25965bfa52",
   "metadata": {},
   "outputs": [],
   "source": []
  },
  {
   "cell_type": "code",
   "execution_count": 2115,
   "id": "b8597a1a-bf74-4053-8c3f-7fcfe4fdf1ad",
   "metadata": {},
   "outputs": [
    {
     "name": "stderr",
     "output_type": "stream",
     "text": [
      "/var/folders/rm/zt5_90s5727289mv2gzbkw980000gn/T/ipykernel_27664/2708990562.py:2: DeprecationWarning: DataFrameGroupBy.apply operated on the grouping columns. This behavior is deprecated, and in a future version of pandas the grouping columns will be excluded from the operation. Either pass `include_groups=False` to exclude the groupings or explicitly select the grouping columns after groupby to silence this warning.\n",
      "  df.loc[mask_test3&mask, ['ticker', 'income_rate']].groupby('ticker').apply(lambda x: pd.Series({'count' : x['income_rate'].count(),\n"
     ]
    },
    {
     "data": {
      "text/html": [
       "<div>\n",
       "<style scoped>\n",
       "    .dataframe tbody tr th:only-of-type {\n",
       "        vertical-align: middle;\n",
       "    }\n",
       "\n",
       "    .dataframe tbody tr th {\n",
       "        vertical-align: top;\n",
       "    }\n",
       "\n",
       "    .dataframe thead th {\n",
       "        text-align: right;\n",
       "    }\n",
       "</style>\n",
       "<table border=\"1\" class=\"dataframe\">\n",
       "  <thead>\n",
       "    <tr style=\"text-align: right;\">\n",
       "      <th></th>\n",
       "      <th>count</th>\n",
       "      <th>income_rate</th>\n",
       "    </tr>\n",
       "    <tr>\n",
       "      <th>ticker</th>\n",
       "      <th></th>\n",
       "      <th></th>\n",
       "    </tr>\n",
       "  </thead>\n",
       "  <tbody>\n",
       "    <tr>\n",
       "      <th>YDEX</th>\n",
       "      <td>1.0</td>\n",
       "      <td>1.007534</td>\n",
       "    </tr>\n",
       "    <tr>\n",
       "      <th>AFLT</th>\n",
       "      <td>1.0</td>\n",
       "      <td>0.999853</td>\n",
       "    </tr>\n",
       "    <tr>\n",
       "      <th>SVAV</th>\n",
       "      <td>1.0</td>\n",
       "      <td>1.005644</td>\n",
       "    </tr>\n",
       "    <tr>\n",
       "      <th>MTSS</th>\n",
       "      <td>1.0</td>\n",
       "      <td>0.994000</td>\n",
       "    </tr>\n",
       "    <tr>\n",
       "      <th>LSRG</th>\n",
       "      <td>1.0</td>\n",
       "      <td>1.001535</td>\n",
       "    </tr>\n",
       "    <tr>\n",
       "      <th>ALRS</th>\n",
       "      <td>2.0</td>\n",
       "      <td>1.008884</td>\n",
       "    </tr>\n",
       "    <tr>\n",
       "      <th>UPRO</th>\n",
       "      <td>2.0</td>\n",
       "      <td>1.006774</td>\n",
       "    </tr>\n",
       "    <tr>\n",
       "      <th>UWGN</th>\n",
       "      <td>2.0</td>\n",
       "      <td>1.006500</td>\n",
       "    </tr>\n",
       "    <tr>\n",
       "      <th>VTBR</th>\n",
       "      <td>2.0</td>\n",
       "      <td>0.994000</td>\n",
       "    </tr>\n",
       "    <tr>\n",
       "      <th>GMKN</th>\n",
       "      <td>2.0</td>\n",
       "      <td>0.996667</td>\n",
       "    </tr>\n",
       "    <tr>\n",
       "      <th>HEAD</th>\n",
       "      <td>2.0</td>\n",
       "      <td>0.999965</td>\n",
       "    </tr>\n",
       "    <tr>\n",
       "      <th>MGNT</th>\n",
       "      <td>2.0</td>\n",
       "      <td>1.000397</td>\n",
       "    </tr>\n",
       "    <tr>\n",
       "      <th>BANEP</th>\n",
       "      <td>3.0</td>\n",
       "      <td>1.006573</td>\n",
       "    </tr>\n",
       "    <tr>\n",
       "      <th>SNGSP</th>\n",
       "      <td>3.0</td>\n",
       "      <td>1.008367</td>\n",
       "    </tr>\n",
       "    <tr>\n",
       "      <th>VSMO</th>\n",
       "      <td>3.0</td>\n",
       "      <td>1.007872</td>\n",
       "    </tr>\n",
       "    <tr>\n",
       "      <th>TATNP</th>\n",
       "      <td>4.0</td>\n",
       "      <td>0.998806</td>\n",
       "    </tr>\n",
       "    <tr>\n",
       "      <th>MVID</th>\n",
       "      <td>4.0</td>\n",
       "      <td>1.006928</td>\n",
       "    </tr>\n",
       "    <tr>\n",
       "      <th>MAGN</th>\n",
       "      <td>4.0</td>\n",
       "      <td>0.997561</td>\n",
       "    </tr>\n",
       "    <tr>\n",
       "      <th>IRKT</th>\n",
       "      <td>5.0</td>\n",
       "      <td>1.000050</td>\n",
       "    </tr>\n",
       "    <tr>\n",
       "      <th>TATN</th>\n",
       "      <td>5.0</td>\n",
       "      <td>0.995876</td>\n",
       "    </tr>\n",
       "    <tr>\n",
       "      <th>NLMK</th>\n",
       "      <td>5.0</td>\n",
       "      <td>0.994000</td>\n",
       "    </tr>\n",
       "    <tr>\n",
       "      <th>X5</th>\n",
       "      <td>5.0</td>\n",
       "      <td>1.014000</td>\n",
       "    </tr>\n",
       "    <tr>\n",
       "      <th>WUSH</th>\n",
       "      <td>6.0</td>\n",
       "      <td>1.001547</td>\n",
       "    </tr>\n",
       "    <tr>\n",
       "      <th>HYDR</th>\n",
       "      <td>7.0</td>\n",
       "      <td>1.001321</td>\n",
       "    </tr>\n",
       "    <tr>\n",
       "      <th>ENPG</th>\n",
       "      <td>8.0</td>\n",
       "      <td>1.002908</td>\n",
       "    </tr>\n",
       "    <tr>\n",
       "      <th>SGZH</th>\n",
       "      <td>8.0</td>\n",
       "      <td>1.006500</td>\n",
       "    </tr>\n",
       "    <tr>\n",
       "      <th>VKCO</th>\n",
       "      <td>8.0</td>\n",
       "      <td>1.001709</td>\n",
       "    </tr>\n",
       "    <tr>\n",
       "      <th>RTKM</th>\n",
       "      <td>9.0</td>\n",
       "      <td>0.999936</td>\n",
       "    </tr>\n",
       "    <tr>\n",
       "      <th>SIBN</th>\n",
       "      <td>9.0</td>\n",
       "      <td>1.002045</td>\n",
       "    </tr>\n",
       "    <tr>\n",
       "      <th>MDMG</th>\n",
       "      <td>9.0</td>\n",
       "      <td>1.006231</td>\n",
       "    </tr>\n",
       "    <tr>\n",
       "      <th>SNGS</th>\n",
       "      <td>9.0</td>\n",
       "      <td>1.006641</td>\n",
       "    </tr>\n",
       "    <tr>\n",
       "      <th>FEES</th>\n",
       "      <td>9.0</td>\n",
       "      <td>0.999609</td>\n",
       "    </tr>\n",
       "    <tr>\n",
       "      <th>NVTK</th>\n",
       "      <td>9.0</td>\n",
       "      <td>0.995025</td>\n",
       "    </tr>\n",
       "    <tr>\n",
       "      <th>SPBE</th>\n",
       "      <td>10.0</td>\n",
       "      <td>1.007323</td>\n",
       "    </tr>\n",
       "    <tr>\n",
       "      <th>TRNFP</th>\n",
       "      <td>10.0</td>\n",
       "      <td>0.996000</td>\n",
       "    </tr>\n",
       "    <tr>\n",
       "      <th>GTRK</th>\n",
       "      <td>11.0</td>\n",
       "      <td>0.998638</td>\n",
       "    </tr>\n",
       "    <tr>\n",
       "      <th>RNFT</th>\n",
       "      <td>12.0</td>\n",
       "      <td>0.999605</td>\n",
       "    </tr>\n",
       "    <tr>\n",
       "      <th>AFKS</th>\n",
       "      <td>13.0</td>\n",
       "      <td>0.998884</td>\n",
       "    </tr>\n",
       "    <tr>\n",
       "      <th>RASP</th>\n",
       "      <td>14.0</td>\n",
       "      <td>0.999183</td>\n",
       "    </tr>\n",
       "    <tr>\n",
       "      <th>NMTP</th>\n",
       "      <td>14.0</td>\n",
       "      <td>1.004572</td>\n",
       "    </tr>\n",
       "    <tr>\n",
       "      <th>RUAL</th>\n",
       "      <td>14.0</td>\n",
       "      <td>0.997524</td>\n",
       "    </tr>\n",
       "    <tr>\n",
       "      <th>TGKN</th>\n",
       "      <td>15.0</td>\n",
       "      <td>1.001654</td>\n",
       "    </tr>\n",
       "    <tr>\n",
       "      <th>MTLR</th>\n",
       "      <td>15.0</td>\n",
       "      <td>0.996948</td>\n",
       "    </tr>\n",
       "    <tr>\n",
       "      <th>CHMF</th>\n",
       "      <td>16.0</td>\n",
       "      <td>0.994975</td>\n",
       "    </tr>\n",
       "    <tr>\n",
       "      <th>ROSN</th>\n",
       "      <td>16.0</td>\n",
       "      <td>1.006374</td>\n",
       "    </tr>\n",
       "    <tr>\n",
       "      <th>ABIO</th>\n",
       "      <td>17.0</td>\n",
       "      <td>0.999225</td>\n",
       "    </tr>\n",
       "    <tr>\n",
       "      <th>UNAC</th>\n",
       "      <td>17.0</td>\n",
       "      <td>1.003159</td>\n",
       "    </tr>\n",
       "    <tr>\n",
       "      <th>SELG</th>\n",
       "      <td>19.0</td>\n",
       "      <td>1.001473</td>\n",
       "    </tr>\n",
       "    <tr>\n",
       "      <th>PIKK</th>\n",
       "      <td>20.0</td>\n",
       "      <td>0.999585</td>\n",
       "    </tr>\n",
       "    <tr>\n",
       "      <th>FLOT</th>\n",
       "      <td>22.0</td>\n",
       "      <td>1.001303</td>\n",
       "    </tr>\n",
       "    <tr>\n",
       "      <th>SMLT</th>\n",
       "      <td>33.0</td>\n",
       "      <td>0.999526</td>\n",
       "    </tr>\n",
       "    <tr>\n",
       "      <th>POSI</th>\n",
       "      <td>33.0</td>\n",
       "      <td>0.996672</td>\n",
       "    </tr>\n",
       "    <tr>\n",
       "      <th>FESH</th>\n",
       "      <td>34.0</td>\n",
       "      <td>1.001596</td>\n",
       "    </tr>\n",
       "    <tr>\n",
       "      <th>MTLRP</th>\n",
       "      <td>36.0</td>\n",
       "      <td>0.996222</td>\n",
       "    </tr>\n",
       "  </tbody>\n",
       "</table>\n",
       "</div>"
      ],
      "text/plain": [
       "        count  income_rate\n",
       "ticker                    \n",
       "YDEX      1.0     1.007534\n",
       "AFLT      1.0     0.999853\n",
       "SVAV      1.0     1.005644\n",
       "MTSS      1.0     0.994000\n",
       "LSRG      1.0     1.001535\n",
       "ALRS      2.0     1.008884\n",
       "UPRO      2.0     1.006774\n",
       "UWGN      2.0     1.006500\n",
       "VTBR      2.0     0.994000\n",
       "GMKN      2.0     0.996667\n",
       "HEAD      2.0     0.999965\n",
       "MGNT      2.0     1.000397\n",
       "BANEP     3.0     1.006573\n",
       "SNGSP     3.0     1.008367\n",
       "VSMO      3.0     1.007872\n",
       "TATNP     4.0     0.998806\n",
       "MVID      4.0     1.006928\n",
       "MAGN      4.0     0.997561\n",
       "IRKT      5.0     1.000050\n",
       "TATN      5.0     0.995876\n",
       "NLMK      5.0     0.994000\n",
       "X5        5.0     1.014000\n",
       "WUSH      6.0     1.001547\n",
       "HYDR      7.0     1.001321\n",
       "ENPG      8.0     1.002908\n",
       "SGZH      8.0     1.006500\n",
       "VKCO      8.0     1.001709\n",
       "RTKM      9.0     0.999936\n",
       "SIBN      9.0     1.002045\n",
       "MDMG      9.0     1.006231\n",
       "SNGS      9.0     1.006641\n",
       "FEES      9.0     0.999609\n",
       "NVTK      9.0     0.995025\n",
       "SPBE     10.0     1.007323\n",
       "TRNFP    10.0     0.996000\n",
       "GTRK     11.0     0.998638\n",
       "RNFT     12.0     0.999605\n",
       "AFKS     13.0     0.998884\n",
       "RASP     14.0     0.999183\n",
       "NMTP     14.0     1.004572\n",
       "RUAL     14.0     0.997524\n",
       "TGKN     15.0     1.001654\n",
       "MTLR     15.0     0.996948\n",
       "CHMF     16.0     0.994975\n",
       "ROSN     16.0     1.006374\n",
       "ABIO     17.0     0.999225\n",
       "UNAC     17.0     1.003159\n",
       "SELG     19.0     1.001473\n",
       "PIKK     20.0     0.999585\n",
       "FLOT     22.0     1.001303\n",
       "SMLT     33.0     0.999526\n",
       "POSI     33.0     0.996672\n",
       "FESH     34.0     1.001596\n",
       "MTLRP    36.0     0.996222"
      ]
     },
     "execution_count": 2115,
     "metadata": {},
     "output_type": "execute_result"
    }
   ],
   "source": [
    "pd.set_option('display.max_rows', 150)\n",
    "df.loc[mask_test3&mask, ['ticker', 'income_rate']].groupby('ticker').apply(lambda x: pd.Series({'count' : x['income_rate'].count(),\n",
    "                                                                                                               'income_rate' : x['income_rate'].mean()})).sort_values('count')"
   ]
  },
  {
   "cell_type": "code",
   "execution_count": 2117,
   "id": "c6a89246-72ac-4888-914c-c48063580d20",
   "metadata": {},
   "outputs": [],
   "source": [
    "#df[mask_test3&mask&(df['ticker'] == 'SMLT')]"
   ]
  },
  {
   "cell_type": "code",
   "execution_count": null,
   "id": "88a9f908-94d4-4db2-8a6d-5bd16ec0d522",
   "metadata": {},
   "outputs": [],
   "source": []
  },
  {
   "cell_type": "code",
   "execution_count": null,
   "id": "a2a3b9d4-e91f-4482-93d3-1f974e157436",
   "metadata": {},
   "outputs": [],
   "source": []
  },
  {
   "cell_type": "code",
   "execution_count": 2121,
   "id": "11767acd-2b76-4f8c-8551-e445106e5d40",
   "metadata": {},
   "outputs": [],
   "source": [
    "# dump_pkl(y_pred_valid, './bst_mdl/y_pred_valid.pkl')\n",
    "# dump_pkl(y_pred_test, './bst_mdl/y_pred_test.pkl')\n",
    "# dump_pkl(y_pred_test2, './bst_mdl/y_pred_test2.pkl')\n",
    "\n",
    "# dump_pkl(y_pred_test3, './bst_mdl/y_pred_test3.pkl')"
   ]
  },
  {
   "cell_type": "code",
   "execution_count": null,
   "id": "155c7647-a102-4dfe-9762-7630d31d752c",
   "metadata": {},
   "outputs": [],
   "source": []
  },
  {
   "cell_type": "code",
   "execution_count": null,
   "id": "80ed2d9c-5992-4e87-b29d-59c623dfbaa7",
   "metadata": {},
   "outputs": [],
   "source": []
  },
  {
   "cell_type": "code",
   "execution_count": 2125,
   "id": "b9337180-0984-4178-8660-e12844981aea",
   "metadata": {},
   "outputs": [
    {
     "data": {
      "text/plain": [
       "[('close/close_w30_ma', 1.57),\n",
       " ('close/close_w10_ma', 2.25),\n",
       " ('close/close_w10_expma', 2.79),\n",
       " ('close_w10_max/close', 19.1),\n",
       " ('close/close_w30_expma', 24.83),\n",
       " ('close/close_1hour_w10_expma', 49.47)]"
      ]
     },
     "execution_count": 2125,
     "metadata": {},
     "output_type": "execute_result"
    }
   ],
   "source": [
    "s = model.feature_importance(importance_type='gain').sum()\n",
    "sorted(zip(features_fe, np.round((model.feature_importance(importance_type='gain')/s*100), 2)), key=lambda x: x[1])"
   ]
  },
  {
   "cell_type": "code",
   "execution_count": null,
   "id": "2cca57ab-a6d2-41fa-8038-648b57106a16",
   "metadata": {},
   "outputs": [],
   "source": []
  },
  {
   "cell_type": "markdown",
   "id": "6c3a7960-9a56-49c4-b87e-a912c2d660f3",
   "metadata": {},
   "source": [
    "### -1. TMP"
   ]
  },
  {
   "cell_type": "markdown",
   "id": "a278e056-7a9c-4555-8412-f743dd5b4ce2",
   "metadata": {},
   "source": [
    "#### 1. AUC"
   ]
  },
  {
   "cell_type": "code",
   "execution_count": 2130,
   "id": "74fdd501-9275-4cbc-b56a-b32151114051",
   "metadata": {},
   "outputs": [
    {
     "name": "stderr",
     "output_type": "stream",
     "text": [
      "/var/folders/rm/zt5_90s5727289mv2gzbkw980000gn/T/ipykernel_27664/266340296.py:3: DeprecationWarning: DataFrameGroupBy.apply operated on the grouping columns. This behavior is deprecated, and in a future version of pandas the grouping columns will be excluded from the operation. Either pass `include_groups=False` to exclude the groupings or explicitly select the grouping columns after groupby to silence this warning.\n",
      "  (df.loc[mask_data, ['time', 'target', 'income_rate', 'y_pred']].groupby(pd.Grouper(key='time', freq='ME')).apply(lambda x:\n"
     ]
    },
    {
     "data": {
      "text/plain": [
       "<Axes: xlabel='time'>"
      ]
     },
     "execution_count": 2130,
     "metadata": {},
     "output_type": "execute_result"
    },
    {
     "data": {
      "image/png": "[encoded data removed]",
      "text/plain": [
       "<Figure size 1000x300 with 1 Axes>"
      ]
     },
     "metadata": {},
     "output_type": "display_data"
    }
   ],
   "source": [
    "mask_data = df['y_pred'].notnull()\n",
    "plt.figure(figsize=(10, 3))\n",
    "(df.loc[mask_data, ['time', 'target', 'income_rate', 'y_pred']].groupby(pd.Grouper(key='time', freq='ME')).apply(lambda x:\n",
    "                                                                            roc_auc_score(x['target'], x['y_pred'])\n",
    "                                                                                                          ) - 0.5).plot.bar()"
   ]
  },
  {
   "cell_type": "code",
   "execution_count": null,
   "id": "1fcf6711-d08c-4919-a075-bb63ee4cb22a",
   "metadata": {},
   "outputs": [],
   "source": []
  },
  {
   "cell_type": "markdown",
   "id": "5c2598bc-cdcc-42dc-9955-ccf11a1f02f6",
   "metadata": {},
   "source": [
    "#### 2. WIN"
   ]
  },
  {
   "cell_type": "code",
   "execution_count": 2134,
   "id": "d9f62890-7f4c-44d2-9fff-007626dca6bc",
   "metadata": {},
   "outputs": [
    {
     "data": {
      "text/plain": [
       "0.2591240486482249"
      ]
     },
     "execution_count": 2134,
     "metadata": {},
     "output_type": "execute_result"
    }
   ],
   "source": [
    "np.quantile(df.loc[mask_valid, 'y_pred'], q=q)"
   ]
  },
  {
   "cell_type": "code",
   "execution_count": null,
   "id": "d43ef797-d8e3-45fa-8552-27872e877aa0",
   "metadata": {},
   "outputs": [],
   "source": []
  },
  {
   "cell_type": "code",
   "execution_count": 2137,
   "id": "cc607b9b-62b2-4cd0-88a0-771a1fb9fd96",
   "metadata": {},
   "outputs": [
    {
     "name": "stderr",
     "output_type": "stream",
     "text": [
      "/var/folders/rm/zt5_90s5727289mv2gzbkw980000gn/T/ipykernel_27664/3266791285.py:8: DeprecationWarning: DataFrameGroupBy.apply operated on the grouping columns. This behavior is deprecated, and in a future version of pandas the grouping columns will be excluded from the operation. Either pass `include_groups=False` to exclude the groupings or explicitly select the grouping columns after groupby to silence this warning.\n",
      "  df.loc[mask_data&mask_last_bin, ['time', 'target', 'income_rate', 'y_pred']].groupby(pd.Grouper(key='time', freq='ME')).apply(lambda x:\n"
     ]
    },
    {
     "data": {
      "text/plain": [
       "<Axes: xlabel='time'>"
      ]
     },
     "execution_count": 2137,
     "metadata": {},
     "output_type": "execute_result"
    },
    {
     "data": {
      "image/png": "[encoded data removed]",
      "text/plain": [
       "<Figure size 1000x300 with 1 Axes>"
      ]
     },
     "metadata": {},
     "output_type": "display_data"
    }
   ],
   "source": [
    "q = 0.99\n",
    "col_target = 'target'\n",
    "\n",
    "mask_last_bin = df['y_pred'] >= np.quantile(df.loc[mask_valid, 'y_pred'], q=q)\n",
    "\n",
    "mask_data = df['y_pred'].notnull()\n",
    "plt.figure(figsize=(10, 3))\n",
    "df.loc[mask_data&mask_last_bin, ['time', 'target', 'income_rate', 'y_pred']].groupby(pd.Grouper(key='time', freq='ME')).apply(lambda x:\n",
    "                                                                            x[col_target].mean()).plot.bar()"
   ]
  },
  {
   "cell_type": "code",
   "execution_count": null,
   "id": "1e77d47c-1a91-4ac0-bdc2-cee52c5acaca",
   "metadata": {},
   "outputs": [],
   "source": []
  },
  {
   "cell_type": "markdown",
   "id": "4cdbfa06-e416-4c44-b069-b91a796e2797",
   "metadata": {},
   "source": [
    "#### 3. income_rate"
   ]
  },
  {
   "cell_type": "code",
   "execution_count": 2141,
   "id": "53a661ed-e318-4eec-9d06-cd8eaa70b1f1",
   "metadata": {},
   "outputs": [
    {
     "name": "stderr",
     "output_type": "stream",
     "text": [
      "/var/folders/rm/zt5_90s5727289mv2gzbkw980000gn/T/ipykernel_27664/2651863704.py:8: DeprecationWarning: DataFrameGroupBy.apply operated on the grouping columns. This behavior is deprecated, and in a future version of pandas the grouping columns will be excluded from the operation. Either pass `include_groups=False` to exclude the groupings or explicitly select the grouping columns after groupby to silence this warning.\n",
      "  (df.loc[mask_data&mask_last_bin, ['time', 'target', 'income_rate', 'y_pred']].groupby(pd.Grouper(key='time', freq='ME')).apply(lambda x:\n"
     ]
    },
    {
     "data": {
      "image/png": "[encoded data removed]",
      "text/plain": [
       "<Figure size 1000x300 with 1 Axes>"
      ]
     },
     "metadata": {},
     "output_type": "display_data"
    }
   ],
   "source": [
    "q = 0.99\n",
    "col_target = 'income_rate'\n",
    "\n",
    "mask_last_bin = df['y_pred'] >= np.quantile(df.loc[mask_valid, 'y_pred'], q=q)\n",
    "\n",
    "mask_data = df['y_pred'].notnull()\n",
    "plt.figure(figsize=(10, 3))\n",
    "(df.loc[mask_data&mask_last_bin, ['time', 'target', 'income_rate', 'y_pred']].groupby(pd.Grouper(key='time', freq='ME')).apply(lambda x:\n",
    "                                                                            x[col_target].mean()) -1).plot.bar()\n",
    "plt.grid()"
   ]
  },
  {
   "cell_type": "code",
   "execution_count": null,
   "id": "8633652d-eca2-44d8-ba23-511f14dfb35f",
   "metadata": {},
   "outputs": [],
   "source": []
  },
  {
   "cell_type": "code",
   "execution_count": null,
   "id": "8b1c3bb0-0a72-4e9a-bb8c-0a3606bb8781",
   "metadata": {},
   "outputs": [],
   "source": []
  },
  {
   "cell_type": "code",
   "execution_count": null,
   "id": "f4462d5b-026e-4bbd-9db9-e4dfa58509ec",
   "metadata": {},
   "outputs": [],
   "source": []
  },
  {
   "cell_type": "code",
   "execution_count": null,
   "id": "2ee621cf-f301-4b5f-abb0-3b7470d81b32",
   "metadata": {},
   "outputs": [],
   "source": []
  },
  {
   "cell_type": "markdown",
   "id": "2702a292-bbaa-41c3-a081-64a7b848242c",
   "metadata": {},
   "source": [
    "#### 4. Отложенная выборка"
   ]
  },
  {
   "cell_type": "code",
   "execution_count": 2148,
   "id": "bc79d9b0-8be7-4f21-9aac-933cda96c2c1",
   "metadata": {},
   "outputs": [
    {
     "data": {
      "image/png": "[encoded data removed]",
      "text/plain": [
       "<Figure size 1000x300 with 2 Axes>"
      ]
     },
     "metadata": {},
     "output_type": "display_data"
    },
    {
     "name": "stdout",
     "output_type": "stream",
     "text": [
      "INCOME_RATE\n"
     ]
    },
    {
     "data": {
      "image/png": "[encoded data removed]",
      "text/plain": [
       "<Figure size 1000x300 with 2 Axes>"
      ]
     },
     "metadata": {},
     "output_type": "display_data"
    }
   ],
   "source": [
    "#distibution in time\n",
    "#win\n",
    "col_pred = 'y_pred'\n",
    "q = 0.99\n",
    "freq='D'\n",
    "\n",
    "mask_data = mask_valid|mask_test|mask_test2|mask_test3\n",
    "\n",
    "threshold = np.quantile(df.loc[mask_valid, col_pred], q=q)\n",
    "mask_last_bin = df[col_pred] >= threshold\n",
    "\n",
    "\n",
    "plt.figure(figsize=(10, 3))\n",
    "df.loc[mask_data&mask_last_bin, ['time', 'target']].groupby(pd.Grouper(key='time', freq=freq)).target.count().plot.bar(sharex=True, color='blue', alpha=0.5, label='count')\n",
    "#plt.show()\n",
    "plt.legend()\n",
    "df.loc[mask_data&mask_last_bin, ['time', 'target']].groupby(pd.Grouper(key='time', freq=freq)).target.mean().plot.bar(sharex=True, color='green', secondary_y=True, alpha=0.5, label='Success Rate')\n",
    "plt.legend()\n",
    "plt.show()\n",
    "\n",
    "\n",
    "#distibution in time\n",
    "#income_rate\n",
    "print('INCOME_RATE')\n",
    "\n",
    "plt.figure(figsize=(10, 3))\n",
    "df.loc[mask_data&mask_last_bin, ['time', 'income_rate']].groupby(pd.Grouper(key='time', freq=freq)).income_rate.count().plot.bar(sharex=True, color='blue', alpha=0.5, label='count')\n",
    "#plt.show()\n",
    "plt.legend()\n",
    "(df.loc[mask_data&mask_last_bin, ['time', 'income_rate']].groupby(pd.Grouper(key='time', freq=freq)).income_rate.mean() - 1).plot.bar(sharex=True, color='green', secondary_y=True, alpha=0.5, label='INCOME_RATE')\n",
    "plt.legend()\n",
    "plt.show()"
   ]
  },
  {
   "cell_type": "code",
   "execution_count": null,
   "id": "9f787ab2-152d-416b-8515-ce2987a032e6",
   "metadata": {},
   "outputs": [],
   "source": []
  },
  {
   "cell_type": "code",
   "execution_count": 2151,
   "id": "5d183a77-259f-4620-847a-7667b1549486",
   "metadata": {},
   "outputs": [],
   "source": [
    "#y_test3"
   ]
  },
  {
   "cell_type": "code",
   "execution_count": 2153,
   "id": "405aec83-d036-4de5-bbd9-2abac93837f4",
   "metadata": {},
   "outputs": [
    {
     "data": {
      "image/png": "[encoded data removed]",
      "text/plain": [
       "<Figure size 1000x300 with 2 Axes>"
      ]
     },
     "metadata": {},
     "output_type": "display_data"
    },
    {
     "name": "stdout",
     "output_type": "stream",
     "text": [
      "INCOME_RATE\n"
     ]
    },
    {
     "data": {
      "image/png": "[encoded data removed]",
      "text/plain": [
       "<Figure size 1000x300 with 2 Axes>"
      ]
     },
     "metadata": {},
     "output_type": "display_data"
    }
   ],
   "source": [
    "#distibution in time\n",
    "#win\n",
    "col_pred = 'y_pred'\n",
    "q = 0.99\n",
    "freq='D'\n",
    "\n",
    "\n",
    "mask_data = mask_test3\n",
    "\n",
    "\n",
    "threshold = np.quantile(df.loc[mask_valid, col_pred], q=q)\n",
    "mask_last_bin = df[col_pred] >= threshold\n",
    "\n",
    "\n",
    "plt.figure(figsize=(10, 3))\n",
    "df.loc[mask_data&mask_last_bin, ['time', 'target']].groupby(pd.Grouper(key='time', freq=freq)).target.count().plot.bar(sharex=True, color='blue', alpha=0.5, label='count')\n",
    "#plt.show()\n",
    "plt.legend()\n",
    "df.loc[mask_data&mask_last_bin, ['time', 'target']].groupby(pd.Grouper(key='time', freq=freq)).target.mean().plot.bar(sharex=True, color='green', secondary_y=True, alpha=0.5, label='Success Rate')\n",
    "plt.legend()\n",
    "plt.show()\n",
    "\n",
    "\n",
    "#distibution in time\n",
    "#income_rate\n",
    "print('INCOME_RATE')\n",
    "\n",
    "plt.figure(figsize=(10, 3))\n",
    "df.loc[mask_data&mask_last_bin, ['time', 'income_rate']].groupby(pd.Grouper(key='time', freq=freq)).income_rate.count().plot.bar(sharex=True, color='blue', alpha=0.5, label='count')\n",
    "#plt.show()\n",
    "plt.legend()\n",
    "(df.loc[mask_data&mask_last_bin, ['time', 'income_rate']].groupby(pd.Grouper(key='time', freq=freq)).income_rate.mean() - 1).plot.bar(sharex=True, color='green', secondary_y=True, alpha=0.5, label='INCOME_RATE')\n",
    "plt.legend()\n",
    "plt.show()"
   ]
  },
  {
   "cell_type": "code",
   "execution_count": null,
   "id": "22564066-cf03-4a25-8ba0-fb3e03aa3b1d",
   "metadata": {},
   "outputs": [],
   "source": []
  },
  {
   "cell_type": "code",
   "execution_count": 2156,
   "id": "31cad36d-28b1-41cb-9915-953b427351da",
   "metadata": {},
   "outputs": [
    {
     "data": {
      "text/plain": [
       "(0.0033925232, 0.0039304667, 0.0036743742)"
      ]
     },
     "execution_count": 2156,
     "metadata": {},
     "output_type": "execute_result"
    }
   ],
   "source": [
    "#mean_income_rate_by_day\n",
    "(df.loc[mask_valid&mask_last_bin, ['time', 'income_rate']].groupby(pd.Grouper(key='time', freq=freq)).income_rate.mean() - 1).mean(), (df.loc[mask_test&mask_last_bin, ['time', 'income_rate']].groupby(pd.Grouper(key='time', freq=freq)).income_rate.mean() - 1).mean(), (df.loc[mask_test2&mask_last_bin, ['time', 'income_rate']].groupby(pd.Grouper(key='time', freq=freq)).income_rate.mean() - 1).mean()\n"
   ]
  },
  {
   "cell_type": "code",
   "execution_count": 2158,
   "id": "24f14eb1-efc4-4b52-8a9d-d6afbf187371",
   "metadata": {},
   "outputs": [
    {
     "data": {
      "text/plain": [
       "(42, 42, 39)"
      ]
     },
     "execution_count": 2158,
     "metadata": {},
     "output_type": "execute_result"
    }
   ],
   "source": [
    "df.loc[mask_valid&mask_last_bin, 'time'].dt.date.nunique(), df.loc[mask_test&mask_last_bin, 'time'].dt.date.nunique(),  df.loc[mask_test2&mask_last_bin, 'time'].dt.date.nunique()\n"
   ]
  },
  {
   "cell_type": "code",
   "execution_count": 2160,
   "id": "c2aa7aa2-dea1-4407-a780-1e510b5881de",
   "metadata": {},
   "outputs": [],
   "source": [
    "threshold = np.quantile(df.loc[mask_valid, 'y_pred'], q=0.99)"
   ]
  },
  {
   "cell_type": "code",
   "execution_count": 2162,
   "id": "8a806b05-bf71-422c-8ed3-63f407b2c94f",
   "metadata": {},
   "outputs": [
    {
     "data": {
      "text/plain": [
       "(0.06965980877478917, 0.08253980102017522, 0.07331658277097483)"
      ]
     },
     "execution_count": 2162,
     "metadata": {},
     "output_type": "execute_result"
    }
   ],
   "source": [
    "#sum_income_rate\n",
    "mean_income_rate_month(D_valid, y_pred_valid, threshold=threshold), mean_income_rate_month(D_test, y_pred_test, threshold=threshold), mean_income_rate_month(D_test2, y_pred_test2, threshold=threshold)"
   ]
  },
  {
   "cell_type": "code",
   "execution_count": null,
   "id": "f05b3d68-25ba-4744-9f10-766e2d9efce2",
   "metadata": {},
   "outputs": [],
   "source": []
  },
  {
   "cell_type": "code",
   "execution_count": 2165,
   "id": "3392a5d1-9168-449f-90f4-d5a66a66f8df",
   "metadata": {},
   "outputs": [
    {
     "data": {
      "text/plain": [
       "0.0019698576"
      ]
     },
     "execution_count": 2165,
     "metadata": {},
     "output_type": "execute_result"
    }
   ],
   "source": [
    "#test3\n",
    "(df.loc[mask_test3&mask_last_bin, ['time', 'income_rate']].groupby(pd.Grouper(key='time', freq=freq)).income_rate.mean() - 1).mean()"
   ]
  },
  {
   "cell_type": "code",
   "execution_count": 2167,
   "id": "2799bbfa-f268-4543-9b8f-58456abe4c4f",
   "metadata": {},
   "outputs": [
    {
     "data": {
      "text/plain": [
       "22"
      ]
     },
     "execution_count": 2167,
     "metadata": {},
     "output_type": "execute_result"
    }
   ],
   "source": [
    "df.loc[mask_test3&mask_last_bin, 'time'].dt.date.nunique()"
   ]
  },
  {
   "cell_type": "code",
   "execution_count": 2169,
   "id": "49de198a-c45d-47a6-a441-6b6b79725846",
   "metadata": {},
   "outputs": [
    {
     "data": {
      "text/plain": [
       "0.035311521548363894"
      ]
     },
     "execution_count": 2169,
     "metadata": {},
     "output_type": "execute_result"
    }
   ],
   "source": [
    "mean_income_rate_month(D_test3, y_pred_test3, threshold=threshold)"
   ]
  },
  {
   "cell_type": "code",
   "execution_count": null,
   "id": "29d760c0-7562-4a79-b953-cf3e4833f1d4",
   "metadata": {},
   "outputs": [],
   "source": []
  },
  {
   "cell_type": "code",
   "execution_count": null,
   "id": "01929370-0fe0-44aa-be66-b211f645940f",
   "metadata": {},
   "outputs": [],
   "source": []
  },
  {
   "cell_type": "code",
   "execution_count": 2173,
   "id": "057cbb39-90fa-4242-bb17-05c01926a9b3",
   "metadata": {},
   "outputs": [],
   "source": [
    "mask_data = mask_valid | mask_test | mask_test2"
   ]
  },
  {
   "cell_type": "code",
   "execution_count": 2175,
   "id": "ebb8ab53-86f8-469d-8fe8-a9f073d52232",
   "metadata": {},
   "outputs": [
    {
     "name": "stderr",
     "output_type": "stream",
     "text": [
      "/var/folders/rm/zt5_90s5727289mv2gzbkw980000gn/T/ipykernel_27664/1640586492.py:3: DeprecationWarning: DataFrameGroupBy.apply operated on the grouping columns. This behavior is deprecated, and in a future version of pandas the grouping columns will be excluded from the operation. Either pass `include_groups=False` to exclude the groupings or explicitly select the grouping columns after groupby to silence this warning.\n",
      "  (df.loc[mask_data&mask_last_bin, ['time', 'income_rate', 'ticker']].groupby(pd.Grouper(key='time', freq='D')).apply(\n"
     ]
    },
    {
     "data": {
      "text/plain": [
       "0.0008289348788377716"
      ]
     },
     "execution_count": 2175,
     "metadata": {},
     "output_type": "execute_result"
    }
   ],
   "source": [
    "n = 0\n",
    "pd.set_option('display.max_rows', 200)\n",
    "(df.loc[mask_data&mask_last_bin, ['time', 'income_rate', 'ticker']].groupby(pd.Grouper(key='time', freq='D')).apply(\n",
    "    lambda x: x['income_rate'].values[n] if x.shape[0] > n else None) - 1).mean()\n"
   ]
  },
  {
   "cell_type": "code",
   "execution_count": null,
   "id": "41166e71-f81f-40df-a954-98c1858e64c4",
   "metadata": {},
   "outputs": [],
   "source": []
  },
  {
   "cell_type": "code",
   "execution_count": 2178,
   "id": "3a73f137-35e0-451e-b84b-4ac0104f4633",
   "metadata": {},
   "outputs": [
    {
     "name": "stderr",
     "output_type": "stream",
     "text": [
      "/var/folders/rm/zt5_90s5727289mv2gzbkw980000gn/T/ipykernel_27664/1656526771.py:3: DeprecationWarning: DataFrameGroupBy.apply operated on the grouping columns. This behavior is deprecated, and in a future version of pandas the grouping columns will be excluded from the operation. Either pass `include_groups=False` to exclude the groupings or explicitly select the grouping columns after groupby to silence this warning.\n",
      "  (df.loc[mask_valid&mask_last_bin, ['time', 'income_rate', 'ticker']].groupby(pd.Grouper(key='time', freq='D')).apply(\n"
     ]
    },
    {
     "data": {
      "text/plain": [
       "0.0005175173282623291"
      ]
     },
     "execution_count": 2178,
     "metadata": {},
     "output_type": "execute_result"
    }
   ],
   "source": [
    "n = 0\n",
    "pd.set_option('display.max_rows', 200)\n",
    "(df.loc[mask_valid&mask_last_bin, ['time', 'income_rate', 'ticker']].groupby(pd.Grouper(key='time', freq='D')).apply(\n",
    "    lambda x: x['income_rate'].values[n] if x.shape[0] > n else None) - 1).mean()"
   ]
  },
  {
   "cell_type": "code",
   "execution_count": 2180,
   "id": "dad5cc31-3d8e-412c-9025-29b134fa6844",
   "metadata": {},
   "outputs": [
    {
     "name": "stderr",
     "output_type": "stream",
     "text": [
      "/var/folders/rm/zt5_90s5727289mv2gzbkw980000gn/T/ipykernel_27664/192763211.py:3: DeprecationWarning: DataFrameGroupBy.apply operated on the grouping columns. This behavior is deprecated, and in a future version of pandas the grouping columns will be excluded from the operation. Either pass `include_groups=False` to exclude the groupings or explicitly select the grouping columns after groupby to silence this warning.\n",
      "  (df.loc[mask_test&mask_last_bin, ['time', 'income_rate', 'ticker']].groupby(pd.Grouper(key='time', freq='D')).apply(\n"
     ]
    },
    {
     "data": {
      "text/plain": [
       "0.0017659252598172142"
      ]
     },
     "execution_count": 2180,
     "metadata": {},
     "output_type": "execute_result"
    }
   ],
   "source": [
    "n = 0\n",
    "pd.set_option('display.max_rows', 200)\n",
    "(df.loc[mask_test&mask_last_bin, ['time', 'income_rate', 'ticker']].groupby(pd.Grouper(key='time', freq='D')).apply(\n",
    "    lambda x: x['income_rate'].values[n] if x.shape[0] > n else None) - 1).mean()"
   ]
  },
  {
   "cell_type": "code",
   "execution_count": 2182,
   "id": "fa644236-9e34-4eb2-8362-cb4692f276d0",
   "metadata": {},
   "outputs": [
    {
     "name": "stderr",
     "output_type": "stream",
     "text": [
      "/var/folders/rm/zt5_90s5727289mv2gzbkw980000gn/T/ipykernel_27664/1559495362.py:3: DeprecationWarning: DataFrameGroupBy.apply operated on the grouping columns. This behavior is deprecated, and in a future version of pandas the grouping columns will be excluded from the operation. Either pass `include_groups=False` to exclude the groupings or explicitly select the grouping columns after groupby to silence this warning.\n",
      "  (df.loc[mask_test2&mask_last_bin, ['time', 'income_rate', 'ticker']].groupby(pd.Grouper(key='time', freq='D')).apply(\n"
     ]
    },
    {
     "data": {
      "text/plain": [
       "0.00015524106147961738"
      ]
     },
     "execution_count": 2182,
     "metadata": {},
     "output_type": "execute_result"
    }
   ],
   "source": [
    "n = 0\n",
    "pd.set_option('display.max_rows', 200)\n",
    "(df.loc[mask_test2&mask_last_bin, ['time', 'income_rate', 'ticker']].groupby(pd.Grouper(key='time', freq='D')).apply(\n",
    "    lambda x: x['income_rate'].values[n] if x.shape[0] > n else None) - 1).mean()"
   ]
  },
  {
   "cell_type": "code",
   "execution_count": 2184,
   "id": "223aa33b-74a5-46e0-bcc4-fbefa23621cf",
   "metadata": {},
   "outputs": [
    {
     "name": "stderr",
     "output_type": "stream",
     "text": [
      "/var/folders/rm/zt5_90s5727289mv2gzbkw980000gn/T/ipykernel_27664/2683039865.py:3: DeprecationWarning: DataFrameGroupBy.apply operated on the grouping columns. This behavior is deprecated, and in a future version of pandas the grouping columns will be excluded from the operation. Either pass `include_groups=False` to exclude the groupings or explicitly select the grouping columns after groupby to silence this warning.\n",
      "  (df.loc[mask_test3&mask_last_bin, ['time', 'income_rate', 'ticker']].groupby(pd.Grouper(key='time', freq='D')).apply(\n"
     ]
    },
    {
     "data": {
      "text/plain": [
       "0.0013936947692524302"
      ]
     },
     "execution_count": 2184,
     "metadata": {},
     "output_type": "execute_result"
    }
   ],
   "source": [
    "n = 0\n",
    "pd.set_option('display.max_rows', 200)\n",
    "(df.loc[mask_test3&mask_last_bin, ['time', 'income_rate', 'ticker']].groupby(pd.Grouper(key='time', freq='D')).apply(\n",
    "    lambda x: x['income_rate'].values[n] if x.shape[0] > n else None) - 1).mean()"
   ]
  },
  {
   "cell_type": "code",
   "execution_count": null,
   "id": "72f1ff81-3171-471f-9699-c7b44726cb89",
   "metadata": {},
   "outputs": [],
   "source": []
  },
  {
   "cell_type": "markdown",
   "id": "a7443577-6fdb-4512-8e05-8eb5f860152f",
   "metadata": {},
   "source": [
    "#### Points in life"
   ]
  },
  {
   "cell_type": "code",
   "execution_count": 2188,
   "id": "6ed08fb7-978d-4b9d-94d3-5e8ab3baaf58",
   "metadata": {},
   "outputs": [
    {
     "data": {
      "text/plain": [
       "0.2591240486482249"
      ]
     },
     "execution_count": 2188,
     "metadata": {},
     "output_type": "execute_result"
    }
   ],
   "source": [
    "threshold"
   ]
  },
  {
   "cell_type": "code",
   "execution_count": 2190,
   "id": "c3cc600e-3940-4824-980d-a067fcabf986",
   "metadata": {},
   "outputs": [
    {
     "name": "stderr",
     "output_type": "stream",
     "text": [
      "/var/folders/rm/zt5_90s5727289mv2gzbkw980000gn/T/ipykernel_27664/1532415291.py:5: DeprecationWarning: DataFrameGroupBy.apply operated on the grouping columns. This behavior is deprecated, and in a future version of pandas the grouping columns will be excluded from the operation. Either pass `include_groups=False` to exclude the groupings or explicitly select the grouping columns after groupby to silence this warning.\n",
      "  df.loc[mask_dev, ['time', 'y_pred']].groupby(pd.Grouper(key='time', freq='D')).apply(\n"
     ]
    },
    {
     "data": {
      "text/plain": [
       "time\n",
       "2025-01-20    66\n",
       "2025-01-21     8\n",
       "2025-01-22     6\n",
       "2025-01-23     1\n",
       "2025-01-24     7\n",
       "2025-01-25     0\n",
       "2025-01-26     0\n",
       "2025-01-27    16\n",
       "2025-01-28     3\n",
       "2025-01-29     1\n",
       "2025-01-30     0\n",
       "2025-01-31     6\n",
       "2025-02-01     0\n",
       "2025-02-02     0\n",
       "2025-02-03    14\n",
       "2025-02-04     9\n",
       "2025-02-05    24\n",
       "2025-02-06    15\n",
       "2025-02-07    17\n",
       "Freq: D, dtype: int64"
      ]
     },
     "execution_count": 2190,
     "metadata": {},
     "output_type": "execute_result"
    }
   ],
   "source": [
    "mask_dev = df['time'] > pd.Timestamp('2025-01-20')\n",
    "df.loc[mask_dev, 'y_pred'] = model.predict(df.loc[mask_dev, features_fe]) #feratures_fe\n",
    "\n",
    "#threshold = 0.5695387939626755\n",
    "df.loc[mask_dev, ['time', 'y_pred']].groupby(pd.Grouper(key='time', freq='D')).apply(\n",
    "    lambda x: (x['y_pred'] >= threshold).sum())"
   ]
  },
  {
   "cell_type": "code",
   "execution_count": null,
   "id": "588603f4-8aef-4a20-94e8-958b045c2b48",
   "metadata": {},
   "outputs": [],
   "source": []
  },
  {
   "cell_type": "code",
   "execution_count": null,
   "id": "c19008bd-b082-411a-8ded-6fe94a3fb6de",
   "metadata": {},
   "outputs": [],
   "source": []
  },
  {
   "cell_type": "code",
   "execution_count": null,
   "id": "34ce3bbd-e0e4-4c4e-8438-59bdf556240c",
   "metadata": {},
   "outputs": [],
   "source": []
  },
  {
   "cell_type": "code",
   "execution_count": null,
   "id": "901fc5b0-9892-4076-9b21-d51afad3172c",
   "metadata": {},
   "outputs": [],
   "source": []
  },
  {
   "cell_type": "code",
   "execution_count": null,
   "id": "428d4d27-f133-4a56-b5e1-f88f96b775ad",
   "metadata": {},
   "outputs": [],
   "source": []
  },
  {
   "cell_type": "markdown",
   "id": "448efed5-0f1c-4814-8083-72d23264f4fa",
   "metadata": {},
   "source": [
    "### Обучить на всем"
   ]
  },
  {
   "cell_type": "code",
   "execution_count": 2198,
   "id": "a3907120-e3a8-45d9-874d-2c4b366f2147",
   "metadata": {},
   "outputs": [],
   "source": [
    "#features_fe"
   ]
  },
  {
   "cell_type": "code",
   "execution_count": 2472,
   "id": "8d1a2c4e-3df7-438f-815f-a0f262b279c5",
   "metadata": {},
   "outputs": [],
   "source": [
    "mask_data = mask_train | mask_valid | mask_test | mask_test2\n",
    "#mask_data = (pd.Timestamp('2024-01-01') <= df['time']) &  (df['time'] < pd.Timestamp('2025-01-01'))\n",
    "#print(mask_data.sum())\n",
    "#mask_data = mask_valid | mask_test | mask_test2\n",
    "#mask_data = mask_test2\n",
    "\n",
    "D_data = lgbm.Dataset(df.loc[mask_data, features_fe], label=df.loc[mask_data, target], feature_name=features_fe, categorical_feature=cat_features, free_raw_data=False)\n",
    "\n",
    "\n",
    "D_data.income_rate = df.loc[mask_data, 'income_rate'].values\n",
    "\n",
    "D_data.time = df.loc[mask_data, 'time'].values"
   ]
  },
  {
   "cell_type": "code",
   "execution_count": null,
   "id": "1d794229-1cd7-41f8-885d-94214a0c820f",
   "metadata": {},
   "outputs": [],
   "source": []
  },
  {
   "cell_type": "code",
   "execution_count": 2475,
   "id": "9736c96d-6f5a-4209-8649-c555a05cd378",
   "metadata": {},
   "outputs": [],
   "source": [
    "D_test3 = lgbm.Dataset(df.loc[mask_test3, features_fe], label=df.loc[mask_test3, target], feature_name=features_fe, categorical_feature=cat_features, free_raw_data=False)\n",
    "D_test3.income_rate = df.loc[mask_test3, 'income_rate'].values\n",
    "D_test3.time = df.loc[mask_test3, 'time'].values"
   ]
  },
  {
   "cell_type": "code",
   "execution_count": 2429,
   "id": "96ff2b46-1dd2-47e1-a0c7-320d67fbf473",
   "metadata": {},
   "outputs": [
    {
     "data": {
      "text/plain": [
       "{'boosting_type': 'gbdt',\n",
       " 'objective': 'binary',\n",
       " 'num_leaves': 5,\n",
       " 'learning_rate': 0.1,\n",
       " 'feature_fraction': 0.5,\n",
       " 'bagging_fraction': 0.3,\n",
       " 'bagging_freq': 1,\n",
       " 'lambda_l1': 1,\n",
       " 'lambda_l2': 1,\n",
       " 'verbose': -1,\n",
       " 'num_boost_round': 17}"
      ]
     },
     "execution_count": 2429,
     "metadata": {},
     "output_type": "execute_result"
    }
   ],
   "source": [
    "params"
   ]
  },
  {
   "cell_type": "code",
   "execution_count": 2431,
   "id": "7e5d8ea7-21ff-4864-a630-39dc4c36f906",
   "metadata": {},
   "outputs": [
    {
     "data": {
      "text/plain": [
       "17"
      ]
     },
     "execution_count": 2431,
     "metadata": {},
     "output_type": "execute_result"
    }
   ],
   "source": [
    "model.num_trees()"
   ]
  },
  {
   "cell_type": "code",
   "execution_count": 2433,
   "id": "8dff733f-638d-46ad-aa9c-276f4ded2db6",
   "metadata": {},
   "outputs": [
    {
     "ename": "KeyError",
     "evalue": "'metric'",
     "output_type": "error",
     "traceback": [
      "\u001b[0;31m---------------------------------------------------------------------------\u001b[0m",
      "\u001b[0;31mKeyError\u001b[0m                                  Traceback (most recent call last)",
      "Cell \u001b[0;32mIn[2433], line 1\u001b[0m\n\u001b[0;32m----> 1\u001b[0m \u001b[38;5;28;01mdel\u001b[39;00m params[\u001b[38;5;124m'\u001b[39m\u001b[38;5;124mmetric\u001b[39m\u001b[38;5;124m'\u001b[39m], params[\u001b[38;5;124m'\u001b[39m\u001b[38;5;124mearly_stopping\u001b[39m\u001b[38;5;124m'\u001b[39m]\n",
      "\u001b[0;31mKeyError\u001b[0m: 'metric'"
     ]
    }
   ],
   "source": [
    "del params['metric'], params['early_stopping']"
   ]
  },
  {
   "cell_type": "code",
   "execution_count": 2435,
   "id": "3d183654-43f9-4347-a757-06c2f6e49c38",
   "metadata": {},
   "outputs": [],
   "source": [
    "params['num_boost_round'] = 17"
   ]
  },
  {
   "cell_type": "code",
   "execution_count": 2437,
   "id": "c749db4c-9630-415c-8700-3b237c11dbd8",
   "metadata": {},
   "outputs": [
    {
     "name": "stderr",
     "output_type": "stream",
     "text": [
      "/opt/anaconda3/lib/python3.12/site-packages/lightgbm/engine.py:204: UserWarning: Found `num_boost_round` in params. Will use it instead of argument\n",
      "  _log_warning(f\"Found `{alias}` in params. Will use it instead of argument\")\n"
     ]
    }
   ],
   "source": [
    "model = lgbm.train(params, train_set=D_data)"
   ]
  },
  {
   "cell_type": "code",
   "execution_count": 2468,
   "id": "82e10941-eaf5-4486-9d87-962ee037f19c",
   "metadata": {},
   "outputs": [
    {
     "data": {
      "text/plain": [
       "17"
      ]
     },
     "execution_count": 2468,
     "metadata": {},
     "output_type": "execute_result"
    }
   ],
   "source": [
    "model.num_trees()"
   ]
  },
  {
   "cell_type": "code",
   "execution_count": 2466,
   "id": "3926196f-39e7-4df1-9f2f-3c284ffe50d5",
   "metadata": {},
   "outputs": [],
   "source": [
    "dump_pkl(model, 'model_-0.5_+1.5_4hour.pkl')"
   ]
  },
  {
   "cell_type": "code",
   "execution_count": null,
   "id": "7122f817-931f-4605-8feb-9bf7668fd1ed",
   "metadata": {},
   "outputs": [],
   "source": []
  },
  {
   "cell_type": "code",
   "execution_count": 2477,
   "id": "7c829283-d438-47dd-a5cf-bb09c695d523",
   "metadata": {},
   "outputs": [
    {
     "data": {
      "text/plain": [
       "0.6437486059475304"
      ]
     },
     "execution_count": 2477,
     "metadata": {},
     "output_type": "execute_result"
    }
   ],
   "source": [
    "y_pred_data= model.predict(D_data.data)\n",
    "\n",
    "\n",
    "df[\"y_pred\"] = None\n",
    "df.loc[mask_data, 'y_pred'] = y_pred_data\n",
    "\n",
    "roc_auc_score(D_data.label, y_pred_data)"
   ]
  },
  {
   "cell_type": "code",
   "execution_count": 2479,
   "id": "9f5f94e7-23c4-4d82-b28a-ea0ce43d10df",
   "metadata": {},
   "outputs": [
    {
     "data": {
      "text/plain": [
       "0.6092218820291359"
      ]
     },
     "execution_count": 2479,
     "metadata": {},
     "output_type": "execute_result"
    }
   ],
   "source": [
    "y_pred_test3 = model.predict(D_test3.data)\n",
    "df.loc[mask_test3, 'y_pred'] = y_pred_test3\n",
    "roc_auc_score(D_test3.label, y_pred_test3)"
   ]
  },
  {
   "cell_type": "code",
   "execution_count": null,
   "id": "08597cc3-e951-4ef2-9103-d45c9b1a7a72",
   "metadata": {},
   "outputs": [],
   "source": []
  },
  {
   "cell_type": "code",
   "execution_count": 2482,
   "id": "7ab82e6d-7840-4d33-93c3-288ebb54afa6",
   "metadata": {},
   "outputs": [
    {
     "data": {
      "text/plain": [
       "0.2591240486482249"
      ]
     },
     "execution_count": 2482,
     "metadata": {},
     "output_type": "execute_result"
    }
   ],
   "source": [
    "THRESHOLD = threshold\n",
    "THRESHOLD"
   ]
  },
  {
   "cell_type": "code",
   "execution_count": 2484,
   "id": "9966505c-be89-420f-9473-9ff9aee3ee02",
   "metadata": {},
   "outputs": [
    {
     "data": {
      "text/plain": [
       "0.0022094249725341797"
      ]
     },
     "execution_count": 2484,
     "metadata": {},
     "output_type": "execute_result"
    }
   ],
   "source": [
    "mean_income_rate_point(D_data, y_pred_data, threshold=THRESHOLD)"
   ]
  },
  {
   "cell_type": "code",
   "execution_count": 2486,
   "id": "dc07f4fc-ba5b-491f-abb5-175e37c2e75e",
   "metadata": {},
   "outputs": [
    {
     "data": {
      "text/plain": [
       "0.003565999"
      ]
     },
     "execution_count": 2486,
     "metadata": {},
     "output_type": "execute_result"
    }
   ],
   "source": [
    "mean_income_rate_day(D_data, y_pred_data, threshold=THRESHOLD)"
   ]
  },
  {
   "cell_type": "code",
   "execution_count": 2488,
   "id": "1abcbc21-0303-4b5b-9896-efa79688e5fd",
   "metadata": {},
   "outputs": [
    {
     "data": {
      "text/plain": [
       "0.06537664798088372"
      ]
     },
     "execution_count": 2488,
     "metadata": {},
     "output_type": "execute_result"
    }
   ],
   "source": [
    "mean_income_rate_month(D_data, y_pred_data, threshold=THRESHOLD)"
   ]
  },
  {
   "cell_type": "code",
   "execution_count": null,
   "id": "d852ed36-4d07-4f40-845a-280e82bd3f8f",
   "metadata": {},
   "outputs": [],
   "source": []
  },
  {
   "cell_type": "code",
   "execution_count": 2491,
   "id": "033ee033-53a5-4289-b2bd-51e8994739ba",
   "metadata": {},
   "outputs": [
    {
     "data": {
      "text/plain": [
       "0.0008516311645507812"
      ]
     },
     "execution_count": 2491,
     "metadata": {},
     "output_type": "execute_result"
    }
   ],
   "source": [
    "mean_income_rate_point(D_test3, y_pred_test3, threshold=THRESHOLD)"
   ]
  },
  {
   "cell_type": "code",
   "execution_count": 2492,
   "id": "8e2c31d3-c0c8-41c1-b9a2-7dc7cf7fbd45",
   "metadata": {},
   "outputs": [
    {
     "data": {
      "text/plain": [
       "0.0027811702"
      ]
     },
     "execution_count": 2492,
     "metadata": {},
     "output_type": "execute_result"
    }
   ],
   "source": [
    "mean_income_rate_day(D_test3, y_pred_test3, threshold=THRESHOLD)"
   ]
  },
  {
   "cell_type": "code",
   "execution_count": 2493,
   "id": "2663baf6-ad00-4020-b588-15a140b2a1f9",
   "metadata": {},
   "outputs": [
    {
     "data": {
      "text/plain": [
       "0.05438732811146312"
      ]
     },
     "execution_count": 2493,
     "metadata": {},
     "output_type": "execute_result"
    }
   ],
   "source": [
    "mean_income_rate_month(D_test3, y_pred_test3, threshold=THRESHOLD)"
   ]
  },
  {
   "cell_type": "code",
   "execution_count": 2497,
   "id": "6897d987-94af-43ef-9178-91c730c625fe",
   "metadata": {},
   "outputs": [],
   "source": [
    "# +-"
   ]
  },
  {
   "cell_type": "code",
   "execution_count": 2499,
   "id": "34f8e7c7-785b-4dc3-8f47-b6218b70a773",
   "metadata": {},
   "outputs": [
    {
     "data": {
      "image/png": "[encoded data removed]",
      "text/plain": [
       "<Figure size 1000x300 with 2 Axes>"
      ]
     },
     "metadata": {},
     "output_type": "display_data"
    },
    {
     "name": "stdout",
     "output_type": "stream",
     "text": [
      "INCOME_RATE\n"
     ]
    },
    {
     "data": {
      "image/png": "[encoded data removed]",
      "text/plain": [
       "<Figure size 1000x300 with 2 Axes>"
      ]
     },
     "metadata": {},
     "output_type": "display_data"
    }
   ],
   "source": [
    "#distibution in time\n",
    "#win\n",
    "col_pred = 'y_pred'\n",
    "freq='D'\n",
    "\n",
    "\n",
    "mask_data = mask_test3\n",
    "\n",
    "\n",
    "#threshold = np.quantile(df.loc[mask_valid, col_pred], q=q)\n",
    "mask_last_bin = df[col_pred] > THRESHOLD\n",
    "\n",
    "\n",
    "plt.figure(figsize=(10, 3))\n",
    "df.loc[mask_data&mask_last_bin, ['time', 'target']].groupby(pd.Grouper(key='time', freq=freq)).target.count().plot.bar(sharex=True, color='blue', alpha=0.5, label='count')\n",
    "#plt.show()\n",
    "plt.legend()\n",
    "df.loc[mask_data&mask_last_bin, ['time', 'target']].groupby(pd.Grouper(key='time', freq=freq)).target.mean().plot.bar(sharex=True, color='green', secondary_y=True, alpha=0.5, label='Success Rate')\n",
    "plt.legend()\n",
    "plt.show()\n",
    "\n",
    "\n",
    "#distibution in time\n",
    "#income_rate\n",
    "print('INCOME_RATE')\n",
    "\n",
    "plt.figure(figsize=(10, 3))\n",
    "df.loc[mask_data&mask_last_bin, ['time', 'income_rate']].groupby(pd.Grouper(key='time', freq=freq)).income_rate.count().plot.bar(sharex=True, color='blue', alpha=0.5, label='count')\n",
    "#plt.show()\n",
    "plt.legend()\n",
    "(df.loc[mask_data&mask_last_bin, ['time', 'income_rate']].groupby(pd.Grouper(key='time', freq=freq)).income_rate.mean() - 1).plot.bar(sharex=True, color='green', secondary_y=True, alpha=0.5, label='INCOME_RATE')\n",
    "plt.legend()\n",
    "plt.show()"
   ]
  },
  {
   "cell_type": "code",
   "execution_count": null,
   "id": "060deefd-7d55-4adb-8663-364906f897bf",
   "metadata": {},
   "outputs": [],
   "source": []
  },
  {
   "cell_type": "code",
   "execution_count": null,
   "id": "94a6d400-e67c-417b-8324-6e526df1ce8d",
   "metadata": {},
   "outputs": [],
   "source": []
  },
  {
   "cell_type": "code",
   "execution_count": 3,
   "id": "b06acd12-4842-4eef-a96e-6e3a96fc4367",
   "metadata": {},
   "outputs": [
    {
     "name": "stdout",
     "output_type": "stream",
     "text": [
      "0\n",
      "1\n",
      "2\n",
      "3\n",
      "4\n",
      "5\n",
      "6\n",
      "7\n",
      "8\n",
      "9\n",
      "10\n",
      "11\n",
      "12\n",
      "13\n",
      "14\n",
      "15\n",
      "16\n",
      "17\n",
      "18\n",
      "19\n",
      "20\n",
      "21\n",
      "22\n",
      "23\n",
      "24\n",
      "25\n",
      "26\n",
      "27\n",
      "28\n",
      "29\n",
      "30\n",
      "31\n",
      "32\n",
      "33\n",
      "34\n",
      "35\n",
      "36\n",
      "37\n",
      "38\n",
      "39\n",
      "40\n",
      "41\n",
      "42\n",
      "43\n",
      "44\n",
      "45\n",
      "46\n",
      "47\n",
      "48\n",
      "49\n",
      "50\n",
      "51\n",
      "52\n",
      "53\n",
      "54\n",
      "55\n",
      "56\n",
      "57\n",
      "58\n",
      "59\n",
      "60\n",
      "61\n",
      "62\n",
      "63\n",
      "64\n",
      "65\n",
      "66\n",
      "67\n",
      "68\n",
      "69\n",
      "70\n",
      "71\n",
      "72\n",
      "73\n",
      "74\n",
      "75\n",
      "76\n",
      "77\n",
      "78\n",
      "79\n",
      "80\n",
      "81\n",
      "82\n",
      "83\n",
      "84\n",
      "85\n",
      "86\n",
      "87\n",
      "88\n",
      "89\n",
      "90\n",
      "91\n",
      "92\n",
      "93\n",
      "94\n",
      "95\n",
      "96\n",
      "97\n",
      "98\n",
      "99\n"
     ]
    }
   ],
   "source": [
    "import time\n",
    "for i in range(100):\n",
    "    print(i)\n",
    "    time.sleep(1)"
   ]
  },
  {
   "cell_type": "code",
   "execution_count": null,
   "id": "87e5b327-16cd-467a-b4a7-f990d9fd2409",
   "metadata": {},
   "outputs": [],
   "source": []
  }
 ],
 "metadata": {
  "accelerator": "GPU",
  "colab": {
   "gpuType": "T4",
   "provenance": []
  },
  "kernelspec": {
   "display_name": "Python 3 (ipykernel)",
   "language": "python",
   "name": "python3"
  },
  "language_info": {
   "codemirror_mode": {
    "name": "ipython",
    "version": 3
   },
   "file_extension": ".py",
   "mimetype": "text/x-python",
   "name": "python",
   "nbconvert_exporter": "python",
   "pygments_lexer": "ipython3",
   "version": "3.12.7"
  }
 },
 "nbformat": 4,
 "nbformat_minor": 5
}
