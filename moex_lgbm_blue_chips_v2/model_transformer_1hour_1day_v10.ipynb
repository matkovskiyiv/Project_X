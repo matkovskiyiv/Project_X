{
 "cells": [
  {
   "cell_type": "code",
   "execution_count": 1,
   "id": "d6e30ae7-7754-45c6-8ab7-f0faf1d303cb",
   "metadata": {
    "id": "d6e30ae7-7754-45c6-8ab7-f0faf1d303cb"
   },
   "outputs": [],
   "source": [
    "import numpy as np\n",
    "import pandas as pd\n",
    "from tqdm import tqdm\n",
    "import random\n",
    "import matplotlib.pyplot as plt\n",
    "import seaborn as sns\n",
    "import datetime\n",
    "import math\n",
    "import gc\n",
    "\n",
    "from sklearn.metrics import roc_auc_score\n",
    "\n",
    "import pickle\n",
    "def dump_pkl(data, filename):\n",
    "  with open(filename, 'wb') as handle:\n",
    "    pickle.dump(data, handle, protocol=pickle.HIGHEST_PROTOCOL)\n",
    "\n",
    "def load_pkl(filename):\n",
    "  with open(filename, 'rb') as handle:\n",
    "    data = pickle.load(handle)\n",
    "  return data"
   ]
  },
  {
   "cell_type": "code",
   "execution_count": null,
   "id": "qirDY6OVczYo",
   "metadata": {
    "id": "qirDY6OVczYo"
   },
   "outputs": [],
   "source": []
  },
  {
   "cell_type": "code",
   "execution_count": null,
   "id": "f33837fa-b1a1-4457-8760-12875c46470c",
   "metadata": {},
   "outputs": [],
   "source": []
  },
  {
   "cell_type": "code",
   "execution_count": null,
   "id": "aaaec63d-9f8a-4fe4-8de7-95f0e2b42a97",
   "metadata": {
    "id": "aaaec63d-9f8a-4fe4-8de7-95f0e2b42a97"
   },
   "outputs": [],
   "source": []
  },
  {
   "cell_type": "markdown",
   "id": "9dfe8d80-f431-4f2e-8908-df724266bccb",
   "metadata": {
    "id": "9dfe8d80-f431-4f2e-8908-df724266bccb"
   },
   "source": [
    "### 3. train/valid/test split"
   ]
  },
  {
   "cell_type": "code",
   "execution_count": 3,
   "id": "JhnLos7mnrY3",
   "metadata": {
    "colab": {
     "base_uri": "https://localhost:8080/"
    },
    "id": "JhnLos7mnrY3",
    "outputId": "d68a56b3-8db6-4062-9108-05797a59fc75"
   },
   "outputs": [],
   "source": [
    "# %%time\n",
    "# import zipfile\n",
    "# import requests\n",
    "# import os\n",
    "# import io\n",
    "# from urllib.parse import urlencode\n",
    "\n",
    "# def download_and_unzip(load_from):\n",
    "#   base_url = 'https://cloud-api.yandex.net/v1/disk/public/resources/download?'\n",
    "\n",
    "#   # Получаем загрузочную ссылку\n",
    "#   final_url = base_url + urlencode(dict(public_key=load_from))\n",
    "#   try:\n",
    "#     response = requests.get(final_url)\n",
    "#     download_url = response.json()['href']\n",
    "\n",
    "#     # Загружаем файл и сохраняем его\n",
    "#     download_response = requests.get(download_url)\n",
    "#     print('Success! The data has been loaded')\n",
    "#   except:\n",
    "#     \"Could not load the content of the URL\"\n",
    "\n",
    "#   print(\"Unpacking the data...\")\n",
    "#   try:\n",
    "#     extract_to = os.getcwd()\n",
    "\n",
    "#     z = zipfile.ZipFile(io.BytesIO(download_response.content))\n",
    "#     z.extractall(extract_to)\n",
    "#     print(f'Done! The data is available here {extract_to}')\n",
    "#   except:\n",
    "#     \"Error occured while extracting the data\"\n",
    "\n",
    "\n",
    "# public_key1 = \"https://disk.yandex.ru/d/OfoaPgxhe-DWlQ\"\n",
    "# folder_name1 = \"data\"\n",
    "# asset_zip_path1 = os.path.join(os.getcwd(), f\"{folder_name1}.zip\")\n",
    "\n",
    "\n",
    "# # Download if assest ZIP does not exists.\n",
    "# if not os.path.exists(asset_zip_path1):\n",
    "#     download_and_unzip(public_key1)\n"
   ]
  },
  {
   "cell_type": "code",
   "execution_count": 4,
   "id": "abae8128-7f9c-4e0c-bcfc-38c3f6a7c7b1",
   "metadata": {
    "id": "abae8128-7f9c-4e0c-bcfc-38c3f6a7c7b1"
   },
   "outputs": [],
   "source": [
    "# df_1min = load_pkl('./data/data_shift_time_1min.pkl')\n",
    "# df_5min = load_pkl('./data/data_shift_time_5min.pkl')\n",
    "# df_1hour = load_pkl('./data/data_shift_time_1hour.pkl')\n",
    "# df_1day = load_pkl('./data/data_shift_time_1day.pkl')\n",
    "\n",
    "df_1min = load_pkl('experiments/feat_engin/data/data_shift_time_1min.pkl')\n",
    "df_5min = load_pkl('experiments/feat_engin/data/data_shift_time_5min.pkl')\n",
    "df_1hour = load_pkl('experiments/feat_engin/data/data_shift_time_1hour.pkl')\n",
    "df_1day = load_pkl('experiments/feat_engin/data/data_shift_time_1day.pkl')\n"
   ]
  },
  {
   "cell_type": "code",
   "execution_count": 5,
   "id": "ff72e613-5253-48ba-a99e-40049a4b1f82",
   "metadata": {
    "colab": {
     "base_uri": "https://localhost:8080/",
     "height": 374
    },
    "id": "ff72e613-5253-48ba-a99e-40049a4b1f82",
    "outputId": "06864372-a6b5-4a2b-91e3-8c09a350677a"
   },
   "outputs": [
    {
     "data": {
      "text/html": [
       "<div>\n",
       "<style scoped>\n",
       "    .dataframe tbody tr th:only-of-type {\n",
       "        vertical-align: middle;\n",
       "    }\n",
       "\n",
       "    .dataframe tbody tr th {\n",
       "        vertical-align: top;\n",
       "    }\n",
       "\n",
       "    .dataframe thead th {\n",
       "        text-align: right;\n",
       "    }\n",
       "</style>\n",
       "<table border=\"1\" class=\"dataframe\">\n",
       "  <thead>\n",
       "    <tr style=\"text-align: right;\">\n",
       "      <th></th>\n",
       "      <th>time</th>\n",
       "      <th>close</th>\n",
       "      <th>volume</th>\n",
       "      <th>ticker</th>\n",
       "      <th>index_1min_start</th>\n",
       "      <th>index_5min</th>\n",
       "      <th>index_start_5min</th>\n",
       "      <th>index_1hour</th>\n",
       "      <th>index_start_1hour</th>\n",
       "      <th>index_1day</th>\n",
       "      <th>...</th>\n",
       "      <th>close_w30_rsi</th>\n",
       "      <th>close_w30_roc</th>\n",
       "      <th>close_w30_diff</th>\n",
       "      <th>volume_w30_ma</th>\n",
       "      <th>volume_w30_std</th>\n",
       "      <th>volume_w30_min</th>\n",
       "      <th>volume_w30_max</th>\n",
       "      <th>volume_w30_rsi</th>\n",
       "      <th>volume_w30_roc</th>\n",
       "      <th>volume_w30_diff</th>\n",
       "    </tr>\n",
       "    <tr>\n",
       "      <th>index</th>\n",
       "      <th></th>\n",
       "      <th></th>\n",
       "      <th></th>\n",
       "      <th></th>\n",
       "      <th></th>\n",
       "      <th></th>\n",
       "      <th></th>\n",
       "      <th></th>\n",
       "      <th></th>\n",
       "      <th></th>\n",
       "      <th></th>\n",
       "      <th></th>\n",
       "      <th></th>\n",
       "      <th></th>\n",
       "      <th></th>\n",
       "      <th></th>\n",
       "      <th></th>\n",
       "      <th></th>\n",
       "      <th></th>\n",
       "      <th></th>\n",
       "      <th></th>\n",
       "    </tr>\n",
       "  </thead>\n",
       "  <tbody>\n",
       "    <tr>\n",
       "      <th>0</th>\n",
       "      <td>2022-10-03 10:01:00</td>\n",
       "      <td>219.929993</td>\n",
       "      <td>87793.0</td>\n",
       "      <td>GAZP</td>\n",
       "      <td>0.0</td>\n",
       "      <td>NaN</td>\n",
       "      <td>NaN</td>\n",
       "      <td>NaN</td>\n",
       "      <td>NaN</td>\n",
       "      <td>NaN</td>\n",
       "      <td>...</td>\n",
       "      <td>NaN</td>\n",
       "      <td>NaN</td>\n",
       "      <td>NaN</td>\n",
       "      <td>87793.000000</td>\n",
       "      <td>NaN</td>\n",
       "      <td>87793.0</td>\n",
       "      <td>87793.0</td>\n",
       "      <td>NaN</td>\n",
       "      <td>NaN</td>\n",
       "      <td>NaN</td>\n",
       "    </tr>\n",
       "    <tr>\n",
       "      <th>1</th>\n",
       "      <td>2022-10-03 10:02:00</td>\n",
       "      <td>220.080002</td>\n",
       "      <td>61549.0</td>\n",
       "      <td>GAZP</td>\n",
       "      <td>0.0</td>\n",
       "      <td>NaN</td>\n",
       "      <td>NaN</td>\n",
       "      <td>NaN</td>\n",
       "      <td>NaN</td>\n",
       "      <td>NaN</td>\n",
       "      <td>...</td>\n",
       "      <td>100.000000</td>\n",
       "      <td>NaN</td>\n",
       "      <td>NaN</td>\n",
       "      <td>74671.000000</td>\n",
       "      <td>18557.310547</td>\n",
       "      <td>61549.0</td>\n",
       "      <td>87793.0</td>\n",
       "      <td>0.000000</td>\n",
       "      <td>NaN</td>\n",
       "      <td>NaN</td>\n",
       "    </tr>\n",
       "    <tr>\n",
       "      <th>2</th>\n",
       "      <td>2022-10-03 10:03:00</td>\n",
       "      <td>219.339996</td>\n",
       "      <td>52640.0</td>\n",
       "      <td>GAZP</td>\n",
       "      <td>0.0</td>\n",
       "      <td>NaN</td>\n",
       "      <td>NaN</td>\n",
       "      <td>NaN</td>\n",
       "      <td>NaN</td>\n",
       "      <td>NaN</td>\n",
       "      <td>...</td>\n",
       "      <td>16.853933</td>\n",
       "      <td>NaN</td>\n",
       "      <td>NaN</td>\n",
       "      <td>67327.335938</td>\n",
       "      <td>18274.988281</td>\n",
       "      <td>52640.0</td>\n",
       "      <td>87793.0</td>\n",
       "      <td>0.000000</td>\n",
       "      <td>NaN</td>\n",
       "      <td>NaN</td>\n",
       "    </tr>\n",
       "    <tr>\n",
       "      <th>3</th>\n",
       "      <td>2022-10-03 10:04:00</td>\n",
       "      <td>218.960007</td>\n",
       "      <td>61506.0</td>\n",
       "      <td>GAZP</td>\n",
       "      <td>0.0</td>\n",
       "      <td>NaN</td>\n",
       "      <td>NaN</td>\n",
       "      <td>NaN</td>\n",
       "      <td>NaN</td>\n",
       "      <td>NaN</td>\n",
       "      <td>...</td>\n",
       "      <td>11.811024</td>\n",
       "      <td>NaN</td>\n",
       "      <td>NaN</td>\n",
       "      <td>65872.000000</td>\n",
       "      <td>15202.701172</td>\n",
       "      <td>52640.0</td>\n",
       "      <td>87793.0</td>\n",
       "      <td>20.141302</td>\n",
       "      <td>NaN</td>\n",
       "      <td>NaN</td>\n",
       "    </tr>\n",
       "    <tr>\n",
       "      <th>4</th>\n",
       "      <td>2022-10-03 10:05:00</td>\n",
       "      <td>218.300003</td>\n",
       "      <td>51464.0</td>\n",
       "      <td>GAZP</td>\n",
       "      <td>0.0</td>\n",
       "      <td>0.0</td>\n",
       "      <td>0.0</td>\n",
       "      <td>NaN</td>\n",
       "      <td>NaN</td>\n",
       "      <td>NaN</td>\n",
       "      <td>...</td>\n",
       "      <td>7.772021</td>\n",
       "      <td>NaN</td>\n",
       "      <td>NaN</td>\n",
       "      <td>62990.398438</td>\n",
       "      <td>14658.092773</td>\n",
       "      <td>51464.0</td>\n",
       "      <td>87793.0</td>\n",
       "      <td>16.399992</td>\n",
       "      <td>NaN</td>\n",
       "      <td>NaN</td>\n",
       "    </tr>\n",
       "  </tbody>\n",
       "</table>\n",
       "<p>5 rows × 47 columns</p>\n",
       "</div>"
      ],
      "text/plain": [
       "                     time       close   volume ticker  index_1min_start  \\\n",
       "index                                                                     \n",
       "0     2022-10-03 10:01:00  219.929993  87793.0   GAZP               0.0   \n",
       "1     2022-10-03 10:02:00  220.080002  61549.0   GAZP               0.0   \n",
       "2     2022-10-03 10:03:00  219.339996  52640.0   GAZP               0.0   \n",
       "3     2022-10-03 10:04:00  218.960007  61506.0   GAZP               0.0   \n",
       "4     2022-10-03 10:05:00  218.300003  51464.0   GAZP               0.0   \n",
       "\n",
       "       index_5min  index_start_5min  index_1hour  index_start_1hour  \\\n",
       "index                                                                 \n",
       "0             NaN               NaN          NaN                NaN   \n",
       "1             NaN               NaN          NaN                NaN   \n",
       "2             NaN               NaN          NaN                NaN   \n",
       "3             NaN               NaN          NaN                NaN   \n",
       "4             0.0               0.0          NaN                NaN   \n",
       "\n",
       "       index_1day  ...  close_w30_rsi close_w30_roc close_w30_diff  \\\n",
       "index              ...                                               \n",
       "0             NaN  ...            NaN           NaN            NaN   \n",
       "1             NaN  ...     100.000000           NaN            NaN   \n",
       "2             NaN  ...      16.853933           NaN            NaN   \n",
       "3             NaN  ...      11.811024           NaN            NaN   \n",
       "4             NaN  ...       7.772021           NaN            NaN   \n",
       "\n",
       "       volume_w30_ma  volume_w30_std  volume_w30_min  volume_w30_max  \\\n",
       "index                                                                  \n",
       "0       87793.000000             NaN         87793.0         87793.0   \n",
       "1       74671.000000    18557.310547         61549.0         87793.0   \n",
       "2       67327.335938    18274.988281         52640.0         87793.0   \n",
       "3       65872.000000    15202.701172         52640.0         87793.0   \n",
       "4       62990.398438    14658.092773         51464.0         87793.0   \n",
       "\n",
       "       volume_w30_rsi  volume_w30_roc  volume_w30_diff  \n",
       "index                                                   \n",
       "0                 NaN             NaN              NaN  \n",
       "1            0.000000             NaN              NaN  \n",
       "2            0.000000             NaN              NaN  \n",
       "3           20.141302             NaN              NaN  \n",
       "4           16.399992             NaN              NaN  \n",
       "\n",
       "[5 rows x 47 columns]"
      ]
     },
     "execution_count": 5,
     "metadata": {},
     "output_type": "execute_result"
    }
   ],
   "source": [
    "df_1min.head()"
   ]
  },
  {
   "cell_type": "code",
   "execution_count": 6,
   "id": "d908e8f0-e702-49b7-9ddb-522b9cf3aeff",
   "metadata": {
    "colab": {
     "base_uri": "https://localhost:8080/",
     "height": 374
    },
    "id": "d908e8f0-e702-49b7-9ddb-522b9cf3aeff",
    "outputId": "9711e34f-ca22-4ec8-8a7d-a85cb876e5c1"
   },
   "outputs": [
    {
     "data": {
      "text/html": [
       "<div>\n",
       "<style scoped>\n",
       "    .dataframe tbody tr th:only-of-type {\n",
       "        vertical-align: middle;\n",
       "    }\n",
       "\n",
       "    .dataframe tbody tr th {\n",
       "        vertical-align: top;\n",
       "    }\n",
       "\n",
       "    .dataframe thead th {\n",
       "        text-align: right;\n",
       "    }\n",
       "</style>\n",
       "<table border=\"1\" class=\"dataframe\">\n",
       "  <thead>\n",
       "    <tr style=\"text-align: right;\">\n",
       "      <th></th>\n",
       "      <th>time</th>\n",
       "      <th>close_5min</th>\n",
       "      <th>volume_5min</th>\n",
       "      <th>ticker</th>\n",
       "      <th>close_5min_w1_roc</th>\n",
       "      <th>close_5min_w1_diff</th>\n",
       "      <th>volume_5min_w1_roc</th>\n",
       "      <th>volume_5min_w1_diff</th>\n",
       "      <th>close_5min_w6_ma</th>\n",
       "      <th>close_5min_w6_std</th>\n",
       "      <th>...</th>\n",
       "      <th>close_5min_w12_rsi</th>\n",
       "      <th>close_5min_w12_roc</th>\n",
       "      <th>close_5min_w12_diff</th>\n",
       "      <th>volume_5min_w12_ma</th>\n",
       "      <th>volume_5min_w12_std</th>\n",
       "      <th>volume_5min_w12_min</th>\n",
       "      <th>volume_5min_w12_max</th>\n",
       "      <th>volume_5min_w12_rsi</th>\n",
       "      <th>volume_5min_w12_roc</th>\n",
       "      <th>volume_5min_w12_diff</th>\n",
       "    </tr>\n",
       "    <tr>\n",
       "      <th>index</th>\n",
       "      <th></th>\n",
       "      <th></th>\n",
       "      <th></th>\n",
       "      <th></th>\n",
       "      <th></th>\n",
       "      <th></th>\n",
       "      <th></th>\n",
       "      <th></th>\n",
       "      <th></th>\n",
       "      <th></th>\n",
       "      <th></th>\n",
       "      <th></th>\n",
       "      <th></th>\n",
       "      <th></th>\n",
       "      <th></th>\n",
       "      <th></th>\n",
       "      <th></th>\n",
       "      <th></th>\n",
       "      <th></th>\n",
       "      <th></th>\n",
       "      <th></th>\n",
       "    </tr>\n",
       "  </thead>\n",
       "  <tbody>\n",
       "    <tr>\n",
       "      <th>0</th>\n",
       "      <td>2022-10-03 10:05:00</td>\n",
       "      <td>218.300003</td>\n",
       "      <td>314952.0</td>\n",
       "      <td>GAZP</td>\n",
       "      <td>NaN</td>\n",
       "      <td>NaN</td>\n",
       "      <td>NaN</td>\n",
       "      <td>NaN</td>\n",
       "      <td>218.300003</td>\n",
       "      <td>NaN</td>\n",
       "      <td>...</td>\n",
       "      <td>NaN</td>\n",
       "      <td>NaN</td>\n",
       "      <td>NaN</td>\n",
       "      <td>314952.000000</td>\n",
       "      <td>NaN</td>\n",
       "      <td>314952.0</td>\n",
       "      <td>314952.0</td>\n",
       "      <td>NaN</td>\n",
       "      <td>NaN</td>\n",
       "      <td>NaN</td>\n",
       "    </tr>\n",
       "    <tr>\n",
       "      <th>1</th>\n",
       "      <td>2022-10-03 10:10:00</td>\n",
       "      <td>218.050003</td>\n",
       "      <td>182525.0</td>\n",
       "      <td>GAZP</td>\n",
       "      <td>-0.001145</td>\n",
       "      <td>-0.25</td>\n",
       "      <td>-0.420467</td>\n",
       "      <td>-132427.0</td>\n",
       "      <td>218.175003</td>\n",
       "      <td>0.176777</td>\n",
       "      <td>...</td>\n",
       "      <td>0.000000</td>\n",
       "      <td>NaN</td>\n",
       "      <td>NaN</td>\n",
       "      <td>248738.500000</td>\n",
       "      <td>93640.031250</td>\n",
       "      <td>182525.0</td>\n",
       "      <td>314952.0</td>\n",
       "      <td>0.000000</td>\n",
       "      <td>NaN</td>\n",
       "      <td>NaN</td>\n",
       "    </tr>\n",
       "    <tr>\n",
       "      <th>2</th>\n",
       "      <td>2022-10-03 10:15:00</td>\n",
       "      <td>215.860001</td>\n",
       "      <td>193758.0</td>\n",
       "      <td>GAZP</td>\n",
       "      <td>-0.010044</td>\n",
       "      <td>-2.19</td>\n",
       "      <td>0.061542</td>\n",
       "      <td>11233.0</td>\n",
       "      <td>217.403336</td>\n",
       "      <td>1.342398</td>\n",
       "      <td>...</td>\n",
       "      <td>0.000000</td>\n",
       "      <td>NaN</td>\n",
       "      <td>NaN</td>\n",
       "      <td>230411.671875</td>\n",
       "      <td>73429.187500</td>\n",
       "      <td>182525.0</td>\n",
       "      <td>314952.0</td>\n",
       "      <td>7.819156</td>\n",
       "      <td>NaN</td>\n",
       "      <td>NaN</td>\n",
       "    </tr>\n",
       "    <tr>\n",
       "      <th>3</th>\n",
       "      <td>2022-10-03 10:20:00</td>\n",
       "      <td>216.850006</td>\n",
       "      <td>91747.0</td>\n",
       "      <td>GAZP</td>\n",
       "      <td>0.004586</td>\n",
       "      <td>0.99</td>\n",
       "      <td>-0.526487</td>\n",
       "      <td>-102011.0</td>\n",
       "      <td>217.264999</td>\n",
       "      <td>1.130442</td>\n",
       "      <td>...</td>\n",
       "      <td>28.862974</td>\n",
       "      <td>NaN</td>\n",
       "      <td>NaN</td>\n",
       "      <td>195745.500000</td>\n",
       "      <td>91659.898438</td>\n",
       "      <td>91747.0</td>\n",
       "      <td>314952.0</td>\n",
       "      <td>4.572375</td>\n",
       "      <td>NaN</td>\n",
       "      <td>NaN</td>\n",
       "    </tr>\n",
       "    <tr>\n",
       "      <th>4</th>\n",
       "      <td>2022-10-03 10:25:00</td>\n",
       "      <td>216.580002</td>\n",
       "      <td>52824.0</td>\n",
       "      <td>GAZP</td>\n",
       "      <td>-0.001245</td>\n",
       "      <td>-0.27</td>\n",
       "      <td>-0.424243</td>\n",
       "      <td>-38923.0</td>\n",
       "      <td>217.128006</td>\n",
       "      <td>1.025802</td>\n",
       "      <td>...</td>\n",
       "      <td>26.756756</td>\n",
       "      <td>NaN</td>\n",
       "      <td>NaN</td>\n",
       "      <td>167161.203125</td>\n",
       "      <td>101914.000000</td>\n",
       "      <td>52824.0</td>\n",
       "      <td>314952.0</td>\n",
       "      <td>3.947026</td>\n",
       "      <td>NaN</td>\n",
       "      <td>NaN</td>\n",
       "    </tr>\n",
       "  </tbody>\n",
       "</table>\n",
       "<p>5 rows × 36 columns</p>\n",
       "</div>"
      ],
      "text/plain": [
       "                     time  close_5min  volume_5min ticker  close_5min_w1_roc  \\\n",
       "index                                                                          \n",
       "0     2022-10-03 10:05:00  218.300003     314952.0   GAZP                NaN   \n",
       "1     2022-10-03 10:10:00  218.050003     182525.0   GAZP          -0.001145   \n",
       "2     2022-10-03 10:15:00  215.860001     193758.0   GAZP          -0.010044   \n",
       "3     2022-10-03 10:20:00  216.850006      91747.0   GAZP           0.004586   \n",
       "4     2022-10-03 10:25:00  216.580002      52824.0   GAZP          -0.001245   \n",
       "\n",
       "       close_5min_w1_diff  volume_5min_w1_roc  volume_5min_w1_diff  \\\n",
       "index                                                                \n",
       "0                     NaN                 NaN                  NaN   \n",
       "1                   -0.25           -0.420467            -132427.0   \n",
       "2                   -2.19            0.061542              11233.0   \n",
       "3                    0.99           -0.526487            -102011.0   \n",
       "4                   -0.27           -0.424243             -38923.0   \n",
       "\n",
       "       close_5min_w6_ma  close_5min_w6_std  ...  close_5min_w12_rsi  \\\n",
       "index                                       ...                       \n",
       "0            218.300003                NaN  ...                 NaN   \n",
       "1            218.175003           0.176777  ...            0.000000   \n",
       "2            217.403336           1.342398  ...            0.000000   \n",
       "3            217.264999           1.130442  ...           28.862974   \n",
       "4            217.128006           1.025802  ...           26.756756   \n",
       "\n",
       "       close_5min_w12_roc  close_5min_w12_diff  volume_5min_w12_ma  \\\n",
       "index                                                                \n",
       "0                     NaN                  NaN       314952.000000   \n",
       "1                     NaN                  NaN       248738.500000   \n",
       "2                     NaN                  NaN       230411.671875   \n",
       "3                     NaN                  NaN       195745.500000   \n",
       "4                     NaN                  NaN       167161.203125   \n",
       "\n",
       "       volume_5min_w12_std  volume_5min_w12_min  volume_5min_w12_max  \\\n",
       "index                                                                  \n",
       "0                      NaN             314952.0             314952.0   \n",
       "1             93640.031250             182525.0             314952.0   \n",
       "2             73429.187500             182525.0             314952.0   \n",
       "3             91659.898438              91747.0             314952.0   \n",
       "4            101914.000000              52824.0             314952.0   \n",
       "\n",
       "       volume_5min_w12_rsi  volume_5min_w12_roc  volume_5min_w12_diff  \n",
       "index                                                                  \n",
       "0                      NaN                  NaN                   NaN  \n",
       "1                 0.000000                  NaN                   NaN  \n",
       "2                 7.819156                  NaN                   NaN  \n",
       "3                 4.572375                  NaN                   NaN  \n",
       "4                 3.947026                  NaN                   NaN  \n",
       "\n",
       "[5 rows x 36 columns]"
      ]
     },
     "execution_count": 6,
     "metadata": {},
     "output_type": "execute_result"
    }
   ],
   "source": [
    "df_5min.head()"
   ]
  },
  {
   "cell_type": "code",
   "execution_count": 7,
   "id": "ea202601-841d-4ad0-bb88-58a08e7e1c7a",
   "metadata": {
    "colab": {
     "base_uri": "https://localhost:8080/",
     "height": 374
    },
    "id": "ea202601-841d-4ad0-bb88-58a08e7e1c7a",
    "outputId": "932973e2-ae3b-4e66-daea-0c4597a68a3d"
   },
   "outputs": [
    {
     "data": {
      "text/html": [
       "<div>\n",
       "<style scoped>\n",
       "    .dataframe tbody tr th:only-of-type {\n",
       "        vertical-align: middle;\n",
       "    }\n",
       "\n",
       "    .dataframe tbody tr th {\n",
       "        vertical-align: top;\n",
       "    }\n",
       "\n",
       "    .dataframe thead th {\n",
       "        text-align: right;\n",
       "    }\n",
       "</style>\n",
       "<table border=\"1\" class=\"dataframe\">\n",
       "  <thead>\n",
       "    <tr style=\"text-align: right;\">\n",
       "      <th></th>\n",
       "      <th>time</th>\n",
       "      <th>close_1hour</th>\n",
       "      <th>volume_1hour</th>\n",
       "      <th>ticker</th>\n",
       "      <th>close_1hour_w1_roc</th>\n",
       "      <th>close_1hour_w1_diff</th>\n",
       "      <th>volume_1hour_w1_roc</th>\n",
       "      <th>volume_1hour_w1_diff</th>\n",
       "      <th>close_1hour_w3_ma</th>\n",
       "      <th>close_1hour_w3_std</th>\n",
       "      <th>...</th>\n",
       "      <th>close_1hour_w14_diff</th>\n",
       "      <th>volume_1hour_w14_ma</th>\n",
       "      <th>volume_1hour_w14_std</th>\n",
       "      <th>volume_1hour_w14_min</th>\n",
       "      <th>volume_1hour_w14_max</th>\n",
       "      <th>volume_1hour_w14_rsi</th>\n",
       "      <th>volume_1hour_w14_roc</th>\n",
       "      <th>volume_1hour_w14_diff</th>\n",
       "      <th>sin_time_hour</th>\n",
       "      <th>cos_time_hour</th>\n",
       "    </tr>\n",
       "    <tr>\n",
       "      <th>index</th>\n",
       "      <th></th>\n",
       "      <th></th>\n",
       "      <th></th>\n",
       "      <th></th>\n",
       "      <th></th>\n",
       "      <th></th>\n",
       "      <th></th>\n",
       "      <th></th>\n",
       "      <th></th>\n",
       "      <th></th>\n",
       "      <th></th>\n",
       "      <th></th>\n",
       "      <th></th>\n",
       "      <th></th>\n",
       "      <th></th>\n",
       "      <th></th>\n",
       "      <th></th>\n",
       "      <th></th>\n",
       "      <th></th>\n",
       "      <th></th>\n",
       "      <th></th>\n",
       "    </tr>\n",
       "  </thead>\n",
       "  <tbody>\n",
       "    <tr>\n",
       "      <th>0</th>\n",
       "      <td>2022-10-03 11:00:00</td>\n",
       "      <td>215.080002</td>\n",
       "      <td>1623411.0</td>\n",
       "      <td>GAZP</td>\n",
       "      <td>NaN</td>\n",
       "      <td>NaN</td>\n",
       "      <td>NaN</td>\n",
       "      <td>NaN</td>\n",
       "      <td>215.080002</td>\n",
       "      <td>NaN</td>\n",
       "      <td>...</td>\n",
       "      <td>NaN</td>\n",
       "      <td>1.623411e+06</td>\n",
       "      <td>NaN</td>\n",
       "      <td>1623411.0</td>\n",
       "      <td>1623411.0</td>\n",
       "      <td>NaN</td>\n",
       "      <td>NaN</td>\n",
       "      <td>NaN</td>\n",
       "      <td>0.000000</td>\n",
       "      <td>1.000000</td>\n",
       "    </tr>\n",
       "    <tr>\n",
       "      <th>1</th>\n",
       "      <td>2022-10-03 12:00:00</td>\n",
       "      <td>216.360001</td>\n",
       "      <td>411786.0</td>\n",
       "      <td>GAZP</td>\n",
       "      <td>0.005951</td>\n",
       "      <td>1.28</td>\n",
       "      <td>-0.746345</td>\n",
       "      <td>-1211625.0</td>\n",
       "      <td>215.720001</td>\n",
       "      <td>0.905097</td>\n",
       "      <td>...</td>\n",
       "      <td>NaN</td>\n",
       "      <td>1.017598e+06</td>\n",
       "      <td>856748.2500</td>\n",
       "      <td>411786.0</td>\n",
       "      <td>1623411.0</td>\n",
       "      <td>0.000000</td>\n",
       "      <td>NaN</td>\n",
       "      <td>NaN</td>\n",
       "      <td>0.470272</td>\n",
       "      <td>0.882522</td>\n",
       "    </tr>\n",
       "    <tr>\n",
       "      <th>2</th>\n",
       "      <td>2022-10-03 13:00:00</td>\n",
       "      <td>215.880005</td>\n",
       "      <td>237084.0</td>\n",
       "      <td>GAZP</td>\n",
       "      <td>-0.002219</td>\n",
       "      <td>-0.48</td>\n",
       "      <td>-0.424254</td>\n",
       "      <td>-174702.0</td>\n",
       "      <td>215.773331</td>\n",
       "      <td>0.646632</td>\n",
       "      <td>...</td>\n",
       "      <td>NaN</td>\n",
       "      <td>7.574270e+05</td>\n",
       "      <td>755034.0625</td>\n",
       "      <td>237084.0</td>\n",
       "      <td>1623411.0</td>\n",
       "      <td>0.000000</td>\n",
       "      <td>NaN</td>\n",
       "      <td>NaN</td>\n",
       "      <td>0.830050</td>\n",
       "      <td>0.557689</td>\n",
       "    </tr>\n",
       "    <tr>\n",
       "      <th>3</th>\n",
       "      <td>2022-10-03 14:00:00</td>\n",
       "      <td>217.100006</td>\n",
       "      <td>573509.0</td>\n",
       "      <td>GAZP</td>\n",
       "      <td>0.005651</td>\n",
       "      <td>1.22</td>\n",
       "      <td>1.419012</td>\n",
       "      <td>336425.0</td>\n",
       "      <td>216.446671</td>\n",
       "      <td>0.614600</td>\n",
       "      <td>...</td>\n",
       "      <td>NaN</td>\n",
       "      <td>7.114475e+05</td>\n",
       "      <td>623303.6250</td>\n",
       "      <td>237084.0</td>\n",
       "      <td>1623411.0</td>\n",
       "      <td>19.528347</td>\n",
       "      <td>NaN</td>\n",
       "      <td>NaN</td>\n",
       "      <td>0.994803</td>\n",
       "      <td>0.101823</td>\n",
       "    </tr>\n",
       "    <tr>\n",
       "      <th>4</th>\n",
       "      <td>2022-10-03 15:00:00</td>\n",
       "      <td>216.940002</td>\n",
       "      <td>364609.0</td>\n",
       "      <td>GAZP</td>\n",
       "      <td>-0.000737</td>\n",
       "      <td>-0.16</td>\n",
       "      <td>-0.364249</td>\n",
       "      <td>-208900.0</td>\n",
       "      <td>216.639999</td>\n",
       "      <td>0.663023</td>\n",
       "      <td>...</td>\n",
       "      <td>NaN</td>\n",
       "      <td>6.420798e+05</td>\n",
       "      <td>561640.3750</td>\n",
       "      <td>237084.0</td>\n",
       "      <td>1623411.0</td>\n",
       "      <td>17.416439</td>\n",
       "      <td>NaN</td>\n",
       "      <td>NaN</td>\n",
       "      <td>0.925819</td>\n",
       "      <td>-0.377967</td>\n",
       "    </tr>\n",
       "  </tbody>\n",
       "</table>\n",
       "<p>5 rows × 38 columns</p>\n",
       "</div>"
      ],
      "text/plain": [
       "                     time  close_1hour  volume_1hour ticker  \\\n",
       "index                                                         \n",
       "0     2022-10-03 11:00:00   215.080002     1623411.0   GAZP   \n",
       "1     2022-10-03 12:00:00   216.360001      411786.0   GAZP   \n",
       "2     2022-10-03 13:00:00   215.880005      237084.0   GAZP   \n",
       "3     2022-10-03 14:00:00   217.100006      573509.0   GAZP   \n",
       "4     2022-10-03 15:00:00   216.940002      364609.0   GAZP   \n",
       "\n",
       "       close_1hour_w1_roc  close_1hour_w1_diff  volume_1hour_w1_roc  \\\n",
       "index                                                                 \n",
       "0                     NaN                  NaN                  NaN   \n",
       "1                0.005951                 1.28            -0.746345   \n",
       "2               -0.002219                -0.48            -0.424254   \n",
       "3                0.005651                 1.22             1.419012   \n",
       "4               -0.000737                -0.16            -0.364249   \n",
       "\n",
       "       volume_1hour_w1_diff  close_1hour_w3_ma  close_1hour_w3_std  ...  \\\n",
       "index                                                               ...   \n",
       "0                       NaN         215.080002                 NaN  ...   \n",
       "1                -1211625.0         215.720001            0.905097  ...   \n",
       "2                 -174702.0         215.773331            0.646632  ...   \n",
       "3                  336425.0         216.446671            0.614600  ...   \n",
       "4                 -208900.0         216.639999            0.663023  ...   \n",
       "\n",
       "       close_1hour_w14_diff  volume_1hour_w14_ma  volume_1hour_w14_std  \\\n",
       "index                                                                    \n",
       "0                       NaN         1.623411e+06                   NaN   \n",
       "1                       NaN         1.017598e+06           856748.2500   \n",
       "2                       NaN         7.574270e+05           755034.0625   \n",
       "3                       NaN         7.114475e+05           623303.6250   \n",
       "4                       NaN         6.420798e+05           561640.3750   \n",
       "\n",
       "       volume_1hour_w14_min  volume_1hour_w14_max  volume_1hour_w14_rsi  \\\n",
       "index                                                                     \n",
       "0                 1623411.0             1623411.0                   NaN   \n",
       "1                  411786.0             1623411.0              0.000000   \n",
       "2                  237084.0             1623411.0              0.000000   \n",
       "3                  237084.0             1623411.0             19.528347   \n",
       "4                  237084.0             1623411.0             17.416439   \n",
       "\n",
       "       volume_1hour_w14_roc  volume_1hour_w14_diff  sin_time_hour  \\\n",
       "index                                                               \n",
       "0                       NaN                    NaN       0.000000   \n",
       "1                       NaN                    NaN       0.470272   \n",
       "2                       NaN                    NaN       0.830050   \n",
       "3                       NaN                    NaN       0.994803   \n",
       "4                       NaN                    NaN       0.925819   \n",
       "\n",
       "       cos_time_hour  \n",
       "index                 \n",
       "0           1.000000  \n",
       "1           0.882522  \n",
       "2           0.557689  \n",
       "3           0.101823  \n",
       "4          -0.377967  \n",
       "\n",
       "[5 rows x 38 columns]"
      ]
     },
     "execution_count": 7,
     "metadata": {},
     "output_type": "execute_result"
    }
   ],
   "source": [
    "df_1hour.head()"
   ]
  },
  {
   "cell_type": "code",
   "execution_count": 8,
   "id": "55278652-16ae-4ca5-8539-77c5d1db00c3",
   "metadata": {
    "colab": {
     "base_uri": "https://localhost:8080/",
     "height": 374
    },
    "id": "55278652-16ae-4ca5-8539-77c5d1db00c3",
    "outputId": "f805bc2a-fc7b-4756-8cb9-6b0c68d62c42"
   },
   "outputs": [
    {
     "data": {
      "text/html": [
       "<div>\n",
       "<style scoped>\n",
       "    .dataframe tbody tr th:only-of-type {\n",
       "        vertical-align: middle;\n",
       "    }\n",
       "\n",
       "    .dataframe tbody tr th {\n",
       "        vertical-align: top;\n",
       "    }\n",
       "\n",
       "    .dataframe thead th {\n",
       "        text-align: right;\n",
       "    }\n",
       "</style>\n",
       "<table border=\"1\" class=\"dataframe\">\n",
       "  <thead>\n",
       "    <tr style=\"text-align: right;\">\n",
       "      <th></th>\n",
       "      <th>time</th>\n",
       "      <th>close_1day</th>\n",
       "      <th>volume_1day</th>\n",
       "      <th>ticker</th>\n",
       "      <th>close_1day_w1_roc</th>\n",
       "      <th>close_1day_w1_diff</th>\n",
       "      <th>volume_1day_w1_roc</th>\n",
       "      <th>volume_1day_w1_diff</th>\n",
       "      <th>close_1day_w2_ma</th>\n",
       "      <th>close_1day_w2_std</th>\n",
       "      <th>...</th>\n",
       "      <th>close_1day_w200_min</th>\n",
       "      <th>close_1day_w200_max</th>\n",
       "      <th>close_1day_w200_rsi</th>\n",
       "      <th>volume_1day_w200_ma</th>\n",
       "      <th>volume_1day_w200_std</th>\n",
       "      <th>volume_1day_w200_min</th>\n",
       "      <th>volume_1day_w200_max</th>\n",
       "      <th>volume_1day_w200_rsi</th>\n",
       "      <th>sin_time_weekday</th>\n",
       "      <th>cos_time_weekday</th>\n",
       "    </tr>\n",
       "    <tr>\n",
       "      <th>index</th>\n",
       "      <th></th>\n",
       "      <th></th>\n",
       "      <th></th>\n",
       "      <th></th>\n",
       "      <th></th>\n",
       "      <th></th>\n",
       "      <th></th>\n",
       "      <th></th>\n",
       "      <th></th>\n",
       "      <th></th>\n",
       "      <th></th>\n",
       "      <th></th>\n",
       "      <th></th>\n",
       "      <th></th>\n",
       "      <th></th>\n",
       "      <th></th>\n",
       "      <th></th>\n",
       "      <th></th>\n",
       "      <th></th>\n",
       "      <th></th>\n",
       "      <th></th>\n",
       "    </tr>\n",
       "  </thead>\n",
       "  <tbody>\n",
       "    <tr>\n",
       "      <th>0</th>\n",
       "      <td>2022-09-30 23:50:00</td>\n",
       "      <td>217.699997</td>\n",
       "      <td>24588842.0</td>\n",
       "      <td>GAZP</td>\n",
       "      <td>NaN</td>\n",
       "      <td>NaN</td>\n",
       "      <td>NaN</td>\n",
       "      <td>NaN</td>\n",
       "      <td>217.699997</td>\n",
       "      <td>NaN</td>\n",
       "      <td>...</td>\n",
       "      <td>217.699997</td>\n",
       "      <td>217.699997</td>\n",
       "      <td>NaN</td>\n",
       "      <td>24588842.0</td>\n",
       "      <td>NaN</td>\n",
       "      <td>24588842.0</td>\n",
       "      <td>24588842.0</td>\n",
       "      <td>NaN</td>\n",
       "      <td>-2.449294e-16</td>\n",
       "      <td>1.000000e+00</td>\n",
       "    </tr>\n",
       "    <tr>\n",
       "      <th>1</th>\n",
       "      <td>2022-10-03 23:50:00</td>\n",
       "      <td>215.830002</td>\n",
       "      <td>5070201.0</td>\n",
       "      <td>GAZP</td>\n",
       "      <td>-0.008590</td>\n",
       "      <td>-1.87</td>\n",
       "      <td>-0.793801</td>\n",
       "      <td>-19518640.0</td>\n",
       "      <td>216.764999</td>\n",
       "      <td>1.322290</td>\n",
       "      <td>...</td>\n",
       "      <td>215.830002</td>\n",
       "      <td>217.699997</td>\n",
       "      <td>0.000000</td>\n",
       "      <td>14829522.0</td>\n",
       "      <td>13801763.0</td>\n",
       "      <td>5070201.0</td>\n",
       "      <td>24588842.0</td>\n",
       "      <td>0.000000</td>\n",
       "      <td>0.000000e+00</td>\n",
       "      <td>1.000000e+00</td>\n",
       "    </tr>\n",
       "    <tr>\n",
       "      <th>2</th>\n",
       "      <td>2022-10-04 23:50:00</td>\n",
       "      <td>210.720001</td>\n",
       "      <td>4975859.0</td>\n",
       "      <td>GAZP</td>\n",
       "      <td>-0.023676</td>\n",
       "      <td>-5.11</td>\n",
       "      <td>-0.018607</td>\n",
       "      <td>-94342.0</td>\n",
       "      <td>213.274994</td>\n",
       "      <td>3.613316</td>\n",
       "      <td>...</td>\n",
       "      <td>210.720001</td>\n",
       "      <td>217.699997</td>\n",
       "      <td>0.000000</td>\n",
       "      <td>11544967.0</td>\n",
       "      <td>11296425.0</td>\n",
       "      <td>4975859.0</td>\n",
       "      <td>24588842.0</td>\n",
       "      <td>0.000000</td>\n",
       "      <td>1.000000e+00</td>\n",
       "      <td>6.123234e-17</td>\n",
       "    </tr>\n",
       "    <tr>\n",
       "      <th>3</th>\n",
       "      <td>2022-10-05 23:50:00</td>\n",
       "      <td>209.050003</td>\n",
       "      <td>5322122.0</td>\n",
       "      <td>GAZP</td>\n",
       "      <td>-0.007925</td>\n",
       "      <td>-1.67</td>\n",
       "      <td>0.069589</td>\n",
       "      <td>346263.0</td>\n",
       "      <td>209.884995</td>\n",
       "      <td>1.180868</td>\n",
       "      <td>...</td>\n",
       "      <td>209.050003</td>\n",
       "      <td>217.699997</td>\n",
       "      <td>0.000000</td>\n",
       "      <td>9989256.0</td>\n",
       "      <td>9734155.0</td>\n",
       "      <td>4975859.0</td>\n",
       "      <td>24588842.0</td>\n",
       "      <td>1.734850</td>\n",
       "      <td>1.224647e-16</td>\n",
       "      <td>-1.000000e+00</td>\n",
       "    </tr>\n",
       "    <tr>\n",
       "      <th>4</th>\n",
       "      <td>2022-10-06 23:50:00</td>\n",
       "      <td>212.860001</td>\n",
       "      <td>5165564.0</td>\n",
       "      <td>GAZP</td>\n",
       "      <td>0.018225</td>\n",
       "      <td>3.81</td>\n",
       "      <td>-0.029416</td>\n",
       "      <td>-156558.0</td>\n",
       "      <td>210.955002</td>\n",
       "      <td>2.694077</td>\n",
       "      <td>...</td>\n",
       "      <td>209.050003</td>\n",
       "      <td>217.699997</td>\n",
       "      <td>30.577848</td>\n",
       "      <td>9024518.0</td>\n",
       "      <td>8701662.0</td>\n",
       "      <td>4975859.0</td>\n",
       "      <td>24588842.0</td>\n",
       "      <td>1.721348</td>\n",
       "      <td>-1.000000e+00</td>\n",
       "      <td>-1.836970e-16</td>\n",
       "    </tr>\n",
       "  </tbody>\n",
       "</table>\n",
       "<p>5 rows × 62 columns</p>\n",
       "</div>"
      ],
      "text/plain": [
       "                     time  close_1day  volume_1day ticker  close_1day_w1_roc  \\\n",
       "index                                                                          \n",
       "0     2022-09-30 23:50:00  217.699997   24588842.0   GAZP                NaN   \n",
       "1     2022-10-03 23:50:00  215.830002    5070201.0   GAZP          -0.008590   \n",
       "2     2022-10-04 23:50:00  210.720001    4975859.0   GAZP          -0.023676   \n",
       "3     2022-10-05 23:50:00  209.050003    5322122.0   GAZP          -0.007925   \n",
       "4     2022-10-06 23:50:00  212.860001    5165564.0   GAZP           0.018225   \n",
       "\n",
       "       close_1day_w1_diff  volume_1day_w1_roc  volume_1day_w1_diff  \\\n",
       "index                                                                \n",
       "0                     NaN                 NaN                  NaN   \n",
       "1                   -1.87           -0.793801          -19518640.0   \n",
       "2                   -5.11           -0.018607             -94342.0   \n",
       "3                   -1.67            0.069589             346263.0   \n",
       "4                    3.81           -0.029416            -156558.0   \n",
       "\n",
       "       close_1day_w2_ma  close_1day_w2_std  ...  close_1day_w200_min  \\\n",
       "index                                       ...                        \n",
       "0            217.699997                NaN  ...           217.699997   \n",
       "1            216.764999           1.322290  ...           215.830002   \n",
       "2            213.274994           3.613316  ...           210.720001   \n",
       "3            209.884995           1.180868  ...           209.050003   \n",
       "4            210.955002           2.694077  ...           209.050003   \n",
       "\n",
       "       close_1day_w200_max  close_1day_w200_rsi  volume_1day_w200_ma  \\\n",
       "index                                                                  \n",
       "0               217.699997                  NaN           24588842.0   \n",
       "1               217.699997             0.000000           14829522.0   \n",
       "2               217.699997             0.000000           11544967.0   \n",
       "3               217.699997             0.000000            9989256.0   \n",
       "4               217.699997            30.577848            9024518.0   \n",
       "\n",
       "       volume_1day_w200_std  volume_1day_w200_min  volume_1day_w200_max  \\\n",
       "index                                                                     \n",
       "0                       NaN            24588842.0            24588842.0   \n",
       "1                13801763.0             5070201.0            24588842.0   \n",
       "2                11296425.0             4975859.0            24588842.0   \n",
       "3                 9734155.0             4975859.0            24588842.0   \n",
       "4                 8701662.0             4975859.0            24588842.0   \n",
       "\n",
       "       volume_1day_w200_rsi  sin_time_weekday  cos_time_weekday  \n",
       "index                                                            \n",
       "0                       NaN     -2.449294e-16      1.000000e+00  \n",
       "1                  0.000000      0.000000e+00      1.000000e+00  \n",
       "2                  0.000000      1.000000e+00      6.123234e-17  \n",
       "3                  1.734850      1.224647e-16     -1.000000e+00  \n",
       "4                  1.721348     -1.000000e+00     -1.836970e-16  \n",
       "\n",
       "[5 rows x 62 columns]"
      ]
     },
     "execution_count": 8,
     "metadata": {},
     "output_type": "execute_result"
    }
   ],
   "source": [
    "df_1day.head()"
   ]
  },
  {
   "cell_type": "code",
   "execution_count": null,
   "id": "28e28575-c36c-4be2-9733-6825e4faef46",
   "metadata": {
    "id": "28e28575-c36c-4be2-9733-6825e4faef46"
   },
   "outputs": [],
   "source": []
  },
  {
   "cell_type": "code",
   "execution_count": 9,
   "id": "bea5d004-f9bc-4bae-8b65-95bddffa68f2",
   "metadata": {},
   "outputs": [
    {
     "data": {
      "text/plain": [
       "Index(['time', 'close_1day', 'volume_1day', 'ticker', 'close_1day_w1_roc',\n",
       "       'close_1day_w1_diff', 'volume_1day_w1_roc', 'volume_1day_w1_diff',\n",
       "       'close_1day_w2_ma', 'close_1day_w2_std', 'close_1day_w2_min',\n",
       "       'close_1day_w2_max', 'close_1day_w2_rsi', 'close_1day_w2_roc',\n",
       "       'close_1day_w2_diff', 'volume_1day_w2_ma', 'volume_1day_w2_std',\n",
       "       'volume_1day_w2_min', 'volume_1day_w2_max', 'volume_1day_w2_rsi',\n",
       "       'volume_1day_w2_roc', 'volume_1day_w2_diff', 'close_1day_w5_ma',\n",
       "       'close_1day_w5_std', 'close_1day_w5_min', 'close_1day_w5_max',\n",
       "       'close_1day_w5_rsi', 'close_1day_w5_roc', 'close_1day_w5_diff',\n",
       "       'volume_1day_w5_ma', 'volume_1day_w5_std', 'volume_1day_w5_min',\n",
       "       'volume_1day_w5_max', 'volume_1day_w5_rsi', 'volume_1day_w5_roc',\n",
       "       'volume_1day_w5_diff', 'close_1day_w20_ma', 'close_1day_w20_std',\n",
       "       'close_1day_w20_min', 'close_1day_w20_max', 'close_1day_w20_rsi',\n",
       "       'close_1day_w20_roc', 'close_1day_w20_diff', 'volume_1day_w20_ma',\n",
       "       'volume_1day_w20_std', 'volume_1day_w20_min', 'volume_1day_w20_max',\n",
       "       'volume_1day_w20_rsi', 'volume_1day_w20_roc', 'volume_1day_w20_diff',\n",
       "       'close_1day_w200_ma', 'close_1day_w200_std', 'close_1day_w200_min',\n",
       "       'close_1day_w200_max', 'close_1day_w200_rsi', 'volume_1day_w200_ma',\n",
       "       'volume_1day_w200_std', 'volume_1day_w200_min', 'volume_1day_w200_max',\n",
       "       'volume_1day_w200_rsi', 'sin_time_weekday', 'cos_time_weekday'],\n",
       "      dtype='object')"
      ]
     },
     "execution_count": 9,
     "metadata": {},
     "output_type": "execute_result"
    }
   ],
   "source": [
    "df_1day.columns"
   ]
  },
  {
   "cell_type": "code",
   "execution_count": null,
   "id": "8b3b8b12-b709-4a03-8ff5-919de9469554",
   "metadata": {},
   "outputs": [],
   "source": []
  },
  {
   "cell_type": "markdown",
   "id": "d4bdf3c8-1258-4555-9d7c-d063602f9a22",
   "metadata": {
    "id": "d4bdf3c8-1258-4555-9d7c-d063602f9a22"
   },
   "source": [
    "### Normalization data"
   ]
  },
  {
   "cell_type": "code",
   "execution_count": null,
   "id": "89d1a637-8051-46c0-931f-a3d3f7a7f39a",
   "metadata": {},
   "outputs": [],
   "source": []
  },
  {
   "cell_type": "code",
   "execution_count": null,
   "id": "334045b5-9067-45b2-b813-afc63ec3ea4d",
   "metadata": {
    "id": "334045b5-9067-45b2-b813-afc63ec3ea4d"
   },
   "outputs": [],
   "source": []
  },
  {
   "cell_type": "code",
   "execution_count": 11,
   "id": "62e166c7-95ef-442d-a570-9374143680a7",
   "metadata": {
    "id": "62e166c7-95ef-442d-a570-9374143680a7"
   },
   "outputs": [],
   "source": [
    "from sklearn.preprocessing import StandardScaler\n",
    "\n",
    "cols = df_1min.columns[~df_1min.columns.isin(['time', 'ticker',\n",
    "                                     'index_1min_start', 'index_5min',\n",
    "                                     'index_start_5min', 'index_1hour', 'index_start_1hour', 'index_1day',\n",
    "                                     'index_start_1day', \n",
    "                                     'result', 'delta_time', 'res_price', 'res_ind'])]\n",
    "#scaler = load_pkl('./scaler_1min.pkl')\n",
    "scaler = StandardScaler()\n",
    "df_1min[cols] = scaler.fit_transform(df_1min[cols])\n",
    "\n",
    "\n",
    "cols = df_5min.columns[~df_5min.columns.isin(['time', 'ticker'])]\n",
    "#scaler = load_pkl('./scaler_5min.pkl')\n",
    "scaler = StandardScaler()\n",
    "df_5min[cols] = scaler.fit_transform(df_5min[cols])\n",
    "\n",
    "\n",
    "cols = df_1hour.columns[~df_1hour.columns.isin(['time', 'ticker'])]\n",
    "#scaler = load_pkl('./scaler_1hour.pkl')\n",
    "scaler = StandardScaler()\n",
    "df_1hour[cols] = scaler.fit_transform(df_1hour[cols])\n",
    "\n",
    "\n",
    "cols = df_1day.columns[~df_1day.columns.isin(['time', 'ticker'])]\n",
    "#scaler = load_pkl('./scaler_1day.pkl')\n",
    "scaler = StandardScaler()\n",
    "df_1day[cols] = scaler.fit_transform(df_1day[cols])"
   ]
  },
  {
   "cell_type": "code",
   "execution_count": null,
   "id": "e351d206-cc74-4814-9774-8c23f7de4dab",
   "metadata": {},
   "outputs": [],
   "source": []
  },
  {
   "cell_type": "code",
   "execution_count": 12,
   "id": "kBB5RD46wGyz",
   "metadata": {
    "colab": {
     "base_uri": "https://localhost:8080/",
     "height": 649
    },
    "id": "kBB5RD46wGyz",
    "outputId": "d57eed01-0b29-4fd7-9c4e-4efe8cc46cf0"
   },
   "outputs": [
    {
     "data": {
      "text/html": [
       "<div>\n",
       "<style scoped>\n",
       "    .dataframe tbody tr th:only-of-type {\n",
       "        vertical-align: middle;\n",
       "    }\n",
       "\n",
       "    .dataframe tbody tr th {\n",
       "        vertical-align: top;\n",
       "    }\n",
       "\n",
       "    .dataframe thead th {\n",
       "        text-align: right;\n",
       "    }\n",
       "</style>\n",
       "<table border=\"1\" class=\"dataframe\">\n",
       "  <thead>\n",
       "    <tr style=\"text-align: right;\">\n",
       "      <th></th>\n",
       "      <th>time</th>\n",
       "      <th>close</th>\n",
       "      <th>volume</th>\n",
       "      <th>ticker</th>\n",
       "      <th>index_1min_start</th>\n",
       "      <th>index_5min</th>\n",
       "      <th>index_start_5min</th>\n",
       "      <th>index_1hour</th>\n",
       "      <th>index_start_1hour</th>\n",
       "      <th>index_1day</th>\n",
       "      <th>...</th>\n",
       "      <th>close_w30_rsi</th>\n",
       "      <th>close_w30_roc</th>\n",
       "      <th>close_w30_diff</th>\n",
       "      <th>volume_w30_ma</th>\n",
       "      <th>volume_w30_std</th>\n",
       "      <th>volume_w30_min</th>\n",
       "      <th>volume_w30_max</th>\n",
       "      <th>volume_w30_rsi</th>\n",
       "      <th>volume_w30_roc</th>\n",
       "      <th>volume_w30_diff</th>\n",
       "    </tr>\n",
       "    <tr>\n",
       "      <th>index</th>\n",
       "      <th></th>\n",
       "      <th></th>\n",
       "      <th></th>\n",
       "      <th></th>\n",
       "      <th></th>\n",
       "      <th></th>\n",
       "      <th></th>\n",
       "      <th></th>\n",
       "      <th></th>\n",
       "      <th></th>\n",
       "      <th></th>\n",
       "      <th></th>\n",
       "      <th></th>\n",
       "      <th></th>\n",
       "      <th></th>\n",
       "      <th></th>\n",
       "      <th></th>\n",
       "      <th></th>\n",
       "      <th></th>\n",
       "      <th></th>\n",
       "      <th></th>\n",
       "    </tr>\n",
       "  </thead>\n",
       "  <tbody>\n",
       "    <tr>\n",
       "      <th>0</th>\n",
       "      <td>2022-10-03 10:01:00</td>\n",
       "      <td>-0.571301</td>\n",
       "      <td>11.565469</td>\n",
       "      <td>GAZP</td>\n",
       "      <td>0.0</td>\n",
       "      <td>NaN</td>\n",
       "      <td>NaN</td>\n",
       "      <td>NaN</td>\n",
       "      <td>NaN</td>\n",
       "      <td>NaN</td>\n",
       "      <td>...</td>\n",
       "      <td>NaN</td>\n",
       "      <td>NaN</td>\n",
       "      <td>NaN</td>\n",
       "      <td>20.327633</td>\n",
       "      <td>NaN</td>\n",
       "      <td>168.742004</td>\n",
       "      <td>2.196328</td>\n",
       "      <td>NaN</td>\n",
       "      <td>NaN</td>\n",
       "      <td>NaN</td>\n",
       "    </tr>\n",
       "    <tr>\n",
       "      <th>1</th>\n",
       "      <td>2022-10-03 10:02:00</td>\n",
       "      <td>-0.571223</td>\n",
       "      <td>8.018962</td>\n",
       "      <td>GAZP</td>\n",
       "      <td>0.0</td>\n",
       "      <td>NaN</td>\n",
       "      <td>NaN</td>\n",
       "      <td>NaN</td>\n",
       "      <td>NaN</td>\n",
       "      <td>NaN</td>\n",
       "      <td>...</td>\n",
       "      <td>6.432997</td>\n",
       "      <td>NaN</td>\n",
       "      <td>NaN</td>\n",
       "      <td>17.210917</td>\n",
       "      <td>2.910610</td>\n",
       "      <td>118.212013</td>\n",
       "      <td>2.196328</td>\n",
       "      <td>-20.604343</td>\n",
       "      <td>NaN</td>\n",
       "      <td>NaN</td>\n",
       "    </tr>\n",
       "    <tr>\n",
       "      <th>2</th>\n",
       "      <td>2022-10-03 10:03:00</td>\n",
       "      <td>-0.571611</td>\n",
       "      <td>6.815036</td>\n",
       "      <td>GAZP</td>\n",
       "      <td>0.0</td>\n",
       "      <td>NaN</td>\n",
       "      <td>NaN</td>\n",
       "      <td>NaN</td>\n",
       "      <td>NaN</td>\n",
       "      <td>NaN</td>\n",
       "      <td>...</td>\n",
       "      <td>-4.305959</td>\n",
       "      <td>NaN</td>\n",
       "      <td>NaN</td>\n",
       "      <td>15.466660</td>\n",
       "      <td>2.857632</td>\n",
       "      <td>101.058693</td>\n",
       "      <td>2.196328</td>\n",
       "      <td>-20.604343</td>\n",
       "      <td>NaN</td>\n",
       "      <td>NaN</td>\n",
       "    </tr>\n",
       "    <tr>\n",
       "      <th>3</th>\n",
       "      <td>2022-10-03 10:04:00</td>\n",
       "      <td>-0.571810</td>\n",
       "      <td>8.013151</td>\n",
       "      <td>GAZP</td>\n",
       "      <td>0.0</td>\n",
       "      <td>NaN</td>\n",
       "      <td>NaN</td>\n",
       "      <td>NaN</td>\n",
       "      <td>NaN</td>\n",
       "      <td>NaN</td>\n",
       "      <td>...</td>\n",
       "      <td>-4.957290</td>\n",
       "      <td>NaN</td>\n",
       "      <td>NaN</td>\n",
       "      <td>15.120991</td>\n",
       "      <td>2.281113</td>\n",
       "      <td>101.058693</td>\n",
       "      <td>2.196328</td>\n",
       "      <td>-12.302465</td>\n",
       "      <td>NaN</td>\n",
       "      <td>NaN</td>\n",
       "    </tr>\n",
       "    <tr>\n",
       "      <th>4</th>\n",
       "      <td>2022-10-03 10:05:00</td>\n",
       "      <td>-0.572156</td>\n",
       "      <td>6.656116</td>\n",
       "      <td>GAZP</td>\n",
       "      <td>0.0</td>\n",
       "      <td>0.0</td>\n",
       "      <td>0.0</td>\n",
       "      <td>NaN</td>\n",
       "      <td>NaN</td>\n",
       "      <td>NaN</td>\n",
       "      <td>...</td>\n",
       "      <td>-5.478958</td>\n",
       "      <td>NaN</td>\n",
       "      <td>NaN</td>\n",
       "      <td>14.436558</td>\n",
       "      <td>2.178917</td>\n",
       "      <td>98.794434</td>\n",
       "      <td>2.196328</td>\n",
       "      <td>-13.844565</td>\n",
       "      <td>NaN</td>\n",
       "      <td>NaN</td>\n",
       "    </tr>\n",
       "    <tr>\n",
       "      <th>...</th>\n",
       "      <td>...</td>\n",
       "      <td>...</td>\n",
       "      <td>...</td>\n",
       "      <td>...</td>\n",
       "      <td>...</td>\n",
       "      <td>...</td>\n",
       "      <td>...</td>\n",
       "      <td>...</td>\n",
       "      <td>...</td>\n",
       "      <td>...</td>\n",
       "      <td>...</td>\n",
       "      <td>...</td>\n",
       "      <td>...</td>\n",
       "      <td>...</td>\n",
       "      <td>...</td>\n",
       "      <td>...</td>\n",
       "      <td>...</td>\n",
       "      <td>...</td>\n",
       "      <td>...</td>\n",
       "      <td>...</td>\n",
       "      <td>...</td>\n",
       "    </tr>\n",
       "    <tr>\n",
       "      <th>8666388</th>\n",
       "      <td>2024-12-25 23:46:00</td>\n",
       "      <td>-0.669458</td>\n",
       "      <td>-0.298383</td>\n",
       "      <td>RUAL</td>\n",
       "      <td>8208890.0</td>\n",
       "      <td>1777829.0</td>\n",
       "      <td>1683710.0</td>\n",
       "      <td>152888.0</td>\n",
       "      <td>144800.0</td>\n",
       "      <td>10759.0</td>\n",
       "      <td>...</td>\n",
       "      <td>0.336111</td>\n",
       "      <td>0.264826</td>\n",
       "      <td>-0.001298</td>\n",
       "      <td>-0.342575</td>\n",
       "      <td>-0.152289</td>\n",
       "      <td>-0.292031</td>\n",
       "      <td>-0.057883</td>\n",
       "      <td>-0.006087</td>\n",
       "      <td>-0.064616</td>\n",
       "      <td>-0.004592</td>\n",
       "    </tr>\n",
       "    <tr>\n",
       "      <th>8666389</th>\n",
       "      <td>2024-12-25 23:47:00</td>\n",
       "      <td>-0.669479</td>\n",
       "      <td>-0.281897</td>\n",
       "      <td>RUAL</td>\n",
       "      <td>8208890.0</td>\n",
       "      <td>1777829.0</td>\n",
       "      <td>1683710.0</td>\n",
       "      <td>152888.0</td>\n",
       "      <td>144800.0</td>\n",
       "      <td>10759.0</td>\n",
       "      <td>...</td>\n",
       "      <td>-0.063558</td>\n",
       "      <td>-0.042215</td>\n",
       "      <td>-0.005826</td>\n",
       "      <td>-0.342326</td>\n",
       "      <td>-0.152349</td>\n",
       "      <td>-0.292031</td>\n",
       "      <td>-0.057883</td>\n",
       "      <td>0.020238</td>\n",
       "      <td>-0.058083</td>\n",
       "      <td>0.006737</td>\n",
       "    </tr>\n",
       "    <tr>\n",
       "      <th>8666390</th>\n",
       "      <td>2024-12-25 23:48:00</td>\n",
       "      <td>-0.669472</td>\n",
       "      <td>-0.275681</td>\n",
       "      <td>RUAL</td>\n",
       "      <td>8208890.0</td>\n",
       "      <td>1777829.0</td>\n",
       "      <td>1683710.0</td>\n",
       "      <td>152888.0</td>\n",
       "      <td>144800.0</td>\n",
       "      <td>10759.0</td>\n",
       "      <td>...</td>\n",
       "      <td>-0.024889</td>\n",
       "      <td>-0.011519</td>\n",
       "      <td>-0.005374</td>\n",
       "      <td>-0.341689</td>\n",
       "      <td>-0.152505</td>\n",
       "      <td>-0.292031</td>\n",
       "      <td>-0.057883</td>\n",
       "      <td>0.044339</td>\n",
       "      <td>0.003371</td>\n",
       "      <td>0.017114</td>\n",
       "    </tr>\n",
       "    <tr>\n",
       "      <th>8666391</th>\n",
       "      <td>2024-12-25 23:49:00</td>\n",
       "      <td>-0.669451</td>\n",
       "      <td>-0.027841</td>\n",
       "      <td>RUAL</td>\n",
       "      <td>8208890.0</td>\n",
       "      <td>1777829.0</td>\n",
       "      <td>1683710.0</td>\n",
       "      <td>152888.0</td>\n",
       "      <td>144800.0</td>\n",
       "      <td>10759.0</td>\n",
       "      <td>...</td>\n",
       "      <td>0.161756</td>\n",
       "      <td>0.141842</td>\n",
       "      <td>-0.003109</td>\n",
       "      <td>-0.333775</td>\n",
       "      <td>-0.151891</td>\n",
       "      <td>-0.292031</td>\n",
       "      <td>-0.057883</td>\n",
       "      <td>0.485841</td>\n",
       "      <td>1.548588</td>\n",
       "      <td>0.211729</td>\n",
       "    </tr>\n",
       "    <tr>\n",
       "      <th>8666392</th>\n",
       "      <td>2024-12-25 23:50:00</td>\n",
       "      <td>-0.669498</td>\n",
       "      <td>-0.009463</td>\n",
       "      <td>RUAL</td>\n",
       "      <td>8208890.0</td>\n",
       "      <td>1777830.0</td>\n",
       "      <td>1683710.0</td>\n",
       "      <td>152889.0</td>\n",
       "      <td>144800.0</td>\n",
       "      <td>10760.0</td>\n",
       "      <td>...</td>\n",
       "      <td>-0.464431</td>\n",
       "      <td>-0.410257</td>\n",
       "      <td>-0.011261</td>\n",
       "      <td>-0.325454</td>\n",
       "      <td>-0.151097</td>\n",
       "      <td>-0.292031</td>\n",
       "      <td>-0.057883</td>\n",
       "      <td>0.510022</td>\n",
       "      <td>0.121563</td>\n",
       "      <td>0.222635</td>\n",
       "    </tr>\n",
       "  </tbody>\n",
       "</table>\n",
       "<p>8666393 rows × 47 columns</p>\n",
       "</div>"
      ],
      "text/plain": [
       "                       time     close     volume ticker  index_1min_start  \\\n",
       "index                                                                       \n",
       "0       2022-10-03 10:01:00 -0.571301  11.565469   GAZP               0.0   \n",
       "1       2022-10-03 10:02:00 -0.571223   8.018962   GAZP               0.0   \n",
       "2       2022-10-03 10:03:00 -0.571611   6.815036   GAZP               0.0   \n",
       "3       2022-10-03 10:04:00 -0.571810   8.013151   GAZP               0.0   \n",
       "4       2022-10-03 10:05:00 -0.572156   6.656116   GAZP               0.0   \n",
       "...                     ...       ...        ...    ...               ...   \n",
       "8666388 2024-12-25 23:46:00 -0.669458  -0.298383   RUAL         8208890.0   \n",
       "8666389 2024-12-25 23:47:00 -0.669479  -0.281897   RUAL         8208890.0   \n",
       "8666390 2024-12-25 23:48:00 -0.669472  -0.275681   RUAL         8208890.0   \n",
       "8666391 2024-12-25 23:49:00 -0.669451  -0.027841   RUAL         8208890.0   \n",
       "8666392 2024-12-25 23:50:00 -0.669498  -0.009463   RUAL         8208890.0   \n",
       "\n",
       "         index_5min  index_start_5min  index_1hour  index_start_1hour  \\\n",
       "index                                                                   \n",
       "0               NaN               NaN          NaN                NaN   \n",
       "1               NaN               NaN          NaN                NaN   \n",
       "2               NaN               NaN          NaN                NaN   \n",
       "3               NaN               NaN          NaN                NaN   \n",
       "4               0.0               0.0          NaN                NaN   \n",
       "...             ...               ...          ...                ...   \n",
       "8666388   1777829.0         1683710.0     152888.0           144800.0   \n",
       "8666389   1777829.0         1683710.0     152888.0           144800.0   \n",
       "8666390   1777829.0         1683710.0     152888.0           144800.0   \n",
       "8666391   1777829.0         1683710.0     152888.0           144800.0   \n",
       "8666392   1777830.0         1683710.0     152889.0           144800.0   \n",
       "\n",
       "         index_1day  ...  close_w30_rsi close_w30_roc close_w30_diff  \\\n",
       "index                ...                                               \n",
       "0               NaN  ...            NaN           NaN            NaN   \n",
       "1               NaN  ...       6.432997           NaN            NaN   \n",
       "2               NaN  ...      -4.305959           NaN            NaN   \n",
       "3               NaN  ...      -4.957290           NaN            NaN   \n",
       "4               NaN  ...      -5.478958           NaN            NaN   \n",
       "...             ...  ...            ...           ...            ...   \n",
       "8666388     10759.0  ...       0.336111      0.264826      -0.001298   \n",
       "8666389     10759.0  ...      -0.063558     -0.042215      -0.005826   \n",
       "8666390     10759.0  ...      -0.024889     -0.011519      -0.005374   \n",
       "8666391     10759.0  ...       0.161756      0.141842      -0.003109   \n",
       "8666392     10760.0  ...      -0.464431     -0.410257      -0.011261   \n",
       "\n",
       "         volume_w30_ma  volume_w30_std  volume_w30_min  volume_w30_max  \\\n",
       "index                                                                    \n",
       "0            20.327633             NaN      168.742004        2.196328   \n",
       "1            17.210917        2.910610      118.212013        2.196328   \n",
       "2            15.466660        2.857632      101.058693        2.196328   \n",
       "3            15.120991        2.281113      101.058693        2.196328   \n",
       "4            14.436558        2.178917       98.794434        2.196328   \n",
       "...                ...             ...             ...             ...   \n",
       "8666388      -0.342575       -0.152289       -0.292031       -0.057883   \n",
       "8666389      -0.342326       -0.152349       -0.292031       -0.057883   \n",
       "8666390      -0.341689       -0.152505       -0.292031       -0.057883   \n",
       "8666391      -0.333775       -0.151891       -0.292031       -0.057883   \n",
       "8666392      -0.325454       -0.151097       -0.292031       -0.057883   \n",
       "\n",
       "         volume_w30_rsi  volume_w30_roc  volume_w30_diff  \n",
       "index                                                     \n",
       "0                   NaN             NaN              NaN  \n",
       "1            -20.604343             NaN              NaN  \n",
       "2            -20.604343             NaN              NaN  \n",
       "3            -12.302465             NaN              NaN  \n",
       "4            -13.844565             NaN              NaN  \n",
       "...                 ...             ...              ...  \n",
       "8666388       -0.006087       -0.064616        -0.004592  \n",
       "8666389        0.020238       -0.058083         0.006737  \n",
       "8666390        0.044339        0.003371         0.017114  \n",
       "8666391        0.485841        1.548588         0.211729  \n",
       "8666392        0.510022        0.121563         0.222635  \n",
       "\n",
       "[8666393 rows x 47 columns]"
      ]
     },
     "execution_count": 12,
     "metadata": {},
     "output_type": "execute_result"
    }
   ],
   "source": [
    "df_1min"
   ]
  },
  {
   "cell_type": "code",
   "execution_count": 13,
   "id": "xeXCfzhbolTJ",
   "metadata": {
    "colab": {
     "base_uri": "https://localhost:8080/"
    },
    "id": "xeXCfzhbolTJ",
    "outputId": "a448840f-69d3-4d68-d005-eecec007b300"
   },
   "outputs": [
    {
     "data": {
      "text/plain": [
       "8666339.0"
      ]
     },
     "execution_count": 13,
     "metadata": {},
     "output_type": "execute_result"
    }
   ],
   "source": [
    "df_1min[df_1min.columns[~df_1min.columns.isin(['ticker', 'time', 'result', 'delta_time', 'index_1min_start', 'index_5min', 'index_start_5min', 'index_1hour',\n",
    "       'index_start_1hour', 'index_1day', 'index_start_1day'])]].abs().max().max()"
   ]
  },
  {
   "cell_type": "code",
   "execution_count": 14,
   "id": "64c9065a-f886-47b7-a8a2-9a489293b878",
   "metadata": {
    "colab": {
     "base_uri": "https://localhost:8080/"
    },
    "id": "64c9065a-f886-47b7-a8a2-9a489293b878",
    "outputId": "010a8ec8-ff44-4fff-ac9c-6976f302e9c0"
   },
   "outputs": [
    {
     "data": {
      "text/plain": [
       "900.100341796875"
      ]
     },
     "execution_count": 14,
     "metadata": {},
     "output_type": "execute_result"
    }
   ],
   "source": [
    "df_5min[df_5min.columns[~df_5min.columns.isin(['ticker', 'time', 'result', 'delta_time'])]].abs().max().max()"
   ]
  },
  {
   "cell_type": "code",
   "execution_count": 15,
   "id": "ae301cf8-1fe8-4ed8-b9d0-b569efd82700",
   "metadata": {
    "colab": {
     "base_uri": "https://localhost:8080/"
    },
    "id": "ae301cf8-1fe8-4ed8-b9d0-b569efd82700",
    "outputId": "576d513f-8cb6-44d7-ac56-d1a7cf6142d8"
   },
   "outputs": [
    {
     "data": {
      "text/plain": [
       "316.1659851074219"
      ]
     },
     "execution_count": 15,
     "metadata": {},
     "output_type": "execute_result"
    }
   ],
   "source": [
    "df_1hour[df_1hour.columns[~df_1hour.columns.isin(['ticker', 'time', 'result', 'delta_time'])]].abs().max().max()"
   ]
  },
  {
   "cell_type": "code",
   "execution_count": 16,
   "id": "_hEd_wI1DwAE",
   "metadata": {
    "colab": {
     "base_uri": "https://localhost:8080/"
    },
    "id": "_hEd_wI1DwAE",
    "outputId": "7231f56a-e20f-45c6-d2e9-035f98944a72"
   },
   "outputs": [
    {
     "data": {
      "text/plain": [
       "42.8321647644043"
      ]
     },
     "execution_count": 16,
     "metadata": {},
     "output_type": "execute_result"
    }
   ],
   "source": [
    "df_1day[df_1day.columns[~df_1day.columns.isin(['ticker', 'time', 'result', 'delta_time'])]].abs().max().max()"
   ]
  },
  {
   "cell_type": "code",
   "execution_count": null,
   "id": "lwbnJ3DAnO3x",
   "metadata": {
    "id": "lwbnJ3DAnO3x"
   },
   "outputs": [],
   "source": []
  },
  {
   "cell_type": "code",
   "execution_count": 17,
   "id": "a0611864-8569-418a-a959-5ab39595b320",
   "metadata": {
    "id": "a0611864-8569-418a-a959-5ab39595b320"
   },
   "outputs": [],
   "source": [
    "df_1min['target'] = (df_1min['result'] == 'WIN').astype(int)"
   ]
  },
  {
   "cell_type": "code",
   "execution_count": 18,
   "id": "206263ce-b65e-40eb-8db5-252cc2fb8b09",
   "metadata": {
    "colab": {
     "base_uri": "https://localhost:8080/",
     "height": 661
    },
    "id": "206263ce-b65e-40eb-8db5-252cc2fb8b09",
    "outputId": "b3b9d4b5-20a7-4d3b-8e07-8d769cae43e7"
   },
   "outputs": [
    {
     "data": {
      "text/plain": [
       "<Axes: xlabel='time'>"
      ]
     },
     "execution_count": 18,
     "metadata": {},
     "output_type": "execute_result"
    },
    {
     "data": {
      "image/png": "[encoded data removed]",
      "text/plain": [
       "<Figure size 640x480 with 1 Axes>"
      ]
     },
     "metadata": {},
     "output_type": "display_data"
    }
   ],
   "source": [
    "df_1min[['time', 'target']].groupby(pd.Grouper(key='time', freq='ME')).target.count().plot.bar()"
   ]
  },
  {
   "cell_type": "code",
   "execution_count": 19,
   "id": "f3472da7-9d47-4cc9-9010-79813506b891",
   "metadata": {
    "colab": {
     "base_uri": "https://localhost:8080/",
     "height": 657
    },
    "id": "f3472da7-9d47-4cc9-9010-79813506b891",
    "outputId": "099064a5-73af-4fd2-a417-60f9c2ca22f4"
   },
   "outputs": [
    {
     "data": {
      "text/plain": [
       "<Axes: xlabel='time'>"
      ]
     },
     "execution_count": 19,
     "metadata": {},
     "output_type": "execute_result"
    },
    {
     "data": {
      "image/png": "[encoded data removed]",
      "text/plain": [
       "<Figure size 640x480 with 1 Axes>"
      ]
     },
     "metadata": {},
     "output_type": "display_data"
    }
   ],
   "source": [
    "df_1min[['time', 'target']].groupby(pd.Grouper(key='time', freq='ME')).target.mean().plot.bar()"
   ]
  },
  {
   "cell_type": "code",
   "execution_count": 20,
   "id": "76a0d3ac-ea8e-4f05-919a-73bdeb4f467c",
   "metadata": {
    "id": "76a0d3ac-ea8e-4f05-919a-73bdeb4f467c"
   },
   "outputs": [],
   "source": [
    "## Вот тут остановился"
   ]
  },
  {
   "cell_type": "code",
   "execution_count": null,
   "id": "2bd83a17-e071-4da3-bcc4-0d12dbad85fe",
   "metadata": {},
   "outputs": [],
   "source": []
  },
  {
   "cell_type": "code",
   "execution_count": 21,
   "id": "91a9b3ab-3c5c-4ea7-93ca-32e75db8300e",
   "metadata": {
    "id": "91a9b3ab-3c5c-4ea7-93ca-32e75db8300e"
   },
   "outputs": [],
   "source": [
    "mask_train = np.array((pd.Timestamp('2023-10-01') <= df_1min['time']) & (df_1min['time'] < pd.Timestamp('2024-07-01')))\n",
    "mask_valid = np.array((pd.Timestamp('2024-07-01') <= df_1min['time']) & (df_1min['time'] < pd.Timestamp('2024-09-01')))\n",
    "mask_test = np.array((pd.Timestamp('2024-09-01') <= df_1min['time']) & (df_1min['time'] < pd.Timestamp('2024-11-01')))\n",
    "mask_test2 = np.array((pd.Timestamp('2024-11-01') <= df_1min['time']) & (df_1min['time'] < pd.Timestamp('2024-12-25')))"
   ]
  },
  {
   "cell_type": "code",
   "execution_count": 22,
   "id": "a13220ef-98dc-44a2-9021-9978e294137b",
   "metadata": {
    "id": "a13220ef-98dc-44a2-9021-9978e294137b"
   },
   "outputs": [],
   "source": [
    "#Оставим каждый \n",
    "# mask_freq_min = np.array(df_1min['time'].dt.minute % 30 == 0)\n",
    "\n",
    "# mask_train &= mask_freq_min\n",
    "# mask_valid &= mask_freq_min\n",
    "# mask_test &= mask_freq_min\n",
    "# mask_test2 &= mask_freq_min"
   ]
  },
  {
   "cell_type": "code",
   "execution_count": 23,
   "id": "6dc8f869-82be-4a83-af5f-1f4fdd2172d0",
   "metadata": {
    "id": "6dc8f869-82be-4a83-af5f-1f4fdd2172d0"
   },
   "outputs": [
    {
     "data": {
      "text/plain": [
       "(6809308.785714285, 6893354)"
      ]
     },
     "execution_count": 23,
     "metadata": {},
     "output_type": "execute_result"
    }
   ],
   "source": [
    "mask_time = np.array((df_1min['time'].dt.time >= pd.Timestamp('11:00:00').time()) & (df_1min['time'].dt.time <= pd.Timestamp('22:00:00').time()))\n",
    "# ограничение с запасом по точкам справа, да и кто после 22 торгует, а точек и так хватает\n",
    "\n",
    "mask_train &= mask_time\n",
    "mask_valid &= mask_time\n",
    "mask_test &= mask_time\n",
    "mask_test2 &= mask_time\n",
    "\n",
    "mask_time.shape[0]*11/14, mask_time.sum()"
   ]
  },
  {
   "cell_type": "code",
   "execution_count": null,
   "id": "56a0e857-537c-4cab-941d-9bd36088e951",
   "metadata": {},
   "outputs": [],
   "source": []
  },
  {
   "cell_type": "code",
   "execution_count": 24,
   "id": "7eae8ae0-7e15-41f6-9f79-218b6a94ded1",
   "metadata": {
    "colab": {
     "base_uri": "https://localhost:8080/"
    },
    "id": "7eae8ae0-7e15-41f6-9f79-218b6a94ded1",
    "outputId": "18f9b547-9993-4c7b-bff6-32d27c506c5e"
   },
   "outputs": [
    {
     "data": {
      "text/plain": [
       "(2294628, 532895, 532943, 455683)"
      ]
     },
     "execution_count": 24,
     "metadata": {},
     "output_type": "execute_result"
    }
   ],
   "source": [
    "mask_train.sum(), mask_valid.sum(), mask_test.sum(), mask_test2.sum()"
   ]
  },
  {
   "cell_type": "code",
   "execution_count": 25,
   "id": "9d034842-5335-4162-b271-467cfb9efc5a",
   "metadata": {
    "colab": {
     "base_uri": "https://localhost:8080/"
    },
    "id": "9d034842-5335-4162-b271-467cfb9efc5a",
    "outputId": "56005b28-277f-4297-ed88-b5fd0e5d2f0d"
   },
   "outputs": [
    {
     "data": {
      "text/plain": [
       "3816149"
      ]
     },
     "execution_count": 25,
     "metadata": {},
     "output_type": "execute_result"
    }
   ],
   "source": [
    "mask_data = mask_train|mask_valid|mask_test|mask_test2\n",
    "(mask_data).sum()"
   ]
  },
  {
   "cell_type": "code",
   "execution_count": 26,
   "id": "e43d7543-daf2-495d-b4ea-15dd838d133c",
   "metadata": {
    "colab": {
     "base_uri": "https://localhost:8080/"
    },
    "id": "e43d7543-daf2-495d-b4ea-15dd838d133c",
    "outputId": "fcfba404-fff6-49e0-c32c-b9df86c55a22"
   },
   "outputs": [
    {
     "data": {
      "text/plain": [
       "(0.6012941318591072,\n",
       " 0.13964208420583157,\n",
       " 0.13965466233105678,\n",
       " 0.11940912160400445)"
      ]
     },
     "execution_count": 26,
     "metadata": {},
     "output_type": "execute_result"
    }
   ],
   "source": [
    "mask_train.sum()/(mask_data).sum(), mask_valid.sum()/(mask_data).sum(), mask_test.sum()/(mask_data).sum(), mask_test2.sum()/(mask_data).sum()"
   ]
  },
  {
   "cell_type": "code",
   "execution_count": 27,
   "id": "cb46d1d9-fc8c-45c5-99e5-bf771bdb6ccc",
   "metadata": {
    "colab": {
     "base_uri": "https://localhost:8080/"
    },
    "id": "cb46d1d9-fc8c-45c5-99e5-bf771bdb6ccc",
    "outputId": "024a8a29-20cd-4f7e-c5eb-438765d48701"
   },
   "outputs": [
    {
     "data": {
      "text/plain": [
       "(0.10318273811702812,\n",
       " 0.17086292796892447,\n",
       " 0.2074762216597272,\n",
       " 0.25299824658808867)"
      ]
     },
     "execution_count": 27,
     "metadata": {},
     "output_type": "execute_result"
    }
   ],
   "source": [
    "df_1min.loc[mask_train, 'target'].mean(), df_1min.loc[mask_valid, 'target'].mean(), df_1min.loc[mask_test, 'target'].mean(), df_1min.loc[mask_test2, 'target'].mean()"
   ]
  },
  {
   "cell_type": "code",
   "execution_count": null,
   "id": "c176dba9-2a64-4129-9de3-9f7515f0d9d7",
   "metadata": {
    "id": "c176dba9-2a64-4129-9de3-9f7515f0d9d7"
   },
   "outputs": [],
   "source": []
  },
  {
   "cell_type": "code",
   "execution_count": null,
   "id": "f6493bd2-8ddf-4bcb-9a21-48903cabbc9b",
   "metadata": {
    "id": "f6493bd2-8ddf-4bcb-9a21-48903cabbc9b"
   },
   "outputs": [],
   "source": []
  },
  {
   "cell_type": "code",
   "execution_count": 28,
   "id": "b89d98db-d939-4ef2-bbc1-f1d31bf5cd15",
   "metadata": {
    "id": "b89d98db-d939-4ef2-bbc1-f1d31bf5cd15"
   },
   "outputs": [],
   "source": [
    "#проверки"
   ]
  },
  {
   "cell_type": "code",
   "execution_count": 29,
   "id": "4b37867a-0700-4508-b310-38dcabce67b3",
   "metadata": {
    "colab": {
     "base_uri": "https://localhost:8080/"
    },
    "id": "4b37867a-0700-4508-b310-38dcabce67b3",
    "outputId": "8671f7fa-c370-4ec4-e9f8-2d914abf97af"
   },
   "outputs": [
    {
     "data": {
      "text/plain": [
       "True"
      ]
     },
     "execution_count": 29,
     "metadata": {},
     "output_type": "execute_result"
    }
   ],
   "source": [
    "(mask_train.sum()+mask_valid.sum()+mask_test.sum()+mask_test2.sum()) ==(mask_data).sum()"
   ]
  },
  {
   "cell_type": "code",
   "execution_count": null,
   "id": "ec2e95ec-fef3-49a2-8098-3824eb514908",
   "metadata": {
    "id": "ec2e95ec-fef3-49a2-8098-3824eb514908"
   },
   "outputs": [],
   "source": []
  },
  {
   "cell_type": "code",
   "execution_count": 30,
   "id": "48c7f32e-bb06-4b1e-87e9-d53dae494085",
   "metadata": {
    "colab": {
     "base_uri": "https://localhost:8080/",
     "height": 657
    },
    "id": "48c7f32e-bb06-4b1e-87e9-d53dae494085",
    "outputId": "20ce9bc5-6172-4d1b-abff-6555f4ffb023"
   },
   "outputs": [
    {
     "data": {
      "text/plain": [
       "<Axes: xlabel='time'>"
      ]
     },
     "execution_count": 30,
     "metadata": {},
     "output_type": "execute_result"
    },
    {
     "data": {
      "image/png": "[encoded data removed]",
      "text/plain": [
       "<Figure size 640x480 with 1 Axes>"
      ]
     },
     "metadata": {},
     "output_type": "display_data"
    }
   ],
   "source": [
    "df_1min.loc[mask_data, ['time', 'target']].groupby(pd.Grouper(key='time', freq='ME')).target.count().plot.bar()"
   ]
  },
  {
   "cell_type": "code",
   "execution_count": 31,
   "id": "c20abf1c-e42e-4b0f-8a39-dbfb069e6070",
   "metadata": {
    "id": "c20abf1c-e42e-4b0f-8a39-dbfb069e6070"
   },
   "outputs": [
    {
     "data": {
      "text/plain": [
       "<Axes: xlabel='time'>"
      ]
     },
     "execution_count": 31,
     "metadata": {},
     "output_type": "execute_result"
    },
    {
     "data": {
      "image/png": "[encoded data removed]",
      "text/plain": [
       "<Figure size 640x480 with 1 Axes>"
      ]
     },
     "metadata": {},
     "output_type": "display_data"
    }
   ],
   "source": [
    "df_1min.loc[mask_data, ['time', 'target']].groupby(pd.Grouper(key='time', freq='ME')).target.mean().plot.bar()"
   ]
  },
  {
   "cell_type": "code",
   "execution_count": null,
   "id": "21921a29-5e2f-4de7-b6b7-8deeaef28fdb",
   "metadata": {
    "id": "21921a29-5e2f-4de7-b6b7-8deeaef28fdb"
   },
   "outputs": [],
   "source": []
  },
  {
   "cell_type": "code",
   "execution_count": 32,
   "id": "f0ee2b61-f46b-4b29-b5f3-e6c08d9b953b",
   "metadata": {
    "id": "f0ee2b61-f46b-4b29-b5f3-e6c08d9b953b"
   },
   "outputs": [],
   "source": [
    "#indexes\n",
    "\n",
    "inds_train = df_1min.index[mask_train].values\n",
    "inds_valid = df_1min.index[mask_valid].values\n",
    "inds_test = df_1min.index[mask_test].values\n",
    "inds_test2 = df_1min.index[mask_test2].values"
   ]
  },
  {
   "cell_type": "code",
   "execution_count": 33,
   "id": "9ecf4f4e-a20d-485b-a6ab-6209a3bd3ea5",
   "metadata": {
    "colab": {
     "base_uri": "https://localhost:8080/"
    },
    "id": "9ecf4f4e-a20d-485b-a6ab-6209a3bd3ea5",
    "outputId": "2a23de6d-afab-489d-d45d-05a3fa4d565b"
   },
   "outputs": [
    {
     "data": {
      "text/plain": [
       "array([ 208535,  208536,  208537, ..., 8565790, 8565791, 8565792])"
      ]
     },
     "execution_count": 33,
     "metadata": {},
     "output_type": "execute_result"
    }
   ],
   "source": [
    "inds_train"
   ]
  },
  {
   "cell_type": "code",
   "execution_count": null,
   "id": "cea07275-c394-4c37-942b-8657225aa772",
   "metadata": {
    "id": "cea07275-c394-4c37-942b-8657225aa772"
   },
   "outputs": [],
   "source": []
  },
  {
   "cell_type": "code",
   "execution_count": 34,
   "id": "59edcf5f-87da-4e09-b94a-6e84edd80e81",
   "metadata": {
    "id": "59edcf5f-87da-4e09-b94a-6e84edd80e81"
   },
   "outputs": [],
   "source": [
    "#проверим, что все индексы валидны\n",
    "#у каждой точки должно быть 200 точек назад (минут, 5минут, часов, дней)"
   ]
  },
  {
   "cell_type": "code",
   "execution_count": 35,
   "id": "2fb03051-0e35-4731-b689-8b99a1dba676",
   "metadata": {
    "colab": {
     "base_uri": "https://localhost:8080/",
     "height": 374
    },
    "id": "2fb03051-0e35-4731-b689-8b99a1dba676",
    "outputId": "3d44c600-46b1-452b-a2f8-a9e7d3b82c93"
   },
   "outputs": [
    {
     "data": {
      "text/html": [
       "<div>\n",
       "<style scoped>\n",
       "    .dataframe tbody tr th:only-of-type {\n",
       "        vertical-align: middle;\n",
       "    }\n",
       "\n",
       "    .dataframe tbody tr th {\n",
       "        vertical-align: top;\n",
       "    }\n",
       "\n",
       "    .dataframe thead th {\n",
       "        text-align: right;\n",
       "    }\n",
       "</style>\n",
       "<table border=\"1\" class=\"dataframe\">\n",
       "  <thead>\n",
       "    <tr style=\"text-align: right;\">\n",
       "      <th></th>\n",
       "      <th>time</th>\n",
       "      <th>close</th>\n",
       "      <th>volume</th>\n",
       "      <th>ticker</th>\n",
       "      <th>index_1min_start</th>\n",
       "      <th>index_5min</th>\n",
       "      <th>index_start_5min</th>\n",
       "      <th>index_1hour</th>\n",
       "      <th>index_start_1hour</th>\n",
       "      <th>index_1day</th>\n",
       "      <th>...</th>\n",
       "      <th>close_w30_roc</th>\n",
       "      <th>close_w30_diff</th>\n",
       "      <th>volume_w30_ma</th>\n",
       "      <th>volume_w30_std</th>\n",
       "      <th>volume_w30_min</th>\n",
       "      <th>volume_w30_max</th>\n",
       "      <th>volume_w30_rsi</th>\n",
       "      <th>volume_w30_roc</th>\n",
       "      <th>volume_w30_diff</th>\n",
       "      <th>target</th>\n",
       "    </tr>\n",
       "    <tr>\n",
       "      <th>index</th>\n",
       "      <th></th>\n",
       "      <th></th>\n",
       "      <th></th>\n",
       "      <th></th>\n",
       "      <th></th>\n",
       "      <th></th>\n",
       "      <th></th>\n",
       "      <th></th>\n",
       "      <th></th>\n",
       "      <th></th>\n",
       "      <th></th>\n",
       "      <th></th>\n",
       "      <th></th>\n",
       "      <th></th>\n",
       "      <th></th>\n",
       "      <th></th>\n",
       "      <th></th>\n",
       "      <th></th>\n",
       "      <th></th>\n",
       "      <th></th>\n",
       "      <th></th>\n",
       "    </tr>\n",
       "  </thead>\n",
       "  <tbody>\n",
       "    <tr>\n",
       "      <th>0</th>\n",
       "      <td>2022-10-03 10:01:00</td>\n",
       "      <td>-0.571301</td>\n",
       "      <td>11.565469</td>\n",
       "      <td>GAZP</td>\n",
       "      <td>0.0</td>\n",
       "      <td>NaN</td>\n",
       "      <td>NaN</td>\n",
       "      <td>NaN</td>\n",
       "      <td>NaN</td>\n",
       "      <td>NaN</td>\n",
       "      <td>...</td>\n",
       "      <td>NaN</td>\n",
       "      <td>NaN</td>\n",
       "      <td>20.327633</td>\n",
       "      <td>NaN</td>\n",
       "      <td>168.742004</td>\n",
       "      <td>2.196328</td>\n",
       "      <td>NaN</td>\n",
       "      <td>NaN</td>\n",
       "      <td>NaN</td>\n",
       "      <td>0</td>\n",
       "    </tr>\n",
       "    <tr>\n",
       "      <th>1</th>\n",
       "      <td>2022-10-03 10:02:00</td>\n",
       "      <td>-0.571223</td>\n",
       "      <td>8.018962</td>\n",
       "      <td>GAZP</td>\n",
       "      <td>0.0</td>\n",
       "      <td>NaN</td>\n",
       "      <td>NaN</td>\n",
       "      <td>NaN</td>\n",
       "      <td>NaN</td>\n",
       "      <td>NaN</td>\n",
       "      <td>...</td>\n",
       "      <td>NaN</td>\n",
       "      <td>NaN</td>\n",
       "      <td>17.210917</td>\n",
       "      <td>2.910610</td>\n",
       "      <td>118.212013</td>\n",
       "      <td>2.196328</td>\n",
       "      <td>-20.604343</td>\n",
       "      <td>NaN</td>\n",
       "      <td>NaN</td>\n",
       "      <td>0</td>\n",
       "    </tr>\n",
       "    <tr>\n",
       "      <th>2</th>\n",
       "      <td>2022-10-03 10:03:00</td>\n",
       "      <td>-0.571611</td>\n",
       "      <td>6.815036</td>\n",
       "      <td>GAZP</td>\n",
       "      <td>0.0</td>\n",
       "      <td>NaN</td>\n",
       "      <td>NaN</td>\n",
       "      <td>NaN</td>\n",
       "      <td>NaN</td>\n",
       "      <td>NaN</td>\n",
       "      <td>...</td>\n",
       "      <td>NaN</td>\n",
       "      <td>NaN</td>\n",
       "      <td>15.466660</td>\n",
       "      <td>2.857632</td>\n",
       "      <td>101.058693</td>\n",
       "      <td>2.196328</td>\n",
       "      <td>-20.604343</td>\n",
       "      <td>NaN</td>\n",
       "      <td>NaN</td>\n",
       "      <td>0</td>\n",
       "    </tr>\n",
       "    <tr>\n",
       "      <th>3</th>\n",
       "      <td>2022-10-03 10:04:00</td>\n",
       "      <td>-0.571810</td>\n",
       "      <td>8.013151</td>\n",
       "      <td>GAZP</td>\n",
       "      <td>0.0</td>\n",
       "      <td>NaN</td>\n",
       "      <td>NaN</td>\n",
       "      <td>NaN</td>\n",
       "      <td>NaN</td>\n",
       "      <td>NaN</td>\n",
       "      <td>...</td>\n",
       "      <td>NaN</td>\n",
       "      <td>NaN</td>\n",
       "      <td>15.120991</td>\n",
       "      <td>2.281113</td>\n",
       "      <td>101.058693</td>\n",
       "      <td>2.196328</td>\n",
       "      <td>-12.302465</td>\n",
       "      <td>NaN</td>\n",
       "      <td>NaN</td>\n",
       "      <td>0</td>\n",
       "    </tr>\n",
       "    <tr>\n",
       "      <th>4</th>\n",
       "      <td>2022-10-03 10:05:00</td>\n",
       "      <td>-0.572156</td>\n",
       "      <td>6.656116</td>\n",
       "      <td>GAZP</td>\n",
       "      <td>0.0</td>\n",
       "      <td>0.0</td>\n",
       "      <td>0.0</td>\n",
       "      <td>NaN</td>\n",
       "      <td>NaN</td>\n",
       "      <td>NaN</td>\n",
       "      <td>...</td>\n",
       "      <td>NaN</td>\n",
       "      <td>NaN</td>\n",
       "      <td>14.436558</td>\n",
       "      <td>2.178917</td>\n",
       "      <td>98.794434</td>\n",
       "      <td>2.196328</td>\n",
       "      <td>-13.844565</td>\n",
       "      <td>NaN</td>\n",
       "      <td>NaN</td>\n",
       "      <td>0</td>\n",
       "    </tr>\n",
       "  </tbody>\n",
       "</table>\n",
       "<p>5 rows × 48 columns</p>\n",
       "</div>"
      ],
      "text/plain": [
       "                     time     close     volume ticker  index_1min_start  \\\n",
       "index                                                                     \n",
       "0     2022-10-03 10:01:00 -0.571301  11.565469   GAZP               0.0   \n",
       "1     2022-10-03 10:02:00 -0.571223   8.018962   GAZP               0.0   \n",
       "2     2022-10-03 10:03:00 -0.571611   6.815036   GAZP               0.0   \n",
       "3     2022-10-03 10:04:00 -0.571810   8.013151   GAZP               0.0   \n",
       "4     2022-10-03 10:05:00 -0.572156   6.656116   GAZP               0.0   \n",
       "\n",
       "       index_5min  index_start_5min  index_1hour  index_start_1hour  \\\n",
       "index                                                                 \n",
       "0             NaN               NaN          NaN                NaN   \n",
       "1             NaN               NaN          NaN                NaN   \n",
       "2             NaN               NaN          NaN                NaN   \n",
       "3             NaN               NaN          NaN                NaN   \n",
       "4             0.0               0.0          NaN                NaN   \n",
       "\n",
       "       index_1day  ...  close_w30_roc close_w30_diff volume_w30_ma  \\\n",
       "index              ...                                               \n",
       "0             NaN  ...            NaN            NaN     20.327633   \n",
       "1             NaN  ...            NaN            NaN     17.210917   \n",
       "2             NaN  ...            NaN            NaN     15.466660   \n",
       "3             NaN  ...            NaN            NaN     15.120991   \n",
       "4             NaN  ...            NaN            NaN     14.436558   \n",
       "\n",
       "       volume_w30_std  volume_w30_min  volume_w30_max  volume_w30_rsi  \\\n",
       "index                                                                   \n",
       "0                 NaN      168.742004        2.196328             NaN   \n",
       "1            2.910610      118.212013        2.196328      -20.604343   \n",
       "2            2.857632      101.058693        2.196328      -20.604343   \n",
       "3            2.281113      101.058693        2.196328      -12.302465   \n",
       "4            2.178917       98.794434        2.196328      -13.844565   \n",
       "\n",
       "       volume_w30_roc  volume_w30_diff  target  \n",
       "index                                           \n",
       "0                 NaN              NaN       0  \n",
       "1                 NaN              NaN       0  \n",
       "2                 NaN              NaN       0  \n",
       "3                 NaN              NaN       0  \n",
       "4                 NaN              NaN       0  \n",
       "\n",
       "[5 rows x 48 columns]"
      ]
     },
     "execution_count": 35,
     "metadata": {},
     "output_type": "execute_result"
    }
   ],
   "source": [
    "df_1min.head()"
   ]
  },
  {
   "cell_type": "code",
   "execution_count": 36,
   "id": "5aaecf16-c4a9-4acb-b413-95cf0c815cce",
   "metadata": {
    "id": "5aaecf16-c4a9-4acb-b413-95cf0c815cce"
   },
   "outputs": [],
   "source": [
    "def check_valid_inds(inds, df_1min, len_seq=200):\n",
    "    ind_1min_start = df_1min.loc[inds, 'index_1min_start'].values.astype(int)\n",
    "    ind_1min_end = inds.astype(int)\n",
    "    assert (~np.isnan(ind_1min_start)).all() & (~np.isnan(ind_1min_end)).all() &\\\n",
    "                                               ((ind_1min_end - ind_1min_start + 1) >= len_seq).all(), 'Error: 1min'\n",
    "\n",
    "    ind_5min_start = df_1min.loc[inds, 'index_start_5min'].values.astype(int)\n",
    "    ind_5min_end = df_1min.loc[inds, 'index_5min'].values.astype(int)\n",
    "    assert (~np.isnan(ind_5min_start)).all() & (~np.isnan(ind_5min_end)).all() &\\\n",
    "                                                ((ind_5min_end - ind_5min_start + 1) >= len_seq).all(), 'Error: 5min'\n",
    "\n",
    "    ind_1hour_start = df_1min.loc[inds, 'index_start_1hour'].values.astype(int)\n",
    "    ind_1hour_end = df_1min.loc[inds, 'index_1hour'].values.astype(int)\n",
    "    assert (~np.isnan(ind_1hour_start)).all() & (~np.isnan(ind_1hour_end)).all() &\\\n",
    "                                                ((ind_1hour_end - ind_1hour_start + 1) >= len_seq).all(), 'Error: 1hour'\n",
    "\n",
    "    ind_1day_start = df_1min.loc[inds, 'index_start_1day'].values.astype(int)\n",
    "    ind_1day_end = df_1min.loc[inds, 'index_1day'].values.astype(int)\n",
    "    assert (~np.isnan(ind_1day_start)).all() & (~np.isnan(ind_1day_end)).all() &\\\n",
    "                                                ((ind_1day_end - ind_1day_start + 1) >= len_seq).all(), 'Error: 1day'\n",
    "\n",
    "    return 'All Good'\n"
   ]
  },
  {
   "cell_type": "code",
   "execution_count": 37,
   "id": "41bf3359-145f-403c-9907-2846c6f3b82a",
   "metadata": {
    "colab": {
     "base_uri": "https://localhost:8080/",
     "height": 36
    },
    "id": "41bf3359-145f-403c-9907-2846c6f3b82a",
    "outputId": "f5bfdb2b-2258-41a3-9269-d1db8ac348f1"
   },
   "outputs": [
    {
     "data": {
      "text/plain": [
       "('All Good', 'All Good', 'All Good', 'All Good')"
      ]
     },
     "execution_count": 37,
     "metadata": {},
     "output_type": "execute_result"
    }
   ],
   "source": [
    "check_valid_inds(inds_train, df_1min, len_seq=200), check_valid_inds(inds_valid, df_1min, len_seq=200), check_valid_inds(inds_test, df_1min, len_seq=200), check_valid_inds(inds_test2, df_1min, len_seq=200)"
   ]
  },
  {
   "cell_type": "code",
   "execution_count": null,
   "id": "924ddf59-2e5c-491e-9490-ad0e44dba370",
   "metadata": {
    "colab": {
     "base_uri": "https://localhost:8080/",
     "height": 36
    },
    "id": "924ddf59-2e5c-491e-9490-ad0e44dba370",
    "outputId": "cbd6d8a7-5f80-4379-8c3f-e42f1e56eadc"
   },
   "outputs": [],
   "source": []
  },
  {
   "cell_type": "code",
   "execution_count": null,
   "id": "68eab8ea-ef80-420c-baff-8154f7163bfb",
   "metadata": {
    "id": "68eab8ea-ef80-420c-baff-8154f7163bfb"
   },
   "outputs": [],
   "source": []
  },
  {
   "cell_type": "code",
   "execution_count": null,
   "id": "cd0fb41b-88f2-493b-ba89-96e4edeff7ee",
   "metadata": {
    "id": "cd0fb41b-88f2-493b-ba89-96e4edeff7ee"
   },
   "outputs": [],
   "source": []
  },
  {
   "cell_type": "markdown",
   "id": "fe1d598a-a3fc-4035-a7ea-776dbf5260eb",
   "metadata": {
    "id": "fe1d598a-a3fc-4035-a7ea-776dbf5260eb"
   },
   "source": [
    "### 4. Model NINE"
   ]
  },
  {
   "cell_type": "code",
   "execution_count": 39,
   "id": "b0847cbe-4a05-4a27-83cc-ff97385a4553",
   "metadata": {
    "colab": {
     "base_uri": "https://localhost:8080/"
    },
    "id": "b0847cbe-4a05-4a27-83cc-ff97385a4553",
    "outputId": "5626b2e2-d316-4b43-d686-602af303497a"
   },
   "outputs": [
    {
     "name": "stdout",
     "output_type": "stream",
     "text": [
      "TensorFlow version: 2.18.0\n"
     ]
    }
   ],
   "source": [
    "import tensorflow as tf\n",
    "print(\"TensorFlow version:\", tf.__version__)"
   ]
  },
  {
   "cell_type": "code",
   "execution_count": 40,
   "id": "ea01c083-550d-4c04-b7d3-6b14dcdf4a32",
   "metadata": {
    "id": "ea01c083-550d-4c04-b7d3-6b14dcdf4a32"
   },
   "outputs": [],
   "source": [
    "df_1min['ticker_code'] = df_1min['ticker'].astype('category').cat.codes"
   ]
  },
  {
   "cell_type": "code",
   "execution_count": 41,
   "id": "4763e92d-b573-407a-accf-b2af1cf85419",
   "metadata": {
    "colab": {
     "base_uri": "https://localhost:8080/",
     "height": 680
    },
    "id": "4763e92d-b573-407a-accf-b2af1cf85419",
    "outputId": "7d9580d8-f22c-47a6-cee3-a968797aaa00"
   },
   "outputs": [
    {
     "data": {
      "text/plain": [
       "ticker_code\n",
       "2     468143\n",
       "11    468075\n",
       "13    467832\n",
       "4     466020\n",
       "9     464321\n",
       "17    463830\n",
       "5     463346\n",
       "0     463131\n",
       "1     461255\n",
       "12    457503\n",
       "8     457442\n",
       "10    453946\n",
       "6     452687\n",
       "7     450617\n",
       "3     448262\n",
       "16    443881\n",
       "15    442567\n",
       "18    441487\n",
       "14    432048\n",
       "Name: count, dtype: int64"
      ]
     },
     "execution_count": 41,
     "metadata": {},
     "output_type": "execute_result"
    }
   ],
   "source": [
    "df_1min['ticker_code'].value_counts()"
   ]
  },
  {
   "cell_type": "code",
   "execution_count": 42,
   "id": "cc767f72-c361-4cc7-8b4b-afe2abd6dbda",
   "metadata": {
    "colab": {
     "base_uri": "https://localhost:8080/"
    },
    "id": "cc767f72-c361-4cc7-8b4b-afe2abd6dbda",
    "outputId": "17d73667-6028-4bca-ee1b-5007c9635bae"
   },
   "outputs": [
    {
     "data": {
      "text/plain": [
       "18"
      ]
     },
     "execution_count": 42,
     "metadata": {},
     "output_type": "execute_result"
    }
   ],
   "source": [
    "df_1min['ticker_code'].max()"
   ]
  },
  {
   "cell_type": "code",
   "execution_count": 43,
   "id": "71d483dc-c3f4-4287-984e-236e5c40b975",
   "metadata": {
    "colab": {
     "base_uri": "https://localhost:8080/"
    },
    "id": "71d483dc-c3f4-4287-984e-236e5c40b975",
    "outputId": "9343879c-ee8e-4f13-c4b0-083c56effa05"
   },
   "outputs": [
    {
     "data": {
      "text/plain": [
       "{0: 'ALRS',\n",
       " 1: 'CHMF',\n",
       " 2: 'GAZP',\n",
       " 3: 'GMKN',\n",
       " 4: 'LKOH',\n",
       " 5: 'MAGN',\n",
       " 6: 'MGNT',\n",
       " 7: 'MTSS',\n",
       " 8: 'NLMK',\n",
       " 9: 'NVTK',\n",
       " 10: 'OZON',\n",
       " 11: 'ROSN',\n",
       " 12: 'RUAL',\n",
       " 13: 'SBER',\n",
       " 14: 'SNGS',\n",
       " 15: 'SNGSP',\n",
       " 16: 'T',\n",
       " 17: 'TATN',\n",
       " 18: 'YDEX'}"
      ]
     },
     "execution_count": 43,
     "metadata": {},
     "output_type": "execute_result"
    }
   ],
   "source": [
    "dict(enumerate(df_1min['ticker'].astype('category').cat.categories))"
   ]
  },
  {
   "cell_type": "code",
   "execution_count": null,
   "id": "ab22b290-0db5-4a61-8d5b-8a206103767d",
   "metadata": {
    "id": "ab22b290-0db5-4a61-8d5b-8a206103767d"
   },
   "outputs": [],
   "source": []
  },
  {
   "cell_type": "markdown",
   "id": "7dcb87a0-2104-44f2-bace-fe196494964f",
   "metadata": {
    "id": "7dcb87a0-2104-44f2-bace-fe196494964f"
   },
   "source": [
    "#### 4.1 PyDataset"
   ]
  },
  {
   "cell_type": "code",
   "execution_count": 45,
   "id": "2d1df1f7-5299-4e3d-9810-bb1fc4572335",
   "metadata": {
    "id": "2d1df1f7-5299-4e3d-9810-bb1fc4572335"
   },
   "outputs": [],
   "source": [
    "class CandleData:\n",
    "    def __init__(self, df_1min, df_5min, df_1hour, df_1day):\n",
    "        self.df_1min = df_1min\n",
    "        self.df_5min = df_5min\n",
    "        self.df_1hour = df_1hour\n",
    "        self.df_1day = df_1day\n",
    "        self.make_np_arr_data()\n",
    "\n",
    "    def make_np_arr_data(self):\n",
    "\n",
    "        #1min\n",
    "        cols_arr_1min = self.df_1min.columns[~self.df_1min.columns.isin(['time', 'ticker',\n",
    "                                     'index_1min_start', 'index_5min',\n",
    "                                     'index_start_5min', 'index_1hour', 'index_start_1hour', 'index_1day',\n",
    "                                     'index_start_1day', \n",
    "                                     'result', 'delta_time', 'res_price', 'res_ind'])]\n",
    "        self.arr_1min = np.array(self.df_1min[cols_arr_1min])\n",
    "\n",
    "        #cols index_slice\n",
    "        cols_index_time_slice = ['index_1min_start',\n",
    "                         'index_5min', 'index_start_5min',\n",
    "                         'index_1hour', 'index_start_1hour',\n",
    "                         'index_1day', 'index_start_1day']\n",
    "        self.index_time_slice_1min = np.array(self.df_1min[cols_index_time_slice])\n",
    "\n",
    "        #cols ticker\n",
    "        self.ticker_code_1min = np.array(self.df_1min['ticker_code'])\n",
    "\n",
    "        #5min\n",
    "        cols_arr_5min = self.df_5min.columns[~self.df_5min.columns.isin(['time', 'ticker'])]\n",
    "        self.arr_5min = np.array(self.df_5min[cols_arr_5min])\n",
    "\n",
    "        #1hour\n",
    "        cols_arr_1hour = self.df_1hour.columns[~self.df_1hour.columns.isin(['time', 'ticker'])]\n",
    "        self.arr_1hour = np.array(self.df_1hour[cols_arr_1hour])\n",
    "\n",
    "        #1day\n",
    "        cols_arr_1day = self.df_1day.columns[~self.df_1day.columns.isin(['time', 'ticker'])]\n",
    "        self.arr_1day = np.array(self.df_1day[cols_arr_1day])\n",
    "\n",
    "        #target\n",
    "        self.target_1min = df_1min['target'].values\n",
    "\n",
    "\n",
    "class dataset(tf.keras.utils.PyDataset):\n",
    "\n",
    "    def __init__(self, data, inds, count_samples=None, len_seq=200,  batch_size=32, shuffle=False, **kwargs):\n",
    "        super().__init__(**kwargs)\n",
    "        self.data = data\n",
    "        self.inds = inds\n",
    "        self.len_seq = len_seq\n",
    "        self.batch_size = batch_size\n",
    "\n",
    "        self.count_samples = count_samples\n",
    "        if self.count_samples is not None:\n",
    "            self.inds = np.random.RandomState(seed=42).permutation(self.inds)\n",
    "\n",
    "        self.shuffle = shuffle\n",
    "        if self.shuffle:\n",
    "            self.inds = np.random.permutation(self.inds)\n",
    "\n",
    "    def __len__(self):\n",
    "        # Return number of batches.\n",
    "        if self.count_samples is None:\n",
    "            return math.ceil(len(self.inds) / self.batch_size)\n",
    "        else:\n",
    "            return math.ceil(self.count_samples / self.batch_size)\n",
    "\n",
    "    def __getitem__(self, idx):\n",
    "        # Return x, y for batch idx.\n",
    "        low = idx * self.batch_size\n",
    "        # Cap upper bound at array length; the last batch may be smaller\n",
    "        # if the total number of items is not a multiple of batch size.\n",
    "        high = min(low + self.batch_size, len(self.inds))\n",
    "        batch_inds = self.inds[low:high]\n",
    "\n",
    "\n",
    "        x_batch = []\n",
    "        x_batch_ticker_code = []\n",
    "        y_batch = []\n",
    "\n",
    "        for i in batch_inds:\n",
    "            # cols_index_time_slice = ['index_1min_start',\n",
    "            #              'index_5min', 'index_start_5min',\n",
    "            #              'index_1hour', 'index_start_1hour',\n",
    "            #              'index_1day', 'index_start_1day']\n",
    "            #1min\n",
    "            ind_high_1min = i+1\n",
    "            ind_low_1min = int(ind_high_1min - self.len_seq)\n",
    "            tensor_1min = self.data.arr_1min[ind_low_1min:ind_high_1min, :]\n",
    "\n",
    "            \n",
    "            #5min\n",
    "            ind_high_5min = int(self.data.index_time_slice_1min[i, 1] + 1)\n",
    "            ind_low_5min = int(ind_high_5min - self.len_seq)\n",
    "            tensor_5min = self.data.arr_5min[ind_low_5min:ind_high_5min, :]\n",
    "\n",
    "            #1hour\n",
    "            ind_high_1hour = int(self.data.index_time_slice_1min[i, 3] + 1)\n",
    "            ind_low_1hour = int(ind_high_1hour - self.len_seq)\n",
    "            tensor_1hour = self.data.arr_1hour[ind_low_1hour:ind_high_1hour, :]\n",
    "\n",
    "            #1day\n",
    "            ind_high_1day = int(self.data.index_time_slice_1min[i, 5] + 1)\n",
    "            ind_low_1day =  int(ind_high_1day - self.len_seq)\n",
    "            tensor_1day = self.data.arr_1day[ind_low_1day:ind_high_1day, :]\n",
    "\n",
    "            #target\n",
    "            y = self.data.target_1min[i]\n",
    "\n",
    "            #ticker\n",
    "            ticker_code = self.data.ticker_code_1min[i]\n",
    "\n",
    "\n",
    "            x = np.concatenate((tensor_1min, tensor_5min, tensor_1hour, tensor_1day), axis=1)\n",
    "\n",
    "            x_batch += [x]\n",
    "            x_batch_ticker_code += [ticker_code]\n",
    "            y_batch += [y]\n",
    "\n",
    "        #return {'input_numeric':  np.array(x_batch), 'input_ticker' : np.array(x_batch_ticker_code)}, np.array(y_batch)\n",
    "        return np.array(x_batch), np.array(y_batch)\n",
    "\n",
    "\n",
    "    def on_epoch_end(self):\n",
    "        if self.shuffle:\n",
    "            self.inds = np.random.permutation(self.inds)"
   ]
  },
  {
   "cell_type": "code",
   "execution_count": null,
   "id": "731f5a41-0996-4159-b956-b0a9910233cd",
   "metadata": {
    "id": "731f5a41-0996-4159-b956-b0a9910233cd"
   },
   "outputs": [],
   "source": []
  },
  {
   "cell_type": "code",
   "execution_count": 46,
   "id": "e5b555f9-e9c7-4464-b0f8-2323c48d1a0d",
   "metadata": {
    "id": "e5b555f9-e9c7-4464-b0f8-2323c48d1a0d"
   },
   "outputs": [
    {
     "data": {
      "text/plain": [
       "(2294628, 532895, 532943, 455683)"
      ]
     },
     "execution_count": 46,
     "metadata": {},
     "output_type": "execute_result"
    }
   ],
   "source": [
    "mask_train.sum(), mask_valid.sum(), mask_test.sum(), mask_test2.sum()"
   ]
  },
  {
   "cell_type": "code",
   "execution_count": 47,
   "id": "620afaf9-f0af-48ab-b66a-8382bb89372e",
   "metadata": {},
   "outputs": [
    {
     "data": {
      "text/plain": [
       "35853"
      ]
     },
     "execution_count": 47,
     "metadata": {},
     "output_type": "execute_result"
    }
   ],
   "source": [
    "mask_train.sum() // 64"
   ]
  },
  {
   "cell_type": "code",
   "execution_count": 48,
   "id": "e882a733-72ce-40dc-ae5a-4e8d6a998d31",
   "metadata": {
    "id": "e882a733-72ce-40dc-ae5a-4e8d6a998d31"
   },
   "outputs": [],
   "source": [
    "data = CandleData(df_1min, df_5min, df_1hour, df_1day)\n",
    "\n",
    "\n",
    "dataset_train = dataset(data, inds_train, count_samples=64*500, len_seq=200, batch_size=64, shuffle=True)\n",
    "dataset_valid = dataset(data, inds_valid, count_samples=64*100, len_seq=200, batch_size=64, shuffle=False)\n",
    "dataset_test = dataset(data, inds_test, count_samples=64*100, len_seq=200, batch_size=64, shuffle=False)\n",
    "dataset_test2 = dataset(data, inds_test2, count_samples=64*100, len_seq=200, batch_size=64, shuffle=False)"
   ]
  },
  {
   "cell_type": "code",
   "execution_count": 49,
   "id": "535ea209-b85f-45cf-8acf-4a1920663cad",
   "metadata": {
    "colab": {
     "base_uri": "https://localhost:8080/"
    },
    "id": "535ea209-b85f-45cf-8acf-4a1920663cad",
    "outputId": "342776ec-293e-4b17-b7cb-3c6fe06f8aef"
   },
   "outputs": [
    {
     "data": {
      "text/plain": [
       "(500, 100, 100, 100)"
      ]
     },
     "execution_count": 49,
     "metadata": {},
     "output_type": "execute_result"
    }
   ],
   "source": [
    "len(dataset_train), len(dataset_valid), len(dataset_test), len(dataset_test2)"
   ]
  },
  {
   "cell_type": "code",
   "execution_count": 50,
   "id": "9529f2f0-1dec-4112-b04a-9c5240379f6a",
   "metadata": {
    "colab": {
     "base_uri": "https://localhost:8080/"
    },
    "id": "9529f2f0-1dec-4112-b04a-9c5240379f6a",
    "outputId": "6d522c01-5220-4a5d-a024-ed3cfc47085a"
   },
   "outputs": [
    {
     "data": {
      "text/plain": [
       "(32000, 6400, 6400, 6400)"
      ]
     },
     "execution_count": 50,
     "metadata": {},
     "output_type": "execute_result"
    }
   ],
   "source": [
    "len(dataset_train)*dataset_train.batch_size, len(dataset_valid)*dataset_valid.batch_size, len(dataset_test)*dataset_test.batch_size, len(dataset_test2)*dataset_test2.batch_size"
   ]
  },
  {
   "cell_type": "code",
   "execution_count": 51,
   "id": "e60dc6d7-d7ff-4d3a-b8e4-dbe111aaaec9",
   "metadata": {
    "id": "e60dc6d7-d7ff-4d3a-b8e4-dbe111aaaec9"
   },
   "outputs": [],
   "source": [
    "# #\n",
    "# dataset_train_subsample = dataset(data, inds_train, count_samples=1000, len_seq=200, batch_size=64, shuffle=True)\n",
    "# dataset_valid_subsample = dataset(data, inds_valid, count_samples=1000, len_seq=200, batch_size=64, shuffle=True)\n",
    "# dataset_test_subsample = dataset(data, inds_test, count_samples=1000, len_seq=200, batch_size=64, shuffle=True)\n",
    "# dataset_test2_subsample = dataset(data, inds_test2, count_samples=1000, len_seq=200, batch_size=64, shuffle=False)"
   ]
  },
  {
   "cell_type": "code",
   "execution_count": null,
   "id": "97d4cc74-9aa7-49cc-bbb1-850aec2f0237",
   "metadata": {
    "id": "97d4cc74-9aa7-49cc-bbb1-850aec2f0237"
   },
   "outputs": [],
   "source": []
  },
  {
   "cell_type": "markdown",
   "id": "3cf6eeff-03a2-4432-9238-bdd15cc60725",
   "metadata": {
    "id": "3cf6eeff-03a2-4432-9238-bdd15cc60725"
   },
   "source": [
    "#### 4.2 Model"
   ]
  },
  {
   "cell_type": "code",
   "execution_count": 53,
   "id": "eebc5b70-5606-4ff1-9a98-c9ce68a5c076",
   "metadata": {
    "id": "eebc5b70-5606-4ff1-9a98-c9ce68a5c076"
   },
   "outputs": [],
   "source": [
    "import math\n",
    "import numpy as np\n",
    "import pandas as pd\n",
    "\n",
    "import tensorflow as tf\n",
    "from tensorflow.keras.models import Model\n",
    "from tensorflow.keras.callbacks import ModelCheckpoint\n",
    "from tensorflow.keras.layers import Input, Dense, Dropout, LayerNormalization, MultiHeadAttention, Add, GlobalAveragePooling1D\n",
    "\n",
    "\n",
    "\n",
    "def transformer_encoder(inputs, head_size, num_heads, ff_dim, dropout=0):\n",
    "    # Attention and Normalization\n",
    "    x = LayerNormalization(epsilon=1e-6)(inputs)\n",
    "    x = MultiHeadAttention(key_dim=head_size, num_heads=num_heads, dropout=dropout)(x, x)\n",
    "    x = Add()([x, inputs])\n",
    "\n",
    "    # Feed Forward Part\n",
    "    y = LayerNormalization(epsilon=1e-6)(x)\n",
    "    y = Dense(ff_dim, activation=\"relu\")(y)\n",
    "    y = Dropout(dropout)(y)\n",
    "    y = Dense(inputs.shape[-1])(y)\n",
    "    return Add()([y, x])\n",
    "\n",
    "\n",
    "def build_transformer_model(input_shape, head_size, num_heads, ff_dim, num_layers, dropout=0):\n",
    "    inputs = Input(shape=input_shape)\n",
    "    x = inputs\n",
    "    for _ in range(num_layers):\n",
    "        x = transformer_encoder(x, head_size, num_heads, ff_dim, dropout)\n",
    "    x = GlobalAveragePooling1D()(x)\n",
    "    x = LayerNormalization(epsilon=1e-6)(x)\n",
    "    outputs = Dense(1, activation=\"sigmoid\")(x)\n",
    "    return Model(inputs=inputs, outputs=outputs)\n",
    "\n",
    "\n",
    "# def build_transformer_model(input_shape, head_size, num_heads, ff_dim, num_layers, dropout=0):\n",
    "#     input_num = tf.keras.layers.Input(shape=input_shape, name='input_numeric')\n",
    "\n",
    "#     ticker_size = 18 #count of stocks\n",
    "#     input_emb = tf.keras.layers.Input(shape=(1,), name='input_ticker')\n",
    "#     emb = tf.keras.layers.Embedding(ticker_size, 5) (input_emb)\n",
    "#     emb_reshaped = tf.keras.layers.Reshape(target_shape=(5,))(emb)\n",
    "#     emb_reshaped_repeat = tf.keras.layers.RepeatVector(input_shape[0])(emb_reshaped)\n",
    "\n",
    "#     x = tf.keras.layers.concatenate([input_num, emb_reshaped_repeat])\n",
    "\n",
    "#     for _ in range(num_layers):\n",
    "#         x = transformer_encoder(x, head_size, num_heads, ff_dim, dropout)\n",
    "#     x = GlobalAveragePooling1D()(x)\n",
    "#     x = LayerNormalization(epsilon=1e-6)(x)\n",
    "\n",
    "#     outputs = Dense(1, activation=\"sigmoid\")(x)\n",
    "\n",
    "#     return Model(inputs=[input_num, input_emb], outputs=outputs)\n",
    "\n",
    "# def build_transformer_model(input_shape, head_size, num_heads, ff_dim, num_layers, dropout=0):\n",
    "#     input_num = tf.keras.layers.Input(shape=input_shape, name='input_numeric')\n",
    "\n",
    "\n",
    "\n",
    "#     x = input_num\n",
    "\n",
    "#     for _ in range(num_layers):\n",
    "#         x = transformer_encoder(x, head_size, num_heads, ff_dim, dropout)\n",
    "#     x = GlobalAveragePooling1D()(x)\n",
    "#     x = LayerNormalization(epsilon=1e-6)(x)\n",
    "\n",
    "\n",
    "#     ticker_size = 18 #count of stocks\n",
    "#     input_emb = tf.keras.layers.Input(shape=(1,), name='input_ticker')\n",
    "#     emb = tf.keras.layers.Embedding(ticker_size, 4) (input_emb)\n",
    "#     emb = tf.keras.layers.Reshape(target_shape=(4,))(emb)\n",
    "\n",
    "#     x = tf.keras.layers.concatenate([x, emb])\n",
    "\n",
    "#     outputs = Dense(1, activation=\"sigmoid\")(x)\n",
    "\n",
    "#     return Model(inputs=[input_num, input_emb], outputs=outputs)"
   ]
  },
  {
   "cell_type": "code",
   "execution_count": null,
   "id": "a779075b-6b41-4dc3-ae5d-55b29b0a83a4",
   "metadata": {
    "id": "a779075b-6b41-4dc3-ae5d-55b29b0a83a4"
   },
   "outputs": [],
   "source": []
  },
  {
   "cell_type": "code",
   "execution_count": null,
   "id": "24e87430-2588-4435-87c5-35720a25ab85",
   "metadata": {
    "id": "24e87430-2588-4435-87c5-35720a25ab85"
   },
   "outputs": [],
   "source": []
  },
  {
   "cell_type": "markdown",
   "id": "5c3029d2-759b-45a0-b7b0-c55abe1597cc",
   "metadata": {
    "id": "5c3029d2-759b-45a0-b7b0-c55abe1597cc"
   },
   "source": [
    "#### 4.3 WarmUpCosineDecay"
   ]
  },
  {
   "cell_type": "code",
   "execution_count": 55,
   "id": "fc9bdc1f-770b-4af1-ac3f-de0b9984a8ea",
   "metadata": {
    "id": "fc9bdc1f-770b-4af1-ac3f-de0b9984a8ea"
   },
   "outputs": [],
   "source": [
    "from tensorflow import keras\n",
    "\n",
    "def lr_warmup_cosine_decay(global_step,\n",
    "                           warmup_steps,\n",
    "                           hold = 0,\n",
    "                           total_steps=0,\n",
    "                           start_lr=0.0,\n",
    "                           target_lr=1e-3):\n",
    "    # Cosine decay\n",
    "    # There is no tf.pi so we wrap np.pi as a TF constant\n",
    "    #learning_rate = 0.5 * target_lr * (1 + tf.cos(tf.constant(np.pi) * (global_step - warmup_steps - hold) / float(total_steps - warmup_steps - hold)))\n",
    "    learning_rate = 0.5 * target_lr * (1 + tf.cos(tf.constant(np.pi) * tf.cast((global_step - warmup_steps - hold), tf.float32) / tf.cast(total_steps - warmup_steps - hold, tf.float32)))\n",
    "\n",
    "\n",
    "    # Target LR * progress of warmup (=1 at the final warmup step)\n",
    "    warmup_lr = target_lr * (global_step / warmup_steps)\n",
    "\n",
    "    # Choose between `warmup_lr`, `target_lr` and `learning_rate` based on whether `global_step < warmup_steps` and we're still holding.\n",
    "    # i.e. warm up if we're still warming up and use cosine decayed lr otherwise\n",
    "    if hold > 0:\n",
    "        learning_rate = tf.where(global_step > warmup_steps + hold,\n",
    "                                 learning_rate, target_lr)\n",
    "\n",
    "    learning_rate = tf.where(global_step < warmup_steps, warmup_lr, learning_rate)\n",
    "\n",
    "    return learning_rate\n",
    "\n",
    "\n",
    "class WarmUpCosineDecay(keras.optimizers.schedules.LearningRateSchedule):\n",
    "    def __init__(self, start_lr, target_lr, warmup_steps, total_steps, hold):\n",
    "        super().__init__()\n",
    "        self.start_lr = start_lr\n",
    "        self.target_lr = target_lr\n",
    "        self.warmup_steps = warmup_steps\n",
    "        self.total_steps = total_steps\n",
    "        self.hold = hold\n",
    "\n",
    "    def __call__(self, step):\n",
    "        lr = lr_warmup_cosine_decay(global_step=step,\n",
    "                                    total_steps=self.total_steps,\n",
    "                                    warmup_steps=self.warmup_steps,\n",
    "                                    start_lr=self.start_lr,\n",
    "                                    target_lr=self.target_lr,\n",
    "                                    hold=self.hold)\n",
    "\n",
    "        return tf.where(\n",
    "            step > self.total_steps, 0.0, lr, name=\"learning_rate\"\n",
    "        )\n",
    "    def get_config(self):\n",
    "        config = {\n",
    "          'start_lr': self.start_lr,\n",
    "          'target_lr': self.target_lr,\n",
    "          'warmup_steps': self.warmup_steps,\n",
    "          'total_steps': self.total_steps,\n",
    "          'hold': self.hold\n",
    "        }\n",
    "        return config\n",
    "\n"
   ]
  },
  {
   "cell_type": "code",
   "execution_count": null,
   "id": "2895fde1-004c-4432-8e07-31854dc32e17",
   "metadata": {
    "id": "2895fde1-004c-4432-8e07-31854dc32e17"
   },
   "outputs": [],
   "source": []
  },
  {
   "cell_type": "markdown",
   "id": "2785b48a-7912-4e28-9b81-01f2102ac9c1",
   "metadata": {
    "id": "2785b48a-7912-4e28-9b81-01f2102ac9c1"
   },
   "source": [
    "#### 4.4 Callbacks"
   ]
  },
  {
   "cell_type": "code",
   "execution_count": 57,
   "id": "57f56ee3-4de3-427e-a945-d6254ca32ad7",
   "metadata": {
    "id": "57f56ee3-4de3-427e-a945-d6254ca32ad7"
   },
   "outputs": [],
   "source": [
    "# метрики на конец эпохи"
   ]
  },
  {
   "cell_type": "code",
   "execution_count": 58,
   "id": "3d0f7791-22e4-41e8-b8c4-e3dbe55b68b5",
   "metadata": {
    "id": "3d0f7791-22e4-41e8-b8c4-e3dbe55b68b5"
   },
   "outputs": [],
   "source": [
    "def get_y_true(data):\n",
    "    return data.data.target_1min[data.inds[:len(data)*data.batch_size]]\n",
    "\n",
    "def precision(y_true, y_pred, threshold):\n",
    "    mask = y_pred.ravel() > threshold\n",
    "    return mask.sum(), y_true.ravel()[mask].mean()\n",
    "\n",
    "\n",
    "\n",
    "class MetricsCallback(keras.callbacks.Callback):\n",
    "    def __init__(self, datasets):\n",
    "        self.datasets = datasets\n",
    "        self.list_auc = []\n",
    "        self.list_auc_95 = []\n",
    "        self.list_precision = []\n",
    "        self.list_precision_5 = []\n",
    "        # self.list_percent = []\n",
    "        # self.list_count = []\n",
    "        super(MetricsCallback, self).__init__()\n",
    "\n",
    "    def on_epoch_end(self, epoch, logs=None):\n",
    "\n",
    "        list_y_true = []\n",
    "        list_y_pred = []\n",
    "\n",
    "        list_auc = []\n",
    "        list_auc_95 = []\n",
    "        list_precision = []\n",
    "        list_precision_5 = []\n",
    "        # list_count = []\n",
    "        # list_percent = []\n",
    "        for dataset in self.datasets:\n",
    "            y_true = get_y_true(dataset)\n",
    "            y_pred = self.model.predict(dataset)\n",
    "\n",
    "            list_auc += [roc_auc_score(y_true, y_pred)]\n",
    "            \n",
    "            #auc_95\n",
    "            threshold = np.quantile(y_pred, q=0.95)\n",
    "            mask = y_pred.ravel() > threshold\n",
    "            list_auc_95 += [roc_auc_score(y_true.ravel()[mask], y_pred.ravel()[mask])]\n",
    "\n",
    "            #precision\n",
    "            threshold = np.quantile(y_pred, q=0.99)\n",
    "            mask = y_pred.ravel() > threshold\n",
    "            list_precision += [y_true.ravel()[mask].mean()]\n",
    "\n",
    "            threshold = np.quantile(y_pred, q=0.95)\n",
    "            mask = y_pred.ravel() > threshold\n",
    "            list_precision_5 += [y_true.ravel()[mask].mean()]\n",
    "\n",
    "#evaluate using one threshold\n",
    "        # for dataset in self.datasets:\n",
    "        #     y_true = get_y_true(dataset)\n",
    "        #     y_pred = self.model.predict(dataset)\n",
    "\n",
    "        #     list_y_true += [y_true]\n",
    "        #     list_y_pred += [y_pred]\n",
    "\n",
    "\n",
    "        # threshold = np.quantile(list_y_pred[1], q=0.99)\n",
    "\n",
    "        # for y_true, y_pred in zip(list_y_true, list_y_pred):\n",
    "        #     list_auc += [roc_auc_score(y_true, y_pred)]\n",
    "\n",
    "        #     mask = y_pred.ravel() > threshold\n",
    "        #     list_precision += [y_true.ravel()[mask].mean()]\n",
    "        #     list_count += [mask.sum()]\n",
    "        #     list_percent += [mask.mean()]\n",
    "\n",
    "        # del list_y_true, list_y_pred\n",
    "        # gc.collect()\n",
    "\n",
    "\n",
    "\n",
    "        self.list_auc += [list_auc.copy()]\n",
    "        self.list_auc_95 += [list_auc_95.copy()]\n",
    "        self.list_precision += [list_precision.copy()]\n",
    "        self.list_precision_5 += [list_precision_5.copy()]\n",
    "        # self.list_percent += [list_percent.copy()]\n",
    "        # self.list_count += [list_count.copy()]\n",
    "\n",
    "\n",
    "        print('AUC_ROC: ', np.round(list_auc, decimals=3).tolist())\n",
    "        print('AUC_ROC_95: ', np.round(list_auc_95, decimals=3).tolist())\n",
    "        # print('COUNT: ', np.round(list_count, decimals=3).tolist())\n",
    "        # print('PERCENT: ', np.round(list_percent, decimals=3).tolist())\n",
    "        print('PRECISION: ', np.round(list_precision, decimals=3).tolist())\n",
    "        #print('PRECISION_5: ', np.round(list_precision_5, decimals=3).tolist())\n",
    "\n",
    "        print()\n",
    "\n",
    "\n"
   ]
  },
  {
   "cell_type": "markdown",
   "id": "UPYb1rTrXGmp",
   "metadata": {
    "id": "UPYb1rTrXGmp"
   },
   "source": []
  },
  {
   "cell_type": "code",
   "execution_count": null,
   "id": "b3063efa-6159-4264-94b5-1508b58bf807",
   "metadata": {
    "id": "b3063efa-6159-4264-94b5-1508b58bf807"
   },
   "outputs": [],
   "source": []
  },
  {
   "cell_type": "code",
   "execution_count": null,
   "id": "aa0f1dcf-19d8-444a-8cb0-05e08a323863",
   "metadata": {
    "id": "aa0f1dcf-19d8-444a-8cb0-05e08a323863"
   },
   "outputs": [],
   "source": []
  },
  {
   "cell_type": "markdown",
   "id": "7ba56dad-ea4c-4cf5-a78c-8d23f8058ea9",
   "metadata": {
    "id": "7ba56dad-ea4c-4cf5-a78c-8d23f8058ea9"
   },
   "source": [
    "#### 4.5 Train"
   ]
  },
  {
   "cell_type": "code",
   "execution_count": 61,
   "id": "R9QqBhnaXTt_",
   "metadata": {
    "colab": {
     "base_uri": "https://localhost:8080/"
    },
    "id": "R9QqBhnaXTt_",
    "outputId": "2903e965-8bb4-408c-bda4-b40495caadd0"
   },
   "outputs": [
    {
     "name": "stdout",
     "output_type": "stream",
     "text": [
      "mkdir: models: File exists\n"
     ]
    }
   ],
   "source": [
    "! mkdir models"
   ]
  },
  {
   "cell_type": "code",
   "execution_count": 62,
   "id": "22919002-d209-4699-afd0-34d255ee79a8",
   "metadata": {},
   "outputs": [
    {
     "data": {
      "text/plain": [
       "(200, 166)"
      ]
     },
     "execution_count": 62,
     "metadata": {},
     "output_type": "execute_result"
    }
   ],
   "source": [
    "dataset_train.__getitem__(0)[0][0].shape"
   ]
  },
  {
   "cell_type": "code",
   "execution_count": 63,
   "id": "sDrf9u58G2Us",
   "metadata": {
    "colab": {
     "base_uri": "https://localhost:8080/",
     "height": 1000
    },
    "id": "sDrf9u58G2Us",
    "outputId": "a1c5d2f2-d814-418c-a3cb-7d32d63bbd85"
   },
   "outputs": [
    {
     "data": {
      "text/html": [
       "<pre style=\"white-space:pre;overflow-x:auto;line-height:normal;font-family:Menlo,'DejaVu Sans Mono',consolas,'Courier New',monospace\"><span style=\"font-weight: bold\">Model: \"functional\"</span>\n",
       "</pre>\n"
      ],
      "text/plain": [
       "\u001b[1mModel: \"functional\"\u001b[0m\n"
      ]
     },
     "metadata": {},
     "output_type": "display_data"
    },
    {
     "data": {
      "text/html": [
       "<pre style=\"white-space:pre;overflow-x:auto;line-height:normal;font-family:Menlo,'DejaVu Sans Mono',consolas,'Courier New',monospace\">┏━━━━━━━━━━━━━━━━━━━━━┳━━━━━━━━━━━━━━━━━━━┳━━━━━━━━━━━━┳━━━━━━━━━━━━━━━━━━━┓\n",
       "┃<span style=\"font-weight: bold\"> Layer (type)        </span>┃<span style=\"font-weight: bold\"> Output Shape      </span>┃<span style=\"font-weight: bold\">    Param # </span>┃<span style=\"font-weight: bold\"> Connected to      </span>┃\n",
       "┡━━━━━━━━━━━━━━━━━━━━━╇━━━━━━━━━━━━━━━━━━━╇━━━━━━━━━━━━╇━━━━━━━━━━━━━━━━━━━┩\n",
       "│ input_layer         │ (<span style=\"color: #00d7ff; text-decoration-color: #00d7ff\">None</span>, <span style=\"color: #00af00; text-decoration-color: #00af00\">200</span>, <span style=\"color: #00af00; text-decoration-color: #00af00\">166</span>)  │          <span style=\"color: #00af00; text-decoration-color: #00af00\">0</span> │ -                 │\n",
       "│ (<span style=\"color: #0087ff; text-decoration-color: #0087ff\">InputLayer</span>)        │                   │            │                   │\n",
       "├─────────────────────┼───────────────────┼────────────┼───────────────────┤\n",
       "│ layer_normalization │ (<span style=\"color: #00d7ff; text-decoration-color: #00d7ff\">None</span>, <span style=\"color: #00af00; text-decoration-color: #00af00\">200</span>, <span style=\"color: #00af00; text-decoration-color: #00af00\">166</span>)  │        <span style=\"color: #00af00; text-decoration-color: #00af00\">332</span> │ input_layer[<span style=\"color: #00af00; text-decoration-color: #00af00\">0</span>][<span style=\"color: #00af00; text-decoration-color: #00af00\">0</span>] │\n",
       "│ (<span style=\"color: #0087ff; text-decoration-color: #0087ff\">LayerNormalizatio…</span> │                   │            │                   │\n",
       "├─────────────────────┼───────────────────┼────────────┼───────────────────┤\n",
       "│ multi_head_attenti… │ (<span style=\"color: #00d7ff; text-decoration-color: #00d7ff\">None</span>, <span style=\"color: #00af00; text-decoration-color: #00af00\">200</span>, <span style=\"color: #00af00; text-decoration-color: #00af00\">166</span>)  │    <span style=\"color: #00af00; text-decoration-color: #00af00\">683,174</span> │ layer_normalizat… │\n",
       "│ (<span style=\"color: #0087ff; text-decoration-color: #0087ff\">MultiHeadAttentio…</span> │                   │            │ layer_normalizat… │\n",
       "├─────────────────────┼───────────────────┼────────────┼───────────────────┤\n",
       "│ add (<span style=\"color: #0087ff; text-decoration-color: #0087ff\">Add</span>)           │ (<span style=\"color: #00d7ff; text-decoration-color: #00d7ff\">None</span>, <span style=\"color: #00af00; text-decoration-color: #00af00\">200</span>, <span style=\"color: #00af00; text-decoration-color: #00af00\">166</span>)  │          <span style=\"color: #00af00; text-decoration-color: #00af00\">0</span> │ multi_head_atten… │\n",
       "│                     │                   │            │ input_layer[<span style=\"color: #00af00; text-decoration-color: #00af00\">0</span>][<span style=\"color: #00af00; text-decoration-color: #00af00\">0</span>] │\n",
       "├─────────────────────┼───────────────────┼────────────┼───────────────────┤\n",
       "│ layer_normalizatio… │ (<span style=\"color: #00d7ff; text-decoration-color: #00d7ff\">None</span>, <span style=\"color: #00af00; text-decoration-color: #00af00\">200</span>, <span style=\"color: #00af00; text-decoration-color: #00af00\">166</span>)  │        <span style=\"color: #00af00; text-decoration-color: #00af00\">332</span> │ add[<span style=\"color: #00af00; text-decoration-color: #00af00\">0</span>][<span style=\"color: #00af00; text-decoration-color: #00af00\">0</span>]         │\n",
       "│ (<span style=\"color: #0087ff; text-decoration-color: #0087ff\">LayerNormalizatio…</span> │                   │            │                   │\n",
       "├─────────────────────┼───────────────────┼────────────┼───────────────────┤\n",
       "│ dense (<span style=\"color: #0087ff; text-decoration-color: #0087ff\">Dense</span>)       │ (<span style=\"color: #00d7ff; text-decoration-color: #00d7ff\">None</span>, <span style=\"color: #00af00; text-decoration-color: #00af00\">200</span>, <span style=\"color: #00af00; text-decoration-color: #00af00\">512</span>)  │     <span style=\"color: #00af00; text-decoration-color: #00af00\">85,504</span> │ layer_normalizat… │\n",
       "├─────────────────────┼───────────────────┼────────────┼───────────────────┤\n",
       "│ dropout_1 (<span style=\"color: #0087ff; text-decoration-color: #0087ff\">Dropout</span>) │ (<span style=\"color: #00d7ff; text-decoration-color: #00d7ff\">None</span>, <span style=\"color: #00af00; text-decoration-color: #00af00\">200</span>, <span style=\"color: #00af00; text-decoration-color: #00af00\">512</span>)  │          <span style=\"color: #00af00; text-decoration-color: #00af00\">0</span> │ dense[<span style=\"color: #00af00; text-decoration-color: #00af00\">0</span>][<span style=\"color: #00af00; text-decoration-color: #00af00\">0</span>]       │\n",
       "├─────────────────────┼───────────────────┼────────────┼───────────────────┤\n",
       "│ dense_1 (<span style=\"color: #0087ff; text-decoration-color: #0087ff\">Dense</span>)     │ (<span style=\"color: #00d7ff; text-decoration-color: #00d7ff\">None</span>, <span style=\"color: #00af00; text-decoration-color: #00af00\">200</span>, <span style=\"color: #00af00; text-decoration-color: #00af00\">166</span>)  │     <span style=\"color: #00af00; text-decoration-color: #00af00\">85,158</span> │ dropout_1[<span style=\"color: #00af00; text-decoration-color: #00af00\">0</span>][<span style=\"color: #00af00; text-decoration-color: #00af00\">0</span>]   │\n",
       "├─────────────────────┼───────────────────┼────────────┼───────────────────┤\n",
       "│ add_1 (<span style=\"color: #0087ff; text-decoration-color: #0087ff\">Add</span>)         │ (<span style=\"color: #00d7ff; text-decoration-color: #00d7ff\">None</span>, <span style=\"color: #00af00; text-decoration-color: #00af00\">200</span>, <span style=\"color: #00af00; text-decoration-color: #00af00\">166</span>)  │          <span style=\"color: #00af00; text-decoration-color: #00af00\">0</span> │ dense_1[<span style=\"color: #00af00; text-decoration-color: #00af00\">0</span>][<span style=\"color: #00af00; text-decoration-color: #00af00\">0</span>],    │\n",
       "│                     │                   │            │ add[<span style=\"color: #00af00; text-decoration-color: #00af00\">0</span>][<span style=\"color: #00af00; text-decoration-color: #00af00\">0</span>]         │\n",
       "├─────────────────────┼───────────────────┼────────────┼───────────────────┤\n",
       "│ layer_normalizatio… │ (<span style=\"color: #00d7ff; text-decoration-color: #00d7ff\">None</span>, <span style=\"color: #00af00; text-decoration-color: #00af00\">200</span>, <span style=\"color: #00af00; text-decoration-color: #00af00\">166</span>)  │        <span style=\"color: #00af00; text-decoration-color: #00af00\">332</span> │ add_1[<span style=\"color: #00af00; text-decoration-color: #00af00\">0</span>][<span style=\"color: #00af00; text-decoration-color: #00af00\">0</span>]       │\n",
       "│ (<span style=\"color: #0087ff; text-decoration-color: #0087ff\">LayerNormalizatio…</span> │                   │            │                   │\n",
       "├─────────────────────┼───────────────────┼────────────┼───────────────────┤\n",
       "│ multi_head_attenti… │ (<span style=\"color: #00d7ff; text-decoration-color: #00d7ff\">None</span>, <span style=\"color: #00af00; text-decoration-color: #00af00\">200</span>, <span style=\"color: #00af00; text-decoration-color: #00af00\">166</span>)  │    <span style=\"color: #00af00; text-decoration-color: #00af00\">683,174</span> │ layer_normalizat… │\n",
       "│ (<span style=\"color: #0087ff; text-decoration-color: #0087ff\">MultiHeadAttentio…</span> │                   │            │ layer_normalizat… │\n",
       "├─────────────────────┼───────────────────┼────────────┼───────────────────┤\n",
       "│ add_2 (<span style=\"color: #0087ff; text-decoration-color: #0087ff\">Add</span>)         │ (<span style=\"color: #00d7ff; text-decoration-color: #00d7ff\">None</span>, <span style=\"color: #00af00; text-decoration-color: #00af00\">200</span>, <span style=\"color: #00af00; text-decoration-color: #00af00\">166</span>)  │          <span style=\"color: #00af00; text-decoration-color: #00af00\">0</span> │ multi_head_atten… │\n",
       "│                     │                   │            │ add_1[<span style=\"color: #00af00; text-decoration-color: #00af00\">0</span>][<span style=\"color: #00af00; text-decoration-color: #00af00\">0</span>]       │\n",
       "├─────────────────────┼───────────────────┼────────────┼───────────────────┤\n",
       "│ layer_normalizatio… │ (<span style=\"color: #00d7ff; text-decoration-color: #00d7ff\">None</span>, <span style=\"color: #00af00; text-decoration-color: #00af00\">200</span>, <span style=\"color: #00af00; text-decoration-color: #00af00\">166</span>)  │        <span style=\"color: #00af00; text-decoration-color: #00af00\">332</span> │ add_2[<span style=\"color: #00af00; text-decoration-color: #00af00\">0</span>][<span style=\"color: #00af00; text-decoration-color: #00af00\">0</span>]       │\n",
       "│ (<span style=\"color: #0087ff; text-decoration-color: #0087ff\">LayerNormalizatio…</span> │                   │            │                   │\n",
       "├─────────────────────┼───────────────────┼────────────┼───────────────────┤\n",
       "│ dense_2 (<span style=\"color: #0087ff; text-decoration-color: #0087ff\">Dense</span>)     │ (<span style=\"color: #00d7ff; text-decoration-color: #00d7ff\">None</span>, <span style=\"color: #00af00; text-decoration-color: #00af00\">200</span>, <span style=\"color: #00af00; text-decoration-color: #00af00\">512</span>)  │     <span style=\"color: #00af00; text-decoration-color: #00af00\">85,504</span> │ layer_normalizat… │\n",
       "├─────────────────────┼───────────────────┼────────────┼───────────────────┤\n",
       "│ dropout_3 (<span style=\"color: #0087ff; text-decoration-color: #0087ff\">Dropout</span>) │ (<span style=\"color: #00d7ff; text-decoration-color: #00d7ff\">None</span>, <span style=\"color: #00af00; text-decoration-color: #00af00\">200</span>, <span style=\"color: #00af00; text-decoration-color: #00af00\">512</span>)  │          <span style=\"color: #00af00; text-decoration-color: #00af00\">0</span> │ dense_2[<span style=\"color: #00af00; text-decoration-color: #00af00\">0</span>][<span style=\"color: #00af00; text-decoration-color: #00af00\">0</span>]     │\n",
       "├─────────────────────┼───────────────────┼────────────┼───────────────────┤\n",
       "│ dense_3 (<span style=\"color: #0087ff; text-decoration-color: #0087ff\">Dense</span>)     │ (<span style=\"color: #00d7ff; text-decoration-color: #00d7ff\">None</span>, <span style=\"color: #00af00; text-decoration-color: #00af00\">200</span>, <span style=\"color: #00af00; text-decoration-color: #00af00\">166</span>)  │     <span style=\"color: #00af00; text-decoration-color: #00af00\">85,158</span> │ dropout_3[<span style=\"color: #00af00; text-decoration-color: #00af00\">0</span>][<span style=\"color: #00af00; text-decoration-color: #00af00\">0</span>]   │\n",
       "├─────────────────────┼───────────────────┼────────────┼───────────────────┤\n",
       "│ add_3 (<span style=\"color: #0087ff; text-decoration-color: #0087ff\">Add</span>)         │ (<span style=\"color: #00d7ff; text-decoration-color: #00d7ff\">None</span>, <span style=\"color: #00af00; text-decoration-color: #00af00\">200</span>, <span style=\"color: #00af00; text-decoration-color: #00af00\">166</span>)  │          <span style=\"color: #00af00; text-decoration-color: #00af00\">0</span> │ dense_3[<span style=\"color: #00af00; text-decoration-color: #00af00\">0</span>][<span style=\"color: #00af00; text-decoration-color: #00af00\">0</span>],    │\n",
       "│                     │                   │            │ add_2[<span style=\"color: #00af00; text-decoration-color: #00af00\">0</span>][<span style=\"color: #00af00; text-decoration-color: #00af00\">0</span>]       │\n",
       "├─────────────────────┼───────────────────┼────────────┼───────────────────┤\n",
       "│ global_average_poo… │ (<span style=\"color: #00d7ff; text-decoration-color: #00d7ff\">None</span>, <span style=\"color: #00af00; text-decoration-color: #00af00\">166</span>)       │          <span style=\"color: #00af00; text-decoration-color: #00af00\">0</span> │ add_3[<span style=\"color: #00af00; text-decoration-color: #00af00\">0</span>][<span style=\"color: #00af00; text-decoration-color: #00af00\">0</span>]       │\n",
       "│ (<span style=\"color: #0087ff; text-decoration-color: #0087ff\">GlobalAveragePool…</span> │                   │            │                   │\n",
       "├─────────────────────┼───────────────────┼────────────┼───────────────────┤\n",
       "│ layer_normalizatio… │ (<span style=\"color: #00d7ff; text-decoration-color: #00d7ff\">None</span>, <span style=\"color: #00af00; text-decoration-color: #00af00\">166</span>)       │        <span style=\"color: #00af00; text-decoration-color: #00af00\">332</span> │ global_average_p… │\n",
       "│ (<span style=\"color: #0087ff; text-decoration-color: #0087ff\">LayerNormalizatio…</span> │                   │            │                   │\n",
       "├─────────────────────┼───────────────────┼────────────┼───────────────────┤\n",
       "│ dense_4 (<span style=\"color: #0087ff; text-decoration-color: #0087ff\">Dense</span>)     │ (<span style=\"color: #00d7ff; text-decoration-color: #00d7ff\">None</span>, <span style=\"color: #00af00; text-decoration-color: #00af00\">1</span>)         │        <span style=\"color: #00af00; text-decoration-color: #00af00\">167</span> │ layer_normalizat… │\n",
       "└─────────────────────┴───────────────────┴────────────┴───────────────────┘\n",
       "</pre>\n"
      ],
      "text/plain": [
       "┏━━━━━━━━━━━━━━━━━━━━━┳━━━━━━━━━━━━━━━━━━━┳━━━━━━━━━━━━┳━━━━━━━━━━━━━━━━━━━┓\n",
       "┃\u001b[1m \u001b[0m\u001b[1mLayer (type)       \u001b[0m\u001b[1m \u001b[0m┃\u001b[1m \u001b[0m\u001b[1mOutput Shape     \u001b[0m\u001b[1m \u001b[0m┃\u001b[1m \u001b[0m\u001b[1m   Param #\u001b[0m\u001b[1m \u001b[0m┃\u001b[1m \u001b[0m\u001b[1mConnected to     \u001b[0m\u001b[1m \u001b[0m┃\n",
       "┡━━━━━━━━━━━━━━━━━━━━━╇━━━━━━━━━━━━━━━━━━━╇━━━━━━━━━━━━╇━━━━━━━━━━━━━━━━━━━┩\n",
       "│ input_layer         │ (\u001b[38;5;45mNone\u001b[0m, \u001b[38;5;34m200\u001b[0m, \u001b[38;5;34m166\u001b[0m)  │          \u001b[38;5;34m0\u001b[0m │ -                 │\n",
       "│ (\u001b[38;5;33mInputLayer\u001b[0m)        │                   │            │                   │\n",
       "├─────────────────────┼───────────────────┼────────────┼───────────────────┤\n",
       "│ layer_normalization │ (\u001b[38;5;45mNone\u001b[0m, \u001b[38;5;34m200\u001b[0m, \u001b[38;5;34m166\u001b[0m)  │        \u001b[38;5;34m332\u001b[0m │ input_layer[\u001b[38;5;34m0\u001b[0m][\u001b[38;5;34m0\u001b[0m] │\n",
       "│ (\u001b[38;5;33mLayerNormalizatio…\u001b[0m │                   │            │                   │\n",
       "├─────────────────────┼───────────────────┼────────────┼───────────────────┤\n",
       "│ multi_head_attenti… │ (\u001b[38;5;45mNone\u001b[0m, \u001b[38;5;34m200\u001b[0m, \u001b[38;5;34m166\u001b[0m)  │    \u001b[38;5;34m683,174\u001b[0m │ layer_normalizat… │\n",
       "│ (\u001b[38;5;33mMultiHeadAttentio…\u001b[0m │                   │            │ layer_normalizat… │\n",
       "├─────────────────────┼───────────────────┼────────────┼───────────────────┤\n",
       "│ add (\u001b[38;5;33mAdd\u001b[0m)           │ (\u001b[38;5;45mNone\u001b[0m, \u001b[38;5;34m200\u001b[0m, \u001b[38;5;34m166\u001b[0m)  │          \u001b[38;5;34m0\u001b[0m │ multi_head_atten… │\n",
       "│                     │                   │            │ input_layer[\u001b[38;5;34m0\u001b[0m][\u001b[38;5;34m0\u001b[0m] │\n",
       "├─────────────────────┼───────────────────┼────────────┼───────────────────┤\n",
       "│ layer_normalizatio… │ (\u001b[38;5;45mNone\u001b[0m, \u001b[38;5;34m200\u001b[0m, \u001b[38;5;34m166\u001b[0m)  │        \u001b[38;5;34m332\u001b[0m │ add[\u001b[38;5;34m0\u001b[0m][\u001b[38;5;34m0\u001b[0m]         │\n",
       "│ (\u001b[38;5;33mLayerNormalizatio…\u001b[0m │                   │            │                   │\n",
       "├─────────────────────┼───────────────────┼────────────┼───────────────────┤\n",
       "│ dense (\u001b[38;5;33mDense\u001b[0m)       │ (\u001b[38;5;45mNone\u001b[0m, \u001b[38;5;34m200\u001b[0m, \u001b[38;5;34m512\u001b[0m)  │     \u001b[38;5;34m85,504\u001b[0m │ layer_normalizat… │\n",
       "├─────────────────────┼───────────────────┼────────────┼───────────────────┤\n",
       "│ dropout_1 (\u001b[38;5;33mDropout\u001b[0m) │ (\u001b[38;5;45mNone\u001b[0m, \u001b[38;5;34m200\u001b[0m, \u001b[38;5;34m512\u001b[0m)  │          \u001b[38;5;34m0\u001b[0m │ dense[\u001b[38;5;34m0\u001b[0m][\u001b[38;5;34m0\u001b[0m]       │\n",
       "├─────────────────────┼───────────────────┼────────────┼───────────────────┤\n",
       "│ dense_1 (\u001b[38;5;33mDense\u001b[0m)     │ (\u001b[38;5;45mNone\u001b[0m, \u001b[38;5;34m200\u001b[0m, \u001b[38;5;34m166\u001b[0m)  │     \u001b[38;5;34m85,158\u001b[0m │ dropout_1[\u001b[38;5;34m0\u001b[0m][\u001b[38;5;34m0\u001b[0m]   │\n",
       "├─────────────────────┼───────────────────┼────────────┼───────────────────┤\n",
       "│ add_1 (\u001b[38;5;33mAdd\u001b[0m)         │ (\u001b[38;5;45mNone\u001b[0m, \u001b[38;5;34m200\u001b[0m, \u001b[38;5;34m166\u001b[0m)  │          \u001b[38;5;34m0\u001b[0m │ dense_1[\u001b[38;5;34m0\u001b[0m][\u001b[38;5;34m0\u001b[0m],    │\n",
       "│                     │                   │            │ add[\u001b[38;5;34m0\u001b[0m][\u001b[38;5;34m0\u001b[0m]         │\n",
       "├─────────────────────┼───────────────────┼────────────┼───────────────────┤\n",
       "│ layer_normalizatio… │ (\u001b[38;5;45mNone\u001b[0m, \u001b[38;5;34m200\u001b[0m, \u001b[38;5;34m166\u001b[0m)  │        \u001b[38;5;34m332\u001b[0m │ add_1[\u001b[38;5;34m0\u001b[0m][\u001b[38;5;34m0\u001b[0m]       │\n",
       "│ (\u001b[38;5;33mLayerNormalizatio…\u001b[0m │                   │            │                   │\n",
       "├─────────────────────┼───────────────────┼────────────┼───────────────────┤\n",
       "│ multi_head_attenti… │ (\u001b[38;5;45mNone\u001b[0m, \u001b[38;5;34m200\u001b[0m, \u001b[38;5;34m166\u001b[0m)  │    \u001b[38;5;34m683,174\u001b[0m │ layer_normalizat… │\n",
       "│ (\u001b[38;5;33mMultiHeadAttentio…\u001b[0m │                   │            │ layer_normalizat… │\n",
       "├─────────────────────┼───────────────────┼────────────┼───────────────────┤\n",
       "│ add_2 (\u001b[38;5;33mAdd\u001b[0m)         │ (\u001b[38;5;45mNone\u001b[0m, \u001b[38;5;34m200\u001b[0m, \u001b[38;5;34m166\u001b[0m)  │          \u001b[38;5;34m0\u001b[0m │ multi_head_atten… │\n",
       "│                     │                   │            │ add_1[\u001b[38;5;34m0\u001b[0m][\u001b[38;5;34m0\u001b[0m]       │\n",
       "├─────────────────────┼───────────────────┼────────────┼───────────────────┤\n",
       "│ layer_normalizatio… │ (\u001b[38;5;45mNone\u001b[0m, \u001b[38;5;34m200\u001b[0m, \u001b[38;5;34m166\u001b[0m)  │        \u001b[38;5;34m332\u001b[0m │ add_2[\u001b[38;5;34m0\u001b[0m][\u001b[38;5;34m0\u001b[0m]       │\n",
       "│ (\u001b[38;5;33mLayerNormalizatio…\u001b[0m │                   │            │                   │\n",
       "├─────────────────────┼───────────────────┼────────────┼───────────────────┤\n",
       "│ dense_2 (\u001b[38;5;33mDense\u001b[0m)     │ (\u001b[38;5;45mNone\u001b[0m, \u001b[38;5;34m200\u001b[0m, \u001b[38;5;34m512\u001b[0m)  │     \u001b[38;5;34m85,504\u001b[0m │ layer_normalizat… │\n",
       "├─────────────────────┼───────────────────┼────────────┼───────────────────┤\n",
       "│ dropout_3 (\u001b[38;5;33mDropout\u001b[0m) │ (\u001b[38;5;45mNone\u001b[0m, \u001b[38;5;34m200\u001b[0m, \u001b[38;5;34m512\u001b[0m)  │          \u001b[38;5;34m0\u001b[0m │ dense_2[\u001b[38;5;34m0\u001b[0m][\u001b[38;5;34m0\u001b[0m]     │\n",
       "├─────────────────────┼───────────────────┼────────────┼───────────────────┤\n",
       "│ dense_3 (\u001b[38;5;33mDense\u001b[0m)     │ (\u001b[38;5;45mNone\u001b[0m, \u001b[38;5;34m200\u001b[0m, \u001b[38;5;34m166\u001b[0m)  │     \u001b[38;5;34m85,158\u001b[0m │ dropout_3[\u001b[38;5;34m0\u001b[0m][\u001b[38;5;34m0\u001b[0m]   │\n",
       "├─────────────────────┼───────────────────┼────────────┼───────────────────┤\n",
       "│ add_3 (\u001b[38;5;33mAdd\u001b[0m)         │ (\u001b[38;5;45mNone\u001b[0m, \u001b[38;5;34m200\u001b[0m, \u001b[38;5;34m166\u001b[0m)  │          \u001b[38;5;34m0\u001b[0m │ dense_3[\u001b[38;5;34m0\u001b[0m][\u001b[38;5;34m0\u001b[0m],    │\n",
       "│                     │                   │            │ add_2[\u001b[38;5;34m0\u001b[0m][\u001b[38;5;34m0\u001b[0m]       │\n",
       "├─────────────────────┼───────────────────┼────────────┼───────────────────┤\n",
       "│ global_average_poo… │ (\u001b[38;5;45mNone\u001b[0m, \u001b[38;5;34m166\u001b[0m)       │          \u001b[38;5;34m0\u001b[0m │ add_3[\u001b[38;5;34m0\u001b[0m][\u001b[38;5;34m0\u001b[0m]       │\n",
       "│ (\u001b[38;5;33mGlobalAveragePool…\u001b[0m │                   │            │                   │\n",
       "├─────────────────────┼───────────────────┼────────────┼───────────────────┤\n",
       "│ layer_normalizatio… │ (\u001b[38;5;45mNone\u001b[0m, \u001b[38;5;34m166\u001b[0m)       │        \u001b[38;5;34m332\u001b[0m │ global_average_p… │\n",
       "│ (\u001b[38;5;33mLayerNormalizatio…\u001b[0m │                   │            │                   │\n",
       "├─────────────────────┼───────────────────┼────────────┼───────────────────┤\n",
       "│ dense_4 (\u001b[38;5;33mDense\u001b[0m)     │ (\u001b[38;5;45mNone\u001b[0m, \u001b[38;5;34m1\u001b[0m)         │        \u001b[38;5;34m167\u001b[0m │ layer_normalizat… │\n",
       "└─────────────────────┴───────────────────┴────────────┴───────────────────┘\n"
      ]
     },
     "metadata": {},
     "output_type": "display_data"
    },
    {
     "data": {
      "text/html": [
       "<pre style=\"white-space:pre;overflow-x:auto;line-height:normal;font-family:Menlo,'DejaVu Sans Mono',consolas,'Courier New',monospace\"><span style=\"font-weight: bold\"> Total params: </span><span style=\"color: #00af00; text-decoration-color: #00af00\">1,709,499</span> (6.52 MB)\n",
       "</pre>\n"
      ],
      "text/plain": [
       "\u001b[1m Total params: \u001b[0m\u001b[38;5;34m1,709,499\u001b[0m (6.52 MB)\n"
      ]
     },
     "metadata": {},
     "output_type": "display_data"
    },
    {
     "data": {
      "text/html": [
       "<pre style=\"white-space:pre;overflow-x:auto;line-height:normal;font-family:Menlo,'DejaVu Sans Mono',consolas,'Courier New',monospace\"><span style=\"font-weight: bold\"> Trainable params: </span><span style=\"color: #00af00; text-decoration-color: #00af00\">1,709,499</span> (6.52 MB)\n",
       "</pre>\n"
      ],
      "text/plain": [
       "\u001b[1m Trainable params: \u001b[0m\u001b[38;5;34m1,709,499\u001b[0m (6.52 MB)\n"
      ]
     },
     "metadata": {},
     "output_type": "display_data"
    },
    {
     "data": {
      "text/html": [
       "<pre style=\"white-space:pre;overflow-x:auto;line-height:normal;font-family:Menlo,'DejaVu Sans Mono',consolas,'Courier New',monospace\"><span style=\"font-weight: bold\"> Non-trainable params: </span><span style=\"color: #00af00; text-decoration-color: #00af00\">0</span> (0.00 B)\n",
       "</pre>\n"
      ],
      "text/plain": [
       "\u001b[1m Non-trainable params: \u001b[0m\u001b[38;5;34m0\u001b[0m (0.00 B)\n"
      ]
     },
     "metadata": {},
     "output_type": "display_data"
    }
   ],
   "source": [
    "input_shape = dataset_train.__getitem__(0)[0][0].shape\n",
    "head_size = 128#256\n",
    "num_heads = 8#16\n",
    "ff_dim = 512#1024\n",
    "num_layers = 2#12\n",
    "dropout = 0.1#0.2 #лучше ноль\n",
    "\n",
    "model = build_transformer_model(input_shape, head_size, num_heads, ff_dim, num_layers, dropout)\n",
    "model.summary()"
   ]
  },
  {
   "cell_type": "code",
   "execution_count": null,
   "id": "9Lh7nHsHZG0V",
   "metadata": {
    "id": "9Lh7nHsHZG0V"
   },
   "outputs": [],
   "source": []
  },
  {
   "cell_type": "code",
   "execution_count": 64,
   "id": "ljAdOwv_ZHAG",
   "metadata": {
    "id": "ljAdOwv_ZHAG"
   },
   "outputs": [],
   "source": [
    "#dataset_train = dataset(data, inds_train, count_samples=None, len_seq=200, batch_size=64, shuffle=True)"
   ]
  },
  {
   "cell_type": "code",
   "execution_count": 65,
   "id": "4bfe4b72-6a33-4713-b5fa-f3b41a358958",
   "metadata": {
    "id": "4bfe4b72-6a33-4713-b5fa-f3b41a358958"
   },
   "outputs": [],
   "source": [
    "EPOCHS = 20\n",
    "\n",
    "total_steps = len(dataset_train) * EPOCHS\n",
    "warmup_steps = int(0.1*total_steps)\n",
    "schedule = WarmUpCosineDecay(start_lr=0.0001, target_lr=0.001, warmup_steps=warmup_steps, total_steps=total_steps, hold=0)\n",
    "#may be changed to 1\n",
    "optimizer=tf.keras.optimizers.Adam(learning_rate=schedule)\n",
    "#optimizer=tf.keras.optimizers.Adam(learning_rate=0.001)\n",
    "\n",
    "loss = tf.keras.losses.BinaryCrossentropy()\n",
    "metric_auc_roc = tf.keras.metrics.AUC(num_thresholds=64)\n",
    "\n",
    "\n",
    "model.compile(optimizer=optimizer,\n",
    "              loss=loss,\n",
    "              metrics=[metric_auc_roc])\n",
    "\n",
    "\n",
    "#metrics_callback = MetricsCallback([dataset_train_subsample, dataset_valid_subsample, dataset_test_subsample, dataset_test2_subsample])\n",
    "metrics_callback = MetricsCallback([dataset_train, dataset_valid, dataset_test, dataset_test2])\n",
    "save_callback = tf.keras.callbacks.ModelCheckpoint( \"./models/model_{epoch:04d}.keras\", save_freq='epoch')\n",
    "callbacks = [save_callback, metrics_callback]\n",
    "\n",
    "\n"
   ]
  },
  {
   "cell_type": "code",
   "execution_count": null,
   "id": "56ee1fe5-8a03-4eb3-9d7d-2ae1095fbcf6",
   "metadata": {
    "id": "56ee1fe5-8a03-4eb3-9d7d-2ae1095fbcf6"
   },
   "outputs": [],
   "source": []
  },
  {
   "cell_type": "code",
   "execution_count": null,
   "id": "ed5d02dc-c609-45ae-b95e-ddb93f9bb16d",
   "metadata": {
    "id": "ed5d02dc-c609-45ae-b95e-ddb93f9bb16d"
   },
   "outputs": [],
   "source": []
  },
  {
   "cell_type": "code",
   "execution_count": 66,
   "id": "6e5810fc-bfd1-4557-a12f-f18cdf677b51",
   "metadata": {
    "id": "6e5810fc-bfd1-4557-a12f-f18cdf677b51"
   },
   "outputs": [],
   "source": [
    "# lrs = [lr_warmup_cosine_decay(step, total_steps=total_steps, warmup_steps=warmup_steps, hold=0, start_lr=0.0001,\n",
    "#                            target_lr=0.001) for step in tqdm(np.arange(total_steps))]\n",
    "# plt.plot(lrs)"
   ]
  },
  {
   "cell_type": "code",
   "execution_count": 67,
   "id": "24851cff-a95d-4540-a5af-b5a33fd66bb7",
   "metadata": {
    "colab": {
     "base_uri": "https://localhost:8080/"
    },
    "id": "24851cff-a95d-4540-a5af-b5a33fd66bb7",
    "outputId": "1208069a-8c34-4169-fe3d-b0e7fab61b65"
   },
   "outputs": [
    {
     "data": {
      "text/plain": [
       "1"
      ]
     },
     "execution_count": 67,
     "metadata": {},
     "output_type": "execute_result"
    }
   ],
   "source": [
    "1"
   ]
  },
  {
   "cell_type": "code",
   "execution_count": null,
   "id": "2Y9Bc_1RImQw",
   "metadata": {
    "id": "2Y9Bc_1RImQw"
   },
   "outputs": [],
   "source": []
  },
  {
   "cell_type": "code",
   "execution_count": 68,
   "id": "2fc292c8-05f7-41cc-bc93-895031bfa684",
   "metadata": {
    "colab": {
     "base_uri": "https://localhost:8080/",
     "height": 393
    },
    "id": "2fc292c8-05f7-41cc-bc93-895031bfa684",
    "outputId": "bb34e8c6-3de6-405b-bb45-b02fc4405463",
    "scrolled": true
   },
   "outputs": [
    {
     "name": "stdout",
     "output_type": "stream",
     "text": [
      "Epoch 1/20\n",
      "\u001b[1m 13/500\u001b[0m \u001b[37m━━━━━━━━━━━━━━━━━━━━\u001b[0m \u001b[1m9:06\u001b[0m 1s/step - auc: 0.4354 - loss: 0.4676"
     ]
    },
    {
     "ename": "KeyboardInterrupt",
     "evalue": "",
     "output_type": "error",
     "traceback": [
      "\u001b[0;31m---------------------------------------------------------------------------\u001b[0m",
      "\u001b[0;31mKeyboardInterrupt\u001b[0m                         Traceback (most recent call last)",
      "Cell \u001b[0;32mIn[68], line 1\u001b[0m\n\u001b[0;32m----> 1\u001b[0m model\u001b[38;5;241m.\u001b[39mfit(dataset_train, epochs\u001b[38;5;241m=\u001b[39mEPOCHS, callbacks\u001b[38;5;241m=\u001b[39mcallbacks)\n",
      "File \u001b[0;32m/opt/anaconda3/lib/python3.12/site-packages/keras/src/utils/traceback_utils.py:117\u001b[0m, in \u001b[0;36mfilter_traceback.<locals>.error_handler\u001b[0;34m(*args, **kwargs)\u001b[0m\n\u001b[1;32m    115\u001b[0m filtered_tb \u001b[38;5;241m=\u001b[39m \u001b[38;5;28;01mNone\u001b[39;00m\n\u001b[1;32m    116\u001b[0m \u001b[38;5;28;01mtry\u001b[39;00m:\n\u001b[0;32m--> 117\u001b[0m     \u001b[38;5;28;01mreturn\u001b[39;00m fn(\u001b[38;5;241m*\u001b[39margs, \u001b[38;5;241m*\u001b[39m\u001b[38;5;241m*\u001b[39mkwargs)\n\u001b[1;32m    118\u001b[0m \u001b[38;5;28;01mexcept\u001b[39;00m \u001b[38;5;167;01mException\u001b[39;00m \u001b[38;5;28;01mas\u001b[39;00m e:\n\u001b[1;32m    119\u001b[0m     filtered_tb \u001b[38;5;241m=\u001b[39m _process_traceback_frames(e\u001b[38;5;241m.\u001b[39m__traceback__)\n",
      "File \u001b[0;32m/opt/anaconda3/lib/python3.12/site-packages/keras/src/backend/tensorflow/trainer.py:320\u001b[0m, in \u001b[0;36mTensorFlowTrainer.fit\u001b[0;34m(self, x, y, batch_size, epochs, verbose, callbacks, validation_split, validation_data, shuffle, class_weight, sample_weight, initial_epoch, steps_per_epoch, validation_steps, validation_batch_size, validation_freq)\u001b[0m\n\u001b[1;32m    318\u001b[0m \u001b[38;5;28;01mfor\u001b[39;00m step, iterator \u001b[38;5;129;01min\u001b[39;00m epoch_iterator\u001b[38;5;241m.\u001b[39menumerate_epoch():\n\u001b[1;32m    319\u001b[0m     callbacks\u001b[38;5;241m.\u001b[39mon_train_batch_begin(step)\n\u001b[0;32m--> 320\u001b[0m     logs \u001b[38;5;241m=\u001b[39m \u001b[38;5;28mself\u001b[39m\u001b[38;5;241m.\u001b[39mtrain_function(iterator)\n\u001b[1;32m    321\u001b[0m     callbacks\u001b[38;5;241m.\u001b[39mon_train_batch_end(step, logs)\n\u001b[1;32m    322\u001b[0m     \u001b[38;5;28;01mif\u001b[39;00m \u001b[38;5;28mself\u001b[39m\u001b[38;5;241m.\u001b[39mstop_training:\n",
      "File \u001b[0;32m/opt/anaconda3/lib/python3.12/site-packages/tensorflow/python/util/traceback_utils.py:150\u001b[0m, in \u001b[0;36mfilter_traceback.<locals>.error_handler\u001b[0;34m(*args, **kwargs)\u001b[0m\n\u001b[1;32m    148\u001b[0m filtered_tb \u001b[38;5;241m=\u001b[39m \u001b[38;5;28;01mNone\u001b[39;00m\n\u001b[1;32m    149\u001b[0m \u001b[38;5;28;01mtry\u001b[39;00m:\n\u001b[0;32m--> 150\u001b[0m   \u001b[38;5;28;01mreturn\u001b[39;00m fn(\u001b[38;5;241m*\u001b[39margs, \u001b[38;5;241m*\u001b[39m\u001b[38;5;241m*\u001b[39mkwargs)\n\u001b[1;32m    151\u001b[0m \u001b[38;5;28;01mexcept\u001b[39;00m \u001b[38;5;167;01mException\u001b[39;00m \u001b[38;5;28;01mas\u001b[39;00m e:\n\u001b[1;32m    152\u001b[0m   filtered_tb \u001b[38;5;241m=\u001b[39m _process_traceback_frames(e\u001b[38;5;241m.\u001b[39m__traceback__)\n",
      "File \u001b[0;32m/opt/anaconda3/lib/python3.12/site-packages/tensorflow/python/eager/polymorphic_function/polymorphic_function.py:833\u001b[0m, in \u001b[0;36mFunction.__call__\u001b[0;34m(self, *args, **kwds)\u001b[0m\n\u001b[1;32m    830\u001b[0m compiler \u001b[38;5;241m=\u001b[39m \u001b[38;5;124m\"\u001b[39m\u001b[38;5;124mxla\u001b[39m\u001b[38;5;124m\"\u001b[39m \u001b[38;5;28;01mif\u001b[39;00m \u001b[38;5;28mself\u001b[39m\u001b[38;5;241m.\u001b[39m_jit_compile \u001b[38;5;28;01melse\u001b[39;00m \u001b[38;5;124m\"\u001b[39m\u001b[38;5;124mnonXla\u001b[39m\u001b[38;5;124m\"\u001b[39m\n\u001b[1;32m    832\u001b[0m \u001b[38;5;28;01mwith\u001b[39;00m OptionalXlaContext(\u001b[38;5;28mself\u001b[39m\u001b[38;5;241m.\u001b[39m_jit_compile):\n\u001b[0;32m--> 833\u001b[0m   result \u001b[38;5;241m=\u001b[39m \u001b[38;5;28mself\u001b[39m\u001b[38;5;241m.\u001b[39m_call(\u001b[38;5;241m*\u001b[39margs, \u001b[38;5;241m*\u001b[39m\u001b[38;5;241m*\u001b[39mkwds)\n\u001b[1;32m    835\u001b[0m new_tracing_count \u001b[38;5;241m=\u001b[39m \u001b[38;5;28mself\u001b[39m\u001b[38;5;241m.\u001b[39mexperimental_get_tracing_count()\n\u001b[1;32m    836\u001b[0m without_tracing \u001b[38;5;241m=\u001b[39m (tracing_count \u001b[38;5;241m==\u001b[39m new_tracing_count)\n",
      "File \u001b[0;32m/opt/anaconda3/lib/python3.12/site-packages/tensorflow/python/eager/polymorphic_function/polymorphic_function.py:878\u001b[0m, in \u001b[0;36mFunction._call\u001b[0;34m(self, *args, **kwds)\u001b[0m\n\u001b[1;32m    875\u001b[0m \u001b[38;5;28mself\u001b[39m\u001b[38;5;241m.\u001b[39m_lock\u001b[38;5;241m.\u001b[39mrelease()\n\u001b[1;32m    876\u001b[0m \u001b[38;5;66;03m# In this case we have not created variables on the first call. So we can\u001b[39;00m\n\u001b[1;32m    877\u001b[0m \u001b[38;5;66;03m# run the first trace but we should fail if variables are created.\u001b[39;00m\n\u001b[0;32m--> 878\u001b[0m results \u001b[38;5;241m=\u001b[39m tracing_compilation\u001b[38;5;241m.\u001b[39mcall_function(\n\u001b[1;32m    879\u001b[0m     args, kwds, \u001b[38;5;28mself\u001b[39m\u001b[38;5;241m.\u001b[39m_variable_creation_config\n\u001b[1;32m    880\u001b[0m )\n\u001b[1;32m    881\u001b[0m \u001b[38;5;28;01mif\u001b[39;00m \u001b[38;5;28mself\u001b[39m\u001b[38;5;241m.\u001b[39m_created_variables:\n\u001b[1;32m    882\u001b[0m   \u001b[38;5;28;01mraise\u001b[39;00m \u001b[38;5;167;01mValueError\u001b[39;00m(\u001b[38;5;124m\"\u001b[39m\u001b[38;5;124mCreating variables on a non-first call to a function\u001b[39m\u001b[38;5;124m\"\u001b[39m\n\u001b[1;32m    883\u001b[0m                    \u001b[38;5;124m\"\u001b[39m\u001b[38;5;124m decorated with tf.function.\u001b[39m\u001b[38;5;124m\"\u001b[39m)\n",
      "File \u001b[0;32m/opt/anaconda3/lib/python3.12/site-packages/tensorflow/python/eager/polymorphic_function/tracing_compilation.py:139\u001b[0m, in \u001b[0;36mcall_function\u001b[0;34m(args, kwargs, tracing_options)\u001b[0m\n\u001b[1;32m    137\u001b[0m bound_args \u001b[38;5;241m=\u001b[39m function\u001b[38;5;241m.\u001b[39mfunction_type\u001b[38;5;241m.\u001b[39mbind(\u001b[38;5;241m*\u001b[39margs, \u001b[38;5;241m*\u001b[39m\u001b[38;5;241m*\u001b[39mkwargs)\n\u001b[1;32m    138\u001b[0m flat_inputs \u001b[38;5;241m=\u001b[39m function\u001b[38;5;241m.\u001b[39mfunction_type\u001b[38;5;241m.\u001b[39munpack_inputs(bound_args)\n\u001b[0;32m--> 139\u001b[0m \u001b[38;5;28;01mreturn\u001b[39;00m function\u001b[38;5;241m.\u001b[39m_call_flat(  \u001b[38;5;66;03m# pylint: disable=protected-access\u001b[39;00m\n\u001b[1;32m    140\u001b[0m     flat_inputs, captured_inputs\u001b[38;5;241m=\u001b[39mfunction\u001b[38;5;241m.\u001b[39mcaptured_inputs\n\u001b[1;32m    141\u001b[0m )\n",
      "File \u001b[0;32m/opt/anaconda3/lib/python3.12/site-packages/tensorflow/python/eager/polymorphic_function/concrete_function.py:1322\u001b[0m, in \u001b[0;36mConcreteFunction._call_flat\u001b[0;34m(self, tensor_inputs, captured_inputs)\u001b[0m\n\u001b[1;32m   1318\u001b[0m possible_gradient_type \u001b[38;5;241m=\u001b[39m gradients_util\u001b[38;5;241m.\u001b[39mPossibleTapeGradientTypes(args)\n\u001b[1;32m   1319\u001b[0m \u001b[38;5;28;01mif\u001b[39;00m (possible_gradient_type \u001b[38;5;241m==\u001b[39m gradients_util\u001b[38;5;241m.\u001b[39mPOSSIBLE_GRADIENT_TYPES_NONE\n\u001b[1;32m   1320\u001b[0m     \u001b[38;5;129;01mand\u001b[39;00m executing_eagerly):\n\u001b[1;32m   1321\u001b[0m   \u001b[38;5;66;03m# No tape is watching; skip to running the function.\u001b[39;00m\n\u001b[0;32m-> 1322\u001b[0m   \u001b[38;5;28;01mreturn\u001b[39;00m \u001b[38;5;28mself\u001b[39m\u001b[38;5;241m.\u001b[39m_inference_function\u001b[38;5;241m.\u001b[39mcall_preflattened(args)\n\u001b[1;32m   1323\u001b[0m forward_backward \u001b[38;5;241m=\u001b[39m \u001b[38;5;28mself\u001b[39m\u001b[38;5;241m.\u001b[39m_select_forward_and_backward_functions(\n\u001b[1;32m   1324\u001b[0m     args,\n\u001b[1;32m   1325\u001b[0m     possible_gradient_type,\n\u001b[1;32m   1326\u001b[0m     executing_eagerly)\n\u001b[1;32m   1327\u001b[0m forward_function, args_with_tangents \u001b[38;5;241m=\u001b[39m forward_backward\u001b[38;5;241m.\u001b[39mforward()\n",
      "File \u001b[0;32m/opt/anaconda3/lib/python3.12/site-packages/tensorflow/python/eager/polymorphic_function/atomic_function.py:216\u001b[0m, in \u001b[0;36mAtomicFunction.call_preflattened\u001b[0;34m(self, args)\u001b[0m\n\u001b[1;32m    214\u001b[0m \u001b[38;5;28;01mdef\u001b[39;00m \u001b[38;5;21mcall_preflattened\u001b[39m(\u001b[38;5;28mself\u001b[39m, args: Sequence[core\u001b[38;5;241m.\u001b[39mTensor]) \u001b[38;5;241m-\u001b[39m\u001b[38;5;241m>\u001b[39m Any:\n\u001b[1;32m    215\u001b[0m \u001b[38;5;250m  \u001b[39m\u001b[38;5;124;03m\"\"\"Calls with flattened tensor inputs and returns the structured output.\"\"\"\u001b[39;00m\n\u001b[0;32m--> 216\u001b[0m   flat_outputs \u001b[38;5;241m=\u001b[39m \u001b[38;5;28mself\u001b[39m\u001b[38;5;241m.\u001b[39mcall_flat(\u001b[38;5;241m*\u001b[39margs)\n\u001b[1;32m    217\u001b[0m   \u001b[38;5;28;01mreturn\u001b[39;00m \u001b[38;5;28mself\u001b[39m\u001b[38;5;241m.\u001b[39mfunction_type\u001b[38;5;241m.\u001b[39mpack_output(flat_outputs)\n",
      "File \u001b[0;32m/opt/anaconda3/lib/python3.12/site-packages/tensorflow/python/eager/polymorphic_function/atomic_function.py:251\u001b[0m, in \u001b[0;36mAtomicFunction.call_flat\u001b[0;34m(self, *args)\u001b[0m\n\u001b[1;32m    249\u001b[0m \u001b[38;5;28;01mwith\u001b[39;00m record\u001b[38;5;241m.\u001b[39mstop_recording():\n\u001b[1;32m    250\u001b[0m   \u001b[38;5;28;01mif\u001b[39;00m \u001b[38;5;28mself\u001b[39m\u001b[38;5;241m.\u001b[39m_bound_context\u001b[38;5;241m.\u001b[39mexecuting_eagerly():\n\u001b[0;32m--> 251\u001b[0m     outputs \u001b[38;5;241m=\u001b[39m \u001b[38;5;28mself\u001b[39m\u001b[38;5;241m.\u001b[39m_bound_context\u001b[38;5;241m.\u001b[39mcall_function(\n\u001b[1;32m    252\u001b[0m         \u001b[38;5;28mself\u001b[39m\u001b[38;5;241m.\u001b[39mname,\n\u001b[1;32m    253\u001b[0m         \u001b[38;5;28mlist\u001b[39m(args),\n\u001b[1;32m    254\u001b[0m         \u001b[38;5;28mlen\u001b[39m(\u001b[38;5;28mself\u001b[39m\u001b[38;5;241m.\u001b[39mfunction_type\u001b[38;5;241m.\u001b[39mflat_outputs),\n\u001b[1;32m    255\u001b[0m     )\n\u001b[1;32m    256\u001b[0m   \u001b[38;5;28;01melse\u001b[39;00m:\n\u001b[1;32m    257\u001b[0m     outputs \u001b[38;5;241m=\u001b[39m make_call_op_in_graph(\n\u001b[1;32m    258\u001b[0m         \u001b[38;5;28mself\u001b[39m,\n\u001b[1;32m    259\u001b[0m         \u001b[38;5;28mlist\u001b[39m(args),\n\u001b[1;32m    260\u001b[0m         \u001b[38;5;28mself\u001b[39m\u001b[38;5;241m.\u001b[39m_bound_context\u001b[38;5;241m.\u001b[39mfunction_call_options\u001b[38;5;241m.\u001b[39mas_attrs(),\n\u001b[1;32m    261\u001b[0m     )\n",
      "File \u001b[0;32m/opt/anaconda3/lib/python3.12/site-packages/tensorflow/python/eager/context.py:1683\u001b[0m, in \u001b[0;36mContext.call_function\u001b[0;34m(self, name, tensor_inputs, num_outputs)\u001b[0m\n\u001b[1;32m   1681\u001b[0m cancellation_context \u001b[38;5;241m=\u001b[39m cancellation\u001b[38;5;241m.\u001b[39mcontext()\n\u001b[1;32m   1682\u001b[0m \u001b[38;5;28;01mif\u001b[39;00m cancellation_context \u001b[38;5;129;01mis\u001b[39;00m \u001b[38;5;28;01mNone\u001b[39;00m:\n\u001b[0;32m-> 1683\u001b[0m   outputs \u001b[38;5;241m=\u001b[39m execute\u001b[38;5;241m.\u001b[39mexecute(\n\u001b[1;32m   1684\u001b[0m       name\u001b[38;5;241m.\u001b[39mdecode(\u001b[38;5;124m\"\u001b[39m\u001b[38;5;124mutf-8\u001b[39m\u001b[38;5;124m\"\u001b[39m),\n\u001b[1;32m   1685\u001b[0m       num_outputs\u001b[38;5;241m=\u001b[39mnum_outputs,\n\u001b[1;32m   1686\u001b[0m       inputs\u001b[38;5;241m=\u001b[39mtensor_inputs,\n\u001b[1;32m   1687\u001b[0m       attrs\u001b[38;5;241m=\u001b[39mattrs,\n\u001b[1;32m   1688\u001b[0m       ctx\u001b[38;5;241m=\u001b[39m\u001b[38;5;28mself\u001b[39m,\n\u001b[1;32m   1689\u001b[0m   )\n\u001b[1;32m   1690\u001b[0m \u001b[38;5;28;01melse\u001b[39;00m:\n\u001b[1;32m   1691\u001b[0m   outputs \u001b[38;5;241m=\u001b[39m execute\u001b[38;5;241m.\u001b[39mexecute_with_cancellation(\n\u001b[1;32m   1692\u001b[0m       name\u001b[38;5;241m.\u001b[39mdecode(\u001b[38;5;124m\"\u001b[39m\u001b[38;5;124mutf-8\u001b[39m\u001b[38;5;124m\"\u001b[39m),\n\u001b[1;32m   1693\u001b[0m       num_outputs\u001b[38;5;241m=\u001b[39mnum_outputs,\n\u001b[0;32m   (...)\u001b[0m\n\u001b[1;32m   1697\u001b[0m       cancellation_manager\u001b[38;5;241m=\u001b[39mcancellation_context,\n\u001b[1;32m   1698\u001b[0m   )\n",
      "File \u001b[0;32m/opt/anaconda3/lib/python3.12/site-packages/tensorflow/python/eager/execute.py:53\u001b[0m, in \u001b[0;36mquick_execute\u001b[0;34m(op_name, num_outputs, inputs, attrs, ctx, name)\u001b[0m\n\u001b[1;32m     51\u001b[0m \u001b[38;5;28;01mtry\u001b[39;00m:\n\u001b[1;32m     52\u001b[0m   ctx\u001b[38;5;241m.\u001b[39mensure_initialized()\n\u001b[0;32m---> 53\u001b[0m   tensors \u001b[38;5;241m=\u001b[39m pywrap_tfe\u001b[38;5;241m.\u001b[39mTFE_Py_Execute(ctx\u001b[38;5;241m.\u001b[39m_handle, device_name, op_name,\n\u001b[1;32m     54\u001b[0m                                       inputs, attrs, num_outputs)\n\u001b[1;32m     55\u001b[0m \u001b[38;5;28;01mexcept\u001b[39;00m core\u001b[38;5;241m.\u001b[39m_NotOkStatusException \u001b[38;5;28;01mas\u001b[39;00m e:\n\u001b[1;32m     56\u001b[0m   \u001b[38;5;28;01mif\u001b[39;00m name \u001b[38;5;129;01mis\u001b[39;00m \u001b[38;5;129;01mnot\u001b[39;00m \u001b[38;5;28;01mNone\u001b[39;00m:\n",
      "\u001b[0;31mKeyboardInterrupt\u001b[0m: "
     ]
    }
   ],
   "source": [
    "model.fit(dataset_train, epochs=EPOCHS, callbacks=callbacks)"
   ]
  },
  {
   "cell_type": "code",
   "execution_count": null,
   "id": "whEUdqcNgetv",
   "metadata": {
    "id": "whEUdqcNgetv"
   },
   "outputs": [],
   "source": []
  },
  {
   "cell_type": "code",
   "execution_count": null,
   "id": "64f53bb7-73b3-4198-b318-01b121448a0c",
   "metadata": {
    "id": "64f53bb7-73b3-4198-b318-01b121448a0c"
   },
   "outputs": [],
   "source": []
  },
  {
   "cell_type": "code",
   "execution_count": null,
   "id": "fcccdb1c-5a6d-4640-9139-335f221e2df0",
   "metadata": {
    "id": "fcccdb1c-5a6d-4640-9139-335f221e2df0"
   },
   "outputs": [],
   "source": []
  },
  {
   "cell_type": "code",
   "execution_count": null,
   "id": "9c840f12-27b5-42ff-912d-e796bcbfc2bd",
   "metadata": {
    "id": "9c840f12-27b5-42ff-912d-e796bcbfc2bd"
   },
   "outputs": [],
   "source": [
    "df_auc = pd.DataFrame(metrics_callback.list_auc)\n",
    "df_precision = pd.DataFrame(metrics_callback.list_precision)\n",
    "# df_count = pd.DataFrame(metrics_callback.list_count)\n",
    "# df_percent = pd.DataFrame(metrics_callback.list_percent)"
   ]
  },
  {
   "cell_type": "code",
   "execution_count": null,
   "id": "ec2dcd98-bfdb-49d9-a688-fd417fa2a92c",
   "metadata": {
    "id": "ec2dcd98-bfdb-49d9-a688-fd417fa2a92c"
   },
   "outputs": [],
   "source": [
    "#df_count"
   ]
  },
  {
   "cell_type": "code",
   "execution_count": null,
   "id": "9f4e66ab-c7ce-4790-babd-2d63415ea17c",
   "metadata": {
    "id": "9f4e66ab-c7ce-4790-babd-2d63415ea17c"
   },
   "outputs": [],
   "source": [
    "df_precision"
   ]
  },
  {
   "cell_type": "code",
   "execution_count": null,
   "id": "cd254888-a8df-4878-8a7d-ea68784fb0a0",
   "metadata": {
    "id": "cd254888-a8df-4878-8a7d-ea68784fb0a0"
   },
   "outputs": [],
   "source": []
  },
  {
   "cell_type": "code",
   "execution_count": null,
   "id": "f6c44521-706d-4dfd-966b-f14085cea7ba",
   "metadata": {
    "id": "f6c44521-706d-4dfd-966b-f14085cea7ba"
   },
   "outputs": [],
   "source": [
    "df_auc"
   ]
  },
  {
   "cell_type": "code",
   "execution_count": null,
   "id": "7290192d-e549-407f-b7a5-8216def1b004",
   "metadata": {
    "id": "7290192d-e549-407f-b7a5-8216def1b004"
   },
   "outputs": [],
   "source": [
    "#df_percent"
   ]
  },
  {
   "cell_type": "code",
   "execution_count": null,
   "id": "fa795633-7251-480c-828d-05db099b6b41",
   "metadata": {
    "id": "fa795633-7251-480c-828d-05db099b6b41"
   },
   "outputs": [],
   "source": []
  },
  {
   "cell_type": "markdown",
   "id": "273319c0-54a3-48fb-9995-01aa62cebdaf",
   "metadata": {
    "id": "273319c0-54a3-48fb-9995-01aa62cebdaf"
   },
   "source": [
    "# 4. Evaluate"
   ]
  },
  {
   "cell_type": "code",
   "execution_count": 122,
   "id": "16771a9f-37e7-4787-9b95-895096e7b316",
   "metadata": {
    "id": "16771a9f-37e7-4787-9b95-895096e7b316"
   },
   "outputs": [],
   "source": [
    "import keras\n",
    "\n",
    "model_ld = keras.saving.load_model('./model_0004.keras',\n",
    "                                custom_objects={'WarmUpCosineDecay': WarmUpCosineDecay})"
   ]
  },
  {
   "cell_type": "code",
   "execution_count": null,
   "id": "23264f72-ddbc-49e2-ac5d-5c1594d29b5e",
   "metadata": {
    "id": "23264f72-ddbc-49e2-ac5d-5c1594d29b5e"
   },
   "outputs": [],
   "source": []
  },
  {
   "cell_type": "code",
   "execution_count": 125,
   "id": "UDh4BF712E02",
   "metadata": {
    "id": "UDh4BF712E02"
   },
   "outputs": [],
   "source": [
    "dataset_valid = dataset(data, inds_valid, len_seq=200, batch_size=64, shuffle=False)\n",
    "dataset_test = dataset(data, inds_test, len_seq=200, batch_size=64, shuffle=False)\n",
    "dataset_test2 = dataset(data, inds_test2, len_seq=200, batch_size=64, shuffle=False)"
   ]
  },
  {
   "cell_type": "code",
   "execution_count": 127,
   "id": "zDP6tb-m2E35",
   "metadata": {
    "colab": {
     "base_uri": "https://localhost:8080/"
    },
    "id": "zDP6tb-m2E35",
    "outputId": "9e97420d-16ba-473d-8b4c-de370e363df1"
   },
   "outputs": [
    {
     "data": {
      "text/plain": [
       "(True, True, True)"
      ]
     },
     "execution_count": 127,
     "metadata": {},
     "output_type": "execute_result"
    }
   ],
   "source": [
    "(dataset_valid.inds == inds_valid).all(), (dataset_test.inds == inds_test).all(), (dataset_test2.inds == inds_test2).all()"
   ]
  },
  {
   "cell_type": "code",
   "execution_count": 129,
   "id": "JvNgLPa52WfQ",
   "metadata": {
    "colab": {
     "base_uri": "https://localhost:8080/"
    },
    "id": "JvNgLPa52WfQ",
    "outputId": "d71e7443-c93d-49fb-9de2-4ff4ee6e019c"
   },
   "outputs": [
    {
     "name": "stderr",
     "output_type": "stream",
     "text": [
      "WARNING: All log messages before absl::InitializeLog() is called are written to STDERR\n",
      "I0000 00:00:1735160835.599362 11211310 service.cc:148] XLA service 0x60000254eb00 initialized for platform Host (this does not guarantee that XLA will be used). Devices:\n",
      "I0000 00:00:1735160835.599394 11211310 service.cc:156]   StreamExecutor device (0): Host, Default Version\n",
      "2024-12-26 00:07:15.622979: I tensorflow/compiler/mlir/tensorflow/utils/dump_mlir_util.cc:268] disabling MLIR crash reproducer, set env var `MLIR_CRASH_REPRODUCER_DIRECTORY` to enable.\n",
      "I0000 00:00:1735160835.856115 11211310 device_compiler.h:188] Compiled cluster using XLA!  This line is logged at most once for the lifetime of the process.\n"
     ]
    },
    {
     "name": "stdout",
     "output_type": "stream",
     "text": [
      "\u001b[1m147/147\u001b[0m \u001b[32m━━━━━━━━━━━━━━━━━━━━\u001b[0m\u001b[37m\u001b[0m \u001b[1m62s\u001b[0m 419ms/step\n",
      "\u001b[1m152/152\u001b[0m \u001b[32m━━━━━━━━━━━━━━━━━━━━\u001b[0m\u001b[37m\u001b[0m \u001b[1m69s\u001b[0m 452ms/step\n",
      "\u001b[1m210/210\u001b[0m \u001b[32m━━━━━━━━━━━━━━━━━━━━\u001b[0m\u001b[37m\u001b[0m \u001b[1m97s\u001b[0m 462ms/step\n"
     ]
    }
   ],
   "source": [
    "y_pred_valid = model_ld.predict(dataset_valid)\n",
    "y_pred_test = model_ld.predict(dataset_test)\n",
    "y_pred_test2 = model_ld.predict(dataset_test2)"
   ]
  },
  {
   "cell_type": "code",
   "execution_count": 130,
   "id": "VTGBBDz52jLp",
   "metadata": {
    "id": "VTGBBDz52jLp"
   },
   "outputs": [],
   "source": [
    "dump_pkl(y_pred_valid, 'y_pred_valid.pkl')\n",
    "dump_pkl(y_pred_test, 'y_pred_test.pkl')\n",
    "dump_pkl(y_pred_test2, 'y_pred_test2.pkl')\n"
   ]
  },
  {
   "cell_type": "code",
   "execution_count": null,
   "id": "37n4AM6V2jOK",
   "metadata": {
    "id": "37n4AM6V2jOK"
   },
   "outputs": [],
   "source": []
  },
  {
   "cell_type": "code",
   "execution_count": null,
   "id": "fkzqJ4J82WiF",
   "metadata": {
    "id": "fkzqJ4J82WiF"
   },
   "outputs": [],
   "source": []
  },
  {
   "cell_type": "code",
   "execution_count": null,
   "id": "13553f8f-3b07-4336-8b84-f49511fdde6b",
   "metadata": {
    "id": "13553f8f-3b07-4336-8b84-f49511fdde6b"
   },
   "outputs": [],
   "source": [
    "y1 = model.predict(dataset_test2_subsample)\n",
    "y2 = model_ld.predict(dataset_test2_subsample)\n",
    "np.unique(y1-y2)"
   ]
  },
  {
   "cell_type": "code",
   "execution_count": null,
   "id": "c2fa9304-9ed9-40b0-abef-0100e467b23b",
   "metadata": {
    "id": "c2fa9304-9ed9-40b0-abef-0100e467b23b"
   },
   "outputs": [],
   "source": []
  },
  {
   "cell_type": "code",
   "execution_count": null,
   "id": "258c600c-83b3-4bb4-8b7a-cd2afd3bcb3f",
   "metadata": {
    "id": "258c600c-83b3-4bb4-8b7a-cd2afd3bcb3f"
   },
   "outputs": [],
   "source": []
  },
  {
   "cell_type": "markdown",
   "id": "1e3f3dee-7898-4b06-bed8-8fef57e81685",
   "metadata": {
    "id": "1e3f3dee-7898-4b06-bed8-8fef57e81685"
   },
   "source": [
    "# TMP"
   ]
  },
  {
   "cell_type": "code",
   "execution_count": null,
   "id": "de2b62cc-3ec4-42ad-ad99-cccabf9714b9",
   "metadata": {
    "id": "de2b62cc-3ec4-42ad-ad99-cccabf9714b9"
   },
   "outputs": [],
   "source": [
    "import tensorflow as tf\n",
    "tf.keras.backend.floatx()"
   ]
  },
  {
   "cell_type": "code",
   "execution_count": null,
   "id": "1e334752-da2e-4892-9398-33cfe8258e49",
   "metadata": {
    "id": "1e334752-da2e-4892-9398-33cfe8258e49"
   },
   "outputs": [],
   "source": []
  },
  {
   "cell_type": "code",
   "execution_count": null,
   "id": "97e624c0-27b5-4c65-959a-5f375e1329eb",
   "metadata": {
    "id": "97e624c0-27b5-4c65-959a-5f375e1329eb"
   },
   "outputs": [],
   "source": []
  },
  {
   "cell_type": "code",
   "execution_count": null,
   "id": "85dafc5b-f1ac-4817-bb94-0a20024571e3",
   "metadata": {
    "id": "85dafc5b-f1ac-4817-bb94-0a20024571e3"
   },
   "outputs": [],
   "source": []
  },
  {
   "cell_type": "code",
   "execution_count": null,
   "id": "c7b7d000-640b-488f-96d9-271543d6328c",
   "metadata": {
    "id": "c7b7d000-640b-488f-96d9-271543d6328c"
   },
   "outputs": [],
   "source": []
  },
  {
   "cell_type": "code",
   "execution_count": null,
   "id": "88e63d91-3ce6-49e8-82e3-e38943c7ba76",
   "metadata": {
    "id": "88e63d91-3ce6-49e8-82e3-e38943c7ba76"
   },
   "outputs": [],
   "source": []
  },
  {
   "cell_type": "code",
   "execution_count": null,
   "id": "07f6f70c-a6b6-4617-bd67-aac5b14b856f",
   "metadata": {
    "id": "07f6f70c-a6b6-4617-bd67-aac5b14b856f"
   },
   "outputs": [],
   "source": []
  }
 ],
 "metadata": {
  "accelerator": "GPU",
  "colab": {
   "gpuType": "T4",
   "provenance": []
  },
  "kernelspec": {
   "display_name": "Python 3 (ipykernel)",
   "language": "python",
   "name": "python3"
  },
  "language_info": {
   "codemirror_mode": {
    "name": "ipython",
    "version": 3
   },
   "file_extension": ".py",
   "mimetype": "text/x-python",
   "name": "python",
   "nbconvert_exporter": "python",
   "pygments_lexer": "ipython3",
   "version": "3.12.7"
  }
 },
 "nbformat": 4,
 "nbformat_minor": 5
}
