{
 "cells": [
  {
   "cell_type": "markdown",
   "id": "71df3e0d-e927-49f1-8a10-2e95dfd3292d",
   "metadata": {},
   "source": [
    "### 1. Load packages"
   ]
  },
  {
   "cell_type": "code",
   "execution_count": 1,
   "id": "e180f592-0324-4939-ae26-28f042523af3",
   "metadata": {},
   "outputs": [],
   "source": [
    "import time"
   ]
  },
  {
   "cell_type": "code",
   "execution_count": 9,
   "id": "62c4c28b-1115-41ff-ada0-48058431c806",
   "metadata": {},
   "outputs": [
    {
     "name": "stdout",
     "output_type": "stream",
     "text": [
      "Collecting tinkoff-investments\n",
      "  Downloading tinkoff_investments-0.2.0b109-py3-none-any.whl.metadata (4.1 kB)\n",
      "Requirement already satisfied: cachetools<6.0.0,>=5.2.0 in /opt/anaconda3/lib/python3.12/site-packages (from tinkoff-investments) (5.3.3)\n",
      "Collecting deprecation<3.0.0,>=2.1.0 (from tinkoff-investments)\n",
      "  Using cached deprecation-2.1.0-py2.py3-none-any.whl.metadata (4.6 kB)\n",
      "Requirement already satisfied: grpcio<2.0.0,>=1.59.3 in /opt/anaconda3/lib/python3.12/site-packages (from tinkoff-investments) (1.68.0)\n",
      "Requirement already satisfied: protobuf<5.0.0,>=4.25.1 in /opt/anaconda3/lib/python3.12/site-packages (from tinkoff-investments) (4.25.3)\n",
      "Requirement already satisfied: python-dateutil<3.0.0,>=2.8.2 in /opt/anaconda3/lib/python3.12/site-packages (from tinkoff-investments) (2.9.0.post0)\n",
      "Collecting tinkoff<0.2.0,>=0.1.1 (from tinkoff-investments)\n",
      "  Using cached tinkoff-0.1.1-py3-none-any.whl.metadata (511 bytes)\n",
      "Requirement already satisfied: packaging in /opt/anaconda3/lib/python3.12/site-packages (from deprecation<3.0.0,>=2.1.0->tinkoff-investments) (24.1)\n",
      "Requirement already satisfied: six>=1.5 in /opt/anaconda3/lib/python3.12/site-packages (from python-dateutil<3.0.0,>=2.8.2->tinkoff-investments) (1.16.0)\n",
      "Downloading tinkoff_investments-0.2.0b109-py3-none-any.whl (229 kB)\n",
      "Using cached deprecation-2.1.0-py2.py3-none-any.whl (11 kB)\n",
      "Using cached tinkoff-0.1.1-py3-none-any.whl (1.0 kB)\n",
      "Installing collected packages: tinkoff, deprecation, tinkoff-investments\n",
      "Successfully installed deprecation-2.1.0 tinkoff-0.1.1 tinkoff-investments-0.2.0b109\n"
     ]
    }
   ],
   "source": [
    "!pip install tinkoff-investments"
   ]
  },
  {
   "cell_type": "code",
   "execution_count": null,
   "id": "5b90ae99-7c95-438e-b7f6-55d6dc421d9d",
   "metadata": {},
   "outputs": [],
   "source": []
  },
  {
   "cell_type": "code",
   "execution_count": 3,
   "id": "3f01cba9-c3c8-456f-a873-46807a170fe4",
   "metadata": {},
   "outputs": [],
   "source": [
    "TOKEN = '' #боевой M13"
   ]
  },
  {
   "cell_type": "code",
   "execution_count": 5,
   "id": "99f4f2f9-1f57-4a6b-ac47-4cf9c9260a51",
   "metadata": {},
   "outputs": [
    {
     "name": "stdout",
     "output_type": "stream",
     "text": [
      "GetAccountsResponse(accounts=[Account(id='2169433725', type=<AccountType.ACCOUNT_TYPE_TINKOFF: 1>, name='M13', status=<AccountStatus.ACCOUNT_STATUS_OPEN: 2>, opened_date=datetime.datetime(2022, 4, 27, 0, 0, tzinfo=datetime.timezone.utc), closed_date=datetime.datetime(1970, 1, 1, 0, 0, tzinfo=datetime.timezone.utc), access_level=<AccessLevel.ACCOUNT_ACCESS_LEVEL_READ_ONLY: 2>)])\n"
     ]
    }
   ],
   "source": [
    "from tinkoff.invest import Client\n",
    "#from tinkoff.invest.constants import INVEST_GRPC_API_SANDBOX \n",
    "\n",
    "\n",
    "# with Client(TOKEN, target=INVEST_GRPC_API_SANDBOX ) as client:\n",
    "#     print(client.users.get_accounts())\n",
    "\n",
    "\n",
    "with Client(TOKEN) as client:\n",
    "    print(client.users.get_accounts())"
   ]
  },
  {
   "cell_type": "code",
   "execution_count": null,
   "id": "081dc564-54f7-4c7f-8eaf-412dc00f3012",
   "metadata": {},
   "outputs": [],
   "source": []
  },
  {
   "cell_type": "markdown",
   "id": "e6e222f9-533e-4b00-be69-f8262c0c5405",
   "metadata": {},
   "source": [
    "### 2. Load data"
   ]
  },
  {
   "cell_type": "code",
   "execution_count": null,
   "id": "92f2cf25-47ab-4644-9705-11b7090d05f4",
   "metadata": {},
   "outputs": [],
   "source": []
  },
  {
   "cell_type": "code",
   "execution_count": null,
   "id": "f2e35a17-9478-40b1-a056-8bcb4b04f3e9",
   "metadata": {},
   "outputs": [],
   "source": []
  },
  {
   "cell_type": "code",
   "execution_count": 11,
   "id": "cec37da5-8952-48b4-b853-45e62a46c8a0",
   "metadata": {},
   "outputs": [],
   "source": [
    "import logging\n",
    "import os\n",
    "\n",
    "import pandas as pd\n",
    "\n",
    "from tinkoff.invest import Client, SecurityTradingStatus\n",
    "from tinkoff.invest.services import InstrumentsService\n",
    "from tinkoff.invest.utils import quotation_to_decimal\n",
    "\n"
   ]
  },
  {
   "cell_type": "code",
   "execution_count": null,
   "id": "69fb23c3-ef50-4604-a499-f1829a762c22",
   "metadata": {},
   "outputs": [],
   "source": []
  },
  {
   "cell_type": "code",
   "execution_count": 14,
   "id": "a9be7910-b570-4195-851f-ee895edae463",
   "metadata": {},
   "outputs": [],
   "source": [
    "def get_figi(ticker):\n",
    "    with Client(TOKEN) as client:\n",
    "        instruments: InstrumentsService = client.instruments\n",
    "        tickers = []\n",
    "        for method in [\"shares\", \"bonds\", \"etfs\", \"currencies\", \"futures\"]:\n",
    "            for item in getattr(instruments, method)().instruments:\n",
    "                tickers.append(\n",
    "                    {\n",
    "                        \"name\": item.name,\n",
    "                        \"ticker\": item.ticker,\n",
    "                        \"class_code\": item.class_code,\n",
    "                        \"figi\": item.figi,\n",
    "                        \"uid\": item.uid,\n",
    "                        \"type\": method,\n",
    "                        \"min_price_increment\": quotation_to_decimal(\n",
    "                            item.min_price_increment\n",
    "                        ),\n",
    "                        \"scale\": 9 - len(str(item.min_price_increment.nano)) + 1,\n",
    "                        \"lot\": item.lot,\n",
    "                        \"trading_status\": str(\n",
    "                            SecurityTradingStatus(item.trading_status).name\n",
    "                        ),\n",
    "                        \"api_trade_available_flag\": item.api_trade_available_flag,\n",
    "                        \"currency\": item.currency,\n",
    "                        \"exchange\": item.exchange,\n",
    "                        \"buy_available_flag\": item.buy_available_flag,\n",
    "                        \"sell_available_flag\": item.sell_available_flag,\n",
    "                        \"short_enabled_flag\": item.short_enabled_flag,\n",
    "                        \"klong\": quotation_to_decimal(item.klong),\n",
    "                        \"kshort\": quotation_to_decimal(item.kshort),\n",
    "                    }\n",
    "                )\n",
    "\n",
    "        tickers_df = pd.DataFrame(tickers)\n",
    "\n",
    "        ticker_df = tickers_df[tickers_df[\"ticker\"] == ticker]\n",
    "        #return ticker_df\n",
    "        if ticker_df.empty:\n",
    "            print(\"There is no such ticker: %s\", ticker)\n",
    "            return\n",
    "\n",
    "        figi = ticker_df[\"figi\"].iloc[0]\n",
    "        return figi"
   ]
  },
  {
   "cell_type": "code",
   "execution_count": null,
   "id": "1b51f5bd-2ece-49e8-9767-1b3f82bcfa29",
   "metadata": {},
   "outputs": [],
   "source": []
  },
  {
   "cell_type": "code",
   "execution_count": 17,
   "id": "d962e070-66fb-4bff-81f9-029fd059ab6f",
   "metadata": {},
   "outputs": [],
   "source": [
    "import os\n",
    "from datetime import timedelta\n",
    "import datetime\n",
    "\n",
    "from tqdm import tqdm\n",
    "import numpy as np\n",
    "\n",
    "from tinkoff.invest import CandleInterval, Clientб AsyncClient\n",
    "from tinkoff.invest.utils import now\n",
    "\n",
    "    \n",
    "def get_all_candles(ticker=None, from_=None, to_=None, interval=None):\n",
    "    \n",
    "    figi = get_figi(ticker)\n",
    "    \n",
    "    with Client(TOKEN) as client:\n",
    "        \n",
    "        data = [elem for elem in client.get_all_candles(figi=figi, \n",
    "                                      from_=from_-timedelta(hours=3),\n",
    "                                      to=to_- timedelta(hours=3),\n",
    "                                     interval=interval\n",
    "                                    )\n",
    "               ]\n",
    "\n",
    "    \n",
    "    open_ = np.zeros(len(data))\n",
    "    high = np.zeros(len(data))\n",
    "    low = np.zeros(len(data))\n",
    "    close = np.zeros(len(data))\n",
    "    volume = np.zeros(len(data))\n",
    "    time = np.zeros(len(data), dtype='O')\n",
    "    for i, elem in enumerate(data):\n",
    "        open_[i] = quotation_to_decimal(elem.open)\n",
    "        high[i] = quotation_to_decimal(elem.high)\n",
    "        low[i] = quotation_to_decimal(elem.low)\n",
    "        close[i] = quotation_to_decimal(elem.close)\n",
    "        volume[i] = elem.volume\n",
    "        time[i] = elem.time\n",
    "\n",
    "\n",
    "    df = pd.DataFrame({'time' : time,\n",
    "                      'open' : open_,\n",
    "                      'close' : close,\n",
    "                      'volume' : volume,\n",
    "                      'low' : low,\n",
    "                      'high' : high\n",
    "                    })\n",
    "    df['time'] += pd.Timedelta(hours=3)\n",
    "    return df"
   ]
  },
  {
   "cell_type": "code",
   "execution_count": null,
   "id": "85d058a3-4a46-417a-b75c-33d0e84354f8",
   "metadata": {},
   "outputs": [],
   "source": []
  },
  {
   "cell_type": "code",
   "execution_count": null,
   "id": "239b839b-1b14-4558-b6ed-6baa4a986ca9",
   "metadata": {},
   "outputs": [],
   "source": []
  },
  {
   "cell_type": "code",
   "execution_count": 26,
   "id": "4946d8c8-da49-4bf5-9454-95f9565ceae4",
   "metadata": {},
   "outputs": [
    {
     "name": "stderr",
     "output_type": "stream",
     "text": [
      "7it [00:00, 145347.17it/s]"
     ]
    },
    {
     "name": "stdout",
     "output_type": "stream",
     "text": [
      "CPU times: user 730 ms, sys: 18.8 ms, total: 749 ms\n",
      "Wall time: 1.23 s\n"
     ]
    },
    {
     "name": "stderr",
     "output_type": "stream",
     "text": [
      "\n"
     ]
    }
   ],
   "source": [
    "%%time\n",
    "\n",
    "ticker = 'SNGS'\n",
    "\n",
    "data = get_all_candles(ticker=ticker,\n",
    "                       from_=datetime.datetime(2024, 12, 26, tzinfo=datetime.timezone.utc),\n",
    "                       to_=datetime.datetime(2024, 12, 27, tzinfo=datetime.timezone.utc),\n",
    "                       interval=CandleInterval.CANDLE_INTERVAL_HOUR\n",
    "                      )\n",
    "\n",
    "data['ticker'] = ticker"
   ]
  },
  {
   "cell_type": "code",
   "execution_count": 28,
   "id": "120e1ee6-46dc-4c09-ba3b-2c0de6b8601d",
   "metadata": {},
   "outputs": [
    {
     "data": {
      "text/html": [
       "<div>\n",
       "<style scoped>\n",
       "    .dataframe tbody tr th:only-of-type {\n",
       "        vertical-align: middle;\n",
       "    }\n",
       "\n",
       "    .dataframe tbody tr th {\n",
       "        vertical-align: top;\n",
       "    }\n",
       "\n",
       "    .dataframe thead th {\n",
       "        text-align: right;\n",
       "    }\n",
       "</style>\n",
       "<table border=\"1\" class=\"dataframe\">\n",
       "  <thead>\n",
       "    <tr style=\"text-align: right;\">\n",
       "      <th></th>\n",
       "      <th>time</th>\n",
       "      <th>open</th>\n",
       "      <th>close</th>\n",
       "      <th>volume</th>\n",
       "      <th>low</th>\n",
       "      <th>high</th>\n",
       "      <th>ticker</th>\n",
       "    </tr>\n",
       "  </thead>\n",
       "  <tbody>\n",
       "    <tr>\n",
       "      <th>0</th>\n",
       "      <td>2024-12-26 07:00:00+00:00</td>\n",
       "      <td>23.590</td>\n",
       "      <td>23.780</td>\n",
       "      <td>20.0</td>\n",
       "      <td>23.590</td>\n",
       "      <td>23.780</td>\n",
       "      <td>SNGS</td>\n",
       "    </tr>\n",
       "    <tr>\n",
       "      <th>1</th>\n",
       "      <td>2024-12-26 08:00:00+00:00</td>\n",
       "      <td>23.780</td>\n",
       "      <td>23.665</td>\n",
       "      <td>2466.0</td>\n",
       "      <td>23.605</td>\n",
       "      <td>23.935</td>\n",
       "      <td>SNGS</td>\n",
       "    </tr>\n",
       "    <tr>\n",
       "      <th>2</th>\n",
       "      <td>2024-12-26 09:00:00+00:00</td>\n",
       "      <td>23.745</td>\n",
       "      <td>23.650</td>\n",
       "      <td>1028.0</td>\n",
       "      <td>23.650</td>\n",
       "      <td>23.815</td>\n",
       "      <td>SNGS</td>\n",
       "    </tr>\n",
       "    <tr>\n",
       "      <th>3</th>\n",
       "      <td>2024-12-26 10:00:00+00:00</td>\n",
       "      <td>23.650</td>\n",
       "      <td>24.295</td>\n",
       "      <td>237079.0</td>\n",
       "      <td>23.555</td>\n",
       "      <td>24.420</td>\n",
       "      <td>SNGS</td>\n",
       "    </tr>\n",
       "    <tr>\n",
       "      <th>4</th>\n",
       "      <td>2024-12-26 11:00:00+00:00</td>\n",
       "      <td>24.295</td>\n",
       "      <td>23.925</td>\n",
       "      <td>100329.0</td>\n",
       "      <td>23.910</td>\n",
       "      <td>24.405</td>\n",
       "      <td>SNGS</td>\n",
       "    </tr>\n",
       "    <tr>\n",
       "      <th>5</th>\n",
       "      <td>2024-12-26 12:00:00+00:00</td>\n",
       "      <td>23.910</td>\n",
       "      <td>24.050</td>\n",
       "      <td>44038.0</td>\n",
       "      <td>23.900</td>\n",
       "      <td>24.095</td>\n",
       "      <td>SNGS</td>\n",
       "    </tr>\n",
       "    <tr>\n",
       "      <th>6</th>\n",
       "      <td>2024-12-26 13:00:00+00:00</td>\n",
       "      <td>24.060</td>\n",
       "      <td>24.080</td>\n",
       "      <td>30359.0</td>\n",
       "      <td>23.945</td>\n",
       "      <td>24.120</td>\n",
       "      <td>SNGS</td>\n",
       "    </tr>\n",
       "  </tbody>\n",
       "</table>\n",
       "</div>"
      ],
      "text/plain": [
       "                       time    open   close    volume     low    high ticker\n",
       "0 2024-12-26 07:00:00+00:00  23.590  23.780      20.0  23.590  23.780   SNGS\n",
       "1 2024-12-26 08:00:00+00:00  23.780  23.665    2466.0  23.605  23.935   SNGS\n",
       "2 2024-12-26 09:00:00+00:00  23.745  23.650    1028.0  23.650  23.815   SNGS\n",
       "3 2024-12-26 10:00:00+00:00  23.650  24.295  237079.0  23.555  24.420   SNGS\n",
       "4 2024-12-26 11:00:00+00:00  24.295  23.925  100329.0  23.910  24.405   SNGS\n",
       "5 2024-12-26 12:00:00+00:00  23.910  24.050   44038.0  23.900  24.095   SNGS\n",
       "6 2024-12-26 13:00:00+00:00  24.060  24.080   30359.0  23.945  24.120   SNGS"
      ]
     },
     "execution_count": 28,
     "metadata": {},
     "output_type": "execute_result"
    }
   ],
   "source": [
    "data"
   ]
  },
  {
   "cell_type": "code",
   "execution_count": null,
   "id": "5dd28da5-71f5-476b-a00c-b2a43fe8b603",
   "metadata": {},
   "outputs": [],
   "source": []
  },
  {
   "cell_type": "code",
   "execution_count": 37,
   "id": "8a06188f-c61f-4b40-b917-834a5895d84e",
   "metadata": {},
   "outputs": [
    {
     "name": "stdout",
     "output_type": "stream",
     "text": [
      "mkdir: data: File exists\n"
     ]
    }
   ],
   "source": [
    "!mkdir data"
   ]
  },
  {
   "cell_type": "code",
   "execution_count": 39,
   "id": "2079c1f1-b48d-48ba-9744-c9766f4f6d82",
   "metadata": {},
   "outputs": [
    {
     "name": "stdout",
     "output_type": "stream",
     "text": [
      "mkdir: data/raw: File exists\n"
     ]
    }
   ],
   "source": [
    "!mkdir data/raw"
   ]
  },
  {
   "cell_type": "code",
   "execution_count": 41,
   "id": "7d893d5e-578b-4162-aea8-bc2959780c9a",
   "metadata": {},
   "outputs": [
    {
     "name": "stdout",
     "output_type": "stream",
     "text": [
      "mkdir: data/raw/1min: File exists\n"
     ]
    }
   ],
   "source": [
    "!mkdir data/raw/1min"
   ]
  },
  {
   "cell_type": "code",
   "execution_count": 43,
   "id": "d1a31539-db71-4742-99ea-a93c30255a17",
   "metadata": {},
   "outputs": [
    {
     "name": "stdout",
     "output_type": "stream",
     "text": [
      "mkdir: data/raw/5min: File exists\n"
     ]
    }
   ],
   "source": [
    "!mkdir data/raw/5min"
   ]
  },
  {
   "cell_type": "code",
   "execution_count": 45,
   "id": "078758e0-1696-46d8-a1ea-a50179183574",
   "metadata": {},
   "outputs": [
    {
     "name": "stdout",
     "output_type": "stream",
     "text": [
      "mkdir: data/raw/1hour: File exists\n"
     ]
    }
   ],
   "source": [
    "!mkdir data/raw/1hour"
   ]
  },
  {
   "cell_type": "code",
   "execution_count": 47,
   "id": "09f2a081-2824-4c48-88d2-e8ae996aca67",
   "metadata": {},
   "outputs": [
    {
     "name": "stdout",
     "output_type": "stream",
     "text": [
      "mkdir: data/raw/1day: File exists\n"
     ]
    }
   ],
   "source": [
    "!mkdir data/raw/1day"
   ]
  },
  {
   "cell_type": "code",
   "execution_count": null,
   "id": "35618736-6467-4ebd-b696-8e13c2ded084",
   "metadata": {},
   "outputs": [],
   "source": []
  },
  {
   "cell_type": "code",
   "execution_count": null,
   "id": "9ebfd37a-a8a9-413b-965d-ea98fb1a5e10",
   "metadata": {},
   "outputs": [],
   "source": []
  },
  {
   "cell_type": "code",
   "execution_count": 54,
   "id": "a525af5c-42fb-4cc3-b38f-902200766629",
   "metadata": {},
   "outputs": [],
   "source": [
    "import pickle\n",
    "def dump_pkl(data, filename):\n",
    "  with open(filename, 'wb') as handle:\n",
    "    pickle.dump(data, handle, protocol=pickle.HIGHEST_PROTOCOL)\n",
    "\n",
    "def load_pkl(filename):\n",
    "  with open(filename, 'rb') as handle:\n",
    "    data = pickle.load(handle)\n",
    "  return data"
   ]
  },
  {
   "cell_type": "code",
   "execution_count": null,
   "id": "01e33d15-aeaa-4ef7-84f1-52f2c0dcf7b7",
   "metadata": {},
   "outputs": [],
   "source": []
  },
  {
   "cell_type": "code",
   "execution_count": 61,
   "id": "e4e91db8-58a6-4035-ac4b-26dac13f7bc6",
   "metadata": {},
   "outputs": [
    {
     "name": "stderr",
     "output_type": "stream",
     "text": [
      "  0%|                                                                                  | 0/11 [00:00<?, ?it/s]\n",
      "0it [00:00, ?it/s]\u001b[A\n",
      "59576it [00:00, 595742.10it/s]\u001b[A\n",
      "119151it [00:00, 587521.42it/s]\u001b[A\n",
      "178209it [00:00, 588899.46it/s]\u001b[A\n",
      "237782it [00:00, 591579.48it/s]\u001b[A\n",
      "297093it [00:00, 592127.43it/s]\u001b[A\n",
      "356878it [00:00, 594065.18it/s]\u001b[A\n",
      "416783it [00:00, 595692.41it/s]\u001b[A\n",
      "476574it [00:00, 596393.86it/s]\u001b[A\n",
      "536400it [00:00, 596974.84it/s]\u001b[A\n",
      "629000it [00:01, 595190.28it/s]\u001b[A\n",
      "  9%|██████▋                                                                  | 1/11 [02:25<24:18, 145.85s/it]\n",
      "0it [00:00, ?it/s]\u001b[A\n",
      "61216it [00:00, 612141.61it/s]\u001b[A\n",
      "122431it [00:00, 606605.23it/s]\u001b[A\n",
      "183096it [00:00, 606030.38it/s]\u001b[A\n",
      "243701it [00:00, 601220.66it/s]\u001b[A\n",
      "305005it [00:00, 605445.30it/s]\u001b[A\n",
      "365654it [00:00, 605796.51it/s]\u001b[A\n",
      "426239it [00:00, 605569.02it/s]\u001b[A\n",
      "539732it [00:00, 603832.51it/s]\u001b[A\n",
      " 18%|█████████████▎                                                           | 2/11 [03:57<17:05, 113.99s/it]\n",
      "0it [00:00, ?it/s]\u001b[A\n",
      "58922it [00:00, 589207.92it/s]\u001b[A\n",
      "119039it [00:00, 596237.19it/s]\u001b[A\n",
      "179353it [00:00, 599386.12it/s]\u001b[A\n",
      "239853it [00:00, 601599.79it/s]\u001b[A\n",
      "300767it [00:00, 604314.35it/s]\u001b[A\n",
      "361199it [00:00, 603178.20it/s]\u001b[A\n",
      "421518it [00:00, 601021.63it/s]\u001b[A\n",
      "481622it [00:00, 597144.95it/s]\u001b[A\n",
      "588686it [00:00, 598896.49it/s]\u001b[A\n",
      " 27%|███████████████████▉                                                     | 3/11 [06:18<16:50, 126.26s/it]\n",
      "0it [00:00, ?it/s]\u001b[A\n",
      "58565it [00:00, 585626.82it/s]\u001b[A\n",
      "117549it [00:00, 588101.33it/s]\u001b[A\n",
      "177440it [00:00, 593028.60it/s]\u001b[A\n",
      "237773it [00:00, 597093.39it/s]\u001b[A\n",
      "298690it [00:00, 601441.73it/s]\u001b[A\n",
      "358918it [00:00, 601726.45it/s]\u001b[A\n",
      "419091it [00:00, 600682.79it/s]\u001b[A\n",
      "532051it [00:00, 597091.70it/s]\u001b[A\n",
      " 36%|██████████████████████████▌                                              | 4/11 [08:34<15:12, 130.30s/it]\n",
      "0it [00:00, ?it/s]\u001b[A\n",
      "61427it [00:00, 614253.01it/s]\u001b[A\n",
      "122853it [00:00, 609015.78it/s]\u001b[A\n",
      "184424it [00:00, 612052.55it/s]\u001b[A\n",
      "245633it [00:00, 603509.67it/s]\u001b[A\n",
      "306387it [00:00, 604940.87it/s]\u001b[A\n",
      "366894it [00:00, 601399.51it/s]\u001b[A\n",
      "427935it [00:00, 604319.01it/s]\u001b[A\n",
      "488377it [00:00, 602334.41it/s]\u001b[A\n",
      "567671it [00:00, 604070.45it/s]\u001b[A\n",
      " 45%|█████████████████████████████████▏                                       | 5/11 [10:59<13:32, 135.38s/it]\n",
      "0it [00:00, ?it/s]\u001b[A\n",
      "61604it [00:00, 616033.24it/s]\u001b[A\n",
      "123690it [00:00, 618868.51it/s]\u001b[A\n",
      "186371it [00:00, 622492.30it/s]\u001b[A\n",
      "249763it [00:00, 626996.36it/s]\u001b[A\n",
      "313196it [00:00, 629636.24it/s]\u001b[A\n",
      "376800it [00:00, 631811.14it/s]\u001b[A\n",
      "440501it [00:00, 633506.51it/s]\u001b[A\n",
      "503852it [00:00, 630810.80it/s]\u001b[A\n",
      "571431it [00:00, 627159.85it/s]\u001b[A\n",
      " 55%|███████████████████████████████████████▊                                 | 6/11 [13:10<11:10, 134.02s/it]\n",
      "0it [00:00, ?it/s]\u001b[A\n",
      "61819it [00:00, 618177.32it/s]\u001b[A\n",
      "123637it [00:00, 613218.71it/s]\u001b[A\n",
      "185406it [00:00, 615245.72it/s]\u001b[A\n",
      "246933it [00:00, 613051.35it/s]\u001b[A\n",
      "308241it [00:00, 612782.16it/s]\u001b[A\n",
      "369521it [00:00, 611449.13it/s]\u001b[A\n",
      "430667it [00:00, 607570.73it/s]\u001b[A\n",
      "491429it [00:00, 607384.09it/s]\u001b[A\n",
      "559353it [00:00, 609391.39it/s]\u001b[A\n",
      " 64%|██████████████████████████████████████████████▍                          | 7/11 [15:30<09:03, 135.82s/it]\n",
      "0it [00:00, ?it/s]\u001b[A\n",
      "60755it [00:00, 607533.20it/s]\u001b[A\n",
      "121509it [00:00, 598951.09it/s]\u001b[A\n",
      "181413it [00:00, 595065.94it/s]\u001b[A\n",
      "240925it [00:00, 594145.40it/s]\u001b[A\n",
      "300342it [00:00, 592852.06it/s]\u001b[A\n",
      "361304it [00:00, 598516.02it/s]\u001b[A\n",
      "421160it [00:00, 593287.20it/s]\u001b[A\n",
      "480499it [00:00, 592515.53it/s]\u001b[A\n",
      "576774it [00:00, 594457.47it/s]\u001b[A\n",
      " 73%|█████████████████████████████████████████████████████                    | 8/11 [17:53<06:54, 138.13s/it]\n",
      "0it [00:00, ?it/s]\u001b[A\n",
      "62457it [00:00, 624551.24it/s]\u001b[A\n",
      "124913it [00:00, 622013.00it/s]\u001b[A\n",
      "187819it [00:00, 625220.53it/s]\u001b[A\n",
      "250343it [00:00, 615296.73it/s]\u001b[A\n",
      "313349it [00:00, 620559.62it/s]\u001b[A\n",
      "375426it [00:00, 618409.95it/s]\u001b[A\n",
      "438060it [00:00, 620981.19it/s]\u001b[A\n",
      "515267it [00:00, 618414.05it/s]\u001b[A\n",
      " 82%|███████████████████████████████████████████████████████████▋             | 9/11 [19:19<04:03, 121.96s/it]\n",
      "0it [00:00, ?it/s]\u001b[A\n",
      "61094it [00:00, 610927.47it/s]\u001b[A\n",
      "122706it [00:00, 613975.33it/s]\u001b[A\n",
      "184104it [00:00, 609134.82it/s]\u001b[A\n",
      "245977it [00:00, 612897.49it/s]\u001b[A\n",
      "307272it [00:00, 611286.08it/s]\u001b[A\n",
      "369790it [00:00, 615987.85it/s]\u001b[A\n",
      "431393it [00:00, 613192.43it/s]\u001b[A\n",
      "493999it [00:00, 617266.81it/s]\u001b[A\n",
      "580104it [00:00, 613934.24it/s]\u001b[A\n",
      " 91%|█████████████████████████████████████████████████████████████████▍      | 10/11 [20:50<01:52, 112.37s/it]\n",
      "0it [00:00, ?it/s]\u001b[A\n",
      "61088it [00:00, 610860.19it/s]\u001b[A\n",
      "122175it [00:00, 607887.57it/s]\u001b[A\n",
      "182965it [00:00, 605351.82it/s]\u001b[A\n",
      "243502it [00:00, 598674.03it/s]\u001b[A\n",
      "304504it [00:00, 602723.27it/s]\u001b[A\n",
      "364787it [00:00, 598819.23it/s]\u001b[A\n",
      "424678it [00:00, 598800.25it/s]\u001b[A\n",
      "484565it [00:00, 594069.96it/s]\u001b[A\n",
      "549833it [00:00, 598802.31it/s]\u001b[A\n",
      "100%|████████████████████████████████████████████████████████████████████████| 11/11 [23:14<00:00, 126.77s/it]\n"
     ]
    }
   ],
   "source": [
    "stocks = [\n",
    "    # 'GAZP',\n",
    "    #       'SBER',\n",
    "    #       'LKOH',\n",
    "    #       'MGNT',\n",
    "    #       'NVTK',\n",
    "    #       'SNGS', 'SNGSP',\n",
    "    #       'GMKN',\n",
    "          'ROSN',\n",
    "          'NLMK',\n",
    "          'TATN',\n",
    "          'MTSS',\n",
    "          'ALRS',\n",
    "          \n",
    "          'YDEX',\n",
    "          'CHMF',\n",
    "          \n",
    "          'MAGN',\n",
    "          'T',\n",
    "          'OZON',\n",
    "          'RUAL'\n",
    "          \n",
    "         ]\n",
    "\n",
    "for stock in tqdm(stocks):\n",
    "    flag_data = False\n",
    "    while not flag_data:\n",
    "        try:\n",
    "            data = get_all_candles(ticker=stock,\n",
    "                               from_=datetime.datetime(2022, 10, 1, tzinfo=datetime.timezone.utc),\n",
    "                               to_=datetime.datetime(2024, 12, 26, tzinfo=datetime.timezone.utc),\n",
    "                               interval=CandleInterval.CANDLE_INTERVAL_1_MIN\n",
    "                              )\n",
    "            flag_data = True\n",
    "\n",
    "        except:\n",
    "            print('Error: flag_data')\n",
    "            time.sleep(5)\n",
    "            \n",
    "    data['ticker'] = stock\n",
    "    dump_pkl(data, f\"./data/raw/1min/{stock}.pkl\")\n"
   ]
  },
  {
   "cell_type": "code",
   "execution_count": null,
   "id": "f3411937-a148-447a-8f15-2abc33e8365d",
   "metadata": {},
   "outputs": [],
   "source": []
  },
  {
   "cell_type": "code",
   "execution_count": 63,
   "id": "7fe8b831-6a1b-4f0b-84d4-af11a89eab7b",
   "metadata": {},
   "outputs": [
    {
     "name": "stderr",
     "output_type": "stream",
     "text": [
      "  0%|                                                                                  | 0/19 [00:00<?, ?it/s]"
     ]
    },
    {
     "name": "stdout",
     "output_type": "stream",
     "text": [
      "GAZP\n"
     ]
    },
    {
     "name": "stderr",
     "output_type": "stream",
     "text": [
      "\n",
      "0it [00:00, ?it/s]\u001b[A\n",
      "52680it [00:00, 467049.40it/s]\u001b[A\n",
      "\n",
      "0it [00:00, ?it/s]\u001b[A\n",
      "58429it [00:00, 525567.54it/s]\u001b[A\n",
      "\n",
      "17171it [00:00, 412953.87it/s]\n",
      "  5%|███▉                                                                      | 1/19 [01:20<24:01, 80.09s/it]"
     ]
    },
    {
     "name": "stdout",
     "output_type": "stream",
     "text": [
      "SBER\n"
     ]
    },
    {
     "name": "stderr",
     "output_type": "stream",
     "text": [
      "\n",
      "0it [00:00, ?it/s]\u001b[A\n",
      "52579it [00:00, 485508.02it/s]\u001b[A\n",
      "None GetCandles RESOURCE_EXHAUSTED \n"
     ]
    },
    {
     "name": "stdout",
     "output_type": "stream",
     "text": [
      "Error: flag_data2\n"
     ]
    },
    {
     "name": "stderr",
     "output_type": "stream",
     "text": [
      "None GetCandles RESOURCE_EXHAUSTED \n"
     ]
    },
    {
     "name": "stdout",
     "output_type": "stream",
     "text": [
      "Error: flag_data2\n"
     ]
    },
    {
     "name": "stderr",
     "output_type": "stream",
     "text": [
      "None GetCandles RESOURCE_EXHAUSTED \n"
     ]
    },
    {
     "name": "stdout",
     "output_type": "stream",
     "text": [
      "Error: flag_data2\n"
     ]
    },
    {
     "name": "stderr",
     "output_type": "stream",
     "text": [
      "None GetCandles RESOURCE_EXHAUSTED \n"
     ]
    },
    {
     "name": "stdout",
     "output_type": "stream",
     "text": [
      "Error: flag_data2\n"
     ]
    },
    {
     "name": "stderr",
     "output_type": "stream",
     "text": [
      "\n",
      "0it [00:00, ?it/s]\u001b[A\n",
      "58435it [00:00, 538670.84it/s]\u001b[A\n",
      "\n",
      "17188it [00:00, 415542.85it/s]\n",
      " 11%|███████▊                                                                  | 2/19 [02:37<22:19, 78.78s/it]"
     ]
    },
    {
     "name": "stdout",
     "output_type": "stream",
     "text": [
      "LKOH\n"
     ]
    },
    {
     "name": "stderr",
     "output_type": "stream",
     "text": [
      "None GetCandles RESOURCE_EXHAUSTED \n"
     ]
    },
    {
     "name": "stdout",
     "output_type": "stream",
     "text": [
      "Error: flag_data1\n"
     ]
    },
    {
     "name": "stderr",
     "output_type": "stream",
     "text": [
      "None GetCandles RESOURCE_EXHAUSTED \n"
     ]
    },
    {
     "name": "stdout",
     "output_type": "stream",
     "text": [
      "Error: flag_data1\n"
     ]
    },
    {
     "name": "stderr",
     "output_type": "stream",
     "text": [
      "\n",
      "0it [00:00, ?it/s]\u001b[A\n",
      "52615it [00:00, 479507.60it/s]\u001b[A\n",
      "None GetCandles RESOURCE_EXHAUSTED \n"
     ]
    },
    {
     "name": "stdout",
     "output_type": "stream",
     "text": [
      "Error: flag_data2\n"
     ]
    },
    {
     "name": "stderr",
     "output_type": "stream",
     "text": [
      "\n",
      "0it [00:00, ?it/s]\u001b[A\n",
      "58367it [00:00, 523184.34it/s]\u001b[A\n",
      "\n",
      "17007it [00:00, 419966.25it/s]\n",
      " 16%|███████████▋                                                              | 3/19 [04:39<26:11, 98.19s/it]"
     ]
    },
    {
     "name": "stdout",
     "output_type": "stream",
     "text": [
      "MGNT\n"
     ]
    },
    {
     "name": "stderr",
     "output_type": "stream",
     "text": [
      "None GetCandles RESOURCE_EXHAUSTED \n"
     ]
    },
    {
     "name": "stdout",
     "output_type": "stream",
     "text": [
      "Error: flag_data1\n"
     ]
    },
    {
     "name": "stderr",
     "output_type": "stream",
     "text": [
      "None GetCandles RESOURCE_EXHAUSTED \n"
     ]
    },
    {
     "name": "stdout",
     "output_type": "stream",
     "text": [
      "Error: flag_data1\n"
     ]
    },
    {
     "name": "stderr",
     "output_type": "stream",
     "text": [
      "\n",
      "0it [00:00, ?it/s]\u001b[A\n",
      "51261it [00:00, 459670.02it/s]\u001b[A\n",
      "None GetCandles RESOURCE_EXHAUSTED \n"
     ]
    },
    {
     "name": "stdout",
     "output_type": "stream",
     "text": [
      "Error: flag_data2\n"
     ]
    },
    {
     "name": "stderr",
     "output_type": "stream",
     "text": [
      "\n",
      "0it [00:00, ?it/s]\u001b[A\n",
      "55630it [00:00, 537051.79it/s]\u001b[A\n",
      "\n",
      "15956it [00:00, 402949.76it/s]\n",
      " 21%|███████████████▎                                                         | 4/19 [06:38<26:34, 106.32s/it]"
     ]
    },
    {
     "name": "stdout",
     "output_type": "stream",
     "text": [
      "NVTK\n"
     ]
    },
    {
     "name": "stderr",
     "output_type": "stream",
     "text": [
      "None GetCandles RESOURCE_EXHAUSTED \n"
     ]
    },
    {
     "name": "stdout",
     "output_type": "stream",
     "text": [
      "Error: flag_data1\n"
     ]
    },
    {
     "name": "stderr",
     "output_type": "stream",
     "text": [
      "None GetCandles RESOURCE_EXHAUSTED \n"
     ]
    },
    {
     "name": "stdout",
     "output_type": "stream",
     "text": [
      "Error: flag_data1\n"
     ]
    },
    {
     "name": "stderr",
     "output_type": "stream",
     "text": [
      "\n",
      "0it [00:00, ?it/s]\u001b[A\n",
      "52151it [00:00, 474107.65it/s]\u001b[A\n",
      "None GetCandles RESOURCE_EXHAUSTED \n"
     ]
    },
    {
     "name": "stdout",
     "output_type": "stream",
     "text": [
      "Error: flag_data2\n"
     ]
    },
    {
     "name": "stderr",
     "output_type": "stream",
     "text": [
      "None GetCandles RESOURCE_EXHAUSTED \n"
     ]
    },
    {
     "name": "stdout",
     "output_type": "stream",
     "text": [
      "Error: flag_data2\n"
     ]
    },
    {
     "name": "stderr",
     "output_type": "stream",
     "text": [
      "\n",
      "0it [00:00, ?it/s]\u001b[A\n",
      "57766it [00:00, 537602.18it/s]\u001b[A\n",
      "\n",
      "16869it [00:00, 395577.12it/s]\n",
      " 26%|███████████████████▏                                                     | 5/19 [08:37<25:55, 111.08s/it]"
     ]
    },
    {
     "name": "stdout",
     "output_type": "stream",
     "text": [
      "SNGS\n"
     ]
    },
    {
     "name": "stderr",
     "output_type": "stream",
     "text": [
      "None GetCandles RESOURCE_EXHAUSTED \n"
     ]
    },
    {
     "name": "stdout",
     "output_type": "stream",
     "text": [
      "Error: flag_data1\n"
     ]
    },
    {
     "name": "stderr",
     "output_type": "stream",
     "text": [
      "None GetCandles RESOURCE_EXHAUSTED \n"
     ]
    },
    {
     "name": "stdout",
     "output_type": "stream",
     "text": [
      "Error: flag_data1\n"
     ]
    },
    {
     "name": "stderr",
     "output_type": "stream",
     "text": [
      "\n",
      "0it [00:00, ?it/s]\u001b[A\n",
      "47998it [00:00, 453752.54it/s]\u001b[A\n",
      "None GetCandles RESOURCE_EXHAUSTED \n"
     ]
    },
    {
     "name": "stdout",
     "output_type": "stream",
     "text": [
      "Error: flag_data2\n"
     ]
    },
    {
     "name": "stderr",
     "output_type": "stream",
     "text": [
      "\n",
      "0it [00:00, ?it/s]\u001b[A\n",
      "54124it [00:00, 496187.02it/s]\u001b[A\n",
      "\n",
      "14555it [00:00, 370203.84it/s]\n",
      " 32%|███████████████████████                                                  | 6/19 [10:42<25:03, 115.69s/it]"
     ]
    },
    {
     "name": "stdout",
     "output_type": "stream",
     "text": [
      "SNGSP\n"
     ]
    },
    {
     "name": "stderr",
     "output_type": "stream",
     "text": [
      "None GetCandles RESOURCE_EXHAUSTED \n"
     ]
    },
    {
     "name": "stdout",
     "output_type": "stream",
     "text": [
      "Error: flag_data1\n"
     ]
    },
    {
     "name": "stderr",
     "output_type": "stream",
     "text": [
      "None GetCandles RESOURCE_EXHAUSTED \n"
     ]
    },
    {
     "name": "stdout",
     "output_type": "stream",
     "text": [
      "Error: flag_data1\n"
     ]
    },
    {
     "name": "stderr",
     "output_type": "stream",
     "text": [
      "\n",
      "0it [00:00, ?it/s]\u001b[A\n",
      "49480it [00:00, 449234.40it/s]\u001b[A\n",
      "None GetCandles RESOURCE_EXHAUSTED \n"
     ]
    },
    {
     "name": "stdout",
     "output_type": "stream",
     "text": [
      "Error: flag_data2\n"
     ]
    },
    {
     "name": "stderr",
     "output_type": "stream",
     "text": [
      "\n",
      "0it [00:00, ?it/s]\u001b[A\n",
      "55171it [00:00, 504929.08it/s]\u001b[A\n",
      "\n",
      "16227it [00:00, 391164.00it/s]\n",
      " 37%|██████████████████████████▉                                              | 7/19 [12:44<23:33, 117.78s/it]"
     ]
    },
    {
     "name": "stdout",
     "output_type": "stream",
     "text": [
      "GMKN\n"
     ]
    },
    {
     "name": "stderr",
     "output_type": "stream",
     "text": [
      "None GetCandles RESOURCE_EXHAUSTED \n"
     ]
    },
    {
     "name": "stdout",
     "output_type": "stream",
     "text": [
      "Error: flag_data1\n"
     ]
    },
    {
     "name": "stderr",
     "output_type": "stream",
     "text": [
      "\n",
      "0it [00:00, ?it/s]\u001b[A\n",
      "49697it [00:00, 471343.96it/s]\u001b[A\n",
      "None GetCandles RESOURCE_EXHAUSTED \n"
     ]
    },
    {
     "name": "stdout",
     "output_type": "stream",
     "text": [
      "Error: flag_data2\n"
     ]
    },
    {
     "name": "stderr",
     "output_type": "stream",
     "text": [
      "\n",
      "55481it [00:00, 565740.11it/s]\n",
      "\n",
      "16843it [00:00, 422586.69it/s]\n",
      " 42%|██████████████████████████████▋                                          | 8/19 [14:38<21:22, 116.63s/it]"
     ]
    },
    {
     "name": "stdout",
     "output_type": "stream",
     "text": [
      "ROSN\n"
     ]
    },
    {
     "name": "stderr",
     "output_type": "stream",
     "text": [
      "None GetCandles RESOURCE_EXHAUSTED \n"
     ]
    },
    {
     "name": "stdout",
     "output_type": "stream",
     "text": [
      "Error: flag_data1\n"
     ]
    },
    {
     "name": "stderr",
     "output_type": "stream",
     "text": [
      "None GetCandles RESOURCE_EXHAUSTED \n"
     ]
    },
    {
     "name": "stdout",
     "output_type": "stream",
     "text": [
      "Error: flag_data1\n"
     ]
    },
    {
     "name": "stderr",
     "output_type": "stream",
     "text": [
      "None GetCandles RESOURCE_EXHAUSTED \n"
     ]
    },
    {
     "name": "stdout",
     "output_type": "stream",
     "text": [
      "Error: flag_data1\n"
     ]
    },
    {
     "name": "stderr",
     "output_type": "stream",
     "text": [
      "\n",
      "0it [00:00, ?it/s]\u001b[A\n",
      "52479it [00:00, 488680.37it/s]\u001b[A\n",
      "None GetCandles RESOURCE_EXHAUSTED \n"
     ]
    },
    {
     "name": "stdout",
     "output_type": "stream",
     "text": [
      "Error: flag_data2\n"
     ]
    },
    {
     "name": "stderr",
     "output_type": "stream",
     "text": [
      "None GetCandles RESOURCE_EXHAUSTED \n"
     ]
    },
    {
     "name": "stdout",
     "output_type": "stream",
     "text": [
      "Error: flag_data2\n"
     ]
    },
    {
     "name": "stderr",
     "output_type": "stream",
     "text": [
      "None GetCandles RESOURCE_EXHAUSTED \n"
     ]
    },
    {
     "name": "stdout",
     "output_type": "stream",
     "text": [
      "Error: flag_data2\n"
     ]
    },
    {
     "name": "stderr",
     "output_type": "stream",
     "text": [
      "None GetCandles RESOURCE_EXHAUSTED \n"
     ]
    },
    {
     "name": "stdout",
     "output_type": "stream",
     "text": [
      "Error: flag_data2\n"
     ]
    },
    {
     "name": "stderr",
     "output_type": "stream",
     "text": [
      "\n",
      "0it [00:00, ?it/s]\u001b[A\n",
      "58204it [00:00, 523590.83it/s]\u001b[A\n",
      "\n",
      "17200it [00:00, 406917.68it/s]\n",
      " 47%|██████████████████████████████████▌                                      | 9/19 [16:34<19:23, 116.32s/it]"
     ]
    },
    {
     "name": "stdout",
     "output_type": "stream",
     "text": [
      "NLMK\n"
     ]
    },
    {
     "name": "stderr",
     "output_type": "stream",
     "text": [
      "None GetCandles RESOURCE_EXHAUSTED \n"
     ]
    },
    {
     "name": "stdout",
     "output_type": "stream",
     "text": [
      "Error: flag_data1\n"
     ]
    },
    {
     "name": "stderr",
     "output_type": "stream",
     "text": [
      "None GetCandles RESOURCE_EXHAUSTED \n"
     ]
    },
    {
     "name": "stdout",
     "output_type": "stream",
     "text": [
      "Error: flag_data1\n"
     ]
    },
    {
     "name": "stderr",
     "output_type": "stream",
     "text": [
      "None GetCandles RESOURCE_EXHAUSTED \n"
     ]
    },
    {
     "name": "stdout",
     "output_type": "stream",
     "text": [
      "Error: flag_data1\n"
     ]
    },
    {
     "name": "stderr",
     "output_type": "stream",
     "text": [
      "\n",
      "0it [00:00, ?it/s]\u001b[A\n",
      "51791it [00:00, 466332.91it/s]\u001b[A\n",
      "None GetCandles RESOURCE_EXHAUSTED \n"
     ]
    },
    {
     "name": "stdout",
     "output_type": "stream",
     "text": [
      "Error: flag_data2\n"
     ]
    },
    {
     "name": "stderr",
     "output_type": "stream",
     "text": [
      "\n",
      "0it [00:00, ?it/s]\u001b[A\n",
      "56975it [00:00, 524444.48it/s]\u001b[A\n",
      "\n",
      "16646it [00:00, 407370.32it/s]\n",
      " 53%|█████████████████████████████████████▉                                  | 10/19 [18:39<17:52, 119.14s/it]"
     ]
    },
    {
     "name": "stdout",
     "output_type": "stream",
     "text": [
      "TATN\n"
     ]
    },
    {
     "name": "stderr",
     "output_type": "stream",
     "text": [
      "None GetCandles RESOURCE_EXHAUSTED \n"
     ]
    },
    {
     "name": "stdout",
     "output_type": "stream",
     "text": [
      "Error: flag_data1\n"
     ]
    },
    {
     "name": "stderr",
     "output_type": "stream",
     "text": [
      "None GetCandles RESOURCE_EXHAUSTED \n"
     ]
    },
    {
     "name": "stdout",
     "output_type": "stream",
     "text": [
      "Error: flag_data1\n"
     ]
    },
    {
     "name": "stderr",
     "output_type": "stream",
     "text": [
      "\n",
      "0it [00:00, ?it/s]\u001b[A\n",
      "52066it [00:00, 474220.92it/s]\u001b[A\n",
      "None GetCandles RESOURCE_EXHAUSTED \n"
     ]
    },
    {
     "name": "stdout",
     "output_type": "stream",
     "text": [
      "Error: flag_data2\n"
     ]
    },
    {
     "name": "stderr",
     "output_type": "stream",
     "text": [
      "\n",
      "0it [00:00, ?it/s]\u001b[A\n",
      "57937it [00:00, 529153.74it/s]\u001b[A\n",
      "\n",
      "16921it [00:00, 403216.89it/s]\n",
      " 58%|█████████████████████████████████████████▋                              | 11/19 [20:38<15:53, 119.24s/it]"
     ]
    },
    {
     "name": "stdout",
     "output_type": "stream",
     "text": [
      "MTSS\n"
     ]
    },
    {
     "name": "stderr",
     "output_type": "stream",
     "text": [
      "None GetCandles RESOURCE_EXHAUSTED \n"
     ]
    },
    {
     "name": "stdout",
     "output_type": "stream",
     "text": [
      "Error: flag_data1\n"
     ]
    },
    {
     "name": "stderr",
     "output_type": "stream",
     "text": [
      "None GetCandles RESOURCE_EXHAUSTED \n"
     ]
    },
    {
     "name": "stdout",
     "output_type": "stream",
     "text": [
      "Error: flag_data1\n"
     ]
    },
    {
     "name": "stderr",
     "output_type": "stream",
     "text": [
      "\n",
      "0it [00:00, ?it/s]\u001b[A\n",
      "51284it [00:00, 458433.54it/s]\u001b[A\n",
      "None GetCandles RESOURCE_EXHAUSTED \n"
     ]
    },
    {
     "name": "stdout",
     "output_type": "stream",
     "text": [
      "Error: flag_data2\n"
     ]
    },
    {
     "name": "stderr",
     "output_type": "stream",
     "text": [
      "\n",
      "0it [00:00, ?it/s]\u001b[A\n",
      "57157it [00:00, 531733.92it/s]\u001b[A\n",
      "\n",
      "16404it [00:00, 389600.02it/s]\n",
      " 63%|█████████████████████████████████████████████▍                          | 12/19 [22:38<13:54, 119.22s/it]"
     ]
    },
    {
     "name": "stdout",
     "output_type": "stream",
     "text": [
      "ALRS\n"
     ]
    },
    {
     "name": "stderr",
     "output_type": "stream",
     "text": [
      "None GetCandles RESOURCE_EXHAUSTED \n"
     ]
    },
    {
     "name": "stdout",
     "output_type": "stream",
     "text": [
      "Error: flag_data1\n"
     ]
    },
    {
     "name": "stderr",
     "output_type": "stream",
     "text": [
      "None GetCandles RESOURCE_EXHAUSTED \n"
     ]
    },
    {
     "name": "stdout",
     "output_type": "stream",
     "text": [
      "Error: flag_data1\n"
     ]
    },
    {
     "name": "stderr",
     "output_type": "stream",
     "text": [
      "\n",
      "0it [00:00, ?it/s]\u001b[A\n",
      "52581it [00:00, 473187.15it/s]\u001b[A\n",
      "None GetCandles RESOURCE_EXHAUSTED \n"
     ]
    },
    {
     "name": "stdout",
     "output_type": "stream",
     "text": [
      "Error: flag_data2\n"
     ]
    },
    {
     "name": "stderr",
     "output_type": "stream",
     "text": [
      "\n",
      "0it [00:00, ?it/s]\u001b[A\n",
      "57761it [00:00, 528990.77it/s]\u001b[A\n",
      "\n",
      "16755it [00:00, 405359.55it/s]\n",
      " 68%|█████████████████████████████████████████████████▎                      | 13/19 [24:40<12:00, 120.03s/it]"
     ]
    },
    {
     "name": "stdout",
     "output_type": "stream",
     "text": [
      "YDEX\n"
     ]
    },
    {
     "name": "stderr",
     "output_type": "stream",
     "text": [
      "None GetCandles RESOURCE_EXHAUSTED \n"
     ]
    },
    {
     "name": "stdout",
     "output_type": "stream",
     "text": [
      "Error: flag_data1\n"
     ]
    },
    {
     "name": "stderr",
     "output_type": "stream",
     "text": [
      "None GetCandles RESOURCE_EXHAUSTED \n"
     ]
    },
    {
     "name": "stdout",
     "output_type": "stream",
     "text": [
      "Error: flag_data1\n"
     ]
    },
    {
     "name": "stderr",
     "output_type": "stream",
     "text": [
      "\n",
      "0it [00:00, ?it/s]\u001b[A\n",
      "52586it [00:00, 494252.52it/s]\u001b[A\n",
      "None GetCandles RESOURCE_EXHAUSTED \n"
     ]
    },
    {
     "name": "stdout",
     "output_type": "stream",
     "text": [
      "Error: flag_data2\n"
     ]
    },
    {
     "name": "stderr",
     "output_type": "stream",
     "text": [
      "\n",
      "50851it [00:00, 511080.33it/s]\n",
      "\n",
      "17057it [00:00, 415043.21it/s]\n",
      " 74%|█████████████████████████████████████████████████████                   | 14/19 [26:40<10:00, 120.01s/it]"
     ]
    },
    {
     "name": "stdout",
     "output_type": "stream",
     "text": [
      "CHMF\n"
     ]
    },
    {
     "name": "stderr",
     "output_type": "stream",
     "text": [
      "None GetCandles RESOURCE_EXHAUSTED \n"
     ]
    },
    {
     "name": "stdout",
     "output_type": "stream",
     "text": [
      "Error: flag_data1\n"
     ]
    },
    {
     "name": "stderr",
     "output_type": "stream",
     "text": [
      "None GetCandles RESOURCE_EXHAUSTED \n"
     ]
    },
    {
     "name": "stdout",
     "output_type": "stream",
     "text": [
      "Error: flag_data1\n"
     ]
    },
    {
     "name": "stderr",
     "output_type": "stream",
     "text": [
      "\n",
      "0it [00:00, ?it/s]\u001b[A\n",
      "52144it [00:00, 459292.60it/s]\u001b[A\n",
      "None GetCandles RESOURCE_EXHAUSTED \n"
     ]
    },
    {
     "name": "stdout",
     "output_type": "stream",
     "text": [
      "Error: flag_data2\n"
     ]
    },
    {
     "name": "stderr",
     "output_type": "stream",
     "text": [
      "\n",
      "0it [00:00, ?it/s]\u001b[A\n",
      "57806it [00:00, 510436.78it/s]\u001b[A\n",
      "\n",
      "16679it [00:00, 402661.49it/s]\n",
      " 79%|████████████████████████████████████████████████████████▊               | 15/19 [28:46<08:07, 122.00s/it]"
     ]
    },
    {
     "name": "stdout",
     "output_type": "stream",
     "text": [
      "MAGN\n"
     ]
    },
    {
     "name": "stderr",
     "output_type": "stream",
     "text": [
      "None GetCandles RESOURCE_EXHAUSTED \n"
     ]
    },
    {
     "name": "stdout",
     "output_type": "stream",
     "text": [
      "Error: flag_data1\n"
     ]
    },
    {
     "name": "stderr",
     "output_type": "stream",
     "text": [
      "\n",
      "0it [00:00, ?it/s]\u001b[A\n",
      "52476it [00:00, 467526.59it/s]\u001b[A\n",
      "None GetCandles RESOURCE_EXHAUSTED \n"
     ]
    },
    {
     "name": "stdout",
     "output_type": "stream",
     "text": [
      "Error: flag_data2\n"
     ]
    },
    {
     "name": "stderr",
     "output_type": "stream",
     "text": [
      "\n",
      "0it [00:00, ?it/s]\u001b[A\n",
      "57746it [00:00, 509461.85it/s]\u001b[A\n",
      "\n",
      "16922it [00:00, 421891.14it/s]\n",
      " 84%|████████████████████████████████████████████████████████████▋           | 16/19 [30:43<06:01, 120.45s/it]"
     ]
    },
    {
     "name": "stdout",
     "output_type": "stream",
     "text": [
      "T\n"
     ]
    },
    {
     "name": "stderr",
     "output_type": "stream",
     "text": [
      "None GetCandles RESOURCE_EXHAUSTED \n"
     ]
    },
    {
     "name": "stdout",
     "output_type": "stream",
     "text": [
      "Error: flag_data1\n"
     ]
    },
    {
     "name": "stderr",
     "output_type": "stream",
     "text": [
      "None GetCandles RESOURCE_EXHAUSTED \n"
     ]
    },
    {
     "name": "stdout",
     "output_type": "stream",
     "text": [
      "Error: flag_data1\n"
     ]
    },
    {
     "name": "stderr",
     "output_type": "stream",
     "text": [
      "\n",
      "0it [00:00, ?it/s]\u001b[A\n",
      "41491it [00:00, 389725.91it/s]\u001b[A\n",
      "None GetCandles RESOURCE_EXHAUSTED \n"
     ]
    },
    {
     "name": "stdout",
     "output_type": "stream",
     "text": [
      "Error: flag_data2\n"
     ]
    },
    {
     "name": "stderr",
     "output_type": "stream",
     "text": [
      "\n",
      "49683it [00:00, 587415.38it/s]\n",
      "\n",
      "17140it [00:00, 429938.05it/s]\n",
      " 89%|████████████████████████████████████████████████████████████████▍       | 17/19 [32:36<03:56, 118.09s/it]"
     ]
    },
    {
     "name": "stdout",
     "output_type": "stream",
     "text": [
      "OZON\n"
     ]
    },
    {
     "name": "stderr",
     "output_type": "stream",
     "text": [
      "None GetCandles RESOURCE_EXHAUSTED \n"
     ]
    },
    {
     "name": "stdout",
     "output_type": "stream",
     "text": [
      "Error: flag_data1\n"
     ]
    },
    {
     "name": "stderr",
     "output_type": "stream",
     "text": [
      "None GetCandles RESOURCE_EXHAUSTED \n"
     ]
    },
    {
     "name": "stdout",
     "output_type": "stream",
     "text": [
      "Error: flag_data1\n"
     ]
    },
    {
     "name": "stderr",
     "output_type": "stream",
     "text": [
      "None GetCandles RESOURCE_EXHAUSTED \n"
     ]
    },
    {
     "name": "stdout",
     "output_type": "stream",
     "text": [
      "Error: flag_data1\n"
     ]
    },
    {
     "name": "stderr",
     "output_type": "stream",
     "text": [
      "\n",
      "52579it [00:00, 547024.33it/s]\n",
      "None GetCandles RESOURCE_EXHAUSTED \n"
     ]
    },
    {
     "name": "stdout",
     "output_type": "stream",
     "text": [
      "Error: flag_data2\n"
     ]
    },
    {
     "name": "stderr",
     "output_type": "stream",
     "text": [
      "None GetCandles RESOURCE_EXHAUSTED \n"
     ]
    },
    {
     "name": "stdout",
     "output_type": "stream",
     "text": [
      "Error: flag_data2\n"
     ]
    },
    {
     "name": "stderr",
     "output_type": "stream",
     "text": [
      "None GetCandles RESOURCE_EXHAUSTED \n"
     ]
    },
    {
     "name": "stdout",
     "output_type": "stream",
     "text": [
      "Error: flag_data2\n"
     ]
    },
    {
     "name": "stderr",
     "output_type": "stream",
     "text": [
      "\n",
      "0it [00:00, ?it/s]\u001b[A\n",
      "58289it [00:00, 543658.92it/s]\u001b[A\n",
      "\n",
      "16924it [00:00, 401843.23it/s]\n",
      " 95%|████████████████████████████████████████████████████████████████████▏   | 18/19 [34:33<01:57, 117.94s/it]"
     ]
    },
    {
     "name": "stdout",
     "output_type": "stream",
     "text": [
      "RUAL\n"
     ]
    },
    {
     "name": "stderr",
     "output_type": "stream",
     "text": [
      "None GetCandles RESOURCE_EXHAUSTED \n"
     ]
    },
    {
     "name": "stdout",
     "output_type": "stream",
     "text": [
      "Error: flag_data1\n"
     ]
    },
    {
     "name": "stderr",
     "output_type": "stream",
     "text": [
      "None GetCandles RESOURCE_EXHAUSTED \n"
     ]
    },
    {
     "name": "stdout",
     "output_type": "stream",
     "text": [
      "Error: flag_data1\n"
     ]
    },
    {
     "name": "stderr",
     "output_type": "stream",
     "text": [
      "None GetCandles RESOURCE_EXHAUSTED \n"
     ]
    },
    {
     "name": "stdout",
     "output_type": "stream",
     "text": [
      "Error: flag_data1\n"
     ]
    },
    {
     "name": "stderr",
     "output_type": "stream",
     "text": [
      "\n",
      "0it [00:00, ?it/s]\u001b[A\n",
      "52530it [00:00, 471183.44it/s]\u001b[A\n",
      "None GetCandles RESOURCE_EXHAUSTED \n"
     ]
    },
    {
     "name": "stdout",
     "output_type": "stream",
     "text": [
      "Error: flag_data2\n"
     ]
    },
    {
     "name": "stderr",
     "output_type": "stream",
     "text": [
      "\n",
      "0it [00:00, ?it/s]\u001b[A\n",
      "56779it [00:00, 521013.26it/s]\u001b[A\n",
      "\n",
      "16042it [00:00, 387245.25it/s]\n",
      "100%|████████████████████████████████████████████████████████████████████████| 19/19 [36:34<00:00, 115.49s/it]\n"
     ]
    }
   ],
   "source": [
    "#5min\n",
    "stocks = [\n",
    "          'GAZP',\n",
    "          'SBER',\n",
    "          'LKOH',\n",
    "          'MGNT',\n",
    "          'NVTK',\n",
    "          'SNGS', 'SNGSP',\n",
    "          'GMKN',\n",
    "          'ROSN',\n",
    "          'NLMK',\n",
    "          'TATN',\n",
    "          'MTSS',\n",
    "          'ALRS',\n",
    "          \n",
    "          'YDEX',\n",
    "          'CHMF',\n",
    "          \n",
    "          'MAGN',\n",
    "          'T',\n",
    "          'OZON',\n",
    "          'RUAL'\n",
    "          \n",
    "         ]\n",
    "for stock in tqdm(stocks):\n",
    "    print(stock)\n",
    "\n",
    "    \n",
    "    flag_data1 = False\n",
    "    while not flag_data1:\n",
    "        try:\n",
    "            data1 = get_all_candles(ticker=stock,\n",
    "                               from_=datetime.datetime(2022, 10, 1, tzinfo=datetime.timezone.utc),\n",
    "                               to_=datetime.datetime(2023, 10, 1, tzinfo=datetime.timezone.utc),\n",
    "                               interval=CandleInterval.CANDLE_INTERVAL_5_MIN\n",
    "                              )\n",
    "            flag_data1 = True\n",
    "        except:\n",
    "            print('Error: flag_data1')\n",
    "            time.sleep(5)\n",
    "\n",
    "    \n",
    "    flag_data2 = False\n",
    "    while not flag_data2:\n",
    "        try:            \n",
    "            data2 = get_all_candles(ticker=stock,\n",
    "                               from_=datetime.datetime(2023, 10, 1, tzinfo=datetime.timezone.utc),\n",
    "                               to_=datetime.datetime(2024, 10, 1, tzinfo=datetime.timezone.utc),\n",
    "                               interval=CandleInterval.CANDLE_INTERVAL_5_MIN\n",
    "                              )\n",
    "            flag_data2 = True\n",
    "        except:\n",
    "            print('Error: flag_data2')\n",
    "            time.sleep(5)\n",
    "\n",
    "    \n",
    "    flag_data3 = False\n",
    "    while not flag_data3:\n",
    "        try:            \n",
    "            data3 = get_all_candles(ticker=stock,\n",
    "                               from_=datetime.datetime(2024, 10, 1, tzinfo=datetime.timezone.utc),\n",
    "                               to_=datetime.datetime(2024, 12, 26, tzinfo=datetime.timezone.utc),\n",
    "                               interval=CandleInterval.CANDLE_INTERVAL_5_MIN\n",
    "                              )\n",
    "            flag_data3 = True\n",
    "        except:\n",
    "            print('Error: flag_data3')\n",
    "            time.sleep(5)\n",
    "\n",
    "\n",
    "    data = pd.concat([data1, data2, data3])\n",
    "    data.sort_values(by='time', inplace=True)\n",
    "    data.reset_index(drop=True, inplace=True)\n",
    "    \n",
    "    data['ticker'] = stock\n",
    "    dump_pkl(data, f\"./data/raw/5min/{stock}.pkl\")"
   ]
  },
  {
   "cell_type": "code",
   "execution_count": null,
   "id": "6f5a3499-34db-42ba-bf25-8042b1fabbc0",
   "metadata": {},
   "outputs": [],
   "source": []
  },
  {
   "cell_type": "code",
   "execution_count": 65,
   "id": "85e36c7a-be57-4f6f-bd9a-49d62ec7c352",
   "metadata": {},
   "outputs": [
    {
     "name": "stderr",
     "output_type": "stream",
     "text": [
      "  0%|                                                                                  | 0/19 [00:00<?, ?it/s]\n",
      "11415it [00:00, 301411.31it/s]\n",
      "  5%|███▉                                                                      | 1/19 [00:07<02:08,  7.13s/it]None GetCandles RESOURCE_EXHAUSTED \n"
     ]
    },
    {
     "name": "stdout",
     "output_type": "stream",
     "text": [
      "Error: flag_data\n"
     ]
    },
    {
     "name": "stderr",
     "output_type": "stream",
     "text": [
      "None GetCandles RESOURCE_EXHAUSTED \n"
     ]
    },
    {
     "name": "stdout",
     "output_type": "stream",
     "text": [
      "Error: flag_data\n"
     ]
    },
    {
     "name": "stderr",
     "output_type": "stream",
     "text": [
      "None GetCandles RESOURCE_EXHAUSTED \n"
     ]
    },
    {
     "name": "stdout",
     "output_type": "stream",
     "text": [
      "Error: flag_data\n"
     ]
    },
    {
     "name": "stderr",
     "output_type": "stream",
     "text": [
      "None GetCandles RESOURCE_EXHAUSTED \n"
     ]
    },
    {
     "name": "stdout",
     "output_type": "stream",
     "text": [
      "Error: flag_data\n"
     ]
    },
    {
     "name": "stderr",
     "output_type": "stream",
     "text": [
      "\n",
      "11406it [00:00, 301770.19it/s]\n",
      " 11%|███████▊                                                                  | 2/19 [00:41<06:30, 22.98s/it]\n",
      "11414it [00:00, 313872.95it/s]\n",
      " 16%|███████████▋                                                              | 3/19 [00:48<04:13, 15.82s/it]\n",
      "11353it [00:00, 571335.21it/s]\n",
      " 21%|███████████████▌                                                          | 4/19 [00:55<03:05, 12.34s/it]\n",
      "11320it [00:00, 309145.68it/s]\n",
      " 26%|███████████████████▍                                                      | 5/19 [01:02<02:25, 10.43s/it]\n",
      "11349it [00:00, 274560.81it/s]\n",
      " 32%|███████████████████████▎                                                  | 6/19 [01:09<02:01,  9.37s/it]None GetCandles RESOURCE_EXHAUSTED \n"
     ]
    },
    {
     "name": "stdout",
     "output_type": "stream",
     "text": [
      "Error: flag_data\n"
     ]
    },
    {
     "name": "stderr",
     "output_type": "stream",
     "text": [
      "None GetCandles RESOURCE_EXHAUSTED \n"
     ]
    },
    {
     "name": "stdout",
     "output_type": "stream",
     "text": [
      "Error: flag_data\n"
     ]
    },
    {
     "name": "stderr",
     "output_type": "stream",
     "text": [
      "None GetCandles RESOURCE_EXHAUSTED \n"
     ]
    },
    {
     "name": "stdout",
     "output_type": "stream",
     "text": [
      "Error: flag_data\n"
     ]
    },
    {
     "name": "stderr",
     "output_type": "stream",
     "text": [
      "\n",
      "11352it [00:00, 305194.76it/s]\n",
      " 37%|███████████████████████████▎                                              | 7/19 [01:36<03:00, 15.08s/it]\n",
      "11314it [00:00, 295457.75it/s]\n",
      " 42%|███████████████████████████████▏                                          | 8/19 [01:43<02:15, 12.33s/it]\n",
      "11382it [00:00, 310849.00it/s]\n",
      " 47%|███████████████████████████████████                                       | 9/19 [01:50<01:47, 10.70s/it]\n",
      "11355it [00:00, 323880.62it/s]\n",
      " 53%|██████████████████████████████████████▍                                  | 10/19 [01:57<01:27,  9.67s/it]\n",
      "11326it [00:00, 304404.05it/s]\n",
      " 58%|██████████████████████████████████████████▎                              | 11/19 [02:04<01:11,  8.89s/it]None GetCandles RESOURCE_EXHAUSTED \n"
     ]
    },
    {
     "name": "stdout",
     "output_type": "stream",
     "text": [
      "Error: flag_data\n"
     ]
    },
    {
     "name": "stderr",
     "output_type": "stream",
     "text": [
      "None GetCandles RESOURCE_EXHAUSTED \n"
     ]
    },
    {
     "name": "stdout",
     "output_type": "stream",
     "text": [
      "Error: flag_data\n"
     ]
    },
    {
     "name": "stderr",
     "output_type": "stream",
     "text": [
      "None GetCandles RESOURCE_EXHAUSTED \n"
     ]
    },
    {
     "name": "stdout",
     "output_type": "stream",
     "text": [
      "Error: flag_data\n"
     ]
    },
    {
     "name": "stderr",
     "output_type": "stream",
     "text": [
      "None GetCandles RESOURCE_EXHAUSTED \n"
     ]
    },
    {
     "name": "stdout",
     "output_type": "stream",
     "text": [
      "Error: flag_data\n"
     ]
    },
    {
     "name": "stderr",
     "output_type": "stream",
     "text": [
      "\n",
      "11353it [00:00, 281706.24it/s]\n",
      " 63%|██████████████████████████████████████████████                           | 12/19 [02:37<01:52, 16.10s/it]\n",
      "11382it [00:00, 305238.25it/s]\n",
      " 68%|█████████████████████████████████████████████████▉                       | 13/19 [02:43<01:19, 13.23s/it]\n",
      "10739it [00:00, 323055.30it/s]\n",
      " 74%|█████████████████████████████████████████████████████▊                   | 14/19 [02:50<00:56, 11.35s/it]\n",
      "11378it [00:00, 308665.62it/s]\n",
      " 79%|█████████████████████████████████████████████████████████▋               | 15/19 [02:58<00:40, 10.06s/it]\n",
      "11356it [00:00, 293785.22it/s]\n",
      " 84%|█████████████████████████████████████████████████████████████▍           | 16/19 [03:05<00:27,  9.28s/it]None GetCandles RESOURCE_EXHAUSTED \n"
     ]
    },
    {
     "name": "stdout",
     "output_type": "stream",
     "text": [
      "Error: flag_data\n"
     ]
    },
    {
     "name": "stderr",
     "output_type": "stream",
     "text": [
      "None GetCandles RESOURCE_EXHAUSTED \n"
     ]
    },
    {
     "name": "stdout",
     "output_type": "stream",
     "text": [
      "Error: flag_data\n"
     ]
    },
    {
     "name": "stderr",
     "output_type": "stream",
     "text": [
      "None GetCandles RESOURCE_EXHAUSTED \n"
     ]
    },
    {
     "name": "stdout",
     "output_type": "stream",
     "text": [
      "Error: flag_data\n"
     ]
    },
    {
     "name": "stderr",
     "output_type": "stream",
     "text": [
      "None GetCandles RESOURCE_EXHAUSTED \n"
     ]
    },
    {
     "name": "stdout",
     "output_type": "stream",
     "text": [
      "Error: flag_data\n"
     ]
    },
    {
     "name": "stderr",
     "output_type": "stream",
     "text": [
      "\n",
      "9725it [00:00, 274949.66it/s]\n",
      " 89%|█████████████████████████████████████████████████████████████████▎       | 17/19 [03:37<00:32, 16.26s/it]\n",
      "11395it [00:00, 309737.82it/s]\n",
      " 95%|█████████████████████████████████████████████████████████████████████▏   | 18/19 [03:45<00:13, 13.50s/it]\n",
      "11356it [00:00, 323671.43it/s]\n",
      "100%|█████████████████████████████████████████████████████████████████████████| 19/19 [03:52<00:00, 12.23s/it]\n"
     ]
    }
   ],
   "source": [
    "#1hour\n",
    "for stock in tqdm(stocks):\n",
    "    flag_data = False\n",
    "    while not flag_data:\n",
    "        try:\n",
    "            data = get_all_candles(ticker=stock,\n",
    "                       from_=datetime.datetime(2022, 10, 1, tzinfo=datetime.timezone.utc),\n",
    "                       to_=datetime.datetime(2024, 12, 26, tzinfo=datetime.timezone.utc),\n",
    "                       interval=CandleInterval.CANDLE_INTERVAL_HOUR\n",
    "                      )\n",
    "            flag_data = True\n",
    "        except:\n",
    "            print('Error: flag_data')\n",
    "            time.sleep(5)\n",
    "\n",
    "    data['ticker'] = stock\n",
    "    dump_pkl(data, f\"./data/raw/1hour/{stock}.pkl\")"
   ]
  },
  {
   "cell_type": "code",
   "execution_count": null,
   "id": "28d0709c-bdc8-415d-b25d-27b2e36fef3e",
   "metadata": {},
   "outputs": [],
   "source": []
  },
  {
   "cell_type": "code",
   "execution_count": 67,
   "id": "7ea01bb7-bbd2-48bd-8894-5d774689573a",
   "metadata": {},
   "outputs": [
    {
     "name": "stderr",
     "output_type": "stream",
     "text": [
      "  0%|                                                                                  | 0/19 [00:00<?, ?it/s]\n",
      "571it [00:00, 327044.60it/s]\n",
      "  5%|███▉                                                                      | 1/19 [00:01<00:25,  1.42s/it]\n",
      "571it [00:00, 362760.92it/s]\n",
      " 11%|███████▊                                                                  | 2/19 [00:02<00:23,  1.38s/it]\n",
      "571it [00:00, 379668.29it/s]\n",
      " 16%|███████████▋                                                              | 3/19 [00:04<00:22,  1.38s/it]\n",
      "571it [00:00, 372522.57it/s]\n",
      " 21%|███████████████▌                                                          | 4/19 [00:05<00:20,  1.36s/it]\n",
      "571it [00:00, 373393.76it/s]\n",
      " 26%|███████████████████▍                                                      | 5/19 [00:06<00:19,  1.36s/it]\n",
      "571it [00:00, 361446.96it/s]\n",
      " 32%|███████████████████████▎                                                  | 6/19 [00:08<00:17,  1.37s/it]\n",
      "571it [00:00, 322421.59it/s]\n",
      " 37%|███████████████████████████▎                                              | 7/19 [00:09<00:16,  1.34s/it]\n",
      "567it [00:00, 389098.55it/s]\n",
      " 42%|███████████████████████████████▏                                          | 8/19 [00:10<00:14,  1.34s/it]\n",
      "571it [00:00, 361883.89it/s]\n",
      " 47%|███████████████████████████████████                                       | 9/19 [00:12<00:13,  1.33s/it]\n",
      "571it [00:00, 363918.49it/s]\n",
      " 53%|██████████████████████████████████████▍                                  | 10/19 [00:13<00:12,  1.34s/it]\n",
      "571it [00:00, 365808.40it/s]\n",
      " 58%|██████████████████████████████████████████▎                              | 11/19 [00:14<00:10,  1.34s/it]\n",
      "571it [00:00, 372696.48it/s]\n",
      " 63%|██████████████████████████████████████████████                           | 12/19 [00:16<00:09,  1.35s/it]\n",
      "571it [00:00, 360739.21it/s]\n",
      " 68%|█████████████████████████████████████████████████▉                       | 13/19 [00:17<00:08,  1.34s/it]\n",
      "544it [00:00, 345398.33it/s]\n",
      " 74%|█████████████████████████████████████████████████████▊                   | 14/19 [00:18<00:06,  1.35s/it]\n",
      "571it [00:00, 389993.09it/s]\n",
      " 79%|█████████████████████████████████████████████████████████▋               | 15/19 [00:20<00:05,  1.34s/it]\n",
      "571it [00:00, 322204.71it/s]\n",
      " 84%|█████████████████████████████████████████████████████████████▍           | 16/19 [00:21<00:04,  1.39s/it]\n",
      "552it [00:00, 371689.81it/s]\n",
      " 89%|█████████████████████████████████████████████████████████████████▎       | 17/19 [00:23<00:02,  1.35s/it]\n",
      "571it [00:00, 530559.94it/s]\n",
      " 95%|█████████████████████████████████████████████████████████████████████▏   | 18/19 [00:24<00:01,  1.35s/it]\n",
      "571it [00:00, 357721.82it/s]\n",
      "100%|█████████████████████████████████████████████████████████████████████████| 19/19 [00:25<00:00,  1.35s/it]\n"
     ]
    }
   ],
   "source": [
    "#1day\n",
    "for stock in tqdm(stocks):\n",
    "    flag_data = False\n",
    "    while not flag_data:\n",
    "        try:\n",
    "            data = get_all_candles(ticker=stock,\n",
    "                               from_=datetime.datetime(2022, 10, 1, tzinfo=datetime.timezone.utc),\n",
    "                               to_=datetime.datetime(2024, 12, 26, tzinfo=datetime.timezone.utc),\n",
    "                               interval=CandleInterval.CANDLE_INTERVAL_DAY)\n",
    "            flag_data = True\n",
    "        except:\n",
    "            print('Error: flag_data')\n",
    "            time.sleep(5)\n",
    "\n",
    "    data['ticker'] = stock\n",
    "    dump_pkl(data, f\"./data/raw/1day/{stock}.pkl\")"
   ]
  },
  {
   "cell_type": "code",
   "execution_count": null,
   "id": "1e0b1d76-b0b5-4951-8039-091dcf6cd5ce",
   "metadata": {},
   "outputs": [],
   "source": []
  },
  {
   "cell_type": "code",
   "execution_count": null,
   "id": "a31e9bfe-cb5d-49d6-95bb-04be09914d1d",
   "metadata": {},
   "outputs": [],
   "source": []
  },
  {
   "cell_type": "code",
   "execution_count": null,
   "id": "80932628-9d09-47e9-af80-d0a8d6949e94",
   "metadata": {},
   "outputs": [],
   "source": []
  },
  {
   "cell_type": "code",
   "execution_count": null,
   "id": "58cfb661-654d-4598-81b3-3a95d37a9000",
   "metadata": {},
   "outputs": [],
   "source": []
  },
  {
   "cell_type": "markdown",
   "id": "204f19bf-6999-4f19-8ac1-c7c316d08334",
   "metadata": {},
   "source": [
    "### 3. Посмотрим на объемы торгов во времени"
   ]
  },
  {
   "cell_type": "markdown",
   "id": "dec71a4e-08b3-480c-ae30-79528f51ec94",
   "metadata": {},
   "source": [
    "#### 3.1 По минутам"
   ]
  },
  {
   "cell_type": "code",
   "execution_count": 74,
   "id": "c6a55445-47c6-4dbf-9d0a-fd4df36f5001",
   "metadata": {},
   "outputs": [
    {
     "data": {
      "text/html": [
       "<div>\n",
       "<style scoped>\n",
       "    .dataframe tbody tr th:only-of-type {\n",
       "        vertical-align: middle;\n",
       "    }\n",
       "\n",
       "    .dataframe tbody tr th {\n",
       "        vertical-align: top;\n",
       "    }\n",
       "\n",
       "    .dataframe thead th {\n",
       "        text-align: right;\n",
       "    }\n",
       "</style>\n",
       "<table border=\"1\" class=\"dataframe\">\n",
       "  <thead>\n",
       "    <tr style=\"text-align: right;\">\n",
       "      <th></th>\n",
       "      <th>time</th>\n",
       "      <th>open</th>\n",
       "      <th>close</th>\n",
       "      <th>volume</th>\n",
       "      <th>low</th>\n",
       "      <th>high</th>\n",
       "      <th>ticker</th>\n",
       "    </tr>\n",
       "  </thead>\n",
       "  <tbody>\n",
       "    <tr>\n",
       "      <th>0</th>\n",
       "      <td>2022-10-03 09:59:00</td>\n",
       "      <td>978.0</td>\n",
       "      <td>978.0</td>\n",
       "      <td>1933.0</td>\n",
       "      <td>978.0</td>\n",
       "      <td>978.0</td>\n",
       "      <td>NVTK</td>\n",
       "    </tr>\n",
       "    <tr>\n",
       "      <th>1</th>\n",
       "      <td>2022-10-03 10:00:00</td>\n",
       "      <td>976.4</td>\n",
       "      <td>979.8</td>\n",
       "      <td>11255.0</td>\n",
       "      <td>975.8</td>\n",
       "      <td>982.2</td>\n",
       "      <td>NVTK</td>\n",
       "    </tr>\n",
       "    <tr>\n",
       "      <th>2</th>\n",
       "      <td>2022-10-03 10:01:00</td>\n",
       "      <td>979.8</td>\n",
       "      <td>977.0</td>\n",
       "      <td>11999.0</td>\n",
       "      <td>975.2</td>\n",
       "      <td>981.0</td>\n",
       "      <td>NVTK</td>\n",
       "    </tr>\n",
       "    <tr>\n",
       "      <th>3</th>\n",
       "      <td>2022-10-03 10:02:00</td>\n",
       "      <td>977.8</td>\n",
       "      <td>978.2</td>\n",
       "      <td>8573.0</td>\n",
       "      <td>976.2</td>\n",
       "      <td>980.0</td>\n",
       "      <td>NVTK</td>\n",
       "    </tr>\n",
       "    <tr>\n",
       "      <th>4</th>\n",
       "      <td>2022-10-03 10:03:00</td>\n",
       "      <td>977.8</td>\n",
       "      <td>979.4</td>\n",
       "      <td>6881.0</td>\n",
       "      <td>976.2</td>\n",
       "      <td>980.0</td>\n",
       "      <td>NVTK</td>\n",
       "    </tr>\n",
       "    <tr>\n",
       "      <th>...</th>\n",
       "      <td>...</td>\n",
       "      <td>...</td>\n",
       "      <td>...</td>\n",
       "      <td>...</td>\n",
       "      <td>...</td>\n",
       "      <td>...</td>\n",
       "      <td>...</td>\n",
       "    </tr>\n",
       "    <tr>\n",
       "      <th>579696</th>\n",
       "      <td>2024-12-25 23:45:00</td>\n",
       "      <td>930.0</td>\n",
       "      <td>930.8</td>\n",
       "      <td>271.0</td>\n",
       "      <td>929.8</td>\n",
       "      <td>930.8</td>\n",
       "      <td>NVTK</td>\n",
       "    </tr>\n",
       "    <tr>\n",
       "      <th>579697</th>\n",
       "      <td>2024-12-25 23:46:00</td>\n",
       "      <td>930.0</td>\n",
       "      <td>930.8</td>\n",
       "      <td>885.0</td>\n",
       "      <td>930.0</td>\n",
       "      <td>931.0</td>\n",
       "      <td>NVTK</td>\n",
       "    </tr>\n",
       "    <tr>\n",
       "      <th>579698</th>\n",
       "      <td>2024-12-25 23:47:00</td>\n",
       "      <td>931.0</td>\n",
       "      <td>929.8</td>\n",
       "      <td>966.0</td>\n",
       "      <td>929.8</td>\n",
       "      <td>931.2</td>\n",
       "      <td>NVTK</td>\n",
       "    </tr>\n",
       "    <tr>\n",
       "      <th>579699</th>\n",
       "      <td>2024-12-25 23:48:00</td>\n",
       "      <td>929.8</td>\n",
       "      <td>929.8</td>\n",
       "      <td>1604.0</td>\n",
       "      <td>929.4</td>\n",
       "      <td>930.8</td>\n",
       "      <td>NVTK</td>\n",
       "    </tr>\n",
       "    <tr>\n",
       "      <th>579700</th>\n",
       "      <td>2024-12-25 23:49:00</td>\n",
       "      <td>929.8</td>\n",
       "      <td>929.4</td>\n",
       "      <td>1331.0</td>\n",
       "      <td>929.4</td>\n",
       "      <td>931.2</td>\n",
       "      <td>NVTK</td>\n",
       "    </tr>\n",
       "  </tbody>\n",
       "</table>\n",
       "<p>579701 rows × 7 columns</p>\n",
       "</div>"
      ],
      "text/plain": [
       "                      time   open  close   volume    low   high ticker\n",
       "0      2022-10-03 09:59:00  978.0  978.0   1933.0  978.0  978.0   NVTK\n",
       "1      2022-10-03 10:00:00  976.4  979.8  11255.0  975.8  982.2   NVTK\n",
       "2      2022-10-03 10:01:00  979.8  977.0  11999.0  975.2  981.0   NVTK\n",
       "3      2022-10-03 10:02:00  977.8  978.2   8573.0  976.2  980.0   NVTK\n",
       "4      2022-10-03 10:03:00  977.8  979.4   6881.0  976.2  980.0   NVTK\n",
       "...                    ...    ...    ...      ...    ...    ...    ...\n",
       "579696 2024-12-25 23:45:00  930.0  930.8    271.0  929.8  930.8   NVTK\n",
       "579697 2024-12-25 23:46:00  930.0  930.8    885.0  930.0  931.0   NVTK\n",
       "579698 2024-12-25 23:47:00  931.0  929.8    966.0  929.8  931.2   NVTK\n",
       "579699 2024-12-25 23:48:00  929.8  929.8   1604.0  929.4  930.8   NVTK\n",
       "579700 2024-12-25 23:49:00  929.8  929.4   1331.0  929.4  931.2   NVTK\n",
       "\n",
       "[579701 rows x 7 columns]"
      ]
     },
     "execution_count": 74,
     "metadata": {},
     "output_type": "execute_result"
    }
   ],
   "source": [
    "# 1 min\n",
    "\n",
    "path = './data/raw/1min/NVTK.pkl'\n",
    "df = load_pkl(path)\n",
    "df['time'] = df['time'].apply(lambda x: x.tz_convert(None))\n",
    "\n",
    "df"
   ]
  },
  {
   "cell_type": "code",
   "execution_count": 76,
   "id": "263371a9-7818-491b-8723-9d5d251d4d59",
   "metadata": {},
   "outputs": [
    {
     "data": {
      "text/plain": [
       "670"
      ]
     },
     "execution_count": 76,
     "metadata": {},
     "output_type": "execute_result"
    }
   ],
   "source": [
    "start = pd.Timestamp('2024-09-14')\n",
    "end = pd.Timestamp('2024-09-15')\n",
    "\n",
    "mask = (start <= df['time']) & (df['time'] < end)\n",
    "mask.sum()"
   ]
  },
  {
   "cell_type": "code",
   "execution_count": 78,
   "id": "9461d18a-ed93-4058-962e-bfb79bc8e0d9",
   "metadata": {},
   "outputs": [
    {
     "data": {
      "text/html": [
       "<div>\n",
       "<style scoped>\n",
       "    .dataframe tbody tr th:only-of-type {\n",
       "        vertical-align: middle;\n",
       "    }\n",
       "\n",
       "    .dataframe tbody tr th {\n",
       "        vertical-align: top;\n",
       "    }\n",
       "\n",
       "    .dataframe thead th {\n",
       "        text-align: right;\n",
       "    }\n",
       "</style>\n",
       "<table border=\"1\" class=\"dataframe\">\n",
       "  <thead>\n",
       "    <tr style=\"text-align: right;\">\n",
       "      <th></th>\n",
       "      <th>open</th>\n",
       "      <th>close</th>\n",
       "      <th>volume</th>\n",
       "      <th>low</th>\n",
       "      <th>high</th>\n",
       "      <th>ticker</th>\n",
       "    </tr>\n",
       "    <tr>\n",
       "      <th>time</th>\n",
       "      <th></th>\n",
       "      <th></th>\n",
       "      <th></th>\n",
       "      <th></th>\n",
       "      <th></th>\n",
       "      <th></th>\n",
       "    </tr>\n",
       "  </thead>\n",
       "  <tbody>\n",
       "    <tr>\n",
       "      <th>2024-09-14 07:02:00</th>\n",
       "      <td>967.4</td>\n",
       "      <td>967.0</td>\n",
       "      <td>54.0</td>\n",
       "      <td>967.0</td>\n",
       "      <td>967.4</td>\n",
       "      <td>NVTK</td>\n",
       "    </tr>\n",
       "    <tr>\n",
       "      <th>2024-09-14 07:03:00</th>\n",
       "      <td>969.0</td>\n",
       "      <td>969.0</td>\n",
       "      <td>5.0</td>\n",
       "      <td>969.0</td>\n",
       "      <td>969.0</td>\n",
       "      <td>NVTK</td>\n",
       "    </tr>\n",
       "    <tr>\n",
       "      <th>2024-09-14 07:04:00</th>\n",
       "      <td>967.0</td>\n",
       "      <td>967.0</td>\n",
       "      <td>2.0</td>\n",
       "      <td>967.0</td>\n",
       "      <td>967.0</td>\n",
       "      <td>NVTK</td>\n",
       "    </tr>\n",
       "    <tr>\n",
       "      <th>2024-09-14 07:05:00</th>\n",
       "      <td>967.0</td>\n",
       "      <td>968.8</td>\n",
       "      <td>3.0</td>\n",
       "      <td>967.0</td>\n",
       "      <td>968.8</td>\n",
       "      <td>NVTK</td>\n",
       "    </tr>\n",
       "    <tr>\n",
       "      <th>2024-09-14 07:06:00</th>\n",
       "      <td>968.6</td>\n",
       "      <td>968.6</td>\n",
       "      <td>3.0</td>\n",
       "      <td>968.6</td>\n",
       "      <td>968.6</td>\n",
       "      <td>NVTK</td>\n",
       "    </tr>\n",
       "    <tr>\n",
       "      <th>...</th>\n",
       "      <td>...</td>\n",
       "      <td>...</td>\n",
       "      <td>...</td>\n",
       "      <td>...</td>\n",
       "      <td>...</td>\n",
       "      <td>...</td>\n",
       "    </tr>\n",
       "    <tr>\n",
       "      <th>2024-09-14 23:37:00</th>\n",
       "      <td>972.8</td>\n",
       "      <td>972.8</td>\n",
       "      <td>1.0</td>\n",
       "      <td>972.8</td>\n",
       "      <td>972.8</td>\n",
       "      <td>NVTK</td>\n",
       "    </tr>\n",
       "    <tr>\n",
       "      <th>2024-09-14 23:39:00</th>\n",
       "      <td>972.8</td>\n",
       "      <td>973.0</td>\n",
       "      <td>54.0</td>\n",
       "      <td>972.8</td>\n",
       "      <td>973.0</td>\n",
       "      <td>NVTK</td>\n",
       "    </tr>\n",
       "    <tr>\n",
       "      <th>2024-09-14 23:40:00</th>\n",
       "      <td>973.0</td>\n",
       "      <td>971.0</td>\n",
       "      <td>42.0</td>\n",
       "      <td>971.0</td>\n",
       "      <td>973.0</td>\n",
       "      <td>NVTK</td>\n",
       "    </tr>\n",
       "    <tr>\n",
       "      <th>2024-09-14 23:41:00</th>\n",
       "      <td>971.0</td>\n",
       "      <td>971.0</td>\n",
       "      <td>3.0</td>\n",
       "      <td>971.0</td>\n",
       "      <td>971.0</td>\n",
       "      <td>NVTK</td>\n",
       "    </tr>\n",
       "    <tr>\n",
       "      <th>2024-09-14 23:47:00</th>\n",
       "      <td>973.0</td>\n",
       "      <td>973.0</td>\n",
       "      <td>6.0</td>\n",
       "      <td>973.0</td>\n",
       "      <td>973.0</td>\n",
       "      <td>NVTK</td>\n",
       "    </tr>\n",
       "  </tbody>\n",
       "</table>\n",
       "<p>670 rows × 6 columns</p>\n",
       "</div>"
      ],
      "text/plain": [
       "                      open  close  volume    low   high ticker\n",
       "time                                                          \n",
       "2024-09-14 07:02:00  967.4  967.0    54.0  967.0  967.4   NVTK\n",
       "2024-09-14 07:03:00  969.0  969.0     5.0  969.0  969.0   NVTK\n",
       "2024-09-14 07:04:00  967.0  967.0     2.0  967.0  967.0   NVTK\n",
       "2024-09-14 07:05:00  967.0  968.8     3.0  967.0  968.8   NVTK\n",
       "2024-09-14 07:06:00  968.6  968.6     3.0  968.6  968.6   NVTK\n",
       "...                    ...    ...     ...    ...    ...    ...\n",
       "2024-09-14 23:37:00  972.8  972.8     1.0  972.8  972.8   NVTK\n",
       "2024-09-14 23:39:00  972.8  973.0    54.0  972.8  973.0   NVTK\n",
       "2024-09-14 23:40:00  973.0  971.0    42.0  971.0  973.0   NVTK\n",
       "2024-09-14 23:41:00  971.0  971.0     3.0  971.0  971.0   NVTK\n",
       "2024-09-14 23:47:00  973.0  973.0     6.0  973.0  973.0   NVTK\n",
       "\n",
       "[670 rows x 6 columns]"
      ]
     },
     "execution_count": 78,
     "metadata": {},
     "output_type": "execute_result"
    }
   ],
   "source": [
    "df_day= df.loc[mask, :]\n",
    "df_day = df_day.set_index('time')\n",
    "df_day"
   ]
  },
  {
   "cell_type": "code",
   "execution_count": 80,
   "id": "082a3731-9609-4e5f-9546-4aa7e0a5ad78",
   "metadata": {},
   "outputs": [
    {
     "data": {
      "text/plain": [
       "<Axes: xlabel='time'>"
      ]
     },
     "execution_count": 80,
     "metadata": {},
     "output_type": "execute_result"
    },
    {
     "data": {
      "image/png": "[encoded data removed]",
      "text/plain": [
       "<Figure size 640x480 with 1 Axes>"
      ]
     },
     "metadata": {},
     "output_type": "display_data"
    }
   ],
   "source": [
    "import matplotlib.pyplot as plt\n",
    "\n",
    "df_day['close'].plot()\n",
    "df_day['volume'].plot()\n",
    "#plt.xticks(pd.date_range(pd.Timestamp('2024-11-4'), pd.Timestamp('2024-11-18'), freq='D'))"
   ]
  },
  {
   "cell_type": "code",
   "execution_count": 82,
   "id": "f70e9b93-d58d-4803-a1e3-4af4dd9004ef",
   "metadata": {},
   "outputs": [
    {
     "name": "stderr",
     "output_type": "stream",
     "text": [
      "/var/folders/rm/zt5_90s5727289mv2gzbkw980000gn/T/ipykernel_11126/4201550703.py:1: FutureWarning: 'H' is deprecated and will be removed in a future version, please use 'h' instead.\n",
      "  df_day[['volume']].reset_index().groupby(pd.Grouper(key='time', freq='H')).volume.sum().plot.bar()\n"
     ]
    },
    {
     "data": {
      "text/plain": [
       "<Axes: xlabel='time'>"
      ]
     },
     "execution_count": 82,
     "metadata": {},
     "output_type": "execute_result"
    },
    {
     "data": {
      "image/png": "[encoded data removed]",
      "text/plain": [
       "<Figure size 640x480 with 1 Axes>"
      ]
     },
     "metadata": {},
     "output_type": "display_data"
    }
   ],
   "source": [
    "df_day[['volume']].reset_index().groupby(pd.Grouper(key='time', freq='H')).volume.sum().plot.bar()"
   ]
  },
  {
   "cell_type": "code",
   "execution_count": 84,
   "id": "76f9b30d-46de-4367-a164-905b3ce1cc27",
   "metadata": {},
   "outputs": [
    {
     "name": "stderr",
     "output_type": "stream",
     "text": [
      "/var/folders/rm/zt5_90s5727289mv2gzbkw980000gn/T/ipykernel_11126/2747695137.py:9: FutureWarning: 'H' is deprecated and will be removed in a future version, please use 'h' instead.\n",
      "  df_day[['volume']].reset_index().groupby(pd.Grouper(key='time', freq='H')).volume.sum().plot.bar()\n"
     ]
    },
    {
     "data": {
      "text/plain": [
       "<Axes: xlabel='time'>"
      ]
     },
     "execution_count": 84,
     "metadata": {},
     "output_type": "execute_result"
    },
    {
     "data": {
      "image/png": "[encoded data removed]",
      "text/plain": [
       "<Figure size 640x480 with 1 Axes>"
      ]
     },
     "metadata": {},
     "output_type": "display_data"
    }
   ],
   "source": [
    "start = pd.Timestamp('2024-06-14')\n",
    "end = pd.Timestamp('2024-06-15')\n",
    "\n",
    "mask = (start <= df['time']) & (df['time'] < end)\n",
    "\n",
    "df_day= df.loc[mask, :]\n",
    "df_day = df_day.set_index('time')\n",
    "\n",
    "df_day[['volume']].reset_index().groupby(pd.Grouper(key='time', freq='H')).volume.sum().plot.bar()"
   ]
  },
  {
   "cell_type": "code",
   "execution_count": null,
   "id": "61ec8925-081b-4649-8aa1-d6bd05288c20",
   "metadata": {},
   "outputs": [],
   "source": []
  },
  {
   "cell_type": "code",
   "execution_count": 87,
   "id": "d9fab68e-175d-4c1b-8efe-b05ba97aabe2",
   "metadata": {},
   "outputs": [],
   "source": [
    "#Вывод: обрезать справа не будем, объемы есть"
   ]
  },
  {
   "cell_type": "code",
   "execution_count": null,
   "id": "b140d4f0-4bc2-4bf4-8cbd-67e30da1a871",
   "metadata": {},
   "outputs": [],
   "source": []
  },
  {
   "cell_type": "markdown",
   "id": "cb980cf5-c7ea-4044-a3ff-a9ce29aac331",
   "metadata": {},
   "source": [
    "#### 3.1 По дням"
   ]
  },
  {
   "cell_type": "code",
   "execution_count": 91,
   "id": "d0dd463a-4a10-41f0-896e-f90253bd3524",
   "metadata": {},
   "outputs": [
    {
     "data": {
      "text/html": [
       "<div>\n",
       "<style scoped>\n",
       "    .dataframe tbody tr th:only-of-type {\n",
       "        vertical-align: middle;\n",
       "    }\n",
       "\n",
       "    .dataframe tbody tr th {\n",
       "        vertical-align: top;\n",
       "    }\n",
       "\n",
       "    .dataframe thead th {\n",
       "        text-align: right;\n",
       "    }\n",
       "</style>\n",
       "<table border=\"1\" class=\"dataframe\">\n",
       "  <thead>\n",
       "    <tr style=\"text-align: right;\">\n",
       "      <th></th>\n",
       "      <th>time</th>\n",
       "      <th>open</th>\n",
       "      <th>close</th>\n",
       "      <th>volume</th>\n",
       "      <th>low</th>\n",
       "      <th>high</th>\n",
       "      <th>ticker</th>\n",
       "    </tr>\n",
       "  </thead>\n",
       "  <tbody>\n",
       "    <tr>\n",
       "      <th>0</th>\n",
       "      <td>2022-09-30 03:00:00</td>\n",
       "      <td>111.00</td>\n",
       "      <td>110.21</td>\n",
       "      <td>13356904.0</td>\n",
       "      <td>103.40</td>\n",
       "      <td>113.40</td>\n",
       "      <td>SBER</td>\n",
       "    </tr>\n",
       "    <tr>\n",
       "      <th>1</th>\n",
       "      <td>2022-10-03 03:00:00</td>\n",
       "      <td>110.62</td>\n",
       "      <td>114.35</td>\n",
       "      <td>7396096.0</td>\n",
       "      <td>109.00</td>\n",
       "      <td>114.65</td>\n",
       "      <td>SBER</td>\n",
       "    </tr>\n",
       "    <tr>\n",
       "      <th>2</th>\n",
       "      <td>2022-10-04 03:00:00</td>\n",
       "      <td>115.06</td>\n",
       "      <td>110.55</td>\n",
       "      <td>8356468.0</td>\n",
       "      <td>110.30</td>\n",
       "      <td>115.50</td>\n",
       "      <td>SBER</td>\n",
       "    </tr>\n",
       "    <tr>\n",
       "      <th>3</th>\n",
       "      <td>2022-10-05 03:00:00</td>\n",
       "      <td>110.49</td>\n",
       "      <td>108.51</td>\n",
       "      <td>9041692.0</td>\n",
       "      <td>106.25</td>\n",
       "      <td>110.49</td>\n",
       "      <td>SBER</td>\n",
       "    </tr>\n",
       "    <tr>\n",
       "      <th>4</th>\n",
       "      <td>2022-10-06 03:00:00</td>\n",
       "      <td>108.65</td>\n",
       "      <td>108.24</td>\n",
       "      <td>5174148.0</td>\n",
       "      <td>107.57</td>\n",
       "      <td>110.38</td>\n",
       "      <td>SBER</td>\n",
       "    </tr>\n",
       "    <tr>\n",
       "      <th>...</th>\n",
       "      <td>...</td>\n",
       "      <td>...</td>\n",
       "      <td>...</td>\n",
       "      <td>...</td>\n",
       "      <td>...</td>\n",
       "      <td>...</td>\n",
       "      <td>...</td>\n",
       "    </tr>\n",
       "    <tr>\n",
       "      <th>566</th>\n",
       "      <td>2024-12-19 03:00:00</td>\n",
       "      <td>230.16</td>\n",
       "      <td>229.00</td>\n",
       "      <td>12406137.0</td>\n",
       "      <td>227.71</td>\n",
       "      <td>234.99</td>\n",
       "      <td>SBER</td>\n",
       "    </tr>\n",
       "    <tr>\n",
       "      <th>567</th>\n",
       "      <td>2024-12-20 03:00:00</td>\n",
       "      <td>229.10</td>\n",
       "      <td>257.60</td>\n",
       "      <td>23518622.0</td>\n",
       "      <td>228.03</td>\n",
       "      <td>258.98</td>\n",
       "      <td>SBER</td>\n",
       "    </tr>\n",
       "    <tr>\n",
       "      <th>568</th>\n",
       "      <td>2024-12-23 03:00:00</td>\n",
       "      <td>260.00</td>\n",
       "      <td>264.90</td>\n",
       "      <td>16316565.0</td>\n",
       "      <td>256.51</td>\n",
       "      <td>270.00</td>\n",
       "      <td>SBER</td>\n",
       "    </tr>\n",
       "    <tr>\n",
       "      <th>569</th>\n",
       "      <td>2024-12-24 03:00:00</td>\n",
       "      <td>264.94</td>\n",
       "      <td>264.34</td>\n",
       "      <td>8380866.0</td>\n",
       "      <td>261.02</td>\n",
       "      <td>266.79</td>\n",
       "      <td>SBER</td>\n",
       "    </tr>\n",
       "    <tr>\n",
       "      <th>570</th>\n",
       "      <td>2024-12-25 03:00:00</td>\n",
       "      <td>263.62</td>\n",
       "      <td>271.69</td>\n",
       "      <td>12553991.0</td>\n",
       "      <td>260.31</td>\n",
       "      <td>273.00</td>\n",
       "      <td>SBER</td>\n",
       "    </tr>\n",
       "  </tbody>\n",
       "</table>\n",
       "<p>571 rows × 7 columns</p>\n",
       "</div>"
      ],
      "text/plain": [
       "                   time    open   close      volume     low    high ticker\n",
       "0   2022-09-30 03:00:00  111.00  110.21  13356904.0  103.40  113.40   SBER\n",
       "1   2022-10-03 03:00:00  110.62  114.35   7396096.0  109.00  114.65   SBER\n",
       "2   2022-10-04 03:00:00  115.06  110.55   8356468.0  110.30  115.50   SBER\n",
       "3   2022-10-05 03:00:00  110.49  108.51   9041692.0  106.25  110.49   SBER\n",
       "4   2022-10-06 03:00:00  108.65  108.24   5174148.0  107.57  110.38   SBER\n",
       "..                  ...     ...     ...         ...     ...     ...    ...\n",
       "566 2024-12-19 03:00:00  230.16  229.00  12406137.0  227.71  234.99   SBER\n",
       "567 2024-12-20 03:00:00  229.10  257.60  23518622.0  228.03  258.98   SBER\n",
       "568 2024-12-23 03:00:00  260.00  264.90  16316565.0  256.51  270.00   SBER\n",
       "569 2024-12-24 03:00:00  264.94  264.34   8380866.0  261.02  266.79   SBER\n",
       "570 2024-12-25 03:00:00  263.62  271.69  12553991.0  260.31  273.00   SBER\n",
       "\n",
       "[571 rows x 7 columns]"
      ]
     },
     "execution_count": 91,
     "metadata": {},
     "output_type": "execute_result"
    }
   ],
   "source": [
    "path = './data/raw/1day/SBER.pkl'\n",
    "df = load_pkl(path)\n",
    "df['time'] = df['time'].apply(lambda x: x.tz_convert(None))\n",
    "\n",
    "df"
   ]
  },
  {
   "cell_type": "code",
   "execution_count": 93,
   "id": "d9996147-92a8-4784-8332-59d5538c1103",
   "metadata": {},
   "outputs": [
    {
     "data": {
      "text/plain": [
       "22"
      ]
     },
     "execution_count": 93,
     "metadata": {},
     "output_type": "execute_result"
    }
   ],
   "source": [
    "start = pd.Timestamp('2024-10-1')\n",
    "end = pd.Timestamp('2024-10-31')\n",
    "\n",
    "mask = (start <= df['time']) & (df['time'] < end)\n",
    "mask.sum()"
   ]
  },
  {
   "cell_type": "code",
   "execution_count": 95,
   "id": "553f12d8-629f-4b0f-9110-c7c03aeddb47",
   "metadata": {},
   "outputs": [
    {
     "data": {
      "text/html": [
       "<div>\n",
       "<style scoped>\n",
       "    .dataframe tbody tr th:only-of-type {\n",
       "        vertical-align: middle;\n",
       "    }\n",
       "\n",
       "    .dataframe tbody tr th {\n",
       "        vertical-align: top;\n",
       "    }\n",
       "\n",
       "    .dataframe thead th {\n",
       "        text-align: right;\n",
       "    }\n",
       "</style>\n",
       "<table border=\"1\" class=\"dataframe\">\n",
       "  <thead>\n",
       "    <tr style=\"text-align: right;\">\n",
       "      <th></th>\n",
       "      <th>open</th>\n",
       "      <th>close</th>\n",
       "      <th>volume</th>\n",
       "      <th>low</th>\n",
       "      <th>high</th>\n",
       "      <th>ticker</th>\n",
       "    </tr>\n",
       "    <tr>\n",
       "      <th>time</th>\n",
       "      <th></th>\n",
       "      <th></th>\n",
       "      <th></th>\n",
       "      <th></th>\n",
       "      <th></th>\n",
       "      <th></th>\n",
       "    </tr>\n",
       "  </thead>\n",
       "  <tbody>\n",
       "    <tr>\n",
       "      <th>2024-10-01 03:00:00</th>\n",
       "      <td>267.60</td>\n",
       "      <td>266.29</td>\n",
       "      <td>5212580.0</td>\n",
       "      <td>264.00</td>\n",
       "      <td>268.68</td>\n",
       "      <td>SBER</td>\n",
       "    </tr>\n",
       "    <tr>\n",
       "      <th>2024-10-02 03:00:00</th>\n",
       "      <td>266.01</td>\n",
       "      <td>259.31</td>\n",
       "      <td>4651920.0</td>\n",
       "      <td>258.52</td>\n",
       "      <td>268.00</td>\n",
       "      <td>SBER</td>\n",
       "    </tr>\n",
       "    <tr>\n",
       "      <th>2024-10-03 03:00:00</th>\n",
       "      <td>259.31</td>\n",
       "      <td>264.25</td>\n",
       "      <td>5653456.0</td>\n",
       "      <td>257.20</td>\n",
       "      <td>264.49</td>\n",
       "      <td>SBER</td>\n",
       "    </tr>\n",
       "    <tr>\n",
       "      <th>2024-10-04 03:00:00</th>\n",
       "      <td>264.96</td>\n",
       "      <td>264.09</td>\n",
       "      <td>2599229.0</td>\n",
       "      <td>262.11</td>\n",
       "      <td>265.44</td>\n",
       "      <td>SBER</td>\n",
       "    </tr>\n",
       "    <tr>\n",
       "      <th>2024-10-07 03:00:00</th>\n",
       "      <td>264.25</td>\n",
       "      <td>263.39</td>\n",
       "      <td>2894060.0</td>\n",
       "      <td>261.37</td>\n",
       "      <td>267.00</td>\n",
       "      <td>SBER</td>\n",
       "    </tr>\n",
       "    <tr>\n",
       "      <th>2024-10-08 03:00:00</th>\n",
       "      <td>263.00</td>\n",
       "      <td>262.40</td>\n",
       "      <td>1616378.0</td>\n",
       "      <td>261.89</td>\n",
       "      <td>263.80</td>\n",
       "      <td>SBER</td>\n",
       "    </tr>\n",
       "    <tr>\n",
       "      <th>2024-10-09 03:00:00</th>\n",
       "      <td>262.42</td>\n",
       "      <td>260.86</td>\n",
       "      <td>2502135.0</td>\n",
       "      <td>259.59</td>\n",
       "      <td>263.80</td>\n",
       "      <td>SBER</td>\n",
       "    </tr>\n",
       "    <tr>\n",
       "      <th>2024-10-10 03:00:00</th>\n",
       "      <td>260.88</td>\n",
       "      <td>259.98</td>\n",
       "      <td>1767723.0</td>\n",
       "      <td>258.91</td>\n",
       "      <td>261.64</td>\n",
       "      <td>SBER</td>\n",
       "    </tr>\n",
       "    <tr>\n",
       "      <th>2024-10-11 03:00:00</th>\n",
       "      <td>259.80</td>\n",
       "      <td>256.94</td>\n",
       "      <td>2484858.0</td>\n",
       "      <td>256.80</td>\n",
       "      <td>260.07</td>\n",
       "      <td>SBER</td>\n",
       "    </tr>\n",
       "    <tr>\n",
       "      <th>2024-10-14 03:00:00</th>\n",
       "      <td>256.15</td>\n",
       "      <td>261.28</td>\n",
       "      <td>6420568.0</td>\n",
       "      <td>254.10</td>\n",
       "      <td>263.91</td>\n",
       "      <td>SBER</td>\n",
       "    </tr>\n",
       "    <tr>\n",
       "      <th>2024-10-15 03:00:00</th>\n",
       "      <td>260.94</td>\n",
       "      <td>262.03</td>\n",
       "      <td>2624737.0</td>\n",
       "      <td>259.84</td>\n",
       "      <td>263.70</td>\n",
       "      <td>SBER</td>\n",
       "    </tr>\n",
       "    <tr>\n",
       "      <th>2024-10-16 03:00:00</th>\n",
       "      <td>262.05</td>\n",
       "      <td>259.50</td>\n",
       "      <td>4020626.0</td>\n",
       "      <td>258.45</td>\n",
       "      <td>264.72</td>\n",
       "      <td>SBER</td>\n",
       "    </tr>\n",
       "    <tr>\n",
       "      <th>2024-10-17 03:00:00</th>\n",
       "      <td>259.50</td>\n",
       "      <td>256.57</td>\n",
       "      <td>2465879.0</td>\n",
       "      <td>256.03</td>\n",
       "      <td>260.45</td>\n",
       "      <td>SBER</td>\n",
       "    </tr>\n",
       "    <tr>\n",
       "      <th>2024-10-18 03:00:00</th>\n",
       "      <td>256.21</td>\n",
       "      <td>257.19</td>\n",
       "      <td>3002025.0</td>\n",
       "      <td>254.41</td>\n",
       "      <td>258.90</td>\n",
       "      <td>SBER</td>\n",
       "    </tr>\n",
       "    <tr>\n",
       "      <th>2024-10-21 03:00:00</th>\n",
       "      <td>257.30</td>\n",
       "      <td>258.21</td>\n",
       "      <td>2147168.0</td>\n",
       "      <td>256.78</td>\n",
       "      <td>259.85</td>\n",
       "      <td>SBER</td>\n",
       "    </tr>\n",
       "    <tr>\n",
       "      <th>2024-10-22 03:00:00</th>\n",
       "      <td>258.10</td>\n",
       "      <td>255.42</td>\n",
       "      <td>1706468.0</td>\n",
       "      <td>255.25</td>\n",
       "      <td>258.80</td>\n",
       "      <td>SBER</td>\n",
       "    </tr>\n",
       "    <tr>\n",
       "      <th>2024-10-23 03:00:00</th>\n",
       "      <td>255.10</td>\n",
       "      <td>252.01</td>\n",
       "      <td>3042095.0</td>\n",
       "      <td>251.34</td>\n",
       "      <td>255.90</td>\n",
       "      <td>SBER</td>\n",
       "    </tr>\n",
       "    <tr>\n",
       "      <th>2024-10-24 03:00:00</th>\n",
       "      <td>252.01</td>\n",
       "      <td>252.64</td>\n",
       "      <td>2876437.0</td>\n",
       "      <td>250.25</td>\n",
       "      <td>254.27</td>\n",
       "      <td>SBER</td>\n",
       "    </tr>\n",
       "    <tr>\n",
       "      <th>2024-10-25 03:00:00</th>\n",
       "      <td>252.72</td>\n",
       "      <td>246.35</td>\n",
       "      <td>8058793.0</td>\n",
       "      <td>245.70</td>\n",
       "      <td>255.35</td>\n",
       "      <td>SBER</td>\n",
       "    </tr>\n",
       "    <tr>\n",
       "      <th>2024-10-28 03:00:00</th>\n",
       "      <td>245.02</td>\n",
       "      <td>242.56</td>\n",
       "      <td>7194099.0</td>\n",
       "      <td>241.61</td>\n",
       "      <td>249.00</td>\n",
       "      <td>SBER</td>\n",
       "    </tr>\n",
       "    <tr>\n",
       "      <th>2024-10-29 03:00:00</th>\n",
       "      <td>243.20</td>\n",
       "      <td>242.66</td>\n",
       "      <td>4713458.0</td>\n",
       "      <td>239.88</td>\n",
       "      <td>244.60</td>\n",
       "      <td>SBER</td>\n",
       "    </tr>\n",
       "    <tr>\n",
       "      <th>2024-10-30 03:00:00</th>\n",
       "      <td>242.70</td>\n",
       "      <td>241.45</td>\n",
       "      <td>3982684.0</td>\n",
       "      <td>241.11</td>\n",
       "      <td>246.22</td>\n",
       "      <td>SBER</td>\n",
       "    </tr>\n",
       "  </tbody>\n",
       "</table>\n",
       "</div>"
      ],
      "text/plain": [
       "                       open   close     volume     low    high ticker\n",
       "time                                                                 \n",
       "2024-10-01 03:00:00  267.60  266.29  5212580.0  264.00  268.68   SBER\n",
       "2024-10-02 03:00:00  266.01  259.31  4651920.0  258.52  268.00   SBER\n",
       "2024-10-03 03:00:00  259.31  264.25  5653456.0  257.20  264.49   SBER\n",
       "2024-10-04 03:00:00  264.96  264.09  2599229.0  262.11  265.44   SBER\n",
       "2024-10-07 03:00:00  264.25  263.39  2894060.0  261.37  267.00   SBER\n",
       "2024-10-08 03:00:00  263.00  262.40  1616378.0  261.89  263.80   SBER\n",
       "2024-10-09 03:00:00  262.42  260.86  2502135.0  259.59  263.80   SBER\n",
       "2024-10-10 03:00:00  260.88  259.98  1767723.0  258.91  261.64   SBER\n",
       "2024-10-11 03:00:00  259.80  256.94  2484858.0  256.80  260.07   SBER\n",
       "2024-10-14 03:00:00  256.15  261.28  6420568.0  254.10  263.91   SBER\n",
       "2024-10-15 03:00:00  260.94  262.03  2624737.0  259.84  263.70   SBER\n",
       "2024-10-16 03:00:00  262.05  259.50  4020626.0  258.45  264.72   SBER\n",
       "2024-10-17 03:00:00  259.50  256.57  2465879.0  256.03  260.45   SBER\n",
       "2024-10-18 03:00:00  256.21  257.19  3002025.0  254.41  258.90   SBER\n",
       "2024-10-21 03:00:00  257.30  258.21  2147168.0  256.78  259.85   SBER\n",
       "2024-10-22 03:00:00  258.10  255.42  1706468.0  255.25  258.80   SBER\n",
       "2024-10-23 03:00:00  255.10  252.01  3042095.0  251.34  255.90   SBER\n",
       "2024-10-24 03:00:00  252.01  252.64  2876437.0  250.25  254.27   SBER\n",
       "2024-10-25 03:00:00  252.72  246.35  8058793.0  245.70  255.35   SBER\n",
       "2024-10-28 03:00:00  245.02  242.56  7194099.0  241.61  249.00   SBER\n",
       "2024-10-29 03:00:00  243.20  242.66  4713458.0  239.88  244.60   SBER\n",
       "2024-10-30 03:00:00  242.70  241.45  3982684.0  241.11  246.22   SBER"
      ]
     },
     "execution_count": 95,
     "metadata": {},
     "output_type": "execute_result"
    }
   ],
   "source": [
    "df_month= df.loc[mask, :]\n",
    "df_month = df_month.set_index('time')\n",
    "df_month"
   ]
  },
  {
   "cell_type": "code",
   "execution_count": 97,
   "id": "03823435-e215-4f9f-9b53-a49985fb4c20",
   "metadata": {},
   "outputs": [
    {
     "data": {
      "text/plain": [
       "<Axes: xlabel='time'>"
      ]
     },
     "execution_count": 97,
     "metadata": {},
     "output_type": "execute_result"
    },
    {
     "data": {
      "image/png": "[encoded data removed]",
      "text/plain": [
       "<Figure size 640x480 with 1 Axes>"
      ]
     },
     "metadata": {},
     "output_type": "display_data"
    }
   ],
   "source": [
    "import matplotlib.pyplot as plt\n",
    "\n",
    "#df_day['close'].plot()\n",
    "df_month['volume'].plot.bar()\n",
    "#plt.xticks(pd.date_range(start, end, freq='D'))"
   ]
  },
  {
   "cell_type": "code",
   "execution_count": 99,
   "id": "2d4125a4-998b-4bdc-8569-654837471f2c",
   "metadata": {
    "scrolled": true
   },
   "outputs": [],
   "source": [
    "#Выходных нет, это хорошо, так как они внутри тинька идут, а не на биржи"
   ]
  },
  {
   "cell_type": "code",
   "execution_count": null,
   "id": "4bcf2eea-d1da-4224-9111-45b39c073056",
   "metadata": {},
   "outputs": [],
   "source": []
  },
  {
   "cell_type": "code",
   "execution_count": null,
   "id": "759b3f75-f986-474e-8a34-0a20727d71fa",
   "metadata": {},
   "outputs": [],
   "source": []
  },
  {
   "cell_type": "markdown",
   "id": "41949483-f919-4cd6-a9ea-d703fa3ee44d",
   "metadata": {},
   "source": [
    "### 4. Preproc data"
   ]
  },
  {
   "cell_type": "markdown",
   "id": "a07c6b27-42cd-4570-afd5-b92180688fbe",
   "metadata": {},
   "source": [
    "* Оставляем только будни\n",
    "* И часы основных торгов - 10:00–23, но на вечерних торгх тоже есть объемы, было бы глупо их не учитывать, поэтому 10:00–24:00"
   ]
  },
  {
   "cell_type": "code",
   "execution_count": null,
   "id": "2527b591-93e0-484c-aed8-35393f2a6f4c",
   "metadata": {},
   "outputs": [],
   "source": []
  },
  {
   "cell_type": "code",
   "execution_count": null,
   "id": "e6dd22ff-7156-4b89-abbf-5e9bd8d9ffd7",
   "metadata": {},
   "outputs": [],
   "source": []
  },
  {
   "cell_type": "code",
   "execution_count": 107,
   "id": "91880252-0c0f-449d-bac8-66e1a35e7c1e",
   "metadata": {},
   "outputs": [
    {
     "name": "stdout",
     "output_type": "stream",
     "text": [
      "mkdir: data/preproc: File exists\n"
     ]
    }
   ],
   "source": [
    "!mkdir data/preproc"
   ]
  },
  {
   "cell_type": "code",
   "execution_count": 109,
   "id": "7e442369-23ed-4537-815d-c2020fba93b0",
   "metadata": {},
   "outputs": [
    {
     "name": "stdout",
     "output_type": "stream",
     "text": [
      "mkdir: data/preproc/1min: File exists\n"
     ]
    }
   ],
   "source": [
    "!mkdir data/preproc/1min"
   ]
  },
  {
   "cell_type": "code",
   "execution_count": 111,
   "id": "0a6cbd27-0214-4181-9ca7-2ba852a70143",
   "metadata": {},
   "outputs": [
    {
     "name": "stdout",
     "output_type": "stream",
     "text": [
      "mkdir: data/preproc/5min: File exists\n"
     ]
    }
   ],
   "source": [
    "!mkdir data/preproc/5min"
   ]
  },
  {
   "cell_type": "code",
   "execution_count": 113,
   "id": "eaa5d006-74e6-4395-bea3-5715dc33454e",
   "metadata": {},
   "outputs": [
    {
     "name": "stdout",
     "output_type": "stream",
     "text": [
      "mkdir: data/preproc/1hour: File exists\n"
     ]
    }
   ],
   "source": [
    "!mkdir data/preproc/1hour"
   ]
  },
  {
   "cell_type": "code",
   "execution_count": 115,
   "id": "3e12cfec-8141-4844-b971-1969645294a9",
   "metadata": {},
   "outputs": [
    {
     "name": "stdout",
     "output_type": "stream",
     "text": [
      "mkdir: data/preproc/1day: File exists\n"
     ]
    }
   ],
   "source": [
    "!mkdir data/preproc/1day"
   ]
  },
  {
   "cell_type": "code",
   "execution_count": null,
   "id": "27745b35-567b-40ac-bc19-492e8a1426a6",
   "metadata": {},
   "outputs": [],
   "source": []
  },
  {
   "cell_type": "code",
   "execution_count": 118,
   "id": "be9ded74-50e4-4f9b-9626-0c6a15ab009c",
   "metadata": {},
   "outputs": [],
   "source": [
    "def is_business_day(date):\n",
    "    return bool(len(pd.bdate_range(date, date)))\n",
    "\n",
    "def preproc(data):\n",
    "    data['time'] = data['time'].apply(lambda x: x.tz_convert(None))\n",
    "    \n",
    "    mask_bd = np.array(data['time'].apply(lambda x: is_business_day(x)))\n",
    "    data = data.loc[mask_bd, :]\n",
    "\n",
    "    mask_volume = np.array(datetime.time(10, 0) <= pd.to_datetime(data['time'], format='%H:%M').dt.time)\n",
    "    data = data.loc[mask_volume, :]\n",
    "\n",
    "    data.reset_index(drop=True, inplace=True)\n",
    "\n",
    "    return data\n",
    "                                         \n",
    "\n",
    "    "
   ]
  },
  {
   "cell_type": "code",
   "execution_count": null,
   "id": "ab5cc00d-b665-4ee2-a8f2-aa6409f80eec",
   "metadata": {},
   "outputs": [],
   "source": []
  },
  {
   "cell_type": "code",
   "execution_count": null,
   "id": "d9cc8541-7377-4a39-9d96-6635511549cf",
   "metadata": {},
   "outputs": [],
   "source": []
  },
  {
   "cell_type": "code",
   "execution_count": null,
   "id": "ff6bb3e6-0a0a-48a5-9428-0d35a682b908",
   "metadata": {},
   "outputs": [],
   "source": []
  },
  {
   "cell_type": "code",
   "execution_count": null,
   "id": "7309deba-3396-4940-858e-fc26f610223a",
   "metadata": {},
   "outputs": [],
   "source": []
  },
  {
   "cell_type": "code",
   "execution_count": 124,
   "id": "604c429d-5227-4ed0-881b-410d3ef5d8bc",
   "metadata": {},
   "outputs": [
    {
     "name": "stderr",
     "output_type": "stream",
     "text": [
      "100%|█████████████████████████████████████████████████████████████████████████| 19/19 [02:04<00:00,  6.55s/it]\n"
     ]
    }
   ],
   "source": [
    "stocks = [\n",
    "          'GAZP',\n",
    "          'SBER',\n",
    "          'LKOH',\n",
    "          'MGNT',\n",
    "          'NVTK',\n",
    "          'SNGS', 'SNGSP',\n",
    "          'GMKN',\n",
    "          'ROSN',\n",
    "          'NLMK',\n",
    "          'TATN',\n",
    "          'MTSS',\n",
    "          'ALRS',  \n",
    "          'YDEX',\n",
    "          'CHMF',\n",
    "          \n",
    "          'MAGN',\n",
    "          'T',\n",
    "          'OZON',\n",
    "          'RUAL'  \n",
    "         ]\n",
    "\n",
    "for stock in tqdm(stocks):\n",
    "    data = load_pkl(f\"./data/raw/1min/{stock}.pkl\")\n",
    "\n",
    "    data = preproc(data)\n",
    "    \n",
    "    dump_pkl(data, f\"./data/preproc/1min/{stock}.pkl\")"
   ]
  },
  {
   "cell_type": "code",
   "execution_count": null,
   "id": "3e29ba74-be2a-4d66-892d-e93ac8add36e",
   "metadata": {},
   "outputs": [],
   "source": []
  },
  {
   "cell_type": "code",
   "execution_count": 126,
   "id": "2a4f2fca-6acd-48e8-87f1-a8eeaba4aa8e",
   "metadata": {},
   "outputs": [
    {
     "name": "stderr",
     "output_type": "stream",
     "text": [
      "100%|█████████████████████████████████████████████████████████████████████████| 19/19 [00:28<00:00,  1.53s/it]\n"
     ]
    }
   ],
   "source": [
    "#5min\n",
    "for stock in tqdm(stocks):\n",
    "    data = load_pkl(f\"./data/raw/5min/{stock}.pkl\")\n",
    "\n",
    "    data = preproc(data)\n",
    "    \n",
    "    dump_pkl(data, f\"./data/preproc/5min/{stock}.pkl\")"
   ]
  },
  {
   "cell_type": "code",
   "execution_count": null,
   "id": "d6ac7517-b603-4d90-b6d9-7ccd86af2bd7",
   "metadata": {},
   "outputs": [],
   "source": []
  },
  {
   "cell_type": "code",
   "execution_count": 128,
   "id": "74877a2d-95e7-4f4b-862b-80fc3790fa84",
   "metadata": {},
   "outputs": [
    {
     "name": "stderr",
     "output_type": "stream",
     "text": [
      "100%|█████████████████████████████████████████████████████████████████████████| 19/19 [00:02<00:00,  6.98it/s]\n"
     ]
    }
   ],
   "source": [
    "#1hour\n",
    "for stock in tqdm(stocks):\n",
    "    data = load_pkl(f\"./data/raw/1hour/{stock}.pkl\")\n",
    "\n",
    "    data = preproc(data)\n",
    "    \n",
    "    dump_pkl(data, f\"./data/preproc/1hour/{stock}.pkl\")"
   ]
  },
  {
   "cell_type": "code",
   "execution_count": null,
   "id": "6c12e571-f2b0-46db-a653-f1105de6e405",
   "metadata": {},
   "outputs": [],
   "source": []
  },
  {
   "cell_type": "code",
   "execution_count": 130,
   "id": "92a8d013-fcf7-4efa-b856-26ae010a92e5",
   "metadata": {},
   "outputs": [
    {
     "name": "stderr",
     "output_type": "stream",
     "text": [
      "100%|████████████████████████████████████████████████████████████████████████| 19/19 [00:00<00:00, 149.79it/s]\n"
     ]
    }
   ],
   "source": [
    "def preproc_day_data(data):\n",
    "    data['time'] = data['time'].apply(lambda x: x.tz_convert(None))\n",
    "    \n",
    "    mask_bd = np.array(data['time'].apply(lambda x: is_business_day(x)))\n",
    "    data = data.loc[mask_bd, :]\n",
    "\n",
    "    #mask_volume = np.array(datetime.time(10, 0) <= pd.to_datetime(data['time'], format='%H:%M').dt.time)\n",
    "    #data = data.loc[mask_volume, :]\n",
    "\n",
    "    data.reset_index(drop=True, inplace=True)\n",
    "\n",
    "    return data\n",
    "\n",
    "\n",
    "#1day\n",
    "for stock in tqdm(stocks):\n",
    "    data = load_pkl(f\"./data/raw/1day/{stock}.pkl\")\n",
    "\n",
    "    data = preproc_day_data(data)\n",
    "    \n",
    "    dump_pkl(data, f\"./data/preproc/1day/{stock}.pkl\")"
   ]
  },
  {
   "cell_type": "markdown",
   "id": "c2a62a64-d48c-4923-820b-263068218e2e",
   "metadata": {},
   "source": [
    "# "
   ]
  },
  {
   "cell_type": "code",
   "execution_count": 138,
   "id": "e6448d16-400c-4106-8f7c-5117f427733d",
   "metadata": {},
   "outputs": [
    {
     "data": {
      "text/plain": [
       "1"
      ]
     },
     "execution_count": 138,
     "metadata": {},
     "output_type": "execute_result"
    }
   ],
   "source": [
    "1"
   ]
  },
  {
   "cell_type": "code",
   "execution_count": null,
   "id": "3097cc8c-de4e-4e39-8fff-6ef7f82d3732",
   "metadata": {},
   "outputs": [],
   "source": []
  },
  {
   "cell_type": "markdown",
   "id": "230e200a-20b1-495c-99cd-259b614673f4",
   "metadata": {},
   "source": [
    "### 5. Анализ на целостность данных"
   ]
  },
  {
   "cell_type": "code",
   "execution_count": 142,
   "id": "7c5517af-2785-4946-8b5c-152c8caaa4bc",
   "metadata": {},
   "outputs": [],
   "source": [
    "#проверить на заполняемость"
   ]
  },
  {
   "cell_type": "markdown",
   "id": "5a697c12-2f5a-4460-81e9-1bd512462a85",
   "metadata": {},
   "source": [
    "#### 5.1 1min"
   ]
  },
  {
   "cell_type": "code",
   "execution_count": 145,
   "id": "5c57601b-f65a-434a-9e16-489e9cf363d4",
   "metadata": {},
   "outputs": [
    {
     "name": "stderr",
     "output_type": "stream",
     "text": [
      " 21%|███████████████▌                                                          | 4/19 [00:00<00:00, 33.78it/s]"
     ]
    },
    {
     "name": "stdout",
     "output_type": "stream",
     "text": [
      "GAZP\n",
      "SBER\n",
      "LKOH\n",
      "MGNT\n",
      "NVTK\n",
      "SNGS\n",
      "SNGSP\n",
      "GMKN\n"
     ]
    },
    {
     "name": "stderr",
     "output_type": "stream",
     "text": [
      " 68%|█████████████████████████████████████████████████▉                       | 13/19 [00:00<00:00, 39.51it/s]"
     ]
    },
    {
     "name": "stdout",
     "output_type": "stream",
     "text": [
      "ROSN\n",
      "NLMK\n",
      "TATN\n",
      "MTSS\n",
      "ALRS\n",
      "YDEX\n",
      "CHMF\n",
      "MAGN\n",
      "T\n",
      "OZON\n"
     ]
    },
    {
     "name": "stderr",
     "output_type": "stream",
     "text": [
      "100%|█████████████████████████████████████████████████████████████████████████| 19/19 [00:00<00:00, 39.28it/s]"
     ]
    },
    {
     "name": "stdout",
     "output_type": "stream",
     "text": [
      "RUAL\n"
     ]
    },
    {
     "name": "stderr",
     "output_type": "stream",
     "text": [
      "\n"
     ]
    }
   ],
   "source": [
    "stocks = [\n",
    "          'GAZP',\n",
    "          'SBER',\n",
    "          'LKOH',\n",
    "          'MGNT',\n",
    "          'NVTK',\n",
    "          'SNGS', 'SNGSP',\n",
    "          'GMKN',\n",
    "          'ROSN',\n",
    "          'NLMK',\n",
    "          'TATN',\n",
    "          'MTSS',\n",
    "          'ALRS',  \n",
    "          'YDEX',\n",
    "          'CHMF',\n",
    "          \n",
    "          'MAGN',\n",
    "          'T',\n",
    "          'OZON',\n",
    "          'RUAL'  \n",
    "         ]\n",
    "\n",
    "for stock in tqdm(stocks):\n",
    "    df = load_pkl(f\"./data/preproc/1min/{stock}.pkl\")\n",
    "\n",
    "    print(stock)\n",
    "    assert (df['time'].sort_values()  == df['time']).all(), f'{stock} not sorted: {(df['time'].sort_values()  != df['time']).sum()}'\n",
    "    assert not df['time'].duplicated().any(), f'{stock} duplicated: {df['time'].duplicated().sum()}'\n",
    "    "
   ]
  },
  {
   "cell_type": "code",
   "execution_count": 147,
   "id": "80396e2b-bd8f-408e-bb9d-8545eca3cf35",
   "metadata": {},
   "outputs": [],
   "source": [
    "#Нет дублей и данные отсортированы"
   ]
  },
  {
   "cell_type": "code",
   "execution_count": null,
   "id": "33b107f7-9ff9-4bd5-b3ab-225f7c10f393",
   "metadata": {},
   "outputs": [],
   "source": []
  },
  {
   "cell_type": "code",
   "execution_count": 150,
   "id": "b8f49acd-3fc2-420f-aff4-93c5fa25fb40",
   "metadata": {},
   "outputs": [],
   "source": [
    "#Заполняеимость"
   ]
  },
  {
   "cell_type": "code",
   "execution_count": 152,
   "id": "35b5f49b-49f4-4cee-8c63-768ef524155f",
   "metadata": {},
   "outputs": [
    {
     "name": "stderr",
     "output_type": "stream",
     "text": [
      "100%|█████████████████████████████████████████████████████████████████████████| 19/19 [00:00<00:00, 39.99it/s]\n"
     ]
    },
    {
     "data": {
      "text/plain": [
       "(8666393, 8)"
      ]
     },
     "execution_count": 152,
     "metadata": {},
     "output_type": "execute_result"
    }
   ],
   "source": [
    "stocks = [\n",
    "          'GAZP',\n",
    "          'SBER',\n",
    "          'LKOH',\n",
    "          'MGNT',\n",
    "          'NVTK',\n",
    "          'SNGS', 'SNGSP',\n",
    "          'GMKN',\n",
    "          'ROSN',\n",
    "          'NLMK',\n",
    "          'TATN',\n",
    "          'MTSS',\n",
    "          'ALRS',  \n",
    "          'YDEX',\n",
    "          'CHMF',\n",
    "          \n",
    "          'MAGN',\n",
    "          'T',\n",
    "          'OZON',\n",
    "          'RUAL'  \n",
    "         ]\n",
    "\n",
    "\n",
    "dfs = []\n",
    "for stock in tqdm(stocks):\n",
    "    df = load_pkl(f\"./data/preproc/1min/{stock}.pkl\")\n",
    "    \n",
    "    df['diff'] = df['time'].diff() // pd.Timedelta('1 min')\n",
    "    dfs += [df.copy()]\n",
    "df = pd.concat(dfs)\n",
    "df.shape"
   ]
  },
  {
   "cell_type": "code",
   "execution_count": 154,
   "id": "908b0289-f834-4125-97e3-a1aa09fc5440",
   "metadata": {},
   "outputs": [
    {
     "data": {
      "text/plain": [
       "diff\n",
       "1.0       8499799\n",
       "2.0        106236\n",
       "3.0         18190\n",
       "6.0         11638\n",
       "15.0         8657\n",
       "611.0        8430\n",
       "4.0          5208\n",
       "3491.0       2070\n",
       "5.0          2006\n",
       "16.0         1431\n",
       "7.0           479\n",
       "17.0          454\n",
       "8.0           291\n",
       "9.0           203\n",
       "18.0          171\n",
       "19.0          126\n",
       "10.0          121\n",
       "612.0         102\n",
       "11.0           91\n",
       "901.0          66\n",
       "Name: count, dtype: int64"
      ]
     },
     "execution_count": 154,
     "metadata": {},
     "output_type": "execute_result"
    }
   ],
   "source": [
    "df['diff'].value_counts().sort_values(ascending=False).iloc[:20]"
   ]
  },
  {
   "cell_type": "code",
   "execution_count": 156,
   "id": "e8979063-d90e-4194-916c-8ca545a6b792",
   "metadata": {},
   "outputs": [
    {
     "data": {
      "text/plain": [
       "<Axes: xlabel='diff'>"
      ]
     },
     "execution_count": 156,
     "metadata": {},
     "output_type": "execute_result"
    },
    {
     "data": {
      "image/png": "[encoded data removed]",
      "text/plain": [
       "<Figure size 640x480 with 1 Axes>"
      ]
     },
     "metadata": {},
     "output_type": "display_data"
    }
   ],
   "source": [
    "df['diff'].value_counts(normalize=True).sort_index().plot.bar()"
   ]
  },
  {
   "cell_type": "code",
   "execution_count": 158,
   "id": "c9e63a55-a642-483d-9ca8-a44bda8068f7",
   "metadata": {},
   "outputs": [
    {
     "data": {
      "text/plain": [
       "(0.9807770083816878, 0.9930353954638337, 0.9974642276204183)"
      ]
     },
     "execution_count": 158,
     "metadata": {},
     "output_type": "execute_result"
    }
   ],
   "source": [
    "threshold = 2\n",
    "(df['diff'] < 2).mean(), (df['diff'] < 3).mean(), (df['diff'] < 15).mean()"
   ]
  },
  {
   "cell_type": "code",
   "execution_count": 160,
   "id": "2c3929b8-dcb4-4379-b242-be7513aa66cb",
   "metadata": {},
   "outputs": [],
   "source": [
    "#Отличные результаты (тут еще смена дня не учтена и выходные)"
   ]
  },
  {
   "cell_type": "code",
   "execution_count": null,
   "id": "6d46fc5b-1ba0-4d97-b164-82064ab37ca8",
   "metadata": {},
   "outputs": [],
   "source": []
  },
  {
   "cell_type": "markdown",
   "id": "692264d9-db97-4d20-84f2-170136da1561",
   "metadata": {},
   "source": [
    "#### 5.2 5min"
   ]
  },
  {
   "cell_type": "code",
   "execution_count": 164,
   "id": "706ae0dc-d116-4f3a-86ed-2a1a30e1f11d",
   "metadata": {},
   "outputs": [
    {
     "name": "stderr",
     "output_type": "stream",
     "text": [
      "100%|████████████████████████████████████████████████████████████████████████| 19/19 [00:00<00:00, 125.12it/s]"
     ]
    },
    {
     "name": "stdout",
     "output_type": "stream",
     "text": [
      "GAZP\n",
      "SBER\n",
      "LKOH\n",
      "MGNT\n",
      "NVTK\n",
      "SNGS\n",
      "SNGSP\n",
      "GMKN\n",
      "ROSN\n",
      "NLMK\n",
      "TATN\n",
      "MTSS\n",
      "ALRS\n",
      "YDEX\n",
      "CHMF\n",
      "MAGN\n",
      "T\n",
      "OZON\n",
      "RUAL\n"
     ]
    },
    {
     "name": "stderr",
     "output_type": "stream",
     "text": [
      "\n"
     ]
    }
   ],
   "source": [
    "for stock in tqdm(stocks):\n",
    "    df = load_pkl(f\"./data/preproc/5min/{stock}.pkl\")\n",
    "\n",
    "    print(stock)\n",
    "    assert (df['time'].sort_values()  == df['time']).all(), f'{stock} not sorted: {(df['time'].sort_values()  != df['time']).sum()}'\n",
    "    assert not df['time'].duplicated().any(), f'{stock} duplicated: {df['time'].duplicated().sum()}'\n",
    "    "
   ]
  },
  {
   "cell_type": "code",
   "execution_count": 166,
   "id": "a50b1618-f33e-4498-a176-33aeecf40b45",
   "metadata": {},
   "outputs": [],
   "source": [
    "#Нет дублей и данные отсортированы"
   ]
  },
  {
   "cell_type": "code",
   "execution_count": null,
   "id": "999191b8-1f05-4fac-ae31-9727020a1aa8",
   "metadata": {},
   "outputs": [],
   "source": []
  },
  {
   "cell_type": "code",
   "execution_count": 169,
   "id": "3fa97f2b-9786-4c0c-a9d0-bb58c760c3db",
   "metadata": {},
   "outputs": [],
   "source": [
    "#Заполняемость"
   ]
  },
  {
   "cell_type": "code",
   "execution_count": 171,
   "id": "5bc7cc40-03bf-456a-a5d0-64c38e540d97",
   "metadata": {
    "scrolled": true
   },
   "outputs": [
    {
     "name": "stderr",
     "output_type": "stream",
     "text": [
      "100%|████████████████████████████████████████████████████████████████████████| 19/19 [00:00<00:00, 246.30it/s]\n"
     ]
    },
    {
     "data": {
      "text/plain": [
       "(1777831, 8)"
      ]
     },
     "execution_count": 171,
     "metadata": {},
     "output_type": "execute_result"
    }
   ],
   "source": [
    "dfs = []\n",
    "for stock in tqdm(stocks):\n",
    "    df = load_pkl(f\"./data/preproc/5min/{stock}.pkl\")\n",
    "    \n",
    "    df['diff'] = df['time'].diff() // pd.Timedelta('5 min')\n",
    "    dfs += [df.copy()]\n",
    "df = pd.concat(dfs)\n",
    "df.shape"
   ]
  },
  {
   "cell_type": "code",
   "execution_count": 173,
   "id": "99d38816-ae6d-4f08-b538-f6df9f6e776d",
   "metadata": {},
   "outputs": [
    {
     "data": {
      "text/plain": [
       "<Axes: xlabel='diff'>"
      ]
     },
     "execution_count": 173,
     "metadata": {},
     "output_type": "execute_result"
    },
    {
     "data": {
      "image/png": "[encoded data removed]",
      "text/plain": [
       "<Figure size 640x480 with 1 Axes>"
      ]
     },
     "metadata": {},
     "output_type": "display_data"
    }
   ],
   "source": [
    "df['diff'].value_counts(normalize=True).sort_index().plot.bar()"
   ]
  },
  {
   "cell_type": "code",
   "execution_count": 175,
   "id": "bdae652c-a329-44ae-a733-4535c18aaa01",
   "metadata": {},
   "outputs": [
    {
     "data": {
      "text/plain": [
       "(0.9809858192370365, 0.9875820592621009, 0.9937823111420602)"
      ]
     },
     "execution_count": 175,
     "metadata": {},
     "output_type": "execute_result"
    }
   ],
   "source": [
    "threshold = 2\n",
    "(df['diff'] < 2).mean(), (df['diff'] < 3).mean(), (df['diff'] < 12).mean()"
   ]
  },
  {
   "cell_type": "code",
   "execution_count": 177,
   "id": "f6191eb5-a195-4619-a450-02d7665011ed",
   "metadata": {},
   "outputs": [],
   "source": [
    "#Отлично (тут еще смена дня не учтена и выходные)"
   ]
  },
  {
   "cell_type": "code",
   "execution_count": null,
   "id": "07acc023-0cb4-4016-8f6f-fa6701bb0b2f",
   "metadata": {},
   "outputs": [],
   "source": []
  },
  {
   "cell_type": "code",
   "execution_count": null,
   "id": "1bd96b99-b904-4cc5-a131-006ed2fa62c7",
   "metadata": {},
   "outputs": [],
   "source": []
  },
  {
   "cell_type": "markdown",
   "id": "c51c4c76-4b1c-4311-be44-fb23dc844bcd",
   "metadata": {},
   "source": [
    "#### 5.3 1hour"
   ]
  },
  {
   "cell_type": "code",
   "execution_count": 182,
   "id": "0cace792-6a96-43d9-a24d-1ded06c1dd30",
   "metadata": {},
   "outputs": [
    {
     "name": "stderr",
     "output_type": "stream",
     "text": [
      "100%|████████████████████████████████████████████████████████████████████████| 19/19 [00:00<00:00, 439.17it/s]"
     ]
    },
    {
     "name": "stdout",
     "output_type": "stream",
     "text": [
      "GAZP\n",
      "SBER\n",
      "LKOH\n",
      "MGNT\n",
      "NVTK\n",
      "SNGS\n",
      "SNGSP\n",
      "GMKN\n",
      "ROSN\n",
      "NLMK\n",
      "TATN\n",
      "MTSS\n",
      "ALRS\n",
      "YDEX\n",
      "CHMF\n",
      "MAGN\n",
      "T\n",
      "OZON\n",
      "RUAL\n"
     ]
    },
    {
     "name": "stderr",
     "output_type": "stream",
     "text": [
      "\n"
     ]
    }
   ],
   "source": [
    "for stock in tqdm(stocks):\n",
    "    df = load_pkl(f\"./data/preproc/1hour/{stock}.pkl\")\n",
    "\n",
    "    print(stock)\n",
    "    assert (df['time'].sort_values()  == df['time']).all(), f'{stock} not sorted: {(df['time'].sort_values()  != df['time']).sum()}'\n",
    "    assert not df['time'].duplicated().any(), f'{stock} duplicated: {df['time'].duplicated().sum()}'\n",
    "    "
   ]
  },
  {
   "cell_type": "code",
   "execution_count": 184,
   "id": "6987f994-4795-4f25-a260-4066cd683b5b",
   "metadata": {},
   "outputs": [],
   "source": [
    "#Нет дублей и данные отсортированы"
   ]
  },
  {
   "cell_type": "code",
   "execution_count": null,
   "id": "ee0fff32-d972-4ba5-ba6b-70e8716d2055",
   "metadata": {},
   "outputs": [],
   "source": []
  },
  {
   "cell_type": "code",
   "execution_count": 187,
   "id": "10083307-1868-48d9-82b1-e4f2e8744025",
   "metadata": {},
   "outputs": [],
   "source": [
    "#Заполняемость"
   ]
  },
  {
   "cell_type": "code",
   "execution_count": 189,
   "id": "623a3b14-f33a-427e-a832-435a8140cf40",
   "metadata": {
    "scrolled": true
   },
   "outputs": [
    {
     "name": "stderr",
     "output_type": "stream",
     "text": [
      "100%|███████████████████████████████████████████████████████████████████████| 19/19 [00:00<00:00, 1108.06it/s]\n"
     ]
    },
    {
     "data": {
      "text/plain": [
       "(152890, 8)"
      ]
     },
     "execution_count": 189,
     "metadata": {},
     "output_type": "execute_result"
    }
   ],
   "source": [
    "dfs = []\n",
    "for stock in tqdm(stocks):\n",
    "    df = load_pkl(f\"./data/preproc/1hour/{stock}.pkl\")\n",
    "    \n",
    "    df['diff'] = df['time'].diff() // pd.Timedelta('1 hour')\n",
    "    dfs += [df.copy()]\n",
    "df = pd.concat(dfs)\n",
    "df.shape"
   ]
  },
  {
   "cell_type": "code",
   "execution_count": 191,
   "id": "9ed0a093-81fa-432f-ad9d-16dc792abef1",
   "metadata": {},
   "outputs": [
    {
     "data": {
      "text/plain": [
       "<Axes: xlabel='diff'>"
      ]
     },
     "execution_count": 191,
     "metadata": {},
     "output_type": "execute_result"
    },
    {
     "data": {
      "image/png": "[encoded data removed]",
      "text/plain": [
       "<Figure size 640x480 with 1 Axes>"
      ]
     },
     "metadata": {},
     "output_type": "display_data"
    }
   ],
   "source": [
    "df['diff'].value_counts(normalize=True).sort_index().plot.bar()"
   ]
  },
  {
   "cell_type": "code",
   "execution_count": 193,
   "id": "e0b40b52-53a0-4635-9e25-11d05b8e72f6",
   "metadata": {},
   "outputs": [
    {
     "data": {
      "text/plain": [
       "0.9980051017071097"
      ]
     },
     "execution_count": 193,
     "metadata": {},
     "output_type": "execute_result"
    }
   ],
   "source": [
    "threshold = 2\n",
    "((df['diff'] < 2) | (df['diff'] == 11) | (df['diff'] == 59)).mean()"
   ]
  },
  {
   "cell_type": "code",
   "execution_count": 195,
   "id": "a7c10200-f241-4a1f-95e0-ede1e7c5591d",
   "metadata": {},
   "outputs": [],
   "source": [
    "#Отлично (не все выходные еще учтены)"
   ]
  },
  {
   "cell_type": "code",
   "execution_count": null,
   "id": "3c748f50-7f37-46dc-aada-2ae76bd0b067",
   "metadata": {},
   "outputs": [],
   "source": []
  },
  {
   "cell_type": "code",
   "execution_count": null,
   "id": "51c12c70-236a-4104-840b-9f29bb11d8e3",
   "metadata": {},
   "outputs": [],
   "source": []
  },
  {
   "cell_type": "markdown",
   "id": "5a636d3b-ea87-401a-bf75-da0406c0ffd9",
   "metadata": {},
   "source": [
    "#### 5.4 1day"
   ]
  },
  {
   "cell_type": "code",
   "execution_count": 200,
   "id": "39c66fb8-ec1b-40d7-8721-48756fab8305",
   "metadata": {},
   "outputs": [
    {
     "name": "stderr",
     "output_type": "stream",
     "text": [
      "100%|████████████████████████████████████████████████████████████████████████| 19/19 [00:00<00:00, 879.78it/s]"
     ]
    },
    {
     "name": "stdout",
     "output_type": "stream",
     "text": [
      "GAZP\n",
      "SBER\n",
      "LKOH\n",
      "MGNT\n",
      "NVTK\n",
      "SNGS\n",
      "SNGSP\n",
      "GMKN\n",
      "ROSN\n",
      "NLMK\n",
      "TATN\n",
      "MTSS\n",
      "ALRS\n",
      "YDEX\n",
      "CHMF\n",
      "MAGN\n",
      "T\n",
      "OZON\n",
      "RUAL\n"
     ]
    },
    {
     "name": "stderr",
     "output_type": "stream",
     "text": [
      "\n"
     ]
    }
   ],
   "source": [
    "for stock in tqdm(stocks):\n",
    "    df = load_pkl(f\"./data/preproc/1day/{stock}.pkl\")\n",
    "\n",
    "    print(stock)\n",
    "    assert (df['time'].sort_values()  == df['time']).all(), f'{stock} not sorted: {(df['time'].sort_values()  != df['time']).sum()}'\n",
    "    assert not df['time'].duplicated().any(), f'{stock} duplicated: {df['time'].duplicated().sum()}'\n",
    "    "
   ]
  },
  {
   "cell_type": "code",
   "execution_count": 202,
   "id": "e399c11a-386f-4756-97bc-fdc39a51aa8e",
   "metadata": {},
   "outputs": [],
   "source": [
    "#Нет дублей и данные отсортированы"
   ]
  },
  {
   "cell_type": "code",
   "execution_count": null,
   "id": "e2e7d768-12ce-485f-a824-d632891a0fb0",
   "metadata": {},
   "outputs": [],
   "source": []
  },
  {
   "cell_type": "code",
   "execution_count": 205,
   "id": "4f8e0f34-54cc-4785-a6a1-88a2164d378e",
   "metadata": {},
   "outputs": [],
   "source": [
    "#Заполняемость"
   ]
  },
  {
   "cell_type": "code",
   "execution_count": 207,
   "id": "ffe90030-c3bb-46bb-8891-914bf487aa14",
   "metadata": {
    "scrolled": true
   },
   "outputs": [
    {
     "name": "stderr",
     "output_type": "stream",
     "text": [
      "100%|███████████████████████████████████████████████████████████████████████| 19/19 [00:00<00:00, 1058.49it/s]\n"
     ]
    },
    {
     "data": {
      "text/plain": [
       "(10761, 8)"
      ]
     },
     "execution_count": 207,
     "metadata": {},
     "output_type": "execute_result"
    }
   ],
   "source": [
    "dfs = []\n",
    "for stock in tqdm(stocks):\n",
    "    df = load_pkl(f\"./data/preproc/1day/{stock}.pkl\")\n",
    "    \n",
    "    df['diff'] = df['time'].diff() // pd.Timedelta('24 hours')\n",
    "    dfs += [df.copy()]\n",
    "df = pd.concat(dfs)\n",
    "df.shape"
   ]
  },
  {
   "cell_type": "code",
   "execution_count": 209,
   "id": "a16c6820-304e-46b6-a28e-d47199b333bd",
   "metadata": {},
   "outputs": [
    {
     "data": {
      "text/plain": [
       "<Axes: xlabel='diff'>"
      ]
     },
     "execution_count": 209,
     "metadata": {},
     "output_type": "execute_result"
    },
    {
     "data": {
      "image/png": "[encoded data removed]",
      "text/plain": [
       "<Figure size 640x480 with 1 Axes>"
      ]
     },
     "metadata": {},
     "output_type": "display_data"
    }
   ],
   "source": [
    "df['diff'].value_counts(normalize=True).sort_index().plot.bar()"
   ]
  },
  {
   "cell_type": "code",
   "execution_count": 211,
   "id": "6d13cc7d-7c19-4555-a779-6c2f513710cf",
   "metadata": {},
   "outputs": [
    {
     "data": {
      "text/plain": [
       "(0.9840163553573088, 0.9961899451723818)"
      ]
     },
     "execution_count": 211,
     "metadata": {},
     "output_type": "execute_result"
    }
   ],
   "source": [
    "threshold = 2\n",
    "(df['diff'] < 4).mean(), (df['diff'] < 5).mean()"
   ]
  },
  {
   "cell_type": "code",
   "execution_count": 213,
   "id": "5b4f43df-2cd8-491d-aba2-5cfdc543ceb2",
   "metadata": {},
   "outputs": [],
   "source": [
    "#Отлично"
   ]
  },
  {
   "cell_type": "code",
   "execution_count": null,
   "id": "6d8f789e-bd2d-457a-bd4a-1dff5d268579",
   "metadata": {},
   "outputs": [],
   "source": []
  },
  {
   "cell_type": "code",
   "execution_count": null,
   "id": "f47735cb-bb3d-4573-92ee-d0d1efca8e70",
   "metadata": {},
   "outputs": [],
   "source": []
  },
  {
   "cell_type": "code",
   "execution_count": null,
   "id": "a5adcacf-6fb0-4ab0-8bbf-75fbf392f775",
   "metadata": {},
   "outputs": [],
   "source": []
  },
  {
   "cell_type": "code",
   "execution_count": null,
   "id": "6fe1f7ff-9c05-4596-93dc-af48e266dd59",
   "metadata": {},
   "outputs": [],
   "source": []
  }
 ],
 "metadata": {
  "kernelspec": {
   "display_name": "Python 3 (ipykernel)",
   "language": "python",
   "name": "python3"
  },
  "language_info": {
   "codemirror_mode": {
    "name": "ipython",
    "version": 3
   },
   "file_extension": ".py",
   "mimetype": "text/x-python",
   "name": "python",
   "nbconvert_exporter": "python",
   "pygments_lexer": "ipython3",
   "version": "3.12.7"
  }
 },
 "nbformat": 4,
 "nbformat_minor": 5
}
