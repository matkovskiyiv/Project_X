{
 "cells": [
  {
   "cell_type": "code",
   "execution_count": null,
   "id": "cf2a24ff-7a57-49d0-8b5c-8256d937721b",
   "metadata": {},
   "outputs": [],
   "source": []
  },
  {
   "cell_type": "code",
   "execution_count": null,
   "id": "c25cfe26-96ce-4405-b02d-fba7fe4d3cb3",
   "metadata": {},
   "outputs": [],
   "source": []
  },
  {
   "cell_type": "code",
   "execution_count": 4,
   "id": "69bc8790-c2dd-47fd-92f5-25a81188ad9a",
   "metadata": {},
   "outputs": [],
   "source": [
    "import numpy as np\n",
    "import pandas as pd\n",
    "from tqdm import tqdm\n",
    "list(getattr(tqdm, '_instances'))\n",
    "for instance in list(tqdm._instances):\n",
    "    tqdm._decr_instances(instance)\n",
    "import random\n",
    "import matplotlib.pyplot as plt\n",
    "import seaborn as sns\n",
    "import datetime\n",
    "import os\n",
    "\n",
    "import pickle\n",
    "def dump_pkl(data, filename):\n",
    "  with open(filename, 'wb') as handle:\n",
    "    pickle.dump(data, handle, protocol=pickle.HIGHEST_PROTOCOL)\n",
    "\n",
    "def load_pkl(filename):\n",
    "  with open(filename, 'rb') as handle:\n",
    "    data = pickle.load(handle)\n",
    "  return data"
   ]
  },
  {
   "cell_type": "code",
   "execution_count": null,
   "id": "475a776c-0e14-451f-aa87-8894545c5799",
   "metadata": {},
   "outputs": [],
   "source": []
  },
  {
   "cell_type": "code",
   "execution_count": 7,
   "id": "d1f0cc75-e2d7-4fe9-b3a5-aa5b42d789a3",
   "metadata": {
    "collapsed": true,
    "jupyter": {
     "outputs_hidden": true
    },
    "scrolled": true
   },
   "outputs": [
    {
     "data": {
      "text/plain": [
       "['AFLT',\n",
       " 'IRAO',\n",
       " 'MVID',\n",
       " 'OGKB',\n",
       " 'SPBE',\n",
       " 'MTLRP',\n",
       " 'SFIN',\n",
       " 'KMAZ',\n",
       " 'CBOM',\n",
       " 'MSNG',\n",
       " 'FEES',\n",
       " 'LKOH',\n",
       " 'FESH',\n",
       " 'KROT',\n",
       " 'LENT',\n",
       " 'MDMG',\n",
       " 'NKNCP',\n",
       " 'VKCO',\n",
       " 'UPRO',\n",
       " 'MRKY',\n",
       " 'SELG',\n",
       " 'SGZH',\n",
       " 'AKRN',\n",
       " 'CHMK',\n",
       " 'ENPG',\n",
       " 'YAKG',\n",
       " 'PMSBP',\n",
       " 'RKKE',\n",
       " 'GEMC',\n",
       " 'LSRG',\n",
       " 'MRKZ',\n",
       " 'BANE',\n",
       " 'CNTL',\n",
       " 'PMSB',\n",
       " 'KRKNP',\n",
       " 'NMTP',\n",
       " 'PLZL',\n",
       " 'TATN',\n",
       " 'AFKS',\n",
       " 'UNKL',\n",
       " 'APTK',\n",
       " 'LNZL',\n",
       " 'GMKN',\n",
       " 'NSVZ',\n",
       " 'LIFE',\n",
       " 'RNFT',\n",
       " 'VRSB',\n",
       " 'YDEX',\n",
       " 'UWGN',\n",
       " 'TGKN',\n",
       " 'ABRD',\n",
       " 'HYDR',\n",
       " 'ABIO',\n",
       " 'WUSH',\n",
       " 'RTKMP',\n",
       " 'GTRK',\n",
       " 'NLMK',\n",
       " 'TATNP',\n",
       " 'CNTLP',\n",
       " 'BLNG',\n",
       " 'ALRS',\n",
       " 'GCHE',\n",
       " 'VSMO',\n",
       " 'LSNG',\n",
       " 'TRNFP',\n",
       " 'MGNT',\n",
       " 'RENI',\n",
       " 'NKHP',\n",
       " 'TGKB',\n",
       " 'ROLO',\n",
       " 'IRKT',\n",
       " 'MGTSP',\n",
       " 'MTLR',\n",
       " 'TGKA',\n",
       " 'MSRS',\n",
       " 'HEAD',\n",
       " 'RUAL',\n",
       " 'MRKV',\n",
       " 'KLSB',\n",
       " 'SIBN',\n",
       " 'SNGS',\n",
       " 'MSTT',\n",
       " 'KAZTP',\n",
       " 'DVEC',\n",
       " 'NVTK',\n",
       " 'RASP',\n",
       " 'VTBR',\n",
       " 'PHOR',\n",
       " 'TTLK',\n",
       " 'NKNC',\n",
       " 'T',\n",
       " 'KAZT',\n",
       " 'AMEZ',\n",
       " 'MRKU',\n",
       " 'TRMK',\n",
       " 'MOEX',\n",
       " 'SBERP',\n",
       " 'VEON-RX',\n",
       " 'CHMF',\n",
       " 'RTKM',\n",
       " 'SMLT',\n",
       " 'LNZLP',\n",
       " 'MRKC',\n",
       " 'MRKP',\n",
       " 'UNAC',\n",
       " 'KZOSP',\n",
       " 'GAZP',\n",
       " 'ROSN',\n",
       " 'BELU',\n",
       " 'ELFV',\n",
       " 'FLOT',\n",
       " 'PIKK',\n",
       " 'LSNGP',\n",
       " 'SVAV',\n",
       " 'TGKBP',\n",
       " 'POSI',\n",
       " 'KZOS',\n",
       " 'MRKS',\n",
       " 'SNGSP',\n",
       " 'MTSS',\n",
       " 'MAGN',\n",
       " 'PRFN',\n",
       " 'SBER',\n",
       " 'BANEP',\n",
       " 'BSPB',\n",
       " 'AQUA',\n",
       " 'RBCM']"
      ]
     },
     "execution_count": 7,
     "metadata": {},
     "output_type": "execute_result"
    }
   ],
   "source": [
    "stocks = [elem.split('.')[0] for elem in os.listdir('./data/preproc/1hour/')]\n",
    "stocks"
   ]
  },
  {
   "cell_type": "code",
   "execution_count": 9,
   "id": "265b4c8d-3f85-449c-ac9b-a75de13fc222",
   "metadata": {},
   "outputs": [
    {
     "name": "stderr",
     "output_type": "stream",
     "text": [
      "100%|██████████████████████████████████████████████████████████████████████| 127/127 [00:00<00:00, 812.78it/s]\n"
     ]
    },
    {
     "data": {
      "text/plain": [
       "(972611, 8)"
      ]
     },
     "execution_count": 9,
     "metadata": {},
     "output_type": "execute_result"
    }
   ],
   "source": [
    "#1 day\n",
    "\n",
    "dfs = []\n",
    "\n",
    "\n",
    "for stock in tqdm(stocks):\n",
    "    df = load_pkl(f\"./data/preproc/1hour/{stock}.pkl\")\n",
    "    dfs += [df.copy()]\n",
    "    assert (df['time'].sort_values()  == df['time']).all(), f'{stock} not sorted: {(df['time'].sort_values()  != df['time']).sum()}'\n",
    "    assert not df['time'].duplicated().any(), f'{stock} duplicated: {df['time'].duplicated().sum()}'\n",
    "\n",
    "\n",
    "df = pd.concat(dfs)\n",
    "df.reset_index(drop=True, inplace=True)\n",
    "df.shape"
   ]
  },
  {
   "cell_type": "code",
   "execution_count": 11,
   "id": "560a320c-bd7c-40d6-a0d4-c0002921f975",
   "metadata": {},
   "outputs": [
    {
     "data": {
      "text/html": [
       "<div>\n",
       "<style scoped>\n",
       "    .dataframe tbody tr th:only-of-type {\n",
       "        vertical-align: middle;\n",
       "    }\n",
       "\n",
       "    .dataframe tbody tr th {\n",
       "        vertical-align: top;\n",
       "    }\n",
       "\n",
       "    .dataframe thead th {\n",
       "        text-align: right;\n",
       "    }\n",
       "</style>\n",
       "<table border=\"1\" class=\"dataframe\">\n",
       "  <thead>\n",
       "    <tr style=\"text-align: right;\">\n",
       "      <th></th>\n",
       "      <th>time</th>\n",
       "      <th>open</th>\n",
       "      <th>close</th>\n",
       "      <th>volume</th>\n",
       "      <th>low</th>\n",
       "      <th>high</th>\n",
       "      <th>ticker</th>\n",
       "      <th>tmos_close</th>\n",
       "    </tr>\n",
       "  </thead>\n",
       "  <tbody>\n",
       "    <tr>\n",
       "      <th>0</th>\n",
       "      <td>2022-05-04 10:00:00</td>\n",
       "      <td>32.14</td>\n",
       "      <td>32.10</td>\n",
       "      <td>503380.0</td>\n",
       "      <td>31.46</td>\n",
       "      <td>32.68</td>\n",
       "      <td>AFLT</td>\n",
       "      <td>4.27</td>\n",
       "    </tr>\n",
       "    <tr>\n",
       "      <th>1</th>\n",
       "      <td>2022-05-04 11:00:00</td>\n",
       "      <td>32.10</td>\n",
       "      <td>31.38</td>\n",
       "      <td>191664.0</td>\n",
       "      <td>31.14</td>\n",
       "      <td>32.16</td>\n",
       "      <td>AFLT</td>\n",
       "      <td>4.20</td>\n",
       "    </tr>\n",
       "    <tr>\n",
       "      <th>2</th>\n",
       "      <td>2022-05-04 12:00:00</td>\n",
       "      <td>31.40</td>\n",
       "      <td>31.80</td>\n",
       "      <td>89256.0</td>\n",
       "      <td>31.38</td>\n",
       "      <td>31.92</td>\n",
       "      <td>AFLT</td>\n",
       "      <td>4.22</td>\n",
       "    </tr>\n",
       "    <tr>\n",
       "      <th>3</th>\n",
       "      <td>2022-05-04 13:00:00</td>\n",
       "      <td>31.80</td>\n",
       "      <td>31.36</td>\n",
       "      <td>87929.0</td>\n",
       "      <td>31.30</td>\n",
       "      <td>31.84</td>\n",
       "      <td>AFLT</td>\n",
       "      <td>4.21</td>\n",
       "    </tr>\n",
       "    <tr>\n",
       "      <th>4</th>\n",
       "      <td>2022-05-04 14:00:00</td>\n",
       "      <td>31.34</td>\n",
       "      <td>31.54</td>\n",
       "      <td>69671.0</td>\n",
       "      <td>31.14</td>\n",
       "      <td>31.58</td>\n",
       "      <td>AFLT</td>\n",
       "      <td>4.21</td>\n",
       "    </tr>\n",
       "  </tbody>\n",
       "</table>\n",
       "</div>"
      ],
      "text/plain": [
       "                 time   open  close    volume    low   high ticker  tmos_close\n",
       "0 2022-05-04 10:00:00  32.14  32.10  503380.0  31.46  32.68   AFLT        4.27\n",
       "1 2022-05-04 11:00:00  32.10  31.38  191664.0  31.14  32.16   AFLT        4.20\n",
       "2 2022-05-04 12:00:00  31.40  31.80   89256.0  31.38  31.92   AFLT        4.22\n",
       "3 2022-05-04 13:00:00  31.80  31.36   87929.0  31.30  31.84   AFLT        4.21\n",
       "4 2022-05-04 14:00:00  31.34  31.54   69671.0  31.14  31.58   AFLT        4.21"
      ]
     },
     "execution_count": 11,
     "metadata": {},
     "output_type": "execute_result"
    }
   ],
   "source": [
    "df.head()"
   ]
  },
  {
   "cell_type": "code",
   "execution_count": null,
   "id": "530f3777-419b-400c-956f-20e036ab1500",
   "metadata": {},
   "outputs": [],
   "source": []
  },
  {
   "cell_type": "markdown",
   "id": "0fe98ecf-83c2-4315-a52e-098a85ef2ff2",
   "metadata": {},
   "source": [
    "### Get Target"
   ]
  },
  {
   "cell_type": "code",
   "execution_count": 15,
   "id": "5055fa1b-2166-4bcd-9c74-0a1d46a0e679",
   "metadata": {},
   "outputs": [],
   "source": [
    "# Используем уже знакомую функцию :)\n",
    "\n",
    "def get_target(df_all, ind, val_first, val_second, points_to_wait):\n",
    "    #цель - достичь val_second, не достигнув val_first\n",
    "\n",
    "    ind_end = min(ind+points_to_wait+1, df_all.shape[0])\n",
    "    \n",
    "    df = df_all.iloc[ind:ind_end].copy()\n",
    "    \n",
    "    mask_stock = np.array(df['ticker'] == df['ticker'].iloc[0])\n",
    "    df = df.loc[mask_stock, :]\n",
    "\n",
    "    start_price = df['close'].iloc[0]\n",
    "    \n",
    "    if val_first < val_second:                                 \n",
    "        mask_val_first = np.array(df['close'] < val_first)\n",
    "        mask_val_second = np.array(df['close'] > val_second)\n",
    "    else: \n",
    "        mask_val_first = np.array(df['close'] > val_first)      ### тут будущему мне поразбираться нужно будет\n",
    "        mask_val_second = np.array(df['close'] < val_second)\n",
    "\n",
    "    \n",
    "    if (mask_val_first.sum() == 0) & (mask_val_second.sum() == 0):\n",
    "\n",
    "        ind_end = df.shape[0]-1\n",
    "        delta_time = df['time'].iloc[ind_end] - df['time'].iloc[0]\n",
    "        res_price = df['close'].iloc[ind_end]\n",
    "        income_rate = res_price/start_price\n",
    "        return 'DNF', delta_time, income_rate, res_price, ind_end+ind\n",
    "        \n",
    "    if (mask_val_first.sum() == 0) & (mask_val_second.sum() != 0):\n",
    "        ind_val_second = np.argwhere(mask_val_second).ravel()[0]\n",
    "        delta_time = df['time'].iloc[ind_val_second] - df['time'].iloc[0]\n",
    "        res_price = df['close'].iloc[ind_val_second]\n",
    "        income_rate = res_price/start_price\n",
    "        return 'WIN', delta_time, income_rate, res_price, ind_val_second+ind\n",
    "        \n",
    "    if (mask_val_first.sum() != 0) & (mask_val_second.sum() == 0):\n",
    "        ind_val_first = np.argwhere(mask_val_first).ravel()[0]\n",
    "        delta_time = df['time'].iloc[ind_val_first] - df['time'].iloc[0]\n",
    "        res_price = df['close'].iloc[ind_val_first]\n",
    "        income_rate = res_price/start_price\n",
    "        return 'LOSE', delta_time, income_rate, res_price, ind_val_first+ind\n",
    "\n",
    "    if (mask_val_first.sum() != 0) & (mask_val_second.sum() != 0):\n",
    "        ind_val_first = np.argwhere(mask_val_first).ravel()[0]\n",
    "        ind_val_second = np.argwhere(mask_val_second).ravel()[0]\n",
    "        if ind_val_first < ind_val_second:\n",
    "            delta_time = df['time'].iloc[ind_val_first] - df['time'].iloc[0]\n",
    "            res_price = df['close'].iloc[ind_val_first]\n",
    "            income_rate = res_price/start_price\n",
    "            return 'LOSE', delta_time, income_rate, res_price, ind_val_first+ind\n",
    "        if ind_val_first > ind_val_second:\n",
    "            delta_time = df['time'].iloc[ind_val_second] - df['time'].iloc[0]\n",
    "            res_price = df['close'].iloc[ind_val_second]\n",
    "            income_rate = res_price/start_price\n",
    "            return 'WIN', delta_time, income_rate, res_price, ind_val_second+ind\n",
    "\n",
    "\n",
    "def get_df_target(df, indx, percent_first=None, percent_second=None, points_to_wait=None):\n",
    "    times = []\n",
    "    results = []\n",
    "    delta_times = []\n",
    "    income_rates = []\n",
    "    closes = []\n",
    "    tickers = []\n",
    "    res_prices = []\n",
    "    res_inds = []\n",
    "    \n",
    "    #for ind in indx:\n",
    "    for ind in tqdm(indx):\n",
    "        time = df['time'].iloc[ind]\n",
    "        close = df['close'].iloc[ind]\n",
    "        ticker = df['ticker'].iloc[ind]\n",
    "        \n",
    "        val_first = df['close'].iloc[ind] * percent_first\n",
    "        val_second = df['close'].iloc[ind] * percent_second\n",
    "        result, delta_time, income_rate, res_price, res_ind = get_target(df, ind, val_first, val_second, points_to_wait)\n",
    "        \n",
    "        times += [time]\n",
    "        closes += [close]\n",
    "        tickers += [ticker]\n",
    "        results += [result]\n",
    "        delta_times += [delta_time]\n",
    "        income_rates += [income_rate]\n",
    "        res_prices += [res_price]\n",
    "        res_inds += [res_ind]\n",
    "        \n",
    "\n",
    "    df_result = pd.DataFrame({'ind' : indx,\n",
    "                              'time' : times,\n",
    "                              'close' : closes,\n",
    "                              'result' : results,\n",
    "                              'ticker' : tickers, \n",
    "                              'delta_time' : delta_times,\n",
    "                              'income_rate' : income_rates,\n",
    "                              'res_price' : res_prices,\n",
    "                              'res_ind' : res_inds\n",
    "                             })\n",
    "    return df_result    "
   ]
  },
  {
   "cell_type": "code",
   "execution_count": null,
   "id": "ac19f4d8-dd8c-43ee-8ea0-3789d47a13b7",
   "metadata": {},
   "outputs": [],
   "source": []
  },
  {
   "cell_type": "markdown",
   "id": "26c76854-d553-41cd-bf07-4022e1b98790",
   "metadata": {},
   "source": [
    "### Итог: Рассмотрим детальнее percent_first=0.995, percent_second=1.005, hours_to_wait=1"
   ]
  },
  {
   "cell_type": "code",
   "execution_count": 19,
   "id": "59c8a349-3e3c-4285-b79c-e4ba41306087",
   "metadata": {},
   "outputs": [],
   "source": [
    "indx = random.sample(range(df.shape[0]), 100_000)\n",
    "#idx"
   ]
  },
  {
   "cell_type": "code",
   "execution_count": 96,
   "id": "ce710c1f-b9b1-4b8a-a460-f8ffcba3feca",
   "metadata": {},
   "outputs": [
    {
     "name": "stderr",
     "output_type": "stream",
     "text": [
      "100%|███████████████████████████████████████████████████████████████| 100000/100000 [00:23<00:00, 4314.62it/s]\n"
     ]
    }
   ],
   "source": [
    "df_result = get_df_target(df, indx, percent_first=0.98, percent_second=1.05, points_to_wait=14*5) #5 дней"
   ]
  },
  {
   "cell_type": "code",
   "execution_count": 23,
   "id": "1cbefc55-45db-44b7-ac1d-df1c0abcf7cb",
   "metadata": {},
   "outputs": [
    {
     "data": {
      "text/html": [
       "<div>\n",
       "<style scoped>\n",
       "    .dataframe tbody tr th:only-of-type {\n",
       "        vertical-align: middle;\n",
       "    }\n",
       "\n",
       "    .dataframe tbody tr th {\n",
       "        vertical-align: top;\n",
       "    }\n",
       "\n",
       "    .dataframe thead th {\n",
       "        text-align: right;\n",
       "    }\n",
       "</style>\n",
       "<table border=\"1\" class=\"dataframe\">\n",
       "  <thead>\n",
       "    <tr style=\"text-align: right;\">\n",
       "      <th></th>\n",
       "      <th>ind</th>\n",
       "      <th>time</th>\n",
       "      <th>close</th>\n",
       "      <th>result</th>\n",
       "      <th>ticker</th>\n",
       "      <th>delta_time</th>\n",
       "      <th>income_rate</th>\n",
       "      <th>res_price</th>\n",
       "      <th>res_ind</th>\n",
       "    </tr>\n",
       "  </thead>\n",
       "  <tbody>\n",
       "    <tr>\n",
       "      <th>0</th>\n",
       "      <td>188335</td>\n",
       "      <td>2024-03-22 10:00:00</td>\n",
       "      <td>8850.0000</td>\n",
       "      <td>DNF</td>\n",
       "      <td>CHMK</td>\n",
       "      <td>12 days 00:00:00</td>\n",
       "      <td>1.017514</td>\n",
       "      <td>9005.0000</td>\n",
       "      <td>188405</td>\n",
       "    </tr>\n",
       "    <tr>\n",
       "      <th>1</th>\n",
       "      <td>365447</td>\n",
       "      <td>2024-05-24 12:00:00</td>\n",
       "      <td>4239.5000</td>\n",
       "      <td>LOSE</td>\n",
       "      <td>YDEX</td>\n",
       "      <td>2 days 22:00:00</td>\n",
       "      <td>0.966505</td>\n",
       "      <td>4097.5000</td>\n",
       "      <td>365459</td>\n",
       "    </tr>\n",
       "    <tr>\n",
       "      <th>2</th>\n",
       "      <td>750528</td>\n",
       "      <td>2024-03-11 22:00:00</td>\n",
       "      <td>1718.8000</td>\n",
       "      <td>DNF</td>\n",
       "      <td>CHMF</td>\n",
       "      <td>7 days 00:00:00</td>\n",
       "      <td>1.008145</td>\n",
       "      <td>1732.8000</td>\n",
       "      <td>750598</td>\n",
       "    </tr>\n",
       "    <tr>\n",
       "      <th>3</th>\n",
       "      <td>655718</td>\n",
       "      <td>2023-08-03 15:00:00</td>\n",
       "      <td>134.7300</td>\n",
       "      <td>LOSE</td>\n",
       "      <td>VTBR</td>\n",
       "      <td>4 days 03:00:00</td>\n",
       "      <td>0.965115</td>\n",
       "      <td>130.0300</td>\n",
       "      <td>655749</td>\n",
       "    </tr>\n",
       "    <tr>\n",
       "      <th>4</th>\n",
       "      <td>705594</td>\n",
       "      <td>2022-05-26 16:00:00</td>\n",
       "      <td>0.1830</td>\n",
       "      <td>DNF</td>\n",
       "      <td>MRKU</td>\n",
       "      <td>11 days 22:00:00</td>\n",
       "      <td>1.049180</td>\n",
       "      <td>0.1920</td>\n",
       "      <td>705664</td>\n",
       "    </tr>\n",
       "    <tr>\n",
       "      <th>...</th>\n",
       "      <td>...</td>\n",
       "      <td>...</td>\n",
       "      <td>...</td>\n",
       "      <td>...</td>\n",
       "      <td>...</td>\n",
       "      <td>...</td>\n",
       "      <td>...</td>\n",
       "      <td>...</td>\n",
       "      <td>...</td>\n",
       "    </tr>\n",
       "    <tr>\n",
       "      <th>99995</th>\n",
       "      <td>103717</td>\n",
       "      <td>2023-01-18 13:00:00</td>\n",
       "      <td>35.0600</td>\n",
       "      <td>LOSE</td>\n",
       "      <td>FESH</td>\n",
       "      <td>1 days 23:00:00</td>\n",
       "      <td>0.966058</td>\n",
       "      <td>33.8700</td>\n",
       "      <td>103734</td>\n",
       "    </tr>\n",
       "    <tr>\n",
       "      <th>99996</th>\n",
       "      <td>829178</td>\n",
       "      <td>2024-01-24 12:00:00</td>\n",
       "      <td>714.1250</td>\n",
       "      <td>DNF</td>\n",
       "      <td>BELU</td>\n",
       "      <td>7 days 00:00:00</td>\n",
       "      <td>1.003676</td>\n",
       "      <td>716.7500</td>\n",
       "      <td>829248</td>\n",
       "    </tr>\n",
       "    <tr>\n",
       "      <th>99997</th>\n",
       "      <td>81466</td>\n",
       "      <td>2024-04-22 21:00:00</td>\n",
       "      <td>3.4765</td>\n",
       "      <td>LOSE</td>\n",
       "      <td>MSNG</td>\n",
       "      <td>6 days 14:00:00</td>\n",
       "      <td>0.966921</td>\n",
       "      <td>3.3615</td>\n",
       "      <td>81526</td>\n",
       "    </tr>\n",
       "    <tr>\n",
       "      <th>99998</th>\n",
       "      <td>865488</td>\n",
       "      <td>2022-11-30 15:00:00</td>\n",
       "      <td>226.0000</td>\n",
       "      <td>LOSE</td>\n",
       "      <td>SVAV</td>\n",
       "      <td>1 days 20:00:00</td>\n",
       "      <td>0.969027</td>\n",
       "      <td>219.0000</td>\n",
       "      <td>865502</td>\n",
       "    </tr>\n",
       "    <tr>\n",
       "      <th>99999</th>\n",
       "      <td>103799</td>\n",
       "      <td>2023-01-31 14:00:00</td>\n",
       "      <td>34.1600</td>\n",
       "      <td>DNF</td>\n",
       "      <td>FESH</td>\n",
       "      <td>9 days 22:00:00</td>\n",
       "      <td>0.990632</td>\n",
       "      <td>33.8400</td>\n",
       "      <td>103869</td>\n",
       "    </tr>\n",
       "  </tbody>\n",
       "</table>\n",
       "<p>100000 rows × 9 columns</p>\n",
       "</div>"
      ],
      "text/plain": [
       "          ind                time      close result ticker       delta_time  \\\n",
       "0      188335 2024-03-22 10:00:00  8850.0000    DNF   CHMK 12 days 00:00:00   \n",
       "1      365447 2024-05-24 12:00:00  4239.5000   LOSE   YDEX  2 days 22:00:00   \n",
       "2      750528 2024-03-11 22:00:00  1718.8000    DNF   CHMF  7 days 00:00:00   \n",
       "3      655718 2023-08-03 15:00:00   134.7300   LOSE   VTBR  4 days 03:00:00   \n",
       "4      705594 2022-05-26 16:00:00     0.1830    DNF   MRKU 11 days 22:00:00   \n",
       "...       ...                 ...        ...    ...    ...              ...   \n",
       "99995  103717 2023-01-18 13:00:00    35.0600   LOSE   FESH  1 days 23:00:00   \n",
       "99996  829178 2024-01-24 12:00:00   714.1250    DNF   BELU  7 days 00:00:00   \n",
       "99997   81466 2024-04-22 21:00:00     3.4765   LOSE   MSNG  6 days 14:00:00   \n",
       "99998  865488 2022-11-30 15:00:00   226.0000   LOSE   SVAV  1 days 20:00:00   \n",
       "99999  103799 2023-01-31 14:00:00    34.1600    DNF   FESH  9 days 22:00:00   \n",
       "\n",
       "       income_rate  res_price  res_ind  \n",
       "0         1.017514  9005.0000   188405  \n",
       "1         0.966505  4097.5000   365459  \n",
       "2         1.008145  1732.8000   750598  \n",
       "3         0.965115   130.0300   655749  \n",
       "4         1.049180     0.1920   705664  \n",
       "...            ...        ...      ...  \n",
       "99995     0.966058    33.8700   103734  \n",
       "99996     1.003676   716.7500   829248  \n",
       "99997     0.966921     3.3615    81526  \n",
       "99998     0.969027   219.0000   865502  \n",
       "99999     0.990632    33.8400   103869  \n",
       "\n",
       "[100000 rows x 9 columns]"
      ]
     },
     "execution_count": 23,
     "metadata": {},
     "output_type": "execute_result"
    }
   ],
   "source": [
    "df_result"
   ]
  },
  {
   "cell_type": "code",
   "execution_count": 86,
   "id": "1b50fcca-2cec-4151-bb95-1c65c9a3dd36",
   "metadata": {},
   "outputs": [
    {
     "data": {
      "text/plain": [
       "0.00    0.689433\n",
       "0.01    0.932563\n",
       "0.10    0.961203\n",
       "0.20    0.966005\n",
       "0.30    0.968421\n",
       "0.40    0.969980\n",
       "0.50    0.995285\n",
       "0.60    1.009545\n",
       "0.70    1.028847\n",
       "0.80    1.052142\n",
       "0.90    1.059694\n",
       "0.99    1.125392\n",
       "1.00    1.772364\n",
       "Name: income_rate, dtype: float64"
      ]
     },
     "execution_count": 86,
     "metadata": {},
     "output_type": "execute_result"
    }
   ],
   "source": [
    "df_result['income_rate'].quantile(q=[0, 0.01]+np.arange(0.1, 1, 0.1).tolist()+[0.99, 1])"
   ]
  },
  {
   "cell_type": "code",
   "execution_count": null,
   "id": "1f69a396-cd96-40c6-b11a-3757ddf5d6ac",
   "metadata": {},
   "outputs": [],
   "source": []
  },
  {
   "cell_type": "code",
   "execution_count": 89,
   "id": "3ac3efd8-f8c8-4a19-bc90-e0d1fd1fc43e",
   "metadata": {},
   "outputs": [
    {
     "data": {
      "text/plain": [
       "result\n",
       "LOSE    0.40109\n",
       "DNF     0.34046\n",
       "WIN     0.25845\n",
       "Name: proportion, dtype: float64"
      ]
     },
     "execution_count": 89,
     "metadata": {},
     "output_type": "execute_result"
    }
   ],
   "source": [
    "df_result['result'].value_counts(normalize=True)"
   ]
  },
  {
   "cell_type": "code",
   "execution_count": null,
   "id": "03379dec-8980-42b2-8fc4-89f26f711721",
   "metadata": {},
   "outputs": [],
   "source": []
  },
  {
   "cell_type": "code",
   "execution_count": null,
   "id": "e4468743-1dc4-4507-9c76-883c1008356f",
   "metadata": {},
   "outputs": [],
   "source": []
  },
  {
   "cell_type": "code",
   "execution_count": 49,
   "id": "f0843162-5eeb-478e-9ad4-6e7490173205",
   "metadata": {},
   "outputs": [],
   "source": [
    "df_result['delta_time_bin'] = np.ceil(df_result['delta_time'] / pd.Timedelta(hours=24))"
   ]
  },
  {
   "cell_type": "code",
   "execution_count": 51,
   "id": "d8e9ee9a-71ff-4ac3-bb74-46791985bfbb",
   "metadata": {},
   "outputs": [
    {
     "data": {
      "text/plain": [
       "<Axes: xlabel='delta_time_bin'>"
      ]
     },
     "execution_count": 51,
     "metadata": {},
     "output_type": "execute_result"
    },
    {
     "data": {
      "image/png": "[encoded data removed]",
      "text/plain": [
       "<Figure size 640x480 with 1 Axes>"
      ]
     },
     "metadata": {},
     "output_type": "display_data"
    }
   ],
   "source": [
    "#распределение по длительности\n",
    "df_result['delta_time_bin'].value_counts(normalize=True).sort_index().plot.bar()"
   ]
  },
  {
   "cell_type": "code",
   "execution_count": null,
   "id": "1af84a6d-f7b0-4da7-b94c-ca33a7f97efb",
   "metadata": {},
   "outputs": [],
   "source": []
  },
  {
   "cell_type": "code",
   "execution_count": 129,
   "id": "2b0ddda3-2a8f-47ce-a0b2-320d05e2521f",
   "metadata": {},
   "outputs": [],
   "source": [
    "#TR по времени ожидания"
   ]
  },
  {
   "cell_type": "code",
   "execution_count": 53,
   "id": "9f95a5c5-e6dd-475d-8515-01907c118dec",
   "metadata": {},
   "outputs": [],
   "source": [
    "df_result['target'] = (df_result['result'] == 'WIN').astype(int)"
   ]
  },
  {
   "cell_type": "code",
   "execution_count": 55,
   "id": "fe824c76-3025-4b7f-b7bb-7e304af0054a",
   "metadata": {},
   "outputs": [
    {
     "data": {
      "text/plain": [
       "<Axes: xlabel='delta_time_bin'>"
      ]
     },
     "execution_count": 55,
     "metadata": {},
     "output_type": "execute_result"
    },
    {
     "data": {
      "image/png": "[encoded data removed]",
      "text/plain": [
       "<Figure size 640x480 with 1 Axes>"
      ]
     },
     "metadata": {},
     "output_type": "display_data"
    }
   ],
   "source": [
    "df_result.groupby('delta_time_bin').target.mean().sort_index().plot.bar()"
   ]
  },
  {
   "cell_type": "code",
   "execution_count": null,
   "id": "39a734c7-b04a-4f7b-bd3e-9755ec3d72a4",
   "metadata": {},
   "outputs": [],
   "source": []
  },
  {
   "cell_type": "code",
   "execution_count": null,
   "id": "87c17163-54fd-4718-b92b-b7a3909b2401",
   "metadata": {},
   "outputs": [],
   "source": []
  },
  {
   "cell_type": "code",
   "execution_count": 59,
   "id": "85444d1c-11e5-4d3e-abbf-2abdef7eaa3c",
   "metadata": {},
   "outputs": [],
   "source": [
    "#TR во времени"
   ]
  },
  {
   "cell_type": "code",
   "execution_count": 65,
   "id": "fbe74629-f950-4fe9-932a-60d1a7ebdff0",
   "metadata": {},
   "outputs": [
    {
     "data": {
      "text/plain": [
       "<Axes: xlabel='time'>"
      ]
     },
     "execution_count": 65,
     "metadata": {},
     "output_type": "execute_result"
    },
    {
     "data": {
      "image/png": "[encoded data removed]",
      "text/plain": [
       "<Figure size 640x480 with 1 Axes>"
      ]
     },
     "metadata": {},
     "output_type": "display_data"
    }
   ],
   "source": [
    "df_result.groupby(pd.Grouper(key='time', freq='ME')).target.mean().sort_index().plot.bar()"
   ]
  },
  {
   "cell_type": "code",
   "execution_count": 67,
   "id": "2c380907-5e60-4e94-bb23-c68f6f2b7da2",
   "metadata": {},
   "outputs": [
    {
     "data": {
      "text/plain": [
       "<Axes: xlabel='time'>"
      ]
     },
     "execution_count": 67,
     "metadata": {},
     "output_type": "execute_result"
    },
    {
     "data": {
      "image/png": "[encoded data removed]",
      "text/plain": [
       "<Figure size 640x480 with 1 Axes>"
      ]
     },
     "metadata": {},
     "output_type": "display_data"
    }
   ],
   "source": [
    "#перепроверка, кол-во точек в каждом месяце\n",
    "df_result.groupby(pd.Grouper(key='time', freq='ME')).target.count().sort_index().plot.bar()"
   ]
  },
  {
   "cell_type": "code",
   "execution_count": null,
   "id": "8b54332f-60db-4530-9f63-a07cd30e2569",
   "metadata": {},
   "outputs": [],
   "source": []
  },
  {
   "cell_type": "code",
   "execution_count": 70,
   "id": "9d86c2ca-9efe-405e-a2b4-45b31efa243d",
   "metadata": {},
   "outputs": [
    {
     "data": {
      "text/plain": [
       "<Axes: xlabel='ticker'>"
      ]
     },
     "execution_count": 70,
     "metadata": {},
     "output_type": "execute_result"
    },
    {
     "data": {
      "image/png": "[encoded data removed]",
      "text/plain": [
       "<Figure size 640x480 with 1 Axes>"
      ]
     },
     "metadata": {},
     "output_type": "display_data"
    }
   ],
   "source": [
    "#по акциям\n",
    "df_result.groupby('ticker').target.mean().sort_index().plot.bar()"
   ]
  },
  {
   "cell_type": "code",
   "execution_count": null,
   "id": "c3b832d0-c5b5-4011-9524-a19d4550e96e",
   "metadata": {},
   "outputs": [],
   "source": []
  },
  {
   "cell_type": "code",
   "execution_count": null,
   "id": "c4313aa4-faa0-4093-bdd9-b3d8bead6117",
   "metadata": {},
   "outputs": [],
   "source": []
  }
 ],
 "metadata": {
  "kernelspec": {
   "display_name": "Python 3 (ipykernel)",
   "language": "python",
   "name": "python3"
  },
  "language_info": {
   "codemirror_mode": {
    "name": "ipython",
    "version": 3
   },
   "file_extension": ".py",
   "mimetype": "text/x-python",
   "name": "python",
   "nbconvert_exporter": "python",
   "pygments_lexer": "ipython3",
   "version": "3.12.7"
  }
 },
 "nbformat": 4,
 "nbformat_minor": 5
}
