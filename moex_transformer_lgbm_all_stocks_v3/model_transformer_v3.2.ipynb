{
 "cells": [
  {
   "cell_type": "code",
   "execution_count": 13,
   "id": "d6e30ae7-7754-45c6-8ab7-f0faf1d303cb",
   "metadata": {
    "id": "d6e30ae7-7754-45c6-8ab7-f0faf1d303cb"
   },
   "outputs": [],
   "source": [
    "import numpy as np\n",
    "import pandas as pd\n",
    "from tqdm import tqdm\n",
    "import random\n",
    "import matplotlib.pyplot as plt\n",
    "import seaborn as sns\n",
    "import datetime\n",
    "import math\n",
    "import gc\n",
    "\n",
    "from sklearn.metrics import roc_auc_score\n",
    "\n",
    "import pickle\n",
    "def dump_pkl(data, filename):\n",
    "  with open(filename, 'wb') as handle:\n",
    "    pickle.dump(data, handle, protocol=pickle.HIGHEST_PROTOCOL)\n",
    "\n",
    "def load_pkl(filename):\n",
    "  with open(filename, 'rb') as handle:\n",
    "    data = pickle.load(handle)\n",
    "  return data"
   ]
  },
  {
   "cell_type": "code",
   "execution_count": null,
   "id": "qirDY6OVczYo",
   "metadata": {
    "id": "qirDY6OVczYo"
   },
   "outputs": [],
   "source": []
  },
  {
   "cell_type": "code",
   "execution_count": null,
   "id": "f33837fa-b1a1-4457-8760-12875c46470c",
   "metadata": {
    "id": "f33837fa-b1a1-4457-8760-12875c46470c"
   },
   "outputs": [],
   "source": []
  },
  {
   "cell_type": "code",
   "execution_count": null,
   "id": "aaaec63d-9f8a-4fe4-8de7-95f0e2b42a97",
   "metadata": {
    "id": "aaaec63d-9f8a-4fe4-8de7-95f0e2b42a97"
   },
   "outputs": [],
   "source": []
  },
  {
   "cell_type": "markdown",
   "id": "9dfe8d80-f431-4f2e-8908-df724266bccb",
   "metadata": {
    "id": "9dfe8d80-f431-4f2e-8908-df724266bccb"
   },
   "source": [
    "### 3. train/valid/test split"
   ]
  },
  {
   "cell_type": "code",
   "execution_count": null,
   "id": "JhnLos7mnrY3",
   "metadata": {
    "colab": {
     "base_uri": "https://localhost:8080/"
    },
    "id": "JhnLos7mnrY3",
    "outputId": "cc80de1c-0814-4d73-a528-6bff27744b31"
   },
   "outputs": [
    {
     "name": "stdout",
     "output_type": "stream",
     "text": [
      "Success! The data has been loaded\n",
      "Unpacking the data...\n",
      "Done! The data is available here /content\n",
      "CPU times: user 3.13 s, sys: 909 ms, total: 4.03 s\n",
      "Wall time: 19.1 s\n"
     ]
    }
   ],
   "source": [
    "# public_key1 = \"https://disk.yandex.ru/d/VxcZMdrztBaiFA\"\n",
    "# folder_name1 = \"Архив\"\n",
    "# asset_zip_path1 = os.path.join(os.getcwd(), f\"{folder_name1}.zip\")\n",
    "\n",
    "\n",
    "# %%time\n",
    "# import zipfile\n",
    "# import requests\n",
    "# import os\n",
    "# import io\n",
    "# from urllib.parse import urlencode\n",
    "\n",
    "# def download_and_unzip(load_from):\n",
    "#   base_url = 'https://cloud-api.yandex.net/v1/disk/public/resources/download?'\n",
    "\n",
    "#   # Получаем загрузочную ссылку\n",
    "#   final_url = base_url + urlencode(dict(public_key=load_from))\n",
    "#   try:\n",
    "#     response = requests.get(final_url)\n",
    "#     download_url = response.json()['href']\n",
    "\n",
    "#     # Загружаем файл и сохраняем его\n",
    "#     download_response = requests.get(download_url)\n",
    "#     print('Success! The data has been loaded')\n",
    "#   except:\n",
    "#     \"Could not load the content of the URL\"\n",
    "\n",
    "#   print(\"Unpacking the data...\")\n",
    "#   try:\n",
    "#     extract_to = os.getcwd()\n",
    "\n",
    "#     z = zipfile.ZipFile(io.BytesIO(download_response.content))\n",
    "#     z.extractall(extract_to)\n",
    "#     print(f'Done! The data is available here {extract_to}')\n",
    "#   except:\n",
    "#     \"Error occured while extracting the data\"\n",
    "\n",
    "\n",
    "\n",
    "# # Download if assest ZIP does not exists.\n",
    "# if not os.path.exists(asset_zip_path1):\n",
    "#     download_and_unzip(public_key1)\n"
   ]
  },
  {
   "cell_type": "code",
   "execution_count": 15,
   "id": "abae8128-7f9c-4e0c-bcfc-38c3f6a7c7b1",
   "metadata": {
    "id": "abae8128-7f9c-4e0c-bcfc-38c3f6a7c7b1"
   },
   "outputs": [],
   "source": [
    "df_1hour = load_pkl('./Архив/d1hour.pkl')\n",
    "df_1day = load_pkl('./Архив/data_1day.pkl')\n",
    "\n",
    "\n",
    "# df_1hour = load_pkl('data/feat_engin/lgbm/data_1hour.pkl')\n",
    "# df_1day = load_pkl('data/feat_engin/lgbm/data_1day.pkl')\n",
    "\n",
    "df_1hour[\"income_rate\"] = np.maximum(df_1hour[\"income_rate\"], 0.97)\n",
    "df_1hour[\"income_rate\"] = np.minimum(df_1hour[\"income_rate\"], 1.05)"
   ]
  },
  {
   "cell_type": "code",
   "execution_count": null,
   "id": "e0c1ca03-638c-422a-adf1-352d33a547a5",
   "metadata": {},
   "outputs": [],
   "source": []
  },
  {
   "cell_type": "markdown",
   "id": "dda18e53-4b11-4fbc-82e3-49ca6ea27e6d",
   "metadata": {},
   "source": [
    "### target"
   ]
  },
  {
   "cell_type": "code",
   "execution_count": 334,
   "id": "6b0b7360-d373-4eee-9eec-6e59f548d1d9",
   "metadata": {},
   "outputs": [],
   "source": [
    "# Используем уже знакомую функцию :)\n",
    "\n",
    "def get_target(df_all, ind, val_first, val_second, points_to_wait):\n",
    "    #цель - достичь val_second, не достигнув val_first\n",
    "\n",
    "    ind_end = min(ind+points_to_wait+1, df_all.shape[0])\n",
    "    \n",
    "    df = df_all.iloc[ind:ind_end].copy()\n",
    "    \n",
    "    mask_stock = np.array(df['ticker'] == df['ticker'].iloc[0])\n",
    "    df = df.loc[mask_stock, :]\n",
    "\n",
    "    start_price = df['close'].iloc[0]\n",
    "    \n",
    "    if val_first < val_second:                                 \n",
    "        mask_val_first = np.array(df['close'] < val_first)\n",
    "        mask_val_second = np.array(df['close'] > val_second)\n",
    "    else: \n",
    "        mask_val_first = np.array(df['close'] > val_first)      ### тут будущему мне поразбираться нужно будет\n",
    "        mask_val_second = np.array(df['close'] < val_second)\n",
    "\n",
    "    \n",
    "    if (mask_val_first.sum() == 0) & (mask_val_second.sum() == 0):\n",
    "\n",
    "    \n",
    "        ind_end = df.shape[0]-1\n",
    "        delta_time = df['time'].iloc[ind_end] - df['time'].iloc[0]\n",
    "        res_price = df['close'].iloc[ind_end]\n",
    "        income_rate = res_price/start_price\n",
    "        return 'DNF', delta_time, income_rate, res_price, ind_end+ind\n",
    "        \n",
    "    if (mask_val_first.sum() == 0) & (mask_val_second.sum() != 0):\n",
    "        ind_val_second = np.argwhere(mask_val_second).ravel()[0]\n",
    "        delta_time = df['time'].iloc[ind_val_second] - df['time'].iloc[0]\n",
    "        res_price = df['close'].iloc[ind_val_second]\n",
    "        income_rate = res_price/start_price\n",
    "        return 'WIN', delta_time, income_rate, res_price, ind_val_second+ind\n",
    "        \n",
    "    if (mask_val_first.sum() != 0) & (mask_val_second.sum() == 0):\n",
    "        ind_val_first = np.argwhere(mask_val_first).ravel()[0]\n",
    "        delta_time = df['time'].iloc[ind_val_first] - df['time'].iloc[0]\n",
    "        res_price = df['close'].iloc[ind_val_first]\n",
    "        income_rate = res_price/start_price\n",
    "        return 'LOSE', delta_time, income_rate, res_price, ind_val_first+ind\n",
    "\n",
    "    if (mask_val_first.sum() != 0) & (mask_val_second.sum() != 0):\n",
    "        ind_val_first = np.argwhere(mask_val_first).ravel()[0]\n",
    "        ind_val_second = np.argwhere(mask_val_second).ravel()[0]\n",
    "        if ind_val_first < ind_val_second:\n",
    "            delta_time = df['time'].iloc[ind_val_first] - df['time'].iloc[0]\n",
    "            res_price = df['close'].iloc[ind_val_first]\n",
    "            income_rate = res_price/start_price\n",
    "            return 'LOSE', delta_time, income_rate, res_price, ind_val_first+ind\n",
    "        if ind_val_first > ind_val_second:\n",
    "            delta_time = df['time'].iloc[ind_val_second] - df['time'].iloc[0]\n",
    "            res_price = df['close'].iloc[ind_val_second]\n",
    "            income_rate = res_price/start_price\n",
    "            return 'WIN', delta_time, income_rate, res_price, ind_val_second+ind\n",
    "\n",
    "\n",
    "def get_df_target(df, indx, percent_first=None, percent_second=None, points_to_wait=None):\n",
    "    times = []\n",
    "    results = []\n",
    "    delta_times = []\n",
    "    income_rates = []\n",
    "    closes = []\n",
    "    tickers = []\n",
    "    res_prices = []\n",
    "    res_inds = []\n",
    "    \n",
    "    #for ind in indx:\n",
    "    for ind in tqdm(indx):\n",
    "        time = df['time'].iloc[ind]\n",
    "        close = df['close'].iloc[ind]\n",
    "        ticker = df['ticker'].iloc[ind]\n",
    "        \n",
    "        val_first = df['close'].iloc[ind] * percent_first\n",
    "        val_second = df['close'].iloc[ind] * percent_second\n",
    "        result, delta_time, income_rate, res_price, res_ind = get_target(df, ind, val_first, val_second, points_to_wait)\n",
    "        \n",
    "        times += [time]\n",
    "        closes += [close]\n",
    "        tickers += [ticker]\n",
    "        results += [result]\n",
    "        delta_times += [delta_time]\n",
    "        income_rates += [income_rate]\n",
    "        res_prices += [res_price]\n",
    "        res_inds += [res_ind]\n",
    "        \n",
    "\n",
    "    df_result = pd.DataFrame({'ind' : indx,\n",
    "                              'time' : times,\n",
    "                              'close' : closes,\n",
    "                              'result' : results,\n",
    "                              'ticker' : tickers, \n",
    "                              'delta_time' : delta_times,\n",
    "                              'income_rate' : income_rates,\n",
    "                              'res_price' : res_prices,\n",
    "                              'res_ind' : res_inds\n",
    "                             })\n",
    "    return df_result    "
   ]
  },
  {
   "cell_type": "code",
   "execution_count": 338,
   "id": "f1d39ef4-50e5-4102-91c6-4bec2616a65c",
   "metadata": {},
   "outputs": [
    {
     "data": {
      "text/html": [
       "<div>\n",
       "<style scoped>\n",
       "    .dataframe tbody tr th:only-of-type {\n",
       "        vertical-align: middle;\n",
       "    }\n",
       "\n",
       "    .dataframe tbody tr th {\n",
       "        vertical-align: top;\n",
       "    }\n",
       "\n",
       "    .dataframe thead th {\n",
       "        text-align: right;\n",
       "    }\n",
       "</style>\n",
       "<table border=\"1\" class=\"dataframe\">\n",
       "  <thead>\n",
       "    <tr style=\"text-align: right;\">\n",
       "      <th></th>\n",
       "      <th>time</th>\n",
       "      <th>close</th>\n",
       "      <th>ticker</th>\n",
       "    </tr>\n",
       "  </thead>\n",
       "  <tbody>\n",
       "    <tr>\n",
       "      <th>0</th>\n",
       "      <td>2022-05-04 10:00:00</td>\n",
       "      <td>32.100</td>\n",
       "      <td>AFLT</td>\n",
       "    </tr>\n",
       "    <tr>\n",
       "      <th>1</th>\n",
       "      <td>2022-05-04 11:00:00</td>\n",
       "      <td>31.380</td>\n",
       "      <td>AFLT</td>\n",
       "    </tr>\n",
       "    <tr>\n",
       "      <th>2</th>\n",
       "      <td>2022-05-04 12:00:00</td>\n",
       "      <td>31.800</td>\n",
       "      <td>AFLT</td>\n",
       "    </tr>\n",
       "    <tr>\n",
       "      <th>3</th>\n",
       "      <td>2022-05-04 13:00:00</td>\n",
       "      <td>31.360</td>\n",
       "      <td>AFLT</td>\n",
       "    </tr>\n",
       "    <tr>\n",
       "      <th>4</th>\n",
       "      <td>2022-05-04 14:00:00</td>\n",
       "      <td>31.540</td>\n",
       "      <td>AFLT</td>\n",
       "    </tr>\n",
       "    <tr>\n",
       "      <th>...</th>\n",
       "      <td>...</td>\n",
       "      <td>...</td>\n",
       "      <td>...</td>\n",
       "    </tr>\n",
       "    <tr>\n",
       "      <th>972606</th>\n",
       "      <td>2024-12-31 19:00:00</td>\n",
       "      <td>10.830</td>\n",
       "      <td>RBCM</td>\n",
       "    </tr>\n",
       "    <tr>\n",
       "      <th>972607</th>\n",
       "      <td>2024-12-31 20:00:00</td>\n",
       "      <td>10.775</td>\n",
       "      <td>RBCM</td>\n",
       "    </tr>\n",
       "    <tr>\n",
       "      <th>972608</th>\n",
       "      <td>2024-12-31 21:00:00</td>\n",
       "      <td>10.820</td>\n",
       "      <td>RBCM</td>\n",
       "    </tr>\n",
       "    <tr>\n",
       "      <th>972609</th>\n",
       "      <td>2024-12-31 22:00:00</td>\n",
       "      <td>10.765</td>\n",
       "      <td>RBCM</td>\n",
       "    </tr>\n",
       "    <tr>\n",
       "      <th>972610</th>\n",
       "      <td>2024-12-31 23:00:00</td>\n",
       "      <td>10.770</td>\n",
       "      <td>RBCM</td>\n",
       "    </tr>\n",
       "  </tbody>\n",
       "</table>\n",
       "<p>972611 rows × 3 columns</p>\n",
       "</div>"
      ],
      "text/plain": [
       "                      time   close ticker\n",
       "0      2022-05-04 10:00:00  32.100   AFLT\n",
       "1      2022-05-04 11:00:00  31.380   AFLT\n",
       "2      2022-05-04 12:00:00  31.800   AFLT\n",
       "3      2022-05-04 13:00:00  31.360   AFLT\n",
       "4      2022-05-04 14:00:00  31.540   AFLT\n",
       "...                    ...     ...    ...\n",
       "972606 2024-12-31 19:00:00  10.830   RBCM\n",
       "972607 2024-12-31 20:00:00  10.775   RBCM\n",
       "972608 2024-12-31 21:00:00  10.820   RBCM\n",
       "972609 2024-12-31 22:00:00  10.765   RBCM\n",
       "972610 2024-12-31 23:00:00  10.770   RBCM\n",
       "\n",
       "[972611 rows x 3 columns]"
      ]
     },
     "execution_count": 338,
     "metadata": {},
     "output_type": "execute_result"
    }
   ],
   "source": [
    "df_result = load_pkl('./data/feat_engin/df_result_wait_35_7days.pkl')\n",
    "df_result = df_result[['time', 'close', 'ticker']]\n",
    "df_result"
   ]
  },
  {
   "cell_type": "code",
   "execution_count": 340,
   "id": "efffd104-f3aa-4ffd-99ef-993b12527f6e",
   "metadata": {},
   "outputs": [
    {
     "data": {
      "text/plain": [
       "(972611,)"
      ]
     },
     "execution_count": 340,
     "metadata": {},
     "output_type": "execute_result"
    }
   ],
   "source": [
    "inds = np.arange(df_result.shape[0])\n",
    "inds.shape"
   ]
  },
  {
   "cell_type": "code",
   "execution_count": 342,
   "id": "wKHKeij3fYC8",
   "metadata": {
    "id": "wKHKeij3fYC8"
   },
   "outputs": [
    {
     "name": "stderr",
     "output_type": "stream",
     "text": [
      "100%|███████████████████████████████████████████████████████████████| 972611/972611 [03:52<00:00, 4188.82it/s]\n"
     ]
    }
   ],
   "source": [
    "df_result = get_df_target(df_result, inds, percent_first=0.99, percent_second=1.04, points_to_wait=14*2)\n",
    "\n",
    "df_result[\"income_rate\"] = np.maximum(df_result[\"income_rate\"], 0.99)\n",
    "df_result[\"income_rate\"] = np.minimum(df_result[\"income_rate\"], 1.04)"
   ]
  },
  {
   "cell_type": "code",
   "execution_count": 344,
   "id": "fda47822-19e0-463c-928d-610d81241de4",
   "metadata": {},
   "outputs": [],
   "source": [
    "dump_pkl(df_result, './data/feat_engin/df_result_wait_14_2days.pkl')"
   ]
  },
  {
   "cell_type": "code",
   "execution_count": 27,
   "id": "bd841d32-fe1e-4bc1-a6d7-42e4ee852e3d",
   "metadata": {},
   "outputs": [
    {
     "data": {
      "text/plain": [
       "(True,)"
      ]
     },
     "execution_count": 27,
     "metadata": {},
     "output_type": "execute_result"
    }
   ],
   "source": [
    "(df_result['ind'] == df_result.index).all(), "
   ]
  },
  {
   "cell_type": "code",
   "execution_count": 29,
   "id": "10e16ca4-4f1c-483b-bc85-860ac4329b15",
   "metadata": {},
   "outputs": [],
   "source": [
    "df_result = df_result[['time','result', 'ticker', 'delta_time', 'income_rate',\n",
    "       'res_price', 'res_ind']]"
   ]
  },
  {
   "cell_type": "code",
   "execution_count": null,
   "id": "ade16c95-f5bd-410d-9bf0-d4a617eab173",
   "metadata": {},
   "outputs": [],
   "source": []
  },
  {
   "cell_type": "code",
   "execution_count": 32,
   "id": "79c87b25-0087-473f-bb13-d2b9111e456d",
   "metadata": {},
   "outputs": [
    {
     "data": {
      "text/plain": [
       "(972611, 231)"
      ]
     },
     "execution_count": 32,
     "metadata": {},
     "output_type": "execute_result"
    }
   ],
   "source": [
    "df_1hour.shape"
   ]
  },
  {
   "cell_type": "code",
   "execution_count": 34,
   "id": "2903308e-afa3-4dd0-b9cb-c9d49cfd4da0",
   "metadata": {},
   "outputs": [
    {
     "data": {
      "text/plain": [
       "(972611, 231)"
      ]
     },
     "execution_count": 34,
     "metadata": {},
     "output_type": "execute_result"
    }
   ],
   "source": [
    "#join\n",
    "df_1hour = df_1hour[df_1hour.columns[~df_1hour.columns.isin(['result', 'delta_time', 'income_rate', 'res_price', 'res_ind'])]].merge(\n",
    "    df_result, how='inner', on=['time', 'ticker'])\n",
    "df_1hour.shape"
   ]
  },
  {
   "cell_type": "code",
   "execution_count": 36,
   "id": "a69add4f-43e3-4717-974d-d9e8c839ac17",
   "metadata": {},
   "outputs": [
    {
     "data": {
      "text/html": [
       "<div>\n",
       "<style scoped>\n",
       "    .dataframe tbody tr th:only-of-type {\n",
       "        vertical-align: middle;\n",
       "    }\n",
       "\n",
       "    .dataframe tbody tr th {\n",
       "        vertical-align: top;\n",
       "    }\n",
       "\n",
       "    .dataframe thead th {\n",
       "        text-align: right;\n",
       "    }\n",
       "</style>\n",
       "<table border=\"1\" class=\"dataframe\">\n",
       "  <thead>\n",
       "    <tr style=\"text-align: right;\">\n",
       "      <th></th>\n",
       "      <th>time</th>\n",
       "      <th>ticker</th>\n",
       "      <th>index_1day</th>\n",
       "      <th>close_w1_roc</th>\n",
       "      <th>volume_w1_roc</th>\n",
       "      <th>tmos_close_w1_roc</th>\n",
       "      <th>close_w5_norm_std</th>\n",
       "      <th>close_w5_mean_abs_pct</th>\n",
       "      <th>close_w5_alpha</th>\n",
       "      <th>close_w5_rsi</th>\n",
       "      <th>...</th>\n",
       "      <th>volume_w70_ma_up_3std/volume</th>\n",
       "      <th>tmos_close_w70_ma_low_2std/tmos_close</th>\n",
       "      <th>tmos_close_w70_ma_up_2std/tmos_close</th>\n",
       "      <th>tmos_close_w70_ma_low_3std/tmos_close</th>\n",
       "      <th>tmos_close_w70_ma_up_3std/tmos_close</th>\n",
       "      <th>result</th>\n",
       "      <th>delta_time</th>\n",
       "      <th>income_rate</th>\n",
       "      <th>res_price</th>\n",
       "      <th>res_ind</th>\n",
       "    </tr>\n",
       "  </thead>\n",
       "  <tbody>\n",
       "    <tr>\n",
       "      <th>0</th>\n",
       "      <td>2022-05-04 10:00:00</td>\n",
       "      <td>AFLT</td>\n",
       "      <td>NaN</td>\n",
       "      <td>NaN</td>\n",
       "      <td>NaN</td>\n",
       "      <td>NaN</td>\n",
       "      <td>NaN</td>\n",
       "      <td>NaN</td>\n",
       "      <td>NaN</td>\n",
       "      <td>NaN</td>\n",
       "      <td>...</td>\n",
       "      <td>NaN</td>\n",
       "      <td>NaN</td>\n",
       "      <td>NaN</td>\n",
       "      <td>NaN</td>\n",
       "      <td>NaN</td>\n",
       "      <td>LOSE</td>\n",
       "      <td>0 days 01:00:00</td>\n",
       "      <td>0.98</td>\n",
       "      <td>31.38</td>\n",
       "      <td>1</td>\n",
       "    </tr>\n",
       "    <tr>\n",
       "      <th>1</th>\n",
       "      <td>2022-05-04 11:00:00</td>\n",
       "      <td>AFLT</td>\n",
       "      <td>NaN</td>\n",
       "      <td>-0.022430</td>\n",
       "      <td>-0.619246</td>\n",
       "      <td>-0.016393</td>\n",
       "      <td>0.016040</td>\n",
       "      <td>0.022430</td>\n",
       "      <td>-1.388889</td>\n",
       "      <td>0.000000</td>\n",
       "      <td>...</td>\n",
       "      <td>5.263229</td>\n",
       "      <td>0.984763</td>\n",
       "      <td>1.031904</td>\n",
       "      <td>0.972978</td>\n",
       "      <td>1.043689</td>\n",
       "      <td>LOSE</td>\n",
       "      <td>1 days 05:00:00</td>\n",
       "      <td>0.98</td>\n",
       "      <td>30.64</td>\n",
       "      <td>15</td>\n",
       "    </tr>\n",
       "    <tr>\n",
       "      <th>2</th>\n",
       "      <td>2022-05-04 12:00:00</td>\n",
       "      <td>AFLT</td>\n",
       "      <td>NaN</td>\n",
       "      <td>0.013384</td>\n",
       "      <td>-0.534310</td>\n",
       "      <td>0.004762</td>\n",
       "      <td>0.011387</td>\n",
       "      <td>0.017907</td>\n",
       "      <td>-1.146789</td>\n",
       "      <td>36.842106</td>\n",
       "      <td>...</td>\n",
       "      <td>10.178883</td>\n",
       "      <td>0.985282</td>\n",
       "      <td>1.019458</td>\n",
       "      <td>0.976738</td>\n",
       "      <td>1.028002</td>\n",
       "      <td>LOSE</td>\n",
       "      <td>0 days 04:00:00</td>\n",
       "      <td>0.98</td>\n",
       "      <td>31.16</td>\n",
       "      <td>6</td>\n",
       "    </tr>\n",
       "    <tr>\n",
       "      <th>3</th>\n",
       "      <td>2022-05-04 13:00:00</td>\n",
       "      <td>AFLT</td>\n",
       "      <td>NaN</td>\n",
       "      <td>-0.013836</td>\n",
       "      <td>-0.014867</td>\n",
       "      <td>-0.002370</td>\n",
       "      <td>0.011265</td>\n",
       "      <td>0.016550</td>\n",
       "      <td>-2.358490</td>\n",
       "      <td>26.582279</td>\n",
       "      <td>...</td>\n",
       "      <td>9.178177</td>\n",
       "      <td>0.988793</td>\n",
       "      <td>1.018333</td>\n",
       "      <td>0.981408</td>\n",
       "      <td>1.025718</td>\n",
       "      <td>LOSE</td>\n",
       "      <td>1 days 03:00:00</td>\n",
       "      <td>0.98</td>\n",
       "      <td>30.64</td>\n",
       "      <td>15</td>\n",
       "    </tr>\n",
       "    <tr>\n",
       "      <th>4</th>\n",
       "      <td>2022-05-04 14:00:00</td>\n",
       "      <td>AFLT</td>\n",
       "      <td>NaN</td>\n",
       "      <td>0.005740</td>\n",
       "      <td>-0.207645</td>\n",
       "      <td>0.000000</td>\n",
       "      <td>0.009909</td>\n",
       "      <td>0.013848</td>\n",
       "      <td>-2.899878</td>\n",
       "      <td>34.090908</td>\n",
       "      <td>...</td>\n",
       "      <td>10.562762</td>\n",
       "      <td>0.989668</td>\n",
       "      <td>1.016033</td>\n",
       "      <td>0.983077</td>\n",
       "      <td>1.022624</td>\n",
       "      <td>LOSE</td>\n",
       "      <td>1 days 02:00:00</td>\n",
       "      <td>0.98</td>\n",
       "      <td>30.64</td>\n",
       "      <td>15</td>\n",
       "    </tr>\n",
       "  </tbody>\n",
       "</table>\n",
       "<p>5 rows × 231 columns</p>\n",
       "</div>"
      ],
      "text/plain": [
       "                 time ticker  index_1day  close_w1_roc  volume_w1_roc  \\\n",
       "0 2022-05-04 10:00:00   AFLT         NaN           NaN            NaN   \n",
       "1 2022-05-04 11:00:00   AFLT         NaN     -0.022430      -0.619246   \n",
       "2 2022-05-04 12:00:00   AFLT         NaN      0.013384      -0.534310   \n",
       "3 2022-05-04 13:00:00   AFLT         NaN     -0.013836      -0.014867   \n",
       "4 2022-05-04 14:00:00   AFLT         NaN      0.005740      -0.207645   \n",
       "\n",
       "   tmos_close_w1_roc  close_w5_norm_std  close_w5_mean_abs_pct  \\\n",
       "0                NaN                NaN                    NaN   \n",
       "1          -0.016393           0.016040               0.022430   \n",
       "2           0.004762           0.011387               0.017907   \n",
       "3          -0.002370           0.011265               0.016550   \n",
       "4           0.000000           0.009909               0.013848   \n",
       "\n",
       "   close_w5_alpha  close_w5_rsi  ...  volume_w70_ma_up_3std/volume  \\\n",
       "0             NaN           NaN  ...                           NaN   \n",
       "1       -1.388889      0.000000  ...                      5.263229   \n",
       "2       -1.146789     36.842106  ...                     10.178883   \n",
       "3       -2.358490     26.582279  ...                      9.178177   \n",
       "4       -2.899878     34.090908  ...                     10.562762   \n",
       "\n",
       "   tmos_close_w70_ma_low_2std/tmos_close  \\\n",
       "0                                    NaN   \n",
       "1                               0.984763   \n",
       "2                               0.985282   \n",
       "3                               0.988793   \n",
       "4                               0.989668   \n",
       "\n",
       "   tmos_close_w70_ma_up_2std/tmos_close  \\\n",
       "0                                   NaN   \n",
       "1                              1.031904   \n",
       "2                              1.019458   \n",
       "3                              1.018333   \n",
       "4                              1.016033   \n",
       "\n",
       "   tmos_close_w70_ma_low_3std/tmos_close  \\\n",
       "0                                    NaN   \n",
       "1                               0.972978   \n",
       "2                               0.976738   \n",
       "3                               0.981408   \n",
       "4                               0.983077   \n",
       "\n",
       "   tmos_close_w70_ma_up_3std/tmos_close  result      delta_time  income_rate  \\\n",
       "0                                   NaN    LOSE 0 days 01:00:00         0.98   \n",
       "1                              1.043689    LOSE 1 days 05:00:00         0.98   \n",
       "2                              1.028002    LOSE 0 days 04:00:00         0.98   \n",
       "3                              1.025718    LOSE 1 days 03:00:00         0.98   \n",
       "4                              1.022624    LOSE 1 days 02:00:00         0.98   \n",
       "\n",
       "   res_price  res_ind  \n",
       "0      31.38        1  \n",
       "1      30.64       15  \n",
       "2      31.16        6  \n",
       "3      30.64       15  \n",
       "4      30.64       15  \n",
       "\n",
       "[5 rows x 231 columns]"
      ]
     },
     "execution_count": 36,
     "metadata": {},
     "output_type": "execute_result"
    }
   ],
   "source": [
    "df_1hour.head()"
   ]
  },
  {
   "cell_type": "code",
   "execution_count": null,
   "id": "ffb9e0e6-2268-4f68-bd45-341223ea0b27",
   "metadata": {},
   "outputs": [],
   "source": []
  },
  {
   "cell_type": "markdown",
   "id": "7d77cb1e-19a0-4d27-90a6-079ba2588db8",
   "metadata": {},
   "source": [
    "### next"
   ]
  },
  {
   "cell_type": "code",
   "execution_count": 42,
   "id": "fd3c170e-64d3-4180-97bf-e7d98d5b3451",
   "metadata": {},
   "outputs": [
    {
     "data": {
      "text/plain": [
       "result\n",
       "DNF     0.469662\n",
       "LOSE    0.362799\n",
       "WIN     0.167540\n",
       "Name: proportion, dtype: float64"
      ]
     },
     "execution_count": 42,
     "metadata": {},
     "output_type": "execute_result"
    }
   ],
   "source": [
    "df_1hour['result'].value_counts(normalize=True)"
   ]
  },
  {
   "cell_type": "code",
   "execution_count": 44,
   "id": "B0yutj0SgLmx",
   "metadata": {
    "colab": {
     "base_uri": "https://localhost:8080/",
     "height": 492
    },
    "id": "B0yutj0SgLmx",
    "outputId": "1e9c0148-e35d-4efc-e0ee-832cc11b86f5"
   },
   "outputs": [
    {
     "data": {
      "text/plain": [
       "0.00    0.980000\n",
       "0.01    0.980000\n",
       "0.10    0.980000\n",
       "0.20    0.980000\n",
       "0.30    0.980000\n",
       "0.40    0.987879\n",
       "0.50    0.996732\n",
       "0.60    1.003657\n",
       "0.70    1.012181\n",
       "0.80    1.026575\n",
       "0.90    1.040000\n",
       "0.99    1.040000\n",
       "1.00    1.040000\n",
       "Name: income_rate, dtype: float64"
      ]
     },
     "execution_count": 44,
     "metadata": {},
     "output_type": "execute_result"
    }
   ],
   "source": [
    "df_1hour['income_rate'].quantile(q=[0, 0.01]+np.arange(0.1, 1, 0.1).tolist()+[0.99, 1])"
   ]
  },
  {
   "cell_type": "code",
   "execution_count": null,
   "id": "UaPClFGggMKt",
   "metadata": {
    "id": "UaPClFGggMKt"
   },
   "outputs": [],
   "source": []
  },
  {
   "cell_type": "code",
   "execution_count": 57,
   "id": "ff72e613-5253-48ba-a99e-40049a4b1f82",
   "metadata": {
    "colab": {
     "base_uri": "https://localhost:8080/",
     "height": 374
    },
    "id": "ff72e613-5253-48ba-a99e-40049a4b1f82",
    "outputId": "bcb67036-a029-40da-c164-c12e4c1c1796"
   },
   "outputs": [
    {
     "name": "stdout",
     "output_type": "stream",
     "text": [
      "The history saving thread hit an unexpected error (OperationalError('attempt to write a readonly database')).History will not be written to the database.\n"
     ]
    },
    {
     "data": {
      "text/html": [
       "<div>\n",
       "<style scoped>\n",
       "    .dataframe tbody tr th:only-of-type {\n",
       "        vertical-align: middle;\n",
       "    }\n",
       "\n",
       "    .dataframe tbody tr th {\n",
       "        vertical-align: top;\n",
       "    }\n",
       "\n",
       "    .dataframe thead th {\n",
       "        text-align: right;\n",
       "    }\n",
       "</style>\n",
       "<table border=\"1\" class=\"dataframe\">\n",
       "  <thead>\n",
       "    <tr style=\"text-align: right;\">\n",
       "      <th></th>\n",
       "      <th>time</th>\n",
       "      <th>ticker</th>\n",
       "      <th>index_1day</th>\n",
       "      <th>close_w1_roc</th>\n",
       "      <th>volume_w1_roc</th>\n",
       "      <th>tmos_close_w1_roc</th>\n",
       "      <th>close_w5_norm_std</th>\n",
       "      <th>close_w5_mean_abs_pct</th>\n",
       "      <th>close_w5_alpha</th>\n",
       "      <th>close_w5_rsi</th>\n",
       "      <th>...</th>\n",
       "      <th>volume_w70_ma_up_3std/volume</th>\n",
       "      <th>tmos_close_w70_ma_low_2std/tmos_close</th>\n",
       "      <th>tmos_close_w70_ma_up_2std/tmos_close</th>\n",
       "      <th>tmos_close_w70_ma_low_3std/tmos_close</th>\n",
       "      <th>tmos_close_w70_ma_up_3std/tmos_close</th>\n",
       "      <th>result</th>\n",
       "      <th>delta_time</th>\n",
       "      <th>income_rate</th>\n",
       "      <th>res_price</th>\n",
       "      <th>res_ind</th>\n",
       "    </tr>\n",
       "  </thead>\n",
       "  <tbody>\n",
       "    <tr>\n",
       "      <th>0</th>\n",
       "      <td>2022-05-04 10:00:00</td>\n",
       "      <td>AFLT</td>\n",
       "      <td>NaN</td>\n",
       "      <td>NaN</td>\n",
       "      <td>NaN</td>\n",
       "      <td>NaN</td>\n",
       "      <td>NaN</td>\n",
       "      <td>NaN</td>\n",
       "      <td>NaN</td>\n",
       "      <td>NaN</td>\n",
       "      <td>...</td>\n",
       "      <td>NaN</td>\n",
       "      <td>NaN</td>\n",
       "      <td>NaN</td>\n",
       "      <td>NaN</td>\n",
       "      <td>NaN</td>\n",
       "      <td>LOSE</td>\n",
       "      <td>0 days 01:00:00</td>\n",
       "      <td>0.98</td>\n",
       "      <td>31.38</td>\n",
       "      <td>1</td>\n",
       "    </tr>\n",
       "    <tr>\n",
       "      <th>1</th>\n",
       "      <td>2022-05-04 11:00:00</td>\n",
       "      <td>AFLT</td>\n",
       "      <td>NaN</td>\n",
       "      <td>-0.022430</td>\n",
       "      <td>-0.619246</td>\n",
       "      <td>-0.016393</td>\n",
       "      <td>0.016040</td>\n",
       "      <td>0.022430</td>\n",
       "      <td>-1.388889</td>\n",
       "      <td>0.000000</td>\n",
       "      <td>...</td>\n",
       "      <td>5.263229</td>\n",
       "      <td>0.984763</td>\n",
       "      <td>1.031904</td>\n",
       "      <td>0.972978</td>\n",
       "      <td>1.043689</td>\n",
       "      <td>LOSE</td>\n",
       "      <td>1 days 05:00:00</td>\n",
       "      <td>0.98</td>\n",
       "      <td>30.64</td>\n",
       "      <td>15</td>\n",
       "    </tr>\n",
       "    <tr>\n",
       "      <th>2</th>\n",
       "      <td>2022-05-04 12:00:00</td>\n",
       "      <td>AFLT</td>\n",
       "      <td>NaN</td>\n",
       "      <td>0.013384</td>\n",
       "      <td>-0.534310</td>\n",
       "      <td>0.004762</td>\n",
       "      <td>0.011387</td>\n",
       "      <td>0.017907</td>\n",
       "      <td>-1.146789</td>\n",
       "      <td>36.842106</td>\n",
       "      <td>...</td>\n",
       "      <td>10.178883</td>\n",
       "      <td>0.985282</td>\n",
       "      <td>1.019458</td>\n",
       "      <td>0.976738</td>\n",
       "      <td>1.028002</td>\n",
       "      <td>LOSE</td>\n",
       "      <td>0 days 04:00:00</td>\n",
       "      <td>0.98</td>\n",
       "      <td>31.16</td>\n",
       "      <td>6</td>\n",
       "    </tr>\n",
       "    <tr>\n",
       "      <th>3</th>\n",
       "      <td>2022-05-04 13:00:00</td>\n",
       "      <td>AFLT</td>\n",
       "      <td>NaN</td>\n",
       "      <td>-0.013836</td>\n",
       "      <td>-0.014867</td>\n",
       "      <td>-0.002370</td>\n",
       "      <td>0.011265</td>\n",
       "      <td>0.016550</td>\n",
       "      <td>-2.358490</td>\n",
       "      <td>26.582279</td>\n",
       "      <td>...</td>\n",
       "      <td>9.178177</td>\n",
       "      <td>0.988793</td>\n",
       "      <td>1.018333</td>\n",
       "      <td>0.981408</td>\n",
       "      <td>1.025718</td>\n",
       "      <td>LOSE</td>\n",
       "      <td>1 days 03:00:00</td>\n",
       "      <td>0.98</td>\n",
       "      <td>30.64</td>\n",
       "      <td>15</td>\n",
       "    </tr>\n",
       "    <tr>\n",
       "      <th>4</th>\n",
       "      <td>2022-05-04 14:00:00</td>\n",
       "      <td>AFLT</td>\n",
       "      <td>NaN</td>\n",
       "      <td>0.005740</td>\n",
       "      <td>-0.207645</td>\n",
       "      <td>0.000000</td>\n",
       "      <td>0.009909</td>\n",
       "      <td>0.013848</td>\n",
       "      <td>-2.899878</td>\n",
       "      <td>34.090908</td>\n",
       "      <td>...</td>\n",
       "      <td>10.562762</td>\n",
       "      <td>0.989668</td>\n",
       "      <td>1.016033</td>\n",
       "      <td>0.983077</td>\n",
       "      <td>1.022624</td>\n",
       "      <td>LOSE</td>\n",
       "      <td>1 days 02:00:00</td>\n",
       "      <td>0.98</td>\n",
       "      <td>30.64</td>\n",
       "      <td>15</td>\n",
       "    </tr>\n",
       "  </tbody>\n",
       "</table>\n",
       "<p>5 rows × 231 columns</p>\n",
       "</div>"
      ],
      "text/plain": [
       "                 time ticker  index_1day  close_w1_roc  volume_w1_roc  \\\n",
       "0 2022-05-04 10:00:00   AFLT         NaN           NaN            NaN   \n",
       "1 2022-05-04 11:00:00   AFLT         NaN     -0.022430      -0.619246   \n",
       "2 2022-05-04 12:00:00   AFLT         NaN      0.013384      -0.534310   \n",
       "3 2022-05-04 13:00:00   AFLT         NaN     -0.013836      -0.014867   \n",
       "4 2022-05-04 14:00:00   AFLT         NaN      0.005740      -0.207645   \n",
       "\n",
       "   tmos_close_w1_roc  close_w5_norm_std  close_w5_mean_abs_pct  \\\n",
       "0                NaN                NaN                    NaN   \n",
       "1          -0.016393           0.016040               0.022430   \n",
       "2           0.004762           0.011387               0.017907   \n",
       "3          -0.002370           0.011265               0.016550   \n",
       "4           0.000000           0.009909               0.013848   \n",
       "\n",
       "   close_w5_alpha  close_w5_rsi  ...  volume_w70_ma_up_3std/volume  \\\n",
       "0             NaN           NaN  ...                           NaN   \n",
       "1       -1.388889      0.000000  ...                      5.263229   \n",
       "2       -1.146789     36.842106  ...                     10.178883   \n",
       "3       -2.358490     26.582279  ...                      9.178177   \n",
       "4       -2.899878     34.090908  ...                     10.562762   \n",
       "\n",
       "   tmos_close_w70_ma_low_2std/tmos_close  \\\n",
       "0                                    NaN   \n",
       "1                               0.984763   \n",
       "2                               0.985282   \n",
       "3                               0.988793   \n",
       "4                               0.989668   \n",
       "\n",
       "   tmos_close_w70_ma_up_2std/tmos_close  \\\n",
       "0                                   NaN   \n",
       "1                              1.031904   \n",
       "2                              1.019458   \n",
       "3                              1.018333   \n",
       "4                              1.016033   \n",
       "\n",
       "   tmos_close_w70_ma_low_3std/tmos_close  \\\n",
       "0                                    NaN   \n",
       "1                               0.972978   \n",
       "2                               0.976738   \n",
       "3                               0.981408   \n",
       "4                               0.983077   \n",
       "\n",
       "   tmos_close_w70_ma_up_3std/tmos_close  result      delta_time  income_rate  \\\n",
       "0                                   NaN    LOSE 0 days 01:00:00         0.98   \n",
       "1                              1.043689    LOSE 1 days 05:00:00         0.98   \n",
       "2                              1.028002    LOSE 0 days 04:00:00         0.98   \n",
       "3                              1.025718    LOSE 1 days 03:00:00         0.98   \n",
       "4                              1.022624    LOSE 1 days 02:00:00         0.98   \n",
       "\n",
       "   res_price  res_ind  \n",
       "0      31.38        1  \n",
       "1      30.64       15  \n",
       "2      31.16        6  \n",
       "3      30.64       15  \n",
       "4      30.64       15  \n",
       "\n",
       "[5 rows x 231 columns]"
      ]
     },
     "execution_count": 57,
     "metadata": {},
     "output_type": "execute_result"
    }
   ],
   "source": [
    "df_1hour.head()"
   ]
  },
  {
   "cell_type": "code",
   "execution_count": null,
   "id": "D-ZARMq3fXPr",
   "metadata": {
    "id": "D-ZARMq3fXPr"
   },
   "outputs": [],
   "source": []
  },
  {
   "cell_type": "code",
   "execution_count": 60,
   "id": "55278652-16ae-4ca5-8539-77c5d1db00c3",
   "metadata": {
    "colab": {
     "base_uri": "https://localhost:8080/",
     "height": 374
    },
    "id": "55278652-16ae-4ca5-8539-77c5d1db00c3",
    "outputId": "facc364a-efd7-46d4-ae80-2a8d0675e99b"
   },
   "outputs": [
    {
     "data": {
      "text/html": [
       "<div>\n",
       "<style scoped>\n",
       "    .dataframe tbody tr th:only-of-type {\n",
       "        vertical-align: middle;\n",
       "    }\n",
       "\n",
       "    .dataframe tbody tr th {\n",
       "        vertical-align: top;\n",
       "    }\n",
       "\n",
       "    .dataframe thead th {\n",
       "        text-align: right;\n",
       "    }\n",
       "</style>\n",
       "<table border=\"1\" class=\"dataframe\">\n",
       "  <thead>\n",
       "    <tr style=\"text-align: right;\">\n",
       "      <th></th>\n",
       "      <th>index</th>\n",
       "      <th>close_1day_w1_roc</th>\n",
       "      <th>volume_1day_w1_roc</th>\n",
       "      <th>tmos_close_1day_w1_roc</th>\n",
       "      <th>close_1day_w3_norm_std</th>\n",
       "      <th>close_1day_w3_mean_abs_pct</th>\n",
       "      <th>close_1day_w3_alpha</th>\n",
       "      <th>close_1day_w3_rsi</th>\n",
       "      <th>close_1day_w3_roc</th>\n",
       "      <th>volume_1day_w3_norm_std</th>\n",
       "      <th>...</th>\n",
       "      <th>close_1day_w100_ma_low_3std/close_1day</th>\n",
       "      <th>close_1day_w100_ma_up_3std/close_1day</th>\n",
       "      <th>volume_1day_w100_ma_low_2std/volume_1day</th>\n",
       "      <th>volume_1day_w100_ma_up_2std/volume_1day</th>\n",
       "      <th>volume_1day_w100_ma_low_3std/volume_1day</th>\n",
       "      <th>volume_1day_w100_ma_up_3std/volume_1day</th>\n",
       "      <th>tmos_close_1day_w100_ma_low_2std/tmos_close_1day</th>\n",
       "      <th>tmos_close_1day_w100_ma_up_2std/tmos_close_1day</th>\n",
       "      <th>tmos_close_1day_w100_ma_low_3std/tmos_close_1day</th>\n",
       "      <th>tmos_close_1day_w100_ma_up_3std/tmos_close_1day</th>\n",
       "    </tr>\n",
       "  </thead>\n",
       "  <tbody>\n",
       "    <tr>\n",
       "      <th>0</th>\n",
       "      <td>0</td>\n",
       "      <td>NaN</td>\n",
       "      <td>NaN</td>\n",
       "      <td>NaN</td>\n",
       "      <td>NaN</td>\n",
       "      <td>NaN</td>\n",
       "      <td>NaN</td>\n",
       "      <td>NaN</td>\n",
       "      <td>NaN</td>\n",
       "      <td>NaN</td>\n",
       "      <td>...</td>\n",
       "      <td>NaN</td>\n",
       "      <td>NaN</td>\n",
       "      <td>NaN</td>\n",
       "      <td>NaN</td>\n",
       "      <td>NaN</td>\n",
       "      <td>NaN</td>\n",
       "      <td>NaN</td>\n",
       "      <td>NaN</td>\n",
       "      <td>NaN</td>\n",
       "      <td>NaN</td>\n",
       "    </tr>\n",
       "    <tr>\n",
       "      <th>1</th>\n",
       "      <td>1</td>\n",
       "      <td>-0.016026</td>\n",
       "      <td>-0.416498</td>\n",
       "      <td>0.009569</td>\n",
       "      <td>0.011423</td>\n",
       "      <td>0.016026</td>\n",
       "      <td>-2.000000</td>\n",
       "      <td>0.0</td>\n",
       "      <td>NaN</td>\n",
       "      <td>0.371971</td>\n",
       "      <td>...</td>\n",
       "      <td>0.973594</td>\n",
       "      <td>1.042693</td>\n",
       "      <td>0.347443</td>\n",
       "      <td>2.366348</td>\n",
       "      <td>-0.157283</td>\n",
       "      <td>2.871074</td>\n",
       "      <td>0.981856</td>\n",
       "      <td>1.008666</td>\n",
       "      <td>0.975153</td>\n",
       "      <td>1.015368</td>\n",
       "    </tr>\n",
       "    <tr>\n",
       "      <th>2</th>\n",
       "      <td>2</td>\n",
       "      <td>-0.019544</td>\n",
       "      <td>-0.538980</td>\n",
       "      <td>-0.007109</td>\n",
       "      <td>0.017959</td>\n",
       "      <td>0.017785</td>\n",
       "      <td>-1.813187</td>\n",
       "      <td>0.0</td>\n",
       "      <td>NaN</td>\n",
       "      <td>0.593813</td>\n",
       "      <td>...</td>\n",
       "      <td>0.963933</td>\n",
       "      <td>1.073719</td>\n",
       "      <td>-0.430695</td>\n",
       "      <td>5.021688</td>\n",
       "      <td>-1.793790</td>\n",
       "      <td>6.384783</td>\n",
       "      <td>0.991655</td>\n",
       "      <td>1.011527</td>\n",
       "      <td>0.986687</td>\n",
       "      <td>1.016496</td>\n",
       "    </tr>\n",
       "    <tr>\n",
       "      <th>3</th>\n",
       "      <td>3</td>\n",
       "      <td>-0.005980</td>\n",
       "      <td>0.252535</td>\n",
       "      <td>0.007160</td>\n",
       "      <td>0.013506</td>\n",
       "      <td>0.013850</td>\n",
       "      <td>-2.338130</td>\n",
       "      <td>0.0</td>\n",
       "      <td>-0.041026</td>\n",
       "      <td>0.417388</td>\n",
       "      <td>...</td>\n",
       "      <td>0.960114</td>\n",
       "      <td>1.077320</td>\n",
       "      <td>-0.338032</td>\n",
       "      <td>3.587054</td>\n",
       "      <td>-1.319303</td>\n",
       "      <td>4.568325</td>\n",
       "      <td>0.986083</td>\n",
       "      <td>1.005623</td>\n",
       "      <td>0.981198</td>\n",
       "      <td>1.010509</td>\n",
       "    </tr>\n",
       "    <tr>\n",
       "      <th>4</th>\n",
       "      <td>4</td>\n",
       "      <td>-0.020053</td>\n",
       "      <td>-0.176090</td>\n",
       "      <td>-0.037915</td>\n",
       "      <td>0.013714</td>\n",
       "      <td>0.015193</td>\n",
       "      <td>-2.338130</td>\n",
       "      <td>0.0</td>\n",
       "      <td>-0.044951</td>\n",
       "      <td>0.125592</td>\n",
       "      <td>...</td>\n",
       "      <td>0.957491</td>\n",
       "      <td>1.105811</td>\n",
       "      <td>-0.461107</td>\n",
       "      <td>4.015840</td>\n",
       "      <td>-1.580344</td>\n",
       "      <td>5.135077</td>\n",
       "      <td>0.995477</td>\n",
       "      <td>1.060681</td>\n",
       "      <td>0.979176</td>\n",
       "      <td>1.076981</td>\n",
       "    </tr>\n",
       "  </tbody>\n",
       "</table>\n",
       "<p>5 rows × 354 columns</p>\n",
       "</div>"
      ],
      "text/plain": [
       "   index  close_1day_w1_roc  volume_1day_w1_roc  tmos_close_1day_w1_roc  \\\n",
       "0      0                NaN                 NaN                     NaN   \n",
       "1      1          -0.016026           -0.416498                0.009569   \n",
       "2      2          -0.019544           -0.538980               -0.007109   \n",
       "3      3          -0.005980            0.252535                0.007160   \n",
       "4      4          -0.020053           -0.176090               -0.037915   \n",
       "\n",
       "   close_1day_w3_norm_std  close_1day_w3_mean_abs_pct  close_1day_w3_alpha  \\\n",
       "0                     NaN                         NaN                  NaN   \n",
       "1                0.011423                    0.016026            -2.000000   \n",
       "2                0.017959                    0.017785            -1.813187   \n",
       "3                0.013506                    0.013850            -2.338130   \n",
       "4                0.013714                    0.015193            -2.338130   \n",
       "\n",
       "   close_1day_w3_rsi  close_1day_w3_roc  volume_1day_w3_norm_std  ...  \\\n",
       "0                NaN                NaN                      NaN  ...   \n",
       "1                0.0                NaN                 0.371971  ...   \n",
       "2                0.0                NaN                 0.593813  ...   \n",
       "3                0.0          -0.041026                 0.417388  ...   \n",
       "4                0.0          -0.044951                 0.125592  ...   \n",
       "\n",
       "   close_1day_w100_ma_low_3std/close_1day  \\\n",
       "0                                     NaN   \n",
       "1                                0.973594   \n",
       "2                                0.963933   \n",
       "3                                0.960114   \n",
       "4                                0.957491   \n",
       "\n",
       "   close_1day_w100_ma_up_3std/close_1day  \\\n",
       "0                                    NaN   \n",
       "1                               1.042693   \n",
       "2                               1.073719   \n",
       "3                               1.077320   \n",
       "4                               1.105811   \n",
       "\n",
       "   volume_1day_w100_ma_low_2std/volume_1day  \\\n",
       "0                                       NaN   \n",
       "1                                  0.347443   \n",
       "2                                 -0.430695   \n",
       "3                                 -0.338032   \n",
       "4                                 -0.461107   \n",
       "\n",
       "   volume_1day_w100_ma_up_2std/volume_1day  \\\n",
       "0                                      NaN   \n",
       "1                                 2.366348   \n",
       "2                                 5.021688   \n",
       "3                                 3.587054   \n",
       "4                                 4.015840   \n",
       "\n",
       "   volume_1day_w100_ma_low_3std/volume_1day  \\\n",
       "0                                       NaN   \n",
       "1                                 -0.157283   \n",
       "2                                 -1.793790   \n",
       "3                                 -1.319303   \n",
       "4                                 -1.580344   \n",
       "\n",
       "   volume_1day_w100_ma_up_3std/volume_1day  \\\n",
       "0                                      NaN   \n",
       "1                                 2.871074   \n",
       "2                                 6.384783   \n",
       "3                                 4.568325   \n",
       "4                                 5.135077   \n",
       "\n",
       "   tmos_close_1day_w100_ma_low_2std/tmos_close_1day  \\\n",
       "0                                               NaN   \n",
       "1                                          0.981856   \n",
       "2                                          0.991655   \n",
       "3                                          0.986083   \n",
       "4                                          0.995477   \n",
       "\n",
       "   tmos_close_1day_w100_ma_up_2std/tmos_close_1day  \\\n",
       "0                                              NaN   \n",
       "1                                         1.008666   \n",
       "2                                         1.011527   \n",
       "3                                         1.005623   \n",
       "4                                         1.060681   \n",
       "\n",
       "   tmos_close_1day_w100_ma_low_3std/tmos_close_1day  \\\n",
       "0                                               NaN   \n",
       "1                                          0.975153   \n",
       "2                                          0.986687   \n",
       "3                                          0.981198   \n",
       "4                                          0.979176   \n",
       "\n",
       "   tmos_close_1day_w100_ma_up_3std/tmos_close_1day  \n",
       "0                                              NaN  \n",
       "1                                         1.015368  \n",
       "2                                         1.016496  \n",
       "3                                         1.010509  \n",
       "4                                         1.076981  \n",
       "\n",
       "[5 rows x 354 columns]"
      ]
     },
     "execution_count": 60,
     "metadata": {},
     "output_type": "execute_result"
    }
   ],
   "source": [
    "df_1day.head()"
   ]
  },
  {
   "cell_type": "code",
   "execution_count": 62,
   "id": "e77e6b46-39ec-4aa2-9472-bde5a91956d4",
   "metadata": {
    "id": "e77e6b46-39ec-4aa2-9472-bde5a91956d4"
   },
   "outputs": [
    {
     "data": {
      "text/plain": [
       "True"
      ]
     },
     "execution_count": 62,
     "metadata": {},
     "output_type": "execute_result"
    }
   ],
   "source": [
    "(df_1day['index'] == df_1day.index).all()"
   ]
  },
  {
   "cell_type": "code",
   "execution_count": null,
   "id": "28e28575-c36c-4be2-9733-6825e4faef46",
   "metadata": {
    "id": "28e28575-c36c-4be2-9733-6825e4faef46"
   },
   "outputs": [],
   "source": []
  },
  {
   "cell_type": "markdown",
   "id": "d4bdf3c8-1258-4555-9d7c-d063602f9a22",
   "metadata": {
    "id": "d4bdf3c8-1258-4555-9d7c-d063602f9a22"
   },
   "source": [
    "### Normalization data"
   ]
  },
  {
   "cell_type": "code",
   "execution_count": null,
   "id": "334045b5-9067-45b2-b813-afc63ec3ea4d",
   "metadata": {
    "id": "334045b5-9067-45b2-b813-afc63ec3ea4d"
   },
   "outputs": [],
   "source": []
  },
  {
   "cell_type": "code",
   "execution_count": 65,
   "id": "62e166c7-95ef-442d-a570-9374143680a7",
   "metadata": {
    "id": "62e166c7-95ef-442d-a570-9374143680a7"
   },
   "outputs": [],
   "source": [
    "from sklearn.preprocessing import StandardScaler\n",
    "\n",
    "cols_exclude_1hour = ['time', 'ticker',\n",
    "                     'index_1day',\n",
    "                     'result', 'delta_time', 'income_rate', 'res_price', 'res_ind']\n",
    "cols = df_1hour.columns[~df_1hour.columns.isin(cols_exclude_1hour)]\n",
    "\n",
    "#scaler = load_pkl('./scaler_1min.pkl')\n",
    "scaler = StandardScaler()\n",
    "df_1hour[cols] = scaler.fit_transform(df_1hour[cols])\n",
    "\n",
    "\n",
    "cols_exclude_1day = ['time', 'ticker', 'index']\n",
    "cols = df_1day.columns[~df_1day.columns.isin(cols_exclude_1day)]\n",
    "#scaler = load_pkl('./scaler_1day.pkl')\n",
    "scaler = StandardScaler()\n",
    "df_1day[cols] = scaler.fit_transform(df_1day[cols])"
   ]
  },
  {
   "cell_type": "code",
   "execution_count": null,
   "id": "e351d206-cc74-4814-9774-8c23f7de4dab",
   "metadata": {
    "id": "e351d206-cc74-4814-9774-8c23f7de4dab"
   },
   "outputs": [],
   "source": []
  },
  {
   "cell_type": "code",
   "execution_count": 68,
   "id": "kBB5RD46wGyz",
   "metadata": {
    "colab": {
     "base_uri": "https://localhost:8080/",
     "height": 649
    },
    "id": "kBB5RD46wGyz",
    "outputId": "af09d818-1e9b-475c-a067-d342a95802f4"
   },
   "outputs": [
    {
     "data": {
      "text/html": [
       "<div>\n",
       "<style scoped>\n",
       "    .dataframe tbody tr th:only-of-type {\n",
       "        vertical-align: middle;\n",
       "    }\n",
       "\n",
       "    .dataframe tbody tr th {\n",
       "        vertical-align: top;\n",
       "    }\n",
       "\n",
       "    .dataframe thead th {\n",
       "        text-align: right;\n",
       "    }\n",
       "</style>\n",
       "<table border=\"1\" class=\"dataframe\">\n",
       "  <thead>\n",
       "    <tr style=\"text-align: right;\">\n",
       "      <th></th>\n",
       "      <th>time</th>\n",
       "      <th>ticker</th>\n",
       "      <th>index_1day</th>\n",
       "      <th>close_w1_roc</th>\n",
       "      <th>volume_w1_roc</th>\n",
       "      <th>tmos_close_w1_roc</th>\n",
       "      <th>close_w5_norm_std</th>\n",
       "      <th>close_w5_mean_abs_pct</th>\n",
       "      <th>close_w5_alpha</th>\n",
       "      <th>close_w5_rsi</th>\n",
       "      <th>...</th>\n",
       "      <th>volume_w70_ma_up_3std/volume</th>\n",
       "      <th>tmos_close_w70_ma_low_2std/tmos_close</th>\n",
       "      <th>tmos_close_w70_ma_up_2std/tmos_close</th>\n",
       "      <th>tmos_close_w70_ma_low_3std/tmos_close</th>\n",
       "      <th>tmos_close_w70_ma_up_3std/tmos_close</th>\n",
       "      <th>result</th>\n",
       "      <th>delta_time</th>\n",
       "      <th>income_rate</th>\n",
       "      <th>res_price</th>\n",
       "      <th>res_ind</th>\n",
       "    </tr>\n",
       "  </thead>\n",
       "  <tbody>\n",
       "    <tr>\n",
       "      <th>0</th>\n",
       "      <td>2022-05-04 10:00:00</td>\n",
       "      <td>AFLT</td>\n",
       "      <td>NaN</td>\n",
       "      <td>NaN</td>\n",
       "      <td>NaN</td>\n",
       "      <td>NaN</td>\n",
       "      <td>NaN</td>\n",
       "      <td>NaN</td>\n",
       "      <td>NaN</td>\n",
       "      <td>NaN</td>\n",
       "      <td>...</td>\n",
       "      <td>NaN</td>\n",
       "      <td>NaN</td>\n",
       "      <td>NaN</td>\n",
       "      <td>NaN</td>\n",
       "      <td>NaN</td>\n",
       "      <td>LOSE</td>\n",
       "      <td>0 days 01:00:00</td>\n",
       "      <td>0.980000</td>\n",
       "      <td>31.38</td>\n",
       "      <td>1</td>\n",
       "    </tr>\n",
       "    <tr>\n",
       "      <th>1</th>\n",
       "      <td>2022-05-04 11:00:00</td>\n",
       "      <td>AFLT</td>\n",
       "      <td>NaN</td>\n",
       "      <td>-2.305671</td>\n",
       "      <td>-0.015524</td>\n",
       "      <td>-4.404205</td>\n",
       "      <td>1.444400</td>\n",
       "      <td>3.362782</td>\n",
       "      <td>0.008379</td>\n",
       "      <td>-1.853346</td>\n",
       "      <td>...</td>\n",
       "      <td>-0.048896</td>\n",
       "      <td>0.403972</td>\n",
       "      <td>0.326875</td>\n",
       "      <td>0.323029</td>\n",
       "      <td>0.268305</td>\n",
       "      <td>LOSE</td>\n",
       "      <td>1 days 05:00:00</td>\n",
       "      <td>0.980000</td>\n",
       "      <td>30.64</td>\n",
       "      <td>15</td>\n",
       "    </tr>\n",
       "    <tr>\n",
       "      <th>2</th>\n",
       "      <td>2022-05-04 12:00:00</td>\n",
       "      <td>AFLT</td>\n",
       "      <td>NaN</td>\n",
       "      <td>1.362708</td>\n",
       "      <td>-0.015285</td>\n",
       "      <td>1.259551</td>\n",
       "      <td>0.797340</td>\n",
       "      <td>2.496250</td>\n",
       "      <td>0.008408</td>\n",
       "      <td>-0.460359</td>\n",
       "      <td>...</td>\n",
       "      <td>-0.042941</td>\n",
       "      <td>0.426007</td>\n",
       "      <td>-0.082253</td>\n",
       "      <td>0.452242</td>\n",
       "      <td>-0.150380</td>\n",
       "      <td>LOSE</td>\n",
       "      <td>0 days 04:00:00</td>\n",
       "      <td>0.980000</td>\n",
       "      <td>31.16</td>\n",
       "      <td>6</td>\n",
       "    </tr>\n",
       "    <tr>\n",
       "      <th>3</th>\n",
       "      <td>2022-05-04 13:00:00</td>\n",
       "      <td>AFLT</td>\n",
       "      <td>NaN</td>\n",
       "      <td>-1.425464</td>\n",
       "      <td>-0.013823</td>\n",
       "      <td>-0.649730</td>\n",
       "      <td>0.780328</td>\n",
       "      <td>2.236283</td>\n",
       "      <td>0.008263</td>\n",
       "      <td>-0.848279</td>\n",
       "      <td>...</td>\n",
       "      <td>-0.044153</td>\n",
       "      <td>0.575180</td>\n",
       "      <td>-0.119222</td>\n",
       "      <td>0.612735</td>\n",
       "      <td>-0.211322</td>\n",
       "      <td>LOSE</td>\n",
       "      <td>1 days 03:00:00</td>\n",
       "      <td>0.980000</td>\n",
       "      <td>30.64</td>\n",
       "      <td>15</td>\n",
       "    </tr>\n",
       "    <tr>\n",
       "      <th>4</th>\n",
       "      <td>2022-05-04 14:00:00</td>\n",
       "      <td>AFLT</td>\n",
       "      <td>NaN</td>\n",
       "      <td>0.579694</td>\n",
       "      <td>-0.014365</td>\n",
       "      <td>-0.015317</td>\n",
       "      <td>0.591816</td>\n",
       "      <td>1.718484</td>\n",
       "      <td>0.008198</td>\n",
       "      <td>-0.564381</td>\n",
       "      <td>...</td>\n",
       "      <td>-0.042475</td>\n",
       "      <td>0.612370</td>\n",
       "      <td>-0.194841</td>\n",
       "      <td>0.670102</td>\n",
       "      <td>-0.293912</td>\n",
       "      <td>LOSE</td>\n",
       "      <td>1 days 02:00:00</td>\n",
       "      <td>0.980000</td>\n",
       "      <td>30.64</td>\n",
       "      <td>15</td>\n",
       "    </tr>\n",
       "    <tr>\n",
       "      <th>...</th>\n",
       "      <td>...</td>\n",
       "      <td>...</td>\n",
       "      <td>...</td>\n",
       "      <td>...</td>\n",
       "      <td>...</td>\n",
       "      <td>...</td>\n",
       "      <td>...</td>\n",
       "      <td>...</td>\n",
       "      <td>...</td>\n",
       "      <td>...</td>\n",
       "      <td>...</td>\n",
       "      <td>...</td>\n",
       "      <td>...</td>\n",
       "      <td>...</td>\n",
       "      <td>...</td>\n",
       "      <td>...</td>\n",
       "      <td>...</td>\n",
       "      <td>...</td>\n",
       "      <td>...</td>\n",
       "      <td>...</td>\n",
       "      <td>...</td>\n",
       "    </tr>\n",
       "    <tr>\n",
       "      <th>972606</th>\n",
       "      <td>2024-12-31 19:00:00</td>\n",
       "      <td>RBCM</td>\n",
       "      <td>85511.0</td>\n",
       "      <td>0.276301</td>\n",
       "      <td>-0.016336</td>\n",
       "      <td>-0.015317</td>\n",
       "      <td>-0.547249</td>\n",
       "      <td>-0.351327</td>\n",
       "      <td>0.010718</td>\n",
       "      <td>-0.593024</td>\n",
       "      <td>...</td>\n",
       "      <td>1.074095</td>\n",
       "      <td>-2.314725</td>\n",
       "      <td>-0.298581</td>\n",
       "      <td>-2.262411</td>\n",
       "      <td>0.060481</td>\n",
       "      <td>DNF</td>\n",
       "      <td>0 days 04:00:00</td>\n",
       "      <td>0.994460</td>\n",
       "      <td>10.77</td>\n",
       "      <td>972610</td>\n",
       "    </tr>\n",
       "    <tr>\n",
       "      <th>972607</th>\n",
       "      <td>2024-12-31 20:00:00</td>\n",
       "      <td>RBCM</td>\n",
       "      <td>85511.0</td>\n",
       "      <td>-0.528400</td>\n",
       "      <td>-0.016127</td>\n",
       "      <td>-0.015317</td>\n",
       "      <td>-0.487735</td>\n",
       "      <td>-0.420749</td>\n",
       "      <td>0.006872</td>\n",
       "      <td>-0.419187</td>\n",
       "      <td>...</td>\n",
       "      <td>6.721162</td>\n",
       "      <td>-2.278802</td>\n",
       "      <td>-0.266459</td>\n",
       "      <td>-2.234480</td>\n",
       "      <td>0.087440</td>\n",
       "      <td>DNF</td>\n",
       "      <td>0 days 03:00:00</td>\n",
       "      <td>0.999536</td>\n",
       "      <td>10.77</td>\n",
       "      <td>972610</td>\n",
       "    </tr>\n",
       "    <tr>\n",
       "      <th>972608</th>\n",
       "      <td>2024-12-31 21:00:00</td>\n",
       "      <td>RBCM</td>\n",
       "      <td>85511.0</td>\n",
       "      <td>0.419552</td>\n",
       "      <td>0.011552</td>\n",
       "      <td>-0.015317</td>\n",
       "      <td>-0.476186</td>\n",
       "      <td>-0.278442</td>\n",
       "      <td>0.011388</td>\n",
       "      <td>0.088231</td>\n",
       "      <td>...</td>\n",
       "      <td>0.622439</td>\n",
       "      <td>-2.235965</td>\n",
       "      <td>-0.238186</td>\n",
       "      <td>-2.198560</td>\n",
       "      <td>0.109409</td>\n",
       "      <td>DNF</td>\n",
       "      <td>0 days 02:00:00</td>\n",
       "      <td>0.995379</td>\n",
       "      <td>10.77</td>\n",
       "      <td>972610</td>\n",
       "    </tr>\n",
       "    <tr>\n",
       "      <th>972609</th>\n",
       "      <td>2024-12-31 22:00:00</td>\n",
       "      <td>RBCM</td>\n",
       "      <td>85511.0</td>\n",
       "      <td>-0.528881</td>\n",
       "      <td>0.000012</td>\n",
       "      <td>-0.015317</td>\n",
       "      <td>-0.426000</td>\n",
       "      <td>-0.207671</td>\n",
       "      <td>0.005481</td>\n",
       "      <td>-0.101191</td>\n",
       "      <td>...</td>\n",
       "      <td>0.059582</td>\n",
       "      <td>-2.189849</td>\n",
       "      <td>-0.212452</td>\n",
       "      <td>-2.158657</td>\n",
       "      <td>0.128286</td>\n",
       "      <td>DNF</td>\n",
       "      <td>0 days 01:00:00</td>\n",
       "      <td>1.000464</td>\n",
       "      <td>10.77</td>\n",
       "      <td>972610</td>\n",
       "    </tr>\n",
       "    <tr>\n",
       "      <th>972610</th>\n",
       "      <td>2024-12-31 23:00:00</td>\n",
       "      <td>RBCM</td>\n",
       "      <td>85511.0</td>\n",
       "      <td>0.039353</td>\n",
       "      <td>-0.016119</td>\n",
       "      <td>-0.015317</td>\n",
       "      <td>-0.392764</td>\n",
       "      <td>-0.260965</td>\n",
       "      <td>0.004366</td>\n",
       "      <td>-0.261360</td>\n",
       "      <td>...</td>\n",
       "      <td>0.622437</td>\n",
       "      <td>-2.140417</td>\n",
       "      <td>-0.189280</td>\n",
       "      <td>-2.114733</td>\n",
       "      <td>0.144042</td>\n",
       "      <td>DNF</td>\n",
       "      <td>0 days 00:00:00</td>\n",
       "      <td>1.000000</td>\n",
       "      <td>10.77</td>\n",
       "      <td>972610</td>\n",
       "    </tr>\n",
       "  </tbody>\n",
       "</table>\n",
       "<p>972611 rows × 231 columns</p>\n",
       "</div>"
      ],
      "text/plain": [
       "                      time ticker  index_1day  close_w1_roc  volume_w1_roc  \\\n",
       "0      2022-05-04 10:00:00   AFLT         NaN           NaN            NaN   \n",
       "1      2022-05-04 11:00:00   AFLT         NaN     -2.305671      -0.015524   \n",
       "2      2022-05-04 12:00:00   AFLT         NaN      1.362708      -0.015285   \n",
       "3      2022-05-04 13:00:00   AFLT         NaN     -1.425464      -0.013823   \n",
       "4      2022-05-04 14:00:00   AFLT         NaN      0.579694      -0.014365   \n",
       "...                    ...    ...         ...           ...            ...   \n",
       "972606 2024-12-31 19:00:00   RBCM     85511.0      0.276301      -0.016336   \n",
       "972607 2024-12-31 20:00:00   RBCM     85511.0     -0.528400      -0.016127   \n",
       "972608 2024-12-31 21:00:00   RBCM     85511.0      0.419552       0.011552   \n",
       "972609 2024-12-31 22:00:00   RBCM     85511.0     -0.528881       0.000012   \n",
       "972610 2024-12-31 23:00:00   RBCM     85511.0      0.039353      -0.016119   \n",
       "\n",
       "        tmos_close_w1_roc  close_w5_norm_std  close_w5_mean_abs_pct  \\\n",
       "0                     NaN                NaN                    NaN   \n",
       "1               -4.404205           1.444400               3.362782   \n",
       "2                1.259551           0.797340               2.496250   \n",
       "3               -0.649730           0.780328               2.236283   \n",
       "4               -0.015317           0.591816               1.718484   \n",
       "...                   ...                ...                    ...   \n",
       "972606          -0.015317          -0.547249              -0.351327   \n",
       "972607          -0.015317          -0.487735              -0.420749   \n",
       "972608          -0.015317          -0.476186              -0.278442   \n",
       "972609          -0.015317          -0.426000              -0.207671   \n",
       "972610          -0.015317          -0.392764              -0.260965   \n",
       "\n",
       "        close_w5_alpha  close_w5_rsi  ...  volume_w70_ma_up_3std/volume  \\\n",
       "0                  NaN           NaN  ...                           NaN   \n",
       "1             0.008379     -1.853346  ...                     -0.048896   \n",
       "2             0.008408     -0.460359  ...                     -0.042941   \n",
       "3             0.008263     -0.848279  ...                     -0.044153   \n",
       "4             0.008198     -0.564381  ...                     -0.042475   \n",
       "...                ...           ...  ...                           ...   \n",
       "972606        0.010718     -0.593024  ...                      1.074095   \n",
       "972607        0.006872     -0.419187  ...                      6.721162   \n",
       "972608        0.011388      0.088231  ...                      0.622439   \n",
       "972609        0.005481     -0.101191  ...                      0.059582   \n",
       "972610        0.004366     -0.261360  ...                      0.622437   \n",
       "\n",
       "        tmos_close_w70_ma_low_2std/tmos_close  \\\n",
       "0                                         NaN   \n",
       "1                                    0.403972   \n",
       "2                                    0.426007   \n",
       "3                                    0.575180   \n",
       "4                                    0.612370   \n",
       "...                                       ...   \n",
       "972606                              -2.314725   \n",
       "972607                              -2.278802   \n",
       "972608                              -2.235965   \n",
       "972609                              -2.189849   \n",
       "972610                              -2.140417   \n",
       "\n",
       "        tmos_close_w70_ma_up_2std/tmos_close  \\\n",
       "0                                        NaN   \n",
       "1                                   0.326875   \n",
       "2                                  -0.082253   \n",
       "3                                  -0.119222   \n",
       "4                                  -0.194841   \n",
       "...                                      ...   \n",
       "972606                             -0.298581   \n",
       "972607                             -0.266459   \n",
       "972608                             -0.238186   \n",
       "972609                             -0.212452   \n",
       "972610                             -0.189280   \n",
       "\n",
       "        tmos_close_w70_ma_low_3std/tmos_close  \\\n",
       "0                                         NaN   \n",
       "1                                    0.323029   \n",
       "2                                    0.452242   \n",
       "3                                    0.612735   \n",
       "4                                    0.670102   \n",
       "...                                       ...   \n",
       "972606                              -2.262411   \n",
       "972607                              -2.234480   \n",
       "972608                              -2.198560   \n",
       "972609                              -2.158657   \n",
       "972610                              -2.114733   \n",
       "\n",
       "        tmos_close_w70_ma_up_3std/tmos_close  result      delta_time  \\\n",
       "0                                        NaN    LOSE 0 days 01:00:00   \n",
       "1                                   0.268305    LOSE 1 days 05:00:00   \n",
       "2                                  -0.150380    LOSE 0 days 04:00:00   \n",
       "3                                  -0.211322    LOSE 1 days 03:00:00   \n",
       "4                                  -0.293912    LOSE 1 days 02:00:00   \n",
       "...                                      ...     ...             ...   \n",
       "972606                              0.060481     DNF 0 days 04:00:00   \n",
       "972607                              0.087440     DNF 0 days 03:00:00   \n",
       "972608                              0.109409     DNF 0 days 02:00:00   \n",
       "972609                              0.128286     DNF 0 days 01:00:00   \n",
       "972610                              0.144042     DNF 0 days 00:00:00   \n",
       "\n",
       "        income_rate  res_price  res_ind  \n",
       "0          0.980000      31.38        1  \n",
       "1          0.980000      30.64       15  \n",
       "2          0.980000      31.16        6  \n",
       "3          0.980000      30.64       15  \n",
       "4          0.980000      30.64       15  \n",
       "...             ...        ...      ...  \n",
       "972606     0.994460      10.77   972610  \n",
       "972607     0.999536      10.77   972610  \n",
       "972608     0.995379      10.77   972610  \n",
       "972609     1.000464      10.77   972610  \n",
       "972610     1.000000      10.77   972610  \n",
       "\n",
       "[972611 rows x 231 columns]"
      ]
     },
     "execution_count": 68,
     "metadata": {},
     "output_type": "execute_result"
    }
   ],
   "source": [
    "df_1hour"
   ]
  },
  {
   "cell_type": "code",
   "execution_count": 70,
   "id": "xeXCfzhbolTJ",
   "metadata": {
    "colab": {
     "base_uri": "https://localhost:8080/"
    },
    "id": "xeXCfzhbolTJ",
    "outputId": "3dcb7758-e8bf-4614-d745-5767209d577c"
   },
   "outputs": [
    {
     "data": {
      "text/plain": [
       "981.0988159179688"
      ]
     },
     "execution_count": 70,
     "metadata": {},
     "output_type": "execute_result"
    }
   ],
   "source": [
    "df_1hour[df_1hour.columns[~df_1hour.columns.isin(cols_exclude_1hour)]].abs().max().max()"
   ]
  },
  {
   "cell_type": "code",
   "execution_count": 72,
   "id": "_hEd_wI1DwAE",
   "metadata": {
    "colab": {
     "base_uri": "https://localhost:8080/"
    },
    "id": "_hEd_wI1DwAE",
    "outputId": "b178dab2-2978-4ffc-b23d-ee644052660c"
   },
   "outputs": [
    {
     "data": {
      "text/plain": [
       "292.422607421875"
      ]
     },
     "execution_count": 72,
     "metadata": {},
     "output_type": "execute_result"
    }
   ],
   "source": [
    "df_1day[df_1day.columns[~df_1day.columns.isin(cols_exclude_1day)]].abs().max().max()"
   ]
  },
  {
   "cell_type": "code",
   "execution_count": null,
   "id": "lwbnJ3DAnO3x",
   "metadata": {
    "id": "lwbnJ3DAnO3x"
   },
   "outputs": [],
   "source": []
  },
  {
   "cell_type": "code",
   "execution_count": 77,
   "id": "a0611864-8569-418a-a959-5ab39595b320",
   "metadata": {
    "id": "a0611864-8569-418a-a959-5ab39595b320"
   },
   "outputs": [],
   "source": [
    "df_1hour['target'] = (df_1hour['result'] == 'WIN').astype(int)"
   ]
  },
  {
   "cell_type": "code",
   "execution_count": 79,
   "id": "206263ce-b65e-40eb-8db5-252cc2fb8b09",
   "metadata": {
    "colab": {
     "base_uri": "https://localhost:8080/",
     "height": 600
    },
    "id": "206263ce-b65e-40eb-8db5-252cc2fb8b09",
    "outputId": "fd1e64db-e574-43bb-dac5-8750b70b9396"
   },
   "outputs": [
    {
     "data": {
      "text/plain": [
       "<Axes: xlabel='time'>"
      ]
     },
     "execution_count": 79,
     "metadata": {},
     "output_type": "execute_result"
    },
    {
     "data": {
      "image/png": "[encoded data removed]",
      "text/plain": [
       "<Figure size 640x480 with 1 Axes>"
      ]
     },
     "metadata": {},
     "output_type": "display_data"
    }
   ],
   "source": [
    "df_1hour[['time', 'target']].groupby(pd.Grouper(key='time', freq='ME')).target.count().plot.bar()"
   ]
  },
  {
   "cell_type": "code",
   "execution_count": 81,
   "id": "f3472da7-9d47-4cc9-9010-79813506b891",
   "metadata": {
    "colab": {
     "base_uri": "https://localhost:8080/",
     "height": 600
    },
    "id": "f3472da7-9d47-4cc9-9010-79813506b891",
    "outputId": "d1b721d6-63b2-4b5a-e54c-6411ed8bb5ed"
   },
   "outputs": [
    {
     "data": {
      "text/plain": [
       "<Axes: xlabel='time'>"
      ]
     },
     "execution_count": 81,
     "metadata": {},
     "output_type": "execute_result"
    },
    {
     "data": {
      "image/png": "[encoded data removed]",
      "text/plain": [
       "<Figure size 640x480 with 1 Axes>"
      ]
     },
     "metadata": {},
     "output_type": "display_data"
    }
   ],
   "source": [
    "df_1hour[['time', 'target']].groupby(pd.Grouper(key='time', freq='ME')).target.mean().plot.bar()"
   ]
  },
  {
   "cell_type": "code",
   "execution_count": 85,
   "id": "76a0d3ac-ea8e-4f05-919a-73bdeb4f467c",
   "metadata": {
    "id": "76a0d3ac-ea8e-4f05-919a-73bdeb4f467c"
   },
   "outputs": [
    {
     "data": {
      "text/plain": [
       "<Axes: xlabel='time'>"
      ]
     },
     "execution_count": 85,
     "metadata": {},
     "output_type": "execute_result"
    },
    {
     "data": {
      "image/png": "[encoded data removed]",
      "text/plain": [
       "<Figure size 640x480 with 1 Axes>"
      ]
     },
     "metadata": {},
     "output_type": "display_data"
    }
   ],
   "source": [
    "(df_1hour[['time', 'income_rate']].groupby(pd.Grouper(key='time', freq='ME')).income_rate.mean() -1).plot.bar()"
   ]
  },
  {
   "cell_type": "code",
   "execution_count": null,
   "id": "55a26eac-f05a-4789-abba-bbc5659bca6c",
   "metadata": {},
   "outputs": [],
   "source": []
  },
  {
   "cell_type": "code",
   "execution_count": null,
   "id": "2bd83a17-e071-4da3-bcc4-0d12dbad85fe",
   "metadata": {
    "id": "2bd83a17-e071-4da3-bcc4-0d12dbad85fe"
   },
   "outputs": [],
   "source": []
  },
  {
   "cell_type": "code",
   "execution_count": 200,
   "id": "91a9b3ab-3c5c-4ea7-93ca-32e75db8300e",
   "metadata": {
    "id": "91a9b3ab-3c5c-4ea7-93ca-32e75db8300e"
   },
   "outputs": [
    {
     "data": {
      "text/plain": [
       "(745724, 76495, 76398, 61912)"
      ]
     },
     "execution_count": 200,
     "metadata": {},
     "output_type": "execute_result"
    }
   ],
   "source": [
    "mask_train = np.array((pd.Timestamp('2022-01-01') <= df_1hour['time']) & (df_1hour['time'] < pd.Timestamp('2024-07-01')))\n",
    "mask_valid = np.array((pd.Timestamp('2024-07-01') <= df_1hour['time']) & (df_1hour['time'] < pd.Timestamp('2024-09-01')))\n",
    "mask_test = np.array((pd.Timestamp('2024-09-01') <= df_1hour['time']) & (df_1hour['time'] < pd.Timestamp('2024-11-01')))\n",
    "mask_test2 = np.array((pd.Timestamp('2024-11-01') <= df_1hour['time']) & (df_1hour['time'] < pd.Timestamp('2024-12-23')))\n",
    "\n",
    "mask_train.sum(), mask_valid.sum(), mask_test.sum(), mask_test2.sum()"
   ]
  },
  {
   "cell_type": "code",
   "execution_count": 202,
   "id": "89a7fb19-e7bc-4311-aadd-8a091f22bc67",
   "metadata": {
    "id": "89a7fb19-e7bc-4311-aadd-8a091f22bc67"
   },
   "outputs": [],
   "source": [
    "# некоторые акции имеют более короткую историю\n",
    "NEED_POINTS = 210\n",
    "mask_avbl_all = np.zeros_like(mask_train).astype(bool)\n",
    "for ticker in df_1hour[\"ticker\"].unique():\n",
    "    mask = np.array(df_1hour['ticker'] == ticker)\n",
    "    count_days = df_1hour.loc[mask, 'time'].dt.date.nunique()\n",
    "    if count_days < NEED_POINTS:\n",
    "        mask_avbl = np.zeros_like(mask_train).astype(bool)\n",
    "    else:\n",
    "        date_first_avbl =  np.sort(df_1hour.loc[mask, 'time'].dt.date.unique())[NEED_POINTS]\n",
    "        #print(date_first_avbl)\n",
    "        mask_avbl = np.array(df_1hour[\"time\"] >= pd.to_datetime(date_first_avbl))\n",
    "    \n",
    "    mask_ticker = np.array(df_1hour['ticker'] == ticker)\n",
    "    mask_avbl_ticker = mask_ticker & mask_avbl\n",
    "\n",
    "    mask_avbl_all |= mask_avbl_ticker\n",
    "\n",
    "mask_train &= mask_avbl_all\n",
    "mask_valid &= mask_avbl_all\n",
    "mask_test &= mask_avbl_all\n",
    "mask_test2 &= mask_avbl_all"
   ]
  },
  {
   "cell_type": "code",
   "execution_count": 204,
   "id": "56a0e857-537c-4cab-941d-9bd36088e951",
   "metadata": {
    "colab": {
     "base_uri": "https://localhost:8080/"
    },
    "id": "56a0e857-537c-4cab-941d-9bd36088e951",
    "outputId": "bb32ccf4-54ca-454a-ed8e-94b19f1c1078"
   },
   "outputs": [
    {
     "data": {
      "text/plain": [
       "(484921, 76495, 76398, 61912)"
      ]
     },
     "execution_count": 204,
     "metadata": {},
     "output_type": "execute_result"
    }
   ],
   "source": [
    "mask_train.sum(), mask_valid.sum(), mask_test.sum(), mask_test2.sum()"
   ]
  },
  {
   "cell_type": "code",
   "execution_count": null,
   "id": "7eae8ae0-7e15-41f6-9f79-218b6a94ded1",
   "metadata": {
    "id": "7eae8ae0-7e15-41f6-9f79-218b6a94ded1"
   },
   "outputs": [],
   "source": []
  },
  {
   "cell_type": "code",
   "execution_count": 207,
   "id": "9d034842-5335-4162-b271-467cfb9efc5a",
   "metadata": {
    "colab": {
     "base_uri": "https://localhost:8080/"
    },
    "id": "9d034842-5335-4162-b271-467cfb9efc5a",
    "outputId": "c4c57bc1-0e2e-416a-88b9-1f8c25d1d870"
   },
   "outputs": [
    {
     "data": {
      "text/plain": [
       "699726"
      ]
     },
     "execution_count": 207,
     "metadata": {},
     "output_type": "execute_result"
    }
   ],
   "source": [
    "mask_data = mask_train|mask_valid|mask_test|mask_test2\n",
    "(mask_data).sum()"
   ]
  },
  {
   "cell_type": "code",
   "execution_count": 209,
   "id": "e43d7543-daf2-495d-b4ea-15dd838d133c",
   "metadata": {
    "colab": {
     "base_uri": "https://localhost:8080/"
    },
    "id": "e43d7543-daf2-495d-b4ea-15dd838d133c",
    "outputId": "7793ead5-e7a4-4135-dbc1-9cff03206a1c"
   },
   "outputs": [
    {
     "data": {
      "text/plain": [
       "(0.6930155518017053,\n",
       " 0.10932136293349111,\n",
       " 0.10918273724286363,\n",
       " 0.08848034802194002)"
      ]
     },
     "execution_count": 209,
     "metadata": {},
     "output_type": "execute_result"
    }
   ],
   "source": [
    "mask_train.sum()/(mask_data).sum(), mask_valid.sum()/(mask_data).sum(), mask_test.sum()/(mask_data).sum(), mask_test2.sum()/(mask_data).sum()"
   ]
  },
  {
   "cell_type": "code",
   "execution_count": 211,
   "id": "cb46d1d9-fc8c-45c5-99e5-bf771bdb6ccc",
   "metadata": {
    "colab": {
     "base_uri": "https://localhost:8080/"
    },
    "id": "cb46d1d9-fc8c-45c5-99e5-bf771bdb6ccc",
    "outputId": "c38f0b99-c9e7-4f78-9a8e-cbcc2ff2b74f"
   },
   "outputs": [
    {
     "data": {
      "text/plain": [
       "(0.150641032250614,\n",
       " 0.12809987580887638,\n",
       " 0.1698342888557292,\n",
       " 0.19904057371753456)"
      ]
     },
     "execution_count": 211,
     "metadata": {},
     "output_type": "execute_result"
    }
   ],
   "source": [
    "df_1hour.loc[mask_train, 'target'].mean(), df_1hour.loc[mask_valid, 'target'].mean(), df_1hour.loc[mask_test, 'target'].mean(), df_1hour.loc[mask_test2, 'target'].mean()"
   ]
  },
  {
   "cell_type": "code",
   "execution_count": 213,
   "id": "c176dba9-2a64-4129-9de3-9f7515f0d9d7",
   "metadata": {
    "colab": {
     "base_uri": "https://localhost:8080/"
    },
    "id": "c176dba9-2a64-4129-9de3-9f7515f0d9d7",
    "outputId": "4eb66df1-0fcc-4d7b-88e6-cd79ad3d4528"
   },
   "outputs": [
    {
     "data": {
      "text/plain": [
       "(1.0022985874010764, 0.995977311733386, 1.0007246795405644, 1.0005853477255073)"
      ]
     },
     "execution_count": 213,
     "metadata": {},
     "output_type": "execute_result"
    }
   ],
   "source": [
    "df_1hour.loc[mask_train, 'income_rate'].mean(), df_1hour.loc[mask_valid, 'income_rate'].mean(), df_1hour.loc[mask_test, 'income_rate'].mean(), df_1hour.loc[mask_test2, 'income_rate'].mean()"
   ]
  },
  {
   "cell_type": "code",
   "execution_count": 215,
   "id": "b89d98db-d939-4ef2-bbc1-f1d31bf5cd15",
   "metadata": {
    "id": "b89d98db-d939-4ef2-bbc1-f1d31bf5cd15"
   },
   "outputs": [],
   "source": [
    "#проверки"
   ]
  },
  {
   "cell_type": "code",
   "execution_count": 217,
   "id": "4b37867a-0700-4508-b310-38dcabce67b3",
   "metadata": {
    "colab": {
     "base_uri": "https://localhost:8080/"
    },
    "id": "4b37867a-0700-4508-b310-38dcabce67b3",
    "outputId": "06f434c5-9295-46f2-889f-f282fa229fa8"
   },
   "outputs": [
    {
     "data": {
      "text/plain": [
       "True"
      ]
     },
     "execution_count": 217,
     "metadata": {},
     "output_type": "execute_result"
    }
   ],
   "source": [
    "(mask_train.sum()+mask_valid.sum()+mask_test.sum()+mask_test2.sum()) == mask_data.sum()"
   ]
  },
  {
   "cell_type": "code",
   "execution_count": null,
   "id": "ec2e95ec-fef3-49a2-8098-3824eb514908",
   "metadata": {
    "id": "ec2e95ec-fef3-49a2-8098-3824eb514908"
   },
   "outputs": [],
   "source": []
  },
  {
   "cell_type": "code",
   "execution_count": 220,
   "id": "f0ee2b61-f46b-4b29-b5f3-e6c08d9b953b",
   "metadata": {
    "id": "f0ee2b61-f46b-4b29-b5f3-e6c08d9b953b"
   },
   "outputs": [],
   "source": [
    "#indexes\n",
    "\n",
    "inds_train = df_1hour.index[mask_train].values\n",
    "inds_valid = df_1hour.index[mask_valid].values\n",
    "inds_test = df_1hour.index[mask_test].values\n",
    "inds_test2 = df_1hour.index[mask_test2].values"
   ]
  },
  {
   "cell_type": "code",
   "execution_count": 222,
   "id": "9ecf4f4e-a20d-485b-a6ab-6209a3bd3ea5",
   "metadata": {
    "colab": {
     "base_uri": "https://localhost:8080/"
    },
    "id": "9ecf4f4e-a20d-485b-a6ab-6209a3bd3ea5",
    "outputId": "c9028c88-e3bc-4606-9be8-dda4db85b4a4"
   },
   "outputs": [
    {
     "data": {
      "text/plain": [
       "array([  2471,   2472,   2473, ..., 970795, 970796, 970797])"
      ]
     },
     "execution_count": 222,
     "metadata": {},
     "output_type": "execute_result"
    }
   ],
   "source": [
    "inds_train"
   ]
  },
  {
   "cell_type": "code",
   "execution_count": null,
   "id": "cea07275-c394-4c37-942b-8657225aa772",
   "metadata": {
    "id": "cea07275-c394-4c37-942b-8657225aa772"
   },
   "outputs": [],
   "source": []
  },
  {
   "cell_type": "code",
   "execution_count": 225,
   "id": "59edcf5f-87da-4e09-b94a-6e84edd80e81",
   "metadata": {
    "id": "59edcf5f-87da-4e09-b94a-6e84edd80e81"
   },
   "outputs": [],
   "source": [
    "#проверим, что все индексы валидны\n",
    "#у каждой точки должно быть 100 точек назад (минут, 5минут, часов, дней)"
   ]
  },
  {
   "cell_type": "markdown",
   "id": "fe1d598a-a3fc-4035-a7ea-776dbf5260eb",
   "metadata": {
    "id": "fe1d598a-a3fc-4035-a7ea-776dbf5260eb"
   },
   "source": [
    "### 4. Model Khibiny"
   ]
  },
  {
   "cell_type": "code",
   "execution_count": 228,
   "id": "b0847cbe-4a05-4a27-83cc-ff97385a4553",
   "metadata": {
    "colab": {
     "base_uri": "https://localhost:8080/"
    },
    "id": "b0847cbe-4a05-4a27-83cc-ff97385a4553",
    "outputId": "94625e7c-d88d-4e76-abc9-5af60a65992c"
   },
   "outputs": [
    {
     "name": "stdout",
     "output_type": "stream",
     "text": [
      "TensorFlow version: 2.18.0\n"
     ]
    }
   ],
   "source": [
    "import tensorflow as tf\n",
    "print(\"TensorFlow version:\", tf.__version__)"
   ]
  },
  {
   "cell_type": "code",
   "execution_count": 230,
   "id": "ea01c083-550d-4c04-b7d3-6b14dcdf4a32",
   "metadata": {
    "id": "ea01c083-550d-4c04-b7d3-6b14dcdf4a32"
   },
   "outputs": [],
   "source": [
    "df_1hour['ticker_code'] = df_1hour['ticker'].astype('category').cat.codes"
   ]
  },
  {
   "cell_type": "code",
   "execution_count": 232,
   "id": "4763e92d-b573-407a-accf-b2af1cf85419",
   "metadata": {
    "colab": {
     "base_uri": "https://localhost:8080/",
     "height": 490
    },
    "id": "4763e92d-b573-407a-accf-b2af1cf85419",
    "outputId": "d337c2ab-4eb5-4edb-c4fe-e6a049bc3f82"
   },
   "outputs": [
    {
     "data": {
      "text/plain": [
       "ticker_code\n",
       "103    9389\n",
       "25     9176\n",
       "15     9176\n",
       "90     9176\n",
       "44     9176\n",
       "       ... \n",
       "4      6434\n",
       "87     6347\n",
       "16     6300\n",
       "119    6001\n",
       "124    5770\n",
       "Name: count, Length: 127, dtype: int64"
      ]
     },
     "execution_count": 232,
     "metadata": {},
     "output_type": "execute_result"
    }
   ],
   "source": [
    "df_1hour['ticker_code'].value_counts()"
   ]
  },
  {
   "cell_type": "code",
   "execution_count": 234,
   "id": "cc767f72-c361-4cc7-8b4b-afe2abd6dbda",
   "metadata": {
    "colab": {
     "base_uri": "https://localhost:8080/"
    },
    "id": "cc767f72-c361-4cc7-8b4b-afe2abd6dbda",
    "outputId": "009c09c3-cde7-4bc4-9135-cb9cb540e81e"
   },
   "outputs": [
    {
     "data": {
      "text/plain": [
       "126"
      ]
     },
     "execution_count": 234,
     "metadata": {},
     "output_type": "execute_result"
    }
   ],
   "source": [
    "df_1hour['ticker_code'].max()"
   ]
  },
  {
   "cell_type": "code",
   "execution_count": null,
   "id": "afBnMaADhzNg",
   "metadata": {
    "id": "afBnMaADhzNg"
   },
   "outputs": [],
   "source": []
  },
  {
   "cell_type": "code",
   "execution_count": 237,
   "id": "5dc4e0f3-13d6-4d3b-9b28-461351c6b2d8",
   "metadata": {
    "colab": {
     "base_uri": "https://localhost:8080/"
    },
    "id": "5dc4e0f3-13d6-4d3b-9b28-461351c6b2d8",
    "outputId": "a04ea42c-060e-4f1c-a114-80d2f7b5aa1e"
   },
   "outputs": [
    {
     "data": {
      "text/plain": [
       "126"
      ]
     },
     "execution_count": 237,
     "metadata": {},
     "output_type": "execute_result"
    }
   ],
   "source": [
    "df_1hour.loc[mask_train, 'ticker_code'].max()"
   ]
  },
  {
   "cell_type": "code",
   "execution_count": 239,
   "id": "vz7buHMyhacI",
   "metadata": {
    "colab": {
     "base_uri": "https://localhost:8080/"
    },
    "id": "vz7buHMyhacI",
    "outputId": "097b80a1-78f7-41d2-91af-bc3909216a60"
   },
   "outputs": [
    {
     "data": {
      "text/plain": [
       "2039"
      ]
     },
     "execution_count": 239,
     "metadata": {},
     "output_type": "execute_result"
    }
   ],
   "source": [
    "pd.set_option(\"display.max_rows\", 20)\n",
    "df_1hour.loc[mask_train, 'ticker_code'].value_counts().min()"
   ]
  },
  {
   "cell_type": "code",
   "execution_count": null,
   "id": "Fbmusqy1haei",
   "metadata": {
    "id": "Fbmusqy1haei"
   },
   "outputs": [],
   "source": []
  },
  {
   "cell_type": "code",
   "execution_count": 242,
   "id": "71d483dc-c3f4-4287-984e-236e5c40b975",
   "metadata": {
    "id": "71d483dc-c3f4-4287-984e-236e5c40b975"
   },
   "outputs": [],
   "source": [
    "#dict(enumerate(df_1hour['ticker'].astype('category').cat.categories))"
   ]
  },
  {
   "cell_type": "code",
   "execution_count": 244,
   "id": "ab22b290-0db5-4a61-8d5b-8a206103767d",
   "metadata": {
    "colab": {
     "base_uri": "https://localhost:8080/",
     "height": 374
    },
    "id": "ab22b290-0db5-4a61-8d5b-8a206103767d",
    "outputId": "88d50dad-8a3a-4e22-8745-6dfbf0407fbb"
   },
   "outputs": [
    {
     "data": {
      "text/html": [
       "<div>\n",
       "<style scoped>\n",
       "    .dataframe tbody tr th:only-of-type {\n",
       "        vertical-align: middle;\n",
       "    }\n",
       "\n",
       "    .dataframe tbody tr th {\n",
       "        vertical-align: top;\n",
       "    }\n",
       "\n",
       "    .dataframe thead th {\n",
       "        text-align: right;\n",
       "    }\n",
       "</style>\n",
       "<table border=\"1\" class=\"dataframe\">\n",
       "  <thead>\n",
       "    <tr style=\"text-align: right;\">\n",
       "      <th></th>\n",
       "      <th>time</th>\n",
       "      <th>ticker</th>\n",
       "      <th>index_1day</th>\n",
       "      <th>close_w1_roc</th>\n",
       "      <th>volume_w1_roc</th>\n",
       "      <th>tmos_close_w1_roc</th>\n",
       "      <th>close_w5_norm_std</th>\n",
       "      <th>close_w5_mean_abs_pct</th>\n",
       "      <th>close_w5_alpha</th>\n",
       "      <th>close_w5_rsi</th>\n",
       "      <th>...</th>\n",
       "      <th>tmos_close_w70_ma_up_2std/tmos_close</th>\n",
       "      <th>tmos_close_w70_ma_low_3std/tmos_close</th>\n",
       "      <th>tmos_close_w70_ma_up_3std/tmos_close</th>\n",
       "      <th>result</th>\n",
       "      <th>delta_time</th>\n",
       "      <th>income_rate</th>\n",
       "      <th>res_price</th>\n",
       "      <th>res_ind</th>\n",
       "      <th>target</th>\n",
       "      <th>ticker_code</th>\n",
       "    </tr>\n",
       "  </thead>\n",
       "  <tbody>\n",
       "    <tr>\n",
       "      <th>0</th>\n",
       "      <td>2022-05-04 10:00:00</td>\n",
       "      <td>AFLT</td>\n",
       "      <td>NaN</td>\n",
       "      <td>NaN</td>\n",
       "      <td>NaN</td>\n",
       "      <td>NaN</td>\n",
       "      <td>NaN</td>\n",
       "      <td>NaN</td>\n",
       "      <td>NaN</td>\n",
       "      <td>NaN</td>\n",
       "      <td>...</td>\n",
       "      <td>NaN</td>\n",
       "      <td>NaN</td>\n",
       "      <td>NaN</td>\n",
       "      <td>LOSE</td>\n",
       "      <td>0 days 01:00:00</td>\n",
       "      <td>0.98</td>\n",
       "      <td>31.38</td>\n",
       "      <td>1</td>\n",
       "      <td>0</td>\n",
       "      <td>3</td>\n",
       "    </tr>\n",
       "    <tr>\n",
       "      <th>1</th>\n",
       "      <td>2022-05-04 11:00:00</td>\n",
       "      <td>AFLT</td>\n",
       "      <td>NaN</td>\n",
       "      <td>-2.305671</td>\n",
       "      <td>-0.015524</td>\n",
       "      <td>-4.404205</td>\n",
       "      <td>1.444400</td>\n",
       "      <td>3.362782</td>\n",
       "      <td>0.008379</td>\n",
       "      <td>-1.853346</td>\n",
       "      <td>...</td>\n",
       "      <td>0.326875</td>\n",
       "      <td>0.323029</td>\n",
       "      <td>0.268305</td>\n",
       "      <td>LOSE</td>\n",
       "      <td>1 days 05:00:00</td>\n",
       "      <td>0.98</td>\n",
       "      <td>30.64</td>\n",
       "      <td>15</td>\n",
       "      <td>0</td>\n",
       "      <td>3</td>\n",
       "    </tr>\n",
       "    <tr>\n",
       "      <th>2</th>\n",
       "      <td>2022-05-04 12:00:00</td>\n",
       "      <td>AFLT</td>\n",
       "      <td>NaN</td>\n",
       "      <td>1.362708</td>\n",
       "      <td>-0.015285</td>\n",
       "      <td>1.259551</td>\n",
       "      <td>0.797340</td>\n",
       "      <td>2.496250</td>\n",
       "      <td>0.008408</td>\n",
       "      <td>-0.460359</td>\n",
       "      <td>...</td>\n",
       "      <td>-0.082253</td>\n",
       "      <td>0.452242</td>\n",
       "      <td>-0.150380</td>\n",
       "      <td>LOSE</td>\n",
       "      <td>0 days 04:00:00</td>\n",
       "      <td>0.98</td>\n",
       "      <td>31.16</td>\n",
       "      <td>6</td>\n",
       "      <td>0</td>\n",
       "      <td>3</td>\n",
       "    </tr>\n",
       "    <tr>\n",
       "      <th>3</th>\n",
       "      <td>2022-05-04 13:00:00</td>\n",
       "      <td>AFLT</td>\n",
       "      <td>NaN</td>\n",
       "      <td>-1.425464</td>\n",
       "      <td>-0.013823</td>\n",
       "      <td>-0.649730</td>\n",
       "      <td>0.780328</td>\n",
       "      <td>2.236283</td>\n",
       "      <td>0.008263</td>\n",
       "      <td>-0.848279</td>\n",
       "      <td>...</td>\n",
       "      <td>-0.119222</td>\n",
       "      <td>0.612735</td>\n",
       "      <td>-0.211322</td>\n",
       "      <td>LOSE</td>\n",
       "      <td>1 days 03:00:00</td>\n",
       "      <td>0.98</td>\n",
       "      <td>30.64</td>\n",
       "      <td>15</td>\n",
       "      <td>0</td>\n",
       "      <td>3</td>\n",
       "    </tr>\n",
       "    <tr>\n",
       "      <th>4</th>\n",
       "      <td>2022-05-04 14:00:00</td>\n",
       "      <td>AFLT</td>\n",
       "      <td>NaN</td>\n",
       "      <td>0.579694</td>\n",
       "      <td>-0.014365</td>\n",
       "      <td>-0.015317</td>\n",
       "      <td>0.591816</td>\n",
       "      <td>1.718484</td>\n",
       "      <td>0.008198</td>\n",
       "      <td>-0.564381</td>\n",
       "      <td>...</td>\n",
       "      <td>-0.194841</td>\n",
       "      <td>0.670102</td>\n",
       "      <td>-0.293912</td>\n",
       "      <td>LOSE</td>\n",
       "      <td>1 days 02:00:00</td>\n",
       "      <td>0.98</td>\n",
       "      <td>30.64</td>\n",
       "      <td>15</td>\n",
       "      <td>0</td>\n",
       "      <td>3</td>\n",
       "    </tr>\n",
       "  </tbody>\n",
       "</table>\n",
       "<p>5 rows × 233 columns</p>\n",
       "</div>"
      ],
      "text/plain": [
       "                 time ticker  index_1day  close_w1_roc  volume_w1_roc  \\\n",
       "0 2022-05-04 10:00:00   AFLT         NaN           NaN            NaN   \n",
       "1 2022-05-04 11:00:00   AFLT         NaN     -2.305671      -0.015524   \n",
       "2 2022-05-04 12:00:00   AFLT         NaN      1.362708      -0.015285   \n",
       "3 2022-05-04 13:00:00   AFLT         NaN     -1.425464      -0.013823   \n",
       "4 2022-05-04 14:00:00   AFLT         NaN      0.579694      -0.014365   \n",
       "\n",
       "   tmos_close_w1_roc  close_w5_norm_std  close_w5_mean_abs_pct  \\\n",
       "0                NaN                NaN                    NaN   \n",
       "1          -4.404205           1.444400               3.362782   \n",
       "2           1.259551           0.797340               2.496250   \n",
       "3          -0.649730           0.780328               2.236283   \n",
       "4          -0.015317           0.591816               1.718484   \n",
       "\n",
       "   close_w5_alpha  close_w5_rsi  ...  tmos_close_w70_ma_up_2std/tmos_close  \\\n",
       "0             NaN           NaN  ...                                   NaN   \n",
       "1        0.008379     -1.853346  ...                              0.326875   \n",
       "2        0.008408     -0.460359  ...                             -0.082253   \n",
       "3        0.008263     -0.848279  ...                             -0.119222   \n",
       "4        0.008198     -0.564381  ...                             -0.194841   \n",
       "\n",
       "   tmos_close_w70_ma_low_3std/tmos_close  \\\n",
       "0                                    NaN   \n",
       "1                               0.323029   \n",
       "2                               0.452242   \n",
       "3                               0.612735   \n",
       "4                               0.670102   \n",
       "\n",
       "   tmos_close_w70_ma_up_3std/tmos_close  result      delta_time  income_rate  \\\n",
       "0                                   NaN    LOSE 0 days 01:00:00         0.98   \n",
       "1                              0.268305    LOSE 1 days 05:00:00         0.98   \n",
       "2                             -0.150380    LOSE 0 days 04:00:00         0.98   \n",
       "3                             -0.211322    LOSE 1 days 03:00:00         0.98   \n",
       "4                             -0.293912    LOSE 1 days 02:00:00         0.98   \n",
       "\n",
       "   res_price  res_ind  target  ticker_code  \n",
       "0      31.38        1       0            3  \n",
       "1      30.64       15       0            3  \n",
       "2      31.16        6       0            3  \n",
       "3      30.64       15       0            3  \n",
       "4      30.64       15       0            3  \n",
       "\n",
       "[5 rows x 233 columns]"
      ]
     },
     "execution_count": 244,
     "metadata": {},
     "output_type": "execute_result"
    }
   ],
   "source": [
    "df_1hour.head()"
   ]
  },
  {
   "cell_type": "markdown",
   "id": "7dcb87a0-2104-44f2-bace-fe196494964f",
   "metadata": {
    "id": "7dcb87a0-2104-44f2-bace-fe196494964f"
   },
   "source": [
    "#### 4.1 PyDataset"
   ]
  },
  {
   "cell_type": "code",
   "execution_count": 247,
   "id": "cbcf5b43-e72d-4821-97b5-4cc40e19477c",
   "metadata": {
    "id": "cbcf5b43-e72d-4821-97b5-4cc40e19477c"
   },
   "outputs": [],
   "source": [
    "class CandleData:\n",
    "    def __init__(self, df_1hour, df_1day):\n",
    "        self.df_1hour = df_1hour\n",
    "        self.df_1day = df_1day\n",
    "        self.make_np_arr_data()\n",
    "\n",
    "    def make_np_arr_data(self):\n",
    "\n",
    "        #1hour\n",
    "        cols_exclude_1hour = ['time', 'ticker',\n",
    "                     'index_1day',\n",
    "                     'result', 'delta_time', 'income_rate', 'res_price', 'res_ind'] + ['target', 'ticker_code']\n",
    "        cols_arr_1hour = self.df_1hour.columns[~self.df_1hour.columns.isin(cols_exclude_1hour)]\n",
    "        self.arr_1hour = np.array(self.df_1hour[cols_arr_1hour])\n",
    "\n",
    "        #cols index_slice\n",
    "        self.index_time_slice_1hour = self.df_1hour['index_1day'].values\n",
    "\n",
    "        #cols ticker\n",
    "        self.ticker_code_1hour = self.df_1hour['ticker_code'].values\n",
    "\n",
    "\n",
    "        #1day\n",
    "        cols_exclude_1day = ['time', 'ticker', 'index']\n",
    "        cols_arr_1day = self.df_1day.columns[~self.df_1day.columns.isin(cols_exclude_1day)]\n",
    "        self.arr_1day = np.array(self.df_1day[cols_arr_1day])\n",
    "\n",
    "        #target\n",
    "        self.target_1hour = self.df_1hour['target'].values\n",
    "\n",
    "        #income_rate\n",
    "        self.income_rate_1hour = self.df_1hour['income_rate'].values"
   ]
  },
  {
   "cell_type": "code",
   "execution_count": null,
   "id": "31a16cba-4e8d-4bf4-bdea-af358d1c6e56",
   "metadata": {
    "id": "31a16cba-4e8d-4bf4-bdea-af358d1c6e56"
   },
   "outputs": [],
   "source": []
  },
  {
   "cell_type": "code",
   "execution_count": 250,
   "id": "2d1df1f7-5299-4e3d-9810-bb1fc4572335",
   "metadata": {
    "id": "2d1df1f7-5299-4e3d-9810-bb1fc4572335"
   },
   "outputs": [],
   "source": [
    "class dataset(tf.keras.utils.PyDataset):\n",
    "\n",
    "    def __init__(self, data, inds, count_samples=None, len_seq=100,  batch_size=32, shuffle=False, **kwargs):\n",
    "        super().__init__(**kwargs)\n",
    "        self.data = data\n",
    "        self.inds = inds\n",
    "        self.len_seq = len_seq\n",
    "        self.batch_size = batch_size\n",
    "\n",
    "        self.count_samples = count_samples\n",
    "        if self.count_samples is not None:\n",
    "            self.inds = np.random.RandomState(seed=42).permutation(self.inds)\n",
    "\n",
    "        self.shuffle = shuffle\n",
    "        if self.shuffle:\n",
    "            self.inds = np.random.permutation(self.inds)\n",
    "\n",
    "    def __len__(self):\n",
    "        # Return number of batches.\n",
    "        if self.count_samples is None:\n",
    "            return math.ceil(len(self.inds) / self.batch_size)\n",
    "        else:\n",
    "            return math.ceil(self.count_samples / self.batch_size)\n",
    "\n",
    "    def __getitem__(self, idx):\n",
    "        # Return x, y for batch idx.\n",
    "        low = idx * self.batch_size\n",
    "        # Cap upper bound at array length; the last batch may be smaller\n",
    "        # if the total number of items is not a multiple of batch size.\n",
    "        high = min(low + self.batch_size, len(self.inds))\n",
    "        batch_inds = self.inds[low:high]\n",
    "\n",
    "\n",
    "        x_batch = []\n",
    "        x_batch_ticker_code = []\n",
    "        y_batch = []\n",
    "\n",
    "        for i in batch_inds:\n",
    "            # cols_index_time_slice = ['index_start',\n",
    "            #                  'index_1day', 'index_start_1day']\n",
    "\n",
    "            #1hour\n",
    "            ind_high_1hour = i+1\n",
    "            ind_low_1hour = int(ind_high_1hour - self.len_seq)\n",
    "            tensor_1hour = self.data.arr_1hour[ind_low_1hour:ind_high_1hour, :]\n",
    "\n",
    "            #1day\n",
    "            ind_high_1day = int(self.data.index_time_slice_1hour[i] + 1)\n",
    "            ind_low_1day =  int(ind_high_1day - self.len_seq)\n",
    "            tensor_1day = self.data.arr_1day[ind_low_1day:ind_high_1day, :]\n",
    "\n",
    "            #target\n",
    "            y = self.data.target_1hour[i]\n",
    "\n",
    "            #ticker\n",
    "            ticker_code = self.data.ticker_code_1hour[i]\n",
    "\n",
    "\n",
    "            x = np.concatenate((tensor_1hour, tensor_1day), axis=1)\n",
    "\n",
    "            x_batch += [x]\n",
    "            x_batch_ticker_code += [ticker_code]\n",
    "            y_batch += [y]\n",
    "\n",
    "        #return {'input_numeric':  np.array(x_batch), 'input_ticker' : np.array(x_batch_ticker_code)}, np.array(y_batch)\n",
    "        return np.array(x_batch), np.array(y_batch)\n",
    "\n",
    "\n",
    "    def on_epoch_end(self):\n",
    "        if self.shuffle:\n",
    "            self.inds = np.random.permutation(self.inds)"
   ]
  },
  {
   "cell_type": "code",
   "execution_count": null,
   "id": "731f5a41-0996-4159-b956-b0a9910233cd",
   "metadata": {
    "id": "731f5a41-0996-4159-b956-b0a9910233cd"
   },
   "outputs": [],
   "source": []
  },
  {
   "cell_type": "code",
   "execution_count": null,
   "id": "b1cebdf7-2c33-4ba7-872d-2facc4d65ed9",
   "metadata": {
    "id": "b1cebdf7-2c33-4ba7-872d-2facc4d65ed9"
   },
   "outputs": [],
   "source": []
  },
  {
   "cell_type": "code",
   "execution_count": null,
   "id": "5e9f5738-3bb1-4095-9b03-749592172d2d",
   "metadata": {
    "id": "5e9f5738-3bb1-4095-9b03-749592172d2d"
   },
   "outputs": [],
   "source": []
  },
  {
   "cell_type": "code",
   "execution_count": null,
   "id": "9a568874-9a49-4b7c-9bd6-02de14a41c8c",
   "metadata": {
    "id": "9a568874-9a49-4b7c-9bd6-02de14a41c8c"
   },
   "outputs": [],
   "source": []
  },
  {
   "cell_type": "code",
   "execution_count": 256,
   "id": "e5b555f9-e9c7-4464-b0f8-2323c48d1a0d",
   "metadata": {
    "colab": {
     "base_uri": "https://localhost:8080/"
    },
    "id": "e5b555f9-e9c7-4464-b0f8-2323c48d1a0d",
    "outputId": "840a5b9c-b18a-4150-827e-b0c98c61bc81"
   },
   "outputs": [
    {
     "data": {
      "text/plain": [
       "(484921, 76495, 76398, 61912)"
      ]
     },
     "execution_count": 256,
     "metadata": {},
     "output_type": "execute_result"
    }
   ],
   "source": [
    "mask_train.sum(), mask_valid.sum(), mask_test.sum(), mask_test2.sum()"
   ]
  },
  {
   "cell_type": "code",
   "execution_count": 258,
   "id": "620afaf9-f0af-48ab-b66a-8382bb89372e",
   "metadata": {
    "colab": {
     "base_uri": "https://localhost:8080/"
    },
    "id": "620afaf9-f0af-48ab-b66a-8382bb89372e",
    "outputId": "4b307272-e592-4b5d-af0d-c1fceda15e84"
   },
   "outputs": [
    {
     "data": {
      "text/plain": [
       "(7576, 1195, 1193, 967)"
      ]
     },
     "execution_count": 258,
     "metadata": {},
     "output_type": "execute_result"
    }
   ],
   "source": [
    "batch_size = 64\n",
    "mask_train.sum()//batch_size, mask_valid.sum()//batch_size, mask_test.sum()//batch_size, mask_test2.sum()//batch_size"
   ]
  },
  {
   "cell_type": "code",
   "execution_count": 260,
   "id": "e882a733-72ce-40dc-ae5a-4e8d6a998d31",
   "metadata": {
    "id": "e882a733-72ce-40dc-ae5a-4e8d6a998d31"
   },
   "outputs": [],
   "source": [
    "data = CandleData(df_1hour, df_1day)\n",
    "\n",
    "\n",
    "dataset_train = dataset(data, inds_train, count_samples=None, len_seq=100, batch_size=batch_size, shuffle=True)\n",
    "dataset_valid = dataset(data, inds_valid, count_samples=None, len_seq=100, batch_size=batch_size, shuffle=False)\n",
    "dataset_test = dataset(data, inds_test, count_samples=None, len_seq=100, batch_size=batch_size, shuffle=False)\n",
    "dataset_test2 = dataset(data, inds_test2, count_samples=None, len_seq=100, batch_size=batch_size, shuffle=False)"
   ]
  },
  {
   "cell_type": "code",
   "execution_count": 261,
   "id": "535ea209-b85f-45cf-8acf-4a1920663cad",
   "metadata": {
    "colab": {
     "base_uri": "https://localhost:8080/"
    },
    "id": "535ea209-b85f-45cf-8acf-4a1920663cad",
    "outputId": "f31af18a-af6f-4d4a-b53c-bef708fffd18"
   },
   "outputs": [
    {
     "data": {
      "text/plain": [
       "(7577, 1196, 1194, 968)"
      ]
     },
     "execution_count": 261,
     "metadata": {},
     "output_type": "execute_result"
    }
   ],
   "source": [
    "len(dataset_train), len(dataset_valid), len(dataset_test), len(dataset_test2)"
   ]
  },
  {
   "cell_type": "code",
   "execution_count": 262,
   "id": "9529f2f0-1dec-4112-b04a-9c5240379f6a",
   "metadata": {
    "colab": {
     "base_uri": "https://localhost:8080/"
    },
    "id": "9529f2f0-1dec-4112-b04a-9c5240379f6a",
    "outputId": "4488f6f6-6f9b-4eac-b35b-b14c84e94b4d"
   },
   "outputs": [
    {
     "data": {
      "text/plain": [
       "(484928, 76544, 76416, 61952)"
      ]
     },
     "execution_count": 262,
     "metadata": {},
     "output_type": "execute_result"
    }
   ],
   "source": [
    "len(dataset_train)*dataset_train.batch_size, len(dataset_valid)*dataset_valid.batch_size, len(dataset_test)*dataset_test.batch_size, len(dataset_test2)*dataset_test2.batch_size"
   ]
  },
  {
   "cell_type": "code",
   "execution_count": null,
   "id": "e60dc6d7-d7ff-4d3a-b8e4-dbe111aaaec9",
   "metadata": {
    "id": "e60dc6d7-d7ff-4d3a-b8e4-dbe111aaaec9"
   },
   "outputs": [],
   "source": []
  },
  {
   "cell_type": "markdown",
   "id": "3cf6eeff-03a2-4432-9238-bdd15cc60725",
   "metadata": {
    "id": "3cf6eeff-03a2-4432-9238-bdd15cc60725"
   },
   "source": [
    "#### 4.2 Model"
   ]
  },
  {
   "cell_type": "code",
   "execution_count": 265,
   "id": "eebc5b70-5606-4ff1-9a98-c9ce68a5c076",
   "metadata": {
    "id": "eebc5b70-5606-4ff1-9a98-c9ce68a5c076"
   },
   "outputs": [],
   "source": [
    "import math\n",
    "import numpy as np\n",
    "import pandas as pd\n",
    "\n",
    "import tensorflow as tf\n",
    "from tensorflow.keras.models import Model\n",
    "from tensorflow.keras.callbacks import ModelCheckpoint\n",
    "from tensorflow.keras.layers import Input, Dense, Dropout, LayerNormalization, MultiHeadAttention, Add, GlobalAveragePooling1D\n",
    "\n",
    "\n",
    "\n",
    "def transformer_encoder(inputs, head_size, num_heads, ff_dim, dropout=0):\n",
    "    # Attention and Normalization\n",
    "    x = LayerNormalization(epsilon=1e-6)(inputs)\n",
    "    x = MultiHeadAttention(key_dim=head_size, num_heads=num_heads, dropout=dropout)(x, x)\n",
    "    x = Add()([x, inputs])\n",
    "\n",
    "    # Feed Forward Part\n",
    "    y = LayerNormalization(epsilon=1e-6)(x)\n",
    "    y = Dense(ff_dim, activation=\"relu\")(y)\n",
    "    y = Dropout(dropout)(y)\n",
    "    y = Dense(inputs.shape[-1])(y)\n",
    "    return Add()([y, x])\n",
    "\n",
    "\n",
    "def build_transformer_model(input_shape, head_size, num_heads, ff_dim, num_layers, dropout=0):\n",
    "    inputs = Input(shape=input_shape)\n",
    "    x = inputs\n",
    "    for _ in range(num_layers):\n",
    "        x = transformer_encoder(x, head_size, num_heads, ff_dim, dropout)\n",
    "    x = GlobalAveragePooling1D()(x)\n",
    "    x = LayerNormalization(epsilon=1e-6)(x)\n",
    "    outputs = Dense(1, activation=\"sigmoid\")(x)\n",
    "    return Model(inputs=inputs, outputs=outputs)\n",
    "\n",
    "\n",
    "# def build_transformer_model(input_shape, head_size, num_heads, ff_dim, num_layers, dropout=0):\n",
    "#     input_num = tf.keras.layers.Input(shape=input_shape, name='input_numeric')\n",
    "\n",
    "#     ticker_size = 127 #count of stocks\n",
    "#     input_emb = tf.keras.layers.Input(shape=(1,), name='input_ticker')\n",
    "#     emb = tf.keras.layers.Embedding(ticker_size, 7) (input_emb)\n",
    "#     emb_reshaped = tf.keras.layers.Reshape(target_shape=(7,))(emb)\n",
    "#     emb_reshaped_repeat = tf.keras.layers.RepeatVector(input_shape[0])(emb_reshaped)\n",
    "\n",
    "#     x = tf.keras.layers.concatenate([input_num, emb_reshaped_repeat])\n",
    "\n",
    "#     for _ in range(num_layers):\n",
    "#         x = transformer_encoder(x, head_size, num_heads, ff_dim, dropout)\n",
    "#     x = GlobalAveragePooling1D()(x)\n",
    "#     x = LayerNormalization(epsilon=1e-6)(x)\n",
    "\n",
    "#     outputs = Dense(1, activation=\"sigmoid\")(x)\n",
    "\n",
    "#     return Model(inputs=[input_num, input_emb], outputs=outputs)\n",
    "\n",
    "# def build_transformer_model(input_shape, head_size, num_heads, ff_dim, num_layers, dropout=0):\n",
    "#     input_num = tf.keras.layers.Input(shape=input_shape, name='input_numeric')\n",
    "\n",
    "\n",
    "\n",
    "#     x = input_num\n",
    "\n",
    "#     for _ in range(num_layers):\n",
    "#         x = transformer_encoder(x, head_size, num_heads, ff_dim, dropout)\n",
    "#     x = GlobalAveragePooling1D()(x)\n",
    "#     x = LayerNormalization(epsilon=1e-6)(x)\n",
    "\n",
    "\n",
    "#     ticker_size = 18 #count of stocks\n",
    "#     input_emb = tf.keras.layers.Input(shape=(1,), name='input_ticker')\n",
    "#     emb = tf.keras.layers.Embedding(ticker_size, 4) (input_emb)\n",
    "#     emb = tf.keras.layers.Reshape(target_shape=(4,))(emb)\n",
    "\n",
    "#     x = tf.keras.layers.concatenate([x, emb])\n",
    "\n",
    "#     outputs = Dense(1, activation=\"sigmoid\")(x)\n",
    "\n",
    "#     return Model(inputs=[input_num, input_emb], outputs=outputs)"
   ]
  },
  {
   "cell_type": "code",
   "execution_count": null,
   "id": "a779075b-6b41-4dc3-ae5d-55b29b0a83a4",
   "metadata": {
    "id": "a779075b-6b41-4dc3-ae5d-55b29b0a83a4"
   },
   "outputs": [],
   "source": []
  },
  {
   "cell_type": "code",
   "execution_count": null,
   "id": "24e87430-2588-4435-87c5-35720a25ab85",
   "metadata": {
    "id": "24e87430-2588-4435-87c5-35720a25ab85"
   },
   "outputs": [],
   "source": []
  },
  {
   "cell_type": "markdown",
   "id": "5c3029d2-759b-45a0-b7b0-c55abe1597cc",
   "metadata": {
    "id": "5c3029d2-759b-45a0-b7b0-c55abe1597cc"
   },
   "source": [
    "#### 4.3 WarmUpCosineDecay"
   ]
  },
  {
   "cell_type": "code",
   "execution_count": 273,
   "id": "fc9bdc1f-770b-4af1-ac3f-de0b9984a8ea",
   "metadata": {
    "id": "fc9bdc1f-770b-4af1-ac3f-de0b9984a8ea"
   },
   "outputs": [],
   "source": [
    "from tensorflow import keras\n",
    "\n",
    "def lr_warmup_cosine_decay(global_step,\n",
    "                           warmup_steps,\n",
    "                           hold = 0,\n",
    "                           total_steps=0,\n",
    "                           start_lr=0.0,\n",
    "                           target_lr=1e-3):\n",
    "    # Cosine decay\n",
    "    # There is no tf.pi so we wrap np.pi as a TF constant\n",
    "    #learning_rate = 0.5 * target_lr * (1 + tf.cos(tf.constant(np.pi) * (global_step - warmup_steps - hold) / float(total_steps - warmup_steps - hold)))\n",
    "    learning_rate = 0.5 * target_lr * (1 + tf.cos(tf.constant(np.pi) * tf.cast((global_step - warmup_steps - hold), tf.float32) / tf.cast(total_steps - warmup_steps - hold, tf.float32)))\n",
    "\n",
    "\n",
    "    # Target LR * progress of warmup (=1 at the final warmup step)\n",
    "    warmup_lr = target_lr * (global_step / warmup_steps)\n",
    "\n",
    "    # Choose between `warmup_lr`, `target_lr` and `learning_rate` based on whether `global_step < warmup_steps` and we're still holding.\n",
    "    # i.e. warm up if we're still warming up and use cosine decayed lr otherwise\n",
    "    if hold > 0:\n",
    "        learning_rate = tf.where(global_step > warmup_steps + hold,\n",
    "                                 learning_rate, target_lr)\n",
    "\n",
    "    learning_rate = tf.where(global_step < warmup_steps, warmup_lr, learning_rate)\n",
    "\n",
    "    return learning_rate\n",
    "\n",
    "\n",
    "class WarmUpCosineDecay(keras.optimizers.schedules.LearningRateSchedule):\n",
    "    def __init__(self, start_lr, target_lr, warmup_steps, total_steps, hold):\n",
    "        super().__init__()\n",
    "        self.start_lr = start_lr\n",
    "        self.target_lr = target_lr\n",
    "        self.warmup_steps = warmup_steps\n",
    "        self.total_steps = total_steps\n",
    "        self.hold = hold\n",
    "\n",
    "    def __call__(self, step):\n",
    "        lr = lr_warmup_cosine_decay(global_step=step,\n",
    "                                    total_steps=self.total_steps,\n",
    "                                    warmup_steps=self.warmup_steps,\n",
    "                                    start_lr=self.start_lr,\n",
    "                                    target_lr=self.target_lr,\n",
    "                                    hold=self.hold)\n",
    "\n",
    "        return tf.where(\n",
    "            step > self.total_steps, 0.0, lr, name=\"learning_rate\"\n",
    "        )\n",
    "    def get_config(self):\n",
    "        config = {\n",
    "          'start_lr': self.start_lr,\n",
    "          'target_lr': self.target_lr,\n",
    "          'warmup_steps': self.warmup_steps,\n",
    "          'total_steps': self.total_steps,\n",
    "          'hold': self.hold\n",
    "        }\n",
    "        return config\n",
    "\n"
   ]
  },
  {
   "cell_type": "code",
   "execution_count": null,
   "id": "2895fde1-004c-4432-8e07-31854dc32e17",
   "metadata": {
    "id": "2895fde1-004c-4432-8e07-31854dc32e17"
   },
   "outputs": [],
   "source": []
  },
  {
   "cell_type": "markdown",
   "id": "2785b48a-7912-4e28-9b81-01f2102ac9c1",
   "metadata": {
    "id": "2785b48a-7912-4e28-9b81-01f2102ac9c1"
   },
   "source": [
    "#### 4.4 Callbacks"
   ]
  },
  {
   "cell_type": "code",
   "execution_count": 277,
   "id": "57f56ee3-4de3-427e-a945-d6254ca32ad7",
   "metadata": {
    "id": "57f56ee3-4de3-427e-a945-d6254ca32ad7"
   },
   "outputs": [],
   "source": [
    "# метрики на конец эпохи"
   ]
  },
  {
   "cell_type": "code",
   "execution_count": 279,
   "id": "3d0f7791-22e4-41e8-b8c4-e3dbe55b68b5",
   "metadata": {
    "id": "3d0f7791-22e4-41e8-b8c4-e3dbe55b68b5"
   },
   "outputs": [],
   "source": [
    "def get_y_true(data):\n",
    "    return data.data.target_1hour[data.inds[:len(data)*data.batch_size]]\n",
    "def get_income_rate(data):\n",
    "    return data.data.income_rate_1hour[data.inds[:len(data)*data.batch_size]]\n",
    "\n",
    "def precision(y_true, y_pred, threshold):\n",
    "    mask = y_pred.ravel() > threshold\n",
    "    return mask.sum(), y_true.ravel()[mask].mean()\n",
    "\n",
    "\n",
    "\n",
    "class MetricsCallback(keras.callbacks.Callback):\n",
    "    def __init__(self, datasets):\n",
    "        self.datasets = datasets\n",
    "        self.list_auc = []\n",
    "        self.list_auc_95 = []\n",
    "        self.list_precision = []\n",
    "        self.list_precision_5 = []\n",
    "        self.list_income_rate = []\n",
    "        self.list_income_rate_5 = []\n",
    "        # self.list_percent = []\n",
    "        # self.list_count = []\n",
    "        super(MetricsCallback, self).__init__()\n",
    "\n",
    "    def on_epoch_end(self, epoch, logs=None):\n",
    "\n",
    "        list_y_true = []\n",
    "        list_y_pred = []\n",
    "\n",
    "        list_auc = []\n",
    "        list_auc_95 = []\n",
    "        list_precision = []\n",
    "        list_precision_5 = []\n",
    "        list_income_rate = []\n",
    "        list_income_rate_5 = []\n",
    "        # list_count = []\n",
    "        # list_percent = []\n",
    "        for dataset in self.datasets:\n",
    "            y_true = get_y_true(dataset)\n",
    "            income_rate = get_income_rate(dataset)\n",
    "            y_pred = self.model.predict(dataset)\n",
    "\n",
    "            list_auc += [roc_auc_score(y_true, y_pred)]\n",
    "\n",
    "            #auc_95\n",
    "            threshold = np.quantile(y_pred, q=0.95)\n",
    "            mask = y_pred.ravel() > threshold\n",
    "            list_auc_95 += [roc_auc_score(y_true.ravel()[mask], y_pred.ravel()[mask])]\n",
    "\n",
    "            #precision\n",
    "            threshold = np.quantile(y_pred, q=0.99)\n",
    "            mask = y_pred.ravel() > threshold\n",
    "            list_precision += [y_true.ravel()[mask].mean()]\n",
    "\n",
    "            threshold = np.quantile(y_pred, q=0.95)\n",
    "            mask = y_pred.ravel() > threshold\n",
    "            list_precision_5 += [y_true.ravel()[mask].mean()]\n",
    "\n",
    "            #income_rate\n",
    "            threshold = np.quantile(y_pred, q=0.99)\n",
    "            mask = y_pred.ravel() > threshold\n",
    "            list_income_rate += [income_rate.ravel()[mask].mean()]\n",
    "\n",
    "            threshold = np.quantile(y_pred, q=0.95)\n",
    "            mask = y_pred.ravel() > threshold\n",
    "            list_income_rate_5 += [income_rate.ravel()[mask].mean()]\n",
    "\n",
    "\n",
    "#evaluate using one threshold\n",
    "        # for dataset in self.datasets:\n",
    "        #     y_true = get_y_true(dataset)\n",
    "        #     y_pred = self.model.predict(dataset)\n",
    "\n",
    "        #     list_y_true += [y_true]\n",
    "        #     list_y_pred += [y_pred]\n",
    "\n",
    "\n",
    "        # threshold = np.quantile(list_y_pred[1], q=0.99)\n",
    "\n",
    "        # for y_true, y_pred in zip(list_y_true, list_y_pred):\n",
    "        #     list_auc += [roc_auc_score(y_true, y_pred)]\n",
    "\n",
    "        #     mask = y_pred.ravel() > threshold\n",
    "        #     list_precision += [y_true.ravel()[mask].mean()]\n",
    "        #     list_count += [mask.sum()]\n",
    "        #     list_percent += [mask.mean()]\n",
    "\n",
    "        # del list_y_true, list_y_pred\n",
    "        # gc.collect()\n",
    "\n",
    "\n",
    "\n",
    "        self.list_auc += [list_auc.copy()]\n",
    "        self.list_auc_95 += [list_auc_95.copy()]\n",
    "        self.list_precision += [list_precision.copy()]\n",
    "        self.list_precision_5 += [list_precision_5.copy()]\n",
    "        self.list_income_rate += [list_income_rate.copy()]\n",
    "        self.list_income_rate_5 += [list_income_rate_5.copy()]\n",
    "        # self.list_percent += [list_percent.copy()]\n",
    "        # self.list_count += [list_count.copy()]\n",
    "\n",
    "\n",
    "        print('AUC_ROC: ', list(np.round(list_auc, decimals=3)))\n",
    "        #print('AUC_ROC_95: ', np.round(list_auc_95, decimals=3).tolist())\n",
    "        # print('COUNT: ', np.round(list_count, decimals=3).tolist())\n",
    "        # print('PERCENT: ', np.round(list_percent, decimals=3).tolist())\n",
    "        print('PRECISION_1: ', list(np.round(list_precision, decimals=3)))\n",
    "        print('PRECISION_5: ', list(np.round(list_precision_5, decimals=3)))\n",
    "\n",
    "        print('INCOME_RATE_1: ', list(np.round(list_income_rate, decimals=3)))\n",
    "        print('INCOME_RATE_5: ', list(np.round(list_income_rate_5, decimals=3)))\n",
    "\n",
    "        print()\n",
    "\n",
    "\n"
   ]
  },
  {
   "cell_type": "code",
   "execution_count": null,
   "id": "b3063efa-6159-4264-94b5-1508b58bf807",
   "metadata": {
    "id": "b3063efa-6159-4264-94b5-1508b58bf807"
   },
   "outputs": [],
   "source": []
  },
  {
   "cell_type": "code",
   "execution_count": null,
   "id": "aa0f1dcf-19d8-444a-8cb0-05e08a323863",
   "metadata": {
    "id": "aa0f1dcf-19d8-444a-8cb0-05e08a323863"
   },
   "outputs": [],
   "source": []
  },
  {
   "cell_type": "markdown",
   "id": "7ba56dad-ea4c-4cf5-a78c-8d23f8058ea9",
   "metadata": {
    "id": "7ba56dad-ea4c-4cf5-a78c-8d23f8058ea9"
   },
   "source": [
    "#### 4.5 Train"
   ]
  },
  {
   "cell_type": "code",
   "execution_count": 284,
   "id": "b1835a29-2c1e-4a60-a2a0-7feb5c6e9d87",
   "metadata": {
    "colab": {
     "base_uri": "https://localhost:8080/"
    },
    "id": "b1835a29-2c1e-4a60-a2a0-7feb5c6e9d87",
    "outputId": "78cde451-ce04-4f51-dea7-027ab4a23db8"
   },
   "outputs": [
    {
     "name": "stdout",
     "output_type": "stream",
     "text": [
      "mkdir: models: File exists\n"
     ]
    }
   ],
   "source": [
    "! mkdir models"
   ]
  },
  {
   "cell_type": "code",
   "execution_count": null,
   "id": "16a494de-ffab-476d-9a7a-5720edbaf6cc",
   "metadata": {
    "id": "16a494de-ffab-476d-9a7a-5720edbaf6cc"
   },
   "outputs": [],
   "source": []
  },
  {
   "cell_type": "code",
   "execution_count": null,
   "id": "22919002-d209-4699-afd0-34d255ee79a8",
   "metadata": {
    "id": "22919002-d209-4699-afd0-34d255ee79a8"
   },
   "outputs": [],
   "source": []
  },
  {
   "cell_type": "code",
   "execution_count": 288,
   "id": "jUTKwe9FivyS",
   "metadata": {
    "id": "jUTKwe9FivyS"
   },
   "outputs": [],
   "source": [
    "#dataset_train.__getitem__(0)[0]['input_numeric'][0].shape"
   ]
  },
  {
   "cell_type": "code",
   "execution_count": 290,
   "id": "x-vkLrrvzuSO",
   "metadata": {
    "colab": {
     "base_uri": "https://localhost:8080/"
    },
    "id": "x-vkLrrvzuSO",
    "outputId": "f03a9a4f-c839-4748-8de5-6fc4c98f8f9c"
   },
   "outputs": [
    {
     "data": {
      "text/plain": [
       "(100, 576)"
      ]
     },
     "execution_count": 290,
     "metadata": {},
     "output_type": "execute_result"
    }
   ],
   "source": [
    "dataset_train.__getitem__(0)[0][0].shape"
   ]
  },
  {
   "cell_type": "code",
   "execution_count": 294,
   "id": "sDrf9u58G2Us",
   "metadata": {
    "colab": {
     "base_uri": "https://localhost:8080/",
     "height": 661
    },
    "id": "sDrf9u58G2Us",
    "outputId": "2b4e6c40-f494-4256-f0ef-e5e2e9012328"
   },
   "outputs": [
    {
     "data": {
      "text/html": [
       "<pre style=\"white-space:pre;overflow-x:auto;line-height:normal;font-family:Menlo,'DejaVu Sans Mono',consolas,'Courier New',monospace\"><span style=\"font-weight: bold\">Model: \"functional_2\"</span>\n",
       "</pre>\n"
      ],
      "text/plain": [
       "\u001b[1mModel: \"functional_2\"\u001b[0m\n"
      ]
     },
     "metadata": {},
     "output_type": "display_data"
    },
    {
     "data": {
      "text/html": [
       "<pre style=\"white-space:pre;overflow-x:auto;line-height:normal;font-family:Menlo,'DejaVu Sans Mono',consolas,'Courier New',monospace\">┏━━━━━━━━━━━━━━━━━━━━━┳━━━━━━━━━━━━━━━━━━━┳━━━━━━━━━━━━┳━━━━━━━━━━━━━━━━━━━┓\n",
       "┃<span style=\"font-weight: bold\"> Layer (type)        </span>┃<span style=\"font-weight: bold\"> Output Shape      </span>┃<span style=\"font-weight: bold\">    Param # </span>┃<span style=\"font-weight: bold\"> Connected to      </span>┃\n",
       "┡━━━━━━━━━━━━━━━━━━━━━╇━━━━━━━━━━━━━━━━━━━╇━━━━━━━━━━━━╇━━━━━━━━━━━━━━━━━━━┩\n",
       "│ input_layer_2       │ (<span style=\"color: #00d7ff; text-decoration-color: #00d7ff\">None</span>, <span style=\"color: #00af00; text-decoration-color: #00af00\">100</span>, <span style=\"color: #00af00; text-decoration-color: #00af00\">576</span>)  │          <span style=\"color: #00af00; text-decoration-color: #00af00\">0</span> │ -                 │\n",
       "│ (<span style=\"color: #0087ff; text-decoration-color: #0087ff\">InputLayer</span>)        │                   │            │                   │\n",
       "├─────────────────────┼───────────────────┼────────────┼───────────────────┤\n",
       "│ layer_normalizatio… │ (<span style=\"color: #00d7ff; text-decoration-color: #00d7ff\">None</span>, <span style=\"color: #00af00; text-decoration-color: #00af00\">100</span>, <span style=\"color: #00af00; text-decoration-color: #00af00\">576</span>)  │      <span style=\"color: #00af00; text-decoration-color: #00af00\">1,152</span> │ input_layer_2[<span style=\"color: #00af00; text-decoration-color: #00af00\">0</span>]… │\n",
       "│ (<span style=\"color: #0087ff; text-decoration-color: #0087ff\">LayerNormalizatio…</span> │                   │            │                   │\n",
       "├─────────────────────┼───────────────────┼────────────┼───────────────────┤\n",
       "│ multi_head_attenti… │ (<span style=\"color: #00d7ff; text-decoration-color: #00d7ff\">None</span>, <span style=\"color: #00af00; text-decoration-color: #00af00\">100</span>, <span style=\"color: #00af00; text-decoration-color: #00af00\">576</span>)  │    <span style=\"color: #00af00; text-decoration-color: #00af00\">295,872</span> │ layer_normalizat… │\n",
       "│ (<span style=\"color: #0087ff; text-decoration-color: #0087ff\">MultiHeadAttentio…</span> │                   │            │ layer_normalizat… │\n",
       "├─────────────────────┼───────────────────┼────────────┼───────────────────┤\n",
       "│ add_4 (<span style=\"color: #0087ff; text-decoration-color: #0087ff\">Add</span>)         │ (<span style=\"color: #00d7ff; text-decoration-color: #00d7ff\">None</span>, <span style=\"color: #00af00; text-decoration-color: #00af00\">100</span>, <span style=\"color: #00af00; text-decoration-color: #00af00\">576</span>)  │          <span style=\"color: #00af00; text-decoration-color: #00af00\">0</span> │ multi_head_atten… │\n",
       "│                     │                   │            │ input_layer_2[<span style=\"color: #00af00; text-decoration-color: #00af00\">0</span>]… │\n",
       "├─────────────────────┼───────────────────┼────────────┼───────────────────┤\n",
       "│ layer_normalizatio… │ (<span style=\"color: #00d7ff; text-decoration-color: #00d7ff\">None</span>, <span style=\"color: #00af00; text-decoration-color: #00af00\">100</span>, <span style=\"color: #00af00; text-decoration-color: #00af00\">576</span>)  │      <span style=\"color: #00af00; text-decoration-color: #00af00\">1,152</span> │ add_4[<span style=\"color: #00af00; text-decoration-color: #00af00\">0</span>][<span style=\"color: #00af00; text-decoration-color: #00af00\">0</span>]       │\n",
       "│ (<span style=\"color: #0087ff; text-decoration-color: #0087ff\">LayerNormalizatio…</span> │                   │            │                   │\n",
       "├─────────────────────┼───────────────────┼────────────┼───────────────────┤\n",
       "│ dense_6 (<span style=\"color: #0087ff; text-decoration-color: #0087ff\">Dense</span>)     │ (<span style=\"color: #00d7ff; text-decoration-color: #00d7ff\">None</span>, <span style=\"color: #00af00; text-decoration-color: #00af00\">100</span>, <span style=\"color: #00af00; text-decoration-color: #00af00\">128</span>)  │     <span style=\"color: #00af00; text-decoration-color: #00af00\">73,856</span> │ layer_normalizat… │\n",
       "├─────────────────────┼───────────────────┼────────────┼───────────────────┤\n",
       "│ dropout_5 (<span style=\"color: #0087ff; text-decoration-color: #0087ff\">Dropout</span>) │ (<span style=\"color: #00d7ff; text-decoration-color: #00d7ff\">None</span>, <span style=\"color: #00af00; text-decoration-color: #00af00\">100</span>, <span style=\"color: #00af00; text-decoration-color: #00af00\">128</span>)  │          <span style=\"color: #00af00; text-decoration-color: #00af00\">0</span> │ dense_6[<span style=\"color: #00af00; text-decoration-color: #00af00\">0</span>][<span style=\"color: #00af00; text-decoration-color: #00af00\">0</span>]     │\n",
       "├─────────────────────┼───────────────────┼────────────┼───────────────────┤\n",
       "│ dense_7 (<span style=\"color: #0087ff; text-decoration-color: #0087ff\">Dense</span>)     │ (<span style=\"color: #00d7ff; text-decoration-color: #00d7ff\">None</span>, <span style=\"color: #00af00; text-decoration-color: #00af00\">100</span>, <span style=\"color: #00af00; text-decoration-color: #00af00\">576</span>)  │     <span style=\"color: #00af00; text-decoration-color: #00af00\">74,304</span> │ dropout_5[<span style=\"color: #00af00; text-decoration-color: #00af00\">0</span>][<span style=\"color: #00af00; text-decoration-color: #00af00\">0</span>]   │\n",
       "├─────────────────────┼───────────────────┼────────────┼───────────────────┤\n",
       "│ add_5 (<span style=\"color: #0087ff; text-decoration-color: #0087ff\">Add</span>)         │ (<span style=\"color: #00d7ff; text-decoration-color: #00d7ff\">None</span>, <span style=\"color: #00af00; text-decoration-color: #00af00\">100</span>, <span style=\"color: #00af00; text-decoration-color: #00af00\">576</span>)  │          <span style=\"color: #00af00; text-decoration-color: #00af00\">0</span> │ dense_7[<span style=\"color: #00af00; text-decoration-color: #00af00\">0</span>][<span style=\"color: #00af00; text-decoration-color: #00af00\">0</span>],    │\n",
       "│                     │                   │            │ add_4[<span style=\"color: #00af00; text-decoration-color: #00af00\">0</span>][<span style=\"color: #00af00; text-decoration-color: #00af00\">0</span>]       │\n",
       "├─────────────────────┼───────────────────┼────────────┼───────────────────┤\n",
       "│ global_average_poo… │ (<span style=\"color: #00d7ff; text-decoration-color: #00d7ff\">None</span>, <span style=\"color: #00af00; text-decoration-color: #00af00\">576</span>)       │          <span style=\"color: #00af00; text-decoration-color: #00af00\">0</span> │ add_5[<span style=\"color: #00af00; text-decoration-color: #00af00\">0</span>][<span style=\"color: #00af00; text-decoration-color: #00af00\">0</span>]       │\n",
       "│ (<span style=\"color: #0087ff; text-decoration-color: #0087ff\">GlobalAveragePool…</span> │                   │            │                   │\n",
       "├─────────────────────┼───────────────────┼────────────┼───────────────────┤\n",
       "│ layer_normalizatio… │ (<span style=\"color: #00d7ff; text-decoration-color: #00d7ff\">None</span>, <span style=\"color: #00af00; text-decoration-color: #00af00\">576</span>)       │      <span style=\"color: #00af00; text-decoration-color: #00af00\">1,152</span> │ global_average_p… │\n",
       "│ (<span style=\"color: #0087ff; text-decoration-color: #0087ff\">LayerNormalizatio…</span> │                   │            │                   │\n",
       "├─────────────────────┼───────────────────┼────────────┼───────────────────┤\n",
       "│ dense_8 (<span style=\"color: #0087ff; text-decoration-color: #0087ff\">Dense</span>)     │ (<span style=\"color: #00d7ff; text-decoration-color: #00d7ff\">None</span>, <span style=\"color: #00af00; text-decoration-color: #00af00\">1</span>)         │        <span style=\"color: #00af00; text-decoration-color: #00af00\">577</span> │ layer_normalizat… │\n",
       "└─────────────────────┴───────────────────┴────────────┴───────────────────┘\n",
       "</pre>\n"
      ],
      "text/plain": [
       "┏━━━━━━━━━━━━━━━━━━━━━┳━━━━━━━━━━━━━━━━━━━┳━━━━━━━━━━━━┳━━━━━━━━━━━━━━━━━━━┓\n",
       "┃\u001b[1m \u001b[0m\u001b[1mLayer (type)       \u001b[0m\u001b[1m \u001b[0m┃\u001b[1m \u001b[0m\u001b[1mOutput Shape     \u001b[0m\u001b[1m \u001b[0m┃\u001b[1m \u001b[0m\u001b[1m   Param #\u001b[0m\u001b[1m \u001b[0m┃\u001b[1m \u001b[0m\u001b[1mConnected to     \u001b[0m\u001b[1m \u001b[0m┃\n",
       "┡━━━━━━━━━━━━━━━━━━━━━╇━━━━━━━━━━━━━━━━━━━╇━━━━━━━━━━━━╇━━━━━━━━━━━━━━━━━━━┩\n",
       "│ input_layer_2       │ (\u001b[38;5;45mNone\u001b[0m, \u001b[38;5;34m100\u001b[0m, \u001b[38;5;34m576\u001b[0m)  │          \u001b[38;5;34m0\u001b[0m │ -                 │\n",
       "│ (\u001b[38;5;33mInputLayer\u001b[0m)        │                   │            │                   │\n",
       "├─────────────────────┼───────────────────┼────────────┼───────────────────┤\n",
       "│ layer_normalizatio… │ (\u001b[38;5;45mNone\u001b[0m, \u001b[38;5;34m100\u001b[0m, \u001b[38;5;34m576\u001b[0m)  │      \u001b[38;5;34m1,152\u001b[0m │ input_layer_2[\u001b[38;5;34m0\u001b[0m]… │\n",
       "│ (\u001b[38;5;33mLayerNormalizatio…\u001b[0m │                   │            │                   │\n",
       "├─────────────────────┼───────────────────┼────────────┼───────────────────┤\n",
       "│ multi_head_attenti… │ (\u001b[38;5;45mNone\u001b[0m, \u001b[38;5;34m100\u001b[0m, \u001b[38;5;34m576\u001b[0m)  │    \u001b[38;5;34m295,872\u001b[0m │ layer_normalizat… │\n",
       "│ (\u001b[38;5;33mMultiHeadAttentio…\u001b[0m │                   │            │ layer_normalizat… │\n",
       "├─────────────────────┼───────────────────┼────────────┼───────────────────┤\n",
       "│ add_4 (\u001b[38;5;33mAdd\u001b[0m)         │ (\u001b[38;5;45mNone\u001b[0m, \u001b[38;5;34m100\u001b[0m, \u001b[38;5;34m576\u001b[0m)  │          \u001b[38;5;34m0\u001b[0m │ multi_head_atten… │\n",
       "│                     │                   │            │ input_layer_2[\u001b[38;5;34m0\u001b[0m]… │\n",
       "├─────────────────────┼───────────────────┼────────────┼───────────────────┤\n",
       "│ layer_normalizatio… │ (\u001b[38;5;45mNone\u001b[0m, \u001b[38;5;34m100\u001b[0m, \u001b[38;5;34m576\u001b[0m)  │      \u001b[38;5;34m1,152\u001b[0m │ add_4[\u001b[38;5;34m0\u001b[0m][\u001b[38;5;34m0\u001b[0m]       │\n",
       "│ (\u001b[38;5;33mLayerNormalizatio…\u001b[0m │                   │            │                   │\n",
       "├─────────────────────┼───────────────────┼────────────┼───────────────────┤\n",
       "│ dense_6 (\u001b[38;5;33mDense\u001b[0m)     │ (\u001b[38;5;45mNone\u001b[0m, \u001b[38;5;34m100\u001b[0m, \u001b[38;5;34m128\u001b[0m)  │     \u001b[38;5;34m73,856\u001b[0m │ layer_normalizat… │\n",
       "├─────────────────────┼───────────────────┼────────────┼───────────────────┤\n",
       "│ dropout_5 (\u001b[38;5;33mDropout\u001b[0m) │ (\u001b[38;5;45mNone\u001b[0m, \u001b[38;5;34m100\u001b[0m, \u001b[38;5;34m128\u001b[0m)  │          \u001b[38;5;34m0\u001b[0m │ dense_6[\u001b[38;5;34m0\u001b[0m][\u001b[38;5;34m0\u001b[0m]     │\n",
       "├─────────────────────┼───────────────────┼────────────┼───────────────────┤\n",
       "│ dense_7 (\u001b[38;5;33mDense\u001b[0m)     │ (\u001b[38;5;45mNone\u001b[0m, \u001b[38;5;34m100\u001b[0m, \u001b[38;5;34m576\u001b[0m)  │     \u001b[38;5;34m74,304\u001b[0m │ dropout_5[\u001b[38;5;34m0\u001b[0m][\u001b[38;5;34m0\u001b[0m]   │\n",
       "├─────────────────────┼───────────────────┼────────────┼───────────────────┤\n",
       "│ add_5 (\u001b[38;5;33mAdd\u001b[0m)         │ (\u001b[38;5;45mNone\u001b[0m, \u001b[38;5;34m100\u001b[0m, \u001b[38;5;34m576\u001b[0m)  │          \u001b[38;5;34m0\u001b[0m │ dense_7[\u001b[38;5;34m0\u001b[0m][\u001b[38;5;34m0\u001b[0m],    │\n",
       "│                     │                   │            │ add_4[\u001b[38;5;34m0\u001b[0m][\u001b[38;5;34m0\u001b[0m]       │\n",
       "├─────────────────────┼───────────────────┼────────────┼───────────────────┤\n",
       "│ global_average_poo… │ (\u001b[38;5;45mNone\u001b[0m, \u001b[38;5;34m576\u001b[0m)       │          \u001b[38;5;34m0\u001b[0m │ add_5[\u001b[38;5;34m0\u001b[0m][\u001b[38;5;34m0\u001b[0m]       │\n",
       "│ (\u001b[38;5;33mGlobalAveragePool…\u001b[0m │                   │            │                   │\n",
       "├─────────────────────┼───────────────────┼────────────┼───────────────────┤\n",
       "│ layer_normalizatio… │ (\u001b[38;5;45mNone\u001b[0m, \u001b[38;5;34m576\u001b[0m)       │      \u001b[38;5;34m1,152\u001b[0m │ global_average_p… │\n",
       "│ (\u001b[38;5;33mLayerNormalizatio…\u001b[0m │                   │            │                   │\n",
       "├─────────────────────┼───────────────────┼────────────┼───────────────────┤\n",
       "│ dense_8 (\u001b[38;5;33mDense\u001b[0m)     │ (\u001b[38;5;45mNone\u001b[0m, \u001b[38;5;34m1\u001b[0m)         │        \u001b[38;5;34m577\u001b[0m │ layer_normalizat… │\n",
       "└─────────────────────┴───────────────────┴────────────┴───────────────────┘\n"
      ]
     },
     "metadata": {},
     "output_type": "display_data"
    },
    {
     "data": {
      "text/html": [
       "<pre style=\"white-space:pre;overflow-x:auto;line-height:normal;font-family:Menlo,'DejaVu Sans Mono',consolas,'Courier New',monospace\"><span style=\"font-weight: bold\"> Total params: </span><span style=\"color: #00af00; text-decoration-color: #00af00\">448,065</span> (1.71 MB)\n",
       "</pre>\n"
      ],
      "text/plain": [
       "\u001b[1m Total params: \u001b[0m\u001b[38;5;34m448,065\u001b[0m (1.71 MB)\n"
      ]
     },
     "metadata": {},
     "output_type": "display_data"
    },
    {
     "data": {
      "text/html": [
       "<pre style=\"white-space:pre;overflow-x:auto;line-height:normal;font-family:Menlo,'DejaVu Sans Mono',consolas,'Courier New',monospace\"><span style=\"font-weight: bold\"> Trainable params: </span><span style=\"color: #00af00; text-decoration-color: #00af00\">448,065</span> (1.71 MB)\n",
       "</pre>\n"
      ],
      "text/plain": [
       "\u001b[1m Trainable params: \u001b[0m\u001b[38;5;34m448,065\u001b[0m (1.71 MB)\n"
      ]
     },
     "metadata": {},
     "output_type": "display_data"
    },
    {
     "data": {
      "text/html": [
       "<pre style=\"white-space:pre;overflow-x:auto;line-height:normal;font-family:Menlo,'DejaVu Sans Mono',consolas,'Courier New',monospace\"><span style=\"font-weight: bold\"> Non-trainable params: </span><span style=\"color: #00af00; text-decoration-color: #00af00\">0</span> (0.00 B)\n",
       "</pre>\n"
      ],
      "text/plain": [
       "\u001b[1m Non-trainable params: \u001b[0m\u001b[38;5;34m0\u001b[0m (0.00 B)\n"
      ]
     },
     "metadata": {},
     "output_type": "display_data"
    }
   ],
   "source": [
    "input_shape = dataset_train.__getitem__(0)[0][0].shape\n",
    "head_size = 32#256\n",
    "num_heads = 4#16\n",
    "ff_dim = 128#1024\n",
    "num_layers = 1#12\n",
    "dropout = 0.2#0.2\n",
    "\n",
    "model = build_transformer_model(input_shape, head_size, num_heads, ff_dim, num_layers, dropout)\n",
    "model.summary()"
   ]
  },
  {
   "cell_type": "code",
   "execution_count": null,
   "id": "9Lh7nHsHZG0V",
   "metadata": {
    "id": "9Lh7nHsHZG0V"
   },
   "outputs": [],
   "source": []
  },
  {
   "cell_type": "code",
   "execution_count": 297,
   "id": "ljAdOwv_ZHAG",
   "metadata": {
    "colab": {
     "base_uri": "https://localhost:8080/"
    },
    "id": "ljAdOwv_ZHAG",
    "outputId": "6c5249fc-6c9a-4651-d2b1-88daf0fea3a0"
   },
   "outputs": [
    {
     "data": {
      "text/plain": [
       "(15153, 2390, 2387, 1934)"
      ]
     },
     "execution_count": 297,
     "metadata": {},
     "output_type": "execute_result"
    }
   ],
   "source": [
    "batch_size = 32\n",
    "mask_train.sum()//batch_size, mask_valid.sum()//batch_size, mask_test.sum()//batch_size, mask_test2.sum()//batch_size"
   ]
  },
  {
   "cell_type": "code",
   "execution_count": 299,
   "id": "04a7e309-e147-42ca-9c73-e08e7af14651",
   "metadata": {
    "id": "04a7e309-e147-42ca-9c73-e08e7af14651"
   },
   "outputs": [],
   "source": [
    "dataset_train = dataset(data, inds_train, count_samples=2000*batch_size, len_seq=100, batch_size=batch_size, shuffle=True)\n",
    "dataset_valid = dataset(data, inds_valid, count_samples=1000*batch_size, len_seq=100, batch_size=batch_size, shuffle=False)\n",
    "dataset_test = dataset(data, inds_test, count_samples=1000*batch_size, len_seq=100, batch_size=batch_size, shuffle=False)\n",
    "dataset_test2 = dataset(data, inds_test2, count_samples=1000*batch_size, len_seq=100, batch_size=batch_size, shuffle=False)"
   ]
  },
  {
   "cell_type": "code",
   "execution_count": 321,
   "id": "57bbc600-01a9-4b4b-a3f5-7a5bcc94766b",
   "metadata": {
    "id": "57bbc600-01a9-4b4b-a3f5-7a5bcc94766b"
   },
   "outputs": [],
   "source": [
    "dataset_train = dataset(data, inds_train, count_samples=50*batch_size, len_seq=100, batch_size=batch_size, shuffle=True)\n",
    "dataset_valid = dataset(data, inds_valid, count_samples=50*batch_size, len_seq=100, batch_size=batch_size, shuffle=False)\n",
    "dataset_test = dataset(data, inds_test, count_samples=50*batch_size, len_seq=100, batch_size=batch_size, shuffle=False)\n",
    "dataset_test2 = dataset(data, inds_test2, count_samples=50*batch_size, len_seq=100, batch_size=batch_size, shuffle=False)"
   ]
  },
  {
   "cell_type": "code",
   "execution_count": 323,
   "id": "4bfe4b72-6a33-4713-b5fa-f3b41a358958",
   "metadata": {
    "id": "4bfe4b72-6a33-4713-b5fa-f3b41a358958"
   },
   "outputs": [],
   "source": [
    "EPOCHS = 10\n",
    "\n",
    "total_steps = len(dataset_train) * EPOCHS\n",
    "warmup_steps = int(0.1*total_steps)\n",
    "schedule = WarmUpCosineDecay(start_lr=0.0001, target_lr=0.001, warmup_steps=warmup_steps, total_steps=total_steps, hold=0)\n",
    "#may be changed to 1\n",
    "optimizer=tf.keras.optimizers.Adam(learning_rate=schedule)\n",
    "#optimizer=tf.keras.optimizers.Adam(learning_rate=0.001)\n",
    "\n",
    "loss = tf.keras.losses.BinaryCrossentropy()\n",
    "metric_auc_roc = tf.keras.metrics.AUC(num_thresholds=64)\n",
    "\n",
    "\n",
    "model.compile(optimizer=optimizer,\n",
    "              loss=loss,\n",
    "              metrics=[metric_auc_roc])\n",
    "\n",
    "\n",
    "#metrics_callback = MetricsCallback([dataset_train_subsample, dataset_valid_subsample, dataset_test_subsample, dataset_test2_subsample])\n",
    "metrics_callback = MetricsCallback([dataset_train, dataset_valid, dataset_test, dataset_test2])\n",
    "save_callback = tf.keras.callbacks.ModelCheckpoint( \"./models/model_{epoch:02d}.keras\", save_freq='epoch')\n",
    "callbacks = [save_callback, metrics_callback]\n",
    "\n",
    "\n"
   ]
  },
  {
   "cell_type": "code",
   "execution_count": null,
   "id": "ed5d02dc-c609-45ae-b95e-ddb93f9bb16d",
   "metadata": {
    "id": "ed5d02dc-c609-45ae-b95e-ddb93f9bb16d"
   },
   "outputs": [],
   "source": []
  },
  {
   "cell_type": "code",
   "execution_count": 326,
   "id": "6e5810fc-bfd1-4557-a12f-f18cdf677b51",
   "metadata": {
    "id": "6e5810fc-bfd1-4557-a12f-f18cdf677b51"
   },
   "outputs": [],
   "source": [
    "# lrs = [lr_warmup_cosine_decay(step, total_steps=total_steps, warmup_steps=warmup_steps, hold=0, start_lr=0.0001,\n",
    "#                            target_lr=0.001) for step in tqdm(np.arange(total_steps))]\n",
    "# plt.plot(lrs)"
   ]
  },
  {
   "cell_type": "code",
   "execution_count": null,
   "id": "50b9c927-ab52-4f40-aabb-035ea547719a",
   "metadata": {
    "id": "50b9c927-ab52-4f40-aabb-035ea547719a"
   },
   "outputs": [],
   "source": []
  },
  {
   "cell_type": "code",
   "execution_count": 329,
   "id": "2fc292c8-05f7-41cc-bc93-895031bfa684",
   "metadata": {
    "colab": {
     "base_uri": "https://localhost:8080/"
    },
    "id": "2fc292c8-05f7-41cc-bc93-895031bfa684",
    "outputId": "843dadd0-3f79-4700-906f-05d0b48095ad",
    "scrolled": true
   },
   "outputs": [
    {
     "name": "stdout",
     "output_type": "stream",
     "text": [
      "Epoch 1/10\n",
      "\u001b[1m50/50\u001b[0m \u001b[32m━━━━━━━━━━━━━━━━━━━━\u001b[0m\u001b[37m\u001b[0m \u001b[1m1s\u001b[0m 25ms/step - auc_3: 0\n",
      "\u001b[1m50/50\u001b[0m \u001b[32m━━━━━━━━━━━━━━━━━━━━\u001b[0m\u001b[37m\u001b[0m \u001b[1m1s\u001b[0m 21ms/step\n",
      "\u001b[1m50/50\u001b[0m \u001b[32m━━━━━━━━━━━━━━━━━━━━\u001b[0m\u001b[37m\u001b[0m \u001b[1m1s\u001b[0m 21ms/step\n",
      "\u001b[1m50/50\u001b[0m \u001b[32m━━━━━━━━━━━━━━━━━━━━\u001b[0m\u001b[37m\u001b[0m \u001b[1m1s\u001b[0m 22ms/step\n",
      "AUC_ROC:  [0.718, 0.657, 0.658, 0.481]\n",
      "PRECISION_1:  [0.5, 0.188, 0.312, 0.25]\n",
      "PRECISION_5:  [0.338, 0.138, 0.25, 0.212]\n",
      "INCOME_RATE_1:  [1.011, 0.993, 1.008, 1.011]\n",
      "INCOME_RATE_5:  [1.004, 0.993, 1.004, 1.005]\n",
      "\n",
      "\u001b[1m50/50\u001b[0m \u001b[32m━━━━━━━━━━━━━━━━━━━━\u001b[0m\u001b[37m\u001b[0m \u001b[1m8s\u001b[0m 151ms/step - auc_3: 0.6715 - loss: 0.4182\n",
      "Epoch 2/10\n",
      "\u001b[1m50/50\u001b[0m \u001b[32m━━━━━━━━━━━━━━━━━━━━\u001b[0m\u001b[37m\u001b[0m \u001b[1m1s\u001b[0m 22ms/step - auc_3: 0.65\n",
      "\u001b[1m50/50\u001b[0m \u001b[32m━━━━━━━━━━━━━━━━━━━━\u001b[0m\u001b[37m\u001b[0m \u001b[1m2s\u001b[0m 30ms/step\n",
      "\u001b[1m50/50\u001b[0m \u001b[32m━━━━━━━━━━━━━━━━━━━━\u001b[0m\u001b[37m\u001b[0m \u001b[1m2s\u001b[0m 30ms/step\n",
      "\u001b[1m50/50\u001b[0m \u001b[32m━━━━━━━━━━━━━━━━━━━━\u001b[0m\u001b[37m\u001b[0m \u001b[1m2s\u001b[0m 31ms/step\n",
      "AUC_ROC:  [0.71, 0.62, 0.649, 0.465]\n",
      "PRECISION_1:  [0.438, 0.125, 0.188, 0.438]\n",
      "PRECISION_5:  [0.325, 0.175, 0.262, 0.238]\n",
      "INCOME_RATE_1:  [1.009, 0.988, 1.003, 1.016]\n",
      "INCOME_RATE_5:  [1.002, 0.993, 1.004, 1.004]\n",
      "\n",
      "\u001b[1m50/50\u001b[0m \u001b[32m━━━━━━━━━━━━━━━━━━━━\u001b[0m\u001b[37m\u001b[0m \u001b[1m9s\u001b[0m 177ms/step - auc_3: 0.6529 - loss: 0.4304\n",
      "Epoch 3/10\n",
      "\u001b[1m50/50\u001b[0m \u001b[32m━━━━━━━━━━━━━━━━━━━━\u001b[0m\u001b[37m\u001b[0m \u001b[1m1s\u001b[0m 30ms/step - auc_\n",
      "\u001b[1m50/50\u001b[0m \u001b[32m━━━━━━━━━━━━━━━━━━━━\u001b[0m\u001b[37m\u001b[0m \u001b[1m1s\u001b[0m 29ms/step\n",
      "\u001b[1m50/50\u001b[0m \u001b[32m━━━━━━━━━━━━━━━━━━━━\u001b[0m\u001b[37m\u001b[0m \u001b[1m1s\u001b[0m 23ms/step\n",
      "\u001b[1m50/50\u001b[0m \u001b[32m━━━━━━━━━━━━━━━━━━━━\u001b[0m\u001b[37m\u001b[0m \u001b[1m1s\u001b[0m 22ms/step\n",
      "AUC_ROC:  [0.723, 0.675, 0.66, 0.53]\n",
      "PRECISION_1:  [0.562, 0.312, 0.375, 0.5]\n",
      "PRECISION_5:  [0.45, 0.225, 0.262, 0.262]\n",
      "INCOME_RATE_1:  [1.016, 1.003, 1.012, 1.017]\n",
      "INCOME_RATE_5:  [1.013, 0.999, 1.005, 1.006]\n",
      "\n",
      "\u001b[1m50/50\u001b[0m \u001b[32m━━━━━━━━━━━━━━━━━━━━\u001b[0m\u001b[37m\u001b[0m \u001b[1m10s\u001b[0m 200ms/step - auc_3: 0.6506 - loss: 0.4064\n",
      "Epoch 4/10\n",
      "\u001b[1m50/50\u001b[0m \u001b[32m━━━━━━━━━━━━━━━━━━━━\u001b[0m\u001b[37m\u001b[0m \u001b[1m1s\u001b[0m 27ms/step - auc_3: \n",
      "\u001b[1m50/50\u001b[0m \u001b[32m━━━━━━━━━━━━━━━━━━━━\u001b[0m\u001b[37m\u001b[0m \u001b[1m1s\u001b[0m 23ms/step\n",
      "\u001b[1m50/50\u001b[0m \u001b[32m━━━━━━━━━━━━━━━━━━━━\u001b[0m\u001b[37m\u001b[0m \u001b[1m1s\u001b[0m 22ms/step\n",
      "\u001b[1m50/50\u001b[0m \u001b[32m━━━━━━━━━━━━━━━━━━━━\u001b[0m\u001b[37m\u001b[0m \u001b[1m1s\u001b[0m 24ms/step\n",
      "AUC_ROC:  [0.724, 0.618, 0.584, 0.491]\n",
      "PRECISION_1:  [0.188, 0.312, 0.188, 0.188]\n",
      "PRECISION_5:  [0.35, 0.162, 0.275, 0.162]\n",
      "INCOME_RATE_1:  [1.0, 1.0, 1.001, 0.997]\n",
      "INCOME_RATE_5:  [1.01, 0.993, 1.005, 0.995]\n",
      "\n",
      "\u001b[1m50/50\u001b[0m \u001b[32m━━━━━━━━━━━━━━━━━━━━\u001b[0m\u001b[37m\u001b[0m \u001b[1m8s\u001b[0m 169ms/step - auc_3: 0.7136 - loss: 0.3650\n",
      "Epoch 5/10\n",
      "\u001b[1m50/50\u001b[0m \u001b[32m━━━━━━━━━━━━━━━━━━━━\u001b[0m\u001b[37m\u001b[0m \u001b[1m1s\u001b[0m 22ms/step - auc_3: 0.65\n",
      "\u001b[1m50/50\u001b[0m \u001b[32m━━━━━━━━━━━━━━━━━━━━\u001b[0m\u001b[37m\u001b[0m \u001b[1m1s\u001b[0m 22ms/step\n",
      "\u001b[1m50/50\u001b[0m \u001b[32m━━━━━━━━━━━━━━━━━━━━\u001b[0m\u001b[37m\u001b[0m \u001b[1m1s\u001b[0m 26ms/step\n",
      "\u001b[1m50/50\u001b[0m \u001b[32m━━━━━━━━━━━━━━━━━━━━\u001b[0m\u001b[37m\u001b[0m \u001b[1m1s\u001b[0m 28ms/step\n",
      "AUC_ROC:  [0.722, 0.681, 0.661, 0.526]\n",
      "PRECISION_1:  [0.688, 0.312, 0.25, 0.312]\n",
      "PRECISION_5:  [0.425, 0.288, 0.325, 0.225]\n",
      "INCOME_RATE_1:  [1.029, 1.004, 1.005, 1.004]\n",
      "INCOME_RATE_5:  [1.009, 1.002, 1.006, 1.001]\n",
      "\n",
      "\u001b[1m50/50\u001b[0m \u001b[32m━━━━━━━━━━━━━━━━━━━━\u001b[0m\u001b[37m\u001b[0m \u001b[1m9s\u001b[0m 172ms/step - auc_3: 0.6561 - loss: 0.4157\n",
      "Epoch 6/10\n",
      "\u001b[1m50/50\u001b[0m \u001b[32m━━━━━━━━━━━━━━━━━━━━\u001b[0m\u001b[37m\u001b[0m \u001b[1m1s\u001b[0m 23ms/step - auc_3: 0.6\n",
      "\u001b[1m50/50\u001b[0m \u001b[32m━━━━━━━━━━━━━━━━━━━━\u001b[0m\u001b[37m\u001b[0m \u001b[1m1s\u001b[0m 27ms/step\n",
      "\u001b[1m50/50\u001b[0m \u001b[32m━━━━━━━━━━━━━━━━━━━━\u001b[0m\u001b[37m\u001b[0m \u001b[1m1s\u001b[0m 27ms/step\n",
      "\u001b[1m50/50\u001b[0m \u001b[32m━━━━━━━━━━━━━━━━━━━━\u001b[0m\u001b[37m\u001b[0m \u001b[1m1s\u001b[0m 24ms/step\n",
      "AUC_ROC:  [0.726, 0.658, 0.599, 0.556]\n",
      "PRECISION_1:  [0.812, 0.312, 0.188, 0.375]\n",
      "PRECISION_5:  [0.425, 0.275, 0.288, 0.238]\n",
      "INCOME_RATE_1:  [1.029, 1.003, 1.003, 1.012]\n",
      "INCOME_RATE_5:  [1.011, 1.002, 1.006, 1.0]\n",
      "\n",
      "\u001b[1m50/50\u001b[0m \u001b[32m━━━━━━━━━━━━━━━━━━━━\u001b[0m\u001b[37m\u001b[0m \u001b[1m8s\u001b[0m 168ms/step - auc_3: 0.6925 - loss: 0.4074\n",
      "Epoch 7/10\n",
      "\u001b[1m50/50\u001b[0m \u001b[32m━━━━━━━━━━━━━━━━━━━━\u001b[0m\u001b[37m\u001b[0m \u001b[1m1s\u001b[0m 28ms/step - auc_3:\n",
      "\u001b[1m50/50\u001b[0m \u001b[32m━━━━━━━━━━━━━━━━━━━━\u001b[0m\u001b[37m\u001b[0m \u001b[1m2s\u001b[0m 31ms/step\n",
      "\u001b[1m50/50\u001b[0m \u001b[32m━━━━━━━━━━━━━━━━━━━━\u001b[0m\u001b[37m\u001b[0m \u001b[1m1s\u001b[0m 24ms/step\n",
      "\u001b[1m50/50\u001b[0m \u001b[32m━━━━━━━━━━━━━━━━━━━━\u001b[0m\u001b[37m\u001b[0m \u001b[1m1s\u001b[0m 26ms/step\n",
      "AUC_ROC:  [0.75, 0.627, 0.57, 0.553]\n",
      "PRECISION_1:  [0.625, 0.125, 0.312, 0.438]\n",
      "PRECISION_5:  [0.45, 0.162, 0.275, 0.25]\n",
      "INCOME_RATE_1:  [1.02, 0.991, 1.015, 1.014]\n",
      "INCOME_RATE_5:  [1.014, 0.995, 1.009, 1.005]\n",
      "\n",
      "\u001b[1m50/50\u001b[0m \u001b[32m━━━━━━━━━━━━━━━━━━━━\u001b[0m\u001b[37m\u001b[0m \u001b[1m9s\u001b[0m 175ms/step - auc_3: 0.7281 - loss: 0.3908\n",
      "Epoch 8/10\n",
      "\u001b[1m50/50\u001b[0m \u001b[32m━━━━━━━━━━━━━━━━━━━━\u001b[0m\u001b[37m\u001b[0m \u001b[1m1s\u001b[0m 29ms/step - auc_\n",
      "\u001b[1m50/50\u001b[0m \u001b[32m━━━━━━━━━━━━━━━━━━━━\u001b[0m\u001b[37m\u001b[0m \u001b[1m1s\u001b[0m 25ms/step\n",
      "\u001b[1m50/50\u001b[0m \u001b[32m━━━━━━━━━━━━━━━━━━━━\u001b[0m\u001b[37m\u001b[0m \u001b[1m1s\u001b[0m 23ms/step\n",
      "\u001b[1m50/50\u001b[0m \u001b[32m━━━━━━━━━━━━━━━━━━━━\u001b[0m\u001b[37m\u001b[0m \u001b[1m1s\u001b[0m 27ms/step\n",
      "AUC_ROC:  [0.745, 0.659, 0.593, 0.54]\n",
      "PRECISION_1:  [0.625, 0.25, 0.188, 0.375]\n",
      "PRECISION_5:  [0.438, 0.225, 0.275, 0.3]\n",
      "INCOME_RATE_1:  [1.018, 0.999, 1.007, 1.012]\n",
      "INCOME_RATE_5:  [1.007, 0.999, 1.006, 1.007]\n",
      "\n",
      "\u001b[1m50/50\u001b[0m \u001b[32m━━━━━━━━━━━━━━━━━━━━\u001b[0m\u001b[37m\u001b[0m \u001b[1m9s\u001b[0m 184ms/step - auc_3: 0.7222 - loss: 0.3991\n",
      "Epoch 9/10\n",
      "\u001b[1m50/50\u001b[0m \u001b[32m━━━━━━━━━━━━━━━━━━━━\u001b[0m\u001b[37m\u001b[0m \u001b[1m1s\u001b[0m 24ms/step - auc_3: 0.73\n",
      "\u001b[1m50/50\u001b[0m \u001b[32m━━━━━━━━━━━━━━━━━━━━\u001b[0m\u001b[37m\u001b[0m \u001b[1m1s\u001b[0m 23ms/step\n",
      "\u001b[1m50/50\u001b[0m \u001b[32m━━━━━━━━━━━━━━━━━━━━\u001b[0m\u001b[37m\u001b[0m \u001b[1m1s\u001b[0m 28ms/step\n",
      "\u001b[1m50/50\u001b[0m \u001b[32m━━━━━━━━━━━━━━━━━━━━\u001b[0m\u001b[37m\u001b[0m \u001b[1m1s\u001b[0m 25ms/step\n",
      "AUC_ROC:  [0.735, 0.664, 0.604, 0.542]\n",
      "PRECISION_1:  [0.625, 0.312, 0.188, 0.375]\n",
      "PRECISION_5:  [0.412, 0.238, 0.275, 0.3]\n",
      "INCOME_RATE_1:  [1.018, 1.002, 1.006, 1.012]\n",
      "INCOME_RATE_5:  [1.007, 1.0, 1.007, 1.007]\n",
      "\n",
      "\u001b[1m50/50\u001b[0m \u001b[32m━━━━━━━━━━━━━━━━━━━━\u001b[0m\u001b[37m\u001b[0m \u001b[1m9s\u001b[0m 175ms/step - auc_3: 0.7368 - loss: 0.3636\n",
      "Epoch 10/10\n",
      "\u001b[1m50/50\u001b[0m \u001b[32m━━━━━━━━━━━━━━━━━━━━\u001b[0m\u001b[37m\u001b[0m \u001b[1m2s\u001b[0m 30ms/step - auc\n",
      "\u001b[1m50/50\u001b[0m \u001b[32m━━━━━━━━━━━━━━━━━━━━\u001b[0m\u001b[37m\u001b[0m \u001b[1m1s\u001b[0m 27ms/step\n",
      "\u001b[1m50/50\u001b[0m \u001b[32m━━━━━━━━━━━━━━━━━━━━\u001b[0m\u001b[37m\u001b[0m \u001b[1m1s\u001b[0m 24ms/step\n",
      "\u001b[1m50/50\u001b[0m \u001b[32m━━━━━━━━━━━━━━━━━━━━\u001b[0m\u001b[37m\u001b[0m \u001b[1m1s\u001b[0m 24ms/step\n",
      "AUC_ROC:  [0.728, 0.664, 0.605, 0.542]\n",
      "PRECISION_1:  [0.562, 0.375, 0.188, 0.375]\n",
      "PRECISION_5:  [0.462, 0.238, 0.275, 0.288]\n",
      "INCOME_RATE_1:  [1.015, 1.003, 1.006, 1.012]\n",
      "INCOME_RATE_5:  [1.01, 0.999, 1.006, 1.007]\n",
      "\n",
      "\u001b[1m50/50\u001b[0m \u001b[32m━━━━━━━━━━━━━━━━━━━━\u001b[0m\u001b[37m\u001b[0m \u001b[1m8s\u001b[0m 168ms/step - auc_3: 0.7010 - loss: 0.3798\n"
     ]
    },
    {
     "data": {
      "text/plain": [
       "<keras.src.callbacks.history.History at 0x16862ddc0>"
      ]
     },
     "execution_count": 329,
     "metadata": {},
     "output_type": "execute_result"
    }
   ],
   "source": [
    "model.fit(dataset_train, epochs=EPOCHS, callbacks=callbacks)"
   ]
  },
  {
   "cell_type": "code",
   "execution_count": null,
   "id": "64f53bb7-73b3-4198-b318-01b121448a0c",
   "metadata": {
    "id": "64f53bb7-73b3-4198-b318-01b121448a0c"
   },
   "outputs": [],
   "source": [
    "\n"
   ]
  },
  {
   "cell_type": "code",
   "execution_count": null,
   "id": "44eM_uASxQKP",
   "metadata": {
    "id": "44eM_uASxQKP"
   },
   "outputs": [],
   "source": []
  },
  {
   "cell_type": "code",
   "execution_count": null,
   "id": "fcccdb1c-5a6d-4640-9139-335f221e2df0",
   "metadata": {
    "id": "fcccdb1c-5a6d-4640-9139-335f221e2df0"
   },
   "outputs": [],
   "source": []
  },
  {
   "cell_type": "code",
   "execution_count": null,
   "id": "9c840f12-27b5-42ff-912d-e796bcbfc2bd",
   "metadata": {
    "id": "9c840f12-27b5-42ff-912d-e796bcbfc2bd"
   },
   "outputs": [],
   "source": [
    "df_auc = pd.DataFrame(metrics_callback.list_auc)\n",
    "df_precision = pd.DataFrame(metrics_callback.list_precision)\n",
    "# df_count = pd.DataFrame(metrics_callback.list_count)\n",
    "# df_percent = pd.DataFrame(metrics_callback.list_percent)"
   ]
  },
  {
   "cell_type": "code",
   "execution_count": null,
   "id": "ec2dcd98-bfdb-49d9-a688-fd417fa2a92c",
   "metadata": {
    "id": "ec2dcd98-bfdb-49d9-a688-fd417fa2a92c"
   },
   "outputs": [],
   "source": [
    "#df_count"
   ]
  },
  {
   "cell_type": "code",
   "execution_count": null,
   "id": "9f4e66ab-c7ce-4790-babd-2d63415ea17c",
   "metadata": {
    "id": "9f4e66ab-c7ce-4790-babd-2d63415ea17c"
   },
   "outputs": [],
   "source": [
    "df_precision"
   ]
  },
  {
   "cell_type": "code",
   "execution_count": null,
   "id": "cd254888-a8df-4878-8a7d-ea68784fb0a0",
   "metadata": {
    "id": "cd254888-a8df-4878-8a7d-ea68784fb0a0"
   },
   "outputs": [],
   "source": []
  },
  {
   "cell_type": "code",
   "execution_count": null,
   "id": "f6c44521-706d-4dfd-966b-f14085cea7ba",
   "metadata": {
    "id": "f6c44521-706d-4dfd-966b-f14085cea7ba"
   },
   "outputs": [],
   "source": [
    "df_auc"
   ]
  },
  {
   "cell_type": "code",
   "execution_count": null,
   "id": "7290192d-e549-407f-b7a5-8216def1b004",
   "metadata": {
    "id": "7290192d-e549-407f-b7a5-8216def1b004"
   },
   "outputs": [],
   "source": [
    "#df_percent"
   ]
  },
  {
   "cell_type": "code",
   "execution_count": null,
   "id": "fa795633-7251-480c-828d-05db099b6b41",
   "metadata": {
    "id": "fa795633-7251-480c-828d-05db099b6b41"
   },
   "outputs": [],
   "source": []
  },
  {
   "cell_type": "markdown",
   "id": "273319c0-54a3-48fb-9995-01aa62cebdaf",
   "metadata": {
    "id": "273319c0-54a3-48fb-9995-01aa62cebdaf"
   },
   "source": [
    "# 4. Evaluate"
   ]
  },
  {
   "cell_type": "code",
   "execution_count": null,
   "id": "16771a9f-37e7-4787-9b95-895096e7b316",
   "metadata": {
    "id": "16771a9f-37e7-4787-9b95-895096e7b316"
   },
   "outputs": [],
   "source": [
    "import keras\n",
    "\n",
    "model_ld = keras.saving.load_model('./models/model_03.keras',\n",
    "                                custom_objects={'WarmUpCosineDecay': WarmUpCosineDecay})"
   ]
  },
  {
   "cell_type": "code",
   "execution_count": null,
   "id": "23264f72-ddbc-49e2-ac5d-5c1594d29b5e",
   "metadata": {
    "id": "23264f72-ddbc-49e2-ac5d-5c1594d29b5e"
   },
   "outputs": [],
   "source": []
  },
  {
   "cell_type": "code",
   "execution_count": null,
   "id": "UDh4BF712E02",
   "metadata": {
    "id": "UDh4BF712E02"
   },
   "outputs": [],
   "source": [
    "dataset_valid = dataset(data, inds_valid, len_seq=100, batch_size=64, shuffle=False)\n",
    "dataset_test = dataset(data, inds_test, len_seq=100, batch_size=64, shuffle=False)\n",
    "dataset_test2 = dataset(data, inds_test2, len_seq=100, batch_size=64, shuffle=False)"
   ]
  },
  {
   "cell_type": "code",
   "execution_count": null,
   "id": "zDP6tb-m2E35",
   "metadata": {
    "colab": {
     "base_uri": "https://localhost:8080/"
    },
    "id": "zDP6tb-m2E35",
    "outputId": "77b28417-628f-40af-89d4-f6b132edb8b4"
   },
   "outputs": [
    {
     "data": {
      "text/plain": [
       "(True, True, True)"
      ]
     },
     "execution_count": 142,
     "metadata": {},
     "output_type": "execute_result"
    }
   ],
   "source": [
    "(dataset_valid.inds == inds_valid).all(), (dataset_test.inds == inds_test).all(), (dataset_test2.inds == inds_test2).all()"
   ]
  },
  {
   "cell_type": "code",
   "execution_count": null,
   "id": "JvNgLPa52WfQ",
   "metadata": {
    "colab": {
     "base_uri": "https://localhost:8080/"
    },
    "id": "JvNgLPa52WfQ",
    "outputId": "283fcb4c-fb58-473f-8042-30de96b545b6"
   },
   "outputs": [
    {
     "name": "stdout",
     "output_type": "stream",
     "text": [
      "\u001b[1m1196/1196\u001b[0m \u001b[32m━━━━━━━━━━━━━━━━━━━━\u001b[0m\u001b[37m\u001b[0m \u001b[1m9s\u001b[0m 7ms/step\n",
      "\u001b[1m1194/1194\u001b[0m \u001b[32m━━━━━━━━━━━━━━━━━━━━\u001b[0m\u001b[37m\u001b[0m \u001b[1m8s\u001b[0m 6ms/step\n",
      "\u001b[1m968/968\u001b[0m \u001b[32m━━━━━━━━━━━━━━━━━━━━\u001b[0m\u001b[37m\u001b[0m \u001b[1m6s\u001b[0m 6ms/step\n"
     ]
    }
   ],
   "source": [
    "y_pred_valid = model_ld.predict(dataset_valid)\n",
    "y_pred_test = model_ld.predict(dataset_test)\n",
    "y_pred_test2 = model_ld.predict(dataset_test2)"
   ]
  },
  {
   "cell_type": "code",
   "execution_count": null,
   "id": "VTGBBDz52jLp",
   "metadata": {
    "id": "VTGBBDz52jLp"
   },
   "outputs": [],
   "source": [
    "dump_pkl(y_pred_valid, 'y_pred_valid.pkl')\n",
    "dump_pkl(y_pred_test, 'y_pred_test.pkl')\n",
    "dump_pkl(y_pred_test2, 'y_pred_test2.pkl')\n"
   ]
  },
  {
   "cell_type": "code",
   "execution_count": null,
   "id": "37n4AM6V2jOK",
   "metadata": {
    "id": "37n4AM6V2jOK"
   },
   "outputs": [],
   "source": []
  },
  {
   "cell_type": "code",
   "execution_count": null,
   "id": "fkzqJ4J82WiF",
   "metadata": {
    "id": "fkzqJ4J82WiF"
   },
   "outputs": [],
   "source": []
  },
  {
   "cell_type": "code",
   "execution_count": null,
   "id": "13553f8f-3b07-4336-8b84-f49511fdde6b",
   "metadata": {
    "id": "13553f8f-3b07-4336-8b84-f49511fdde6b"
   },
   "outputs": [],
   "source": [
    "y1 = model.predict(dataset_test2_subsample)\n",
    "y2 = model_ld.predict(dataset_test2_subsample)\n",
    "np.unique(y1-y2)"
   ]
  },
  {
   "cell_type": "code",
   "execution_count": null,
   "id": "c2fa9304-9ed9-40b0-abef-0100e467b23b",
   "metadata": {
    "id": "c2fa9304-9ed9-40b0-abef-0100e467b23b"
   },
   "outputs": [],
   "source": []
  },
  {
   "cell_type": "code",
   "execution_count": null,
   "id": "258c600c-83b3-4bb4-8b7a-cd2afd3bcb3f",
   "metadata": {
    "id": "258c600c-83b3-4bb4-8b7a-cd2afd3bcb3f"
   },
   "outputs": [],
   "source": []
  },
  {
   "cell_type": "markdown",
   "id": "1e3f3dee-7898-4b06-bed8-8fef57e81685",
   "metadata": {
    "id": "1e3f3dee-7898-4b06-bed8-8fef57e81685"
   },
   "source": [
    "# TMP"
   ]
  },
  {
   "cell_type": "code",
   "execution_count": null,
   "id": "de2b62cc-3ec4-42ad-ad99-cccabf9714b9",
   "metadata": {
    "id": "de2b62cc-3ec4-42ad-ad99-cccabf9714b9"
   },
   "outputs": [],
   "source": [
    "import tensorflow as tf\n",
    "tf.keras.backend.floatx()"
   ]
  },
  {
   "cell_type": "code",
   "execution_count": null,
   "id": "1e334752-da2e-4892-9398-33cfe8258e49",
   "metadata": {
    "id": "1e334752-da2e-4892-9398-33cfe8258e49"
   },
   "outputs": [],
   "source": []
  },
  {
   "cell_type": "code",
   "execution_count": null,
   "id": "97e624c0-27b5-4c65-959a-5f375e1329eb",
   "metadata": {
    "id": "97e624c0-27b5-4c65-959a-5f375e1329eb"
   },
   "outputs": [],
   "source": []
  },
  {
   "cell_type": "code",
   "execution_count": null,
   "id": "85dafc5b-f1ac-4817-bb94-0a20024571e3",
   "metadata": {
    "id": "85dafc5b-f1ac-4817-bb94-0a20024571e3"
   },
   "outputs": [],
   "source": []
  },
  {
   "cell_type": "code",
   "execution_count": null,
   "id": "c7b7d000-640b-488f-96d9-271543d6328c",
   "metadata": {
    "id": "c7b7d000-640b-488f-96d9-271543d6328c"
   },
   "outputs": [],
   "source": []
  },
  {
   "cell_type": "code",
   "execution_count": null,
   "id": "88e63d91-3ce6-49e8-82e3-e38943c7ba76",
   "metadata": {
    "id": "88e63d91-3ce6-49e8-82e3-e38943c7ba76"
   },
   "outputs": [],
   "source": []
  },
  {
   "cell_type": "code",
   "execution_count": null,
   "id": "07f6f70c-a6b6-4617-bd67-aac5b14b856f",
   "metadata": {
    "id": "07f6f70c-a6b6-4617-bd67-aac5b14b856f"
   },
   "outputs": [],
   "source": []
  }
 ],
 "metadata": {
  "accelerator": "GPU",
  "colab": {
   "gpuType": "T4",
   "provenance": []
  },
  "kernelspec": {
   "display_name": "Python 3 (ipykernel)",
   "language": "python",
   "name": "python3"
  },
  "language_info": {
   "codemirror_mode": {
    "name": "ipython",
    "version": 3
   },
   "file_extension": ".py",
   "mimetype": "text/x-python",
   "name": "python",
   "nbconvert_exporter": "python",
   "pygments_lexer": "ipython3",
   "version": "3.12.7"
  }
 },
 "nbformat": 4,
 "nbformat_minor": 5
}
