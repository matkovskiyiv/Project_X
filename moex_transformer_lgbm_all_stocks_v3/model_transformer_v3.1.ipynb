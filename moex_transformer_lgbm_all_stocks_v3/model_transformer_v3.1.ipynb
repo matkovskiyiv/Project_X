{
 "cells": [
  {
   "cell_type": "code",
   "execution_count": 1,
   "id": "d6e30ae7-7754-45c6-8ab7-f0faf1d303cb",
   "metadata": {
    "id": "d6e30ae7-7754-45c6-8ab7-f0faf1d303cb"
   },
   "outputs": [],
   "source": [
    "import numpy as np\n",
    "import pandas as pd\n",
    "from tqdm import tqdm\n",
    "import random\n",
    "import matplotlib.pyplot as plt\n",
    "import seaborn as sns\n",
    "import datetime\n",
    "import math\n",
    "import gc\n",
    "\n",
    "from sklearn.metrics import roc_auc_score\n",
    "\n",
    "import pickle\n",
    "def dump_pkl(data, filename):\n",
    "  with open(filename, 'wb') as handle:\n",
    "    pickle.dump(data, handle, protocol=pickle.HIGHEST_PROTOCOL)\n",
    "\n",
    "def load_pkl(filename):\n",
    "  with open(filename, 'rb') as handle:\n",
    "    data = pickle.load(handle)\n",
    "  return data"
   ]
  },
  {
   "cell_type": "code",
   "execution_count": null,
   "id": "qirDY6OVczYo",
   "metadata": {
    "id": "qirDY6OVczYo"
   },
   "outputs": [],
   "source": []
  },
  {
   "cell_type": "code",
   "execution_count": null,
   "id": "f33837fa-b1a1-4457-8760-12875c46470c",
   "metadata": {},
   "outputs": [],
   "source": []
  },
  {
   "cell_type": "code",
   "execution_count": null,
   "id": "aaaec63d-9f8a-4fe4-8de7-95f0e2b42a97",
   "metadata": {
    "id": "aaaec63d-9f8a-4fe4-8de7-95f0e2b42a97"
   },
   "outputs": [],
   "source": []
  },
  {
   "cell_type": "markdown",
   "id": "9dfe8d80-f431-4f2e-8908-df724266bccb",
   "metadata": {
    "id": "9dfe8d80-f431-4f2e-8908-df724266bccb"
   },
   "source": [
    "### 3. train/valid/test split"
   ]
  },
  {
   "cell_type": "code",
   "execution_count": 6,
   "id": "JhnLos7mnrY3",
   "metadata": {
    "colab": {
     "base_uri": "https://localhost:8080/"
    },
    "id": "JhnLos7mnrY3",
    "outputId": "d68a56b3-8db6-4062-9108-05797a59fc75"
   },
   "outputs": [],
   "source": [
    "# %%time\n",
    "# import zipfile\n",
    "# import requests\n",
    "# import os\n",
    "# import io\n",
    "# from urllib.parse import urlencode\n",
    "\n",
    "# def download_and_unzip(load_from):\n",
    "#   base_url = 'https://cloud-api.yandex.net/v1/disk/public/resources/download?'\n",
    "\n",
    "#   # Получаем загрузочную ссылку\n",
    "#   final_url = base_url + urlencode(dict(public_key=load_from))\n",
    "#   try:\n",
    "#     response = requests.get(final_url)\n",
    "#     download_url = response.json()['href']\n",
    "\n",
    "#     # Загружаем файл и сохраняем его\n",
    "#     download_response = requests.get(download_url)\n",
    "#     print('Success! The data has been loaded')\n",
    "#   except:\n",
    "#     \"Could not load the content of the URL\"\n",
    "\n",
    "#   print(\"Unpacking the data...\")\n",
    "#   try:\n",
    "#     extract_to = os.getcwd()\n",
    "\n",
    "#     z = zipfile.ZipFile(io.BytesIO(download_response.content))\n",
    "#     z.extractall(extract_to)\n",
    "#     print(f'Done! The data is available here {extract_to}')\n",
    "#   except:\n",
    "#     \"Error occured while extracting the data\"\n",
    "\n",
    "\n",
    "# public_key1 = \"https://disk.yandex.ru/d/fTvyokC3-hwSTg\"\n",
    "# folder_name1 = \"data\"\n",
    "# asset_zip_path1 = os.path.join(os.getcwd(), f\"{folder_name1}.zip\")\n",
    "\n",
    "\n",
    "# # Download if assest ZIP does not exists.\n",
    "# if not os.path.exists(asset_zip_path1):\n",
    "#     download_and_unzip(public_key1)\n"
   ]
  },
  {
   "cell_type": "code",
   "execution_count": 7,
   "id": "abae8128-7f9c-4e0c-bcfc-38c3f6a7c7b1",
   "metadata": {
    "id": "abae8128-7f9c-4e0c-bcfc-38c3f6a7c7b1"
   },
   "outputs": [],
   "source": [
    "# df_1hour = load_pkl('./data/data_1hour.pkl')\n",
    "# df_1day = load_pkl('./data/data_1day.pkl')\n",
    "\n",
    "\n",
    "df_1hour = load_pkl('data/feat_engin/data/data_1hour.pkl')\n",
    "df_1day = load_pkl('data/feat_engin/data/data_1day.pkl')\n"
   ]
  },
  {
   "cell_type": "code",
   "execution_count": 8,
   "id": "ff72e613-5253-48ba-a99e-40049a4b1f82",
   "metadata": {
    "colab": {
     "base_uri": "https://localhost:8080/",
     "height": 374
    },
    "id": "ff72e613-5253-48ba-a99e-40049a4b1f82",
    "outputId": "06864372-a6b5-4a2b-91e3-8c09a350677a"
   },
   "outputs": [
    {
     "data": {
      "text/html": [
       "<div>\n",
       "<style scoped>\n",
       "    .dataframe tbody tr th:only-of-type {\n",
       "        vertical-align: middle;\n",
       "    }\n",
       "\n",
       "    .dataframe tbody tr th {\n",
       "        vertical-align: top;\n",
       "    }\n",
       "\n",
       "    .dataframe thead th {\n",
       "        text-align: right;\n",
       "    }\n",
       "</style>\n",
       "<table border=\"1\" class=\"dataframe\">\n",
       "  <thead>\n",
       "    <tr style=\"text-align: right;\">\n",
       "      <th></th>\n",
       "      <th>time</th>\n",
       "      <th>close</th>\n",
       "      <th>volume</th>\n",
       "      <th>ticker</th>\n",
       "      <th>tmos_close</th>\n",
       "      <th>index_start</th>\n",
       "      <th>index_1day</th>\n",
       "      <th>index_start_1day</th>\n",
       "      <th>result</th>\n",
       "      <th>delta_time</th>\n",
       "      <th>...</th>\n",
       "      <th>tmos_close_w70_lvl_0.04</th>\n",
       "      <th>tmos_close_w70_lvl_-0.04</th>\n",
       "      <th>tmos_close_w70_lvl_0.05</th>\n",
       "      <th>tmos_close_w70_lvl_-0.05</th>\n",
       "      <th>tmos_close_w70_lvl_0.07</th>\n",
       "      <th>tmos_close_w70_lvl_-0.07</th>\n",
       "      <th>tmos_close_w70_lvl_0.1</th>\n",
       "      <th>tmos_close_w70_lvl_-0.1</th>\n",
       "      <th>sin_time_hour</th>\n",
       "      <th>cos_time_hour</th>\n",
       "    </tr>\n",
       "    <tr>\n",
       "      <th>index</th>\n",
       "      <th></th>\n",
       "      <th></th>\n",
       "      <th></th>\n",
       "      <th></th>\n",
       "      <th></th>\n",
       "      <th></th>\n",
       "      <th></th>\n",
       "      <th></th>\n",
       "      <th></th>\n",
       "      <th></th>\n",
       "      <th></th>\n",
       "      <th></th>\n",
       "      <th></th>\n",
       "      <th></th>\n",
       "      <th></th>\n",
       "      <th></th>\n",
       "      <th></th>\n",
       "      <th></th>\n",
       "      <th></th>\n",
       "      <th></th>\n",
       "      <th></th>\n",
       "    </tr>\n",
       "  </thead>\n",
       "  <tbody>\n",
       "    <tr>\n",
       "      <th>0</th>\n",
       "      <td>2022-05-04 10:00:00</td>\n",
       "      <td>32.099998</td>\n",
       "      <td>503380.0</td>\n",
       "      <td>AFLT</td>\n",
       "      <td>4.27</td>\n",
       "      <td>0.0</td>\n",
       "      <td>NaN</td>\n",
       "      <td>NaN</td>\n",
       "      <td>LOSE</td>\n",
       "      <td>1 days 01:00:00</td>\n",
       "      <td>...</td>\n",
       "      <td>0.000000</td>\n",
       "      <td>0.000000</td>\n",
       "      <td>0.000000</td>\n",
       "      <td>0.000000</td>\n",
       "      <td>0.000000</td>\n",
       "      <td>0.000000</td>\n",
       "      <td>0.000000</td>\n",
       "      <td>0.000000</td>\n",
       "      <td>0.000000</td>\n",
       "      <td>1.000000</td>\n",
       "    </tr>\n",
       "    <tr>\n",
       "      <th>1</th>\n",
       "      <td>2022-05-04 11:00:00</td>\n",
       "      <td>31.379999</td>\n",
       "      <td>191664.0</td>\n",
       "      <td>AFLT</td>\n",
       "      <td>4.20</td>\n",
       "      <td>0.0</td>\n",
       "      <td>NaN</td>\n",
       "      <td>NaN</td>\n",
       "      <td>LOSE</td>\n",
       "      <td>1 days 23:00:00</td>\n",
       "      <td>...</td>\n",
       "      <td>0.500000</td>\n",
       "      <td>0.000000</td>\n",
       "      <td>0.500000</td>\n",
       "      <td>0.000000</td>\n",
       "      <td>0.500000</td>\n",
       "      <td>0.000000</td>\n",
       "      <td>0.500000</td>\n",
       "      <td>0.000000</td>\n",
       "      <td>0.464723</td>\n",
       "      <td>0.885456</td>\n",
       "    </tr>\n",
       "    <tr>\n",
       "      <th>2</th>\n",
       "      <td>2022-05-04 12:00:00</td>\n",
       "      <td>31.799999</td>\n",
       "      <td>89256.0</td>\n",
       "      <td>AFLT</td>\n",
       "      <td>4.22</td>\n",
       "      <td>0.0</td>\n",
       "      <td>NaN</td>\n",
       "      <td>NaN</td>\n",
       "      <td>LOSE</td>\n",
       "      <td>1 days 04:00:00</td>\n",
       "      <td>...</td>\n",
       "      <td>0.333333</td>\n",
       "      <td>0.333333</td>\n",
       "      <td>0.333333</td>\n",
       "      <td>0.333333</td>\n",
       "      <td>0.333333</td>\n",
       "      <td>0.333333</td>\n",
       "      <td>0.333333</td>\n",
       "      <td>0.333333</td>\n",
       "      <td>0.822984</td>\n",
       "      <td>0.568065</td>\n",
       "    </tr>\n",
       "    <tr>\n",
       "      <th>3</th>\n",
       "      <td>2022-05-04 13:00:00</td>\n",
       "      <td>31.360001</td>\n",
       "      <td>87929.0</td>\n",
       "      <td>AFLT</td>\n",
       "      <td>4.21</td>\n",
       "      <td>0.0</td>\n",
       "      <td>NaN</td>\n",
       "      <td>NaN</td>\n",
       "      <td>LOSE</td>\n",
       "      <td>1 days 21:00:00</td>\n",
       "      <td>...</td>\n",
       "      <td>0.500000</td>\n",
       "      <td>0.250000</td>\n",
       "      <td>0.500000</td>\n",
       "      <td>0.250000</td>\n",
       "      <td>0.500000</td>\n",
       "      <td>0.250000</td>\n",
       "      <td>0.500000</td>\n",
       "      <td>0.250000</td>\n",
       "      <td>0.992709</td>\n",
       "      <td>0.120537</td>\n",
       "    </tr>\n",
       "    <tr>\n",
       "      <th>4</th>\n",
       "      <td>2022-05-04 14:00:00</td>\n",
       "      <td>31.540001</td>\n",
       "      <td>69671.0</td>\n",
       "      <td>AFLT</td>\n",
       "      <td>4.21</td>\n",
       "      <td>0.0</td>\n",
       "      <td>NaN</td>\n",
       "      <td>NaN</td>\n",
       "      <td>LOSE</td>\n",
       "      <td>1 days 20:00:00</td>\n",
       "      <td>...</td>\n",
       "      <td>0.400000</td>\n",
       "      <td>0.200000</td>\n",
       "      <td>0.400000</td>\n",
       "      <td>0.200000</td>\n",
       "      <td>0.400000</td>\n",
       "      <td>0.200000</td>\n",
       "      <td>0.400000</td>\n",
       "      <td>0.200000</td>\n",
       "      <td>0.935016</td>\n",
       "      <td>-0.354605</td>\n",
       "    </tr>\n",
       "  </tbody>\n",
       "</table>\n",
       "<p>5 rows × 94 columns</p>\n",
       "</div>"
      ],
      "text/plain": [
       "                     time      close    volume ticker  tmos_close  \\\n",
       "index                                                               \n",
       "0     2022-05-04 10:00:00  32.099998  503380.0   AFLT        4.27   \n",
       "1     2022-05-04 11:00:00  31.379999  191664.0   AFLT        4.20   \n",
       "2     2022-05-04 12:00:00  31.799999   89256.0   AFLT        4.22   \n",
       "3     2022-05-04 13:00:00  31.360001   87929.0   AFLT        4.21   \n",
       "4     2022-05-04 14:00:00  31.540001   69671.0   AFLT        4.21   \n",
       "\n",
       "       index_start  index_1day  index_start_1day result      delta_time  ...  \\\n",
       "index                                                                    ...   \n",
       "0              0.0         NaN               NaN   LOSE 1 days 01:00:00  ...   \n",
       "1              0.0         NaN               NaN   LOSE 1 days 23:00:00  ...   \n",
       "2              0.0         NaN               NaN   LOSE 1 days 04:00:00  ...   \n",
       "3              0.0         NaN               NaN   LOSE 1 days 21:00:00  ...   \n",
       "4              0.0         NaN               NaN   LOSE 1 days 20:00:00  ...   \n",
       "\n",
       "       tmos_close_w70_lvl_0.04  tmos_close_w70_lvl_-0.04  \\\n",
       "index                                                      \n",
       "0                     0.000000                  0.000000   \n",
       "1                     0.500000                  0.000000   \n",
       "2                     0.333333                  0.333333   \n",
       "3                     0.500000                  0.250000   \n",
       "4                     0.400000                  0.200000   \n",
       "\n",
       "       tmos_close_w70_lvl_0.05  tmos_close_w70_lvl_-0.05  \\\n",
       "index                                                      \n",
       "0                     0.000000                  0.000000   \n",
       "1                     0.500000                  0.000000   \n",
       "2                     0.333333                  0.333333   \n",
       "3                     0.500000                  0.250000   \n",
       "4                     0.400000                  0.200000   \n",
       "\n",
       "       tmos_close_w70_lvl_0.07  tmos_close_w70_lvl_-0.07  \\\n",
       "index                                                      \n",
       "0                     0.000000                  0.000000   \n",
       "1                     0.500000                  0.000000   \n",
       "2                     0.333333                  0.333333   \n",
       "3                     0.500000                  0.250000   \n",
       "4                     0.400000                  0.200000   \n",
       "\n",
       "       tmos_close_w70_lvl_0.1  tmos_close_w70_lvl_-0.1  sin_time_hour  \\\n",
       "index                                                                   \n",
       "0                    0.000000                 0.000000       0.000000   \n",
       "1                    0.500000                 0.000000       0.464723   \n",
       "2                    0.333333                 0.333333       0.822984   \n",
       "3                    0.500000                 0.250000       0.992709   \n",
       "4                    0.400000                 0.200000       0.935016   \n",
       "\n",
       "       cos_time_hour  \n",
       "index                 \n",
       "0           1.000000  \n",
       "1           0.885456  \n",
       "2           0.568065  \n",
       "3           0.120537  \n",
       "4          -0.354605  \n",
       "\n",
       "[5 rows x 94 columns]"
      ]
     },
     "execution_count": 8,
     "metadata": {},
     "output_type": "execute_result"
    }
   ],
   "source": [
    "df_1hour.head()"
   ]
  },
  {
   "cell_type": "code",
   "execution_count": 9,
   "id": "55278652-16ae-4ca5-8539-77c5d1db00c3",
   "metadata": {
    "colab": {
     "base_uri": "https://localhost:8080/",
     "height": 374
    },
    "id": "55278652-16ae-4ca5-8539-77c5d1db00c3",
    "outputId": "f805bc2a-fc7b-4756-8cb9-6b0c68d62c42"
   },
   "outputs": [
    {
     "data": {
      "text/html": [
       "<div>\n",
       "<style scoped>\n",
       "    .dataframe tbody tr th:only-of-type {\n",
       "        vertical-align: middle;\n",
       "    }\n",
       "\n",
       "    .dataframe tbody tr th {\n",
       "        vertical-align: top;\n",
       "    }\n",
       "\n",
       "    .dataframe thead th {\n",
       "        text-align: right;\n",
       "    }\n",
       "</style>\n",
       "<table border=\"1\" class=\"dataframe\">\n",
       "  <thead>\n",
       "    <tr style=\"text-align: right;\">\n",
       "      <th></th>\n",
       "      <th>time</th>\n",
       "      <th>close_1day</th>\n",
       "      <th>volume_1day</th>\n",
       "      <th>ticker</th>\n",
       "      <th>tmos_close_1day</th>\n",
       "      <th>close_1day_w1_roc</th>\n",
       "      <th>close_1day_w1_diff</th>\n",
       "      <th>volume_1day_w1_roc</th>\n",
       "      <th>volume_1day_w1_diff</th>\n",
       "      <th>tmos_close_1day_w1_roc</th>\n",
       "      <th>...</th>\n",
       "      <th>tmos_close_1day_w100_lvl_0.05</th>\n",
       "      <th>tmos_close_1day_w100_lvl_-0.05</th>\n",
       "      <th>tmos_close_1day_w100_lvl_0.07</th>\n",
       "      <th>tmos_close_1day_w100_lvl_-0.07</th>\n",
       "      <th>tmos_close_1day_w100_lvl_0.1</th>\n",
       "      <th>tmos_close_1day_w100_lvl_-0.1</th>\n",
       "      <th>sin_time_weekday</th>\n",
       "      <th>cos_time_weekday</th>\n",
       "      <th>sin_time_monthday</th>\n",
       "      <th>cos_time_monthday</th>\n",
       "    </tr>\n",
       "    <tr>\n",
       "      <th>index</th>\n",
       "      <th></th>\n",
       "      <th></th>\n",
       "      <th></th>\n",
       "      <th></th>\n",
       "      <th></th>\n",
       "      <th></th>\n",
       "      <th></th>\n",
       "      <th></th>\n",
       "      <th></th>\n",
       "      <th></th>\n",
       "      <th></th>\n",
       "      <th></th>\n",
       "      <th></th>\n",
       "      <th></th>\n",
       "      <th></th>\n",
       "      <th></th>\n",
       "      <th></th>\n",
       "      <th></th>\n",
       "      <th></th>\n",
       "      <th></th>\n",
       "      <th></th>\n",
       "    </tr>\n",
       "  </thead>\n",
       "  <tbody>\n",
       "    <tr>\n",
       "      <th>0</th>\n",
       "      <td>2022-05-04 23:00:00</td>\n",
       "      <td>31.200001</td>\n",
       "      <td>1138130.0</td>\n",
       "      <td>AFLT</td>\n",
       "      <td>4.18</td>\n",
       "      <td>NaN</td>\n",
       "      <td>NaN</td>\n",
       "      <td>NaN</td>\n",
       "      <td>NaN</td>\n",
       "      <td>NaN</td>\n",
       "      <td>...</td>\n",
       "      <td>0.000000</td>\n",
       "      <td>0.000000</td>\n",
       "      <td>0.000000</td>\n",
       "      <td>0.000000</td>\n",
       "      <td>0.000000</td>\n",
       "      <td>0.000000</td>\n",
       "      <td>1.224647e-16</td>\n",
       "      <td>-1.000000e+00</td>\n",
       "      <td>0.724793</td>\n",
       "      <td>0.688967</td>\n",
       "    </tr>\n",
       "    <tr>\n",
       "      <th>1</th>\n",
       "      <td>2022-05-05 23:00:00</td>\n",
       "      <td>30.700001</td>\n",
       "      <td>664101.0</td>\n",
       "      <td>AFLT</td>\n",
       "      <td>4.22</td>\n",
       "      <td>-0.016026</td>\n",
       "      <td>-0.50</td>\n",
       "      <td>-0.416498</td>\n",
       "      <td>-474029.0</td>\n",
       "      <td>0.009569</td>\n",
       "      <td>...</td>\n",
       "      <td>0.000000</td>\n",
       "      <td>0.500000</td>\n",
       "      <td>0.000000</td>\n",
       "      <td>0.500000</td>\n",
       "      <td>0.000000</td>\n",
       "      <td>0.500000</td>\n",
       "      <td>-1.000000e+00</td>\n",
       "      <td>-1.836970e-16</td>\n",
       "      <td>0.848644</td>\n",
       "      <td>0.528964</td>\n",
       "    </tr>\n",
       "    <tr>\n",
       "      <th>2</th>\n",
       "      <td>2022-05-06 23:00:00</td>\n",
       "      <td>30.100000</td>\n",
       "      <td>306164.0</td>\n",
       "      <td>AFLT</td>\n",
       "      <td>4.19</td>\n",
       "      <td>-0.019544</td>\n",
       "      <td>-0.60</td>\n",
       "      <td>-0.538980</td>\n",
       "      <td>-357937.0</td>\n",
       "      <td>-0.007109</td>\n",
       "      <td>...</td>\n",
       "      <td>0.333333</td>\n",
       "      <td>0.333333</td>\n",
       "      <td>0.333333</td>\n",
       "      <td>0.333333</td>\n",
       "      <td>0.333333</td>\n",
       "      <td>0.333333</td>\n",
       "      <td>-2.449294e-16</td>\n",
       "      <td>1.000000e+00</td>\n",
       "      <td>0.937752</td>\n",
       "      <td>0.347305</td>\n",
       "    </tr>\n",
       "    <tr>\n",
       "      <th>3</th>\n",
       "      <td>2022-05-11 23:00:00</td>\n",
       "      <td>29.920000</td>\n",
       "      <td>383481.0</td>\n",
       "      <td>AFLT</td>\n",
       "      <td>4.22</td>\n",
       "      <td>-0.005980</td>\n",
       "      <td>-0.18</td>\n",
       "      <td>0.252535</td>\n",
       "      <td>77317.0</td>\n",
       "      <td>0.007160</td>\n",
       "      <td>...</td>\n",
       "      <td>0.000000</td>\n",
       "      <td>0.500000</td>\n",
       "      <td>0.000000</td>\n",
       "      <td>0.500000</td>\n",
       "      <td>0.000000</td>\n",
       "      <td>0.500000</td>\n",
       "      <td>1.224647e-16</td>\n",
       "      <td>-1.000000e+00</td>\n",
       "      <td>0.790776</td>\n",
       "      <td>-0.612106</td>\n",
       "    </tr>\n",
       "    <tr>\n",
       "      <th>4</th>\n",
       "      <td>2022-05-12 23:00:00</td>\n",
       "      <td>29.320000</td>\n",
       "      <td>315954.0</td>\n",
       "      <td>AFLT</td>\n",
       "      <td>4.06</td>\n",
       "      <td>-0.020053</td>\n",
       "      <td>-0.60</td>\n",
       "      <td>-0.176090</td>\n",
       "      <td>-67527.0</td>\n",
       "      <td>-0.037915</td>\n",
       "      <td>...</td>\n",
       "      <td>0.800000</td>\n",
       "      <td>0.000000</td>\n",
       "      <td>0.800000</td>\n",
       "      <td>0.000000</td>\n",
       "      <td>0.800000</td>\n",
       "      <td>0.000000</td>\n",
       "      <td>-1.000000e+00</td>\n",
       "      <td>-1.836970e-16</td>\n",
       "      <td>0.651372</td>\n",
       "      <td>-0.758758</td>\n",
       "    </tr>\n",
       "  </tbody>\n",
       "</table>\n",
       "<p>5 rows × 131 columns</p>\n",
       "</div>"
      ],
      "text/plain": [
       "                     time  close_1day  volume_1day ticker  tmos_close_1day  \\\n",
       "index                                                                        \n",
       "0     2022-05-04 23:00:00   31.200001    1138130.0   AFLT             4.18   \n",
       "1     2022-05-05 23:00:00   30.700001     664101.0   AFLT             4.22   \n",
       "2     2022-05-06 23:00:00   30.100000     306164.0   AFLT             4.19   \n",
       "3     2022-05-11 23:00:00   29.920000     383481.0   AFLT             4.22   \n",
       "4     2022-05-12 23:00:00   29.320000     315954.0   AFLT             4.06   \n",
       "\n",
       "       close_1day_w1_roc  close_1day_w1_diff  volume_1day_w1_roc  \\\n",
       "index                                                              \n",
       "0                    NaN                 NaN                 NaN   \n",
       "1              -0.016026               -0.50           -0.416498   \n",
       "2              -0.019544               -0.60           -0.538980   \n",
       "3              -0.005980               -0.18            0.252535   \n",
       "4              -0.020053               -0.60           -0.176090   \n",
       "\n",
       "       volume_1day_w1_diff  tmos_close_1day_w1_roc  ...  \\\n",
       "index                                               ...   \n",
       "0                      NaN                     NaN  ...   \n",
       "1                -474029.0                0.009569  ...   \n",
       "2                -357937.0               -0.007109  ...   \n",
       "3                  77317.0                0.007160  ...   \n",
       "4                 -67527.0               -0.037915  ...   \n",
       "\n",
       "       tmos_close_1day_w100_lvl_0.05  tmos_close_1day_w100_lvl_-0.05  \\\n",
       "index                                                                  \n",
       "0                           0.000000                        0.000000   \n",
       "1                           0.000000                        0.500000   \n",
       "2                           0.333333                        0.333333   \n",
       "3                           0.000000                        0.500000   \n",
       "4                           0.800000                        0.000000   \n",
       "\n",
       "       tmos_close_1day_w100_lvl_0.07  tmos_close_1day_w100_lvl_-0.07  \\\n",
       "index                                                                  \n",
       "0                           0.000000                        0.000000   \n",
       "1                           0.000000                        0.500000   \n",
       "2                           0.333333                        0.333333   \n",
       "3                           0.000000                        0.500000   \n",
       "4                           0.800000                        0.000000   \n",
       "\n",
       "       tmos_close_1day_w100_lvl_0.1  tmos_close_1day_w100_lvl_-0.1  \\\n",
       "index                                                                \n",
       "0                          0.000000                       0.000000   \n",
       "1                          0.000000                       0.500000   \n",
       "2                          0.333333                       0.333333   \n",
       "3                          0.000000                       0.500000   \n",
       "4                          0.800000                       0.000000   \n",
       "\n",
       "       sin_time_weekday  cos_time_weekday  sin_time_monthday  \\\n",
       "index                                                          \n",
       "0          1.224647e-16     -1.000000e+00           0.724793   \n",
       "1         -1.000000e+00     -1.836970e-16           0.848644   \n",
       "2         -2.449294e-16      1.000000e+00           0.937752   \n",
       "3          1.224647e-16     -1.000000e+00           0.790776   \n",
       "4         -1.000000e+00     -1.836970e-16           0.651372   \n",
       "\n",
       "       cos_time_monthday  \n",
       "index                     \n",
       "0               0.688967  \n",
       "1               0.528964  \n",
       "2               0.347305  \n",
       "3              -0.612106  \n",
       "4              -0.758758  \n",
       "\n",
       "[5 rows x 131 columns]"
      ]
     },
     "execution_count": 9,
     "metadata": {},
     "output_type": "execute_result"
    }
   ],
   "source": [
    "df_1day.head()"
   ]
  },
  {
   "cell_type": "code",
   "execution_count": null,
   "id": "e77e6b46-39ec-4aa2-9472-bde5a91956d4",
   "metadata": {},
   "outputs": [],
   "source": []
  },
  {
   "cell_type": "code",
   "execution_count": null,
   "id": "28e28575-c36c-4be2-9733-6825e4faef46",
   "metadata": {
    "id": "28e28575-c36c-4be2-9733-6825e4faef46"
   },
   "outputs": [],
   "source": []
  },
  {
   "cell_type": "markdown",
   "id": "d4bdf3c8-1258-4555-9d7c-d063602f9a22",
   "metadata": {
    "id": "d4bdf3c8-1258-4555-9d7c-d063602f9a22"
   },
   "source": [
    "### Normalization data"
   ]
  },
  {
   "cell_type": "code",
   "execution_count": 13,
   "id": "bea5d004-f9bc-4bae-8b65-95bddffa68f2",
   "metadata": {},
   "outputs": [
    {
     "data": {
      "text/plain": [
       "['time',\n",
       " 'close_1day',\n",
       " 'volume_1day',\n",
       " 'ticker',\n",
       " 'tmos_close_1day',\n",
       " 'close_1day_w1_roc',\n",
       " 'close_1day_w1_diff',\n",
       " 'volume_1day_w1_roc',\n",
       " 'volume_1day_w1_diff',\n",
       " 'tmos_close_1day_w1_roc',\n",
       " 'tmos_close_1day_w1_diff',\n",
       " 'close_1day_w3_ma',\n",
       " 'close_1day_w3_std',\n",
       " 'close_1day_w3_rsi',\n",
       " 'close_1day_w3_roc',\n",
       " 'close_1day_w3_diff',\n",
       " 'volume_1day_w3_ma',\n",
       " 'volume_1day_w3_std',\n",
       " 'volume_1day_w3_rsi',\n",
       " 'volume_1day_w3_roc',\n",
       " 'volume_1day_w3_diff',\n",
       " 'tmos_close_1day_w3_ma',\n",
       " 'tmos_close_1day_w3_std',\n",
       " 'tmos_close_1day_w3_rsi',\n",
       " 'tmos_close_1day_w3_roc',\n",
       " 'tmos_close_1day_w3_diff',\n",
       " 'close_1day_w5_ma',\n",
       " 'close_1day_w5_std',\n",
       " 'close_1day_w5_rsi',\n",
       " 'close_1day_w5_roc',\n",
       " 'close_1day_w5_diff',\n",
       " 'volume_1day_w5_ma',\n",
       " 'volume_1day_w5_std',\n",
       " 'volume_1day_w5_rsi',\n",
       " 'volume_1day_w5_roc',\n",
       " 'volume_1day_w5_diff',\n",
       " 'tmos_close_1day_w5_ma',\n",
       " 'tmos_close_1day_w5_std',\n",
       " 'tmos_close_1day_w5_rsi',\n",
       " 'tmos_close_1day_w5_roc',\n",
       " 'tmos_close_1day_w5_diff',\n",
       " 'close_1day_w20_ma',\n",
       " 'close_1day_w20_std',\n",
       " 'close_1day_w20_rsi',\n",
       " 'close_1day_w20_roc',\n",
       " 'close_1day_w20_diff',\n",
       " 'close_1day_w20_lvl_0.01',\n",
       " 'close_1day_w20_lvl_-0.01',\n",
       " 'close_1day_w20_lvl_0.02',\n",
       " 'close_1day_w20_lvl_-0.02',\n",
       " 'close_1day_w20_lvl_0.03',\n",
       " 'close_1day_w20_lvl_-0.03',\n",
       " 'close_1day_w20_lvl_0.04',\n",
       " 'close_1day_w20_lvl_-0.04',\n",
       " 'close_1day_w20_lvl_0.05',\n",
       " 'close_1day_w20_lvl_-0.05',\n",
       " 'close_1day_w20_lvl_0.07',\n",
       " 'close_1day_w20_lvl_-0.07',\n",
       " 'close_1day_w20_lvl_0.1',\n",
       " 'close_1day_w20_lvl_-0.1',\n",
       " 'volume_1day_w20_ma',\n",
       " 'volume_1day_w20_std',\n",
       " 'volume_1day_w20_rsi',\n",
       " 'volume_1day_w20_roc',\n",
       " 'volume_1day_w20_diff',\n",
       " 'tmos_close_1day_w20_ma',\n",
       " 'tmos_close_1day_w20_std',\n",
       " 'tmos_close_1day_w20_rsi',\n",
       " 'tmos_close_1day_w20_roc',\n",
       " 'tmos_close_1day_w20_diff',\n",
       " 'tmos_close_1day_w20_lvl_0.01',\n",
       " 'tmos_close_1day_w20_lvl_-0.01',\n",
       " 'tmos_close_1day_w20_lvl_0.02',\n",
       " 'tmos_close_1day_w20_lvl_-0.02',\n",
       " 'tmos_close_1day_w20_lvl_0.03',\n",
       " 'tmos_close_1day_w20_lvl_-0.03',\n",
       " 'tmos_close_1day_w20_lvl_0.04',\n",
       " 'tmos_close_1day_w20_lvl_-0.04',\n",
       " 'tmos_close_1day_w20_lvl_0.05',\n",
       " 'tmos_close_1day_w20_lvl_-0.05',\n",
       " 'tmos_close_1day_w20_lvl_0.07',\n",
       " 'tmos_close_1day_w20_lvl_-0.07',\n",
       " 'tmos_close_1day_w20_lvl_0.1',\n",
       " 'tmos_close_1day_w20_lvl_-0.1',\n",
       " 'close_1day_w100_ma',\n",
       " 'close_1day_w100_std',\n",
       " 'close_1day_w100_rsi',\n",
       " 'close_1day_w100_roc',\n",
       " 'close_1day_w100_diff',\n",
       " 'close_1day_w100_lvl_0.01',\n",
       " 'close_1day_w100_lvl_-0.01',\n",
       " 'close_1day_w100_lvl_0.02',\n",
       " 'close_1day_w100_lvl_-0.02',\n",
       " 'close_1day_w100_lvl_0.03',\n",
       " 'close_1day_w100_lvl_-0.03',\n",
       " 'close_1day_w100_lvl_0.04',\n",
       " 'close_1day_w100_lvl_-0.04',\n",
       " 'close_1day_w100_lvl_0.05',\n",
       " 'close_1day_w100_lvl_-0.05',\n",
       " 'close_1day_w100_lvl_0.07',\n",
       " 'close_1day_w100_lvl_-0.07',\n",
       " 'close_1day_w100_lvl_0.1',\n",
       " 'close_1day_w100_lvl_-0.1',\n",
       " 'volume_1day_w100_ma',\n",
       " 'volume_1day_w100_std',\n",
       " 'volume_1day_w100_rsi',\n",
       " 'volume_1day_w100_roc',\n",
       " 'volume_1day_w100_diff',\n",
       " 'tmos_close_1day_w100_ma',\n",
       " 'tmos_close_1day_w100_std',\n",
       " 'tmos_close_1day_w100_rsi',\n",
       " 'tmos_close_1day_w100_roc',\n",
       " 'tmos_close_1day_w100_diff',\n",
       " 'tmos_close_1day_w100_lvl_0.01',\n",
       " 'tmos_close_1day_w100_lvl_-0.01',\n",
       " 'tmos_close_1day_w100_lvl_0.02',\n",
       " 'tmos_close_1day_w100_lvl_-0.02',\n",
       " 'tmos_close_1day_w100_lvl_0.03',\n",
       " 'tmos_close_1day_w100_lvl_-0.03',\n",
       " 'tmos_close_1day_w100_lvl_0.04',\n",
       " 'tmos_close_1day_w100_lvl_-0.04',\n",
       " 'tmos_close_1day_w100_lvl_0.05',\n",
       " 'tmos_close_1day_w100_lvl_-0.05',\n",
       " 'tmos_close_1day_w100_lvl_0.07',\n",
       " 'tmos_close_1day_w100_lvl_-0.07',\n",
       " 'tmos_close_1day_w100_lvl_0.1',\n",
       " 'tmos_close_1day_w100_lvl_-0.1',\n",
       " 'sin_time_weekday',\n",
       " 'cos_time_weekday',\n",
       " 'sin_time_monthday',\n",
       " 'cos_time_monthday']"
      ]
     },
     "execution_count": 13,
     "metadata": {},
     "output_type": "execute_result"
    }
   ],
   "source": [
    "df_1day.columns.tolist()"
   ]
  },
  {
   "cell_type": "code",
   "execution_count": null,
   "id": "89d1a637-8051-46c0-931f-a3d3f7a7f39a",
   "metadata": {},
   "outputs": [],
   "source": []
  },
  {
   "cell_type": "code",
   "execution_count": null,
   "id": "334045b5-9067-45b2-b813-afc63ec3ea4d",
   "metadata": {
    "id": "334045b5-9067-45b2-b813-afc63ec3ea4d"
   },
   "outputs": [],
   "source": []
  },
  {
   "cell_type": "code",
   "execution_count": 22,
   "id": "62e166c7-95ef-442d-a570-9374143680a7",
   "metadata": {
    "id": "62e166c7-95ef-442d-a570-9374143680a7"
   },
   "outputs": [],
   "source": [
    "from sklearn.preprocessing import StandardScaler\n",
    "\n",
    "cols_exclude_1hour = ['time', 'ticker',\n",
    "                     'index_start', 'index_1day', 'index_start_1day', \n",
    "                     'result', 'delta_time','income_rate', 'res_price', 'res_ind']\n",
    "cols = df_1hour.columns[~df_1hour.columns.isin(cols_exclude_1hour)]\n",
    "\n",
    "#scaler = load_pkl('./scaler_1min.pkl')\n",
    "scaler = StandardScaler()\n",
    "df_1hour[cols] = scaler.fit_transform(df_1hour[cols])\n",
    "\n",
    "\n",
    "cols_exclude_1day = ['time', 'ticker',]\n",
    "cols = df_1day.columns[~df_1day.columns.isin(cols_exclude_1day)]\n",
    "#scaler = load_pkl('./scaler_1day.pkl')\n",
    "scaler = StandardScaler()\n",
    "df_1day[cols] = scaler.fit_transform(df_1day[cols])"
   ]
  },
  {
   "cell_type": "code",
   "execution_count": null,
   "id": "e351d206-cc74-4814-9774-8c23f7de4dab",
   "metadata": {},
   "outputs": [],
   "source": []
  },
  {
   "cell_type": "code",
   "execution_count": 25,
   "id": "kBB5RD46wGyz",
   "metadata": {
    "colab": {
     "base_uri": "https://localhost:8080/",
     "height": 649
    },
    "id": "kBB5RD46wGyz",
    "outputId": "d57eed01-0b29-4fd7-9c4e-4efe8cc46cf0"
   },
   "outputs": [
    {
     "data": {
      "text/html": [
       "<div>\n",
       "<style scoped>\n",
       "    .dataframe tbody tr th:only-of-type {\n",
       "        vertical-align: middle;\n",
       "    }\n",
       "\n",
       "    .dataframe tbody tr th {\n",
       "        vertical-align: top;\n",
       "    }\n",
       "\n",
       "    .dataframe thead th {\n",
       "        text-align: right;\n",
       "    }\n",
       "</style>\n",
       "<table border=\"1\" class=\"dataframe\">\n",
       "  <thead>\n",
       "    <tr style=\"text-align: right;\">\n",
       "      <th></th>\n",
       "      <th>time</th>\n",
       "      <th>close</th>\n",
       "      <th>volume</th>\n",
       "      <th>ticker</th>\n",
       "      <th>tmos_close</th>\n",
       "      <th>index_start</th>\n",
       "      <th>index_1day</th>\n",
       "      <th>index_start_1day</th>\n",
       "      <th>result</th>\n",
       "      <th>delta_time</th>\n",
       "      <th>...</th>\n",
       "      <th>tmos_close_w70_lvl_0.04</th>\n",
       "      <th>tmos_close_w70_lvl_-0.04</th>\n",
       "      <th>tmos_close_w70_lvl_0.05</th>\n",
       "      <th>tmos_close_w70_lvl_-0.05</th>\n",
       "      <th>tmos_close_w70_lvl_0.07</th>\n",
       "      <th>tmos_close_w70_lvl_-0.07</th>\n",
       "      <th>tmos_close_w70_lvl_0.1</th>\n",
       "      <th>tmos_close_w70_lvl_-0.1</th>\n",
       "      <th>sin_time_hour</th>\n",
       "      <th>cos_time_hour</th>\n",
       "    </tr>\n",
       "    <tr>\n",
       "      <th>index</th>\n",
       "      <th></th>\n",
       "      <th></th>\n",
       "      <th></th>\n",
       "      <th></th>\n",
       "      <th></th>\n",
       "      <th></th>\n",
       "      <th></th>\n",
       "      <th></th>\n",
       "      <th></th>\n",
       "      <th></th>\n",
       "      <th></th>\n",
       "      <th></th>\n",
       "      <th></th>\n",
       "      <th></th>\n",
       "      <th></th>\n",
       "      <th></th>\n",
       "      <th></th>\n",
       "      <th></th>\n",
       "      <th></th>\n",
       "      <th></th>\n",
       "      <th></th>\n",
       "    </tr>\n",
       "  </thead>\n",
       "  <tbody>\n",
       "    <tr>\n",
       "      <th>0</th>\n",
       "      <td>2022-05-04 10:00:00</td>\n",
       "      <td>-0.304054</td>\n",
       "      <td>0.931093</td>\n",
       "      <td>AFLT</td>\n",
       "      <td>-1.195464</td>\n",
       "      <td>0.0</td>\n",
       "      <td>NaN</td>\n",
       "      <td>NaN</td>\n",
       "      <td>LOSE</td>\n",
       "      <td>1 days 01:00:00</td>\n",
       "      <td>...</td>\n",
       "      <td>-1.090538</td>\n",
       "      <td>-1.461941</td>\n",
       "      <td>-1.094331</td>\n",
       "      <td>-1.484996</td>\n",
       "      <td>-1.099550</td>\n",
       "      <td>-1.494293</td>\n",
       "      <td>-1.103914</td>\n",
       "      <td>-1.499320</td>\n",
       "      <td>-0.241308</td>\n",
       "      <td>1.367128</td>\n",
       "    </tr>\n",
       "    <tr>\n",
       "      <th>1</th>\n",
       "      <td>2022-05-04 11:00:00</td>\n",
       "      <td>-0.304208</td>\n",
       "      <td>0.255973</td>\n",
       "      <td>AFLT</td>\n",
       "      <td>-1.263417</td>\n",
       "      <td>0.0</td>\n",
       "      <td>NaN</td>\n",
       "      <td>NaN</td>\n",
       "      <td>LOSE</td>\n",
       "      <td>1 days 23:00:00</td>\n",
       "      <td>...</td>\n",
       "      <td>0.466908</td>\n",
       "      <td>-1.461941</td>\n",
       "      <td>0.394826</td>\n",
       "      <td>-1.484996</td>\n",
       "      <td>0.339647</td>\n",
       "      <td>-1.494293</td>\n",
       "      <td>0.317132</td>\n",
       "      <td>-1.499320</td>\n",
       "      <td>0.476526</td>\n",
       "      <td>1.213525</td>\n",
       "    </tr>\n",
       "    <tr>\n",
       "      <th>2</th>\n",
       "      <td>2022-05-04 12:00:00</td>\n",
       "      <td>-0.304118</td>\n",
       "      <td>0.034175</td>\n",
       "      <td>AFLT</td>\n",
       "      <td>-1.244002</td>\n",
       "      <td>0.0</td>\n",
       "      <td>NaN</td>\n",
       "      <td>NaN</td>\n",
       "      <td>LOSE</td>\n",
       "      <td>1 days 04:00:00</td>\n",
       "      <td>...</td>\n",
       "      <td>-0.052241</td>\n",
       "      <td>-0.460754</td>\n",
       "      <td>-0.101559</td>\n",
       "      <td>-0.508843</td>\n",
       "      <td>-0.140085</td>\n",
       "      <td>-0.541094</td>\n",
       "      <td>-0.156550</td>\n",
       "      <td>-0.551282</td>\n",
       "      <td>1.029912</td>\n",
       "      <td>0.787906</td>\n",
       "    </tr>\n",
       "    <tr>\n",
       "      <th>3</th>\n",
       "      <td>2022-05-04 13:00:00</td>\n",
       "      <td>-0.304213</td>\n",
       "      <td>0.031301</td>\n",
       "      <td>AFLT</td>\n",
       "      <td>-1.253709</td>\n",
       "      <td>0.0</td>\n",
       "      <td>NaN</td>\n",
       "      <td>NaN</td>\n",
       "      <td>LOSE</td>\n",
       "      <td>1 days 21:00:00</td>\n",
       "      <td>...</td>\n",
       "      <td>0.466908</td>\n",
       "      <td>-0.711051</td>\n",
       "      <td>0.394826</td>\n",
       "      <td>-0.752881</td>\n",
       "      <td>0.339647</td>\n",
       "      <td>-0.779394</td>\n",
       "      <td>0.317132</td>\n",
       "      <td>-0.788291</td>\n",
       "      <td>1.292078</td>\n",
       "      <td>0.187774</td>\n",
       "    </tr>\n",
       "    <tr>\n",
       "      <th>4</th>\n",
       "      <td>2022-05-04 14:00:00</td>\n",
       "      <td>-0.304174</td>\n",
       "      <td>-0.008242</td>\n",
       "      <td>AFLT</td>\n",
       "      <td>-1.253709</td>\n",
       "      <td>0.0</td>\n",
       "      <td>NaN</td>\n",
       "      <td>NaN</td>\n",
       "      <td>LOSE</td>\n",
       "      <td>1 days 20:00:00</td>\n",
       "      <td>...</td>\n",
       "      <td>0.155419</td>\n",
       "      <td>-0.861229</td>\n",
       "      <td>0.096995</td>\n",
       "      <td>-0.899304</td>\n",
       "      <td>0.051808</td>\n",
       "      <td>-0.922373</td>\n",
       "      <td>0.032923</td>\n",
       "      <td>-0.930497</td>\n",
       "      <td>1.202963</td>\n",
       "      <td>-0.449388</td>\n",
       "    </tr>\n",
       "    <tr>\n",
       "      <th>...</th>\n",
       "      <td>...</td>\n",
       "      <td>...</td>\n",
       "      <td>...</td>\n",
       "      <td>...</td>\n",
       "      <td>...</td>\n",
       "      <td>...</td>\n",
       "      <td>...</td>\n",
       "      <td>...</td>\n",
       "      <td>...</td>\n",
       "      <td>...</td>\n",
       "      <td>...</td>\n",
       "      <td>...</td>\n",
       "      <td>...</td>\n",
       "      <td>...</td>\n",
       "      <td>...</td>\n",
       "      <td>...</td>\n",
       "      <td>...</td>\n",
       "      <td>...</td>\n",
       "      <td>...</td>\n",
       "      <td>...</td>\n",
       "      <td>...</td>\n",
       "    </tr>\n",
       "    <tr>\n",
       "      <th>972606</th>\n",
       "      <td>2024-12-31 19:00:00</td>\n",
       "      <td>-0.308602</td>\n",
       "      <td>-0.159124</td>\n",
       "      <td>RBCM</td>\n",
       "      <td>0.746050</td>\n",
       "      <td>965844.0</td>\n",
       "      <td>85511.0</td>\n",
       "      <td>84836.0</td>\n",
       "      <td>DNF</td>\n",
       "      <td>0 days 04:00:00</td>\n",
       "      <td>...</td>\n",
       "      <td>-1.090538</td>\n",
       "      <td>-0.904137</td>\n",
       "      <td>-1.094331</td>\n",
       "      <td>0.481256</td>\n",
       "      <td>-1.099550</td>\n",
       "      <td>0.875087</td>\n",
       "      <td>-1.103914</td>\n",
       "      <td>0.897862</td>\n",
       "      <td>-1.685579</td>\n",
       "      <td>-0.449388</td>\n",
       "    </tr>\n",
       "    <tr>\n",
       "      <th>972607</th>\n",
       "      <td>2024-12-31 20:00:00</td>\n",
       "      <td>-0.308614</td>\n",
       "      <td>-0.159135</td>\n",
       "      <td>RBCM</td>\n",
       "      <td>0.746050</td>\n",
       "      <td>965844.0</td>\n",
       "      <td>85511.0</td>\n",
       "      <td>84836.0</td>\n",
       "      <td>DNF</td>\n",
       "      <td>0 days 03:00:00</td>\n",
       "      <td>...</td>\n",
       "      <td>-1.090538</td>\n",
       "      <td>-0.904137</td>\n",
       "      <td>-1.094331</td>\n",
       "      <td>0.481256</td>\n",
       "      <td>-1.099550</td>\n",
       "      <td>0.834236</td>\n",
       "      <td>-1.103914</td>\n",
       "      <td>0.857232</td>\n",
       "      <td>-1.774694</td>\n",
       "      <td>0.187774</td>\n",
       "    </tr>\n",
       "    <tr>\n",
       "      <th>972608</th>\n",
       "      <td>2024-12-31 21:00:00</td>\n",
       "      <td>-0.308604</td>\n",
       "      <td>-0.159115</td>\n",
       "      <td>RBCM</td>\n",
       "      <td>0.746050</td>\n",
       "      <td>965844.0</td>\n",
       "      <td>85511.0</td>\n",
       "      <td>84836.0</td>\n",
       "      <td>DNF</td>\n",
       "      <td>0 days 02:00:00</td>\n",
       "      <td>...</td>\n",
       "      <td>-1.090538</td>\n",
       "      <td>-0.904137</td>\n",
       "      <td>-1.094331</td>\n",
       "      <td>0.481256</td>\n",
       "      <td>-1.099550</td>\n",
       "      <td>0.793384</td>\n",
       "      <td>-1.103914</td>\n",
       "      <td>0.816602</td>\n",
       "      <td>-1.512528</td>\n",
       "      <td>0.787906</td>\n",
       "    </tr>\n",
       "    <tr>\n",
       "      <th>972609</th>\n",
       "      <td>2024-12-31 22:00:00</td>\n",
       "      <td>-0.308616</td>\n",
       "      <td>-0.159009</td>\n",
       "      <td>RBCM</td>\n",
       "      <td>0.746050</td>\n",
       "      <td>965844.0</td>\n",
       "      <td>85511.0</td>\n",
       "      <td>84836.0</td>\n",
       "      <td>DNF</td>\n",
       "      <td>0 days 01:00:00</td>\n",
       "      <td>...</td>\n",
       "      <td>-1.090538</td>\n",
       "      <td>-0.904137</td>\n",
       "      <td>-1.094331</td>\n",
       "      <td>0.481256</td>\n",
       "      <td>-1.099550</td>\n",
       "      <td>0.752533</td>\n",
       "      <td>-1.103914</td>\n",
       "      <td>0.775972</td>\n",
       "      <td>-0.959142</td>\n",
       "      <td>1.213525</td>\n",
       "    </tr>\n",
       "    <tr>\n",
       "      <th>972610</th>\n",
       "      <td>2024-12-31 23:00:00</td>\n",
       "      <td>-0.308615</td>\n",
       "      <td>-0.159115</td>\n",
       "      <td>RBCM</td>\n",
       "      <td>0.746050</td>\n",
       "      <td>965844.0</td>\n",
       "      <td>85511.0</td>\n",
       "      <td>84836.0</td>\n",
       "      <td>DNF</td>\n",
       "      <td>0 days 00:00:00</td>\n",
       "      <td>...</td>\n",
       "      <td>-1.090538</td>\n",
       "      <td>-0.904137</td>\n",
       "      <td>-1.094331</td>\n",
       "      <td>0.481256</td>\n",
       "      <td>-1.099550</td>\n",
       "      <td>0.711682</td>\n",
       "      <td>-1.103914</td>\n",
       "      <td>0.735342</td>\n",
       "      <td>-0.241308</td>\n",
       "      <td>1.367128</td>\n",
       "    </tr>\n",
       "  </tbody>\n",
       "</table>\n",
       "<p>972611 rows × 94 columns</p>\n",
       "</div>"
      ],
      "text/plain": [
       "                      time     close    volume ticker  tmos_close  \\\n",
       "index                                                               \n",
       "0      2022-05-04 10:00:00 -0.304054  0.931093   AFLT   -1.195464   \n",
       "1      2022-05-04 11:00:00 -0.304208  0.255973   AFLT   -1.263417   \n",
       "2      2022-05-04 12:00:00 -0.304118  0.034175   AFLT   -1.244002   \n",
       "3      2022-05-04 13:00:00 -0.304213  0.031301   AFLT   -1.253709   \n",
       "4      2022-05-04 14:00:00 -0.304174 -0.008242   AFLT   -1.253709   \n",
       "...                    ...       ...       ...    ...         ...   \n",
       "972606 2024-12-31 19:00:00 -0.308602 -0.159124   RBCM    0.746050   \n",
       "972607 2024-12-31 20:00:00 -0.308614 -0.159135   RBCM    0.746050   \n",
       "972608 2024-12-31 21:00:00 -0.308604 -0.159115   RBCM    0.746050   \n",
       "972609 2024-12-31 22:00:00 -0.308616 -0.159009   RBCM    0.746050   \n",
       "972610 2024-12-31 23:00:00 -0.308615 -0.159115   RBCM    0.746050   \n",
       "\n",
       "        index_start  index_1day  index_start_1day result      delta_time  ...  \\\n",
       "index                                                                     ...   \n",
       "0               0.0         NaN               NaN   LOSE 1 days 01:00:00  ...   \n",
       "1               0.0         NaN               NaN   LOSE 1 days 23:00:00  ...   \n",
       "2               0.0         NaN               NaN   LOSE 1 days 04:00:00  ...   \n",
       "3               0.0         NaN               NaN   LOSE 1 days 21:00:00  ...   \n",
       "4               0.0         NaN               NaN   LOSE 1 days 20:00:00  ...   \n",
       "...             ...         ...               ...    ...             ...  ...   \n",
       "972606     965844.0     85511.0           84836.0    DNF 0 days 04:00:00  ...   \n",
       "972607     965844.0     85511.0           84836.0    DNF 0 days 03:00:00  ...   \n",
       "972608     965844.0     85511.0           84836.0    DNF 0 days 02:00:00  ...   \n",
       "972609     965844.0     85511.0           84836.0    DNF 0 days 01:00:00  ...   \n",
       "972610     965844.0     85511.0           84836.0    DNF 0 days 00:00:00  ...   \n",
       "\n",
       "        tmos_close_w70_lvl_0.04  tmos_close_w70_lvl_-0.04  \\\n",
       "index                                                       \n",
       "0                     -1.090538                 -1.461941   \n",
       "1                      0.466908                 -1.461941   \n",
       "2                     -0.052241                 -0.460754   \n",
       "3                      0.466908                 -0.711051   \n",
       "4                      0.155419                 -0.861229   \n",
       "...                         ...                       ...   \n",
       "972606                -1.090538                 -0.904137   \n",
       "972607                -1.090538                 -0.904137   \n",
       "972608                -1.090538                 -0.904137   \n",
       "972609                -1.090538                 -0.904137   \n",
       "972610                -1.090538                 -0.904137   \n",
       "\n",
       "        tmos_close_w70_lvl_0.05  tmos_close_w70_lvl_-0.05  \\\n",
       "index                                                       \n",
       "0                     -1.094331                 -1.484996   \n",
       "1                      0.394826                 -1.484996   \n",
       "2                     -0.101559                 -0.508843   \n",
       "3                      0.394826                 -0.752881   \n",
       "4                      0.096995                 -0.899304   \n",
       "...                         ...                       ...   \n",
       "972606                -1.094331                  0.481256   \n",
       "972607                -1.094331                  0.481256   \n",
       "972608                -1.094331                  0.481256   \n",
       "972609                -1.094331                  0.481256   \n",
       "972610                -1.094331                  0.481256   \n",
       "\n",
       "        tmos_close_w70_lvl_0.07  tmos_close_w70_lvl_-0.07  \\\n",
       "index                                                       \n",
       "0                     -1.099550                 -1.494293   \n",
       "1                      0.339647                 -1.494293   \n",
       "2                     -0.140085                 -0.541094   \n",
       "3                      0.339647                 -0.779394   \n",
       "4                      0.051808                 -0.922373   \n",
       "...                         ...                       ...   \n",
       "972606                -1.099550                  0.875087   \n",
       "972607                -1.099550                  0.834236   \n",
       "972608                -1.099550                  0.793384   \n",
       "972609                -1.099550                  0.752533   \n",
       "972610                -1.099550                  0.711682   \n",
       "\n",
       "        tmos_close_w70_lvl_0.1  tmos_close_w70_lvl_-0.1  sin_time_hour  \\\n",
       "index                                                                    \n",
       "0                    -1.103914                -1.499320      -0.241308   \n",
       "1                     0.317132                -1.499320       0.476526   \n",
       "2                    -0.156550                -0.551282       1.029912   \n",
       "3                     0.317132                -0.788291       1.292078   \n",
       "4                     0.032923                -0.930497       1.202963   \n",
       "...                        ...                      ...            ...   \n",
       "972606               -1.103914                 0.897862      -1.685579   \n",
       "972607               -1.103914                 0.857232      -1.774694   \n",
       "972608               -1.103914                 0.816602      -1.512528   \n",
       "972609               -1.103914                 0.775972      -0.959142   \n",
       "972610               -1.103914                 0.735342      -0.241308   \n",
       "\n",
       "        cos_time_hour  \n",
       "index                  \n",
       "0            1.367128  \n",
       "1            1.213525  \n",
       "2            0.787906  \n",
       "3            0.187774  \n",
       "4           -0.449388  \n",
       "...               ...  \n",
       "972606      -0.449388  \n",
       "972607       0.187774  \n",
       "972608       0.787906  \n",
       "972609       1.213525  \n",
       "972610       1.367128  \n",
       "\n",
       "[972611 rows x 94 columns]"
      ]
     },
     "execution_count": 25,
     "metadata": {},
     "output_type": "execute_result"
    }
   ],
   "source": [
    "df_1hour"
   ]
  },
  {
   "cell_type": "code",
   "execution_count": 27,
   "id": "xeXCfzhbolTJ",
   "metadata": {
    "colab": {
     "base_uri": "https://localhost:8080/"
    },
    "id": "xeXCfzhbolTJ",
    "outputId": "a448840f-69d3-4d68-d005-eecec007b300"
   },
   "outputs": [
    {
     "data": {
      "text/plain": [
       "697.6415405273438"
      ]
     },
     "execution_count": 27,
     "metadata": {},
     "output_type": "execute_result"
    }
   ],
   "source": [
    "df_1hour[df_1hour.columns[~df_1hour.columns.isin(cols_exclude_1hour)]].abs().max().max()"
   ]
  },
  {
   "cell_type": "code",
   "execution_count": 29,
   "id": "_hEd_wI1DwAE",
   "metadata": {
    "colab": {
     "base_uri": "https://localhost:8080/"
    },
    "id": "_hEd_wI1DwAE",
    "outputId": "7231f56a-e20f-45c6-d2e9-035f98944a72"
   },
   "outputs": [
    {
     "data": {
      "text/plain": [
       "292.2048034667969"
      ]
     },
     "execution_count": 29,
     "metadata": {},
     "output_type": "execute_result"
    }
   ],
   "source": [
    "df_1day[df_1day.columns[~df_1day.columns.isin(cols_exclude_1day)]].abs().max().max()"
   ]
  },
  {
   "cell_type": "code",
   "execution_count": null,
   "id": "lwbnJ3DAnO3x",
   "metadata": {
    "id": "lwbnJ3DAnO3x"
   },
   "outputs": [],
   "source": []
  },
  {
   "cell_type": "code",
   "execution_count": 32,
   "id": "a0611864-8569-418a-a959-5ab39595b320",
   "metadata": {
    "id": "a0611864-8569-418a-a959-5ab39595b320"
   },
   "outputs": [],
   "source": [
    "df_1hour['target'] = (df_1hour['result'] == 'WIN').astype(int)"
   ]
  },
  {
   "cell_type": "code",
   "execution_count": 34,
   "id": "206263ce-b65e-40eb-8db5-252cc2fb8b09",
   "metadata": {
    "colab": {
     "base_uri": "https://localhost:8080/",
     "height": 661
    },
    "id": "206263ce-b65e-40eb-8db5-252cc2fb8b09",
    "outputId": "b3b9d4b5-20a7-4d3b-8e07-8d769cae43e7"
   },
   "outputs": [
    {
     "data": {
      "text/plain": [
       "<Axes: xlabel='time'>"
      ]
     },
     "execution_count": 34,
     "metadata": {},
     "output_type": "execute_result"
    },
    {
     "data": {
      "image/png": "[encoded data removed]",
      "text/plain": [
       "<Figure size 640x480 with 1 Axes>"
      ]
     },
     "metadata": {},
     "output_type": "display_data"
    }
   ],
   "source": [
    "df_1hour[['time', 'target']].groupby(pd.Grouper(key='time', freq='ME')).target.count().plot.bar()"
   ]
  },
  {
   "cell_type": "code",
   "execution_count": 35,
   "id": "f3472da7-9d47-4cc9-9010-79813506b891",
   "metadata": {
    "colab": {
     "base_uri": "https://localhost:8080/",
     "height": 657
    },
    "id": "f3472da7-9d47-4cc9-9010-79813506b891",
    "outputId": "099064a5-73af-4fd2-a417-60f9c2ca22f4"
   },
   "outputs": [
    {
     "data": {
      "text/plain": [
       "<Axes: xlabel='time'>"
      ]
     },
     "execution_count": 35,
     "metadata": {},
     "output_type": "execute_result"
    },
    {
     "data": {
      "image/png": "[encoded data removed]",
      "text/plain": [
       "<Figure size 640x480 with 1 Axes>"
      ]
     },
     "metadata": {},
     "output_type": "display_data"
    }
   ],
   "source": [
    "df_1hour[['time', 'target']].groupby(pd.Grouper(key='time', freq='ME')).target.mean().plot.bar()"
   ]
  },
  {
   "cell_type": "code",
   "execution_count": null,
   "id": "76a0d3ac-ea8e-4f05-919a-73bdeb4f467c",
   "metadata": {
    "id": "76a0d3ac-ea8e-4f05-919a-73bdeb4f467c"
   },
   "outputs": [],
   "source": []
  },
  {
   "cell_type": "code",
   "execution_count": null,
   "id": "2bd83a17-e071-4da3-bcc4-0d12dbad85fe",
   "metadata": {},
   "outputs": [],
   "source": []
  },
  {
   "cell_type": "code",
   "execution_count": 40,
   "id": "91a9b3ab-3c5c-4ea7-93ca-32e75db8300e",
   "metadata": {
    "id": "91a9b3ab-3c5c-4ea7-93ca-32e75db8300e"
   },
   "outputs": [],
   "source": [
    "mask_train = np.array((pd.Timestamp('2023-01-01') <= df_1hour['time']) & (df_1hour['time'] < pd.Timestamp('2024-07-01')))\n",
    "mask_valid = np.array((pd.Timestamp('2024-07-01') <= df_1hour['time']) & (df_1hour['time'] < pd.Timestamp('2024-09-01')))\n",
    "mask_test = np.array((pd.Timestamp('2024-09-01') <= df_1hour['time']) & (df_1hour['time'] < pd.Timestamp('2024-11-01')))\n",
    "mask_test2 = np.array((pd.Timestamp('2024-11-01') <= df_1hour['time']) & (df_1hour['time'] < pd.Timestamp('2024-12-23')))"
   ]
  },
  {
   "cell_type": "code",
   "execution_count": null,
   "id": "813eaed7-2c22-4905-8951-091a508e5484",
   "metadata": {},
   "outputs": [],
   "source": []
  },
  {
   "cell_type": "code",
   "execution_count": null,
   "id": "18e99d2b-5d04-4591-990e-c0e29e0fcbf7",
   "metadata": {},
   "outputs": [],
   "source": []
  },
  {
   "cell_type": "code",
   "execution_count": 42,
   "id": "89a7fb19-e7bc-4311-aadd-8a091f22bc67",
   "metadata": {},
   "outputs": [],
   "source": [
    "# некоторые акции имеют более короткую историю\n",
    "NEED_POINTS = 200\n",
    "mask_avbl_all = np.zeros_like(mask_train).astype(bool)\n",
    "for ticker in df_1day[\"ticker\"].unique():\n",
    "    mask = np.array(df_1day['ticker'] == ticker)\n",
    "    if mask.sum() < NEED_POINTS:\n",
    "        mask_avbl = np.zeros_like(mask_train).astype(bool)\n",
    "    else:\n",
    "        date_first_avbl =  df_1day[\"time\"].iloc[np.argwhere(mask).ravel()[NEED_POINTS]]\n",
    "        mask_avbl = np.array(df_1hour[\"time\"] >= date_first_avbl)\n",
    "    \n",
    "    mask_ticker = np.array(df_1hour['ticker'] == ticker)\n",
    "    mask_avbl_ticker = mask_ticker & mask_avbl\n",
    "\n",
    "    mask_avbl_all |= mask_avbl_ticker\n",
    "\n",
    "mask_train &= mask_avbl_all\n",
    "mask_valid &= mask_avbl_all\n",
    "mask_test &= mask_avbl_all\n",
    "mask_test2 &= mask_avbl_all"
   ]
  },
  {
   "cell_type": "code",
   "execution_count": null,
   "id": "5295e380-a10b-4072-bbac-8256cde478ab",
   "metadata": {},
   "outputs": [],
   "source": []
  },
  {
   "cell_type": "code",
   "execution_count": null,
   "id": "5bc6722a-0d7d-4d8a-a964-7371e125087c",
   "metadata": {},
   "outputs": [],
   "source": []
  },
  {
   "cell_type": "code",
   "execution_count": null,
   "id": "455a8e8e-90cd-4949-8843-140b0724754f",
   "metadata": {},
   "outputs": [],
   "source": []
  },
  {
   "cell_type": "code",
   "execution_count": 51,
   "id": "56a0e857-537c-4cab-941d-9bd36088e951",
   "metadata": {},
   "outputs": [
    {
     "data": {
      "text/plain": [
       "(495489, 76495, 76398, 61912)"
      ]
     },
     "execution_count": 51,
     "metadata": {},
     "output_type": "execute_result"
    }
   ],
   "source": [
    "mask_train.sum(), mask_valid.sum(), mask_test.sum(), mask_test2.sum()"
   ]
  },
  {
   "cell_type": "code",
   "execution_count": null,
   "id": "7eae8ae0-7e15-41f6-9f79-218b6a94ded1",
   "metadata": {
    "colab": {
     "base_uri": "https://localhost:8080/"
    },
    "id": "7eae8ae0-7e15-41f6-9f79-218b6a94ded1",
    "outputId": "18f9b547-9993-4c7b-bff6-32d27c506c5e"
   },
   "outputs": [],
   "source": []
  },
  {
   "cell_type": "code",
   "execution_count": 54,
   "id": "9d034842-5335-4162-b271-467cfb9efc5a",
   "metadata": {
    "colab": {
     "base_uri": "https://localhost:8080/"
    },
    "id": "9d034842-5335-4162-b271-467cfb9efc5a",
    "outputId": "56005b28-277f-4297-ed88-b5fd0e5d2f0d"
   },
   "outputs": [
    {
     "data": {
      "text/plain": [
       "710294"
      ]
     },
     "execution_count": 54,
     "metadata": {},
     "output_type": "execute_result"
    }
   ],
   "source": [
    "mask_data = mask_train|mask_valid|mask_test|mask_test2\n",
    "(mask_data).sum()"
   ]
  },
  {
   "cell_type": "code",
   "execution_count": 56,
   "id": "e43d7543-daf2-495d-b4ea-15dd838d133c",
   "metadata": {
    "colab": {
     "base_uri": "https://localhost:8080/"
    },
    "id": "e43d7543-daf2-495d-b4ea-15dd838d133c",
    "outputId": "fcfba404-fff6-49e0-c32c-b9df86c55a22"
   },
   "outputs": [
    {
     "data": {
      "text/plain": [
       "(0.6975829726845504,\n",
       " 0.10769484185421811,\n",
       " 0.10755827868460102,\n",
       " 0.08716390677663052)"
      ]
     },
     "execution_count": 56,
     "metadata": {},
     "output_type": "execute_result"
    }
   ],
   "source": [
    "mask_train.sum()/(mask_data).sum(), mask_valid.sum()/(mask_data).sum(), mask_test.sum()/(mask_data).sum(), mask_test2.sum()/(mask_data).sum()"
   ]
  },
  {
   "cell_type": "code",
   "execution_count": 58,
   "id": "cb46d1d9-fc8c-45c5-99e5-bf771bdb6ccc",
   "metadata": {
    "colab": {
     "base_uri": "https://localhost:8080/"
    },
    "id": "cb46d1d9-fc8c-45c5-99e5-bf771bdb6ccc",
    "outputId": "024a8a29-20cd-4f7e-c5eb-438765d48701"
   },
   "outputs": [
    {
     "data": {
      "text/plain": [
       "(0.24297411244245584,\n",
       " 0.16759265311458266,\n",
       " 0.2425194376816147,\n",
       " 0.2882801395529138)"
      ]
     },
     "execution_count": 58,
     "metadata": {},
     "output_type": "execute_result"
    }
   ],
   "source": [
    "df_1hour.loc[mask_train, 'target'].mean(), df_1hour.loc[mask_valid, 'target'].mean(), df_1hour.loc[mask_test, 'target'].mean(), df_1hour.loc[mask_test2, 'target'].mean()"
   ]
  },
  {
   "cell_type": "code",
   "execution_count": 60,
   "id": "c176dba9-2a64-4129-9de3-9f7515f0d9d7",
   "metadata": {
    "id": "c176dba9-2a64-4129-9de3-9f7515f0d9d7"
   },
   "outputs": [
    {
     "data": {
      "text/plain": [
       "(0.24297411244245584,\n",
       " 0.16759265311458266,\n",
       " 0.2425194376816147,\n",
       " 0.2882801395529138)"
      ]
     },
     "execution_count": 60,
     "metadata": {},
     "output_type": "execute_result"
    }
   ],
   "source": [
    "df_1hour.loc[mask_train, 'target'].mean(), df_1hour.loc[mask_valid, 'target'].mean(), df_1hour.loc[mask_test, 'target'].mean(), df_1hour.loc[mask_test2, 'target'].mean()"
   ]
  },
  {
   "cell_type": "code",
   "execution_count": null,
   "id": "f6493bd2-8ddf-4bcb-9a21-48903cabbc9b",
   "metadata": {
    "id": "f6493bd2-8ddf-4bcb-9a21-48903cabbc9b"
   },
   "outputs": [],
   "source": []
  },
  {
   "cell_type": "code",
   "execution_count": 63,
   "id": "b89d98db-d939-4ef2-bbc1-f1d31bf5cd15",
   "metadata": {
    "id": "b89d98db-d939-4ef2-bbc1-f1d31bf5cd15"
   },
   "outputs": [],
   "source": [
    "#проверки"
   ]
  },
  {
   "cell_type": "code",
   "execution_count": 65,
   "id": "4b37867a-0700-4508-b310-38dcabce67b3",
   "metadata": {
    "colab": {
     "base_uri": "https://localhost:8080/"
    },
    "id": "4b37867a-0700-4508-b310-38dcabce67b3",
    "outputId": "8671f7fa-c370-4ec4-e9f8-2d914abf97af"
   },
   "outputs": [
    {
     "data": {
      "text/plain": [
       "True"
      ]
     },
     "execution_count": 65,
     "metadata": {},
     "output_type": "execute_result"
    }
   ],
   "source": [
    "(mask_train.sum()+mask_valid.sum()+mask_test.sum()+mask_test2.sum()) == mask_data.sum()"
   ]
  },
  {
   "cell_type": "code",
   "execution_count": null,
   "id": "ec2e95ec-fef3-49a2-8098-3824eb514908",
   "metadata": {
    "id": "ec2e95ec-fef3-49a2-8098-3824eb514908"
   },
   "outputs": [],
   "source": []
  },
  {
   "cell_type": "code",
   "execution_count": 68,
   "id": "48c7f32e-bb06-4b1e-87e9-d53dae494085",
   "metadata": {
    "colab": {
     "base_uri": "https://localhost:8080/",
     "height": 657
    },
    "id": "48c7f32e-bb06-4b1e-87e9-d53dae494085",
    "outputId": "20ce9bc5-6172-4d1b-abff-6555f4ffb023"
   },
   "outputs": [
    {
     "data": {
      "text/plain": [
       "<Axes: xlabel='time'>"
      ]
     },
     "execution_count": 68,
     "metadata": {},
     "output_type": "execute_result"
    },
    {
     "data": {
      "image/png": "[encoded data removed]",
      "text/plain": [
       "<Figure size 640x480 with 1 Axes>"
      ]
     },
     "metadata": {},
     "output_type": "display_data"
    }
   ],
   "source": [
    "df_1hour.loc[mask_data, ['time', 'target']].groupby(pd.Grouper(key='time', freq='ME')).target.count().plot.bar()"
   ]
  },
  {
   "cell_type": "code",
   "execution_count": 69,
   "id": "c20abf1c-e42e-4b0f-8a39-dbfb069e6070",
   "metadata": {
    "id": "c20abf1c-e42e-4b0f-8a39-dbfb069e6070"
   },
   "outputs": [
    {
     "data": {
      "text/plain": [
       "<Axes: xlabel='time'>"
      ]
     },
     "execution_count": 69,
     "metadata": {},
     "output_type": "execute_result"
    },
    {
     "data": {
      "image/png": "[encoded data removed]",
      "text/plain": [
       "<Figure size 640x480 with 1 Axes>"
      ]
     },
     "metadata": {},
     "output_type": "display_data"
    }
   ],
   "source": [
    "df_1hour.loc[mask_data, ['time', 'target']].groupby(pd.Grouper(key='time', freq='ME')).target.mean().plot.bar()"
   ]
  },
  {
   "cell_type": "code",
   "execution_count": null,
   "id": "21921a29-5e2f-4de7-b6b7-8deeaef28fdb",
   "metadata": {
    "id": "21921a29-5e2f-4de7-b6b7-8deeaef28fdb"
   },
   "outputs": [],
   "source": []
  },
  {
   "cell_type": "code",
   "execution_count": 73,
   "id": "f0ee2b61-f46b-4b29-b5f3-e6c08d9b953b",
   "metadata": {
    "id": "f0ee2b61-f46b-4b29-b5f3-e6c08d9b953b"
   },
   "outputs": [],
   "source": [
    "#indexes\n",
    "\n",
    "inds_train = df_1hour.index[mask_train].values\n",
    "inds_valid = df_1hour.index[mask_valid].values\n",
    "inds_test = df_1hour.index[mask_test].values\n",
    "inds_test2 = df_1hour.index[mask_test2].values"
   ]
  },
  {
   "cell_type": "code",
   "execution_count": 75,
   "id": "9ecf4f4e-a20d-485b-a6ab-6209a3bd3ea5",
   "metadata": {
    "colab": {
     "base_uri": "https://localhost:8080/"
    },
    "id": "9ecf4f4e-a20d-485b-a6ab-6209a3bd3ea5",
    "outputId": "2a23de6d-afab-489d-d45d-05a3fa4d565b"
   },
   "outputs": [
    {
     "data": {
      "text/plain": [
       "array([  2377,   2378,   2379, ..., 970795, 970796, 970797])"
      ]
     },
     "execution_count": 75,
     "metadata": {},
     "output_type": "execute_result"
    }
   ],
   "source": [
    "inds_train"
   ]
  },
  {
   "cell_type": "code",
   "execution_count": null,
   "id": "cea07275-c394-4c37-942b-8657225aa772",
   "metadata": {
    "id": "cea07275-c394-4c37-942b-8657225aa772"
   },
   "outputs": [],
   "source": []
  },
  {
   "cell_type": "code",
   "execution_count": 78,
   "id": "59edcf5f-87da-4e09-b94a-6e84edd80e81",
   "metadata": {
    "id": "59edcf5f-87da-4e09-b94a-6e84edd80e81"
   },
   "outputs": [],
   "source": [
    "#проверим, что все индексы валидны\n",
    "#у каждой точки должно быть 100 точек назад (минут, 5минут, часов, дней)"
   ]
  },
  {
   "cell_type": "code",
   "execution_count": 80,
   "id": "4faef800-2d18-4965-b7d4-ab9f5a6323ae",
   "metadata": {},
   "outputs": [
    {
     "data": {
      "text/plain": [
       "['time',\n",
       " 'close',\n",
       " 'volume',\n",
       " 'ticker',\n",
       " 'tmos_close',\n",
       " 'index_start',\n",
       " 'index_1day',\n",
       " 'index_start_1day',\n",
       " 'result',\n",
       " 'delta_time',\n",
       " 'income_rate',\n",
       " 'res_price',\n",
       " 'res_ind',\n",
       " 'close_w1_roc',\n",
       " 'close_w1_diff',\n",
       " 'volume_w1_roc',\n",
       " 'volume_w1_diff',\n",
       " 'tmos_close_w1_roc',\n",
       " 'tmos_close_w1_diff',\n",
       " 'close_w5_ma',\n",
       " 'close_w5_std',\n",
       " 'close_w5_rsi',\n",
       " 'close_w5_roc',\n",
       " 'close_w5_diff',\n",
       " 'volume_w5_ma',\n",
       " 'volume_w5_std',\n",
       " 'volume_w5_rsi',\n",
       " 'volume_w5_roc',\n",
       " 'volume_w5_diff',\n",
       " 'tmos_close_w5_ma',\n",
       " 'tmos_close_w5_std',\n",
       " 'tmos_close_w5_rsi',\n",
       " 'tmos_close_w5_roc',\n",
       " 'tmos_close_w5_diff',\n",
       " 'close_w14_ma',\n",
       " 'close_w14_std',\n",
       " 'close_w14_rsi',\n",
       " 'close_w14_roc',\n",
       " 'close_w14_diff',\n",
       " 'volume_w14_ma',\n",
       " 'volume_w14_std',\n",
       " 'volume_w14_rsi',\n",
       " 'volume_w14_roc',\n",
       " 'volume_w14_diff',\n",
       " 'tmos_close_w14_ma',\n",
       " 'tmos_close_w14_std',\n",
       " 'tmos_close_w14_rsi',\n",
       " 'tmos_close_w14_roc',\n",
       " 'tmos_close_w14_diff',\n",
       " 'close_w70_ma',\n",
       " 'close_w70_std',\n",
       " 'close_w70_rsi',\n",
       " 'close_w70_roc',\n",
       " 'close_w70_diff',\n",
       " 'close_w70_lvl_0.01',\n",
       " 'close_w70_lvl_-0.01',\n",
       " 'close_w70_lvl_0.02',\n",
       " 'close_w70_lvl_-0.02',\n",
       " 'close_w70_lvl_0.03',\n",
       " 'close_w70_lvl_-0.03',\n",
       " 'close_w70_lvl_0.04',\n",
       " 'close_w70_lvl_-0.04',\n",
       " 'close_w70_lvl_0.05',\n",
       " 'close_w70_lvl_-0.05',\n",
       " 'close_w70_lvl_0.07',\n",
       " 'close_w70_lvl_-0.07',\n",
       " 'close_w70_lvl_0.1',\n",
       " 'close_w70_lvl_-0.1',\n",
       " 'volume_w70_ma',\n",
       " 'volume_w70_std',\n",
       " 'volume_w70_rsi',\n",
       " 'volume_w70_roc',\n",
       " 'volume_w70_diff',\n",
       " 'tmos_close_w70_ma',\n",
       " 'tmos_close_w70_std',\n",
       " 'tmos_close_w70_rsi',\n",
       " 'tmos_close_w70_roc',\n",
       " 'tmos_close_w70_diff',\n",
       " 'tmos_close_w70_lvl_0.01',\n",
       " 'tmos_close_w70_lvl_-0.01',\n",
       " 'tmos_close_w70_lvl_0.02',\n",
       " 'tmos_close_w70_lvl_-0.02',\n",
       " 'tmos_close_w70_lvl_0.03',\n",
       " 'tmos_close_w70_lvl_-0.03',\n",
       " 'tmos_close_w70_lvl_0.04',\n",
       " 'tmos_close_w70_lvl_-0.04',\n",
       " 'tmos_close_w70_lvl_0.05',\n",
       " 'tmos_close_w70_lvl_-0.05',\n",
       " 'tmos_close_w70_lvl_0.07',\n",
       " 'tmos_close_w70_lvl_-0.07',\n",
       " 'tmos_close_w70_lvl_0.1',\n",
       " 'tmos_close_w70_lvl_-0.1',\n",
       " 'sin_time_hour',\n",
       " 'cos_time_hour',\n",
       " 'target']"
      ]
     },
     "execution_count": 80,
     "metadata": {},
     "output_type": "execute_result"
    }
   ],
   "source": [
    "df_1hour.columns.tolist()"
   ]
  },
  {
   "cell_type": "code",
   "execution_count": 82,
   "id": "5aaecf16-c4a9-4acb-b413-95cf0c815cce",
   "metadata": {
    "id": "5aaecf16-c4a9-4acb-b413-95cf0c815cce"
   },
   "outputs": [],
   "source": [
    "def check_valid_inds(inds, df_1hour, len_seq=100):\n",
    "    ind_1hour_start = df_1hour.loc[inds, 'index_start'].values.astype(int)\n",
    "    ind_1hour_end = inds.astype(int)\n",
    "    assert (~np.isnan(ind_1hour_start)).all() & (~np.isnan(ind_1hour_end)).all() &\\\n",
    "                                               ((ind_1hour_end - ind_1hour_start + 1) >= len_seq).all(), 'Error: 1hour'\n",
    "\n",
    "    ind_1day_start = df_1hour.loc[inds, 'index_start_1day'].values.astype(int)\n",
    "    ind_1day_end = df_1hour.loc[inds, 'index_1day'].values.astype(int)\n",
    "    assert (~np.isnan(ind_1day_start)).all() & (~np.isnan(ind_1day_end)).all() &\\\n",
    "                                                ((ind_1day_end - ind_1day_start + 1) >= len_seq).all(), 'Error: 1day'\n",
    "\n",
    "    return 'All Good'\n"
   ]
  },
  {
   "cell_type": "code",
   "execution_count": 84,
   "id": "b73671e5-d9b4-4b81-9184-75556942acc9",
   "metadata": {},
   "outputs": [
    {
     "data": {
      "text/plain": [
       "('All Good', 'All Good', 'All Good', 'All Good')"
      ]
     },
     "execution_count": 84,
     "metadata": {},
     "output_type": "execute_result"
    }
   ],
   "source": [
    "len_seq = 100\n",
    "check_valid_inds(inds_train, df_1hour, len_seq=len_seq), check_valid_inds(inds_valid, df_1hour, len_seq=len_seq), check_valid_inds(inds_test, df_1hour, len_seq=len_seq), check_valid_inds(inds_test2, df_1hour, len_seq=len_seq)\n"
   ]
  },
  {
   "cell_type": "code",
   "execution_count": 86,
   "id": "68eab8ea-ef80-420c-baff-8154f7163bfb",
   "metadata": {
    "id": "68eab8ea-ef80-420c-baff-8154f7163bfb"
   },
   "outputs": [
    {
     "data": {
      "text/plain": [
       "('All Good', 'All Good', 'All Good', 'All Good')"
      ]
     },
     "execution_count": 86,
     "metadata": {},
     "output_type": "execute_result"
    }
   ],
   "source": [
    "len_seq = 200\n",
    "check_valid_inds(inds_train, df_1hour, len_seq=len_seq), check_valid_inds(inds_valid, df_1hour, len_seq=len_seq), check_valid_inds(inds_test, df_1hour, len_seq=len_seq), check_valid_inds(inds_test2, df_1hour, len_seq=len_seq)\n"
   ]
  },
  {
   "cell_type": "code",
   "execution_count": null,
   "id": "cd0fb41b-88f2-493b-ba89-96e4edeff7ee",
   "metadata": {
    "id": "cd0fb41b-88f2-493b-ba89-96e4edeff7ee"
   },
   "outputs": [],
   "source": []
  },
  {
   "cell_type": "markdown",
   "id": "fe1d598a-a3fc-4035-a7ea-776dbf5260eb",
   "metadata": {
    "id": "fe1d598a-a3fc-4035-a7ea-776dbf5260eb"
   },
   "source": [
    "### 4. Model NINE"
   ]
  },
  {
   "cell_type": "code",
   "execution_count": 90,
   "id": "b0847cbe-4a05-4a27-83cc-ff97385a4553",
   "metadata": {
    "colab": {
     "base_uri": "https://localhost:8080/"
    },
    "id": "b0847cbe-4a05-4a27-83cc-ff97385a4553",
    "outputId": "5626b2e2-d316-4b43-d686-602af303497a"
   },
   "outputs": [
    {
     "name": "stdout",
     "output_type": "stream",
     "text": [
      "TensorFlow version: 2.18.0\n"
     ]
    }
   ],
   "source": [
    "import tensorflow as tf\n",
    "print(\"TensorFlow version:\", tf.__version__)"
   ]
  },
  {
   "cell_type": "code",
   "execution_count": 92,
   "id": "ea01c083-550d-4c04-b7d3-6b14dcdf4a32",
   "metadata": {
    "id": "ea01c083-550d-4c04-b7d3-6b14dcdf4a32"
   },
   "outputs": [],
   "source": [
    "df_1hour['ticker_code'] = df_1hour['ticker'].astype('category').cat.codes"
   ]
  },
  {
   "cell_type": "code",
   "execution_count": 94,
   "id": "4763e92d-b573-407a-accf-b2af1cf85419",
   "metadata": {
    "colab": {
     "base_uri": "https://localhost:8080/",
     "height": 680
    },
    "id": "4763e92d-b573-407a-accf-b2af1cf85419",
    "outputId": "7d9580d8-f22c-47a6-cee3-a968797aaa00"
   },
   "outputs": [
    {
     "data": {
      "text/plain": [
       "ticker_code\n",
       "103    9389\n",
       "25     9176\n",
       "15     9176\n",
       "90     9176\n",
       "44     9176\n",
       "       ... \n",
       "4      6434\n",
       "87     6347\n",
       "16     6300\n",
       "119    6001\n",
       "124    5770\n",
       "Name: count, Length: 127, dtype: int64"
      ]
     },
     "execution_count": 94,
     "metadata": {},
     "output_type": "execute_result"
    }
   ],
   "source": [
    "df_1hour['ticker_code'].value_counts()"
   ]
  },
  {
   "cell_type": "code",
   "execution_count": 96,
   "id": "cc767f72-c361-4cc7-8b4b-afe2abd6dbda",
   "metadata": {
    "colab": {
     "base_uri": "https://localhost:8080/"
    },
    "id": "cc767f72-c361-4cc7-8b4b-afe2abd6dbda",
    "outputId": "17d73667-6028-4bca-ee1b-5007c9635bae"
   },
   "outputs": [
    {
     "data": {
      "text/plain": [
       "126"
      ]
     },
     "execution_count": 96,
     "metadata": {},
     "output_type": "execute_result"
    }
   ],
   "source": [
    "df_1hour['ticker_code'].max()"
   ]
  },
  {
   "cell_type": "code",
   "execution_count": 98,
   "id": "5dc4e0f3-13d6-4d3b-9b28-461351c6b2d8",
   "metadata": {},
   "outputs": [
    {
     "data": {
      "text/plain": [
       "126"
      ]
     },
     "execution_count": 98,
     "metadata": {},
     "output_type": "execute_result"
    }
   ],
   "source": [
    "df_1hour.loc[mask_train, 'ticker_code'].max()"
   ]
  },
  {
   "cell_type": "code",
   "execution_count": 100,
   "id": "71d483dc-c3f4-4287-984e-236e5c40b975",
   "metadata": {
    "colab": {
     "base_uri": "https://localhost:8080/"
    },
    "id": "71d483dc-c3f4-4287-984e-236e5c40b975",
    "outputId": "9343879c-ee8e-4f13-c4b0-083c56effa05"
   },
   "outputs": [
    {
     "data": {
      "text/plain": [
       "{0: 'ABIO',\n",
       " 1: 'ABRD',\n",
       " 2: 'AFKS',\n",
       " 3: 'AFLT',\n",
       " 4: 'AKRN',\n",
       " 5: 'ALRS',\n",
       " 6: 'AMEZ',\n",
       " 7: 'APTK',\n",
       " 8: 'AQUA',\n",
       " 9: 'BANE',\n",
       " 10: 'BANEP',\n",
       " 11: 'BELU',\n",
       " 12: 'BLNG',\n",
       " 13: 'BSPB',\n",
       " 14: 'CBOM',\n",
       " 15: 'CHMF',\n",
       " 16: 'CHMK',\n",
       " 17: 'CNTL',\n",
       " 18: 'CNTLP',\n",
       " 19: 'DVEC',\n",
       " 20: 'ELFV',\n",
       " 21: 'ENPG',\n",
       " 22: 'FEES',\n",
       " 23: 'FESH',\n",
       " 24: 'FLOT',\n",
       " 25: 'GAZP',\n",
       " 26: 'GCHE',\n",
       " 27: 'GEMC',\n",
       " 28: 'GMKN',\n",
       " 29: 'GTRK',\n",
       " 30: 'HEAD',\n",
       " 31: 'HYDR',\n",
       " 32: 'IRAO',\n",
       " 33: 'IRKT',\n",
       " 34: 'KAZT',\n",
       " 35: 'KAZTP',\n",
       " 36: 'KLSB',\n",
       " 37: 'KMAZ',\n",
       " 38: 'KRKNP',\n",
       " 39: 'KROT',\n",
       " 40: 'KZOS',\n",
       " 41: 'KZOSP',\n",
       " 42: 'LENT',\n",
       " 43: 'LIFE',\n",
       " 44: 'LKOH',\n",
       " 45: 'LNZL',\n",
       " 46: 'LNZLP',\n",
       " 47: 'LSNG',\n",
       " 48: 'LSNGP',\n",
       " 49: 'LSRG',\n",
       " 50: 'MAGN',\n",
       " 51: 'MDMG',\n",
       " 52: 'MGNT',\n",
       " 53: 'MGTSP',\n",
       " 54: 'MOEX',\n",
       " 55: 'MRKC',\n",
       " 56: 'MRKP',\n",
       " 57: 'MRKS',\n",
       " 58: 'MRKU',\n",
       " 59: 'MRKV',\n",
       " 60: 'MRKY',\n",
       " 61: 'MRKZ',\n",
       " 62: 'MSNG',\n",
       " 63: 'MSRS',\n",
       " 64: 'MSTT',\n",
       " 65: 'MTLR',\n",
       " 66: 'MTLRP',\n",
       " 67: 'MTSS',\n",
       " 68: 'MVID',\n",
       " 69: 'NKHP',\n",
       " 70: 'NKNC',\n",
       " 71: 'NKNCP',\n",
       " 72: 'NLMK',\n",
       " 73: 'NMTP',\n",
       " 74: 'NSVZ',\n",
       " 75: 'NVTK',\n",
       " 76: 'OGKB',\n",
       " 77: 'PHOR',\n",
       " 78: 'PIKK',\n",
       " 79: 'PLZL',\n",
       " 80: 'PMSB',\n",
       " 81: 'PMSBP',\n",
       " 82: 'POSI',\n",
       " 83: 'PRFN',\n",
       " 84: 'RASP',\n",
       " 85: 'RBCM',\n",
       " 86: 'RENI',\n",
       " 87: 'RKKE',\n",
       " 88: 'RNFT',\n",
       " 89: 'ROLO',\n",
       " 90: 'ROSN',\n",
       " 91: 'RTKM',\n",
       " 92: 'RTKMP',\n",
       " 93: 'RUAL',\n",
       " 94: 'SBER',\n",
       " 95: 'SBERP',\n",
       " 96: 'SELG',\n",
       " 97: 'SFIN',\n",
       " 98: 'SGZH',\n",
       " 99: 'SIBN',\n",
       " 100: 'SMLT',\n",
       " 101: 'SNGS',\n",
       " 102: 'SNGSP',\n",
       " 103: 'SPBE',\n",
       " 104: 'SVAV',\n",
       " 105: 'T',\n",
       " 106: 'TATN',\n",
       " 107: 'TATNP',\n",
       " 108: 'TGKA',\n",
       " 109: 'TGKB',\n",
       " 110: 'TGKBP',\n",
       " 111: 'TGKN',\n",
       " 112: 'TRMK',\n",
       " 113: 'TRNFP',\n",
       " 114: 'TTLK',\n",
       " 115: 'UNAC',\n",
       " 116: 'UNKL',\n",
       " 117: 'UPRO',\n",
       " 118: 'UWGN',\n",
       " 119: 'VEON-RX',\n",
       " 120: 'VKCO',\n",
       " 121: 'VRSB',\n",
       " 122: 'VSMO',\n",
       " 123: 'VTBR',\n",
       " 124: 'WUSH',\n",
       " 125: 'YAKG',\n",
       " 126: 'YDEX'}"
      ]
     },
     "execution_count": 100,
     "metadata": {},
     "output_type": "execute_result"
    }
   ],
   "source": [
    "dict(enumerate(df_1hour['ticker'].astype('category').cat.categories))"
   ]
  },
  {
   "cell_type": "code",
   "execution_count": 102,
   "id": "ab22b290-0db5-4a61-8d5b-8a206103767d",
   "metadata": {
    "id": "ab22b290-0db5-4a61-8d5b-8a206103767d"
   },
   "outputs": [
    {
     "data": {
      "text/html": [
       "<div>\n",
       "<style scoped>\n",
       "    .dataframe tbody tr th:only-of-type {\n",
       "        vertical-align: middle;\n",
       "    }\n",
       "\n",
       "    .dataframe tbody tr th {\n",
       "        vertical-align: top;\n",
       "    }\n",
       "\n",
       "    .dataframe thead th {\n",
       "        text-align: right;\n",
       "    }\n",
       "</style>\n",
       "<table border=\"1\" class=\"dataframe\">\n",
       "  <thead>\n",
       "    <tr style=\"text-align: right;\">\n",
       "      <th></th>\n",
       "      <th>time</th>\n",
       "      <th>close</th>\n",
       "      <th>volume</th>\n",
       "      <th>ticker</th>\n",
       "      <th>tmos_close</th>\n",
       "      <th>index_start</th>\n",
       "      <th>index_1day</th>\n",
       "      <th>index_start_1day</th>\n",
       "      <th>result</th>\n",
       "      <th>delta_time</th>\n",
       "      <th>...</th>\n",
       "      <th>tmos_close_w70_lvl_0.05</th>\n",
       "      <th>tmos_close_w70_lvl_-0.05</th>\n",
       "      <th>tmos_close_w70_lvl_0.07</th>\n",
       "      <th>tmos_close_w70_lvl_-0.07</th>\n",
       "      <th>tmos_close_w70_lvl_0.1</th>\n",
       "      <th>tmos_close_w70_lvl_-0.1</th>\n",
       "      <th>sin_time_hour</th>\n",
       "      <th>cos_time_hour</th>\n",
       "      <th>target</th>\n",
       "      <th>ticker_code</th>\n",
       "    </tr>\n",
       "    <tr>\n",
       "      <th>index</th>\n",
       "      <th></th>\n",
       "      <th></th>\n",
       "      <th></th>\n",
       "      <th></th>\n",
       "      <th></th>\n",
       "      <th></th>\n",
       "      <th></th>\n",
       "      <th></th>\n",
       "      <th></th>\n",
       "      <th></th>\n",
       "      <th></th>\n",
       "      <th></th>\n",
       "      <th></th>\n",
       "      <th></th>\n",
       "      <th></th>\n",
       "      <th></th>\n",
       "      <th></th>\n",
       "      <th></th>\n",
       "      <th></th>\n",
       "      <th></th>\n",
       "      <th></th>\n",
       "    </tr>\n",
       "  </thead>\n",
       "  <tbody>\n",
       "    <tr>\n",
       "      <th>0</th>\n",
       "      <td>2022-05-04 10:00:00</td>\n",
       "      <td>-0.304054</td>\n",
       "      <td>0.931093</td>\n",
       "      <td>AFLT</td>\n",
       "      <td>-1.195464</td>\n",
       "      <td>0.0</td>\n",
       "      <td>NaN</td>\n",
       "      <td>NaN</td>\n",
       "      <td>LOSE</td>\n",
       "      <td>1 days 01:00:00</td>\n",
       "      <td>...</td>\n",
       "      <td>-1.094331</td>\n",
       "      <td>-1.484996</td>\n",
       "      <td>-1.099550</td>\n",
       "      <td>-1.494293</td>\n",
       "      <td>-1.103914</td>\n",
       "      <td>-1.499320</td>\n",
       "      <td>-0.241308</td>\n",
       "      <td>1.367128</td>\n",
       "      <td>0</td>\n",
       "      <td>3</td>\n",
       "    </tr>\n",
       "    <tr>\n",
       "      <th>1</th>\n",
       "      <td>2022-05-04 11:00:00</td>\n",
       "      <td>-0.304208</td>\n",
       "      <td>0.255973</td>\n",
       "      <td>AFLT</td>\n",
       "      <td>-1.263417</td>\n",
       "      <td>0.0</td>\n",
       "      <td>NaN</td>\n",
       "      <td>NaN</td>\n",
       "      <td>LOSE</td>\n",
       "      <td>1 days 23:00:00</td>\n",
       "      <td>...</td>\n",
       "      <td>0.394826</td>\n",
       "      <td>-1.484996</td>\n",
       "      <td>0.339647</td>\n",
       "      <td>-1.494293</td>\n",
       "      <td>0.317132</td>\n",
       "      <td>-1.499320</td>\n",
       "      <td>0.476526</td>\n",
       "      <td>1.213525</td>\n",
       "      <td>0</td>\n",
       "      <td>3</td>\n",
       "    </tr>\n",
       "    <tr>\n",
       "      <th>2</th>\n",
       "      <td>2022-05-04 12:00:00</td>\n",
       "      <td>-0.304118</td>\n",
       "      <td>0.034175</td>\n",
       "      <td>AFLT</td>\n",
       "      <td>-1.244002</td>\n",
       "      <td>0.0</td>\n",
       "      <td>NaN</td>\n",
       "      <td>NaN</td>\n",
       "      <td>LOSE</td>\n",
       "      <td>1 days 04:00:00</td>\n",
       "      <td>...</td>\n",
       "      <td>-0.101559</td>\n",
       "      <td>-0.508843</td>\n",
       "      <td>-0.140085</td>\n",
       "      <td>-0.541094</td>\n",
       "      <td>-0.156550</td>\n",
       "      <td>-0.551282</td>\n",
       "      <td>1.029912</td>\n",
       "      <td>0.787906</td>\n",
       "      <td>0</td>\n",
       "      <td>3</td>\n",
       "    </tr>\n",
       "    <tr>\n",
       "      <th>3</th>\n",
       "      <td>2022-05-04 13:00:00</td>\n",
       "      <td>-0.304213</td>\n",
       "      <td>0.031301</td>\n",
       "      <td>AFLT</td>\n",
       "      <td>-1.253709</td>\n",
       "      <td>0.0</td>\n",
       "      <td>NaN</td>\n",
       "      <td>NaN</td>\n",
       "      <td>LOSE</td>\n",
       "      <td>1 days 21:00:00</td>\n",
       "      <td>...</td>\n",
       "      <td>0.394826</td>\n",
       "      <td>-0.752881</td>\n",
       "      <td>0.339647</td>\n",
       "      <td>-0.779394</td>\n",
       "      <td>0.317132</td>\n",
       "      <td>-0.788291</td>\n",
       "      <td>1.292078</td>\n",
       "      <td>0.187774</td>\n",
       "      <td>0</td>\n",
       "      <td>3</td>\n",
       "    </tr>\n",
       "    <tr>\n",
       "      <th>4</th>\n",
       "      <td>2022-05-04 14:00:00</td>\n",
       "      <td>-0.304174</td>\n",
       "      <td>-0.008242</td>\n",
       "      <td>AFLT</td>\n",
       "      <td>-1.253709</td>\n",
       "      <td>0.0</td>\n",
       "      <td>NaN</td>\n",
       "      <td>NaN</td>\n",
       "      <td>LOSE</td>\n",
       "      <td>1 days 20:00:00</td>\n",
       "      <td>...</td>\n",
       "      <td>0.096995</td>\n",
       "      <td>-0.899304</td>\n",
       "      <td>0.051808</td>\n",
       "      <td>-0.922373</td>\n",
       "      <td>0.032923</td>\n",
       "      <td>-0.930497</td>\n",
       "      <td>1.202963</td>\n",
       "      <td>-0.449388</td>\n",
       "      <td>0</td>\n",
       "      <td>3</td>\n",
       "    </tr>\n",
       "  </tbody>\n",
       "</table>\n",
       "<p>5 rows × 96 columns</p>\n",
       "</div>"
      ],
      "text/plain": [
       "                     time     close    volume ticker  tmos_close  index_start  \\\n",
       "index                                                                           \n",
       "0     2022-05-04 10:00:00 -0.304054  0.931093   AFLT   -1.195464          0.0   \n",
       "1     2022-05-04 11:00:00 -0.304208  0.255973   AFLT   -1.263417          0.0   \n",
       "2     2022-05-04 12:00:00 -0.304118  0.034175   AFLT   -1.244002          0.0   \n",
       "3     2022-05-04 13:00:00 -0.304213  0.031301   AFLT   -1.253709          0.0   \n",
       "4     2022-05-04 14:00:00 -0.304174 -0.008242   AFLT   -1.253709          0.0   \n",
       "\n",
       "       index_1day  index_start_1day result      delta_time  ...  \\\n",
       "index                                                       ...   \n",
       "0             NaN               NaN   LOSE 1 days 01:00:00  ...   \n",
       "1             NaN               NaN   LOSE 1 days 23:00:00  ...   \n",
       "2             NaN               NaN   LOSE 1 days 04:00:00  ...   \n",
       "3             NaN               NaN   LOSE 1 days 21:00:00  ...   \n",
       "4             NaN               NaN   LOSE 1 days 20:00:00  ...   \n",
       "\n",
       "       tmos_close_w70_lvl_0.05  tmos_close_w70_lvl_-0.05  \\\n",
       "index                                                      \n",
       "0                    -1.094331                 -1.484996   \n",
       "1                     0.394826                 -1.484996   \n",
       "2                    -0.101559                 -0.508843   \n",
       "3                     0.394826                 -0.752881   \n",
       "4                     0.096995                 -0.899304   \n",
       "\n",
       "       tmos_close_w70_lvl_0.07  tmos_close_w70_lvl_-0.07  \\\n",
       "index                                                      \n",
       "0                    -1.099550                 -1.494293   \n",
       "1                     0.339647                 -1.494293   \n",
       "2                    -0.140085                 -0.541094   \n",
       "3                     0.339647                 -0.779394   \n",
       "4                     0.051808                 -0.922373   \n",
       "\n",
       "       tmos_close_w70_lvl_0.1  tmos_close_w70_lvl_-0.1  sin_time_hour  \\\n",
       "index                                                                   \n",
       "0                   -1.103914                -1.499320      -0.241308   \n",
       "1                    0.317132                -1.499320       0.476526   \n",
       "2                   -0.156550                -0.551282       1.029912   \n",
       "3                    0.317132                -0.788291       1.292078   \n",
       "4                    0.032923                -0.930497       1.202963   \n",
       "\n",
       "       cos_time_hour  target  ticker_code  \n",
       "index                                      \n",
       "0           1.367128       0            3  \n",
       "1           1.213525       0            3  \n",
       "2           0.787906       0            3  \n",
       "3           0.187774       0            3  \n",
       "4          -0.449388       0            3  \n",
       "\n",
       "[5 rows x 96 columns]"
      ]
     },
     "execution_count": 102,
     "metadata": {},
     "output_type": "execute_result"
    }
   ],
   "source": [
    "df_1hour.head()"
   ]
  },
  {
   "cell_type": "markdown",
   "id": "7dcb87a0-2104-44f2-bace-fe196494964f",
   "metadata": {
    "id": "7dcb87a0-2104-44f2-bace-fe196494964f"
   },
   "source": [
    "#### 4.1 PyDataset"
   ]
  },
  {
   "cell_type": "code",
   "execution_count": 105,
   "id": "cbcf5b43-e72d-4821-97b5-4cc40e19477c",
   "metadata": {},
   "outputs": [],
   "source": [
    "class CandleData:\n",
    "    def __init__(self, df_1hour, df_1day):\n",
    "        self.df_1hour = df_1hour\n",
    "        self.df_1day = df_1day\n",
    "        self.make_np_arr_data()\n",
    "\n",
    "    def make_np_arr_data(self):\n",
    "\n",
    "        #1hour\n",
    "        cols_exclude_1hour = ['time', 'ticker',\n",
    "                     'index_start', 'index_1day', 'index_start_1day', \n",
    "                     'result', 'delta_time','income_rate', 'res_price', 'res_ind',\n",
    "                     'target', 'ticker_code']\n",
    "        cols_arr_1hour = self.df_1hour.columns[~self.df_1hour.columns.isin(cols_exclude_1hour)]\n",
    "        self.arr_1hour = np.array(self.df_1hour[cols_arr_1hour])\n",
    "\n",
    "        #cols index_slice\n",
    "        cols_index_time_slice = ['index_start',\n",
    "                         'index_1day', 'index_start_1day']\n",
    "        self.index_time_slice_1hour = np.array(self.df_1hour[cols_index_time_slice])\n",
    "\n",
    "        #cols ticker\n",
    "        self.ticker_code_1hour = np.array(self.df_1hour['ticker_code'])\n",
    "\n",
    "    \n",
    "        #1day\n",
    "        cols_exclude_1day = ['time', 'ticker',]\n",
    "        cols_arr_1day = self.df_1day.columns[~self.df_1day.columns.isin(cols_exclude_1day)]\n",
    "        self.arr_1day = np.array(self.df_1day[cols_arr_1day])\n",
    "\n",
    "        #target\n",
    "        self.target_1hour = self.df_1hour['target'].values\n",
    "\n",
    "        #income_rate\n",
    "        self.income_rate_1hour = self.df_1hour['income_rate'].values"
   ]
  },
  {
   "cell_type": "code",
   "execution_count": null,
   "id": "31a16cba-4e8d-4bf4-bdea-af358d1c6e56",
   "metadata": {},
   "outputs": [],
   "source": []
  },
  {
   "cell_type": "code",
   "execution_count": 108,
   "id": "2d1df1f7-5299-4e3d-9810-bb1fc4572335",
   "metadata": {
    "id": "2d1df1f7-5299-4e3d-9810-bb1fc4572335"
   },
   "outputs": [],
   "source": [
    "class dataset(tf.keras.utils.PyDataset):\n",
    "\n",
    "    def __init__(self, data, inds, count_samples=None, len_seq=100,  batch_size=32, shuffle=False, **kwargs):\n",
    "        super().__init__(**kwargs)\n",
    "        self.data = data\n",
    "        self.inds = inds\n",
    "        self.len_seq = len_seq\n",
    "        self.batch_size = batch_size\n",
    "\n",
    "        self.count_samples = count_samples\n",
    "        if self.count_samples is not None:\n",
    "            self.inds = np.random.RandomState(seed=42).permutation(self.inds)\n",
    "\n",
    "        self.shuffle = shuffle\n",
    "        if self.shuffle:\n",
    "            self.inds = np.random.permutation(self.inds)\n",
    "\n",
    "    def __len__(self):\n",
    "        # Return number of batches.\n",
    "        if self.count_samples is None:\n",
    "            return math.ceil(len(self.inds) / self.batch_size)\n",
    "        else:\n",
    "            return math.ceil(self.count_samples / self.batch_size)\n",
    "\n",
    "    def __getitem__(self, idx):\n",
    "        # Return x, y for batch idx.\n",
    "        low = idx * self.batch_size\n",
    "        # Cap upper bound at array length; the last batch may be smaller\n",
    "        # if the total number of items is not a multiple of batch size.\n",
    "        high = min(low + self.batch_size, len(self.inds))\n",
    "        batch_inds = self.inds[low:high]\n",
    "\n",
    "\n",
    "        x_batch = []\n",
    "        x_batch_ticker_code = []\n",
    "        y_batch = []\n",
    "\n",
    "        for i in batch_inds:\n",
    "            # cols_index_time_slice = ['index_start',\n",
    "            #                  'index_1day', 'index_start_1day']\n",
    "            \n",
    "            #1hour\n",
    "            ind_high_1hour = i+1\n",
    "            ind_low_1hour = int(ind_high_1hour - self.len_seq)\n",
    "            tensor_1hour = self.data.arr_1hour[ind_low_1hour:ind_high_1hour, :]\n",
    "\n",
    "            #1day\n",
    "            ind_high_1day = int(self.data.index_time_slice_1hour[i, 1] + 1)\n",
    "            ind_low_1day =  int(ind_high_1day - self.len_seq)\n",
    "            tensor_1day = self.data.arr_1day[ind_low_1day:ind_high_1day, :]\n",
    "\n",
    "            #target\n",
    "            y = self.data.target_1hour[i]\n",
    "\n",
    "            #ticker\n",
    "            ticker_code = self.data.ticker_code_1hour[i]\n",
    "\n",
    "\n",
    "            x = np.concatenate((tensor_1hour, tensor_1day), axis=1)\n",
    "\n",
    "            x_batch += [x]\n",
    "            x_batch_ticker_code += [ticker_code]\n",
    "            y_batch += [y]\n",
    "\n",
    "        #return {'input_numeric':  np.array(x_batch), 'input_ticker' : np.array(x_batch_ticker_code)}, np.array(y_batch)\n",
    "        return np.array(x_batch), np.array(y_batch)\n",
    "\n",
    "\n",
    "    def on_epoch_end(self):\n",
    "        if self.shuffle:\n",
    "            self.inds = np.random.permutation(self.inds)"
   ]
  },
  {
   "cell_type": "code",
   "execution_count": null,
   "id": "731f5a41-0996-4159-b956-b0a9910233cd",
   "metadata": {
    "id": "731f5a41-0996-4159-b956-b0a9910233cd"
   },
   "outputs": [],
   "source": []
  },
  {
   "cell_type": "code",
   "execution_count": null,
   "id": "b1cebdf7-2c33-4ba7-872d-2facc4d65ed9",
   "metadata": {},
   "outputs": [],
   "source": []
  },
  {
   "cell_type": "code",
   "execution_count": null,
   "id": "5e9f5738-3bb1-4095-9b03-749592172d2d",
   "metadata": {},
   "outputs": [],
   "source": []
  },
  {
   "cell_type": "code",
   "execution_count": null,
   "id": "9a568874-9a49-4b7c-9bd6-02de14a41c8c",
   "metadata": {},
   "outputs": [],
   "source": []
  },
  {
   "cell_type": "code",
   "execution_count": 114,
   "id": "e5b555f9-e9c7-4464-b0f8-2323c48d1a0d",
   "metadata": {
    "id": "e5b555f9-e9c7-4464-b0f8-2323c48d1a0d"
   },
   "outputs": [
    {
     "data": {
      "text/plain": [
       "(495489, 76495, 76398, 61912)"
      ]
     },
     "execution_count": 114,
     "metadata": {},
     "output_type": "execute_result"
    }
   ],
   "source": [
    "mask_train.sum(), mask_valid.sum(), mask_test.sum(), mask_test2.sum()"
   ]
  },
  {
   "cell_type": "code",
   "execution_count": 116,
   "id": "620afaf9-f0af-48ab-b66a-8382bb89372e",
   "metadata": {},
   "outputs": [
    {
     "data": {
      "text/plain": [
       "(7742, 1195, 1193, 967)"
      ]
     },
     "execution_count": 116,
     "metadata": {},
     "output_type": "execute_result"
    }
   ],
   "source": [
    "batch_size = 64\n",
    "mask_train.sum()//batch_size, mask_valid.sum()//batch_size, mask_test.sum()//batch_size, mask_test2.sum()//batch_size"
   ]
  },
  {
   "cell_type": "code",
   "execution_count": 118,
   "id": "e882a733-72ce-40dc-ae5a-4e8d6a998d31",
   "metadata": {
    "id": "e882a733-72ce-40dc-ae5a-4e8d6a998d31"
   },
   "outputs": [],
   "source": [
    "data = CandleData(df_1hour, df_1day)\n",
    "\n",
    "\n",
    "dataset_train = dataset(data, inds_train, count_samples=None, len_seq=100, batch_size=batch_size, shuffle=True)\n",
    "dataset_valid = dataset(data, inds_valid, count_samples=None, len_seq=100, batch_size=batch_size, shuffle=False)\n",
    "dataset_test = dataset(data, inds_test, count_samples=None, len_seq=100, batch_size=batch_size, shuffle=False)\n",
    "dataset_test2 = dataset(data, inds_test2, count_samples=None, len_seq=100, batch_size=batch_size, shuffle=False)"
   ]
  },
  {
   "cell_type": "code",
   "execution_count": 120,
   "id": "535ea209-b85f-45cf-8acf-4a1920663cad",
   "metadata": {
    "colab": {
     "base_uri": "https://localhost:8080/"
    },
    "id": "535ea209-b85f-45cf-8acf-4a1920663cad",
    "outputId": "342776ec-293e-4b17-b7cb-3c6fe06f8aef"
   },
   "outputs": [
    {
     "data": {
      "text/plain": [
       "(7743, 1196, 1194, 968)"
      ]
     },
     "execution_count": 120,
     "metadata": {},
     "output_type": "execute_result"
    }
   ],
   "source": [
    "len(dataset_train), len(dataset_valid), len(dataset_test), len(dataset_test2)"
   ]
  },
  {
   "cell_type": "code",
   "execution_count": 122,
   "id": "9529f2f0-1dec-4112-b04a-9c5240379f6a",
   "metadata": {
    "colab": {
     "base_uri": "https://localhost:8080/"
    },
    "id": "9529f2f0-1dec-4112-b04a-9c5240379f6a",
    "outputId": "6d522c01-5220-4a5d-a024-ed3cfc47085a"
   },
   "outputs": [
    {
     "data": {
      "text/plain": [
       "(495552, 76544, 76416, 61952)"
      ]
     },
     "execution_count": 122,
     "metadata": {},
     "output_type": "execute_result"
    }
   ],
   "source": [
    "len(dataset_train)*dataset_train.batch_size, len(dataset_valid)*dataset_valid.batch_size, len(dataset_test)*dataset_test.batch_size, len(dataset_test2)*dataset_test2.batch_size"
   ]
  },
  {
   "cell_type": "code",
   "execution_count": null,
   "id": "e60dc6d7-d7ff-4d3a-b8e4-dbe111aaaec9",
   "metadata": {
    "id": "e60dc6d7-d7ff-4d3a-b8e4-dbe111aaaec9"
   },
   "outputs": [],
   "source": []
  },
  {
   "cell_type": "markdown",
   "id": "3cf6eeff-03a2-4432-9238-bdd15cc60725",
   "metadata": {
    "id": "3cf6eeff-03a2-4432-9238-bdd15cc60725"
   },
   "source": [
    "#### 4.2 Model"
   ]
  },
  {
   "cell_type": "code",
   "execution_count": 126,
   "id": "eebc5b70-5606-4ff1-9a98-c9ce68a5c076",
   "metadata": {
    "id": "eebc5b70-5606-4ff1-9a98-c9ce68a5c076"
   },
   "outputs": [],
   "source": [
    "import math\n",
    "import numpy as np\n",
    "import pandas as pd\n",
    "\n",
    "import tensorflow as tf\n",
    "from tensorflow.keras.models import Model\n",
    "from tensorflow.keras.callbacks import ModelCheckpoint\n",
    "from tensorflow.keras.layers import Input, Dense, Dropout, LayerNormalization, MultiHeadAttention, Add, GlobalAveragePooling1D\n",
    "\n",
    "\n",
    "\n",
    "def transformer_encoder(inputs, head_size, num_heads, ff_dim, dropout=0):\n",
    "    # Attention and Normalization\n",
    "    x = LayerNormalization(epsilon=1e-6)(inputs)\n",
    "    x = MultiHeadAttention(key_dim=head_size, num_heads=num_heads, dropout=dropout)(x, x)\n",
    "    x = Add()([x, inputs])\n",
    "\n",
    "    # Feed Forward Part\n",
    "    y = LayerNormalization(epsilon=1e-6)(x)\n",
    "    y = Dense(ff_dim, activation=\"relu\")(y)\n",
    "    y = Dropout(dropout)(y)\n",
    "    y = Dense(inputs.shape[-1])(y)\n",
    "    return Add()([y, x])\n",
    "\n",
    "\n",
    "def build_transformer_model(input_shape, head_size, num_heads, ff_dim, num_layers, dropout=0):\n",
    "    inputs = Input(shape=input_shape)\n",
    "    x = inputs\n",
    "    for _ in range(num_layers):\n",
    "        x = transformer_encoder(x, head_size, num_heads, ff_dim, dropout)\n",
    "    x = GlobalAveragePooling1D()(x)\n",
    "    x = LayerNormalization(epsilon=1e-6)(x)\n",
    "    outputs = Dense(1, activation=\"sigmoid\")(x)\n",
    "    return Model(inputs=inputs, outputs=outputs)\n",
    "\n",
    "\n",
    "# def build_transformer_model(input_shape, head_size, num_heads, ff_dim, num_layers, dropout=0):\n",
    "#     input_num = tf.keras.layers.Input(shape=input_shape, name='input_numeric')\n",
    "\n",
    "#     ticker_size = 18 #count of stocks\n",
    "#     input_emb = tf.keras.layers.Input(shape=(1,), name='input_ticker')\n",
    "#     emb = tf.keras.layers.Embedding(ticker_size, 5) (input_emb)\n",
    "#     emb_reshaped = tf.keras.layers.Reshape(target_shape=(5,))(emb)\n",
    "#     emb_reshaped_repeat = tf.keras.layers.RepeatVector(input_shape[0])(emb_reshaped)\n",
    "\n",
    "#     x = tf.keras.layers.concatenate([input_num, emb_reshaped_repeat])\n",
    "\n",
    "#     for _ in range(num_layers):\n",
    "#         x = transformer_encoder(x, head_size, num_heads, ff_dim, dropout)\n",
    "#     x = GlobalAveragePooling1D()(x)\n",
    "#     x = LayerNormalization(epsilon=1e-6)(x)\n",
    "\n",
    "#     outputs = Dense(1, activation=\"sigmoid\")(x)\n",
    "\n",
    "#     return Model(inputs=[input_num, input_emb], outputs=outputs)\n",
    "\n",
    "# def build_transformer_model(input_shape, head_size, num_heads, ff_dim, num_layers, dropout=0):\n",
    "#     input_num = tf.keras.layers.Input(shape=input_shape, name='input_numeric')\n",
    "\n",
    "\n",
    "\n",
    "#     x = input_num\n",
    "\n",
    "#     for _ in range(num_layers):\n",
    "#         x = transformer_encoder(x, head_size, num_heads, ff_dim, dropout)\n",
    "#     x = GlobalAveragePooling1D()(x)\n",
    "#     x = LayerNormalization(epsilon=1e-6)(x)\n",
    "\n",
    "\n",
    "#     ticker_size = 18 #count of stocks\n",
    "#     input_emb = tf.keras.layers.Input(shape=(1,), name='input_ticker')\n",
    "#     emb = tf.keras.layers.Embedding(ticker_size, 4) (input_emb)\n",
    "#     emb = tf.keras.layers.Reshape(target_shape=(4,))(emb)\n",
    "\n",
    "#     x = tf.keras.layers.concatenate([x, emb])\n",
    "\n",
    "#     outputs = Dense(1, activation=\"sigmoid\")(x)\n",
    "\n",
    "#     return Model(inputs=[input_num, input_emb], outputs=outputs)"
   ]
  },
  {
   "cell_type": "code",
   "execution_count": null,
   "id": "a779075b-6b41-4dc3-ae5d-55b29b0a83a4",
   "metadata": {
    "id": "a779075b-6b41-4dc3-ae5d-55b29b0a83a4"
   },
   "outputs": [],
   "source": []
  },
  {
   "cell_type": "code",
   "execution_count": null,
   "id": "24e87430-2588-4435-87c5-35720a25ab85",
   "metadata": {
    "id": "24e87430-2588-4435-87c5-35720a25ab85"
   },
   "outputs": [],
   "source": []
  },
  {
   "cell_type": "markdown",
   "id": "5c3029d2-759b-45a0-b7b0-c55abe1597cc",
   "metadata": {
    "id": "5c3029d2-759b-45a0-b7b0-c55abe1597cc"
   },
   "source": [
    "#### 4.3 WarmUpCosineDecay"
   ]
  },
  {
   "cell_type": "code",
   "execution_count": 131,
   "id": "fc9bdc1f-770b-4af1-ac3f-de0b9984a8ea",
   "metadata": {
    "id": "fc9bdc1f-770b-4af1-ac3f-de0b9984a8ea"
   },
   "outputs": [],
   "source": [
    "from tensorflow import keras\n",
    "\n",
    "def lr_warmup_cosine_decay(global_step,\n",
    "                           warmup_steps,\n",
    "                           hold = 0,\n",
    "                           total_steps=0,\n",
    "                           start_lr=0.0,\n",
    "                           target_lr=1e-3):\n",
    "    # Cosine decay\n",
    "    # There is no tf.pi so we wrap np.pi as a TF constant\n",
    "    #learning_rate = 0.5 * target_lr * (1 + tf.cos(tf.constant(np.pi) * (global_step - warmup_steps - hold) / float(total_steps - warmup_steps - hold)))\n",
    "    learning_rate = 0.5 * target_lr * (1 + tf.cos(tf.constant(np.pi) * tf.cast((global_step - warmup_steps - hold), tf.float32) / tf.cast(total_steps - warmup_steps - hold, tf.float32)))\n",
    "\n",
    "\n",
    "    # Target LR * progress of warmup (=1 at the final warmup step)\n",
    "    warmup_lr = target_lr * (global_step / warmup_steps)\n",
    "\n",
    "    # Choose between `warmup_lr`, `target_lr` and `learning_rate` based on whether `global_step < warmup_steps` and we're still holding.\n",
    "    # i.e. warm up if we're still warming up and use cosine decayed lr otherwise\n",
    "    if hold > 0:\n",
    "        learning_rate = tf.where(global_step > warmup_steps + hold,\n",
    "                                 learning_rate, target_lr)\n",
    "\n",
    "    learning_rate = tf.where(global_step < warmup_steps, warmup_lr, learning_rate)\n",
    "\n",
    "    return learning_rate\n",
    "\n",
    "\n",
    "class WarmUpCosineDecay(keras.optimizers.schedules.LearningRateSchedule):\n",
    "    def __init__(self, start_lr, target_lr, warmup_steps, total_steps, hold):\n",
    "        super().__init__()\n",
    "        self.start_lr = start_lr\n",
    "        self.target_lr = target_lr\n",
    "        self.warmup_steps = warmup_steps\n",
    "        self.total_steps = total_steps\n",
    "        self.hold = hold\n",
    "\n",
    "    def __call__(self, step):\n",
    "        lr = lr_warmup_cosine_decay(global_step=step,\n",
    "                                    total_steps=self.total_steps,\n",
    "                                    warmup_steps=self.warmup_steps,\n",
    "                                    start_lr=self.start_lr,\n",
    "                                    target_lr=self.target_lr,\n",
    "                                    hold=self.hold)\n",
    "\n",
    "        return tf.where(\n",
    "            step > self.total_steps, 0.0, lr, name=\"learning_rate\"\n",
    "        )\n",
    "    def get_config(self):\n",
    "        config = {\n",
    "          'start_lr': self.start_lr,\n",
    "          'target_lr': self.target_lr,\n",
    "          'warmup_steps': self.warmup_steps,\n",
    "          'total_steps': self.total_steps,\n",
    "          'hold': self.hold\n",
    "        }\n",
    "        return config\n",
    "\n"
   ]
  },
  {
   "cell_type": "code",
   "execution_count": null,
   "id": "2895fde1-004c-4432-8e07-31854dc32e17",
   "metadata": {
    "id": "2895fde1-004c-4432-8e07-31854dc32e17"
   },
   "outputs": [],
   "source": []
  },
  {
   "cell_type": "markdown",
   "id": "2785b48a-7912-4e28-9b81-01f2102ac9c1",
   "metadata": {
    "id": "2785b48a-7912-4e28-9b81-01f2102ac9c1"
   },
   "source": [
    "#### 4.4 Callbacks"
   ]
  },
  {
   "cell_type": "code",
   "execution_count": 135,
   "id": "57f56ee3-4de3-427e-a945-d6254ca32ad7",
   "metadata": {
    "id": "57f56ee3-4de3-427e-a945-d6254ca32ad7"
   },
   "outputs": [],
   "source": [
    "# метрики на конец эпохи"
   ]
  },
  {
   "cell_type": "code",
   "execution_count": 206,
   "id": "3d0f7791-22e4-41e8-b8c4-e3dbe55b68b5",
   "metadata": {
    "id": "3d0f7791-22e4-41e8-b8c4-e3dbe55b68b5"
   },
   "outputs": [],
   "source": [
    "def get_y_true(data):\n",
    "    return data.data.target_1hour[data.inds[:len(data)*data.batch_size]]\n",
    "def get_income_rate(data):\n",
    "    return data.data.income_rate_1hour[data.inds[:len(data)*data.batch_size]]\n",
    "\n",
    "def precision(y_true, y_pred, threshold):\n",
    "    mask = y_pred.ravel() > threshold\n",
    "    return mask.sum(), y_true.ravel()[mask].mean()\n",
    "\n",
    "\n",
    "\n",
    "class MetricsCallback(keras.callbacks.Callback):\n",
    "    def __init__(self, datasets):\n",
    "        self.datasets = datasets\n",
    "        self.list_auc = []\n",
    "        self.list_auc_95 = []\n",
    "        self.list_precision = []\n",
    "        self.list_precision_5 = []\n",
    "        self.list_income_rate = []\n",
    "        # self.list_percent = []\n",
    "        # self.list_count = []\n",
    "        super(MetricsCallback, self).__init__()\n",
    "\n",
    "    def on_epoch_end(self, epoch, logs=None):\n",
    "\n",
    "        list_y_true = []\n",
    "        list_y_pred = []\n",
    "\n",
    "        list_auc = []\n",
    "        list_auc_95 = []\n",
    "        list_precision = []\n",
    "        list_precision_5 = []\n",
    "        list_income_rate = []\n",
    "        # list_count = []\n",
    "        # list_percent = []\n",
    "        for dataset in self.datasets:\n",
    "            y_true = get_y_true(dataset)\n",
    "            income_rate = get_income_rate(dataset)\n",
    "            y_pred = self.model.predict(dataset)\n",
    "\n",
    "            list_auc += [roc_auc_score(y_true, y_pred)]\n",
    "            \n",
    "            #auc_95\n",
    "            threshold = np.quantile(y_pred, q=0.95)\n",
    "            mask = y_pred.ravel() > threshold\n",
    "            list_auc_95 += [roc_auc_score(y_true.ravel()[mask], y_pred.ravel()[mask])]\n",
    "\n",
    "            #precision\n",
    "            threshold = np.quantile(y_pred, q=0.99)\n",
    "            mask = y_pred.ravel() > threshold\n",
    "            list_precision += [y_true.ravel()[mask].mean()]\n",
    "\n",
    "            threshold = np.quantile(y_pred, q=0.95)\n",
    "            mask = y_pred.ravel() > threshold\n",
    "            list_precision_5 += [y_true.ravel()[mask].mean()]\n",
    "\n",
    "            #income_rate\n",
    "            threshold = np.quantile(y_pred, q=0.99)\n",
    "            mask = y_pred.ravel() > threshold\n",
    "            list_income_rate += [income_rate.ravel()[mask].mean()]\n",
    "            \n",
    "            \n",
    "\n",
    "#evaluate using one threshold\n",
    "        # for dataset in self.datasets:\n",
    "        #     y_true = get_y_true(dataset)\n",
    "        #     y_pred = self.model.predict(dataset)\n",
    "\n",
    "        #     list_y_true += [y_true]\n",
    "        #     list_y_pred += [y_pred]\n",
    "\n",
    "\n",
    "        # threshold = np.quantile(list_y_pred[1], q=0.99)\n",
    "\n",
    "        # for y_true, y_pred in zip(list_y_true, list_y_pred):\n",
    "        #     list_auc += [roc_auc_score(y_true, y_pred)]\n",
    "\n",
    "        #     mask = y_pred.ravel() > threshold\n",
    "        #     list_precision += [y_true.ravel()[mask].mean()]\n",
    "        #     list_count += [mask.sum()]\n",
    "        #     list_percent += [mask.mean()]\n",
    "\n",
    "        # del list_y_true, list_y_pred\n",
    "        # gc.collect()\n",
    "\n",
    "\n",
    "\n",
    "        self.list_auc += [list_auc.copy()]\n",
    "        self.list_auc_95 += [list_auc_95.copy()]\n",
    "        self.list_precision += [list_precision.copy()]\n",
    "        self.list_precision_5 += [list_precision_5.copy()]\n",
    "        self.list_income_rate += [list_income_rate.copy()]\n",
    "        # self.list_percent += [list_percent.copy()]\n",
    "        # self.list_count += [list_count.copy()]\n",
    "\n",
    "\n",
    "        print('AUC_ROC: ', list(np.round(list_auc, decimals=3)))\n",
    "        #print('AUC_ROC_95: ', np.round(list_auc_95, decimals=3).tolist())\n",
    "        # print('COUNT: ', np.round(list_count, decimals=3).tolist())\n",
    "        # print('PERCENT: ', np.round(list_percent, decimals=3).tolist())\n",
    "        print('PRECISION: ', list(np.round(list_precision, decimals=3)))\n",
    "        #print('PRECISION_5: ', np.round(list_precision_5, decimals=3).tolist())\n",
    "        print('INCOME_RATE: ', list(np.round(list_income_rate, decimals=3)))\n",
    "\n",
    "        print()\n",
    "\n",
    "\n"
   ]
  },
  {
   "cell_type": "code",
   "execution_count": null,
   "id": "b3063efa-6159-4264-94b5-1508b58bf807",
   "metadata": {
    "id": "b3063efa-6159-4264-94b5-1508b58bf807"
   },
   "outputs": [],
   "source": []
  },
  {
   "cell_type": "code",
   "execution_count": null,
   "id": "aa0f1dcf-19d8-444a-8cb0-05e08a323863",
   "metadata": {
    "id": "aa0f1dcf-19d8-444a-8cb0-05e08a323863"
   },
   "outputs": [],
   "source": []
  },
  {
   "cell_type": "markdown",
   "id": "7ba56dad-ea4c-4cf5-a78c-8d23f8058ea9",
   "metadata": {
    "id": "7ba56dad-ea4c-4cf5-a78c-8d23f8058ea9"
   },
   "source": [
    "#### 4.5 Train"
   ]
  },
  {
   "cell_type": "code",
   "execution_count": 210,
   "id": "b1835a29-2c1e-4a60-a2a0-7feb5c6e9d87",
   "metadata": {},
   "outputs": [
    {
     "name": "stdout",
     "output_type": "stream",
     "text": [
      "mkdir: models: File exists\n"
     ]
    }
   ],
   "source": [
    "! mkdir models"
   ]
  },
  {
   "cell_type": "code",
   "execution_count": null,
   "id": "16a494de-ffab-476d-9a7a-5720edbaf6cc",
   "metadata": {},
   "outputs": [],
   "source": []
  },
  {
   "cell_type": "code",
   "execution_count": 213,
   "id": "22919002-d209-4699-afd0-34d255ee79a8",
   "metadata": {},
   "outputs": [
    {
     "data": {
      "text/plain": [
       "(100, 213)"
      ]
     },
     "execution_count": 213,
     "metadata": {},
     "output_type": "execute_result"
    }
   ],
   "source": [
    "dataset_train.__getitem__(0)[0][0].shape"
   ]
  },
  {
   "cell_type": "code",
   "execution_count": 215,
   "id": "sDrf9u58G2Us",
   "metadata": {
    "colab": {
     "base_uri": "https://localhost:8080/",
     "height": 1000
    },
    "id": "sDrf9u58G2Us",
    "outputId": "a1c5d2f2-d814-418c-a3cb-7d32d63bbd85"
   },
   "outputs": [
    {
     "data": {
      "text/html": [
       "<pre style=\"white-space:pre;overflow-x:auto;line-height:normal;font-family:Menlo,'DejaVu Sans Mono',consolas,'Courier New',monospace\"><span style=\"font-weight: bold\">Model: \"functional_1\"</span>\n",
       "</pre>\n"
      ],
      "text/plain": [
       "\u001b[1mModel: \"functional_1\"\u001b[0m\n"
      ]
     },
     "metadata": {},
     "output_type": "display_data"
    },
    {
     "data": {
      "text/html": [
       "<pre style=\"white-space:pre;overflow-x:auto;line-height:normal;font-family:Menlo,'DejaVu Sans Mono',consolas,'Courier New',monospace\">┏━━━━━━━━━━━━━━━━━━━━━┳━━━━━━━━━━━━━━━━━━━┳━━━━━━━━━━━━┳━━━━━━━━━━━━━━━━━━━┓\n",
       "┃<span style=\"font-weight: bold\"> Layer (type)        </span>┃<span style=\"font-weight: bold\"> Output Shape      </span>┃<span style=\"font-weight: bold\">    Param # </span>┃<span style=\"font-weight: bold\"> Connected to      </span>┃\n",
       "┡━━━━━━━━━━━━━━━━━━━━━╇━━━━━━━━━━━━━━━━━━━╇━━━━━━━━━━━━╇━━━━━━━━━━━━━━━━━━━┩\n",
       "│ input_layer_1       │ (<span style=\"color: #00d7ff; text-decoration-color: #00d7ff\">None</span>, <span style=\"color: #00af00; text-decoration-color: #00af00\">100</span>, <span style=\"color: #00af00; text-decoration-color: #00af00\">213</span>)  │          <span style=\"color: #00af00; text-decoration-color: #00af00\">0</span> │ -                 │\n",
       "│ (<span style=\"color: #0087ff; text-decoration-color: #0087ff\">InputLayer</span>)        │                   │            │                   │\n",
       "├─────────────────────┼───────────────────┼────────────┼───────────────────┤\n",
       "│ layer_normalizatio… │ (<span style=\"color: #00d7ff; text-decoration-color: #00d7ff\">None</span>, <span style=\"color: #00af00; text-decoration-color: #00af00\">100</span>, <span style=\"color: #00af00; text-decoration-color: #00af00\">213</span>)  │        <span style=\"color: #00af00; text-decoration-color: #00af00\">426</span> │ input_layer_1[<span style=\"color: #00af00; text-decoration-color: #00af00\">0</span>]… │\n",
       "│ (<span style=\"color: #0087ff; text-decoration-color: #0087ff\">LayerNormalizatio…</span> │                   │            │                   │\n",
       "├─────────────────────┼───────────────────┼────────────┼───────────────────┤\n",
       "│ multi_head_attenti… │ (<span style=\"color: #00d7ff; text-decoration-color: #00d7ff\">None</span>, <span style=\"color: #00af00; text-decoration-color: #00af00\">100</span>, <span style=\"color: #00af00; text-decoration-color: #00af00\">213</span>)  │  <span style=\"color: #00af00; text-decoration-color: #00af00\">1,751,253</span> │ layer_normalizat… │\n",
       "│ (<span style=\"color: #0087ff; text-decoration-color: #0087ff\">MultiHeadAttentio…</span> │                   │            │ layer_normalizat… │\n",
       "├─────────────────────┼───────────────────┼────────────┼───────────────────┤\n",
       "│ add_4 (<span style=\"color: #0087ff; text-decoration-color: #0087ff\">Add</span>)         │ (<span style=\"color: #00d7ff; text-decoration-color: #00d7ff\">None</span>, <span style=\"color: #00af00; text-decoration-color: #00af00\">100</span>, <span style=\"color: #00af00; text-decoration-color: #00af00\">213</span>)  │          <span style=\"color: #00af00; text-decoration-color: #00af00\">0</span> │ multi_head_atten… │\n",
       "│                     │                   │            │ input_layer_1[<span style=\"color: #00af00; text-decoration-color: #00af00\">0</span>]… │\n",
       "├─────────────────────┼───────────────────┼────────────┼───────────────────┤\n",
       "│ layer_normalizatio… │ (<span style=\"color: #00d7ff; text-decoration-color: #00d7ff\">None</span>, <span style=\"color: #00af00; text-decoration-color: #00af00\">100</span>, <span style=\"color: #00af00; text-decoration-color: #00af00\">213</span>)  │        <span style=\"color: #00af00; text-decoration-color: #00af00\">426</span> │ add_4[<span style=\"color: #00af00; text-decoration-color: #00af00\">0</span>][<span style=\"color: #00af00; text-decoration-color: #00af00\">0</span>]       │\n",
       "│ (<span style=\"color: #0087ff; text-decoration-color: #0087ff\">LayerNormalizatio…</span> │                   │            │                   │\n",
       "├─────────────────────┼───────────────────┼────────────┼───────────────────┤\n",
       "│ dense_5 (<span style=\"color: #0087ff; text-decoration-color: #0087ff\">Dense</span>)     │ (<span style=\"color: #00d7ff; text-decoration-color: #00d7ff\">None</span>, <span style=\"color: #00af00; text-decoration-color: #00af00\">100</span>, <span style=\"color: #00af00; text-decoration-color: #00af00\">512</span>)  │    <span style=\"color: #00af00; text-decoration-color: #00af00\">109,568</span> │ layer_normalizat… │\n",
       "├─────────────────────┼───────────────────┼────────────┼───────────────────┤\n",
       "│ dropout_5 (<span style=\"color: #0087ff; text-decoration-color: #0087ff\">Dropout</span>) │ (<span style=\"color: #00d7ff; text-decoration-color: #00d7ff\">None</span>, <span style=\"color: #00af00; text-decoration-color: #00af00\">100</span>, <span style=\"color: #00af00; text-decoration-color: #00af00\">512</span>)  │          <span style=\"color: #00af00; text-decoration-color: #00af00\">0</span> │ dense_5[<span style=\"color: #00af00; text-decoration-color: #00af00\">0</span>][<span style=\"color: #00af00; text-decoration-color: #00af00\">0</span>]     │\n",
       "├─────────────────────┼───────────────────┼────────────┼───────────────────┤\n",
       "│ dense_6 (<span style=\"color: #0087ff; text-decoration-color: #0087ff\">Dense</span>)     │ (<span style=\"color: #00d7ff; text-decoration-color: #00d7ff\">None</span>, <span style=\"color: #00af00; text-decoration-color: #00af00\">100</span>, <span style=\"color: #00af00; text-decoration-color: #00af00\">213</span>)  │    <span style=\"color: #00af00; text-decoration-color: #00af00\">109,269</span> │ dropout_5[<span style=\"color: #00af00; text-decoration-color: #00af00\">0</span>][<span style=\"color: #00af00; text-decoration-color: #00af00\">0</span>]   │\n",
       "├─────────────────────┼───────────────────┼────────────┼───────────────────┤\n",
       "│ add_5 (<span style=\"color: #0087ff; text-decoration-color: #0087ff\">Add</span>)         │ (<span style=\"color: #00d7ff; text-decoration-color: #00d7ff\">None</span>, <span style=\"color: #00af00; text-decoration-color: #00af00\">100</span>, <span style=\"color: #00af00; text-decoration-color: #00af00\">213</span>)  │          <span style=\"color: #00af00; text-decoration-color: #00af00\">0</span> │ dense_6[<span style=\"color: #00af00; text-decoration-color: #00af00\">0</span>][<span style=\"color: #00af00; text-decoration-color: #00af00\">0</span>],    │\n",
       "│                     │                   │            │ add_4[<span style=\"color: #00af00; text-decoration-color: #00af00\">0</span>][<span style=\"color: #00af00; text-decoration-color: #00af00\">0</span>]       │\n",
       "├─────────────────────┼───────────────────┼────────────┼───────────────────┤\n",
       "│ layer_normalizatio… │ (<span style=\"color: #00d7ff; text-decoration-color: #00d7ff\">None</span>, <span style=\"color: #00af00; text-decoration-color: #00af00\">100</span>, <span style=\"color: #00af00; text-decoration-color: #00af00\">213</span>)  │        <span style=\"color: #00af00; text-decoration-color: #00af00\">426</span> │ add_5[<span style=\"color: #00af00; text-decoration-color: #00af00\">0</span>][<span style=\"color: #00af00; text-decoration-color: #00af00\">0</span>]       │\n",
       "│ (<span style=\"color: #0087ff; text-decoration-color: #0087ff\">LayerNormalizatio…</span> │                   │            │                   │\n",
       "├─────────────────────┼───────────────────┼────────────┼───────────────────┤\n",
       "│ multi_head_attenti… │ (<span style=\"color: #00d7ff; text-decoration-color: #00d7ff\">None</span>, <span style=\"color: #00af00; text-decoration-color: #00af00\">100</span>, <span style=\"color: #00af00; text-decoration-color: #00af00\">213</span>)  │  <span style=\"color: #00af00; text-decoration-color: #00af00\">1,751,253</span> │ layer_normalizat… │\n",
       "│ (<span style=\"color: #0087ff; text-decoration-color: #0087ff\">MultiHeadAttentio…</span> │                   │            │ layer_normalizat… │\n",
       "├─────────────────────┼───────────────────┼────────────┼───────────────────┤\n",
       "│ add_6 (<span style=\"color: #0087ff; text-decoration-color: #0087ff\">Add</span>)         │ (<span style=\"color: #00d7ff; text-decoration-color: #00d7ff\">None</span>, <span style=\"color: #00af00; text-decoration-color: #00af00\">100</span>, <span style=\"color: #00af00; text-decoration-color: #00af00\">213</span>)  │          <span style=\"color: #00af00; text-decoration-color: #00af00\">0</span> │ multi_head_atten… │\n",
       "│                     │                   │            │ add_5[<span style=\"color: #00af00; text-decoration-color: #00af00\">0</span>][<span style=\"color: #00af00; text-decoration-color: #00af00\">0</span>]       │\n",
       "├─────────────────────┼───────────────────┼────────────┼───────────────────┤\n",
       "│ layer_normalizatio… │ (<span style=\"color: #00d7ff; text-decoration-color: #00d7ff\">None</span>, <span style=\"color: #00af00; text-decoration-color: #00af00\">100</span>, <span style=\"color: #00af00; text-decoration-color: #00af00\">213</span>)  │        <span style=\"color: #00af00; text-decoration-color: #00af00\">426</span> │ add_6[<span style=\"color: #00af00; text-decoration-color: #00af00\">0</span>][<span style=\"color: #00af00; text-decoration-color: #00af00\">0</span>]       │\n",
       "│ (<span style=\"color: #0087ff; text-decoration-color: #0087ff\">LayerNormalizatio…</span> │                   │            │                   │\n",
       "├─────────────────────┼───────────────────┼────────────┼───────────────────┤\n",
       "│ dense_7 (<span style=\"color: #0087ff; text-decoration-color: #0087ff\">Dense</span>)     │ (<span style=\"color: #00d7ff; text-decoration-color: #00d7ff\">None</span>, <span style=\"color: #00af00; text-decoration-color: #00af00\">100</span>, <span style=\"color: #00af00; text-decoration-color: #00af00\">512</span>)  │    <span style=\"color: #00af00; text-decoration-color: #00af00\">109,568</span> │ layer_normalizat… │\n",
       "├─────────────────────┼───────────────────┼────────────┼───────────────────┤\n",
       "│ dropout_7 (<span style=\"color: #0087ff; text-decoration-color: #0087ff\">Dropout</span>) │ (<span style=\"color: #00d7ff; text-decoration-color: #00d7ff\">None</span>, <span style=\"color: #00af00; text-decoration-color: #00af00\">100</span>, <span style=\"color: #00af00; text-decoration-color: #00af00\">512</span>)  │          <span style=\"color: #00af00; text-decoration-color: #00af00\">0</span> │ dense_7[<span style=\"color: #00af00; text-decoration-color: #00af00\">0</span>][<span style=\"color: #00af00; text-decoration-color: #00af00\">0</span>]     │\n",
       "├─────────────────────┼───────────────────┼────────────┼───────────────────┤\n",
       "│ dense_8 (<span style=\"color: #0087ff; text-decoration-color: #0087ff\">Dense</span>)     │ (<span style=\"color: #00d7ff; text-decoration-color: #00d7ff\">None</span>, <span style=\"color: #00af00; text-decoration-color: #00af00\">100</span>, <span style=\"color: #00af00; text-decoration-color: #00af00\">213</span>)  │    <span style=\"color: #00af00; text-decoration-color: #00af00\">109,269</span> │ dropout_7[<span style=\"color: #00af00; text-decoration-color: #00af00\">0</span>][<span style=\"color: #00af00; text-decoration-color: #00af00\">0</span>]   │\n",
       "├─────────────────────┼───────────────────┼────────────┼───────────────────┤\n",
       "│ add_7 (<span style=\"color: #0087ff; text-decoration-color: #0087ff\">Add</span>)         │ (<span style=\"color: #00d7ff; text-decoration-color: #00d7ff\">None</span>, <span style=\"color: #00af00; text-decoration-color: #00af00\">100</span>, <span style=\"color: #00af00; text-decoration-color: #00af00\">213</span>)  │          <span style=\"color: #00af00; text-decoration-color: #00af00\">0</span> │ dense_8[<span style=\"color: #00af00; text-decoration-color: #00af00\">0</span>][<span style=\"color: #00af00; text-decoration-color: #00af00\">0</span>],    │\n",
       "│                     │                   │            │ add_6[<span style=\"color: #00af00; text-decoration-color: #00af00\">0</span>][<span style=\"color: #00af00; text-decoration-color: #00af00\">0</span>]       │\n",
       "├─────────────────────┼───────────────────┼────────────┼───────────────────┤\n",
       "│ global_average_poo… │ (<span style=\"color: #00d7ff; text-decoration-color: #00d7ff\">None</span>, <span style=\"color: #00af00; text-decoration-color: #00af00\">213</span>)       │          <span style=\"color: #00af00; text-decoration-color: #00af00\">0</span> │ add_7[<span style=\"color: #00af00; text-decoration-color: #00af00\">0</span>][<span style=\"color: #00af00; text-decoration-color: #00af00\">0</span>]       │\n",
       "│ (<span style=\"color: #0087ff; text-decoration-color: #0087ff\">GlobalAveragePool…</span> │                   │            │                   │\n",
       "├─────────────────────┼───────────────────┼────────────┼───────────────────┤\n",
       "│ layer_normalizatio… │ (<span style=\"color: #00d7ff; text-decoration-color: #00d7ff\">None</span>, <span style=\"color: #00af00; text-decoration-color: #00af00\">213</span>)       │        <span style=\"color: #00af00; text-decoration-color: #00af00\">426</span> │ global_average_p… │\n",
       "│ (<span style=\"color: #0087ff; text-decoration-color: #0087ff\">LayerNormalizatio…</span> │                   │            │                   │\n",
       "├─────────────────────┼───────────────────┼────────────┼───────────────────┤\n",
       "│ dense_9 (<span style=\"color: #0087ff; text-decoration-color: #0087ff\">Dense</span>)     │ (<span style=\"color: #00d7ff; text-decoration-color: #00d7ff\">None</span>, <span style=\"color: #00af00; text-decoration-color: #00af00\">1</span>)         │        <span style=\"color: #00af00; text-decoration-color: #00af00\">214</span> │ layer_normalizat… │\n",
       "└─────────────────────┴───────────────────┴────────────┴───────────────────┘\n",
       "</pre>\n"
      ],
      "text/plain": [
       "┏━━━━━━━━━━━━━━━━━━━━━┳━━━━━━━━━━━━━━━━━━━┳━━━━━━━━━━━━┳━━━━━━━━━━━━━━━━━━━┓\n",
       "┃\u001b[1m \u001b[0m\u001b[1mLayer (type)       \u001b[0m\u001b[1m \u001b[0m┃\u001b[1m \u001b[0m\u001b[1mOutput Shape     \u001b[0m\u001b[1m \u001b[0m┃\u001b[1m \u001b[0m\u001b[1m   Param #\u001b[0m\u001b[1m \u001b[0m┃\u001b[1m \u001b[0m\u001b[1mConnected to     \u001b[0m\u001b[1m \u001b[0m┃\n",
       "┡━━━━━━━━━━━━━━━━━━━━━╇━━━━━━━━━━━━━━━━━━━╇━━━━━━━━━━━━╇━━━━━━━━━━━━━━━━━━━┩\n",
       "│ input_layer_1       │ (\u001b[38;5;45mNone\u001b[0m, \u001b[38;5;34m100\u001b[0m, \u001b[38;5;34m213\u001b[0m)  │          \u001b[38;5;34m0\u001b[0m │ -                 │\n",
       "│ (\u001b[38;5;33mInputLayer\u001b[0m)        │                   │            │                   │\n",
       "├─────────────────────┼───────────────────┼────────────┼───────────────────┤\n",
       "│ layer_normalizatio… │ (\u001b[38;5;45mNone\u001b[0m, \u001b[38;5;34m100\u001b[0m, \u001b[38;5;34m213\u001b[0m)  │        \u001b[38;5;34m426\u001b[0m │ input_layer_1[\u001b[38;5;34m0\u001b[0m]… │\n",
       "│ (\u001b[38;5;33mLayerNormalizatio…\u001b[0m │                   │            │                   │\n",
       "├─────────────────────┼───────────────────┼────────────┼───────────────────┤\n",
       "│ multi_head_attenti… │ (\u001b[38;5;45mNone\u001b[0m, \u001b[38;5;34m100\u001b[0m, \u001b[38;5;34m213\u001b[0m)  │  \u001b[38;5;34m1,751,253\u001b[0m │ layer_normalizat… │\n",
       "│ (\u001b[38;5;33mMultiHeadAttentio…\u001b[0m │                   │            │ layer_normalizat… │\n",
       "├─────────────────────┼───────────────────┼────────────┼───────────────────┤\n",
       "│ add_4 (\u001b[38;5;33mAdd\u001b[0m)         │ (\u001b[38;5;45mNone\u001b[0m, \u001b[38;5;34m100\u001b[0m, \u001b[38;5;34m213\u001b[0m)  │          \u001b[38;5;34m0\u001b[0m │ multi_head_atten… │\n",
       "│                     │                   │            │ input_layer_1[\u001b[38;5;34m0\u001b[0m]… │\n",
       "├─────────────────────┼───────────────────┼────────────┼───────────────────┤\n",
       "│ layer_normalizatio… │ (\u001b[38;5;45mNone\u001b[0m, \u001b[38;5;34m100\u001b[0m, \u001b[38;5;34m213\u001b[0m)  │        \u001b[38;5;34m426\u001b[0m │ add_4[\u001b[38;5;34m0\u001b[0m][\u001b[38;5;34m0\u001b[0m]       │\n",
       "│ (\u001b[38;5;33mLayerNormalizatio…\u001b[0m │                   │            │                   │\n",
       "├─────────────────────┼───────────────────┼────────────┼───────────────────┤\n",
       "│ dense_5 (\u001b[38;5;33mDense\u001b[0m)     │ (\u001b[38;5;45mNone\u001b[0m, \u001b[38;5;34m100\u001b[0m, \u001b[38;5;34m512\u001b[0m)  │    \u001b[38;5;34m109,568\u001b[0m │ layer_normalizat… │\n",
       "├─────────────────────┼───────────────────┼────────────┼───────────────────┤\n",
       "│ dropout_5 (\u001b[38;5;33mDropout\u001b[0m) │ (\u001b[38;5;45mNone\u001b[0m, \u001b[38;5;34m100\u001b[0m, \u001b[38;5;34m512\u001b[0m)  │          \u001b[38;5;34m0\u001b[0m │ dense_5[\u001b[38;5;34m0\u001b[0m][\u001b[38;5;34m0\u001b[0m]     │\n",
       "├─────────────────────┼───────────────────┼────────────┼───────────────────┤\n",
       "│ dense_6 (\u001b[38;5;33mDense\u001b[0m)     │ (\u001b[38;5;45mNone\u001b[0m, \u001b[38;5;34m100\u001b[0m, \u001b[38;5;34m213\u001b[0m)  │    \u001b[38;5;34m109,269\u001b[0m │ dropout_5[\u001b[38;5;34m0\u001b[0m][\u001b[38;5;34m0\u001b[0m]   │\n",
       "├─────────────────────┼───────────────────┼────────────┼───────────────────┤\n",
       "│ add_5 (\u001b[38;5;33mAdd\u001b[0m)         │ (\u001b[38;5;45mNone\u001b[0m, \u001b[38;5;34m100\u001b[0m, \u001b[38;5;34m213\u001b[0m)  │          \u001b[38;5;34m0\u001b[0m │ dense_6[\u001b[38;5;34m0\u001b[0m][\u001b[38;5;34m0\u001b[0m],    │\n",
       "│                     │                   │            │ add_4[\u001b[38;5;34m0\u001b[0m][\u001b[38;5;34m0\u001b[0m]       │\n",
       "├─────────────────────┼───────────────────┼────────────┼───────────────────┤\n",
       "│ layer_normalizatio… │ (\u001b[38;5;45mNone\u001b[0m, \u001b[38;5;34m100\u001b[0m, \u001b[38;5;34m213\u001b[0m)  │        \u001b[38;5;34m426\u001b[0m │ add_5[\u001b[38;5;34m0\u001b[0m][\u001b[38;5;34m0\u001b[0m]       │\n",
       "│ (\u001b[38;5;33mLayerNormalizatio…\u001b[0m │                   │            │                   │\n",
       "├─────────────────────┼───────────────────┼────────────┼───────────────────┤\n",
       "│ multi_head_attenti… │ (\u001b[38;5;45mNone\u001b[0m, \u001b[38;5;34m100\u001b[0m, \u001b[38;5;34m213\u001b[0m)  │  \u001b[38;5;34m1,751,253\u001b[0m │ layer_normalizat… │\n",
       "│ (\u001b[38;5;33mMultiHeadAttentio…\u001b[0m │                   │            │ layer_normalizat… │\n",
       "├─────────────────────┼───────────────────┼────────────┼───────────────────┤\n",
       "│ add_6 (\u001b[38;5;33mAdd\u001b[0m)         │ (\u001b[38;5;45mNone\u001b[0m, \u001b[38;5;34m100\u001b[0m, \u001b[38;5;34m213\u001b[0m)  │          \u001b[38;5;34m0\u001b[0m │ multi_head_atten… │\n",
       "│                     │                   │            │ add_5[\u001b[38;5;34m0\u001b[0m][\u001b[38;5;34m0\u001b[0m]       │\n",
       "├─────────────────────┼───────────────────┼────────────┼───────────────────┤\n",
       "│ layer_normalizatio… │ (\u001b[38;5;45mNone\u001b[0m, \u001b[38;5;34m100\u001b[0m, \u001b[38;5;34m213\u001b[0m)  │        \u001b[38;5;34m426\u001b[0m │ add_6[\u001b[38;5;34m0\u001b[0m][\u001b[38;5;34m0\u001b[0m]       │\n",
       "│ (\u001b[38;5;33mLayerNormalizatio…\u001b[0m │                   │            │                   │\n",
       "├─────────────────────┼───────────────────┼────────────┼───────────────────┤\n",
       "│ dense_7 (\u001b[38;5;33mDense\u001b[0m)     │ (\u001b[38;5;45mNone\u001b[0m, \u001b[38;5;34m100\u001b[0m, \u001b[38;5;34m512\u001b[0m)  │    \u001b[38;5;34m109,568\u001b[0m │ layer_normalizat… │\n",
       "├─────────────────────┼───────────────────┼────────────┼───────────────────┤\n",
       "│ dropout_7 (\u001b[38;5;33mDropout\u001b[0m) │ (\u001b[38;5;45mNone\u001b[0m, \u001b[38;5;34m100\u001b[0m, \u001b[38;5;34m512\u001b[0m)  │          \u001b[38;5;34m0\u001b[0m │ dense_7[\u001b[38;5;34m0\u001b[0m][\u001b[38;5;34m0\u001b[0m]     │\n",
       "├─────────────────────┼───────────────────┼────────────┼───────────────────┤\n",
       "│ dense_8 (\u001b[38;5;33mDense\u001b[0m)     │ (\u001b[38;5;45mNone\u001b[0m, \u001b[38;5;34m100\u001b[0m, \u001b[38;5;34m213\u001b[0m)  │    \u001b[38;5;34m109,269\u001b[0m │ dropout_7[\u001b[38;5;34m0\u001b[0m][\u001b[38;5;34m0\u001b[0m]   │\n",
       "├─────────────────────┼───────────────────┼────────────┼───────────────────┤\n",
       "│ add_7 (\u001b[38;5;33mAdd\u001b[0m)         │ (\u001b[38;5;45mNone\u001b[0m, \u001b[38;5;34m100\u001b[0m, \u001b[38;5;34m213\u001b[0m)  │          \u001b[38;5;34m0\u001b[0m │ dense_8[\u001b[38;5;34m0\u001b[0m][\u001b[38;5;34m0\u001b[0m],    │\n",
       "│                     │                   │            │ add_6[\u001b[38;5;34m0\u001b[0m][\u001b[38;5;34m0\u001b[0m]       │\n",
       "├─────────────────────┼───────────────────┼────────────┼───────────────────┤\n",
       "│ global_average_poo… │ (\u001b[38;5;45mNone\u001b[0m, \u001b[38;5;34m213\u001b[0m)       │          \u001b[38;5;34m0\u001b[0m │ add_7[\u001b[38;5;34m0\u001b[0m][\u001b[38;5;34m0\u001b[0m]       │\n",
       "│ (\u001b[38;5;33mGlobalAveragePool…\u001b[0m │                   │            │                   │\n",
       "├─────────────────────┼───────────────────┼────────────┼───────────────────┤\n",
       "│ layer_normalizatio… │ (\u001b[38;5;45mNone\u001b[0m, \u001b[38;5;34m213\u001b[0m)       │        \u001b[38;5;34m426\u001b[0m │ global_average_p… │\n",
       "│ (\u001b[38;5;33mLayerNormalizatio…\u001b[0m │                   │            │                   │\n",
       "├─────────────────────┼───────────────────┼────────────┼───────────────────┤\n",
       "│ dense_9 (\u001b[38;5;33mDense\u001b[0m)     │ (\u001b[38;5;45mNone\u001b[0m, \u001b[38;5;34m1\u001b[0m)         │        \u001b[38;5;34m214\u001b[0m │ layer_normalizat… │\n",
       "└─────────────────────┴───────────────────┴────────────┴───────────────────┘\n"
      ]
     },
     "metadata": {},
     "output_type": "display_data"
    },
    {
     "data": {
      "text/html": [
       "<pre style=\"white-space:pre;overflow-x:auto;line-height:normal;font-family:Menlo,'DejaVu Sans Mono',consolas,'Courier New',monospace\"><span style=\"font-weight: bold\"> Total params: </span><span style=\"color: #00af00; text-decoration-color: #00af00\">3,942,524</span> (15.04 MB)\n",
       "</pre>\n"
      ],
      "text/plain": [
       "\u001b[1m Total params: \u001b[0m\u001b[38;5;34m3,942,524\u001b[0m (15.04 MB)\n"
      ]
     },
     "metadata": {},
     "output_type": "display_data"
    },
    {
     "data": {
      "text/html": [
       "<pre style=\"white-space:pre;overflow-x:auto;line-height:normal;font-family:Menlo,'DejaVu Sans Mono',consolas,'Courier New',monospace\"><span style=\"font-weight: bold\"> Trainable params: </span><span style=\"color: #00af00; text-decoration-color: #00af00\">3,942,524</span> (15.04 MB)\n",
       "</pre>\n"
      ],
      "text/plain": [
       "\u001b[1m Trainable params: \u001b[0m\u001b[38;5;34m3,942,524\u001b[0m (15.04 MB)\n"
      ]
     },
     "metadata": {},
     "output_type": "display_data"
    },
    {
     "data": {
      "text/html": [
       "<pre style=\"white-space:pre;overflow-x:auto;line-height:normal;font-family:Menlo,'DejaVu Sans Mono',consolas,'Courier New',monospace\"><span style=\"font-weight: bold\"> Non-trainable params: </span><span style=\"color: #00af00; text-decoration-color: #00af00\">0</span> (0.00 B)\n",
       "</pre>\n"
      ],
      "text/plain": [
       "\u001b[1m Non-trainable params: \u001b[0m\u001b[38;5;34m0\u001b[0m (0.00 B)\n"
      ]
     },
     "metadata": {},
     "output_type": "display_data"
    }
   ],
   "source": [
    "input_shape = dataset_train.__getitem__(0)[0][0].shape\n",
    "head_size = 256#256\n",
    "num_heads = 8#16\n",
    "ff_dim = 512#1024\n",
    "num_layers = 2#12\n",
    "dropout = 0.1#0.2\n",
    "\n",
    "model = build_transformer_model(input_shape, head_size, num_heads, ff_dim, num_layers, dropout)\n",
    "model.summary()"
   ]
  },
  {
   "cell_type": "code",
   "execution_count": null,
   "id": "9Lh7nHsHZG0V",
   "metadata": {
    "id": "9Lh7nHsHZG0V"
   },
   "outputs": [],
   "source": []
  },
  {
   "cell_type": "code",
   "execution_count": 218,
   "id": "ljAdOwv_ZHAG",
   "metadata": {
    "id": "ljAdOwv_ZHAG"
   },
   "outputs": [
    {
     "data": {
      "text/plain": [
       "(7742, 1195, 1193, 967)"
      ]
     },
     "execution_count": 218,
     "metadata": {},
     "output_type": "execute_result"
    }
   ],
   "source": [
    "batch_size = 64\n",
    "mask_train.sum()//batch_size, mask_valid.sum()//batch_size, mask_test.sum()//batch_size, mask_test2.sum()//batch_size"
   ]
  },
  {
   "cell_type": "code",
   "execution_count": 220,
   "id": "04a7e309-e147-42ca-9c73-e08e7af14651",
   "metadata": {},
   "outputs": [],
   "source": [
    "dataset_train = dataset(data, inds_train, count_samples=10*batch_size, len_seq=100, batch_size=batch_size, shuffle=True)\n",
    "dataset_valid = dataset(data, inds_valid, count_samples=10*batch_size, len_seq=100, batch_size=batch_size, shuffle=True)\n",
    "dataset_test = dataset(data, inds_test, count_samples=10*batch_size, len_seq=100, batch_size=batch_size, shuffle=True)\n",
    "dataset_test2 = dataset(data, inds_test2, count_samples=10*batch_size, len_seq=100, batch_size=batch_size, shuffle=True)"
   ]
  },
  {
   "cell_type": "code",
   "execution_count": null,
   "id": "57bbc600-01a9-4b4b-a3f5-7a5bcc94766b",
   "metadata": {},
   "outputs": [],
   "source": []
  },
  {
   "cell_type": "code",
   "execution_count": 223,
   "id": "4bfe4b72-6a33-4713-b5fa-f3b41a358958",
   "metadata": {
    "id": "4bfe4b72-6a33-4713-b5fa-f3b41a358958"
   },
   "outputs": [],
   "source": [
    "EPOCHS = 20\n",
    "\n",
    "total_steps = len(dataset_train) * EPOCHS\n",
    "warmup_steps = int(0.1*total_steps)\n",
    "schedule = WarmUpCosineDecay(start_lr=0.0001, target_lr=0.001, warmup_steps=warmup_steps, total_steps=total_steps, hold=0)\n",
    "#may be changed to 1\n",
    "optimizer=tf.keras.optimizers.Adam(learning_rate=schedule)\n",
    "#optimizer=tf.keras.optimizers.Adam(learning_rate=0.001)\n",
    "\n",
    "loss = tf.keras.losses.BinaryCrossentropy()\n",
    "metric_auc_roc = tf.keras.metrics.AUC(num_thresholds=64)\n",
    "\n",
    "\n",
    "model.compile(optimizer=optimizer,\n",
    "              loss=loss,\n",
    "              metrics=[metric_auc_roc])\n",
    "\n",
    "\n",
    "#metrics_callback = MetricsCallback([dataset_train_subsample, dataset_valid_subsample, dataset_test_subsample, dataset_test2_subsample])\n",
    "metrics_callback = MetricsCallback([dataset_train, dataset_valid, dataset_test, dataset_test2])\n",
    "save_callback = tf.keras.callbacks.ModelCheckpoint( \"./models/model_{epoch:02d}.keras\", save_freq='epoch')\n",
    "callbacks = [save_callback, metrics_callback]\n",
    "\n",
    "\n"
   ]
  },
  {
   "cell_type": "code",
   "execution_count": null,
   "id": "ed5d02dc-c609-45ae-b95e-ddb93f9bb16d",
   "metadata": {
    "id": "ed5d02dc-c609-45ae-b95e-ddb93f9bb16d"
   },
   "outputs": [],
   "source": []
  },
  {
   "cell_type": "code",
   "execution_count": 226,
   "id": "6e5810fc-bfd1-4557-a12f-f18cdf677b51",
   "metadata": {
    "id": "6e5810fc-bfd1-4557-a12f-f18cdf677b51"
   },
   "outputs": [],
   "source": [
    "# lrs = [lr_warmup_cosine_decay(step, total_steps=total_steps, warmup_steps=warmup_steps, hold=0, start_lr=0.0001,\n",
    "#                            target_lr=0.001) for step in tqdm(np.arange(total_steps))]\n",
    "# plt.plot(lrs)"
   ]
  },
  {
   "cell_type": "code",
   "execution_count": null,
   "id": "50b9c927-ab52-4f40-aabb-035ea547719a",
   "metadata": {},
   "outputs": [],
   "source": []
  },
  {
   "cell_type": "code",
   "execution_count": 229,
   "id": "2fc292c8-05f7-41cc-bc93-895031bfa684",
   "metadata": {
    "colab": {
     "base_uri": "https://localhost:8080/",
     "height": 393
    },
    "id": "2fc292c8-05f7-41cc-bc93-895031bfa684",
    "outputId": "bb34e8c6-3de6-405b-bb45-b02fc4405463",
    "scrolled": true
   },
   "outputs": [
    {
     "name": "stdout",
     "output_type": "stream",
     "text": [
      "Epoch 1/20\n",
      "\u001b[1m10/10\u001b[0m \u001b[32m━━━━━━━━━━━━━━━━━━━━\u001b[0m\u001b[37m\u001b[0m \u001b[1m3s\u001b[0m 293ms/step - auc_2: 0\n",
      "\u001b[1m10/10\u001b[0m \u001b[32m━━━━━━━━━━━━━━━━━━━━\u001b[0m\u001b[37m\u001b[0m \u001b[1m3s\u001b[0m 289ms/step\n",
      "\u001b[1m10/10\u001b[0m \u001b[32m━━━━━━━━━━━━━━━━━━━━\u001b[0m\u001b[37m\u001b[0m \u001b[1m3s\u001b[0m 289ms/step\n",
      "\u001b[1m10/10\u001b[0m \u001b[32m━━━━━━━━━━━━━━━━━━━━\u001b[0m\u001b[37m\u001b[0m \u001b[1m3s\u001b[0m 295ms/step\n",
      "AUC_ROC:  [0.64, 0.66, 0.567, 0.485]\n",
      "PRECISION:  [0.571, 0.0, 0.286, 0.0]\n",
      "INCOME_RATE:  [1.031, 0.968, 1.008, 0.959]\n",
      "\n",
      "\u001b[1m10/10\u001b[0m \u001b[32m━━━━━━━━━━━━━━━━━━━━\u001b[0m\u001b[37m\u001b[0m \u001b[1m21s\u001b[0m 2s/step - auc_2: 0.5469 - loss: 0.6666  \n",
      "Epoch 2/20\n",
      "\u001b[1m10/10\u001b[0m \u001b[32m━━━━━━━━━━━━━━━━━━━━\u001b[0m\u001b[37m\u001b[0m \u001b[1m3s\u001b[0m 315ms/step - auc_2: 0\n",
      "\u001b[1m10/10\u001b[0m \u001b[32m━━━━━━━━━━━━━━━━━━━━\u001b[0m\u001b[37m\u001b[0m \u001b[1m3s\u001b[0m 305ms/step\n",
      "\u001b[1m10/10\u001b[0m \u001b[32m━━━━━━━━━━━━━━━━━━━━\u001b[0m\u001b[37m\u001b[0m \u001b[1m3s\u001b[0m 309ms/step\n",
      "\u001b[1m10/10\u001b[0m \u001b[32m━━━━━━━━━━━━━━━━━━━━\u001b[0m\u001b[37m\u001b[0m \u001b[1m3s\u001b[0m 307ms/step\n",
      "AUC_ROC:  [0.609, 0.641, 0.499, 0.667]\n",
      "PRECISION:  [0.429, 0.143, 0.286, 0.286]\n",
      "INCOME_RATE:  [1.015, 0.962, 1.017, 0.98]\n",
      "\n",
      "\u001b[1m10/10\u001b[0m \u001b[32m━━━━━━━━━━━━━━━━━━━━\u001b[0m\u001b[37m\u001b[0m \u001b[1m21s\u001b[0m 2s/step - auc_2: 0.5996 - loss: 0.5719  \n",
      "Epoch 3/20\n",
      "\u001b[1m10/10\u001b[0m \u001b[32m━━━━━━━━━━━━━━━━━━━━\u001b[0m\u001b[37m\u001b[0m \u001b[1m3s\u001b[0m 303ms/step - auc_2: 0\n",
      "\u001b[1m10/10\u001b[0m \u001b[32m━━━━━━━━━━━━━━━━━━━━\u001b[0m\u001b[37m\u001b[0m \u001b[1m3s\u001b[0m 309ms/step\n",
      "\u001b[1m10/10\u001b[0m \u001b[32m━━━━━━━━━━━━━━━━━━━━\u001b[0m\u001b[37m\u001b[0m \u001b[1m3s\u001b[0m 302ms/step\n",
      "\u001b[1m10/10\u001b[0m \u001b[32m━━━━━━━━━━━━━━━━━━━━\u001b[0m\u001b[37m\u001b[0m \u001b[1m3s\u001b[0m 305ms/step\n",
      "AUC_ROC:  [0.691, 0.66, 0.562, 0.534]\n",
      "PRECISION:  [0.143, 0.143, 0.429, 0.429]\n",
      "INCOME_RATE:  [0.979, 0.977, 1.042, 1.009]\n",
      "\n",
      "\u001b[1m10/10\u001b[0m \u001b[32m━━━━━━━━━━━━━━━━━━━━\u001b[0m\u001b[37m\u001b[0m \u001b[1m21s\u001b[0m 2s/step - auc_2: 0.6204 - loss: 0.5885  \n",
      "Epoch 4/20\n",
      "\u001b[1m10/10\u001b[0m \u001b[32m━━━━━━━━━━━━━━━━━━━━\u001b[0m\u001b[37m\u001b[0m \u001b[1m3s\u001b[0m 298ms/step - auc_2: 0\n",
      "\u001b[1m10/10\u001b[0m \u001b[32m━━━━━━━━━━━━━━━━━━━━\u001b[0m\u001b[37m\u001b[0m \u001b[1m3s\u001b[0m 300ms/step\n",
      "\u001b[1m10/10\u001b[0m \u001b[32m━━━━━━━━━━━━━━━━━━━━\u001b[0m\u001b[37m\u001b[0m \u001b[1m3s\u001b[0m 298ms/step\n",
      "\u001b[1m10/10\u001b[0m \u001b[32m━━━━━━━━━━━━━━━━━━━━\u001b[0m\u001b[37m\u001b[0m \u001b[1m3s\u001b[0m 303ms/step\n",
      "AUC_ROC:  [0.649, 0.705, 0.643, 0.672]\n",
      "PRECISION:  [0.857, 0.0, 0.286, 1.0]\n",
      "INCOME_RATE:  [1.052, 0.956, 0.997, 1.07]\n",
      "\n",
      "\u001b[1m10/10\u001b[0m \u001b[32m━━━━━━━━━━━━━━━━━━━━\u001b[0m\u001b[37m\u001b[0m \u001b[1m20s\u001b[0m 2s/step - auc_2: 0.6705 - loss: 0.5176  \n",
      "Epoch 5/20\n",
      "\u001b[1m10/10\u001b[0m \u001b[32m━━━━━━━━━━━━━━━━━━━━\u001b[0m\u001b[37m\u001b[0m \u001b[1m3s\u001b[0m 322ms/step - auc_2: 0\n",
      "\u001b[1m10/10\u001b[0m \u001b[32m━━━━━━━━━━━━━━━━━━━━\u001b[0m\u001b[37m\u001b[0m \u001b[1m3s\u001b[0m 316ms/step\n",
      "\u001b[1m10/10\u001b[0m \u001b[32m━━━━━━━━━━━━━━━━━━━━\u001b[0m\u001b[37m\u001b[0m \u001b[1m3s\u001b[0m 320ms/step\n",
      "\u001b[1m10/10\u001b[0m \u001b[32m━━━━━━━━━━━━━━━━━━━━\u001b[0m\u001b[37m\u001b[0m \u001b[1m3s\u001b[0m 318ms/step\n",
      "AUC_ROC:  [0.697, 0.733, 0.672, 0.62]\n",
      "PRECISION:  [0.714, 0.0, 0.571, 0.714]\n",
      "INCOME_RATE:  [1.051, 0.962, 1.031, 1.028]\n",
      "\n",
      "\u001b[1m10/10\u001b[0m \u001b[32m━━━━━━━━━━━━━━━━━━━━\u001b[0m\u001b[37m\u001b[0m \u001b[1m22s\u001b[0m 2s/step - auc_2: 0.6669 - loss: 0.5614  \n",
      "Epoch 6/20\n"
     ]
    },
    {
     "ename": "KeyboardInterrupt",
     "evalue": "",
     "output_type": "error",
     "traceback": [
      "\u001b[0;31m---------------------------------------------------------------------------\u001b[0m",
      "\u001b[0;31mKeyboardInterrupt\u001b[0m                         Traceback (most recent call last)",
      "Cell \u001b[0;32mIn[229], line 1\u001b[0m\n\u001b[0;32m----> 1\u001b[0m model\u001b[38;5;241m.\u001b[39mfit(dataset_train, epochs\u001b[38;5;241m=\u001b[39mEPOCHS, callbacks\u001b[38;5;241m=\u001b[39mcallbacks)\n",
      "File \u001b[0;32m/opt/anaconda3/lib/python3.12/site-packages/keras/src/utils/traceback_utils.py:117\u001b[0m, in \u001b[0;36mfilter_traceback.<locals>.error_handler\u001b[0;34m(*args, **kwargs)\u001b[0m\n\u001b[1;32m    115\u001b[0m filtered_tb \u001b[38;5;241m=\u001b[39m \u001b[38;5;28;01mNone\u001b[39;00m\n\u001b[1;32m    116\u001b[0m \u001b[38;5;28;01mtry\u001b[39;00m:\n\u001b[0;32m--> 117\u001b[0m     \u001b[38;5;28;01mreturn\u001b[39;00m fn(\u001b[38;5;241m*\u001b[39margs, \u001b[38;5;241m*\u001b[39m\u001b[38;5;241m*\u001b[39mkwargs)\n\u001b[1;32m    118\u001b[0m \u001b[38;5;28;01mexcept\u001b[39;00m \u001b[38;5;167;01mException\u001b[39;00m \u001b[38;5;28;01mas\u001b[39;00m e:\n\u001b[1;32m    119\u001b[0m     filtered_tb \u001b[38;5;241m=\u001b[39m _process_traceback_frames(e\u001b[38;5;241m.\u001b[39m__traceback__)\n",
      "File \u001b[0;32m/opt/anaconda3/lib/python3.12/site-packages/keras/src/backend/tensorflow/trainer.py:320\u001b[0m, in \u001b[0;36mTensorFlowTrainer.fit\u001b[0;34m(self, x, y, batch_size, epochs, verbose, callbacks, validation_split, validation_data, shuffle, class_weight, sample_weight, initial_epoch, steps_per_epoch, validation_steps, validation_batch_size, validation_freq)\u001b[0m\n\u001b[1;32m    318\u001b[0m \u001b[38;5;28;01mfor\u001b[39;00m step, iterator \u001b[38;5;129;01min\u001b[39;00m epoch_iterator\u001b[38;5;241m.\u001b[39menumerate_epoch():\n\u001b[1;32m    319\u001b[0m     callbacks\u001b[38;5;241m.\u001b[39mon_train_batch_begin(step)\n\u001b[0;32m--> 320\u001b[0m     logs \u001b[38;5;241m=\u001b[39m \u001b[38;5;28mself\u001b[39m\u001b[38;5;241m.\u001b[39mtrain_function(iterator)\n\u001b[1;32m    321\u001b[0m     callbacks\u001b[38;5;241m.\u001b[39mon_train_batch_end(step, logs)\n\u001b[1;32m    322\u001b[0m     \u001b[38;5;28;01mif\u001b[39;00m \u001b[38;5;28mself\u001b[39m\u001b[38;5;241m.\u001b[39mstop_training:\n",
      "File \u001b[0;32m/opt/anaconda3/lib/python3.12/site-packages/tensorflow/python/util/traceback_utils.py:150\u001b[0m, in \u001b[0;36mfilter_traceback.<locals>.error_handler\u001b[0;34m(*args, **kwargs)\u001b[0m\n\u001b[1;32m    148\u001b[0m filtered_tb \u001b[38;5;241m=\u001b[39m \u001b[38;5;28;01mNone\u001b[39;00m\n\u001b[1;32m    149\u001b[0m \u001b[38;5;28;01mtry\u001b[39;00m:\n\u001b[0;32m--> 150\u001b[0m   \u001b[38;5;28;01mreturn\u001b[39;00m fn(\u001b[38;5;241m*\u001b[39margs, \u001b[38;5;241m*\u001b[39m\u001b[38;5;241m*\u001b[39mkwargs)\n\u001b[1;32m    151\u001b[0m \u001b[38;5;28;01mexcept\u001b[39;00m \u001b[38;5;167;01mException\u001b[39;00m \u001b[38;5;28;01mas\u001b[39;00m e:\n\u001b[1;32m    152\u001b[0m   filtered_tb \u001b[38;5;241m=\u001b[39m _process_traceback_frames(e\u001b[38;5;241m.\u001b[39m__traceback__)\n",
      "File \u001b[0;32m/opt/anaconda3/lib/python3.12/site-packages/tensorflow/python/eager/polymorphic_function/polymorphic_function.py:833\u001b[0m, in \u001b[0;36mFunction.__call__\u001b[0;34m(self, *args, **kwds)\u001b[0m\n\u001b[1;32m    830\u001b[0m compiler \u001b[38;5;241m=\u001b[39m \u001b[38;5;124m\"\u001b[39m\u001b[38;5;124mxla\u001b[39m\u001b[38;5;124m\"\u001b[39m \u001b[38;5;28;01mif\u001b[39;00m \u001b[38;5;28mself\u001b[39m\u001b[38;5;241m.\u001b[39m_jit_compile \u001b[38;5;28;01melse\u001b[39;00m \u001b[38;5;124m\"\u001b[39m\u001b[38;5;124mnonXla\u001b[39m\u001b[38;5;124m\"\u001b[39m\n\u001b[1;32m    832\u001b[0m \u001b[38;5;28;01mwith\u001b[39;00m OptionalXlaContext(\u001b[38;5;28mself\u001b[39m\u001b[38;5;241m.\u001b[39m_jit_compile):\n\u001b[0;32m--> 833\u001b[0m   result \u001b[38;5;241m=\u001b[39m \u001b[38;5;28mself\u001b[39m\u001b[38;5;241m.\u001b[39m_call(\u001b[38;5;241m*\u001b[39margs, \u001b[38;5;241m*\u001b[39m\u001b[38;5;241m*\u001b[39mkwds)\n\u001b[1;32m    835\u001b[0m new_tracing_count \u001b[38;5;241m=\u001b[39m \u001b[38;5;28mself\u001b[39m\u001b[38;5;241m.\u001b[39mexperimental_get_tracing_count()\n\u001b[1;32m    836\u001b[0m without_tracing \u001b[38;5;241m=\u001b[39m (tracing_count \u001b[38;5;241m==\u001b[39m new_tracing_count)\n",
      "File \u001b[0;32m/opt/anaconda3/lib/python3.12/site-packages/tensorflow/python/eager/polymorphic_function/polymorphic_function.py:878\u001b[0m, in \u001b[0;36mFunction._call\u001b[0;34m(self, *args, **kwds)\u001b[0m\n\u001b[1;32m    875\u001b[0m \u001b[38;5;28mself\u001b[39m\u001b[38;5;241m.\u001b[39m_lock\u001b[38;5;241m.\u001b[39mrelease()\n\u001b[1;32m    876\u001b[0m \u001b[38;5;66;03m# In this case we have not created variables on the first call. So we can\u001b[39;00m\n\u001b[1;32m    877\u001b[0m \u001b[38;5;66;03m# run the first trace but we should fail if variables are created.\u001b[39;00m\n\u001b[0;32m--> 878\u001b[0m results \u001b[38;5;241m=\u001b[39m tracing_compilation\u001b[38;5;241m.\u001b[39mcall_function(\n\u001b[1;32m    879\u001b[0m     args, kwds, \u001b[38;5;28mself\u001b[39m\u001b[38;5;241m.\u001b[39m_variable_creation_config\n\u001b[1;32m    880\u001b[0m )\n\u001b[1;32m    881\u001b[0m \u001b[38;5;28;01mif\u001b[39;00m \u001b[38;5;28mself\u001b[39m\u001b[38;5;241m.\u001b[39m_created_variables:\n\u001b[1;32m    882\u001b[0m   \u001b[38;5;28;01mraise\u001b[39;00m \u001b[38;5;167;01mValueError\u001b[39;00m(\u001b[38;5;124m\"\u001b[39m\u001b[38;5;124mCreating variables on a non-first call to a function\u001b[39m\u001b[38;5;124m\"\u001b[39m\n\u001b[1;32m    883\u001b[0m                    \u001b[38;5;124m\"\u001b[39m\u001b[38;5;124m decorated with tf.function.\u001b[39m\u001b[38;5;124m\"\u001b[39m)\n",
      "File \u001b[0;32m/opt/anaconda3/lib/python3.12/site-packages/tensorflow/python/eager/polymorphic_function/tracing_compilation.py:139\u001b[0m, in \u001b[0;36mcall_function\u001b[0;34m(args, kwargs, tracing_options)\u001b[0m\n\u001b[1;32m    137\u001b[0m bound_args \u001b[38;5;241m=\u001b[39m function\u001b[38;5;241m.\u001b[39mfunction_type\u001b[38;5;241m.\u001b[39mbind(\u001b[38;5;241m*\u001b[39margs, \u001b[38;5;241m*\u001b[39m\u001b[38;5;241m*\u001b[39mkwargs)\n\u001b[1;32m    138\u001b[0m flat_inputs \u001b[38;5;241m=\u001b[39m function\u001b[38;5;241m.\u001b[39mfunction_type\u001b[38;5;241m.\u001b[39munpack_inputs(bound_args)\n\u001b[0;32m--> 139\u001b[0m \u001b[38;5;28;01mreturn\u001b[39;00m function\u001b[38;5;241m.\u001b[39m_call_flat(  \u001b[38;5;66;03m# pylint: disable=protected-access\u001b[39;00m\n\u001b[1;32m    140\u001b[0m     flat_inputs, captured_inputs\u001b[38;5;241m=\u001b[39mfunction\u001b[38;5;241m.\u001b[39mcaptured_inputs\n\u001b[1;32m    141\u001b[0m )\n",
      "File \u001b[0;32m/opt/anaconda3/lib/python3.12/site-packages/tensorflow/python/eager/polymorphic_function/concrete_function.py:1322\u001b[0m, in \u001b[0;36mConcreteFunction._call_flat\u001b[0;34m(self, tensor_inputs, captured_inputs)\u001b[0m\n\u001b[1;32m   1318\u001b[0m possible_gradient_type \u001b[38;5;241m=\u001b[39m gradients_util\u001b[38;5;241m.\u001b[39mPossibleTapeGradientTypes(args)\n\u001b[1;32m   1319\u001b[0m \u001b[38;5;28;01mif\u001b[39;00m (possible_gradient_type \u001b[38;5;241m==\u001b[39m gradients_util\u001b[38;5;241m.\u001b[39mPOSSIBLE_GRADIENT_TYPES_NONE\n\u001b[1;32m   1320\u001b[0m     \u001b[38;5;129;01mand\u001b[39;00m executing_eagerly):\n\u001b[1;32m   1321\u001b[0m   \u001b[38;5;66;03m# No tape is watching; skip to running the function.\u001b[39;00m\n\u001b[0;32m-> 1322\u001b[0m   \u001b[38;5;28;01mreturn\u001b[39;00m \u001b[38;5;28mself\u001b[39m\u001b[38;5;241m.\u001b[39m_inference_function\u001b[38;5;241m.\u001b[39mcall_preflattened(args)\n\u001b[1;32m   1323\u001b[0m forward_backward \u001b[38;5;241m=\u001b[39m \u001b[38;5;28mself\u001b[39m\u001b[38;5;241m.\u001b[39m_select_forward_and_backward_functions(\n\u001b[1;32m   1324\u001b[0m     args,\n\u001b[1;32m   1325\u001b[0m     possible_gradient_type,\n\u001b[1;32m   1326\u001b[0m     executing_eagerly)\n\u001b[1;32m   1327\u001b[0m forward_function, args_with_tangents \u001b[38;5;241m=\u001b[39m forward_backward\u001b[38;5;241m.\u001b[39mforward()\n",
      "File \u001b[0;32m/opt/anaconda3/lib/python3.12/site-packages/tensorflow/python/eager/polymorphic_function/atomic_function.py:216\u001b[0m, in \u001b[0;36mAtomicFunction.call_preflattened\u001b[0;34m(self, args)\u001b[0m\n\u001b[1;32m    214\u001b[0m \u001b[38;5;28;01mdef\u001b[39;00m \u001b[38;5;21mcall_preflattened\u001b[39m(\u001b[38;5;28mself\u001b[39m, args: Sequence[core\u001b[38;5;241m.\u001b[39mTensor]) \u001b[38;5;241m-\u001b[39m\u001b[38;5;241m>\u001b[39m Any:\n\u001b[1;32m    215\u001b[0m \u001b[38;5;250m  \u001b[39m\u001b[38;5;124;03m\"\"\"Calls with flattened tensor inputs and returns the structured output.\"\"\"\u001b[39;00m\n\u001b[0;32m--> 216\u001b[0m   flat_outputs \u001b[38;5;241m=\u001b[39m \u001b[38;5;28mself\u001b[39m\u001b[38;5;241m.\u001b[39mcall_flat(\u001b[38;5;241m*\u001b[39margs)\n\u001b[1;32m    217\u001b[0m   \u001b[38;5;28;01mreturn\u001b[39;00m \u001b[38;5;28mself\u001b[39m\u001b[38;5;241m.\u001b[39mfunction_type\u001b[38;5;241m.\u001b[39mpack_output(flat_outputs)\n",
      "File \u001b[0;32m/opt/anaconda3/lib/python3.12/site-packages/tensorflow/python/eager/polymorphic_function/atomic_function.py:251\u001b[0m, in \u001b[0;36mAtomicFunction.call_flat\u001b[0;34m(self, *args)\u001b[0m\n\u001b[1;32m    249\u001b[0m \u001b[38;5;28;01mwith\u001b[39;00m record\u001b[38;5;241m.\u001b[39mstop_recording():\n\u001b[1;32m    250\u001b[0m   \u001b[38;5;28;01mif\u001b[39;00m \u001b[38;5;28mself\u001b[39m\u001b[38;5;241m.\u001b[39m_bound_context\u001b[38;5;241m.\u001b[39mexecuting_eagerly():\n\u001b[0;32m--> 251\u001b[0m     outputs \u001b[38;5;241m=\u001b[39m \u001b[38;5;28mself\u001b[39m\u001b[38;5;241m.\u001b[39m_bound_context\u001b[38;5;241m.\u001b[39mcall_function(\n\u001b[1;32m    252\u001b[0m         \u001b[38;5;28mself\u001b[39m\u001b[38;5;241m.\u001b[39mname,\n\u001b[1;32m    253\u001b[0m         \u001b[38;5;28mlist\u001b[39m(args),\n\u001b[1;32m    254\u001b[0m         \u001b[38;5;28mlen\u001b[39m(\u001b[38;5;28mself\u001b[39m\u001b[38;5;241m.\u001b[39mfunction_type\u001b[38;5;241m.\u001b[39mflat_outputs),\n\u001b[1;32m    255\u001b[0m     )\n\u001b[1;32m    256\u001b[0m   \u001b[38;5;28;01melse\u001b[39;00m:\n\u001b[1;32m    257\u001b[0m     outputs \u001b[38;5;241m=\u001b[39m make_call_op_in_graph(\n\u001b[1;32m    258\u001b[0m         \u001b[38;5;28mself\u001b[39m,\n\u001b[1;32m    259\u001b[0m         \u001b[38;5;28mlist\u001b[39m(args),\n\u001b[1;32m    260\u001b[0m         \u001b[38;5;28mself\u001b[39m\u001b[38;5;241m.\u001b[39m_bound_context\u001b[38;5;241m.\u001b[39mfunction_call_options\u001b[38;5;241m.\u001b[39mas_attrs(),\n\u001b[1;32m    261\u001b[0m     )\n",
      "File \u001b[0;32m/opt/anaconda3/lib/python3.12/site-packages/tensorflow/python/eager/context.py:1683\u001b[0m, in \u001b[0;36mContext.call_function\u001b[0;34m(self, name, tensor_inputs, num_outputs)\u001b[0m\n\u001b[1;32m   1681\u001b[0m cancellation_context \u001b[38;5;241m=\u001b[39m cancellation\u001b[38;5;241m.\u001b[39mcontext()\n\u001b[1;32m   1682\u001b[0m \u001b[38;5;28;01mif\u001b[39;00m cancellation_context \u001b[38;5;129;01mis\u001b[39;00m \u001b[38;5;28;01mNone\u001b[39;00m:\n\u001b[0;32m-> 1683\u001b[0m   outputs \u001b[38;5;241m=\u001b[39m execute\u001b[38;5;241m.\u001b[39mexecute(\n\u001b[1;32m   1684\u001b[0m       name\u001b[38;5;241m.\u001b[39mdecode(\u001b[38;5;124m\"\u001b[39m\u001b[38;5;124mutf-8\u001b[39m\u001b[38;5;124m\"\u001b[39m),\n\u001b[1;32m   1685\u001b[0m       num_outputs\u001b[38;5;241m=\u001b[39mnum_outputs,\n\u001b[1;32m   1686\u001b[0m       inputs\u001b[38;5;241m=\u001b[39mtensor_inputs,\n\u001b[1;32m   1687\u001b[0m       attrs\u001b[38;5;241m=\u001b[39mattrs,\n\u001b[1;32m   1688\u001b[0m       ctx\u001b[38;5;241m=\u001b[39m\u001b[38;5;28mself\u001b[39m,\n\u001b[1;32m   1689\u001b[0m   )\n\u001b[1;32m   1690\u001b[0m \u001b[38;5;28;01melse\u001b[39;00m:\n\u001b[1;32m   1691\u001b[0m   outputs \u001b[38;5;241m=\u001b[39m execute\u001b[38;5;241m.\u001b[39mexecute_with_cancellation(\n\u001b[1;32m   1692\u001b[0m       name\u001b[38;5;241m.\u001b[39mdecode(\u001b[38;5;124m\"\u001b[39m\u001b[38;5;124mutf-8\u001b[39m\u001b[38;5;124m\"\u001b[39m),\n\u001b[1;32m   1693\u001b[0m       num_outputs\u001b[38;5;241m=\u001b[39mnum_outputs,\n\u001b[0;32m   (...)\u001b[0m\n\u001b[1;32m   1697\u001b[0m       cancellation_manager\u001b[38;5;241m=\u001b[39mcancellation_context,\n\u001b[1;32m   1698\u001b[0m   )\n",
      "File \u001b[0;32m/opt/anaconda3/lib/python3.12/site-packages/tensorflow/python/eager/execute.py:53\u001b[0m, in \u001b[0;36mquick_execute\u001b[0;34m(op_name, num_outputs, inputs, attrs, ctx, name)\u001b[0m\n\u001b[1;32m     51\u001b[0m \u001b[38;5;28;01mtry\u001b[39;00m:\n\u001b[1;32m     52\u001b[0m   ctx\u001b[38;5;241m.\u001b[39mensure_initialized()\n\u001b[0;32m---> 53\u001b[0m   tensors \u001b[38;5;241m=\u001b[39m pywrap_tfe\u001b[38;5;241m.\u001b[39mTFE_Py_Execute(ctx\u001b[38;5;241m.\u001b[39m_handle, device_name, op_name,\n\u001b[1;32m     54\u001b[0m                                       inputs, attrs, num_outputs)\n\u001b[1;32m     55\u001b[0m \u001b[38;5;28;01mexcept\u001b[39;00m core\u001b[38;5;241m.\u001b[39m_NotOkStatusException \u001b[38;5;28;01mas\u001b[39;00m e:\n\u001b[1;32m     56\u001b[0m   \u001b[38;5;28;01mif\u001b[39;00m name \u001b[38;5;129;01mis\u001b[39;00m \u001b[38;5;129;01mnot\u001b[39;00m \u001b[38;5;28;01mNone\u001b[39;00m:\n",
      "\u001b[0;31mKeyboardInterrupt\u001b[0m: "
     ]
    }
   ],
   "source": [
    "model.fit(dataset_train, epochs=EPOCHS, callbacks=callbacks)"
   ]
  },
  {
   "cell_type": "code",
   "execution_count": null,
   "id": "64f53bb7-73b3-4198-b318-01b121448a0c",
   "metadata": {
    "id": "64f53bb7-73b3-4198-b318-01b121448a0c"
   },
   "outputs": [],
   "source": []
  },
  {
   "cell_type": "code",
   "execution_count": null,
   "id": "fcccdb1c-5a6d-4640-9139-335f221e2df0",
   "metadata": {
    "id": "fcccdb1c-5a6d-4640-9139-335f221e2df0"
   },
   "outputs": [],
   "source": []
  },
  {
   "cell_type": "code",
   "execution_count": null,
   "id": "9c840f12-27b5-42ff-912d-e796bcbfc2bd",
   "metadata": {
    "id": "9c840f12-27b5-42ff-912d-e796bcbfc2bd"
   },
   "outputs": [],
   "source": [
    "df_auc = pd.DataFrame(metrics_callback.list_auc)\n",
    "df_precision = pd.DataFrame(metrics_callback.list_precision)\n",
    "# df_count = pd.DataFrame(metrics_callback.list_count)\n",
    "# df_percent = pd.DataFrame(metrics_callback.list_percent)"
   ]
  },
  {
   "cell_type": "code",
   "execution_count": null,
   "id": "ec2dcd98-bfdb-49d9-a688-fd417fa2a92c",
   "metadata": {
    "id": "ec2dcd98-bfdb-49d9-a688-fd417fa2a92c"
   },
   "outputs": [],
   "source": [
    "#df_count"
   ]
  },
  {
   "cell_type": "code",
   "execution_count": null,
   "id": "9f4e66ab-c7ce-4790-babd-2d63415ea17c",
   "metadata": {
    "id": "9f4e66ab-c7ce-4790-babd-2d63415ea17c"
   },
   "outputs": [],
   "source": [
    "df_precision"
   ]
  },
  {
   "cell_type": "code",
   "execution_count": null,
   "id": "cd254888-a8df-4878-8a7d-ea68784fb0a0",
   "metadata": {
    "id": "cd254888-a8df-4878-8a7d-ea68784fb0a0"
   },
   "outputs": [],
   "source": []
  },
  {
   "cell_type": "code",
   "execution_count": null,
   "id": "f6c44521-706d-4dfd-966b-f14085cea7ba",
   "metadata": {
    "id": "f6c44521-706d-4dfd-966b-f14085cea7ba"
   },
   "outputs": [],
   "source": [
    "df_auc"
   ]
  },
  {
   "cell_type": "code",
   "execution_count": null,
   "id": "7290192d-e549-407f-b7a5-8216def1b004",
   "metadata": {
    "id": "7290192d-e549-407f-b7a5-8216def1b004"
   },
   "outputs": [],
   "source": [
    "#df_percent"
   ]
  },
  {
   "cell_type": "code",
   "execution_count": null,
   "id": "fa795633-7251-480c-828d-05db099b6b41",
   "metadata": {
    "id": "fa795633-7251-480c-828d-05db099b6b41"
   },
   "outputs": [],
   "source": []
  },
  {
   "cell_type": "markdown",
   "id": "273319c0-54a3-48fb-9995-01aa62cebdaf",
   "metadata": {
    "id": "273319c0-54a3-48fb-9995-01aa62cebdaf"
   },
   "source": [
    "# 4. Evaluate"
   ]
  },
  {
   "cell_type": "code",
   "execution_count": 122,
   "id": "16771a9f-37e7-4787-9b95-895096e7b316",
   "metadata": {
    "id": "16771a9f-37e7-4787-9b95-895096e7b316"
   },
   "outputs": [],
   "source": [
    "import keras\n",
    "\n",
    "model_ld = keras.saving.load_model('./model_0004.keras',\n",
    "                                custom_objects={'WarmUpCosineDecay': WarmUpCosineDecay})"
   ]
  },
  {
   "cell_type": "code",
   "execution_count": null,
   "id": "23264f72-ddbc-49e2-ac5d-5c1594d29b5e",
   "metadata": {
    "id": "23264f72-ddbc-49e2-ac5d-5c1594d29b5e"
   },
   "outputs": [],
   "source": []
  },
  {
   "cell_type": "code",
   "execution_count": 125,
   "id": "UDh4BF712E02",
   "metadata": {
    "id": "UDh4BF712E02"
   },
   "outputs": [],
   "source": [
    "dataset_valid = dataset(data, inds_valid, len_seq=200, batch_size=64, shuffle=False)\n",
    "dataset_test = dataset(data, inds_test, len_seq=200, batch_size=64, shuffle=False)\n",
    "dataset_test2 = dataset(data, inds_test2, len_seq=200, batch_size=64, shuffle=False)"
   ]
  },
  {
   "cell_type": "code",
   "execution_count": 127,
   "id": "zDP6tb-m2E35",
   "metadata": {
    "colab": {
     "base_uri": "https://localhost:8080/"
    },
    "id": "zDP6tb-m2E35",
    "outputId": "9e97420d-16ba-473d-8b4c-de370e363df1"
   },
   "outputs": [
    {
     "data": {
      "text/plain": [
       "(True, True, True)"
      ]
     },
     "execution_count": 127,
     "metadata": {},
     "output_type": "execute_result"
    }
   ],
   "source": [
    "(dataset_valid.inds == inds_valid).all(), (dataset_test.inds == inds_test).all(), (dataset_test2.inds == inds_test2).all()"
   ]
  },
  {
   "cell_type": "code",
   "execution_count": 129,
   "id": "JvNgLPa52WfQ",
   "metadata": {
    "colab": {
     "base_uri": "https://localhost:8080/"
    },
    "id": "JvNgLPa52WfQ",
    "outputId": "d71e7443-c93d-49fb-9de2-4ff4ee6e019c"
   },
   "outputs": [
    {
     "name": "stderr",
     "output_type": "stream",
     "text": [
      "WARNING: All log messages before absl::InitializeLog() is called are written to STDERR\n",
      "I0000 00:00:1735160835.599362 11211310 service.cc:148] XLA service 0x60000254eb00 initialized for platform Host (this does not guarantee that XLA will be used). Devices:\n",
      "I0000 00:00:1735160835.599394 11211310 service.cc:156]   StreamExecutor device (0): Host, Default Version\n",
      "2024-12-26 00:07:15.622979: I tensorflow/compiler/mlir/tensorflow/utils/dump_mlir_util.cc:268] disabling MLIR crash reproducer, set env var `MLIR_CRASH_REPRODUCER_DIRECTORY` to enable.\n",
      "I0000 00:00:1735160835.856115 11211310 device_compiler.h:188] Compiled cluster using XLA!  This line is logged at most once for the lifetime of the process.\n"
     ]
    },
    {
     "name": "stdout",
     "output_type": "stream",
     "text": [
      "\u001b[1m147/147\u001b[0m \u001b[32m━━━━━━━━━━━━━━━━━━━━\u001b[0m\u001b[37m\u001b[0m \u001b[1m62s\u001b[0m 419ms/step\n",
      "\u001b[1m152/152\u001b[0m \u001b[32m━━━━━━━━━━━━━━━━━━━━\u001b[0m\u001b[37m\u001b[0m \u001b[1m69s\u001b[0m 452ms/step\n",
      "\u001b[1m210/210\u001b[0m \u001b[32m━━━━━━━━━━━━━━━━━━━━\u001b[0m\u001b[37m\u001b[0m \u001b[1m97s\u001b[0m 462ms/step\n"
     ]
    }
   ],
   "source": [
    "y_pred_valid = model_ld.predict(dataset_valid)\n",
    "y_pred_test = model_ld.predict(dataset_test)\n",
    "y_pred_test2 = model_ld.predict(dataset_test2)"
   ]
  },
  {
   "cell_type": "code",
   "execution_count": 130,
   "id": "VTGBBDz52jLp",
   "metadata": {
    "id": "VTGBBDz52jLp"
   },
   "outputs": [],
   "source": [
    "dump_pkl(y_pred_valid, 'y_pred_valid.pkl')\n",
    "dump_pkl(y_pred_test, 'y_pred_test.pkl')\n",
    "dump_pkl(y_pred_test2, 'y_pred_test2.pkl')\n"
   ]
  },
  {
   "cell_type": "code",
   "execution_count": null,
   "id": "37n4AM6V2jOK",
   "metadata": {
    "id": "37n4AM6V2jOK"
   },
   "outputs": [],
   "source": []
  },
  {
   "cell_type": "code",
   "execution_count": null,
   "id": "fkzqJ4J82WiF",
   "metadata": {
    "id": "fkzqJ4J82WiF"
   },
   "outputs": [],
   "source": []
  },
  {
   "cell_type": "code",
   "execution_count": null,
   "id": "13553f8f-3b07-4336-8b84-f49511fdde6b",
   "metadata": {
    "id": "13553f8f-3b07-4336-8b84-f49511fdde6b"
   },
   "outputs": [],
   "source": [
    "y1 = model.predict(dataset_test2_subsample)\n",
    "y2 = model_ld.predict(dataset_test2_subsample)\n",
    "np.unique(y1-y2)"
   ]
  },
  {
   "cell_type": "code",
   "execution_count": null,
   "id": "c2fa9304-9ed9-40b0-abef-0100e467b23b",
   "metadata": {
    "id": "c2fa9304-9ed9-40b0-abef-0100e467b23b"
   },
   "outputs": [],
   "source": []
  },
  {
   "cell_type": "code",
   "execution_count": null,
   "id": "258c600c-83b3-4bb4-8b7a-cd2afd3bcb3f",
   "metadata": {
    "id": "258c600c-83b3-4bb4-8b7a-cd2afd3bcb3f"
   },
   "outputs": [],
   "source": []
  },
  {
   "cell_type": "markdown",
   "id": "1e3f3dee-7898-4b06-bed8-8fef57e81685",
   "metadata": {
    "id": "1e3f3dee-7898-4b06-bed8-8fef57e81685"
   },
   "source": [
    "# TMP"
   ]
  },
  {
   "cell_type": "code",
   "execution_count": null,
   "id": "de2b62cc-3ec4-42ad-ad99-cccabf9714b9",
   "metadata": {
    "id": "de2b62cc-3ec4-42ad-ad99-cccabf9714b9"
   },
   "outputs": [],
   "source": [
    "import tensorflow as tf\n",
    "tf.keras.backend.floatx()"
   ]
  },
  {
   "cell_type": "code",
   "execution_count": null,
   "id": "1e334752-da2e-4892-9398-33cfe8258e49",
   "metadata": {
    "id": "1e334752-da2e-4892-9398-33cfe8258e49"
   },
   "outputs": [],
   "source": []
  },
  {
   "cell_type": "code",
   "execution_count": null,
   "id": "97e624c0-27b5-4c65-959a-5f375e1329eb",
   "metadata": {
    "id": "97e624c0-27b5-4c65-959a-5f375e1329eb"
   },
   "outputs": [],
   "source": []
  },
  {
   "cell_type": "code",
   "execution_count": null,
   "id": "85dafc5b-f1ac-4817-bb94-0a20024571e3",
   "metadata": {
    "id": "85dafc5b-f1ac-4817-bb94-0a20024571e3"
   },
   "outputs": [],
   "source": []
  },
  {
   "cell_type": "code",
   "execution_count": null,
   "id": "c7b7d000-640b-488f-96d9-271543d6328c",
   "metadata": {
    "id": "c7b7d000-640b-488f-96d9-271543d6328c"
   },
   "outputs": [],
   "source": []
  },
  {
   "cell_type": "code",
   "execution_count": null,
   "id": "88e63d91-3ce6-49e8-82e3-e38943c7ba76",
   "metadata": {
    "id": "88e63d91-3ce6-49e8-82e3-e38943c7ba76"
   },
   "outputs": [],
   "source": []
  },
  {
   "cell_type": "code",
   "execution_count": null,
   "id": "07f6f70c-a6b6-4617-bd67-aac5b14b856f",
   "metadata": {
    "id": "07f6f70c-a6b6-4617-bd67-aac5b14b856f"
   },
   "outputs": [],
   "source": []
  }
 ],
 "metadata": {
  "accelerator": "GPU",
  "colab": {
   "gpuType": "T4",
   "provenance": []
  },
  "kernelspec": {
   "display_name": "Python 3 (ipykernel)",
   "language": "python",
   "name": "python3"
  },
  "language_info": {
   "codemirror_mode": {
    "name": "ipython",
    "version": 3
   },
   "file_extension": ".py",
   "mimetype": "text/x-python",
   "name": "python",
   "nbconvert_exporter": "python",
   "pygments_lexer": "ipython3",
   "version": "3.12.7"
  }
 },
 "nbformat": 4,
 "nbformat_minor": 5
}
