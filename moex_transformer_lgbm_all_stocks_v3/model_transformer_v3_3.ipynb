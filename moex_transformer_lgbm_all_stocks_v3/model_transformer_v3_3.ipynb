{
  "cells": [
    {
      "cell_type": "code",
      "execution_count": 1,
      "id": "d6e30ae7-7754-45c6-8ab7-f0faf1d303cb",
      "metadata": {
        "id": "d6e30ae7-7754-45c6-8ab7-f0faf1d303cb"
      },
      "outputs": [],
      "source": [
        "import numpy as np\n",
        "import pandas as pd\n",
        "from tqdm import tqdm\n",
        "import random\n",
        "import matplotlib.pyplot as plt\n",
        "import seaborn as sns\n",
        "import datetime\n",
        "import math\n",
        "import gc\n",
        "\n",
        "from sklearn.metrics import roc_auc_score\n",
        "\n",
        "import pickle\n",
        "def dump_pkl(data, filename):\n",
        "  with open(filename, 'wb') as handle:\n",
        "    pickle.dump(data, handle, protocol=pickle.HIGHEST_PROTOCOL)\n",
        "\n",
        "def load_pkl(filename):\n",
        "  with open(filename, 'rb') as handle:\n",
        "    data = pickle.load(handle)\n",
        "  return data"
      ]
    },
    {
      "cell_type": "code",
      "execution_count": null,
      "id": "qirDY6OVczYo",
      "metadata": {
        "id": "qirDY6OVczYo"
      },
      "outputs": [],
      "source": []
    },
    {
      "cell_type": "code",
      "execution_count": null,
      "id": "f33837fa-b1a1-4457-8760-12875c46470c",
      "metadata": {
        "id": "f33837fa-b1a1-4457-8760-12875c46470c"
      },
      "outputs": [],
      "source": []
    },
    {
      "cell_type": "code",
      "execution_count": null,
      "id": "aaaec63d-9f8a-4fe4-8de7-95f0e2b42a97",
      "metadata": {
        "id": "aaaec63d-9f8a-4fe4-8de7-95f0e2b42a97"
      },
      "outputs": [],
      "source": []
    },
    {
      "cell_type": "markdown",
      "id": "9dfe8d80-f431-4f2e-8908-df724266bccb",
      "metadata": {
        "id": "9dfe8d80-f431-4f2e-8908-df724266bccb"
      },
      "source": [
        "### 3. train/valid/test split"
      ]
    },
    {
      "cell_type": "code",
      "execution_count": 3,
      "id": "JhnLos7mnrY3",
      "metadata": {
        "colab": {
          "base_uri": "https://localhost:8080/"
        },
        "id": "JhnLos7mnrY3",
        "outputId": "90001c01-6634-415f-e771-42681c841e03"
      },
      "outputs": [
        {
          "output_type": "stream",
          "name": "stdout",
          "text": [
            "Success! The data has been loaded\n",
            "Unpacking the data...\n",
            "Done! The data is available here /content\n",
            "CPU times: user 13.4 s, sys: 4.19 s, total: 17.6 s\n",
            "Wall time: 1min 21s\n"
          ]
        }
      ],
      "source": [
        "%%time\n",
        "import zipfile\n",
        "import requests\n",
        "import os\n",
        "import io\n",
        "from urllib.parse import urlencode\n",
        "\n",
        "public_key1 = \"https://disk.yandex.ru/d/LekAiEuhxzxwTA\"\n",
        "folder_name1 = \"Архив\"\n",
        "asset_zip_path1 = os.path.join(os.getcwd(), f\"{folder_name1}.zip\")\n",
        "\n",
        "\n",
        "\n",
        "\n",
        "def download_and_unzip(load_from):\n",
        "  base_url = 'https://cloud-api.yandex.net/v1/disk/public/resources/download?'\n",
        "\n",
        "  # Получаем загрузочную ссылку\n",
        "  final_url = base_url + urlencode(dict(public_key=load_from))\n",
        "  try:\n",
        "    response = requests.get(final_url)\n",
        "    download_url = response.json()['href']\n",
        "\n",
        "    # Загружаем файл и сохраняем его\n",
        "    download_response = requests.get(download_url)\n",
        "    print('Success! The data has been loaded')\n",
        "  except:\n",
        "    \"Could not load the content of the URL\"\n",
        "\n",
        "  print(\"Unpacking the data...\")\n",
        "  try:\n",
        "    extract_to = os.getcwd()\n",
        "\n",
        "    z = zipfile.ZipFile(io.BytesIO(download_response.content))\n",
        "    z.extractall(extract_to)\n",
        "    print(f'Done! The data is available here {extract_to}')\n",
        "  except:\n",
        "    \"Error occured while extracting the data\"\n",
        "\n",
        "\n",
        "\n",
        "# Download if assest ZIP does not exists.\n",
        "if not os.path.exists(asset_zip_path1):\n",
        "    download_and_unzip(public_key1)\n"
      ]
    },
    {
      "cell_type": "code",
      "execution_count": 6,
      "id": "abae8128-7f9c-4e0c-bcfc-38c3f6a7c7b1",
      "metadata": {
        "id": "abae8128-7f9c-4e0c-bcfc-38c3f6a7c7b1"
      },
      "outputs": [],
      "source": [
        "df_1hour = load_pkl('./data_1hour.pkl')\n",
        "df_1day = load_pkl('./data_1day.pkl')\n",
        "\n",
        "\n",
        "# df_1hour = load_pkl('data/feat_engin/lgbm/data_1hour.pkl')\n",
        "# df_1day = load_pkl('data/feat_engin/lgbm/data_1day.pkl')\n",
        "\n"
      ]
    },
    {
      "cell_type": "code",
      "execution_count": null,
      "id": "e0c1ca03-638c-422a-adf1-352d33a547a5",
      "metadata": {
        "id": "e0c1ca03-638c-422a-adf1-352d33a547a5"
      },
      "outputs": [],
      "source": []
    },
    {
      "cell_type": "markdown",
      "id": "dda18e53-4b11-4fbc-82e3-49ca6ea27e6d",
      "metadata": {
        "id": "dda18e53-4b11-4fbc-82e3-49ca6ea27e6d"
      },
      "source": [
        "### target"
      ]
    },
    {
      "cell_type": "code",
      "execution_count": null,
      "id": "6b0b7360-d373-4eee-9eec-6e59f548d1d9",
      "metadata": {
        "id": "6b0b7360-d373-4eee-9eec-6e59f548d1d9"
      },
      "outputs": [],
      "source": [
        "# Используем уже знакомую функцию :)\n",
        "\n",
        "def get_target(df_all, ind, val_first, val_second, points_to_wait):\n",
        "    #цель - достичь val_second, не достигнув val_first\n",
        "\n",
        "    ind_end = min(ind+points_to_wait+1, df_all.shape[0])\n",
        "\n",
        "    df = df_all.iloc[ind:ind_end].copy()\n",
        "\n",
        "    mask_stock = np.array(df['ticker'] == df['ticker'].iloc[0])\n",
        "    df = df.loc[mask_stock, :]\n",
        "\n",
        "    start_price = df['close'].iloc[0]\n",
        "\n",
        "    if val_first < val_second:\n",
        "        mask_val_first = np.array(df['close'] < val_first)\n",
        "        mask_val_second = np.array(df['close'] > val_second)\n",
        "    else:\n",
        "        mask_val_first = np.array(df['close'] > val_first)      ### тут будущему мне поразбираться нужно будет\n",
        "        mask_val_second = np.array(df['close'] < val_second)\n",
        "\n",
        "\n",
        "    if (mask_val_first.sum() == 0) & (mask_val_second.sum() == 0):\n",
        "\n",
        "\n",
        "        ind_end = df.shape[0]-1\n",
        "        delta_time = df['time'].iloc[ind_end] - df['time'].iloc[0]\n",
        "        res_price = df['close'].iloc[ind_end]\n",
        "        income_rate = res_price/start_price\n",
        "        return 'DNF', delta_time, income_rate, res_price, ind_end+ind\n",
        "\n",
        "    if (mask_val_first.sum() == 0) & (mask_val_second.sum() != 0):\n",
        "        ind_val_second = np.argwhere(mask_val_second).ravel()[0]\n",
        "        delta_time = df['time'].iloc[ind_val_second] - df['time'].iloc[0]\n",
        "        res_price = df['close'].iloc[ind_val_second]\n",
        "        income_rate = res_price/start_price\n",
        "        return 'WIN', delta_time, income_rate, res_price, ind_val_second+ind\n",
        "\n",
        "    if (mask_val_first.sum() != 0) & (mask_val_second.sum() == 0):\n",
        "        ind_val_first = np.argwhere(mask_val_first).ravel()[0]\n",
        "        delta_time = df['time'].iloc[ind_val_first] - df['time'].iloc[0]\n",
        "        res_price = df['close'].iloc[ind_val_first]\n",
        "        income_rate = res_price/start_price\n",
        "        return 'LOSE', delta_time, income_rate, res_price, ind_val_first+ind\n",
        "\n",
        "    if (mask_val_first.sum() != 0) & (mask_val_second.sum() != 0):\n",
        "        ind_val_first = np.argwhere(mask_val_first).ravel()[0]\n",
        "        ind_val_second = np.argwhere(mask_val_second).ravel()[0]\n",
        "        if ind_val_first < ind_val_second:\n",
        "            delta_time = df['time'].iloc[ind_val_first] - df['time'].iloc[0]\n",
        "            res_price = df['close'].iloc[ind_val_first]\n",
        "            income_rate = res_price/start_price\n",
        "            return 'LOSE', delta_time, income_rate, res_price, ind_val_first+ind\n",
        "        if ind_val_first > ind_val_second:\n",
        "            delta_time = df['time'].iloc[ind_val_second] - df['time'].iloc[0]\n",
        "            res_price = df['close'].iloc[ind_val_second]\n",
        "            income_rate = res_price/start_price\n",
        "            return 'WIN', delta_time, income_rate, res_price, ind_val_second+ind\n",
        "\n",
        "\n",
        "def get_df_target(df, indx, percent_first=None, percent_second=None, points_to_wait=None):\n",
        "    times = []\n",
        "    results = []\n",
        "    delta_times = []\n",
        "    income_rates = []\n",
        "    closes = []\n",
        "    tickers = []\n",
        "    res_prices = []\n",
        "    res_inds = []\n",
        "\n",
        "    #for ind in indx:\n",
        "    for ind in tqdm(indx):\n",
        "        time = df['time'].iloc[ind]\n",
        "        close = df['close'].iloc[ind]\n",
        "        ticker = df['ticker'].iloc[ind]\n",
        "\n",
        "        val_first = df['close'].iloc[ind] * percent_first\n",
        "        val_second = df['close'].iloc[ind] * percent_second\n",
        "        result, delta_time, income_rate, res_price, res_ind = get_target(df, ind, val_first, val_second, points_to_wait)\n",
        "\n",
        "        times += [time]\n",
        "        closes += [close]\n",
        "        tickers += [ticker]\n",
        "        results += [result]\n",
        "        delta_times += [delta_time]\n",
        "        income_rates += [income_rate]\n",
        "        res_prices += [res_price]\n",
        "        res_inds += [res_ind]\n",
        "\n",
        "\n",
        "    df_result = pd.DataFrame({'ind' : indx,\n",
        "                              'time' : times,\n",
        "                              'close' : closes,\n",
        "                              'result' : results,\n",
        "                              'ticker' : tickers,\n",
        "                              'delta_time' : delta_times,\n",
        "                              'income_rate' : income_rates,\n",
        "                              'res_price' : res_prices,\n",
        "                              'res_ind' : res_inds\n",
        "                             })\n",
        "    return df_result"
      ]
    },
    {
      "cell_type": "code",
      "execution_count": null,
      "id": "f1d39ef4-50e5-4102-91c6-4bec2616a65c",
      "metadata": {
        "id": "f1d39ef4-50e5-4102-91c6-4bec2616a65c"
      },
      "outputs": [],
      "source": [
        "df_result = load_pkl('./data/feat_engin/df_result_wait_35_7days.pkl')\n",
        "df_result = df_result[['time', 'close', 'ticker']]\n",
        "df_result"
      ]
    },
    {
      "cell_type": "code",
      "execution_count": null,
      "id": "efffd104-f3aa-4ffd-99ef-993b12527f6e",
      "metadata": {
        "id": "efffd104-f3aa-4ffd-99ef-993b12527f6e",
        "outputId": "8078fa2e-376e-4195-9c8b-58f108b90558"
      },
      "outputs": [
        {
          "data": {
            "text/plain": [
              "(972611,)"
            ]
          },
          "execution_count": 340,
          "metadata": {},
          "output_type": "execute_result"
        }
      ],
      "source": [
        "inds = np.arange(df_result.shape[0])\n",
        "inds.shape"
      ]
    },
    {
      "cell_type": "code",
      "execution_count": null,
      "id": "wKHKeij3fYC8",
      "metadata": {
        "id": "wKHKeij3fYC8",
        "outputId": "186b4be7-b6e2-423d-a2d0-d5ef1de33dbc"
      },
      "outputs": [
        {
          "name": "stderr",
          "output_type": "stream",
          "text": [
            "100%|███████████████████████████████████████████████████████████████| 972611/972611 [03:52<00:00, 4188.82it/s]\n"
          ]
        }
      ],
      "source": [
        "df_result = get_df_target(df_result, inds, percent_first=0.99, percent_second=1.04, points_to_wait=14*2)\n",
        "\n",
        "df_result[\"income_rate\"] = np.maximum(df_result[\"income_rate\"], 0.99)\n",
        "df_result[\"income_rate\"] = np.minimum(df_result[\"income_rate\"], 1.04)"
      ]
    },
    {
      "cell_type": "code",
      "execution_count": null,
      "id": "fda47822-19e0-463c-928d-610d81241de4",
      "metadata": {
        "id": "fda47822-19e0-463c-928d-610d81241de4"
      },
      "outputs": [],
      "source": [
        "dump_pkl(df_result, './data/feat_engin/df_result_wait_14_2days.pkl')"
      ]
    },
    {
      "cell_type": "code",
      "execution_count": null,
      "id": "bd841d32-fe1e-4bc1-a6d7-42e4ee852e3d",
      "metadata": {
        "id": "bd841d32-fe1e-4bc1-a6d7-42e4ee852e3d",
        "outputId": "32c7900b-f591-473d-986e-5267bb7d71f1"
      },
      "outputs": [
        {
          "data": {
            "text/plain": [
              "(True,)"
            ]
          },
          "execution_count": 27,
          "metadata": {},
          "output_type": "execute_result"
        }
      ],
      "source": [
        "(df_result['ind'] == df_result.index).all(),"
      ]
    },
    {
      "cell_type": "code",
      "execution_count": null,
      "id": "10e16ca4-4f1c-483b-bc85-860ac4329b15",
      "metadata": {
        "id": "10e16ca4-4f1c-483b-bc85-860ac4329b15"
      },
      "outputs": [],
      "source": [
        "df_result = df_result[['time','result', 'ticker', 'delta_time', 'income_rate',\n",
        "       'res_price', 'res_ind']]"
      ]
    },
    {
      "cell_type": "code",
      "execution_count": null,
      "id": "ade16c95-f5bd-410d-9bf0-d4a617eab173",
      "metadata": {
        "id": "ade16c95-f5bd-410d-9bf0-d4a617eab173"
      },
      "outputs": [],
      "source": []
    },
    {
      "cell_type": "code",
      "execution_count": null,
      "id": "79c87b25-0087-473f-bb13-d2b9111e456d",
      "metadata": {
        "id": "79c87b25-0087-473f-bb13-d2b9111e456d",
        "outputId": "f716b65d-0ebf-4d48-f107-716a8737bbbd"
      },
      "outputs": [
        {
          "data": {
            "text/plain": [
              "(972611, 231)"
            ]
          },
          "execution_count": 32,
          "metadata": {},
          "output_type": "execute_result"
        }
      ],
      "source": [
        "df_1hour.shape"
      ]
    },
    {
      "cell_type": "code",
      "execution_count": null,
      "id": "2903308e-afa3-4dd0-b9cb-c9d49cfd4da0",
      "metadata": {
        "id": "2903308e-afa3-4dd0-b9cb-c9d49cfd4da0",
        "outputId": "dceacf6f-6d12-4241-8041-debd93390634"
      },
      "outputs": [
        {
          "data": {
            "text/plain": [
              "(972611, 231)"
            ]
          },
          "execution_count": 34,
          "metadata": {},
          "output_type": "execute_result"
        }
      ],
      "source": [
        "#join\n",
        "df_1hour = df_1hour[df_1hour.columns[~df_1hour.columns.isin(['result', 'delta_time', 'income_rate', 'res_price', 'res_ind'])]].merge(\n",
        "    df_result, how='inner', on=['time', 'ticker'])\n",
        "df_1hour.shape"
      ]
    },
    {
      "cell_type": "code",
      "execution_count": null,
      "id": "a69add4f-43e3-4717-974d-d9e8c839ac17",
      "metadata": {
        "id": "a69add4f-43e3-4717-974d-d9e8c839ac17",
        "outputId": "4c26eaa3-5d69-403b-8abd-4a0ef9d97bc3"
      },
      "outputs": [
        {
          "data": {
            "text/html": [
              "<div>\n",
              "<style scoped>\n",
              "    .dataframe tbody tr th:only-of-type {\n",
              "        vertical-align: middle;\n",
              "    }\n",
              "\n",
              "    .dataframe tbody tr th {\n",
              "        vertical-align: top;\n",
              "    }\n",
              "\n",
              "    .dataframe thead th {\n",
              "        text-align: right;\n",
              "    }\n",
              "</style>\n",
              "<table border=\"1\" class=\"dataframe\">\n",
              "  <thead>\n",
              "    <tr style=\"text-align: right;\">\n",
              "      <th></th>\n",
              "      <th>time</th>\n",
              "      <th>ticker</th>\n",
              "      <th>index_1day</th>\n",
              "      <th>close_w1_roc</th>\n",
              "      <th>volume_w1_roc</th>\n",
              "      <th>tmos_close_w1_roc</th>\n",
              "      <th>close_w5_norm_std</th>\n",
              "      <th>close_w5_mean_abs_pct</th>\n",
              "      <th>close_w5_alpha</th>\n",
              "      <th>close_w5_rsi</th>\n",
              "      <th>...</th>\n",
              "      <th>volume_w70_ma_up_3std/volume</th>\n",
              "      <th>tmos_close_w70_ma_low_2std/tmos_close</th>\n",
              "      <th>tmos_close_w70_ma_up_2std/tmos_close</th>\n",
              "      <th>tmos_close_w70_ma_low_3std/tmos_close</th>\n",
              "      <th>tmos_close_w70_ma_up_3std/tmos_close</th>\n",
              "      <th>result</th>\n",
              "      <th>delta_time</th>\n",
              "      <th>income_rate</th>\n",
              "      <th>res_price</th>\n",
              "      <th>res_ind</th>\n",
              "    </tr>\n",
              "  </thead>\n",
              "  <tbody>\n",
              "    <tr>\n",
              "      <th>0</th>\n",
              "      <td>2022-05-04 10:00:00</td>\n",
              "      <td>AFLT</td>\n",
              "      <td>NaN</td>\n",
              "      <td>NaN</td>\n",
              "      <td>NaN</td>\n",
              "      <td>NaN</td>\n",
              "      <td>NaN</td>\n",
              "      <td>NaN</td>\n",
              "      <td>NaN</td>\n",
              "      <td>NaN</td>\n",
              "      <td>...</td>\n",
              "      <td>NaN</td>\n",
              "      <td>NaN</td>\n",
              "      <td>NaN</td>\n",
              "      <td>NaN</td>\n",
              "      <td>NaN</td>\n",
              "      <td>LOSE</td>\n",
              "      <td>0 days 01:00:00</td>\n",
              "      <td>0.98</td>\n",
              "      <td>31.38</td>\n",
              "      <td>1</td>\n",
              "    </tr>\n",
              "    <tr>\n",
              "      <th>1</th>\n",
              "      <td>2022-05-04 11:00:00</td>\n",
              "      <td>AFLT</td>\n",
              "      <td>NaN</td>\n",
              "      <td>-0.022430</td>\n",
              "      <td>-0.619246</td>\n",
              "      <td>-0.016393</td>\n",
              "      <td>0.016040</td>\n",
              "      <td>0.022430</td>\n",
              "      <td>-1.388889</td>\n",
              "      <td>0.000000</td>\n",
              "      <td>...</td>\n",
              "      <td>5.263229</td>\n",
              "      <td>0.984763</td>\n",
              "      <td>1.031904</td>\n",
              "      <td>0.972978</td>\n",
              "      <td>1.043689</td>\n",
              "      <td>LOSE</td>\n",
              "      <td>1 days 05:00:00</td>\n",
              "      <td>0.98</td>\n",
              "      <td>30.64</td>\n",
              "      <td>15</td>\n",
              "    </tr>\n",
              "    <tr>\n",
              "      <th>2</th>\n",
              "      <td>2022-05-04 12:00:00</td>\n",
              "      <td>AFLT</td>\n",
              "      <td>NaN</td>\n",
              "      <td>0.013384</td>\n",
              "      <td>-0.534310</td>\n",
              "      <td>0.004762</td>\n",
              "      <td>0.011387</td>\n",
              "      <td>0.017907</td>\n",
              "      <td>-1.146789</td>\n",
              "      <td>36.842106</td>\n",
              "      <td>...</td>\n",
              "      <td>10.178883</td>\n",
              "      <td>0.985282</td>\n",
              "      <td>1.019458</td>\n",
              "      <td>0.976738</td>\n",
              "      <td>1.028002</td>\n",
              "      <td>LOSE</td>\n",
              "      <td>0 days 04:00:00</td>\n",
              "      <td>0.98</td>\n",
              "      <td>31.16</td>\n",
              "      <td>6</td>\n",
              "    </tr>\n",
              "    <tr>\n",
              "      <th>3</th>\n",
              "      <td>2022-05-04 13:00:00</td>\n",
              "      <td>AFLT</td>\n",
              "      <td>NaN</td>\n",
              "      <td>-0.013836</td>\n",
              "      <td>-0.014867</td>\n",
              "      <td>-0.002370</td>\n",
              "      <td>0.011265</td>\n",
              "      <td>0.016550</td>\n",
              "      <td>-2.358490</td>\n",
              "      <td>26.582279</td>\n",
              "      <td>...</td>\n",
              "      <td>9.178177</td>\n",
              "      <td>0.988793</td>\n",
              "      <td>1.018333</td>\n",
              "      <td>0.981408</td>\n",
              "      <td>1.025718</td>\n",
              "      <td>LOSE</td>\n",
              "      <td>1 days 03:00:00</td>\n",
              "      <td>0.98</td>\n",
              "      <td>30.64</td>\n",
              "      <td>15</td>\n",
              "    </tr>\n",
              "    <tr>\n",
              "      <th>4</th>\n",
              "      <td>2022-05-04 14:00:00</td>\n",
              "      <td>AFLT</td>\n",
              "      <td>NaN</td>\n",
              "      <td>0.005740</td>\n",
              "      <td>-0.207645</td>\n",
              "      <td>0.000000</td>\n",
              "      <td>0.009909</td>\n",
              "      <td>0.013848</td>\n",
              "      <td>-2.899878</td>\n",
              "      <td>34.090908</td>\n",
              "      <td>...</td>\n",
              "      <td>10.562762</td>\n",
              "      <td>0.989668</td>\n",
              "      <td>1.016033</td>\n",
              "      <td>0.983077</td>\n",
              "      <td>1.022624</td>\n",
              "      <td>LOSE</td>\n",
              "      <td>1 days 02:00:00</td>\n",
              "      <td>0.98</td>\n",
              "      <td>30.64</td>\n",
              "      <td>15</td>\n",
              "    </tr>\n",
              "  </tbody>\n",
              "</table>\n",
              "<p>5 rows × 231 columns</p>\n",
              "</div>"
            ],
            "text/plain": [
              "                 time ticker  index_1day  close_w1_roc  volume_w1_roc  \\\n",
              "0 2022-05-04 10:00:00   AFLT         NaN           NaN            NaN   \n",
              "1 2022-05-04 11:00:00   AFLT         NaN     -0.022430      -0.619246   \n",
              "2 2022-05-04 12:00:00   AFLT         NaN      0.013384      -0.534310   \n",
              "3 2022-05-04 13:00:00   AFLT         NaN     -0.013836      -0.014867   \n",
              "4 2022-05-04 14:00:00   AFLT         NaN      0.005740      -0.207645   \n",
              "\n",
              "   tmos_close_w1_roc  close_w5_norm_std  close_w5_mean_abs_pct  \\\n",
              "0                NaN                NaN                    NaN   \n",
              "1          -0.016393           0.016040               0.022430   \n",
              "2           0.004762           0.011387               0.017907   \n",
              "3          -0.002370           0.011265               0.016550   \n",
              "4           0.000000           0.009909               0.013848   \n",
              "\n",
              "   close_w5_alpha  close_w5_rsi  ...  volume_w70_ma_up_3std/volume  \\\n",
              "0             NaN           NaN  ...                           NaN   \n",
              "1       -1.388889      0.000000  ...                      5.263229   \n",
              "2       -1.146789     36.842106  ...                     10.178883   \n",
              "3       -2.358490     26.582279  ...                      9.178177   \n",
              "4       -2.899878     34.090908  ...                     10.562762   \n",
              "\n",
              "   tmos_close_w70_ma_low_2std/tmos_close  \\\n",
              "0                                    NaN   \n",
              "1                               0.984763   \n",
              "2                               0.985282   \n",
              "3                               0.988793   \n",
              "4                               0.989668   \n",
              "\n",
              "   tmos_close_w70_ma_up_2std/tmos_close  \\\n",
              "0                                   NaN   \n",
              "1                              1.031904   \n",
              "2                              1.019458   \n",
              "3                              1.018333   \n",
              "4                              1.016033   \n",
              "\n",
              "   tmos_close_w70_ma_low_3std/tmos_close  \\\n",
              "0                                    NaN   \n",
              "1                               0.972978   \n",
              "2                               0.976738   \n",
              "3                               0.981408   \n",
              "4                               0.983077   \n",
              "\n",
              "   tmos_close_w70_ma_up_3std/tmos_close  result      delta_time  income_rate  \\\n",
              "0                                   NaN    LOSE 0 days 01:00:00         0.98   \n",
              "1                              1.043689    LOSE 1 days 05:00:00         0.98   \n",
              "2                              1.028002    LOSE 0 days 04:00:00         0.98   \n",
              "3                              1.025718    LOSE 1 days 03:00:00         0.98   \n",
              "4                              1.022624    LOSE 1 days 02:00:00         0.98   \n",
              "\n",
              "   res_price  res_ind  \n",
              "0      31.38        1  \n",
              "1      30.64       15  \n",
              "2      31.16        6  \n",
              "3      30.64       15  \n",
              "4      30.64       15  \n",
              "\n",
              "[5 rows x 231 columns]"
            ]
          },
          "execution_count": 36,
          "metadata": {},
          "output_type": "execute_result"
        }
      ],
      "source": [
        "df_1hour.head()"
      ]
    },
    {
      "cell_type": "code",
      "execution_count": null,
      "id": "ffb9e0e6-2268-4f68-bd45-341223ea0b27",
      "metadata": {
        "id": "ffb9e0e6-2268-4f68-bd45-341223ea0b27"
      },
      "outputs": [],
      "source": []
    },
    {
      "cell_type": "markdown",
      "id": "7d77cb1e-19a0-4d27-90a6-079ba2588db8",
      "metadata": {
        "id": "7d77cb1e-19a0-4d27-90a6-079ba2588db8"
      },
      "source": [
        "### next"
      ]
    },
    {
      "cell_type": "code",
      "execution_count": 7,
      "id": "fd3c170e-64d3-4180-97bf-e7d98d5b3451",
      "metadata": {
        "colab": {
          "base_uri": "https://localhost:8080/",
          "height": 210
        },
        "id": "fd3c170e-64d3-4180-97bf-e7d98d5b3451",
        "outputId": "83ef3d92-f81b-4a7e-f2e4-99d4f6318417"
      },
      "outputs": [
        {
          "output_type": "execute_result",
          "data": {
            "text/plain": [
              "result\n",
              "DNF     0.469738\n",
              "LOSE    0.362043\n",
              "WIN     0.168219\n",
              "Name: proportion, dtype: float64"
            ],
            "text/html": [
              "<div>\n",
              "<style scoped>\n",
              "    .dataframe tbody tr th:only-of-type {\n",
              "        vertical-align: middle;\n",
              "    }\n",
              "\n",
              "    .dataframe tbody tr th {\n",
              "        vertical-align: top;\n",
              "    }\n",
              "\n",
              "    .dataframe thead th {\n",
              "        text-align: right;\n",
              "    }\n",
              "</style>\n",
              "<table border=\"1\" class=\"dataframe\">\n",
              "  <thead>\n",
              "    <tr style=\"text-align: right;\">\n",
              "      <th></th>\n",
              "      <th>proportion</th>\n",
              "    </tr>\n",
              "    <tr>\n",
              "      <th>result</th>\n",
              "      <th></th>\n",
              "    </tr>\n",
              "  </thead>\n",
              "  <tbody>\n",
              "    <tr>\n",
              "      <th>DNF</th>\n",
              "      <td>0.469738</td>\n",
              "    </tr>\n",
              "    <tr>\n",
              "      <th>LOSE</th>\n",
              "      <td>0.362043</td>\n",
              "    </tr>\n",
              "    <tr>\n",
              "      <th>WIN</th>\n",
              "      <td>0.168219</td>\n",
              "    </tr>\n",
              "  </tbody>\n",
              "</table>\n",
              "</div><br><label><b>dtype:</b> float64</label>"
            ]
          },
          "metadata": {},
          "execution_count": 7
        }
      ],
      "source": [
        "df_1hour['result'].value_counts(normalize=True)"
      ]
    },
    {
      "cell_type": "code",
      "execution_count": 8,
      "id": "B0yutj0SgLmx",
      "metadata": {
        "colab": {
          "base_uri": "https://localhost:8080/",
          "height": 492
        },
        "id": "B0yutj0SgLmx",
        "outputId": "c8ca2b82-f53b-424e-cbc9-d71c13eb8832"
      },
      "outputs": [
        {
          "output_type": "execute_result",
          "data": {
            "text/plain": [
              "0.00    0.980000\n",
              "0.01    0.980000\n",
              "0.10    0.980000\n",
              "0.20    0.980000\n",
              "0.30    0.980000\n",
              "0.40    0.988005\n",
              "0.50    0.996865\n",
              "0.60    1.003846\n",
              "0.70    1.012394\n",
              "0.80    1.026795\n",
              "0.90    1.040000\n",
              "0.99    1.040000\n",
              "1.00    1.040000\n",
              "Name: income_rate, dtype: float64"
            ],
            "text/html": [
              "<div>\n",
              "<style scoped>\n",
              "    .dataframe tbody tr th:only-of-type {\n",
              "        vertical-align: middle;\n",
              "    }\n",
              "\n",
              "    .dataframe tbody tr th {\n",
              "        vertical-align: top;\n",
              "    }\n",
              "\n",
              "    .dataframe thead th {\n",
              "        text-align: right;\n",
              "    }\n",
              "</style>\n",
              "<table border=\"1\" class=\"dataframe\">\n",
              "  <thead>\n",
              "    <tr style=\"text-align: right;\">\n",
              "      <th></th>\n",
              "      <th>income_rate</th>\n",
              "    </tr>\n",
              "  </thead>\n",
              "  <tbody>\n",
              "    <tr>\n",
              "      <th>0.00</th>\n",
              "      <td>0.980000</td>\n",
              "    </tr>\n",
              "    <tr>\n",
              "      <th>0.01</th>\n",
              "      <td>0.980000</td>\n",
              "    </tr>\n",
              "    <tr>\n",
              "      <th>0.10</th>\n",
              "      <td>0.980000</td>\n",
              "    </tr>\n",
              "    <tr>\n",
              "      <th>0.20</th>\n",
              "      <td>0.980000</td>\n",
              "    </tr>\n",
              "    <tr>\n",
              "      <th>0.30</th>\n",
              "      <td>0.980000</td>\n",
              "    </tr>\n",
              "    <tr>\n",
              "      <th>0.40</th>\n",
              "      <td>0.988005</td>\n",
              "    </tr>\n",
              "    <tr>\n",
              "      <th>0.50</th>\n",
              "      <td>0.996865</td>\n",
              "    </tr>\n",
              "    <tr>\n",
              "      <th>0.60</th>\n",
              "      <td>1.003846</td>\n",
              "    </tr>\n",
              "    <tr>\n",
              "      <th>0.70</th>\n",
              "      <td>1.012394</td>\n",
              "    </tr>\n",
              "    <tr>\n",
              "      <th>0.80</th>\n",
              "      <td>1.026795</td>\n",
              "    </tr>\n",
              "    <tr>\n",
              "      <th>0.90</th>\n",
              "      <td>1.040000</td>\n",
              "    </tr>\n",
              "    <tr>\n",
              "      <th>0.99</th>\n",
              "      <td>1.040000</td>\n",
              "    </tr>\n",
              "    <tr>\n",
              "      <th>1.00</th>\n",
              "      <td>1.040000</td>\n",
              "    </tr>\n",
              "  </tbody>\n",
              "</table>\n",
              "</div><br><label><b>dtype:</b> float64</label>"
            ]
          },
          "metadata": {},
          "execution_count": 8
        }
      ],
      "source": [
        "df_1hour['income_rate'].quantile(q=[0, 0.01]+np.arange(0.1, 1, 0.1).tolist()+[0.99, 1])"
      ]
    },
    {
      "cell_type": "code",
      "execution_count": 8,
      "id": "UaPClFGggMKt",
      "metadata": {
        "id": "UaPClFGggMKt"
      },
      "outputs": [],
      "source": []
    },
    {
      "cell_type": "code",
      "execution_count": 9,
      "id": "ff72e613-5253-48ba-a99e-40049a4b1f82",
      "metadata": {
        "colab": {
          "base_uri": "https://localhost:8080/",
          "height": 391
        },
        "id": "ff72e613-5253-48ba-a99e-40049a4b1f82",
        "outputId": "6b4ca0ba-34d1-40d5-d988-df409842de04"
      },
      "outputs": [
        {
          "output_type": "execute_result",
          "data": {
            "text/plain": [
              "                     time      close ticker  index_1day result  \\\n",
              "index                                                            \n",
              "0     2022-05-04 10:00:00  32.099998   AFLT         NaN   LOSE   \n",
              "1     2022-05-04 11:00:00  31.379999   AFLT         NaN   LOSE   \n",
              "2     2022-05-04 12:00:00  31.799999   AFLT         NaN   LOSE   \n",
              "3     2022-05-04 13:00:00  31.360001   AFLT         NaN   LOSE   \n",
              "4     2022-05-04 14:00:00  31.540001   AFLT         NaN   LOSE   \n",
              "\n",
              "           delta_time  income_rate  res_price  res_ind  close_w1_roc  ...  \\\n",
              "index                                                                 ...   \n",
              "0     0 days 01:00:00         0.98  31.379999        1           NaN  ...   \n",
              "1     1 days 05:00:00         0.98  30.639999       15     -0.022430  ...   \n",
              "2     0 days 04:00:00         0.98  31.160000        6      0.013384  ...   \n",
              "3     1 days 03:00:00         0.98  30.639999       15     -0.013836  ...   \n",
              "4     1 days 02:00:00         0.98  30.639999       15      0.005740  ...   \n",
              "\n",
              "       tmos_close_w70_ma_up_3std/tmos_close  close_w5_min/close_w5_max  \\\n",
              "index                                                                    \n",
              "0                                       NaN                   1.000000   \n",
              "1                                  1.043689                   0.977570   \n",
              "2                                  1.028002                   0.977570   \n",
              "3                                  1.025718                   0.976947   \n",
              "4                                  1.022624                   0.976947   \n",
              "\n",
              "       volume_w5_min/volume_w5_max  tmos_close_w5_min/tmos_close_w5_max  \\\n",
              "index                                                                     \n",
              "0                         1.000000                             1.000000   \n",
              "1                         0.380754                             0.983606   \n",
              "2                         0.177313                             0.983606   \n",
              "3                         0.174677                             0.983606   \n",
              "4                         0.138406                             0.983606   \n",
              "\n",
              "       close_w14_min/close_w14_max  volume_w14_min/volume_w14_max  \\\n",
              "index                                                               \n",
              "0                         1.000000                       1.000000   \n",
              "1                         0.977570                       0.380754   \n",
              "2                         0.977570                       0.177313   \n",
              "3                         0.976947                       0.174677   \n",
              "4                         0.976947                       0.138406   \n",
              "\n",
              "       tmos_close_w14_min/tmos_close_w14_max  close_w70_min/close_w70_max  \\\n",
              "index                                                                       \n",
              "0                                   1.000000                     1.000000   \n",
              "1                                   0.983606                     0.977570   \n",
              "2                                   0.983606                     0.977570   \n",
              "3                                   0.983606                     0.976947   \n",
              "4                                   0.983606                     0.976947   \n",
              "\n",
              "       volume_w70_min/volume_w70_max  tmos_close_w70_min/tmos_close_w70_max  \n",
              "index                                                                        \n",
              "0                           1.000000                               1.000000  \n",
              "1                           0.380754                               0.983606  \n",
              "2                           0.177313                               0.983606  \n",
              "3                           0.174677                               0.983606  \n",
              "4                           0.138406                               0.983606  \n",
              "\n",
              "[5 rows x 243 columns]"
            ],
            "text/html": [
              "\n",
              "  <div id=\"df-b49d8196-0660-45df-a601-cae964b38beb\" class=\"colab-df-container\">\n",
              "    <div>\n",
              "<style scoped>\n",
              "    .dataframe tbody tr th:only-of-type {\n",
              "        vertical-align: middle;\n",
              "    }\n",
              "\n",
              "    .dataframe tbody tr th {\n",
              "        vertical-align: top;\n",
              "    }\n",
              "\n",
              "    .dataframe thead th {\n",
              "        text-align: right;\n",
              "    }\n",
              "</style>\n",
              "<table border=\"1\" class=\"dataframe\">\n",
              "  <thead>\n",
              "    <tr style=\"text-align: right;\">\n",
              "      <th></th>\n",
              "      <th>time</th>\n",
              "      <th>close</th>\n",
              "      <th>ticker</th>\n",
              "      <th>index_1day</th>\n",
              "      <th>result</th>\n",
              "      <th>delta_time</th>\n",
              "      <th>income_rate</th>\n",
              "      <th>res_price</th>\n",
              "      <th>res_ind</th>\n",
              "      <th>close_w1_roc</th>\n",
              "      <th>...</th>\n",
              "      <th>tmos_close_w70_ma_up_3std/tmos_close</th>\n",
              "      <th>close_w5_min/close_w5_max</th>\n",
              "      <th>volume_w5_min/volume_w5_max</th>\n",
              "      <th>tmos_close_w5_min/tmos_close_w5_max</th>\n",
              "      <th>close_w14_min/close_w14_max</th>\n",
              "      <th>volume_w14_min/volume_w14_max</th>\n",
              "      <th>tmos_close_w14_min/tmos_close_w14_max</th>\n",
              "      <th>close_w70_min/close_w70_max</th>\n",
              "      <th>volume_w70_min/volume_w70_max</th>\n",
              "      <th>tmos_close_w70_min/tmos_close_w70_max</th>\n",
              "    </tr>\n",
              "    <tr>\n",
              "      <th>index</th>\n",
              "      <th></th>\n",
              "      <th></th>\n",
              "      <th></th>\n",
              "      <th></th>\n",
              "      <th></th>\n",
              "      <th></th>\n",
              "      <th></th>\n",
              "      <th></th>\n",
              "      <th></th>\n",
              "      <th></th>\n",
              "      <th></th>\n",
              "      <th></th>\n",
              "      <th></th>\n",
              "      <th></th>\n",
              "      <th></th>\n",
              "      <th></th>\n",
              "      <th></th>\n",
              "      <th></th>\n",
              "      <th></th>\n",
              "      <th></th>\n",
              "      <th></th>\n",
              "    </tr>\n",
              "  </thead>\n",
              "  <tbody>\n",
              "    <tr>\n",
              "      <th>0</th>\n",
              "      <td>2022-05-04 10:00:00</td>\n",
              "      <td>32.099998</td>\n",
              "      <td>AFLT</td>\n",
              "      <td>NaN</td>\n",
              "      <td>LOSE</td>\n",
              "      <td>0 days 01:00:00</td>\n",
              "      <td>0.98</td>\n",
              "      <td>31.379999</td>\n",
              "      <td>1</td>\n",
              "      <td>NaN</td>\n",
              "      <td>...</td>\n",
              "      <td>NaN</td>\n",
              "      <td>1.000000</td>\n",
              "      <td>1.000000</td>\n",
              "      <td>1.000000</td>\n",
              "      <td>1.000000</td>\n",
              "      <td>1.000000</td>\n",
              "      <td>1.000000</td>\n",
              "      <td>1.000000</td>\n",
              "      <td>1.000000</td>\n",
              "      <td>1.000000</td>\n",
              "    </tr>\n",
              "    <tr>\n",
              "      <th>1</th>\n",
              "      <td>2022-05-04 11:00:00</td>\n",
              "      <td>31.379999</td>\n",
              "      <td>AFLT</td>\n",
              "      <td>NaN</td>\n",
              "      <td>LOSE</td>\n",
              "      <td>1 days 05:00:00</td>\n",
              "      <td>0.98</td>\n",
              "      <td>30.639999</td>\n",
              "      <td>15</td>\n",
              "      <td>-0.022430</td>\n",
              "      <td>...</td>\n",
              "      <td>1.043689</td>\n",
              "      <td>0.977570</td>\n",
              "      <td>0.380754</td>\n",
              "      <td>0.983606</td>\n",
              "      <td>0.977570</td>\n",
              "      <td>0.380754</td>\n",
              "      <td>0.983606</td>\n",
              "      <td>0.977570</td>\n",
              "      <td>0.380754</td>\n",
              "      <td>0.983606</td>\n",
              "    </tr>\n",
              "    <tr>\n",
              "      <th>2</th>\n",
              "      <td>2022-05-04 12:00:00</td>\n",
              "      <td>31.799999</td>\n",
              "      <td>AFLT</td>\n",
              "      <td>NaN</td>\n",
              "      <td>LOSE</td>\n",
              "      <td>0 days 04:00:00</td>\n",
              "      <td>0.98</td>\n",
              "      <td>31.160000</td>\n",
              "      <td>6</td>\n",
              "      <td>0.013384</td>\n",
              "      <td>...</td>\n",
              "      <td>1.028002</td>\n",
              "      <td>0.977570</td>\n",
              "      <td>0.177313</td>\n",
              "      <td>0.983606</td>\n",
              "      <td>0.977570</td>\n",
              "      <td>0.177313</td>\n",
              "      <td>0.983606</td>\n",
              "      <td>0.977570</td>\n",
              "      <td>0.177313</td>\n",
              "      <td>0.983606</td>\n",
              "    </tr>\n",
              "    <tr>\n",
              "      <th>3</th>\n",
              "      <td>2022-05-04 13:00:00</td>\n",
              "      <td>31.360001</td>\n",
              "      <td>AFLT</td>\n",
              "      <td>NaN</td>\n",
              "      <td>LOSE</td>\n",
              "      <td>1 days 03:00:00</td>\n",
              "      <td>0.98</td>\n",
              "      <td>30.639999</td>\n",
              "      <td>15</td>\n",
              "      <td>-0.013836</td>\n",
              "      <td>...</td>\n",
              "      <td>1.025718</td>\n",
              "      <td>0.976947</td>\n",
              "      <td>0.174677</td>\n",
              "      <td>0.983606</td>\n",
              "      <td>0.976947</td>\n",
              "      <td>0.174677</td>\n",
              "      <td>0.983606</td>\n",
              "      <td>0.976947</td>\n",
              "      <td>0.174677</td>\n",
              "      <td>0.983606</td>\n",
              "    </tr>\n",
              "    <tr>\n",
              "      <th>4</th>\n",
              "      <td>2022-05-04 14:00:00</td>\n",
              "      <td>31.540001</td>\n",
              "      <td>AFLT</td>\n",
              "      <td>NaN</td>\n",
              "      <td>LOSE</td>\n",
              "      <td>1 days 02:00:00</td>\n",
              "      <td>0.98</td>\n",
              "      <td>30.639999</td>\n",
              "      <td>15</td>\n",
              "      <td>0.005740</td>\n",
              "      <td>...</td>\n",
              "      <td>1.022624</td>\n",
              "      <td>0.976947</td>\n",
              "      <td>0.138406</td>\n",
              "      <td>0.983606</td>\n",
              "      <td>0.976947</td>\n",
              "      <td>0.138406</td>\n",
              "      <td>0.983606</td>\n",
              "      <td>0.976947</td>\n",
              "      <td>0.138406</td>\n",
              "      <td>0.983606</td>\n",
              "    </tr>\n",
              "  </tbody>\n",
              "</table>\n",
              "<p>5 rows × 243 columns</p>\n",
              "</div>\n",
              "    <div class=\"colab-df-buttons\">\n",
              "\n",
              "  <div class=\"colab-df-container\">\n",
              "    <button class=\"colab-df-convert\" onclick=\"convertToInteractive('df-b49d8196-0660-45df-a601-cae964b38beb')\"\n",
              "            title=\"Convert this dataframe to an interactive table.\"\n",
              "            style=\"display:none;\">\n",
              "\n",
              "  <svg xmlns=\"http://www.w3.org/2000/svg\" height=\"24px\" viewBox=\"0 -960 960 960\">\n",
              "    <path d=\"M120-120v-720h720v720H120Zm60-500h600v-160H180v160Zm220 220h160v-160H400v160Zm0 220h160v-160H400v160ZM180-400h160v-160H180v160Zm440 0h160v-160H620v160ZM180-180h160v-160H180v160Zm440 0h160v-160H620v160Z\"/>\n",
              "  </svg>\n",
              "    </button>\n",
              "\n",
              "  <style>\n",
              "    .colab-df-container {\n",
              "      display:flex;\n",
              "      gap: 12px;\n",
              "    }\n",
              "\n",
              "    .colab-df-convert {\n",
              "      background-color: #E8F0FE;\n",
              "      border: none;\n",
              "      border-radius: 50%;\n",
              "      cursor: pointer;\n",
              "      display: none;\n",
              "      fill: #1967D2;\n",
              "      height: 32px;\n",
              "      padding: 0 0 0 0;\n",
              "      width: 32px;\n",
              "    }\n",
              "\n",
              "    .colab-df-convert:hover {\n",
              "      background-color: #E2EBFA;\n",
              "      box-shadow: 0px 1px 2px rgba(60, 64, 67, 0.3), 0px 1px 3px 1px rgba(60, 64, 67, 0.15);\n",
              "      fill: #174EA6;\n",
              "    }\n",
              "\n",
              "    .colab-df-buttons div {\n",
              "      margin-bottom: 4px;\n",
              "    }\n",
              "\n",
              "    [theme=dark] .colab-df-convert {\n",
              "      background-color: #3B4455;\n",
              "      fill: #D2E3FC;\n",
              "    }\n",
              "\n",
              "    [theme=dark] .colab-df-convert:hover {\n",
              "      background-color: #434B5C;\n",
              "      box-shadow: 0px 1px 3px 1px rgba(0, 0, 0, 0.15);\n",
              "      filter: drop-shadow(0px 1px 2px rgba(0, 0, 0, 0.3));\n",
              "      fill: #FFFFFF;\n",
              "    }\n",
              "  </style>\n",
              "\n",
              "    <script>\n",
              "      const buttonEl =\n",
              "        document.querySelector('#df-b49d8196-0660-45df-a601-cae964b38beb button.colab-df-convert');\n",
              "      buttonEl.style.display =\n",
              "        google.colab.kernel.accessAllowed ? 'block' : 'none';\n",
              "\n",
              "      async function convertToInteractive(key) {\n",
              "        const element = document.querySelector('#df-b49d8196-0660-45df-a601-cae964b38beb');\n",
              "        const dataTable =\n",
              "          await google.colab.kernel.invokeFunction('convertToInteractive',\n",
              "                                                    [key], {});\n",
              "        if (!dataTable) return;\n",
              "\n",
              "        const docLinkHtml = 'Like what you see? Visit the ' +\n",
              "          '<a target=\"_blank\" href=https://colab.research.google.com/notebooks/data_table.ipynb>data table notebook</a>'\n",
              "          + ' to learn more about interactive tables.';\n",
              "        element.innerHTML = '';\n",
              "        dataTable['output_type'] = 'display_data';\n",
              "        await google.colab.output.renderOutput(dataTable, element);\n",
              "        const docLink = document.createElement('div');\n",
              "        docLink.innerHTML = docLinkHtml;\n",
              "        element.appendChild(docLink);\n",
              "      }\n",
              "    </script>\n",
              "  </div>\n",
              "\n",
              "\n",
              "<div id=\"df-12b2a93e-b566-4bb5-8986-8b5ce31b53ec\">\n",
              "  <button class=\"colab-df-quickchart\" onclick=\"quickchart('df-12b2a93e-b566-4bb5-8986-8b5ce31b53ec')\"\n",
              "            title=\"Suggest charts\"\n",
              "            style=\"display:none;\">\n",
              "\n",
              "<svg xmlns=\"http://www.w3.org/2000/svg\" height=\"24px\"viewBox=\"0 0 24 24\"\n",
              "     width=\"24px\">\n",
              "    <g>\n",
              "        <path d=\"M19 3H5c-1.1 0-2 .9-2 2v14c0 1.1.9 2 2 2h14c1.1 0 2-.9 2-2V5c0-1.1-.9-2-2-2zM9 17H7v-7h2v7zm4 0h-2V7h2v10zm4 0h-2v-4h2v4z\"/>\n",
              "    </g>\n",
              "</svg>\n",
              "  </button>\n",
              "\n",
              "<style>\n",
              "  .colab-df-quickchart {\n",
              "      --bg-color: #E8F0FE;\n",
              "      --fill-color: #1967D2;\n",
              "      --hover-bg-color: #E2EBFA;\n",
              "      --hover-fill-color: #174EA6;\n",
              "      --disabled-fill-color: #AAA;\n",
              "      --disabled-bg-color: #DDD;\n",
              "  }\n",
              "\n",
              "  [theme=dark] .colab-df-quickchart {\n",
              "      --bg-color: #3B4455;\n",
              "      --fill-color: #D2E3FC;\n",
              "      --hover-bg-color: #434B5C;\n",
              "      --hover-fill-color: #FFFFFF;\n",
              "      --disabled-bg-color: #3B4455;\n",
              "      --disabled-fill-color: #666;\n",
              "  }\n",
              "\n",
              "  .colab-df-quickchart {\n",
              "    background-color: var(--bg-color);\n",
              "    border: none;\n",
              "    border-radius: 50%;\n",
              "    cursor: pointer;\n",
              "    display: none;\n",
              "    fill: var(--fill-color);\n",
              "    height: 32px;\n",
              "    padding: 0;\n",
              "    width: 32px;\n",
              "  }\n",
              "\n",
              "  .colab-df-quickchart:hover {\n",
              "    background-color: var(--hover-bg-color);\n",
              "    box-shadow: 0 1px 2px rgba(60, 64, 67, 0.3), 0 1px 3px 1px rgba(60, 64, 67, 0.15);\n",
              "    fill: var(--button-hover-fill-color);\n",
              "  }\n",
              "\n",
              "  .colab-df-quickchart-complete:disabled,\n",
              "  .colab-df-quickchart-complete:disabled:hover {\n",
              "    background-color: var(--disabled-bg-color);\n",
              "    fill: var(--disabled-fill-color);\n",
              "    box-shadow: none;\n",
              "  }\n",
              "\n",
              "  .colab-df-spinner {\n",
              "    border: 2px solid var(--fill-color);\n",
              "    border-color: transparent;\n",
              "    border-bottom-color: var(--fill-color);\n",
              "    animation:\n",
              "      spin 1s steps(1) infinite;\n",
              "  }\n",
              "\n",
              "  @keyframes spin {\n",
              "    0% {\n",
              "      border-color: transparent;\n",
              "      border-bottom-color: var(--fill-color);\n",
              "      border-left-color: var(--fill-color);\n",
              "    }\n",
              "    20% {\n",
              "      border-color: transparent;\n",
              "      border-left-color: var(--fill-color);\n",
              "      border-top-color: var(--fill-color);\n",
              "    }\n",
              "    30% {\n",
              "      border-color: transparent;\n",
              "      border-left-color: var(--fill-color);\n",
              "      border-top-color: var(--fill-color);\n",
              "      border-right-color: var(--fill-color);\n",
              "    }\n",
              "    40% {\n",
              "      border-color: transparent;\n",
              "      border-right-color: var(--fill-color);\n",
              "      border-top-color: var(--fill-color);\n",
              "    }\n",
              "    60% {\n",
              "      border-color: transparent;\n",
              "      border-right-color: var(--fill-color);\n",
              "    }\n",
              "    80% {\n",
              "      border-color: transparent;\n",
              "      border-right-color: var(--fill-color);\n",
              "      border-bottom-color: var(--fill-color);\n",
              "    }\n",
              "    90% {\n",
              "      border-color: transparent;\n",
              "      border-bottom-color: var(--fill-color);\n",
              "    }\n",
              "  }\n",
              "</style>\n",
              "\n",
              "  <script>\n",
              "    async function quickchart(key) {\n",
              "      const quickchartButtonEl =\n",
              "        document.querySelector('#' + key + ' button');\n",
              "      quickchartButtonEl.disabled = true;  // To prevent multiple clicks.\n",
              "      quickchartButtonEl.classList.add('colab-df-spinner');\n",
              "      try {\n",
              "        const charts = await google.colab.kernel.invokeFunction(\n",
              "            'suggestCharts', [key], {});\n",
              "      } catch (error) {\n",
              "        console.error('Error during call to suggestCharts:', error);\n",
              "      }\n",
              "      quickchartButtonEl.classList.remove('colab-df-spinner');\n",
              "      quickchartButtonEl.classList.add('colab-df-quickchart-complete');\n",
              "    }\n",
              "    (() => {\n",
              "      let quickchartButtonEl =\n",
              "        document.querySelector('#df-12b2a93e-b566-4bb5-8986-8b5ce31b53ec button');\n",
              "      quickchartButtonEl.style.display =\n",
              "        google.colab.kernel.accessAllowed ? 'block' : 'none';\n",
              "    })();\n",
              "  </script>\n",
              "</div>\n",
              "    </div>\n",
              "  </div>\n"
            ],
            "application/vnd.google.colaboratory.intrinsic+json": {
              "type": "dataframe",
              "variable_name": "df_1hour"
            }
          },
          "metadata": {},
          "execution_count": 9
        }
      ],
      "source": [
        "df_1hour.head()"
      ]
    },
    {
      "cell_type": "code",
      "execution_count": 9,
      "id": "D-ZARMq3fXPr",
      "metadata": {
        "id": "D-ZARMq3fXPr"
      },
      "outputs": [],
      "source": []
    },
    {
      "cell_type": "code",
      "execution_count": 10,
      "id": "55278652-16ae-4ca5-8539-77c5d1db00c3",
      "metadata": {
        "colab": {
          "base_uri": "https://localhost:8080/",
          "height": 360
        },
        "id": "55278652-16ae-4ca5-8539-77c5d1db00c3",
        "outputId": "9f52d59c-8646-430c-a06b-538758914b8a"
      },
      "outputs": [
        {
          "output_type": "execute_result",
          "data": {
            "text/plain": [
              "   index                time ticker  close_1day_w1_roc  volume_1day_w1_roc  \\\n",
              "0      0 2022-05-04 23:00:00   AFLT                NaN                 NaN   \n",
              "1      1 2022-05-05 23:00:00   AFLT          -0.016026           -0.416498   \n",
              "2      2 2022-05-06 23:00:00   AFLT          -0.019544           -0.538980   \n",
              "3      3 2022-05-11 23:00:00   AFLT          -0.005980            0.252535   \n",
              "4      4 2022-05-12 23:00:00   AFLT          -0.020053           -0.176090   \n",
              "\n",
              "   tmos_close_1day_w1_roc  close_1day_w3_norm_std  close_1day_w3_mean_abs_pct  \\\n",
              "0                     NaN                     NaN                         NaN   \n",
              "1                0.009569                0.011423                    0.016026   \n",
              "2               -0.007109                0.017959                    0.017785   \n",
              "3                0.007160                0.013506                    0.013850   \n",
              "4               -0.037915                0.013714                    0.015193   \n",
              "\n",
              "   close_1day_w3_alpha  close_1day_w3_rsi  ...  \\\n",
              "0                  NaN                NaN  ...   \n",
              "1            -2.000000                0.0  ...   \n",
              "2            -1.813187                0.0  ...   \n",
              "3            -2.338130                0.0  ...   \n",
              "4            -2.338130                0.0  ...   \n",
              "\n",
              "   tmos_close_1day_w100_ma_up_3std/tmos_close_1day  \\\n",
              "0                                              NaN   \n",
              "1                                         1.015368   \n",
              "2                                         1.016496   \n",
              "3                                         1.010509   \n",
              "4                                         1.076981   \n",
              "\n",
              "   close_1day_w3_min/close_1day_w3_max  volume_1day_w3_min/volume_1day_w3_max  \\\n",
              "0                             1.000000                               1.000000   \n",
              "1                             0.983974                               0.583502   \n",
              "2                             0.964744                               0.269006   \n",
              "3                             0.974593                               0.461020   \n",
              "4                             0.974086                               0.798381   \n",
              "\n",
              "   tmos_close_1day_w3_min/tmos_close_1day_w3_max  \\\n",
              "0                                       1.000000   \n",
              "1                                       0.990521   \n",
              "2                                       0.990521   \n",
              "3                                       0.992891   \n",
              "4                                       0.962085   \n",
              "\n",
              "   close_1day_w5_min/close_1day_w5_max  volume_1day_w5_min/volume_1day_w5_max  \\\n",
              "0                             1.000000                               1.000000   \n",
              "1                             0.983974                               0.583502   \n",
              "2                             0.964744                               0.269006   \n",
              "3                             0.958974                               0.269006   \n",
              "4                             0.939744                               0.269006   \n",
              "\n",
              "   tmos_close_1day_w5_min/tmos_close_1day_w5_max  \\\n",
              "0                                       1.000000   \n",
              "1                                       0.990521   \n",
              "2                                       0.990521   \n",
              "3                                       0.990521   \n",
              "4                                       0.962085   \n",
              "\n",
              "   close_1day_w20_min/close_1day_w20_max  \\\n",
              "0                               1.000000   \n",
              "1                               0.983974   \n",
              "2                               0.964744   \n",
              "3                               0.958974   \n",
              "4                               0.939744   \n",
              "\n",
              "   volume_1day_w20_min/volume_1day_w20_max  \\\n",
              "0                                 1.000000   \n",
              "1                                 0.583502   \n",
              "2                                 0.269006   \n",
              "3                                 0.269006   \n",
              "4                                 0.269006   \n",
              "\n",
              "   tmos_close_1day_w20_min/tmos_close_1day_w20_max  \n",
              "0                                         1.000000  \n",
              "1                                         0.990521  \n",
              "2                                         0.990521  \n",
              "3                                         0.990521  \n",
              "4                                         0.962085  \n",
              "\n",
              "[5 rows x 369 columns]"
            ],
            "text/html": [
              "\n",
              "  <div id=\"df-898de328-9ada-4f7e-9658-168b04d295d5\" class=\"colab-df-container\">\n",
              "    <div>\n",
              "<style scoped>\n",
              "    .dataframe tbody tr th:only-of-type {\n",
              "        vertical-align: middle;\n",
              "    }\n",
              "\n",
              "    .dataframe tbody tr th {\n",
              "        vertical-align: top;\n",
              "    }\n",
              "\n",
              "    .dataframe thead th {\n",
              "        text-align: right;\n",
              "    }\n",
              "</style>\n",
              "<table border=\"1\" class=\"dataframe\">\n",
              "  <thead>\n",
              "    <tr style=\"text-align: right;\">\n",
              "      <th></th>\n",
              "      <th>index</th>\n",
              "      <th>time</th>\n",
              "      <th>ticker</th>\n",
              "      <th>close_1day_w1_roc</th>\n",
              "      <th>volume_1day_w1_roc</th>\n",
              "      <th>tmos_close_1day_w1_roc</th>\n",
              "      <th>close_1day_w3_norm_std</th>\n",
              "      <th>close_1day_w3_mean_abs_pct</th>\n",
              "      <th>close_1day_w3_alpha</th>\n",
              "      <th>close_1day_w3_rsi</th>\n",
              "      <th>...</th>\n",
              "      <th>tmos_close_1day_w100_ma_up_3std/tmos_close_1day</th>\n",
              "      <th>close_1day_w3_min/close_1day_w3_max</th>\n",
              "      <th>volume_1day_w3_min/volume_1day_w3_max</th>\n",
              "      <th>tmos_close_1day_w3_min/tmos_close_1day_w3_max</th>\n",
              "      <th>close_1day_w5_min/close_1day_w5_max</th>\n",
              "      <th>volume_1day_w5_min/volume_1day_w5_max</th>\n",
              "      <th>tmos_close_1day_w5_min/tmos_close_1day_w5_max</th>\n",
              "      <th>close_1day_w20_min/close_1day_w20_max</th>\n",
              "      <th>volume_1day_w20_min/volume_1day_w20_max</th>\n",
              "      <th>tmos_close_1day_w20_min/tmos_close_1day_w20_max</th>\n",
              "    </tr>\n",
              "  </thead>\n",
              "  <tbody>\n",
              "    <tr>\n",
              "      <th>0</th>\n",
              "      <td>0</td>\n",
              "      <td>2022-05-04 23:00:00</td>\n",
              "      <td>AFLT</td>\n",
              "      <td>NaN</td>\n",
              "      <td>NaN</td>\n",
              "      <td>NaN</td>\n",
              "      <td>NaN</td>\n",
              "      <td>NaN</td>\n",
              "      <td>NaN</td>\n",
              "      <td>NaN</td>\n",
              "      <td>...</td>\n",
              "      <td>NaN</td>\n",
              "      <td>1.000000</td>\n",
              "      <td>1.000000</td>\n",
              "      <td>1.000000</td>\n",
              "      <td>1.000000</td>\n",
              "      <td>1.000000</td>\n",
              "      <td>1.000000</td>\n",
              "      <td>1.000000</td>\n",
              "      <td>1.000000</td>\n",
              "      <td>1.000000</td>\n",
              "    </tr>\n",
              "    <tr>\n",
              "      <th>1</th>\n",
              "      <td>1</td>\n",
              "      <td>2022-05-05 23:00:00</td>\n",
              "      <td>AFLT</td>\n",
              "      <td>-0.016026</td>\n",
              "      <td>-0.416498</td>\n",
              "      <td>0.009569</td>\n",
              "      <td>0.011423</td>\n",
              "      <td>0.016026</td>\n",
              "      <td>-2.000000</td>\n",
              "      <td>0.0</td>\n",
              "      <td>...</td>\n",
              "      <td>1.015368</td>\n",
              "      <td>0.983974</td>\n",
              "      <td>0.583502</td>\n",
              "      <td>0.990521</td>\n",
              "      <td>0.983974</td>\n",
              "      <td>0.583502</td>\n",
              "      <td>0.990521</td>\n",
              "      <td>0.983974</td>\n",
              "      <td>0.583502</td>\n",
              "      <td>0.990521</td>\n",
              "    </tr>\n",
              "    <tr>\n",
              "      <th>2</th>\n",
              "      <td>2</td>\n",
              "      <td>2022-05-06 23:00:00</td>\n",
              "      <td>AFLT</td>\n",
              "      <td>-0.019544</td>\n",
              "      <td>-0.538980</td>\n",
              "      <td>-0.007109</td>\n",
              "      <td>0.017959</td>\n",
              "      <td>0.017785</td>\n",
              "      <td>-1.813187</td>\n",
              "      <td>0.0</td>\n",
              "      <td>...</td>\n",
              "      <td>1.016496</td>\n",
              "      <td>0.964744</td>\n",
              "      <td>0.269006</td>\n",
              "      <td>0.990521</td>\n",
              "      <td>0.964744</td>\n",
              "      <td>0.269006</td>\n",
              "      <td>0.990521</td>\n",
              "      <td>0.964744</td>\n",
              "      <td>0.269006</td>\n",
              "      <td>0.990521</td>\n",
              "    </tr>\n",
              "    <tr>\n",
              "      <th>3</th>\n",
              "      <td>3</td>\n",
              "      <td>2022-05-11 23:00:00</td>\n",
              "      <td>AFLT</td>\n",
              "      <td>-0.005980</td>\n",
              "      <td>0.252535</td>\n",
              "      <td>0.007160</td>\n",
              "      <td>0.013506</td>\n",
              "      <td>0.013850</td>\n",
              "      <td>-2.338130</td>\n",
              "      <td>0.0</td>\n",
              "      <td>...</td>\n",
              "      <td>1.010509</td>\n",
              "      <td>0.974593</td>\n",
              "      <td>0.461020</td>\n",
              "      <td>0.992891</td>\n",
              "      <td>0.958974</td>\n",
              "      <td>0.269006</td>\n",
              "      <td>0.990521</td>\n",
              "      <td>0.958974</td>\n",
              "      <td>0.269006</td>\n",
              "      <td>0.990521</td>\n",
              "    </tr>\n",
              "    <tr>\n",
              "      <th>4</th>\n",
              "      <td>4</td>\n",
              "      <td>2022-05-12 23:00:00</td>\n",
              "      <td>AFLT</td>\n",
              "      <td>-0.020053</td>\n",
              "      <td>-0.176090</td>\n",
              "      <td>-0.037915</td>\n",
              "      <td>0.013714</td>\n",
              "      <td>0.015193</td>\n",
              "      <td>-2.338130</td>\n",
              "      <td>0.0</td>\n",
              "      <td>...</td>\n",
              "      <td>1.076981</td>\n",
              "      <td>0.974086</td>\n",
              "      <td>0.798381</td>\n",
              "      <td>0.962085</td>\n",
              "      <td>0.939744</td>\n",
              "      <td>0.269006</td>\n",
              "      <td>0.962085</td>\n",
              "      <td>0.939744</td>\n",
              "      <td>0.269006</td>\n",
              "      <td>0.962085</td>\n",
              "    </tr>\n",
              "  </tbody>\n",
              "</table>\n",
              "<p>5 rows × 369 columns</p>\n",
              "</div>\n",
              "    <div class=\"colab-df-buttons\">\n",
              "\n",
              "  <div class=\"colab-df-container\">\n",
              "    <button class=\"colab-df-convert\" onclick=\"convertToInteractive('df-898de328-9ada-4f7e-9658-168b04d295d5')\"\n",
              "            title=\"Convert this dataframe to an interactive table.\"\n",
              "            style=\"display:none;\">\n",
              "\n",
              "  <svg xmlns=\"http://www.w3.org/2000/svg\" height=\"24px\" viewBox=\"0 -960 960 960\">\n",
              "    <path d=\"M120-120v-720h720v720H120Zm60-500h600v-160H180v160Zm220 220h160v-160H400v160Zm0 220h160v-160H400v160ZM180-400h160v-160H180v160Zm440 0h160v-160H620v160ZM180-180h160v-160H180v160Zm440 0h160v-160H620v160Z\"/>\n",
              "  </svg>\n",
              "    </button>\n",
              "\n",
              "  <style>\n",
              "    .colab-df-container {\n",
              "      display:flex;\n",
              "      gap: 12px;\n",
              "    }\n",
              "\n",
              "    .colab-df-convert {\n",
              "      background-color: #E8F0FE;\n",
              "      border: none;\n",
              "      border-radius: 50%;\n",
              "      cursor: pointer;\n",
              "      display: none;\n",
              "      fill: #1967D2;\n",
              "      height: 32px;\n",
              "      padding: 0 0 0 0;\n",
              "      width: 32px;\n",
              "    }\n",
              "\n",
              "    .colab-df-convert:hover {\n",
              "      background-color: #E2EBFA;\n",
              "      box-shadow: 0px 1px 2px rgba(60, 64, 67, 0.3), 0px 1px 3px 1px rgba(60, 64, 67, 0.15);\n",
              "      fill: #174EA6;\n",
              "    }\n",
              "\n",
              "    .colab-df-buttons div {\n",
              "      margin-bottom: 4px;\n",
              "    }\n",
              "\n",
              "    [theme=dark] .colab-df-convert {\n",
              "      background-color: #3B4455;\n",
              "      fill: #D2E3FC;\n",
              "    }\n",
              "\n",
              "    [theme=dark] .colab-df-convert:hover {\n",
              "      background-color: #434B5C;\n",
              "      box-shadow: 0px 1px 3px 1px rgba(0, 0, 0, 0.15);\n",
              "      filter: drop-shadow(0px 1px 2px rgba(0, 0, 0, 0.3));\n",
              "      fill: #FFFFFF;\n",
              "    }\n",
              "  </style>\n",
              "\n",
              "    <script>\n",
              "      const buttonEl =\n",
              "        document.querySelector('#df-898de328-9ada-4f7e-9658-168b04d295d5 button.colab-df-convert');\n",
              "      buttonEl.style.display =\n",
              "        google.colab.kernel.accessAllowed ? 'block' : 'none';\n",
              "\n",
              "      async function convertToInteractive(key) {\n",
              "        const element = document.querySelector('#df-898de328-9ada-4f7e-9658-168b04d295d5');\n",
              "        const dataTable =\n",
              "          await google.colab.kernel.invokeFunction('convertToInteractive',\n",
              "                                                    [key], {});\n",
              "        if (!dataTable) return;\n",
              "\n",
              "        const docLinkHtml = 'Like what you see? Visit the ' +\n",
              "          '<a target=\"_blank\" href=https://colab.research.google.com/notebooks/data_table.ipynb>data table notebook</a>'\n",
              "          + ' to learn more about interactive tables.';\n",
              "        element.innerHTML = '';\n",
              "        dataTable['output_type'] = 'display_data';\n",
              "        await google.colab.output.renderOutput(dataTable, element);\n",
              "        const docLink = document.createElement('div');\n",
              "        docLink.innerHTML = docLinkHtml;\n",
              "        element.appendChild(docLink);\n",
              "      }\n",
              "    </script>\n",
              "  </div>\n",
              "\n",
              "\n",
              "<div id=\"df-89304ba8-3c50-4220-99ed-4977af3170c0\">\n",
              "  <button class=\"colab-df-quickchart\" onclick=\"quickchart('df-89304ba8-3c50-4220-99ed-4977af3170c0')\"\n",
              "            title=\"Suggest charts\"\n",
              "            style=\"display:none;\">\n",
              "\n",
              "<svg xmlns=\"http://www.w3.org/2000/svg\" height=\"24px\"viewBox=\"0 0 24 24\"\n",
              "     width=\"24px\">\n",
              "    <g>\n",
              "        <path d=\"M19 3H5c-1.1 0-2 .9-2 2v14c0 1.1.9 2 2 2h14c1.1 0 2-.9 2-2V5c0-1.1-.9-2-2-2zM9 17H7v-7h2v7zm4 0h-2V7h2v10zm4 0h-2v-4h2v4z\"/>\n",
              "    </g>\n",
              "</svg>\n",
              "  </button>\n",
              "\n",
              "<style>\n",
              "  .colab-df-quickchart {\n",
              "      --bg-color: #E8F0FE;\n",
              "      --fill-color: #1967D2;\n",
              "      --hover-bg-color: #E2EBFA;\n",
              "      --hover-fill-color: #174EA6;\n",
              "      --disabled-fill-color: #AAA;\n",
              "      --disabled-bg-color: #DDD;\n",
              "  }\n",
              "\n",
              "  [theme=dark] .colab-df-quickchart {\n",
              "      --bg-color: #3B4455;\n",
              "      --fill-color: #D2E3FC;\n",
              "      --hover-bg-color: #434B5C;\n",
              "      --hover-fill-color: #FFFFFF;\n",
              "      --disabled-bg-color: #3B4455;\n",
              "      --disabled-fill-color: #666;\n",
              "  }\n",
              "\n",
              "  .colab-df-quickchart {\n",
              "    background-color: var(--bg-color);\n",
              "    border: none;\n",
              "    border-radius: 50%;\n",
              "    cursor: pointer;\n",
              "    display: none;\n",
              "    fill: var(--fill-color);\n",
              "    height: 32px;\n",
              "    padding: 0;\n",
              "    width: 32px;\n",
              "  }\n",
              "\n",
              "  .colab-df-quickchart:hover {\n",
              "    background-color: var(--hover-bg-color);\n",
              "    box-shadow: 0 1px 2px rgba(60, 64, 67, 0.3), 0 1px 3px 1px rgba(60, 64, 67, 0.15);\n",
              "    fill: var(--button-hover-fill-color);\n",
              "  }\n",
              "\n",
              "  .colab-df-quickchart-complete:disabled,\n",
              "  .colab-df-quickchart-complete:disabled:hover {\n",
              "    background-color: var(--disabled-bg-color);\n",
              "    fill: var(--disabled-fill-color);\n",
              "    box-shadow: none;\n",
              "  }\n",
              "\n",
              "  .colab-df-spinner {\n",
              "    border: 2px solid var(--fill-color);\n",
              "    border-color: transparent;\n",
              "    border-bottom-color: var(--fill-color);\n",
              "    animation:\n",
              "      spin 1s steps(1) infinite;\n",
              "  }\n",
              "\n",
              "  @keyframes spin {\n",
              "    0% {\n",
              "      border-color: transparent;\n",
              "      border-bottom-color: var(--fill-color);\n",
              "      border-left-color: var(--fill-color);\n",
              "    }\n",
              "    20% {\n",
              "      border-color: transparent;\n",
              "      border-left-color: var(--fill-color);\n",
              "      border-top-color: var(--fill-color);\n",
              "    }\n",
              "    30% {\n",
              "      border-color: transparent;\n",
              "      border-left-color: var(--fill-color);\n",
              "      border-top-color: var(--fill-color);\n",
              "      border-right-color: var(--fill-color);\n",
              "    }\n",
              "    40% {\n",
              "      border-color: transparent;\n",
              "      border-right-color: var(--fill-color);\n",
              "      border-top-color: var(--fill-color);\n",
              "    }\n",
              "    60% {\n",
              "      border-color: transparent;\n",
              "      border-right-color: var(--fill-color);\n",
              "    }\n",
              "    80% {\n",
              "      border-color: transparent;\n",
              "      border-right-color: var(--fill-color);\n",
              "      border-bottom-color: var(--fill-color);\n",
              "    }\n",
              "    90% {\n",
              "      border-color: transparent;\n",
              "      border-bottom-color: var(--fill-color);\n",
              "    }\n",
              "  }\n",
              "</style>\n",
              "\n",
              "  <script>\n",
              "    async function quickchart(key) {\n",
              "      const quickchartButtonEl =\n",
              "        document.querySelector('#' + key + ' button');\n",
              "      quickchartButtonEl.disabled = true;  // To prevent multiple clicks.\n",
              "      quickchartButtonEl.classList.add('colab-df-spinner');\n",
              "      try {\n",
              "        const charts = await google.colab.kernel.invokeFunction(\n",
              "            'suggestCharts', [key], {});\n",
              "      } catch (error) {\n",
              "        console.error('Error during call to suggestCharts:', error);\n",
              "      }\n",
              "      quickchartButtonEl.classList.remove('colab-df-spinner');\n",
              "      quickchartButtonEl.classList.add('colab-df-quickchart-complete');\n",
              "    }\n",
              "    (() => {\n",
              "      let quickchartButtonEl =\n",
              "        document.querySelector('#df-89304ba8-3c50-4220-99ed-4977af3170c0 button');\n",
              "      quickchartButtonEl.style.display =\n",
              "        google.colab.kernel.accessAllowed ? 'block' : 'none';\n",
              "    })();\n",
              "  </script>\n",
              "</div>\n",
              "    </div>\n",
              "  </div>\n"
            ],
            "application/vnd.google.colaboratory.intrinsic+json": {
              "type": "dataframe",
              "variable_name": "df_1day"
            }
          },
          "metadata": {},
          "execution_count": 10
        }
      ],
      "source": [
        "df_1day.head()"
      ]
    },
    {
      "cell_type": "code",
      "execution_count": 11,
      "id": "e77e6b46-39ec-4aa2-9472-bde5a91956d4",
      "metadata": {
        "id": "e77e6b46-39ec-4aa2-9472-bde5a91956d4",
        "colab": {
          "base_uri": "https://localhost:8080/"
        },
        "outputId": "4d7f3b37-4a17-4968-a71f-ca98467e5b97"
      },
      "outputs": [
        {
          "output_type": "execute_result",
          "data": {
            "text/plain": [
              "True"
            ]
          },
          "metadata": {},
          "execution_count": 11
        }
      ],
      "source": [
        "(df_1day['index'] == df_1day.index).all()"
      ]
    },
    {
      "cell_type": "code",
      "execution_count": 11,
      "id": "28e28575-c36c-4be2-9733-6825e4faef46",
      "metadata": {
        "id": "28e28575-c36c-4be2-9733-6825e4faef46"
      },
      "outputs": [],
      "source": []
    },
    {
      "cell_type": "markdown",
      "id": "d4bdf3c8-1258-4555-9d7c-d063602f9a22",
      "metadata": {
        "id": "d4bdf3c8-1258-4555-9d7c-d063602f9a22"
      },
      "source": [
        "### Normalization data"
      ]
    },
    {
      "cell_type": "code",
      "execution_count": 11,
      "id": "334045b5-9067-45b2-b813-afc63ec3ea4d",
      "metadata": {
        "id": "334045b5-9067-45b2-b813-afc63ec3ea4d"
      },
      "outputs": [],
      "source": []
    },
    {
      "cell_type": "code",
      "execution_count": 12,
      "id": "62e166c7-95ef-442d-a570-9374143680a7",
      "metadata": {
        "id": "62e166c7-95ef-442d-a570-9374143680a7"
      },
      "outputs": [],
      "source": [
        "from sklearn.preprocessing import StandardScaler\n",
        "\n",
        "cols_exclude_1hour = ['time', 'ticker', 'close',\n",
        "                     'index_1day',\n",
        "                     'result', 'delta_time', 'income_rate', 'res_price', 'res_ind']\n",
        "cols = df_1hour.columns[~df_1hour.columns.isin(cols_exclude_1hour)]\n",
        "\n",
        "#scaler = load_pkl('./scaler_1min.pkl')\n",
        "scaler = StandardScaler()\n",
        "df_1hour[cols] = scaler.fit_transform(df_1hour[cols])\n",
        "\n",
        "\n",
        "cols_exclude_1day = ['time', 'ticker', 'index']\n",
        "cols = df_1day.columns[~df_1day.columns.isin(cols_exclude_1day)]\n",
        "#scaler = load_pkl('./scaler_1day.pkl')\n",
        "scaler = StandardScaler()\n",
        "df_1day[cols] = scaler.fit_transform(df_1day[cols])"
      ]
    },
    {
      "cell_type": "code",
      "execution_count": null,
      "id": "e351d206-cc74-4814-9774-8c23f7de4dab",
      "metadata": {
        "id": "e351d206-cc74-4814-9774-8c23f7de4dab"
      },
      "outputs": [],
      "source": []
    },
    {
      "cell_type": "code",
      "execution_count": 13,
      "id": "kBB5RD46wGyz",
      "metadata": {
        "colab": {
          "base_uri": "https://localhost:8080/",
          "height": 666
        },
        "id": "kBB5RD46wGyz",
        "outputId": "5b551690-b5c8-45a9-d153-de1e55f1498e"
      },
      "outputs": [
        {
          "output_type": "execute_result",
          "data": {
            "text/plain": [
              "                       time      close ticker  index_1day result  \\\n",
              "index                                                              \n",
              "0       2022-05-04 10:00:00  32.099998   AFLT         NaN   LOSE   \n",
              "1       2022-05-04 11:00:00  31.379999   AFLT         NaN   LOSE   \n",
              "2       2022-05-04 12:00:00  31.799999   AFLT         NaN   LOSE   \n",
              "3       2022-05-04 13:00:00  31.360001   AFLT         NaN   LOSE   \n",
              "4       2022-05-04 14:00:00  31.540001   AFLT         NaN   LOSE   \n",
              "...                     ...        ...    ...         ...    ...   \n",
              "1000391 2025-01-23 19:00:00  11.625000   RBCM     87288.0    DNF   \n",
              "1000392 2025-01-23 20:00:00  11.680000   RBCM     87288.0    DNF   \n",
              "1000393 2025-01-23 21:00:00  11.600000   RBCM     87288.0    DNF   \n",
              "1000394 2025-01-23 22:00:00  11.625000   RBCM     87288.0    DNF   \n",
              "1000395 2025-01-23 23:00:00  11.700000   RBCM     87289.0    DNF   \n",
              "\n",
              "             delta_time  income_rate  res_price  res_ind  close_w1_roc  ...  \\\n",
              "index                                                                   ...   \n",
              "0       0 days 01:00:00     0.980000  31.379999        1           NaN  ...   \n",
              "1       1 days 05:00:00     0.980000  30.639999       15     -2.317642  ...   \n",
              "2       0 days 04:00:00     0.980000  31.160000        6      1.368788  ...   \n",
              "3       1 days 03:00:00     0.980000  30.639999       15     -1.433103  ...   \n",
              "4       1 days 02:00:00     0.980000  30.639999       15      0.581922  ...   \n",
              "...                 ...          ...        ...      ...           ...  ...   \n",
              "1000391 0 days 04:00:00     1.006452  11.700000  1000395      0.480418  ...   \n",
              "1000392 0 days 03:00:00     1.001712  11.700000  1000395      0.478103  ...   \n",
              "1000393 0 days 02:00:00     1.008621  11.700000  1000395     -0.713901  ...   \n",
              "1000394 0 days 01:00:00     1.006452  11.700000  1000395      0.212949  ...   \n",
              "1000395 0 days 00:00:00     1.000000  11.700000  1000395      0.655190  ...   \n",
              "\n",
              "         tmos_close_w70_ma_up_3std/tmos_close  close_w5_min/close_w5_max  \\\n",
              "index                                                                      \n",
              "0                                         NaN                   0.859200   \n",
              "1                                    0.274822                  -0.585032   \n",
              "2                                   -0.148844                  -0.585032   \n",
              "3                                   -0.210512                  -0.625147   \n",
              "4                                   -0.294082                  -0.625147   \n",
              "...                                       ...                        ...   \n",
              "1000391                             -0.294288                   0.444497   \n",
              "1000392                             -0.427354                   0.252795   \n",
              "1000393                             -0.391477                   0.252795   \n",
              "1000394                             -0.436994                   0.252795   \n",
              "1000395                             -0.527707                   0.308871   \n",
              "\n",
              "         volume_w5_min/volume_w5_max  tmos_close_w5_min/tmos_close_w5_max  \\\n",
              "index                                                                       \n",
              "0                           5.643632                             1.036863   \n",
              "1                           1.380160                            -1.689319   \n",
              "2                          -0.020518                            -1.689319   \n",
              "3                          -0.038668                            -1.689319   \n",
              "4                          -0.288390                            -1.689319   \n",
              "...                              ...                                  ...   \n",
              "1000391                    -1.116348                            -0.000867   \n",
              "1000392                    -1.116348                            -0.000867   \n",
              "1000393                    -1.221738                            -0.000867   \n",
              "1000394                    -1.192347                            -0.000867   \n",
              "1000395                    -0.890313                            -0.256259   \n",
              "\n",
              "         close_w14_min/close_w14_max  volume_w14_min/volume_w14_max  \\\n",
              "index                                                                 \n",
              "0                           1.042237                      21.063971   \n",
              "1                           0.229805                       7.354105   \n",
              "2                           0.229805                       2.850006   \n",
              "3                           0.207239                       2.791642   \n",
              "4                           0.207239                       1.988620   \n",
              "...                              ...                            ...   \n",
              "1000391                     0.701113                      -0.930403   \n",
              "1000392                     0.701113                      -0.930403   \n",
              "1000393                     0.701113                      -1.012706   \n",
              "1000394                     0.701113                      -1.012706   \n",
              "1000395                     0.639781                      -1.012706   \n",
              "\n",
              "         tmos_close_w14_min/tmos_close_w14_max  close_w70_min/close_w70_max  \\\n",
              "index                                                                         \n",
              "0                                     1.284413                     1.321434   \n",
              "1                                    -0.190400                     0.939100   \n",
              "2                                    -0.190400                     0.939100   \n",
              "3                                    -0.190400                     0.928480   \n",
              "4                                    -0.190400                     0.928480   \n",
              "...                                        ...                          ...   \n",
              "1000391                               0.444943                     0.592861   \n",
              "1000392                               0.444943                     0.592861   \n",
              "1000393                               0.444943                     0.592861   \n",
              "1000394                               0.583762                     0.592861   \n",
              "1000395                               0.444943                     0.592861   \n",
              "\n",
              "         volume_w70_min/volume_w70_max  tmos_close_w70_min/tmos_close_w70_max  \n",
              "index                                                                          \n",
              "0                            54.356834                               1.647947  \n",
              "1                            20.340071                               0.998780  \n",
              "2                             9.164550                               0.998780  \n",
              "3                             9.019738                               0.998780  \n",
              "4                             7.027290                               0.998780  \n",
              "...                                ...                                    ...  \n",
              "1000391                      -0.542623                               0.429514  \n",
              "1000392                      -0.542623                               0.429514  \n",
              "1000393                      -0.542623                               0.429514  \n",
              "1000394                      -0.542623                               0.429514  \n",
              "1000395                      -0.542623                               0.429514  \n",
              "\n",
              "[1000396 rows x 243 columns]"
            ],
            "text/html": [
              "\n",
              "  <div id=\"df-ee59d1fa-185a-489a-b3f8-5f4d28784ce7\" class=\"colab-df-container\">\n",
              "    <div>\n",
              "<style scoped>\n",
              "    .dataframe tbody tr th:only-of-type {\n",
              "        vertical-align: middle;\n",
              "    }\n",
              "\n",
              "    .dataframe tbody tr th {\n",
              "        vertical-align: top;\n",
              "    }\n",
              "\n",
              "    .dataframe thead th {\n",
              "        text-align: right;\n",
              "    }\n",
              "</style>\n",
              "<table border=\"1\" class=\"dataframe\">\n",
              "  <thead>\n",
              "    <tr style=\"text-align: right;\">\n",
              "      <th></th>\n",
              "      <th>time</th>\n",
              "      <th>close</th>\n",
              "      <th>ticker</th>\n",
              "      <th>index_1day</th>\n",
              "      <th>result</th>\n",
              "      <th>delta_time</th>\n",
              "      <th>income_rate</th>\n",
              "      <th>res_price</th>\n",
              "      <th>res_ind</th>\n",
              "      <th>close_w1_roc</th>\n",
              "      <th>...</th>\n",
              "      <th>tmos_close_w70_ma_up_3std/tmos_close</th>\n",
              "      <th>close_w5_min/close_w5_max</th>\n",
              "      <th>volume_w5_min/volume_w5_max</th>\n",
              "      <th>tmos_close_w5_min/tmos_close_w5_max</th>\n",
              "      <th>close_w14_min/close_w14_max</th>\n",
              "      <th>volume_w14_min/volume_w14_max</th>\n",
              "      <th>tmos_close_w14_min/tmos_close_w14_max</th>\n",
              "      <th>close_w70_min/close_w70_max</th>\n",
              "      <th>volume_w70_min/volume_w70_max</th>\n",
              "      <th>tmos_close_w70_min/tmos_close_w70_max</th>\n",
              "    </tr>\n",
              "    <tr>\n",
              "      <th>index</th>\n",
              "      <th></th>\n",
              "      <th></th>\n",
              "      <th></th>\n",
              "      <th></th>\n",
              "      <th></th>\n",
              "      <th></th>\n",
              "      <th></th>\n",
              "      <th></th>\n",
              "      <th></th>\n",
              "      <th></th>\n",
              "      <th></th>\n",
              "      <th></th>\n",
              "      <th></th>\n",
              "      <th></th>\n",
              "      <th></th>\n",
              "      <th></th>\n",
              "      <th></th>\n",
              "      <th></th>\n",
              "      <th></th>\n",
              "      <th></th>\n",
              "      <th></th>\n",
              "    </tr>\n",
              "  </thead>\n",
              "  <tbody>\n",
              "    <tr>\n",
              "      <th>0</th>\n",
              "      <td>2022-05-04 10:00:00</td>\n",
              "      <td>32.099998</td>\n",
              "      <td>AFLT</td>\n",
              "      <td>NaN</td>\n",
              "      <td>LOSE</td>\n",
              "      <td>0 days 01:00:00</td>\n",
              "      <td>0.980000</td>\n",
              "      <td>31.379999</td>\n",
              "      <td>1</td>\n",
              "      <td>NaN</td>\n",
              "      <td>...</td>\n",
              "      <td>NaN</td>\n",
              "      <td>0.859200</td>\n",
              "      <td>5.643632</td>\n",
              "      <td>1.036863</td>\n",
              "      <td>1.042237</td>\n",
              "      <td>21.063971</td>\n",
              "      <td>1.284413</td>\n",
              "      <td>1.321434</td>\n",
              "      <td>54.356834</td>\n",
              "      <td>1.647947</td>\n",
              "    </tr>\n",
              "    <tr>\n",
              "      <th>1</th>\n",
              "      <td>2022-05-04 11:00:00</td>\n",
              "      <td>31.379999</td>\n",
              "      <td>AFLT</td>\n",
              "      <td>NaN</td>\n",
              "      <td>LOSE</td>\n",
              "      <td>1 days 05:00:00</td>\n",
              "      <td>0.980000</td>\n",
              "      <td>30.639999</td>\n",
              "      <td>15</td>\n",
              "      <td>-2.317642</td>\n",
              "      <td>...</td>\n",
              "      <td>0.274822</td>\n",
              "      <td>-0.585032</td>\n",
              "      <td>1.380160</td>\n",
              "      <td>-1.689319</td>\n",
              "      <td>0.229805</td>\n",
              "      <td>7.354105</td>\n",
              "      <td>-0.190400</td>\n",
              "      <td>0.939100</td>\n",
              "      <td>20.340071</td>\n",
              "      <td>0.998780</td>\n",
              "    </tr>\n",
              "    <tr>\n",
              "      <th>2</th>\n",
              "      <td>2022-05-04 12:00:00</td>\n",
              "      <td>31.799999</td>\n",
              "      <td>AFLT</td>\n",
              "      <td>NaN</td>\n",
              "      <td>LOSE</td>\n",
              "      <td>0 days 04:00:00</td>\n",
              "      <td>0.980000</td>\n",
              "      <td>31.160000</td>\n",
              "      <td>6</td>\n",
              "      <td>1.368788</td>\n",
              "      <td>...</td>\n",
              "      <td>-0.148844</td>\n",
              "      <td>-0.585032</td>\n",
              "      <td>-0.020518</td>\n",
              "      <td>-1.689319</td>\n",
              "      <td>0.229805</td>\n",
              "      <td>2.850006</td>\n",
              "      <td>-0.190400</td>\n",
              "      <td>0.939100</td>\n",
              "      <td>9.164550</td>\n",
              "      <td>0.998780</td>\n",
              "    </tr>\n",
              "    <tr>\n",
              "      <th>3</th>\n",
              "      <td>2022-05-04 13:00:00</td>\n",
              "      <td>31.360001</td>\n",
              "      <td>AFLT</td>\n",
              "      <td>NaN</td>\n",
              "      <td>LOSE</td>\n",
              "      <td>1 days 03:00:00</td>\n",
              "      <td>0.980000</td>\n",
              "      <td>30.639999</td>\n",
              "      <td>15</td>\n",
              "      <td>-1.433103</td>\n",
              "      <td>...</td>\n",
              "      <td>-0.210512</td>\n",
              "      <td>-0.625147</td>\n",
              "      <td>-0.038668</td>\n",
              "      <td>-1.689319</td>\n",
              "      <td>0.207239</td>\n",
              "      <td>2.791642</td>\n",
              "      <td>-0.190400</td>\n",
              "      <td>0.928480</td>\n",
              "      <td>9.019738</td>\n",
              "      <td>0.998780</td>\n",
              "    </tr>\n",
              "    <tr>\n",
              "      <th>4</th>\n",
              "      <td>2022-05-04 14:00:00</td>\n",
              "      <td>31.540001</td>\n",
              "      <td>AFLT</td>\n",
              "      <td>NaN</td>\n",
              "      <td>LOSE</td>\n",
              "      <td>1 days 02:00:00</td>\n",
              "      <td>0.980000</td>\n",
              "      <td>30.639999</td>\n",
              "      <td>15</td>\n",
              "      <td>0.581922</td>\n",
              "      <td>...</td>\n",
              "      <td>-0.294082</td>\n",
              "      <td>-0.625147</td>\n",
              "      <td>-0.288390</td>\n",
              "      <td>-1.689319</td>\n",
              "      <td>0.207239</td>\n",
              "      <td>1.988620</td>\n",
              "      <td>-0.190400</td>\n",
              "      <td>0.928480</td>\n",
              "      <td>7.027290</td>\n",
              "      <td>0.998780</td>\n",
              "    </tr>\n",
              "    <tr>\n",
              "      <th>...</th>\n",
              "      <td>...</td>\n",
              "      <td>...</td>\n",
              "      <td>...</td>\n",
              "      <td>...</td>\n",
              "      <td>...</td>\n",
              "      <td>...</td>\n",
              "      <td>...</td>\n",
              "      <td>...</td>\n",
              "      <td>...</td>\n",
              "      <td>...</td>\n",
              "      <td>...</td>\n",
              "      <td>...</td>\n",
              "      <td>...</td>\n",
              "      <td>...</td>\n",
              "      <td>...</td>\n",
              "      <td>...</td>\n",
              "      <td>...</td>\n",
              "      <td>...</td>\n",
              "      <td>...</td>\n",
              "      <td>...</td>\n",
              "      <td>...</td>\n",
              "    </tr>\n",
              "    <tr>\n",
              "      <th>1000391</th>\n",
              "      <td>2025-01-23 19:00:00</td>\n",
              "      <td>11.625000</td>\n",
              "      <td>RBCM</td>\n",
              "      <td>87288.0</td>\n",
              "      <td>DNF</td>\n",
              "      <td>0 days 04:00:00</td>\n",
              "      <td>1.006452</td>\n",
              "      <td>11.700000</td>\n",
              "      <td>1000395</td>\n",
              "      <td>0.480418</td>\n",
              "      <td>...</td>\n",
              "      <td>-0.294288</td>\n",
              "      <td>0.444497</td>\n",
              "      <td>-1.116348</td>\n",
              "      <td>-0.000867</td>\n",
              "      <td>0.701113</td>\n",
              "      <td>-0.930403</td>\n",
              "      <td>0.444943</td>\n",
              "      <td>0.592861</td>\n",
              "      <td>-0.542623</td>\n",
              "      <td>0.429514</td>\n",
              "    </tr>\n",
              "    <tr>\n",
              "      <th>1000392</th>\n",
              "      <td>2025-01-23 20:00:00</td>\n",
              "      <td>11.680000</td>\n",
              "      <td>RBCM</td>\n",
              "      <td>87288.0</td>\n",
              "      <td>DNF</td>\n",
              "      <td>0 days 03:00:00</td>\n",
              "      <td>1.001712</td>\n",
              "      <td>11.700000</td>\n",
              "      <td>1000395</td>\n",
              "      <td>0.478103</td>\n",
              "      <td>...</td>\n",
              "      <td>-0.427354</td>\n",
              "      <td>0.252795</td>\n",
              "      <td>-1.116348</td>\n",
              "      <td>-0.000867</td>\n",
              "      <td>0.701113</td>\n",
              "      <td>-0.930403</td>\n",
              "      <td>0.444943</td>\n",
              "      <td>0.592861</td>\n",
              "      <td>-0.542623</td>\n",
              "      <td>0.429514</td>\n",
              "    </tr>\n",
              "    <tr>\n",
              "      <th>1000393</th>\n",
              "      <td>2025-01-23 21:00:00</td>\n",
              "      <td>11.600000</td>\n",
              "      <td>RBCM</td>\n",
              "      <td>87288.0</td>\n",
              "      <td>DNF</td>\n",
              "      <td>0 days 02:00:00</td>\n",
              "      <td>1.008621</td>\n",
              "      <td>11.700000</td>\n",
              "      <td>1000395</td>\n",
              "      <td>-0.713901</td>\n",
              "      <td>...</td>\n",
              "      <td>-0.391477</td>\n",
              "      <td>0.252795</td>\n",
              "      <td>-1.221738</td>\n",
              "      <td>-0.000867</td>\n",
              "      <td>0.701113</td>\n",
              "      <td>-1.012706</td>\n",
              "      <td>0.444943</td>\n",
              "      <td>0.592861</td>\n",
              "      <td>-0.542623</td>\n",
              "      <td>0.429514</td>\n",
              "    </tr>\n",
              "    <tr>\n",
              "      <th>1000394</th>\n",
              "      <td>2025-01-23 22:00:00</td>\n",
              "      <td>11.625000</td>\n",
              "      <td>RBCM</td>\n",
              "      <td>87288.0</td>\n",
              "      <td>DNF</td>\n",
              "      <td>0 days 01:00:00</td>\n",
              "      <td>1.006452</td>\n",
              "      <td>11.700000</td>\n",
              "      <td>1000395</td>\n",
              "      <td>0.212949</td>\n",
              "      <td>...</td>\n",
              "      <td>-0.436994</td>\n",
              "      <td>0.252795</td>\n",
              "      <td>-1.192347</td>\n",
              "      <td>-0.000867</td>\n",
              "      <td>0.701113</td>\n",
              "      <td>-1.012706</td>\n",
              "      <td>0.583762</td>\n",
              "      <td>0.592861</td>\n",
              "      <td>-0.542623</td>\n",
              "      <td>0.429514</td>\n",
              "    </tr>\n",
              "    <tr>\n",
              "      <th>1000395</th>\n",
              "      <td>2025-01-23 23:00:00</td>\n",
              "      <td>11.700000</td>\n",
              "      <td>RBCM</td>\n",
              "      <td>87289.0</td>\n",
              "      <td>DNF</td>\n",
              "      <td>0 days 00:00:00</td>\n",
              "      <td>1.000000</td>\n",
              "      <td>11.700000</td>\n",
              "      <td>1000395</td>\n",
              "      <td>0.655190</td>\n",
              "      <td>...</td>\n",
              "      <td>-0.527707</td>\n",
              "      <td>0.308871</td>\n",
              "      <td>-0.890313</td>\n",
              "      <td>-0.256259</td>\n",
              "      <td>0.639781</td>\n",
              "      <td>-1.012706</td>\n",
              "      <td>0.444943</td>\n",
              "      <td>0.592861</td>\n",
              "      <td>-0.542623</td>\n",
              "      <td>0.429514</td>\n",
              "    </tr>\n",
              "  </tbody>\n",
              "</table>\n",
              "<p>1000396 rows × 243 columns</p>\n",
              "</div>\n",
              "    <div class=\"colab-df-buttons\">\n",
              "\n",
              "  <div class=\"colab-df-container\">\n",
              "    <button class=\"colab-df-convert\" onclick=\"convertToInteractive('df-ee59d1fa-185a-489a-b3f8-5f4d28784ce7')\"\n",
              "            title=\"Convert this dataframe to an interactive table.\"\n",
              "            style=\"display:none;\">\n",
              "\n",
              "  <svg xmlns=\"http://www.w3.org/2000/svg\" height=\"24px\" viewBox=\"0 -960 960 960\">\n",
              "    <path d=\"M120-120v-720h720v720H120Zm60-500h600v-160H180v160Zm220 220h160v-160H400v160Zm0 220h160v-160H400v160ZM180-400h160v-160H180v160Zm440 0h160v-160H620v160ZM180-180h160v-160H180v160Zm440 0h160v-160H620v160Z\"/>\n",
              "  </svg>\n",
              "    </button>\n",
              "\n",
              "  <style>\n",
              "    .colab-df-container {\n",
              "      display:flex;\n",
              "      gap: 12px;\n",
              "    }\n",
              "\n",
              "    .colab-df-convert {\n",
              "      background-color: #E8F0FE;\n",
              "      border: none;\n",
              "      border-radius: 50%;\n",
              "      cursor: pointer;\n",
              "      display: none;\n",
              "      fill: #1967D2;\n",
              "      height: 32px;\n",
              "      padding: 0 0 0 0;\n",
              "      width: 32px;\n",
              "    }\n",
              "\n",
              "    .colab-df-convert:hover {\n",
              "      background-color: #E2EBFA;\n",
              "      box-shadow: 0px 1px 2px rgba(60, 64, 67, 0.3), 0px 1px 3px 1px rgba(60, 64, 67, 0.15);\n",
              "      fill: #174EA6;\n",
              "    }\n",
              "\n",
              "    .colab-df-buttons div {\n",
              "      margin-bottom: 4px;\n",
              "    }\n",
              "\n",
              "    [theme=dark] .colab-df-convert {\n",
              "      background-color: #3B4455;\n",
              "      fill: #D2E3FC;\n",
              "    }\n",
              "\n",
              "    [theme=dark] .colab-df-convert:hover {\n",
              "      background-color: #434B5C;\n",
              "      box-shadow: 0px 1px 3px 1px rgba(0, 0, 0, 0.15);\n",
              "      filter: drop-shadow(0px 1px 2px rgba(0, 0, 0, 0.3));\n",
              "      fill: #FFFFFF;\n",
              "    }\n",
              "  </style>\n",
              "\n",
              "    <script>\n",
              "      const buttonEl =\n",
              "        document.querySelector('#df-ee59d1fa-185a-489a-b3f8-5f4d28784ce7 button.colab-df-convert');\n",
              "      buttonEl.style.display =\n",
              "        google.colab.kernel.accessAllowed ? 'block' : 'none';\n",
              "\n",
              "      async function convertToInteractive(key) {\n",
              "        const element = document.querySelector('#df-ee59d1fa-185a-489a-b3f8-5f4d28784ce7');\n",
              "        const dataTable =\n",
              "          await google.colab.kernel.invokeFunction('convertToInteractive',\n",
              "                                                    [key], {});\n",
              "        if (!dataTable) return;\n",
              "\n",
              "        const docLinkHtml = 'Like what you see? Visit the ' +\n",
              "          '<a target=\"_blank\" href=https://colab.research.google.com/notebooks/data_table.ipynb>data table notebook</a>'\n",
              "          + ' to learn more about interactive tables.';\n",
              "        element.innerHTML = '';\n",
              "        dataTable['output_type'] = 'display_data';\n",
              "        await google.colab.output.renderOutput(dataTable, element);\n",
              "        const docLink = document.createElement('div');\n",
              "        docLink.innerHTML = docLinkHtml;\n",
              "        element.appendChild(docLink);\n",
              "      }\n",
              "    </script>\n",
              "  </div>\n",
              "\n",
              "\n",
              "<div id=\"df-8fe4d881-11ba-4141-9391-ea31030bcad9\">\n",
              "  <button class=\"colab-df-quickchart\" onclick=\"quickchart('df-8fe4d881-11ba-4141-9391-ea31030bcad9')\"\n",
              "            title=\"Suggest charts\"\n",
              "            style=\"display:none;\">\n",
              "\n",
              "<svg xmlns=\"http://www.w3.org/2000/svg\" height=\"24px\"viewBox=\"0 0 24 24\"\n",
              "     width=\"24px\">\n",
              "    <g>\n",
              "        <path d=\"M19 3H5c-1.1 0-2 .9-2 2v14c0 1.1.9 2 2 2h14c1.1 0 2-.9 2-2V5c0-1.1-.9-2-2-2zM9 17H7v-7h2v7zm4 0h-2V7h2v10zm4 0h-2v-4h2v4z\"/>\n",
              "    </g>\n",
              "</svg>\n",
              "  </button>\n",
              "\n",
              "<style>\n",
              "  .colab-df-quickchart {\n",
              "      --bg-color: #E8F0FE;\n",
              "      --fill-color: #1967D2;\n",
              "      --hover-bg-color: #E2EBFA;\n",
              "      --hover-fill-color: #174EA6;\n",
              "      --disabled-fill-color: #AAA;\n",
              "      --disabled-bg-color: #DDD;\n",
              "  }\n",
              "\n",
              "  [theme=dark] .colab-df-quickchart {\n",
              "      --bg-color: #3B4455;\n",
              "      --fill-color: #D2E3FC;\n",
              "      --hover-bg-color: #434B5C;\n",
              "      --hover-fill-color: #FFFFFF;\n",
              "      --disabled-bg-color: #3B4455;\n",
              "      --disabled-fill-color: #666;\n",
              "  }\n",
              "\n",
              "  .colab-df-quickchart {\n",
              "    background-color: var(--bg-color);\n",
              "    border: none;\n",
              "    border-radius: 50%;\n",
              "    cursor: pointer;\n",
              "    display: none;\n",
              "    fill: var(--fill-color);\n",
              "    height: 32px;\n",
              "    padding: 0;\n",
              "    width: 32px;\n",
              "  }\n",
              "\n",
              "  .colab-df-quickchart:hover {\n",
              "    background-color: var(--hover-bg-color);\n",
              "    box-shadow: 0 1px 2px rgba(60, 64, 67, 0.3), 0 1px 3px 1px rgba(60, 64, 67, 0.15);\n",
              "    fill: var(--button-hover-fill-color);\n",
              "  }\n",
              "\n",
              "  .colab-df-quickchart-complete:disabled,\n",
              "  .colab-df-quickchart-complete:disabled:hover {\n",
              "    background-color: var(--disabled-bg-color);\n",
              "    fill: var(--disabled-fill-color);\n",
              "    box-shadow: none;\n",
              "  }\n",
              "\n",
              "  .colab-df-spinner {\n",
              "    border: 2px solid var(--fill-color);\n",
              "    border-color: transparent;\n",
              "    border-bottom-color: var(--fill-color);\n",
              "    animation:\n",
              "      spin 1s steps(1) infinite;\n",
              "  }\n",
              "\n",
              "  @keyframes spin {\n",
              "    0% {\n",
              "      border-color: transparent;\n",
              "      border-bottom-color: var(--fill-color);\n",
              "      border-left-color: var(--fill-color);\n",
              "    }\n",
              "    20% {\n",
              "      border-color: transparent;\n",
              "      border-left-color: var(--fill-color);\n",
              "      border-top-color: var(--fill-color);\n",
              "    }\n",
              "    30% {\n",
              "      border-color: transparent;\n",
              "      border-left-color: var(--fill-color);\n",
              "      border-top-color: var(--fill-color);\n",
              "      border-right-color: var(--fill-color);\n",
              "    }\n",
              "    40% {\n",
              "      border-color: transparent;\n",
              "      border-right-color: var(--fill-color);\n",
              "      border-top-color: var(--fill-color);\n",
              "    }\n",
              "    60% {\n",
              "      border-color: transparent;\n",
              "      border-right-color: var(--fill-color);\n",
              "    }\n",
              "    80% {\n",
              "      border-color: transparent;\n",
              "      border-right-color: var(--fill-color);\n",
              "      border-bottom-color: var(--fill-color);\n",
              "    }\n",
              "    90% {\n",
              "      border-color: transparent;\n",
              "      border-bottom-color: var(--fill-color);\n",
              "    }\n",
              "  }\n",
              "</style>\n",
              "\n",
              "  <script>\n",
              "    async function quickchart(key) {\n",
              "      const quickchartButtonEl =\n",
              "        document.querySelector('#' + key + ' button');\n",
              "      quickchartButtonEl.disabled = true;  // To prevent multiple clicks.\n",
              "      quickchartButtonEl.classList.add('colab-df-spinner');\n",
              "      try {\n",
              "        const charts = await google.colab.kernel.invokeFunction(\n",
              "            'suggestCharts', [key], {});\n",
              "      } catch (error) {\n",
              "        console.error('Error during call to suggestCharts:', error);\n",
              "      }\n",
              "      quickchartButtonEl.classList.remove('colab-df-spinner');\n",
              "      quickchartButtonEl.classList.add('colab-df-quickchart-complete');\n",
              "    }\n",
              "    (() => {\n",
              "      let quickchartButtonEl =\n",
              "        document.querySelector('#df-8fe4d881-11ba-4141-9391-ea31030bcad9 button');\n",
              "      quickchartButtonEl.style.display =\n",
              "        google.colab.kernel.accessAllowed ? 'block' : 'none';\n",
              "    })();\n",
              "  </script>\n",
              "</div>\n",
              "    </div>\n",
              "  </div>\n"
            ],
            "application/vnd.google.colaboratory.intrinsic+json": {
              "type": "dataframe",
              "variable_name": "df_1hour"
            }
          },
          "metadata": {},
          "execution_count": 13
        }
      ],
      "source": [
        "df_1hour"
      ]
    },
    {
      "cell_type": "code",
      "execution_count": 14,
      "id": "xeXCfzhbolTJ",
      "metadata": {
        "colab": {
          "base_uri": "https://localhost:8080/"
        },
        "id": "xeXCfzhbolTJ",
        "outputId": "de2e0322-2d78-4037-b164-d4d84aed730b"
      },
      "outputs": [
        {
          "output_type": "execute_result",
          "data": {
            "text/plain": [
              "994.9898907786065"
            ]
          },
          "metadata": {},
          "execution_count": 14
        }
      ],
      "source": [
        "df_1hour[df_1hour.columns[~df_1hour.columns.isin(cols_exclude_1hour)]].abs().max().max()"
      ]
    },
    {
      "cell_type": "code",
      "execution_count": 15,
      "id": "_hEd_wI1DwAE",
      "metadata": {
        "colab": {
          "base_uri": "https://localhost:8080/"
        },
        "id": "_hEd_wI1DwAE",
        "outputId": "b5eb4e25-d7db-4003-808e-d265a41c377e"
      },
      "outputs": [
        {
          "output_type": "execute_result",
          "data": {
            "text/plain": [
              "295.44708251953125"
            ]
          },
          "metadata": {},
          "execution_count": 15
        }
      ],
      "source": [
        "df_1day[df_1day.columns[~df_1day.columns.isin(cols_exclude_1day)]].abs().max().max()"
      ]
    },
    {
      "cell_type": "code",
      "execution_count": 15,
      "id": "lwbnJ3DAnO3x",
      "metadata": {
        "id": "lwbnJ3DAnO3x"
      },
      "outputs": [],
      "source": []
    },
    {
      "cell_type": "code",
      "execution_count": 16,
      "id": "a0611864-8569-418a-a959-5ab39595b320",
      "metadata": {
        "id": "a0611864-8569-418a-a959-5ab39595b320",
        "colab": {
          "base_uri": "https://localhost:8080/"
        },
        "outputId": "994de2e1-1cb6-4f28-df2a-78ed1d19e3c4"
      },
      "outputs": [
        {
          "output_type": "stream",
          "name": "stderr",
          "text": [
            "<ipython-input-16-f7743fd744a3>:1: PerformanceWarning: DataFrame is highly fragmented.  This is usually the result of calling `frame.insert` many times, which has poor performance.  Consider joining all columns at once using pd.concat(axis=1) instead. To get a de-fragmented frame, use `newframe = frame.copy()`\n",
            "  df_1hour['target'] = (df_1hour['result'] == 'WIN').astype(int)\n"
          ]
        }
      ],
      "source": [
        "df_1hour['target'] = (df_1hour['result'] == 'WIN').astype(int)"
      ]
    },
    {
      "cell_type": "code",
      "execution_count": 17,
      "id": "206263ce-b65e-40eb-8db5-252cc2fb8b09",
      "metadata": {
        "colab": {
          "base_uri": "https://localhost:8080/",
          "height": 600
        },
        "id": "206263ce-b65e-40eb-8db5-252cc2fb8b09",
        "outputId": "50e0e7d4-743a-4a0e-d297-ba5a3742f50b"
      },
      "outputs": [
        {
          "output_type": "execute_result",
          "data": {
            "text/plain": [
              "<Axes: xlabel='time'>"
            ]
          },
          "metadata": {},
          "execution_count": 17
        },
        {
          "output_type": "display_data",
          "data": {
            "text/plain": [
              "<Figure size 640x480 with 1 Axes>"
            ],
            "image/png": "[encoded data removed]"
          },
          "metadata": {}
        }
      ],
      "source": [
        "df_1hour[['time', 'target']].groupby(pd.Grouper(key='time', freq='ME')).target.count().plot.bar()"
      ]
    },
    {
      "cell_type": "code",
      "execution_count": 18,
      "id": "f3472da7-9d47-4cc9-9010-79813506b891",
      "metadata": {
        "colab": {
          "base_uri": "https://localhost:8080/",
          "height": 600
        },
        "id": "f3472da7-9d47-4cc9-9010-79813506b891",
        "outputId": "5fc523e6-14c7-4210-bf01-475d3ed96b0f"
      },
      "outputs": [
        {
          "output_type": "execute_result",
          "data": {
            "text/plain": [
              "<Axes: xlabel='time'>"
            ]
          },
          "metadata": {},
          "execution_count": 18
        },
        {
          "output_type": "display_data",
          "data": {
            "text/plain": [
              "<Figure size 640x480 with 1 Axes>"
            ],
            "image/png": "[encoded data removed]"
          },
          "metadata": {}
        }
      ],
      "source": [
        "df_1hour[['time', 'target']].groupby(pd.Grouper(key='time', freq='ME')).target.mean().plot.bar()"
      ]
    },
    {
      "cell_type": "code",
      "execution_count": 19,
      "id": "76a0d3ac-ea8e-4f05-919a-73bdeb4f467c",
      "metadata": {
        "id": "76a0d3ac-ea8e-4f05-919a-73bdeb4f467c",
        "colab": {
          "base_uri": "https://localhost:8080/",
          "height": 600
        },
        "outputId": "1f3b7bc5-1cdd-495b-e8e6-77829cc92412"
      },
      "outputs": [
        {
          "output_type": "execute_result",
          "data": {
            "text/plain": [
              "<Axes: xlabel='time'>"
            ]
          },
          "metadata": {},
          "execution_count": 19
        },
        {
          "output_type": "display_data",
          "data": {
            "text/plain": [
              "<Figure size 640x480 with 1 Axes>"
            ],
            "image/png": "[encoded data removed]"
          },
          "metadata": {}
        }
      ],
      "source": [
        "(df_1hour[['time', 'income_rate']].groupby(pd.Grouper(key='time', freq='ME')).income_rate.mean() -1).plot.bar()"
      ]
    },
    {
      "cell_type": "code",
      "execution_count": 19,
      "id": "55a26eac-f05a-4789-abba-bbc5659bca6c",
      "metadata": {
        "id": "55a26eac-f05a-4789-abba-bbc5659bca6c"
      },
      "outputs": [],
      "source": []
    },
    {
      "cell_type": "code",
      "execution_count": 19,
      "id": "2bd83a17-e071-4da3-bcc4-0d12dbad85fe",
      "metadata": {
        "id": "2bd83a17-e071-4da3-bcc4-0d12dbad85fe"
      },
      "outputs": [],
      "source": []
    },
    {
      "cell_type": "code",
      "execution_count": 20,
      "id": "91a9b3ab-3c5c-4ea7-93ca-32e75db8300e",
      "metadata": {
        "id": "91a9b3ab-3c5c-4ea7-93ca-32e75db8300e",
        "colab": {
          "base_uri": "https://localhost:8080/"
        },
        "outputId": "171f58b4-2c26-4264-c0eb-b7a01fe2187b"
      },
      "outputs": [
        {
          "output_type": "execute_result",
          "data": {
            "text/plain": [
              "(714252, 70129, 74239, 101909)"
            ]
          },
          "metadata": {},
          "execution_count": 20
        }
      ],
      "source": [
        "mask_train = np.array((pd.Timestamp('2022-01-01') <= df_1hour['time']) & (df_1hour['time'] < pd.Timestamp('2024-06-01')))\n",
        "mask_valid = np.array((pd.Timestamp('2024-06-01') <= df_1hour['time']) & (df_1hour['time'] < pd.Timestamp('2024-08-01')))\n",
        "mask_test = np.array((pd.Timestamp('2024-08-01') <= df_1hour['time']) & (df_1hour['time'] < pd.Timestamp('2024-10-01')))\n",
        "mask_test2 = np.array((pd.Timestamp('2024-10-01') <= df_1hour['time']) & (df_1hour['time'] < pd.Timestamp('2024-12-23')))\n",
        "mask_test3 = np.array((pd.Timestamp('2024-12-23') <= df_1hour['time']) & (df_1hour['time'] < pd.Timestamp('2025-01-17')))\n",
        "\n",
        "mask_train.sum(), mask_valid.sum(), mask_test.sum(), mask_test2.sum()"
      ]
    },
    {
      "cell_type": "code",
      "execution_count": 21,
      "id": "89a7fb19-e7bc-4311-aadd-8a091f22bc67",
      "metadata": {
        "id": "89a7fb19-e7bc-4311-aadd-8a091f22bc67"
      },
      "outputs": [],
      "source": [
        "# некоторые акции имеют более короткую историю\n",
        "NEED_POINTS = 210\n",
        "mask_avbl_all = np.zeros_like(mask_train).astype(bool)\n",
        "for ticker in df_1hour[\"ticker\"].unique():\n",
        "    mask = np.array(df_1hour['ticker'] == ticker)\n",
        "    count_days = df_1hour.loc[mask, 'time'].dt.date.nunique()\n",
        "    if count_days < NEED_POINTS:\n",
        "        mask_avbl = np.zeros_like(mask_train).astype(bool)\n",
        "    else:\n",
        "        date_first_avbl =  np.sort(df_1hour.loc[mask, 'time'].dt.date.unique())[NEED_POINTS]\n",
        "        #print(date_first_avbl)\n",
        "        mask_avbl = np.array(df_1hour[\"time\"] >= pd.to_datetime(date_first_avbl))\n",
        "\n",
        "    mask_ticker = np.array(df_1hour['ticker'] == ticker)\n",
        "    mask_avbl_ticker = mask_ticker & mask_avbl\n",
        "\n",
        "    mask_avbl_all |= mask_avbl_ticker\n",
        "\n",
        "mask_train &= mask_avbl_all\n",
        "mask_valid &= mask_avbl_all\n",
        "mask_test &= mask_avbl_all\n",
        "mask_test2 &= mask_avbl_all"
      ]
    },
    {
      "cell_type": "code",
      "execution_count": 22,
      "id": "56a0e857-537c-4cab-941d-9bd36088e951",
      "metadata": {
        "colab": {
          "base_uri": "https://localhost:8080/"
        },
        "id": "56a0e857-537c-4cab-941d-9bd36088e951",
        "outputId": "2b530e84-8db1-4a3c-94bf-893ba00afc62"
      },
      "outputs": [
        {
          "output_type": "execute_result",
          "data": {
            "text/plain": [
              "(453449, 70129, 74239, 101909)"
            ]
          },
          "metadata": {},
          "execution_count": 22
        }
      ],
      "source": [
        "mask_train.sum(), mask_valid.sum(), mask_test.sum(), mask_test2.sum()"
      ]
    },
    {
      "cell_type": "code",
      "execution_count": 22,
      "id": "7eae8ae0-7e15-41f6-9f79-218b6a94ded1",
      "metadata": {
        "id": "7eae8ae0-7e15-41f6-9f79-218b6a94ded1"
      },
      "outputs": [],
      "source": []
    },
    {
      "cell_type": "code",
      "execution_count": 23,
      "id": "9d034842-5335-4162-b271-467cfb9efc5a",
      "metadata": {
        "colab": {
          "base_uri": "https://localhost:8080/"
        },
        "id": "9d034842-5335-4162-b271-467cfb9efc5a",
        "outputId": "4a38b45f-5605-4100-d9f6-7b964975960f"
      },
      "outputs": [
        {
          "output_type": "execute_result",
          "data": {
            "text/plain": [
              "699726"
            ]
          },
          "metadata": {},
          "execution_count": 23
        }
      ],
      "source": [
        "mask_data = mask_train|mask_valid|mask_test|mask_test2\n",
        "(mask_data).sum()"
      ]
    },
    {
      "cell_type": "code",
      "execution_count": 24,
      "id": "e43d7543-daf2-495d-b4ea-15dd838d133c",
      "metadata": {
        "colab": {
          "base_uri": "https://localhost:8080/"
        },
        "id": "e43d7543-daf2-495d-b4ea-15dd838d133c",
        "outputId": "766aa06a-7d14-4689-8e65-522f6a299d07"
      },
      "outputs": [
        {
          "output_type": "execute_result",
          "data": {
            "text/plain": [
              "(0.6480379462818303,\n",
              " 0.10022351606200142,\n",
              " 0.10609724377827892,\n",
              " 0.14564129387788935)"
            ]
          },
          "metadata": {},
          "execution_count": 24
        }
      ],
      "source": [
        "mask_train.sum()/(mask_data).sum(), mask_valid.sum()/(mask_data).sum(), mask_test.sum()/(mask_data).sum(), mask_test2.sum()/(mask_data).sum()"
      ]
    },
    {
      "cell_type": "code",
      "execution_count": 25,
      "id": "cb46d1d9-fc8c-45c5-99e5-bf771bdb6ccc",
      "metadata": {
        "colab": {
          "base_uri": "https://localhost:8080/"
        },
        "id": "cb46d1d9-fc8c-45c5-99e5-bf771bdb6ccc",
        "outputId": "11583aaf-8c3f-42dd-974b-730e13522a00"
      },
      "outputs": [
        {
          "output_type": "execute_result",
          "data": {
            "text/plain": [
              "(0.1490818151545157,\n",
              " 0.16215830826049138,\n",
              " 0.1812928514662105,\n",
              " 0.15419639089776171)"
            ]
          },
          "metadata": {},
          "execution_count": 25
        }
      ],
      "source": [
        "df_1hour.loc[mask_train, 'target'].mean(), df_1hour.loc[mask_valid, 'target'].mean(), df_1hour.loc[mask_test, 'target'].mean(), df_1hour.loc[mask_test2, 'target'].mean()"
      ]
    },
    {
      "cell_type": "code",
      "execution_count": 26,
      "id": "c176dba9-2a64-4129-9de3-9f7515f0d9d7",
      "metadata": {
        "colab": {
          "base_uri": "https://localhost:8080/"
        },
        "id": "c176dba9-2a64-4129-9de3-9f7515f0d9d7",
        "outputId": "b202271b-fa8b-427e-ff9d-0f49b5e70d80"
      },
      "outputs": [
        {
          "output_type": "execute_result",
          "data": {
            "text/plain": [
              "(1.0024161, 0.9991569, 1.0002859, 0.9984382)"
            ]
          },
          "metadata": {},
          "execution_count": 26
        }
      ],
      "source": [
        "df_1hour.loc[mask_train, 'income_rate'].mean(), df_1hour.loc[mask_valid, 'income_rate'].mean(), df_1hour.loc[mask_test, 'income_rate'].mean(), df_1hour.loc[mask_test2, 'income_rate'].mean()"
      ]
    },
    {
      "cell_type": "code",
      "execution_count": 27,
      "id": "b89d98db-d939-4ef2-bbc1-f1d31bf5cd15",
      "metadata": {
        "id": "b89d98db-d939-4ef2-bbc1-f1d31bf5cd15"
      },
      "outputs": [],
      "source": [
        "#проверки"
      ]
    },
    {
      "cell_type": "code",
      "execution_count": 28,
      "id": "4b37867a-0700-4508-b310-38dcabce67b3",
      "metadata": {
        "colab": {
          "base_uri": "https://localhost:8080/"
        },
        "id": "4b37867a-0700-4508-b310-38dcabce67b3",
        "outputId": "ffc7ea14-289e-4cb7-9966-4813002c928e"
      },
      "outputs": [
        {
          "output_type": "execute_result",
          "data": {
            "text/plain": [
              "True"
            ]
          },
          "metadata": {},
          "execution_count": 28
        }
      ],
      "source": [
        "(mask_train.sum()+mask_valid.sum()+mask_test.sum()+mask_test2.sum()) == mask_data.sum()"
      ]
    },
    {
      "cell_type": "code",
      "execution_count": 28,
      "id": "ec2e95ec-fef3-49a2-8098-3824eb514908",
      "metadata": {
        "id": "ec2e95ec-fef3-49a2-8098-3824eb514908"
      },
      "outputs": [],
      "source": []
    },
    {
      "cell_type": "code",
      "execution_count": 29,
      "id": "f0ee2b61-f46b-4b29-b5f3-e6c08d9b953b",
      "metadata": {
        "id": "f0ee2b61-f46b-4b29-b5f3-e6c08d9b953b"
      },
      "outputs": [],
      "source": [
        "#indexes\n",
        "\n",
        "inds_train = df_1hour.index[mask_train].values\n",
        "inds_valid = df_1hour.index[mask_valid].values\n",
        "inds_test = df_1hour.index[mask_test].values\n",
        "inds_test2 = df_1hour.index[mask_test2].values"
      ]
    },
    {
      "cell_type": "code",
      "execution_count": 30,
      "id": "9ecf4f4e-a20d-485b-a6ab-6209a3bd3ea5",
      "metadata": {
        "colab": {
          "base_uri": "https://localhost:8080/"
        },
        "id": "9ecf4f4e-a20d-485b-a6ab-6209a3bd3ea5",
        "outputId": "86a78712-fda8-4441-b150-61b7dd8a2283"
      },
      "outputs": [
        {
          "output_type": "execute_result",
          "data": {
            "text/plain": [
              "array([  2471,   2472,   2473, ..., 998116, 998117, 998118])"
            ]
          },
          "metadata": {},
          "execution_count": 30
        }
      ],
      "source": [
        "inds_train"
      ]
    },
    {
      "cell_type": "code",
      "execution_count": 30,
      "id": "cea07275-c394-4c37-942b-8657225aa772",
      "metadata": {
        "id": "cea07275-c394-4c37-942b-8657225aa772"
      },
      "outputs": [],
      "source": []
    },
    {
      "cell_type": "code",
      "execution_count": 30,
      "id": "59edcf5f-87da-4e09-b94a-6e84edd80e81",
      "metadata": {
        "id": "59edcf5f-87da-4e09-b94a-6e84edd80e81"
      },
      "outputs": [],
      "source": []
    },
    {
      "cell_type": "markdown",
      "id": "fe1d598a-a3fc-4035-a7ea-776dbf5260eb",
      "metadata": {
        "id": "fe1d598a-a3fc-4035-a7ea-776dbf5260eb"
      },
      "source": [
        "### 4. Model Khibiny"
      ]
    },
    {
      "cell_type": "code",
      "execution_count": 31,
      "id": "b0847cbe-4a05-4a27-83cc-ff97385a4553",
      "metadata": {
        "colab": {
          "base_uri": "https://localhost:8080/"
        },
        "id": "b0847cbe-4a05-4a27-83cc-ff97385a4553",
        "outputId": "09db31df-15b5-409b-9d8d-5f06353ee95d"
      },
      "outputs": [
        {
          "output_type": "stream",
          "name": "stdout",
          "text": [
            "TensorFlow version: 2.17.1\n"
          ]
        }
      ],
      "source": [
        "import tensorflow as tf\n",
        "print(\"TensorFlow version:\", tf.__version__)"
      ]
    },
    {
      "cell_type": "code",
      "execution_count": 32,
      "id": "ea01c083-550d-4c04-b7d3-6b14dcdf4a32",
      "metadata": {
        "id": "ea01c083-550d-4c04-b7d3-6b14dcdf4a32",
        "colab": {
          "base_uri": "https://localhost:8080/"
        },
        "outputId": "58b01b4e-48a1-49fd-c505-db89ea56504e"
      },
      "outputs": [
        {
          "output_type": "stream",
          "name": "stderr",
          "text": [
            "<ipython-input-32-f5a901c0c77c>:1: PerformanceWarning: DataFrame is highly fragmented.  This is usually the result of calling `frame.insert` many times, which has poor performance.  Consider joining all columns at once using pd.concat(axis=1) instead. To get a de-fragmented frame, use `newframe = frame.copy()`\n",
            "  df_1hour['ticker_code'] = df_1hour['ticker'].astype('category').cat.codes\n"
          ]
        }
      ],
      "source": [
        "df_1hour['ticker_code'] = df_1hour['ticker'].astype('category').cat.codes"
      ]
    },
    {
      "cell_type": "code",
      "execution_count": 33,
      "id": "4763e92d-b573-407a-accf-b2af1cf85419",
      "metadata": {
        "colab": {
          "base_uri": "https://localhost:8080/",
          "height": 490
        },
        "id": "4763e92d-b573-407a-accf-b2af1cf85419",
        "outputId": "be5dc23f-9042-4d17-b296-e56c4cb72ff2"
      },
      "outputs": [
        {
          "output_type": "execute_result",
          "data": {
            "text/plain": [
              "ticker_code\n",
              "103    9585\n",
              "15     9400\n",
              "44     9400\n",
              "25     9400\n",
              "90     9400\n",
              "       ... \n",
              "4      6602\n",
              "87     6537\n",
              "16     6496\n",
              "119    6122\n",
              "124    5994\n",
              "Name: count, Length: 127, dtype: int64"
            ],
            "text/html": [
              "<div>\n",
              "<style scoped>\n",
              "    .dataframe tbody tr th:only-of-type {\n",
              "        vertical-align: middle;\n",
              "    }\n",
              "\n",
              "    .dataframe tbody tr th {\n",
              "        vertical-align: top;\n",
              "    }\n",
              "\n",
              "    .dataframe thead th {\n",
              "        text-align: right;\n",
              "    }\n",
              "</style>\n",
              "<table border=\"1\" class=\"dataframe\">\n",
              "  <thead>\n",
              "    <tr style=\"text-align: right;\">\n",
              "      <th></th>\n",
              "      <th>count</th>\n",
              "    </tr>\n",
              "    <tr>\n",
              "      <th>ticker_code</th>\n",
              "      <th></th>\n",
              "    </tr>\n",
              "  </thead>\n",
              "  <tbody>\n",
              "    <tr>\n",
              "      <th>103</th>\n",
              "      <td>9585</td>\n",
              "    </tr>\n",
              "    <tr>\n",
              "      <th>15</th>\n",
              "      <td>9400</td>\n",
              "    </tr>\n",
              "    <tr>\n",
              "      <th>44</th>\n",
              "      <td>9400</td>\n",
              "    </tr>\n",
              "    <tr>\n",
              "      <th>25</th>\n",
              "      <td>9400</td>\n",
              "    </tr>\n",
              "    <tr>\n",
              "      <th>90</th>\n",
              "      <td>9400</td>\n",
              "    </tr>\n",
              "    <tr>\n",
              "      <th>...</th>\n",
              "      <td>...</td>\n",
              "    </tr>\n",
              "    <tr>\n",
              "      <th>4</th>\n",
              "      <td>6602</td>\n",
              "    </tr>\n",
              "    <tr>\n",
              "      <th>87</th>\n",
              "      <td>6537</td>\n",
              "    </tr>\n",
              "    <tr>\n",
              "      <th>16</th>\n",
              "      <td>6496</td>\n",
              "    </tr>\n",
              "    <tr>\n",
              "      <th>119</th>\n",
              "      <td>6122</td>\n",
              "    </tr>\n",
              "    <tr>\n",
              "      <th>124</th>\n",
              "      <td>5994</td>\n",
              "    </tr>\n",
              "  </tbody>\n",
              "</table>\n",
              "<p>127 rows × 1 columns</p>\n",
              "</div><br><label><b>dtype:</b> int64</label>"
            ]
          },
          "metadata": {},
          "execution_count": 33
        }
      ],
      "source": [
        "df_1hour['ticker_code'].value_counts()"
      ]
    },
    {
      "cell_type": "code",
      "execution_count": 34,
      "id": "cc767f72-c361-4cc7-8b4b-afe2abd6dbda",
      "metadata": {
        "colab": {
          "base_uri": "https://localhost:8080/"
        },
        "id": "cc767f72-c361-4cc7-8b4b-afe2abd6dbda",
        "outputId": "86a3acee-8850-4814-b318-e7e896ef7df6"
      },
      "outputs": [
        {
          "output_type": "execute_result",
          "data": {
            "text/plain": [
              "126"
            ]
          },
          "metadata": {},
          "execution_count": 34
        }
      ],
      "source": [
        "df_1hour['ticker_code'].max()"
      ]
    },
    {
      "cell_type": "code",
      "execution_count": 34,
      "id": "afBnMaADhzNg",
      "metadata": {
        "id": "afBnMaADhzNg"
      },
      "outputs": [],
      "source": []
    },
    {
      "cell_type": "code",
      "execution_count": 35,
      "id": "5dc4e0f3-13d6-4d3b-9b28-461351c6b2d8",
      "metadata": {
        "colab": {
          "base_uri": "https://localhost:8080/"
        },
        "id": "5dc4e0f3-13d6-4d3b-9b28-461351c6b2d8",
        "outputId": "0d53f18c-b76d-4130-92ed-7a253d23b09e"
      },
      "outputs": [
        {
          "output_type": "execute_result",
          "data": {
            "text/plain": [
              "126"
            ]
          },
          "metadata": {},
          "execution_count": 35
        }
      ],
      "source": [
        "df_1hour.loc[mask_train, 'ticker_code'].max()"
      ]
    },
    {
      "cell_type": "code",
      "execution_count": 36,
      "id": "vz7buHMyhacI",
      "metadata": {
        "colab": {
          "base_uri": "https://localhost:8080/"
        },
        "id": "vz7buHMyhacI",
        "outputId": "484c3e1c-2071-43f1-be56-52699d9cec2b"
      },
      "outputs": [
        {
          "output_type": "execute_result",
          "data": {
            "text/plain": [
              "1759"
            ]
          },
          "metadata": {},
          "execution_count": 36
        }
      ],
      "source": [
        "pd.set_option(\"display.max_rows\", 20)\n",
        "df_1hour.loc[mask_train, 'ticker_code'].value_counts().min()"
      ]
    },
    {
      "cell_type": "code",
      "execution_count": 36,
      "id": "Fbmusqy1haei",
      "metadata": {
        "id": "Fbmusqy1haei"
      },
      "outputs": [],
      "source": []
    },
    {
      "cell_type": "code",
      "execution_count": 37,
      "id": "71d483dc-c3f4-4287-984e-236e5c40b975",
      "metadata": {
        "id": "71d483dc-c3f4-4287-984e-236e5c40b975"
      },
      "outputs": [],
      "source": [
        "#dict(enumerate(df_1hour['ticker'].astype('category').cat.categories))"
      ]
    },
    {
      "cell_type": "code",
      "execution_count": 38,
      "id": "ab22b290-0db5-4a61-8d5b-8a206103767d",
      "metadata": {
        "colab": {
          "base_uri": "https://localhost:8080/",
          "height": 391
        },
        "id": "ab22b290-0db5-4a61-8d5b-8a206103767d",
        "outputId": "e236792c-fd33-44e1-ebf9-8b6e53d13a37"
      },
      "outputs": [
        {
          "output_type": "execute_result",
          "data": {
            "text/plain": [
              "                     time      close ticker  index_1day result  \\\n",
              "index                                                            \n",
              "0     2022-05-04 10:00:00  32.099998   AFLT         NaN   LOSE   \n",
              "1     2022-05-04 11:00:00  31.379999   AFLT         NaN   LOSE   \n",
              "2     2022-05-04 12:00:00  31.799999   AFLT         NaN   LOSE   \n",
              "3     2022-05-04 13:00:00  31.360001   AFLT         NaN   LOSE   \n",
              "4     2022-05-04 14:00:00  31.540001   AFLT         NaN   LOSE   \n",
              "\n",
              "           delta_time  income_rate  res_price  res_ind  close_w1_roc  ...  \\\n",
              "index                                                                 ...   \n",
              "0     0 days 01:00:00         0.98  31.379999        1           NaN  ...   \n",
              "1     1 days 05:00:00         0.98  30.639999       15     -2.317642  ...   \n",
              "2     0 days 04:00:00         0.98  31.160000        6      1.368788  ...   \n",
              "3     1 days 03:00:00         0.98  30.639999       15     -1.433103  ...   \n",
              "4     1 days 02:00:00         0.98  30.639999       15      0.581922  ...   \n",
              "\n",
              "       volume_w5_min/volume_w5_max  tmos_close_w5_min/tmos_close_w5_max  \\\n",
              "index                                                                     \n",
              "0                         5.643632                             1.036863   \n",
              "1                         1.380160                            -1.689319   \n",
              "2                        -0.020518                            -1.689319   \n",
              "3                        -0.038668                            -1.689319   \n",
              "4                        -0.288390                            -1.689319   \n",
              "\n",
              "       close_w14_min/close_w14_max  volume_w14_min/volume_w14_max  \\\n",
              "index                                                               \n",
              "0                         1.042237                      21.063971   \n",
              "1                         0.229805                       7.354105   \n",
              "2                         0.229805                       2.850006   \n",
              "3                         0.207239                       2.791642   \n",
              "4                         0.207239                       1.988620   \n",
              "\n",
              "       tmos_close_w14_min/tmos_close_w14_max  close_w70_min/close_w70_max  \\\n",
              "index                                                                       \n",
              "0                                   1.284413                     1.321434   \n",
              "1                                  -0.190400                     0.939100   \n",
              "2                                  -0.190400                     0.939100   \n",
              "3                                  -0.190400                     0.928480   \n",
              "4                                  -0.190400                     0.928480   \n",
              "\n",
              "       volume_w70_min/volume_w70_max  tmos_close_w70_min/tmos_close_w70_max  \\\n",
              "index                                                                         \n",
              "0                          54.356834                               1.647947   \n",
              "1                          20.340071                               0.998780   \n",
              "2                           9.164550                               0.998780   \n",
              "3                           9.019738                               0.998780   \n",
              "4                           7.027290                               0.998780   \n",
              "\n",
              "       target  ticker_code  \n",
              "index                       \n",
              "0           0            3  \n",
              "1           0            3  \n",
              "2           0            3  \n",
              "3           0            3  \n",
              "4           0            3  \n",
              "\n",
              "[5 rows x 245 columns]"
            ],
            "text/html": [
              "\n",
              "  <div id=\"df-439df56d-299c-4147-a5fa-93ce51d04a77\" class=\"colab-df-container\">\n",
              "    <div>\n",
              "<style scoped>\n",
              "    .dataframe tbody tr th:only-of-type {\n",
              "        vertical-align: middle;\n",
              "    }\n",
              "\n",
              "    .dataframe tbody tr th {\n",
              "        vertical-align: top;\n",
              "    }\n",
              "\n",
              "    .dataframe thead th {\n",
              "        text-align: right;\n",
              "    }\n",
              "</style>\n",
              "<table border=\"1\" class=\"dataframe\">\n",
              "  <thead>\n",
              "    <tr style=\"text-align: right;\">\n",
              "      <th></th>\n",
              "      <th>time</th>\n",
              "      <th>close</th>\n",
              "      <th>ticker</th>\n",
              "      <th>index_1day</th>\n",
              "      <th>result</th>\n",
              "      <th>delta_time</th>\n",
              "      <th>income_rate</th>\n",
              "      <th>res_price</th>\n",
              "      <th>res_ind</th>\n",
              "      <th>close_w1_roc</th>\n",
              "      <th>...</th>\n",
              "      <th>volume_w5_min/volume_w5_max</th>\n",
              "      <th>tmos_close_w5_min/tmos_close_w5_max</th>\n",
              "      <th>close_w14_min/close_w14_max</th>\n",
              "      <th>volume_w14_min/volume_w14_max</th>\n",
              "      <th>tmos_close_w14_min/tmos_close_w14_max</th>\n",
              "      <th>close_w70_min/close_w70_max</th>\n",
              "      <th>volume_w70_min/volume_w70_max</th>\n",
              "      <th>tmos_close_w70_min/tmos_close_w70_max</th>\n",
              "      <th>target</th>\n",
              "      <th>ticker_code</th>\n",
              "    </tr>\n",
              "    <tr>\n",
              "      <th>index</th>\n",
              "      <th></th>\n",
              "      <th></th>\n",
              "      <th></th>\n",
              "      <th></th>\n",
              "      <th></th>\n",
              "      <th></th>\n",
              "      <th></th>\n",
              "      <th></th>\n",
              "      <th></th>\n",
              "      <th></th>\n",
              "      <th></th>\n",
              "      <th></th>\n",
              "      <th></th>\n",
              "      <th></th>\n",
              "      <th></th>\n",
              "      <th></th>\n",
              "      <th></th>\n",
              "      <th></th>\n",
              "      <th></th>\n",
              "      <th></th>\n",
              "      <th></th>\n",
              "    </tr>\n",
              "  </thead>\n",
              "  <tbody>\n",
              "    <tr>\n",
              "      <th>0</th>\n",
              "      <td>2022-05-04 10:00:00</td>\n",
              "      <td>32.099998</td>\n",
              "      <td>AFLT</td>\n",
              "      <td>NaN</td>\n",
              "      <td>LOSE</td>\n",
              "      <td>0 days 01:00:00</td>\n",
              "      <td>0.98</td>\n",
              "      <td>31.379999</td>\n",
              "      <td>1</td>\n",
              "      <td>NaN</td>\n",
              "      <td>...</td>\n",
              "      <td>5.643632</td>\n",
              "      <td>1.036863</td>\n",
              "      <td>1.042237</td>\n",
              "      <td>21.063971</td>\n",
              "      <td>1.284413</td>\n",
              "      <td>1.321434</td>\n",
              "      <td>54.356834</td>\n",
              "      <td>1.647947</td>\n",
              "      <td>0</td>\n",
              "      <td>3</td>\n",
              "    </tr>\n",
              "    <tr>\n",
              "      <th>1</th>\n",
              "      <td>2022-05-04 11:00:00</td>\n",
              "      <td>31.379999</td>\n",
              "      <td>AFLT</td>\n",
              "      <td>NaN</td>\n",
              "      <td>LOSE</td>\n",
              "      <td>1 days 05:00:00</td>\n",
              "      <td>0.98</td>\n",
              "      <td>30.639999</td>\n",
              "      <td>15</td>\n",
              "      <td>-2.317642</td>\n",
              "      <td>...</td>\n",
              "      <td>1.380160</td>\n",
              "      <td>-1.689319</td>\n",
              "      <td>0.229805</td>\n",
              "      <td>7.354105</td>\n",
              "      <td>-0.190400</td>\n",
              "      <td>0.939100</td>\n",
              "      <td>20.340071</td>\n",
              "      <td>0.998780</td>\n",
              "      <td>0</td>\n",
              "      <td>3</td>\n",
              "    </tr>\n",
              "    <tr>\n",
              "      <th>2</th>\n",
              "      <td>2022-05-04 12:00:00</td>\n",
              "      <td>31.799999</td>\n",
              "      <td>AFLT</td>\n",
              "      <td>NaN</td>\n",
              "      <td>LOSE</td>\n",
              "      <td>0 days 04:00:00</td>\n",
              "      <td>0.98</td>\n",
              "      <td>31.160000</td>\n",
              "      <td>6</td>\n",
              "      <td>1.368788</td>\n",
              "      <td>...</td>\n",
              "      <td>-0.020518</td>\n",
              "      <td>-1.689319</td>\n",
              "      <td>0.229805</td>\n",
              "      <td>2.850006</td>\n",
              "      <td>-0.190400</td>\n",
              "      <td>0.939100</td>\n",
              "      <td>9.164550</td>\n",
              "      <td>0.998780</td>\n",
              "      <td>0</td>\n",
              "      <td>3</td>\n",
              "    </tr>\n",
              "    <tr>\n",
              "      <th>3</th>\n",
              "      <td>2022-05-04 13:00:00</td>\n",
              "      <td>31.360001</td>\n",
              "      <td>AFLT</td>\n",
              "      <td>NaN</td>\n",
              "      <td>LOSE</td>\n",
              "      <td>1 days 03:00:00</td>\n",
              "      <td>0.98</td>\n",
              "      <td>30.639999</td>\n",
              "      <td>15</td>\n",
              "      <td>-1.433103</td>\n",
              "      <td>...</td>\n",
              "      <td>-0.038668</td>\n",
              "      <td>-1.689319</td>\n",
              "      <td>0.207239</td>\n",
              "      <td>2.791642</td>\n",
              "      <td>-0.190400</td>\n",
              "      <td>0.928480</td>\n",
              "      <td>9.019738</td>\n",
              "      <td>0.998780</td>\n",
              "      <td>0</td>\n",
              "      <td>3</td>\n",
              "    </tr>\n",
              "    <tr>\n",
              "      <th>4</th>\n",
              "      <td>2022-05-04 14:00:00</td>\n",
              "      <td>31.540001</td>\n",
              "      <td>AFLT</td>\n",
              "      <td>NaN</td>\n",
              "      <td>LOSE</td>\n",
              "      <td>1 days 02:00:00</td>\n",
              "      <td>0.98</td>\n",
              "      <td>30.639999</td>\n",
              "      <td>15</td>\n",
              "      <td>0.581922</td>\n",
              "      <td>...</td>\n",
              "      <td>-0.288390</td>\n",
              "      <td>-1.689319</td>\n",
              "      <td>0.207239</td>\n",
              "      <td>1.988620</td>\n",
              "      <td>-0.190400</td>\n",
              "      <td>0.928480</td>\n",
              "      <td>7.027290</td>\n",
              "      <td>0.998780</td>\n",
              "      <td>0</td>\n",
              "      <td>3</td>\n",
              "    </tr>\n",
              "  </tbody>\n",
              "</table>\n",
              "<p>5 rows × 245 columns</p>\n",
              "</div>\n",
              "    <div class=\"colab-df-buttons\">\n",
              "\n",
              "  <div class=\"colab-df-container\">\n",
              "    <button class=\"colab-df-convert\" onclick=\"convertToInteractive('df-439df56d-299c-4147-a5fa-93ce51d04a77')\"\n",
              "            title=\"Convert this dataframe to an interactive table.\"\n",
              "            style=\"display:none;\">\n",
              "\n",
              "  <svg xmlns=\"http://www.w3.org/2000/svg\" height=\"24px\" viewBox=\"0 -960 960 960\">\n",
              "    <path d=\"M120-120v-720h720v720H120Zm60-500h600v-160H180v160Zm220 220h160v-160H400v160Zm0 220h160v-160H400v160ZM180-400h160v-160H180v160Zm440 0h160v-160H620v160ZM180-180h160v-160H180v160Zm440 0h160v-160H620v160Z\"/>\n",
              "  </svg>\n",
              "    </button>\n",
              "\n",
              "  <style>\n",
              "    .colab-df-container {\n",
              "      display:flex;\n",
              "      gap: 12px;\n",
              "    }\n",
              "\n",
              "    .colab-df-convert {\n",
              "      background-color: #E8F0FE;\n",
              "      border: none;\n",
              "      border-radius: 50%;\n",
              "      cursor: pointer;\n",
              "      display: none;\n",
              "      fill: #1967D2;\n",
              "      height: 32px;\n",
              "      padding: 0 0 0 0;\n",
              "      width: 32px;\n",
              "    }\n",
              "\n",
              "    .colab-df-convert:hover {\n",
              "      background-color: #E2EBFA;\n",
              "      box-shadow: 0px 1px 2px rgba(60, 64, 67, 0.3), 0px 1px 3px 1px rgba(60, 64, 67, 0.15);\n",
              "      fill: #174EA6;\n",
              "    }\n",
              "\n",
              "    .colab-df-buttons div {\n",
              "      margin-bottom: 4px;\n",
              "    }\n",
              "\n",
              "    [theme=dark] .colab-df-convert {\n",
              "      background-color: #3B4455;\n",
              "      fill: #D2E3FC;\n",
              "    }\n",
              "\n",
              "    [theme=dark] .colab-df-convert:hover {\n",
              "      background-color: #434B5C;\n",
              "      box-shadow: 0px 1px 3px 1px rgba(0, 0, 0, 0.15);\n",
              "      filter: drop-shadow(0px 1px 2px rgba(0, 0, 0, 0.3));\n",
              "      fill: #FFFFFF;\n",
              "    }\n",
              "  </style>\n",
              "\n",
              "    <script>\n",
              "      const buttonEl =\n",
              "        document.querySelector('#df-439df56d-299c-4147-a5fa-93ce51d04a77 button.colab-df-convert');\n",
              "      buttonEl.style.display =\n",
              "        google.colab.kernel.accessAllowed ? 'block' : 'none';\n",
              "\n",
              "      async function convertToInteractive(key) {\n",
              "        const element = document.querySelector('#df-439df56d-299c-4147-a5fa-93ce51d04a77');\n",
              "        const dataTable =\n",
              "          await google.colab.kernel.invokeFunction('convertToInteractive',\n",
              "                                                    [key], {});\n",
              "        if (!dataTable) return;\n",
              "\n",
              "        const docLinkHtml = 'Like what you see? Visit the ' +\n",
              "          '<a target=\"_blank\" href=https://colab.research.google.com/notebooks/data_table.ipynb>data table notebook</a>'\n",
              "          + ' to learn more about interactive tables.';\n",
              "        element.innerHTML = '';\n",
              "        dataTable['output_type'] = 'display_data';\n",
              "        await google.colab.output.renderOutput(dataTable, element);\n",
              "        const docLink = document.createElement('div');\n",
              "        docLink.innerHTML = docLinkHtml;\n",
              "        element.appendChild(docLink);\n",
              "      }\n",
              "    </script>\n",
              "  </div>\n",
              "\n",
              "\n",
              "<div id=\"df-350df538-09d2-4160-a9ab-ea7e31b03dbd\">\n",
              "  <button class=\"colab-df-quickchart\" onclick=\"quickchart('df-350df538-09d2-4160-a9ab-ea7e31b03dbd')\"\n",
              "            title=\"Suggest charts\"\n",
              "            style=\"display:none;\">\n",
              "\n",
              "<svg xmlns=\"http://www.w3.org/2000/svg\" height=\"24px\"viewBox=\"0 0 24 24\"\n",
              "     width=\"24px\">\n",
              "    <g>\n",
              "        <path d=\"M19 3H5c-1.1 0-2 .9-2 2v14c0 1.1.9 2 2 2h14c1.1 0 2-.9 2-2V5c0-1.1-.9-2-2-2zM9 17H7v-7h2v7zm4 0h-2V7h2v10zm4 0h-2v-4h2v4z\"/>\n",
              "    </g>\n",
              "</svg>\n",
              "  </button>\n",
              "\n",
              "<style>\n",
              "  .colab-df-quickchart {\n",
              "      --bg-color: #E8F0FE;\n",
              "      --fill-color: #1967D2;\n",
              "      --hover-bg-color: #E2EBFA;\n",
              "      --hover-fill-color: #174EA6;\n",
              "      --disabled-fill-color: #AAA;\n",
              "      --disabled-bg-color: #DDD;\n",
              "  }\n",
              "\n",
              "  [theme=dark] .colab-df-quickchart {\n",
              "      --bg-color: #3B4455;\n",
              "      --fill-color: #D2E3FC;\n",
              "      --hover-bg-color: #434B5C;\n",
              "      --hover-fill-color: #FFFFFF;\n",
              "      --disabled-bg-color: #3B4455;\n",
              "      --disabled-fill-color: #666;\n",
              "  }\n",
              "\n",
              "  .colab-df-quickchart {\n",
              "    background-color: var(--bg-color);\n",
              "    border: none;\n",
              "    border-radius: 50%;\n",
              "    cursor: pointer;\n",
              "    display: none;\n",
              "    fill: var(--fill-color);\n",
              "    height: 32px;\n",
              "    padding: 0;\n",
              "    width: 32px;\n",
              "  }\n",
              "\n",
              "  .colab-df-quickchart:hover {\n",
              "    background-color: var(--hover-bg-color);\n",
              "    box-shadow: 0 1px 2px rgba(60, 64, 67, 0.3), 0 1px 3px 1px rgba(60, 64, 67, 0.15);\n",
              "    fill: var(--button-hover-fill-color);\n",
              "  }\n",
              "\n",
              "  .colab-df-quickchart-complete:disabled,\n",
              "  .colab-df-quickchart-complete:disabled:hover {\n",
              "    background-color: var(--disabled-bg-color);\n",
              "    fill: var(--disabled-fill-color);\n",
              "    box-shadow: none;\n",
              "  }\n",
              "\n",
              "  .colab-df-spinner {\n",
              "    border: 2px solid var(--fill-color);\n",
              "    border-color: transparent;\n",
              "    border-bottom-color: var(--fill-color);\n",
              "    animation:\n",
              "      spin 1s steps(1) infinite;\n",
              "  }\n",
              "\n",
              "  @keyframes spin {\n",
              "    0% {\n",
              "      border-color: transparent;\n",
              "      border-bottom-color: var(--fill-color);\n",
              "      border-left-color: var(--fill-color);\n",
              "    }\n",
              "    20% {\n",
              "      border-color: transparent;\n",
              "      border-left-color: var(--fill-color);\n",
              "      border-top-color: var(--fill-color);\n",
              "    }\n",
              "    30% {\n",
              "      border-color: transparent;\n",
              "      border-left-color: var(--fill-color);\n",
              "      border-top-color: var(--fill-color);\n",
              "      border-right-color: var(--fill-color);\n",
              "    }\n",
              "    40% {\n",
              "      border-color: transparent;\n",
              "      border-right-color: var(--fill-color);\n",
              "      border-top-color: var(--fill-color);\n",
              "    }\n",
              "    60% {\n",
              "      border-color: transparent;\n",
              "      border-right-color: var(--fill-color);\n",
              "    }\n",
              "    80% {\n",
              "      border-color: transparent;\n",
              "      border-right-color: var(--fill-color);\n",
              "      border-bottom-color: var(--fill-color);\n",
              "    }\n",
              "    90% {\n",
              "      border-color: transparent;\n",
              "      border-bottom-color: var(--fill-color);\n",
              "    }\n",
              "  }\n",
              "</style>\n",
              "\n",
              "  <script>\n",
              "    async function quickchart(key) {\n",
              "      const quickchartButtonEl =\n",
              "        document.querySelector('#' + key + ' button');\n",
              "      quickchartButtonEl.disabled = true;  // To prevent multiple clicks.\n",
              "      quickchartButtonEl.classList.add('colab-df-spinner');\n",
              "      try {\n",
              "        const charts = await google.colab.kernel.invokeFunction(\n",
              "            'suggestCharts', [key], {});\n",
              "      } catch (error) {\n",
              "        console.error('Error during call to suggestCharts:', error);\n",
              "      }\n",
              "      quickchartButtonEl.classList.remove('colab-df-spinner');\n",
              "      quickchartButtonEl.classList.add('colab-df-quickchart-complete');\n",
              "    }\n",
              "    (() => {\n",
              "      let quickchartButtonEl =\n",
              "        document.querySelector('#df-350df538-09d2-4160-a9ab-ea7e31b03dbd button');\n",
              "      quickchartButtonEl.style.display =\n",
              "        google.colab.kernel.accessAllowed ? 'block' : 'none';\n",
              "    })();\n",
              "  </script>\n",
              "</div>\n",
              "    </div>\n",
              "  </div>\n"
            ],
            "application/vnd.google.colaboratory.intrinsic+json": {
              "type": "dataframe",
              "variable_name": "df_1hour"
            }
          },
          "metadata": {},
          "execution_count": 38
        }
      ],
      "source": [
        "df_1hour.head()"
      ]
    },
    {
      "cell_type": "code",
      "execution_count": 38,
      "id": "edbaa619-a8eb-450f-8a7b-d6236955a589",
      "metadata": {
        "id": "edbaa619-a8eb-450f-8a7b-d6236955a589"
      },
      "outputs": [],
      "source": []
    },
    {
      "cell_type": "code",
      "execution_count": null,
      "id": "0d828923-fe36-4953-ade7-d85164656fd5",
      "metadata": {
        "id": "0d828923-fe36-4953-ade7-d85164656fd5"
      },
      "outputs": [],
      "source": []
    },
    {
      "cell_type": "markdown",
      "id": "7dcb87a0-2104-44f2-bace-fe196494964f",
      "metadata": {
        "id": "7dcb87a0-2104-44f2-bace-fe196494964f"
      },
      "source": [
        "#### 4.1 PyDataset"
      ]
    },
    {
      "cell_type": "code",
      "execution_count": 41,
      "id": "cbcf5b43-e72d-4821-97b5-4cc40e19477c",
      "metadata": {
        "id": "cbcf5b43-e72d-4821-97b5-4cc40e19477c"
      },
      "outputs": [],
      "source": [
        "class CandleData:\n",
        "    def __init__(self, df_1hour, df_1day):\n",
        "        self.df_1hour = df_1hour\n",
        "        self.df_1day = df_1day\n",
        "        self.make_np_arr_data()\n",
        "\n",
        "    def make_np_arr_data(self):\n",
        "\n",
        "        #1hour\n",
        "        cols_include = ['tmos_close_w1_roc', 'tmos_close_w5_norm_std', 'tmos_close_w5_rsi',\n",
        "        'tmos_close_w5_roc', 'close_w14_norm_std',\n",
        "        'close_w14_mean_abs_pct', 'volume_w14_norm_std',\n",
        "        'volume_w14_mean_abs_pct', 'volume_w14_roc',\n",
        "        'tmos_close_w14_norm_std', 'close_w70_lvl_1.005-1.01',\n",
        "        'close_w70_lvl_1.01-1.02', 'close_w70_lvl_-0.98-0.99',\n",
        "        'close_w70_lvl_1.02-1.03', 'volume_w70_mean_abs_pct',\n",
        "        'volume_w70_roc', 'tmos_close_w70_lvl_1-1.005',\n",
        "        'tmos_close_w70_lvl_1.005-1.01', 'tmos_close_w70_lvl_1.01-1.015',\n",
        "        'close_w1_roc/close_w5_alpha', 'close_w1_roc/close_w14_alpha',\n",
        "        'close_w1_roc/close_w70_alpha',\n",
        "        'tmos_close_w1_roc/tmos_close_w5_alpha',\n",
        "        'volume_w1_roc/volume_w70_roc', 'volume_w5_roc/volume_w14_roc',\n",
        "        'tmos_close_w1_roc/tmos_close_w5_roc',\n",
        "        'close_w5_mean_abs_pct/close_w70_mean_abs_pct',\n",
        "        'close_w14_mean_abs_pct/close_w70_mean_abs_pct',\n",
        "        'volume_w14_mean_abs_pct/volume_w70_mean_abs_pct',\n",
        "        'tmos_close_w5_std/tmos_close_w14_std',\n",
        "        'tmos_close_w5_norm_std/tmos_close_w14_norm_std',\n",
        "        'close/close_w70_ma', 'close_w5_ma/close_w70_ma',\n",
        "        'close_w14_ma/close_w70_ma', 'tmos_close/tmos_close_w5_ma',\n",
        "        'tmos_close/tmos_close_w70_ma',\n",
        "        'tmos_close_w5_ma/tmos_close_w14_ma',\n",
        "        'tmos_close_w14_ma/tmos_close_w70_ma', 'volume_w14_min/volume',\n",
        "        'close_w5_max/close', 'close_w14_max/close',\n",
        "        'tmos_close_w14_max/tmos_close', 'close_w5_ma_up_2std/close',\n",
        "        'tmos_close_w5_ma_low_2std/tmos_close',\n",
        "        'tmos_close_w5_ma_up_2std/tmos_close',\n",
        "        'tmos_close_w5_ma_low_3std/tmos_close',\n",
        "        'tmos_close_w5_ma_up_3std/tmos_close',\n",
        "        'close_w14_ma_low_3std/close',\n",
        "        'tmos_close_w14_ma_up_3std/tmos_close',\n",
        "        'tmos_close_w5_min/tmos_close_w5_max',\n",
        "        'close_w14_min/close_w14_max', 'volume_w14_min/volume_w14_max',\n",
        "        'volume_w70_min/volume_w70_max', 'close_1day_w1_roc',\n",
        "        'close_1day_w3_roc', 'tmos_close_1day_w3_alpha',\n",
        "        'tmos_close_1day_w3_roc', 'close_1day_w5_norm_std',\n",
        "        'close_1day_w5_roc', 'volume_1day_w5_roc',\n",
        "        'tmos_close_1day_w5_norm_std', 'close_1day_w20_norm_std',\n",
        "        'close_1day_w20_roc', 'close_1day_w20_lvl_1-1.005',\n",
        "        'close_1day_w20_lvl_-0.995-1', 'close_1day_w20_lvl_1.005-1.01',\n",
        "        'close_1day_w20_lvl_1.02-1.03', 'close_1day_w20_lvl_1.03-1.04',\n",
        "        'volume_1day_w20_rsi', 'tmos_close_1day_w20_rsi',\n",
        "        'close_1day_w100_lvl_1-1.005', 'close_1day_w100_lvl_-0.995-1',\n",
        "        'close_1day_w100_lvl_1.005-1.01',\n",
        "        'close_1day_w100_lvl_-0.99-0.995', 'close_1day_w100_lvl_1.01-1.02',\n",
        "        'close_1day_w100_lvl_1.02-1.03', 'close_1day_w100_lvl_-0.97-0.98',\n",
        "        'close_1day_w100_lvl_-0.96-0.97', 'close_1day_w100_lvl_-0.95-0.96',\n",
        "        'close_1day_w100_lvl_-0.9299999999999999-0.95',\n",
        "        'close_1day_w1_roc/close_1day_w5_alpha',\n",
        "        'close_1day_w3_alpha/close_1day_w5_alpha',\n",
        "        'close_1day_w5_alpha/close_1day_w100_alpha',\n",
        "        'close_1day_w1_roc/close_1day_w3_roc',\n",
        "        'close_1day_w3_roc/close_1day_w20_roc',\n",
        "        'close_1day_w5_roc/close_1day_w20_roc',\n",
        "        'close_1day_w5_roc/close_1day_w100_roc',\n",
        "        'tmos_close_1day_w3_mean_abs_pct/tmos_close_1day_w20_mean_abs_pct',\n",
        "        'close_1day_w3_std/close_1day_w100_std',\n",
        "        'tmos_close_1day_w5_std/tmos_close_1day_w100_std',\n",
        "        'close_1day_w5_norm_std/close_1day_w100_norm_std',\n",
        "        'close_1day_w20_norm_std/close_1day_w100_norm_std',\n",
        "        'volume_1day_w5_norm_std/volume_1day_w20_norm_std',\n",
        "        'volume_1day_w20_rsi/volume_1day_w100_rsi',\n",
        "        'close_1day/close_1day_w5_ma', 'close_1day/close_1day_w100_ma',\n",
        "        'close_1day_w3_ma/close_1day_w5_ma',\n",
        "        'close_1day_w3_ma/close_1day_w100_ma',\n",
        "        'close_1day_w5_ma/close_1day_w100_ma',\n",
        "        'close_1day_w5_min/close_1day', 'volume_1day_w5_min/volume_1day',\n",
        "        'volume_1day_w20_min/volume_1day',\n",
        "        'close_1day_w5_ma_low_3std/close_1day',\n",
        "        'tmos_close_1day_w5_ma_up_3std/tmos_close_1day',\n",
        "        'tmos_close_1day_w3_min/tmos_close_1day_w3_max',\n",
        "        'close_1day_w5_min/close_1day_w5_max',\n",
        "        'tmos_close_1day_w5_min/tmos_close_1day_w5_max',\n",
        "        'close_1day_w20_min/close_1day_w20_max']\n",
        "\n",
        "        cols_arr_1hour = self.df_1hour.columns[self.df_1hour.columns.isin(cols_include)]\n",
        "        self.arr_1hour = np.array(self.df_1hour[cols_arr_1hour])\n",
        "\n",
        "        #cols index_slice\n",
        "        self.index_time_slice_1hour = self.df_1hour['index_1day'].values\n",
        "\n",
        "        #cols ticker\n",
        "        self.ticker_code_1hour = self.df_1hour['ticker_code'].values\n",
        "\n",
        "\n",
        "        #1day\n",
        "        cols_arr_1day = self.df_1day.columns[self.df_1day.columns.isin(cols_include)]\n",
        "        self.arr_1day = np.array(self.df_1day[cols_arr_1day])\n",
        "\n",
        "        #target\n",
        "        self.target_1hour = self.df_1hour['target'].values\n",
        "\n",
        "        #income_rate\n",
        "        self.income_rate_1hour = self.df_1hour['income_rate'].values"
      ]
    },
    {
      "cell_type": "code",
      "execution_count": 41,
      "id": "31a16cba-4e8d-4bf4-bdea-af358d1c6e56",
      "metadata": {
        "id": "31a16cba-4e8d-4bf4-bdea-af358d1c6e56"
      },
      "outputs": [],
      "source": []
    },
    {
      "cell_type": "code",
      "execution_count": 42,
      "id": "2d1df1f7-5299-4e3d-9810-bb1fc4572335",
      "metadata": {
        "id": "2d1df1f7-5299-4e3d-9810-bb1fc4572335"
      },
      "outputs": [],
      "source": [
        "class dataset(tf.keras.utils.PyDataset):\n",
        "\n",
        "    def __init__(self, data, inds, count_samples=None, len_seq=100,  batch_size=32, shuffle=False, **kwargs):\n",
        "        super().__init__(**kwargs)\n",
        "        self.data = data\n",
        "        self.inds = inds\n",
        "        self.len_seq = len_seq\n",
        "        self.batch_size = batch_size\n",
        "\n",
        "        self.count_samples = count_samples\n",
        "        if self.count_samples is not None:\n",
        "            self.inds = np.random.RandomState(seed=42).permutation(self.inds)\n",
        "\n",
        "        self.shuffle = shuffle\n",
        "        if self.shuffle:\n",
        "            self.inds = np.random.permutation(self.inds)\n",
        "\n",
        "    def __len__(self):\n",
        "        # Return number of batches.\n",
        "        if self.count_samples is None:\n",
        "            return math.ceil(len(self.inds) / self.batch_size)\n",
        "        else:\n",
        "            return math.ceil(self.count_samples / self.batch_size)\n",
        "\n",
        "    def __getitem__(self, idx):\n",
        "        # Return x, y for batch idx.\n",
        "        low = idx * self.batch_size\n",
        "        # Cap upper bound at array length; the last batch may be smaller\n",
        "        # if the total number of items is not a multiple of batch size.\n",
        "        high = min(low + self.batch_size, len(self.inds))\n",
        "        batch_inds = self.inds[low:high]\n",
        "\n",
        "\n",
        "        x_batch = []\n",
        "        x_batch_ticker_code = []\n",
        "        y_batch = []\n",
        "\n",
        "        for i in batch_inds:\n",
        "            # cols_index_time_slice = ['index_start',\n",
        "            #                  'index_1day', 'index_start_1day']\n",
        "\n",
        "            #1hour\n",
        "            ind_high_1hour = i+1\n",
        "            ind_low_1hour = int(ind_high_1hour - self.len_seq)\n",
        "            tensor_1hour = self.data.arr_1hour[ind_low_1hour:ind_high_1hour, :]\n",
        "\n",
        "            #1day\n",
        "            ind_high_1day = int(self.data.index_time_slice_1hour[i] + 1)\n",
        "            ind_low_1day =  int(ind_high_1day - self.len_seq)\n",
        "            tensor_1day = self.data.arr_1day[ind_low_1day:ind_high_1day, :]\n",
        "\n",
        "            #target\n",
        "            y = self.data.target_1hour[i]\n",
        "\n",
        "            #ticker\n",
        "            ticker_code = self.data.ticker_code_1hour[i]\n",
        "\n",
        "\n",
        "            x = np.concatenate((tensor_1hour, tensor_1day), axis=1)\n",
        "\n",
        "            x_batch += [x]\n",
        "            x_batch_ticker_code += [ticker_code]\n",
        "            y_batch += [y]\n",
        "\n",
        "        #return {'input_numeric':  np.array(x_batch), 'input_ticker' : np.array(x_batch_ticker_code)}, np.array(y_batch)\n",
        "        return np.array(x_batch), np.array(y_batch)\n",
        "\n",
        "\n",
        "    def on_epoch_end(self):\n",
        "        if self.shuffle:\n",
        "            self.inds = np.random.permutation(self.inds)"
      ]
    },
    {
      "cell_type": "code",
      "execution_count": 42,
      "id": "731f5a41-0996-4159-b956-b0a9910233cd",
      "metadata": {
        "id": "731f5a41-0996-4159-b956-b0a9910233cd"
      },
      "outputs": [],
      "source": []
    },
    {
      "cell_type": "code",
      "execution_count": 42,
      "id": "b1cebdf7-2c33-4ba7-872d-2facc4d65ed9",
      "metadata": {
        "id": "b1cebdf7-2c33-4ba7-872d-2facc4d65ed9"
      },
      "outputs": [],
      "source": []
    },
    {
      "cell_type": "code",
      "execution_count": 42,
      "id": "5e9f5738-3bb1-4095-9b03-749592172d2d",
      "metadata": {
        "id": "5e9f5738-3bb1-4095-9b03-749592172d2d"
      },
      "outputs": [],
      "source": []
    },
    {
      "cell_type": "code",
      "execution_count": 42,
      "id": "9a568874-9a49-4b7c-9bd6-02de14a41c8c",
      "metadata": {
        "id": "9a568874-9a49-4b7c-9bd6-02de14a41c8c"
      },
      "outputs": [],
      "source": []
    },
    {
      "cell_type": "code",
      "execution_count": 43,
      "id": "e5b555f9-e9c7-4464-b0f8-2323c48d1a0d",
      "metadata": {
        "colab": {
          "base_uri": "https://localhost:8080/"
        },
        "id": "e5b555f9-e9c7-4464-b0f8-2323c48d1a0d",
        "outputId": "2e317d9f-c600-4989-cf89-1d9a48d068cd"
      },
      "outputs": [
        {
          "output_type": "execute_result",
          "data": {
            "text/plain": [
              "(453449, 70129, 74239, 101909)"
            ]
          },
          "metadata": {},
          "execution_count": 43
        }
      ],
      "source": [
        "mask_train.sum(), mask_valid.sum(), mask_test.sum(), mask_test2.sum()"
      ]
    },
    {
      "cell_type": "code",
      "execution_count": 44,
      "id": "620afaf9-f0af-48ab-b66a-8382bb89372e",
      "metadata": {
        "colab": {
          "base_uri": "https://localhost:8080/"
        },
        "id": "620afaf9-f0af-48ab-b66a-8382bb89372e",
        "outputId": "11e37323-f226-4362-ffb8-28bc87593015"
      },
      "outputs": [
        {
          "output_type": "execute_result",
          "data": {
            "text/plain": [
              "(7085, 1095, 1159, 1592)"
            ]
          },
          "metadata": {},
          "execution_count": 44
        }
      ],
      "source": [
        "batch_size = 64\n",
        "mask_train.sum()//batch_size, mask_valid.sum()//batch_size, mask_test.sum()//batch_size, mask_test2.sum()//batch_size"
      ]
    },
    {
      "cell_type": "code",
      "execution_count": 45,
      "id": "e882a733-72ce-40dc-ae5a-4e8d6a998d31",
      "metadata": {
        "id": "e882a733-72ce-40dc-ae5a-4e8d6a998d31"
      },
      "outputs": [],
      "source": [
        "data = CandleData(df_1hour, df_1day)\n",
        "\n",
        "\n",
        "dataset_train = dataset(data, inds_train, count_samples=None, len_seq=100, batch_size=batch_size, shuffle=True)\n",
        "dataset_valid = dataset(data, inds_valid, count_samples=None, len_seq=100, batch_size=batch_size, shuffle=False)\n",
        "dataset_test = dataset(data, inds_test, count_samples=None, len_seq=100, batch_size=batch_size, shuffle=False)\n",
        "dataset_test2 = dataset(data, inds_test2, count_samples=None, len_seq=100, batch_size=batch_size, shuffle=False)"
      ]
    },
    {
      "cell_type": "code",
      "execution_count": 46,
      "id": "535ea209-b85f-45cf-8acf-4a1920663cad",
      "metadata": {
        "colab": {
          "base_uri": "https://localhost:8080/"
        },
        "id": "535ea209-b85f-45cf-8acf-4a1920663cad",
        "outputId": "2e7f1a43-7798-4286-e689-24a7454c5e84"
      },
      "outputs": [
        {
          "output_type": "execute_result",
          "data": {
            "text/plain": [
              "(7086, 1096, 1160, 1593)"
            ]
          },
          "metadata": {},
          "execution_count": 46
        }
      ],
      "source": [
        "len(dataset_train), len(dataset_valid), len(dataset_test), len(dataset_test2)"
      ]
    },
    {
      "cell_type": "code",
      "execution_count": 47,
      "id": "9529f2f0-1dec-4112-b04a-9c5240379f6a",
      "metadata": {
        "colab": {
          "base_uri": "https://localhost:8080/"
        },
        "id": "9529f2f0-1dec-4112-b04a-9c5240379f6a",
        "outputId": "3563b3c6-9434-4c34-8c45-e9d7ce801aea"
      },
      "outputs": [
        {
          "output_type": "execute_result",
          "data": {
            "text/plain": [
              "(453504, 70144, 74240, 101952)"
            ]
          },
          "metadata": {},
          "execution_count": 47
        }
      ],
      "source": [
        "len(dataset_train)*dataset_train.batch_size, len(dataset_valid)*dataset_valid.batch_size, len(dataset_test)*dataset_test.batch_size, len(dataset_test2)*dataset_test2.batch_size"
      ]
    },
    {
      "cell_type": "code",
      "execution_count": 47,
      "id": "e60dc6d7-d7ff-4d3a-b8e4-dbe111aaaec9",
      "metadata": {
        "id": "e60dc6d7-d7ff-4d3a-b8e4-dbe111aaaec9"
      },
      "outputs": [],
      "source": []
    },
    {
      "cell_type": "markdown",
      "id": "3cf6eeff-03a2-4432-9238-bdd15cc60725",
      "metadata": {
        "id": "3cf6eeff-03a2-4432-9238-bdd15cc60725"
      },
      "source": [
        "#### 4.2 Model"
      ]
    },
    {
      "cell_type": "code",
      "execution_count": 48,
      "id": "eebc5b70-5606-4ff1-9a98-c9ce68a5c076",
      "metadata": {
        "id": "eebc5b70-5606-4ff1-9a98-c9ce68a5c076"
      },
      "outputs": [],
      "source": [
        "import math\n",
        "import numpy as np\n",
        "import pandas as pd\n",
        "\n",
        "import tensorflow as tf\n",
        "from tensorflow.keras.models import Model\n",
        "from tensorflow.keras.callbacks import ModelCheckpoint\n",
        "from tensorflow.keras.layers import Input, Dense, Dropout, LayerNormalization, MultiHeadAttention, Add, GlobalAveragePooling1D\n",
        "\n",
        "\n",
        "\n",
        "def transformer_encoder(inputs, head_size, num_heads, ff_dim, dropout=0):\n",
        "    # Attention and Normalization\n",
        "    x = LayerNormalization(epsilon=1e-6)(inputs)\n",
        "    x = MultiHeadAttention(key_dim=head_size, num_heads=num_heads, dropout=dropout)(x, x)\n",
        "    x = Add()([x, inputs])\n",
        "\n",
        "    # Feed Forward Part\n",
        "    y = LayerNormalization(epsilon=1e-6)(x)\n",
        "    y = Dense(ff_dim, activation=\"relu\")(y)\n",
        "    y = Dropout(dropout)(y)\n",
        "    y = Dense(inputs.shape[-1])(y)\n",
        "    return Add()([y, x])\n",
        "\n",
        "\n",
        "def build_transformer_model(input_shape, head_size, num_heads, ff_dim, num_layers, dropout=0):\n",
        "    inputs = Input(shape=input_shape)\n",
        "    x = inputs\n",
        "    for _ in range(num_layers):\n",
        "        x = transformer_encoder(x, head_size, num_heads, ff_dim, dropout)\n",
        "    x = GlobalAveragePooling1D()(x)\n",
        "    x = LayerNormalization(epsilon=1e-6)(x)\n",
        "    outputs = Dense(1, activation=\"sigmoid\")(x)\n",
        "    return Model(inputs=inputs, outputs=outputs)\n",
        "\n",
        "\n",
        "# def build_transformer_model(input_shape, head_size, num_heads, ff_dim, num_layers, dropout=0):\n",
        "#     input_num = tf.keras.layers.Input(shape=input_shape, name='input_numeric')\n",
        "\n",
        "#     ticker_size = 127 #count of stocks\n",
        "#     input_emb = tf.keras.layers.Input(shape=(1,), name='input_ticker')\n",
        "#     emb = tf.keras.layers.Embedding(ticker_size, 7) (input_emb)\n",
        "#     emb_reshaped = tf.keras.layers.Reshape(target_shape=(7,))(emb)\n",
        "#     emb_reshaped_repeat = tf.keras.layers.RepeatVector(input_shape[0])(emb_reshaped)\n",
        "\n",
        "#     x = tf.keras.layers.concatenate([input_num, emb_reshaped_repeat])\n",
        "\n",
        "#     for _ in range(num_layers):\n",
        "#         x = transformer_encoder(x, head_size, num_heads, ff_dim, dropout)\n",
        "#     x = GlobalAveragePooling1D()(x)\n",
        "#     x = LayerNormalization(epsilon=1e-6)(x)\n",
        "\n",
        "#     outputs = Dense(1, activation=\"sigmoid\")(x)\n",
        "\n",
        "#     return Model(inputs=[input_num, input_emb], outputs=outputs)\n",
        "\n",
        "# def build_transformer_model(input_shape, head_size, num_heads, ff_dim, num_layers, dropout=0):\n",
        "#     input_num = tf.keras.layers.Input(shape=input_shape, name='input_numeric')\n",
        "\n",
        "\n",
        "\n",
        "#     x = input_num\n",
        "\n",
        "#     for _ in range(num_layers):\n",
        "#         x = transformer_encoder(x, head_size, num_heads, ff_dim, dropout)\n",
        "#     x = GlobalAveragePooling1D()(x)\n",
        "#     x = LayerNormalization(epsilon=1e-6)(x)\n",
        "\n",
        "\n",
        "#     ticker_size = 18 #count of stocks\n",
        "#     input_emb = tf.keras.layers.Input(shape=(1,), name='input_ticker')\n",
        "#     emb = tf.keras.layers.Embedding(ticker_size, 4) (input_emb)\n",
        "#     emb = tf.keras.layers.Reshape(target_shape=(4,))(emb)\n",
        "\n",
        "#     x = tf.keras.layers.concatenate([x, emb])\n",
        "\n",
        "#     outputs = Dense(1, activation=\"sigmoid\")(x)\n",
        "\n",
        "#     return Model(inputs=[input_num, input_emb], outputs=outputs)"
      ]
    },
    {
      "cell_type": "code",
      "execution_count": 48,
      "id": "a779075b-6b41-4dc3-ae5d-55b29b0a83a4",
      "metadata": {
        "id": "a779075b-6b41-4dc3-ae5d-55b29b0a83a4"
      },
      "outputs": [],
      "source": []
    },
    {
      "cell_type": "code",
      "execution_count": 48,
      "id": "24e87430-2588-4435-87c5-35720a25ab85",
      "metadata": {
        "id": "24e87430-2588-4435-87c5-35720a25ab85"
      },
      "outputs": [],
      "source": []
    },
    {
      "cell_type": "markdown",
      "id": "5c3029d2-759b-45a0-b7b0-c55abe1597cc",
      "metadata": {
        "id": "5c3029d2-759b-45a0-b7b0-c55abe1597cc"
      },
      "source": [
        "#### 4.3 WarmUpCosineDecay"
      ]
    },
    {
      "cell_type": "code",
      "execution_count": 49,
      "id": "fc9bdc1f-770b-4af1-ac3f-de0b9984a8ea",
      "metadata": {
        "id": "fc9bdc1f-770b-4af1-ac3f-de0b9984a8ea"
      },
      "outputs": [],
      "source": [
        "from tensorflow import keras\n",
        "\n",
        "def lr_warmup_cosine_decay(global_step,\n",
        "                           warmup_steps,\n",
        "                           hold = 0,\n",
        "                           total_steps=0,\n",
        "                           start_lr=0.0,\n",
        "                           target_lr=1e-3):\n",
        "    # Cosine decay\n",
        "    # There is no tf.pi so we wrap np.pi as a TF constant\n",
        "    #learning_rate = 0.5 * target_lr * (1 + tf.cos(tf.constant(np.pi) * (global_step - warmup_steps - hold) / float(total_steps - warmup_steps - hold)))\n",
        "    learning_rate = 0.5 * target_lr * (1 + tf.cos(tf.constant(np.pi) * tf.cast((global_step - warmup_steps - hold), tf.float32) / tf.cast(total_steps - warmup_steps - hold, tf.float32)))\n",
        "\n",
        "\n",
        "    # Target LR * progress of warmup (=1 at the final warmup step)\n",
        "    warmup_lr = target_lr * (global_step / warmup_steps)\n",
        "\n",
        "    # Choose between `warmup_lr`, `target_lr` and `learning_rate` based on whether `global_step < warmup_steps` and we're still holding.\n",
        "    # i.e. warm up if we're still warming up and use cosine decayed lr otherwise\n",
        "    if hold > 0:\n",
        "        learning_rate = tf.where(global_step > warmup_steps + hold,\n",
        "                                 learning_rate, target_lr)\n",
        "\n",
        "    learning_rate = tf.where(global_step < warmup_steps, warmup_lr, learning_rate)\n",
        "\n",
        "    return learning_rate\n",
        "\n",
        "\n",
        "class WarmUpCosineDecay(keras.optimizers.schedules.LearningRateSchedule):\n",
        "    def __init__(self, start_lr, target_lr, warmup_steps, total_steps, hold):\n",
        "        super().__init__()\n",
        "        self.start_lr = start_lr\n",
        "        self.target_lr = target_lr\n",
        "        self.warmup_steps = warmup_steps\n",
        "        self.total_steps = total_steps\n",
        "        self.hold = hold\n",
        "\n",
        "    def __call__(self, step):\n",
        "        lr = lr_warmup_cosine_decay(global_step=step,\n",
        "                                    total_steps=self.total_steps,\n",
        "                                    warmup_steps=self.warmup_steps,\n",
        "                                    start_lr=self.start_lr,\n",
        "                                    target_lr=self.target_lr,\n",
        "                                    hold=self.hold)\n",
        "\n",
        "        return tf.where(\n",
        "            step > self.total_steps, 0.0, lr, name=\"learning_rate\"\n",
        "        )\n",
        "    def get_config(self):\n",
        "        config = {\n",
        "          'start_lr': self.start_lr,\n",
        "          'target_lr': self.target_lr,\n",
        "          'warmup_steps': self.warmup_steps,\n",
        "          'total_steps': self.total_steps,\n",
        "          'hold': self.hold\n",
        "        }\n",
        "        return config\n",
        "\n"
      ]
    },
    {
      "cell_type": "code",
      "execution_count": 49,
      "id": "2895fde1-004c-4432-8e07-31854dc32e17",
      "metadata": {
        "id": "2895fde1-004c-4432-8e07-31854dc32e17"
      },
      "outputs": [],
      "source": []
    },
    {
      "cell_type": "markdown",
      "id": "2785b48a-7912-4e28-9b81-01f2102ac9c1",
      "metadata": {
        "id": "2785b48a-7912-4e28-9b81-01f2102ac9c1"
      },
      "source": [
        "#### 4.4 Callbacks"
      ]
    },
    {
      "cell_type": "code",
      "execution_count": 50,
      "id": "57f56ee3-4de3-427e-a945-d6254ca32ad7",
      "metadata": {
        "id": "57f56ee3-4de3-427e-a945-d6254ca32ad7"
      },
      "outputs": [],
      "source": [
        "# метрики на конец эпохи"
      ]
    },
    {
      "cell_type": "code",
      "execution_count": 51,
      "id": "3d0f7791-22e4-41e8-b8c4-e3dbe55b68b5",
      "metadata": {
        "id": "3d0f7791-22e4-41e8-b8c4-e3dbe55b68b5"
      },
      "outputs": [],
      "source": [
        "def get_y_true(data):\n",
        "    return data.data.target_1hour[data.inds[:len(data)*data.batch_size]]\n",
        "def get_income_rate(data):\n",
        "    return data.data.income_rate_1hour[data.inds[:len(data)*data.batch_size]]\n",
        "\n",
        "def precision(y_true, y_pred, threshold):\n",
        "    mask = y_pred.ravel() > threshold\n",
        "    return mask.sum(), y_true.ravel()[mask].mean()\n",
        "\n",
        "\n",
        "\n",
        "class MetricsCallback(keras.callbacks.Callback):\n",
        "    def __init__(self, datasets):\n",
        "        self.datasets = datasets\n",
        "        self.list_auc = []\n",
        "        self.list_auc_95 = []\n",
        "        self.list_precision = []\n",
        "        self.list_precision_5 = []\n",
        "        self.list_income_rate = []\n",
        "        self.list_income_rate_5 = []\n",
        "        # self.list_percent = []\n",
        "        # self.list_count = []\n",
        "        super(MetricsCallback, self).__init__()\n",
        "\n",
        "    def on_epoch_end(self, epoch, logs=None):\n",
        "\n",
        "        list_y_true = []\n",
        "        list_y_pred = []\n",
        "\n",
        "        list_auc = []\n",
        "        list_auc_95 = []\n",
        "        list_precision = []\n",
        "        list_precision_5 = []\n",
        "        list_income_rate = []\n",
        "        list_income_rate_5 = []\n",
        "        # list_count = []\n",
        "        # list_percent = []\n",
        "        for dataset in self.datasets:\n",
        "            y_true = get_y_true(dataset)\n",
        "            income_rate = get_income_rate(dataset)\n",
        "            y_pred = self.model.predict(dataset)\n",
        "\n",
        "            list_auc += [roc_auc_score(y_true, y_pred)]\n",
        "\n",
        "            #auc_95\n",
        "            threshold = np.quantile(y_pred, q=0.95)\n",
        "            mask = y_pred.ravel() > threshold\n",
        "            list_auc_95 += [roc_auc_score(y_true.ravel()[mask], y_pred.ravel()[mask])]\n",
        "\n",
        "            #precision\n",
        "            threshold = np.quantile(y_pred, q=0.99)\n",
        "            mask = y_pred.ravel() > threshold\n",
        "            list_precision += [y_true.ravel()[mask].mean()]\n",
        "\n",
        "            threshold = np.quantile(y_pred, q=0.95)\n",
        "            mask = y_pred.ravel() > threshold\n",
        "            list_precision_5 += [y_true.ravel()[mask].mean()]\n",
        "\n",
        "            #income_rate\n",
        "            threshold = np.quantile(y_pred, q=0.99)\n",
        "            mask = y_pred.ravel() > threshold\n",
        "            list_income_rate += [income_rate.ravel()[mask].mean()]\n",
        "\n",
        "            threshold = np.quantile(y_pred, q=0.95)\n",
        "            mask = y_pred.ravel() > threshold\n",
        "            list_income_rate_5 += [income_rate.ravel()[mask].mean()]\n",
        "\n",
        "\n",
        "#evaluate using one threshold\n",
        "        # for dataset in self.datasets:\n",
        "        #     y_true = get_y_true(dataset)\n",
        "        #     y_pred = self.model.predict(dataset)\n",
        "\n",
        "        #     list_y_true += [y_true]\n",
        "        #     list_y_pred += [y_pred]\n",
        "\n",
        "\n",
        "        # threshold = np.quantile(list_y_pred[1], q=0.99)\n",
        "\n",
        "        # for y_true, y_pred in zip(list_y_true, list_y_pred):\n",
        "        #     list_auc += [roc_auc_score(y_true, y_pred)]\n",
        "\n",
        "        #     mask = y_pred.ravel() > threshold\n",
        "        #     list_precision += [y_true.ravel()[mask].mean()]\n",
        "        #     list_count += [mask.sum()]\n",
        "        #     list_percent += [mask.mean()]\n",
        "\n",
        "        # del list_y_true, list_y_pred\n",
        "        # gc.collect()\n",
        "\n",
        "\n",
        "\n",
        "        self.list_auc += [list_auc.copy()]\n",
        "        self.list_auc_95 += [list_auc_95.copy()]\n",
        "        self.list_precision += [list_precision.copy()]\n",
        "        self.list_precision_5 += [list_precision_5.copy()]\n",
        "        self.list_income_rate += [list_income_rate.copy()]\n",
        "        self.list_income_rate_5 += [list_income_rate_5.copy()]\n",
        "        # self.list_percent += [list_percent.copy()]\n",
        "        # self.list_count += [list_count.copy()]\n",
        "\n",
        "\n",
        "        print('AUC_ROC: ', list(np.round(list_auc, decimals=3)))\n",
        "        #print('AUC_ROC_95: ', np.round(list_auc_95, decimals=3).tolist())\n",
        "        # print('COUNT: ', np.round(list_count, decimals=3).tolist())\n",
        "        # print('PERCENT: ', np.round(list_percent, decimals=3).tolist())\n",
        "        print('PRECISION_1: ', list(np.round(list_precision, decimals=3)))\n",
        "        print('PRECISION_5: ', list(np.round(list_precision_5, decimals=3)))\n",
        "\n",
        "        print('INCOME_RATE_1: ', list(np.round(list_income_rate, decimals=3)))\n",
        "        print('INCOME_RATE_5: ', list(np.round(list_income_rate_5, decimals=3)))\n",
        "\n",
        "        print()\n",
        "\n",
        "\n"
      ]
    },
    {
      "cell_type": "code",
      "execution_count": 51,
      "id": "b3063efa-6159-4264-94b5-1508b58bf807",
      "metadata": {
        "id": "b3063efa-6159-4264-94b5-1508b58bf807"
      },
      "outputs": [],
      "source": []
    },
    {
      "cell_type": "code",
      "execution_count": 51,
      "id": "aa0f1dcf-19d8-444a-8cb0-05e08a323863",
      "metadata": {
        "id": "aa0f1dcf-19d8-444a-8cb0-05e08a323863"
      },
      "outputs": [],
      "source": []
    },
    {
      "cell_type": "markdown",
      "id": "7ba56dad-ea4c-4cf5-a78c-8d23f8058ea9",
      "metadata": {
        "id": "7ba56dad-ea4c-4cf5-a78c-8d23f8058ea9"
      },
      "source": [
        "#### 4.5 Train"
      ]
    },
    {
      "cell_type": "code",
      "execution_count": 52,
      "id": "b1835a29-2c1e-4a60-a2a0-7feb5c6e9d87",
      "metadata": {
        "id": "b1835a29-2c1e-4a60-a2a0-7feb5c6e9d87"
      },
      "outputs": [],
      "source": [
        "! mkdir models"
      ]
    },
    {
      "cell_type": "code",
      "execution_count": 52,
      "id": "16a494de-ffab-476d-9a7a-5720edbaf6cc",
      "metadata": {
        "id": "16a494de-ffab-476d-9a7a-5720edbaf6cc"
      },
      "outputs": [],
      "source": []
    },
    {
      "cell_type": "code",
      "execution_count": 52,
      "id": "22919002-d209-4699-afd0-34d255ee79a8",
      "metadata": {
        "id": "22919002-d209-4699-afd0-34d255ee79a8"
      },
      "outputs": [],
      "source": []
    },
    {
      "cell_type": "code",
      "execution_count": 53,
      "id": "jUTKwe9FivyS",
      "metadata": {
        "id": "jUTKwe9FivyS"
      },
      "outputs": [],
      "source": [
        "#dataset_train.__getitem__(0)[0]['input_numeric'][0].shape"
      ]
    },
    {
      "cell_type": "code",
      "source": [
        "dataset_train = dataset(data, inds_train, count_samples=500*batch_size, len_seq=20, batch_size=batch_size, shuffle=True)"
      ],
      "metadata": {
        "id": "Ep6KuuANAA3Z"
      },
      "id": "Ep6KuuANAA3Z",
      "execution_count": null,
      "outputs": []
    },
    {
      "cell_type": "code",
      "execution_count": 54,
      "id": "x-vkLrrvzuSO",
      "metadata": {
        "colab": {
          "base_uri": "https://localhost:8080/"
        },
        "id": "x-vkLrrvzuSO",
        "outputId": "20317272-4eb8-4719-8b34-f0a928a20b3e"
      },
      "outputs": [
        {
          "output_type": "execute_result",
          "data": {
            "text/plain": [
              "(100, 108)"
            ]
          },
          "metadata": {},
          "execution_count": 54
        }
      ],
      "source": [
        "dataset_train.__getitem__(0)[0][0].shape"
      ]
    },
    {
      "cell_type": "code",
      "execution_count": 75,
      "id": "sDrf9u58G2Us",
      "metadata": {
        "colab": {
          "base_uri": "https://localhost:8080/",
          "height": 1000
        },
        "id": "sDrf9u58G2Us",
        "outputId": "50d58705-746c-481c-8fe7-67b94205c225"
      },
      "outputs": [
        {
          "output_type": "display_data",
          "data": {
            "text/plain": [
              "\u001b[1mModel: \"functional_3\"\u001b[0m\n"
            ],
            "text/html": [
              "<pre style=\"white-space:pre;overflow-x:auto;line-height:normal;font-family:Menlo,'DejaVu Sans Mono',consolas,'Courier New',monospace\"><span style=\"font-weight: bold\">Model: \"functional_3\"</span>\n",
              "</pre>\n"
            ]
          },
          "metadata": {}
        },
        {
          "output_type": "display_data",
          "data": {
            "text/plain": [
              "┏━━━━━━━━━━━━━━━━━━━━━━━━━━━┳━━━━━━━━━━━━━━━━━━━━━━━━┳━━━━━━━━━━━━━━━━┳━━━━━━━━━━━━━━━━━━━━━━━━┓\n",
              "┃\u001b[1m \u001b[0m\u001b[1mLayer (type)             \u001b[0m\u001b[1m \u001b[0m┃\u001b[1m \u001b[0m\u001b[1mOutput Shape          \u001b[0m\u001b[1m \u001b[0m┃\u001b[1m \u001b[0m\u001b[1m       Param #\u001b[0m\u001b[1m \u001b[0m┃\u001b[1m \u001b[0m\u001b[1mConnected to          \u001b[0m\u001b[1m \u001b[0m┃\n",
              "┡━━━━━━━━━━━━━━━━━━━━━━━━━━━╇━━━━━━━━━━━━━━━━━━━━━━━━╇━━━━━━━━━━━━━━━━╇━━━━━━━━━━━━━━━━━━━━━━━━┩\n",
              "│ input_layer_3             │ (\u001b[38;5;45mNone\u001b[0m, \u001b[38;5;34m20\u001b[0m, \u001b[38;5;34m108\u001b[0m)        │              \u001b[38;5;34m0\u001b[0m │ -                      │\n",
              "│ (\u001b[38;5;33mInputLayer\u001b[0m)              │                        │                │                        │\n",
              "├───────────────────────────┼────────────────────────┼────────────────┼────────────────────────┤\n",
              "│ layer_normalization_9     │ (\u001b[38;5;45mNone\u001b[0m, \u001b[38;5;34m20\u001b[0m, \u001b[38;5;34m108\u001b[0m)        │            \u001b[38;5;34m216\u001b[0m │ input_layer_3[\u001b[38;5;34m0\u001b[0m][\u001b[38;5;34m0\u001b[0m]    │\n",
              "│ (\u001b[38;5;33mLayerNormalization\u001b[0m)      │                        │                │                        │\n",
              "├───────────────────────────┼────────────────────────┼────────────────┼────────────────────────┤\n",
              "│ multi_head_attention_3    │ (\u001b[38;5;45mNone\u001b[0m, \u001b[38;5;34m20\u001b[0m, \u001b[38;5;34m108\u001b[0m)        │         \u001b[38;5;34m55,788\u001b[0m │ layer_normalization_9… │\n",
              "│ (\u001b[38;5;33mMultiHeadAttention\u001b[0m)      │                        │                │ layer_normalization_9… │\n",
              "├───────────────────────────┼────────────────────────┼────────────────┼────────────────────────┤\n",
              "│ add_6 (\u001b[38;5;33mAdd\u001b[0m)               │ (\u001b[38;5;45mNone\u001b[0m, \u001b[38;5;34m20\u001b[0m, \u001b[38;5;34m108\u001b[0m)        │              \u001b[38;5;34m0\u001b[0m │ multi_head_attention_… │\n",
              "│                           │                        │                │ input_layer_3[\u001b[38;5;34m0\u001b[0m][\u001b[38;5;34m0\u001b[0m]    │\n",
              "├───────────────────────────┼────────────────────────┼────────────────┼────────────────────────┤\n",
              "│ layer_normalization_10    │ (\u001b[38;5;45mNone\u001b[0m, \u001b[38;5;34m20\u001b[0m, \u001b[38;5;34m108\u001b[0m)        │            \u001b[38;5;34m216\u001b[0m │ add_6[\u001b[38;5;34m0\u001b[0m][\u001b[38;5;34m0\u001b[0m]            │\n",
              "│ (\u001b[38;5;33mLayerNormalization\u001b[0m)      │                        │                │                        │\n",
              "├───────────────────────────┼────────────────────────┼────────────────┼────────────────────────┤\n",
              "│ dense_9 (\u001b[38;5;33mDense\u001b[0m)           │ (\u001b[38;5;45mNone\u001b[0m, \u001b[38;5;34m20\u001b[0m, \u001b[38;5;34m64\u001b[0m)         │          \u001b[38;5;34m6,976\u001b[0m │ layer_normalization_1… │\n",
              "├───────────────────────────┼────────────────────────┼────────────────┼────────────────────────┤\n",
              "│ dropout_7 (\u001b[38;5;33mDropout\u001b[0m)       │ (\u001b[38;5;45mNone\u001b[0m, \u001b[38;5;34m20\u001b[0m, \u001b[38;5;34m64\u001b[0m)         │              \u001b[38;5;34m0\u001b[0m │ dense_9[\u001b[38;5;34m0\u001b[0m][\u001b[38;5;34m0\u001b[0m]          │\n",
              "├───────────────────────────┼────────────────────────┼────────────────┼────────────────────────┤\n",
              "│ dense_10 (\u001b[38;5;33mDense\u001b[0m)          │ (\u001b[38;5;45mNone\u001b[0m, \u001b[38;5;34m20\u001b[0m, \u001b[38;5;34m108\u001b[0m)        │          \u001b[38;5;34m7,020\u001b[0m │ dropout_7[\u001b[38;5;34m0\u001b[0m][\u001b[38;5;34m0\u001b[0m]        │\n",
              "├───────────────────────────┼────────────────────────┼────────────────┼────────────────────────┤\n",
              "│ add_7 (\u001b[38;5;33mAdd\u001b[0m)               │ (\u001b[38;5;45mNone\u001b[0m, \u001b[38;5;34m20\u001b[0m, \u001b[38;5;34m108\u001b[0m)        │              \u001b[38;5;34m0\u001b[0m │ dense_10[\u001b[38;5;34m0\u001b[0m][\u001b[38;5;34m0\u001b[0m],        │\n",
              "│                           │                        │                │ add_6[\u001b[38;5;34m0\u001b[0m][\u001b[38;5;34m0\u001b[0m]            │\n",
              "├───────────────────────────┼────────────────────────┼────────────────┼────────────────────────┤\n",
              "│ layer_normalization_11    │ (\u001b[38;5;45mNone\u001b[0m, \u001b[38;5;34m20\u001b[0m, \u001b[38;5;34m108\u001b[0m)        │            \u001b[38;5;34m216\u001b[0m │ add_7[\u001b[38;5;34m0\u001b[0m][\u001b[38;5;34m0\u001b[0m]            │\n",
              "│ (\u001b[38;5;33mLayerNormalization\u001b[0m)      │                        │                │                        │\n",
              "├───────────────────────────┼────────────────────────┼────────────────┼────────────────────────┤\n",
              "│ multi_head_attention_4    │ (\u001b[38;5;45mNone\u001b[0m, \u001b[38;5;34m20\u001b[0m, \u001b[38;5;34m108\u001b[0m)        │         \u001b[38;5;34m55,788\u001b[0m │ layer_normalization_1… │\n",
              "│ (\u001b[38;5;33mMultiHeadAttention\u001b[0m)      │                        │                │ layer_normalization_1… │\n",
              "├───────────────────────────┼────────────────────────┼────────────────┼────────────────────────┤\n",
              "│ add_8 (\u001b[38;5;33mAdd\u001b[0m)               │ (\u001b[38;5;45mNone\u001b[0m, \u001b[38;5;34m20\u001b[0m, \u001b[38;5;34m108\u001b[0m)        │              \u001b[38;5;34m0\u001b[0m │ multi_head_attention_… │\n",
              "│                           │                        │                │ add_7[\u001b[38;5;34m0\u001b[0m][\u001b[38;5;34m0\u001b[0m]            │\n",
              "├───────────────────────────┼────────────────────────┼────────────────┼────────────────────────┤\n",
              "│ layer_normalization_12    │ (\u001b[38;5;45mNone\u001b[0m, \u001b[38;5;34m20\u001b[0m, \u001b[38;5;34m108\u001b[0m)        │            \u001b[38;5;34m216\u001b[0m │ add_8[\u001b[38;5;34m0\u001b[0m][\u001b[38;5;34m0\u001b[0m]            │\n",
              "│ (\u001b[38;5;33mLayerNormalization\u001b[0m)      │                        │                │                        │\n",
              "├───────────────────────────┼────────────────────────┼────────────────┼────────────────────────┤\n",
              "│ dense_11 (\u001b[38;5;33mDense\u001b[0m)          │ (\u001b[38;5;45mNone\u001b[0m, \u001b[38;5;34m20\u001b[0m, \u001b[38;5;34m64\u001b[0m)         │          \u001b[38;5;34m6,976\u001b[0m │ layer_normalization_1… │\n",
              "├───────────────────────────┼────────────────────────┼────────────────┼────────────────────────┤\n",
              "│ dropout_9 (\u001b[38;5;33mDropout\u001b[0m)       │ (\u001b[38;5;45mNone\u001b[0m, \u001b[38;5;34m20\u001b[0m, \u001b[38;5;34m64\u001b[0m)         │              \u001b[38;5;34m0\u001b[0m │ dense_11[\u001b[38;5;34m0\u001b[0m][\u001b[38;5;34m0\u001b[0m]         │\n",
              "├───────────────────────────┼────────────────────────┼────────────────┼────────────────────────┤\n",
              "│ dense_12 (\u001b[38;5;33mDense\u001b[0m)          │ (\u001b[38;5;45mNone\u001b[0m, \u001b[38;5;34m20\u001b[0m, \u001b[38;5;34m108\u001b[0m)        │          \u001b[38;5;34m7,020\u001b[0m │ dropout_9[\u001b[38;5;34m0\u001b[0m][\u001b[38;5;34m0\u001b[0m]        │\n",
              "├───────────────────────────┼────────────────────────┼────────────────┼────────────────────────┤\n",
              "│ add_9 (\u001b[38;5;33mAdd\u001b[0m)               │ (\u001b[38;5;45mNone\u001b[0m, \u001b[38;5;34m20\u001b[0m, \u001b[38;5;34m108\u001b[0m)        │              \u001b[38;5;34m0\u001b[0m │ dense_12[\u001b[38;5;34m0\u001b[0m][\u001b[38;5;34m0\u001b[0m],        │\n",
              "│                           │                        │                │ add_8[\u001b[38;5;34m0\u001b[0m][\u001b[38;5;34m0\u001b[0m]            │\n",
              "├───────────────────────────┼────────────────────────┼────────────────┼────────────────────────┤\n",
              "│ global_average_pooling1d… │ (\u001b[38;5;45mNone\u001b[0m, \u001b[38;5;34m108\u001b[0m)            │              \u001b[38;5;34m0\u001b[0m │ add_9[\u001b[38;5;34m0\u001b[0m][\u001b[38;5;34m0\u001b[0m]            │\n",
              "│ (\u001b[38;5;33mGlobalAveragePooling1D\u001b[0m)  │                        │                │                        │\n",
              "├───────────────────────────┼────────────────────────┼────────────────┼────────────────────────┤\n",
              "│ layer_normalization_13    │ (\u001b[38;5;45mNone\u001b[0m, \u001b[38;5;34m108\u001b[0m)            │            \u001b[38;5;34m216\u001b[0m │ global_average_poolin… │\n",
              "│ (\u001b[38;5;33mLayerNormalization\u001b[0m)      │                        │                │                        │\n",
              "├───────────────────────────┼────────────────────────┼────────────────┼────────────────────────┤\n",
              "│ dense_13 (\u001b[38;5;33mDense\u001b[0m)          │ (\u001b[38;5;45mNone\u001b[0m, \u001b[38;5;34m1\u001b[0m)              │            \u001b[38;5;34m109\u001b[0m │ layer_normalization_1… │\n",
              "└───────────────────────────┴────────────────────────┴────────────────┴────────────────────────┘\n"
            ],
            "text/html": [
              "<pre style=\"white-space:pre;overflow-x:auto;line-height:normal;font-family:Menlo,'DejaVu Sans Mono',consolas,'Courier New',monospace\">┏━━━━━━━━━━━━━━━━━━━━━━━━━━━┳━━━━━━━━━━━━━━━━━━━━━━━━┳━━━━━━━━━━━━━━━━┳━━━━━━━━━━━━━━━━━━━━━━━━┓\n",
              "┃<span style=\"font-weight: bold\"> Layer (type)              </span>┃<span style=\"font-weight: bold\"> Output Shape           </span>┃<span style=\"font-weight: bold\">        Param # </span>┃<span style=\"font-weight: bold\"> Connected to           </span>┃\n",
              "┡━━━━━━━━━━━━━━━━━━━━━━━━━━━╇━━━━━━━━━━━━━━━━━━━━━━━━╇━━━━━━━━━━━━━━━━╇━━━━━━━━━━━━━━━━━━━━━━━━┩\n",
              "│ input_layer_3             │ (<span style=\"color: #00d7ff; text-decoration-color: #00d7ff\">None</span>, <span style=\"color: #00af00; text-decoration-color: #00af00\">20</span>, <span style=\"color: #00af00; text-decoration-color: #00af00\">108</span>)        │              <span style=\"color: #00af00; text-decoration-color: #00af00\">0</span> │ -                      │\n",
              "│ (<span style=\"color: #0087ff; text-decoration-color: #0087ff\">InputLayer</span>)              │                        │                │                        │\n",
              "├───────────────────────────┼────────────────────────┼────────────────┼────────────────────────┤\n",
              "│ layer_normalization_9     │ (<span style=\"color: #00d7ff; text-decoration-color: #00d7ff\">None</span>, <span style=\"color: #00af00; text-decoration-color: #00af00\">20</span>, <span style=\"color: #00af00; text-decoration-color: #00af00\">108</span>)        │            <span style=\"color: #00af00; text-decoration-color: #00af00\">216</span> │ input_layer_3[<span style=\"color: #00af00; text-decoration-color: #00af00\">0</span>][<span style=\"color: #00af00; text-decoration-color: #00af00\">0</span>]    │\n",
              "│ (<span style=\"color: #0087ff; text-decoration-color: #0087ff\">LayerNormalization</span>)      │                        │                │                        │\n",
              "├───────────────────────────┼────────────────────────┼────────────────┼────────────────────────┤\n",
              "│ multi_head_attention_3    │ (<span style=\"color: #00d7ff; text-decoration-color: #00d7ff\">None</span>, <span style=\"color: #00af00; text-decoration-color: #00af00\">20</span>, <span style=\"color: #00af00; text-decoration-color: #00af00\">108</span>)        │         <span style=\"color: #00af00; text-decoration-color: #00af00\">55,788</span> │ layer_normalization_9… │\n",
              "│ (<span style=\"color: #0087ff; text-decoration-color: #0087ff\">MultiHeadAttention</span>)      │                        │                │ layer_normalization_9… │\n",
              "├───────────────────────────┼────────────────────────┼────────────────┼────────────────────────┤\n",
              "│ add_6 (<span style=\"color: #0087ff; text-decoration-color: #0087ff\">Add</span>)               │ (<span style=\"color: #00d7ff; text-decoration-color: #00d7ff\">None</span>, <span style=\"color: #00af00; text-decoration-color: #00af00\">20</span>, <span style=\"color: #00af00; text-decoration-color: #00af00\">108</span>)        │              <span style=\"color: #00af00; text-decoration-color: #00af00\">0</span> │ multi_head_attention_… │\n",
              "│                           │                        │                │ input_layer_3[<span style=\"color: #00af00; text-decoration-color: #00af00\">0</span>][<span style=\"color: #00af00; text-decoration-color: #00af00\">0</span>]    │\n",
              "├───────────────────────────┼────────────────────────┼────────────────┼────────────────────────┤\n",
              "│ layer_normalization_10    │ (<span style=\"color: #00d7ff; text-decoration-color: #00d7ff\">None</span>, <span style=\"color: #00af00; text-decoration-color: #00af00\">20</span>, <span style=\"color: #00af00; text-decoration-color: #00af00\">108</span>)        │            <span style=\"color: #00af00; text-decoration-color: #00af00\">216</span> │ add_6[<span style=\"color: #00af00; text-decoration-color: #00af00\">0</span>][<span style=\"color: #00af00; text-decoration-color: #00af00\">0</span>]            │\n",
              "│ (<span style=\"color: #0087ff; text-decoration-color: #0087ff\">LayerNormalization</span>)      │                        │                │                        │\n",
              "├───────────────────────────┼────────────────────────┼────────────────┼────────────────────────┤\n",
              "│ dense_9 (<span style=\"color: #0087ff; text-decoration-color: #0087ff\">Dense</span>)           │ (<span style=\"color: #00d7ff; text-decoration-color: #00d7ff\">None</span>, <span style=\"color: #00af00; text-decoration-color: #00af00\">20</span>, <span style=\"color: #00af00; text-decoration-color: #00af00\">64</span>)         │          <span style=\"color: #00af00; text-decoration-color: #00af00\">6,976</span> │ layer_normalization_1… │\n",
              "├───────────────────────────┼────────────────────────┼────────────────┼────────────────────────┤\n",
              "│ dropout_7 (<span style=\"color: #0087ff; text-decoration-color: #0087ff\">Dropout</span>)       │ (<span style=\"color: #00d7ff; text-decoration-color: #00d7ff\">None</span>, <span style=\"color: #00af00; text-decoration-color: #00af00\">20</span>, <span style=\"color: #00af00; text-decoration-color: #00af00\">64</span>)         │              <span style=\"color: #00af00; text-decoration-color: #00af00\">0</span> │ dense_9[<span style=\"color: #00af00; text-decoration-color: #00af00\">0</span>][<span style=\"color: #00af00; text-decoration-color: #00af00\">0</span>]          │\n",
              "├───────────────────────────┼────────────────────────┼────────────────┼────────────────────────┤\n",
              "│ dense_10 (<span style=\"color: #0087ff; text-decoration-color: #0087ff\">Dense</span>)          │ (<span style=\"color: #00d7ff; text-decoration-color: #00d7ff\">None</span>, <span style=\"color: #00af00; text-decoration-color: #00af00\">20</span>, <span style=\"color: #00af00; text-decoration-color: #00af00\">108</span>)        │          <span style=\"color: #00af00; text-decoration-color: #00af00\">7,020</span> │ dropout_7[<span style=\"color: #00af00; text-decoration-color: #00af00\">0</span>][<span style=\"color: #00af00; text-decoration-color: #00af00\">0</span>]        │\n",
              "├───────────────────────────┼────────────────────────┼────────────────┼────────────────────────┤\n",
              "│ add_7 (<span style=\"color: #0087ff; text-decoration-color: #0087ff\">Add</span>)               │ (<span style=\"color: #00d7ff; text-decoration-color: #00d7ff\">None</span>, <span style=\"color: #00af00; text-decoration-color: #00af00\">20</span>, <span style=\"color: #00af00; text-decoration-color: #00af00\">108</span>)        │              <span style=\"color: #00af00; text-decoration-color: #00af00\">0</span> │ dense_10[<span style=\"color: #00af00; text-decoration-color: #00af00\">0</span>][<span style=\"color: #00af00; text-decoration-color: #00af00\">0</span>],        │\n",
              "│                           │                        │                │ add_6[<span style=\"color: #00af00; text-decoration-color: #00af00\">0</span>][<span style=\"color: #00af00; text-decoration-color: #00af00\">0</span>]            │\n",
              "├───────────────────────────┼────────────────────────┼────────────────┼────────────────────────┤\n",
              "│ layer_normalization_11    │ (<span style=\"color: #00d7ff; text-decoration-color: #00d7ff\">None</span>, <span style=\"color: #00af00; text-decoration-color: #00af00\">20</span>, <span style=\"color: #00af00; text-decoration-color: #00af00\">108</span>)        │            <span style=\"color: #00af00; text-decoration-color: #00af00\">216</span> │ add_7[<span style=\"color: #00af00; text-decoration-color: #00af00\">0</span>][<span style=\"color: #00af00; text-decoration-color: #00af00\">0</span>]            │\n",
              "│ (<span style=\"color: #0087ff; text-decoration-color: #0087ff\">LayerNormalization</span>)      │                        │                │                        │\n",
              "├───────────────────────────┼────────────────────────┼────────────────┼────────────────────────┤\n",
              "│ multi_head_attention_4    │ (<span style=\"color: #00d7ff; text-decoration-color: #00d7ff\">None</span>, <span style=\"color: #00af00; text-decoration-color: #00af00\">20</span>, <span style=\"color: #00af00; text-decoration-color: #00af00\">108</span>)        │         <span style=\"color: #00af00; text-decoration-color: #00af00\">55,788</span> │ layer_normalization_1… │\n",
              "│ (<span style=\"color: #0087ff; text-decoration-color: #0087ff\">MultiHeadAttention</span>)      │                        │                │ layer_normalization_1… │\n",
              "├───────────────────────────┼────────────────────────┼────────────────┼────────────────────────┤\n",
              "│ add_8 (<span style=\"color: #0087ff; text-decoration-color: #0087ff\">Add</span>)               │ (<span style=\"color: #00d7ff; text-decoration-color: #00d7ff\">None</span>, <span style=\"color: #00af00; text-decoration-color: #00af00\">20</span>, <span style=\"color: #00af00; text-decoration-color: #00af00\">108</span>)        │              <span style=\"color: #00af00; text-decoration-color: #00af00\">0</span> │ multi_head_attention_… │\n",
              "│                           │                        │                │ add_7[<span style=\"color: #00af00; text-decoration-color: #00af00\">0</span>][<span style=\"color: #00af00; text-decoration-color: #00af00\">0</span>]            │\n",
              "├───────────────────────────┼────────────────────────┼────────────────┼────────────────────────┤\n",
              "│ layer_normalization_12    │ (<span style=\"color: #00d7ff; text-decoration-color: #00d7ff\">None</span>, <span style=\"color: #00af00; text-decoration-color: #00af00\">20</span>, <span style=\"color: #00af00; text-decoration-color: #00af00\">108</span>)        │            <span style=\"color: #00af00; text-decoration-color: #00af00\">216</span> │ add_8[<span style=\"color: #00af00; text-decoration-color: #00af00\">0</span>][<span style=\"color: #00af00; text-decoration-color: #00af00\">0</span>]            │\n",
              "│ (<span style=\"color: #0087ff; text-decoration-color: #0087ff\">LayerNormalization</span>)      │                        │                │                        │\n",
              "├───────────────────────────┼────────────────────────┼────────────────┼────────────────────────┤\n",
              "│ dense_11 (<span style=\"color: #0087ff; text-decoration-color: #0087ff\">Dense</span>)          │ (<span style=\"color: #00d7ff; text-decoration-color: #00d7ff\">None</span>, <span style=\"color: #00af00; text-decoration-color: #00af00\">20</span>, <span style=\"color: #00af00; text-decoration-color: #00af00\">64</span>)         │          <span style=\"color: #00af00; text-decoration-color: #00af00\">6,976</span> │ layer_normalization_1… │\n",
              "├───────────────────────────┼────────────────────────┼────────────────┼────────────────────────┤\n",
              "│ dropout_9 (<span style=\"color: #0087ff; text-decoration-color: #0087ff\">Dropout</span>)       │ (<span style=\"color: #00d7ff; text-decoration-color: #00d7ff\">None</span>, <span style=\"color: #00af00; text-decoration-color: #00af00\">20</span>, <span style=\"color: #00af00; text-decoration-color: #00af00\">64</span>)         │              <span style=\"color: #00af00; text-decoration-color: #00af00\">0</span> │ dense_11[<span style=\"color: #00af00; text-decoration-color: #00af00\">0</span>][<span style=\"color: #00af00; text-decoration-color: #00af00\">0</span>]         │\n",
              "├───────────────────────────┼────────────────────────┼────────────────┼────────────────────────┤\n",
              "│ dense_12 (<span style=\"color: #0087ff; text-decoration-color: #0087ff\">Dense</span>)          │ (<span style=\"color: #00d7ff; text-decoration-color: #00d7ff\">None</span>, <span style=\"color: #00af00; text-decoration-color: #00af00\">20</span>, <span style=\"color: #00af00; text-decoration-color: #00af00\">108</span>)        │          <span style=\"color: #00af00; text-decoration-color: #00af00\">7,020</span> │ dropout_9[<span style=\"color: #00af00; text-decoration-color: #00af00\">0</span>][<span style=\"color: #00af00; text-decoration-color: #00af00\">0</span>]        │\n",
              "├───────────────────────────┼────────────────────────┼────────────────┼────────────────────────┤\n",
              "│ add_9 (<span style=\"color: #0087ff; text-decoration-color: #0087ff\">Add</span>)               │ (<span style=\"color: #00d7ff; text-decoration-color: #00d7ff\">None</span>, <span style=\"color: #00af00; text-decoration-color: #00af00\">20</span>, <span style=\"color: #00af00; text-decoration-color: #00af00\">108</span>)        │              <span style=\"color: #00af00; text-decoration-color: #00af00\">0</span> │ dense_12[<span style=\"color: #00af00; text-decoration-color: #00af00\">0</span>][<span style=\"color: #00af00; text-decoration-color: #00af00\">0</span>],        │\n",
              "│                           │                        │                │ add_8[<span style=\"color: #00af00; text-decoration-color: #00af00\">0</span>][<span style=\"color: #00af00; text-decoration-color: #00af00\">0</span>]            │\n",
              "├───────────────────────────┼────────────────────────┼────────────────┼────────────────────────┤\n",
              "│ global_average_pooling1d… │ (<span style=\"color: #00d7ff; text-decoration-color: #00d7ff\">None</span>, <span style=\"color: #00af00; text-decoration-color: #00af00\">108</span>)            │              <span style=\"color: #00af00; text-decoration-color: #00af00\">0</span> │ add_9[<span style=\"color: #00af00; text-decoration-color: #00af00\">0</span>][<span style=\"color: #00af00; text-decoration-color: #00af00\">0</span>]            │\n",
              "│ (<span style=\"color: #0087ff; text-decoration-color: #0087ff\">GlobalAveragePooling1D</span>)  │                        │                │                        │\n",
              "├───────────────────────────┼────────────────────────┼────────────────┼────────────────────────┤\n",
              "│ layer_normalization_13    │ (<span style=\"color: #00d7ff; text-decoration-color: #00d7ff\">None</span>, <span style=\"color: #00af00; text-decoration-color: #00af00\">108</span>)            │            <span style=\"color: #00af00; text-decoration-color: #00af00\">216</span> │ global_average_poolin… │\n",
              "│ (<span style=\"color: #0087ff; text-decoration-color: #0087ff\">LayerNormalization</span>)      │                        │                │                        │\n",
              "├───────────────────────────┼────────────────────────┼────────────────┼────────────────────────┤\n",
              "│ dense_13 (<span style=\"color: #0087ff; text-decoration-color: #0087ff\">Dense</span>)          │ (<span style=\"color: #00d7ff; text-decoration-color: #00d7ff\">None</span>, <span style=\"color: #00af00; text-decoration-color: #00af00\">1</span>)              │            <span style=\"color: #00af00; text-decoration-color: #00af00\">109</span> │ layer_normalization_1… │\n",
              "└───────────────────────────┴────────────────────────┴────────────────┴────────────────────────┘\n",
              "</pre>\n"
            ]
          },
          "metadata": {}
        },
        {
          "output_type": "display_data",
          "data": {
            "text/plain": [
              "\u001b[1m Total params: \u001b[0m\u001b[38;5;34m140,757\u001b[0m (549.83 KB)\n"
            ],
            "text/html": [
              "<pre style=\"white-space:pre;overflow-x:auto;line-height:normal;font-family:Menlo,'DejaVu Sans Mono',consolas,'Courier New',monospace\"><span style=\"font-weight: bold\"> Total params: </span><span style=\"color: #00af00; text-decoration-color: #00af00\">140,757</span> (549.83 KB)\n",
              "</pre>\n"
            ]
          },
          "metadata": {}
        },
        {
          "output_type": "display_data",
          "data": {
            "text/plain": [
              "\u001b[1m Trainable params: \u001b[0m\u001b[38;5;34m140,757\u001b[0m (549.83 KB)\n"
            ],
            "text/html": [
              "<pre style=\"white-space:pre;overflow-x:auto;line-height:normal;font-family:Menlo,'DejaVu Sans Mono',consolas,'Courier New',monospace\"><span style=\"font-weight: bold\"> Trainable params: </span><span style=\"color: #00af00; text-decoration-color: #00af00\">140,757</span> (549.83 KB)\n",
              "</pre>\n"
            ]
          },
          "metadata": {}
        },
        {
          "output_type": "display_data",
          "data": {
            "text/plain": [
              "\u001b[1m Non-trainable params: \u001b[0m\u001b[38;5;34m0\u001b[0m (0.00 B)\n"
            ],
            "text/html": [
              "<pre style=\"white-space:pre;overflow-x:auto;line-height:normal;font-family:Menlo,'DejaVu Sans Mono',consolas,'Courier New',monospace\"><span style=\"font-weight: bold\"> Non-trainable params: </span><span style=\"color: #00af00; text-decoration-color: #00af00\">0</span> (0.00 B)\n",
              "</pre>\n"
            ]
          },
          "metadata": {}
        }
      ],
      "source": [
        "input_shape = dataset_train.__getitem__(0)[0][0].shape\n",
        "head_size = 32#256\n",
        "num_heads = 4#16\n",
        "ff_dim = 64#1024\n",
        "num_layers = 2#12\n",
        "dropout = 0.3#0.2\n",
        "\n",
        "model = build_transformer_model(input_shape, head_size, num_heads, ff_dim, num_layers, dropout)\n",
        "model.summary()"
      ]
    },
    {
      "cell_type": "code",
      "execution_count": 75,
      "id": "9Lh7nHsHZG0V",
      "metadata": {
        "id": "9Lh7nHsHZG0V"
      },
      "outputs": [],
      "source": []
    },
    {
      "cell_type": "code",
      "execution_count": 82,
      "id": "ljAdOwv_ZHAG",
      "metadata": {
        "colab": {
          "base_uri": "https://localhost:8080/"
        },
        "id": "ljAdOwv_ZHAG",
        "outputId": "3a93303b-0939-4b57-916e-247944e68697"
      },
      "outputs": [
        {
          "output_type": "execute_result",
          "data": {
            "text/plain": [
              "(14170, 2191, 2319, 3184)"
            ]
          },
          "metadata": {},
          "execution_count": 82
        }
      ],
      "source": [
        "batch_size = 32\n",
        "mask_train.sum()//batch_size, mask_valid.sum()//batch_size, mask_test.sum()//batch_size, mask_test2.sum()//batch_size"
      ]
    },
    {
      "cell_type": "code",
      "execution_count": 83,
      "id": "04a7e309-e147-42ca-9c73-e08e7af14651",
      "metadata": {
        "id": "04a7e309-e147-42ca-9c73-e08e7af14651"
      },
      "outputs": [],
      "source": [
        "dataset_train = dataset(data, inds_train, count_samples=500*batch_size, len_seq=20, batch_size=batch_size, shuffle=True)\n",
        "dataset_valid = dataset(data, inds_valid, count_samples=1000*batch_size, len_seq=20, batch_size=batch_size, shuffle=False)\n",
        "dataset_test = dataset(data, inds_test, count_samples=1000*batch_size, len_seq=20, batch_size=batch_size, shuffle=False)\n",
        "dataset_test2 = dataset(data, inds_test2, count_samples=1000*batch_size, len_seq=20, batch_size=batch_size, shuffle=False)"
      ]
    },
    {
      "cell_type": "code",
      "execution_count": 84,
      "id": "57bbc600-01a9-4b4b-a3f5-7a5bcc94766b",
      "metadata": {
        "id": "57bbc600-01a9-4b4b-a3f5-7a5bcc94766b"
      },
      "outputs": [],
      "source": [
        "# dataset_train = dataset(data, inds_train, count_samples=50*batch_size, len_seq=100, batch_size=batch_size, shuffle=True)\n",
        "# dataset_valid = dataset(data, inds_valid, count_samples=50*batch_size, len_seq=100, batch_size=batch_size, shuffle=False)\n",
        "# dataset_test = dataset(data, inds_test, count_samples=50*batch_size, len_seq=100, batch_size=batch_size, shuffle=False)\n",
        "# dataset_test2 = dataset(data, inds_test2, count_samples=50*batch_size, len_seq=100, batch_size=batch_size, shuffle=False)"
      ]
    },
    {
      "cell_type": "code",
      "execution_count": 85,
      "id": "4bfe4b72-6a33-4713-b5fa-f3b41a358958",
      "metadata": {
        "id": "4bfe4b72-6a33-4713-b5fa-f3b41a358958"
      },
      "outputs": [],
      "source": [
        "EPOCHS = 30\n",
        "\n",
        "total_steps = len(dataset_train) * EPOCHS\n",
        "warmup_steps = int(0.1*total_steps)\n",
        "schedule = WarmUpCosineDecay(start_lr=0.0001, target_lr=0.001, warmup_steps=warmup_steps, total_steps=total_steps, hold=0)\n",
        "#may be changed to 1\n",
        "optimizer=tf.keras.optimizers.Adam(learning_rate=schedule)\n",
        "#optimizer=tf.keras.optimizers.Adam(learning_rate=0.001)\n",
        "\n",
        "loss = tf.keras.losses.BinaryCrossentropy()\n",
        "metric_auc_roc = tf.keras.metrics.AUC(num_thresholds=64)\n",
        "\n",
        "\n",
        "model.compile(optimizer=optimizer,\n",
        "              loss=loss,\n",
        "              metrics=[metric_auc_roc])\n",
        "\n",
        "\n",
        "#metrics_callback = MetricsCallback([dataset_train_subsample, dataset_valid_subsample, dataset_test_subsample, dataset_test2_subsample])\n",
        "metrics_callback = MetricsCallback([dataset_train, dataset_valid, dataset_test, dataset_test2])\n",
        "save_callback = tf.keras.callbacks.ModelCheckpoint( \"./models/model_{epoch:02d}.keras\", save_freq='epoch')\n",
        "callbacks = [save_callback, metrics_callback]\n",
        "\n",
        "\n"
      ]
    },
    {
      "cell_type": "code",
      "execution_count": 85,
      "id": "ed5d02dc-c609-45ae-b95e-ddb93f9bb16d",
      "metadata": {
        "id": "ed5d02dc-c609-45ae-b95e-ddb93f9bb16d"
      },
      "outputs": [],
      "source": []
    },
    {
      "cell_type": "code",
      "execution_count": 86,
      "id": "6e5810fc-bfd1-4557-a12f-f18cdf677b51",
      "metadata": {
        "id": "6e5810fc-bfd1-4557-a12f-f18cdf677b51"
      },
      "outputs": [],
      "source": [
        "# lrs = [lr_warmup_cosine_decay(step, total_steps=total_steps, warmup_steps=warmup_steps, hold=0, start_lr=0.0001,\n",
        "#                            target_lr=0.001) for step in tqdm(np.arange(total_steps))]\n",
        "# plt.plot(lrs)"
      ]
    },
    {
      "cell_type": "code",
      "execution_count": 86,
      "id": "50b9c927-ab52-4f40-aabb-035ea547719a",
      "metadata": {
        "id": "50b9c927-ab52-4f40-aabb-035ea547719a"
      },
      "outputs": [],
      "source": []
    },
    {
      "cell_type": "code",
      "execution_count": 87,
      "id": "2fc292c8-05f7-41cc-bc93-895031bfa684",
      "metadata": {
        "colab": {
          "base_uri": "https://localhost:8080/",
          "height": 1000
        },
        "id": "2fc292c8-05f7-41cc-bc93-895031bfa684",
        "outputId": "2974379a-8150-49d7-936f-6dde97bf6d55",
        "scrolled": true
      },
      "outputs": [
        {
          "output_type": "stream",
          "name": "stdout",
          "text": [
            "Epoch 1/30\n",
            "\u001b[1m500/500\u001b[0m \u001b[32m━━━━━━━━━━━━━━━━━━━━\u001b[0m\u001b[37m\u001b[0m \u001b[1m2s\u001b[0m 2ms/step\n",
            "\u001b[1m1000/1000\u001b[0m \u001b[32m━━━━━━━━━━━━━━━━━━━━\u001b[0m\u001b[37m\u001b[0m \u001b[1m2s\u001b[0m 2ms/step\n",
            "\u001b[1m1000/1000\u001b[0m \u001b[32m━━━━━━━━━━━━━━━━━━━━\u001b[0m\u001b[37m\u001b[0m \u001b[1m3s\u001b[0m 3ms/step\n",
            "\u001b[1m1000/1000\u001b[0m \u001b[32m━━━━━━━━━━━━━━━━━━━━\u001b[0m\u001b[37m\u001b[0m \u001b[1m2s\u001b[0m 2ms/step\n",
            "AUC_ROC:  [0.698, 0.648, 0.643, 0.625]\n",
            "PRECISION_1:  [0.475, 0.188, 0.275, 0.247]\n",
            "PRECISION_5:  [0.374, 0.279, 0.31, 0.22]\n",
            "INCOME_RATE_1:  [1.011, 1.003, 1.003, 1.0]\n",
            "INCOME_RATE_5:  [1.007, 1.004, 1.005, 0.999]\n",
            "\n",
            "\u001b[1m500/500\u001b[0m \u001b[32m━━━━━━━━━━━━━━━━━━━━\u001b[0m\u001b[37m\u001b[0m \u001b[1m30s\u001b[0m 32ms/step - auc_4: 0.5488 - loss: 0.5199\n",
            "Epoch 2/30\n",
            "\u001b[1m500/500\u001b[0m \u001b[32m━━━━━━━━━━━━━━━━━━━━\u001b[0m\u001b[37m\u001b[0m \u001b[1m1s\u001b[0m 3ms/step\n",
            "\u001b[1m1000/1000\u001b[0m \u001b[32m━━━━━━━━━━━━━━━━━━━━\u001b[0m\u001b[37m\u001b[0m \u001b[1m2s\u001b[0m 2ms/step\n",
            "\u001b[1m1000/1000\u001b[0m \u001b[32m━━━━━━━━━━━━━━━━━━━━\u001b[0m\u001b[37m\u001b[0m \u001b[1m2s\u001b[0m 2ms/step\n",
            "\u001b[1m1000/1000\u001b[0m \u001b[32m━━━━━━━━━━━━━━━━━━━━\u001b[0m\u001b[37m\u001b[0m \u001b[1m2s\u001b[0m 2ms/step\n",
            "AUC_ROC:  [0.727, 0.648, 0.624, 0.604]\n",
            "PRECISION_1:  [0.512, 0.322, 0.356, 0.334]\n",
            "PRECISION_5:  [0.411, 0.316, 0.353, 0.256]\n",
            "INCOME_RATE_1:  [1.016, 1.01, 1.005, 1.008]\n",
            "INCOME_RATE_5:  [1.011, 1.006, 1.006, 1.002]\n",
            "\n",
            "\u001b[1m500/500\u001b[0m \u001b[32m━━━━━━━━━━━━━━━━━━━━\u001b[0m\u001b[37m\u001b[0m \u001b[1m33s\u001b[0m 31ms/step - auc_4: 0.6966 - loss: 0.3866\n",
            "Epoch 3/30\n",
            "\u001b[1m500/500\u001b[0m \u001b[32m━━━━━━━━━━━━━━━━━━━━\u001b[0m\u001b[37m\u001b[0m \u001b[1m1s\u001b[0m 2ms/step\n",
            "\u001b[1m1000/1000\u001b[0m \u001b[32m━━━━━━━━━━━━━━━━━━━━\u001b[0m\u001b[37m\u001b[0m \u001b[1m5s\u001b[0m 5ms/step\n",
            "\u001b[1m1000/1000\u001b[0m \u001b[32m━━━━━━━━━━━━━━━━━━━━\u001b[0m\u001b[37m\u001b[0m \u001b[1m2s\u001b[0m 2ms/step\n",
            "\u001b[1m1000/1000\u001b[0m \u001b[32m━━━━━━━━━━━━━━━━━━━━\u001b[0m\u001b[37m\u001b[0m \u001b[1m2s\u001b[0m 2ms/step\n",
            "AUC_ROC:  [0.726, 0.654, 0.617, 0.648]\n",
            "PRECISION_1:  [0.525, 0.456, 0.453, 0.256]\n",
            "PRECISION_5:  [0.42, 0.361, 0.388, 0.294]\n",
            "INCOME_RATE_1:  [1.014, 1.012, 1.01, 1.001]\n",
            "INCOME_RATE_5:  [1.01, 1.008, 1.007, 1.003]\n",
            "\n",
            "\u001b[1m500/500\u001b[0m \u001b[32m━━━━━━━━━━━━━━━━━━━━\u001b[0m\u001b[37m\u001b[0m \u001b[1m20s\u001b[0m 29ms/step - auc_4: 0.7116 - loss: 0.3888\n",
            "Epoch 4/30\n",
            "\u001b[1m500/500\u001b[0m \u001b[32m━━━━━━━━━━━━━━━━━━━━\u001b[0m\u001b[37m\u001b[0m \u001b[1m1s\u001b[0m 2ms/step\n",
            "\u001b[1m1000/1000\u001b[0m \u001b[32m━━━━━━━━━━━━━━━━━━━━\u001b[0m\u001b[37m\u001b[0m \u001b[1m2s\u001b[0m 2ms/step\n",
            "\u001b[1m1000/1000\u001b[0m \u001b[32m━━━━━━━━━━━━━━━━━━━━\u001b[0m\u001b[37m\u001b[0m \u001b[1m2s\u001b[0m 2ms/step\n",
            "\u001b[1m1000/1000\u001b[0m \u001b[32m━━━━━━━━━━━━━━━━━━━━\u001b[0m\u001b[37m\u001b[0m \u001b[1m3s\u001b[0m 3ms/step\n",
            "AUC_ROC:  [0.738, 0.641, 0.606, 0.595]\n",
            "PRECISION_1:  [0.556, 0.281, 0.247, 0.188]\n",
            "PRECISION_5:  [0.448, 0.262, 0.26, 0.185]\n",
            "INCOME_RATE_1:  [1.02, 1.006, 1.004, 0.998]\n",
            "INCOME_RATE_5:  [1.015, 1.005, 1.003, 0.997]\n",
            "\n",
            "\u001b[1m500/500\u001b[0m \u001b[32m━━━━━━━━━━━━━━━━━━━━\u001b[0m\u001b[37m\u001b[0m \u001b[1m23s\u001b[0m 34ms/step - auc_4: 0.7151 - loss: 0.3866\n",
            "Epoch 5/30\n",
            "\u001b[1m500/500\u001b[0m \u001b[32m━━━━━━━━━━━━━━━━━━━━\u001b[0m\u001b[37m\u001b[0m \u001b[1m1s\u001b[0m 3ms/step\n",
            "\u001b[1m1000/1000\u001b[0m \u001b[32m━━━━━━━━━━━━━━━━━━━━\u001b[0m\u001b[37m\u001b[0m \u001b[1m2s\u001b[0m 2ms/step\n",
            "\u001b[1m1000/1000\u001b[0m \u001b[32m━━━━━━━━━━━━━━━━━━━━\u001b[0m\u001b[37m\u001b[0m \u001b[1m2s\u001b[0m 2ms/step\n",
            "\u001b[1m1000/1000\u001b[0m \u001b[32m━━━━━━━━━━━━━━━━━━━━\u001b[0m\u001b[37m\u001b[0m \u001b[1m2s\u001b[0m 2ms/step\n",
            "AUC_ROC:  [0.753, 0.63, 0.611, 0.625]\n",
            "PRECISION_1:  [0.675, 0.338, 0.316, 0.247]\n",
            "PRECISION_5:  [0.464, 0.312, 0.336, 0.257]\n",
            "INCOME_RATE_1:  [1.026, 1.006, 1.006, 0.999]\n",
            "INCOME_RATE_5:  [1.013, 1.006, 1.007, 1.001]\n",
            "\n",
            "\u001b[1m500/500\u001b[0m \u001b[32m━━━━━━━━━━━━━━━━━━━━\u001b[0m\u001b[37m\u001b[0m \u001b[1m17s\u001b[0m 26ms/step - auc_4: 0.7220 - loss: 0.3849\n",
            "Epoch 6/30\n",
            "\u001b[1m500/500\u001b[0m \u001b[32m━━━━━━━━━━━━━━━━━━━━\u001b[0m\u001b[37m\u001b[0m \u001b[1m1s\u001b[0m 3ms/step\n",
            "\u001b[1m1000/1000\u001b[0m \u001b[32m━━━━━━━━━━━━━━━━━━━━\u001b[0m\u001b[37m\u001b[0m \u001b[1m4s\u001b[0m 4ms/step\n",
            "\u001b[1m1000/1000\u001b[0m \u001b[32m━━━━━━━━━━━━━━━━━━━━\u001b[0m\u001b[37m\u001b[0m \u001b[1m2s\u001b[0m 2ms/step\n",
            "\u001b[1m1000/1000\u001b[0m \u001b[32m━━━━━━━━━━━━━━━━━━━━\u001b[0m\u001b[37m\u001b[0m \u001b[1m2s\u001b[0m 2ms/step\n",
            "AUC_ROC:  [0.754, 0.678, 0.621, 0.624]\n",
            "PRECISION_1:  [0.612, 0.556, 0.475, 0.262]\n",
            "PRECISION_5:  [0.468, 0.429, 0.351, 0.264]\n",
            "INCOME_RATE_1:  [1.022, 1.018, 1.013, 0.998]\n",
            "INCOME_RATE_5:  [1.013, 1.012, 1.007, 1.001]\n",
            "\n",
            "\u001b[1m500/500\u001b[0m \u001b[32m━━━━━━━━━━━━━━━━━━━━\u001b[0m\u001b[37m\u001b[0m \u001b[1m21s\u001b[0m 27ms/step - auc_4: 0.7454 - loss: 0.3750\n",
            "Epoch 7/30\n",
            "\u001b[1m500/500\u001b[0m \u001b[32m━━━━━━━━━━━━━━━━━━━━\u001b[0m\u001b[37m\u001b[0m \u001b[1m1s\u001b[0m 3ms/step\n",
            "\u001b[1m1000/1000\u001b[0m \u001b[32m━━━━━━━━━━━━━━━━━━━━\u001b[0m\u001b[37m\u001b[0m \u001b[1m4s\u001b[0m 4ms/step\n",
            "\u001b[1m1000/1000\u001b[0m \u001b[32m━━━━━━━━━━━━━━━━━━━━\u001b[0m\u001b[37m\u001b[0m \u001b[1m2s\u001b[0m 2ms/step\n",
            "\u001b[1m1000/1000\u001b[0m \u001b[32m━━━━━━━━━━━━━━━━━━━━\u001b[0m\u001b[37m\u001b[0m \u001b[1m2s\u001b[0m 2ms/step\n",
            "AUC_ROC:  [0.76, 0.59, 0.589, 0.565]\n",
            "PRECISION_1:  [0.625, 0.159, 0.378, 0.109]\n",
            "PRECISION_5:  [0.498, 0.154, 0.311, 0.129]\n",
            "INCOME_RATE_1:  [1.023, 0.998, 1.008, 0.993]\n",
            "INCOME_RATE_5:  [1.016, 0.997, 1.006, 0.995]\n",
            "\n",
            "\u001b[1m500/500\u001b[0m \u001b[32m━━━━━━━━━━━━━━━━━━━━\u001b[0m\u001b[37m\u001b[0m \u001b[1m14s\u001b[0m 27ms/step - auc_4: 0.7401 - loss: 0.3687\n",
            "Epoch 8/30\n",
            "\u001b[1m500/500\u001b[0m \u001b[32m━━━━━━━━━━━━━━━━━━━━\u001b[0m\u001b[37m\u001b[0m \u001b[1m1s\u001b[0m 3ms/step\n",
            "\u001b[1m1000/1000\u001b[0m \u001b[32m━━━━━━━━━━━━━━━━━━━━\u001b[0m\u001b[37m\u001b[0m \u001b[1m2s\u001b[0m 2ms/step\n",
            "\u001b[1m1000/1000\u001b[0m \u001b[32m━━━━━━━━━━━━━━━━━━━━\u001b[0m\u001b[37m\u001b[0m \u001b[1m4s\u001b[0m 4ms/step\n",
            "\u001b[1m1000/1000\u001b[0m \u001b[32m━━━━━━━━━━━━━━━━━━━━\u001b[0m\u001b[37m\u001b[0m \u001b[1m3s\u001b[0m 3ms/step\n",
            "AUC_ROC:  [0.754, 0.607, 0.598, 0.555]\n",
            "PRECISION_1:  [0.544, 0.125, 0.222, 0.094]\n",
            "PRECISION_5:  [0.461, 0.213, 0.296, 0.129]\n",
            "INCOME_RATE_1:  [1.022, 0.993, 0.997, 0.991]\n",
            "INCOME_RATE_5:  [1.015, 0.998, 1.003, 0.994]\n",
            "\n",
            "\u001b[1m500/500\u001b[0m \u001b[32m━━━━━━━━━━━━━━━━━━━━\u001b[0m\u001b[37m\u001b[0m \u001b[1m22s\u001b[0m 30ms/step - auc_4: 0.7573 - loss: 0.3550\n",
            "Epoch 9/30\n",
            "\u001b[1m500/500\u001b[0m \u001b[32m━━━━━━━━━━━━━━━━━━━━\u001b[0m\u001b[37m\u001b[0m \u001b[1m2s\u001b[0m 3ms/step\n",
            "\u001b[1m1000/1000\u001b[0m \u001b[32m━━━━━━━━━━━━━━━━━━━━\u001b[0m\u001b[37m\u001b[0m \u001b[1m2s\u001b[0m 2ms/step\n",
            "\u001b[1m1000/1000\u001b[0m \u001b[32m━━━━━━━━━━━━━━━━━━━━\u001b[0m\u001b[37m\u001b[0m \u001b[1m3s\u001b[0m 2ms/step\n",
            "\u001b[1m1000/1000\u001b[0m \u001b[32m━━━━━━━━━━━━━━━━━━━━\u001b[0m\u001b[37m\u001b[0m \u001b[1m3s\u001b[0m 3ms/step\n",
            "AUC_ROC:  [0.762, 0.625, 0.601, 0.576]\n",
            "PRECISION_1:  [0.681, 0.481, 0.359, 0.181]\n",
            "PRECISION_5:  [0.504, 0.367, 0.335, 0.207]\n",
            "INCOME_RATE_1:  [1.025, 1.013, 1.006, 0.997]\n",
            "INCOME_RATE_5:  [1.017, 1.008, 1.006, 0.998]\n",
            "\n",
            "\u001b[1m500/500\u001b[0m \u001b[32m━━━━━━━━━━━━━━━━━━━━\u001b[0m\u001b[37m\u001b[0m \u001b[1m24s\u001b[0m 37ms/step - auc_4: 0.7460 - loss: 0.3726\n",
            "Epoch 10/30\n",
            "\u001b[1m500/500\u001b[0m \u001b[32m━━━━━━━━━━━━━━━━━━━━\u001b[0m\u001b[37m\u001b[0m \u001b[1m1s\u001b[0m 3ms/step\n",
            "\u001b[1m1000/1000\u001b[0m \u001b[32m━━━━━━━━━━━━━━━━━━━━\u001b[0m\u001b[37m\u001b[0m \u001b[1m3s\u001b[0m 3ms/step\n",
            "\u001b[1m1000/1000\u001b[0m \u001b[32m━━━━━━━━━━━━━━━━━━━━\u001b[0m\u001b[37m\u001b[0m \u001b[1m3s\u001b[0m 3ms/step\n",
            "\u001b[1m1000/1000\u001b[0m \u001b[32m━━━━━━━━━━━━━━━━━━━━\u001b[0m\u001b[37m\u001b[0m \u001b[1m2s\u001b[0m 2ms/step\n",
            "AUC_ROC:  [0.778, 0.625, 0.571, 0.56]\n",
            "PRECISION_1:  [0.706, 0.419, 0.291, 0.231]\n",
            "PRECISION_5:  [0.54, 0.337, 0.294, 0.209]\n",
            "INCOME_RATE_1:  [1.029, 1.01, 1.002, 0.997]\n",
            "INCOME_RATE_5:  [1.019, 1.006, 1.003, 0.997]\n",
            "\n",
            "\u001b[1m500/500\u001b[0m \u001b[32m━━━━━━━━━━━━━━━━━━━━\u001b[0m\u001b[37m\u001b[0m \u001b[1m16s\u001b[0m 27ms/step - auc_4: 0.7771 - loss: 0.3688\n",
            "Epoch 11/30\n",
            "\u001b[1m500/500\u001b[0m \u001b[32m━━━━━━━━━━━━━━━━━━━━\u001b[0m\u001b[37m\u001b[0m \u001b[1m1s\u001b[0m 3ms/step\n",
            "\u001b[1m1000/1000\u001b[0m \u001b[32m━━━━━━━━━━━━━━━━━━━━\u001b[0m\u001b[37m\u001b[0m \u001b[1m2s\u001b[0m 2ms/step\n",
            "\u001b[1m1000/1000\u001b[0m \u001b[32m━━━━━━━━━━━━━━━━━━━━\u001b[0m\u001b[37m\u001b[0m \u001b[1m3s\u001b[0m 2ms/step\n",
            "\u001b[1m1000/1000\u001b[0m \u001b[32m━━━━━━━━━━━━━━━━━━━━\u001b[0m\u001b[37m\u001b[0m \u001b[1m4s\u001b[0m 4ms/step\n",
            "AUC_ROC:  [0.781, 0.633, 0.573, 0.604]\n",
            "PRECISION_1:  [0.775, 0.406, 0.303, 0.175]\n",
            "PRECISION_5:  [0.584, 0.332, 0.288, 0.208]\n",
            "INCOME_RATE_1:  [1.031, 1.011, 1.007, 0.995]\n",
            "INCOME_RATE_5:  [1.022, 1.006, 1.006, 0.998]\n",
            "\n",
            "\u001b[1m500/500\u001b[0m \u001b[32m━━━━━━━━━━━━━━━━━━━━\u001b[0m\u001b[37m\u001b[0m \u001b[1m21s\u001b[0m 27ms/step - auc_4: 0.7811 - loss: 0.3535\n",
            "Epoch 12/30\n",
            "\u001b[1m500/500\u001b[0m \u001b[32m━━━━━━━━━━━━━━━━━━━━\u001b[0m\u001b[37m\u001b[0m \u001b[1m2s\u001b[0m 4ms/step\n",
            "\u001b[1m1000/1000\u001b[0m \u001b[32m━━━━━━━━━━━━━━━━━━━━\u001b[0m\u001b[37m\u001b[0m \u001b[1m3s\u001b[0m 3ms/step\n",
            "\u001b[1m1000/1000\u001b[0m \u001b[32m━━━━━━━━━━━━━━━━━━━━\u001b[0m\u001b[37m\u001b[0m \u001b[1m3s\u001b[0m 3ms/step\n",
            "\u001b[1m1000/1000\u001b[0m \u001b[32m━━━━━━━━━━━━━━━━━━━━\u001b[0m\u001b[37m\u001b[0m \u001b[1m3s\u001b[0m 3ms/step\n",
            "AUC_ROC:  [0.779, 0.657, 0.606, 0.576]\n",
            "PRECISION_1:  [0.738, 0.541, 0.391, 0.194]\n",
            "PRECISION_5:  [0.526, 0.401, 0.342, 0.228]\n",
            "INCOME_RATE_1:  [1.029, 1.016, 1.007, 0.996]\n",
            "INCOME_RATE_5:  [1.018, 1.009, 1.005, 0.999]\n",
            "\n",
            "\u001b[1m500/500\u001b[0m \u001b[32m━━━━━━━━━━━━━━━━━━━━\u001b[0m\u001b[37m\u001b[0m \u001b[1m21s\u001b[0m 28ms/step - auc_4: 0.7779 - loss: 0.3490\n",
            "Epoch 13/30\n",
            "\u001b[1m500/500\u001b[0m \u001b[32m━━━━━━━━━━━━━━━━━━━━\u001b[0m\u001b[37m\u001b[0m \u001b[1m2s\u001b[0m 4ms/step\n",
            "\u001b[1m1000/1000\u001b[0m \u001b[32m━━━━━━━━━━━━━━━━━━━━\u001b[0m\u001b[37m\u001b[0m \u001b[1m2s\u001b[0m 2ms/step\n",
            "\u001b[1m1000/1000\u001b[0m \u001b[32m━━━━━━━━━━━━━━━━━━━━\u001b[0m\u001b[37m\u001b[0m \u001b[1m3s\u001b[0m 2ms/step\n",
            "\u001b[1m1000/1000\u001b[0m \u001b[32m━━━━━━━━━━━━━━━━━━━━\u001b[0m\u001b[37m\u001b[0m \u001b[1m2s\u001b[0m 2ms/step\n",
            "AUC_ROC:  [0.779, 0.644, 0.598, 0.594]\n",
            "PRECISION_1:  [0.719, 0.459, 0.331, 0.191]\n",
            "PRECISION_5:  [0.551, 0.357, 0.317, 0.215]\n",
            "INCOME_RATE_1:  [1.027, 1.013, 1.006, 0.997]\n",
            "INCOME_RATE_5:  [1.021, 1.008, 1.005, 0.999]\n",
            "\n",
            "\u001b[1m500/500\u001b[0m \u001b[32m━━━━━━━━━━━━━━━━━━━━\u001b[0m\u001b[37m\u001b[0m \u001b[1m14s\u001b[0m 28ms/step - auc_4: 0.7847 - loss: 0.3631\n",
            "Epoch 14/30\n",
            "\u001b[1m500/500\u001b[0m \u001b[32m━━━━━━━━━━━━━━━━━━━━\u001b[0m\u001b[37m\u001b[0m \u001b[1m1s\u001b[0m 3ms/step\n",
            "\u001b[1m1000/1000\u001b[0m \u001b[32m━━━━━━━━━━━━━━━━━━━━\u001b[0m\u001b[37m\u001b[0m \u001b[1m3s\u001b[0m 3ms/step\n",
            "\u001b[1m1000/1000\u001b[0m \u001b[32m━━━━━━━━━━━━━━━━━━━━\u001b[0m\u001b[37m\u001b[0m \u001b[1m2s\u001b[0m 2ms/step\n",
            "\u001b[1m1000/1000\u001b[0m \u001b[32m━━━━━━━━━━━━━━━━━━━━\u001b[0m\u001b[37m\u001b[0m \u001b[1m2s\u001b[0m 2ms/step\n",
            "AUC_ROC:  [0.797, 0.615, 0.583, 0.583]\n",
            "PRECISION_1:  [0.719, 0.253, 0.175, 0.144]\n",
            "PRECISION_5:  [0.56, 0.247, 0.236, 0.199]\n",
            "INCOME_RATE_1:  [1.029, 1.0, 0.996, 0.996]\n",
            "INCOME_RATE_5:  [1.02, 1.0, 0.999, 0.999]\n",
            "\n",
            "\u001b[1m500/500\u001b[0m \u001b[32m━━━━━━━━━━━━━━━━━━━━\u001b[0m\u001b[37m\u001b[0m \u001b[1m22s\u001b[0m 30ms/step - auc_4: 0.7825 - loss: 0.3561\n",
            "Epoch 15/30\n",
            "\u001b[1m500/500\u001b[0m \u001b[32m━━━━━━━━━━━━━━━━━━━━\u001b[0m\u001b[37m\u001b[0m \u001b[1m2s\u001b[0m 3ms/step\n",
            "\u001b[1m1000/1000\u001b[0m \u001b[32m━━━━━━━━━━━━━━━━━━━━\u001b[0m\u001b[37m\u001b[0m \u001b[1m3s\u001b[0m 3ms/step\n",
            "\u001b[1m1000/1000\u001b[0m \u001b[32m━━━━━━━━━━━━━━━━━━━━\u001b[0m\u001b[37m\u001b[0m \u001b[1m3s\u001b[0m 2ms/step\n",
            "\u001b[1m1000/1000\u001b[0m \u001b[32m━━━━━━━━━━━━━━━━━━━━\u001b[0m\u001b[37m\u001b[0m \u001b[1m3s\u001b[0m 2ms/step\n",
            "AUC_ROC:  [0.798, 0.629, 0.577, 0.606]\n",
            "PRECISION_1:  [0.831, 0.369, 0.238, 0.269]\n",
            "PRECISION_5:  [0.574, 0.292, 0.263, 0.257]\n",
            "INCOME_RATE_1:  [1.033, 1.008, 1.0, 1.004]\n",
            "INCOME_RATE_5:  [1.021, 1.004, 1.002, 1.003]\n",
            "\n",
            "\u001b[1m500/500\u001b[0m \u001b[32m━━━━━━━━━━━━━━━━━━━━\u001b[0m\u001b[37m\u001b[0m \u001b[1m14s\u001b[0m 28ms/step - auc_4: 0.7891 - loss: 0.3436\n",
            "Epoch 16/30\n",
            "\u001b[1m500/500\u001b[0m \u001b[32m━━━━━━━━━━━━━━━━━━━━\u001b[0m\u001b[37m\u001b[0m \u001b[1m1s\u001b[0m 3ms/step\n",
            "\u001b[1m1000/1000\u001b[0m \u001b[32m━━━━━━━━━━━━━━━━━━━━\u001b[0m\u001b[37m\u001b[0m \u001b[1m3s\u001b[0m 3ms/step\n",
            "\u001b[1m1000/1000\u001b[0m \u001b[32m━━━━━━━━━━━━━━━━━━━━\u001b[0m\u001b[37m\u001b[0m \u001b[1m3s\u001b[0m 2ms/step\n",
            "\u001b[1m1000/1000\u001b[0m \u001b[32m━━━━━━━━━━━━━━━━━━━━\u001b[0m\u001b[37m\u001b[0m \u001b[1m3s\u001b[0m 3ms/step\n",
            "AUC_ROC:  [0.804, 0.605, 0.553, 0.606]\n",
            "PRECISION_1:  [0.794, 0.247, 0.231, 0.203]\n",
            "PRECISION_5:  [0.599, 0.245, 0.233, 0.216]\n",
            "INCOME_RATE_1:  [1.031, 1.004, 1.001, 1.0]\n",
            "INCOME_RATE_5:  [1.023, 1.003, 1.001, 1.001]\n",
            "\n",
            "\u001b[1m500/500\u001b[0m \u001b[32m━━━━━━━━━━━━━━━━━━━━\u001b[0m\u001b[37m\u001b[0m \u001b[1m21s\u001b[0m 30ms/step - auc_4: 0.7913 - loss: 0.3418\n",
            "Epoch 17/30\n",
            "\u001b[1m500/500\u001b[0m \u001b[32m━━━━━━━━━━━━━━━━━━━━\u001b[0m\u001b[37m\u001b[0m \u001b[1m1s\u001b[0m 2ms/step\n",
            "\u001b[1m1000/1000\u001b[0m \u001b[32m━━━━━━━━━━━━━━━━━━━━\u001b[0m\u001b[37m\u001b[0m \u001b[1m3s\u001b[0m 2ms/step\n",
            "\u001b[1m1000/1000\u001b[0m \u001b[32m━━━━━━━━━━━━━━━━━━━━\u001b[0m\u001b[37m\u001b[0m \u001b[1m3s\u001b[0m 3ms/step\n",
            "\u001b[1m1000/1000\u001b[0m \u001b[32m━━━━━━━━━━━━━━━━━━━━\u001b[0m\u001b[37m\u001b[0m \u001b[1m4s\u001b[0m 4ms/step\n",
            "AUC_ROC:  [0.812, 0.624, 0.572, 0.584]\n",
            "PRECISION_1:  [0.8, 0.275, 0.291, 0.103]\n",
            "PRECISION_5:  [0.582, 0.251, 0.281, 0.195]\n",
            "INCOME_RATE_1:  [1.031, 1.003, 1.005, 0.992]\n",
            "INCOME_RATE_5:  [1.022, 1.002, 1.004, 0.999]\n",
            "\n",
            "\u001b[1m500/500\u001b[0m \u001b[32m━━━━━━━━━━━━━━━━━━━━\u001b[0m\u001b[37m\u001b[0m \u001b[1m19s\u001b[0m 28ms/step - auc_4: 0.8043 - loss: 0.3428\n",
            "Epoch 18/30\n",
            "\u001b[1m500/500\u001b[0m \u001b[32m━━━━━━━━━━━━━━━━━━━━\u001b[0m\u001b[37m\u001b[0m \u001b[1m2s\u001b[0m 4ms/step\n",
            "\u001b[1m1000/1000\u001b[0m \u001b[32m━━━━━━━━━━━━━━━━━━━━\u001b[0m\u001b[37m\u001b[0m \u001b[1m3s\u001b[0m 2ms/step\n",
            "\u001b[1m1000/1000\u001b[0m \u001b[32m━━━━━━━━━━━━━━━━━━━━\u001b[0m\u001b[37m\u001b[0m \u001b[1m3s\u001b[0m 3ms/step\n",
            "\u001b[1m1000/1000\u001b[0m \u001b[32m━━━━━━━━━━━━━━━━━━━━\u001b[0m\u001b[37m\u001b[0m \u001b[1m2s\u001b[0m 2ms/step\n",
            "AUC_ROC:  [0.809, 0.604, 0.575, 0.588]\n",
            "PRECISION_1:  [0.794, 0.25, 0.234, 0.197]\n",
            "PRECISION_5:  [0.604, 0.252, 0.266, 0.229]\n",
            "INCOME_RATE_1:  [1.033, 1.002, 1.001, 0.999]\n",
            "INCOME_RATE_5:  [1.023, 1.002, 1.003, 1.001]\n",
            "\n",
            "\u001b[1m500/500\u001b[0m \u001b[32m━━━━━━━━━━━━━━━━━━━━\u001b[0m\u001b[37m\u001b[0m \u001b[1m20s\u001b[0m 28ms/step - auc_4: 0.8106 - loss: 0.3445\n",
            "Epoch 19/30\n",
            "\u001b[1m500/500\u001b[0m \u001b[32m━━━━━━━━━━━━━━━━━━━━\u001b[0m\u001b[37m\u001b[0m \u001b[1m1s\u001b[0m 3ms/step\n",
            "\u001b[1m 944/1000\u001b[0m \u001b[32m━━━━━━━━━━━━━━━━━━\u001b[0m\u001b[37m━━\u001b[0m \u001b[1m0s\u001b[0m 2ms/step"
          ]
        },
        {
          "output_type": "error",
          "ename": "KeyboardInterrupt",
          "evalue": "",
          "traceback": [
            "\u001b[0;31m---------------------------------------------------------------------------\u001b[0m",
            "\u001b[0;31mKeyboardInterrupt\u001b[0m                         Traceback (most recent call last)",
            "\u001b[0;32m<ipython-input-87-c56496ab5824>\u001b[0m in \u001b[0;36m<cell line: 0>\u001b[0;34m()\u001b[0m\n\u001b[0;32m----> 1\u001b[0;31m \u001b[0mmodel\u001b[0m\u001b[0;34m.\u001b[0m\u001b[0mfit\u001b[0m\u001b[0;34m(\u001b[0m\u001b[0mdataset_train\u001b[0m\u001b[0;34m,\u001b[0m \u001b[0mepochs\u001b[0m\u001b[0;34m=\u001b[0m\u001b[0mEPOCHS\u001b[0m\u001b[0;34m,\u001b[0m \u001b[0mcallbacks\u001b[0m\u001b[0;34m=\u001b[0m\u001b[0mcallbacks\u001b[0m\u001b[0;34m)\u001b[0m\u001b[0;34m\u001b[0m\u001b[0;34m\u001b[0m\u001b[0m\n\u001b[0m",
            "\u001b[0;32m/usr/local/lib/python3.11/dist-packages/keras/src/utils/traceback_utils.py\u001b[0m in \u001b[0;36merror_handler\u001b[0;34m(*args, **kwargs)\u001b[0m\n\u001b[1;32m    115\u001b[0m         \u001b[0mfiltered_tb\u001b[0m \u001b[0;34m=\u001b[0m \u001b[0;32mNone\u001b[0m\u001b[0;34m\u001b[0m\u001b[0;34m\u001b[0m\u001b[0m\n\u001b[1;32m    116\u001b[0m         \u001b[0;32mtry\u001b[0m\u001b[0;34m:\u001b[0m\u001b[0;34m\u001b[0m\u001b[0;34m\u001b[0m\u001b[0m\n\u001b[0;32m--> 117\u001b[0;31m             \u001b[0;32mreturn\u001b[0m \u001b[0mfn\u001b[0m\u001b[0;34m(\u001b[0m\u001b[0;34m*\u001b[0m\u001b[0margs\u001b[0m\u001b[0;34m,\u001b[0m \u001b[0;34m**\u001b[0m\u001b[0mkwargs\u001b[0m\u001b[0;34m)\u001b[0m\u001b[0;34m\u001b[0m\u001b[0;34m\u001b[0m\u001b[0m\n\u001b[0m\u001b[1;32m    118\u001b[0m         \u001b[0;32mexcept\u001b[0m \u001b[0mException\u001b[0m \u001b[0;32mas\u001b[0m \u001b[0me\u001b[0m\u001b[0;34m:\u001b[0m\u001b[0;34m\u001b[0m\u001b[0;34m\u001b[0m\u001b[0m\n\u001b[1;32m    119\u001b[0m             \u001b[0mfiltered_tb\u001b[0m \u001b[0;34m=\u001b[0m \u001b[0m_process_traceback_frames\u001b[0m\u001b[0;34m(\u001b[0m\u001b[0me\u001b[0m\u001b[0;34m.\u001b[0m\u001b[0m__traceback__\u001b[0m\u001b[0;34m)\u001b[0m\u001b[0;34m\u001b[0m\u001b[0;34m\u001b[0m\u001b[0m\n",
            "\u001b[0;32m/usr/local/lib/python3.11/dist-packages/keras/src/backend/tensorflow/trainer.py\u001b[0m in \u001b[0;36mfit\u001b[0;34m(self, x, y, batch_size, epochs, verbose, callbacks, validation_split, validation_data, shuffle, class_weight, sample_weight, initial_epoch, steps_per_epoch, validation_steps, validation_batch_size, validation_freq)\u001b[0m\n\u001b[1;32m    358\u001b[0m                 \u001b[0mepoch_logs\u001b[0m\u001b[0;34m.\u001b[0m\u001b[0mupdate\u001b[0m\u001b[0;34m(\u001b[0m\u001b[0mval_logs\u001b[0m\u001b[0;34m)\u001b[0m\u001b[0;34m\u001b[0m\u001b[0;34m\u001b[0m\u001b[0m\n\u001b[1;32m    359\u001b[0m \u001b[0;34m\u001b[0m\u001b[0m\n\u001b[0;32m--> 360\u001b[0;31m             \u001b[0mcallbacks\u001b[0m\u001b[0;34m.\u001b[0m\u001b[0mon_epoch_end\u001b[0m\u001b[0;34m(\u001b[0m\u001b[0mepoch\u001b[0m\u001b[0;34m,\u001b[0m \u001b[0mepoch_logs\u001b[0m\u001b[0;34m)\u001b[0m\u001b[0;34m\u001b[0m\u001b[0;34m\u001b[0m\u001b[0m\n\u001b[0m\u001b[1;32m    361\u001b[0m             \u001b[0mtraining_logs\u001b[0m \u001b[0;34m=\u001b[0m \u001b[0mepoch_logs\u001b[0m\u001b[0;34m\u001b[0m\u001b[0;34m\u001b[0m\u001b[0m\n\u001b[1;32m    362\u001b[0m             \u001b[0;32mif\u001b[0m \u001b[0mself\u001b[0m\u001b[0;34m.\u001b[0m\u001b[0mstop_training\u001b[0m\u001b[0;34m:\u001b[0m\u001b[0;34m\u001b[0m\u001b[0;34m\u001b[0m\u001b[0m\n",
            "\u001b[0;32m/usr/local/lib/python3.11/dist-packages/keras/src/callbacks/callback_list.py\u001b[0m in \u001b[0;36mon_epoch_end\u001b[0;34m(self, epoch, logs)\u001b[0m\n\u001b[1;32m     94\u001b[0m         \u001b[0mlogs\u001b[0m \u001b[0;34m=\u001b[0m \u001b[0mlogs\u001b[0m \u001b[0;32mor\u001b[0m \u001b[0;34m{\u001b[0m\u001b[0;34m}\u001b[0m\u001b[0;34m\u001b[0m\u001b[0;34m\u001b[0m\u001b[0m\n\u001b[1;32m     95\u001b[0m         \u001b[0;32mfor\u001b[0m \u001b[0mcallback\u001b[0m \u001b[0;32min\u001b[0m \u001b[0mself\u001b[0m\u001b[0;34m.\u001b[0m\u001b[0mcallbacks\u001b[0m\u001b[0;34m:\u001b[0m\u001b[0;34m\u001b[0m\u001b[0;34m\u001b[0m\u001b[0m\n\u001b[0;32m---> 96\u001b[0;31m             \u001b[0mcallback\u001b[0m\u001b[0;34m.\u001b[0m\u001b[0mon_epoch_end\u001b[0m\u001b[0;34m(\u001b[0m\u001b[0mepoch\u001b[0m\u001b[0;34m,\u001b[0m \u001b[0mlogs\u001b[0m\u001b[0;34m)\u001b[0m\u001b[0;34m\u001b[0m\u001b[0;34m\u001b[0m\u001b[0m\n\u001b[0m\u001b[1;32m     97\u001b[0m \u001b[0;34m\u001b[0m\u001b[0m\n\u001b[1;32m     98\u001b[0m     \u001b[0;32mdef\u001b[0m \u001b[0mon_train_batch_begin\u001b[0m\u001b[0;34m(\u001b[0m\u001b[0mself\u001b[0m\u001b[0;34m,\u001b[0m \u001b[0mbatch\u001b[0m\u001b[0;34m,\u001b[0m \u001b[0mlogs\u001b[0m\u001b[0;34m=\u001b[0m\u001b[0;32mNone\u001b[0m\u001b[0;34m)\u001b[0m\u001b[0;34m:\u001b[0m\u001b[0;34m\u001b[0m\u001b[0;34m\u001b[0m\u001b[0m\n",
            "\u001b[0;32m<ipython-input-51-95fa6cc7a685>\u001b[0m in \u001b[0;36mon_epoch_end\u001b[0;34m(self, epoch, logs)\u001b[0m\n\u001b[1;32m     39\u001b[0m             \u001b[0my_true\u001b[0m \u001b[0;34m=\u001b[0m \u001b[0mget_y_true\u001b[0m\u001b[0;34m(\u001b[0m\u001b[0mdataset\u001b[0m\u001b[0;34m)\u001b[0m\u001b[0;34m\u001b[0m\u001b[0;34m\u001b[0m\u001b[0m\n\u001b[1;32m     40\u001b[0m             \u001b[0mincome_rate\u001b[0m \u001b[0;34m=\u001b[0m \u001b[0mget_income_rate\u001b[0m\u001b[0;34m(\u001b[0m\u001b[0mdataset\u001b[0m\u001b[0;34m)\u001b[0m\u001b[0;34m\u001b[0m\u001b[0;34m\u001b[0m\u001b[0m\n\u001b[0;32m---> 41\u001b[0;31m             \u001b[0my_pred\u001b[0m \u001b[0;34m=\u001b[0m \u001b[0mself\u001b[0m\u001b[0;34m.\u001b[0m\u001b[0mmodel\u001b[0m\u001b[0;34m.\u001b[0m\u001b[0mpredict\u001b[0m\u001b[0;34m(\u001b[0m\u001b[0mdataset\u001b[0m\u001b[0;34m)\u001b[0m\u001b[0;34m\u001b[0m\u001b[0;34m\u001b[0m\u001b[0m\n\u001b[0m\u001b[1;32m     42\u001b[0m \u001b[0;34m\u001b[0m\u001b[0m\n\u001b[1;32m     43\u001b[0m             \u001b[0mlist_auc\u001b[0m \u001b[0;34m+=\u001b[0m \u001b[0;34m[\u001b[0m\u001b[0mroc_auc_score\u001b[0m\u001b[0;34m(\u001b[0m\u001b[0my_true\u001b[0m\u001b[0;34m,\u001b[0m \u001b[0my_pred\u001b[0m\u001b[0;34m)\u001b[0m\u001b[0;34m]\u001b[0m\u001b[0;34m\u001b[0m\u001b[0;34m\u001b[0m\u001b[0m\n",
            "\u001b[0;32m/usr/local/lib/python3.11/dist-packages/keras/src/utils/traceback_utils.py\u001b[0m in \u001b[0;36merror_handler\u001b[0;34m(*args, **kwargs)\u001b[0m\n\u001b[1;32m    115\u001b[0m         \u001b[0mfiltered_tb\u001b[0m \u001b[0;34m=\u001b[0m \u001b[0;32mNone\u001b[0m\u001b[0;34m\u001b[0m\u001b[0;34m\u001b[0m\u001b[0m\n\u001b[1;32m    116\u001b[0m         \u001b[0;32mtry\u001b[0m\u001b[0;34m:\u001b[0m\u001b[0;34m\u001b[0m\u001b[0;34m\u001b[0m\u001b[0m\n\u001b[0;32m--> 117\u001b[0;31m             \u001b[0;32mreturn\u001b[0m \u001b[0mfn\u001b[0m\u001b[0;34m(\u001b[0m\u001b[0;34m*\u001b[0m\u001b[0margs\u001b[0m\u001b[0;34m,\u001b[0m \u001b[0;34m**\u001b[0m\u001b[0mkwargs\u001b[0m\u001b[0;34m)\u001b[0m\u001b[0;34m\u001b[0m\u001b[0;34m\u001b[0m\u001b[0m\n\u001b[0m\u001b[1;32m    118\u001b[0m         \u001b[0;32mexcept\u001b[0m \u001b[0mException\u001b[0m \u001b[0;32mas\u001b[0m \u001b[0me\u001b[0m\u001b[0;34m:\u001b[0m\u001b[0;34m\u001b[0m\u001b[0;34m\u001b[0m\u001b[0m\n\u001b[1;32m    119\u001b[0m             \u001b[0mfiltered_tb\u001b[0m \u001b[0;34m=\u001b[0m \u001b[0m_process_traceback_frames\u001b[0m\u001b[0;34m(\u001b[0m\u001b[0me\u001b[0m\u001b[0;34m.\u001b[0m\u001b[0m__traceback__\u001b[0m\u001b[0;34m)\u001b[0m\u001b[0;34m\u001b[0m\u001b[0;34m\u001b[0m\u001b[0m\n",
            "\u001b[0;32m/usr/local/lib/python3.11/dist-packages/keras/src/backend/tensorflow/trainer.py\u001b[0m in \u001b[0;36mpredict\u001b[0;34m(self, x, batch_size, verbose, steps, callbacks)\u001b[0m\n\u001b[1;32m    510\u001b[0m                 \u001b[0mcallbacks\u001b[0m\u001b[0;34m.\u001b[0m\u001b[0mon_predict_batch_begin\u001b[0m\u001b[0;34m(\u001b[0m\u001b[0mstep\u001b[0m\u001b[0;34m)\u001b[0m\u001b[0;34m\u001b[0m\u001b[0;34m\u001b[0m\u001b[0m\n\u001b[1;32m    511\u001b[0m                 \u001b[0mdata\u001b[0m \u001b[0;34m=\u001b[0m \u001b[0mget_data\u001b[0m\u001b[0;34m(\u001b[0m\u001b[0miterator\u001b[0m\u001b[0;34m)\u001b[0m\u001b[0;34m\u001b[0m\u001b[0;34m\u001b[0m\u001b[0m\n\u001b[0;32m--> 512\u001b[0;31m                 \u001b[0mbatch_outputs\u001b[0m \u001b[0;34m=\u001b[0m \u001b[0mself\u001b[0m\u001b[0;34m.\u001b[0m\u001b[0mpredict_function\u001b[0m\u001b[0;34m(\u001b[0m\u001b[0mdata\u001b[0m\u001b[0;34m)\u001b[0m\u001b[0;34m\u001b[0m\u001b[0;34m\u001b[0m\u001b[0m\n\u001b[0m\u001b[1;32m    513\u001b[0m                 \u001b[0moutputs\u001b[0m \u001b[0;34m=\u001b[0m \u001b[0mappend_to_outputs\u001b[0m\u001b[0;34m(\u001b[0m\u001b[0mbatch_outputs\u001b[0m\u001b[0;34m,\u001b[0m \u001b[0moutputs\u001b[0m\u001b[0;34m)\u001b[0m\u001b[0;34m\u001b[0m\u001b[0;34m\u001b[0m\u001b[0m\n\u001b[1;32m    514\u001b[0m                 \u001b[0mcallbacks\u001b[0m\u001b[0;34m.\u001b[0m\u001b[0mon_predict_batch_end\u001b[0m\u001b[0;34m(\u001b[0m\u001b[0mstep\u001b[0m\u001b[0;34m,\u001b[0m \u001b[0;34m{\u001b[0m\u001b[0;34m\"outputs\"\u001b[0m\u001b[0;34m:\u001b[0m \u001b[0mbatch_outputs\u001b[0m\u001b[0;34m}\u001b[0m\u001b[0;34m)\u001b[0m\u001b[0;34m\u001b[0m\u001b[0;34m\u001b[0m\u001b[0m\n",
            "\u001b[0;32m/usr/local/lib/python3.11/dist-packages/tensorflow/python/util/traceback_utils.py\u001b[0m in \u001b[0;36merror_handler\u001b[0;34m(*args, **kwargs)\u001b[0m\n\u001b[1;32m    148\u001b[0m     \u001b[0mfiltered_tb\u001b[0m \u001b[0;34m=\u001b[0m \u001b[0;32mNone\u001b[0m\u001b[0;34m\u001b[0m\u001b[0;34m\u001b[0m\u001b[0m\n\u001b[1;32m    149\u001b[0m     \u001b[0;32mtry\u001b[0m\u001b[0;34m:\u001b[0m\u001b[0;34m\u001b[0m\u001b[0;34m\u001b[0m\u001b[0m\n\u001b[0;32m--> 150\u001b[0;31m       \u001b[0;32mreturn\u001b[0m \u001b[0mfn\u001b[0m\u001b[0;34m(\u001b[0m\u001b[0;34m*\u001b[0m\u001b[0margs\u001b[0m\u001b[0;34m,\u001b[0m \u001b[0;34m**\u001b[0m\u001b[0mkwargs\u001b[0m\u001b[0;34m)\u001b[0m\u001b[0;34m\u001b[0m\u001b[0;34m\u001b[0m\u001b[0m\n\u001b[0m\u001b[1;32m    151\u001b[0m     \u001b[0;32mexcept\u001b[0m \u001b[0mException\u001b[0m \u001b[0;32mas\u001b[0m \u001b[0me\u001b[0m\u001b[0;34m:\u001b[0m\u001b[0;34m\u001b[0m\u001b[0;34m\u001b[0m\u001b[0m\n\u001b[1;32m    152\u001b[0m       \u001b[0mfiltered_tb\u001b[0m \u001b[0;34m=\u001b[0m \u001b[0m_process_traceback_frames\u001b[0m\u001b[0;34m(\u001b[0m\u001b[0me\u001b[0m\u001b[0;34m.\u001b[0m\u001b[0m__traceback__\u001b[0m\u001b[0;34m)\u001b[0m\u001b[0;34m\u001b[0m\u001b[0;34m\u001b[0m\u001b[0m\n",
            "\u001b[0;32m/usr/local/lib/python3.11/dist-packages/tensorflow/python/eager/polymorphic_function/polymorphic_function.py\u001b[0m in \u001b[0;36m__call__\u001b[0;34m(self, *args, **kwds)\u001b[0m\n\u001b[1;32m    831\u001b[0m \u001b[0;34m\u001b[0m\u001b[0m\n\u001b[1;32m    832\u001b[0m       \u001b[0;32mwith\u001b[0m \u001b[0mOptionalXlaContext\u001b[0m\u001b[0;34m(\u001b[0m\u001b[0mself\u001b[0m\u001b[0;34m.\u001b[0m\u001b[0m_jit_compile\u001b[0m\u001b[0;34m)\u001b[0m\u001b[0;34m:\u001b[0m\u001b[0;34m\u001b[0m\u001b[0;34m\u001b[0m\u001b[0m\n\u001b[0;32m--> 833\u001b[0;31m         \u001b[0mresult\u001b[0m \u001b[0;34m=\u001b[0m \u001b[0mself\u001b[0m\u001b[0;34m.\u001b[0m\u001b[0m_call\u001b[0m\u001b[0;34m(\u001b[0m\u001b[0;34m*\u001b[0m\u001b[0margs\u001b[0m\u001b[0;34m,\u001b[0m \u001b[0;34m**\u001b[0m\u001b[0mkwds\u001b[0m\u001b[0;34m)\u001b[0m\u001b[0;34m\u001b[0m\u001b[0;34m\u001b[0m\u001b[0m\n\u001b[0m\u001b[1;32m    834\u001b[0m \u001b[0;34m\u001b[0m\u001b[0m\n\u001b[1;32m    835\u001b[0m       \u001b[0mnew_tracing_count\u001b[0m \u001b[0;34m=\u001b[0m \u001b[0mself\u001b[0m\u001b[0;34m.\u001b[0m\u001b[0mexperimental_get_tracing_count\u001b[0m\u001b[0;34m(\u001b[0m\u001b[0;34m)\u001b[0m\u001b[0;34m\u001b[0m\u001b[0;34m\u001b[0m\u001b[0m\n",
            "\u001b[0;32m/usr/local/lib/python3.11/dist-packages/tensorflow/python/eager/polymorphic_function/polymorphic_function.py\u001b[0m in \u001b[0;36m_call\u001b[0;34m(self, *args, **kwds)\u001b[0m\n\u001b[1;32m    876\u001b[0m       \u001b[0;31m# In this case we have not created variables on the first call. So we can\u001b[0m\u001b[0;34m\u001b[0m\u001b[0;34m\u001b[0m\u001b[0m\n\u001b[1;32m    877\u001b[0m       \u001b[0;31m# run the first trace but we should fail if variables are created.\u001b[0m\u001b[0;34m\u001b[0m\u001b[0;34m\u001b[0m\u001b[0m\n\u001b[0;32m--> 878\u001b[0;31m       results = tracing_compilation.call_function(\n\u001b[0m\u001b[1;32m    879\u001b[0m           \u001b[0margs\u001b[0m\u001b[0;34m,\u001b[0m \u001b[0mkwds\u001b[0m\u001b[0;34m,\u001b[0m \u001b[0mself\u001b[0m\u001b[0;34m.\u001b[0m\u001b[0m_variable_creation_config\u001b[0m\u001b[0;34m\u001b[0m\u001b[0;34m\u001b[0m\u001b[0m\n\u001b[1;32m    880\u001b[0m       )\n",
            "\u001b[0;32m/usr/local/lib/python3.11/dist-packages/tensorflow/python/eager/polymorphic_function/tracing_compilation.py\u001b[0m in \u001b[0;36mcall_function\u001b[0;34m(args, kwargs, tracing_options)\u001b[0m\n\u001b[1;32m    137\u001b[0m   \u001b[0mbound_args\u001b[0m \u001b[0;34m=\u001b[0m \u001b[0mfunction\u001b[0m\u001b[0;34m.\u001b[0m\u001b[0mfunction_type\u001b[0m\u001b[0;34m.\u001b[0m\u001b[0mbind\u001b[0m\u001b[0;34m(\u001b[0m\u001b[0;34m*\u001b[0m\u001b[0margs\u001b[0m\u001b[0;34m,\u001b[0m \u001b[0;34m**\u001b[0m\u001b[0mkwargs\u001b[0m\u001b[0;34m)\u001b[0m\u001b[0;34m\u001b[0m\u001b[0;34m\u001b[0m\u001b[0m\n\u001b[1;32m    138\u001b[0m   \u001b[0mflat_inputs\u001b[0m \u001b[0;34m=\u001b[0m \u001b[0mfunction\u001b[0m\u001b[0;34m.\u001b[0m\u001b[0mfunction_type\u001b[0m\u001b[0;34m.\u001b[0m\u001b[0munpack_inputs\u001b[0m\u001b[0;34m(\u001b[0m\u001b[0mbound_args\u001b[0m\u001b[0;34m)\u001b[0m\u001b[0;34m\u001b[0m\u001b[0;34m\u001b[0m\u001b[0m\n\u001b[0;32m--> 139\u001b[0;31m   return function._call_flat(  # pylint: disable=protected-access\n\u001b[0m\u001b[1;32m    140\u001b[0m       \u001b[0mflat_inputs\u001b[0m\u001b[0;34m,\u001b[0m \u001b[0mcaptured_inputs\u001b[0m\u001b[0;34m=\u001b[0m\u001b[0mfunction\u001b[0m\u001b[0;34m.\u001b[0m\u001b[0mcaptured_inputs\u001b[0m\u001b[0;34m\u001b[0m\u001b[0;34m\u001b[0m\u001b[0m\n\u001b[1;32m    141\u001b[0m   )\n",
            "\u001b[0;32m/usr/local/lib/python3.11/dist-packages/tensorflow/python/eager/polymorphic_function/concrete_function.py\u001b[0m in \u001b[0;36m_call_flat\u001b[0;34m(self, tensor_inputs, captured_inputs)\u001b[0m\n\u001b[1;32m   1320\u001b[0m         and executing_eagerly):\n\u001b[1;32m   1321\u001b[0m       \u001b[0;31m# No tape is watching; skip to running the function.\u001b[0m\u001b[0;34m\u001b[0m\u001b[0;34m\u001b[0m\u001b[0m\n\u001b[0;32m-> 1322\u001b[0;31m       \u001b[0;32mreturn\u001b[0m \u001b[0mself\u001b[0m\u001b[0;34m.\u001b[0m\u001b[0m_inference_function\u001b[0m\u001b[0;34m.\u001b[0m\u001b[0mcall_preflattened\u001b[0m\u001b[0;34m(\u001b[0m\u001b[0margs\u001b[0m\u001b[0;34m)\u001b[0m\u001b[0;34m\u001b[0m\u001b[0;34m\u001b[0m\u001b[0m\n\u001b[0m\u001b[1;32m   1323\u001b[0m     forward_backward = self._select_forward_and_backward_functions(\n\u001b[1;32m   1324\u001b[0m         \u001b[0margs\u001b[0m\u001b[0;34m,\u001b[0m\u001b[0;34m\u001b[0m\u001b[0;34m\u001b[0m\u001b[0m\n",
            "\u001b[0;32m/usr/local/lib/python3.11/dist-packages/tensorflow/python/eager/polymorphic_function/atomic_function.py\u001b[0m in \u001b[0;36mcall_preflattened\u001b[0;34m(self, args)\u001b[0m\n\u001b[1;32m    214\u001b[0m   \u001b[0;32mdef\u001b[0m \u001b[0mcall_preflattened\u001b[0m\u001b[0;34m(\u001b[0m\u001b[0mself\u001b[0m\u001b[0;34m,\u001b[0m \u001b[0margs\u001b[0m\u001b[0;34m:\u001b[0m \u001b[0mSequence\u001b[0m\u001b[0;34m[\u001b[0m\u001b[0mcore\u001b[0m\u001b[0;34m.\u001b[0m\u001b[0mTensor\u001b[0m\u001b[0;34m]\u001b[0m\u001b[0;34m)\u001b[0m \u001b[0;34m->\u001b[0m \u001b[0mAny\u001b[0m\u001b[0;34m:\u001b[0m\u001b[0;34m\u001b[0m\u001b[0;34m\u001b[0m\u001b[0m\n\u001b[1;32m    215\u001b[0m     \u001b[0;34m\"\"\"Calls with flattened tensor inputs and returns the structured output.\"\"\"\u001b[0m\u001b[0;34m\u001b[0m\u001b[0;34m\u001b[0m\u001b[0m\n\u001b[0;32m--> 216\u001b[0;31m     \u001b[0mflat_outputs\u001b[0m \u001b[0;34m=\u001b[0m \u001b[0mself\u001b[0m\u001b[0;34m.\u001b[0m\u001b[0mcall_flat\u001b[0m\u001b[0;34m(\u001b[0m\u001b[0;34m*\u001b[0m\u001b[0margs\u001b[0m\u001b[0;34m)\u001b[0m\u001b[0;34m\u001b[0m\u001b[0;34m\u001b[0m\u001b[0m\n\u001b[0m\u001b[1;32m    217\u001b[0m     \u001b[0;32mreturn\u001b[0m \u001b[0mself\u001b[0m\u001b[0;34m.\u001b[0m\u001b[0mfunction_type\u001b[0m\u001b[0;34m.\u001b[0m\u001b[0mpack_output\u001b[0m\u001b[0;34m(\u001b[0m\u001b[0mflat_outputs\u001b[0m\u001b[0;34m)\u001b[0m\u001b[0;34m\u001b[0m\u001b[0;34m\u001b[0m\u001b[0m\n\u001b[1;32m    218\u001b[0m \u001b[0;34m\u001b[0m\u001b[0m\n",
            "\u001b[0;32m/usr/local/lib/python3.11/dist-packages/tensorflow/python/eager/polymorphic_function/atomic_function.py\u001b[0m in \u001b[0;36mcall_flat\u001b[0;34m(self, *args)\u001b[0m\n\u001b[1;32m    249\u001b[0m         \u001b[0;32mwith\u001b[0m \u001b[0mrecord\u001b[0m\u001b[0;34m.\u001b[0m\u001b[0mstop_recording\u001b[0m\u001b[0;34m(\u001b[0m\u001b[0;34m)\u001b[0m\u001b[0;34m:\u001b[0m\u001b[0;34m\u001b[0m\u001b[0;34m\u001b[0m\u001b[0m\n\u001b[1;32m    250\u001b[0m           \u001b[0;32mif\u001b[0m \u001b[0mself\u001b[0m\u001b[0;34m.\u001b[0m\u001b[0m_bound_context\u001b[0m\u001b[0;34m.\u001b[0m\u001b[0mexecuting_eagerly\u001b[0m\u001b[0;34m(\u001b[0m\u001b[0;34m)\u001b[0m\u001b[0;34m:\u001b[0m\u001b[0;34m\u001b[0m\u001b[0;34m\u001b[0m\u001b[0m\n\u001b[0;32m--> 251\u001b[0;31m             outputs = self._bound_context.call_function(\n\u001b[0m\u001b[1;32m    252\u001b[0m                 \u001b[0mself\u001b[0m\u001b[0;34m.\u001b[0m\u001b[0mname\u001b[0m\u001b[0;34m,\u001b[0m\u001b[0;34m\u001b[0m\u001b[0;34m\u001b[0m\u001b[0m\n\u001b[1;32m    253\u001b[0m                 \u001b[0mlist\u001b[0m\u001b[0;34m(\u001b[0m\u001b[0margs\u001b[0m\u001b[0;34m)\u001b[0m\u001b[0;34m,\u001b[0m\u001b[0;34m\u001b[0m\u001b[0;34m\u001b[0m\u001b[0m\n",
            "\u001b[0;32m/usr/local/lib/python3.11/dist-packages/tensorflow/python/eager/context.py\u001b[0m in \u001b[0;36mcall_function\u001b[0;34m(self, name, tensor_inputs, num_outputs)\u001b[0m\n\u001b[1;32m   1550\u001b[0m     \u001b[0mcancellation_context\u001b[0m \u001b[0;34m=\u001b[0m \u001b[0mcancellation\u001b[0m\u001b[0;34m.\u001b[0m\u001b[0mcontext\u001b[0m\u001b[0;34m(\u001b[0m\u001b[0;34m)\u001b[0m\u001b[0;34m\u001b[0m\u001b[0;34m\u001b[0m\u001b[0m\n\u001b[1;32m   1551\u001b[0m     \u001b[0;32mif\u001b[0m \u001b[0mcancellation_context\u001b[0m \u001b[0;32mis\u001b[0m \u001b[0;32mNone\u001b[0m\u001b[0;34m:\u001b[0m\u001b[0;34m\u001b[0m\u001b[0;34m\u001b[0m\u001b[0m\n\u001b[0;32m-> 1552\u001b[0;31m       outputs = execute.execute(\n\u001b[0m\u001b[1;32m   1553\u001b[0m           \u001b[0mname\u001b[0m\u001b[0;34m.\u001b[0m\u001b[0mdecode\u001b[0m\u001b[0;34m(\u001b[0m\u001b[0;34m\"utf-8\"\u001b[0m\u001b[0;34m)\u001b[0m\u001b[0;34m,\u001b[0m\u001b[0;34m\u001b[0m\u001b[0;34m\u001b[0m\u001b[0m\n\u001b[1;32m   1554\u001b[0m           \u001b[0mnum_outputs\u001b[0m\u001b[0;34m=\u001b[0m\u001b[0mnum_outputs\u001b[0m\u001b[0;34m,\u001b[0m\u001b[0;34m\u001b[0m\u001b[0;34m\u001b[0m\u001b[0m\n",
            "\u001b[0;32m/usr/local/lib/python3.11/dist-packages/tensorflow/python/eager/execute.py\u001b[0m in \u001b[0;36mquick_execute\u001b[0;34m(op_name, num_outputs, inputs, attrs, ctx, name)\u001b[0m\n\u001b[1;32m     51\u001b[0m   \u001b[0;32mtry\u001b[0m\u001b[0;34m:\u001b[0m\u001b[0;34m\u001b[0m\u001b[0;34m\u001b[0m\u001b[0m\n\u001b[1;32m     52\u001b[0m     \u001b[0mctx\u001b[0m\u001b[0;34m.\u001b[0m\u001b[0mensure_initialized\u001b[0m\u001b[0;34m(\u001b[0m\u001b[0;34m)\u001b[0m\u001b[0;34m\u001b[0m\u001b[0;34m\u001b[0m\u001b[0m\n\u001b[0;32m---> 53\u001b[0;31m     tensors = pywrap_tfe.TFE_Py_Execute(ctx._handle, device_name, op_name,\n\u001b[0m\u001b[1;32m     54\u001b[0m                                         inputs, attrs, num_outputs)\n\u001b[1;32m     55\u001b[0m   \u001b[0;32mexcept\u001b[0m \u001b[0mcore\u001b[0m\u001b[0;34m.\u001b[0m\u001b[0m_NotOkStatusException\u001b[0m \u001b[0;32mas\u001b[0m \u001b[0me\u001b[0m\u001b[0;34m:\u001b[0m\u001b[0;34m\u001b[0m\u001b[0;34m\u001b[0m\u001b[0m\n",
            "\u001b[0;31mKeyboardInterrupt\u001b[0m: "
          ]
        }
      ],
      "source": [
        "model.fit(dataset_train, epochs=EPOCHS, callbacks=callbacks)"
      ]
    },
    {
      "cell_type": "code",
      "execution_count": null,
      "id": "64f53bb7-73b3-4198-b318-01b121448a0c",
      "metadata": {
        "id": "64f53bb7-73b3-4198-b318-01b121448a0c"
      },
      "outputs": [],
      "source": [
        "\n"
      ]
    },
    {
      "cell_type": "code",
      "execution_count": null,
      "id": "44eM_uASxQKP",
      "metadata": {
        "id": "44eM_uASxQKP"
      },
      "outputs": [],
      "source": []
    },
    {
      "cell_type": "code",
      "execution_count": null,
      "id": "fcccdb1c-5a6d-4640-9139-335f221e2df0",
      "metadata": {
        "id": "fcccdb1c-5a6d-4640-9139-335f221e2df0"
      },
      "outputs": [],
      "source": []
    },
    {
      "cell_type": "code",
      "execution_count": null,
      "id": "9c840f12-27b5-42ff-912d-e796bcbfc2bd",
      "metadata": {
        "id": "9c840f12-27b5-42ff-912d-e796bcbfc2bd"
      },
      "outputs": [],
      "source": [
        "df_auc = pd.DataFrame(metrics_callback.list_auc)\n",
        "df_precision = pd.DataFrame(metrics_callback.list_precision)\n",
        "# df_count = pd.DataFrame(metrics_callback.list_count)\n",
        "# df_percent = pd.DataFrame(metrics_callback.list_percent)"
      ]
    },
    {
      "cell_type": "code",
      "execution_count": null,
      "id": "ec2dcd98-bfdb-49d9-a688-fd417fa2a92c",
      "metadata": {
        "id": "ec2dcd98-bfdb-49d9-a688-fd417fa2a92c"
      },
      "outputs": [],
      "source": [
        "#df_count"
      ]
    },
    {
      "cell_type": "code",
      "execution_count": null,
      "id": "9f4e66ab-c7ce-4790-babd-2d63415ea17c",
      "metadata": {
        "id": "9f4e66ab-c7ce-4790-babd-2d63415ea17c"
      },
      "outputs": [],
      "source": [
        "df_precision"
      ]
    },
    {
      "cell_type": "code",
      "execution_count": null,
      "id": "cd254888-a8df-4878-8a7d-ea68784fb0a0",
      "metadata": {
        "id": "cd254888-a8df-4878-8a7d-ea68784fb0a0"
      },
      "outputs": [],
      "source": []
    },
    {
      "cell_type": "code",
      "execution_count": null,
      "id": "f6c44521-706d-4dfd-966b-f14085cea7ba",
      "metadata": {
        "id": "f6c44521-706d-4dfd-966b-f14085cea7ba"
      },
      "outputs": [],
      "source": [
        "df_auc"
      ]
    },
    {
      "cell_type": "code",
      "execution_count": null,
      "id": "7290192d-e549-407f-b7a5-8216def1b004",
      "metadata": {
        "id": "7290192d-e549-407f-b7a5-8216def1b004"
      },
      "outputs": [],
      "source": [
        "#df_percent"
      ]
    },
    {
      "cell_type": "code",
      "execution_count": null,
      "id": "fa795633-7251-480c-828d-05db099b6b41",
      "metadata": {
        "id": "fa795633-7251-480c-828d-05db099b6b41"
      },
      "outputs": [],
      "source": []
    },
    {
      "cell_type": "markdown",
      "id": "273319c0-54a3-48fb-9995-01aa62cebdaf",
      "metadata": {
        "id": "273319c0-54a3-48fb-9995-01aa62cebdaf"
      },
      "source": [
        "# 4. Evaluate"
      ]
    },
    {
      "cell_type": "code",
      "execution_count": null,
      "id": "16771a9f-37e7-4787-9b95-895096e7b316",
      "metadata": {
        "id": "16771a9f-37e7-4787-9b95-895096e7b316"
      },
      "outputs": [],
      "source": [
        "import keras\n",
        "\n",
        "model_ld = keras.saving.load_model('./models/model_03.keras',\n",
        "                                custom_objects={'WarmUpCosineDecay': WarmUpCosineDecay})"
      ]
    },
    {
      "cell_type": "code",
      "execution_count": null,
      "id": "23264f72-ddbc-49e2-ac5d-5c1594d29b5e",
      "metadata": {
        "id": "23264f72-ddbc-49e2-ac5d-5c1594d29b5e"
      },
      "outputs": [],
      "source": []
    },
    {
      "cell_type": "code",
      "execution_count": null,
      "id": "UDh4BF712E02",
      "metadata": {
        "id": "UDh4BF712E02"
      },
      "outputs": [],
      "source": [
        "dataset_valid = dataset(data, inds_valid, len_seq=100, batch_size=64, shuffle=False)\n",
        "dataset_test = dataset(data, inds_test, len_seq=100, batch_size=64, shuffle=False)\n",
        "dataset_test2 = dataset(data, inds_test2, len_seq=100, batch_size=64, shuffle=False)"
      ]
    },
    {
      "cell_type": "code",
      "execution_count": null,
      "id": "zDP6tb-m2E35",
      "metadata": {
        "colab": {
          "base_uri": "https://localhost:8080/"
        },
        "id": "zDP6tb-m2E35",
        "outputId": "77b28417-628f-40af-89d4-f6b132edb8b4"
      },
      "outputs": [
        {
          "data": {
            "text/plain": [
              "(True, True, True)"
            ]
          },
          "execution_count": 142,
          "metadata": {},
          "output_type": "execute_result"
        }
      ],
      "source": [
        "(dataset_valid.inds == inds_valid).all(), (dataset_test.inds == inds_test).all(), (dataset_test2.inds == inds_test2).all()"
      ]
    },
    {
      "cell_type": "code",
      "execution_count": null,
      "id": "JvNgLPa52WfQ",
      "metadata": {
        "colab": {
          "base_uri": "https://localhost:8080/"
        },
        "id": "JvNgLPa52WfQ",
        "outputId": "283fcb4c-fb58-473f-8042-30de96b545b6"
      },
      "outputs": [
        {
          "name": "stdout",
          "output_type": "stream",
          "text": [
            "\u001b[1m1196/1196\u001b[0m \u001b[32m━━━━━━━━━━━━━━━━━━━━\u001b[0m\u001b[37m\u001b[0m \u001b[1m9s\u001b[0m 7ms/step\n",
            "\u001b[1m1194/1194\u001b[0m \u001b[32m━━━━━━━━━━━━━━━━━━━━\u001b[0m\u001b[37m\u001b[0m \u001b[1m8s\u001b[0m 6ms/step\n",
            "\u001b[1m968/968\u001b[0m \u001b[32m━━━━━━━━━━━━━━━━━━━━\u001b[0m\u001b[37m\u001b[0m \u001b[1m6s\u001b[0m 6ms/step\n"
          ]
        }
      ],
      "source": [
        "y_pred_valid = model_ld.predict(dataset_valid)\n",
        "y_pred_test = model_ld.predict(dataset_test)\n",
        "y_pred_test2 = model_ld.predict(dataset_test2)"
      ]
    },
    {
      "cell_type": "code",
      "execution_count": null,
      "id": "VTGBBDz52jLp",
      "metadata": {
        "id": "VTGBBDz52jLp"
      },
      "outputs": [],
      "source": [
        "dump_pkl(y_pred_valid, 'y_pred_valid.pkl')\n",
        "dump_pkl(y_pred_test, 'y_pred_test.pkl')\n",
        "dump_pkl(y_pred_test2, 'y_pred_test2.pkl')\n"
      ]
    },
    {
      "cell_type": "code",
      "execution_count": null,
      "id": "37n4AM6V2jOK",
      "metadata": {
        "id": "37n4AM6V2jOK"
      },
      "outputs": [],
      "source": []
    },
    {
      "cell_type": "code",
      "execution_count": null,
      "id": "fkzqJ4J82WiF",
      "metadata": {
        "id": "fkzqJ4J82WiF"
      },
      "outputs": [],
      "source": []
    },
    {
      "cell_type": "code",
      "execution_count": null,
      "id": "13553f8f-3b07-4336-8b84-f49511fdde6b",
      "metadata": {
        "id": "13553f8f-3b07-4336-8b84-f49511fdde6b"
      },
      "outputs": [],
      "source": [
        "y1 = model.predict(dataset_test2_subsample)\n",
        "y2 = model_ld.predict(dataset_test2_subsample)\n",
        "np.unique(y1-y2)"
      ]
    },
    {
      "cell_type": "code",
      "execution_count": null,
      "id": "c2fa9304-9ed9-40b0-abef-0100e467b23b",
      "metadata": {
        "id": "c2fa9304-9ed9-40b0-abef-0100e467b23b"
      },
      "outputs": [],
      "source": []
    },
    {
      "cell_type": "code",
      "execution_count": null,
      "id": "258c600c-83b3-4bb4-8b7a-cd2afd3bcb3f",
      "metadata": {
        "id": "258c600c-83b3-4bb4-8b7a-cd2afd3bcb3f"
      },
      "outputs": [],
      "source": []
    },
    {
      "cell_type": "markdown",
      "id": "1e3f3dee-7898-4b06-bed8-8fef57e81685",
      "metadata": {
        "id": "1e3f3dee-7898-4b06-bed8-8fef57e81685"
      },
      "source": [
        "# TMP"
      ]
    },
    {
      "cell_type": "code",
      "execution_count": null,
      "id": "de2b62cc-3ec4-42ad-ad99-cccabf9714b9",
      "metadata": {
        "id": "de2b62cc-3ec4-42ad-ad99-cccabf9714b9"
      },
      "outputs": [],
      "source": [
        "import tensorflow as tf\n",
        "tf.keras.backend.floatx()"
      ]
    },
    {
      "cell_type": "code",
      "execution_count": null,
      "id": "1e334752-da2e-4892-9398-33cfe8258e49",
      "metadata": {
        "id": "1e334752-da2e-4892-9398-33cfe8258e49"
      },
      "outputs": [],
      "source": []
    },
    {
      "cell_type": "code",
      "execution_count": null,
      "id": "97e624c0-27b5-4c65-959a-5f375e1329eb",
      "metadata": {
        "id": "97e624c0-27b5-4c65-959a-5f375e1329eb"
      },
      "outputs": [],
      "source": []
    },
    {
      "cell_type": "code",
      "execution_count": null,
      "id": "85dafc5b-f1ac-4817-bb94-0a20024571e3",
      "metadata": {
        "id": "85dafc5b-f1ac-4817-bb94-0a20024571e3"
      },
      "outputs": [],
      "source": []
    },
    {
      "cell_type": "code",
      "execution_count": null,
      "id": "c7b7d000-640b-488f-96d9-271543d6328c",
      "metadata": {
        "id": "c7b7d000-640b-488f-96d9-271543d6328c"
      },
      "outputs": [],
      "source": []
    },
    {
      "cell_type": "code",
      "execution_count": null,
      "id": "88e63d91-3ce6-49e8-82e3-e38943c7ba76",
      "metadata": {
        "id": "88e63d91-3ce6-49e8-82e3-e38943c7ba76"
      },
      "outputs": [],
      "source": []
    },
    {
      "cell_type": "code",
      "execution_count": null,
      "id": "07f6f70c-a6b6-4617-bd67-aac5b14b856f",
      "metadata": {
        "id": "07f6f70c-a6b6-4617-bd67-aac5b14b856f"
      },
      "outputs": [],
      "source": []
    }
  ],
  "metadata": {
    "accelerator": "GPU",
    "colab": {
      "gpuType": "T4",
      "provenance": []
    },
    "kernelspec": {
      "display_name": "Python 3 (ipykernel)",
      "language": "python",
      "name": "python3"
    },
    "language_info": {
      "codemirror_mode": {
        "name": "ipython",
        "version": 3
      },
      "file_extension": ".py",
      "mimetype": "text/x-python",
      "name": "python",
      "nbconvert_exporter": "python",
      "pygments_lexer": "ipython3",
      "version": "3.12.7"
    }
  },
  "nbformat": 4,
  "nbformat_minor": 5
}