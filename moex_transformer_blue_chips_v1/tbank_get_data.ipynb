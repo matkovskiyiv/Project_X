{
 "cells": [
  {
   "cell_type": "markdown",
   "id": "71df3e0d-e927-49f1-8a10-2e95dfd3292d",
   "metadata": {},
   "source": [
    "### 1. Load packages"
   ]
  },
  {
   "cell_type": "code",
   "execution_count": 11,
   "id": "e180f592-0324-4939-ae26-28f042523af3",
   "metadata": {},
   "outputs": [],
   "source": [
    "import time"
   ]
  },
  {
   "cell_type": "code",
   "execution_count": 2,
   "id": "62c4c28b-1115-41ff-ada0-48058431c806",
   "metadata": {},
   "outputs": [
    {
     "name": "stdout",
     "output_type": "stream",
     "text": [
      "Requirement already satisfied: tinkoff-investments in /opt/anaconda3/lib/python3.12/site-packages (0.2.0b108)\n",
      "Requirement already satisfied: cachetools<6.0.0,>=5.2.0 in /opt/anaconda3/lib/python3.12/site-packages (from tinkoff-investments) (5.3.3)\n",
      "Requirement already satisfied: deprecation<3.0.0,>=2.1.0 in /opt/anaconda3/lib/python3.12/site-packages (from tinkoff-investments) (2.1.0)\n",
      "Requirement already satisfied: grpcio<2.0.0,>=1.59.3 in /opt/anaconda3/lib/python3.12/site-packages (from tinkoff-investments) (1.67.1)\n",
      "Requirement already satisfied: protobuf<5.0.0,>=4.25.1 in /opt/anaconda3/lib/python3.12/site-packages (from tinkoff-investments) (4.25.3)\n",
      "Requirement already satisfied: python-dateutil<3.0.0,>=2.8.2 in /opt/anaconda3/lib/python3.12/site-packages (from tinkoff-investments) (2.9.0.post0)\n",
      "Requirement already satisfied: tinkoff<0.2.0,>=0.1.1 in /opt/anaconda3/lib/python3.12/site-packages (from tinkoff-investments) (0.1.1)\n",
      "Requirement already satisfied: packaging in /opt/anaconda3/lib/python3.12/site-packages (from deprecation<3.0.0,>=2.1.0->tinkoff-investments) (24.1)\n",
      "Requirement already satisfied: six>=1.5 in /opt/anaconda3/lib/python3.12/site-packages (from python-dateutil<3.0.0,>=2.8.2->tinkoff-investments) (1.16.0)\n"
     ]
    }
   ],
   "source": [
    "!pip install tinkoff-investments"
   ]
  },
  {
   "cell_type": "code",
   "execution_count": null,
   "id": "5b90ae99-7c95-438e-b7f6-55d6dc421d9d",
   "metadata": {},
   "outputs": [],
   "source": []
  },
  {
   "cell_type": "code",
   "execution_count": 1,
   "id": "3f01cba9-c3c8-456f-a873-46807a170fe4",
   "metadata": {},
   "outputs": [],
   "source": [
    "TOKEN = ''"
   ]
  },
  {
   "cell_type": "code",
   "execution_count": 2,
   "id": "99f4f2f9-1f57-4a6b-ac47-4cf9c9260a51",
   "metadata": {},
   "outputs": [
    {
     "name": "stdout",
     "output_type": "stream",
     "text": [
      "GetAccountsResponse(accounts=[])\n"
     ]
    }
   ],
   "source": [
    "from tinkoff.invest import Client\n",
    "from tinkoff.invest.constants import INVEST_GRPC_API_SANDBOX \n",
    "\n",
    "\n",
    "with Client(TOKEN, target=INVEST_GRPC_API_SANDBOX ) as client:\n",
    "    print(client.users.get_accounts())"
   ]
  },
  {
   "cell_type": "code",
   "execution_count": null,
   "id": "081dc564-54f7-4c7f-8eaf-412dc00f3012",
   "metadata": {},
   "outputs": [],
   "source": []
  },
  {
   "cell_type": "markdown",
   "id": "e6e222f9-533e-4b00-be69-f8262c0c5405",
   "metadata": {},
   "source": [
    "### 2. Load data"
   ]
  },
  {
   "cell_type": "code",
   "execution_count": null,
   "id": "92f2cf25-47ab-4644-9705-11b7090d05f4",
   "metadata": {},
   "outputs": [],
   "source": []
  },
  {
   "cell_type": "code",
   "execution_count": null,
   "id": "f2e35a17-9478-40b1-a056-8bcb4b04f3e9",
   "metadata": {},
   "outputs": [],
   "source": []
  },
  {
   "cell_type": "code",
   "execution_count": 3,
   "id": "cec37da5-8952-48b4-b853-45e62a46c8a0",
   "metadata": {},
   "outputs": [],
   "source": [
    "import logging\n",
    "import os\n",
    "\n",
    "import pandas as pd\n",
    "\n",
    "from tinkoff.invest import Client, SecurityTradingStatus\n",
    "from tinkoff.invest.services import InstrumentsService\n",
    "from tinkoff.invest.utils import quotation_to_decimal\n",
    "\n"
   ]
  },
  {
   "cell_type": "code",
   "execution_count": null,
   "id": "69fb23c3-ef50-4604-a499-f1829a762c22",
   "metadata": {},
   "outputs": [],
   "source": []
  },
  {
   "cell_type": "code",
   "execution_count": 5,
   "id": "a9be7910-b570-4195-851f-ee895edae463",
   "metadata": {},
   "outputs": [],
   "source": [
    "def get_figi(ticker):\n",
    "    with Client(TOKEN) as client:\n",
    "        instruments: InstrumentsService = client.instruments\n",
    "        tickers = []\n",
    "        for method in [\"shares\", \"bonds\", \"etfs\", \"currencies\", \"futures\"]:\n",
    "            for item in getattr(instruments, method)().instruments:\n",
    "                tickers.append(\n",
    "                    {\n",
    "                        \"name\": item.name,\n",
    "                        \"ticker\": item.ticker,\n",
    "                        \"class_code\": item.class_code,\n",
    "                        \"figi\": item.figi,\n",
    "                        \"uid\": item.uid,\n",
    "                        \"type\": method,\n",
    "                        \"min_price_increment\": quotation_to_decimal(\n",
    "                            item.min_price_increment\n",
    "                        ),\n",
    "                        \"scale\": 9 - len(str(item.min_price_increment.nano)) + 1,\n",
    "                        \"lot\": item.lot,\n",
    "                        \"trading_status\": str(\n",
    "                            SecurityTradingStatus(item.trading_status).name\n",
    "                        ),\n",
    "                        \"api_trade_available_flag\": item.api_trade_available_flag,\n",
    "                        \"currency\": item.currency,\n",
    "                        \"exchange\": item.exchange,\n",
    "                        \"buy_available_flag\": item.buy_available_flag,\n",
    "                        \"sell_available_flag\": item.sell_available_flag,\n",
    "                        \"short_enabled_flag\": item.short_enabled_flag,\n",
    "                        \"klong\": quotation_to_decimal(item.klong),\n",
    "                        \"kshort\": quotation_to_decimal(item.kshort),\n",
    "                    }\n",
    "                )\n",
    "\n",
    "        tickers_df = pd.DataFrame(tickers)\n",
    "\n",
    "        ticker_df = tickers_df[tickers_df[\"ticker\"] == ticker]\n",
    "        #return ticker_df\n",
    "        if ticker_df.empty:\n",
    "            print(\"There is no such ticker: %s\", ticker)\n",
    "            return\n",
    "\n",
    "        figi = ticker_df[\"figi\"].iloc[0]\n",
    "        return figi"
   ]
  },
  {
   "cell_type": "code",
   "execution_count": null,
   "id": "1b51f5bd-2ece-49e8-9767-1b3f82bcfa29",
   "metadata": {},
   "outputs": [],
   "source": []
  },
  {
   "cell_type": "code",
   "execution_count": 6,
   "id": "d962e070-66fb-4bff-81f9-029fd059ab6f",
   "metadata": {},
   "outputs": [],
   "source": [
    "import os\n",
    "from datetime import timedelta\n",
    "import datetime\n",
    "\n",
    "from tqdm import tqdm\n",
    "import numpy as np\n",
    "\n",
    "from tinkoff.invest import CandleInterval, Client\n",
    "from tinkoff.invest.utils import now\n",
    "\n",
    "def cast_quotation_to_float(quotation):\n",
    "    #Quotation(units=167, nano=880000000)\n",
    "    return float(str(quotation.units) + '.' + str(quotation.nano))\n",
    "    \n",
    "def get_all_candles(ticker=None, from_=None, to_=None, interval=None):\n",
    "    \n",
    "    figi = get_figi(ticker)\n",
    "    \n",
    "    with Client(TOKEN) as client:\n",
    "        \n",
    "        data = [elem for elem in client.get_all_candles(figi=figi, \n",
    "                                      from_=from_-timedelta(hours=3),\n",
    "                                      to=to_- timedelta(hours=3),\n",
    "                                     interval=interval\n",
    "                                    )\n",
    "               ]\n",
    "\n",
    "    \n",
    "    open_ = np.zeros(len(data))\n",
    "    high = np.zeros(len(data))\n",
    "    low = np.zeros(len(data))\n",
    "    close = np.zeros(len(data))\n",
    "    volume = np.zeros(len(data))\n",
    "    time = np.zeros(len(data), dtype='O')\n",
    "    for i, elem in tqdm(enumerate(data)):\n",
    "        open_[i] = cast_quotation_to_float(elem.open)\n",
    "        high[i] = cast_quotation_to_float(elem.high)\n",
    "        low[i] = cast_quotation_to_float(elem.low)\n",
    "        close[i] = cast_quotation_to_float(elem.close)\n",
    "        volume[i] = elem.volume\n",
    "        time[i] = elem.time\n",
    "\n",
    "\n",
    "    df = pd.DataFrame({'time' : time,\n",
    "                      'open' : open_,\n",
    "                      'close' : close,\n",
    "                      'volume' : volume,\n",
    "                      'low' : low,\n",
    "                      'high' : high\n",
    "                    })\n",
    "    df['time'] += pd.Timedelta(hours=3)\n",
    "    return df"
   ]
  },
  {
   "cell_type": "code",
   "execution_count": null,
   "id": "85d058a3-4a46-417a-b75c-33d0e84354f8",
   "metadata": {},
   "outputs": [],
   "source": []
  },
  {
   "cell_type": "code",
   "execution_count": null,
   "id": "239b839b-1b14-4558-b6ed-6baa4a986ca9",
   "metadata": {},
   "outputs": [],
   "source": []
  },
  {
   "cell_type": "code",
   "execution_count": null,
   "id": "4946d8c8-da49-4bf5-9454-95f9565ceae4",
   "metadata": {},
   "outputs": [],
   "source": [
    "%%time\n",
    "\n",
    "data = get_all_candles(ticker='GAZP',\n",
    "                       from_=datetime.datetime(2022, 10, 1, tzinfo=datetime.timezone.utc),\n",
    "                       to_=datetime.datetime(2024, 11, 20, tzinfo=datetime.timezone.utc),\n",
    "                       interval=CandleInterval.CANDLE_INTERVAL_5_MIN\n",
    "                      )\n",
    "\n",
    "data['ticker'] = 'GAZP'"
   ]
  },
  {
   "cell_type": "code",
   "execution_count": 14,
   "id": "fdab0e8e-2070-4952-a75b-39a705ce23e8",
   "metadata": {},
   "outputs": [
    {
     "data": {
      "text/html": [
       "<div>\n",
       "<style scoped>\n",
       "    .dataframe tbody tr th:only-of-type {\n",
       "        vertical-align: middle;\n",
       "    }\n",
       "\n",
       "    .dataframe tbody tr th {\n",
       "        vertical-align: top;\n",
       "    }\n",
       "\n",
       "    .dataframe thead th {\n",
       "        text-align: right;\n",
       "    }\n",
       "</style>\n",
       "<table border=\"1\" class=\"dataframe\">\n",
       "  <thead>\n",
       "    <tr style=\"text-align: right;\">\n",
       "      <th></th>\n",
       "      <th>time</th>\n",
       "      <th>open</th>\n",
       "      <th>close</th>\n",
       "      <th>volume</th>\n",
       "      <th>low</th>\n",
       "      <th>high</th>\n",
       "      <th>ticker</th>\n",
       "    </tr>\n",
       "  </thead>\n",
       "  <tbody>\n",
       "    <tr>\n",
       "      <th>0</th>\n",
       "      <td>2024-10-01 07:00:00+00:00</td>\n",
       "      <td>138.49</td>\n",
       "      <td>138.38</td>\n",
       "      <td>514.0</td>\n",
       "      <td>137.51</td>\n",
       "      <td>138.49</td>\n",
       "      <td>GAZP</td>\n",
       "    </tr>\n",
       "    <tr>\n",
       "      <th>1</th>\n",
       "      <td>2024-10-01 07:05:00+00:00</td>\n",
       "      <td>138.16</td>\n",
       "      <td>138.46</td>\n",
       "      <td>1700.0</td>\n",
       "      <td>138.10</td>\n",
       "      <td>138.49</td>\n",
       "      <td>GAZP</td>\n",
       "    </tr>\n",
       "    <tr>\n",
       "      <th>2</th>\n",
       "      <td>2024-10-01 07:10:00+00:00</td>\n",
       "      <td>138.29</td>\n",
       "      <td>138.10</td>\n",
       "      <td>314.0</td>\n",
       "      <td>138.90</td>\n",
       "      <td>138.46</td>\n",
       "      <td>GAZP</td>\n",
       "    </tr>\n",
       "    <tr>\n",
       "      <th>3</th>\n",
       "      <td>2024-10-01 07:15:00+00:00</td>\n",
       "      <td>138.10</td>\n",
       "      <td>138.22</td>\n",
       "      <td>149.0</td>\n",
       "      <td>138.10</td>\n",
       "      <td>138.25</td>\n",
       "      <td>GAZP</td>\n",
       "    </tr>\n",
       "    <tr>\n",
       "      <th>4</th>\n",
       "      <td>2024-10-01 07:20:00+00:00</td>\n",
       "      <td>138.21</td>\n",
       "      <td>138.19</td>\n",
       "      <td>1004.0</td>\n",
       "      <td>138.70</td>\n",
       "      <td>138.28</td>\n",
       "      <td>GAZP</td>\n",
       "    </tr>\n",
       "    <tr>\n",
       "      <th>...</th>\n",
       "      <td>...</td>\n",
       "      <td>...</td>\n",
       "      <td>...</td>\n",
       "      <td>...</td>\n",
       "      <td>...</td>\n",
       "      <td>...</td>\n",
       "      <td>...</td>\n",
       "    </tr>\n",
       "    <tr>\n",
       "      <th>1769</th>\n",
       "      <td>2024-10-09 23:25:00+00:00</td>\n",
       "      <td>132.42</td>\n",
       "      <td>132.43</td>\n",
       "      <td>2717.0</td>\n",
       "      <td>132.38</td>\n",
       "      <td>132.43</td>\n",
       "      <td>GAZP</td>\n",
       "    </tr>\n",
       "    <tr>\n",
       "      <th>1770</th>\n",
       "      <td>2024-10-09 23:30:00+00:00</td>\n",
       "      <td>132.41</td>\n",
       "      <td>132.40</td>\n",
       "      <td>6581.0</td>\n",
       "      <td>132.36</td>\n",
       "      <td>132.43</td>\n",
       "      <td>GAZP</td>\n",
       "    </tr>\n",
       "    <tr>\n",
       "      <th>1771</th>\n",
       "      <td>2024-10-09 23:35:00+00:00</td>\n",
       "      <td>132.42</td>\n",
       "      <td>132.41</td>\n",
       "      <td>3618.0</td>\n",
       "      <td>132.36</td>\n",
       "      <td>132.43</td>\n",
       "      <td>GAZP</td>\n",
       "    </tr>\n",
       "    <tr>\n",
       "      <th>1772</th>\n",
       "      <td>2024-10-09 23:40:00+00:00</td>\n",
       "      <td>132.41</td>\n",
       "      <td>132.60</td>\n",
       "      <td>30826.0</td>\n",
       "      <td>132.41</td>\n",
       "      <td>132.61</td>\n",
       "      <td>GAZP</td>\n",
       "    </tr>\n",
       "    <tr>\n",
       "      <th>1773</th>\n",
       "      <td>2024-10-09 23:45:00+00:00</td>\n",
       "      <td>132.57</td>\n",
       "      <td>132.51</td>\n",
       "      <td>9139.0</td>\n",
       "      <td>132.45</td>\n",
       "      <td>132.59</td>\n",
       "      <td>GAZP</td>\n",
       "    </tr>\n",
       "  </tbody>\n",
       "</table>\n",
       "<p>1774 rows × 7 columns</p>\n",
       "</div>"
      ],
      "text/plain": [
       "                          time    open   close   volume     low    high ticker\n",
       "0    2024-10-01 07:00:00+00:00  138.49  138.38    514.0  137.51  138.49   GAZP\n",
       "1    2024-10-01 07:05:00+00:00  138.16  138.46   1700.0  138.10  138.49   GAZP\n",
       "2    2024-10-01 07:10:00+00:00  138.29  138.10    314.0  138.90  138.46   GAZP\n",
       "3    2024-10-01 07:15:00+00:00  138.10  138.22    149.0  138.10  138.25   GAZP\n",
       "4    2024-10-01 07:20:00+00:00  138.21  138.19   1004.0  138.70  138.28   GAZP\n",
       "...                        ...     ...     ...      ...     ...     ...    ...\n",
       "1769 2024-10-09 23:25:00+00:00  132.42  132.43   2717.0  132.38  132.43   GAZP\n",
       "1770 2024-10-09 23:30:00+00:00  132.41  132.40   6581.0  132.36  132.43   GAZP\n",
       "1771 2024-10-09 23:35:00+00:00  132.42  132.41   3618.0  132.36  132.43   GAZP\n",
       "1772 2024-10-09 23:40:00+00:00  132.41  132.60  30826.0  132.41  132.61   GAZP\n",
       "1773 2024-10-09 23:45:00+00:00  132.57  132.51   9139.0  132.45  132.59   GAZP\n",
       "\n",
       "[1774 rows x 7 columns]"
      ]
     },
     "execution_count": 14,
     "metadata": {},
     "output_type": "execute_result"
    }
   ],
   "source": [
    "data"
   ]
  },
  {
   "cell_type": "code",
   "execution_count": null,
   "id": "defc8511-8aac-4757-8e56-b53ec3a46a8d",
   "metadata": {},
   "outputs": [],
   "source": []
  },
  {
   "cell_type": "code",
   "execution_count": 38,
   "id": "8a06188f-c61f-4b40-b917-834a5895d84e",
   "metadata": {},
   "outputs": [
    {
     "name": "stdout",
     "output_type": "stream",
     "text": [
      "mkdir: data: File exists\n"
     ]
    }
   ],
   "source": [
    "!mkdir data"
   ]
  },
  {
   "cell_type": "code",
   "execution_count": 39,
   "id": "2079c1f1-b48d-48ba-9744-c9766f4f6d82",
   "metadata": {},
   "outputs": [
    {
     "name": "stdout",
     "output_type": "stream",
     "text": [
      "mkdir: data/raw: File exists\n"
     ]
    }
   ],
   "source": [
    "!mkdir data/raw"
   ]
  },
  {
   "cell_type": "code",
   "execution_count": 92,
   "id": "7d893d5e-578b-4162-aea8-bc2959780c9a",
   "metadata": {},
   "outputs": [
    {
     "name": "stdout",
     "output_type": "stream",
     "text": [
      "mkdir: data/raw/1min: File exists\n"
     ]
    }
   ],
   "source": [
    "!mkdir data/raw/1min"
   ]
  },
  {
   "cell_type": "code",
   "execution_count": 93,
   "id": "d1a31539-db71-4742-99ea-a93c30255a17",
   "metadata": {},
   "outputs": [
    {
     "name": "stdout",
     "output_type": "stream",
     "text": [
      "mkdir: data/raw/5min: File exists\n"
     ]
    }
   ],
   "source": [
    "!mkdir data/raw/5min"
   ]
  },
  {
   "cell_type": "code",
   "execution_count": 95,
   "id": "078758e0-1696-46d8-a1ea-a50179183574",
   "metadata": {},
   "outputs": [
    {
     "name": "stdout",
     "output_type": "stream",
     "text": [
      "mkdir: data/raw/1hour: File exists\n"
     ]
    }
   ],
   "source": [
    "!mkdir data/raw/1hour"
   ]
  },
  {
   "cell_type": "code",
   "execution_count": 8,
   "id": "09f2a081-2824-4c48-88d2-e8ae996aca67",
   "metadata": {},
   "outputs": [
    {
     "name": "stdout",
     "output_type": "stream",
     "text": [
      "mkdir: data/raw/1day: File exists\n"
     ]
    }
   ],
   "source": [
    "!mkdir data/raw/1day"
   ]
  },
  {
   "cell_type": "code",
   "execution_count": null,
   "id": "35618736-6467-4ebd-b696-8e13c2ded084",
   "metadata": {},
   "outputs": [],
   "source": []
  },
  {
   "cell_type": "code",
   "execution_count": null,
   "id": "9ebfd37a-a8a9-413b-965d-ea98fb1a5e10",
   "metadata": {},
   "outputs": [],
   "source": []
  },
  {
   "cell_type": "code",
   "execution_count": 10,
   "id": "a525af5c-42fb-4cc3-b38f-902200766629",
   "metadata": {},
   "outputs": [],
   "source": [
    "import pickle\n",
    "def dump_pkl(data, filename):\n",
    "  with open(filename, 'wb') as handle:\n",
    "    pickle.dump(data, handle, protocol=pickle.HIGHEST_PROTOCOL)\n",
    "\n",
    "def load_pkl(filename):\n",
    "  with open(filename, 'rb') as handle:\n",
    "    data = pickle.load(handle)\n",
    "  return data"
   ]
  },
  {
   "cell_type": "code",
   "execution_count": null,
   "id": "01e33d15-aeaa-4ef7-84f1-52f2c0dcf7b7",
   "metadata": {},
   "outputs": [],
   "source": []
  },
  {
   "cell_type": "code",
   "execution_count": 44,
   "id": "e4e91db8-58a6-4035-ac4b-26dac13f7bc6",
   "metadata": {},
   "outputs": [
    {
     "name": "stderr",
     "output_type": "stream",
     "text": [
      "  0%|                                                                   | 0/6 [00:00<?, ?it/s]\n",
      "0it [00:00, ?it/s]\u001b[A\n",
      "113966it [00:00, 1139647.50it/s]\u001b[A\n",
      "231559it [00:00, 1160982.56it/s]\u001b[A\n",
      "347658it [00:00, 1153512.02it/s]\u001b[A\n",
      "539786it [00:00, 1149106.24it/s]\u001b[A\n",
      " 17%|█████████▊                                                 | 1/6 [01:37<08:08, 97.77s/it]\n",
      "0it [00:00, ?it/s]\u001b[A\n",
      "112084it [00:00, 1120817.02it/s]\u001b[A\n",
      "224166it [00:00, 1113014.66it/s]\u001b[A\n",
      "337030it [00:00, 1120118.03it/s]\u001b[A\n",
      "530271it [00:00, 1123710.64it/s]\u001b[A\n",
      " 33%|███████████████████▋                                       | 2/6 [03:19<06:39, 99.82s/it]\n",
      "0it [00:00, ?it/s]\u001b[A\n",
      "108068it [00:00, 1080660.42it/s]\u001b[A\n",
      "218961it [00:00, 1097270.07it/s]\u001b[A\n",
      "329917it [00:00, 1102871.51it/s]\u001b[A\n",
      "545917it [00:00, 1102342.02it/s]\u001b[A\n",
      " 50%|█████████████████████████████                             | 3/6 [05:15<05:22, 107.48s/it]\n",
      "0it [00:00, ?it/s]\u001b[A\n",
      "110674it [00:00, 1106727.86it/s]\u001b[A\n",
      "223789it [00:00, 1121081.81it/s]\u001b[A\n",
      "335898it [00:00, 1119265.60it/s]\u001b[A\n",
      "481031it [00:00, 1121532.71it/s]\u001b[A\n",
      " 67%|██████████████████████████████████████▋                   | 4/6 [06:56<03:29, 104.82s/it]\n",
      "0it [00:00, ?it/s]\u001b[A\n",
      "108942it [00:00, 1089389.87it/s]\u001b[A\n",
      "221355it [00:00, 1109811.62it/s]\u001b[A\n",
      "332337it [00:00, 1101277.28it/s]\u001b[A\n",
      "547824it [00:00, 1098540.04it/s]\u001b[A\n",
      " 83%|████████████████████████████████████████████████▎         | 5/6 [08:35<01:42, 102.62s/it]\n",
      "0it [00:00, ?it/s]\u001b[A\n",
      "107505it [00:00, 1075027.96it/s]\u001b[A\n",
      "216514it [00:00, 1083880.92it/s]\u001b[A\n",
      "329247it [00:00, 1103714.99it/s]\u001b[A\n",
      "523676it [00:00, 1096063.45it/s]\u001b[A\n",
      "100%|██████████████████████████████████████████████████████████| 6/6 [10:21<00:00, 103.67s/it]\n"
     ]
    }
   ],
   "source": [
    "stocks = [\n",
    "    'GAZP',\n",
    "          'SBER',\n",
    "          'LKOH',\n",
    "          'MGNT',\n",
    "          'NVTK',\n",
    "          'SNGS',\n",
    "          'GMKN',\n",
    "          'ROSN',\n",
    "          'NLMK',\n",
    "          'TATN',\n",
    "          'MTSS',\n",
    "          'ALRS',\n",
    "          \n",
    "          'YDEX',\n",
    "          'CHMF',\n",
    "          \n",
    "          'MAGN',\n",
    "          'TCSG',\n",
    "          'OZON',\n",
    "          'RUAL'\n",
    "          \n",
    "         ]\n",
    "\n",
    "for stock in tqdm(stocks):\n",
    "    data = get_all_candles(ticker=stock,\n",
    "                       from_=datetime.datetime(2022, 10, 1, tzinfo=datetime.timezone.utc),\n",
    "                       to_=datetime.datetime(2024, 11, 20, tzinfo=datetime.timezone.utc),\n",
    "                       interval=CandleInterval.CANDLE_INTERVAL_1_MIN\n",
    "                      )\n",
    "\n",
    "    data['ticker'] = stock\n",
    "    dump_pkl(data, f\"./data/raw/1min/{stock}.pkl\")\n",
    "    "
   ]
  },
  {
   "cell_type": "code",
   "execution_count": null,
   "id": "f3411937-a148-447a-8f15-2abc33e8365d",
   "metadata": {},
   "outputs": [],
   "source": []
  },
  {
   "cell_type": "code",
   "execution_count": 12,
   "id": "7fe8b831-6a1b-4f0b-84d4-af11a89eab7b",
   "metadata": {},
   "outputs": [
    {
     "name": "stderr",
     "output_type": "stream",
     "text": [
      "  0%|                                                    | 0/18 [00:00<?, ?it/s]"
     ]
    },
    {
     "name": "stdout",
     "output_type": "stream",
     "text": [
      "GAZP\n"
     ]
    },
    {
     "name": "stderr",
     "output_type": "stream",
     "text": [
      "\n",
      "52680it [00:00, 797602.87it/s]\n",
      "\n",
      "58429it [00:00, 749480.83it/s]\n",
      "None GetCandles RESOURCE_EXHAUSTED \n"
     ]
    },
    {
     "name": "stdout",
     "output_type": "stream",
     "text": [
      "Error: flag_data3\n"
     ]
    },
    {
     "name": "stderr",
     "output_type": "stream",
     "text": [
      "None GetCandles RESOURCE_EXHAUSTED \n"
     ]
    },
    {
     "name": "stdout",
     "output_type": "stream",
     "text": [
      "Error: flag_data3\n"
     ]
    },
    {
     "name": "stderr",
     "output_type": "stream",
     "text": [
      "None GetCandles RESOURCE_EXHAUSTED \n"
     ]
    },
    {
     "name": "stdout",
     "output_type": "stream",
     "text": [
      "Error: flag_data3\n"
     ]
    },
    {
     "name": "stderr",
     "output_type": "stream",
     "text": [
      "None GetCandles RESOURCE_EXHAUSTED \n"
     ]
    },
    {
     "name": "stdout",
     "output_type": "stream",
     "text": [
      "Error: flag_data3\n"
     ]
    },
    {
     "name": "stderr",
     "output_type": "stream",
     "text": [
      "\n",
      "9875it [00:00, 622632.39it/s]\n",
      "  6%|██▍                                         | 1/18 [01:16<21:34, 76.14s/it]"
     ]
    },
    {
     "name": "stdout",
     "output_type": "stream",
     "text": [
      "SBER\n"
     ]
    },
    {
     "name": "stderr",
     "output_type": "stream",
     "text": [
      "\n",
      "52579it [00:00, 776292.61it/s]\n",
      "None GetCandles RESOURCE_EXHAUSTED \n"
     ]
    },
    {
     "name": "stdout",
     "output_type": "stream",
     "text": [
      "Error: flag_data2\n"
     ]
    },
    {
     "name": "stderr",
     "output_type": "stream",
     "text": [
      "None GetCandles RESOURCE_EXHAUSTED \n"
     ]
    },
    {
     "name": "stdout",
     "output_type": "stream",
     "text": [
      "Error: flag_data2\n"
     ]
    },
    {
     "name": "stderr",
     "output_type": "stream",
     "text": [
      "None GetCandles RESOURCE_EXHAUSTED \n"
     ]
    },
    {
     "name": "stdout",
     "output_type": "stream",
     "text": [
      "Error: flag_data2\n"
     ]
    },
    {
     "name": "stderr",
     "output_type": "stream",
     "text": [
      "None GetCandles RESOURCE_EXHAUSTED \n"
     ]
    },
    {
     "name": "stdout",
     "output_type": "stream",
     "text": [
      "Error: flag_data2\n"
     ]
    },
    {
     "name": "stderr",
     "output_type": "stream",
     "text": [
      "\n",
      "58435it [00:00, 885798.17it/s]\n",
      "\n",
      "9881it [00:00, 623723.29it/s]\n",
      " 11%|████▉                                       | 2/18 [02:40<21:35, 80.94s/it]"
     ]
    },
    {
     "name": "stdout",
     "output_type": "stream",
     "text": [
      "LKOH\n"
     ]
    },
    {
     "name": "stderr",
     "output_type": "stream",
     "text": [
      "None GetCandles RESOURCE_EXHAUSTED \n"
     ]
    },
    {
     "name": "stdout",
     "output_type": "stream",
     "text": [
      "Error: flag_data1\n"
     ]
    },
    {
     "name": "stderr",
     "output_type": "stream",
     "text": [
      "None GetCandles RESOURCE_EXHAUSTED \n"
     ]
    },
    {
     "name": "stdout",
     "output_type": "stream",
     "text": [
      "Error: flag_data1\n"
     ]
    },
    {
     "name": "stderr",
     "output_type": "stream",
     "text": [
      "None GetCandles RESOURCE_EXHAUSTED \n"
     ]
    },
    {
     "name": "stdout",
     "output_type": "stream",
     "text": [
      "Error: flag_data1\n"
     ]
    },
    {
     "name": "stderr",
     "output_type": "stream",
     "text": [
      "\n",
      "52615it [00:00, 782190.46it/s]\n",
      "None GetCandles RESOURCE_EXHAUSTED \n"
     ]
    },
    {
     "name": "stdout",
     "output_type": "stream",
     "text": [
      "Error: flag_data2\n"
     ]
    },
    {
     "name": "stderr",
     "output_type": "stream",
     "text": [
      "None GetCandles RESOURCE_EXHAUSTED \n"
     ]
    },
    {
     "name": "stdout",
     "output_type": "stream",
     "text": [
      "Error: flag_data2\n"
     ]
    },
    {
     "name": "stderr",
     "output_type": "stream",
     "text": [
      "None GetCandles RESOURCE_EXHAUSTED \n"
     ]
    },
    {
     "name": "stdout",
     "output_type": "stream",
     "text": [
      "Error: flag_data2\n"
     ]
    },
    {
     "name": "stderr",
     "output_type": "stream",
     "text": [
      "None GetCandles RESOURCE_EXHAUSTED \n"
     ]
    },
    {
     "name": "stdout",
     "output_type": "stream",
     "text": [
      "Error: flag_data2\n"
     ]
    },
    {
     "name": "stderr",
     "output_type": "stream",
     "text": [
      "\n",
      "58367it [00:00, 898566.10it/s]\n",
      "\n",
      "9798it [00:00, 513338.05it/s]\n",
      " 17%|███████▎                                    | 3/18 [04:37<24:22, 97.49s/it]"
     ]
    },
    {
     "name": "stdout",
     "output_type": "stream",
     "text": [
      "MGNT\n"
     ]
    },
    {
     "name": "stderr",
     "output_type": "stream",
     "text": [
      "None GetCandles RESOURCE_EXHAUSTED \n"
     ]
    },
    {
     "name": "stdout",
     "output_type": "stream",
     "text": [
      "Error: flag_data1\n"
     ]
    },
    {
     "name": "stderr",
     "output_type": "stream",
     "text": [
      "None GetCandles RESOURCE_EXHAUSTED \n"
     ]
    },
    {
     "name": "stdout",
     "output_type": "stream",
     "text": [
      "Error: flag_data1\n"
     ]
    },
    {
     "name": "stderr",
     "output_type": "stream",
     "text": [
      "None GetCandles RESOURCE_EXHAUSTED \n"
     ]
    },
    {
     "name": "stdout",
     "output_type": "stream",
     "text": [
      "Error: flag_data1\n"
     ]
    },
    {
     "name": "stderr",
     "output_type": "stream",
     "text": [
      "None GetCandles RESOURCE_EXHAUSTED \n"
     ]
    },
    {
     "name": "stdout",
     "output_type": "stream",
     "text": [
      "Error: flag_data1\n"
     ]
    },
    {
     "name": "stderr",
     "output_type": "stream",
     "text": [
      "\n",
      "51261it [00:00, 877969.59it/s]\n",
      "None GetCandles RESOURCE_EXHAUSTED \n"
     ]
    },
    {
     "name": "stdout",
     "output_type": "stream",
     "text": [
      "Error: flag_data2\n"
     ]
    },
    {
     "name": "stderr",
     "output_type": "stream",
     "text": [
      "None GetCandles RESOURCE_EXHAUSTED \n"
     ]
    },
    {
     "name": "stdout",
     "output_type": "stream",
     "text": [
      "Error: flag_data2\n"
     ]
    },
    {
     "name": "stderr",
     "output_type": "stream",
     "text": [
      "\n",
      "55630it [00:00, 859255.57it/s]\n",
      "\n",
      "9175it [00:00, 610682.04it/s]\n",
      " 22%|█████████▌                                 | 4/18 [06:37<24:47, 106.26s/it]"
     ]
    },
    {
     "name": "stdout",
     "output_type": "stream",
     "text": [
      "NVTK\n"
     ]
    },
    {
     "name": "stderr",
     "output_type": "stream",
     "text": [
      "None GetCandles RESOURCE_EXHAUSTED \n"
     ]
    },
    {
     "name": "stdout",
     "output_type": "stream",
     "text": [
      "Error: flag_data1\n"
     ]
    },
    {
     "name": "stderr",
     "output_type": "stream",
     "text": [
      "None GetCandles RESOURCE_EXHAUSTED \n"
     ]
    },
    {
     "name": "stdout",
     "output_type": "stream",
     "text": [
      "Error: flag_data1\n"
     ]
    },
    {
     "name": "stderr",
     "output_type": "stream",
     "text": [
      "None GetCandles RESOURCE_EXHAUSTED \n"
     ]
    },
    {
     "name": "stdout",
     "output_type": "stream",
     "text": [
      "Error: flag_data1\n"
     ]
    },
    {
     "name": "stderr",
     "output_type": "stream",
     "text": [
      "\n",
      "52151it [00:00, 1171176.64it/s]\n",
      "None GetCandles RESOURCE_EXHAUSTED \n"
     ]
    },
    {
     "name": "stdout",
     "output_type": "stream",
     "text": [
      "Error: flag_data2\n"
     ]
    },
    {
     "name": "stderr",
     "output_type": "stream",
     "text": [
      "None GetCandles RESOURCE_EXHAUSTED \n"
     ]
    },
    {
     "name": "stdout",
     "output_type": "stream",
     "text": [
      "Error: flag_data2\n"
     ]
    },
    {
     "name": "stderr",
     "output_type": "stream",
     "text": [
      "None GetCandles RESOURCE_EXHAUSTED \n"
     ]
    },
    {
     "name": "stdout",
     "output_type": "stream",
     "text": [
      "Error: flag_data2\n"
     ]
    },
    {
     "name": "stderr",
     "output_type": "stream",
     "text": [
      "\n",
      "57766it [00:00, 899836.46it/s]\n",
      "\n",
      "9805it [00:00, 608819.53it/s]\n",
      " 28%|███████████▉                               | 5/18 [08:43<24:35, 113.47s/it]"
     ]
    },
    {
     "name": "stdout",
     "output_type": "stream",
     "text": [
      "SNGS\n"
     ]
    },
    {
     "name": "stderr",
     "output_type": "stream",
     "text": [
      "None GetCandles RESOURCE_EXHAUSTED \n"
     ]
    },
    {
     "name": "stdout",
     "output_type": "stream",
     "text": [
      "Error: flag_data1\n"
     ]
    },
    {
     "name": "stderr",
     "output_type": "stream",
     "text": [
      "None GetCandles RESOURCE_EXHAUSTED \n"
     ]
    },
    {
     "name": "stdout",
     "output_type": "stream",
     "text": [
      "Error: flag_data1\n"
     ]
    },
    {
     "name": "stderr",
     "output_type": "stream",
     "text": [
      "\n",
      "47998it [00:00, 655791.66it/s]\n",
      "None GetCandles RESOURCE_EXHAUSTED \n"
     ]
    },
    {
     "name": "stdout",
     "output_type": "stream",
     "text": [
      "Error: flag_data2\n"
     ]
    },
    {
     "name": "stderr",
     "output_type": "stream",
     "text": [
      "None GetCandles RESOURCE_EXHAUSTED \n"
     ]
    },
    {
     "name": "stdout",
     "output_type": "stream",
     "text": [
      "Error: flag_data2\n"
     ]
    },
    {
     "name": "stderr",
     "output_type": "stream",
     "text": [
      "None GetCandles RESOURCE_EXHAUSTED \n"
     ]
    },
    {
     "name": "stdout",
     "output_type": "stream",
     "text": [
      "Error: flag_data2\n"
     ]
    },
    {
     "name": "stderr",
     "output_type": "stream",
     "text": [
      "\n",
      "54124it [00:00, 804193.30it/s]\n",
      "\n",
      "8456it [00:00, 585148.73it/s]\n",
      " 33%|██████████████▎                            | 6/18 [10:39<22:52, 114.40s/it]"
     ]
    },
    {
     "name": "stdout",
     "output_type": "stream",
     "text": [
      "GMKN\n"
     ]
    },
    {
     "name": "stderr",
     "output_type": "stream",
     "text": [
      "None GetCandles RESOURCE_EXHAUSTED \n"
     ]
    },
    {
     "name": "stdout",
     "output_type": "stream",
     "text": [
      "Error: flag_data1\n"
     ]
    },
    {
     "name": "stderr",
     "output_type": "stream",
     "text": [
      "None GetCandles RESOURCE_EXHAUSTED \n"
     ]
    },
    {
     "name": "stdout",
     "output_type": "stream",
     "text": [
      "Error: flag_data1\n"
     ]
    },
    {
     "name": "stderr",
     "output_type": "stream",
     "text": [
      "\n",
      "49697it [00:00, 1125029.42it/s]\n",
      "None GetCandles RESOURCE_EXHAUSTED \n"
     ]
    },
    {
     "name": "stdout",
     "output_type": "stream",
     "text": [
      "Error: flag_data2\n"
     ]
    },
    {
     "name": "stderr",
     "output_type": "stream",
     "text": [
      "None GetCandles RESOURCE_EXHAUSTED \n"
     ]
    },
    {
     "name": "stdout",
     "output_type": "stream",
     "text": [
      "Error: flag_data2\n"
     ]
    },
    {
     "name": "stderr",
     "output_type": "stream",
     "text": [
      "None GetCandles RESOURCE_EXHAUSTED \n"
     ]
    },
    {
     "name": "stdout",
     "output_type": "stream",
     "text": [
      "Error: flag_data2\n"
     ]
    },
    {
     "name": "stderr",
     "output_type": "stream",
     "text": [
      "\n",
      "55481it [00:00, 878825.41it/s]\n",
      "\n",
      "9703it [00:00, 1002965.52it/s]\n",
      " 39%|████████████████▋                          | 7/18 [12:38<21:12, 115.69s/it]"
     ]
    },
    {
     "name": "stdout",
     "output_type": "stream",
     "text": [
      "ROSN\n"
     ]
    },
    {
     "name": "stderr",
     "output_type": "stream",
     "text": [
      "None GetCandles RESOURCE_EXHAUSTED \n"
     ]
    },
    {
     "name": "stdout",
     "output_type": "stream",
     "text": [
      "Error: flag_data1\n"
     ]
    },
    {
     "name": "stderr",
     "output_type": "stream",
     "text": [
      "None GetCandles RESOURCE_EXHAUSTED \n"
     ]
    },
    {
     "name": "stdout",
     "output_type": "stream",
     "text": [
      "Error: flag_data1\n"
     ]
    },
    {
     "name": "stderr",
     "output_type": "stream",
     "text": [
      "None GetCandles RESOURCE_EXHAUSTED \n"
     ]
    },
    {
     "name": "stdout",
     "output_type": "stream",
     "text": [
      "Error: flag_data1\n"
     ]
    },
    {
     "name": "stderr",
     "output_type": "stream",
     "text": [
      "None GetCandles RESOURCE_EXHAUSTED \n"
     ]
    },
    {
     "name": "stdout",
     "output_type": "stream",
     "text": [
      "Error: flag_data1\n"
     ]
    },
    {
     "name": "stderr",
     "output_type": "stream",
     "text": [
      "\n",
      "52479it [00:00, 746757.95it/s]\n",
      "None GetCandles RESOURCE_EXHAUSTED \n"
     ]
    },
    {
     "name": "stdout",
     "output_type": "stream",
     "text": [
      "Error: flag_data2\n"
     ]
    },
    {
     "name": "stderr",
     "output_type": "stream",
     "text": [
      "None GetCandles RESOURCE_EXHAUSTED \n"
     ]
    },
    {
     "name": "stdout",
     "output_type": "stream",
     "text": [
      "Error: flag_data2\n"
     ]
    },
    {
     "name": "stderr",
     "output_type": "stream",
     "text": [
      "None GetCandles RESOURCE_EXHAUSTED \n"
     ]
    },
    {
     "name": "stdout",
     "output_type": "stream",
     "text": [
      "Error: flag_data2\n"
     ]
    },
    {
     "name": "stderr",
     "output_type": "stream",
     "text": [
      "\n",
      "58204it [00:00, 876379.93it/s]\n",
      "\n",
      "9885it [00:00, 629661.56it/s]\n",
      " 44%|███████████████████                        | 8/18 [14:36<19:24, 116.43s/it]"
     ]
    },
    {
     "name": "stdout",
     "output_type": "stream",
     "text": [
      "NLMK\n"
     ]
    },
    {
     "name": "stderr",
     "output_type": "stream",
     "text": [
      "None GetCandles RESOURCE_EXHAUSTED \n"
     ]
    },
    {
     "name": "stdout",
     "output_type": "stream",
     "text": [
      "Error: flag_data1\n"
     ]
    },
    {
     "name": "stderr",
     "output_type": "stream",
     "text": [
      "None GetCandles RESOURCE_EXHAUSTED \n"
     ]
    },
    {
     "name": "stdout",
     "output_type": "stream",
     "text": [
      "Error: flag_data1\n"
     ]
    },
    {
     "name": "stderr",
     "output_type": "stream",
     "text": [
      "None GetCandles RESOURCE_EXHAUSTED \n"
     ]
    },
    {
     "name": "stdout",
     "output_type": "stream",
     "text": [
      "Error: flag_data1\n"
     ]
    },
    {
     "name": "stderr",
     "output_type": "stream",
     "text": [
      "None GetCandles RESOURCE_EXHAUSTED \n"
     ]
    },
    {
     "name": "stdout",
     "output_type": "stream",
     "text": [
      "Error: flag_data1\n"
     ]
    },
    {
     "name": "stderr",
     "output_type": "stream",
     "text": [
      "\n",
      "51791it [00:00, 692079.67it/s]\n",
      "None GetCandles RESOURCE_EXHAUSTED \n"
     ]
    },
    {
     "name": "stdout",
     "output_type": "stream",
     "text": [
      "Error: flag_data2\n"
     ]
    },
    {
     "name": "stderr",
     "output_type": "stream",
     "text": [
      "None GetCandles RESOURCE_EXHAUSTED \n"
     ]
    },
    {
     "name": "stdout",
     "output_type": "stream",
     "text": [
      "Error: flag_data2\n"
     ]
    },
    {
     "name": "stderr",
     "output_type": "stream",
     "text": [
      "None GetCandles RESOURCE_EXHAUSTED \n"
     ]
    },
    {
     "name": "stdout",
     "output_type": "stream",
     "text": [
      "Error: flag_data2\n"
     ]
    },
    {
     "name": "stderr",
     "output_type": "stream",
     "text": [
      "\n",
      "56975it [00:00, 872750.64it/s]\n",
      "\n",
      "9691it [00:00, 588830.94it/s]\n",
      " 50%|█████████████████████▌                     | 9/18 [16:43<17:58, 119.81s/it]"
     ]
    },
    {
     "name": "stdout",
     "output_type": "stream",
     "text": [
      "TATN\n"
     ]
    },
    {
     "name": "stderr",
     "output_type": "stream",
     "text": [
      "None GetCandles RESOURCE_EXHAUSTED \n"
     ]
    },
    {
     "name": "stdout",
     "output_type": "stream",
     "text": [
      "Error: flag_data1\n"
     ]
    },
    {
     "name": "stderr",
     "output_type": "stream",
     "text": [
      "None GetCandles RESOURCE_EXHAUSTED \n"
     ]
    },
    {
     "name": "stdout",
     "output_type": "stream",
     "text": [
      "Error: flag_data1\n"
     ]
    },
    {
     "name": "stderr",
     "output_type": "stream",
     "text": [
      "\n",
      "52066it [00:00, 738933.23it/s]\n",
      "None GetCandles RESOURCE_EXHAUSTED \n"
     ]
    },
    {
     "name": "stdout",
     "output_type": "stream",
     "text": [
      "Error: flag_data2\n"
     ]
    },
    {
     "name": "stderr",
     "output_type": "stream",
     "text": [
      "None GetCandles RESOURCE_EXHAUSTED \n"
     ]
    },
    {
     "name": "stdout",
     "output_type": "stream",
     "text": [
      "Error: flag_data2\n"
     ]
    },
    {
     "name": "stderr",
     "output_type": "stream",
     "text": [
      "None GetCandles RESOURCE_EXHAUSTED \n"
     ]
    },
    {
     "name": "stdout",
     "output_type": "stream",
     "text": [
      "Error: flag_data2\n"
     ]
    },
    {
     "name": "stderr",
     "output_type": "stream",
     "text": [
      "\n",
      "57937it [00:00, 908658.96it/s]\n",
      "\n",
      "9812it [00:00, 602775.70it/s]\n",
      " 56%|███████████████████████▎                  | 10/18 [18:38<15:45, 118.24s/it]"
     ]
    },
    {
     "name": "stdout",
     "output_type": "stream",
     "text": [
      "MTSS\n"
     ]
    },
    {
     "name": "stderr",
     "output_type": "stream",
     "text": [
      "None GetCandles RESOURCE_EXHAUSTED \n"
     ]
    },
    {
     "name": "stdout",
     "output_type": "stream",
     "text": [
      "Error: flag_data1\n"
     ]
    },
    {
     "name": "stderr",
     "output_type": "stream",
     "text": [
      "None GetCandles RESOURCE_EXHAUSTED \n"
     ]
    },
    {
     "name": "stdout",
     "output_type": "stream",
     "text": [
      "Error: flag_data1\n"
     ]
    },
    {
     "name": "stderr",
     "output_type": "stream",
     "text": [
      "None GetCandles RESOURCE_EXHAUSTED \n"
     ]
    },
    {
     "name": "stdout",
     "output_type": "stream",
     "text": [
      "Error: flag_data1\n"
     ]
    },
    {
     "name": "stderr",
     "output_type": "stream",
     "text": [
      "\n",
      "51284it [00:00, 740062.64it/s]\n",
      "None GetCandles RESOURCE_EXHAUSTED \n"
     ]
    },
    {
     "name": "stdout",
     "output_type": "stream",
     "text": [
      "Error: flag_data2\n"
     ]
    },
    {
     "name": "stderr",
     "output_type": "stream",
     "text": [
      "None GetCandles RESOURCE_EXHAUSTED \n"
     ]
    },
    {
     "name": "stdout",
     "output_type": "stream",
     "text": [
      "Error: flag_data2\n"
     ]
    },
    {
     "name": "stderr",
     "output_type": "stream",
     "text": [
      "None GetCandles RESOURCE_EXHAUSTED \n"
     ]
    },
    {
     "name": "stdout",
     "output_type": "stream",
     "text": [
      "Error: flag_data2\n"
     ]
    },
    {
     "name": "stderr",
     "output_type": "stream",
     "text": [
      "\n",
      "57157it [00:00, 1154920.77it/s]\n",
      "\n",
      "9455it [00:00, 598228.18it/s]\n",
      " 61%|█████████████████████████▋                | 11/18 [20:36<13:47, 118.17s/it]"
     ]
    },
    {
     "name": "stdout",
     "output_type": "stream",
     "text": [
      "ALRS\n"
     ]
    },
    {
     "name": "stderr",
     "output_type": "stream",
     "text": [
      "None GetCandles RESOURCE_EXHAUSTED \n"
     ]
    },
    {
     "name": "stdout",
     "output_type": "stream",
     "text": [
      "Error: flag_data1\n"
     ]
    },
    {
     "name": "stderr",
     "output_type": "stream",
     "text": [
      "None GetCandles RESOURCE_EXHAUSTED \n"
     ]
    },
    {
     "name": "stdout",
     "output_type": "stream",
     "text": [
      "Error: flag_data1\n"
     ]
    },
    {
     "name": "stderr",
     "output_type": "stream",
     "text": [
      "None GetCandles RESOURCE_EXHAUSTED \n"
     ]
    },
    {
     "name": "stdout",
     "output_type": "stream",
     "text": [
      "Error: flag_data1\n"
     ]
    },
    {
     "name": "stderr",
     "output_type": "stream",
     "text": [
      "None GetCandles RESOURCE_EXHAUSTED \n"
     ]
    },
    {
     "name": "stdout",
     "output_type": "stream",
     "text": [
      "Error: flag_data1\n"
     ]
    },
    {
     "name": "stderr",
     "output_type": "stream",
     "text": [
      "\n",
      "52581it [00:00, 773319.61it/s]\n",
      "None GetCandles RESOURCE_EXHAUSTED \n"
     ]
    },
    {
     "name": "stdout",
     "output_type": "stream",
     "text": [
      "Error: flag_data2\n"
     ]
    },
    {
     "name": "stderr",
     "output_type": "stream",
     "text": [
      "None GetCandles RESOURCE_EXHAUSTED \n"
     ]
    },
    {
     "name": "stdout",
     "output_type": "stream",
     "text": [
      "Error: flag_data2\n"
     ]
    },
    {
     "name": "stderr",
     "output_type": "stream",
     "text": [
      "None GetCandles RESOURCE_EXHAUSTED \n"
     ]
    },
    {
     "name": "stdout",
     "output_type": "stream",
     "text": [
      "Error: flag_data2\n"
     ]
    },
    {
     "name": "stderr",
     "output_type": "stream",
     "text": [
      "None GetCandles RESOURCE_EXHAUSTED \n"
     ]
    },
    {
     "name": "stdout",
     "output_type": "stream",
     "text": [
      "Error: flag_data2\n"
     ]
    },
    {
     "name": "stderr",
     "output_type": "stream",
     "text": [
      "\n",
      "57761it [00:00, 897894.47it/s]\n",
      "\n",
      "9727it [00:00, 602549.07it/s]\n",
      " 67%|████████████████████████████              | 12/18 [22:33<11:47, 117.91s/it]"
     ]
    },
    {
     "name": "stdout",
     "output_type": "stream",
     "text": [
      "YDEX\n"
     ]
    },
    {
     "name": "stderr",
     "output_type": "stream",
     "text": [
      "None GetCandles RESOURCE_EXHAUSTED \n"
     ]
    },
    {
     "name": "stdout",
     "output_type": "stream",
     "text": [
      "Error: flag_data1\n"
     ]
    },
    {
     "name": "stderr",
     "output_type": "stream",
     "text": [
      "None GetCandles RESOURCE_EXHAUSTED \n"
     ]
    },
    {
     "name": "stdout",
     "output_type": "stream",
     "text": [
      "Error: flag_data1\n"
     ]
    },
    {
     "name": "stderr",
     "output_type": "stream",
     "text": [
      "None GetCandles RESOURCE_EXHAUSTED \n"
     ]
    },
    {
     "name": "stdout",
     "output_type": "stream",
     "text": [
      "Error: flag_data1\n"
     ]
    },
    {
     "name": "stderr",
     "output_type": "stream",
     "text": [
      "None GetCandles RESOURCE_EXHAUSTED \n"
     ]
    },
    {
     "name": "stdout",
     "output_type": "stream",
     "text": [
      "Error: flag_data1\n"
     ]
    },
    {
     "name": "stderr",
     "output_type": "stream",
     "text": [
      "\n",
      "52586it [00:00, 1140466.56it/s]\n",
      "None GetCandles RESOURCE_EXHAUSTED \n"
     ]
    },
    {
     "name": "stdout",
     "output_type": "stream",
     "text": [
      "Error: flag_data2\n"
     ]
    },
    {
     "name": "stderr",
     "output_type": "stream",
     "text": [
      "None GetCandles RESOURCE_EXHAUSTED \n"
     ]
    },
    {
     "name": "stdout",
     "output_type": "stream",
     "text": [
      "Error: flag_data2\n"
     ]
    },
    {
     "name": "stderr",
     "output_type": "stream",
     "text": [
      "None GetCandles RESOURCE_EXHAUSTED \n"
     ]
    },
    {
     "name": "stdout",
     "output_type": "stream",
     "text": [
      "Error: flag_data2\n"
     ]
    },
    {
     "name": "stderr",
     "output_type": "stream",
     "text": [
      "\n",
      "50851it [00:00, 897839.86it/s]\n",
      "\n",
      "9832it [00:00, 632568.37it/s]\n",
      " 72%|██████████████████████████████▎           | 13/18 [24:37<09:58, 119.72s/it]"
     ]
    },
    {
     "name": "stdout",
     "output_type": "stream",
     "text": [
      "CHMF\n"
     ]
    },
    {
     "name": "stderr",
     "output_type": "stream",
     "text": [
      "None GetCandles RESOURCE_EXHAUSTED \n"
     ]
    },
    {
     "name": "stdout",
     "output_type": "stream",
     "text": [
      "Error: flag_data1\n"
     ]
    },
    {
     "name": "stderr",
     "output_type": "stream",
     "text": [
      "None GetCandles RESOURCE_EXHAUSTED \n"
     ]
    },
    {
     "name": "stdout",
     "output_type": "stream",
     "text": [
      "Error: flag_data1\n"
     ]
    },
    {
     "name": "stderr",
     "output_type": "stream",
     "text": [
      "None GetCandles RESOURCE_EXHAUSTED \n"
     ]
    },
    {
     "name": "stdout",
     "output_type": "stream",
     "text": [
      "Error: flag_data1\n"
     ]
    },
    {
     "name": "stderr",
     "output_type": "stream",
     "text": [
      "\n",
      "52144it [00:00, 714124.56it/s]\n",
      "None GetCandles RESOURCE_EXHAUSTED \n"
     ]
    },
    {
     "name": "stdout",
     "output_type": "stream",
     "text": [
      "Error: flag_data2\n"
     ]
    },
    {
     "name": "stderr",
     "output_type": "stream",
     "text": [
      "None GetCandles RESOURCE_EXHAUSTED \n"
     ]
    },
    {
     "name": "stdout",
     "output_type": "stream",
     "text": [
      "Error: flag_data2\n"
     ]
    },
    {
     "name": "stderr",
     "output_type": "stream",
     "text": [
      "None GetCandles RESOURCE_EXHAUSTED \n"
     ]
    },
    {
     "name": "stdout",
     "output_type": "stream",
     "text": [
      "Error: flag_data2\n"
     ]
    },
    {
     "name": "stderr",
     "output_type": "stream",
     "text": [
      "\n",
      "57806it [00:00, 860566.26it/s]\n",
      "\n",
      "9673it [00:00, 477750.20it/s]\n",
      " 78%|████████████████████████████████▋         | 14/18 [26:37<07:58, 119.72s/it]"
     ]
    },
    {
     "name": "stdout",
     "output_type": "stream",
     "text": [
      "MAGN\n"
     ]
    },
    {
     "name": "stderr",
     "output_type": "stream",
     "text": [
      "None GetCandles RESOURCE_EXHAUSTED \n"
     ]
    },
    {
     "name": "stdout",
     "output_type": "stream",
     "text": [
      "Error: flag_data1\n"
     ]
    },
    {
     "name": "stderr",
     "output_type": "stream",
     "text": [
      "None GetCandles RESOURCE_EXHAUSTED \n"
     ]
    },
    {
     "name": "stdout",
     "output_type": "stream",
     "text": [
      "Error: flag_data1\n"
     ]
    },
    {
     "name": "stderr",
     "output_type": "stream",
     "text": [
      "None GetCandles RESOURCE_EXHAUSTED \n"
     ]
    },
    {
     "name": "stdout",
     "output_type": "stream",
     "text": [
      "Error: flag_data1\n"
     ]
    },
    {
     "name": "stderr",
     "output_type": "stream",
     "text": [
      "None GetCandles RESOURCE_EXHAUSTED \n"
     ]
    },
    {
     "name": "stdout",
     "output_type": "stream",
     "text": [
      "Error: flag_data1\n"
     ]
    },
    {
     "name": "stderr",
     "output_type": "stream",
     "text": [
      "\n",
      "52476it [00:00, 1136529.47it/s]\n",
      "None GetCandles RESOURCE_EXHAUSTED \n"
     ]
    },
    {
     "name": "stdout",
     "output_type": "stream",
     "text": [
      "Error: flag_data2\n"
     ]
    },
    {
     "name": "stderr",
     "output_type": "stream",
     "text": [
      "None GetCandles RESOURCE_EXHAUSTED \n"
     ]
    },
    {
     "name": "stdout",
     "output_type": "stream",
     "text": [
      "Error: flag_data2\n"
     ]
    },
    {
     "name": "stderr",
     "output_type": "stream",
     "text": [
      "\n",
      "57746it [00:00, 824836.89it/s]\n",
      "\n",
      "9830it [00:00, 552251.71it/s]\n",
      " 83%|███████████████████████████████████       | 15/18 [28:39<06:01, 120.41s/it]"
     ]
    },
    {
     "name": "stdout",
     "output_type": "stream",
     "text": [
      "TCSG\n"
     ]
    },
    {
     "name": "stderr",
     "output_type": "stream",
     "text": [
      "None GetCandles RESOURCE_EXHAUSTED \n"
     ]
    },
    {
     "name": "stdout",
     "output_type": "stream",
     "text": [
      "Error: flag_data1\n"
     ]
    },
    {
     "name": "stderr",
     "output_type": "stream",
     "text": [
      "None GetCandles RESOURCE_EXHAUSTED \n"
     ]
    },
    {
     "name": "stdout",
     "output_type": "stream",
     "text": [
      "Error: flag_data1\n"
     ]
    },
    {
     "name": "stderr",
     "output_type": "stream",
     "text": [
      "None GetCandles RESOURCE_EXHAUSTED \n"
     ]
    },
    {
     "name": "stdout",
     "output_type": "stream",
     "text": [
      "Error: flag_data1\n"
     ]
    },
    {
     "name": "stderr",
     "output_type": "stream",
     "text": [
      "None GetCandles RESOURCE_EXHAUSTED \n"
     ]
    },
    {
     "name": "stdout",
     "output_type": "stream",
     "text": [
      "Error: flag_data1\n"
     ]
    },
    {
     "name": "stderr",
     "output_type": "stream",
     "text": [
      "\n",
      "41491it [00:00, 1167896.13it/s]\n",
      "None GetCandles RESOURCE_EXHAUSTED \n"
     ]
    },
    {
     "name": "stdout",
     "output_type": "stream",
     "text": [
      "Error: flag_data2\n"
     ]
    },
    {
     "name": "stderr",
     "output_type": "stream",
     "text": [
      "None GetCandles RESOURCE_EXHAUSTED \n"
     ]
    },
    {
     "name": "stdout",
     "output_type": "stream",
     "text": [
      "Error: flag_data2\n"
     ]
    },
    {
     "name": "stderr",
     "output_type": "stream",
     "text": [
      "None GetCandles RESOURCE_EXHAUSTED \n"
     ]
    },
    {
     "name": "stdout",
     "output_type": "stream",
     "text": [
      "Error: flag_data2\n"
     ]
    },
    {
     "name": "stderr",
     "output_type": "stream",
     "text": [
      "None GetCandles RESOURCE_EXHAUSTED \n"
     ]
    },
    {
     "name": "stdout",
     "output_type": "stream",
     "text": [
      "Error: flag_data2\n"
     ]
    },
    {
     "name": "stderr",
     "output_type": "stream",
     "text": [
      "\n",
      "49683it [00:00, 841156.57it/s]\n",
      "\n",
      "9871it [00:00, 568575.67it/s]\n",
      " 89%|█████████████████████████████████████▎    | 16/18 [30:35<03:58, 119.17s/it]"
     ]
    },
    {
     "name": "stdout",
     "output_type": "stream",
     "text": [
      "OZON\n"
     ]
    },
    {
     "name": "stderr",
     "output_type": "stream",
     "text": [
      "None GetCandles RESOURCE_EXHAUSTED \n"
     ]
    },
    {
     "name": "stdout",
     "output_type": "stream",
     "text": [
      "Error: flag_data1\n"
     ]
    },
    {
     "name": "stderr",
     "output_type": "stream",
     "text": [
      "None GetCandles RESOURCE_EXHAUSTED \n"
     ]
    },
    {
     "name": "stdout",
     "output_type": "stream",
     "text": [
      "Error: flag_data1\n"
     ]
    },
    {
     "name": "stderr",
     "output_type": "stream",
     "text": [
      "None GetCandles RESOURCE_EXHAUSTED \n"
     ]
    },
    {
     "name": "stdout",
     "output_type": "stream",
     "text": [
      "Error: flag_data1\n"
     ]
    },
    {
     "name": "stderr",
     "output_type": "stream",
     "text": [
      "None GetCandles RESOURCE_EXHAUSTED \n"
     ]
    },
    {
     "name": "stdout",
     "output_type": "stream",
     "text": [
      "Error: flag_data1\n"
     ]
    },
    {
     "name": "stderr",
     "output_type": "stream",
     "text": [
      "\n",
      "52579it [00:00, 702965.76it/s]\n",
      "None GetCandles RESOURCE_EXHAUSTED \n"
     ]
    },
    {
     "name": "stdout",
     "output_type": "stream",
     "text": [
      "Error: flag_data2\n"
     ]
    },
    {
     "name": "stderr",
     "output_type": "stream",
     "text": [
      "None GetCandles RESOURCE_EXHAUSTED \n"
     ]
    },
    {
     "name": "stdout",
     "output_type": "stream",
     "text": [
      "Error: flag_data2\n"
     ]
    },
    {
     "name": "stderr",
     "output_type": "stream",
     "text": [
      "None GetCandles RESOURCE_EXHAUSTED \n"
     ]
    },
    {
     "name": "stdout",
     "output_type": "stream",
     "text": [
      "Error: flag_data2\n"
     ]
    },
    {
     "name": "stderr",
     "output_type": "stream",
     "text": [
      "\n",
      "58289it [00:00, 1113786.87it/s]\n",
      "\n",
      "9825it [00:00, 635020.75it/s]\n",
      " 94%|███████████████████████████████████████▋  | 17/18 [32:38<02:00, 120.44s/it]"
     ]
    },
    {
     "name": "stdout",
     "output_type": "stream",
     "text": [
      "RUAL\n"
     ]
    },
    {
     "name": "stderr",
     "output_type": "stream",
     "text": [
      "None GetCandles RESOURCE_EXHAUSTED \n"
     ]
    },
    {
     "name": "stdout",
     "output_type": "stream",
     "text": [
      "Error: flag_data1\n"
     ]
    },
    {
     "name": "stderr",
     "output_type": "stream",
     "text": [
      "None GetCandles RESOURCE_EXHAUSTED \n"
     ]
    },
    {
     "name": "stdout",
     "output_type": "stream",
     "text": [
      "Error: flag_data1\n"
     ]
    },
    {
     "name": "stderr",
     "output_type": "stream",
     "text": [
      "None GetCandles RESOURCE_EXHAUSTED \n"
     ]
    },
    {
     "name": "stdout",
     "output_type": "stream",
     "text": [
      "Error: flag_data1\n"
     ]
    },
    {
     "name": "stderr",
     "output_type": "stream",
     "text": [
      "\n",
      "52530it [00:00, 758204.99it/s]\n",
      "None GetCandles RESOURCE_EXHAUSTED \n"
     ]
    },
    {
     "name": "stdout",
     "output_type": "stream",
     "text": [
      "Error: flag_data2\n"
     ]
    },
    {
     "name": "stderr",
     "output_type": "stream",
     "text": [
      "None GetCandles RESOURCE_EXHAUSTED \n"
     ]
    },
    {
     "name": "stdout",
     "output_type": "stream",
     "text": [
      "Error: flag_data2\n"
     ]
    },
    {
     "name": "stderr",
     "output_type": "stream",
     "text": [
      "None GetCandles RESOURCE_EXHAUSTED \n"
     ]
    },
    {
     "name": "stdout",
     "output_type": "stream",
     "text": [
      "Error: flag_data2\n"
     ]
    },
    {
     "name": "stderr",
     "output_type": "stream",
     "text": [
      "\n",
      "56779it [00:00, 872974.76it/s]\n",
      "\n",
      "9285it [00:00, 608844.23it/s]\n",
      "100%|██████████████████████████████████████████| 18/18 [34:38<00:00, 115.47s/it]\n"
     ]
    }
   ],
   "source": [
    "#5min\n",
    "stocks = [\n",
    "          'GAZP',\n",
    "          'SBER',\n",
    "          'LKOH',\n",
    "          'MGNT',\n",
    "          'NVTK',\n",
    "          'SNGS',\n",
    "          'GMKN',\n",
    "          'ROSN',\n",
    "          'NLMK',\n",
    "          'TATN',\n",
    "          'MTSS',\n",
    "          'ALRS',\n",
    "          \n",
    "          'YDEX',\n",
    "          'CHMF',\n",
    "          \n",
    "          'MAGN',\n",
    "          'TCSG',\n",
    "          'OZON',\n",
    "          'RUAL'\n",
    "          \n",
    "         ]\n",
    "for stock in tqdm(stocks):\n",
    "    print(stock)\n",
    "\n",
    "    \n",
    "    flag_data1 = False\n",
    "    while not flag_data1:\n",
    "        try:\n",
    "            data1 = get_all_candles(ticker=stock,\n",
    "                               from_=datetime.datetime(2022, 10, 1, tzinfo=datetime.timezone.utc),\n",
    "                               to_=datetime.datetime(2023, 10, 1, tzinfo=datetime.timezone.utc),\n",
    "                               interval=CandleInterval.CANDLE_INTERVAL_5_MIN\n",
    "                              )\n",
    "            flag_data1 = True\n",
    "        except:\n",
    "            print('Error: flag_data1')\n",
    "            time.sleep(5)\n",
    "\n",
    "    \n",
    "    flag_data2 = False\n",
    "    while not flag_data2:\n",
    "        try:            \n",
    "            data2 = get_all_candles(ticker=stock,\n",
    "                               from_=datetime.datetime(2023, 10, 1, tzinfo=datetime.timezone.utc),\n",
    "                               to_=datetime.datetime(2024, 10, 1, tzinfo=datetime.timezone.utc),\n",
    "                               interval=CandleInterval.CANDLE_INTERVAL_5_MIN\n",
    "                              )\n",
    "            flag_data2 = True\n",
    "        except:\n",
    "            print('Error: flag_data2')\n",
    "            time.sleep(5)\n",
    "\n",
    "    \n",
    "    flag_data3 = False\n",
    "    while not flag_data3:\n",
    "        try:            \n",
    "            data3 = get_all_candles(ticker=stock,\n",
    "                               from_=datetime.datetime(2024, 10, 1, tzinfo=datetime.timezone.utc),\n",
    "                               to_=datetime.datetime(2024, 11, 20, tzinfo=datetime.timezone.utc),\n",
    "                               interval=CandleInterval.CANDLE_INTERVAL_5_MIN\n",
    "                              )\n",
    "            flag_data3 = True\n",
    "        except:\n",
    "            print('Error: flag_data3')\n",
    "            time.sleep(5)\n",
    "\n",
    "\n",
    "    data = pd.concat([data1, data2, data3])\n",
    "    data.sort_values(by='time', inplace=True)\n",
    "    data.reset_index(drop=True, inplace=True)\n",
    "    \n",
    "    data['ticker'] = stock\n",
    "    dump_pkl(data, f\"./data/raw/5min/{stock}.pkl\")"
   ]
  },
  {
   "cell_type": "code",
   "execution_count": null,
   "id": "6f5a3499-34db-42ba-bf25-8042b1fabbc0",
   "metadata": {},
   "outputs": [],
   "source": []
  },
  {
   "cell_type": "code",
   "execution_count": 13,
   "id": "85e36c7a-be57-4f6f-bd9a-49d62ec7c352",
   "metadata": {},
   "outputs": [
    {
     "name": "stderr",
     "output_type": "stream",
     "text": [
      "  0%|                                                    | 0/18 [00:00<?, ?it/s]\n",
      "10786it [00:00, 488624.23it/s]\n",
      "  6%|██▍                                         | 1/18 [00:07<02:06,  7.44s/it]None GetCandles RESOURCE_EXHAUSTED \n"
     ]
    },
    {
     "name": "stdout",
     "output_type": "stream",
     "text": [
      "Error: flag_data\n"
     ]
    },
    {
     "name": "stderr",
     "output_type": "stream",
     "text": [
      "None GetCandles RESOURCE_EXHAUSTED \n"
     ]
    },
    {
     "name": "stdout",
     "output_type": "stream",
     "text": [
      "Error: flag_data\n"
     ]
    },
    {
     "name": "stderr",
     "output_type": "stream",
     "text": [
      "None GetCandles RESOURCE_EXHAUSTED \n"
     ]
    },
    {
     "name": "stdout",
     "output_type": "stream",
     "text": [
      "Error: flag_data\n"
     ]
    },
    {
     "name": "stderr",
     "output_type": "stream",
     "text": [
      "None GetCandles RESOURCE_EXHAUSTED \n"
     ]
    },
    {
     "name": "stdout",
     "output_type": "stream",
     "text": [
      "Error: flag_data\n"
     ]
    },
    {
     "name": "stderr",
     "output_type": "stream",
     "text": [
      "\n",
      "10777it [00:00, 518074.66it/s]\n",
      " 11%|████▉                                       | 2/18 [00:42<06:19, 23.72s/it]\n",
      "10785it [00:00, 466702.11it/s]\n",
      " 17%|███████▎                                    | 3/18 [00:49<03:58, 15.87s/it]\n",
      "10741it [00:00, 1135558.67it/s]\n",
      " 22%|█████████▊                                  | 4/18 [00:56<02:57, 12.67s/it]\n",
      "10708it [00:00, 310693.48it/s]\n",
      " 28%|████████████▏                               | 5/18 [01:03<02:18, 10.66s/it]\n",
      "10737it [00:00, 485089.37it/s]\n",
      " 33%|██████████████▋                             | 6/18 [01:10<01:51,  9.27s/it]None GetCandles RESOURCE_EXHAUSTED \n"
     ]
    },
    {
     "name": "stdout",
     "output_type": "stream",
     "text": [
      "Error: flag_data\n"
     ]
    },
    {
     "name": "stderr",
     "output_type": "stream",
     "text": [
      "None GetCandles RESOURCE_EXHAUSTED \n"
     ]
    },
    {
     "name": "stdout",
     "output_type": "stream",
     "text": [
      "Error: flag_data\n"
     ]
    },
    {
     "name": "stderr",
     "output_type": "stream",
     "text": [
      "None GetCandles RESOURCE_EXHAUSTED \n"
     ]
    },
    {
     "name": "stdout",
     "output_type": "stream",
     "text": [
      "Error: flag_data\n"
     ]
    },
    {
     "name": "stderr",
     "output_type": "stream",
     "text": [
      "\n",
      "10685it [00:00, 485906.61it/s]\n",
      " 39%|█████████████████                           | 7/18 [01:37<02:46, 15.14s/it]\n",
      "10753it [00:00, 1123965.18it/s]\n",
      " 44%|███████████████████▌                        | 8/18 [01:44<02:06, 12.61s/it]\n",
      "10743it [00:00, 360261.99it/s]\n",
      " 50%|██████████████████████                      | 9/18 [01:52<01:37, 10.88s/it]\n",
      "10714it [00:00, 343771.21it/s]\n",
      " 56%|███████████████████████▉                   | 10/18 [01:58<01:17,  9.64s/it]\n",
      "10741it [00:00, 462835.50it/s]\n",
      " 61%|██████████████████████████▎                | 11/18 [02:06<01:02,  8.91s/it]None GetCandles RESOURCE_EXHAUSTED \n"
     ]
    },
    {
     "name": "stdout",
     "output_type": "stream",
     "text": [
      "Error: flag_data\n"
     ]
    },
    {
     "name": "stderr",
     "output_type": "stream",
     "text": [
      "None GetCandles RESOURCE_EXHAUSTED \n"
     ]
    },
    {
     "name": "stdout",
     "output_type": "stream",
     "text": [
      "Error: flag_data\n"
     ]
    },
    {
     "name": "stderr",
     "output_type": "stream",
     "text": [
      "None GetCandles RESOURCE_EXHAUSTED \n"
     ]
    },
    {
     "name": "stdout",
     "output_type": "stream",
     "text": [
      "Error: flag_data\n"
     ]
    },
    {
     "name": "stderr",
     "output_type": "stream",
     "text": [
      "None GetCandles RESOURCE_EXHAUSTED \n"
     ]
    },
    {
     "name": "stdout",
     "output_type": "stream",
     "text": [
      "Error: flag_data\n"
     ]
    },
    {
     "name": "stderr",
     "output_type": "stream",
     "text": [
      "\n",
      "10770it [00:00, 431972.44it/s]\n",
      " 67%|████████████████████████████▋              | 12/18 [02:39<01:38, 16.40s/it]\n",
      "10110it [00:00, 606219.01it/s]\n",
      " 72%|███████████████████████████████            | 13/18 [02:45<01:06, 13.35s/it]\n",
      "10766it [00:00, 934633.37it/s]\n",
      " 78%|█████████████████████████████████▍         | 14/18 [02:52<00:45, 11.40s/it]\n",
      "10744it [00:00, 475254.19it/s]\n",
      " 83%|███████████████████████████████████▊       | 15/18 [02:59<00:29,  9.87s/it]\n",
      "9096it [00:00, 987712.66it/s]\n",
      " 89%|██████████████████████████████████████▏    | 16/18 [03:05<00:17,  8.84s/it]None GetCandles RESOURCE_EXHAUSTED \n"
     ]
    },
    {
     "name": "stdout",
     "output_type": "stream",
     "text": [
      "Error: flag_data\n"
     ]
    },
    {
     "name": "stderr",
     "output_type": "stream",
     "text": [
      "None GetCandles RESOURCE_EXHAUSTED \n"
     ]
    },
    {
     "name": "stdout",
     "output_type": "stream",
     "text": [
      "Error: flag_data\n"
     ]
    },
    {
     "name": "stderr",
     "output_type": "stream",
     "text": [
      "None GetCandles RESOURCE_EXHAUSTED \n"
     ]
    },
    {
     "name": "stdout",
     "output_type": "stream",
     "text": [
      "Error: flag_data\n"
     ]
    },
    {
     "name": "stderr",
     "output_type": "stream",
     "text": [
      "None GetCandles RESOURCE_EXHAUSTED \n"
     ]
    },
    {
     "name": "stdout",
     "output_type": "stream",
     "text": [
      "Error: flag_data\n"
     ]
    },
    {
     "name": "stderr",
     "output_type": "stream",
     "text": [
      "\n",
      "10783it [00:00, 519005.53it/s]\n",
      " 94%|████████████████████████████████████████▌  | 17/18 [03:38<00:16, 16.17s/it]\n",
      "10744it [00:00, 504982.21it/s]\n",
      "100%|███████████████████████████████████████████| 18/18 [03:46<00:00, 12.56s/it]\n"
     ]
    }
   ],
   "source": [
    "#1hour\n",
    "for stock in tqdm(stocks):\n",
    "    flag_data = False\n",
    "    while not flag_data:\n",
    "        try:\n",
    "            data = get_all_candles(ticker=stock,\n",
    "                       from_=datetime.datetime(2022, 10, 1, tzinfo=datetime.timezone.utc),\n",
    "                       to_=datetime.datetime(2024, 11, 20, tzinfo=datetime.timezone.utc),\n",
    "                       interval=CandleInterval.CANDLE_INTERVAL_HOUR\n",
    "                      )\n",
    "            flag_data = True\n",
    "        except:\n",
    "            print('Error: flag_data')\n",
    "            time.sleep(5)\n",
    "\n",
    "    data['ticker'] = stock\n",
    "    dump_pkl(data, f\"./data/raw/1hour/{stock}.pkl\")"
   ]
  },
  {
   "cell_type": "code",
   "execution_count": null,
   "id": "28d0709c-bdc8-415d-b25d-27b2e36fef3e",
   "metadata": {},
   "outputs": [],
   "source": []
  },
  {
   "cell_type": "code",
   "execution_count": 15,
   "id": "7ea01bb7-bbd2-48bd-8894-5d774689573a",
   "metadata": {},
   "outputs": [
    {
     "name": "stderr",
     "output_type": "stream",
     "text": [
      "  0%|                                                    | 0/18 [00:00<?, ?it/s]\n",
      "545it [00:00, 488334.90it/s]\n",
      "  6%|██▍                                         | 1/18 [00:01<00:21,  1.25s/it]\n",
      "545it [00:00, 658001.06it/s]\n",
      " 11%|████▉                                       | 2/18 [00:02<00:19,  1.25s/it]\n",
      "545it [00:00, 614653.32it/s]\n",
      " 17%|███████▎                                    | 3/18 [00:03<00:18,  1.26s/it]\n",
      "545it [00:00, 508428.75it/s]\n",
      " 22%|█████████▊                                  | 4/18 [00:05<00:20,  1.43s/it]\n",
      "545it [00:00, 699692.59it/s]\n",
      " 28%|████████████▏                               | 5/18 [00:06<00:18,  1.42s/it]\n",
      "545it [00:00, 693325.96it/s]\n",
      " 33%|██████████████▋                             | 6/18 [00:08<00:16,  1.36s/it]\n",
      "541it [00:00, 686571.40it/s]\n",
      " 39%|█████████████████                           | 7/18 [00:09<00:14,  1.34s/it]\n",
      "545it [00:00, 642827.81it/s]\n",
      " 44%|███████████████████▌                        | 8/18 [00:10<00:13,  1.30s/it]\n",
      "545it [00:00, 581652.84it/s]\n",
      " 50%|██████████████████████                      | 9/18 [00:11<00:11,  1.30s/it]\n",
      "545it [00:00, 701410.15it/s]\n",
      " 56%|███████████████████████▉                   | 10/18 [00:13<00:10,  1.26s/it]\n",
      "545it [00:00, 648113.32it/s]\n",
      " 61%|██████████████████████████▎                | 11/18 [00:14<00:08,  1.27s/it]\n",
      "545it [00:00, 534212.59it/s]\n",
      " 67%|████████████████████████████▋              | 12/18 [00:15<00:07,  1.26s/it]\n",
      "518it [00:00, 863876.53it/s]\n",
      " 72%|███████████████████████████████            | 13/18 [00:17<00:06,  1.31s/it]\n",
      "545it [00:00, 492649.93it/s]\n",
      " 78%|█████████████████████████████████▍         | 14/18 [00:18<00:05,  1.30s/it]\n",
      "545it [00:00, 585376.61it/s]\n",
      " 83%|███████████████████████████████████▊       | 15/18 [00:19<00:03,  1.29s/it]\n",
      "526it [00:00, 577994.21it/s]\n",
      " 89%|██████████████████████████████████████▏    | 16/18 [00:20<00:02,  1.29s/it]\n",
      "545it [00:00, 592354.41it/s]\n",
      " 94%|████████████████████████████████████████▌  | 17/18 [00:22<00:01,  1.29s/it]\n",
      "545it [00:00, 664697.78it/s]\n",
      "100%|███████████████████████████████████████████| 18/18 [00:23<00:00,  1.30s/it]\n"
     ]
    }
   ],
   "source": [
    "#1day\n",
    "for stock in tqdm(stocks):\n",
    "    flag_data = False\n",
    "    while not flag_data:\n",
    "        try:\n",
    "            data = get_all_candles(ticker=stock,\n",
    "                               from_=datetime.datetime(2022, 10, 1, tzinfo=datetime.timezone.utc),\n",
    "                               to_=datetime.datetime(2024, 11, 20, tzinfo=datetime.timezone.utc),\n",
    "                               interval=CandleInterval.CANDLE_INTERVAL_DAY)\n",
    "            flag_data = True\n",
    "        except:\n",
    "            print('Error: flag_data')\n",
    "            time.sleep(5)\n",
    "\n",
    "    data['ticker'] = stock\n",
    "    dump_pkl(data, f\"./data/raw/1day/{stock}.pkl\")"
   ]
  },
  {
   "cell_type": "code",
   "execution_count": null,
   "id": "1e0b1d76-b0b5-4951-8039-091dcf6cd5ce",
   "metadata": {},
   "outputs": [],
   "source": []
  },
  {
   "cell_type": "markdown",
   "id": "204f19bf-6999-4f19-8ac1-c7c316d08334",
   "metadata": {},
   "source": [
    "### 3. Посмотрим на объемы торгов во времени"
   ]
  },
  {
   "cell_type": "markdown",
   "id": "dec71a4e-08b3-480c-ae30-79528f51ec94",
   "metadata": {},
   "source": [
    "#### 3.1 По минутам"
   ]
  },
  {
   "cell_type": "code",
   "execution_count": 107,
   "id": "c6a55445-47c6-4dbf-9d0a-fd4df36f5001",
   "metadata": {},
   "outputs": [
    {
     "data": {
      "text/html": [
       "<div>\n",
       "<style scoped>\n",
       "    .dataframe tbody tr th:only-of-type {\n",
       "        vertical-align: middle;\n",
       "    }\n",
       "\n",
       "    .dataframe tbody tr th {\n",
       "        vertical-align: top;\n",
       "    }\n",
       "\n",
       "    .dataframe thead th {\n",
       "        text-align: right;\n",
       "    }\n",
       "</style>\n",
       "<table border=\"1\" class=\"dataframe\">\n",
       "  <thead>\n",
       "    <tr style=\"text-align: right;\">\n",
       "      <th></th>\n",
       "      <th>time</th>\n",
       "      <th>open</th>\n",
       "      <th>close</th>\n",
       "      <th>volume</th>\n",
       "      <th>low</th>\n",
       "      <th>high</th>\n",
       "      <th>ticker</th>\n",
       "    </tr>\n",
       "  </thead>\n",
       "  <tbody>\n",
       "    <tr>\n",
       "      <th>0</th>\n",
       "      <td>2022-10-03 09:59:00</td>\n",
       "      <td>978.0</td>\n",
       "      <td>978.0</td>\n",
       "      <td>1933.0</td>\n",
       "      <td>978.0</td>\n",
       "      <td>978.0</td>\n",
       "      <td>NVTK</td>\n",
       "    </tr>\n",
       "    <tr>\n",
       "      <th>1</th>\n",
       "      <td>2022-10-03 10:00:00</td>\n",
       "      <td>976.4</td>\n",
       "      <td>979.8</td>\n",
       "      <td>11255.0</td>\n",
       "      <td>975.8</td>\n",
       "      <td>982.2</td>\n",
       "      <td>NVTK</td>\n",
       "    </tr>\n",
       "    <tr>\n",
       "      <th>2</th>\n",
       "      <td>2022-10-03 10:01:00</td>\n",
       "      <td>979.8</td>\n",
       "      <td>977.0</td>\n",
       "      <td>11999.0</td>\n",
       "      <td>975.2</td>\n",
       "      <td>981.0</td>\n",
       "      <td>NVTK</td>\n",
       "    </tr>\n",
       "    <tr>\n",
       "      <th>3</th>\n",
       "      <td>2022-10-03 10:02:00</td>\n",
       "      <td>977.8</td>\n",
       "      <td>978.2</td>\n",
       "      <td>8573.0</td>\n",
       "      <td>976.2</td>\n",
       "      <td>980.0</td>\n",
       "      <td>NVTK</td>\n",
       "    </tr>\n",
       "    <tr>\n",
       "      <th>4</th>\n",
       "      <td>2022-10-03 10:03:00</td>\n",
       "      <td>977.8</td>\n",
       "      <td>979.4</td>\n",
       "      <td>6881.0</td>\n",
       "      <td>976.2</td>\n",
       "      <td>980.0</td>\n",
       "      <td>NVTK</td>\n",
       "    </tr>\n",
       "    <tr>\n",
       "      <th>...</th>\n",
       "      <td>...</td>\n",
       "      <td>...</td>\n",
       "      <td>...</td>\n",
       "      <td>...</td>\n",
       "      <td>...</td>\n",
       "      <td>...</td>\n",
       "      <td>...</td>\n",
       "    </tr>\n",
       "    <tr>\n",
       "      <th>549278</th>\n",
       "      <td>2024-11-19 23:45:00</td>\n",
       "      <td>875.2</td>\n",
       "      <td>875.2</td>\n",
       "      <td>417.0</td>\n",
       "      <td>875.2</td>\n",
       "      <td>875.4</td>\n",
       "      <td>NVTK</td>\n",
       "    </tr>\n",
       "    <tr>\n",
       "      <th>549279</th>\n",
       "      <td>2024-11-19 23:46:00</td>\n",
       "      <td>875.4</td>\n",
       "      <td>875.4</td>\n",
       "      <td>1183.0</td>\n",
       "      <td>875.2</td>\n",
       "      <td>875.6</td>\n",
       "      <td>NVTK</td>\n",
       "    </tr>\n",
       "    <tr>\n",
       "      <th>549280</th>\n",
       "      <td>2024-11-19 23:47:00</td>\n",
       "      <td>875.2</td>\n",
       "      <td>875.2</td>\n",
       "      <td>222.0</td>\n",
       "      <td>875.2</td>\n",
       "      <td>875.6</td>\n",
       "      <td>NVTK</td>\n",
       "    </tr>\n",
       "    <tr>\n",
       "      <th>549281</th>\n",
       "      <td>2024-11-19 23:48:00</td>\n",
       "      <td>875.2</td>\n",
       "      <td>875.8</td>\n",
       "      <td>1933.0</td>\n",
       "      <td>875.2</td>\n",
       "      <td>875.8</td>\n",
       "      <td>NVTK</td>\n",
       "    </tr>\n",
       "    <tr>\n",
       "      <th>549282</th>\n",
       "      <td>2024-11-19 23:49:00</td>\n",
       "      <td>875.4</td>\n",
       "      <td>875.0</td>\n",
       "      <td>1042.0</td>\n",
       "      <td>874.8</td>\n",
       "      <td>875.4</td>\n",
       "      <td>NVTK</td>\n",
       "    </tr>\n",
       "  </tbody>\n",
       "</table>\n",
       "<p>549283 rows × 7 columns</p>\n",
       "</div>"
      ],
      "text/plain": [
       "                      time   open  close   volume    low   high ticker\n",
       "0      2022-10-03 09:59:00  978.0  978.0   1933.0  978.0  978.0   NVTK\n",
       "1      2022-10-03 10:00:00  976.4  979.8  11255.0  975.8  982.2   NVTK\n",
       "2      2022-10-03 10:01:00  979.8  977.0  11999.0  975.2  981.0   NVTK\n",
       "3      2022-10-03 10:02:00  977.8  978.2   8573.0  976.2  980.0   NVTK\n",
       "4      2022-10-03 10:03:00  977.8  979.4   6881.0  976.2  980.0   NVTK\n",
       "...                    ...    ...    ...      ...    ...    ...    ...\n",
       "549278 2024-11-19 23:45:00  875.2  875.2    417.0  875.2  875.4   NVTK\n",
       "549279 2024-11-19 23:46:00  875.4  875.4   1183.0  875.2  875.6   NVTK\n",
       "549280 2024-11-19 23:47:00  875.2  875.2    222.0  875.2  875.6   NVTK\n",
       "549281 2024-11-19 23:48:00  875.2  875.8   1933.0  875.2  875.8   NVTK\n",
       "549282 2024-11-19 23:49:00  875.4  875.0   1042.0  874.8  875.4   NVTK\n",
       "\n",
       "[549283 rows x 7 columns]"
      ]
     },
     "execution_count": 107,
     "metadata": {},
     "output_type": "execute_result"
    }
   ],
   "source": [
    "# 1 min\n",
    "\n",
    "path = './data/raw/1min/NVTK.pkl'\n",
    "df = load_pkl(path)\n",
    "df['time'] = df['time'].apply(lambda x: x.tz_convert(None))\n",
    "\n",
    "df"
   ]
  },
  {
   "cell_type": "code",
   "execution_count": 108,
   "id": "263371a9-7818-491b-8723-9d5d251d4d59",
   "metadata": {},
   "outputs": [
    {
     "data": {
      "text/plain": [
       "670"
      ]
     },
     "execution_count": 108,
     "metadata": {},
     "output_type": "execute_result"
    }
   ],
   "source": [
    "start = pd.Timestamp('2024-09-14')\n",
    "end = pd.Timestamp('2024-09-15')\n",
    "\n",
    "mask = (start <= df['time']) & (df['time'] < end)\n",
    "mask.sum()"
   ]
  },
  {
   "cell_type": "code",
   "execution_count": 109,
   "id": "9461d18a-ed93-4058-962e-bfb79bc8e0d9",
   "metadata": {},
   "outputs": [
    {
     "data": {
      "text/html": [
       "<div>\n",
       "<style scoped>\n",
       "    .dataframe tbody tr th:only-of-type {\n",
       "        vertical-align: middle;\n",
       "    }\n",
       "\n",
       "    .dataframe tbody tr th {\n",
       "        vertical-align: top;\n",
       "    }\n",
       "\n",
       "    .dataframe thead th {\n",
       "        text-align: right;\n",
       "    }\n",
       "</style>\n",
       "<table border=\"1\" class=\"dataframe\">\n",
       "  <thead>\n",
       "    <tr style=\"text-align: right;\">\n",
       "      <th></th>\n",
       "      <th>open</th>\n",
       "      <th>close</th>\n",
       "      <th>volume</th>\n",
       "      <th>low</th>\n",
       "      <th>high</th>\n",
       "      <th>ticker</th>\n",
       "    </tr>\n",
       "    <tr>\n",
       "      <th>time</th>\n",
       "      <th></th>\n",
       "      <th></th>\n",
       "      <th></th>\n",
       "      <th></th>\n",
       "      <th></th>\n",
       "      <th></th>\n",
       "    </tr>\n",
       "  </thead>\n",
       "  <tbody>\n",
       "    <tr>\n",
       "      <th>2024-09-14 07:02:00</th>\n",
       "      <td>967.4</td>\n",
       "      <td>967.0</td>\n",
       "      <td>54.0</td>\n",
       "      <td>967.0</td>\n",
       "      <td>967.4</td>\n",
       "      <td>NVTK</td>\n",
       "    </tr>\n",
       "    <tr>\n",
       "      <th>2024-09-14 07:03:00</th>\n",
       "      <td>969.0</td>\n",
       "      <td>969.0</td>\n",
       "      <td>5.0</td>\n",
       "      <td>969.0</td>\n",
       "      <td>969.0</td>\n",
       "      <td>NVTK</td>\n",
       "    </tr>\n",
       "    <tr>\n",
       "      <th>2024-09-14 07:04:00</th>\n",
       "      <td>967.0</td>\n",
       "      <td>967.0</td>\n",
       "      <td>2.0</td>\n",
       "      <td>967.0</td>\n",
       "      <td>967.0</td>\n",
       "      <td>NVTK</td>\n",
       "    </tr>\n",
       "    <tr>\n",
       "      <th>2024-09-14 07:05:00</th>\n",
       "      <td>967.0</td>\n",
       "      <td>968.8</td>\n",
       "      <td>3.0</td>\n",
       "      <td>967.0</td>\n",
       "      <td>968.8</td>\n",
       "      <td>NVTK</td>\n",
       "    </tr>\n",
       "    <tr>\n",
       "      <th>2024-09-14 07:06:00</th>\n",
       "      <td>968.6</td>\n",
       "      <td>968.6</td>\n",
       "      <td>3.0</td>\n",
       "      <td>968.6</td>\n",
       "      <td>968.6</td>\n",
       "      <td>NVTK</td>\n",
       "    </tr>\n",
       "    <tr>\n",
       "      <th>...</th>\n",
       "      <td>...</td>\n",
       "      <td>...</td>\n",
       "      <td>...</td>\n",
       "      <td>...</td>\n",
       "      <td>...</td>\n",
       "      <td>...</td>\n",
       "    </tr>\n",
       "    <tr>\n",
       "      <th>2024-09-14 23:37:00</th>\n",
       "      <td>972.8</td>\n",
       "      <td>972.8</td>\n",
       "      <td>1.0</td>\n",
       "      <td>972.8</td>\n",
       "      <td>972.8</td>\n",
       "      <td>NVTK</td>\n",
       "    </tr>\n",
       "    <tr>\n",
       "      <th>2024-09-14 23:39:00</th>\n",
       "      <td>972.8</td>\n",
       "      <td>973.0</td>\n",
       "      <td>54.0</td>\n",
       "      <td>972.8</td>\n",
       "      <td>973.0</td>\n",
       "      <td>NVTK</td>\n",
       "    </tr>\n",
       "    <tr>\n",
       "      <th>2024-09-14 23:40:00</th>\n",
       "      <td>973.0</td>\n",
       "      <td>971.0</td>\n",
       "      <td>42.0</td>\n",
       "      <td>971.0</td>\n",
       "      <td>973.0</td>\n",
       "      <td>NVTK</td>\n",
       "    </tr>\n",
       "    <tr>\n",
       "      <th>2024-09-14 23:41:00</th>\n",
       "      <td>971.0</td>\n",
       "      <td>971.0</td>\n",
       "      <td>3.0</td>\n",
       "      <td>971.0</td>\n",
       "      <td>971.0</td>\n",
       "      <td>NVTK</td>\n",
       "    </tr>\n",
       "    <tr>\n",
       "      <th>2024-09-14 23:47:00</th>\n",
       "      <td>973.0</td>\n",
       "      <td>973.0</td>\n",
       "      <td>6.0</td>\n",
       "      <td>973.0</td>\n",
       "      <td>973.0</td>\n",
       "      <td>NVTK</td>\n",
       "    </tr>\n",
       "  </tbody>\n",
       "</table>\n",
       "<p>670 rows × 6 columns</p>\n",
       "</div>"
      ],
      "text/plain": [
       "                      open  close  volume    low   high ticker\n",
       "time                                                          \n",
       "2024-09-14 07:02:00  967.4  967.0    54.0  967.0  967.4   NVTK\n",
       "2024-09-14 07:03:00  969.0  969.0     5.0  969.0  969.0   NVTK\n",
       "2024-09-14 07:04:00  967.0  967.0     2.0  967.0  967.0   NVTK\n",
       "2024-09-14 07:05:00  967.0  968.8     3.0  967.0  968.8   NVTK\n",
       "2024-09-14 07:06:00  968.6  968.6     3.0  968.6  968.6   NVTK\n",
       "...                    ...    ...     ...    ...    ...    ...\n",
       "2024-09-14 23:37:00  972.8  972.8     1.0  972.8  972.8   NVTK\n",
       "2024-09-14 23:39:00  972.8  973.0    54.0  972.8  973.0   NVTK\n",
       "2024-09-14 23:40:00  973.0  971.0    42.0  971.0  973.0   NVTK\n",
       "2024-09-14 23:41:00  971.0  971.0     3.0  971.0  971.0   NVTK\n",
       "2024-09-14 23:47:00  973.0  973.0     6.0  973.0  973.0   NVTK\n",
       "\n",
       "[670 rows x 6 columns]"
      ]
     },
     "execution_count": 109,
     "metadata": {},
     "output_type": "execute_result"
    }
   ],
   "source": [
    "df_day= df.loc[mask, :]\n",
    "df_day = df_day.set_index('time')\n",
    "df_day"
   ]
  },
  {
   "cell_type": "code",
   "execution_count": 110,
   "id": "082a3731-9609-4e5f-9546-4aa7e0a5ad78",
   "metadata": {},
   "outputs": [
    {
     "data": {
      "text/plain": [
       "<Axes: xlabel='time'>"
      ]
     },
     "execution_count": 110,
     "metadata": {},
     "output_type": "execute_result"
    },
    {
     "data": {
      "image/png": "[encoded data removed]",
      "text/plain": [
       "<Figure size 640x480 with 1 Axes>"
      ]
     },
     "metadata": {},
     "output_type": "display_data"
    }
   ],
   "source": [
    "import matplotlib.pyplot as plt\n",
    "\n",
    "df_day['close'].plot()\n",
    "df_day['volume'].plot()\n",
    "#plt.xticks(pd.date_range(pd.Timestamp('2024-11-4'), pd.Timestamp('2024-11-18'), freq='D'))"
   ]
  },
  {
   "cell_type": "code",
   "execution_count": 111,
   "id": "f70e9b93-d58d-4803-a1e3-4af4dd9004ef",
   "metadata": {},
   "outputs": [
    {
     "name": "stderr",
     "output_type": "stream",
     "text": [
      "/var/folders/rm/zt5_90s5727289mv2gzbkw980000gn/T/ipykernel_30423/4201550703.py:1: FutureWarning: 'H' is deprecated and will be removed in a future version, please use 'h' instead.\n",
      "  df_day[['volume']].reset_index().groupby(pd.Grouper(key='time', freq='H')).volume.sum().plot.bar()\n"
     ]
    },
    {
     "data": {
      "text/plain": [
       "<Axes: xlabel='time'>"
      ]
     },
     "execution_count": 111,
     "metadata": {},
     "output_type": "execute_result"
    },
    {
     "data": {
      "image/png": "[encoded data removed]",
      "text/plain": [
       "<Figure size 640x480 with 1 Axes>"
      ]
     },
     "metadata": {},
     "output_type": "display_data"
    }
   ],
   "source": [
    "df_day[['volume']].reset_index().groupby(pd.Grouper(key='time', freq='H')).volume.sum().plot.bar()"
   ]
  },
  {
   "cell_type": "code",
   "execution_count": 115,
   "id": "76f9b30d-46de-4367-a164-905b3ce1cc27",
   "metadata": {},
   "outputs": [
    {
     "name": "stderr",
     "output_type": "stream",
     "text": [
      "/var/folders/rm/zt5_90s5727289mv2gzbkw980000gn/T/ipykernel_30423/2747695137.py:9: FutureWarning: 'H' is deprecated and will be removed in a future version, please use 'h' instead.\n",
      "  df_day[['volume']].reset_index().groupby(pd.Grouper(key='time', freq='H')).volume.sum().plot.bar()\n"
     ]
    },
    {
     "data": {
      "text/plain": [
       "<Axes: xlabel='time'>"
      ]
     },
     "execution_count": 115,
     "metadata": {},
     "output_type": "execute_result"
    },
    {
     "data": {
      "image/png": "[encoded data removed]",
      "text/plain": [
       "<Figure size 640x480 with 1 Axes>"
      ]
     },
     "metadata": {},
     "output_type": "display_data"
    }
   ],
   "source": [
    "start = pd.Timestamp('2024-06-14')\n",
    "end = pd.Timestamp('2024-06-15')\n",
    "\n",
    "mask = (start <= df['time']) & (df['time'] < end)\n",
    "\n",
    "df_day= df.loc[mask, :]\n",
    "df_day = df_day.set_index('time')\n",
    "\n",
    "df_day[['volume']].reset_index().groupby(pd.Grouper(key='time', freq='H')).volume.sum().plot.bar()"
   ]
  },
  {
   "cell_type": "code",
   "execution_count": null,
   "id": "61ec8925-081b-4649-8aa1-d6bd05288c20",
   "metadata": {},
   "outputs": [],
   "source": []
  },
  {
   "cell_type": "code",
   "execution_count": 116,
   "id": "d9fab68e-175d-4c1b-8efe-b05ba97aabe2",
   "metadata": {},
   "outputs": [],
   "source": [
    "#Вывод: обрезать справа не будем, объемы есть"
   ]
  },
  {
   "cell_type": "code",
   "execution_count": null,
   "id": "b140d4f0-4bc2-4bf4-8cbd-67e30da1a871",
   "metadata": {},
   "outputs": [],
   "source": []
  },
  {
   "cell_type": "markdown",
   "id": "cb980cf5-c7ea-4044-a3ff-a9ce29aac331",
   "metadata": {},
   "source": [
    "#### 3.1 По дням"
   ]
  },
  {
   "cell_type": "code",
   "execution_count": 117,
   "id": "d0dd463a-4a10-41f0-896e-f90253bd3524",
   "metadata": {},
   "outputs": [
    {
     "data": {
      "text/html": [
       "<div>\n",
       "<style scoped>\n",
       "    .dataframe tbody tr th:only-of-type {\n",
       "        vertical-align: middle;\n",
       "    }\n",
       "\n",
       "    .dataframe tbody tr th {\n",
       "        vertical-align: top;\n",
       "    }\n",
       "\n",
       "    .dataframe thead th {\n",
       "        text-align: right;\n",
       "    }\n",
       "</style>\n",
       "<table border=\"1\" class=\"dataframe\">\n",
       "  <thead>\n",
       "    <tr style=\"text-align: right;\">\n",
       "      <th></th>\n",
       "      <th>time</th>\n",
       "      <th>open</th>\n",
       "      <th>close</th>\n",
       "      <th>volume</th>\n",
       "      <th>low</th>\n",
       "      <th>high</th>\n",
       "      <th>ticker</th>\n",
       "    </tr>\n",
       "  </thead>\n",
       "  <tbody>\n",
       "    <tr>\n",
       "      <th>0</th>\n",
       "      <td>2022-09-30 03:00:00</td>\n",
       "      <td>111.00</td>\n",
       "      <td>110.21</td>\n",
       "      <td>13356904.0</td>\n",
       "      <td>103.40</td>\n",
       "      <td>113.40</td>\n",
       "      <td>SBER</td>\n",
       "    </tr>\n",
       "    <tr>\n",
       "      <th>1</th>\n",
       "      <td>2022-10-03 03:00:00</td>\n",
       "      <td>110.62</td>\n",
       "      <td>114.35</td>\n",
       "      <td>7396096.0</td>\n",
       "      <td>109.00</td>\n",
       "      <td>114.65</td>\n",
       "      <td>SBER</td>\n",
       "    </tr>\n",
       "    <tr>\n",
       "      <th>2</th>\n",
       "      <td>2022-10-04 03:00:00</td>\n",
       "      <td>115.60</td>\n",
       "      <td>110.55</td>\n",
       "      <td>8356468.0</td>\n",
       "      <td>110.30</td>\n",
       "      <td>115.50</td>\n",
       "      <td>SBER</td>\n",
       "    </tr>\n",
       "    <tr>\n",
       "      <th>3</th>\n",
       "      <td>2022-10-05 03:00:00</td>\n",
       "      <td>110.49</td>\n",
       "      <td>108.51</td>\n",
       "      <td>9041692.0</td>\n",
       "      <td>106.25</td>\n",
       "      <td>110.49</td>\n",
       "      <td>SBER</td>\n",
       "    </tr>\n",
       "    <tr>\n",
       "      <th>4</th>\n",
       "      <td>2022-10-06 03:00:00</td>\n",
       "      <td>108.65</td>\n",
       "      <td>108.24</td>\n",
       "      <td>5174148.0</td>\n",
       "      <td>107.57</td>\n",
       "      <td>110.38</td>\n",
       "      <td>SBER</td>\n",
       "    </tr>\n",
       "    <tr>\n",
       "      <th>...</th>\n",
       "      <td>...</td>\n",
       "      <td>...</td>\n",
       "      <td>...</td>\n",
       "      <td>...</td>\n",
       "      <td>...</td>\n",
       "      <td>...</td>\n",
       "      <td>...</td>\n",
       "    </tr>\n",
       "    <tr>\n",
       "      <th>540</th>\n",
       "      <td>2024-11-13 03:00:00</td>\n",
       "      <td>255.29</td>\n",
       "      <td>254.70</td>\n",
       "      <td>4454002.0</td>\n",
       "      <td>254.50</td>\n",
       "      <td>258.96</td>\n",
       "      <td>SBER</td>\n",
       "    </tr>\n",
       "    <tr>\n",
       "      <th>541</th>\n",
       "      <td>2024-11-14 03:00:00</td>\n",
       "      <td>254.26</td>\n",
       "      <td>249.52</td>\n",
       "      <td>4901175.0</td>\n",
       "      <td>248.60</td>\n",
       "      <td>255.92</td>\n",
       "      <td>SBER</td>\n",
       "    </tr>\n",
       "    <tr>\n",
       "      <th>542</th>\n",
       "      <td>2024-11-15 03:00:00</td>\n",
       "      <td>249.31</td>\n",
       "      <td>253.43</td>\n",
       "      <td>4420170.0</td>\n",
       "      <td>248.50</td>\n",
       "      <td>254.43</td>\n",
       "      <td>SBER</td>\n",
       "    </tr>\n",
       "    <tr>\n",
       "      <th>543</th>\n",
       "      <td>2024-11-18 03:00:00</td>\n",
       "      <td>249.00</td>\n",
       "      <td>248.72</td>\n",
       "      <td>5155991.0</td>\n",
       "      <td>247.30</td>\n",
       "      <td>251.94</td>\n",
       "      <td>SBER</td>\n",
       "    </tr>\n",
       "    <tr>\n",
       "      <th>544</th>\n",
       "      <td>2024-11-19 03:00:00</td>\n",
       "      <td>249.30</td>\n",
       "      <td>240.59</td>\n",
       "      <td>7547468.0</td>\n",
       "      <td>239.62</td>\n",
       "      <td>249.83</td>\n",
       "      <td>SBER</td>\n",
       "    </tr>\n",
       "  </tbody>\n",
       "</table>\n",
       "<p>545 rows × 7 columns</p>\n",
       "</div>"
      ],
      "text/plain": [
       "                   time    open   close      volume     low    high ticker\n",
       "0   2022-09-30 03:00:00  111.00  110.21  13356904.0  103.40  113.40   SBER\n",
       "1   2022-10-03 03:00:00  110.62  114.35   7396096.0  109.00  114.65   SBER\n",
       "2   2022-10-04 03:00:00  115.60  110.55   8356468.0  110.30  115.50   SBER\n",
       "3   2022-10-05 03:00:00  110.49  108.51   9041692.0  106.25  110.49   SBER\n",
       "4   2022-10-06 03:00:00  108.65  108.24   5174148.0  107.57  110.38   SBER\n",
       "..                  ...     ...     ...         ...     ...     ...    ...\n",
       "540 2024-11-13 03:00:00  255.29  254.70   4454002.0  254.50  258.96   SBER\n",
       "541 2024-11-14 03:00:00  254.26  249.52   4901175.0  248.60  255.92   SBER\n",
       "542 2024-11-15 03:00:00  249.31  253.43   4420170.0  248.50  254.43   SBER\n",
       "543 2024-11-18 03:00:00  249.00  248.72   5155991.0  247.30  251.94   SBER\n",
       "544 2024-11-19 03:00:00  249.30  240.59   7547468.0  239.62  249.83   SBER\n",
       "\n",
       "[545 rows x 7 columns]"
      ]
     },
     "execution_count": 117,
     "metadata": {},
     "output_type": "execute_result"
    }
   ],
   "source": [
    "path = './data/raw/1day/SBER.pkl'\n",
    "df = load_pkl(path)\n",
    "df['time'] = df['time'].apply(lambda x: x.tz_convert(None))\n",
    "\n",
    "df"
   ]
  },
  {
   "cell_type": "code",
   "execution_count": 118,
   "id": "d9996147-92a8-4784-8332-59d5538c1103",
   "metadata": {},
   "outputs": [
    {
     "data": {
      "text/plain": [
       "22"
      ]
     },
     "execution_count": 118,
     "metadata": {},
     "output_type": "execute_result"
    }
   ],
   "source": [
    "start = pd.Timestamp('2024-10-1')\n",
    "end = pd.Timestamp('2024-10-31')\n",
    "\n",
    "mask = (start <= df['time']) & (df['time'] < end)\n",
    "mask.sum()"
   ]
  },
  {
   "cell_type": "code",
   "execution_count": 119,
   "id": "553f12d8-629f-4b0f-9110-c7c03aeddb47",
   "metadata": {},
   "outputs": [
    {
     "data": {
      "text/html": [
       "<div>\n",
       "<style scoped>\n",
       "    .dataframe tbody tr th:only-of-type {\n",
       "        vertical-align: middle;\n",
       "    }\n",
       "\n",
       "    .dataframe tbody tr th {\n",
       "        vertical-align: top;\n",
       "    }\n",
       "\n",
       "    .dataframe thead th {\n",
       "        text-align: right;\n",
       "    }\n",
       "</style>\n",
       "<table border=\"1\" class=\"dataframe\">\n",
       "  <thead>\n",
       "    <tr style=\"text-align: right;\">\n",
       "      <th></th>\n",
       "      <th>open</th>\n",
       "      <th>close</th>\n",
       "      <th>volume</th>\n",
       "      <th>low</th>\n",
       "      <th>high</th>\n",
       "      <th>ticker</th>\n",
       "    </tr>\n",
       "    <tr>\n",
       "      <th>time</th>\n",
       "      <th></th>\n",
       "      <th></th>\n",
       "      <th></th>\n",
       "      <th></th>\n",
       "      <th></th>\n",
       "      <th></th>\n",
       "    </tr>\n",
       "  </thead>\n",
       "  <tbody>\n",
       "    <tr>\n",
       "      <th>2024-10-01 03:00:00</th>\n",
       "      <td>267.60</td>\n",
       "      <td>266.29</td>\n",
       "      <td>5212580.0</td>\n",
       "      <td>264.00</td>\n",
       "      <td>268.68</td>\n",
       "      <td>SBER</td>\n",
       "    </tr>\n",
       "    <tr>\n",
       "      <th>2024-10-02 03:00:00</th>\n",
       "      <td>266.10</td>\n",
       "      <td>259.31</td>\n",
       "      <td>4651920.0</td>\n",
       "      <td>258.52</td>\n",
       "      <td>268.00</td>\n",
       "      <td>SBER</td>\n",
       "    </tr>\n",
       "    <tr>\n",
       "      <th>2024-10-03 03:00:00</th>\n",
       "      <td>259.31</td>\n",
       "      <td>264.25</td>\n",
       "      <td>5653456.0</td>\n",
       "      <td>257.20</td>\n",
       "      <td>264.49</td>\n",
       "      <td>SBER</td>\n",
       "    </tr>\n",
       "    <tr>\n",
       "      <th>2024-10-04 03:00:00</th>\n",
       "      <td>264.96</td>\n",
       "      <td>264.90</td>\n",
       "      <td>2599229.0</td>\n",
       "      <td>262.11</td>\n",
       "      <td>265.44</td>\n",
       "      <td>SBER</td>\n",
       "    </tr>\n",
       "    <tr>\n",
       "      <th>2024-10-07 03:00:00</th>\n",
       "      <td>264.25</td>\n",
       "      <td>263.39</td>\n",
       "      <td>2894060.0</td>\n",
       "      <td>261.37</td>\n",
       "      <td>267.00</td>\n",
       "      <td>SBER</td>\n",
       "    </tr>\n",
       "    <tr>\n",
       "      <th>2024-10-08 03:00:00</th>\n",
       "      <td>263.00</td>\n",
       "      <td>262.40</td>\n",
       "      <td>1616378.0</td>\n",
       "      <td>261.89</td>\n",
       "      <td>263.80</td>\n",
       "      <td>SBER</td>\n",
       "    </tr>\n",
       "    <tr>\n",
       "      <th>2024-10-09 03:00:00</th>\n",
       "      <td>262.42</td>\n",
       "      <td>260.86</td>\n",
       "      <td>2502135.0</td>\n",
       "      <td>259.59</td>\n",
       "      <td>263.80</td>\n",
       "      <td>SBER</td>\n",
       "    </tr>\n",
       "    <tr>\n",
       "      <th>2024-10-10 03:00:00</th>\n",
       "      <td>260.88</td>\n",
       "      <td>259.98</td>\n",
       "      <td>1767723.0</td>\n",
       "      <td>258.91</td>\n",
       "      <td>261.64</td>\n",
       "      <td>SBER</td>\n",
       "    </tr>\n",
       "    <tr>\n",
       "      <th>2024-10-11 03:00:00</th>\n",
       "      <td>259.80</td>\n",
       "      <td>256.94</td>\n",
       "      <td>2484858.0</td>\n",
       "      <td>256.80</td>\n",
       "      <td>260.70</td>\n",
       "      <td>SBER</td>\n",
       "    </tr>\n",
       "    <tr>\n",
       "      <th>2024-10-14 03:00:00</th>\n",
       "      <td>256.15</td>\n",
       "      <td>261.28</td>\n",
       "      <td>6420568.0</td>\n",
       "      <td>254.10</td>\n",
       "      <td>263.91</td>\n",
       "      <td>SBER</td>\n",
       "    </tr>\n",
       "    <tr>\n",
       "      <th>2024-10-15 03:00:00</th>\n",
       "      <td>260.94</td>\n",
       "      <td>262.30</td>\n",
       "      <td>2624737.0</td>\n",
       "      <td>259.84</td>\n",
       "      <td>263.70</td>\n",
       "      <td>SBER</td>\n",
       "    </tr>\n",
       "    <tr>\n",
       "      <th>2024-10-16 03:00:00</th>\n",
       "      <td>262.50</td>\n",
       "      <td>259.50</td>\n",
       "      <td>4020626.0</td>\n",
       "      <td>258.45</td>\n",
       "      <td>264.72</td>\n",
       "      <td>SBER</td>\n",
       "    </tr>\n",
       "    <tr>\n",
       "      <th>2024-10-17 03:00:00</th>\n",
       "      <td>259.50</td>\n",
       "      <td>256.57</td>\n",
       "      <td>2465879.0</td>\n",
       "      <td>256.30</td>\n",
       "      <td>260.45</td>\n",
       "      <td>SBER</td>\n",
       "    </tr>\n",
       "    <tr>\n",
       "      <th>2024-10-18 03:00:00</th>\n",
       "      <td>256.21</td>\n",
       "      <td>257.19</td>\n",
       "      <td>3002025.0</td>\n",
       "      <td>254.41</td>\n",
       "      <td>258.90</td>\n",
       "      <td>SBER</td>\n",
       "    </tr>\n",
       "    <tr>\n",
       "      <th>2024-10-21 03:00:00</th>\n",
       "      <td>257.30</td>\n",
       "      <td>258.21</td>\n",
       "      <td>2147168.0</td>\n",
       "      <td>256.78</td>\n",
       "      <td>259.85</td>\n",
       "      <td>SBER</td>\n",
       "    </tr>\n",
       "    <tr>\n",
       "      <th>2024-10-22 03:00:00</th>\n",
       "      <td>258.10</td>\n",
       "      <td>255.42</td>\n",
       "      <td>1706468.0</td>\n",
       "      <td>255.25</td>\n",
       "      <td>258.80</td>\n",
       "      <td>SBER</td>\n",
       "    </tr>\n",
       "    <tr>\n",
       "      <th>2024-10-23 03:00:00</th>\n",
       "      <td>255.10</td>\n",
       "      <td>252.10</td>\n",
       "      <td>3042095.0</td>\n",
       "      <td>251.34</td>\n",
       "      <td>255.90</td>\n",
       "      <td>SBER</td>\n",
       "    </tr>\n",
       "    <tr>\n",
       "      <th>2024-10-24 03:00:00</th>\n",
       "      <td>252.10</td>\n",
       "      <td>252.64</td>\n",
       "      <td>2876437.0</td>\n",
       "      <td>250.25</td>\n",
       "      <td>254.27</td>\n",
       "      <td>SBER</td>\n",
       "    </tr>\n",
       "    <tr>\n",
       "      <th>2024-10-25 03:00:00</th>\n",
       "      <td>252.72</td>\n",
       "      <td>246.35</td>\n",
       "      <td>8058793.0</td>\n",
       "      <td>245.70</td>\n",
       "      <td>255.35</td>\n",
       "      <td>SBER</td>\n",
       "    </tr>\n",
       "    <tr>\n",
       "      <th>2024-10-28 03:00:00</th>\n",
       "      <td>245.20</td>\n",
       "      <td>242.56</td>\n",
       "      <td>7194099.0</td>\n",
       "      <td>241.61</td>\n",
       "      <td>249.00</td>\n",
       "      <td>SBER</td>\n",
       "    </tr>\n",
       "    <tr>\n",
       "      <th>2024-10-29 03:00:00</th>\n",
       "      <td>243.20</td>\n",
       "      <td>242.66</td>\n",
       "      <td>4713458.0</td>\n",
       "      <td>239.88</td>\n",
       "      <td>244.60</td>\n",
       "      <td>SBER</td>\n",
       "    </tr>\n",
       "    <tr>\n",
       "      <th>2024-10-30 03:00:00</th>\n",
       "      <td>242.70</td>\n",
       "      <td>241.45</td>\n",
       "      <td>3982684.0</td>\n",
       "      <td>241.11</td>\n",
       "      <td>246.22</td>\n",
       "      <td>SBER</td>\n",
       "    </tr>\n",
       "  </tbody>\n",
       "</table>\n",
       "</div>"
      ],
      "text/plain": [
       "                       open   close     volume     low    high ticker\n",
       "time                                                                 \n",
       "2024-10-01 03:00:00  267.60  266.29  5212580.0  264.00  268.68   SBER\n",
       "2024-10-02 03:00:00  266.10  259.31  4651920.0  258.52  268.00   SBER\n",
       "2024-10-03 03:00:00  259.31  264.25  5653456.0  257.20  264.49   SBER\n",
       "2024-10-04 03:00:00  264.96  264.90  2599229.0  262.11  265.44   SBER\n",
       "2024-10-07 03:00:00  264.25  263.39  2894060.0  261.37  267.00   SBER\n",
       "2024-10-08 03:00:00  263.00  262.40  1616378.0  261.89  263.80   SBER\n",
       "2024-10-09 03:00:00  262.42  260.86  2502135.0  259.59  263.80   SBER\n",
       "2024-10-10 03:00:00  260.88  259.98  1767723.0  258.91  261.64   SBER\n",
       "2024-10-11 03:00:00  259.80  256.94  2484858.0  256.80  260.70   SBER\n",
       "2024-10-14 03:00:00  256.15  261.28  6420568.0  254.10  263.91   SBER\n",
       "2024-10-15 03:00:00  260.94  262.30  2624737.0  259.84  263.70   SBER\n",
       "2024-10-16 03:00:00  262.50  259.50  4020626.0  258.45  264.72   SBER\n",
       "2024-10-17 03:00:00  259.50  256.57  2465879.0  256.30  260.45   SBER\n",
       "2024-10-18 03:00:00  256.21  257.19  3002025.0  254.41  258.90   SBER\n",
       "2024-10-21 03:00:00  257.30  258.21  2147168.0  256.78  259.85   SBER\n",
       "2024-10-22 03:00:00  258.10  255.42  1706468.0  255.25  258.80   SBER\n",
       "2024-10-23 03:00:00  255.10  252.10  3042095.0  251.34  255.90   SBER\n",
       "2024-10-24 03:00:00  252.10  252.64  2876437.0  250.25  254.27   SBER\n",
       "2024-10-25 03:00:00  252.72  246.35  8058793.0  245.70  255.35   SBER\n",
       "2024-10-28 03:00:00  245.20  242.56  7194099.0  241.61  249.00   SBER\n",
       "2024-10-29 03:00:00  243.20  242.66  4713458.0  239.88  244.60   SBER\n",
       "2024-10-30 03:00:00  242.70  241.45  3982684.0  241.11  246.22   SBER"
      ]
     },
     "execution_count": 119,
     "metadata": {},
     "output_type": "execute_result"
    }
   ],
   "source": [
    "df_month= df.loc[mask, :]\n",
    "df_month = df_month.set_index('time')\n",
    "df_month"
   ]
  },
  {
   "cell_type": "code",
   "execution_count": 121,
   "id": "03823435-e215-4f9f-9b53-a49985fb4c20",
   "metadata": {},
   "outputs": [
    {
     "data": {
      "text/plain": [
       "<Axes: xlabel='time'>"
      ]
     },
     "execution_count": 121,
     "metadata": {},
     "output_type": "execute_result"
    },
    {
     "data": {
      "image/png": "[encoded data removed]",
      "text/plain": [
       "<Figure size 640x480 with 1 Axes>"
      ]
     },
     "metadata": {},
     "output_type": "display_data"
    }
   ],
   "source": [
    "import matplotlib.pyplot as plt\n",
    "\n",
    "#df_day['close'].plot()\n",
    "df_month['volume'].plot.bar()\n",
    "#plt.xticks(pd.date_range(start, end, freq='D'))"
   ]
  },
  {
   "cell_type": "code",
   "execution_count": null,
   "id": "2d4125a4-998b-4bdc-8569-654837471f2c",
   "metadata": {
    "scrolled": true
   },
   "outputs": [],
   "source": [
    "#Выходных нет, это хорошо, так как они внутри тинька идут, а не на биржи"
   ]
  },
  {
   "cell_type": "code",
   "execution_count": null,
   "id": "4bcf2eea-d1da-4224-9111-45b39c073056",
   "metadata": {},
   "outputs": [],
   "source": []
  },
  {
   "cell_type": "code",
   "execution_count": null,
   "id": "759b3f75-f986-474e-8a34-0a20727d71fa",
   "metadata": {},
   "outputs": [],
   "source": []
  },
  {
   "cell_type": "markdown",
   "id": "41949483-f919-4cd6-a9ea-d703fa3ee44d",
   "metadata": {},
   "source": [
    "### 4. Preproc data"
   ]
  },
  {
   "cell_type": "markdown",
   "id": "a07c6b27-42cd-4570-afd5-b92180688fbe",
   "metadata": {},
   "source": [
    "* Оставляем только будни\n",
    "* И часы основных торгов - 10:00–23, но на вечерних торгх тоже есть объемы, было бы глупо их не учитывать, поэтому 10:00–24:00"
   ]
  },
  {
   "cell_type": "code",
   "execution_count": null,
   "id": "2527b591-93e0-484c-aed8-35393f2a6f4c",
   "metadata": {},
   "outputs": [],
   "source": []
  },
  {
   "cell_type": "code",
   "execution_count": null,
   "id": "e6dd22ff-7156-4b89-abbf-5e9bd8d9ffd7",
   "metadata": {},
   "outputs": [],
   "source": []
  },
  {
   "cell_type": "code",
   "execution_count": 122,
   "id": "91880252-0c0f-449d-bac8-66e1a35e7c1e",
   "metadata": {},
   "outputs": [
    {
     "name": "stdout",
     "output_type": "stream",
     "text": [
      "mkdir: data/preproc: File exists\n"
     ]
    }
   ],
   "source": [
    "!mkdir data/preproc"
   ]
  },
  {
   "cell_type": "code",
   "execution_count": 123,
   "id": "7e442369-23ed-4537-815d-c2020fba93b0",
   "metadata": {},
   "outputs": [
    {
     "name": "stdout",
     "output_type": "stream",
     "text": [
      "mkdir: data/preproc/1min: File exists\n"
     ]
    }
   ],
   "source": [
    "!mkdir data/preproc/1min"
   ]
  },
  {
   "cell_type": "code",
   "execution_count": 124,
   "id": "0a6cbd27-0214-4181-9ca7-2ba852a70143",
   "metadata": {},
   "outputs": [],
   "source": [
    "!mkdir data/preproc/5min"
   ]
  },
  {
   "cell_type": "code",
   "execution_count": 125,
   "id": "eaa5d006-74e6-4395-bea3-5715dc33454e",
   "metadata": {},
   "outputs": [],
   "source": [
    "!mkdir data/preproc/1hour"
   ]
  },
  {
   "cell_type": "code",
   "execution_count": 126,
   "id": "3e12cfec-8141-4844-b971-1969645294a9",
   "metadata": {},
   "outputs": [],
   "source": [
    "!mkdir data/preproc/1day"
   ]
  },
  {
   "cell_type": "code",
   "execution_count": null,
   "id": "27745b35-567b-40ac-bc19-492e8a1426a6",
   "metadata": {},
   "outputs": [],
   "source": []
  },
  {
   "cell_type": "code",
   "execution_count": 127,
   "id": "be9ded74-50e4-4f9b-9626-0c6a15ab009c",
   "metadata": {},
   "outputs": [],
   "source": [
    "def is_business_day(date):\n",
    "    return bool(len(pd.bdate_range(date, date)))\n",
    "\n",
    "def preproc(data):\n",
    "    data['time'] = data['time'].apply(lambda x: x.tz_convert(None))\n",
    "    \n",
    "    mask_bd = np.array(data['time'].apply(lambda x: is_business_day(x)))\n",
    "    data = data.loc[mask_bd, :]\n",
    "\n",
    "    mask_volume = np.array(datetime.time(10, 0) <= pd.to_datetime(data['time'], format='%H:%M').dt.time)\n",
    "    data = data.loc[mask_volume, :]\n",
    "\n",
    "    data.reset_index(drop=True, inplace=True)\n",
    "\n",
    "    return data\n",
    "                                         \n",
    "\n",
    "    "
   ]
  },
  {
   "cell_type": "code",
   "execution_count": null,
   "id": "ab5cc00d-b665-4ee2-a8f2-aa6409f80eec",
   "metadata": {},
   "outputs": [],
   "source": []
  },
  {
   "cell_type": "code",
   "execution_count": null,
   "id": "d9cc8541-7377-4a39-9d96-6635511549cf",
   "metadata": {},
   "outputs": [],
   "source": []
  },
  {
   "cell_type": "code",
   "execution_count": null,
   "id": "ff6bb3e6-0a0a-48a5-9428-0d35a682b908",
   "metadata": {},
   "outputs": [],
   "source": []
  },
  {
   "cell_type": "code",
   "execution_count": null,
   "id": "7309deba-3396-4940-858e-fc26f610223a",
   "metadata": {},
   "outputs": [],
   "source": []
  },
  {
   "cell_type": "code",
   "execution_count": 128,
   "id": "604c429d-5227-4ed0-881b-410d3ef5d8bc",
   "metadata": {},
   "outputs": [
    {
     "name": "stderr",
     "output_type": "stream",
     "text": [
      "100%|███████████████████████████████████████████| 18/18 [01:56<00:00,  6.47s/it]\n"
     ]
    }
   ],
   "source": [
    "stocks = [\n",
    "          'GAZP',\n",
    "          'SBER',\n",
    "          'LKOH',\n",
    "          'MGNT',\n",
    "          'NVTK',\n",
    "          'SNGS',\n",
    "          'GMKN',\n",
    "          'ROSN',\n",
    "          'NLMK',\n",
    "          'TATN',\n",
    "          'MTSS',\n",
    "          'ALRS',  \n",
    "          'YDEX',\n",
    "          'CHMF',\n",
    "          \n",
    "          'MAGN',\n",
    "          'TCSG',\n",
    "          'OZON',\n",
    "          'RUAL'  \n",
    "         ]\n",
    "\n",
    "for stock in tqdm(stocks):\n",
    "    data = load_pkl(f\"./data/raw/1min/{stock}.pkl\")\n",
    "\n",
    "    data = preproc(data)\n",
    "    \n",
    "    dump_pkl(data, f\"./data/preproc/1min/{stock}.pkl\")"
   ]
  },
  {
   "cell_type": "code",
   "execution_count": null,
   "id": "3e29ba74-be2a-4d66-892d-e93ac8add36e",
   "metadata": {},
   "outputs": [],
   "source": []
  },
  {
   "cell_type": "code",
   "execution_count": 130,
   "id": "2a4f2fca-6acd-48e8-87f1-a8eeaba4aa8e",
   "metadata": {},
   "outputs": [
    {
     "name": "stderr",
     "output_type": "stream",
     "text": [
      "100%|███████████████████████████████████████████| 18/18 [00:26<00:00,  1.47s/it]\n"
     ]
    }
   ],
   "source": [
    "#5min\n",
    "for stock in tqdm(stocks):\n",
    "    data = load_pkl(f\"./data/raw/5min/{stock}.pkl\")\n",
    "\n",
    "    data = preproc(data)\n",
    "    \n",
    "    dump_pkl(data, f\"./data/preproc/5min/{stock}.pkl\")"
   ]
  },
  {
   "cell_type": "code",
   "execution_count": null,
   "id": "d6ac7517-b603-4d90-b6d9-7ccd86af2bd7",
   "metadata": {},
   "outputs": [],
   "source": []
  },
  {
   "cell_type": "code",
   "execution_count": 131,
   "id": "74877a2d-95e7-4f4b-862b-80fc3790fa84",
   "metadata": {},
   "outputs": [
    {
     "name": "stderr",
     "output_type": "stream",
     "text": [
      "100%|███████████████████████████████████████████| 18/18 [00:02<00:00,  6.56it/s]\n"
     ]
    }
   ],
   "source": [
    "#1hour\n",
    "for stock in tqdm(stocks):\n",
    "    data = load_pkl(f\"./data/raw/1hour/{stock}.pkl\")\n",
    "\n",
    "    data = preproc(data)\n",
    "    \n",
    "    dump_pkl(data, f\"./data/preproc/1hour/{stock}.pkl\")"
   ]
  },
  {
   "cell_type": "code",
   "execution_count": null,
   "id": "6c12e571-f2b0-46db-a653-f1105de6e405",
   "metadata": {},
   "outputs": [],
   "source": []
  },
  {
   "cell_type": "code",
   "execution_count": 207,
   "id": "92a8d013-fcf7-4efa-b856-26ae010a92e5",
   "metadata": {},
   "outputs": [
    {
     "name": "stderr",
     "output_type": "stream",
     "text": [
      "100%|██████████████████████████████████████████| 18/18 [00:00<00:00, 124.72it/s]\n"
     ]
    }
   ],
   "source": [
    "def preproc_day_data(data):\n",
    "    data['time'] = data['time'].apply(lambda x: x.tz_convert(None))\n",
    "    \n",
    "    mask_bd = np.array(data['time'].apply(lambda x: is_business_day(x)))\n",
    "    data = data.loc[mask_bd, :]\n",
    "\n",
    "    #mask_volume = np.array(datetime.time(10, 0) <= pd.to_datetime(data['time'], format='%H:%M').dt.time)\n",
    "    #data = data.loc[mask_volume, :]\n",
    "\n",
    "    data.reset_index(drop=True, inplace=True)\n",
    "\n",
    "    return data\n",
    "\n",
    "\n",
    "#1day\n",
    "for stock in tqdm(stocks):\n",
    "    data = load_pkl(f\"./data/raw/1day/{stock}.pkl\")\n",
    "\n",
    "    data = preproc_day_data(data)\n",
    "    \n",
    "    dump_pkl(data, f\"./data/preproc/1day/{stock}.pkl\")"
   ]
  },
  {
   "cell_type": "code",
   "execution_count": null,
   "id": "3bc3fea9-3b80-4204-8846-ff7b96f6941e",
   "metadata": {},
   "outputs": [],
   "source": []
  },
  {
   "cell_type": "code",
   "execution_count": null,
   "id": "e6448d16-400c-4106-8f7c-5117f427733d",
   "metadata": {},
   "outputs": [],
   "source": []
  },
  {
   "cell_type": "code",
   "execution_count": null,
   "id": "3097cc8c-de4e-4e39-8fff-6ef7f82d3732",
   "metadata": {},
   "outputs": [],
   "source": []
  },
  {
   "cell_type": "markdown",
   "id": "230e200a-20b1-495c-99cd-259b614673f4",
   "metadata": {},
   "source": [
    "### 5. Анализ на целостность данных"
   ]
  },
  {
   "cell_type": "code",
   "execution_count": 133,
   "id": "7c5517af-2785-4946-8b5c-152c8caaa4bc",
   "metadata": {},
   "outputs": [],
   "source": [
    "#проверить на заполняемость"
   ]
  },
  {
   "cell_type": "markdown",
   "id": "5a697c12-2f5a-4460-81e9-1bd512462a85",
   "metadata": {},
   "source": [
    "#### 5.1 1min"
   ]
  },
  {
   "cell_type": "code",
   "execution_count": 135,
   "id": "5c57601b-f65a-434a-9e16-489e9cf363d4",
   "metadata": {},
   "outputs": [
    {
     "name": "stderr",
     "output_type": "stream",
     "text": [
      " 50%|██████████████████████                      | 9/18 [00:00<00:00, 42.82it/s]"
     ]
    },
    {
     "name": "stdout",
     "output_type": "stream",
     "text": [
      "GAZP\n",
      "SBER\n",
      "LKOH\n",
      "MGNT\n",
      "NVTK\n",
      "SNGS\n",
      "GMKN\n",
      "ROSN\n",
      "NLMK\n"
     ]
    },
    {
     "name": "stderr",
     "output_type": "stream",
     "text": [
      "100%|███████████████████████████████████████████| 18/18 [00:00<00:00, 45.94it/s]"
     ]
    },
    {
     "name": "stdout",
     "output_type": "stream",
     "text": [
      "TATN\n",
      "MTSS\n",
      "ALRS\n",
      "YDEX\n",
      "CHMF\n",
      "MAGN\n",
      "TCSG\n",
      "OZON\n",
      "RUAL\n"
     ]
    },
    {
     "name": "stderr",
     "output_type": "stream",
     "text": [
      "\n"
     ]
    }
   ],
   "source": [
    "stocks = [\n",
    "          'GAZP',\n",
    "          'SBER',\n",
    "          'LKOH',\n",
    "          'MGNT',\n",
    "          'NVTK',\n",
    "          'SNGS',\n",
    "          'GMKN',\n",
    "          'ROSN',\n",
    "          'NLMK',\n",
    "          'TATN',\n",
    "          'MTSS',\n",
    "          'ALRS',  \n",
    "          'YDEX',\n",
    "          'CHMF',\n",
    "          \n",
    "          'MAGN',\n",
    "          'TCSG',\n",
    "          'OZON',\n",
    "          'RUAL'  \n",
    "         ]\n",
    "\n",
    "for stock in tqdm(stocks):\n",
    "    df = load_pkl(f\"./data/preproc/1min/{stock}.pkl\")\n",
    "\n",
    "    print(stock)\n",
    "    assert (df['time'].sort_values()  == df['time']).all(), f'{stock} not sorted: {(df['time'].sort_values()  != df['time']).sum()}'\n",
    "    assert not df['time'].duplicated().any(), f'{stock} duplicated: {df['time'].duplicated().sum()}'\n",
    "    "
   ]
  },
  {
   "cell_type": "code",
   "execution_count": 136,
   "id": "80396e2b-bd8f-408e-bb9d-8545eca3cf35",
   "metadata": {},
   "outputs": [],
   "source": [
    "#Нет дублей и данные отсортированы"
   ]
  },
  {
   "cell_type": "code",
   "execution_count": null,
   "id": "33b107f7-9ff9-4bd5-b3ab-225f7c10f393",
   "metadata": {},
   "outputs": [],
   "source": []
  },
  {
   "cell_type": "code",
   "execution_count": null,
   "id": "b8f49acd-3fc2-420f-aff4-93c5fa25fb40",
   "metadata": {},
   "outputs": [],
   "source": [
    "#Заполняеимость"
   ]
  },
  {
   "cell_type": "code",
   "execution_count": 177,
   "id": "35b5f49b-49f4-4cee-8c63-768ef524155f",
   "metadata": {},
   "outputs": [
    {
     "name": "stderr",
     "output_type": "stream",
     "text": [
      "100%|███████████████████████████████████████████| 18/18 [00:00<00:00, 44.88it/s]\n"
     ]
    },
    {
     "data": {
      "text/plain": [
       "(7847346, 8)"
      ]
     },
     "execution_count": 177,
     "metadata": {},
     "output_type": "execute_result"
    }
   ],
   "source": [
    "stocks = [\n",
    "          'GAZP',\n",
    "          'SBER',\n",
    "          'LKOH',\n",
    "          'MGNT',\n",
    "          'NVTK',\n",
    "          'SNGS',\n",
    "          'GMKN',\n",
    "          'ROSN',\n",
    "          'NLMK',\n",
    "          'TATN',\n",
    "          'MTSS',\n",
    "          'ALRS',  \n",
    "          'YDEX',\n",
    "          'CHMF',\n",
    "          \n",
    "          'MAGN',\n",
    "          'TCSG',\n",
    "          'OZON',\n",
    "          'RUAL'  \n",
    "         ]\n",
    "\n",
    "\n",
    "dfs = []\n",
    "for stock in tqdm(stocks):\n",
    "    df = load_pkl(f\"./data/preproc/1min/{stock}.pkl\")\n",
    "    \n",
    "    df['diff'] = df['time'].diff() // pd.Timedelta('1 min')\n",
    "    dfs += [df.copy()]\n",
    "df = pd.concat(dfs)\n",
    "df.shape"
   ]
  },
  {
   "cell_type": "code",
   "execution_count": 186,
   "id": "908b0289-f834-4125-97e3-a1aa09fc5440",
   "metadata": {},
   "outputs": [
    {
     "data": {
      "text/plain": [
       "diff\n",
       "1.0       7702865\n",
       "2.0         91869\n",
       "3.0         15336\n",
       "6.0         10439\n",
       "15.0         7893\n",
       "611.0        7621\n",
       "4.0          4317\n",
       "3491.0       1873\n",
       "5.0          1641\n",
       "16.0         1271\n",
       "7.0           396\n",
       "17.0          373\n",
       "8.0           229\n",
       "9.0           153\n",
       "18.0          139\n",
       "19.0          101\n",
       "10.0           93\n",
       "612.0          88\n",
       "901.0          65\n",
       "11.0           62\n",
       "Name: count, dtype: int64"
      ]
     },
     "execution_count": 186,
     "metadata": {},
     "output_type": "execute_result"
    }
   ],
   "source": [
    "df['diff'].value_counts().sort_values(ascending=False).iloc[:20]"
   ]
  },
  {
   "cell_type": "code",
   "execution_count": 190,
   "id": "e8979063-d90e-4194-916c-8ca545a6b792",
   "metadata": {},
   "outputs": [
    {
     "data": {
      "text/plain": [
       "<Axes: xlabel='diff'>"
      ]
     },
     "execution_count": 190,
     "metadata": {},
     "output_type": "execute_result"
    },
    {
     "data": {
      "image/png": "[encoded data removed]",
      "text/plain": [
       "<Figure size 640x480 with 1 Axes>"
      ]
     },
     "metadata": {},
     "output_type": "display_data"
    }
   ],
   "source": [
    "df['diff'].value_counts(normalize=True).sort_index().plot.bar()"
   ]
  },
  {
   "cell_type": "code",
   "execution_count": 161,
   "id": "c9e63a55-a642-483d-9ca8-a44bda8068f7",
   "metadata": {},
   "outputs": [
    {
     "data": {
      "text/plain": [
       "(0.9815885523589759, 0.9932955676989392, 0.9974721389881369)"
      ]
     },
     "execution_count": 161,
     "metadata": {},
     "output_type": "execute_result"
    }
   ],
   "source": [
    "threshold = 2\n",
    "(df['diff'] < 2).mean(), (df['diff'] < 3).mean(), (df['diff'] < 15).mean()"
   ]
  },
  {
   "cell_type": "code",
   "execution_count": 162,
   "id": "2c3929b8-dcb4-4379-b242-be7513aa66cb",
   "metadata": {},
   "outputs": [],
   "source": [
    "#Отличные результаты (тут еще смена дня не учтена и выходные)"
   ]
  },
  {
   "cell_type": "code",
   "execution_count": null,
   "id": "6d46fc5b-1ba0-4d97-b164-82064ab37ca8",
   "metadata": {},
   "outputs": [],
   "source": []
  },
  {
   "cell_type": "markdown",
   "id": "692264d9-db97-4d20-84f2-170136da1561",
   "metadata": {},
   "source": [
    "#### 5.2 5min"
   ]
  },
  {
   "cell_type": "code",
   "execution_count": 191,
   "id": "706ae0dc-d116-4f3a-86ed-2a1a30e1f11d",
   "metadata": {},
   "outputs": [
    {
     "name": "stderr",
     "output_type": "stream",
     "text": [
      "100%|██████████████████████████████████████████| 18/18 [00:00<00:00, 168.65it/s]"
     ]
    },
    {
     "name": "stdout",
     "output_type": "stream",
     "text": [
      "GAZP\n",
      "SBER\n",
      "LKOH\n",
      "MGNT\n",
      "NVTK\n",
      "SNGS\n",
      "GMKN\n",
      "ROSN\n",
      "NLMK\n",
      "TATN\n",
      "MTSS\n",
      "ALRS\n",
      "YDEX\n",
      "CHMF\n",
      "MAGN\n",
      "TCSG\n",
      "OZON\n",
      "RUAL\n"
     ]
    },
    {
     "name": "stderr",
     "output_type": "stream",
     "text": [
      "\n"
     ]
    }
   ],
   "source": [
    "for stock in tqdm(stocks):\n",
    "    df = load_pkl(f\"./data/preproc/5min/{stock}.pkl\")\n",
    "\n",
    "    print(stock)\n",
    "    assert (df['time'].sort_values()  == df['time']).all(), f'{stock} not sorted: {(df['time'].sort_values()  != df['time']).sum()}'\n",
    "    assert not df['time'].duplicated().any(), f'{stock} duplicated: {df['time'].duplicated().sum()}'\n",
    "    "
   ]
  },
  {
   "cell_type": "code",
   "execution_count": 192,
   "id": "a50b1618-f33e-4498-a176-33aeecf40b45",
   "metadata": {},
   "outputs": [],
   "source": [
    "#Нет дублей и данные отсортированы"
   ]
  },
  {
   "cell_type": "code",
   "execution_count": null,
   "id": "999191b8-1f05-4fac-ae31-9727020a1aa8",
   "metadata": {},
   "outputs": [],
   "source": []
  },
  {
   "cell_type": "code",
   "execution_count": 193,
   "id": "3fa97f2b-9786-4c0c-a9d0-bb58c760c3db",
   "metadata": {},
   "outputs": [],
   "source": [
    "#Заполняемость"
   ]
  },
  {
   "cell_type": "code",
   "execution_count": 194,
   "id": "5bc7cc40-03bf-456a-a5d0-64c38e540d97",
   "metadata": {
    "scrolled": true
   },
   "outputs": [
    {
     "name": "stderr",
     "output_type": "stream",
     "text": [
      "100%|██████████████████████████████████████████| 18/18 [00:00<00:00, 168.06it/s]\n"
     ]
    },
    {
     "data": {
      "text/plain": [
       "(1607835, 8)"
      ]
     },
     "execution_count": 194,
     "metadata": {},
     "output_type": "execute_result"
    }
   ],
   "source": [
    "dfs = []\n",
    "for stock in tqdm(stocks):\n",
    "    df = load_pkl(f\"./data/preproc/5min/{stock}.pkl\")\n",
    "    \n",
    "    df['diff'] = df['time'].diff() // pd.Timedelta('5 min')\n",
    "    dfs += [df.copy()]\n",
    "df = pd.concat(dfs)\n",
    "df.shape"
   ]
  },
  {
   "cell_type": "code",
   "execution_count": 195,
   "id": "99d38816-ae6d-4f08-b538-f6df9f6e776d",
   "metadata": {},
   "outputs": [
    {
     "data": {
      "text/plain": [
       "<Axes: xlabel='diff'>"
      ]
     },
     "execution_count": 195,
     "metadata": {},
     "output_type": "execute_result"
    },
    {
     "data": {
      "image/png": "[encoded data removed]",
      "text/plain": [
       "<Figure size 640x480 with 1 Axes>"
      ]
     },
     "metadata": {},
     "output_type": "display_data"
    }
   ],
   "source": [
    "df['diff'].value_counts(normalize=True).sort_index().plot.bar()"
   ]
  },
  {
   "cell_type": "code",
   "execution_count": 170,
   "id": "bdae652c-a329-44ae-a733-4535c18aaa01",
   "metadata": {},
   "outputs": [
    {
     "data": {
      "text/plain": [
       "(0.9811056482785858, 0.9876212422294576, 0.9937804563279192)"
      ]
     },
     "execution_count": 170,
     "metadata": {},
     "output_type": "execute_result"
    }
   ],
   "source": [
    "threshold = 2\n",
    "(df['diff'] < 2).mean(), (df['diff'] < 3).mean(), (df['diff'] < 12).mean()"
   ]
  },
  {
   "cell_type": "code",
   "execution_count": null,
   "id": "f6191eb5-a195-4619-a450-02d7665011ed",
   "metadata": {},
   "outputs": [],
   "source": [
    "#Отлично (тут еще смена дня не учтена и выходные)"
   ]
  },
  {
   "cell_type": "code",
   "execution_count": null,
   "id": "07acc023-0cb4-4016-8f6f-fa6701bb0b2f",
   "metadata": {},
   "outputs": [],
   "source": []
  },
  {
   "cell_type": "code",
   "execution_count": null,
   "id": "1bd96b99-b904-4cc5-a131-006ed2fa62c7",
   "metadata": {},
   "outputs": [],
   "source": []
  },
  {
   "cell_type": "markdown",
   "id": "c51c4c76-4b1c-4311-be44-fb23dc844bcd",
   "metadata": {},
   "source": [
    "#### 5.3 1hour"
   ]
  },
  {
   "cell_type": "code",
   "execution_count": 196,
   "id": "0cace792-6a96-43d9-a24d-1ded06c1dd30",
   "metadata": {},
   "outputs": [
    {
     "name": "stderr",
     "output_type": "stream",
     "text": [
      "100%|██████████████████████████████████████████| 18/18 [00:00<00:00, 525.36it/s]"
     ]
    },
    {
     "name": "stdout",
     "output_type": "stream",
     "text": [
      "GAZP\n",
      "SBER\n",
      "LKOH\n",
      "MGNT\n",
      "NVTK\n",
      "SNGS\n",
      "GMKN\n",
      "ROSN\n",
      "NLMK\n",
      "TATN\n",
      "MTSS\n",
      "ALRS\n",
      "YDEX\n",
      "CHMF\n",
      "MAGN\n",
      "TCSG\n",
      "OZON\n",
      "RUAL\n"
     ]
    },
    {
     "name": "stderr",
     "output_type": "stream",
     "text": [
      "\n"
     ]
    }
   ],
   "source": [
    "for stock in tqdm(stocks):\n",
    "    df = load_pkl(f\"./data/preproc/1hour/{stock}.pkl\")\n",
    "\n",
    "    print(stock)\n",
    "    assert (df['time'].sort_values()  == df['time']).all(), f'{stock} not sorted: {(df['time'].sort_values()  != df['time']).sum()}'\n",
    "    assert not df['time'].duplicated().any(), f'{stock} duplicated: {df['time'].duplicated().sum()}'\n",
    "    "
   ]
  },
  {
   "cell_type": "code",
   "execution_count": 197,
   "id": "6987f994-4795-4f25-a260-4066cd683b5b",
   "metadata": {},
   "outputs": [],
   "source": [
    "#Нет дублей и данные отсортированы"
   ]
  },
  {
   "cell_type": "code",
   "execution_count": null,
   "id": "ee0fff32-d972-4ba5-ba6b-70e8716d2055",
   "metadata": {},
   "outputs": [],
   "source": []
  },
  {
   "cell_type": "code",
   "execution_count": 198,
   "id": "10083307-1868-48d9-82b1-e4f2e8744025",
   "metadata": {},
   "outputs": [],
   "source": [
    "#Заполняемость"
   ]
  },
  {
   "cell_type": "code",
   "execution_count": 199,
   "id": "623a3b14-f33a-427e-a832-435a8140cf40",
   "metadata": {
    "scrolled": true
   },
   "outputs": [
    {
     "name": "stderr",
     "output_type": "stream",
     "text": [
      "100%|█████████████████████████████████████████| 18/18 [00:00<00:00, 1211.82it/s]\n"
     ]
    },
    {
     "data": {
      "text/plain": [
       "(138247, 8)"
      ]
     },
     "execution_count": 199,
     "metadata": {},
     "output_type": "execute_result"
    }
   ],
   "source": [
    "dfs = []\n",
    "for stock in tqdm(stocks):\n",
    "    df = load_pkl(f\"./data/preproc/1hour/{stock}.pkl\")\n",
    "    \n",
    "    df['diff'] = df['time'].diff() // pd.Timedelta('1 hour')\n",
    "    dfs += [df.copy()]\n",
    "df = pd.concat(dfs)\n",
    "df.shape"
   ]
  },
  {
   "cell_type": "code",
   "execution_count": 200,
   "id": "9ed0a093-81fa-432f-ad9d-16dc792abef1",
   "metadata": {},
   "outputs": [
    {
     "data": {
      "text/plain": [
       "<Axes: xlabel='diff'>"
      ]
     },
     "execution_count": 200,
     "metadata": {},
     "output_type": "execute_result"
    },
    {
     "data": {
      "image/png": "[encoded data removed]",
      "text/plain": [
       "<Figure size 640x480 with 1 Axes>"
      ]
     },
     "metadata": {},
     "output_type": "display_data"
    }
   ],
   "source": [
    "df['diff'].value_counts(normalize=True).sort_index().plot.bar()"
   ]
  },
  {
   "cell_type": "code",
   "execution_count": 201,
   "id": "e0b40b52-53a0-4635-9e25-11d05b8e72f6",
   "metadata": {},
   "outputs": [
    {
     "data": {
      "text/plain": [
       "0.9979095387241677"
      ]
     },
     "execution_count": 201,
     "metadata": {},
     "output_type": "execute_result"
    }
   ],
   "source": [
    "threshold = 2\n",
    "((df['diff'] < 2) | (df['diff'] == 11) | (df['diff'] == 59)).mean()"
   ]
  },
  {
   "cell_type": "code",
   "execution_count": 202,
   "id": "a7c10200-f241-4a1f-95e0-ede1e7c5591d",
   "metadata": {},
   "outputs": [],
   "source": [
    "#Отлично (не все выходные еще учтены)"
   ]
  },
  {
   "cell_type": "code",
   "execution_count": null,
   "id": "3c748f50-7f37-46dc-aada-2ae76bd0b067",
   "metadata": {},
   "outputs": [],
   "source": []
  },
  {
   "cell_type": "code",
   "execution_count": null,
   "id": "51c12c70-236a-4104-840b-9f29bb11d8e3",
   "metadata": {},
   "outputs": [],
   "source": []
  },
  {
   "cell_type": "markdown",
   "id": "5a636d3b-ea87-401a-bf75-da0406c0ffd9",
   "metadata": {},
   "source": [
    "#### 5.4 1day"
   ]
  },
  {
   "cell_type": "code",
   "execution_count": 203,
   "id": "39c66fb8-ec1b-40d7-8721-48756fab8305",
   "metadata": {},
   "outputs": [
    {
     "name": "stderr",
     "output_type": "stream",
     "text": [
      "100%|█████████████████████████████████████████| 18/18 [00:00<00:00, 1013.51it/s]"
     ]
    },
    {
     "name": "stdout",
     "output_type": "stream",
     "text": [
      "GAZP\n",
      "SBER\n",
      "LKOH\n",
      "MGNT\n",
      "NVTK\n",
      "SNGS\n",
      "GMKN\n",
      "ROSN\n",
      "NLMK\n",
      "TATN\n",
      "MTSS\n",
      "ALRS\n",
      "YDEX\n",
      "CHMF\n",
      "MAGN\n",
      "TCSG\n",
      "OZON\n",
      "RUAL\n"
     ]
    },
    {
     "name": "stderr",
     "output_type": "stream",
     "text": [
      "\n"
     ]
    }
   ],
   "source": [
    "for stock in tqdm(stocks):\n",
    "    df = load_pkl(f\"./data/preproc/1day/{stock}.pkl\")\n",
    "\n",
    "    print(stock)\n",
    "    assert (df['time'].sort_values()  == df['time']).all(), f'{stock} not sorted: {(df['time'].sort_values()  != df['time']).sum()}'\n",
    "    assert not df['time'].duplicated().any(), f'{stock} duplicated: {df['time'].duplicated().sum()}'\n",
    "    "
   ]
  },
  {
   "cell_type": "code",
   "execution_count": 204,
   "id": "e399c11a-386f-4756-97bc-fdc39a51aa8e",
   "metadata": {},
   "outputs": [],
   "source": [
    "#Нет дублей и данные отсортированы"
   ]
  },
  {
   "cell_type": "code",
   "execution_count": null,
   "id": "e2e7d768-12ce-485f-a824-d632891a0fb0",
   "metadata": {},
   "outputs": [],
   "source": []
  },
  {
   "cell_type": "code",
   "execution_count": 205,
   "id": "4f8e0f34-54cc-4785-a6a1-88a2164d378e",
   "metadata": {},
   "outputs": [],
   "source": [
    "#Заполняемость"
   ]
  },
  {
   "cell_type": "code",
   "execution_count": 208,
   "id": "ffe90030-c3bb-46bb-8891-914bf487aa14",
   "metadata": {
    "scrolled": true
   },
   "outputs": [
    {
     "name": "stderr",
     "output_type": "stream",
     "text": [
      "100%|██████████████████████████████████████████| 18/18 [00:00<00:00, 973.50it/s]\n"
     ]
    },
    {
     "data": {
      "text/plain": [
       "(9724, 8)"
      ]
     },
     "execution_count": 208,
     "metadata": {},
     "output_type": "execute_result"
    }
   ],
   "source": [
    "dfs = []\n",
    "for stock in tqdm(stocks):\n",
    "    df = load_pkl(f\"./data/preproc/1day/{stock}.pkl\")\n",
    "    \n",
    "    df['diff'] = df['time'].diff() // pd.Timedelta('24 hours')\n",
    "    dfs += [df.copy()]\n",
    "df = pd.concat(dfs)\n",
    "df.shape"
   ]
  },
  {
   "cell_type": "code",
   "execution_count": 209,
   "id": "a16c6820-304e-46b6-a28e-d47199b333bd",
   "metadata": {},
   "outputs": [
    {
     "data": {
      "text/plain": [
       "<Axes: xlabel='diff'>"
      ]
     },
     "execution_count": 209,
     "metadata": {},
     "output_type": "execute_result"
    },
    {
     "data": {
      "image/png": "[encoded data removed]",
      "text/plain": [
       "<Figure size 640x480 with 1 Axes>"
      ]
     },
     "metadata": {},
     "output_type": "display_data"
    }
   ],
   "source": [
    "df['diff'].value_counts(normalize=True).sort_index().plot.bar()"
   ]
  },
  {
   "cell_type": "code",
   "execution_count": 212,
   "id": "6d13cc7d-7c19-4555-a779-6c2f513710cf",
   "metadata": {},
   "outputs": [
    {
     "data": {
      "text/plain": [
       "(0.9832373508844097, 0.9959893048128342)"
      ]
     },
     "execution_count": 212,
     "metadata": {},
     "output_type": "execute_result"
    }
   ],
   "source": [
    "threshold = 2\n",
    "(df['diff'] < 4).mean(), (df['diff'] < 5).mean()"
   ]
  },
  {
   "cell_type": "code",
   "execution_count": 213,
   "id": "5b4f43df-2cd8-491d-aba2-5cfdc543ceb2",
   "metadata": {},
   "outputs": [],
   "source": [
    "#Отлично"
   ]
  },
  {
   "cell_type": "code",
   "execution_count": null,
   "id": "6d8f789e-bd2d-457a-bd4a-1dff5d268579",
   "metadata": {},
   "outputs": [],
   "source": []
  },
  {
   "cell_type": "code",
   "execution_count": 216,
   "id": "f47735cb-bb3d-4573-92ee-d0d1efca8e70",
   "metadata": {},
   "outputs": [
    {
     "data": {
      "text/plain": [
       "1.0002600000000001"
      ]
     },
     "execution_count": 216,
     "metadata": {},
     "output_type": "execute_result"
    }
   ],
   "source": [
    "0.687*0.994 + 0.313*1.014"
   ]
  },
  {
   "cell_type": "code",
   "execution_count": null,
   "id": "a5adcacf-6fb0-4ab0-8bbf-75fbf392f775",
   "metadata": {},
   "outputs": [],
   "source": []
  },
  {
   "cell_type": "code",
   "execution_count": null,
   "id": "6fe1f7ff-9c05-4596-93dc-af48e266dd59",
   "metadata": {},
   "outputs": [],
   "source": []
  }
 ],
 "metadata": {
  "kernelspec": {
   "display_name": "Python 3 (ipykernel)",
   "language": "python",
   "name": "python3"
  },
  "language_info": {
   "codemirror_mode": {
    "name": "ipython",
    "version": 3
   },
   "file_extension": ".py",
   "mimetype": "text/x-python",
   "name": "python",
   "nbconvert_exporter": "python",
   "pygments_lexer": "ipython3",
   "version": "3.12.7"
  }
 },
 "nbformat": 4,
 "nbformat_minor": 5
}
