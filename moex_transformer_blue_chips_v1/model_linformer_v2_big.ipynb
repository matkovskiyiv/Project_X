{
 "cells": [
  {
   "cell_type": "code",
   "execution_count": 2,
   "id": "d6e30ae7-7754-45c6-8ab7-f0faf1d303cb",
   "metadata": {
    "id": "d6e30ae7-7754-45c6-8ab7-f0faf1d303cb"
   },
   "outputs": [],
   "source": [
    "import numpy as np\n",
    "import pandas as pd\n",
    "from tqdm import tqdm\n",
    "import random\n",
    "import matplotlib.pyplot as plt\n",
    "import seaborn as sns\n",
    "import datetime\n",
    "import math\n",
    "import gc\n",
    "\n",
    "from sklearn.metrics import roc_auc_score\n",
    "\n",
    "import pickle\n",
    "def dump_pkl(data, filename):\n",
    "  with open(filename, 'wb') as handle:\n",
    "    pickle.dump(data, handle, protocol=pickle.HIGHEST_PROTOCOL)\n",
    "\n",
    "def load_pkl(filename):\n",
    "  with open(filename, 'rb') as handle:\n",
    "    data = pickle.load(handle)\n",
    "  return data"
   ]
  },
  {
   "cell_type": "code",
   "execution_count": 1,
   "id": "qirDY6OVczYo",
   "metadata": {
    "id": "qirDY6OVczYo"
   },
   "outputs": [],
   "source": []
  },
  {
   "cell_type": "code",
   "execution_count": 1,
   "id": "aaaec63d-9f8a-4fe4-8de7-95f0e2b42a97",
   "metadata": {
    "id": "aaaec63d-9f8a-4fe4-8de7-95f0e2b42a97"
   },
   "outputs": [],
   "source": []
  },
  {
   "cell_type": "markdown",
   "id": "9dfe8d80-f431-4f2e-8908-df724266bccb",
   "metadata": {
    "id": "9dfe8d80-f431-4f2e-8908-df724266bccb"
   },
   "source": [
    "### 3. train/valid/test split"
   ]
  },
  {
   "cell_type": "code",
   "execution_count": 2,
   "id": "JhnLos7mnrY3",
   "metadata": {
    "colab": {
     "base_uri": "https://localhost:8080/"
    },
    "id": "JhnLos7mnrY3",
    "outputId": "301defd5-591f-44fb-ca57-3983eb0842b5"
   },
   "outputs": [
    {
     "name": "stdout",
     "output_type": "stream",
     "text": [
      "Success! The data has been loaded\n",
      "Unpacking the data...\n",
      "Done! The data is available here /content\n",
      "CPU times: user 3.61 s, sys: 1.43 s, total: 5.04 s\n",
      "Wall time: 20.8 s\n"
     ]
    }
   ],
   "source": [
    "%%time\n",
    "import zipfile\n",
    "import requests\n",
    "import os\n",
    "import io\n",
    "from urllib.parse import urlencode\n",
    "\n",
    "# public_key = \"https://disk.yandex.ru/d/GHFPakrPFt1JVQ\"\n",
    "public_key = \"https://disk.yandex.ru/d/p-yNGHbQ0mi7EQ\"\n",
    "folder_name = \"Архив\"\n",
    "asset_zip_path = os.path.join(os.getcwd(), f\"{folder_name}.zip\")\n",
    "\n",
    "def download_and_unzip(load_from):\n",
    "  base_url = 'https://cloud-api.yandex.net/v1/disk/public/resources/download?'\n",
    "\n",
    "  # Получаем загрузочную ссылку\n",
    "  final_url = base_url + urlencode(dict(public_key=load_from))\n",
    "  try:\n",
    "    response = requests.get(final_url)\n",
    "    download_url = response.json()['href']\n",
    "\n",
    "    # Загружаем файл и сохраняем его\n",
    "    download_response = requests.get(download_url)\n",
    "    print('Success! The data has been loaded')\n",
    "  except:\n",
    "    \"Could not load the content of the URL\"\n",
    "\n",
    "  print(\"Unpacking the data...\")\n",
    "  try:\n",
    "    extract_to = os.getcwd()\n",
    "\n",
    "    z = zipfile.ZipFile(io.BytesIO(download_response.content))\n",
    "    z.extractall(extract_to)\n",
    "    print(f'Done! The data is available here {extract_to}')\n",
    "  except:\n",
    "    \"Error occured while extracting the data\"\n",
    "\n",
    "# Download if assest ZIP does not exists.\n",
    "if not os.path.exists(asset_zip_path):\n",
    "    download_and_unzip(public_key)"
   ]
  },
  {
   "cell_type": "code",
   "execution_count": 3,
   "id": "abae8128-7f9c-4e0c-bcfc-38c3f6a7c7b1",
   "metadata": {
    "id": "abae8128-7f9c-4e0c-bcfc-38c3f6a7c7b1"
   },
   "outputs": [],
   "source": [
    "df_1min = load_pkl('experiments/model_one_fc/data/data_shift_time_1min.pkl')\n",
    "df_5min = load_pkl('experiments/model_one_fc/data/data_shift_time_5min.pkl')\n",
    "df_1hour = load_pkl('experiments/model_one_fc/data/data_shift_time_1hour.pkl')\n",
    "df_1day = load_pkl('experiments/model_one_fc/data/data_shift_time_1day.pkl')\n"
   ]
  },
  {
   "cell_type": "code",
   "execution_count": 4,
   "id": "ff72e613-5253-48ba-a99e-40049a4b1f82",
   "metadata": {
    "colab": {
     "base_uri": "https://localhost:8080/",
     "height": 313
    },
    "id": "ff72e613-5253-48ba-a99e-40049a4b1f82",
    "outputId": "e001248f-f88f-48a9-dc74-9b18f165ff08"
   },
   "outputs": [
    {
     "data": {
      "text/html": [
       "<div>\n",
       "<style scoped>\n",
       "    .dataframe tbody tr th:only-of-type {\n",
       "        vertical-align: middle;\n",
       "    }\n",
       "\n",
       "    .dataframe tbody tr th {\n",
       "        vertical-align: top;\n",
       "    }\n",
       "\n",
       "    .dataframe thead th {\n",
       "        text-align: right;\n",
       "    }\n",
       "</style>\n",
       "<table border=\"1\" class=\"dataframe\">\n",
       "  <thead>\n",
       "    <tr style=\"text-align: right;\">\n",
       "      <th></th>\n",
       "      <th>time</th>\n",
       "      <th>open</th>\n",
       "      <th>close</th>\n",
       "      <th>volume</th>\n",
       "      <th>low</th>\n",
       "      <th>high</th>\n",
       "      <th>ticker</th>\n",
       "      <th>index_1min_start</th>\n",
       "      <th>index_5min</th>\n",
       "      <th>index_start_5min</th>\n",
       "      <th>index_1hour</th>\n",
       "      <th>index_start_1hour</th>\n",
       "      <th>index_1day</th>\n",
       "      <th>index_start_1day</th>\n",
       "      <th>result</th>\n",
       "      <th>delta_time</th>\n",
       "    </tr>\n",
       "  </thead>\n",
       "  <tbody>\n",
       "    <tr>\n",
       "      <th>0</th>\n",
       "      <td>2022-10-03 10:01:00</td>\n",
       "      <td>219.00</td>\n",
       "      <td>219.93</td>\n",
       "      <td>87793.0</td>\n",
       "      <td>218.00</td>\n",
       "      <td>220.25</td>\n",
       "      <td>GAZP</td>\n",
       "      <td>0</td>\n",
       "      <td>NaN</td>\n",
       "      <td>NaN</td>\n",
       "      <td>NaN</td>\n",
       "      <td>NaN</td>\n",
       "      <td>NaN</td>\n",
       "      <td>NaN</td>\n",
       "      <td>LOSE</td>\n",
       "      <td>0 days 00:04:00</td>\n",
       "    </tr>\n",
       "    <tr>\n",
       "      <th>1</th>\n",
       "      <td>2022-10-03 10:02:00</td>\n",
       "      <td>219.80</td>\n",
       "      <td>220.80</td>\n",
       "      <td>61549.0</td>\n",
       "      <td>219.70</td>\n",
       "      <td>220.55</td>\n",
       "      <td>GAZP</td>\n",
       "      <td>0</td>\n",
       "      <td>NaN</td>\n",
       "      <td>NaN</td>\n",
       "      <td>NaN</td>\n",
       "      <td>NaN</td>\n",
       "      <td>NaN</td>\n",
       "      <td>NaN</td>\n",
       "      <td>LOSE</td>\n",
       "      <td>0 days 00:01:00</td>\n",
       "    </tr>\n",
       "    <tr>\n",
       "      <th>2</th>\n",
       "      <td>2022-10-03 10:03:00</td>\n",
       "      <td>220.24</td>\n",
       "      <td>219.34</td>\n",
       "      <td>52640.0</td>\n",
       "      <td>219.20</td>\n",
       "      <td>220.38</td>\n",
       "      <td>GAZP</td>\n",
       "      <td>0</td>\n",
       "      <td>NaN</td>\n",
       "      <td>NaN</td>\n",
       "      <td>NaN</td>\n",
       "      <td>NaN</td>\n",
       "      <td>NaN</td>\n",
       "      <td>NaN</td>\n",
       "      <td>LOSE</td>\n",
       "      <td>0 days 00:03:00</td>\n",
       "    </tr>\n",
       "    <tr>\n",
       "      <th>3</th>\n",
       "      <td>2022-10-03 10:04:00</td>\n",
       "      <td>219.17</td>\n",
       "      <td>218.96</td>\n",
       "      <td>61506.0</td>\n",
       "      <td>217.70</td>\n",
       "      <td>219.40</td>\n",
       "      <td>GAZP</td>\n",
       "      <td>0</td>\n",
       "      <td>NaN</td>\n",
       "      <td>NaN</td>\n",
       "      <td>NaN</td>\n",
       "      <td>NaN</td>\n",
       "      <td>NaN</td>\n",
       "      <td>NaN</td>\n",
       "      <td>LOSE</td>\n",
       "      <td>0 days 00:02:00</td>\n",
       "    </tr>\n",
       "    <tr>\n",
       "      <th>4</th>\n",
       "      <td>2022-10-03 10:05:00</td>\n",
       "      <td>218.82</td>\n",
       "      <td>218.30</td>\n",
       "      <td>51464.0</td>\n",
       "      <td>217.76</td>\n",
       "      <td>218.96</td>\n",
       "      <td>GAZP</td>\n",
       "      <td>0</td>\n",
       "      <td>0.0</td>\n",
       "      <td>0</td>\n",
       "      <td>NaN</td>\n",
       "      <td>NaN</td>\n",
       "      <td>NaN</td>\n",
       "      <td>NaN</td>\n",
       "      <td>LOSE</td>\n",
       "      <td>0 days 00:07:00</td>\n",
       "    </tr>\n",
       "  </tbody>\n",
       "</table>\n",
       "</div>"
      ],
      "text/plain": [
       "                 time    open   close   volume     low    high ticker  \\\n",
       "0 2022-10-03 10:01:00  219.00  219.93  87793.0  218.00  220.25   GAZP   \n",
       "1 2022-10-03 10:02:00  219.80  220.80  61549.0  219.70  220.55   GAZP   \n",
       "2 2022-10-03 10:03:00  220.24  219.34  52640.0  219.20  220.38   GAZP   \n",
       "3 2022-10-03 10:04:00  219.17  218.96  61506.0  217.70  219.40   GAZP   \n",
       "4 2022-10-03 10:05:00  218.82  218.30  51464.0  217.76  218.96   GAZP   \n",
       "\n",
       "  index_1min_start  index_5min index_start_5min  index_1hour  \\\n",
       "0                0         NaN              NaN          NaN   \n",
       "1                0         NaN              NaN          NaN   \n",
       "2                0         NaN              NaN          NaN   \n",
       "3                0         NaN              NaN          NaN   \n",
       "4                0         0.0                0          NaN   \n",
       "\n",
       "  index_start_1hour  index_1day index_start_1day result      delta_time  \n",
       "0               NaN         NaN              NaN   LOSE 0 days 00:04:00  \n",
       "1               NaN         NaN              NaN   LOSE 0 days 00:01:00  \n",
       "2               NaN         NaN              NaN   LOSE 0 days 00:03:00  \n",
       "3               NaN         NaN              NaN   LOSE 0 days 00:02:00  \n",
       "4               NaN         NaN              NaN   LOSE 0 days 00:07:00  "
      ]
     },
     "execution_count": 4,
     "metadata": {},
     "output_type": "execute_result"
    }
   ],
   "source": [
    "df_1min.head()"
   ]
  },
  {
   "cell_type": "code",
   "execution_count": 5,
   "id": "d908e8f0-e702-49b7-9ddb-522b9cf3aeff",
   "metadata": {
    "colab": {
     "base_uri": "https://localhost:8080/",
     "height": 206
    },
    "id": "d908e8f0-e702-49b7-9ddb-522b9cf3aeff",
    "outputId": "109c02d7-a625-48b7-edc2-8292382761d5"
   },
   "outputs": [
    {
     "data": {
      "text/html": [
       "<div>\n",
       "<style scoped>\n",
       "    .dataframe tbody tr th:only-of-type {\n",
       "        vertical-align: middle;\n",
       "    }\n",
       "\n",
       "    .dataframe tbody tr th {\n",
       "        vertical-align: top;\n",
       "    }\n",
       "\n",
       "    .dataframe thead th {\n",
       "        text-align: right;\n",
       "    }\n",
       "</style>\n",
       "<table border=\"1\" class=\"dataframe\">\n",
       "  <thead>\n",
       "    <tr style=\"text-align: right;\">\n",
       "      <th></th>\n",
       "      <th>time</th>\n",
       "      <th>open_5min</th>\n",
       "      <th>close_5min</th>\n",
       "      <th>volume_5min</th>\n",
       "      <th>low_5min</th>\n",
       "      <th>high_5min</th>\n",
       "      <th>ticker</th>\n",
       "    </tr>\n",
       "  </thead>\n",
       "  <tbody>\n",
       "    <tr>\n",
       "      <th>0</th>\n",
       "      <td>2022-10-03 10:05:00</td>\n",
       "      <td>219.00</td>\n",
       "      <td>218.30</td>\n",
       "      <td>314952.0</td>\n",
       "      <td>217.70</td>\n",
       "      <td>220.55</td>\n",
       "      <td>GAZP</td>\n",
       "    </tr>\n",
       "    <tr>\n",
       "      <th>1</th>\n",
       "      <td>2022-10-03 10:10:00</td>\n",
       "      <td>218.30</td>\n",
       "      <td>218.50</td>\n",
       "      <td>182525.0</td>\n",
       "      <td>216.19</td>\n",
       "      <td>218.78</td>\n",
       "      <td>GAZP</td>\n",
       "    </tr>\n",
       "    <tr>\n",
       "      <th>2</th>\n",
       "      <td>2022-10-03 10:15:00</td>\n",
       "      <td>218.11</td>\n",
       "      <td>215.86</td>\n",
       "      <td>193758.0</td>\n",
       "      <td>215.31</td>\n",
       "      <td>218.13</td>\n",
       "      <td>GAZP</td>\n",
       "    </tr>\n",
       "    <tr>\n",
       "      <th>3</th>\n",
       "      <td>2022-10-03 10:20:00</td>\n",
       "      <td>215.83</td>\n",
       "      <td>216.85</td>\n",
       "      <td>91747.0</td>\n",
       "      <td>215.70</td>\n",
       "      <td>217.39</td>\n",
       "      <td>GAZP</td>\n",
       "    </tr>\n",
       "    <tr>\n",
       "      <th>4</th>\n",
       "      <td>2022-10-03 10:25:00</td>\n",
       "      <td>216.85</td>\n",
       "      <td>216.58</td>\n",
       "      <td>52824.0</td>\n",
       "      <td>216.40</td>\n",
       "      <td>217.16</td>\n",
       "      <td>GAZP</td>\n",
       "    </tr>\n",
       "  </tbody>\n",
       "</table>\n",
       "</div>"
      ],
      "text/plain": [
       "                 time  open_5min  close_5min  volume_5min  low_5min  \\\n",
       "0 2022-10-03 10:05:00     219.00      218.30     314952.0    217.70   \n",
       "1 2022-10-03 10:10:00     218.30      218.50     182525.0    216.19   \n",
       "2 2022-10-03 10:15:00     218.11      215.86     193758.0    215.31   \n",
       "3 2022-10-03 10:20:00     215.83      216.85      91747.0    215.70   \n",
       "4 2022-10-03 10:25:00     216.85      216.58      52824.0    216.40   \n",
       "\n",
       "   high_5min ticker  \n",
       "0     220.55   GAZP  \n",
       "1     218.78   GAZP  \n",
       "2     218.13   GAZP  \n",
       "3     217.39   GAZP  \n",
       "4     217.16   GAZP  "
      ]
     },
     "execution_count": 5,
     "metadata": {},
     "output_type": "execute_result"
    }
   ],
   "source": [
    "df_5min.head()"
   ]
  },
  {
   "cell_type": "code",
   "execution_count": 6,
   "id": "ea202601-841d-4ad0-bb88-58a08e7e1c7a",
   "metadata": {
    "colab": {
     "base_uri": "https://localhost:8080/",
     "height": 206
    },
    "id": "ea202601-841d-4ad0-bb88-58a08e7e1c7a",
    "outputId": "d033ab51-eff0-4641-8a79-bed3a0a3a166"
   },
   "outputs": [
    {
     "data": {
      "text/html": [
       "<div>\n",
       "<style scoped>\n",
       "    .dataframe tbody tr th:only-of-type {\n",
       "        vertical-align: middle;\n",
       "    }\n",
       "\n",
       "    .dataframe tbody tr th {\n",
       "        vertical-align: top;\n",
       "    }\n",
       "\n",
       "    .dataframe thead th {\n",
       "        text-align: right;\n",
       "    }\n",
       "</style>\n",
       "<table border=\"1\" class=\"dataframe\">\n",
       "  <thead>\n",
       "    <tr style=\"text-align: right;\">\n",
       "      <th></th>\n",
       "      <th>time</th>\n",
       "      <th>open_1hour</th>\n",
       "      <th>close_1hour</th>\n",
       "      <th>volume_1hour</th>\n",
       "      <th>low_1hour</th>\n",
       "      <th>high_1hour</th>\n",
       "      <th>ticker</th>\n",
       "    </tr>\n",
       "  </thead>\n",
       "  <tbody>\n",
       "    <tr>\n",
       "      <th>0</th>\n",
       "      <td>2022-10-03 11:00:00</td>\n",
       "      <td>219.00</td>\n",
       "      <td>215.80</td>\n",
       "      <td>1623411.0</td>\n",
       "      <td>213.63</td>\n",
       "      <td>220.55</td>\n",
       "      <td>GAZP</td>\n",
       "    </tr>\n",
       "    <tr>\n",
       "      <th>1</th>\n",
       "      <td>2022-10-03 12:00:00</td>\n",
       "      <td>215.80</td>\n",
       "      <td>216.36</td>\n",
       "      <td>411786.0</td>\n",
       "      <td>214.96</td>\n",
       "      <td>216.78</td>\n",
       "      <td>GAZP</td>\n",
       "    </tr>\n",
       "    <tr>\n",
       "      <th>2</th>\n",
       "      <td>2022-10-03 13:00:00</td>\n",
       "      <td>216.34</td>\n",
       "      <td>215.88</td>\n",
       "      <td>237084.0</td>\n",
       "      <td>215.43</td>\n",
       "      <td>216.43</td>\n",
       "      <td>GAZP</td>\n",
       "    </tr>\n",
       "    <tr>\n",
       "      <th>3</th>\n",
       "      <td>2022-10-03 14:00:00</td>\n",
       "      <td>215.85</td>\n",
       "      <td>217.10</td>\n",
       "      <td>573509.0</td>\n",
       "      <td>215.53</td>\n",
       "      <td>217.77</td>\n",
       "      <td>GAZP</td>\n",
       "    </tr>\n",
       "    <tr>\n",
       "      <th>4</th>\n",
       "      <td>2022-10-03 15:00:00</td>\n",
       "      <td>217.12</td>\n",
       "      <td>216.94</td>\n",
       "      <td>364609.0</td>\n",
       "      <td>216.50</td>\n",
       "      <td>217.49</td>\n",
       "      <td>GAZP</td>\n",
       "    </tr>\n",
       "  </tbody>\n",
       "</table>\n",
       "</div>"
      ],
      "text/plain": [
       "                 time  open_1hour  close_1hour  volume_1hour  low_1hour  \\\n",
       "0 2022-10-03 11:00:00      219.00       215.80     1623411.0     213.63   \n",
       "1 2022-10-03 12:00:00      215.80       216.36      411786.0     214.96   \n",
       "2 2022-10-03 13:00:00      216.34       215.88      237084.0     215.43   \n",
       "3 2022-10-03 14:00:00      215.85       217.10      573509.0     215.53   \n",
       "4 2022-10-03 15:00:00      217.12       216.94      364609.0     216.50   \n",
       "\n",
       "   high_1hour ticker  \n",
       "0      220.55   GAZP  \n",
       "1      216.78   GAZP  \n",
       "2      216.43   GAZP  \n",
       "3      217.77   GAZP  \n",
       "4      217.49   GAZP  "
      ]
     },
     "execution_count": 6,
     "metadata": {},
     "output_type": "execute_result"
    }
   ],
   "source": [
    "df_1hour.head()"
   ]
  },
  {
   "cell_type": "code",
   "execution_count": 7,
   "id": "55278652-16ae-4ca5-8539-77c5d1db00c3",
   "metadata": {
    "colab": {
     "base_uri": "https://localhost:8080/",
     "height": 206
    },
    "id": "55278652-16ae-4ca5-8539-77c5d1db00c3",
    "outputId": "0b8d20f1-270d-4678-d97c-96e299f0accb"
   },
   "outputs": [
    {
     "data": {
      "text/html": [
       "<div>\n",
       "<style scoped>\n",
       "    .dataframe tbody tr th:only-of-type {\n",
       "        vertical-align: middle;\n",
       "    }\n",
       "\n",
       "    .dataframe tbody tr th {\n",
       "        vertical-align: top;\n",
       "    }\n",
       "\n",
       "    .dataframe thead th {\n",
       "        text-align: right;\n",
       "    }\n",
       "</style>\n",
       "<table border=\"1\" class=\"dataframe\">\n",
       "  <thead>\n",
       "    <tr style=\"text-align: right;\">\n",
       "      <th></th>\n",
       "      <th>time</th>\n",
       "      <th>open_1day</th>\n",
       "      <th>close_1day</th>\n",
       "      <th>volume_1day</th>\n",
       "      <th>low_1day</th>\n",
       "      <th>high_1day</th>\n",
       "      <th>ticker</th>\n",
       "    </tr>\n",
       "  </thead>\n",
       "  <tbody>\n",
       "    <tr>\n",
       "      <th>0</th>\n",
       "      <td>2022-09-30 23:50:00</td>\n",
       "      <td>231.68</td>\n",
       "      <td>217.70</td>\n",
       "      <td>24588842.0</td>\n",
       "      <td>189.42</td>\n",
       "      <td>238.72</td>\n",
       "      <td>GAZP</td>\n",
       "    </tr>\n",
       "    <tr>\n",
       "      <th>1</th>\n",
       "      <td>2022-10-03 23:50:00</td>\n",
       "      <td>219.00</td>\n",
       "      <td>215.83</td>\n",
       "      <td>5070201.0</td>\n",
       "      <td>213.63</td>\n",
       "      <td>220.55</td>\n",
       "      <td>GAZP</td>\n",
       "    </tr>\n",
       "    <tr>\n",
       "      <th>2</th>\n",
       "      <td>2022-10-04 23:50:00</td>\n",
       "      <td>216.48</td>\n",
       "      <td>210.72</td>\n",
       "      <td>4975859.0</td>\n",
       "      <td>208.80</td>\n",
       "      <td>216.70</td>\n",
       "      <td>GAZP</td>\n",
       "    </tr>\n",
       "    <tr>\n",
       "      <th>3</th>\n",
       "      <td>2022-10-05 23:50:00</td>\n",
       "      <td>211.50</td>\n",
       "      <td>209.50</td>\n",
       "      <td>5322122.0</td>\n",
       "      <td>202.85</td>\n",
       "      <td>211.50</td>\n",
       "      <td>GAZP</td>\n",
       "    </tr>\n",
       "    <tr>\n",
       "      <th>4</th>\n",
       "      <td>2022-10-06 23:50:00</td>\n",
       "      <td>210.00</td>\n",
       "      <td>212.86</td>\n",
       "      <td>5165564.0</td>\n",
       "      <td>209.60</td>\n",
       "      <td>216.88</td>\n",
       "      <td>GAZP</td>\n",
       "    </tr>\n",
       "  </tbody>\n",
       "</table>\n",
       "</div>"
      ],
      "text/plain": [
       "                 time  open_1day  close_1day  volume_1day  low_1day  \\\n",
       "0 2022-09-30 23:50:00     231.68      217.70   24588842.0    189.42   \n",
       "1 2022-10-03 23:50:00     219.00      215.83    5070201.0    213.63   \n",
       "2 2022-10-04 23:50:00     216.48      210.72    4975859.0    208.80   \n",
       "3 2022-10-05 23:50:00     211.50      209.50    5322122.0    202.85   \n",
       "4 2022-10-06 23:50:00     210.00      212.86    5165564.0    209.60   \n",
       "\n",
       "   high_1day ticker  \n",
       "0     238.72   GAZP  \n",
       "1     220.55   GAZP  \n",
       "2     216.70   GAZP  \n",
       "3     211.50   GAZP  \n",
       "4     216.88   GAZP  "
      ]
     },
     "execution_count": 7,
     "metadata": {},
     "output_type": "execute_result"
    }
   ],
   "source": [
    "df_1day.head()"
   ]
  },
  {
   "cell_type": "code",
   "execution_count": null,
   "id": "28e28575-c36c-4be2-9733-6825e4faef46",
   "metadata": {
    "id": "28e28575-c36c-4be2-9733-6825e4faef46"
   },
   "outputs": [],
   "source": []
  },
  {
   "cell_type": "code",
   "execution_count": 8,
   "id": "a0611864-8569-418a-a959-5ab39595b320",
   "metadata": {
    "id": "a0611864-8569-418a-a959-5ab39595b320"
   },
   "outputs": [],
   "source": [
    "df_1min['target'] = (df_1min['result'] == 'WIN').astype(int)"
   ]
  },
  {
   "cell_type": "code",
   "execution_count": 9,
   "id": "206263ce-b65e-40eb-8db5-252cc2fb8b09",
   "metadata": {
    "colab": {
     "base_uri": "https://localhost:8080/",
     "height": 661
    },
    "id": "206263ce-b65e-40eb-8db5-252cc2fb8b09",
    "outputId": "57449b3f-acdd-4aba-e00d-a9670ebf686d"
   },
   "outputs": [
    {
     "name": "stderr",
     "output_type": "stream",
     "text": [
      "/var/folders/rm/zt5_90s5727289mv2gzbkw980000gn/T/ipykernel_82547/261364035.py:1: FutureWarning: 'M' is deprecated and will be removed in a future version, please use 'ME' instead.\n",
      "  df_1min[['time', 'target']].groupby(pd.Grouper(key='time', freq='M')).target.count().plot.bar()\n"
     ]
    },
    {
     "data": {
      "text/plain": [
       "<Axes: xlabel='time'>"
      ]
     },
     "execution_count": 9,
     "metadata": {},
     "output_type": "execute_result"
    },
    {
     "data": {
      "image/png": "[encoded data removed]",
      "text/plain": [
       "<Figure size 640x480 with 1 Axes>"
      ]
     },
     "metadata": {},
     "output_type": "display_data"
    }
   ],
   "source": [
    "df_1min[['time', 'target']].groupby(pd.Grouper(key='time', freq='M')).target.count().plot.bar()"
   ]
  },
  {
   "cell_type": "code",
   "execution_count": 10,
   "id": "f3472da7-9d47-4cc9-9010-79813506b891",
   "metadata": {
    "colab": {
     "base_uri": "https://localhost:8080/",
     "height": 657
    },
    "id": "f3472da7-9d47-4cc9-9010-79813506b891",
    "outputId": "89d462d0-2242-4f6f-f8e9-6992f67505b8"
   },
   "outputs": [
    {
     "name": "stderr",
     "output_type": "stream",
     "text": [
      "/var/folders/rm/zt5_90s5727289mv2gzbkw980000gn/T/ipykernel_82547/2492958762.py:1: FutureWarning: 'M' is deprecated and will be removed in a future version, please use 'ME' instead.\n",
      "  df_1min[['time', 'target']].groupby(pd.Grouper(key='time', freq='M')).target.mean().plot.bar()\n"
     ]
    },
    {
     "data": {
      "text/plain": [
       "<Axes: xlabel='time'>"
      ]
     },
     "execution_count": 10,
     "metadata": {},
     "output_type": "execute_result"
    },
    {
     "data": {
      "image/png": "[encoded data removed]",
      "text/plain": [
       "<Figure size 640x480 with 1 Axes>"
      ]
     },
     "metadata": {},
     "output_type": "display_data"
    }
   ],
   "source": [
    "df_1min[['time', 'target']].groupby(pd.Grouper(key='time', freq='M')).target.mean().plot.bar()"
   ]
  },
  {
   "cell_type": "code",
   "execution_count": null,
   "id": "76a0d3ac-ea8e-4f05-919a-73bdeb4f467c",
   "metadata": {
    "id": "76a0d3ac-ea8e-4f05-919a-73bdeb4f467c"
   },
   "outputs": [],
   "source": []
  },
  {
   "cell_type": "code",
   "execution_count": 11,
   "id": "141aef3f-7651-4697-a0f5-fb3074f85ae6",
   "metadata": {
    "id": "141aef3f-7651-4697-a0f5-fb3074f85ae6"
   },
   "outputs": [],
   "source": [
    "#в 2024 году - 248 рабочих дней, возьмем длину последовательности данных 200 (и так будет долго учиться)"
   ]
  },
  {
   "cell_type": "markdown",
   "id": "ec38de64-4dd9-4591-ac20-faa9bcb842cb",
   "metadata": {
    "id": "ec38de64-4dd9-4591-ac20-faa9bcb842cb"
   },
   "source": [
    "![](imoex.png)"
   ]
  },
  {
   "cell_type": "code",
   "execution_count": 12,
   "id": "91a9b3ab-3c5c-4ea7-93ca-32e75db8300e",
   "metadata": {
    "id": "91a9b3ab-3c5c-4ea7-93ca-32e75db8300e"
   },
   "outputs": [],
   "source": [
    "mask_train = np.array((pd.Timestamp('2023-10-01') <= df_1min['time']) & (df_1min['time'] < pd.Timestamp('2024-06-01')))\n",
    "mask_valid = np.array((pd.Timestamp('2024-06-01') <= df_1min['time']) & (df_1min['time'] < pd.Timestamp('2024-08-01')))\n",
    "mask_test = np.array((pd.Timestamp('2024-08-01') <= df_1min['time']) & (df_1min['time'] < pd.Timestamp('2024-10-01')))\n",
    "mask_test2 = np.array((pd.Timestamp('2024-10-01') <= df_1min['time']) & (df_1min['time'] < pd.Timestamp('2024-11-19')))"
   ]
  },
  {
   "cell_type": "code",
   "execution_count": null,
   "id": "a13220ef-98dc-44a2-9021-9978e294137b",
   "metadata": {
    "id": "a13220ef-98dc-44a2-9021-9978e294137b"
   },
   "outputs": [],
   "source": []
  },
  {
   "cell_type": "code",
   "execution_count": 13,
   "id": "897198eb-3e2c-4d60-93e5-73758855bf54",
   "metadata": {
    "colab": {
     "base_uri": "https://localhost:8080/"
    },
    "id": "897198eb-3e2c-4d60-93e5-73758855bf54",
    "outputId": "25083d59-cc90-4964-9634-e612ac319ddd"
   },
   "outputs": [
    {
     "data": {
      "text/plain": [
       "(2453935, 597323, 620944, 497823)"
      ]
     },
     "execution_count": 13,
     "metadata": {},
     "output_type": "execute_result"
    }
   ],
   "source": [
    "mask_train.sum(), mask_valid.sum(), mask_test.sum(), mask_test2.sum()"
   ]
  },
  {
   "cell_type": "code",
   "execution_count": 14,
   "id": "9d034842-5335-4162-b271-467cfb9efc5a",
   "metadata": {
    "colab": {
     "base_uri": "https://localhost:8080/"
    },
    "id": "9d034842-5335-4162-b271-467cfb9efc5a",
    "outputId": "006f57be-2c11-4ded-9ffc-c0c7ce5237df"
   },
   "outputs": [
    {
     "data": {
      "text/plain": [
       "4170025"
      ]
     },
     "execution_count": 14,
     "metadata": {},
     "output_type": "execute_result"
    }
   ],
   "source": [
    "mask_data = mask_train|mask_valid|mask_test|mask_test2\n",
    "(mask_data).sum()"
   ]
  },
  {
   "cell_type": "code",
   "execution_count": 15,
   "id": "e43d7543-daf2-495d-b4ea-15dd838d133c",
   "metadata": {
    "colab": {
     "base_uri": "https://localhost:8080/"
    },
    "id": "e43d7543-daf2-495d-b4ea-15dd838d133c",
    "outputId": "1fee8d45-0c56-4fe6-f071-78e9c1f1890a"
   },
   "outputs": [
    {
     "data": {
      "text/plain": [
       "(0.5884700931049575,\n",
       " 0.14324206689408336,\n",
       " 0.14890654132768988,\n",
       " 0.11938129867326934)"
      ]
     },
     "execution_count": 15,
     "metadata": {},
     "output_type": "execute_result"
    }
   ],
   "source": [
    "mask_train.sum()/(mask_data).sum(), mask_valid.sum()/(mask_data).sum(), mask_test.sum()/(mask_data).sum(), mask_test2.sum()/(mask_data).sum()"
   ]
  },
  {
   "cell_type": "code",
   "execution_count": 16,
   "id": "cb46d1d9-fc8c-45c5-99e5-bf771bdb6ccc",
   "metadata": {
    "colab": {
     "base_uri": "https://localhost:8080/"
    },
    "id": "cb46d1d9-fc8c-45c5-99e5-bf771bdb6ccc",
    "outputId": "9cdd7050-1e8b-4ce1-a5ef-b5ebb3a0341b"
   },
   "outputs": [
    {
     "data": {
      "text/plain": [
       "(0.06044455130229611,\n",
       " 0.10156816328853903,\n",
       " 0.11664175835502075,\n",
       " 0.10381199743684)"
      ]
     },
     "execution_count": 16,
     "metadata": {},
     "output_type": "execute_result"
    }
   ],
   "source": [
    "df_1min.loc[mask_train, 'target'].mean(), df_1min.loc[mask_valid, 'target'].mean(), df_1min.loc[mask_test, 'target'].mean(), df_1min.loc[mask_test2, 'target'].mean()"
   ]
  },
  {
   "cell_type": "code",
   "execution_count": null,
   "id": "6c094dc7-ebcc-4cad-8293-44588414860f",
   "metadata": {
    "id": "6c094dc7-ebcc-4cad-8293-44588414860f"
   },
   "outputs": [],
   "source": []
  },
  {
   "cell_type": "code",
   "execution_count": null,
   "id": "b4602e6e-aff7-4891-860c-ea7203ace1b0",
   "metadata": {
    "id": "b4602e6e-aff7-4891-860c-ea7203ace1b0"
   },
   "outputs": [],
   "source": []
  },
  {
   "cell_type": "code",
   "execution_count": 17,
   "id": "b89d98db-d939-4ef2-bbc1-f1d31bf5cd15",
   "metadata": {
    "id": "b89d98db-d939-4ef2-bbc1-f1d31bf5cd15"
   },
   "outputs": [],
   "source": [
    "#проверки"
   ]
  },
  {
   "cell_type": "code",
   "execution_count": 18,
   "id": "4b37867a-0700-4508-b310-38dcabce67b3",
   "metadata": {
    "colab": {
     "base_uri": "https://localhost:8080/"
    },
    "id": "4b37867a-0700-4508-b310-38dcabce67b3",
    "outputId": "9ef9e7ec-7877-49cb-c3a8-ccabcf07c16e"
   },
   "outputs": [
    {
     "data": {
      "text/plain": [
       "True"
      ]
     },
     "execution_count": 18,
     "metadata": {},
     "output_type": "execute_result"
    }
   ],
   "source": [
    "(mask_train.sum()+mask_valid.sum()+mask_test.sum()+mask_test2.sum()) ==(mask_data).sum()"
   ]
  },
  {
   "cell_type": "code",
   "execution_count": null,
   "id": "ec2e95ec-fef3-49a2-8098-3824eb514908",
   "metadata": {
    "id": "ec2e95ec-fef3-49a2-8098-3824eb514908"
   },
   "outputs": [],
   "source": []
  },
  {
   "cell_type": "code",
   "execution_count": 19,
   "id": "48c7f32e-bb06-4b1e-87e9-d53dae494085",
   "metadata": {
    "colab": {
     "base_uri": "https://localhost:8080/",
     "height": 657
    },
    "id": "48c7f32e-bb06-4b1e-87e9-d53dae494085",
    "outputId": "ec512b9f-6d22-47d8-f848-1ac1b15390d5"
   },
   "outputs": [
    {
     "name": "stderr",
     "output_type": "stream",
     "text": [
      "/var/folders/rm/zt5_90s5727289mv2gzbkw980000gn/T/ipykernel_82547/988860516.py:1: FutureWarning: 'M' is deprecated and will be removed in a future version, please use 'ME' instead.\n",
      "  df_1min.loc[mask_data, ['time', 'target']].groupby(pd.Grouper(key='time', freq='M')).target.count().plot.bar()\n"
     ]
    },
    {
     "data": {
      "text/plain": [
       "<Axes: xlabel='time'>"
      ]
     },
     "execution_count": 19,
     "metadata": {},
     "output_type": "execute_result"
    },
    {
     "data": {
      "image/png": "[encoded data removed]",
      "text/plain": [
       "<Figure size 640x480 with 1 Axes>"
      ]
     },
     "metadata": {},
     "output_type": "display_data"
    }
   ],
   "source": [
    "df_1min.loc[mask_data, ['time', 'target']].groupby(pd.Grouper(key='time', freq='M')).target.count().plot.bar()"
   ]
  },
  {
   "cell_type": "code",
   "execution_count": null,
   "id": "c20abf1c-e42e-4b0f-8a39-dbfb069e6070",
   "metadata": {
    "id": "c20abf1c-e42e-4b0f-8a39-dbfb069e6070"
   },
   "outputs": [],
   "source": []
  },
  {
   "cell_type": "code",
   "execution_count": null,
   "id": "21921a29-5e2f-4de7-b6b7-8deeaef28fdb",
   "metadata": {
    "id": "21921a29-5e2f-4de7-b6b7-8deeaef28fdb"
   },
   "outputs": [],
   "source": []
  },
  {
   "cell_type": "code",
   "execution_count": 20,
   "id": "f0ee2b61-f46b-4b29-b5f3-e6c08d9b953b",
   "metadata": {
    "id": "f0ee2b61-f46b-4b29-b5f3-e6c08d9b953b"
   },
   "outputs": [],
   "source": [
    "#indexes\n",
    "\n",
    "inds_train = df_1min.index[mask_train].values\n",
    "inds_valid = df_1min.index[mask_valid].values\n",
    "inds_test = df_1min.index[mask_test].values\n",
    "inds_test2 = df_1min.index[mask_test2].values"
   ]
  },
  {
   "cell_type": "code",
   "execution_count": 21,
   "id": "9ecf4f4e-a20d-485b-a6ab-6209a3bd3ea5",
   "metadata": {
    "colab": {
     "base_uri": "https://localhost:8080/"
    },
    "id": "9ecf4f4e-a20d-485b-a6ab-6209a3bd3ea5",
    "outputId": "e06a8618-74d9-4a1b-e527-208c7f12820a"
   },
   "outputs": [
    {
     "data": {
      "text/plain": [
       "array([ 208476,  208477,  208478, ..., 7752162, 7752163, 7752164])"
      ]
     },
     "execution_count": 21,
     "metadata": {},
     "output_type": "execute_result"
    }
   ],
   "source": [
    "inds_train"
   ]
  },
  {
   "cell_type": "code",
   "execution_count": null,
   "id": "cea07275-c394-4c37-942b-8657225aa772",
   "metadata": {
    "id": "cea07275-c394-4c37-942b-8657225aa772"
   },
   "outputs": [],
   "source": []
  },
  {
   "cell_type": "code",
   "execution_count": 22,
   "id": "59edcf5f-87da-4e09-b94a-6e84edd80e81",
   "metadata": {
    "id": "59edcf5f-87da-4e09-b94a-6e84edd80e81"
   },
   "outputs": [],
   "source": [
    "#проверим, что все индексы валидны\n",
    "#у каждой точки должно быть 200 точек назад (минут, 5минут, часов, дней)"
   ]
  },
  {
   "cell_type": "code",
   "execution_count": 23,
   "id": "2fb03051-0e35-4731-b689-8b99a1dba676",
   "metadata": {
    "colab": {
     "base_uri": "https://localhost:8080/",
     "height": 313
    },
    "id": "2fb03051-0e35-4731-b689-8b99a1dba676",
    "outputId": "b213b3fc-2127-4f64-9557-f4a0b2e1ce5e"
   },
   "outputs": [
    {
     "data": {
      "text/html": [
       "<div>\n",
       "<style scoped>\n",
       "    .dataframe tbody tr th:only-of-type {\n",
       "        vertical-align: middle;\n",
       "    }\n",
       "\n",
       "    .dataframe tbody tr th {\n",
       "        vertical-align: top;\n",
       "    }\n",
       "\n",
       "    .dataframe thead th {\n",
       "        text-align: right;\n",
       "    }\n",
       "</style>\n",
       "<table border=\"1\" class=\"dataframe\">\n",
       "  <thead>\n",
       "    <tr style=\"text-align: right;\">\n",
       "      <th></th>\n",
       "      <th>time</th>\n",
       "      <th>open</th>\n",
       "      <th>close</th>\n",
       "      <th>volume</th>\n",
       "      <th>low</th>\n",
       "      <th>high</th>\n",
       "      <th>ticker</th>\n",
       "      <th>index_1min_start</th>\n",
       "      <th>index_5min</th>\n",
       "      <th>index_start_5min</th>\n",
       "      <th>index_1hour</th>\n",
       "      <th>index_start_1hour</th>\n",
       "      <th>index_1day</th>\n",
       "      <th>index_start_1day</th>\n",
       "      <th>result</th>\n",
       "      <th>delta_time</th>\n",
       "      <th>target</th>\n",
       "    </tr>\n",
       "  </thead>\n",
       "  <tbody>\n",
       "    <tr>\n",
       "      <th>0</th>\n",
       "      <td>2022-10-03 10:01:00</td>\n",
       "      <td>219.00</td>\n",
       "      <td>219.93</td>\n",
       "      <td>87793.0</td>\n",
       "      <td>218.00</td>\n",
       "      <td>220.25</td>\n",
       "      <td>GAZP</td>\n",
       "      <td>0</td>\n",
       "      <td>NaN</td>\n",
       "      <td>NaN</td>\n",
       "      <td>NaN</td>\n",
       "      <td>NaN</td>\n",
       "      <td>NaN</td>\n",
       "      <td>NaN</td>\n",
       "      <td>LOSE</td>\n",
       "      <td>0 days 00:04:00</td>\n",
       "      <td>0</td>\n",
       "    </tr>\n",
       "    <tr>\n",
       "      <th>1</th>\n",
       "      <td>2022-10-03 10:02:00</td>\n",
       "      <td>219.80</td>\n",
       "      <td>220.80</td>\n",
       "      <td>61549.0</td>\n",
       "      <td>219.70</td>\n",
       "      <td>220.55</td>\n",
       "      <td>GAZP</td>\n",
       "      <td>0</td>\n",
       "      <td>NaN</td>\n",
       "      <td>NaN</td>\n",
       "      <td>NaN</td>\n",
       "      <td>NaN</td>\n",
       "      <td>NaN</td>\n",
       "      <td>NaN</td>\n",
       "      <td>LOSE</td>\n",
       "      <td>0 days 00:01:00</td>\n",
       "      <td>0</td>\n",
       "    </tr>\n",
       "    <tr>\n",
       "      <th>2</th>\n",
       "      <td>2022-10-03 10:03:00</td>\n",
       "      <td>220.24</td>\n",
       "      <td>219.34</td>\n",
       "      <td>52640.0</td>\n",
       "      <td>219.20</td>\n",
       "      <td>220.38</td>\n",
       "      <td>GAZP</td>\n",
       "      <td>0</td>\n",
       "      <td>NaN</td>\n",
       "      <td>NaN</td>\n",
       "      <td>NaN</td>\n",
       "      <td>NaN</td>\n",
       "      <td>NaN</td>\n",
       "      <td>NaN</td>\n",
       "      <td>LOSE</td>\n",
       "      <td>0 days 00:03:00</td>\n",
       "      <td>0</td>\n",
       "    </tr>\n",
       "    <tr>\n",
       "      <th>3</th>\n",
       "      <td>2022-10-03 10:04:00</td>\n",
       "      <td>219.17</td>\n",
       "      <td>218.96</td>\n",
       "      <td>61506.0</td>\n",
       "      <td>217.70</td>\n",
       "      <td>219.40</td>\n",
       "      <td>GAZP</td>\n",
       "      <td>0</td>\n",
       "      <td>NaN</td>\n",
       "      <td>NaN</td>\n",
       "      <td>NaN</td>\n",
       "      <td>NaN</td>\n",
       "      <td>NaN</td>\n",
       "      <td>NaN</td>\n",
       "      <td>LOSE</td>\n",
       "      <td>0 days 00:02:00</td>\n",
       "      <td>0</td>\n",
       "    </tr>\n",
       "    <tr>\n",
       "      <th>4</th>\n",
       "      <td>2022-10-03 10:05:00</td>\n",
       "      <td>218.82</td>\n",
       "      <td>218.30</td>\n",
       "      <td>51464.0</td>\n",
       "      <td>217.76</td>\n",
       "      <td>218.96</td>\n",
       "      <td>GAZP</td>\n",
       "      <td>0</td>\n",
       "      <td>0.0</td>\n",
       "      <td>0</td>\n",
       "      <td>NaN</td>\n",
       "      <td>NaN</td>\n",
       "      <td>NaN</td>\n",
       "      <td>NaN</td>\n",
       "      <td>LOSE</td>\n",
       "      <td>0 days 00:07:00</td>\n",
       "      <td>0</td>\n",
       "    </tr>\n",
       "  </tbody>\n",
       "</table>\n",
       "</div>"
      ],
      "text/plain": [
       "                 time    open   close   volume     low    high ticker  \\\n",
       "0 2022-10-03 10:01:00  219.00  219.93  87793.0  218.00  220.25   GAZP   \n",
       "1 2022-10-03 10:02:00  219.80  220.80  61549.0  219.70  220.55   GAZP   \n",
       "2 2022-10-03 10:03:00  220.24  219.34  52640.0  219.20  220.38   GAZP   \n",
       "3 2022-10-03 10:04:00  219.17  218.96  61506.0  217.70  219.40   GAZP   \n",
       "4 2022-10-03 10:05:00  218.82  218.30  51464.0  217.76  218.96   GAZP   \n",
       "\n",
       "  index_1min_start  index_5min index_start_5min  index_1hour  \\\n",
       "0                0         NaN              NaN          NaN   \n",
       "1                0         NaN              NaN          NaN   \n",
       "2                0         NaN              NaN          NaN   \n",
       "3                0         NaN              NaN          NaN   \n",
       "4                0         0.0                0          NaN   \n",
       "\n",
       "  index_start_1hour  index_1day index_start_1day result      delta_time  \\\n",
       "0               NaN         NaN              NaN   LOSE 0 days 00:04:00   \n",
       "1               NaN         NaN              NaN   LOSE 0 days 00:01:00   \n",
       "2               NaN         NaN              NaN   LOSE 0 days 00:03:00   \n",
       "3               NaN         NaN              NaN   LOSE 0 days 00:02:00   \n",
       "4               NaN         NaN              NaN   LOSE 0 days 00:07:00   \n",
       "\n",
       "   target  \n",
       "0       0  \n",
       "1       0  \n",
       "2       0  \n",
       "3       0  \n",
       "4       0  "
      ]
     },
     "execution_count": 23,
     "metadata": {},
     "output_type": "execute_result"
    }
   ],
   "source": [
    "df_1min.head()"
   ]
  },
  {
   "cell_type": "code",
   "execution_count": 24,
   "id": "5aaecf16-c4a9-4acb-b413-95cf0c815cce",
   "metadata": {
    "id": "5aaecf16-c4a9-4acb-b413-95cf0c815cce"
   },
   "outputs": [],
   "source": [
    "def check_valid_inds(inds, df_1min, len_seq=200):\n",
    "    ind_1min_start = df_1min.loc[inds, 'index_1min_start'].values.astype(int)\n",
    "    ind_1min_end = inds.astype(int)\n",
    "    assert (~np.isnan(ind_1min_start)).all() & (~np.isnan(ind_1min_end)).all() &\\\n",
    "                                               ((ind_1min_end - ind_1min_start + 1) >= len_seq).all(), 'Error: 1min'\n",
    "\n",
    "    ind_5min_start = df_1min.loc[inds, 'index_start_5min'].values.astype(int)\n",
    "    ind_5min_end = df_1min.loc[inds, 'index_5min'].values.astype(int)\n",
    "    assert (~np.isnan(ind_5min_start)).all() & (~np.isnan(ind_5min_end)).all() &\\\n",
    "                                                ((ind_5min_end - ind_5min_start + 1) >= len_seq).all(), 'Error: 5min'\n",
    "\n",
    "    ind_1hour_start = df_1min.loc[inds, 'index_start_1hour'].values.astype(int)\n",
    "    ind_1hour_end = df_1min.loc[inds, 'index_1hour'].values.astype(int)\n",
    "    assert (~np.isnan(ind_1hour_start)).all() & (~np.isnan(ind_1hour_end)).all() &\\\n",
    "                                                ((ind_1hour_end - ind_1hour_start + 1) >= len_seq).all(), 'Error: 1hour'\n",
    "\n",
    "    ind_1day_start = df_1min.loc[inds, 'index_start_1day'].values.astype(int)\n",
    "    ind_1day_end = df_1min.loc[inds, 'index_1day'].values.astype(int)\n",
    "    assert (~np.isnan(ind_1day_start)).all() & (~np.isnan(ind_1day_end)).all() &\\\n",
    "                                                ((ind_1day_end - ind_1day_start + 1) >= len_seq).all(), 'Error: 1day'\n",
    "\n",
    "    return 'All Good'\n"
   ]
  },
  {
   "cell_type": "code",
   "execution_count": 25,
   "id": "41bf3359-145f-403c-9907-2846c6f3b82a",
   "metadata": {
    "colab": {
     "base_uri": "https://localhost:8080/",
     "height": 36
    },
    "id": "41bf3359-145f-403c-9907-2846c6f3b82a",
    "outputId": "72d777fd-ac3a-4b1c-fcaa-4f117b41f8bc"
   },
   "outputs": [
    {
     "data": {
      "text/plain": [
       "'All Good'"
      ]
     },
     "execution_count": 25,
     "metadata": {},
     "output_type": "execute_result"
    }
   ],
   "source": [
    "check_valid_inds(inds_train, df_1min, len_seq=200)"
   ]
  },
  {
   "cell_type": "code",
   "execution_count": 26,
   "id": "924ddf59-2e5c-491e-9490-ad0e44dba370",
   "metadata": {
    "colab": {
     "base_uri": "https://localhost:8080/",
     "height": 36
    },
    "id": "924ddf59-2e5c-491e-9490-ad0e44dba370",
    "outputId": "36444d37-e62a-4750-fb80-7938379e97cd"
   },
   "outputs": [
    {
     "data": {
      "text/plain": [
       "'All Good'"
      ]
     },
     "execution_count": 26,
     "metadata": {},
     "output_type": "execute_result"
    }
   ],
   "source": [
    "check_valid_inds(inds_valid, df_1min, len_seq=200)"
   ]
  },
  {
   "cell_type": "code",
   "execution_count": 27,
   "id": "af262314-f246-4911-9582-095c8931c75d",
   "metadata": {
    "colab": {
     "base_uri": "https://localhost:8080/",
     "height": 36
    },
    "id": "af262314-f246-4911-9582-095c8931c75d",
    "outputId": "dd560246-24ba-40d0-862f-4ce6f43001f8"
   },
   "outputs": [
    {
     "data": {
      "text/plain": [
       "'All Good'"
      ]
     },
     "execution_count": 27,
     "metadata": {},
     "output_type": "execute_result"
    }
   ],
   "source": [
    "check_valid_inds(inds_test, df_1min, len_seq=200)"
   ]
  },
  {
   "cell_type": "code",
   "execution_count": 28,
   "id": "d2189c69-1e62-470c-80a3-b838cd93dd53",
   "metadata": {
    "colab": {
     "base_uri": "https://localhost:8080/",
     "height": 36
    },
    "id": "d2189c69-1e62-470c-80a3-b838cd93dd53",
    "outputId": "7e67de69-0ac6-4b27-a04d-a557b7e2c8b1"
   },
   "outputs": [
    {
     "data": {
      "text/plain": [
       "'All Good'"
      ]
     },
     "execution_count": 28,
     "metadata": {},
     "output_type": "execute_result"
    }
   ],
   "source": [
    "check_valid_inds(inds_test2, df_1min, len_seq=200)"
   ]
  },
  {
   "cell_type": "code",
   "execution_count": null,
   "id": "68eab8ea-ef80-420c-baff-8154f7163bfb",
   "metadata": {
    "id": "68eab8ea-ef80-420c-baff-8154f7163bfb"
   },
   "outputs": [],
   "source": []
  },
  {
   "cell_type": "code",
   "execution_count": null,
   "id": "cd0fb41b-88f2-493b-ba89-96e4edeff7ee",
   "metadata": {
    "id": "cd0fb41b-88f2-493b-ba89-96e4edeff7ee"
   },
   "outputs": [],
   "source": []
  },
  {
   "cell_type": "markdown",
   "id": "fe1d598a-a3fc-4035-a7ea-776dbf5260eb",
   "metadata": {
    "id": "fe1d598a-a3fc-4035-a7ea-776dbf5260eb"
   },
   "source": [
    "### 4. Model Three"
   ]
  },
  {
   "cell_type": "code",
   "execution_count": 29,
   "id": "b0847cbe-4a05-4a27-83cc-ff97385a4553",
   "metadata": {
    "colab": {
     "base_uri": "https://localhost:8080/"
    },
    "id": "b0847cbe-4a05-4a27-83cc-ff97385a4553",
    "outputId": "5aef2352-c3c0-4500-8c94-eff482272295"
   },
   "outputs": [
    {
     "name": "stdout",
     "output_type": "stream",
     "text": [
      "TensorFlow version: 2.18.0\n"
     ]
    }
   ],
   "source": [
    "import tensorflow as tf\n",
    "print(\"TensorFlow version:\", tf.__version__)"
   ]
  },
  {
   "cell_type": "code",
   "execution_count": 30,
   "id": "ea01c083-550d-4c04-b7d3-6b14dcdf4a32",
   "metadata": {
    "id": "ea01c083-550d-4c04-b7d3-6b14dcdf4a32"
   },
   "outputs": [],
   "source": [
    "df_1min['ticker_code'] = df_1min['ticker'].astype('category').cat.codes"
   ]
  },
  {
   "cell_type": "code",
   "execution_count": 31,
   "id": "4763e92d-b573-407a-accf-b2af1cf85419",
   "metadata": {
    "colab": {
     "base_uri": "https://localhost:8080/",
     "height": 680
    },
    "id": "4763e92d-b573-407a-accf-b2af1cf85419",
    "outputId": "dd8cd5a8-7c98-46ab-c20f-fae691b84dce"
   },
   "outputs": [
    {
     "data": {
      "text/plain": [
       "ticker_code\n",
       "2     447059\n",
       "11    446997\n",
       "13    446747\n",
       "4     444970\n",
       "9     443270\n",
       "15    442772\n",
       "5     442355\n",
       "0     442155\n",
       "1     440282\n",
       "12    436866\n",
       "8     436514\n",
       "10    432950\n",
       "6     431898\n",
       "7     429839\n",
       "3     427247\n",
       "16    422797\n",
       "17    420498\n",
       "14    412130\n",
       "Name: count, dtype: int64"
      ]
     },
     "execution_count": 31,
     "metadata": {},
     "output_type": "execute_result"
    }
   ],
   "source": [
    "df_1min['ticker_code'].value_counts()"
   ]
  },
  {
   "cell_type": "code",
   "execution_count": 32,
   "id": "cc767f72-c361-4cc7-8b4b-afe2abd6dbda",
   "metadata": {
    "colab": {
     "base_uri": "https://localhost:8080/"
    },
    "id": "cc767f72-c361-4cc7-8b4b-afe2abd6dbda",
    "outputId": "ad686f02-065e-4dd2-acee-2305ee57d474"
   },
   "outputs": [
    {
     "data": {
      "text/plain": [
       "17"
      ]
     },
     "execution_count": 32,
     "metadata": {},
     "output_type": "execute_result"
    }
   ],
   "source": [
    "df_1min['ticker_code'].max()"
   ]
  },
  {
   "cell_type": "code",
   "execution_count": 33,
   "id": "0047133a-6a97-49c9-9338-0321f931bb8b",
   "metadata": {
    "colab": {
     "base_uri": "https://localhost:8080/",
     "height": 680
    },
    "id": "0047133a-6a97-49c9-9338-0321f931bb8b",
    "outputId": "077f97a4-c1d9-4f16-f7f4-687f5bbd72a3"
   },
   "outputs": [
    {
     "data": {
      "text/plain": [
       "ticker\n",
       "GAZP    447059\n",
       "ROSN    446997\n",
       "SBER    446747\n",
       "LKOH    444970\n",
       "NVTK    443270\n",
       "TATN    442772\n",
       "MAGN    442355\n",
       "ALRS    442155\n",
       "CHMF    440282\n",
       "RUAL    436866\n",
       "NLMK    436514\n",
       "OZON    432950\n",
       "MGNT    431898\n",
       "MTSS    429839\n",
       "GMKN    427247\n",
       "TCSG    422797\n",
       "YDEX    420498\n",
       "SNGS    412130\n",
       "Name: count, dtype: int64"
      ]
     },
     "execution_count": 33,
     "metadata": {},
     "output_type": "execute_result"
    }
   ],
   "source": [
    "df_1min['ticker'].value_counts()"
   ]
  },
  {
   "cell_type": "code",
   "execution_count": 34,
   "id": "71d483dc-c3f4-4287-984e-236e5c40b975",
   "metadata": {
    "colab": {
     "base_uri": "https://localhost:8080/"
    },
    "id": "71d483dc-c3f4-4287-984e-236e5c40b975",
    "outputId": "2ba126e9-75d8-4c5f-9ef3-36a48e7d4305"
   },
   "outputs": [
    {
     "data": {
      "text/plain": [
       "{0: 'ALRS',\n",
       " 1: 'CHMF',\n",
       " 2: 'GAZP',\n",
       " 3: 'GMKN',\n",
       " 4: 'LKOH',\n",
       " 5: 'MAGN',\n",
       " 6: 'MGNT',\n",
       " 7: 'MTSS',\n",
       " 8: 'NLMK',\n",
       " 9: 'NVTK',\n",
       " 10: 'OZON',\n",
       " 11: 'ROSN',\n",
       " 12: 'RUAL',\n",
       " 13: 'SBER',\n",
       " 14: 'SNGS',\n",
       " 15: 'TATN',\n",
       " 16: 'TCSG',\n",
       " 17: 'YDEX'}"
      ]
     },
     "execution_count": 34,
     "metadata": {},
     "output_type": "execute_result"
    }
   ],
   "source": [
    "dict(enumerate(df_1min['ticker'].astype('category').cat.categories))"
   ]
  },
  {
   "cell_type": "code",
   "execution_count": null,
   "id": "ab22b290-0db5-4a61-8d5b-8a206103767d",
   "metadata": {
    "id": "ab22b290-0db5-4a61-8d5b-8a206103767d"
   },
   "outputs": [],
   "source": []
  },
  {
   "cell_type": "markdown",
   "id": "7dcb87a0-2104-44f2-bace-fe196494964f",
   "metadata": {
    "id": "7dcb87a0-2104-44f2-bace-fe196494964f"
   },
   "source": [
    "#### 4.1 PyDataset"
   ]
  },
  {
   "cell_type": "code",
   "execution_count": null,
   "id": "9a304cf9-1c98-42d8-b5d5-a2e8532a31fd",
   "metadata": {
    "id": "9a304cf9-1c98-42d8-b5d5-a2e8532a31fd"
   },
   "outputs": [],
   "source": []
  },
  {
   "cell_type": "code",
   "execution_count": 35,
   "id": "2d1df1f7-5299-4e3d-9810-bb1fc4572335",
   "metadata": {
    "id": "2d1df1f7-5299-4e3d-9810-bb1fc4572335"
   },
   "outputs": [],
   "source": [
    "class CandleData:\n",
    "    def __init__(self, df_1min, df_5min, df_1hour, df_1day):\n",
    "        self.df_1min = df_1min\n",
    "        self.df_5min = df_5min\n",
    "        self.df_1hour = df_1hour\n",
    "        self.df_1day = df_1day\n",
    "        self.make_np_arr_data()\n",
    "\n",
    "    def make_np_arr_data(self):\n",
    "        #time\n",
    "        time_cyclic = (self.df_1min['time'] - pd.to_datetime(self.df_1min['time'].dt.date) - pd.Timedelta('10:01:00')) / pd.Timedelta('13:49:00')\n",
    "        self.df_1min['sin_time'] = np.sin(time_cyclic * 2 * np.pi)\n",
    "        self.df_1min['cos_time'] = np.cos(time_cyclic * 2 * np.pi)\n",
    "\n",
    "        day_of_week_cyclic = np.minimum(self.df_1min['time'].dt.dayofweek, 4) / 4\n",
    "        self.df_1min['sin_day'] = np.sin(day_of_week_cyclic * 2 * np.pi)\n",
    "        self.df_1min['cos_day'] = np.cos(day_of_week_cyclic * 2 * np.pi)\n",
    "\n",
    "        #1min\n",
    "        cols_arr_1min = ['sin_time', 'cos_time', 'sin_day', 'cos_day',\n",
    "                         'open', 'close', 'volume', 'low', 'high']\n",
    "        self.arr_1min = np.array(self.df_1min[cols_arr_1min])\n",
    "\n",
    "        #cols index_slice\n",
    "        cols_index_time_slice = ['index_1min_start',\n",
    "                         'index_5min', 'index_start_5min',\n",
    "                         'index_1hour', 'index_start_1hour',\n",
    "                         'index_1day', 'index_start_1day']\n",
    "        self.index_time_slice_1min = np.array(self.df_1min[cols_index_time_slice])\n",
    "\n",
    "        #cols ticker\n",
    "        self.ticker_code_1min = np.array(self.df_1min['ticker_code'])\n",
    "\n",
    "        #5min\n",
    "        cols_arr_5min = ['open_5min', 'close_5min', 'volume_5min', 'low_5min', 'high_5min']\n",
    "        self.arr_5min = np.array(self.df_5min[cols_arr_5min])\n",
    "\n",
    "        #1hour\n",
    "        cols_arr_1hour = ['open_1hour', 'close_1hour', 'volume_1hour', 'low_1hour', 'high_1hour']\n",
    "        self.arr_1hour = np.array(self.df_1hour[cols_arr_1hour])\n",
    "\n",
    "        #1day\n",
    "        cols_arr_1day = ['open_1day', 'close_1day', 'volume_1day', 'low_1day', 'high_1day']\n",
    "        self.arr_1day = np.array(self.df_1day[cols_arr_1day])\n",
    "\n",
    "        #target\n",
    "        self.target_1min = df_1min['target'].values\n",
    "\n",
    "\n",
    "class dataset(tf.keras.utils.PyDataset):\n",
    "\n",
    "    def __init__(self, data, inds, count_samples=None, len_seq=200,  batch_size=32, shuffle=False, **kwargs):\n",
    "        super().__init__(**kwargs)\n",
    "        self.data = data\n",
    "        self.inds = inds\n",
    "        self.len_seq = len_seq\n",
    "        self.batch_size = batch_size\n",
    "        self.shuffle = shuffle\n",
    "        self.count_samples = count_samples\n",
    "\n",
    "        if self.shuffle:\n",
    "            self.inds = np.random.permutation(self.inds)\n",
    "\n",
    "    def __len__(self):\n",
    "        # Return number of batches.\n",
    "        if self.count_samples is None:\n",
    "            return math.ceil(len(self.inds) / self.batch_size)\n",
    "        else:\n",
    "            return math.ceil(self.count_samples / self.batch_size)\n",
    "\n",
    "    def __getitem__(self, idx):\n",
    "        # Return x, y for batch idx.\n",
    "        low = idx * self.batch_size\n",
    "        # Cap upper bound at array length; the last batch may be smaller\n",
    "        # if the total number of items is not a multiple of batch size.\n",
    "        high = min(low + self.batch_size, len(self.inds))\n",
    "        batch_inds = self.inds[low:high]\n",
    "\n",
    "\n",
    "        x_batch = []\n",
    "        x_batch_ticker_code = []\n",
    "        y_batch = []\n",
    "\n",
    "        for i in batch_inds:\n",
    "            # cols_index_time_slice = ['index_1min_start',\n",
    "            #              'index_5min', 'index_start_5min',\n",
    "            #              'index_1hour', 'index_start_1hour',\n",
    "            #              'index_1day', 'index_start_1day']\n",
    "            #1min\n",
    "            ind_high_1min = i+1\n",
    "            ind_low_1min = int(ind_high_1min - self.len_seq)\n",
    "            tensor_1min = self.data.arr_1min[ind_low_1min:ind_high_1min, :]\n",
    "\n",
    "            #5min\n",
    "            ind_high_5min = int(self.data.index_time_slice_1min[i, 1] + 1)\n",
    "            ind_low_5min = int(ind_high_5min - self.len_seq)\n",
    "            tensor_5min = self.data.arr_5min[ind_low_5min:ind_high_5min, :]\n",
    "\n",
    "            #1hour\n",
    "            ind_high_1hour = int(self.data.index_time_slice_1min[i, 3] + 1)\n",
    "            ind_low_1hour = int(ind_high_1hour - self.len_seq)\n",
    "            tensor_1hour = self.data.arr_1hour[ind_low_1hour:ind_high_1hour, :]\n",
    "\n",
    "            #1day\n",
    "            ind_high_1day = int(self.data.index_time_slice_1min[i, 5] + 1)\n",
    "            ind_low_1day =  int(ind_high_1day - self.len_seq)\n",
    "            tensor_1day = self.data.arr_1day[ind_low_1day:ind_high_1day, :]\n",
    "\n",
    "            #target\n",
    "            y = self.data.target_1min[i]\n",
    "\n",
    "            #ticker\n",
    "            ticker_code = self.data.ticker_code_1min[i]\n",
    "\n",
    "\n",
    "            x = np.concatenate((tensor_1min, tensor_5min, tensor_1hour, tensor_1day), axis=1)\n",
    "\n",
    "            x_batch += [x]\n",
    "            x_batch_ticker_code += [ticker_code]\n",
    "            y_batch += [y]\n",
    "\n",
    "        return {'input_numeric':  np.array(x_batch), 'input_ticker' : np.array(x_batch_ticker_code)}, np.array(y_batch)\n",
    "\n",
    "\n",
    "\n",
    "    def on_epoch_end(self):\n",
    "        if self.shuffle:\n",
    "            self.inds = np.random.permutation(self.inds)"
   ]
  },
  {
   "cell_type": "code",
   "execution_count": null,
   "id": "731f5a41-0996-4159-b956-b0a9910233cd",
   "metadata": {
    "id": "731f5a41-0996-4159-b956-b0a9910233cd"
   },
   "outputs": [],
   "source": []
  },
  {
   "cell_type": "code",
   "execution_count": null,
   "id": "e5b555f9-e9c7-4464-b0f8-2323c48d1a0d",
   "metadata": {
    "id": "e5b555f9-e9c7-4464-b0f8-2323c48d1a0d"
   },
   "outputs": [],
   "source": []
  },
  {
   "cell_type": "code",
   "execution_count": 36,
   "id": "e882a733-72ce-40dc-ae5a-4e8d6a998d31",
   "metadata": {
    "id": "e882a733-72ce-40dc-ae5a-4e8d6a998d31"
   },
   "outputs": [],
   "source": [
    "data = CandleData(df_1min, df_5min, df_1hour, df_1day)\n",
    "\n",
    "\n",
    "dataset_train = dataset(data, inds_train, count_samples=64*10_000, len_seq=200, batch_size=64, shuffle=True)\n",
    "dataset_valid = dataset(data, inds_valid, len_seq=200, batch_size=64, shuffle=False)\n",
    "dataset_test = dataset(data, inds_test, len_seq=200, batch_size=64, shuffle=False)\n",
    "dataset_test2 = dataset(data, inds_test2, len_seq=200, batch_size=64, shuffle=False)"
   ]
  },
  {
   "cell_type": "code",
   "execution_count": 37,
   "id": "535ea209-b85f-45cf-8acf-4a1920663cad",
   "metadata": {
    "colab": {
     "base_uri": "https://localhost:8080/"
    },
    "id": "535ea209-b85f-45cf-8acf-4a1920663cad",
    "outputId": "0a202250-73a2-4ee5-eb80-32e335b028d9"
   },
   "outputs": [
    {
     "data": {
      "text/plain": [
       "9334"
      ]
     },
     "execution_count": 37,
     "metadata": {},
     "output_type": "execute_result"
    }
   ],
   "source": [
    "len(dataset_valid)"
   ]
  },
  {
   "cell_type": "code",
   "execution_count": 38,
   "id": "e60dc6d7-d7ff-4d3a-b8e4-dbe111aaaec9",
   "metadata": {
    "id": "e60dc6d7-d7ff-4d3a-b8e4-dbe111aaaec9"
   },
   "outputs": [],
   "source": [
    "# inds_train_subsample = np.random.permutation(inds_train)[:500_000//500]\n",
    "# inds_valid_subsample = np.random.permutation(inds_valid)[:100_000//600]\n",
    "# inds_test_subsample = np.random.permutation(inds_test)[:100_000//800]\n",
    "# inds_test2_subsample = np.random.permutation(inds_test2)[:100_000//100]\n",
    "\n",
    "\n",
    "# dataset_train_subsample = dataset(data, inds_train_subsample, len_seq=200, batch_size=64, shuffle=False)\n",
    "# dataset_valid_subsample = dataset(data, inds_valid_subsample, len_seq=200, batch_size=64, shuffle=False)\n",
    "# dataset_test_subsample = dataset(data, inds_test_subsample, len_seq=200, batch_size=64, shuffle=False)\n",
    "# dataset_test2_subsample = dataset(data, inds_test2_subsample, len_seq=200, batch_size=64, shuffle=False)"
   ]
  },
  {
   "cell_type": "code",
   "execution_count": null,
   "id": "e35063fe-acd4-4812-a09b-2a823a60d8f7",
   "metadata": {
    "id": "e35063fe-acd4-4812-a09b-2a823a60d8f7"
   },
   "outputs": [],
   "source": []
  },
  {
   "cell_type": "code",
   "execution_count": null,
   "id": "e432d661-165d-4f2a-b888-da1ef440efed",
   "metadata": {
    "id": "e432d661-165d-4f2a-b888-da1ef440efed"
   },
   "outputs": [],
   "source": []
  },
  {
   "cell_type": "markdown",
   "id": "3cf6eeff-03a2-4432-9238-bdd15cc60725",
   "metadata": {
    "id": "3cf6eeff-03a2-4432-9238-bdd15cc60725"
   },
   "source": [
    "#### 4.2 Model"
   ]
  },
  {
   "cell_type": "code",
   "execution_count": null,
   "id": "59906f41-5ee1-42d3-a664-85b72804ff0f",
   "metadata": {
    "id": "59906f41-5ee1-42d3-a664-85b72804ff0f"
   },
   "outputs": [],
   "source": []
  },
  {
   "cell_type": "code",
   "execution_count": 39,
   "id": "81174979-948d-47fa-8437-9ad117367239",
   "metadata": {
    "id": "81174979-948d-47fa-8437-9ad117367239"
   },
   "outputs": [],
   "source": [
    "import tensorflow as tf\n",
    "from datetime import datetime\n",
    "from linformer.multihead_attention import MHAttention\n",
    "from linformer.util import get_EF"
   ]
  },
  {
   "cell_type": "code",
   "execution_count": 40,
   "id": "7da55d10-9863-4954-84c9-366d93372fc2",
   "metadata": {
    "id": "7da55d10-9863-4954-84c9-366d93372fc2"
   },
   "outputs": [],
   "source": [
    "import tensorflow as tf\n",
    "from linformer.util import identity, gen_causal_mask, get_EF, Residual, PositionalEmbedding, ProjectInOut, FeedForward\n",
    "from linformer.multihead_attention import MHAttention\n",
    "\n",
    "\n",
    "class Linformer(tf.keras.Model):\n",
    "    \"\"\"\n",
    "    Reproducing the Linformer Paper\n",
    "    https://arxiv.org/pdf/2006.04768.pdf\n",
    "\n",
    "    (1) get attention for each word\n",
    "    (2) apply add-normlization and residual network layer\n",
    "    (3) apply feed forward network layer\n",
    "    \"\"\"\n",
    "    def __init__(self, input_size, channels, dim_k, dim_ff=256, dim_d=None, dropout_ff=0.15,\n",
    "                 nhead=4, depth=1, dropout=0.1, activation=\"gelu\", parameter_sharing=\"layerwise\",\n",
    "                 k_reduce_by_layer=0, full_attention=False, include_ff=True, w_o_intermediate_dim=None, decoder_mode=False,\n",
    "                 causal=False, method=\"learnable\", ff_intermediate=None):\n",
    "        super(Linformer, self).__init__()\n",
    "        assert activation == \"gelu\" or activation == \"relu\", \"Only gelu and relu activations supported for now\"\n",
    "        assert parameter_sharing == \"none\" or parameter_sharing == \"headwise\" or parameter_sharing == \"kv\" or parameter_sharing == \"layerwise\", \"The `parameter_sharing` flag has to be either 'none', 'headwise', 'kv', or 'layerwise'.\"\n",
    "        assert channels % nhead == 0 if dim_d is None else True, \"If `dim_d` is not set to a custom value, `channels` must be divisible by `nhead`!\"\n",
    "        assert not (ff_intermediate and parameter_sharing==\"layerwise\"), \"Parameter sharing must not be layerwise if ff_intermediate is enabled!\"\n",
    "        assert not (ff_intermediate and decoder_mode), \"Raising the dimension in the middle cannot be done in the decoder!\"\n",
    "\n",
    "        layers = []\n",
    "        self.decoder_mode = decoder_mode\n",
    "        self.input_size = input_size\n",
    "        self.channels = channels\n",
    "        self.depth = depth\n",
    "        self.nhead = nhead\n",
    "\n",
    "        head_dim = channels // nhead if dim_d is None else dim_d\n",
    "\n",
    "        # used for layer-wise parameter sharing\n",
    "        E_proj = get_EF(input_size, dim_k, method, head_dim)\n",
    "\n",
    "        causal_mask = gen_causal_mask(input_size, dim_k, full_attention) if causal else None\n",
    "        # If we want causal but only with the encoder\n",
    "        causal_enc = gen_causal_mask(input_size, dim_k, full_attention) if (causal and not decoder_mode) else None\n",
    "\n",
    "        get_attn = lambda attn_channels, curr_dim_k: MHAttention(input_size, head_dim, attn_channels, curr_dim_k, nhead, dropout, parameter_sharing, E_proj, E_proj, full_attention, causal_enc, w_o_intermediate_dim, decoder_mode=False, method=method)\n",
    "        get_attn_context = lambda attn_channels, curr_dim_k: MHAttention(input_size, head_dim, attn_channels, curr_dim_k, nhead, dropout, parameter_sharing, E_proj, E_proj, full_attention, causal_mask, w_o_intermediate_dim, decoder_mode=True, method=method)\n",
    "        get_ff = lambda input_channels, output_channels: FeedForward(input_channels, output_channels, dim_ff, dropout_ff, activation)\n",
    "\n",
    "        for index in range(depth):\n",
    "            input_channels = ff_intermediate if (index != 0 and ff_intermediate is not None) and not decoder_mode else channels\n",
    "            output_channels = ff_intermediate if (index != depth-1 and ff_intermediate is not None) and not decoder_mode else channels\n",
    "            # TODO: Change the input and output channels here\n",
    "            attn_layer = get_attn(input_channels, max(1, dim_k - index*k_reduce_by_layer))\n",
    "            ff_layer = get_ff(input_channels, output_channels)\n",
    "\n",
    "            attn_layer, ff_layer = map(lambda res_ch_in, res_ch_out, fn: Residual(fn, res_ch_in, res_ch_out), (input_channels, input_channels), (input_channels, output_channels), (attn_layer, ff_layer))\n",
    "\n",
    "            if include_ff:\n",
    "                layers.append(attn_layer)\n",
    "                layers.append(ff_layer)\n",
    "            else:\n",
    "                layers.append(attn_layer)\n",
    "\n",
    "            if not self.decoder_mode:\n",
    "                continue\n",
    "\n",
    "            attn_context = get_attn_context(channels, max(1, dim_k - index*k_reduce_by_layer))\n",
    "            ff_context = get_ff(channels, channels)\n",
    "\n",
    "            attn_context, ff_context = map(lambda fn: Residual(fn, channels, channels), (attn_context, ff_context))\n",
    "\n",
    "            if include_ff:\n",
    "                layers.append(attn_context)\n",
    "                layers.append(ff_context)\n",
    "            else:\n",
    "                layers.append(attn_context)\n",
    "\n",
    "        self.seq = layers\n",
    "\n",
    "    def call(self, tensor, **kwargs):\n",
    "        \"\"\"\n",
    "        Input is (batch_size, seq_len, channels)\n",
    "        \"\"\"\n",
    "        _, n, c = tensor.shape # [batch_size, window_size, channel_size]\n",
    "        assert n == self.input_size, \"This tensor is of the wrong size. Dimension 1 has to match the `input_size` flag\"\n",
    "        assert c == self.channels, \"This tensor is of the wrong size. Dimension 2 has to match the `channels` flag\"\n",
    "        assert \"embeddings\" not in kwargs or self.decoder_mode, \"If decoding, needs to be initialized with `decoder_mode=True`\"\n",
    "\n",
    "        for layer in self.seq:\n",
    "            tensor = layer(tensor, **kwargs)\n",
    "        return tensor\n",
    "\n",
    "\n",
    "class LinformerLM(tf.keras.Model):\n",
    "    \"\"\"\n",
    "    A wrapper function to accept LM tasks, inspired by https://github.com/lucidrains/sinkhorn-transformer\n",
    "    Five layer as this transformer:\n",
    "    (1) embed each word in the input batch of sentences\n",
    "    (2) apply positional embedding to embedding word vector\n",
    "    (3) dropout layer\n",
    "    (4) linear transformer layer\n",
    "    (5) return logit if in decoder; otherwise, return encode_txt\n",
    "    \"\"\"\n",
    "    def __init__(self, num_tokens, input_size, channels,\n",
    "                       dim_k=64, dim_ff=1024, dim_d=None,\n",
    "                       dropout_ff=0.1, dropout_tokens=0.1, nhead=4, depth=2, ff_intermediate=None,\n",
    "                       dropout=0.05, activation=\"gelu\",\n",
    "                       parameter_sharing=\"layerwise\", k_reduce_by_layer=0, full_attention=False,\n",
    "                       include_ff=True, w_o_intermediate_dim=None, emb_dim=None,\n",
    "                       return_emb=False, decoder_mode=False, causal=False, method=\"learnable\"):\n",
    "        super(LinformerLM, self).__init__()\n",
    "        emb_dim = channels if emb_dim is None else emb_dim\n",
    "\n",
    "        self.input_size = input_size\n",
    "\n",
    "        #self.to_token_emb = tf.keras.layers.Embedding(num_tokens, emb_dim)\n",
    "        self.pos_emb = PositionalEmbedding(emb_dim)\n",
    "        self.dropout_tokens = tf.keras.layers.Dropout(dropout_tokens)\n",
    "        self.linformer = Linformer(input_size, channels, dim_k=dim_k,\n",
    "                                   dim_ff=dim_ff, dim_d=dim_d, dropout_ff=dropout_ff,\n",
    "                                   nhead=nhead, depth=depth, dropout=dropout, ff_intermediate=ff_intermediate,\n",
    "                                   activation=activation, parameter_sharing=parameter_sharing,\n",
    "                                   k_reduce_by_layer=k_reduce_by_layer, full_attention=full_attention, include_ff=include_ff,\n",
    "                                   w_o_intermediate_dim=w_o_intermediate_dim, decoder_mode=decoder_mode, causal=causal, method=method)\n",
    "\n",
    "        if emb_dim != channels:\n",
    "            self.linformer = ProjectInOut(self.linformer, emb_dim, channels)\n",
    "\n",
    "        self.to_logits = identity if return_emb else tf.keras.layers.Dense(num_tokens, activation='softmax')\n",
    "\n",
    "    def call(self, tensor, **kwargs):\n",
    "        \"\"\"\n",
    "        Input is (batch_size, seq_len), and all items are ints from [0, num_tokens-1]\n",
    "        \"\"\"\n",
    "        #tensor = self.to_token_emb(tensor)\n",
    "        tensor = self.pos_emb(tensor) + tensor\n",
    "        tensor = self.dropout_tokens(tensor)\n",
    "        tensor = self.linformer(tensor, **kwargs)\n",
    "        tensor = self.to_logits(tensor)\n",
    "        return tensor\n",
    "\n",
    "\n",
    "class LinformerEnc(tf.keras.Model):\n",
    "    \"\"\"\n",
    "    A complete seq -> seq translation task. Complete with an encoder and a decoder module.\n",
    "    Top Level of encoder & decder seq2seq model\n",
    "    \"\"\"\n",
    "    def __init__(self, enc_num_tokens, enc_input_size, enc_channels,# dec_num_tokens, dec_input_size, dec_channels,\n",
    "                       enc_dim_k=64, enc_dim_ff=1024, enc_dim_d=None, enc_ff_intermediate=None,# dec_ff_intermediate=None,\n",
    "                       enc_dropout_ff=0.1, enc_nhead=4, enc_depth=2, enc_dropout=0.05, enc_parameter_sharing=\"layerwise\", enc_k_reduce_by_layer=0,\n",
    "                       enc_full_attention=False, enc_include_ff=True, enc_w_o_intermediate_dim=None, enc_emb_dim=None, enc_method=\"learnable\",\n",
    "                       # dec_dim_k=64, dec_dim_ff=1024, dec_dim_d=None, dec_dropout_ff=0.1, dec_nhead=4, dec_depth=2, dec_dropout=0.05,\n",
    "                       # dec_parameter_sharing=\"layerwise\", dec_k_reduce_by_layer=0, dec_full_attention=False, dec_include_ff=True,\n",
    "                       # dec_w_o_intermediate_dim=None, dec_emb_dim=None, dec_method=\"learnable\",\n",
    "                 activation=\"gelu\", **kwargs\n",
    "                ):\n",
    "\n",
    "        super(LinformerEnc, self).__init__(**kwargs)\n",
    "\n",
    "        self.enc_num_tokens = enc_num_tokens\n",
    "        self.enc_input_size = enc_input_size\n",
    "        self.enc_channels = enc_channels\n",
    "        self.enc_full_attention = enc_full_attention\n",
    "        self.enc_dim_k = enc_dim_k\n",
    "        self.enc_dim_d = enc_dim_d\n",
    "        self.enc_dim_ff = enc_dim_ff\n",
    "        self.enc_nhead = enc_nhead\n",
    "        self.enc_depth = enc_depth\n",
    "        self.enc_dropout_ff = enc_dropout_ff\n",
    "        self.enc_dropout = enc_dropout\n",
    "        self.enc_parameter_sharing = enc_parameter_sharing\n",
    "        self.activation = activation\n",
    "\n",
    "\n",
    "\n",
    "\n",
    "\n",
    "        # optimizer and batch size\n",
    "        # self.optimizer = tf.keras.optimizers.Adam(learning_rate=learning_rate)\n",
    "        self.encoder = LinformerLM(num_tokens=enc_num_tokens, input_size=enc_input_size, channels=enc_channels, dim_d=enc_dim_d, dim_ff=enc_dim_ff,\n",
    "                                   dim_k=enc_dim_k, dropout_ff=enc_dropout_ff, nhead=enc_nhead, depth=enc_depth, dropout=enc_dropout,\n",
    "                                   parameter_sharing=enc_parameter_sharing, k_reduce_by_layer=enc_k_reduce_by_layer, ff_intermediate=enc_ff_intermediate,\n",
    "                                   full_attention=enc_full_attention, include_ff=enc_include_ff, w_o_intermediate_dim=enc_w_o_intermediate_dim,\n",
    "                                   emb_dim=enc_emb_dim, return_emb=True, activation=activation, method=enc_method)\n",
    "        # self.decoder = LinformerLM(num_tokens=dec_num_tokens, input_size=dec_input_size, channels=dec_channels, dim_d=dec_dim_d, dim_ff=dec_dim_ff,\n",
    "        #                            dim_k=dec_dim_k, dropout_ff=dec_dropout_ff, nhead=dec_nhead, depth=dec_depth, dropout=dec_dropout, ff_intermediate=dec_ff_intermediate,\n",
    "        #                            parameter_sharing=dec_parameter_sharing, k_reduce_by_layer=dec_k_reduce_by_layer, method=dec_method,\n",
    "        #                            full_attention=dec_full_attention, include_ff=dec_include_ff, w_o_intermediate_dim=dec_w_o_intermediate_dim,\n",
    "        #                            emb_dim=dec_emb_dim, decoder_mode=True, causal=True, activation=activation)\n",
    "\n",
    "    def call(self, x, **kwargs):\n",
    "        \"\"\"\n",
    "        Input is (batch_size, input_size), and all items are ints from [0, num_tokens-1]\n",
    "        \"\"\"\n",
    "        return self.encoder(x, **kwargs)\n",
    "\n",
    "    #save and load part\n",
    "    def get_config(self):\n",
    "        config = super().get_config().copy()\n",
    "        config.update(\n",
    "            {\n",
    "            \"enc_num_tokens\" : self.enc_num_tokens,\n",
    "            \"enc_input_size\" : self.enc_input_size,\n",
    "            \"enc_channels\" : self.enc_channels ,\n",
    "            \"enc_full_attention\" : self.enc_full_attention ,\n",
    "            \"enc_dim_k\" : self.enc_dim_k ,\n",
    "            \"enc_dim_d\" : self.enc_dim_d ,\n",
    "            \"enc_dim_ff\" : self.enc_dim_ff ,\n",
    "            \"enc_nhead\" : self.enc_nhead ,\n",
    "            \"enc_depth\" : self.enc_depth ,\n",
    "            \"enc_dropout_ff\" : self.enc_dropout_ff ,\n",
    "            \"enc_dropout\" : self.enc_dropout,\n",
    "            \"enc_parameter_sharing\" : self.enc_parameter_sharing ,\n",
    "            \"activation\" : self.activation\n",
    "            }\n",
    "        )\n",
    "        return config\n",
    "\n",
    "    @classmethod\n",
    "    def from_config(cls,config):\n",
    "        return cls(**config)\n"
   ]
  },
  {
   "cell_type": "code",
   "execution_count": null,
   "id": "e7c4d0db-445d-4fab-80f0-68da66f9933a",
   "metadata": {
    "id": "e7c4d0db-445d-4fab-80f0-68da66f9933a"
   },
   "outputs": [],
   "source": []
  },
  {
   "cell_type": "code",
   "execution_count": null,
   "id": "18febcc2-3b14-4e87-aa77-387f89a64f5c",
   "metadata": {
    "id": "18febcc2-3b14-4e87-aa77-387f89a64f5c"
   },
   "outputs": [],
   "source": []
  },
  {
   "cell_type": "code",
   "execution_count": null,
   "id": "96de30c8-8b84-4661-ba76-114e3bb55e24",
   "metadata": {
    "id": "96de30c8-8b84-4661-ba76-114e3bb55e24"
   },
   "outputs": [],
   "source": []
  },
  {
   "cell_type": "code",
   "execution_count": null,
   "id": "4f90e0b3-997a-4504-a3e6-db7e3e2e8c75",
   "metadata": {
    "id": "4f90e0b3-997a-4504-a3e6-db7e3e2e8c75"
   },
   "outputs": [],
   "source": []
  },
  {
   "cell_type": "code",
   "execution_count": null,
   "id": "c8757f45-c7fd-4894-915f-4459c7c6f937",
   "metadata": {
    "id": "c8757f45-c7fd-4894-915f-4459c7c6f937"
   },
   "outputs": [],
   "source": []
  },
  {
   "cell_type": "code",
   "execution_count": null,
   "id": "e2b25b37-ed4b-4f4c-81d9-a840f383ecce",
   "metadata": {
    "id": "e2b25b37-ed4b-4f4c-81d9-a840f383ecce"
   },
   "outputs": [],
   "source": []
  },
  {
   "cell_type": "code",
   "execution_count": null,
   "id": "5c887257-229e-40d1-b202-aa6e9e07fded",
   "metadata": {
    "id": "5c887257-229e-40d1-b202-aa6e9e07fded"
   },
   "outputs": [],
   "source": []
  },
  {
   "cell_type": "code",
   "execution_count": 41,
   "id": "87ac93cb-e412-4a37-9fad-8cdb196dd425",
   "metadata": {
    "id": "87ac93cb-e412-4a37-9fad-8cdb196dd425"
   },
   "outputs": [],
   "source": [
    "#DIM_K = 8 - 35 min (67k param)\n",
    "#layerwise DIM_K = 38 -  min (67k param)\n",
    "#headwise DIM_K = 35 -  min (67k param)\n",
    "\n",
    "#DIM_K = 32 - 50 min (72k param)\n",
    "#DIM_K = 64 - 1.10 min (75k param)\n",
    "#DIM_K = 200 - 2.50 min (105k param)\n",
    "\n",
    "#attention=True DIM_K = 32 - 1.20min (65 param)"
   ]
  },
  {
   "cell_type": "code",
   "execution_count": null,
   "id": "24e87430-2588-4435-87c5-35720a25ab85",
   "metadata": {
    "id": "24e87430-2588-4435-87c5-35720a25ab85"
   },
   "outputs": [],
   "source": []
  },
  {
   "cell_type": "markdown",
   "id": "5c3029d2-759b-45a0-b7b0-c55abe1597cc",
   "metadata": {
    "id": "5c3029d2-759b-45a0-b7b0-c55abe1597cc"
   },
   "source": [
    "#### 4.3 WarmUpCosineDecay"
   ]
  },
  {
   "cell_type": "code",
   "execution_count": 42,
   "id": "fc9bdc1f-770b-4af1-ac3f-de0b9984a8ea",
   "metadata": {
    "id": "fc9bdc1f-770b-4af1-ac3f-de0b9984a8ea"
   },
   "outputs": [],
   "source": [
    "from tensorflow import keras\n",
    "\n",
    "def lr_warmup_cosine_decay(global_step,\n",
    "                           warmup_steps,\n",
    "                           hold = 0,\n",
    "                           total_steps=0,\n",
    "                           start_lr=0.0,\n",
    "                           target_lr=1e-3):\n",
    "    # Cosine decay\n",
    "    # There is no tf.pi so we wrap np.pi as a TF constant\n",
    "    #learning_rate = 0.5 * target_lr * (1 + tf.cos(tf.constant(np.pi) * (global_step - warmup_steps - hold) / float(total_steps - warmup_steps - hold)))\n",
    "    learning_rate = 0.5 * target_lr * (1 + tf.cos(tf.constant(np.pi) * tf.cast((global_step - warmup_steps - hold), tf.float32) / tf.cast(total_steps - warmup_steps - hold, tf.float32)))\n",
    "\n",
    "\n",
    "    # Target LR * progress of warmup (=1 at the final warmup step)\n",
    "    warmup_lr = target_lr * (global_step / warmup_steps)\n",
    "\n",
    "    # Choose between `warmup_lr`, `target_lr` and `learning_rate` based on whether `global_step < warmup_steps` and we're still holding.\n",
    "    # i.e. warm up if we're still warming up and use cosine decayed lr otherwise\n",
    "    if hold > 0:\n",
    "        learning_rate = tf.where(global_step > warmup_steps + hold,\n",
    "                                 learning_rate, target_lr)\n",
    "\n",
    "    learning_rate = tf.where(global_step < warmup_steps, warmup_lr, learning_rate)\n",
    "\n",
    "    return learning_rate\n",
    "\n",
    "\n",
    "class WarmUpCosineDecay(keras.optimizers.schedules.LearningRateSchedule):\n",
    "    def __init__(self, start_lr, target_lr, warmup_steps, total_steps, hold):\n",
    "        super().__init__()\n",
    "        self.start_lr = start_lr\n",
    "        self.target_lr = target_lr\n",
    "        self.warmup_steps = warmup_steps\n",
    "        self.total_steps = total_steps\n",
    "        self.hold = hold\n",
    "\n",
    "    def __call__(self, step):\n",
    "        lr = lr_warmup_cosine_decay(global_step=step,\n",
    "                                    total_steps=self.total_steps,\n",
    "                                    warmup_steps=self.warmup_steps,\n",
    "                                    start_lr=self.start_lr,\n",
    "                                    target_lr=self.target_lr,\n",
    "                                    hold=self.hold)\n",
    "\n",
    "        return tf.where(\n",
    "            step > self.total_steps, 0.0, lr, name=\"learning_rate\"\n",
    "        )\n",
    "    def get_config(self):\n",
    "        config = {\n",
    "          'start_lr': self.start_lr,\n",
    "          'target_lr': self.target_lr,\n",
    "          'warmup_steps': self.warmup_steps,\n",
    "          'total_steps': self.total_steps,\n",
    "          'hold': self.hold\n",
    "        }\n",
    "        return config\n",
    "\n"
   ]
  },
  {
   "cell_type": "code",
   "execution_count": null,
   "id": "2895fde1-004c-4432-8e07-31854dc32e17",
   "metadata": {
    "id": "2895fde1-004c-4432-8e07-31854dc32e17"
   },
   "outputs": [],
   "source": []
  },
  {
   "cell_type": "markdown",
   "id": "2785b48a-7912-4e28-9b81-01f2102ac9c1",
   "metadata": {
    "id": "2785b48a-7912-4e28-9b81-01f2102ac9c1"
   },
   "source": [
    "#### 4.4 Callbacks"
   ]
  },
  {
   "cell_type": "code",
   "execution_count": 43,
   "id": "57f56ee3-4de3-427e-a945-d6254ca32ad7",
   "metadata": {
    "id": "57f56ee3-4de3-427e-a945-d6254ca32ad7"
   },
   "outputs": [],
   "source": [
    "# метрики на конец эпохи"
   ]
  },
  {
   "cell_type": "code",
   "execution_count": 44,
   "id": "3d0f7791-22e4-41e8-b8c4-e3dbe55b68b5",
   "metadata": {
    "id": "3d0f7791-22e4-41e8-b8c4-e3dbe55b68b5"
   },
   "outputs": [],
   "source": [
    "def get_y_true(data):\n",
    "    return data.data.target_1min[data.inds[:len(data)*data.batch_size]]\n",
    "\n",
    "def precision(y_true, y_pred, threshold):\n",
    "    mask = y_pred.ravel() > threshold\n",
    "    return mask.sum(), y_true.ravel()[mask].mean()\n",
    "\n",
    "\n",
    "\n",
    "class MetricsCallback(keras.callbacks.Callback):\n",
    "    def __init__(self, datasets):\n",
    "        self.datasets = datasets\n",
    "        self.list_auc = []\n",
    "        self.list_precision = []\n",
    "        # self.list_percent = []\n",
    "        # self.list_count = []\n",
    "        super(MetricsCallback, self).__init__()\n",
    "\n",
    "    def on_epoch_end(self, epoch, logs=None):\n",
    "\n",
    "        list_y_true = []\n",
    "        list_y_pred = []\n",
    "\n",
    "        list_auc = []\n",
    "        list_precision = []\n",
    "        # list_count = []\n",
    "        # list_percent = []\n",
    "        for dataset in self.datasets:\n",
    "            y_true = get_y_true(dataset)\n",
    "            y_pred = self.model.predict(dataset)\n",
    "\n",
    "            list_auc += [roc_auc_score(y_true, y_pred)]\n",
    "            threshold = np.quantile(y_pred, q=0.99)\n",
    "            mask = y_pred.ravel() > threshold\n",
    "            list_precision += [y_true.ravel()[mask].mean()]\n",
    "\n",
    "\n",
    "#evaluate using one threshold\n",
    "        # for dataset in self.datasets:\n",
    "        #     y_true = get_y_true(dataset)\n",
    "        #     y_pred = self.model.predict(dataset)\n",
    "\n",
    "        #     list_y_true += [y_true]\n",
    "        #     list_y_pred += [y_pred]\n",
    "\n",
    "\n",
    "        # threshold = np.quantile(list_y_pred[1], q=0.99)\n",
    "\n",
    "        # for y_true, y_pred in zip(list_y_true, list_y_pred):\n",
    "        #     list_auc += [roc_auc_score(y_true, y_pred)]\n",
    "\n",
    "        #     mask = y_pred.ravel() > threshold\n",
    "        #     list_precision += [y_true.ravel()[mask].mean()]\n",
    "        #     list_count += [mask.sum()]\n",
    "        #     list_percent += [mask.mean()]\n",
    "\n",
    "        # del list_y_true, list_y_pred\n",
    "        # gc.collect()\n",
    "\n",
    "\n",
    "\n",
    "        self.list_auc += [list_auc.copy()]\n",
    "        self.list_precision += [list_precision.copy()]\n",
    "        # self.list_percent += [list_percent.copy()]\n",
    "        # self.list_count += [list_count.copy()]\n",
    "\n",
    "\n",
    "        print('AUC_ROC: ', np.round(list_auc, decimals=3).tolist())\n",
    "        # print('COUNT: ', np.round(list_count, decimals=3).tolist())\n",
    "        # print('PERCENT: ', np.round(list_percent, decimals=3).tolist())\n",
    "        print('PRECISION: ', np.round(list_precision, decimals=3).tolist())\n",
    "        print()\n",
    "\n",
    "\n"
   ]
  },
  {
   "cell_type": "markdown",
   "id": "UPYb1rTrXGmp",
   "metadata": {
    "id": "UPYb1rTrXGmp"
   },
   "source": []
  },
  {
   "cell_type": "code",
   "execution_count": null,
   "id": "b3063efa-6159-4264-94b5-1508b58bf807",
   "metadata": {
    "id": "b3063efa-6159-4264-94b5-1508b58bf807"
   },
   "outputs": [],
   "source": []
  },
  {
   "cell_type": "code",
   "execution_count": null,
   "id": "aa0f1dcf-19d8-444a-8cb0-05e08a323863",
   "metadata": {
    "id": "aa0f1dcf-19d8-444a-8cb0-05e08a323863"
   },
   "outputs": [],
   "source": []
  },
  {
   "cell_type": "markdown",
   "id": "7ba56dad-ea4c-4cf5-a78c-8d23f8058ea9",
   "metadata": {
    "id": "7ba56dad-ea4c-4cf5-a78c-8d23f8058ea9"
   },
   "source": [
    "#### 4.5 Train"
   ]
  },
  {
   "cell_type": "code",
   "execution_count": 105,
   "id": "R9QqBhnaXTt_",
   "metadata": {
    "colab": {
     "base_uri": "https://localhost:8080/"
    },
    "id": "R9QqBhnaXTt_",
    "outputId": "ccf3c256-5b3e-443e-ea40-9370904240b7"
   },
   "outputs": [
    {
     "name": "stdout",
     "output_type": "stream",
     "text": [
      "mkdir: cannot create directory ‘models’: File exists\n"
     ]
    }
   ],
   "source": [
    "! mkdir models"
   ]
  },
  {
   "cell_type": "code",
   "execution_count": 45,
   "id": "sDrf9u58G2Us",
   "metadata": {
    "colab": {
     "base_uri": "https://localhost:8080/",
     "height": 611
    },
    "id": "sDrf9u58G2Us",
    "outputId": "4c5f5d41-2c6e-4621-cb57-a4d5807f3e98"
   },
   "outputs": [
    {
     "data": {
      "text/html": [
       "<pre style=\"white-space:pre;overflow-x:auto;line-height:normal;font-family:Menlo,'DejaVu Sans Mono',consolas,'Courier New',monospace\"><span style=\"font-weight: bold\">Model: \"functional\"</span>\n",
       "</pre>\n"
      ],
      "text/plain": [
       "\u001b[1mModel: \"functional\"\u001b[0m\n"
      ]
     },
     "metadata": {},
     "output_type": "display_data"
    },
    {
     "data": {
      "text/html": [
       "<pre style=\"white-space:pre;overflow-x:auto;line-height:normal;font-family:Menlo,'DejaVu Sans Mono',consolas,'Courier New',monospace\">┏━━━━━━━━━━━━━━━━━━━━━┳━━━━━━━━━━━━━━━━━━━┳━━━━━━━━━━━━┳━━━━━━━━━━━━━━━━━━━┓\n",
       "┃<span style=\"font-weight: bold\"> Layer (type)        </span>┃<span style=\"font-weight: bold\"> Output Shape      </span>┃<span style=\"font-weight: bold\">    Param # </span>┃<span style=\"font-weight: bold\"> Connected to      </span>┃\n",
       "┡━━━━━━━━━━━━━━━━━━━━━╇━━━━━━━━━━━━━━━━━━━╇━━━━━━━━━━━━╇━━━━━━━━━━━━━━━━━━━┩\n",
       "│ input_ticker        │ (<span style=\"color: #00d7ff; text-decoration-color: #00d7ff\">None</span>, <span style=\"color: #00af00; text-decoration-color: #00af00\">1</span>)         │          <span style=\"color: #00af00; text-decoration-color: #00af00\">0</span> │ -                 │\n",
       "│ (<span style=\"color: #0087ff; text-decoration-color: #0087ff\">InputLayer</span>)        │                   │            │                   │\n",
       "├─────────────────────┼───────────────────┼────────────┼───────────────────┤\n",
       "│ embedding           │ (<span style=\"color: #00d7ff; text-decoration-color: #00d7ff\">None</span>, <span style=\"color: #00af00; text-decoration-color: #00af00\">1</span>, <span style=\"color: #00af00; text-decoration-color: #00af00\">4</span>)      │         <span style=\"color: #00af00; text-decoration-color: #00af00\">72</span> │ input_ticker[<span style=\"color: #00af00; text-decoration-color: #00af00\">0</span>][<span style=\"color: #00af00; text-decoration-color: #00af00\">…</span> │\n",
       "│ (<span style=\"color: #0087ff; text-decoration-color: #0087ff\">Embedding</span>)         │                   │            │                   │\n",
       "├─────────────────────┼───────────────────┼────────────┼───────────────────┤\n",
       "│ input_numeric       │ (<span style=\"color: #00d7ff; text-decoration-color: #00d7ff\">None</span>, <span style=\"color: #00af00; text-decoration-color: #00af00\">200</span>, <span style=\"color: #00af00; text-decoration-color: #00af00\">24</span>)   │          <span style=\"color: #00af00; text-decoration-color: #00af00\">0</span> │ -                 │\n",
       "│ (<span style=\"color: #0087ff; text-decoration-color: #0087ff\">InputLayer</span>)        │                   │            │                   │\n",
       "├─────────────────────┼───────────────────┼────────────┼───────────────────┤\n",
       "│ reshape (<span style=\"color: #0087ff; text-decoration-color: #0087ff\">Reshape</span>)   │ (<span style=\"color: #00d7ff; text-decoration-color: #00d7ff\">None</span>, <span style=\"color: #00af00; text-decoration-color: #00af00\">4</span>)         │          <span style=\"color: #00af00; text-decoration-color: #00af00\">0</span> │ embedding[<span style=\"color: #00af00; text-decoration-color: #00af00\">0</span>][<span style=\"color: #00af00; text-decoration-color: #00af00\">0</span>]   │\n",
       "├─────────────────────┼───────────────────┼────────────┼───────────────────┤\n",
       "│ batch_normalization │ (<span style=\"color: #00d7ff; text-decoration-color: #00d7ff\">None</span>, <span style=\"color: #00af00; text-decoration-color: #00af00\">200</span>, <span style=\"color: #00af00; text-decoration-color: #00af00\">24</span>)   │        <span style=\"color: #00af00; text-decoration-color: #00af00\">800</span> │ input_numeric[<span style=\"color: #00af00; text-decoration-color: #00af00\">0</span>]… │\n",
       "│ (<span style=\"color: #0087ff; text-decoration-color: #0087ff\">BatchNormalizatio…</span> │                   │            │                   │\n",
       "├─────────────────────┼───────────────────┼────────────┼───────────────────┤\n",
       "│ repeat_vector       │ (<span style=\"color: #00d7ff; text-decoration-color: #00d7ff\">None</span>, <span style=\"color: #00af00; text-decoration-color: #00af00\">200</span>, <span style=\"color: #00af00; text-decoration-color: #00af00\">4</span>)    │          <span style=\"color: #00af00; text-decoration-color: #00af00\">0</span> │ reshape[<span style=\"color: #00af00; text-decoration-color: #00af00\">0</span>][<span style=\"color: #00af00; text-decoration-color: #00af00\">0</span>]     │\n",
       "│ (<span style=\"color: #0087ff; text-decoration-color: #0087ff\">RepeatVector</span>)      │                   │            │                   │\n",
       "├─────────────────────┼───────────────────┼────────────┼───────────────────┤\n",
       "│ concatenate         │ (<span style=\"color: #00d7ff; text-decoration-color: #00d7ff\">None</span>, <span style=\"color: #00af00; text-decoration-color: #00af00\">200</span>, <span style=\"color: #00af00; text-decoration-color: #00af00\">28</span>)   │          <span style=\"color: #00af00; text-decoration-color: #00af00\">0</span> │ batch_normalizat… │\n",
       "│ (<span style=\"color: #0087ff; text-decoration-color: #0087ff\">Concatenate</span>)       │                   │            │ repeat_vector[<span style=\"color: #00af00; text-decoration-color: #00af00\">0</span>]… │\n",
       "├─────────────────────┼───────────────────┼────────────┼───────────────────┤\n",
       "│ linformer_enc       │ (<span style=\"color: #00d7ff; text-decoration-color: #00d7ff\">None</span>, <span style=\"color: #00af00; text-decoration-color: #00af00\">200</span>, <span style=\"color: #00af00; text-decoration-color: #00af00\">28</span>)   │    <span style=\"color: #00af00; text-decoration-color: #00af00\">514,000</span> │ concatenate[<span style=\"color: #00af00; text-decoration-color: #00af00\">0</span>][<span style=\"color: #00af00; text-decoration-color: #00af00\">0</span>] │\n",
       "│ (<span style=\"color: #0087ff; text-decoration-color: #0087ff\">LinformerEnc</span>)      │                   │            │                   │\n",
       "├─────────────────────┼───────────────────┼────────────┼───────────────────┤\n",
       "│ global_average_poo… │ (<span style=\"color: #00d7ff; text-decoration-color: #00d7ff\">None</span>, <span style=\"color: #00af00; text-decoration-color: #00af00\">28</span>)        │          <span style=\"color: #00af00; text-decoration-color: #00af00\">0</span> │ linformer_enc[<span style=\"color: #00af00; text-decoration-color: #00af00\">0</span>]… │\n",
       "│ (<span style=\"color: #0087ff; text-decoration-color: #0087ff\">GlobalAveragePool…</span> │                   │            │                   │\n",
       "├─────────────────────┼───────────────────┼────────────┼───────────────────┤\n",
       "│ layer_normalizatio… │ (<span style=\"color: #00d7ff; text-decoration-color: #00d7ff\">None</span>, <span style=\"color: #00af00; text-decoration-color: #00af00\">28</span>)        │         <span style=\"color: #00af00; text-decoration-color: #00af00\">56</span> │ global_average_p… │\n",
       "│ (<span style=\"color: #0087ff; text-decoration-color: #0087ff\">LayerNormalizatio…</span> │                   │            │                   │\n",
       "├─────────────────────┼───────────────────┼────────────┼───────────────────┤\n",
       "│ dense_107 (<span style=\"color: #0087ff; text-decoration-color: #0087ff\">Dense</span>)   │ (<span style=\"color: #00d7ff; text-decoration-color: #00d7ff\">None</span>, <span style=\"color: #00af00; text-decoration-color: #00af00\">1</span>)         │         <span style=\"color: #00af00; text-decoration-color: #00af00\">29</span> │ layer_normalizat… │\n",
       "└─────────────────────┴───────────────────┴────────────┴───────────────────┘\n",
       "</pre>\n"
      ],
      "text/plain": [
       "┏━━━━━━━━━━━━━━━━━━━━━┳━━━━━━━━━━━━━━━━━━━┳━━━━━━━━━━━━┳━━━━━━━━━━━━━━━━━━━┓\n",
       "┃\u001b[1m \u001b[0m\u001b[1mLayer (type)       \u001b[0m\u001b[1m \u001b[0m┃\u001b[1m \u001b[0m\u001b[1mOutput Shape     \u001b[0m\u001b[1m \u001b[0m┃\u001b[1m \u001b[0m\u001b[1m   Param #\u001b[0m\u001b[1m \u001b[0m┃\u001b[1m \u001b[0m\u001b[1mConnected to     \u001b[0m\u001b[1m \u001b[0m┃\n",
       "┡━━━━━━━━━━━━━━━━━━━━━╇━━━━━━━━━━━━━━━━━━━╇━━━━━━━━━━━━╇━━━━━━━━━━━━━━━━━━━┩\n",
       "│ input_ticker        │ (\u001b[38;5;45mNone\u001b[0m, \u001b[38;5;34m1\u001b[0m)         │          \u001b[38;5;34m0\u001b[0m │ -                 │\n",
       "│ (\u001b[38;5;33mInputLayer\u001b[0m)        │                   │            │                   │\n",
       "├─────────────────────┼───────────────────┼────────────┼───────────────────┤\n",
       "│ embedding           │ (\u001b[38;5;45mNone\u001b[0m, \u001b[38;5;34m1\u001b[0m, \u001b[38;5;34m4\u001b[0m)      │         \u001b[38;5;34m72\u001b[0m │ input_ticker[\u001b[38;5;34m0\u001b[0m][\u001b[38;5;34m…\u001b[0m │\n",
       "│ (\u001b[38;5;33mEmbedding\u001b[0m)         │                   │            │                   │\n",
       "├─────────────────────┼───────────────────┼────────────┼───────────────────┤\n",
       "│ input_numeric       │ (\u001b[38;5;45mNone\u001b[0m, \u001b[38;5;34m200\u001b[0m, \u001b[38;5;34m24\u001b[0m)   │          \u001b[38;5;34m0\u001b[0m │ -                 │\n",
       "│ (\u001b[38;5;33mInputLayer\u001b[0m)        │                   │            │                   │\n",
       "├─────────────────────┼───────────────────┼────────────┼───────────────────┤\n",
       "│ reshape (\u001b[38;5;33mReshape\u001b[0m)   │ (\u001b[38;5;45mNone\u001b[0m, \u001b[38;5;34m4\u001b[0m)         │          \u001b[38;5;34m0\u001b[0m │ embedding[\u001b[38;5;34m0\u001b[0m][\u001b[38;5;34m0\u001b[0m]   │\n",
       "├─────────────────────┼───────────────────┼────────────┼───────────────────┤\n",
       "│ batch_normalization │ (\u001b[38;5;45mNone\u001b[0m, \u001b[38;5;34m200\u001b[0m, \u001b[38;5;34m24\u001b[0m)   │        \u001b[38;5;34m800\u001b[0m │ input_numeric[\u001b[38;5;34m0\u001b[0m]… │\n",
       "│ (\u001b[38;5;33mBatchNormalizatio…\u001b[0m │                   │            │                   │\n",
       "├─────────────────────┼───────────────────┼────────────┼───────────────────┤\n",
       "│ repeat_vector       │ (\u001b[38;5;45mNone\u001b[0m, \u001b[38;5;34m200\u001b[0m, \u001b[38;5;34m4\u001b[0m)    │          \u001b[38;5;34m0\u001b[0m │ reshape[\u001b[38;5;34m0\u001b[0m][\u001b[38;5;34m0\u001b[0m]     │\n",
       "│ (\u001b[38;5;33mRepeatVector\u001b[0m)      │                   │            │                   │\n",
       "├─────────────────────┼───────────────────┼────────────┼───────────────────┤\n",
       "│ concatenate         │ (\u001b[38;5;45mNone\u001b[0m, \u001b[38;5;34m200\u001b[0m, \u001b[38;5;34m28\u001b[0m)   │          \u001b[38;5;34m0\u001b[0m │ batch_normalizat… │\n",
       "│ (\u001b[38;5;33mConcatenate\u001b[0m)       │                   │            │ repeat_vector[\u001b[38;5;34m0\u001b[0m]… │\n",
       "├─────────────────────┼───────────────────┼────────────┼───────────────────┤\n",
       "│ linformer_enc       │ (\u001b[38;5;45mNone\u001b[0m, \u001b[38;5;34m200\u001b[0m, \u001b[38;5;34m28\u001b[0m)   │    \u001b[38;5;34m514,000\u001b[0m │ concatenate[\u001b[38;5;34m0\u001b[0m][\u001b[38;5;34m0\u001b[0m] │\n",
       "│ (\u001b[38;5;33mLinformerEnc\u001b[0m)      │                   │            │                   │\n",
       "├─────────────────────┼───────────────────┼────────────┼───────────────────┤\n",
       "│ global_average_poo… │ (\u001b[38;5;45mNone\u001b[0m, \u001b[38;5;34m28\u001b[0m)        │          \u001b[38;5;34m0\u001b[0m │ linformer_enc[\u001b[38;5;34m0\u001b[0m]… │\n",
       "│ (\u001b[38;5;33mGlobalAveragePool…\u001b[0m │                   │            │                   │\n",
       "├─────────────────────┼───────────────────┼────────────┼───────────────────┤\n",
       "│ layer_normalizatio… │ (\u001b[38;5;45mNone\u001b[0m, \u001b[38;5;34m28\u001b[0m)        │         \u001b[38;5;34m56\u001b[0m │ global_average_p… │\n",
       "│ (\u001b[38;5;33mLayerNormalizatio…\u001b[0m │                   │            │                   │\n",
       "├─────────────────────┼───────────────────┼────────────┼───────────────────┤\n",
       "│ dense_107 (\u001b[38;5;33mDense\u001b[0m)   │ (\u001b[38;5;45mNone\u001b[0m, \u001b[38;5;34m1\u001b[0m)         │         \u001b[38;5;34m29\u001b[0m │ layer_normalizat… │\n",
       "└─────────────────────┴───────────────────┴────────────┴───────────────────┘\n"
      ]
     },
     "metadata": {},
     "output_type": "display_data"
    },
    {
     "data": {
      "text/html": [
       "<pre style=\"white-space:pre;overflow-x:auto;line-height:normal;font-family:Menlo,'DejaVu Sans Mono',consolas,'Courier New',monospace\"><span style=\"font-weight: bold\"> Total params: </span><span style=\"color: #00af00; text-decoration-color: #00af00\">514,957</span> (1.96 MB)\n",
       "</pre>\n"
      ],
      "text/plain": [
       "\u001b[1m Total params: \u001b[0m\u001b[38;5;34m514,957\u001b[0m (1.96 MB)\n"
      ]
     },
     "metadata": {},
     "output_type": "display_data"
    },
    {
     "data": {
      "text/html": [
       "<pre style=\"white-space:pre;overflow-x:auto;line-height:normal;font-family:Menlo,'DejaVu Sans Mono',consolas,'Courier New',monospace\"><span style=\"font-weight: bold\"> Trainable params: </span><span style=\"color: #00af00; text-decoration-color: #00af00\">514,557</span> (1.96 MB)\n",
       "</pre>\n"
      ],
      "text/plain": [
       "\u001b[1m Trainable params: \u001b[0m\u001b[38;5;34m514,557\u001b[0m (1.96 MB)\n"
      ]
     },
     "metadata": {},
     "output_type": "display_data"
    },
    {
     "data": {
      "text/html": [
       "<pre style=\"white-space:pre;overflow-x:auto;line-height:normal;font-family:Menlo,'DejaVu Sans Mono',consolas,'Courier New',monospace\"><span style=\"font-weight: bold\"> Non-trainable params: </span><span style=\"color: #00af00; text-decoration-color: #00af00\">400</span> (1.56 KB)\n",
       "</pre>\n"
      ],
      "text/plain": [
       "\u001b[1m Non-trainable params: \u001b[0m\u001b[38;5;34m400\u001b[0m (1.56 KB)\n"
      ]
     },
     "metadata": {},
     "output_type": "display_data"
    }
   ],
   "source": [
    "input_shape_num = (200, 24)\n",
    "\n",
    "enc_num_tokens = None\n",
    "INPUT_SIZE = 200 # 1-dimensional\n",
    "CHANNELS = 24+4 # 2-dimensional\n",
    "\n",
    "\n",
    "\n",
    "enc_nhead = 16 #кол-во multihead\n",
    "DEPTH = 2 #кол-во энкодероа\n",
    "\n",
    "enc_full_attention = False\n",
    "\n",
    "DIM_K = 32 #main part of paper\n",
    "DIM_D = 128 #размерность слоя head in multihead\n",
    "DIM_FF = 256\n",
    "\n",
    "enc_dropout_ff = 0.13\n",
    "enc_dropout = 0.13\n",
    "\n",
    "PARAMETER_SHARING = 'headwise' #\"layerwise\" - базовый он вроде лучше скор имеет, но мб медленнее работает\n",
    "activation = 'relu' # 'gelu'\n",
    "\n",
    "\n",
    "input_num = tf.keras.layers.Input(shape=input_shape_num, name='input_numeric')\n",
    "num_batchnorm = tf.keras.layers.BatchNormalization(axis=-2)(input_num) #?\n",
    "\n",
    "\n",
    "ticker_size = df_1min['ticker_code'].max()+1 #18\n",
    "input_emb = tf.keras.layers.Input(shape=(1,), name='input_ticker')\n",
    "emb = tf.keras.layers.Embedding(ticker_size, 4) (input_emb)\n",
    "emb_reshaped = tf.keras.layers.Reshape(target_shape=(4,))(emb)\n",
    "emb_reshaped_repeat = tf.keras.layers.RepeatVector(input_shape_num[0])(emb_reshaped)\n",
    "\n",
    "\n",
    "\n",
    "inputs = tf.keras.layers.concatenate([num_batchnorm, emb_reshaped_repeat])\n",
    "#batch_norm = tf.keras.layers.BatchNormalization()(inputs) #Вот тут еще можно поиграться с LayerNorm\n",
    "\n",
    "linformer = LinformerEnc(\n",
    "            enc_num_tokens=enc_num_tokens,        # encoder setting\n",
    "            enc_input_size=INPUT_SIZE,\n",
    "            enc_channels=CHANNELS,\n",
    "            enc_full_attention=enc_full_attention,\n",
    "            enc_dim_k=DIM_K,\n",
    "            enc_dim_d=DIM_D,\n",
    "            enc_dim_ff=DIM_FF,\n",
    "            enc_nhead = enc_nhead,\n",
    "            enc_depth=DEPTH,\n",
    "            enc_dropout_ff=enc_dropout_ff,\n",
    "            enc_dropout=enc_dropout,\n",
    "            enc_parameter_sharing=PARAMETER_SHARING,\n",
    "            activation=activation)(inputs)\n",
    "\n",
    "\n",
    "\n",
    "x = tf.keras.layers.GlobalAveragePooling1D()(linformer) #Почему бы не развернуть и не накинуть Dense слой?\n",
    "x = tf.keras.layers.LayerNormalization(epsilon=1e-6)(x) # хз насколько он здесь нужен, нужно поэксперементировать\n",
    "output = tf.keras.layers.Dense(1, activation=\"sigmoid\")(x)\n",
    "\n",
    "\n",
    "model = tf.keras.models.Model(inputs=[input_num, input_emb],\\\n",
    "                                       outputs=output)\n",
    "model.summary()"
   ]
  },
  {
   "cell_type": "code",
   "execution_count": 111,
   "id": "4bfe4b72-6a33-4713-b5fa-f3b41a358958",
   "metadata": {
    "id": "4bfe4b72-6a33-4713-b5fa-f3b41a358958"
   },
   "outputs": [],
   "source": [
    "EPOCHS = 20\n",
    "\n",
    "total_steps = len(dataset_train) * EPOCHS\n",
    "warmup_steps = int(0.05*total_steps)\n",
    "schedule = WarmUpCosineDecay(start_lr=0.0001, target_lr=0.005, warmup_steps=warmup_steps, total_steps=total_steps, hold=warmup_steps)\n",
    "#may be changed to 1\n",
    "optimizer=tf.keras.optimizers.Adam(learning_rate=schedule)\n",
    "#optimizer=tf.keras.optimizers.Adam(learning_rate=0.001)\n",
    "\n",
    "loss = tf.keras.losses.BinaryCrossentropy()\n",
    "metric_auc_roc = tf.keras.metrics.AUC(num_thresholds=1000)\n",
    "\n",
    "\n",
    "model.compile(optimizer=optimizer,\n",
    "              loss=loss,\n",
    "              metrics=[metric_auc_roc])\n",
    "\n",
    "\n",
    "metrics_callback = MetricsCallback([dataset_train, dataset_valid, dataset_test, dataset_test2])\n",
    "save_callback = tf.keras.callbacks.ModelCheckpoint( \"./models/model_{epoch:04d}.keras\", save_freq='epoch')\n",
    "callbacks = [save_callback, metrics_callback]\n",
    "\n",
    "\n"
   ]
  },
  {
   "cell_type": "code",
   "execution_count": 107,
   "id": "6e5810fc-bfd1-4557-a12f-f18cdf677b51",
   "metadata": {
    "id": "6e5810fc-bfd1-4557-a12f-f18cdf677b51"
   },
   "outputs": [],
   "source": [
    "# lrs = [lr_warmup_cosine_decay(step, total_steps=total_steps, warmup_steps=warmup_steps, hold=warmup_steps) for step in np.arange(total_steps)]\n",
    "# plt.plot(lrs)"
   ]
  },
  {
   "cell_type": "code",
   "execution_count": 108,
   "id": "24851cff-a95d-4540-a5af-b5a33fd66bb7",
   "metadata": {
    "colab": {
     "base_uri": "https://localhost:8080/"
    },
    "id": "24851cff-a95d-4540-a5af-b5a33fd66bb7",
    "outputId": "f3f5d4f4-095d-4481-8044-60744378964b"
   },
   "outputs": [
    {
     "data": {
      "text/plain": [
       "1"
      ]
     },
     "execution_count": 108,
     "metadata": {},
     "output_type": "execute_result"
    }
   ],
   "source": [
    "1"
   ]
  },
  {
   "cell_type": "markdown",
   "id": "EeQ1tbBMgdZC",
   "metadata": {
    "id": "EeQ1tbBMgdZC"
   },
   "source": []
  },
  {
   "cell_type": "code",
   "execution_count": null,
   "id": "2fc292c8-05f7-41cc-bc93-895031bfa684",
   "metadata": {
    "colab": {
     "base_uri": "https://localhost:8080/"
    },
    "id": "2fc292c8-05f7-41cc-bc93-895031bfa684",
    "outputId": "74353415-46d0-42ca-c96d-6d013bf79c1a",
    "scrolled": true
   },
   "outputs": [
    {
     "name": "stdout",
     "output_type": "stream",
     "text": [
      "Epoch 1/20\n",
      "\u001b[1m10000/10000\u001b[0m \u001b[32m━━━━━━━━━━━━━━━━━━━━\u001b[0m\u001b[37m\u001b[0m \u001b[1m279s\u001b[0m 27ms/step\n",
      "\u001b[1m9334/9334\u001b[0m \u001b[32m━━━━━━━━━━━━━━━━━━━━\u001b[0m\u001b[37m\u001b[0m \u001b[1m260s\u001b[0m 28ms/step\n",
      "\u001b[1m9703/9703\u001b[0m \u001b[32m━━━━━━━━━━━━━━━━━━━━\u001b[0m\u001b[37m\u001b[0m \u001b[1m268s\u001b[0m 28ms/step\n",
      "\u001b[1m7779/7779\u001b[0m \u001b[32m━━━━━━━━━━━━━━━━━━━━\u001b[0m\u001b[37m\u001b[0m \u001b[1m217s\u001b[0m 28ms/step\n",
      "AUC_ROC:  [0.806, 0.703, 0.721, 0.729]\n",
      "PRECISION:  [0.441, 0.168, 0.314, 0.322]\n",
      "\n",
      "\u001b[1m10000/10000\u001b[0m \u001b[32m━━━━━━━━━━━━━━━━━━━━\u001b[0m\u001b[37m\u001b[0m \u001b[1m2076s\u001b[0m 200ms/step - auc_9: 0.7362 - loss: 0.2058\n",
      "Epoch 2/20\n",
      "\u001b[1m10000/10000\u001b[0m \u001b[32m━━━━━━━━━━━━━━━━━━━━\u001b[0m\u001b[37m\u001b[0m \u001b[1m274s\u001b[0m 27ms/step\n",
      "\u001b[1m9334/9334\u001b[0m \u001b[32m━━━━━━━━━━━━━━━━━━━━\u001b[0m\u001b[37m\u001b[0m \u001b[1m255s\u001b[0m 27ms/step\n",
      "\u001b[1m9703/9703\u001b[0m \u001b[32m━━━━━━━━━━━━━━━━━━━━\u001b[0m\u001b[37m\u001b[0m \u001b[1m265s\u001b[0m 27ms/step\n",
      "\u001b[1m7779/7779\u001b[0m \u001b[32m━━━━━━━━━━━━━━━━━━━━\u001b[0m\u001b[37m\u001b[0m \u001b[1m212s\u001b[0m 27ms/step\n",
      "AUC_ROC:  [0.831, 0.729, 0.746, 0.739]\n",
      "PRECISION:  [0.453, 0.167, 0.278, 0.27]\n",
      "\n",
      "\u001b[1m10000/10000\u001b[0m \u001b[32m━━━━━━━━━━━━━━━━━━━━\u001b[0m\u001b[37m\u001b[0m \u001b[1m1968s\u001b[0m 197ms/step - auc_9: 0.7966 - loss: 0.1911\n",
      "Epoch 3/20\n",
      "\u001b[1m  431/10000\u001b[0m \u001b[37m━━━━━━━━━━━━━━━━━━━━\u001b[0m \u001b[1m14:20\u001b[0m 90ms/step - auc_9: 0.8066 - loss: 0.1913"
     ]
    }
   ],
   "source": [
    "model.fit(dataset_train , epochs=EPOCHS, callbacks=callbacks)"
   ]
  },
  {
   "cell_type": "code",
   "execution_count": null,
   "id": "whEUdqcNgetv",
   "metadata": {
    "id": "whEUdqcNgetv"
   },
   "outputs": [],
   "source": [
    "1"
   ]
  },
  {
   "cell_type": "code",
   "execution_count": null,
   "id": "9c840f12-27b5-42ff-912d-e796bcbfc2bd",
   "metadata": {
    "id": "9c840f12-27b5-42ff-912d-e796bcbfc2bd"
   },
   "outputs": [],
   "source": [
    "df_auc = pd.DataFrame(metrics_callback.list_auc)\n",
    "df_precision = pd.DataFrame(metrics_callback.list_precision)\n",
    "# df_count = pd.DataFrame(metrics_callback.list_count)\n",
    "# df_percent = pd.DataFrame(metrics_callback.list_percent)"
   ]
  },
  {
   "cell_type": "code",
   "execution_count": null,
   "id": "ec2dcd98-bfdb-49d9-a688-fd417fa2a92c",
   "metadata": {
    "id": "ec2dcd98-bfdb-49d9-a688-fd417fa2a92c"
   },
   "outputs": [],
   "source": [
    "#df_count"
   ]
  },
  {
   "cell_type": "code",
   "execution_count": null,
   "id": "9f4e66ab-c7ce-4790-babd-2d63415ea17c",
   "metadata": {
    "id": "9f4e66ab-c7ce-4790-babd-2d63415ea17c"
   },
   "outputs": [],
   "source": [
    "df_precision"
   ]
  },
  {
   "cell_type": "code",
   "execution_count": null,
   "id": "cd254888-a8df-4878-8a7d-ea68784fb0a0",
   "metadata": {
    "id": "cd254888-a8df-4878-8a7d-ea68784fb0a0"
   },
   "outputs": [],
   "source": []
  },
  {
   "cell_type": "code",
   "execution_count": null,
   "id": "f6c44521-706d-4dfd-966b-f14085cea7ba",
   "metadata": {
    "id": "f6c44521-706d-4dfd-966b-f14085cea7ba"
   },
   "outputs": [],
   "source": [
    "df_auc"
   ]
  },
  {
   "cell_type": "code",
   "execution_count": null,
   "id": "7290192d-e549-407f-b7a5-8216def1b004",
   "metadata": {
    "id": "7290192d-e549-407f-b7a5-8216def1b004"
   },
   "outputs": [],
   "source": [
    "#df_percent"
   ]
  },
  {
   "cell_type": "code",
   "execution_count": null,
   "id": "fa795633-7251-480c-828d-05db099b6b41",
   "metadata": {
    "id": "fa795633-7251-480c-828d-05db099b6b41"
   },
   "outputs": [],
   "source": []
  },
  {
   "cell_type": "markdown",
   "id": "273319c0-54a3-48fb-9995-01aa62cebdaf",
   "metadata": {},
   "source": [
    "# 4. Evaluate"
   ]
  },
  {
   "cell_type": "code",
   "execution_count": 46,
   "id": "16771a9f-37e7-4787-9b95-895096e7b316",
   "metadata": {},
   "outputs": [],
   "source": [
    "import keras\n",
    "\n",
    "model = keras.saving.load_model('./best_models/model_0002.keras',\n",
    "                                custom_objects={'WarmUpCosineDecay': WarmUpCosineDecay,\n",
    "                                               'LinformerEnc' : LinformerEnc})"
   ]
  },
  {
   "cell_type": "code",
   "execution_count": null,
   "id": "uAl74A6vvpT6",
   "metadata": {
    "id": "uAl74A6vvpT6"
   },
   "outputs": [],
   "source": []
  },
  {
   "cell_type": "code",
   "execution_count": 56,
   "id": "hf3t5eFevpWY",
   "metadata": {
    "id": "hf3t5eFevpWY"
   },
   "outputs": [],
   "source": [
    "#data_tmp = dataset(data, inds_test, count_samples=64*100, len_seq=200, batch_size=64, shuffle=False)"
   ]
  },
  {
   "cell_type": "code",
   "execution_count": 51,
   "id": "RPTHSvL-vavV",
   "metadata": {
    "colab": {
     "base_uri": "https://localhost:8080/"
    },
    "id": "RPTHSvL-vavV",
    "outputId": "a956d40c-95b0-4fda-dc62-6929e676b743"
   },
   "outputs": [
    {
     "name": "stdout",
     "output_type": "stream",
     "text": [
      "\u001b[1m9702/9703\u001b[0m \u001b[32m━━━━━━━━━━━━━━━━━━━\u001b[0m\u001b[37m━\u001b[0m \u001b[1m0s\u001b[0m 80ms/step"
     ]
    },
    {
     "name": "stderr",
     "output_type": "stream",
     "text": [
      "/opt/anaconda3/lib/python3.12/site-packages/keras/src/models/functional.py:225: UserWarning: The structure of `inputs` doesn't match the expected structure: ['input_numeric', 'input_ticker']. Received: the structure of inputs={'input_numeric': '*', 'input_ticker': '*'}\n",
      "  warnings.warn(\n"
     ]
    },
    {
     "name": "stdout",
     "output_type": "stream",
     "text": [
      "\u001b[1m9703/9703\u001b[0m \u001b[32m━━━━━━━━━━━━━━━━━━━━\u001b[0m\u001b[37m\u001b[0m \u001b[1m774s\u001b[0m 80ms/step\n"
     ]
    }
   ],
   "source": [
    "#y_pred_valid = model.predict(dataset_valid)\n",
    "y_pred_test = model.predict(dataset_test)\n",
    "#y_pred_test2 = model.predict(dataset_test2)"
   ]
  },
  {
   "cell_type": "code",
   "execution_count": 54,
   "id": "2AalTUmfvaxb",
   "metadata": {
    "colab": {
     "base_uri": "https://localhost:8080/"
    },
    "id": "2AalTUmfvaxb",
    "outputId": "47d96aa5-0925-460f-aab6-04d9bf4630e2"
   },
   "outputs": [
    {
     "name": "stderr",
     "output_type": "stream",
     "text": [
      "/var/folders/rm/zt5_90s5727289mv2gzbkw980000gn/T/ipykernel_82547/287518563.py:1: UserWarning: \n",
      "\n",
      "`distplot` is a deprecated function and will be removed in seaborn v0.14.0.\n",
      "\n",
      "Please adapt your code to use either `displot` (a figure-level function with\n",
      "similar flexibility) or `histplot` (an axes-level function for histograms).\n",
      "\n",
      "For a guide to updating your code to use the new functions, please see\n",
      "https://gist.github.com/mwaskom/de44147ed2974457ad6372750bbe5751\n",
      "\n",
      "  sns.distplot(y_pred_test)\n"
     ]
    },
    {
     "data": {
      "text/plain": [
       "<Axes: ylabel='Density'>"
      ]
     },
     "execution_count": 54,
     "metadata": {},
     "output_type": "execute_result"
    },
    {
     "data": {
      "image/png": "[encoded data removed]",
      "text/plain": [
       "<Figure size 640x480 with 1 Axes>"
      ]
     },
     "metadata": {},
     "output_type": "display_data"
    }
   ],
   "source": [
    "sns.distplot(y_pred_test)"
   ]
  },
  {
   "cell_type": "code",
   "execution_count": 57,
   "id": "uHxB1-qRbRYd",
   "metadata": {
    "id": "uHxB1-qRbRYd"
   },
   "outputs": [
    {
     "data": {
      "text/html": [
       "<div>\n",
       "<style scoped>\n",
       "    .dataframe tbody tr th:only-of-type {\n",
       "        vertical-align: middle;\n",
       "    }\n",
       "\n",
       "    .dataframe tbody tr th {\n",
       "        vertical-align: top;\n",
       "    }\n",
       "\n",
       "    .dataframe thead th {\n",
       "        text-align: right;\n",
       "    }\n",
       "</style>\n",
       "<table border=\"1\" class=\"dataframe\">\n",
       "  <thead>\n",
       "    <tr style=\"text-align: right;\">\n",
       "      <th></th>\n",
       "      <th>time</th>\n",
       "      <th>open</th>\n",
       "      <th>close</th>\n",
       "      <th>volume</th>\n",
       "      <th>low</th>\n",
       "      <th>high</th>\n",
       "      <th>ticker</th>\n",
       "      <th>index_1min_start</th>\n",
       "      <th>index_5min</th>\n",
       "      <th>index_start_5min</th>\n",
       "      <th>...</th>\n",
       "      <th>index_1day</th>\n",
       "      <th>index_start_1day</th>\n",
       "      <th>result</th>\n",
       "      <th>delta_time</th>\n",
       "      <th>target</th>\n",
       "      <th>ticker_code</th>\n",
       "      <th>sin_time</th>\n",
       "      <th>cos_time</th>\n",
       "      <th>sin_day</th>\n",
       "      <th>cos_day</th>\n",
       "    </tr>\n",
       "  </thead>\n",
       "  <tbody>\n",
       "    <tr>\n",
       "      <th>0</th>\n",
       "      <td>2022-10-03 10:01:00</td>\n",
       "      <td>219.00</td>\n",
       "      <td>219.93</td>\n",
       "      <td>87793.0</td>\n",
       "      <td>218.00</td>\n",
       "      <td>220.25</td>\n",
       "      <td>GAZP</td>\n",
       "      <td>0</td>\n",
       "      <td>NaN</td>\n",
       "      <td>NaN</td>\n",
       "      <td>...</td>\n",
       "      <td>NaN</td>\n",
       "      <td>NaN</td>\n",
       "      <td>LOSE</td>\n",
       "      <td>0 days 00:04:00</td>\n",
       "      <td>0</td>\n",
       "      <td>2</td>\n",
       "      <td>0.000000</td>\n",
       "      <td>1.000000</td>\n",
       "      <td>0.0</td>\n",
       "      <td>1.0</td>\n",
       "    </tr>\n",
       "    <tr>\n",
       "      <th>1</th>\n",
       "      <td>2022-10-03 10:02:00</td>\n",
       "      <td>219.80</td>\n",
       "      <td>220.80</td>\n",
       "      <td>61549.0</td>\n",
       "      <td>219.70</td>\n",
       "      <td>220.55</td>\n",
       "      <td>GAZP</td>\n",
       "      <td>0</td>\n",
       "      <td>NaN</td>\n",
       "      <td>NaN</td>\n",
       "      <td>...</td>\n",
       "      <td>NaN</td>\n",
       "      <td>NaN</td>\n",
       "      <td>LOSE</td>\n",
       "      <td>0 days 00:01:00</td>\n",
       "      <td>0</td>\n",
       "      <td>2</td>\n",
       "      <td>0.007579</td>\n",
       "      <td>0.999971</td>\n",
       "      <td>0.0</td>\n",
       "      <td>1.0</td>\n",
       "    </tr>\n",
       "    <tr>\n",
       "      <th>2</th>\n",
       "      <td>2022-10-03 10:03:00</td>\n",
       "      <td>220.24</td>\n",
       "      <td>219.34</td>\n",
       "      <td>52640.0</td>\n",
       "      <td>219.20</td>\n",
       "      <td>220.38</td>\n",
       "      <td>GAZP</td>\n",
       "      <td>0</td>\n",
       "      <td>NaN</td>\n",
       "      <td>NaN</td>\n",
       "      <td>...</td>\n",
       "      <td>NaN</td>\n",
       "      <td>NaN</td>\n",
       "      <td>LOSE</td>\n",
       "      <td>0 days 00:03:00</td>\n",
       "      <td>0</td>\n",
       "      <td>2</td>\n",
       "      <td>0.015158</td>\n",
       "      <td>0.999885</td>\n",
       "      <td>0.0</td>\n",
       "      <td>1.0</td>\n",
       "    </tr>\n",
       "    <tr>\n",
       "      <th>3</th>\n",
       "      <td>2022-10-03 10:04:00</td>\n",
       "      <td>219.17</td>\n",
       "      <td>218.96</td>\n",
       "      <td>61506.0</td>\n",
       "      <td>217.70</td>\n",
       "      <td>219.40</td>\n",
       "      <td>GAZP</td>\n",
       "      <td>0</td>\n",
       "      <td>NaN</td>\n",
       "      <td>NaN</td>\n",
       "      <td>...</td>\n",
       "      <td>NaN</td>\n",
       "      <td>NaN</td>\n",
       "      <td>LOSE</td>\n",
       "      <td>0 days 00:02:00</td>\n",
       "      <td>0</td>\n",
       "      <td>2</td>\n",
       "      <td>0.022736</td>\n",
       "      <td>0.999742</td>\n",
       "      <td>0.0</td>\n",
       "      <td>1.0</td>\n",
       "    </tr>\n",
       "    <tr>\n",
       "      <th>4</th>\n",
       "      <td>2022-10-03 10:05:00</td>\n",
       "      <td>218.82</td>\n",
       "      <td>218.30</td>\n",
       "      <td>51464.0</td>\n",
       "      <td>217.76</td>\n",
       "      <td>218.96</td>\n",
       "      <td>GAZP</td>\n",
       "      <td>0</td>\n",
       "      <td>0.0</td>\n",
       "      <td>0</td>\n",
       "      <td>...</td>\n",
       "      <td>NaN</td>\n",
       "      <td>NaN</td>\n",
       "      <td>LOSE</td>\n",
       "      <td>0 days 00:07:00</td>\n",
       "      <td>0</td>\n",
       "      <td>2</td>\n",
       "      <td>0.030312</td>\n",
       "      <td>0.999540</td>\n",
       "      <td>0.0</td>\n",
       "      <td>1.0</td>\n",
       "    </tr>\n",
       "  </tbody>\n",
       "</table>\n",
       "<p>5 rows × 22 columns</p>\n",
       "</div>"
      ],
      "text/plain": [
       "                 time    open   close   volume     low    high ticker  \\\n",
       "0 2022-10-03 10:01:00  219.00  219.93  87793.0  218.00  220.25   GAZP   \n",
       "1 2022-10-03 10:02:00  219.80  220.80  61549.0  219.70  220.55   GAZP   \n",
       "2 2022-10-03 10:03:00  220.24  219.34  52640.0  219.20  220.38   GAZP   \n",
       "3 2022-10-03 10:04:00  219.17  218.96  61506.0  217.70  219.40   GAZP   \n",
       "4 2022-10-03 10:05:00  218.82  218.30  51464.0  217.76  218.96   GAZP   \n",
       "\n",
       "  index_1min_start  index_5min index_start_5min  ...  index_1day  \\\n",
       "0                0         NaN              NaN  ...         NaN   \n",
       "1                0         NaN              NaN  ...         NaN   \n",
       "2                0         NaN              NaN  ...         NaN   \n",
       "3                0         NaN              NaN  ...         NaN   \n",
       "4                0         0.0                0  ...         NaN   \n",
       "\n",
       "  index_start_1day  result      delta_time target ticker_code  sin_time  \\\n",
       "0              NaN    LOSE 0 days 00:04:00      0           2  0.000000   \n",
       "1              NaN    LOSE 0 days 00:01:00      0           2  0.007579   \n",
       "2              NaN    LOSE 0 days 00:03:00      0           2  0.015158   \n",
       "3              NaN    LOSE 0 days 00:02:00      0           2  0.022736   \n",
       "4              NaN    LOSE 0 days 00:07:00      0           2  0.030312   \n",
       "\n",
       "   cos_time  sin_day  cos_day  \n",
       "0  1.000000      0.0      1.0  \n",
       "1  0.999971      0.0      1.0  \n",
       "2  0.999885      0.0      1.0  \n",
       "3  0.999742      0.0      1.0  \n",
       "4  0.999540      0.0      1.0  \n",
       "\n",
       "[5 rows x 22 columns]"
      ]
     },
     "execution_count": 57,
     "metadata": {},
     "output_type": "execute_result"
    }
   ],
   "source": [
    "df_1min.head()"
   ]
  },
  {
   "cell_type": "code",
   "execution_count": null,
   "id": "TNmDKBBvvSNG",
   "metadata": {
    "id": "TNmDKBBvvSNG"
   },
   "outputs": [],
   "source": []
  },
  {
   "cell_type": "code",
   "execution_count": null,
   "id": "ed5777c4-b49d-4c9d-a188-5098a6866b67",
   "metadata": {},
   "outputs": [],
   "source": []
  },
  {
   "cell_type": "code",
   "execution_count": null,
   "id": "7c828bc2-ce31-41f5-9fc6-0b14c2373833",
   "metadata": {},
   "outputs": [],
   "source": []
  },
  {
   "cell_type": "code",
   "execution_count": 59,
   "id": "7b718e90-152c-4fc5-84fc-4fbbaae0a1ca",
   "metadata": {
    "id": "7b718e90-152c-4fc5-84fc-4fbbaae0a1ca"
   },
   "outputs": [],
   "source": [
    "df_1min['y_pred'] = None\n",
    "df_1min.loc[dataset_test.inds, 'y_pred'] = y_pred_test"
   ]
  },
  {
   "cell_type": "code",
   "execution_count": null,
   "id": "c4ae16c4-2b27-4f9b-becf-88ed497876e2",
   "metadata": {},
   "outputs": [],
   "source": []
  },
  {
   "cell_type": "code",
   "execution_count": 60,
   "id": "3eca9eea-89c1-4f95-b6b7-7b0a9ab873b5",
   "metadata": {},
   "outputs": [],
   "source": [
    "df_1min['sample'] = None\n",
    "df_1min.loc[dataset_test.inds, 'sample'] = 'test'"
   ]
  },
  {
   "cell_type": "code",
   "execution_count": null,
   "id": "f4d15ef0-583a-4fb1-a7c3-86577244871f",
   "metadata": {},
   "outputs": [],
   "source": []
  },
  {
   "cell_type": "code",
   "execution_count": 62,
   "id": "d53c2fef-77c2-4e13-822b-cb89e2da8a3d",
   "metadata": {},
   "outputs": [
    {
     "data": {
      "text/plain": [
       "0.4161485108733176"
      ]
     },
     "execution_count": 62,
     "metadata": {},
     "output_type": "execute_result"
    }
   ],
   "source": [
    "threshold = np.quantile(y_pred_test, q=0.99)\n",
    "threshold"
   ]
  },
  {
   "cell_type": "code",
   "execution_count": 64,
   "id": "0b9db3f8-6fc4-4605-943d-9ec95f7d0ee2",
   "metadata": {},
   "outputs": [],
   "source": [
    "df_1min['y_pred_bin'] = (df_1min['y_pred'] > threshold).astype(int)"
   ]
  },
  {
   "cell_type": "code",
   "execution_count": 65,
   "id": "5d5fa926-4846-43e9-8851-32954aa2bc73",
   "metadata": {},
   "outputs": [
    {
     "data": {
      "text/plain": [
       "6210"
      ]
     },
     "execution_count": 65,
     "metadata": {},
     "output_type": "execute_result"
    }
   ],
   "source": [
    "df_1min['y_pred_bin'].sum()"
   ]
  },
  {
   "cell_type": "code",
   "execution_count": null,
   "id": "c06ab065-bc71-4a34-9f94-d292f379ed07",
   "metadata": {},
   "outputs": [],
   "source": []
  },
  {
   "cell_type": "code",
   "execution_count": 68,
   "id": "0ffbc455-f491-43bf-8d79-11b91b38be67",
   "metadata": {},
   "outputs": [
    {
     "data": {
      "text/plain": [
       "ticker\n",
       "GAZP    0.000000\n",
       "MAGN    0.000000\n",
       "RUAL    0.324845\n",
       "TCSG    0.000000\n",
       "YDEX    0.000000\n",
       "Name: target, dtype: float64"
      ]
     },
     "execution_count": 68,
     "metadata": {},
     "output_type": "execute_result"
    }
   ],
   "source": [
    "df_1min.loc[df_1min['y_pred_bin'] == 1, :].groupby('ticker')['target'].mean()"
   ]
  },
  {
   "cell_type": "code",
   "execution_count": null,
   "id": "a80adad5-98a3-450d-b81a-00c51c52d85a",
   "metadata": {},
   "outputs": [],
   "source": []
  },
  {
   "cell_type": "code",
   "execution_count": null,
   "id": "6236c5b3-e715-4e86-a3e7-473e20fd4012",
   "metadata": {},
   "outputs": [],
   "source": []
  },
  {
   "cell_type": "code",
   "execution_count": null,
   "id": "daadf040-326f-4fdd-b4c8-f0e38591a315",
   "metadata": {},
   "outputs": [],
   "source": []
  },
  {
   "cell_type": "code",
   "execution_count": 72,
   "id": "a6d19429-2ff1-4a97-b62b-ce96d60947a0",
   "metadata": {
    "scrolled": true
   },
   "outputs": [
    {
     "name": "stdout",
     "output_type": "stream",
     "text": [
      "GAZP\n"
     ]
    },
    {
     "data": {
      "image/png": "[encoded data removed]",
      "text/plain": [
       "<Figure size 500x500 with 1 Axes>"
      ]
     },
     "metadata": {},
     "output_type": "display_data"
    },
    {
     "name": "stdout",
     "output_type": "stream",
     "text": [
      "SBER\n"
     ]
    },
    {
     "data": {
      "image/png": "[encoded data removed]",
      "text/plain": [
       "<Figure size 500x500 with 1 Axes>"
      ]
     },
     "metadata": {},
     "output_type": "display_data"
    },
    {
     "name": "stdout",
     "output_type": "stream",
     "text": [
      "LKOH\n"
     ]
    },
    {
     "data": {
      "image/png": "[encoded data removed]",
      "text/plain": [
       "<Figure size 500x500 with 1 Axes>"
      ]
     },
     "metadata": {},
     "output_type": "display_data"
    },
    {
     "name": "stdout",
     "output_type": "stream",
     "text": [
      "MGNT\n"
     ]
    },
    {
     "data": {
      "image/png": "[encoded data removed]",
      "text/plain": [
       "<Figure size 500x500 with 1 Axes>"
      ]
     },
     "metadata": {},
     "output_type": "display_data"
    },
    {
     "name": "stdout",
     "output_type": "stream",
     "text": [
      "NVTK\n"
     ]
    },
    {
     "data": {
      "image/png": "[encoded data removed]",
      "text/plain": [
       "<Figure size 500x500 with 1 Axes>"
      ]
     },
     "metadata": {},
     "output_type": "display_data"
    },
    {
     "name": "stdout",
     "output_type": "stream",
     "text": [
      "SNGS\n"
     ]
    },
    {
     "data": {
      "image/png": "[encoded data removed]",
      "text/plain": [
       "<Figure size 500x500 with 1 Axes>"
      ]
     },
     "metadata": {},
     "output_type": "display_data"
    },
    {
     "name": "stdout",
     "output_type": "stream",
     "text": [
      "GMKN\n"
     ]
    },
    {
     "data": {
      "image/png": "[encoded data removed]",
      "text/plain": [
       "<Figure size 500x500 with 1 Axes>"
      ]
     },
     "metadata": {},
     "output_type": "display_data"
    },
    {
     "name": "stdout",
     "output_type": "stream",
     "text": [
      "ROSN\n"
     ]
    },
    {
     "data": {
      "image/png": "[encoded data removed]",
      "text/plain": [
       "<Figure size 500x500 with 1 Axes>"
      ]
     },
     "metadata": {},
     "output_type": "display_data"
    },
    {
     "name": "stdout",
     "output_type": "stream",
     "text": [
      "NLMK\n"
     ]
    },
    {
     "data": {
      "image/png": "[encoded data removed]",
      "text/plain": [
       "<Figure size 500x500 with 1 Axes>"
      ]
     },
     "metadata": {},
     "output_type": "display_data"
    },
    {
     "name": "stdout",
     "output_type": "stream",
     "text": [
      "TATN\n"
     ]
    },
    {
     "data": {
      "image/png": "[encoded data removed]",
      "text/plain": [
       "<Figure size 500x500 with 1 Axes>"
      ]
     },
     "metadata": {},
     "output_type": "display_data"
    },
    {
     "name": "stdout",
     "output_type": "stream",
     "text": [
      "MTSS\n"
     ]
    },
    {
     "data": {
      "image/png": "[encoded data removed]",
      "text/plain": [
       "<Figure size 500x500 with 1 Axes>"
      ]
     },
     "metadata": {},
     "output_type": "display_data"
    },
    {
     "name": "stdout",
     "output_type": "stream",
     "text": [
      "ALRS\n"
     ]
    },
    {
     "data": {
      "image/png": "[encoded data removed]",
      "text/plain": [
       "<Figure size 500x500 with 1 Axes>"
      ]
     },
     "metadata": {},
     "output_type": "display_data"
    },
    {
     "name": "stdout",
     "output_type": "stream",
     "text": [
      "YDEX\n"
     ]
    },
    {
     "data": {
      "image/png": "[encoded data removed]",
      "text/plain": [
       "<Figure size 500x500 with 1 Axes>"
      ]
     },
     "metadata": {},
     "output_type": "display_data"
    },
    {
     "name": "stdout",
     "output_type": "stream",
     "text": [
      "CHMF\n"
     ]
    },
    {
     "data": {
      "image/png": "[encoded data removed]",
      "text/plain": [
       "<Figure size 500x500 with 1 Axes>"
      ]
     },
     "metadata": {},
     "output_type": "display_data"
    },
    {
     "name": "stdout",
     "output_type": "stream",
     "text": [
      "MAGN\n"
     ]
    },
    {
     "data": {
      "image/png": "[encoded data removed]",
      "text/plain": [
       "<Figure size 500x500 with 1 Axes>"
      ]
     },
     "metadata": {},
     "output_type": "display_data"
    },
    {
     "name": "stdout",
     "output_type": "stream",
     "text": [
      "TCSG\n"
     ]
    },
    {
     "data": {
      "image/png": "[encoded data removed]",
      "text/plain": [
       "<Figure size 500x500 with 1 Axes>"
      ]
     },
     "metadata": {},
     "output_type": "display_data"
    },
    {
     "name": "stdout",
     "output_type": "stream",
     "text": [
      "OZON\n"
     ]
    },
    {
     "data": {
      "image/png": "[encoded data removed]",
      "text/plain": [
       "<Figure size 500x500 with 1 Axes>"
      ]
     },
     "metadata": {},
     "output_type": "display_data"
    },
    {
     "name": "stdout",
     "output_type": "stream",
     "text": [
      "RUAL\n"
     ]
    },
    {
     "data": {
      "image/png": "[encoded data removed]",
      "text/plain": [
       "<Figure size 500x500 with 1 Axes>"
      ]
     },
     "metadata": {},
     "output_type": "display_data"
    }
   ],
   "source": [
    "for ticker in df_1min['ticker'].unique():\n",
    "    print(ticker)\n",
    "    sns.displot(df_1min.loc[df_1min['ticker'] == ticker, 'y_pred'])\n",
    "    plt.show()"
   ]
  },
  {
   "cell_type": "code",
   "execution_count": null,
   "id": "49ad9735-e9ee-404f-9c60-9297a6a9f5cb",
   "metadata": {},
   "outputs": [],
   "source": []
  },
  {
   "cell_type": "code",
   "execution_count": null,
   "id": "6c8d4c15-4e5e-4472-a936-12517305c7ae",
   "metadata": {},
   "outputs": [],
   "source": []
  },
  {
   "cell_type": "code",
   "execution_count": null,
   "id": "63dabb9f-eee2-40dc-93b7-c56fc6aa002a",
   "metadata": {},
   "outputs": [],
   "source": []
  },
  {
   "cell_type": "code",
   "execution_count": null,
   "id": "9ce6448d-907e-44e3-80b8-7cd46721a715",
   "metadata": {},
   "outputs": [],
   "source": []
  },
  {
   "cell_type": "code",
   "execution_count": 99,
   "id": "3a94a32f-f5d1-4a31-8953-508259ea062e",
   "metadata": {},
   "outputs": [
    {
     "data": {
      "text/plain": [
       "4866"
      ]
     },
     "execution_count": 99,
     "metadata": {},
     "output_type": "execute_result"
    }
   ],
   "source": [
    "mask = (df_1min['ticker'] == 'GAZP') & (df_1min['sample'] == 'test') & (df_1min['time'] > pd.Timestamp('2024-09-23')) #& (df_1min['time'] < pd.Timestamp('2024-09-24'))\n",
    "mask.sum()"
   ]
  },
  {
   "cell_type": "code",
   "execution_count": 101,
   "id": "7f219da3-92ee-4e32-9632-e9924a983a84",
   "metadata": {},
   "outputs": [
    {
     "data": {
      "text/plain": [
       "[<matplotlib.lines.Line2D at 0x4281bfd10>]"
      ]
     },
     "execution_count": 101,
     "metadata": {},
     "output_type": "execute_result"
    },
    {
     "data": {
      "image/png": "[encoded data removed]",
      "text/plain": [
       "<Figure size 2000x400 with 1 Axes>"
      ]
     },
     "metadata": {},
     "output_type": "display_data"
    }
   ],
   "source": [
    "\n",
    "plt.figure(figsize=(20,4))\n",
    "df_tmp = df_1min.loc[mask].copy()\n",
    "df_tmp = df_tmp.set_index('time')\n",
    "\n",
    "plt.plot(df_tmp['close'])\n",
    "plt.plot(6*df_tmp['target']+120)\n",
    "plt.plot(6*df_tmp['y_pred']+120)"
   ]
  },
  {
   "cell_type": "code",
   "execution_count": null,
   "id": "44e5ad00-299b-482b-9256-1f72a2e85289",
   "metadata": {},
   "outputs": [],
   "source": []
  },
  {
   "cell_type": "code",
   "execution_count": null,
   "id": "c2fa9304-9ed9-40b0-abef-0100e467b23b",
   "metadata": {},
   "outputs": [],
   "source": []
  },
  {
   "cell_type": "markdown",
   "id": "1e3f3dee-7898-4b06-bed8-8fef57e81685",
   "metadata": {
    "id": "1e3f3dee-7898-4b06-bed8-8fef57e81685"
   },
   "source": [
    "# TMP"
   ]
  },
  {
   "cell_type": "code",
   "execution_count": null,
   "id": "de2b62cc-3ec4-42ad-ad99-cccabf9714b9",
   "metadata": {
    "id": "de2b62cc-3ec4-42ad-ad99-cccabf9714b9"
   },
   "outputs": [],
   "source": [
    "import tensorflow as tf\n",
    "tf.keras.backend.floatx()"
   ]
  },
  {
   "cell_type": "code",
   "execution_count": null,
   "id": "1e334752-da2e-4892-9398-33cfe8258e49",
   "metadata": {
    "id": "1e334752-da2e-4892-9398-33cfe8258e49"
   },
   "outputs": [],
   "source": []
  },
  {
   "cell_type": "code",
   "execution_count": null,
   "id": "97e624c0-27b5-4c65-959a-5f375e1329eb",
   "metadata": {
    "id": "97e624c0-27b5-4c65-959a-5f375e1329eb"
   },
   "outputs": [],
   "source": []
  },
  {
   "cell_type": "code",
   "execution_count": null,
   "id": "85dafc5b-f1ac-4817-bb94-0a20024571e3",
   "metadata": {
    "id": "85dafc5b-f1ac-4817-bb94-0a20024571e3"
   },
   "outputs": [],
   "source": []
  },
  {
   "cell_type": "code",
   "execution_count": null,
   "id": "c7b7d000-640b-488f-96d9-271543d6328c",
   "metadata": {
    "id": "c7b7d000-640b-488f-96d9-271543d6328c"
   },
   "outputs": [],
   "source": []
  },
  {
   "cell_type": "code",
   "execution_count": null,
   "id": "88e63d91-3ce6-49e8-82e3-e38943c7ba76",
   "metadata": {
    "id": "88e63d91-3ce6-49e8-82e3-e38943c7ba76"
   },
   "outputs": [],
   "source": []
  },
  {
   "cell_type": "code",
   "execution_count": null,
   "id": "07f6f70c-a6b6-4617-bd67-aac5b14b856f",
   "metadata": {
    "id": "07f6f70c-a6b6-4617-bd67-aac5b14b856f"
   },
   "outputs": [],
   "source": []
  }
 ],
 "metadata": {
  "accelerator": "GPU",
  "colab": {
   "gpuType": "T4",
   "provenance": []
  },
  "kernelspec": {
   "display_name": "Python 3 (ipykernel)",
   "language": "python",
   "name": "python3"
  },
  "language_info": {
   "codemirror_mode": {
    "name": "ipython",
    "version": 3
   },
   "file_extension": ".py",
   "mimetype": "text/x-python",
   "name": "python",
   "nbconvert_exporter": "python",
   "pygments_lexer": "ipython3",
   "version": "3.12.7"
  }
 },
 "nbformat": 4,
 "nbformat_minor": 5
}
