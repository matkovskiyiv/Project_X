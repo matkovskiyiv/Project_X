{
  "cells": [
    {
      "cell_type": "code",
      "execution_count": 1,
      "id": "d6e30ae7-7754-45c6-8ab7-f0faf1d303cb",
      "metadata": {
        "id": "d6e30ae7-7754-45c6-8ab7-f0faf1d303cb"
      },
      "outputs": [],
      "source": [
        "import numpy as np\n",
        "import pandas as pd\n",
        "from tqdm import tqdm\n",
        "import random\n",
        "import matplotlib.pyplot as plt\n",
        "import seaborn as sns\n",
        "import datetime\n",
        "import math\n",
        "import gc\n",
        "\n",
        "from sklearn.metrics import roc_auc_score\n",
        "\n",
        "import pickle\n",
        "def dump_pkl(data, filename):\n",
        "  with open(filename, 'wb') as handle:\n",
        "    pickle.dump(data, handle, protocol=pickle.HIGHEST_PROTOCOL)\n",
        "\n",
        "def load_pkl(filename):\n",
        "  with open(filename, 'rb') as handle:\n",
        "    data = pickle.load(handle)\n",
        "  return data"
      ]
    },
    {
      "cell_type": "code",
      "execution_count": 1,
      "id": "qirDY6OVczYo",
      "metadata": {
        "id": "qirDY6OVczYo"
      },
      "outputs": [],
      "source": []
    },
    {
      "cell_type": "code",
      "execution_count": 1,
      "id": "aaaec63d-9f8a-4fe4-8de7-95f0e2b42a97",
      "metadata": {
        "id": "aaaec63d-9f8a-4fe4-8de7-95f0e2b42a97"
      },
      "outputs": [],
      "source": []
    },
    {
      "cell_type": "markdown",
      "id": "9dfe8d80-f431-4f2e-8908-df724266bccb",
      "metadata": {
        "id": "9dfe8d80-f431-4f2e-8908-df724266bccb"
      },
      "source": [
        "### 3. train/valid/test split"
      ]
    },
    {
      "cell_type": "code",
      "execution_count": 2,
      "id": "JhnLos7mnrY3",
      "metadata": {
        "colab": {
          "base_uri": "https://localhost:8080/"
        },
        "id": "JhnLos7mnrY3",
        "outputId": "fe9cccb3-e58c-4799-e977-c7ec8b1ae238"
      },
      "outputs": [
        {
          "output_type": "stream",
          "name": "stdout",
          "text": [
            "Success! The data has been loaded\n",
            "Unpacking the data...\n",
            "Done! The data is available here /content\n",
            "CPU times: user 3.98 s, sys: 1.34 s, total: 5.32 s\n",
            "Wall time: 19.7 s\n"
          ]
        }
      ],
      "source": [
        "%%time\n",
        "import zipfile\n",
        "import requests\n",
        "import os\n",
        "import io\n",
        "from urllib.parse import urlencode\n",
        "\n",
        "# public_key = \"https://disk.yandex.ru/d/GHFPakrPFt1JVQ\"\n",
        "public_key = \"https://disk.yandex.ru/d/p-yNGHbQ0mi7EQ\"\n",
        "folder_name = \"Архив\"\n",
        "asset_zip_path = os.path.join(os.getcwd(), f\"{folder_name}.zip\")\n",
        "\n",
        "def download_and_unzip(load_from):\n",
        "  base_url = 'https://cloud-api.yandex.net/v1/disk/public/resources/download?'\n",
        "\n",
        "  # Получаем загрузочную ссылку\n",
        "  final_url = base_url + urlencode(dict(public_key=load_from))\n",
        "  try:\n",
        "    response = requests.get(final_url)\n",
        "    download_url = response.json()['href']\n",
        "\n",
        "    # Загружаем файл и сохраняем его\n",
        "    download_response = requests.get(download_url)\n",
        "    print('Success! The data has been loaded')\n",
        "  except:\n",
        "    \"Could not load the content of the URL\"\n",
        "\n",
        "  print(\"Unpacking the data...\")\n",
        "  try:\n",
        "    extract_to = os.getcwd()\n",
        "\n",
        "    z = zipfile.ZipFile(io.BytesIO(download_response.content))\n",
        "    z.extractall(extract_to)\n",
        "    print(f'Done! The data is available here {extract_to}')\n",
        "  except:\n",
        "    \"Error occured while extracting the data\"\n",
        "\n",
        "# Download if assest ZIP does not exists.\n",
        "if not os.path.exists(asset_zip_path):\n",
        "    download_and_unzip(public_key)"
      ]
    },
    {
      "cell_type": "code",
      "execution_count": 3,
      "id": "abae8128-7f9c-4e0c-bcfc-38c3f6a7c7b1",
      "metadata": {
        "id": "abae8128-7f9c-4e0c-bcfc-38c3f6a7c7b1"
      },
      "outputs": [],
      "source": [
        "df_1min = load_pkl('./data/data_shift_time_1min.pkl')\n",
        "df_5min = load_pkl('./data/data_shift_time_5min.pkl')\n",
        "df_1hour = load_pkl('./data/data_shift_time_1hour.pkl')\n",
        "df_1day = load_pkl('./data/data_shift_time_1day.pkl')\n",
        "\n",
        "# df_1min = load_pkl('experiments/model_one_fc/data/data_shift_time_1min.pkl')\n",
        "# df_5min = load_pkl('experiments/model_one_fc/data/data_shift_time_5min.pkl')\n",
        "# df_1hour = load_pkl('experiments/model_one_fc/data/data_shift_time_1hour.pkl')\n",
        "# df_1day = load_pkl('experiments/model_one_fc/data/data_shift_time_1day.pkl')\n"
      ]
    },
    {
      "cell_type": "code",
      "execution_count": 4,
      "id": "ff72e613-5253-48ba-a99e-40049a4b1f82",
      "metadata": {
        "colab": {
          "base_uri": "https://localhost:8080/",
          "height": 313
        },
        "id": "ff72e613-5253-48ba-a99e-40049a4b1f82",
        "outputId": "630b8348-4849-4948-bc0d-4e70a046c844"
      },
      "outputs": [
        {
          "output_type": "execute_result",
          "data": {
            "text/plain": [
              "                 time    open   close   volume     low    high ticker  \\\n",
              "0 2022-10-03 10:01:00  219.00  219.93  87793.0  218.00  220.25   GAZP   \n",
              "1 2022-10-03 10:02:00  219.80  220.80  61549.0  219.70  220.55   GAZP   \n",
              "2 2022-10-03 10:03:00  220.24  219.34  52640.0  219.20  220.38   GAZP   \n",
              "3 2022-10-03 10:04:00  219.17  218.96  61506.0  217.70  219.40   GAZP   \n",
              "4 2022-10-03 10:05:00  218.82  218.30  51464.0  217.76  218.96   GAZP   \n",
              "\n",
              "  index_1min_start  index_5min index_start_5min  index_1hour  \\\n",
              "0                0         NaN              NaN          NaN   \n",
              "1                0         NaN              NaN          NaN   \n",
              "2                0         NaN              NaN          NaN   \n",
              "3                0         NaN              NaN          NaN   \n",
              "4                0         0.0                0          NaN   \n",
              "\n",
              "  index_start_1hour  index_1day index_start_1day result      delta_time  \n",
              "0               NaN         NaN              NaN   LOSE 0 days 00:04:00  \n",
              "1               NaN         NaN              NaN   LOSE 0 days 00:01:00  \n",
              "2               NaN         NaN              NaN   LOSE 0 days 00:03:00  \n",
              "3               NaN         NaN              NaN   LOSE 0 days 00:02:00  \n",
              "4               NaN         NaN              NaN   LOSE 0 days 00:07:00  "
            ],
            "text/html": [
              "\n",
              "  <div id=\"df-c13d147e-07c7-4d4f-81c5-3654b6b42dc3\" class=\"colab-df-container\">\n",
              "    <div>\n",
              "<style scoped>\n",
              "    .dataframe tbody tr th:only-of-type {\n",
              "        vertical-align: middle;\n",
              "    }\n",
              "\n",
              "    .dataframe tbody tr th {\n",
              "        vertical-align: top;\n",
              "    }\n",
              "\n",
              "    .dataframe thead th {\n",
              "        text-align: right;\n",
              "    }\n",
              "</style>\n",
              "<table border=\"1\" class=\"dataframe\">\n",
              "  <thead>\n",
              "    <tr style=\"text-align: right;\">\n",
              "      <th></th>\n",
              "      <th>time</th>\n",
              "      <th>open</th>\n",
              "      <th>close</th>\n",
              "      <th>volume</th>\n",
              "      <th>low</th>\n",
              "      <th>high</th>\n",
              "      <th>ticker</th>\n",
              "      <th>index_1min_start</th>\n",
              "      <th>index_5min</th>\n",
              "      <th>index_start_5min</th>\n",
              "      <th>index_1hour</th>\n",
              "      <th>index_start_1hour</th>\n",
              "      <th>index_1day</th>\n",
              "      <th>index_start_1day</th>\n",
              "      <th>result</th>\n",
              "      <th>delta_time</th>\n",
              "    </tr>\n",
              "  </thead>\n",
              "  <tbody>\n",
              "    <tr>\n",
              "      <th>0</th>\n",
              "      <td>2022-10-03 10:01:00</td>\n",
              "      <td>219.00</td>\n",
              "      <td>219.93</td>\n",
              "      <td>87793.0</td>\n",
              "      <td>218.00</td>\n",
              "      <td>220.25</td>\n",
              "      <td>GAZP</td>\n",
              "      <td>0</td>\n",
              "      <td>NaN</td>\n",
              "      <td>NaN</td>\n",
              "      <td>NaN</td>\n",
              "      <td>NaN</td>\n",
              "      <td>NaN</td>\n",
              "      <td>NaN</td>\n",
              "      <td>LOSE</td>\n",
              "      <td>0 days 00:04:00</td>\n",
              "    </tr>\n",
              "    <tr>\n",
              "      <th>1</th>\n",
              "      <td>2022-10-03 10:02:00</td>\n",
              "      <td>219.80</td>\n",
              "      <td>220.80</td>\n",
              "      <td>61549.0</td>\n",
              "      <td>219.70</td>\n",
              "      <td>220.55</td>\n",
              "      <td>GAZP</td>\n",
              "      <td>0</td>\n",
              "      <td>NaN</td>\n",
              "      <td>NaN</td>\n",
              "      <td>NaN</td>\n",
              "      <td>NaN</td>\n",
              "      <td>NaN</td>\n",
              "      <td>NaN</td>\n",
              "      <td>LOSE</td>\n",
              "      <td>0 days 00:01:00</td>\n",
              "    </tr>\n",
              "    <tr>\n",
              "      <th>2</th>\n",
              "      <td>2022-10-03 10:03:00</td>\n",
              "      <td>220.24</td>\n",
              "      <td>219.34</td>\n",
              "      <td>52640.0</td>\n",
              "      <td>219.20</td>\n",
              "      <td>220.38</td>\n",
              "      <td>GAZP</td>\n",
              "      <td>0</td>\n",
              "      <td>NaN</td>\n",
              "      <td>NaN</td>\n",
              "      <td>NaN</td>\n",
              "      <td>NaN</td>\n",
              "      <td>NaN</td>\n",
              "      <td>NaN</td>\n",
              "      <td>LOSE</td>\n",
              "      <td>0 days 00:03:00</td>\n",
              "    </tr>\n",
              "    <tr>\n",
              "      <th>3</th>\n",
              "      <td>2022-10-03 10:04:00</td>\n",
              "      <td>219.17</td>\n",
              "      <td>218.96</td>\n",
              "      <td>61506.0</td>\n",
              "      <td>217.70</td>\n",
              "      <td>219.40</td>\n",
              "      <td>GAZP</td>\n",
              "      <td>0</td>\n",
              "      <td>NaN</td>\n",
              "      <td>NaN</td>\n",
              "      <td>NaN</td>\n",
              "      <td>NaN</td>\n",
              "      <td>NaN</td>\n",
              "      <td>NaN</td>\n",
              "      <td>LOSE</td>\n",
              "      <td>0 days 00:02:00</td>\n",
              "    </tr>\n",
              "    <tr>\n",
              "      <th>4</th>\n",
              "      <td>2022-10-03 10:05:00</td>\n",
              "      <td>218.82</td>\n",
              "      <td>218.30</td>\n",
              "      <td>51464.0</td>\n",
              "      <td>217.76</td>\n",
              "      <td>218.96</td>\n",
              "      <td>GAZP</td>\n",
              "      <td>0</td>\n",
              "      <td>0.0</td>\n",
              "      <td>0</td>\n",
              "      <td>NaN</td>\n",
              "      <td>NaN</td>\n",
              "      <td>NaN</td>\n",
              "      <td>NaN</td>\n",
              "      <td>LOSE</td>\n",
              "      <td>0 days 00:07:00</td>\n",
              "    </tr>\n",
              "  </tbody>\n",
              "</table>\n",
              "</div>\n",
              "    <div class=\"colab-df-buttons\">\n",
              "\n",
              "  <div class=\"colab-df-container\">\n",
              "    <button class=\"colab-df-convert\" onclick=\"convertToInteractive('df-c13d147e-07c7-4d4f-81c5-3654b6b42dc3')\"\n",
              "            title=\"Convert this dataframe to an interactive table.\"\n",
              "            style=\"display:none;\">\n",
              "\n",
              "  <svg xmlns=\"http://www.w3.org/2000/svg\" height=\"24px\" viewBox=\"0 -960 960 960\">\n",
              "    <path d=\"M120-120v-720h720v720H120Zm60-500h600v-160H180v160Zm220 220h160v-160H400v160Zm0 220h160v-160H400v160ZM180-400h160v-160H180v160Zm440 0h160v-160H620v160ZM180-180h160v-160H180v160Zm440 0h160v-160H620v160Z\"/>\n",
              "  </svg>\n",
              "    </button>\n",
              "\n",
              "  <style>\n",
              "    .colab-df-container {\n",
              "      display:flex;\n",
              "      gap: 12px;\n",
              "    }\n",
              "\n",
              "    .colab-df-convert {\n",
              "      background-color: #E8F0FE;\n",
              "      border: none;\n",
              "      border-radius: 50%;\n",
              "      cursor: pointer;\n",
              "      display: none;\n",
              "      fill: #1967D2;\n",
              "      height: 32px;\n",
              "      padding: 0 0 0 0;\n",
              "      width: 32px;\n",
              "    }\n",
              "\n",
              "    .colab-df-convert:hover {\n",
              "      background-color: #E2EBFA;\n",
              "      box-shadow: 0px 1px 2px rgba(60, 64, 67, 0.3), 0px 1px 3px 1px rgba(60, 64, 67, 0.15);\n",
              "      fill: #174EA6;\n",
              "    }\n",
              "\n",
              "    .colab-df-buttons div {\n",
              "      margin-bottom: 4px;\n",
              "    }\n",
              "\n",
              "    [theme=dark] .colab-df-convert {\n",
              "      background-color: #3B4455;\n",
              "      fill: #D2E3FC;\n",
              "    }\n",
              "\n",
              "    [theme=dark] .colab-df-convert:hover {\n",
              "      background-color: #434B5C;\n",
              "      box-shadow: 0px 1px 3px 1px rgba(0, 0, 0, 0.15);\n",
              "      filter: drop-shadow(0px 1px 2px rgba(0, 0, 0, 0.3));\n",
              "      fill: #FFFFFF;\n",
              "    }\n",
              "  </style>\n",
              "\n",
              "    <script>\n",
              "      const buttonEl =\n",
              "        document.querySelector('#df-c13d147e-07c7-4d4f-81c5-3654b6b42dc3 button.colab-df-convert');\n",
              "      buttonEl.style.display =\n",
              "        google.colab.kernel.accessAllowed ? 'block' : 'none';\n",
              "\n",
              "      async function convertToInteractive(key) {\n",
              "        const element = document.querySelector('#df-c13d147e-07c7-4d4f-81c5-3654b6b42dc3');\n",
              "        const dataTable =\n",
              "          await google.colab.kernel.invokeFunction('convertToInteractive',\n",
              "                                                    [key], {});\n",
              "        if (!dataTable) return;\n",
              "\n",
              "        const docLinkHtml = 'Like what you see? Visit the ' +\n",
              "          '<a target=\"_blank\" href=https://colab.research.google.com/notebooks/data_table.ipynb>data table notebook</a>'\n",
              "          + ' to learn more about interactive tables.';\n",
              "        element.innerHTML = '';\n",
              "        dataTable['output_type'] = 'display_data';\n",
              "        await google.colab.output.renderOutput(dataTable, element);\n",
              "        const docLink = document.createElement('div');\n",
              "        docLink.innerHTML = docLinkHtml;\n",
              "        element.appendChild(docLink);\n",
              "      }\n",
              "    </script>\n",
              "  </div>\n",
              "\n",
              "\n",
              "<div id=\"df-eac919ea-1228-4444-a974-f6ed193d8eb9\">\n",
              "  <button class=\"colab-df-quickchart\" onclick=\"quickchart('df-eac919ea-1228-4444-a974-f6ed193d8eb9')\"\n",
              "            title=\"Suggest charts\"\n",
              "            style=\"display:none;\">\n",
              "\n",
              "<svg xmlns=\"http://www.w3.org/2000/svg\" height=\"24px\"viewBox=\"0 0 24 24\"\n",
              "     width=\"24px\">\n",
              "    <g>\n",
              "        <path d=\"M19 3H5c-1.1 0-2 .9-2 2v14c0 1.1.9 2 2 2h14c1.1 0 2-.9 2-2V5c0-1.1-.9-2-2-2zM9 17H7v-7h2v7zm4 0h-2V7h2v10zm4 0h-2v-4h2v4z\"/>\n",
              "    </g>\n",
              "</svg>\n",
              "  </button>\n",
              "\n",
              "<style>\n",
              "  .colab-df-quickchart {\n",
              "      --bg-color: #E8F0FE;\n",
              "      --fill-color: #1967D2;\n",
              "      --hover-bg-color: #E2EBFA;\n",
              "      --hover-fill-color: #174EA6;\n",
              "      --disabled-fill-color: #AAA;\n",
              "      --disabled-bg-color: #DDD;\n",
              "  }\n",
              "\n",
              "  [theme=dark] .colab-df-quickchart {\n",
              "      --bg-color: #3B4455;\n",
              "      --fill-color: #D2E3FC;\n",
              "      --hover-bg-color: #434B5C;\n",
              "      --hover-fill-color: #FFFFFF;\n",
              "      --disabled-bg-color: #3B4455;\n",
              "      --disabled-fill-color: #666;\n",
              "  }\n",
              "\n",
              "  .colab-df-quickchart {\n",
              "    background-color: var(--bg-color);\n",
              "    border: none;\n",
              "    border-radius: 50%;\n",
              "    cursor: pointer;\n",
              "    display: none;\n",
              "    fill: var(--fill-color);\n",
              "    height: 32px;\n",
              "    padding: 0;\n",
              "    width: 32px;\n",
              "  }\n",
              "\n",
              "  .colab-df-quickchart:hover {\n",
              "    background-color: var(--hover-bg-color);\n",
              "    box-shadow: 0 1px 2px rgba(60, 64, 67, 0.3), 0 1px 3px 1px rgba(60, 64, 67, 0.15);\n",
              "    fill: var(--button-hover-fill-color);\n",
              "  }\n",
              "\n",
              "  .colab-df-quickchart-complete:disabled,\n",
              "  .colab-df-quickchart-complete:disabled:hover {\n",
              "    background-color: var(--disabled-bg-color);\n",
              "    fill: var(--disabled-fill-color);\n",
              "    box-shadow: none;\n",
              "  }\n",
              "\n",
              "  .colab-df-spinner {\n",
              "    border: 2px solid var(--fill-color);\n",
              "    border-color: transparent;\n",
              "    border-bottom-color: var(--fill-color);\n",
              "    animation:\n",
              "      spin 1s steps(1) infinite;\n",
              "  }\n",
              "\n",
              "  @keyframes spin {\n",
              "    0% {\n",
              "      border-color: transparent;\n",
              "      border-bottom-color: var(--fill-color);\n",
              "      border-left-color: var(--fill-color);\n",
              "    }\n",
              "    20% {\n",
              "      border-color: transparent;\n",
              "      border-left-color: var(--fill-color);\n",
              "      border-top-color: var(--fill-color);\n",
              "    }\n",
              "    30% {\n",
              "      border-color: transparent;\n",
              "      border-left-color: var(--fill-color);\n",
              "      border-top-color: var(--fill-color);\n",
              "      border-right-color: var(--fill-color);\n",
              "    }\n",
              "    40% {\n",
              "      border-color: transparent;\n",
              "      border-right-color: var(--fill-color);\n",
              "      border-top-color: var(--fill-color);\n",
              "    }\n",
              "    60% {\n",
              "      border-color: transparent;\n",
              "      border-right-color: var(--fill-color);\n",
              "    }\n",
              "    80% {\n",
              "      border-color: transparent;\n",
              "      border-right-color: var(--fill-color);\n",
              "      border-bottom-color: var(--fill-color);\n",
              "    }\n",
              "    90% {\n",
              "      border-color: transparent;\n",
              "      border-bottom-color: var(--fill-color);\n",
              "    }\n",
              "  }\n",
              "</style>\n",
              "\n",
              "  <script>\n",
              "    async function quickchart(key) {\n",
              "      const quickchartButtonEl =\n",
              "        document.querySelector('#' + key + ' button');\n",
              "      quickchartButtonEl.disabled = true;  // To prevent multiple clicks.\n",
              "      quickchartButtonEl.classList.add('colab-df-spinner');\n",
              "      try {\n",
              "        const charts = await google.colab.kernel.invokeFunction(\n",
              "            'suggestCharts', [key], {});\n",
              "      } catch (error) {\n",
              "        console.error('Error during call to suggestCharts:', error);\n",
              "      }\n",
              "      quickchartButtonEl.classList.remove('colab-df-spinner');\n",
              "      quickchartButtonEl.classList.add('colab-df-quickchart-complete');\n",
              "    }\n",
              "    (() => {\n",
              "      let quickchartButtonEl =\n",
              "        document.querySelector('#df-eac919ea-1228-4444-a974-f6ed193d8eb9 button');\n",
              "      quickchartButtonEl.style.display =\n",
              "        google.colab.kernel.accessAllowed ? 'block' : 'none';\n",
              "    })();\n",
              "  </script>\n",
              "</div>\n",
              "    </div>\n",
              "  </div>\n"
            ],
            "application/vnd.google.colaboratory.intrinsic+json": {
              "type": "dataframe",
              "variable_name": "df_1min"
            }
          },
          "metadata": {},
          "execution_count": 4
        }
      ],
      "source": [
        "df_1min.head()"
      ]
    },
    {
      "cell_type": "code",
      "execution_count": 5,
      "id": "d908e8f0-e702-49b7-9ddb-522b9cf3aeff",
      "metadata": {
        "colab": {
          "base_uri": "https://localhost:8080/",
          "height": 206
        },
        "id": "d908e8f0-e702-49b7-9ddb-522b9cf3aeff",
        "outputId": "57683109-7348-4291-dbfa-76697f2e54f6"
      },
      "outputs": [
        {
          "output_type": "execute_result",
          "data": {
            "text/plain": [
              "                 time  open_5min  close_5min  volume_5min  low_5min  \\\n",
              "0 2022-10-03 10:05:00     219.00      218.30     314952.0    217.70   \n",
              "1 2022-10-03 10:10:00     218.30      218.50     182525.0    216.19   \n",
              "2 2022-10-03 10:15:00     218.11      215.86     193758.0    215.31   \n",
              "3 2022-10-03 10:20:00     215.83      216.85      91747.0    215.70   \n",
              "4 2022-10-03 10:25:00     216.85      216.58      52824.0    216.40   \n",
              "\n",
              "   high_5min ticker  \n",
              "0     220.55   GAZP  \n",
              "1     218.78   GAZP  \n",
              "2     218.13   GAZP  \n",
              "3     217.39   GAZP  \n",
              "4     217.16   GAZP  "
            ],
            "text/html": [
              "\n",
              "  <div id=\"df-dd1d95e0-ee7e-486c-acde-da3a92e735c2\" class=\"colab-df-container\">\n",
              "    <div>\n",
              "<style scoped>\n",
              "    .dataframe tbody tr th:only-of-type {\n",
              "        vertical-align: middle;\n",
              "    }\n",
              "\n",
              "    .dataframe tbody tr th {\n",
              "        vertical-align: top;\n",
              "    }\n",
              "\n",
              "    .dataframe thead th {\n",
              "        text-align: right;\n",
              "    }\n",
              "</style>\n",
              "<table border=\"1\" class=\"dataframe\">\n",
              "  <thead>\n",
              "    <tr style=\"text-align: right;\">\n",
              "      <th></th>\n",
              "      <th>time</th>\n",
              "      <th>open_5min</th>\n",
              "      <th>close_5min</th>\n",
              "      <th>volume_5min</th>\n",
              "      <th>low_5min</th>\n",
              "      <th>high_5min</th>\n",
              "      <th>ticker</th>\n",
              "    </tr>\n",
              "  </thead>\n",
              "  <tbody>\n",
              "    <tr>\n",
              "      <th>0</th>\n",
              "      <td>2022-10-03 10:05:00</td>\n",
              "      <td>219.00</td>\n",
              "      <td>218.30</td>\n",
              "      <td>314952.0</td>\n",
              "      <td>217.70</td>\n",
              "      <td>220.55</td>\n",
              "      <td>GAZP</td>\n",
              "    </tr>\n",
              "    <tr>\n",
              "      <th>1</th>\n",
              "      <td>2022-10-03 10:10:00</td>\n",
              "      <td>218.30</td>\n",
              "      <td>218.50</td>\n",
              "      <td>182525.0</td>\n",
              "      <td>216.19</td>\n",
              "      <td>218.78</td>\n",
              "      <td>GAZP</td>\n",
              "    </tr>\n",
              "    <tr>\n",
              "      <th>2</th>\n",
              "      <td>2022-10-03 10:15:00</td>\n",
              "      <td>218.11</td>\n",
              "      <td>215.86</td>\n",
              "      <td>193758.0</td>\n",
              "      <td>215.31</td>\n",
              "      <td>218.13</td>\n",
              "      <td>GAZP</td>\n",
              "    </tr>\n",
              "    <tr>\n",
              "      <th>3</th>\n",
              "      <td>2022-10-03 10:20:00</td>\n",
              "      <td>215.83</td>\n",
              "      <td>216.85</td>\n",
              "      <td>91747.0</td>\n",
              "      <td>215.70</td>\n",
              "      <td>217.39</td>\n",
              "      <td>GAZP</td>\n",
              "    </tr>\n",
              "    <tr>\n",
              "      <th>4</th>\n",
              "      <td>2022-10-03 10:25:00</td>\n",
              "      <td>216.85</td>\n",
              "      <td>216.58</td>\n",
              "      <td>52824.0</td>\n",
              "      <td>216.40</td>\n",
              "      <td>217.16</td>\n",
              "      <td>GAZP</td>\n",
              "    </tr>\n",
              "  </tbody>\n",
              "</table>\n",
              "</div>\n",
              "    <div class=\"colab-df-buttons\">\n",
              "\n",
              "  <div class=\"colab-df-container\">\n",
              "    <button class=\"colab-df-convert\" onclick=\"convertToInteractive('df-dd1d95e0-ee7e-486c-acde-da3a92e735c2')\"\n",
              "            title=\"Convert this dataframe to an interactive table.\"\n",
              "            style=\"display:none;\">\n",
              "\n",
              "  <svg xmlns=\"http://www.w3.org/2000/svg\" height=\"24px\" viewBox=\"0 -960 960 960\">\n",
              "    <path d=\"M120-120v-720h720v720H120Zm60-500h600v-160H180v160Zm220 220h160v-160H400v160Zm0 220h160v-160H400v160ZM180-400h160v-160H180v160Zm440 0h160v-160H620v160ZM180-180h160v-160H180v160Zm440 0h160v-160H620v160Z\"/>\n",
              "  </svg>\n",
              "    </button>\n",
              "\n",
              "  <style>\n",
              "    .colab-df-container {\n",
              "      display:flex;\n",
              "      gap: 12px;\n",
              "    }\n",
              "\n",
              "    .colab-df-convert {\n",
              "      background-color: #E8F0FE;\n",
              "      border: none;\n",
              "      border-radius: 50%;\n",
              "      cursor: pointer;\n",
              "      display: none;\n",
              "      fill: #1967D2;\n",
              "      height: 32px;\n",
              "      padding: 0 0 0 0;\n",
              "      width: 32px;\n",
              "    }\n",
              "\n",
              "    .colab-df-convert:hover {\n",
              "      background-color: #E2EBFA;\n",
              "      box-shadow: 0px 1px 2px rgba(60, 64, 67, 0.3), 0px 1px 3px 1px rgba(60, 64, 67, 0.15);\n",
              "      fill: #174EA6;\n",
              "    }\n",
              "\n",
              "    .colab-df-buttons div {\n",
              "      margin-bottom: 4px;\n",
              "    }\n",
              "\n",
              "    [theme=dark] .colab-df-convert {\n",
              "      background-color: #3B4455;\n",
              "      fill: #D2E3FC;\n",
              "    }\n",
              "\n",
              "    [theme=dark] .colab-df-convert:hover {\n",
              "      background-color: #434B5C;\n",
              "      box-shadow: 0px 1px 3px 1px rgba(0, 0, 0, 0.15);\n",
              "      filter: drop-shadow(0px 1px 2px rgba(0, 0, 0, 0.3));\n",
              "      fill: #FFFFFF;\n",
              "    }\n",
              "  </style>\n",
              "\n",
              "    <script>\n",
              "      const buttonEl =\n",
              "        document.querySelector('#df-dd1d95e0-ee7e-486c-acde-da3a92e735c2 button.colab-df-convert');\n",
              "      buttonEl.style.display =\n",
              "        google.colab.kernel.accessAllowed ? 'block' : 'none';\n",
              "\n",
              "      async function convertToInteractive(key) {\n",
              "        const element = document.querySelector('#df-dd1d95e0-ee7e-486c-acde-da3a92e735c2');\n",
              "        const dataTable =\n",
              "          await google.colab.kernel.invokeFunction('convertToInteractive',\n",
              "                                                    [key], {});\n",
              "        if (!dataTable) return;\n",
              "\n",
              "        const docLinkHtml = 'Like what you see? Visit the ' +\n",
              "          '<a target=\"_blank\" href=https://colab.research.google.com/notebooks/data_table.ipynb>data table notebook</a>'\n",
              "          + ' to learn more about interactive tables.';\n",
              "        element.innerHTML = '';\n",
              "        dataTable['output_type'] = 'display_data';\n",
              "        await google.colab.output.renderOutput(dataTable, element);\n",
              "        const docLink = document.createElement('div');\n",
              "        docLink.innerHTML = docLinkHtml;\n",
              "        element.appendChild(docLink);\n",
              "      }\n",
              "    </script>\n",
              "  </div>\n",
              "\n",
              "\n",
              "<div id=\"df-16efff3a-9a72-4375-88c2-0ce32731da44\">\n",
              "  <button class=\"colab-df-quickchart\" onclick=\"quickchart('df-16efff3a-9a72-4375-88c2-0ce32731da44')\"\n",
              "            title=\"Suggest charts\"\n",
              "            style=\"display:none;\">\n",
              "\n",
              "<svg xmlns=\"http://www.w3.org/2000/svg\" height=\"24px\"viewBox=\"0 0 24 24\"\n",
              "     width=\"24px\">\n",
              "    <g>\n",
              "        <path d=\"M19 3H5c-1.1 0-2 .9-2 2v14c0 1.1.9 2 2 2h14c1.1 0 2-.9 2-2V5c0-1.1-.9-2-2-2zM9 17H7v-7h2v7zm4 0h-2V7h2v10zm4 0h-2v-4h2v4z\"/>\n",
              "    </g>\n",
              "</svg>\n",
              "  </button>\n",
              "\n",
              "<style>\n",
              "  .colab-df-quickchart {\n",
              "      --bg-color: #E8F0FE;\n",
              "      --fill-color: #1967D2;\n",
              "      --hover-bg-color: #E2EBFA;\n",
              "      --hover-fill-color: #174EA6;\n",
              "      --disabled-fill-color: #AAA;\n",
              "      --disabled-bg-color: #DDD;\n",
              "  }\n",
              "\n",
              "  [theme=dark] .colab-df-quickchart {\n",
              "      --bg-color: #3B4455;\n",
              "      --fill-color: #D2E3FC;\n",
              "      --hover-bg-color: #434B5C;\n",
              "      --hover-fill-color: #FFFFFF;\n",
              "      --disabled-bg-color: #3B4455;\n",
              "      --disabled-fill-color: #666;\n",
              "  }\n",
              "\n",
              "  .colab-df-quickchart {\n",
              "    background-color: var(--bg-color);\n",
              "    border: none;\n",
              "    border-radius: 50%;\n",
              "    cursor: pointer;\n",
              "    display: none;\n",
              "    fill: var(--fill-color);\n",
              "    height: 32px;\n",
              "    padding: 0;\n",
              "    width: 32px;\n",
              "  }\n",
              "\n",
              "  .colab-df-quickchart:hover {\n",
              "    background-color: var(--hover-bg-color);\n",
              "    box-shadow: 0 1px 2px rgba(60, 64, 67, 0.3), 0 1px 3px 1px rgba(60, 64, 67, 0.15);\n",
              "    fill: var(--button-hover-fill-color);\n",
              "  }\n",
              "\n",
              "  .colab-df-quickchart-complete:disabled,\n",
              "  .colab-df-quickchart-complete:disabled:hover {\n",
              "    background-color: var(--disabled-bg-color);\n",
              "    fill: var(--disabled-fill-color);\n",
              "    box-shadow: none;\n",
              "  }\n",
              "\n",
              "  .colab-df-spinner {\n",
              "    border: 2px solid var(--fill-color);\n",
              "    border-color: transparent;\n",
              "    border-bottom-color: var(--fill-color);\n",
              "    animation:\n",
              "      spin 1s steps(1) infinite;\n",
              "  }\n",
              "\n",
              "  @keyframes spin {\n",
              "    0% {\n",
              "      border-color: transparent;\n",
              "      border-bottom-color: var(--fill-color);\n",
              "      border-left-color: var(--fill-color);\n",
              "    }\n",
              "    20% {\n",
              "      border-color: transparent;\n",
              "      border-left-color: var(--fill-color);\n",
              "      border-top-color: var(--fill-color);\n",
              "    }\n",
              "    30% {\n",
              "      border-color: transparent;\n",
              "      border-left-color: var(--fill-color);\n",
              "      border-top-color: var(--fill-color);\n",
              "      border-right-color: var(--fill-color);\n",
              "    }\n",
              "    40% {\n",
              "      border-color: transparent;\n",
              "      border-right-color: var(--fill-color);\n",
              "      border-top-color: var(--fill-color);\n",
              "    }\n",
              "    60% {\n",
              "      border-color: transparent;\n",
              "      border-right-color: var(--fill-color);\n",
              "    }\n",
              "    80% {\n",
              "      border-color: transparent;\n",
              "      border-right-color: var(--fill-color);\n",
              "      border-bottom-color: var(--fill-color);\n",
              "    }\n",
              "    90% {\n",
              "      border-color: transparent;\n",
              "      border-bottom-color: var(--fill-color);\n",
              "    }\n",
              "  }\n",
              "</style>\n",
              "\n",
              "  <script>\n",
              "    async function quickchart(key) {\n",
              "      const quickchartButtonEl =\n",
              "        document.querySelector('#' + key + ' button');\n",
              "      quickchartButtonEl.disabled = true;  // To prevent multiple clicks.\n",
              "      quickchartButtonEl.classList.add('colab-df-spinner');\n",
              "      try {\n",
              "        const charts = await google.colab.kernel.invokeFunction(\n",
              "            'suggestCharts', [key], {});\n",
              "      } catch (error) {\n",
              "        console.error('Error during call to suggestCharts:', error);\n",
              "      }\n",
              "      quickchartButtonEl.classList.remove('colab-df-spinner');\n",
              "      quickchartButtonEl.classList.add('colab-df-quickchart-complete');\n",
              "    }\n",
              "    (() => {\n",
              "      let quickchartButtonEl =\n",
              "        document.querySelector('#df-16efff3a-9a72-4375-88c2-0ce32731da44 button');\n",
              "      quickchartButtonEl.style.display =\n",
              "        google.colab.kernel.accessAllowed ? 'block' : 'none';\n",
              "    })();\n",
              "  </script>\n",
              "</div>\n",
              "    </div>\n",
              "  </div>\n"
            ],
            "application/vnd.google.colaboratory.intrinsic+json": {
              "type": "dataframe",
              "variable_name": "df_5min"
            }
          },
          "metadata": {},
          "execution_count": 5
        }
      ],
      "source": [
        "df_5min.head()"
      ]
    },
    {
      "cell_type": "code",
      "execution_count": 6,
      "id": "ea202601-841d-4ad0-bb88-58a08e7e1c7a",
      "metadata": {
        "colab": {
          "base_uri": "https://localhost:8080/",
          "height": 206
        },
        "id": "ea202601-841d-4ad0-bb88-58a08e7e1c7a",
        "outputId": "701ee6b3-2904-4edd-bdb9-5e4b7e9557ae"
      },
      "outputs": [
        {
          "output_type": "execute_result",
          "data": {
            "text/plain": [
              "                 time  open_1hour  close_1hour  volume_1hour  low_1hour  \\\n",
              "0 2022-10-03 11:00:00      219.00       215.80     1623411.0     213.63   \n",
              "1 2022-10-03 12:00:00      215.80       216.36      411786.0     214.96   \n",
              "2 2022-10-03 13:00:00      216.34       215.88      237084.0     215.43   \n",
              "3 2022-10-03 14:00:00      215.85       217.10      573509.0     215.53   \n",
              "4 2022-10-03 15:00:00      217.12       216.94      364609.0     216.50   \n",
              "\n",
              "   high_1hour ticker  \n",
              "0      220.55   GAZP  \n",
              "1      216.78   GAZP  \n",
              "2      216.43   GAZP  \n",
              "3      217.77   GAZP  \n",
              "4      217.49   GAZP  "
            ],
            "text/html": [
              "\n",
              "  <div id=\"df-686b7dfe-41f3-465a-9951-e5fce538c504\" class=\"colab-df-container\">\n",
              "    <div>\n",
              "<style scoped>\n",
              "    .dataframe tbody tr th:only-of-type {\n",
              "        vertical-align: middle;\n",
              "    }\n",
              "\n",
              "    .dataframe tbody tr th {\n",
              "        vertical-align: top;\n",
              "    }\n",
              "\n",
              "    .dataframe thead th {\n",
              "        text-align: right;\n",
              "    }\n",
              "</style>\n",
              "<table border=\"1\" class=\"dataframe\">\n",
              "  <thead>\n",
              "    <tr style=\"text-align: right;\">\n",
              "      <th></th>\n",
              "      <th>time</th>\n",
              "      <th>open_1hour</th>\n",
              "      <th>close_1hour</th>\n",
              "      <th>volume_1hour</th>\n",
              "      <th>low_1hour</th>\n",
              "      <th>high_1hour</th>\n",
              "      <th>ticker</th>\n",
              "    </tr>\n",
              "  </thead>\n",
              "  <tbody>\n",
              "    <tr>\n",
              "      <th>0</th>\n",
              "      <td>2022-10-03 11:00:00</td>\n",
              "      <td>219.00</td>\n",
              "      <td>215.80</td>\n",
              "      <td>1623411.0</td>\n",
              "      <td>213.63</td>\n",
              "      <td>220.55</td>\n",
              "      <td>GAZP</td>\n",
              "    </tr>\n",
              "    <tr>\n",
              "      <th>1</th>\n",
              "      <td>2022-10-03 12:00:00</td>\n",
              "      <td>215.80</td>\n",
              "      <td>216.36</td>\n",
              "      <td>411786.0</td>\n",
              "      <td>214.96</td>\n",
              "      <td>216.78</td>\n",
              "      <td>GAZP</td>\n",
              "    </tr>\n",
              "    <tr>\n",
              "      <th>2</th>\n",
              "      <td>2022-10-03 13:00:00</td>\n",
              "      <td>216.34</td>\n",
              "      <td>215.88</td>\n",
              "      <td>237084.0</td>\n",
              "      <td>215.43</td>\n",
              "      <td>216.43</td>\n",
              "      <td>GAZP</td>\n",
              "    </tr>\n",
              "    <tr>\n",
              "      <th>3</th>\n",
              "      <td>2022-10-03 14:00:00</td>\n",
              "      <td>215.85</td>\n",
              "      <td>217.10</td>\n",
              "      <td>573509.0</td>\n",
              "      <td>215.53</td>\n",
              "      <td>217.77</td>\n",
              "      <td>GAZP</td>\n",
              "    </tr>\n",
              "    <tr>\n",
              "      <th>4</th>\n",
              "      <td>2022-10-03 15:00:00</td>\n",
              "      <td>217.12</td>\n",
              "      <td>216.94</td>\n",
              "      <td>364609.0</td>\n",
              "      <td>216.50</td>\n",
              "      <td>217.49</td>\n",
              "      <td>GAZP</td>\n",
              "    </tr>\n",
              "  </tbody>\n",
              "</table>\n",
              "</div>\n",
              "    <div class=\"colab-df-buttons\">\n",
              "\n",
              "  <div class=\"colab-df-container\">\n",
              "    <button class=\"colab-df-convert\" onclick=\"convertToInteractive('df-686b7dfe-41f3-465a-9951-e5fce538c504')\"\n",
              "            title=\"Convert this dataframe to an interactive table.\"\n",
              "            style=\"display:none;\">\n",
              "\n",
              "  <svg xmlns=\"http://www.w3.org/2000/svg\" height=\"24px\" viewBox=\"0 -960 960 960\">\n",
              "    <path d=\"M120-120v-720h720v720H120Zm60-500h600v-160H180v160Zm220 220h160v-160H400v160Zm0 220h160v-160H400v160ZM180-400h160v-160H180v160Zm440 0h160v-160H620v160ZM180-180h160v-160H180v160Zm440 0h160v-160H620v160Z\"/>\n",
              "  </svg>\n",
              "    </button>\n",
              "\n",
              "  <style>\n",
              "    .colab-df-container {\n",
              "      display:flex;\n",
              "      gap: 12px;\n",
              "    }\n",
              "\n",
              "    .colab-df-convert {\n",
              "      background-color: #E8F0FE;\n",
              "      border: none;\n",
              "      border-radius: 50%;\n",
              "      cursor: pointer;\n",
              "      display: none;\n",
              "      fill: #1967D2;\n",
              "      height: 32px;\n",
              "      padding: 0 0 0 0;\n",
              "      width: 32px;\n",
              "    }\n",
              "\n",
              "    .colab-df-convert:hover {\n",
              "      background-color: #E2EBFA;\n",
              "      box-shadow: 0px 1px 2px rgba(60, 64, 67, 0.3), 0px 1px 3px 1px rgba(60, 64, 67, 0.15);\n",
              "      fill: #174EA6;\n",
              "    }\n",
              "\n",
              "    .colab-df-buttons div {\n",
              "      margin-bottom: 4px;\n",
              "    }\n",
              "\n",
              "    [theme=dark] .colab-df-convert {\n",
              "      background-color: #3B4455;\n",
              "      fill: #D2E3FC;\n",
              "    }\n",
              "\n",
              "    [theme=dark] .colab-df-convert:hover {\n",
              "      background-color: #434B5C;\n",
              "      box-shadow: 0px 1px 3px 1px rgba(0, 0, 0, 0.15);\n",
              "      filter: drop-shadow(0px 1px 2px rgba(0, 0, 0, 0.3));\n",
              "      fill: #FFFFFF;\n",
              "    }\n",
              "  </style>\n",
              "\n",
              "    <script>\n",
              "      const buttonEl =\n",
              "        document.querySelector('#df-686b7dfe-41f3-465a-9951-e5fce538c504 button.colab-df-convert');\n",
              "      buttonEl.style.display =\n",
              "        google.colab.kernel.accessAllowed ? 'block' : 'none';\n",
              "\n",
              "      async function convertToInteractive(key) {\n",
              "        const element = document.querySelector('#df-686b7dfe-41f3-465a-9951-e5fce538c504');\n",
              "        const dataTable =\n",
              "          await google.colab.kernel.invokeFunction('convertToInteractive',\n",
              "                                                    [key], {});\n",
              "        if (!dataTable) return;\n",
              "\n",
              "        const docLinkHtml = 'Like what you see? Visit the ' +\n",
              "          '<a target=\"_blank\" href=https://colab.research.google.com/notebooks/data_table.ipynb>data table notebook</a>'\n",
              "          + ' to learn more about interactive tables.';\n",
              "        element.innerHTML = '';\n",
              "        dataTable['output_type'] = 'display_data';\n",
              "        await google.colab.output.renderOutput(dataTable, element);\n",
              "        const docLink = document.createElement('div');\n",
              "        docLink.innerHTML = docLinkHtml;\n",
              "        element.appendChild(docLink);\n",
              "      }\n",
              "    </script>\n",
              "  </div>\n",
              "\n",
              "\n",
              "<div id=\"df-06eae518-ba07-4378-b2a0-c18947cf1778\">\n",
              "  <button class=\"colab-df-quickchart\" onclick=\"quickchart('df-06eae518-ba07-4378-b2a0-c18947cf1778')\"\n",
              "            title=\"Suggest charts\"\n",
              "            style=\"display:none;\">\n",
              "\n",
              "<svg xmlns=\"http://www.w3.org/2000/svg\" height=\"24px\"viewBox=\"0 0 24 24\"\n",
              "     width=\"24px\">\n",
              "    <g>\n",
              "        <path d=\"M19 3H5c-1.1 0-2 .9-2 2v14c0 1.1.9 2 2 2h14c1.1 0 2-.9 2-2V5c0-1.1-.9-2-2-2zM9 17H7v-7h2v7zm4 0h-2V7h2v10zm4 0h-2v-4h2v4z\"/>\n",
              "    </g>\n",
              "</svg>\n",
              "  </button>\n",
              "\n",
              "<style>\n",
              "  .colab-df-quickchart {\n",
              "      --bg-color: #E8F0FE;\n",
              "      --fill-color: #1967D2;\n",
              "      --hover-bg-color: #E2EBFA;\n",
              "      --hover-fill-color: #174EA6;\n",
              "      --disabled-fill-color: #AAA;\n",
              "      --disabled-bg-color: #DDD;\n",
              "  }\n",
              "\n",
              "  [theme=dark] .colab-df-quickchart {\n",
              "      --bg-color: #3B4455;\n",
              "      --fill-color: #D2E3FC;\n",
              "      --hover-bg-color: #434B5C;\n",
              "      --hover-fill-color: #FFFFFF;\n",
              "      --disabled-bg-color: #3B4455;\n",
              "      --disabled-fill-color: #666;\n",
              "  }\n",
              "\n",
              "  .colab-df-quickchart {\n",
              "    background-color: var(--bg-color);\n",
              "    border: none;\n",
              "    border-radius: 50%;\n",
              "    cursor: pointer;\n",
              "    display: none;\n",
              "    fill: var(--fill-color);\n",
              "    height: 32px;\n",
              "    padding: 0;\n",
              "    width: 32px;\n",
              "  }\n",
              "\n",
              "  .colab-df-quickchart:hover {\n",
              "    background-color: var(--hover-bg-color);\n",
              "    box-shadow: 0 1px 2px rgba(60, 64, 67, 0.3), 0 1px 3px 1px rgba(60, 64, 67, 0.15);\n",
              "    fill: var(--button-hover-fill-color);\n",
              "  }\n",
              "\n",
              "  .colab-df-quickchart-complete:disabled,\n",
              "  .colab-df-quickchart-complete:disabled:hover {\n",
              "    background-color: var(--disabled-bg-color);\n",
              "    fill: var(--disabled-fill-color);\n",
              "    box-shadow: none;\n",
              "  }\n",
              "\n",
              "  .colab-df-spinner {\n",
              "    border: 2px solid var(--fill-color);\n",
              "    border-color: transparent;\n",
              "    border-bottom-color: var(--fill-color);\n",
              "    animation:\n",
              "      spin 1s steps(1) infinite;\n",
              "  }\n",
              "\n",
              "  @keyframes spin {\n",
              "    0% {\n",
              "      border-color: transparent;\n",
              "      border-bottom-color: var(--fill-color);\n",
              "      border-left-color: var(--fill-color);\n",
              "    }\n",
              "    20% {\n",
              "      border-color: transparent;\n",
              "      border-left-color: var(--fill-color);\n",
              "      border-top-color: var(--fill-color);\n",
              "    }\n",
              "    30% {\n",
              "      border-color: transparent;\n",
              "      border-left-color: var(--fill-color);\n",
              "      border-top-color: var(--fill-color);\n",
              "      border-right-color: var(--fill-color);\n",
              "    }\n",
              "    40% {\n",
              "      border-color: transparent;\n",
              "      border-right-color: var(--fill-color);\n",
              "      border-top-color: var(--fill-color);\n",
              "    }\n",
              "    60% {\n",
              "      border-color: transparent;\n",
              "      border-right-color: var(--fill-color);\n",
              "    }\n",
              "    80% {\n",
              "      border-color: transparent;\n",
              "      border-right-color: var(--fill-color);\n",
              "      border-bottom-color: var(--fill-color);\n",
              "    }\n",
              "    90% {\n",
              "      border-color: transparent;\n",
              "      border-bottom-color: var(--fill-color);\n",
              "    }\n",
              "  }\n",
              "</style>\n",
              "\n",
              "  <script>\n",
              "    async function quickchart(key) {\n",
              "      const quickchartButtonEl =\n",
              "        document.querySelector('#' + key + ' button');\n",
              "      quickchartButtonEl.disabled = true;  // To prevent multiple clicks.\n",
              "      quickchartButtonEl.classList.add('colab-df-spinner');\n",
              "      try {\n",
              "        const charts = await google.colab.kernel.invokeFunction(\n",
              "            'suggestCharts', [key], {});\n",
              "      } catch (error) {\n",
              "        console.error('Error during call to suggestCharts:', error);\n",
              "      }\n",
              "      quickchartButtonEl.classList.remove('colab-df-spinner');\n",
              "      quickchartButtonEl.classList.add('colab-df-quickchart-complete');\n",
              "    }\n",
              "    (() => {\n",
              "      let quickchartButtonEl =\n",
              "        document.querySelector('#df-06eae518-ba07-4378-b2a0-c18947cf1778 button');\n",
              "      quickchartButtonEl.style.display =\n",
              "        google.colab.kernel.accessAllowed ? 'block' : 'none';\n",
              "    })();\n",
              "  </script>\n",
              "</div>\n",
              "    </div>\n",
              "  </div>\n"
            ],
            "application/vnd.google.colaboratory.intrinsic+json": {
              "type": "dataframe",
              "variable_name": "df_1hour"
            }
          },
          "metadata": {},
          "execution_count": 6
        }
      ],
      "source": [
        "df_1hour.head()"
      ]
    },
    {
      "cell_type": "code",
      "execution_count": 7,
      "id": "55278652-16ae-4ca5-8539-77c5d1db00c3",
      "metadata": {
        "colab": {
          "base_uri": "https://localhost:8080/",
          "height": 206
        },
        "id": "55278652-16ae-4ca5-8539-77c5d1db00c3",
        "outputId": "170a3bb5-3ab6-4f1b-e351-f6c92854b906"
      },
      "outputs": [
        {
          "output_type": "execute_result",
          "data": {
            "text/plain": [
              "                 time  open_1day  close_1day  volume_1day  low_1day  \\\n",
              "0 2022-09-30 23:50:00     231.68      217.70   24588842.0    189.42   \n",
              "1 2022-10-03 23:50:00     219.00      215.83    5070201.0    213.63   \n",
              "2 2022-10-04 23:50:00     216.48      210.72    4975859.0    208.80   \n",
              "3 2022-10-05 23:50:00     211.50      209.50    5322122.0    202.85   \n",
              "4 2022-10-06 23:50:00     210.00      212.86    5165564.0    209.60   \n",
              "\n",
              "   high_1day ticker  \n",
              "0     238.72   GAZP  \n",
              "1     220.55   GAZP  \n",
              "2     216.70   GAZP  \n",
              "3     211.50   GAZP  \n",
              "4     216.88   GAZP  "
            ],
            "text/html": [
              "\n",
              "  <div id=\"df-8c6a4aaa-f14d-49a0-a1b0-057cdc0b2b28\" class=\"colab-df-container\">\n",
              "    <div>\n",
              "<style scoped>\n",
              "    .dataframe tbody tr th:only-of-type {\n",
              "        vertical-align: middle;\n",
              "    }\n",
              "\n",
              "    .dataframe tbody tr th {\n",
              "        vertical-align: top;\n",
              "    }\n",
              "\n",
              "    .dataframe thead th {\n",
              "        text-align: right;\n",
              "    }\n",
              "</style>\n",
              "<table border=\"1\" class=\"dataframe\">\n",
              "  <thead>\n",
              "    <tr style=\"text-align: right;\">\n",
              "      <th></th>\n",
              "      <th>time</th>\n",
              "      <th>open_1day</th>\n",
              "      <th>close_1day</th>\n",
              "      <th>volume_1day</th>\n",
              "      <th>low_1day</th>\n",
              "      <th>high_1day</th>\n",
              "      <th>ticker</th>\n",
              "    </tr>\n",
              "  </thead>\n",
              "  <tbody>\n",
              "    <tr>\n",
              "      <th>0</th>\n",
              "      <td>2022-09-30 23:50:00</td>\n",
              "      <td>231.68</td>\n",
              "      <td>217.70</td>\n",
              "      <td>24588842.0</td>\n",
              "      <td>189.42</td>\n",
              "      <td>238.72</td>\n",
              "      <td>GAZP</td>\n",
              "    </tr>\n",
              "    <tr>\n",
              "      <th>1</th>\n",
              "      <td>2022-10-03 23:50:00</td>\n",
              "      <td>219.00</td>\n",
              "      <td>215.83</td>\n",
              "      <td>5070201.0</td>\n",
              "      <td>213.63</td>\n",
              "      <td>220.55</td>\n",
              "      <td>GAZP</td>\n",
              "    </tr>\n",
              "    <tr>\n",
              "      <th>2</th>\n",
              "      <td>2022-10-04 23:50:00</td>\n",
              "      <td>216.48</td>\n",
              "      <td>210.72</td>\n",
              "      <td>4975859.0</td>\n",
              "      <td>208.80</td>\n",
              "      <td>216.70</td>\n",
              "      <td>GAZP</td>\n",
              "    </tr>\n",
              "    <tr>\n",
              "      <th>3</th>\n",
              "      <td>2022-10-05 23:50:00</td>\n",
              "      <td>211.50</td>\n",
              "      <td>209.50</td>\n",
              "      <td>5322122.0</td>\n",
              "      <td>202.85</td>\n",
              "      <td>211.50</td>\n",
              "      <td>GAZP</td>\n",
              "    </tr>\n",
              "    <tr>\n",
              "      <th>4</th>\n",
              "      <td>2022-10-06 23:50:00</td>\n",
              "      <td>210.00</td>\n",
              "      <td>212.86</td>\n",
              "      <td>5165564.0</td>\n",
              "      <td>209.60</td>\n",
              "      <td>216.88</td>\n",
              "      <td>GAZP</td>\n",
              "    </tr>\n",
              "  </tbody>\n",
              "</table>\n",
              "</div>\n",
              "    <div class=\"colab-df-buttons\">\n",
              "\n",
              "  <div class=\"colab-df-container\">\n",
              "    <button class=\"colab-df-convert\" onclick=\"convertToInteractive('df-8c6a4aaa-f14d-49a0-a1b0-057cdc0b2b28')\"\n",
              "            title=\"Convert this dataframe to an interactive table.\"\n",
              "            style=\"display:none;\">\n",
              "\n",
              "  <svg xmlns=\"http://www.w3.org/2000/svg\" height=\"24px\" viewBox=\"0 -960 960 960\">\n",
              "    <path d=\"M120-120v-720h720v720H120Zm60-500h600v-160H180v160Zm220 220h160v-160H400v160Zm0 220h160v-160H400v160ZM180-400h160v-160H180v160Zm440 0h160v-160H620v160ZM180-180h160v-160H180v160Zm440 0h160v-160H620v160Z\"/>\n",
              "  </svg>\n",
              "    </button>\n",
              "\n",
              "  <style>\n",
              "    .colab-df-container {\n",
              "      display:flex;\n",
              "      gap: 12px;\n",
              "    }\n",
              "\n",
              "    .colab-df-convert {\n",
              "      background-color: #E8F0FE;\n",
              "      border: none;\n",
              "      border-radius: 50%;\n",
              "      cursor: pointer;\n",
              "      display: none;\n",
              "      fill: #1967D2;\n",
              "      height: 32px;\n",
              "      padding: 0 0 0 0;\n",
              "      width: 32px;\n",
              "    }\n",
              "\n",
              "    .colab-df-convert:hover {\n",
              "      background-color: #E2EBFA;\n",
              "      box-shadow: 0px 1px 2px rgba(60, 64, 67, 0.3), 0px 1px 3px 1px rgba(60, 64, 67, 0.15);\n",
              "      fill: #174EA6;\n",
              "    }\n",
              "\n",
              "    .colab-df-buttons div {\n",
              "      margin-bottom: 4px;\n",
              "    }\n",
              "\n",
              "    [theme=dark] .colab-df-convert {\n",
              "      background-color: #3B4455;\n",
              "      fill: #D2E3FC;\n",
              "    }\n",
              "\n",
              "    [theme=dark] .colab-df-convert:hover {\n",
              "      background-color: #434B5C;\n",
              "      box-shadow: 0px 1px 3px 1px rgba(0, 0, 0, 0.15);\n",
              "      filter: drop-shadow(0px 1px 2px rgba(0, 0, 0, 0.3));\n",
              "      fill: #FFFFFF;\n",
              "    }\n",
              "  </style>\n",
              "\n",
              "    <script>\n",
              "      const buttonEl =\n",
              "        document.querySelector('#df-8c6a4aaa-f14d-49a0-a1b0-057cdc0b2b28 button.colab-df-convert');\n",
              "      buttonEl.style.display =\n",
              "        google.colab.kernel.accessAllowed ? 'block' : 'none';\n",
              "\n",
              "      async function convertToInteractive(key) {\n",
              "        const element = document.querySelector('#df-8c6a4aaa-f14d-49a0-a1b0-057cdc0b2b28');\n",
              "        const dataTable =\n",
              "          await google.colab.kernel.invokeFunction('convertToInteractive',\n",
              "                                                    [key], {});\n",
              "        if (!dataTable) return;\n",
              "\n",
              "        const docLinkHtml = 'Like what you see? Visit the ' +\n",
              "          '<a target=\"_blank\" href=https://colab.research.google.com/notebooks/data_table.ipynb>data table notebook</a>'\n",
              "          + ' to learn more about interactive tables.';\n",
              "        element.innerHTML = '';\n",
              "        dataTable['output_type'] = 'display_data';\n",
              "        await google.colab.output.renderOutput(dataTable, element);\n",
              "        const docLink = document.createElement('div');\n",
              "        docLink.innerHTML = docLinkHtml;\n",
              "        element.appendChild(docLink);\n",
              "      }\n",
              "    </script>\n",
              "  </div>\n",
              "\n",
              "\n",
              "<div id=\"df-74b89d12-2c92-42ed-b6fc-9df836f69628\">\n",
              "  <button class=\"colab-df-quickchart\" onclick=\"quickchart('df-74b89d12-2c92-42ed-b6fc-9df836f69628')\"\n",
              "            title=\"Suggest charts\"\n",
              "            style=\"display:none;\">\n",
              "\n",
              "<svg xmlns=\"http://www.w3.org/2000/svg\" height=\"24px\"viewBox=\"0 0 24 24\"\n",
              "     width=\"24px\">\n",
              "    <g>\n",
              "        <path d=\"M19 3H5c-1.1 0-2 .9-2 2v14c0 1.1.9 2 2 2h14c1.1 0 2-.9 2-2V5c0-1.1-.9-2-2-2zM9 17H7v-7h2v7zm4 0h-2V7h2v10zm4 0h-2v-4h2v4z\"/>\n",
              "    </g>\n",
              "</svg>\n",
              "  </button>\n",
              "\n",
              "<style>\n",
              "  .colab-df-quickchart {\n",
              "      --bg-color: #E8F0FE;\n",
              "      --fill-color: #1967D2;\n",
              "      --hover-bg-color: #E2EBFA;\n",
              "      --hover-fill-color: #174EA6;\n",
              "      --disabled-fill-color: #AAA;\n",
              "      --disabled-bg-color: #DDD;\n",
              "  }\n",
              "\n",
              "  [theme=dark] .colab-df-quickchart {\n",
              "      --bg-color: #3B4455;\n",
              "      --fill-color: #D2E3FC;\n",
              "      --hover-bg-color: #434B5C;\n",
              "      --hover-fill-color: #FFFFFF;\n",
              "      --disabled-bg-color: #3B4455;\n",
              "      --disabled-fill-color: #666;\n",
              "  }\n",
              "\n",
              "  .colab-df-quickchart {\n",
              "    background-color: var(--bg-color);\n",
              "    border: none;\n",
              "    border-radius: 50%;\n",
              "    cursor: pointer;\n",
              "    display: none;\n",
              "    fill: var(--fill-color);\n",
              "    height: 32px;\n",
              "    padding: 0;\n",
              "    width: 32px;\n",
              "  }\n",
              "\n",
              "  .colab-df-quickchart:hover {\n",
              "    background-color: var(--hover-bg-color);\n",
              "    box-shadow: 0 1px 2px rgba(60, 64, 67, 0.3), 0 1px 3px 1px rgba(60, 64, 67, 0.15);\n",
              "    fill: var(--button-hover-fill-color);\n",
              "  }\n",
              "\n",
              "  .colab-df-quickchart-complete:disabled,\n",
              "  .colab-df-quickchart-complete:disabled:hover {\n",
              "    background-color: var(--disabled-bg-color);\n",
              "    fill: var(--disabled-fill-color);\n",
              "    box-shadow: none;\n",
              "  }\n",
              "\n",
              "  .colab-df-spinner {\n",
              "    border: 2px solid var(--fill-color);\n",
              "    border-color: transparent;\n",
              "    border-bottom-color: var(--fill-color);\n",
              "    animation:\n",
              "      spin 1s steps(1) infinite;\n",
              "  }\n",
              "\n",
              "  @keyframes spin {\n",
              "    0% {\n",
              "      border-color: transparent;\n",
              "      border-bottom-color: var(--fill-color);\n",
              "      border-left-color: var(--fill-color);\n",
              "    }\n",
              "    20% {\n",
              "      border-color: transparent;\n",
              "      border-left-color: var(--fill-color);\n",
              "      border-top-color: var(--fill-color);\n",
              "    }\n",
              "    30% {\n",
              "      border-color: transparent;\n",
              "      border-left-color: var(--fill-color);\n",
              "      border-top-color: var(--fill-color);\n",
              "      border-right-color: var(--fill-color);\n",
              "    }\n",
              "    40% {\n",
              "      border-color: transparent;\n",
              "      border-right-color: var(--fill-color);\n",
              "      border-top-color: var(--fill-color);\n",
              "    }\n",
              "    60% {\n",
              "      border-color: transparent;\n",
              "      border-right-color: var(--fill-color);\n",
              "    }\n",
              "    80% {\n",
              "      border-color: transparent;\n",
              "      border-right-color: var(--fill-color);\n",
              "      border-bottom-color: var(--fill-color);\n",
              "    }\n",
              "    90% {\n",
              "      border-color: transparent;\n",
              "      border-bottom-color: var(--fill-color);\n",
              "    }\n",
              "  }\n",
              "</style>\n",
              "\n",
              "  <script>\n",
              "    async function quickchart(key) {\n",
              "      const quickchartButtonEl =\n",
              "        document.querySelector('#' + key + ' button');\n",
              "      quickchartButtonEl.disabled = true;  // To prevent multiple clicks.\n",
              "      quickchartButtonEl.classList.add('colab-df-spinner');\n",
              "      try {\n",
              "        const charts = await google.colab.kernel.invokeFunction(\n",
              "            'suggestCharts', [key], {});\n",
              "      } catch (error) {\n",
              "        console.error('Error during call to suggestCharts:', error);\n",
              "      }\n",
              "      quickchartButtonEl.classList.remove('colab-df-spinner');\n",
              "      quickchartButtonEl.classList.add('colab-df-quickchart-complete');\n",
              "    }\n",
              "    (() => {\n",
              "      let quickchartButtonEl =\n",
              "        document.querySelector('#df-74b89d12-2c92-42ed-b6fc-9df836f69628 button');\n",
              "      quickchartButtonEl.style.display =\n",
              "        google.colab.kernel.accessAllowed ? 'block' : 'none';\n",
              "    })();\n",
              "  </script>\n",
              "</div>\n",
              "    </div>\n",
              "  </div>\n"
            ],
            "application/vnd.google.colaboratory.intrinsic+json": {
              "type": "dataframe",
              "variable_name": "df_1day",
              "summary": "{\n  \"name\": \"df_1day\",\n  \"rows\": 9724,\n  \"fields\": [\n    {\n      \"column\": \"time\",\n      \"properties\": {\n        \"dtype\": \"date\",\n        \"min\": \"2022-09-30 23:50:00\",\n        \"max\": \"2024-11-19 23:50:00\",\n        \"num_unique_values\": 543,\n        \"samples\": [\n          \"2024-10-31 23:50:00\",\n          \"2024-08-20 23:50:00\",\n          \"2024-02-21 23:50:00\"\n        ],\n        \"semantic_type\": \"\",\n        \"description\": \"\"\n      }\n    },\n    {\n      \"column\": \"open_1day\",\n      \"properties\": {\n        \"dtype\": \"number\",\n        \"std\": 1937.0108254909549,\n        \"min\": 17.0,\n        \"max\": 8450.0,\n        \"num_unique_values\": 7746,\n        \"samples\": [\n          6900.5,\n          6400.0,\n          524.5\n        ],\n        \"semantic_type\": \"\",\n        \"description\": \"\"\n      }\n    },\n    {\n      \"column\": \"close_1day\",\n      \"properties\": {\n        \"dtype\": \"number\",\n        \"std\": 1936.2692999247358,\n        \"min\": 17.6,\n        \"max\": 8444.0,\n        \"num_unique_values\": 8328,\n        \"samples\": [\n          393.8,\n          4696.0,\n          43.115\n        ],\n        \"semantic_type\": \"\",\n        \"description\": \"\"\n      }\n    },\n    {\n      \"column\": \"volume_1day\",\n      \"properties\": {\n        \"dtype\": \"number\",\n        \"std\": 1996848.4600538835,\n        \"min\": 18214.0,\n        \"max\": 38785459.0,\n        \"num_unique_values\": 9705,\n        \"samples\": [\n          970303.0,\n          303054.0,\n          67449.0\n        ],\n        \"semantic_type\": \"\",\n        \"description\": \"\"\n      }\n    },\n    {\n      \"column\": \"low_1day\",\n      \"properties\": {\n        \"dtype\": \"number\",\n        \"std\": 1912.1547526616498,\n        \"min\": 16.815,\n        \"max\": 8315.0,\n        \"num_unique_values\": 7977,\n        \"samples\": [\n          38.835,\n          456.0,\n          2653.0\n        ],\n        \"semantic_type\": \"\",\n        \"description\": \"\"\n      }\n    },\n    {\n      \"column\": \"high_1day\",\n      \"properties\": {\n        \"dtype\": \"number\",\n        \"std\": 1958.46340887092,\n        \"min\": 18.39,\n        \"max\": 8488.0,\n        \"num_unique_values\": 8045,\n        \"samples\": [\n          270.5,\n          253.75,\n          144.9\n        ],\n        \"semantic_type\": \"\",\n        \"description\": \"\"\n      }\n    },\n    {\n      \"column\": \"ticker\",\n      \"properties\": {\n        \"dtype\": \"category\",\n        \"num_unique_values\": 18,\n        \"samples\": [\n          \"GAZP\",\n          \"SBER\",\n          \"NLMK\"\n        ],\n        \"semantic_type\": \"\",\n        \"description\": \"\"\n      }\n    }\n  ]\n}"
            }
          },
          "metadata": {},
          "execution_count": 7
        }
      ],
      "source": [
        "df_1day.head()"
      ]
    },
    {
      "cell_type": "code",
      "execution_count": 7,
      "id": "28e28575-c36c-4be2-9733-6825e4faef46",
      "metadata": {
        "id": "28e28575-c36c-4be2-9733-6825e4faef46"
      },
      "outputs": [],
      "source": []
    },
    {
      "cell_type": "markdown",
      "id": "d4bdf3c8-1258-4555-9d7c-d063602f9a22",
      "metadata": {
        "id": "d4bdf3c8-1258-4555-9d7c-d063602f9a22"
      },
      "source": [
        "### Normalization data"
      ]
    },
    {
      "cell_type": "code",
      "execution_count": 8,
      "id": "f4b796de-03a6-46cb-9452-28472f9bd9d6",
      "metadata": {
        "id": "f4b796de-03a6-46cb-9452-28472f9bd9d6"
      },
      "outputs": [],
      "source": [
        "from sklearn.preprocessing import StandardScaler\n",
        "\n",
        "cols = ['open', 'close', 'volume', 'low', 'high']\n",
        "scaler = StandardScaler()\n",
        "df_1min[cols] = scaler.fit_transform(df_1min[cols])\n",
        "\n",
        "cols = ['open_5min', 'close_5min', 'volume_5min', 'low_5min', 'high_5min']\n",
        "scaler = StandardScaler()\n",
        "df_5min[cols] = scaler.fit_transform(df_5min[cols])\n",
        "\n",
        "cols = ['open_1hour', 'close_1hour', 'volume_1hour', 'low_1hour', 'high_1hour']\n",
        "scaler = StandardScaler()\n",
        "df_1hour[cols] = scaler.fit_transform(df_1hour[cols])\n",
        "\n",
        "cols = ['open_1day', 'close_1day', 'volume_1day', 'low_1day', 'high_1day']\n",
        "scaler = StandardScaler()\n",
        "df_1day[cols] = scaler.fit_transform(df_1day[cols])"
      ]
    },
    {
      "cell_type": "code",
      "execution_count": 8,
      "id": "95c876d0-b0c4-4ea1-ae9e-406b794785a3",
      "metadata": {
        "id": "95c876d0-b0c4-4ea1-ae9e-406b794785a3"
      },
      "outputs": [],
      "source": []
    },
    {
      "cell_type": "code",
      "execution_count": 8,
      "id": "62e166c7-95ef-442d-a570-9374143680a7",
      "metadata": {
        "id": "62e166c7-95ef-442d-a570-9374143680a7"
      },
      "outputs": [],
      "source": []
    },
    {
      "cell_type": "code",
      "execution_count": 9,
      "id": "a0611864-8569-418a-a959-5ab39595b320",
      "metadata": {
        "id": "a0611864-8569-418a-a959-5ab39595b320"
      },
      "outputs": [],
      "source": [
        "df_1min['target'] = (df_1min['result'] == 'WIN').astype(int)"
      ]
    },
    {
      "cell_type": "code",
      "execution_count": 10,
      "id": "206263ce-b65e-40eb-8db5-252cc2fb8b09",
      "metadata": {
        "colab": {
          "base_uri": "https://localhost:8080/",
          "height": 661
        },
        "id": "206263ce-b65e-40eb-8db5-252cc2fb8b09",
        "outputId": "c569d508-1790-43f7-e893-baf5582776bc"
      },
      "outputs": [
        {
          "output_type": "stream",
          "name": "stderr",
          "text": [
            "<ipython-input-10-196b51a17f13>:1: FutureWarning: 'M' is deprecated and will be removed in a future version, please use 'ME' instead.\n",
            "  df_1min[['time', 'target']].groupby(pd.Grouper(key='time', freq='M')).target.count().plot.bar()\n"
          ]
        },
        {
          "output_type": "execute_result",
          "data": {
            "text/plain": [
              "<Axes: xlabel='time'>"
            ]
          },
          "metadata": {},
          "execution_count": 10
        },
        {
          "output_type": "display_data",
          "data": {
            "text/plain": [
              "<Figure size 640x480 with 1 Axes>"
            ],
            "image/png": "[encoded data removed]"
          },
          "metadata": {}
        }
      ],
      "source": [
        "df_1min[['time', 'target']].groupby(pd.Grouper(key='time', freq='M')).target.count().plot.bar()"
      ]
    },
    {
      "cell_type": "code",
      "execution_count": 11,
      "id": "f3472da7-9d47-4cc9-9010-79813506b891",
      "metadata": {
        "colab": {
          "base_uri": "https://localhost:8080/",
          "height": 657
        },
        "id": "f3472da7-9d47-4cc9-9010-79813506b891",
        "outputId": "d57a05f5-d67c-4d6b-aead-9f4c8330bf84"
      },
      "outputs": [
        {
          "output_type": "stream",
          "name": "stderr",
          "text": [
            "<ipython-input-11-3d23f5904986>:1: FutureWarning: 'M' is deprecated and will be removed in a future version, please use 'ME' instead.\n",
            "  df_1min[['time', 'target']].groupby(pd.Grouper(key='time', freq='M')).target.mean().plot.bar()\n"
          ]
        },
        {
          "output_type": "execute_result",
          "data": {
            "text/plain": [
              "<Axes: xlabel='time'>"
            ]
          },
          "metadata": {},
          "execution_count": 11
        },
        {
          "output_type": "display_data",
          "data": {
            "text/plain": [
              "<Figure size 640x480 with 1 Axes>"
            ],
            "image/png": "[encoded data removed]"
          },
          "metadata": {}
        }
      ],
      "source": [
        "df_1min[['time', 'target']].groupby(pd.Grouper(key='time', freq='M')).target.mean().plot.bar()"
      ]
    },
    {
      "cell_type": "code",
      "execution_count": 11,
      "id": "76a0d3ac-ea8e-4f05-919a-73bdeb4f467c",
      "metadata": {
        "id": "76a0d3ac-ea8e-4f05-919a-73bdeb4f467c"
      },
      "outputs": [],
      "source": []
    },
    {
      "cell_type": "code",
      "execution_count": 12,
      "id": "141aef3f-7651-4697-a0f5-fb3074f85ae6",
      "metadata": {
        "id": "141aef3f-7651-4697-a0f5-fb3074f85ae6"
      },
      "outputs": [],
      "source": [
        "#в 2024 году - 248 рабочих дней, возьмем длину последовательности данных 200 (и так будет долго учиться)"
      ]
    },
    {
      "cell_type": "markdown",
      "id": "ec38de64-4dd9-4591-ac20-faa9bcb842cb",
      "metadata": {
        "id": "ec38de64-4dd9-4591-ac20-faa9bcb842cb"
      },
      "source": [
        "![](imoex.png)"
      ]
    },
    {
      "cell_type": "code",
      "execution_count": 13,
      "id": "91a9b3ab-3c5c-4ea7-93ca-32e75db8300e",
      "metadata": {
        "id": "91a9b3ab-3c5c-4ea7-93ca-32e75db8300e"
      },
      "outputs": [],
      "source": [
        "mask_train = np.array((pd.Timestamp('2023-10-01') <= df_1min['time']) & (df_1min['time'] < pd.Timestamp('2024-06-01')))\n",
        "mask_valid = np.array((pd.Timestamp('2024-06-01') <= df_1min['time']) & (df_1min['time'] < pd.Timestamp('2024-08-01')))\n",
        "mask_test = np.array((pd.Timestamp('2024-08-01') <= df_1min['time']) & (df_1min['time'] < pd.Timestamp('2024-10-01')))\n",
        "mask_test2 = np.array((pd.Timestamp('2024-10-01') <= df_1min['time']) & (df_1min['time'] < pd.Timestamp('2024-11-19')))"
      ]
    },
    {
      "cell_type": "code",
      "execution_count": 13,
      "id": "a13220ef-98dc-44a2-9021-9978e294137b",
      "metadata": {
        "id": "a13220ef-98dc-44a2-9021-9978e294137b"
      },
      "outputs": [],
      "source": []
    },
    {
      "cell_type": "code",
      "execution_count": 14,
      "id": "897198eb-3e2c-4d60-93e5-73758855bf54",
      "metadata": {
        "colab": {
          "base_uri": "https://localhost:8080/"
        },
        "id": "897198eb-3e2c-4d60-93e5-73758855bf54",
        "outputId": "31528710-5ff4-4ff5-c8ee-89adcfa81fe7"
      },
      "outputs": [
        {
          "output_type": "execute_result",
          "data": {
            "text/plain": [
              "(2453935, 597323, 620944, 497823)"
            ]
          },
          "metadata": {},
          "execution_count": 14
        }
      ],
      "source": [
        "mask_train.sum(), mask_valid.sum(), mask_test.sum(), mask_test2.sum()"
      ]
    },
    {
      "cell_type": "code",
      "execution_count": 15,
      "id": "9d034842-5335-4162-b271-467cfb9efc5a",
      "metadata": {
        "colab": {
          "base_uri": "https://localhost:8080/"
        },
        "id": "9d034842-5335-4162-b271-467cfb9efc5a",
        "outputId": "bc59686a-eddd-4966-cbb7-8852d036fb39"
      },
      "outputs": [
        {
          "output_type": "execute_result",
          "data": {
            "text/plain": [
              "4170025"
            ]
          },
          "metadata": {},
          "execution_count": 15
        }
      ],
      "source": [
        "mask_data = mask_train|mask_valid|mask_test|mask_test2\n",
        "(mask_data).sum()"
      ]
    },
    {
      "cell_type": "code",
      "execution_count": 16,
      "id": "e43d7543-daf2-495d-b4ea-15dd838d133c",
      "metadata": {
        "colab": {
          "base_uri": "https://localhost:8080/"
        },
        "id": "e43d7543-daf2-495d-b4ea-15dd838d133c",
        "outputId": "5d06dad9-312e-4eb7-d076-e29902595b66"
      },
      "outputs": [
        {
          "output_type": "execute_result",
          "data": {
            "text/plain": [
              "(0.5884700931049575,\n",
              " 0.14324206689408336,\n",
              " 0.14890654132768988,\n",
              " 0.11938129867326934)"
            ]
          },
          "metadata": {},
          "execution_count": 16
        }
      ],
      "source": [
        "mask_train.sum()/(mask_data).sum(), mask_valid.sum()/(mask_data).sum(), mask_test.sum()/(mask_data).sum(), mask_test2.sum()/(mask_data).sum()"
      ]
    },
    {
      "cell_type": "code",
      "execution_count": 17,
      "id": "cb46d1d9-fc8c-45c5-99e5-bf771bdb6ccc",
      "metadata": {
        "colab": {
          "base_uri": "https://localhost:8080/"
        },
        "id": "cb46d1d9-fc8c-45c5-99e5-bf771bdb6ccc",
        "outputId": "7b5a44f3-c787-4f32-d16f-bf671aae107c"
      },
      "outputs": [
        {
          "output_type": "execute_result",
          "data": {
            "text/plain": [
              "(0.06044455130229611,\n",
              " 0.10156816328853903,\n",
              " 0.11664175835502075,\n",
              " 0.10381199743684)"
            ]
          },
          "metadata": {},
          "execution_count": 17
        }
      ],
      "source": [
        "df_1min.loc[mask_train, 'target'].mean(), df_1min.loc[mask_valid, 'target'].mean(), df_1min.loc[mask_test, 'target'].mean(), df_1min.loc[mask_test2, 'target'].mean()"
      ]
    },
    {
      "cell_type": "code",
      "execution_count": 17,
      "id": "6c094dc7-ebcc-4cad-8293-44588414860f",
      "metadata": {
        "id": "6c094dc7-ebcc-4cad-8293-44588414860f"
      },
      "outputs": [],
      "source": []
    },
    {
      "cell_type": "code",
      "execution_count": 17,
      "id": "b4602e6e-aff7-4891-860c-ea7203ace1b0",
      "metadata": {
        "id": "b4602e6e-aff7-4891-860c-ea7203ace1b0"
      },
      "outputs": [],
      "source": []
    },
    {
      "cell_type": "code",
      "execution_count": 18,
      "id": "b89d98db-d939-4ef2-bbc1-f1d31bf5cd15",
      "metadata": {
        "id": "b89d98db-d939-4ef2-bbc1-f1d31bf5cd15"
      },
      "outputs": [],
      "source": [
        "#проверки"
      ]
    },
    {
      "cell_type": "code",
      "execution_count": 19,
      "id": "4b37867a-0700-4508-b310-38dcabce67b3",
      "metadata": {
        "colab": {
          "base_uri": "https://localhost:8080/"
        },
        "id": "4b37867a-0700-4508-b310-38dcabce67b3",
        "outputId": "309f8d11-ba71-4efb-8795-e04775f7a59b"
      },
      "outputs": [
        {
          "output_type": "execute_result",
          "data": {
            "text/plain": [
              "True"
            ]
          },
          "metadata": {},
          "execution_count": 19
        }
      ],
      "source": [
        "(mask_train.sum()+mask_valid.sum()+mask_test.sum()+mask_test2.sum()) ==(mask_data).sum()"
      ]
    },
    {
      "cell_type": "code",
      "execution_count": 19,
      "id": "ec2e95ec-fef3-49a2-8098-3824eb514908",
      "metadata": {
        "id": "ec2e95ec-fef3-49a2-8098-3824eb514908"
      },
      "outputs": [],
      "source": []
    },
    {
      "cell_type": "code",
      "execution_count": 20,
      "id": "48c7f32e-bb06-4b1e-87e9-d53dae494085",
      "metadata": {
        "colab": {
          "base_uri": "https://localhost:8080/",
          "height": 657
        },
        "id": "48c7f32e-bb06-4b1e-87e9-d53dae494085",
        "outputId": "72afa85b-0523-430b-a319-649f7e14ed03"
      },
      "outputs": [
        {
          "output_type": "stream",
          "name": "stderr",
          "text": [
            "<ipython-input-20-05e394993a2f>:1: FutureWarning: 'M' is deprecated and will be removed in a future version, please use 'ME' instead.\n",
            "  df_1min.loc[mask_data, ['time', 'target']].groupby(pd.Grouper(key='time', freq='M')).target.count().plot.bar()\n"
          ]
        },
        {
          "output_type": "execute_result",
          "data": {
            "text/plain": [
              "<Axes: xlabel='time'>"
            ]
          },
          "metadata": {},
          "execution_count": 20
        },
        {
          "output_type": "display_data",
          "data": {
            "text/plain": [
              "<Figure size 640x480 with 1 Axes>"
            ],
            "image/png": "[encoded data removed]"
          },
          "metadata": {}
        }
      ],
      "source": [
        "df_1min.loc[mask_data, ['time', 'target']].groupby(pd.Grouper(key='time', freq='M')).target.count().plot.bar()"
      ]
    },
    {
      "cell_type": "code",
      "execution_count": 20,
      "id": "c20abf1c-e42e-4b0f-8a39-dbfb069e6070",
      "metadata": {
        "id": "c20abf1c-e42e-4b0f-8a39-dbfb069e6070"
      },
      "outputs": [],
      "source": []
    },
    {
      "cell_type": "code",
      "execution_count": 20,
      "id": "21921a29-5e2f-4de7-b6b7-8deeaef28fdb",
      "metadata": {
        "id": "21921a29-5e2f-4de7-b6b7-8deeaef28fdb"
      },
      "outputs": [],
      "source": []
    },
    {
      "cell_type": "code",
      "execution_count": 21,
      "id": "f0ee2b61-f46b-4b29-b5f3-e6c08d9b953b",
      "metadata": {
        "id": "f0ee2b61-f46b-4b29-b5f3-e6c08d9b953b"
      },
      "outputs": [],
      "source": [
        "#indexes\n",
        "\n",
        "inds_train = df_1min.index[mask_train].values\n",
        "inds_valid = df_1min.index[mask_valid].values\n",
        "inds_test = df_1min.index[mask_test].values\n",
        "inds_test2 = df_1min.index[mask_test2].values"
      ]
    },
    {
      "cell_type": "code",
      "execution_count": 22,
      "id": "9ecf4f4e-a20d-485b-a6ab-6209a3bd3ea5",
      "metadata": {
        "colab": {
          "base_uri": "https://localhost:8080/"
        },
        "id": "9ecf4f4e-a20d-485b-a6ab-6209a3bd3ea5",
        "outputId": "6725d56f-79dd-4c80-92be-7db39df7f701"
      },
      "outputs": [
        {
          "output_type": "execute_result",
          "data": {
            "text/plain": [
              "array([ 208476,  208477,  208478, ..., 7752162, 7752163, 7752164])"
            ]
          },
          "metadata": {},
          "execution_count": 22
        }
      ],
      "source": [
        "inds_train"
      ]
    },
    {
      "cell_type": "code",
      "execution_count": 22,
      "id": "cea07275-c394-4c37-942b-8657225aa772",
      "metadata": {
        "id": "cea07275-c394-4c37-942b-8657225aa772"
      },
      "outputs": [],
      "source": []
    },
    {
      "cell_type": "code",
      "execution_count": 23,
      "id": "59edcf5f-87da-4e09-b94a-6e84edd80e81",
      "metadata": {
        "id": "59edcf5f-87da-4e09-b94a-6e84edd80e81"
      },
      "outputs": [],
      "source": [
        "#проверим, что все индексы валидны\n",
        "#у каждой точки должно быть 200 точек назад (минут, 5минут, часов, дней)"
      ]
    },
    {
      "cell_type": "code",
      "execution_count": 24,
      "id": "2fb03051-0e35-4731-b689-8b99a1dba676",
      "metadata": {
        "colab": {
          "base_uri": "https://localhost:8080/",
          "height": 313
        },
        "id": "2fb03051-0e35-4731-b689-8b99a1dba676",
        "outputId": "001a061b-f0d8-4a77-9c8e-5d398b8fc64e"
      },
      "outputs": [
        {
          "output_type": "execute_result",
          "data": {
            "text/plain": [
              "                 time      open     close     volume       low      high  \\\n",
              "0 2022-10-03 10:01:00 -0.599164 -0.598683  12.888418 -0.599620 -0.598569   \n",
              "1 2022-10-03 10:02:00 -0.598751 -0.598234   8.946152 -0.598742 -0.598414   \n",
              "2 2022-10-03 10:03:00 -0.598524 -0.598987   7.607878 -0.599000 -0.598502   \n",
              "3 2022-10-03 10:04:00 -0.599076 -0.599183   8.939692 -0.599774 -0.599008   \n",
              "4 2022-10-03 10:05:00 -0.599256 -0.599524   7.431224 -0.599743 -0.599235   \n",
              "\n",
              "  ticker index_1min_start  index_5min index_start_5min  index_1hour  \\\n",
              "0   GAZP                0         NaN              NaN          NaN   \n",
              "1   GAZP                0         NaN              NaN          NaN   \n",
              "2   GAZP                0         NaN              NaN          NaN   \n",
              "3   GAZP                0         NaN              NaN          NaN   \n",
              "4   GAZP                0         0.0                0          NaN   \n",
              "\n",
              "  index_start_1hour  index_1day index_start_1day result      delta_time  \\\n",
              "0               NaN         NaN              NaN   LOSE 0 days 00:04:00   \n",
              "1               NaN         NaN              NaN   LOSE 0 days 00:01:00   \n",
              "2               NaN         NaN              NaN   LOSE 0 days 00:03:00   \n",
              "3               NaN         NaN              NaN   LOSE 0 days 00:02:00   \n",
              "4               NaN         NaN              NaN   LOSE 0 days 00:07:00   \n",
              "\n",
              "   target  \n",
              "0       0  \n",
              "1       0  \n",
              "2       0  \n",
              "3       0  \n",
              "4       0  "
            ],
            "text/html": [
              "\n",
              "  <div id=\"df-0a515607-5f9b-4431-ad6a-559a5d67420a\" class=\"colab-df-container\">\n",
              "    <div>\n",
              "<style scoped>\n",
              "    .dataframe tbody tr th:only-of-type {\n",
              "        vertical-align: middle;\n",
              "    }\n",
              "\n",
              "    .dataframe tbody tr th {\n",
              "        vertical-align: top;\n",
              "    }\n",
              "\n",
              "    .dataframe thead th {\n",
              "        text-align: right;\n",
              "    }\n",
              "</style>\n",
              "<table border=\"1\" class=\"dataframe\">\n",
              "  <thead>\n",
              "    <tr style=\"text-align: right;\">\n",
              "      <th></th>\n",
              "      <th>time</th>\n",
              "      <th>open</th>\n",
              "      <th>close</th>\n",
              "      <th>volume</th>\n",
              "      <th>low</th>\n",
              "      <th>high</th>\n",
              "      <th>ticker</th>\n",
              "      <th>index_1min_start</th>\n",
              "      <th>index_5min</th>\n",
              "      <th>index_start_5min</th>\n",
              "      <th>index_1hour</th>\n",
              "      <th>index_start_1hour</th>\n",
              "      <th>index_1day</th>\n",
              "      <th>index_start_1day</th>\n",
              "      <th>result</th>\n",
              "      <th>delta_time</th>\n",
              "      <th>target</th>\n",
              "    </tr>\n",
              "  </thead>\n",
              "  <tbody>\n",
              "    <tr>\n",
              "      <th>0</th>\n",
              "      <td>2022-10-03 10:01:00</td>\n",
              "      <td>-0.599164</td>\n",
              "      <td>-0.598683</td>\n",
              "      <td>12.888418</td>\n",
              "      <td>-0.599620</td>\n",
              "      <td>-0.598569</td>\n",
              "      <td>GAZP</td>\n",
              "      <td>0</td>\n",
              "      <td>NaN</td>\n",
              "      <td>NaN</td>\n",
              "      <td>NaN</td>\n",
              "      <td>NaN</td>\n",
              "      <td>NaN</td>\n",
              "      <td>NaN</td>\n",
              "      <td>LOSE</td>\n",
              "      <td>0 days 00:04:00</td>\n",
              "      <td>0</td>\n",
              "    </tr>\n",
              "    <tr>\n",
              "      <th>1</th>\n",
              "      <td>2022-10-03 10:02:00</td>\n",
              "      <td>-0.598751</td>\n",
              "      <td>-0.598234</td>\n",
              "      <td>8.946152</td>\n",
              "      <td>-0.598742</td>\n",
              "      <td>-0.598414</td>\n",
              "      <td>GAZP</td>\n",
              "      <td>0</td>\n",
              "      <td>NaN</td>\n",
              "      <td>NaN</td>\n",
              "      <td>NaN</td>\n",
              "      <td>NaN</td>\n",
              "      <td>NaN</td>\n",
              "      <td>NaN</td>\n",
              "      <td>LOSE</td>\n",
              "      <td>0 days 00:01:00</td>\n",
              "      <td>0</td>\n",
              "    </tr>\n",
              "    <tr>\n",
              "      <th>2</th>\n",
              "      <td>2022-10-03 10:03:00</td>\n",
              "      <td>-0.598524</td>\n",
              "      <td>-0.598987</td>\n",
              "      <td>7.607878</td>\n",
              "      <td>-0.599000</td>\n",
              "      <td>-0.598502</td>\n",
              "      <td>GAZP</td>\n",
              "      <td>0</td>\n",
              "      <td>NaN</td>\n",
              "      <td>NaN</td>\n",
              "      <td>NaN</td>\n",
              "      <td>NaN</td>\n",
              "      <td>NaN</td>\n",
              "      <td>NaN</td>\n",
              "      <td>LOSE</td>\n",
              "      <td>0 days 00:03:00</td>\n",
              "      <td>0</td>\n",
              "    </tr>\n",
              "    <tr>\n",
              "      <th>3</th>\n",
              "      <td>2022-10-03 10:04:00</td>\n",
              "      <td>-0.599076</td>\n",
              "      <td>-0.599183</td>\n",
              "      <td>8.939692</td>\n",
              "      <td>-0.599774</td>\n",
              "      <td>-0.599008</td>\n",
              "      <td>GAZP</td>\n",
              "      <td>0</td>\n",
              "      <td>NaN</td>\n",
              "      <td>NaN</td>\n",
              "      <td>NaN</td>\n",
              "      <td>NaN</td>\n",
              "      <td>NaN</td>\n",
              "      <td>NaN</td>\n",
              "      <td>LOSE</td>\n",
              "      <td>0 days 00:02:00</td>\n",
              "      <td>0</td>\n",
              "    </tr>\n",
              "    <tr>\n",
              "      <th>4</th>\n",
              "      <td>2022-10-03 10:05:00</td>\n",
              "      <td>-0.599256</td>\n",
              "      <td>-0.599524</td>\n",
              "      <td>7.431224</td>\n",
              "      <td>-0.599743</td>\n",
              "      <td>-0.599235</td>\n",
              "      <td>GAZP</td>\n",
              "      <td>0</td>\n",
              "      <td>0.0</td>\n",
              "      <td>0</td>\n",
              "      <td>NaN</td>\n",
              "      <td>NaN</td>\n",
              "      <td>NaN</td>\n",
              "      <td>NaN</td>\n",
              "      <td>LOSE</td>\n",
              "      <td>0 days 00:07:00</td>\n",
              "      <td>0</td>\n",
              "    </tr>\n",
              "  </tbody>\n",
              "</table>\n",
              "</div>\n",
              "    <div class=\"colab-df-buttons\">\n",
              "\n",
              "  <div class=\"colab-df-container\">\n",
              "    <button class=\"colab-df-convert\" onclick=\"convertToInteractive('df-0a515607-5f9b-4431-ad6a-559a5d67420a')\"\n",
              "            title=\"Convert this dataframe to an interactive table.\"\n",
              "            style=\"display:none;\">\n",
              "\n",
              "  <svg xmlns=\"http://www.w3.org/2000/svg\" height=\"24px\" viewBox=\"0 -960 960 960\">\n",
              "    <path d=\"M120-120v-720h720v720H120Zm60-500h600v-160H180v160Zm220 220h160v-160H400v160Zm0 220h160v-160H400v160ZM180-400h160v-160H180v160Zm440 0h160v-160H620v160ZM180-180h160v-160H180v160Zm440 0h160v-160H620v160Z\"/>\n",
              "  </svg>\n",
              "    </button>\n",
              "\n",
              "  <style>\n",
              "    .colab-df-container {\n",
              "      display:flex;\n",
              "      gap: 12px;\n",
              "    }\n",
              "\n",
              "    .colab-df-convert {\n",
              "      background-color: #E8F0FE;\n",
              "      border: none;\n",
              "      border-radius: 50%;\n",
              "      cursor: pointer;\n",
              "      display: none;\n",
              "      fill: #1967D2;\n",
              "      height: 32px;\n",
              "      padding: 0 0 0 0;\n",
              "      width: 32px;\n",
              "    }\n",
              "\n",
              "    .colab-df-convert:hover {\n",
              "      background-color: #E2EBFA;\n",
              "      box-shadow: 0px 1px 2px rgba(60, 64, 67, 0.3), 0px 1px 3px 1px rgba(60, 64, 67, 0.15);\n",
              "      fill: #174EA6;\n",
              "    }\n",
              "\n",
              "    .colab-df-buttons div {\n",
              "      margin-bottom: 4px;\n",
              "    }\n",
              "\n",
              "    [theme=dark] .colab-df-convert {\n",
              "      background-color: #3B4455;\n",
              "      fill: #D2E3FC;\n",
              "    }\n",
              "\n",
              "    [theme=dark] .colab-df-convert:hover {\n",
              "      background-color: #434B5C;\n",
              "      box-shadow: 0px 1px 3px 1px rgba(0, 0, 0, 0.15);\n",
              "      filter: drop-shadow(0px 1px 2px rgba(0, 0, 0, 0.3));\n",
              "      fill: #FFFFFF;\n",
              "    }\n",
              "  </style>\n",
              "\n",
              "    <script>\n",
              "      const buttonEl =\n",
              "        document.querySelector('#df-0a515607-5f9b-4431-ad6a-559a5d67420a button.colab-df-convert');\n",
              "      buttonEl.style.display =\n",
              "        google.colab.kernel.accessAllowed ? 'block' : 'none';\n",
              "\n",
              "      async function convertToInteractive(key) {\n",
              "        const element = document.querySelector('#df-0a515607-5f9b-4431-ad6a-559a5d67420a');\n",
              "        const dataTable =\n",
              "          await google.colab.kernel.invokeFunction('convertToInteractive',\n",
              "                                                    [key], {});\n",
              "        if (!dataTable) return;\n",
              "\n",
              "        const docLinkHtml = 'Like what you see? Visit the ' +\n",
              "          '<a target=\"_blank\" href=https://colab.research.google.com/notebooks/data_table.ipynb>data table notebook</a>'\n",
              "          + ' to learn more about interactive tables.';\n",
              "        element.innerHTML = '';\n",
              "        dataTable['output_type'] = 'display_data';\n",
              "        await google.colab.output.renderOutput(dataTable, element);\n",
              "        const docLink = document.createElement('div');\n",
              "        docLink.innerHTML = docLinkHtml;\n",
              "        element.appendChild(docLink);\n",
              "      }\n",
              "    </script>\n",
              "  </div>\n",
              "\n",
              "\n",
              "<div id=\"df-f3e6a33f-6661-42c6-95b4-7d1114414228\">\n",
              "  <button class=\"colab-df-quickchart\" onclick=\"quickchart('df-f3e6a33f-6661-42c6-95b4-7d1114414228')\"\n",
              "            title=\"Suggest charts\"\n",
              "            style=\"display:none;\">\n",
              "\n",
              "<svg xmlns=\"http://www.w3.org/2000/svg\" height=\"24px\"viewBox=\"0 0 24 24\"\n",
              "     width=\"24px\">\n",
              "    <g>\n",
              "        <path d=\"M19 3H5c-1.1 0-2 .9-2 2v14c0 1.1.9 2 2 2h14c1.1 0 2-.9 2-2V5c0-1.1-.9-2-2-2zM9 17H7v-7h2v7zm4 0h-2V7h2v10zm4 0h-2v-4h2v4z\"/>\n",
              "    </g>\n",
              "</svg>\n",
              "  </button>\n",
              "\n",
              "<style>\n",
              "  .colab-df-quickchart {\n",
              "      --bg-color: #E8F0FE;\n",
              "      --fill-color: #1967D2;\n",
              "      --hover-bg-color: #E2EBFA;\n",
              "      --hover-fill-color: #174EA6;\n",
              "      --disabled-fill-color: #AAA;\n",
              "      --disabled-bg-color: #DDD;\n",
              "  }\n",
              "\n",
              "  [theme=dark] .colab-df-quickchart {\n",
              "      --bg-color: #3B4455;\n",
              "      --fill-color: #D2E3FC;\n",
              "      --hover-bg-color: #434B5C;\n",
              "      --hover-fill-color: #FFFFFF;\n",
              "      --disabled-bg-color: #3B4455;\n",
              "      --disabled-fill-color: #666;\n",
              "  }\n",
              "\n",
              "  .colab-df-quickchart {\n",
              "    background-color: var(--bg-color);\n",
              "    border: none;\n",
              "    border-radius: 50%;\n",
              "    cursor: pointer;\n",
              "    display: none;\n",
              "    fill: var(--fill-color);\n",
              "    height: 32px;\n",
              "    padding: 0;\n",
              "    width: 32px;\n",
              "  }\n",
              "\n",
              "  .colab-df-quickchart:hover {\n",
              "    background-color: var(--hover-bg-color);\n",
              "    box-shadow: 0 1px 2px rgba(60, 64, 67, 0.3), 0 1px 3px 1px rgba(60, 64, 67, 0.15);\n",
              "    fill: var(--button-hover-fill-color);\n",
              "  }\n",
              "\n",
              "  .colab-df-quickchart-complete:disabled,\n",
              "  .colab-df-quickchart-complete:disabled:hover {\n",
              "    background-color: var(--disabled-bg-color);\n",
              "    fill: var(--disabled-fill-color);\n",
              "    box-shadow: none;\n",
              "  }\n",
              "\n",
              "  .colab-df-spinner {\n",
              "    border: 2px solid var(--fill-color);\n",
              "    border-color: transparent;\n",
              "    border-bottom-color: var(--fill-color);\n",
              "    animation:\n",
              "      spin 1s steps(1) infinite;\n",
              "  }\n",
              "\n",
              "  @keyframes spin {\n",
              "    0% {\n",
              "      border-color: transparent;\n",
              "      border-bottom-color: var(--fill-color);\n",
              "      border-left-color: var(--fill-color);\n",
              "    }\n",
              "    20% {\n",
              "      border-color: transparent;\n",
              "      border-left-color: var(--fill-color);\n",
              "      border-top-color: var(--fill-color);\n",
              "    }\n",
              "    30% {\n",
              "      border-color: transparent;\n",
              "      border-left-color: var(--fill-color);\n",
              "      border-top-color: var(--fill-color);\n",
              "      border-right-color: var(--fill-color);\n",
              "    }\n",
              "    40% {\n",
              "      border-color: transparent;\n",
              "      border-right-color: var(--fill-color);\n",
              "      border-top-color: var(--fill-color);\n",
              "    }\n",
              "    60% {\n",
              "      border-color: transparent;\n",
              "      border-right-color: var(--fill-color);\n",
              "    }\n",
              "    80% {\n",
              "      border-color: transparent;\n",
              "      border-right-color: var(--fill-color);\n",
              "      border-bottom-color: var(--fill-color);\n",
              "    }\n",
              "    90% {\n",
              "      border-color: transparent;\n",
              "      border-bottom-color: var(--fill-color);\n",
              "    }\n",
              "  }\n",
              "</style>\n",
              "\n",
              "  <script>\n",
              "    async function quickchart(key) {\n",
              "      const quickchartButtonEl =\n",
              "        document.querySelector('#' + key + ' button');\n",
              "      quickchartButtonEl.disabled = true;  // To prevent multiple clicks.\n",
              "      quickchartButtonEl.classList.add('colab-df-spinner');\n",
              "      try {\n",
              "        const charts = await google.colab.kernel.invokeFunction(\n",
              "            'suggestCharts', [key], {});\n",
              "      } catch (error) {\n",
              "        console.error('Error during call to suggestCharts:', error);\n",
              "      }\n",
              "      quickchartButtonEl.classList.remove('colab-df-spinner');\n",
              "      quickchartButtonEl.classList.add('colab-df-quickchart-complete');\n",
              "    }\n",
              "    (() => {\n",
              "      let quickchartButtonEl =\n",
              "        document.querySelector('#df-f3e6a33f-6661-42c6-95b4-7d1114414228 button');\n",
              "      quickchartButtonEl.style.display =\n",
              "        google.colab.kernel.accessAllowed ? 'block' : 'none';\n",
              "    })();\n",
              "  </script>\n",
              "</div>\n",
              "    </div>\n",
              "  </div>\n"
            ],
            "application/vnd.google.colaboratory.intrinsic+json": {
              "type": "dataframe",
              "variable_name": "df_1min"
            }
          },
          "metadata": {},
          "execution_count": 24
        }
      ],
      "source": [
        "df_1min.head()"
      ]
    },
    {
      "cell_type": "code",
      "execution_count": 25,
      "id": "5aaecf16-c4a9-4acb-b413-95cf0c815cce",
      "metadata": {
        "id": "5aaecf16-c4a9-4acb-b413-95cf0c815cce"
      },
      "outputs": [],
      "source": [
        "def check_valid_inds(inds, df_1min, len_seq=200):\n",
        "    ind_1min_start = df_1min.loc[inds, 'index_1min_start'].values.astype(int)\n",
        "    ind_1min_end = inds.astype(int)\n",
        "    assert (~np.isnan(ind_1min_start)).all() & (~np.isnan(ind_1min_end)).all() &\\\n",
        "                                               ((ind_1min_end - ind_1min_start + 1) >= len_seq).all(), 'Error: 1min'\n",
        "\n",
        "    ind_5min_start = df_1min.loc[inds, 'index_start_5min'].values.astype(int)\n",
        "    ind_5min_end = df_1min.loc[inds, 'index_5min'].values.astype(int)\n",
        "    assert (~np.isnan(ind_5min_start)).all() & (~np.isnan(ind_5min_end)).all() &\\\n",
        "                                                ((ind_5min_end - ind_5min_start + 1) >= len_seq).all(), 'Error: 5min'\n",
        "\n",
        "    ind_1hour_start = df_1min.loc[inds, 'index_start_1hour'].values.astype(int)\n",
        "    ind_1hour_end = df_1min.loc[inds, 'index_1hour'].values.astype(int)\n",
        "    assert (~np.isnan(ind_1hour_start)).all() & (~np.isnan(ind_1hour_end)).all() &\\\n",
        "                                                ((ind_1hour_end - ind_1hour_start + 1) >= len_seq).all(), 'Error: 1hour'\n",
        "\n",
        "    ind_1day_start = df_1min.loc[inds, 'index_start_1day'].values.astype(int)\n",
        "    ind_1day_end = df_1min.loc[inds, 'index_1day'].values.astype(int)\n",
        "    assert (~np.isnan(ind_1day_start)).all() & (~np.isnan(ind_1day_end)).all() &\\\n",
        "                                                ((ind_1day_end - ind_1day_start + 1) >= len_seq).all(), 'Error: 1day'\n",
        "\n",
        "    return 'All Good'\n"
      ]
    },
    {
      "cell_type": "code",
      "execution_count": 26,
      "id": "41bf3359-145f-403c-9907-2846c6f3b82a",
      "metadata": {
        "colab": {
          "base_uri": "https://localhost:8080/",
          "height": 36
        },
        "id": "41bf3359-145f-403c-9907-2846c6f3b82a",
        "outputId": "935416ac-10ff-4893-a2a8-09ba10338595"
      },
      "outputs": [
        {
          "output_type": "execute_result",
          "data": {
            "text/plain": [
              "'All Good'"
            ],
            "application/vnd.google.colaboratory.intrinsic+json": {
              "type": "string"
            }
          },
          "metadata": {},
          "execution_count": 26
        }
      ],
      "source": [
        "check_valid_inds(inds_train, df_1min, len_seq=200)"
      ]
    },
    {
      "cell_type": "code",
      "execution_count": 27,
      "id": "924ddf59-2e5c-491e-9490-ad0e44dba370",
      "metadata": {
        "colab": {
          "base_uri": "https://localhost:8080/",
          "height": 36
        },
        "id": "924ddf59-2e5c-491e-9490-ad0e44dba370",
        "outputId": "428881ee-8ceb-4894-891c-468be06791df"
      },
      "outputs": [
        {
          "output_type": "execute_result",
          "data": {
            "text/plain": [
              "'All Good'"
            ],
            "application/vnd.google.colaboratory.intrinsic+json": {
              "type": "string"
            }
          },
          "metadata": {},
          "execution_count": 27
        }
      ],
      "source": [
        "check_valid_inds(inds_valid, df_1min, len_seq=200)"
      ]
    },
    {
      "cell_type": "code",
      "execution_count": 28,
      "id": "af262314-f246-4911-9582-095c8931c75d",
      "metadata": {
        "colab": {
          "base_uri": "https://localhost:8080/",
          "height": 36
        },
        "id": "af262314-f246-4911-9582-095c8931c75d",
        "outputId": "bbcf1569-098d-471a-8c71-07645fc5e3ac"
      },
      "outputs": [
        {
          "output_type": "execute_result",
          "data": {
            "text/plain": [
              "'All Good'"
            ],
            "application/vnd.google.colaboratory.intrinsic+json": {
              "type": "string"
            }
          },
          "metadata": {},
          "execution_count": 28
        }
      ],
      "source": [
        "check_valid_inds(inds_test, df_1min, len_seq=200)"
      ]
    },
    {
      "cell_type": "code",
      "execution_count": 29,
      "id": "d2189c69-1e62-470c-80a3-b838cd93dd53",
      "metadata": {
        "colab": {
          "base_uri": "https://localhost:8080/",
          "height": 36
        },
        "id": "d2189c69-1e62-470c-80a3-b838cd93dd53",
        "outputId": "29815ffe-ddf4-484f-ae4f-f47e69ec94a8"
      },
      "outputs": [
        {
          "output_type": "execute_result",
          "data": {
            "text/plain": [
              "'All Good'"
            ],
            "application/vnd.google.colaboratory.intrinsic+json": {
              "type": "string"
            }
          },
          "metadata": {},
          "execution_count": 29
        }
      ],
      "source": [
        "check_valid_inds(inds_test2, df_1min, len_seq=200)"
      ]
    },
    {
      "cell_type": "code",
      "execution_count": 29,
      "id": "68eab8ea-ef80-420c-baff-8154f7163bfb",
      "metadata": {
        "id": "68eab8ea-ef80-420c-baff-8154f7163bfb"
      },
      "outputs": [],
      "source": []
    },
    {
      "cell_type": "code",
      "execution_count": 29,
      "id": "cd0fb41b-88f2-493b-ba89-96e4edeff7ee",
      "metadata": {
        "id": "cd0fb41b-88f2-493b-ba89-96e4edeff7ee"
      },
      "outputs": [],
      "source": []
    },
    {
      "cell_type": "markdown",
      "id": "fe1d598a-a3fc-4035-a7ea-776dbf5260eb",
      "metadata": {
        "id": "fe1d598a-a3fc-4035-a7ea-776dbf5260eb"
      },
      "source": [
        "### 4. Model Four"
      ]
    },
    {
      "cell_type": "code",
      "execution_count": 30,
      "id": "b0847cbe-4a05-4a27-83cc-ff97385a4553",
      "metadata": {
        "colab": {
          "base_uri": "https://localhost:8080/"
        },
        "id": "b0847cbe-4a05-4a27-83cc-ff97385a4553",
        "outputId": "7bd85d39-6e8b-477c-8430-6b082a660947"
      },
      "outputs": [
        {
          "output_type": "stream",
          "name": "stdout",
          "text": [
            "TensorFlow version: 2.17.1\n"
          ]
        }
      ],
      "source": [
        "import tensorflow as tf\n",
        "print(\"TensorFlow version:\", tf.__version__)"
      ]
    },
    {
      "cell_type": "code",
      "execution_count": 31,
      "id": "ea01c083-550d-4c04-b7d3-6b14dcdf4a32",
      "metadata": {
        "id": "ea01c083-550d-4c04-b7d3-6b14dcdf4a32"
      },
      "outputs": [],
      "source": [
        "df_1min['ticker_code'] = df_1min['ticker'].astype('category').cat.codes"
      ]
    },
    {
      "cell_type": "code",
      "execution_count": 32,
      "id": "4763e92d-b573-407a-accf-b2af1cf85419",
      "metadata": {
        "colab": {
          "base_uri": "https://localhost:8080/",
          "height": 680
        },
        "id": "4763e92d-b573-407a-accf-b2af1cf85419",
        "outputId": "1ec623db-7a86-415d-cbbf-2f76fce5cc3d"
      },
      "outputs": [
        {
          "output_type": "execute_result",
          "data": {
            "text/plain": [
              "ticker_code\n",
              "2     447059\n",
              "11    446997\n",
              "13    446747\n",
              "4     444970\n",
              "9     443270\n",
              "15    442772\n",
              "5     442355\n",
              "0     442155\n",
              "1     440282\n",
              "12    436866\n",
              "8     436514\n",
              "10    432950\n",
              "6     431898\n",
              "7     429839\n",
              "3     427247\n",
              "16    422797\n",
              "17    420498\n",
              "14    412130\n",
              "Name: count, dtype: int64"
            ],
            "text/html": [
              "<div>\n",
              "<style scoped>\n",
              "    .dataframe tbody tr th:only-of-type {\n",
              "        vertical-align: middle;\n",
              "    }\n",
              "\n",
              "    .dataframe tbody tr th {\n",
              "        vertical-align: top;\n",
              "    }\n",
              "\n",
              "    .dataframe thead th {\n",
              "        text-align: right;\n",
              "    }\n",
              "</style>\n",
              "<table border=\"1\" class=\"dataframe\">\n",
              "  <thead>\n",
              "    <tr style=\"text-align: right;\">\n",
              "      <th></th>\n",
              "      <th>count</th>\n",
              "    </tr>\n",
              "    <tr>\n",
              "      <th>ticker_code</th>\n",
              "      <th></th>\n",
              "    </tr>\n",
              "  </thead>\n",
              "  <tbody>\n",
              "    <tr>\n",
              "      <th>2</th>\n",
              "      <td>447059</td>\n",
              "    </tr>\n",
              "    <tr>\n",
              "      <th>11</th>\n",
              "      <td>446997</td>\n",
              "    </tr>\n",
              "    <tr>\n",
              "      <th>13</th>\n",
              "      <td>446747</td>\n",
              "    </tr>\n",
              "    <tr>\n",
              "      <th>4</th>\n",
              "      <td>444970</td>\n",
              "    </tr>\n",
              "    <tr>\n",
              "      <th>9</th>\n",
              "      <td>443270</td>\n",
              "    </tr>\n",
              "    <tr>\n",
              "      <th>15</th>\n",
              "      <td>442772</td>\n",
              "    </tr>\n",
              "    <tr>\n",
              "      <th>5</th>\n",
              "      <td>442355</td>\n",
              "    </tr>\n",
              "    <tr>\n",
              "      <th>0</th>\n",
              "      <td>442155</td>\n",
              "    </tr>\n",
              "    <tr>\n",
              "      <th>1</th>\n",
              "      <td>440282</td>\n",
              "    </tr>\n",
              "    <tr>\n",
              "      <th>12</th>\n",
              "      <td>436866</td>\n",
              "    </tr>\n",
              "    <tr>\n",
              "      <th>8</th>\n",
              "      <td>436514</td>\n",
              "    </tr>\n",
              "    <tr>\n",
              "      <th>10</th>\n",
              "      <td>432950</td>\n",
              "    </tr>\n",
              "    <tr>\n",
              "      <th>6</th>\n",
              "      <td>431898</td>\n",
              "    </tr>\n",
              "    <tr>\n",
              "      <th>7</th>\n",
              "      <td>429839</td>\n",
              "    </tr>\n",
              "    <tr>\n",
              "      <th>3</th>\n",
              "      <td>427247</td>\n",
              "    </tr>\n",
              "    <tr>\n",
              "      <th>16</th>\n",
              "      <td>422797</td>\n",
              "    </tr>\n",
              "    <tr>\n",
              "      <th>17</th>\n",
              "      <td>420498</td>\n",
              "    </tr>\n",
              "    <tr>\n",
              "      <th>14</th>\n",
              "      <td>412130</td>\n",
              "    </tr>\n",
              "  </tbody>\n",
              "</table>\n",
              "</div><br><label><b>dtype:</b> int64</label>"
            ]
          },
          "metadata": {},
          "execution_count": 32
        }
      ],
      "source": [
        "df_1min['ticker_code'].value_counts()"
      ]
    },
    {
      "cell_type": "code",
      "execution_count": 33,
      "id": "cc767f72-c361-4cc7-8b4b-afe2abd6dbda",
      "metadata": {
        "colab": {
          "base_uri": "https://localhost:8080/"
        },
        "id": "cc767f72-c361-4cc7-8b4b-afe2abd6dbda",
        "outputId": "8f5cd0e2-34cb-4620-c742-04184abf5dc4"
      },
      "outputs": [
        {
          "output_type": "execute_result",
          "data": {
            "text/plain": [
              "17"
            ]
          },
          "metadata": {},
          "execution_count": 33
        }
      ],
      "source": [
        "df_1min['ticker_code'].max()"
      ]
    },
    {
      "cell_type": "code",
      "execution_count": 34,
      "id": "0047133a-6a97-49c9-9338-0321f931bb8b",
      "metadata": {
        "colab": {
          "base_uri": "https://localhost:8080/",
          "height": 680
        },
        "id": "0047133a-6a97-49c9-9338-0321f931bb8b",
        "outputId": "90f776a2-6970-4569-d905-cfa98a31b710"
      },
      "outputs": [
        {
          "output_type": "execute_result",
          "data": {
            "text/plain": [
              "ticker\n",
              "GAZP    447059\n",
              "ROSN    446997\n",
              "SBER    446747\n",
              "LKOH    444970\n",
              "NVTK    443270\n",
              "TATN    442772\n",
              "MAGN    442355\n",
              "ALRS    442155\n",
              "CHMF    440282\n",
              "RUAL    436866\n",
              "NLMK    436514\n",
              "OZON    432950\n",
              "MGNT    431898\n",
              "MTSS    429839\n",
              "GMKN    427247\n",
              "TCSG    422797\n",
              "YDEX    420498\n",
              "SNGS    412130\n",
              "Name: count, dtype: int64"
            ],
            "text/html": [
              "<div>\n",
              "<style scoped>\n",
              "    .dataframe tbody tr th:only-of-type {\n",
              "        vertical-align: middle;\n",
              "    }\n",
              "\n",
              "    .dataframe tbody tr th {\n",
              "        vertical-align: top;\n",
              "    }\n",
              "\n",
              "    .dataframe thead th {\n",
              "        text-align: right;\n",
              "    }\n",
              "</style>\n",
              "<table border=\"1\" class=\"dataframe\">\n",
              "  <thead>\n",
              "    <tr style=\"text-align: right;\">\n",
              "      <th></th>\n",
              "      <th>count</th>\n",
              "    </tr>\n",
              "    <tr>\n",
              "      <th>ticker</th>\n",
              "      <th></th>\n",
              "    </tr>\n",
              "  </thead>\n",
              "  <tbody>\n",
              "    <tr>\n",
              "      <th>GAZP</th>\n",
              "      <td>447059</td>\n",
              "    </tr>\n",
              "    <tr>\n",
              "      <th>ROSN</th>\n",
              "      <td>446997</td>\n",
              "    </tr>\n",
              "    <tr>\n",
              "      <th>SBER</th>\n",
              "      <td>446747</td>\n",
              "    </tr>\n",
              "    <tr>\n",
              "      <th>LKOH</th>\n",
              "      <td>444970</td>\n",
              "    </tr>\n",
              "    <tr>\n",
              "      <th>NVTK</th>\n",
              "      <td>443270</td>\n",
              "    </tr>\n",
              "    <tr>\n",
              "      <th>TATN</th>\n",
              "      <td>442772</td>\n",
              "    </tr>\n",
              "    <tr>\n",
              "      <th>MAGN</th>\n",
              "      <td>442355</td>\n",
              "    </tr>\n",
              "    <tr>\n",
              "      <th>ALRS</th>\n",
              "      <td>442155</td>\n",
              "    </tr>\n",
              "    <tr>\n",
              "      <th>CHMF</th>\n",
              "      <td>440282</td>\n",
              "    </tr>\n",
              "    <tr>\n",
              "      <th>RUAL</th>\n",
              "      <td>436866</td>\n",
              "    </tr>\n",
              "    <tr>\n",
              "      <th>NLMK</th>\n",
              "      <td>436514</td>\n",
              "    </tr>\n",
              "    <tr>\n",
              "      <th>OZON</th>\n",
              "      <td>432950</td>\n",
              "    </tr>\n",
              "    <tr>\n",
              "      <th>MGNT</th>\n",
              "      <td>431898</td>\n",
              "    </tr>\n",
              "    <tr>\n",
              "      <th>MTSS</th>\n",
              "      <td>429839</td>\n",
              "    </tr>\n",
              "    <tr>\n",
              "      <th>GMKN</th>\n",
              "      <td>427247</td>\n",
              "    </tr>\n",
              "    <tr>\n",
              "      <th>TCSG</th>\n",
              "      <td>422797</td>\n",
              "    </tr>\n",
              "    <tr>\n",
              "      <th>YDEX</th>\n",
              "      <td>420498</td>\n",
              "    </tr>\n",
              "    <tr>\n",
              "      <th>SNGS</th>\n",
              "      <td>412130</td>\n",
              "    </tr>\n",
              "  </tbody>\n",
              "</table>\n",
              "</div><br><label><b>dtype:</b> int64</label>"
            ]
          },
          "metadata": {},
          "execution_count": 34
        }
      ],
      "source": [
        "df_1min['ticker'].value_counts()"
      ]
    },
    {
      "cell_type": "code",
      "execution_count": 35,
      "id": "71d483dc-c3f4-4287-984e-236e5c40b975",
      "metadata": {
        "colab": {
          "base_uri": "https://localhost:8080/"
        },
        "id": "71d483dc-c3f4-4287-984e-236e5c40b975",
        "outputId": "d81de204-bc6b-48ef-9324-173f97503656"
      },
      "outputs": [
        {
          "output_type": "execute_result",
          "data": {
            "text/plain": [
              "{0: 'ALRS',\n",
              " 1: 'CHMF',\n",
              " 2: 'GAZP',\n",
              " 3: 'GMKN',\n",
              " 4: 'LKOH',\n",
              " 5: 'MAGN',\n",
              " 6: 'MGNT',\n",
              " 7: 'MTSS',\n",
              " 8: 'NLMK',\n",
              " 9: 'NVTK',\n",
              " 10: 'OZON',\n",
              " 11: 'ROSN',\n",
              " 12: 'RUAL',\n",
              " 13: 'SBER',\n",
              " 14: 'SNGS',\n",
              " 15: 'TATN',\n",
              " 16: 'TCSG',\n",
              " 17: 'YDEX'}"
            ]
          },
          "metadata": {},
          "execution_count": 35
        }
      ],
      "source": [
        "dict(enumerate(df_1min['ticker'].astype('category').cat.categories))"
      ]
    },
    {
      "cell_type": "code",
      "execution_count": 35,
      "id": "ab22b290-0db5-4a61-8d5b-8a206103767d",
      "metadata": {
        "id": "ab22b290-0db5-4a61-8d5b-8a206103767d"
      },
      "outputs": [],
      "source": []
    },
    {
      "cell_type": "markdown",
      "id": "7dcb87a0-2104-44f2-bace-fe196494964f",
      "metadata": {
        "id": "7dcb87a0-2104-44f2-bace-fe196494964f"
      },
      "source": [
        "#### 4.1 PyDataset"
      ]
    },
    {
      "cell_type": "code",
      "execution_count": 35,
      "id": "9a304cf9-1c98-42d8-b5d5-a2e8532a31fd",
      "metadata": {
        "id": "9a304cf9-1c98-42d8-b5d5-a2e8532a31fd"
      },
      "outputs": [],
      "source": []
    },
    {
      "cell_type": "code",
      "execution_count": 35,
      "id": "0058971a-91eb-45fc-9b88-5c9a558ee23f",
      "metadata": {
        "id": "0058971a-91eb-45fc-9b88-5c9a558ee23f"
      },
      "outputs": [],
      "source": []
    },
    {
      "cell_type": "code",
      "execution_count": 35,
      "id": "66c0c36d-c0c8-4a50-97fa-59c79661ffb0",
      "metadata": {
        "id": "66c0c36d-c0c8-4a50-97fa-59c79661ffb0"
      },
      "outputs": [],
      "source": []
    },
    {
      "cell_type": "code",
      "execution_count": 35,
      "id": "5b98725e-f03d-40f0-8dc3-760c04286aac",
      "metadata": {
        "id": "5b98725e-f03d-40f0-8dc3-760c04286aac"
      },
      "outputs": [],
      "source": []
    },
    {
      "cell_type": "code",
      "execution_count": 36,
      "id": "2d1df1f7-5299-4e3d-9810-bb1fc4572335",
      "metadata": {
        "id": "2d1df1f7-5299-4e3d-9810-bb1fc4572335"
      },
      "outputs": [],
      "source": [
        "class CandleData:\n",
        "    def __init__(self, df_1min, df_5min, df_1hour, df_1day):\n",
        "        self.df_1min = df_1min\n",
        "        self.df_5min = df_5min\n",
        "        self.df_1hour = df_1hour\n",
        "        self.df_1day = df_1day\n",
        "        self.make_np_arr_data()\n",
        "\n",
        "    def make_np_arr_data(self):\n",
        "        #time\n",
        "        time_cyclic = (self.df_1min['time'] - pd.to_datetime(self.df_1min['time'].dt.date) - pd.Timedelta('10:01:00')) / pd.Timedelta('13:49:00')\n",
        "        self.df_1min['sin_time'] = np.sin(time_cyclic * 2 * np.pi)\n",
        "        self.df_1min['cos_time'] = np.cos(time_cyclic * 2 * np.pi)\n",
        "\n",
        "        day_of_week_cyclic = np.minimum(self.df_1min['time'].dt.dayofweek, 4) / 4\n",
        "        self.df_1min['sin_day'] = np.sin(day_of_week_cyclic * 2 * np.pi)\n",
        "        self.df_1min['cos_day'] = np.cos(day_of_week_cyclic * 2 * np.pi)\n",
        "\n",
        "        #1min\n",
        "        cols_arr_1min = ['sin_time', 'cos_time', 'sin_day', 'cos_day',\n",
        "                         'open', 'close', 'volume', 'low', 'high']\n",
        "        self.arr_1min = np.array(self.df_1min[cols_arr_1min])\n",
        "\n",
        "        #cols index_slice\n",
        "        cols_index_time_slice = ['index_1min_start',\n",
        "                         'index_5min', 'index_start_5min',\n",
        "                         'index_1hour', 'index_start_1hour',\n",
        "                         'index_1day', 'index_start_1day']\n",
        "        self.index_time_slice_1min = np.array(self.df_1min[cols_index_time_slice])\n",
        "\n",
        "        #cols ticker\n",
        "        self.ticker_code_1min = np.array(self.df_1min['ticker_code'])\n",
        "\n",
        "        #5min\n",
        "        cols_arr_5min = ['open_5min', 'close_5min', 'volume_5min', 'low_5min', 'high_5min']\n",
        "        self.arr_5min = np.array(self.df_5min[cols_arr_5min])\n",
        "\n",
        "        #1hour\n",
        "        cols_arr_1hour = ['open_1hour', 'close_1hour', 'volume_1hour', 'low_1hour', 'high_1hour']\n",
        "        self.arr_1hour = np.array(self.df_1hour[cols_arr_1hour])\n",
        "\n",
        "        #1day\n",
        "        cols_arr_1day = ['open_1day', 'close_1day', 'volume_1day', 'low_1day', 'high_1day']\n",
        "        self.arr_1day = np.array(self.df_1day[cols_arr_1day])\n",
        "\n",
        "        #target\n",
        "        self.target_1min = df_1min['target'].values\n",
        "\n",
        "\n",
        "class dataset(tf.keras.utils.PyDataset):\n",
        "\n",
        "    def __init__(self, data, inds, count_samples=None, len_seq=200,  batch_size=32, shuffle=False, **kwargs):\n",
        "        super().__init__(**kwargs)\n",
        "        self.data = data\n",
        "        self.inds = inds\n",
        "        self.len_seq = len_seq\n",
        "        self.batch_size = batch_size\n",
        "\n",
        "        self.count_samples = count_samples\n",
        "        if self.count_samples is not None:\n",
        "            self.inds = np.random.RandomState(seed=42).permutation(self.inds)\n",
        "\n",
        "        self.shuffle = shuffle\n",
        "        if self.shuffle:\n",
        "            self.inds = np.random.permutation(self.inds)\n",
        "\n",
        "    def __len__(self):\n",
        "        # Return number of batches.\n",
        "        if self.count_samples is None:\n",
        "            return math.ceil(len(self.inds) / self.batch_size)\n",
        "        else:\n",
        "            return math.ceil(self.count_samples / self.batch_size)\n",
        "\n",
        "    def __getitem__(self, idx):\n",
        "        # Return x, y for batch idx.\n",
        "        low = idx * self.batch_size\n",
        "        # Cap upper bound at array length; the last batch may be smaller\n",
        "        # if the total number of items is not a multiple of batch size.\n",
        "        high = min(low + self.batch_size, len(self.inds))\n",
        "        batch_inds = self.inds[low:high]\n",
        "\n",
        "\n",
        "        x_batch = []\n",
        "        x_batch_ticker_code = []\n",
        "        y_batch = []\n",
        "\n",
        "        for i in batch_inds:\n",
        "            # cols_index_time_slice = ['index_1min_start',\n",
        "            #              'index_5min', 'index_start_5min',\n",
        "            #              'index_1hour', 'index_start_1hour',\n",
        "            #              'index_1day', 'index_start_1day']\n",
        "            #1min\n",
        "            ind_high_1min = i+1\n",
        "            ind_low_1min = int(ind_high_1min - self.len_seq)\n",
        "            tensor_1min = self.data.arr_1min[ind_low_1min:ind_high_1min, :]\n",
        "\n",
        "            #5min\n",
        "            ind_high_5min = int(self.data.index_time_slice_1min[i, 1] + 1)\n",
        "            ind_low_5min = int(ind_high_5min - self.len_seq)\n",
        "            tensor_5min = self.data.arr_5min[ind_low_5min:ind_high_5min, :]\n",
        "\n",
        "            #1hour\n",
        "            ind_high_1hour = int(self.data.index_time_slice_1min[i, 3] + 1)\n",
        "            ind_low_1hour = int(ind_high_1hour - self.len_seq)\n",
        "            tensor_1hour = self.data.arr_1hour[ind_low_1hour:ind_high_1hour, :]\n",
        "\n",
        "            #1day\n",
        "            ind_high_1day = int(self.data.index_time_slice_1min[i, 5] + 1)\n",
        "            ind_low_1day =  int(ind_high_1day - self.len_seq)\n",
        "            tensor_1day = self.data.arr_1day[ind_low_1day:ind_high_1day, :]\n",
        "\n",
        "            #target\n",
        "            y = self.data.target_1min[i]\n",
        "\n",
        "            #ticker\n",
        "            ticker_code = self.data.ticker_code_1min[i]\n",
        "\n",
        "\n",
        "            x = np.concatenate((tensor_1min, tensor_5min, tensor_1hour, tensor_1day), axis=1)\n",
        "\n",
        "            x_batch += [x]\n",
        "            x_batch_ticker_code += [ticker_code]\n",
        "            y_batch += [y]\n",
        "\n",
        "        #return {'input_numeric':  np.array(x_batch), 'input_ticker' : np.array(x_batch_ticker_code)}, np.array(y_batch)\n",
        "        return np.array(x_batch), np.array(y_batch)\n",
        "\n",
        "\n",
        "    def on_epoch_end(self):\n",
        "        if self.shuffle:\n",
        "            self.inds = np.random.permutation(self.inds)"
      ]
    },
    {
      "cell_type": "code",
      "execution_count": 36,
      "id": "731f5a41-0996-4159-b956-b0a9910233cd",
      "metadata": {
        "id": "731f5a41-0996-4159-b956-b0a9910233cd"
      },
      "outputs": [],
      "source": []
    },
    {
      "cell_type": "code",
      "execution_count": 36,
      "id": "e5b555f9-e9c7-4464-b0f8-2323c48d1a0d",
      "metadata": {
        "id": "e5b555f9-e9c7-4464-b0f8-2323c48d1a0d"
      },
      "outputs": [],
      "source": []
    },
    {
      "cell_type": "code",
      "execution_count": 37,
      "id": "e882a733-72ce-40dc-ae5a-4e8d6a998d31",
      "metadata": {
        "id": "e882a733-72ce-40dc-ae5a-4e8d6a998d31"
      },
      "outputs": [],
      "source": [
        "data = CandleData(df_1min, df_5min, df_1hour, df_1day)\n",
        "\n",
        "\n",
        "dataset_train = dataset(data, inds_train, count_samples=64*10_000, len_seq=200, batch_size=64, shuffle=True)\n",
        "dataset_valid = dataset(data, inds_valid, count_samples=64*2_000, len_seq=200, batch_size=64, shuffle=False)\n",
        "dataset_test = dataset(data, inds_test, count_samples=64*2_000, len_seq=200, batch_size=64, shuffle=False)\n",
        "dataset_test2 = dataset(data, inds_test2, count_samples=64*2_000, len_seq=200, batch_size=64, shuffle=False)"
      ]
    },
    {
      "cell_type": "code",
      "execution_count": 38,
      "id": "535ea209-b85f-45cf-8acf-4a1920663cad",
      "metadata": {
        "colab": {
          "base_uri": "https://localhost:8080/"
        },
        "id": "535ea209-b85f-45cf-8acf-4a1920663cad",
        "outputId": "48ac1cac-cb85-4aaa-dae9-eeb5f5bef9de"
      },
      "outputs": [
        {
          "output_type": "execute_result",
          "data": {
            "text/plain": [
              "2000"
            ]
          },
          "metadata": {},
          "execution_count": 38
        }
      ],
      "source": [
        "len(dataset_valid)"
      ]
    },
    {
      "cell_type": "code",
      "execution_count": 39,
      "id": "e60dc6d7-d7ff-4d3a-b8e4-dbe111aaaec9",
      "metadata": {
        "id": "e60dc6d7-d7ff-4d3a-b8e4-dbe111aaaec9"
      },
      "outputs": [],
      "source": [
        "# #\n",
        "# dataset_train_subsample = dataset(data, inds_train, count_samples=1000, len_seq=200, batch_size=64, shuffle=True)\n",
        "# dataset_valid_subsample = dataset(data, inds_valid, count_samples=1000, len_seq=200, batch_size=64, shuffle=True)\n",
        "# dataset_test_subsample = dataset(data, inds_test, count_samples=1000, len_seq=200, batch_size=64, shuffle=True)\n",
        "# dataset_test2_subsample = dataset(data, inds_test2, count_samples=1000, len_seq=200, batch_size=64, shuffle=False)"
      ]
    },
    {
      "cell_type": "code",
      "execution_count": 39,
      "id": "97d4cc74-9aa7-49cc-bbb1-850aec2f0237",
      "metadata": {
        "id": "97d4cc74-9aa7-49cc-bbb1-850aec2f0237"
      },
      "outputs": [],
      "source": []
    },
    {
      "cell_type": "markdown",
      "id": "3cf6eeff-03a2-4432-9238-bdd15cc60725",
      "metadata": {
        "id": "3cf6eeff-03a2-4432-9238-bdd15cc60725"
      },
      "source": [
        "#### 4.2 Model"
      ]
    },
    {
      "cell_type": "code",
      "execution_count": 40,
      "id": "eebc5b70-5606-4ff1-9a98-c9ce68a5c076",
      "metadata": {
        "id": "eebc5b70-5606-4ff1-9a98-c9ce68a5c076"
      },
      "outputs": [],
      "source": [
        "import math\n",
        "import numpy as np\n",
        "import pandas as pd\n",
        "\n",
        "import tensorflow as tf\n",
        "from tensorflow.keras.models import Model\n",
        "from tensorflow.keras.callbacks import ModelCheckpoint\n",
        "from tensorflow.keras.layers import Input, Dense, Dropout, LayerNormalization, MultiHeadAttention, Add, GlobalAveragePooling1D\n",
        "\n",
        "\n",
        "\n",
        "def transformer_encoder(inputs, head_size, num_heads, ff_dim, dropout=0):\n",
        "    # Attention and Normalization\n",
        "    x = LayerNormalization(epsilon=1e-6)(inputs)\n",
        "    x = MultiHeadAttention(key_dim=head_size, num_heads=num_heads, dropout=dropout)(x, x)\n",
        "    x = Add()([x, inputs])\n",
        "\n",
        "    # Feed Forward Part\n",
        "    y = LayerNormalization(epsilon=1e-6)(x)\n",
        "    y = Dense(ff_dim, activation=\"relu\")(y)\n",
        "    y = Dropout(dropout)(y)\n",
        "    y = Dense(inputs.shape[-1])(y)\n",
        "    return Add()([y, x])\n",
        "\n",
        "\n",
        "def build_transformer_model(input_shape, head_size, num_heads, ff_dim, num_layers, dropout=0):\n",
        "    inputs = Input(shape=input_shape)\n",
        "    x = inputs\n",
        "    for _ in range(num_layers):\n",
        "        x = transformer_encoder(x, head_size, num_heads, ff_dim, dropout)\n",
        "    x = GlobalAveragePooling1D()(x)\n",
        "    x = LayerNormalization(epsilon=1e-6)(x)\n",
        "    outputs = Dense(1, activation=\"sigmoid\")(x)\n",
        "    return Model(inputs=inputs, outputs=outputs)"
      ]
    },
    {
      "cell_type": "code",
      "execution_count": 40,
      "id": "a779075b-6b41-4dc3-ae5d-55b29b0a83a4",
      "metadata": {
        "id": "a779075b-6b41-4dc3-ae5d-55b29b0a83a4"
      },
      "outputs": [],
      "source": []
    },
    {
      "cell_type": "code",
      "execution_count": 41,
      "id": "148bbd69-eaa3-4e97-ae7c-0b698fd0324a",
      "metadata": {
        "colab": {
          "base_uri": "https://localhost:8080/"
        },
        "id": "148bbd69-eaa3-4e97-ae7c-0b698fd0324a",
        "outputId": "130747e4-a5e9-4d02-c555-5ac0799a4c47"
      },
      "outputs": [
        {
          "output_type": "execute_result",
          "data": {
            "text/plain": [
              "(200, 24)"
            ]
          },
          "metadata": {},
          "execution_count": 41
        }
      ],
      "source": [
        "dataset_train.__getitem__(0)[0][0].shape"
      ]
    },
    {
      "cell_type": "code",
      "execution_count": 41,
      "id": "c8b44ad7-6dcb-4d7e-8f60-bd8594de94bb",
      "metadata": {
        "id": "c8b44ad7-6dcb-4d7e-8f60-bd8594de94bb"
      },
      "outputs": [],
      "source": []
    },
    {
      "cell_type": "code",
      "execution_count": 42,
      "id": "986a7cad-92a3-4c50-aa7f-6cfc0836b058",
      "metadata": {
        "colab": {
          "base_uri": "https://localhost:8080/",
          "height": 991
        },
        "id": "986a7cad-92a3-4c50-aa7f-6cfc0836b058",
        "outputId": "d8cc2ad1-4840-4fe6-bcc9-9cd3487eb6f3"
      },
      "outputs": [
        {
          "output_type": "display_data",
          "data": {
            "text/plain": [
              "\u001b[1mModel: \"functional\"\u001b[0m\n"
            ],
            "text/html": [
              "<pre style=\"white-space:pre;overflow-x:auto;line-height:normal;font-family:Menlo,'DejaVu Sans Mono',consolas,'Courier New',monospace\"><span style=\"font-weight: bold\">Model: \"functional\"</span>\n",
              "</pre>\n"
            ]
          },
          "metadata": {}
        },
        {
          "output_type": "display_data",
          "data": {
            "text/plain": [
              "┏━━━━━━━━━━━━━━━━━━━━━━━━━━━┳━━━━━━━━━━━━━━━━━━━━━━━━┳━━━━━━━━━━━━━━━━┳━━━━━━━━━━━━━━━━━━━━━━━━┓\n",
              "┃\u001b[1m \u001b[0m\u001b[1mLayer (type)             \u001b[0m\u001b[1m \u001b[0m┃\u001b[1m \u001b[0m\u001b[1mOutput Shape          \u001b[0m\u001b[1m \u001b[0m┃\u001b[1m \u001b[0m\u001b[1m       Param #\u001b[0m\u001b[1m \u001b[0m┃\u001b[1m \u001b[0m\u001b[1mConnected to          \u001b[0m\u001b[1m \u001b[0m┃\n",
              "┡━━━━━━━━━━━━━━━━━━━━━━━━━━━╇━━━━━━━━━━━━━━━━━━━━━━━━╇━━━━━━━━━━━━━━━━╇━━━━━━━━━━━━━━━━━━━━━━━━┩\n",
              "│ input_layer (\u001b[38;5;33mInputLayer\u001b[0m)  │ (\u001b[38;5;45mNone\u001b[0m, \u001b[38;5;34m200\u001b[0m, \u001b[38;5;34m24\u001b[0m)        │              \u001b[38;5;34m0\u001b[0m │ -                      │\n",
              "├───────────────────────────┼────────────────────────┼────────────────┼────────────────────────┤\n",
              "│ layer_normalization       │ (\u001b[38;5;45mNone\u001b[0m, \u001b[38;5;34m200\u001b[0m, \u001b[38;5;34m24\u001b[0m)        │             \u001b[38;5;34m48\u001b[0m │ input_layer[\u001b[38;5;34m0\u001b[0m][\u001b[38;5;34m0\u001b[0m]      │\n",
              "│ (\u001b[38;5;33mLayerNormalization\u001b[0m)      │                        │                │                        │\n",
              "├───────────────────────────┼────────────────────────┼────────────────┼────────────────────────┤\n",
              "│ multi_head_attention      │ (\u001b[38;5;45mNone\u001b[0m, \u001b[38;5;34m200\u001b[0m, \u001b[38;5;34m24\u001b[0m)        │        \u001b[38;5;34m202,776\u001b[0m │ layer_normalization[\u001b[38;5;34m0\u001b[0m… │\n",
              "│ (\u001b[38;5;33mMultiHeadAttention\u001b[0m)      │                        │                │ layer_normalization[\u001b[38;5;34m0\u001b[0m… │\n",
              "├───────────────────────────┼────────────────────────┼────────────────┼────────────────────────┤\n",
              "│ add (\u001b[38;5;33mAdd\u001b[0m)                 │ (\u001b[38;5;45mNone\u001b[0m, \u001b[38;5;34m200\u001b[0m, \u001b[38;5;34m24\u001b[0m)        │              \u001b[38;5;34m0\u001b[0m │ multi_head_attention[\u001b[38;5;34m…\u001b[0m │\n",
              "│                           │                        │                │ input_layer[\u001b[38;5;34m0\u001b[0m][\u001b[38;5;34m0\u001b[0m]      │\n",
              "├───────────────────────────┼────────────────────────┼────────────────┼────────────────────────┤\n",
              "│ layer_normalization_1     │ (\u001b[38;5;45mNone\u001b[0m, \u001b[38;5;34m200\u001b[0m, \u001b[38;5;34m24\u001b[0m)        │             \u001b[38;5;34m48\u001b[0m │ add[\u001b[38;5;34m0\u001b[0m][\u001b[38;5;34m0\u001b[0m]              │\n",
              "│ (\u001b[38;5;33mLayerNormalization\u001b[0m)      │                        │                │                        │\n",
              "├───────────────────────────┼────────────────────────┼────────────────┼────────────────────────┤\n",
              "│ dense (\u001b[38;5;33mDense\u001b[0m)             │ (\u001b[38;5;45mNone\u001b[0m, \u001b[38;5;34m200\u001b[0m, \u001b[38;5;34m512\u001b[0m)       │         \u001b[38;5;34m12,800\u001b[0m │ layer_normalization_1… │\n",
              "├───────────────────────────┼────────────────────────┼────────────────┼────────────────────────┤\n",
              "│ dropout_1 (\u001b[38;5;33mDropout\u001b[0m)       │ (\u001b[38;5;45mNone\u001b[0m, \u001b[38;5;34m200\u001b[0m, \u001b[38;5;34m512\u001b[0m)       │              \u001b[38;5;34m0\u001b[0m │ dense[\u001b[38;5;34m0\u001b[0m][\u001b[38;5;34m0\u001b[0m]            │\n",
              "├───────────────────────────┼────────────────────────┼────────────────┼────────────────────────┤\n",
              "│ dense_1 (\u001b[38;5;33mDense\u001b[0m)           │ (\u001b[38;5;45mNone\u001b[0m, \u001b[38;5;34m200\u001b[0m, \u001b[38;5;34m24\u001b[0m)        │         \u001b[38;5;34m12,312\u001b[0m │ dropout_1[\u001b[38;5;34m0\u001b[0m][\u001b[38;5;34m0\u001b[0m]        │\n",
              "├───────────────────────────┼────────────────────────┼────────────────┼────────────────────────┤\n",
              "│ add_1 (\u001b[38;5;33mAdd\u001b[0m)               │ (\u001b[38;5;45mNone\u001b[0m, \u001b[38;5;34m200\u001b[0m, \u001b[38;5;34m24\u001b[0m)        │              \u001b[38;5;34m0\u001b[0m │ dense_1[\u001b[38;5;34m0\u001b[0m][\u001b[38;5;34m0\u001b[0m],         │\n",
              "│                           │                        │                │ add[\u001b[38;5;34m0\u001b[0m][\u001b[38;5;34m0\u001b[0m]              │\n",
              "├───────────────────────────┼────────────────────────┼────────────────┼────────────────────────┤\n",
              "│ layer_normalization_2     │ (\u001b[38;5;45mNone\u001b[0m, \u001b[38;5;34m200\u001b[0m, \u001b[38;5;34m24\u001b[0m)        │             \u001b[38;5;34m48\u001b[0m │ add_1[\u001b[38;5;34m0\u001b[0m][\u001b[38;5;34m0\u001b[0m]            │\n",
              "│ (\u001b[38;5;33mLayerNormalization\u001b[0m)      │                        │                │                        │\n",
              "├───────────────────────────┼────────────────────────┼────────────────┼────────────────────────┤\n",
              "│ multi_head_attention_1    │ (\u001b[38;5;45mNone\u001b[0m, \u001b[38;5;34m200\u001b[0m, \u001b[38;5;34m24\u001b[0m)        │        \u001b[38;5;34m202,776\u001b[0m │ layer_normalization_2… │\n",
              "│ (\u001b[38;5;33mMultiHeadAttention\u001b[0m)      │                        │                │ layer_normalization_2… │\n",
              "├───────────────────────────┼────────────────────────┼────────────────┼────────────────────────┤\n",
              "│ add_2 (\u001b[38;5;33mAdd\u001b[0m)               │ (\u001b[38;5;45mNone\u001b[0m, \u001b[38;5;34m200\u001b[0m, \u001b[38;5;34m24\u001b[0m)        │              \u001b[38;5;34m0\u001b[0m │ multi_head_attention_… │\n",
              "│                           │                        │                │ add_1[\u001b[38;5;34m0\u001b[0m][\u001b[38;5;34m0\u001b[0m]            │\n",
              "├───────────────────────────┼────────────────────────┼────────────────┼────────────────────────┤\n",
              "│ layer_normalization_3     │ (\u001b[38;5;45mNone\u001b[0m, \u001b[38;5;34m200\u001b[0m, \u001b[38;5;34m24\u001b[0m)        │             \u001b[38;5;34m48\u001b[0m │ add_2[\u001b[38;5;34m0\u001b[0m][\u001b[38;5;34m0\u001b[0m]            │\n",
              "│ (\u001b[38;5;33mLayerNormalization\u001b[0m)      │                        │                │                        │\n",
              "├───────────────────────────┼────────────────────────┼────────────────┼────────────────────────┤\n",
              "│ dense_2 (\u001b[38;5;33mDense\u001b[0m)           │ (\u001b[38;5;45mNone\u001b[0m, \u001b[38;5;34m200\u001b[0m, \u001b[38;5;34m512\u001b[0m)       │         \u001b[38;5;34m12,800\u001b[0m │ layer_normalization_3… │\n",
              "├───────────────────────────┼────────────────────────┼────────────────┼────────────────────────┤\n",
              "│ dropout_3 (\u001b[38;5;33mDropout\u001b[0m)       │ (\u001b[38;5;45mNone\u001b[0m, \u001b[38;5;34m200\u001b[0m, \u001b[38;5;34m512\u001b[0m)       │              \u001b[38;5;34m0\u001b[0m │ dense_2[\u001b[38;5;34m0\u001b[0m][\u001b[38;5;34m0\u001b[0m]          │\n",
              "├───────────────────────────┼────────────────────────┼────────────────┼────────────────────────┤\n",
              "│ dense_3 (\u001b[38;5;33mDense\u001b[0m)           │ (\u001b[38;5;45mNone\u001b[0m, \u001b[38;5;34m200\u001b[0m, \u001b[38;5;34m24\u001b[0m)        │         \u001b[38;5;34m12,312\u001b[0m │ dropout_3[\u001b[38;5;34m0\u001b[0m][\u001b[38;5;34m0\u001b[0m]        │\n",
              "├───────────────────────────┼────────────────────────┼────────────────┼────────────────────────┤\n",
              "│ add_3 (\u001b[38;5;33mAdd\u001b[0m)               │ (\u001b[38;5;45mNone\u001b[0m, \u001b[38;5;34m200\u001b[0m, \u001b[38;5;34m24\u001b[0m)        │              \u001b[38;5;34m0\u001b[0m │ dense_3[\u001b[38;5;34m0\u001b[0m][\u001b[38;5;34m0\u001b[0m],         │\n",
              "│                           │                        │                │ add_2[\u001b[38;5;34m0\u001b[0m][\u001b[38;5;34m0\u001b[0m]            │\n",
              "├───────────────────────────┼────────────────────────┼────────────────┼────────────────────────┤\n",
              "│ global_average_pooling1d  │ (\u001b[38;5;45mNone\u001b[0m, \u001b[38;5;34m24\u001b[0m)             │              \u001b[38;5;34m0\u001b[0m │ add_3[\u001b[38;5;34m0\u001b[0m][\u001b[38;5;34m0\u001b[0m]            │\n",
              "│ (\u001b[38;5;33mGlobalAveragePooling1D\u001b[0m)  │                        │                │                        │\n",
              "├───────────────────────────┼────────────────────────┼────────────────┼────────────────────────┤\n",
              "│ layer_normalization_4     │ (\u001b[38;5;45mNone\u001b[0m, \u001b[38;5;34m24\u001b[0m)             │             \u001b[38;5;34m48\u001b[0m │ global_average_poolin… │\n",
              "│ (\u001b[38;5;33mLayerNormalization\u001b[0m)      │                        │                │                        │\n",
              "├───────────────────────────┼────────────────────────┼────────────────┼────────────────────────┤\n",
              "│ dense_4 (\u001b[38;5;33mDense\u001b[0m)           │ (\u001b[38;5;45mNone\u001b[0m, \u001b[38;5;34m1\u001b[0m)              │             \u001b[38;5;34m25\u001b[0m │ layer_normalization_4… │\n",
              "└───────────────────────────┴────────────────────────┴────────────────┴────────────────────────┘\n"
            ],
            "text/html": [
              "<pre style=\"white-space:pre;overflow-x:auto;line-height:normal;font-family:Menlo,'DejaVu Sans Mono',consolas,'Courier New',monospace\">┏━━━━━━━━━━━━━━━━━━━━━━━━━━━┳━━━━━━━━━━━━━━━━━━━━━━━━┳━━━━━━━━━━━━━━━━┳━━━━━━━━━━━━━━━━━━━━━━━━┓\n",
              "┃<span style=\"font-weight: bold\"> Layer (type)              </span>┃<span style=\"font-weight: bold\"> Output Shape           </span>┃<span style=\"font-weight: bold\">        Param # </span>┃<span style=\"font-weight: bold\"> Connected to           </span>┃\n",
              "┡━━━━━━━━━━━━━━━━━━━━━━━━━━━╇━━━━━━━━━━━━━━━━━━━━━━━━╇━━━━━━━━━━━━━━━━╇━━━━━━━━━━━━━━━━━━━━━━━━┩\n",
              "│ input_layer (<span style=\"color: #0087ff; text-decoration-color: #0087ff\">InputLayer</span>)  │ (<span style=\"color: #00d7ff; text-decoration-color: #00d7ff\">None</span>, <span style=\"color: #00af00; text-decoration-color: #00af00\">200</span>, <span style=\"color: #00af00; text-decoration-color: #00af00\">24</span>)        │              <span style=\"color: #00af00; text-decoration-color: #00af00\">0</span> │ -                      │\n",
              "├───────────────────────────┼────────────────────────┼────────────────┼────────────────────────┤\n",
              "│ layer_normalization       │ (<span style=\"color: #00d7ff; text-decoration-color: #00d7ff\">None</span>, <span style=\"color: #00af00; text-decoration-color: #00af00\">200</span>, <span style=\"color: #00af00; text-decoration-color: #00af00\">24</span>)        │             <span style=\"color: #00af00; text-decoration-color: #00af00\">48</span> │ input_layer[<span style=\"color: #00af00; text-decoration-color: #00af00\">0</span>][<span style=\"color: #00af00; text-decoration-color: #00af00\">0</span>]      │\n",
              "│ (<span style=\"color: #0087ff; text-decoration-color: #0087ff\">LayerNormalization</span>)      │                        │                │                        │\n",
              "├───────────────────────────┼────────────────────────┼────────────────┼────────────────────────┤\n",
              "│ multi_head_attention      │ (<span style=\"color: #00d7ff; text-decoration-color: #00d7ff\">None</span>, <span style=\"color: #00af00; text-decoration-color: #00af00\">200</span>, <span style=\"color: #00af00; text-decoration-color: #00af00\">24</span>)        │        <span style=\"color: #00af00; text-decoration-color: #00af00\">202,776</span> │ layer_normalization[<span style=\"color: #00af00; text-decoration-color: #00af00\">0</span>… │\n",
              "│ (<span style=\"color: #0087ff; text-decoration-color: #0087ff\">MultiHeadAttention</span>)      │                        │                │ layer_normalization[<span style=\"color: #00af00; text-decoration-color: #00af00\">0</span>… │\n",
              "├───────────────────────────┼────────────────────────┼────────────────┼────────────────────────┤\n",
              "│ add (<span style=\"color: #0087ff; text-decoration-color: #0087ff\">Add</span>)                 │ (<span style=\"color: #00d7ff; text-decoration-color: #00d7ff\">None</span>, <span style=\"color: #00af00; text-decoration-color: #00af00\">200</span>, <span style=\"color: #00af00; text-decoration-color: #00af00\">24</span>)        │              <span style=\"color: #00af00; text-decoration-color: #00af00\">0</span> │ multi_head_attention[<span style=\"color: #00af00; text-decoration-color: #00af00\">…</span> │\n",
              "│                           │                        │                │ input_layer[<span style=\"color: #00af00; text-decoration-color: #00af00\">0</span>][<span style=\"color: #00af00; text-decoration-color: #00af00\">0</span>]      │\n",
              "├───────────────────────────┼────────────────────────┼────────────────┼────────────────────────┤\n",
              "│ layer_normalization_1     │ (<span style=\"color: #00d7ff; text-decoration-color: #00d7ff\">None</span>, <span style=\"color: #00af00; text-decoration-color: #00af00\">200</span>, <span style=\"color: #00af00; text-decoration-color: #00af00\">24</span>)        │             <span style=\"color: #00af00; text-decoration-color: #00af00\">48</span> │ add[<span style=\"color: #00af00; text-decoration-color: #00af00\">0</span>][<span style=\"color: #00af00; text-decoration-color: #00af00\">0</span>]              │\n",
              "│ (<span style=\"color: #0087ff; text-decoration-color: #0087ff\">LayerNormalization</span>)      │                        │                │                        │\n",
              "├───────────────────────────┼────────────────────────┼────────────────┼────────────────────────┤\n",
              "│ dense (<span style=\"color: #0087ff; text-decoration-color: #0087ff\">Dense</span>)             │ (<span style=\"color: #00d7ff; text-decoration-color: #00d7ff\">None</span>, <span style=\"color: #00af00; text-decoration-color: #00af00\">200</span>, <span style=\"color: #00af00; text-decoration-color: #00af00\">512</span>)       │         <span style=\"color: #00af00; text-decoration-color: #00af00\">12,800</span> │ layer_normalization_1… │\n",
              "├───────────────────────────┼────────────────────────┼────────────────┼────────────────────────┤\n",
              "│ dropout_1 (<span style=\"color: #0087ff; text-decoration-color: #0087ff\">Dropout</span>)       │ (<span style=\"color: #00d7ff; text-decoration-color: #00d7ff\">None</span>, <span style=\"color: #00af00; text-decoration-color: #00af00\">200</span>, <span style=\"color: #00af00; text-decoration-color: #00af00\">512</span>)       │              <span style=\"color: #00af00; text-decoration-color: #00af00\">0</span> │ dense[<span style=\"color: #00af00; text-decoration-color: #00af00\">0</span>][<span style=\"color: #00af00; text-decoration-color: #00af00\">0</span>]            │\n",
              "├───────────────────────────┼────────────────────────┼────────────────┼────────────────────────┤\n",
              "│ dense_1 (<span style=\"color: #0087ff; text-decoration-color: #0087ff\">Dense</span>)           │ (<span style=\"color: #00d7ff; text-decoration-color: #00d7ff\">None</span>, <span style=\"color: #00af00; text-decoration-color: #00af00\">200</span>, <span style=\"color: #00af00; text-decoration-color: #00af00\">24</span>)        │         <span style=\"color: #00af00; text-decoration-color: #00af00\">12,312</span> │ dropout_1[<span style=\"color: #00af00; text-decoration-color: #00af00\">0</span>][<span style=\"color: #00af00; text-decoration-color: #00af00\">0</span>]        │\n",
              "├───────────────────────────┼────────────────────────┼────────────────┼────────────────────────┤\n",
              "│ add_1 (<span style=\"color: #0087ff; text-decoration-color: #0087ff\">Add</span>)               │ (<span style=\"color: #00d7ff; text-decoration-color: #00d7ff\">None</span>, <span style=\"color: #00af00; text-decoration-color: #00af00\">200</span>, <span style=\"color: #00af00; text-decoration-color: #00af00\">24</span>)        │              <span style=\"color: #00af00; text-decoration-color: #00af00\">0</span> │ dense_1[<span style=\"color: #00af00; text-decoration-color: #00af00\">0</span>][<span style=\"color: #00af00; text-decoration-color: #00af00\">0</span>],         │\n",
              "│                           │                        │                │ add[<span style=\"color: #00af00; text-decoration-color: #00af00\">0</span>][<span style=\"color: #00af00; text-decoration-color: #00af00\">0</span>]              │\n",
              "├───────────────────────────┼────────────────────────┼────────────────┼────────────────────────┤\n",
              "│ layer_normalization_2     │ (<span style=\"color: #00d7ff; text-decoration-color: #00d7ff\">None</span>, <span style=\"color: #00af00; text-decoration-color: #00af00\">200</span>, <span style=\"color: #00af00; text-decoration-color: #00af00\">24</span>)        │             <span style=\"color: #00af00; text-decoration-color: #00af00\">48</span> │ add_1[<span style=\"color: #00af00; text-decoration-color: #00af00\">0</span>][<span style=\"color: #00af00; text-decoration-color: #00af00\">0</span>]            │\n",
              "│ (<span style=\"color: #0087ff; text-decoration-color: #0087ff\">LayerNormalization</span>)      │                        │                │                        │\n",
              "├───────────────────────────┼────────────────────────┼────────────────┼────────────────────────┤\n",
              "│ multi_head_attention_1    │ (<span style=\"color: #00d7ff; text-decoration-color: #00d7ff\">None</span>, <span style=\"color: #00af00; text-decoration-color: #00af00\">200</span>, <span style=\"color: #00af00; text-decoration-color: #00af00\">24</span>)        │        <span style=\"color: #00af00; text-decoration-color: #00af00\">202,776</span> │ layer_normalization_2… │\n",
              "│ (<span style=\"color: #0087ff; text-decoration-color: #0087ff\">MultiHeadAttention</span>)      │                        │                │ layer_normalization_2… │\n",
              "├───────────────────────────┼────────────────────────┼────────────────┼────────────────────────┤\n",
              "│ add_2 (<span style=\"color: #0087ff; text-decoration-color: #0087ff\">Add</span>)               │ (<span style=\"color: #00d7ff; text-decoration-color: #00d7ff\">None</span>, <span style=\"color: #00af00; text-decoration-color: #00af00\">200</span>, <span style=\"color: #00af00; text-decoration-color: #00af00\">24</span>)        │              <span style=\"color: #00af00; text-decoration-color: #00af00\">0</span> │ multi_head_attention_… │\n",
              "│                           │                        │                │ add_1[<span style=\"color: #00af00; text-decoration-color: #00af00\">0</span>][<span style=\"color: #00af00; text-decoration-color: #00af00\">0</span>]            │\n",
              "├───────────────────────────┼────────────────────────┼────────────────┼────────────────────────┤\n",
              "│ layer_normalization_3     │ (<span style=\"color: #00d7ff; text-decoration-color: #00d7ff\">None</span>, <span style=\"color: #00af00; text-decoration-color: #00af00\">200</span>, <span style=\"color: #00af00; text-decoration-color: #00af00\">24</span>)        │             <span style=\"color: #00af00; text-decoration-color: #00af00\">48</span> │ add_2[<span style=\"color: #00af00; text-decoration-color: #00af00\">0</span>][<span style=\"color: #00af00; text-decoration-color: #00af00\">0</span>]            │\n",
              "│ (<span style=\"color: #0087ff; text-decoration-color: #0087ff\">LayerNormalization</span>)      │                        │                │                        │\n",
              "├───────────────────────────┼────────────────────────┼────────────────┼────────────────────────┤\n",
              "│ dense_2 (<span style=\"color: #0087ff; text-decoration-color: #0087ff\">Dense</span>)           │ (<span style=\"color: #00d7ff; text-decoration-color: #00d7ff\">None</span>, <span style=\"color: #00af00; text-decoration-color: #00af00\">200</span>, <span style=\"color: #00af00; text-decoration-color: #00af00\">512</span>)       │         <span style=\"color: #00af00; text-decoration-color: #00af00\">12,800</span> │ layer_normalization_3… │\n",
              "├───────────────────────────┼────────────────────────┼────────────────┼────────────────────────┤\n",
              "│ dropout_3 (<span style=\"color: #0087ff; text-decoration-color: #0087ff\">Dropout</span>)       │ (<span style=\"color: #00d7ff; text-decoration-color: #00d7ff\">None</span>, <span style=\"color: #00af00; text-decoration-color: #00af00\">200</span>, <span style=\"color: #00af00; text-decoration-color: #00af00\">512</span>)       │              <span style=\"color: #00af00; text-decoration-color: #00af00\">0</span> │ dense_2[<span style=\"color: #00af00; text-decoration-color: #00af00\">0</span>][<span style=\"color: #00af00; text-decoration-color: #00af00\">0</span>]          │\n",
              "├───────────────────────────┼────────────────────────┼────────────────┼────────────────────────┤\n",
              "│ dense_3 (<span style=\"color: #0087ff; text-decoration-color: #0087ff\">Dense</span>)           │ (<span style=\"color: #00d7ff; text-decoration-color: #00d7ff\">None</span>, <span style=\"color: #00af00; text-decoration-color: #00af00\">200</span>, <span style=\"color: #00af00; text-decoration-color: #00af00\">24</span>)        │         <span style=\"color: #00af00; text-decoration-color: #00af00\">12,312</span> │ dropout_3[<span style=\"color: #00af00; text-decoration-color: #00af00\">0</span>][<span style=\"color: #00af00; text-decoration-color: #00af00\">0</span>]        │\n",
              "├───────────────────────────┼────────────────────────┼────────────────┼────────────────────────┤\n",
              "│ add_3 (<span style=\"color: #0087ff; text-decoration-color: #0087ff\">Add</span>)               │ (<span style=\"color: #00d7ff; text-decoration-color: #00d7ff\">None</span>, <span style=\"color: #00af00; text-decoration-color: #00af00\">200</span>, <span style=\"color: #00af00; text-decoration-color: #00af00\">24</span>)        │              <span style=\"color: #00af00; text-decoration-color: #00af00\">0</span> │ dense_3[<span style=\"color: #00af00; text-decoration-color: #00af00\">0</span>][<span style=\"color: #00af00; text-decoration-color: #00af00\">0</span>],         │\n",
              "│                           │                        │                │ add_2[<span style=\"color: #00af00; text-decoration-color: #00af00\">0</span>][<span style=\"color: #00af00; text-decoration-color: #00af00\">0</span>]            │\n",
              "├───────────────────────────┼────────────────────────┼────────────────┼────────────────────────┤\n",
              "│ global_average_pooling1d  │ (<span style=\"color: #00d7ff; text-decoration-color: #00d7ff\">None</span>, <span style=\"color: #00af00; text-decoration-color: #00af00\">24</span>)             │              <span style=\"color: #00af00; text-decoration-color: #00af00\">0</span> │ add_3[<span style=\"color: #00af00; text-decoration-color: #00af00\">0</span>][<span style=\"color: #00af00; text-decoration-color: #00af00\">0</span>]            │\n",
              "│ (<span style=\"color: #0087ff; text-decoration-color: #0087ff\">GlobalAveragePooling1D</span>)  │                        │                │                        │\n",
              "├───────────────────────────┼────────────────────────┼────────────────┼────────────────────────┤\n",
              "│ layer_normalization_4     │ (<span style=\"color: #00d7ff; text-decoration-color: #00d7ff\">None</span>, <span style=\"color: #00af00; text-decoration-color: #00af00\">24</span>)             │             <span style=\"color: #00af00; text-decoration-color: #00af00\">48</span> │ global_average_poolin… │\n",
              "│ (<span style=\"color: #0087ff; text-decoration-color: #0087ff\">LayerNormalization</span>)      │                        │                │                        │\n",
              "├───────────────────────────┼────────────────────────┼────────────────┼────────────────────────┤\n",
              "│ dense_4 (<span style=\"color: #0087ff; text-decoration-color: #0087ff\">Dense</span>)           │ (<span style=\"color: #00d7ff; text-decoration-color: #00d7ff\">None</span>, <span style=\"color: #00af00; text-decoration-color: #00af00\">1</span>)              │             <span style=\"color: #00af00; text-decoration-color: #00af00\">25</span> │ layer_normalization_4… │\n",
              "└───────────────────────────┴────────────────────────┴────────────────┴────────────────────────┘\n",
              "</pre>\n"
            ]
          },
          "metadata": {}
        },
        {
          "output_type": "display_data",
          "data": {
            "text/plain": [
              "\u001b[1m Total params: \u001b[0m\u001b[38;5;34m456,041\u001b[0m (1.74 MB)\n"
            ],
            "text/html": [
              "<pre style=\"white-space:pre;overflow-x:auto;line-height:normal;font-family:Menlo,'DejaVu Sans Mono',consolas,'Courier New',monospace\"><span style=\"font-weight: bold\"> Total params: </span><span style=\"color: #00af00; text-decoration-color: #00af00\">456,041</span> (1.74 MB)\n",
              "</pre>\n"
            ]
          },
          "metadata": {}
        },
        {
          "output_type": "display_data",
          "data": {
            "text/plain": [
              "\u001b[1m Trainable params: \u001b[0m\u001b[38;5;34m456,041\u001b[0m (1.74 MB)\n"
            ],
            "text/html": [
              "<pre style=\"white-space:pre;overflow-x:auto;line-height:normal;font-family:Menlo,'DejaVu Sans Mono',consolas,'Courier New',monospace\"><span style=\"font-weight: bold\"> Trainable params: </span><span style=\"color: #00af00; text-decoration-color: #00af00\">456,041</span> (1.74 MB)\n",
              "</pre>\n"
            ]
          },
          "metadata": {}
        },
        {
          "output_type": "display_data",
          "data": {
            "text/plain": [
              "\u001b[1m Non-trainable params: \u001b[0m\u001b[38;5;34m0\u001b[0m (0.00 B)\n"
            ],
            "text/html": [
              "<pre style=\"white-space:pre;overflow-x:auto;line-height:normal;font-family:Menlo,'DejaVu Sans Mono',consolas,'Courier New',monospace\"><span style=\"font-weight: bold\"> Non-trainable params: </span><span style=\"color: #00af00; text-decoration-color: #00af00\">0</span> (0.00 B)\n",
              "</pre>\n"
            ]
          },
          "metadata": {}
        }
      ],
      "source": [
        "input_shape = (200,24)\n",
        "head_size = 128#256\n",
        "num_heads = 16#16\n",
        "ff_dim = 512#1024\n",
        "num_layers = 2#12\n",
        "dropout = 0.1#0.2\n",
        "\n",
        "model = build_transformer_model(input_shape, head_size, num_heads, ff_dim, num_layers, dropout)\n",
        "model.summary()"
      ]
    },
    {
      "cell_type": "code",
      "execution_count": 42,
      "id": "e46c8838-9065-4968-b4ab-db549659b4ef",
      "metadata": {
        "id": "e46c8838-9065-4968-b4ab-db549659b4ef"
      },
      "outputs": [],
      "source": []
    },
    {
      "cell_type": "code",
      "execution_count": 42,
      "id": "e2b25b37-ed4b-4f4c-81d9-a840f383ecce",
      "metadata": {
        "id": "e2b25b37-ed4b-4f4c-81d9-a840f383ecce"
      },
      "outputs": [],
      "source": []
    },
    {
      "cell_type": "code",
      "execution_count": 42,
      "id": "5c887257-229e-40d1-b202-aa6e9e07fded",
      "metadata": {
        "id": "5c887257-229e-40d1-b202-aa6e9e07fded"
      },
      "outputs": [],
      "source": []
    },
    {
      "cell_type": "code",
      "execution_count": 42,
      "id": "24e87430-2588-4435-87c5-35720a25ab85",
      "metadata": {
        "id": "24e87430-2588-4435-87c5-35720a25ab85"
      },
      "outputs": [],
      "source": []
    },
    {
      "cell_type": "markdown",
      "id": "5c3029d2-759b-45a0-b7b0-c55abe1597cc",
      "metadata": {
        "id": "5c3029d2-759b-45a0-b7b0-c55abe1597cc"
      },
      "source": [
        "#### 4.3 WarmUpCosineDecay"
      ]
    },
    {
      "cell_type": "code",
      "execution_count": 43,
      "id": "fc9bdc1f-770b-4af1-ac3f-de0b9984a8ea",
      "metadata": {
        "id": "fc9bdc1f-770b-4af1-ac3f-de0b9984a8ea"
      },
      "outputs": [],
      "source": [
        "from tensorflow import keras\n",
        "\n",
        "def lr_warmup_cosine_decay(global_step,\n",
        "                           warmup_steps,\n",
        "                           hold = 0,\n",
        "                           total_steps=0,\n",
        "                           start_lr=0.0,\n",
        "                           target_lr=1e-3):\n",
        "    # Cosine decay\n",
        "    # There is no tf.pi so we wrap np.pi as a TF constant\n",
        "    #learning_rate = 0.5 * target_lr * (1 + tf.cos(tf.constant(np.pi) * (global_step - warmup_steps - hold) / float(total_steps - warmup_steps - hold)))\n",
        "    learning_rate = 0.5 * target_lr * (1 + tf.cos(tf.constant(np.pi) * tf.cast((global_step - warmup_steps - hold), tf.float32) / tf.cast(total_steps - warmup_steps - hold, tf.float32)))\n",
        "\n",
        "\n",
        "    # Target LR * progress of warmup (=1 at the final warmup step)\n",
        "    warmup_lr = target_lr * (global_step / warmup_steps)\n",
        "\n",
        "    # Choose between `warmup_lr`, `target_lr` and `learning_rate` based on whether `global_step < warmup_steps` and we're still holding.\n",
        "    # i.e. warm up if we're still warming up and use cosine decayed lr otherwise\n",
        "    if hold > 0:\n",
        "        learning_rate = tf.where(global_step > warmup_steps + hold,\n",
        "                                 learning_rate, target_lr)\n",
        "\n",
        "    learning_rate = tf.where(global_step < warmup_steps, warmup_lr, learning_rate)\n",
        "\n",
        "    return learning_rate\n",
        "\n",
        "\n",
        "class WarmUpCosineDecay(keras.optimizers.schedules.LearningRateSchedule):\n",
        "    def __init__(self, start_lr, target_lr, warmup_steps, total_steps, hold):\n",
        "        super().__init__()\n",
        "        self.start_lr = start_lr\n",
        "        self.target_lr = target_lr\n",
        "        self.warmup_steps = warmup_steps\n",
        "        self.total_steps = total_steps\n",
        "        self.hold = hold\n",
        "\n",
        "    def __call__(self, step):\n",
        "        lr = lr_warmup_cosine_decay(global_step=step,\n",
        "                                    total_steps=self.total_steps,\n",
        "                                    warmup_steps=self.warmup_steps,\n",
        "                                    start_lr=self.start_lr,\n",
        "                                    target_lr=self.target_lr,\n",
        "                                    hold=self.hold)\n",
        "\n",
        "        return tf.where(\n",
        "            step > self.total_steps, 0.0, lr, name=\"learning_rate\"\n",
        "        )\n",
        "    def get_config(self):\n",
        "        config = {\n",
        "          'start_lr': self.start_lr,\n",
        "          'target_lr': self.target_lr,\n",
        "          'warmup_steps': self.warmup_steps,\n",
        "          'total_steps': self.total_steps,\n",
        "          'hold': self.hold\n",
        "        }\n",
        "        return config\n",
        "\n"
      ]
    },
    {
      "cell_type": "code",
      "execution_count": 43,
      "id": "2895fde1-004c-4432-8e07-31854dc32e17",
      "metadata": {
        "id": "2895fde1-004c-4432-8e07-31854dc32e17"
      },
      "outputs": [],
      "source": []
    },
    {
      "cell_type": "markdown",
      "id": "2785b48a-7912-4e28-9b81-01f2102ac9c1",
      "metadata": {
        "id": "2785b48a-7912-4e28-9b81-01f2102ac9c1"
      },
      "source": [
        "#### 4.4 Callbacks"
      ]
    },
    {
      "cell_type": "code",
      "execution_count": 44,
      "id": "57f56ee3-4de3-427e-a945-d6254ca32ad7",
      "metadata": {
        "id": "57f56ee3-4de3-427e-a945-d6254ca32ad7"
      },
      "outputs": [],
      "source": [
        "# метрики на конец эпохи"
      ]
    },
    {
      "cell_type": "code",
      "execution_count": 45,
      "id": "3d0f7791-22e4-41e8-b8c4-e3dbe55b68b5",
      "metadata": {
        "id": "3d0f7791-22e4-41e8-b8c4-e3dbe55b68b5"
      },
      "outputs": [],
      "source": [
        "def get_y_true(data):\n",
        "    return data.data.target_1min[data.inds[:len(data)*data.batch_size]]\n",
        "\n",
        "def precision(y_true, y_pred, threshold):\n",
        "    mask = y_pred.ravel() > threshold\n",
        "    return mask.sum(), y_true.ravel()[mask].mean()\n",
        "\n",
        "\n",
        "\n",
        "class MetricsCallback(keras.callbacks.Callback):\n",
        "    def __init__(self, datasets):\n",
        "        self.datasets = datasets\n",
        "        self.list_auc = []\n",
        "        self.list_precision = []\n",
        "        # self.list_percent = []\n",
        "        # self.list_count = []\n",
        "        super(MetricsCallback, self).__init__()\n",
        "\n",
        "    def on_epoch_end(self, epoch, logs=None):\n",
        "\n",
        "        list_y_true = []\n",
        "        list_y_pred = []\n",
        "\n",
        "        list_auc = []\n",
        "        list_precision = []\n",
        "        # list_count = []\n",
        "        # list_percent = []\n",
        "        for dataset in self.datasets:\n",
        "            y_true = get_y_true(dataset)\n",
        "            y_pred = self.model.predict(dataset)\n",
        "\n",
        "            list_auc += [roc_auc_score(y_true, y_pred)]\n",
        "            threshold = np.quantile(y_pred, q=0.99)\n",
        "            mask = y_pred.ravel() > threshold\n",
        "            list_precision += [y_true.ravel()[mask].mean()]\n",
        "\n",
        "\n",
        "#evaluate using one threshold\n",
        "        # for dataset in self.datasets:\n",
        "        #     y_true = get_y_true(dataset)\n",
        "        #     y_pred = self.model.predict(dataset)\n",
        "\n",
        "        #     list_y_true += [y_true]\n",
        "        #     list_y_pred += [y_pred]\n",
        "\n",
        "\n",
        "        # threshold = np.quantile(list_y_pred[1], q=0.99)\n",
        "\n",
        "        # for y_true, y_pred in zip(list_y_true, list_y_pred):\n",
        "        #     list_auc += [roc_auc_score(y_true, y_pred)]\n",
        "\n",
        "        #     mask = y_pred.ravel() > threshold\n",
        "        #     list_precision += [y_true.ravel()[mask].mean()]\n",
        "        #     list_count += [mask.sum()]\n",
        "        #     list_percent += [mask.mean()]\n",
        "\n",
        "        # del list_y_true, list_y_pred\n",
        "        # gc.collect()\n",
        "\n",
        "\n",
        "\n",
        "        self.list_auc += [list_auc.copy()]\n",
        "        self.list_precision += [list_precision.copy()]\n",
        "        # self.list_percent += [list_percent.copy()]\n",
        "        # self.list_count += [list_count.copy()]\n",
        "\n",
        "\n",
        "        print('AUC_ROC: ', np.round(list_auc, decimals=3).tolist())\n",
        "        # print('COUNT: ', np.round(list_count, decimals=3).tolist())\n",
        "        # print('PERCENT: ', np.round(list_percent, decimals=3).tolist())\n",
        "        print('PRECISION: ', np.round(list_precision, decimals=3).tolist())\n",
        "        print()\n",
        "\n",
        "\n"
      ]
    },
    {
      "cell_type": "markdown",
      "id": "UPYb1rTrXGmp",
      "metadata": {
        "id": "UPYb1rTrXGmp"
      },
      "source": []
    },
    {
      "cell_type": "code",
      "execution_count": 45,
      "id": "b3063efa-6159-4264-94b5-1508b58bf807",
      "metadata": {
        "id": "b3063efa-6159-4264-94b5-1508b58bf807"
      },
      "outputs": [],
      "source": []
    },
    {
      "cell_type": "code",
      "execution_count": null,
      "id": "aa0f1dcf-19d8-444a-8cb0-05e08a323863",
      "metadata": {
        "id": "aa0f1dcf-19d8-444a-8cb0-05e08a323863"
      },
      "outputs": [],
      "source": []
    },
    {
      "cell_type": "markdown",
      "id": "7ba56dad-ea4c-4cf5-a78c-8d23f8058ea9",
      "metadata": {
        "id": "7ba56dad-ea4c-4cf5-a78c-8d23f8058ea9"
      },
      "source": [
        "#### 4.5 Train"
      ]
    },
    {
      "cell_type": "code",
      "execution_count": null,
      "id": "R9QqBhnaXTt_",
      "metadata": {
        "id": "R9QqBhnaXTt_",
        "colab": {
          "base_uri": "https://localhost:8080/"
        },
        "outputId": "2662d4b8-db9f-4ba7-aa6f-88295c975993"
      },
      "outputs": [
        {
          "output_type": "stream",
          "name": "stdout",
          "text": [
            "mkdir: cannot create directory ‘models’: File exists\n"
          ]
        }
      ],
      "source": [
        "! mkdir models"
      ]
    },
    {
      "cell_type": "code",
      "execution_count": null,
      "id": "sDrf9u58G2Us",
      "metadata": {
        "id": "sDrf9u58G2Us"
      },
      "outputs": [],
      "source": []
    },
    {
      "cell_type": "code",
      "execution_count": null,
      "id": "4bfe4b72-6a33-4713-b5fa-f3b41a358958",
      "metadata": {
        "id": "4bfe4b72-6a33-4713-b5fa-f3b41a358958"
      },
      "outputs": [],
      "source": [
        "EPOCHS = 20\n",
        "\n",
        "total_steps = len(dataset_train) * EPOCHS\n",
        "warmup_steps = int(0.05*total_steps)\n",
        "schedule = WarmUpCosineDecay(start_lr=0.0001, target_lr=0.001, warmup_steps=warmup_steps, total_steps=total_steps, hold=warmup_steps)\n",
        "#may be changed to 1\n",
        "optimizer=tf.keras.optimizers.Adam(learning_rate=schedule)\n",
        "#optimizer=tf.keras.optimizers.Adam(learning_rate=0.001)\n",
        "\n",
        "loss = tf.keras.losses.BinaryCrossentropy()\n",
        "metric_auc_roc = tf.keras.metrics.AUC(num_thresholds=256)\n",
        "\n",
        "\n",
        "model.compile(optimizer=optimizer,\n",
        "              loss=loss,\n",
        "              metrics=[metric_auc_roc])\n",
        "\n",
        "\n",
        "#metrics_callback = MetricsCallback([dataset_train_subsample, dataset_valid_subsample, dataset_test_subsample, dataset_test2_subsample])\n",
        "metrics_callback = MetricsCallback([dataset_train, dataset_valid, dataset_test, dataset_test2])\n",
        "save_callback = tf.keras.callbacks.ModelCheckpoint( \"./models/model_{epoch:04d}.keras\", save_freq='epoch')\n",
        "callbacks = [save_callback, metrics_callback]\n",
        "\n",
        "\n"
      ]
    },
    {
      "cell_type": "code",
      "execution_count": null,
      "id": "56ee1fe5-8a03-4eb3-9d7d-2ae1095fbcf6",
      "metadata": {
        "id": "56ee1fe5-8a03-4eb3-9d7d-2ae1095fbcf6"
      },
      "outputs": [],
      "source": []
    },
    {
      "cell_type": "code",
      "execution_count": null,
      "id": "ed5d02dc-c609-45ae-b95e-ddb93f9bb16d",
      "metadata": {
        "id": "ed5d02dc-c609-45ae-b95e-ddb93f9bb16d"
      },
      "outputs": [],
      "source": []
    },
    {
      "cell_type": "code",
      "execution_count": null,
      "id": "6e5810fc-bfd1-4557-a12f-f18cdf677b51",
      "metadata": {
        "id": "6e5810fc-bfd1-4557-a12f-f18cdf677b51"
      },
      "outputs": [],
      "source": [
        "# lrs = [lr_warmup_cosine_decay(step, total_steps=total_steps, warmup_steps=warmup_steps, hold=warmup_steps, start_lr=0.0001,\n",
        "#                            target_lr=0.005) for step in tqdm(np.arange(total_steps))]\n",
        "# plt.plot(lrs)"
      ]
    },
    {
      "cell_type": "code",
      "execution_count": null,
      "id": "24851cff-a95d-4540-a5af-b5a33fd66bb7",
      "metadata": {
        "colab": {
          "base_uri": "https://localhost:8080/"
        },
        "id": "24851cff-a95d-4540-a5af-b5a33fd66bb7",
        "outputId": "5d5a8fa4-b8a9-47a9-8fcc-5cd2f98bd076"
      },
      "outputs": [
        {
          "output_type": "execute_result",
          "data": {
            "text/plain": [
              "1"
            ]
          },
          "metadata": {},
          "execution_count": 60
        }
      ],
      "source": [
        "1"
      ]
    },
    {
      "cell_type": "markdown",
      "id": "EeQ1tbBMgdZC",
      "metadata": {
        "id": "EeQ1tbBMgdZC"
      },
      "source": []
    },
    {
      "cell_type": "code",
      "execution_count": null,
      "id": "2fc292c8-05f7-41cc-bc93-895031bfa684",
      "metadata": {
        "colab": {
          "base_uri": "https://localhost:8080/"
        },
        "id": "2fc292c8-05f7-41cc-bc93-895031bfa684",
        "outputId": "0c818319-2eae-44b7-ab0e-2a2a2ce294a9",
        "scrolled": true
      },
      "outputs": [
        {
          "output_type": "stream",
          "name": "stdout",
          "text": [
            "Epoch 1/20\n",
            "\u001b[1m10000/10000\u001b[0m \u001b[32m━━━━━━━━━━━━━━━━━━━━\u001b[0m\u001b[37m\u001b[0m \u001b[1m351s\u001b[0m 35ms/step\n",
            "\u001b[1m2000/2000\u001b[0m \u001b[32m━━━━━━━━━━━━━━━━━━━━\u001b[0m\u001b[37m\u001b[0m \u001b[1m70s\u001b[0m 35ms/step\n",
            "\u001b[1m2000/2000\u001b[0m \u001b[32m━━━━━━━━━━━━━━━━━━━━\u001b[0m\u001b[37m\u001b[0m \u001b[1m70s\u001b[0m 35ms/step\n",
            "\u001b[1m2000/2000\u001b[0m \u001b[32m━━━━━━━━━━━━━━━━━━━━\u001b[0m\u001b[37m\u001b[0m \u001b[1m70s\u001b[0m 35ms/step\n",
            "AUC_ROC:  [0.825, 0.723, 0.746, 0.737]\n",
            "PRECISION:  [0.402, 0.331, 0.354, 0.412]\n",
            "\n",
            "\u001b[1m10000/10000\u001b[0m \u001b[32m━━━━━━━━━━━━━━━━━━━━\u001b[0m\u001b[37m\u001b[0m \u001b[1m1646s\u001b[0m 163ms/step - auc_1: 0.7184 - loss: 0.2521\n",
            "Epoch 2/20\n",
            "\u001b[1m10000/10000\u001b[0m \u001b[32m━━━━━━━━━━━━━━━━━━━━\u001b[0m\u001b[37m\u001b[0m \u001b[1m352s\u001b[0m 35ms/step\n",
            "\u001b[1m2000/2000\u001b[0m \u001b[32m━━━━━━━━━━━━━━━━━━━━\u001b[0m\u001b[37m\u001b[0m \u001b[1m71s\u001b[0m 35ms/step\n",
            "\u001b[1m2000/2000\u001b[0m \u001b[32m━━━━━━━━━━━━━━━━━━━━\u001b[0m\u001b[37m\u001b[0m \u001b[1m70s\u001b[0m 35ms/step\n",
            "\u001b[1m2000/2000\u001b[0m \u001b[32m━━━━━━━━━━━━━━━━━━━━\u001b[0m\u001b[37m\u001b[0m \u001b[1m71s\u001b[0m 35ms/step\n",
            "AUC_ROC:  [0.843, 0.727, 0.729, 0.704]\n",
            "PRECISION:  [0.399, 0.31, 0.348, 0.347]\n",
            "\n",
            "\u001b[1m10000/10000\u001b[0m \u001b[32m━━━━━━━━━━━━━━━━━━━━\u001b[0m\u001b[37m\u001b[0m \u001b[1m1632s\u001b[0m 163ms/step - auc_1: 0.8226 - loss: 0.1853\n",
            "Epoch 3/20\n",
            "\u001b[1m10000/10000\u001b[0m \u001b[32m━━━━━━━━━━━━━━━━━━━━\u001b[0m\u001b[37m\u001b[0m \u001b[1m353s\u001b[0m 35ms/step\n",
            "\u001b[1m2000/2000\u001b[0m \u001b[32m━━━━━━━━━━━━━━━━━━━━\u001b[0m\u001b[37m\u001b[0m \u001b[1m71s\u001b[0m 35ms/step\n",
            "\u001b[1m2000/2000\u001b[0m \u001b[32m━━━━━━━━━━━━━━━━━━━━\u001b[0m\u001b[37m\u001b[0m \u001b[1m71s\u001b[0m 35ms/step\n",
            "\u001b[1m2000/2000\u001b[0m \u001b[32m━━━━━━━━━━━━━━━━━━━━\u001b[0m\u001b[37m\u001b[0m \u001b[1m70s\u001b[0m 35ms/step\n",
            "AUC_ROC:  [0.872, 0.733, 0.744, 0.725]\n",
            "PRECISION:  [0.51, 0.248, 0.366, 0.267]\n",
            "\n",
            "\u001b[1m10000/10000\u001b[0m \u001b[32m━━━━━━━━━━━━━━━━━━━━\u001b[0m\u001b[37m\u001b[0m \u001b[1m1658s\u001b[0m 165ms/step - auc_1: 0.8528 - loss: 0.1749\n",
            "Epoch 4/20\n",
            "\u001b[1m10000/10000\u001b[0m \u001b[32m━━━━━━━━━━━━━━━━━━━━\u001b[0m\u001b[37m\u001b[0m \u001b[1m353s\u001b[0m 35ms/step\n",
            "\u001b[1m2000/2000\u001b[0m \u001b[32m━━━━━━━━━━━━━━━━━━━━\u001b[0m\u001b[37m\u001b[0m \u001b[1m71s\u001b[0m 35ms/step\n",
            "\u001b[1m2000/2000\u001b[0m \u001b[32m━━━━━━━━━━━━━━━━━━━━\u001b[0m\u001b[37m\u001b[0m \u001b[1m71s\u001b[0m 35ms/step\n",
            "\u001b[1m2000/2000\u001b[0m \u001b[32m━━━━━━━━━━━━━━━━━━━━\u001b[0m\u001b[37m\u001b[0m \u001b[1m71s\u001b[0m 35ms/step\n",
            "AUC_ROC:  [0.881, 0.721, 0.725, 0.709]\n",
            "PRECISION:  [0.552, 0.232, 0.219, 0.265]\n",
            "\n",
            "\u001b[1m10000/10000\u001b[0m \u001b[32m━━━━━━━━━━━━━━━━━━━━\u001b[0m\u001b[37m\u001b[0m \u001b[1m1638s\u001b[0m 164ms/step - auc_1: 0.8683 - loss: 0.1703\n",
            "Epoch 5/20\n",
            "\u001b[1m10000/10000\u001b[0m \u001b[32m━━━━━━━━━━━━━━━━━━━━\u001b[0m\u001b[37m\u001b[0m \u001b[1m354s\u001b[0m 35ms/step\n",
            "\u001b[1m2000/2000\u001b[0m \u001b[32m━━━━━━━━━━━━━━━━━━━━\u001b[0m\u001b[37m\u001b[0m \u001b[1m71s\u001b[0m 35ms/step\n",
            "\u001b[1m2000/2000\u001b[0m \u001b[32m━━━━━━━━━━━━━━━━━━━━\u001b[0m\u001b[37m\u001b[0m \u001b[1m71s\u001b[0m 35ms/step\n",
            "\u001b[1m2000/2000\u001b[0m \u001b[32m━━━━━━━━━━━━━━━━━━━━\u001b[0m\u001b[37m\u001b[0m \u001b[1m71s\u001b[0m 35ms/step\n",
            "AUC_ROC:  [0.896, 0.711, 0.712, 0.687]\n",
            "PRECISION:  [0.644, 0.255, 0.2, 0.227]\n",
            "\n",
            "\u001b[1m10000/10000\u001b[0m \u001b[32m━━━━━━━━━━━━━━━━━━━━\u001b[0m\u001b[37m\u001b[0m \u001b[1m1641s\u001b[0m 164ms/step - auc_1: 0.8820 - loss: 0.1626\n",
            "Epoch 6/20\n",
            "\u001b[1m10000/10000\u001b[0m \u001b[32m━━━━━━━━━━━━━━━━━━━━\u001b[0m\u001b[37m\u001b[0m \u001b[1m354s\u001b[0m 35ms/step\n",
            "\u001b[1m2000/2000\u001b[0m \u001b[32m━━━━━━━━━━━━━━━━━━━━\u001b[0m\u001b[37m\u001b[0m \u001b[1m71s\u001b[0m 36ms/step\n",
            "\u001b[1m2000/2000\u001b[0m \u001b[32m━━━━━━━━━━━━━━━━━━━━\u001b[0m\u001b[37m\u001b[0m \u001b[1m71s\u001b[0m 36ms/step\n",
            "\u001b[1m2000/2000\u001b[0m \u001b[32m━━━━━━━━━━━━━━━━━━━━\u001b[0m\u001b[37m\u001b[0m \u001b[1m71s\u001b[0m 35ms/step\n",
            "AUC_ROC:  [0.907, 0.715, 0.71, 0.699]\n",
            "PRECISION:  [0.688, 0.271, 0.221, 0.268]\n",
            "\n",
            "\u001b[1m10000/10000\u001b[0m \u001b[32m━━━━━━━━━━━━━━━━━━━━\u001b[0m\u001b[37m\u001b[0m \u001b[1m1661s\u001b[0m 166ms/step - auc_1: 0.8936 - loss: 0.1565\n",
            "Epoch 7/20\n",
            "\u001b[1m10000/10000\u001b[0m \u001b[32m━━━━━━━━━━━━━━━━━━━━\u001b[0m\u001b[37m\u001b[0m \u001b[1m354s\u001b[0m 35ms/step\n",
            "\u001b[1m2000/2000\u001b[0m \u001b[32m━━━━━━━━━━━━━━━━━━━━\u001b[0m\u001b[37m\u001b[0m \u001b[1m71s\u001b[0m 36ms/step\n",
            "\u001b[1m2000/2000\u001b[0m \u001b[32m━━━━━━━━━━━━━━━━━━━━\u001b[0m\u001b[37m\u001b[0m \u001b[1m71s\u001b[0m 35ms/step\n",
            "\u001b[1m2000/2000\u001b[0m \u001b[32m━━━━━━━━━━━━━━━━━━━━\u001b[0m\u001b[37m\u001b[0m \u001b[1m71s\u001b[0m 35ms/step\n",
            "AUC_ROC:  [0.912, 0.703, 0.694, 0.686]\n",
            "PRECISION:  [0.728, 0.244, 0.145, 0.24]\n",
            "\n",
            "\u001b[1m10000/10000\u001b[0m \u001b[32m━━━━━━━━━━━━━━━━━━━━\u001b[0m\u001b[37m\u001b[0m \u001b[1m1662s\u001b[0m 166ms/step - auc_1: 0.9067 - loss: 0.1484\n",
            "Epoch 8/20\n",
            "\u001b[1m10000/10000\u001b[0m \u001b[32m━━━━━━━━━━━━━━━━━━━━\u001b[0m\u001b[37m\u001b[0m \u001b[1m354s\u001b[0m 35ms/step\n",
            "\u001b[1m2000/2000\u001b[0m \u001b[32m━━━━━━━━━━━━━━━━━━━━\u001b[0m\u001b[37m\u001b[0m \u001b[1m71s\u001b[0m 35ms/step\n",
            "\u001b[1m2000/2000\u001b[0m \u001b[32m━━━━━━━━━━━━━━━━━━━━\u001b[0m\u001b[37m\u001b[0m \u001b[1m71s\u001b[0m 35ms/step\n",
            "\u001b[1m2000/2000\u001b[0m \u001b[32m━━━━━━━━━━━━━━━━━━━━\u001b[0m\u001b[37m\u001b[0m \u001b[1m71s\u001b[0m 35ms/step\n",
            "AUC_ROC:  [0.92, 0.711, 0.706, 0.699]\n",
            "PRECISION:  [0.783, 0.224, 0.239, 0.252]\n",
            "\n",
            "\u001b[1m10000/10000\u001b[0m \u001b[32m━━━━━━━━━━━━━━━━━━━━\u001b[0m\u001b[37m\u001b[0m \u001b[1m1688s\u001b[0m 165ms/step - auc_1: 0.9142 - loss: 0.1446\n",
            "Epoch 9/20\n",
            "\u001b[1m 4969/10000\u001b[0m \u001b[32m━━━━━━━━━\u001b[0m\u001b[37m━━━━━━━━━━━\u001b[0m \u001b[1m8:55\u001b[0m 107ms/step - auc_1: 0.9253 - loss: 0.1368"
          ]
        }
      ],
      "source": [
        "model.fit(dataset_train, epochs=EPOCHS, callbacks=callbacks)"
      ]
    },
    {
      "cell_type": "code",
      "execution_count": null,
      "id": "whEUdqcNgetv",
      "metadata": {
        "id": "whEUdqcNgetv"
      },
      "outputs": [],
      "source": []
    },
    {
      "cell_type": "code",
      "execution_count": null,
      "id": "64f53bb7-73b3-4198-b318-01b121448a0c",
      "metadata": {
        "id": "64f53bb7-73b3-4198-b318-01b121448a0c"
      },
      "outputs": [],
      "source": []
    },
    {
      "cell_type": "code",
      "execution_count": null,
      "id": "fcccdb1c-5a6d-4640-9139-335f221e2df0",
      "metadata": {
        "id": "fcccdb1c-5a6d-4640-9139-335f221e2df0"
      },
      "outputs": [],
      "source": []
    },
    {
      "cell_type": "code",
      "execution_count": null,
      "id": "9c840f12-27b5-42ff-912d-e796bcbfc2bd",
      "metadata": {
        "id": "9c840f12-27b5-42ff-912d-e796bcbfc2bd"
      },
      "outputs": [],
      "source": [
        "df_auc = pd.DataFrame(metrics_callback.list_auc)\n",
        "df_precision = pd.DataFrame(metrics_callback.list_precision)\n",
        "# df_count = pd.DataFrame(metrics_callback.list_count)\n",
        "# df_percent = pd.DataFrame(metrics_callback.list_percent)"
      ]
    },
    {
      "cell_type": "code",
      "execution_count": null,
      "id": "ec2dcd98-bfdb-49d9-a688-fd417fa2a92c",
      "metadata": {
        "id": "ec2dcd98-bfdb-49d9-a688-fd417fa2a92c"
      },
      "outputs": [],
      "source": [
        "#df_count"
      ]
    },
    {
      "cell_type": "code",
      "execution_count": null,
      "id": "9f4e66ab-c7ce-4790-babd-2d63415ea17c",
      "metadata": {
        "id": "9f4e66ab-c7ce-4790-babd-2d63415ea17c"
      },
      "outputs": [],
      "source": [
        "df_precision"
      ]
    },
    {
      "cell_type": "code",
      "execution_count": null,
      "id": "cd254888-a8df-4878-8a7d-ea68784fb0a0",
      "metadata": {
        "id": "cd254888-a8df-4878-8a7d-ea68784fb0a0"
      },
      "outputs": [],
      "source": []
    },
    {
      "cell_type": "code",
      "execution_count": null,
      "id": "f6c44521-706d-4dfd-966b-f14085cea7ba",
      "metadata": {
        "id": "f6c44521-706d-4dfd-966b-f14085cea7ba",
        "outputId": "601d5d0e-333c-4f9d-8953-6cfc9fd52194"
      },
      "outputs": [
        {
          "data": {
            "text/html": [
              "<div>\n",
              "<style scoped>\n",
              "    .dataframe tbody tr th:only-of-type {\n",
              "        vertical-align: middle;\n",
              "    }\n",
              "\n",
              "    .dataframe tbody tr th {\n",
              "        vertical-align: top;\n",
              "    }\n",
              "\n",
              "    .dataframe thead th {\n",
              "        text-align: right;\n",
              "    }\n",
              "</style>\n",
              "<table border=\"1\" class=\"dataframe\">\n",
              "  <thead>\n",
              "    <tr style=\"text-align: right;\">\n",
              "      <th></th>\n",
              "      <th>0</th>\n",
              "      <th>1</th>\n",
              "      <th>2</th>\n",
              "      <th>3</th>\n",
              "    </tr>\n",
              "  </thead>\n",
              "  <tbody>\n",
              "    <tr>\n",
              "      <th>0</th>\n",
              "      <td>0.494239</td>\n",
              "      <td>0.541143</td>\n",
              "      <td>0.541839</td>\n",
              "      <td>0.498328</td>\n",
              "    </tr>\n",
              "  </tbody>\n",
              "</table>\n",
              "</div>"
            ],
            "text/plain": [
              "          0         1         2         3\n",
              "0  0.494239  0.541143  0.541839  0.498328"
            ]
          },
          "execution_count": 269,
          "metadata": {},
          "output_type": "execute_result"
        }
      ],
      "source": [
        "df_auc"
      ]
    },
    {
      "cell_type": "code",
      "execution_count": null,
      "id": "7290192d-e549-407f-b7a5-8216def1b004",
      "metadata": {
        "id": "7290192d-e549-407f-b7a5-8216def1b004"
      },
      "outputs": [],
      "source": [
        "#df_percent"
      ]
    },
    {
      "cell_type": "code",
      "execution_count": null,
      "id": "fa795633-7251-480c-828d-05db099b6b41",
      "metadata": {
        "id": "fa795633-7251-480c-828d-05db099b6b41"
      },
      "outputs": [],
      "source": []
    },
    {
      "cell_type": "markdown",
      "id": "273319c0-54a3-48fb-9995-01aa62cebdaf",
      "metadata": {
        "id": "273319c0-54a3-48fb-9995-01aa62cebdaf"
      },
      "source": [
        "# 4. Evaluate"
      ]
    },
    {
      "cell_type": "code",
      "execution_count": 46,
      "id": "16771a9f-37e7-4787-9b95-895096e7b316",
      "metadata": {
        "id": "16771a9f-37e7-4787-9b95-895096e7b316"
      },
      "outputs": [],
      "source": [
        "import keras\n",
        "\n",
        "model_ld = keras.saving.load_model('./best_models/model_0001.keras',\n",
        "                                custom_objects={'WarmUpCosineDecay': WarmUpCosineDecay})"
      ]
    },
    {
      "cell_type": "code",
      "execution_count": 45,
      "id": "23264f72-ddbc-49e2-ac5d-5c1594d29b5e",
      "metadata": {
        "id": "23264f72-ddbc-49e2-ac5d-5c1594d29b5e"
      },
      "outputs": [],
      "source": []
    },
    {
      "cell_type": "code",
      "source": [
        "dataset_valid = dataset(data, inds_valid, len_seq=200, batch_size=64, shuffle=False)\n",
        "dataset_test = dataset(data, inds_test, len_seq=200, batch_size=64, shuffle=False)\n",
        "dataset_test2 = dataset(data, inds_test2, len_seq=200, batch_size=64, shuffle=False)"
      ],
      "metadata": {
        "id": "UDh4BF712E02"
      },
      "id": "UDh4BF712E02",
      "execution_count": 47,
      "outputs": []
    },
    {
      "cell_type": "code",
      "source": [
        "(dataset_valid.inds == inds_valid).all(), (dataset_test.inds == inds_test).all(), (dataset_test2.inds == inds_test2).all()"
      ],
      "metadata": {
        "colab": {
          "base_uri": "https://localhost:8080/"
        },
        "id": "zDP6tb-m2E35",
        "outputId": "41ff3ba7-df72-4250-b08a-c4f1c38c4518"
      },
      "id": "zDP6tb-m2E35",
      "execution_count": 50,
      "outputs": [
        {
          "output_type": "execute_result",
          "data": {
            "text/plain": [
              "(True, True, True)"
            ]
          },
          "metadata": {},
          "execution_count": 50
        }
      ]
    },
    {
      "cell_type": "code",
      "source": [
        "y_pred_valid = model_ld.predict(dataset_valid)\n",
        "y_pred_test = model_ld.predict(dataset_test)\n",
        "y_pred_test2 = model_ld.predict(dataset_test2)"
      ],
      "metadata": {
        "colab": {
          "base_uri": "https://localhost:8080/"
        },
        "id": "JvNgLPa52WfQ",
        "outputId": "36630fcf-2b17-40dd-f4fe-5095837c8e6b"
      },
      "id": "JvNgLPa52WfQ",
      "execution_count": 51,
      "outputs": [
        {
          "output_type": "stream",
          "name": "stdout",
          "text": [
            "\u001b[1m9334/9334\u001b[0m \u001b[32m━━━━━━━━━━━━━━━━━━━━\u001b[0m\u001b[37m\u001b[0m \u001b[1m315s\u001b[0m 34ms/step\n",
            "\u001b[1m9703/9703\u001b[0m \u001b[32m━━━━━━━━━━━━━━━━━━━━\u001b[0m\u001b[37m\u001b[0m \u001b[1m329s\u001b[0m 34ms/step\n",
            "\u001b[1m7779/7779\u001b[0m \u001b[32m━━━━━━━━━━━━━━━━━━━━\u001b[0m\u001b[37m\u001b[0m \u001b[1m264s\u001b[0m 34ms/step\n"
          ]
        }
      ]
    },
    {
      "cell_type": "code",
      "source": [
        "dump_pkl(y_pred_valid, 'y_pred_valid.pkl')\n",
        "dump_pkl(y_pred_test, 'y_pred_test.pkl')\n",
        "dump_pkl(y_pred_test2, 'y_pred_test2.pkl')\n"
      ],
      "metadata": {
        "id": "VTGBBDz52jLp"
      },
      "id": "VTGBBDz52jLp",
      "execution_count": 52,
      "outputs": []
    },
    {
      "cell_type": "code",
      "source": [],
      "metadata": {
        "id": "37n4AM6V2jOK"
      },
      "id": "37n4AM6V2jOK",
      "execution_count": null,
      "outputs": []
    },
    {
      "cell_type": "code",
      "source": [],
      "metadata": {
        "id": "fkzqJ4J82WiF"
      },
      "id": "fkzqJ4J82WiF",
      "execution_count": null,
      "outputs": []
    },
    {
      "cell_type": "code",
      "execution_count": null,
      "id": "13553f8f-3b07-4336-8b84-f49511fdde6b",
      "metadata": {
        "colab": {
          "base_uri": "https://localhost:8080/"
        },
        "id": "13553f8f-3b07-4336-8b84-f49511fdde6b",
        "outputId": "a956d40c-95b0-4fda-dc62-6929e676b743"
      },
      "outputs": [
        {
          "name": "stdout",
          "output_type": "stream",
          "text": [
            "\u001b[1m16/16\u001b[0m \u001b[32m━━━━━━━━━━━━━━━━━━━━\u001b[0m\u001b[37m\u001b[0m \u001b[1m7s\u001b[0m 459ms/step\n",
            "\u001b[1m16/16\u001b[0m \u001b[32m━━━━━━━━━━━━━━━━━━━━\u001b[0m\u001b[37m\u001b[0m \u001b[1m7s\u001b[0m 460ms/step\n"
          ]
        },
        {
          "data": {
            "text/plain": [
              "array([0.], dtype=float32)"
            ]
          },
          "execution_count": 330,
          "metadata": {},
          "output_type": "execute_result"
        }
      ],
      "source": [
        "y1 = model.predict(dataset_test2_subsample)\n",
        "y2 = model_ld.predict(dataset_test2_subsample)\n",
        "np.unique(y1-y2)"
      ]
    },
    {
      "cell_type": "code",
      "execution_count": null,
      "id": "c2fa9304-9ed9-40b0-abef-0100e467b23b",
      "metadata": {
        "id": "c2fa9304-9ed9-40b0-abef-0100e467b23b"
      },
      "outputs": [],
      "source": []
    },
    {
      "cell_type": "code",
      "execution_count": null,
      "id": "258c600c-83b3-4bb4-8b7a-cd2afd3bcb3f",
      "metadata": {
        "id": "258c600c-83b3-4bb4-8b7a-cd2afd3bcb3f"
      },
      "outputs": [],
      "source": []
    },
    {
      "cell_type": "markdown",
      "id": "1e3f3dee-7898-4b06-bed8-8fef57e81685",
      "metadata": {
        "id": "1e3f3dee-7898-4b06-bed8-8fef57e81685"
      },
      "source": [
        "# TMP"
      ]
    },
    {
      "cell_type": "code",
      "execution_count": null,
      "id": "de2b62cc-3ec4-42ad-ad99-cccabf9714b9",
      "metadata": {
        "id": "de2b62cc-3ec4-42ad-ad99-cccabf9714b9"
      },
      "outputs": [],
      "source": [
        "import tensorflow as tf\n",
        "tf.keras.backend.floatx()"
      ]
    },
    {
      "cell_type": "code",
      "execution_count": null,
      "id": "1e334752-da2e-4892-9398-33cfe8258e49",
      "metadata": {
        "id": "1e334752-da2e-4892-9398-33cfe8258e49"
      },
      "outputs": [],
      "source": []
    },
    {
      "cell_type": "code",
      "execution_count": null,
      "id": "97e624c0-27b5-4c65-959a-5f375e1329eb",
      "metadata": {
        "id": "97e624c0-27b5-4c65-959a-5f375e1329eb"
      },
      "outputs": [],
      "source": []
    },
    {
      "cell_type": "code",
      "execution_count": null,
      "id": "85dafc5b-f1ac-4817-bb94-0a20024571e3",
      "metadata": {
        "id": "85dafc5b-f1ac-4817-bb94-0a20024571e3"
      },
      "outputs": [],
      "source": []
    },
    {
      "cell_type": "code",
      "execution_count": null,
      "id": "c7b7d000-640b-488f-96d9-271543d6328c",
      "metadata": {
        "id": "c7b7d000-640b-488f-96d9-271543d6328c"
      },
      "outputs": [],
      "source": []
    },
    {
      "cell_type": "code",
      "execution_count": null,
      "id": "88e63d91-3ce6-49e8-82e3-e38943c7ba76",
      "metadata": {
        "id": "88e63d91-3ce6-49e8-82e3-e38943c7ba76"
      },
      "outputs": [],
      "source": []
    },
    {
      "cell_type": "code",
      "execution_count": null,
      "id": "07f6f70c-a6b6-4617-bd67-aac5b14b856f",
      "metadata": {
        "id": "07f6f70c-a6b6-4617-bd67-aac5b14b856f"
      },
      "outputs": [],
      "source": []
    }
  ],
  "metadata": {
    "accelerator": "GPU",
    "colab": {
      "gpuType": "T4",
      "provenance": []
    },
    "kernelspec": {
      "display_name": "Python 3 (ipykernel)",
      "language": "python",
      "name": "python3"
    },
    "language_info": {
      "codemirror_mode": {
        "name": "ipython",
        "version": 3
      },
      "file_extension": ".py",
      "mimetype": "text/x-python",
      "name": "python",
      "nbconvert_exporter": "python",
      "pygments_lexer": "ipython3",
      "version": "3.12.7"
    }
  },
  "nbformat": 4,
  "nbformat_minor": 5
}