{
 "cells": [
  {
   "cell_type": "code",
   "execution_count": 4,
   "id": "ba0eb6eb-5efc-49ef-ba9b-9f0cd15577b8",
   "metadata": {},
   "outputs": [],
   "source": [
    "#pip install python-okx --upgrade"
   ]
  },
  {
   "cell_type": "code",
   "execution_count": 1,
   "id": "461f0ad3-bee3-4658-b9f9-52648cd8b205",
   "metadata": {},
   "outputs": [],
   "source": [
    "import numpy as np\n",
    "import pandas as pd\n",
    "from tqdm import tqdm\n",
    "import random\n",
    "import matplotlib.pyplot as plt\n",
    "import seaborn as sns \n",
    "import datetime\n",
    "import math\n",
    "import gc\n",
    "import time\n",
    "\n",
    "\n",
    "from IPython.display import clear_output\n",
    "\n",
    "from sklearn.metrics import roc_auc_score\n",
    "\n",
    "import lightgbm as lgbm\n",
    "\n",
    "import pickle\n",
    "def dump_pkl(data, filename):\n",
    "  with open(filename, 'wb') as handle:\n",
    "    pickle.dump(data, handle, protocol=pickle.HIGHEST_PROTOCOL)\n",
    "\n",
    "def load_pkl(filename):\n",
    "  with open(filename, 'rb') as handle:\n",
    "    data = pickle.load(handle)\n",
    "  return data\n",
    "\n"
   ]
  },
  {
   "cell_type": "code",
   "execution_count": null,
   "id": "63c57950-6891-433d-89ea-0f13eaeea9a8",
   "metadata": {},
   "outputs": [],
   "source": []
  },
  {
   "cell_type": "code",
   "execution_count": 8,
   "id": "62e0ba50-6c39-46d6-9483-b92c8ce897ed",
   "metadata": {},
   "outputs": [],
   "source": [
    "# apikey = \"c326b1b4-58f5-46a2-abf0-0b0489d3165c\"\n",
    "# secretkey = \"0D92FD5D337968108B492AE057B7D5D8\"\n",
    "# passphrase = 'PrimeTime27#'\n"
   ]
  },
  {
   "cell_type": "code",
   "execution_count": null,
   "id": "5e807827-0811-425b-b1a7-aa4338a63379",
   "metadata": {},
   "outputs": [],
   "source": []
  },
  {
   "cell_type": "markdown",
   "id": "d99872ed-616d-413c-aa34-45a5a4a9e723",
   "metadata": {},
   "source": [
    "### 1. Load data"
   ]
  },
  {
   "cell_type": "code",
   "execution_count": 3,
   "id": "427e2d0f-250f-4ed9-968a-13a2e6bcea57",
   "metadata": {
    "scrolled": true
   },
   "outputs": [],
   "source": [
    "import okx.MarketData as MarketData\n",
    "\n",
    "\n",
    "def get_all_candles(ticker=None, start=None, end=None, interval=None):\n",
    "\n",
    "    start_utc = (start - pd.Timedelta(hours=3)).value // 1000000  #3hour-utc\n",
    "    end_utc = (end - pd.Timedelta(hours=3)).value // 1000000  #3hour-utc\n",
    "    \n",
    "    flag = \"0\"  # Production trading:0 , demo trading:1\n",
    "    marketDataAPI =  MarketData.MarketAPI(flag=flag)\n",
    "\n",
    "    times = []\n",
    "    closes = []\n",
    "    volumes = []\n",
    "    \n",
    "    cur_time_utc = end_utc\n",
    "    while cur_time_utc > start_utc:\n",
    "        try:\n",
    "            clear_output()\n",
    "            print(ticker, pd.to_datetime([cur_time_utc], unit='ms') + pd.Timedelta(hours=3))\n",
    "\n",
    "            \n",
    "            response = marketDataAPI.get_history_candlesticks(ticker, bar=interval, after=cur_time_utc, limit=100) \n",
    "            if response['code'] == '0':\n",
    "                for elem in response['data']:\n",
    "                        times += [elem[0]]\n",
    "                        closes += [elem[4]]\n",
    "                        volumes += [elem[5]]\n",
    "                cur_time_utc = int(times[-1])\n",
    "\n",
    "            if (response['code'] == '0') and (len(response['data']) == 0): #акции не так давно запущенные\n",
    "                break \n",
    "            if response['code'] != '0':\n",
    "                time.sleep(1)\n",
    "                \n",
    "        except:\n",
    "            time.sleep(1)\n",
    "            \n",
    "\n",
    "    df = pd.DataFrame({'time' : times,\n",
    "                      'close' : closes,\n",
    "                      'volume' : volumes,\n",
    "                        })\n",
    "    \n",
    "    df['time'] = pd.to_datetime(df['time'].astype(int), unit='ms') + pd.Timedelta(hours=3)\n",
    "    df['close'] = df['close'].astype(np.float64)\n",
    "    df['volume'] = df['volume'].astype(np.float64)\n",
    "    df['ticker'] = ticker\n",
    "\n",
    "    df = df[df['time'] >= start]\n",
    "    df = df.sort_values(by='time').reset_index(drop=True)\n",
    "\n",
    "    return df\n",
    "\n",
    "    "
   ]
  },
  {
   "cell_type": "code",
   "execution_count": null,
   "id": "83c460a1-a0c4-419e-83fa-ccd0b7b674f1",
   "metadata": {},
   "outputs": [],
   "source": []
  },
  {
   "cell_type": "code",
   "execution_count": 15,
   "id": "dd9131e0-00b4-42d8-bfe8-2d1d34e826ac",
   "metadata": {},
   "outputs": [
    {
     "name": "stdout",
     "output_type": "stream",
     "text": [
      "BTC-USDT DatetimeIndex(['2025-01-03'], dtype='datetime64[ns]', freq=None)\n",
      "CPU times: user 132 ms, sys: 34.4 ms, total: 166 ms\n",
      "Wall time: 4.32 s\n"
     ]
    },
    {
     "data": {
      "text/html": [
       "<div>\n",
       "<style scoped>\n",
       "    .dataframe tbody tr th:only-of-type {\n",
       "        vertical-align: middle;\n",
       "    }\n",
       "\n",
       "    .dataframe tbody tr th {\n",
       "        vertical-align: top;\n",
       "    }\n",
       "\n",
       "    .dataframe thead th {\n",
       "        text-align: right;\n",
       "    }\n",
       "</style>\n",
       "<table border=\"1\" class=\"dataframe\">\n",
       "  <thead>\n",
       "    <tr style=\"text-align: right;\">\n",
       "      <th></th>\n",
       "      <th>time</th>\n",
       "      <th>close</th>\n",
       "      <th>volume</th>\n",
       "      <th>ticker</th>\n",
       "    </tr>\n",
       "  </thead>\n",
       "  <tbody>\n",
       "    <tr>\n",
       "      <th>0</th>\n",
       "      <td>2025-01-01 00:00:00</td>\n",
       "      <td>93892.7</td>\n",
       "      <td>176.749908</td>\n",
       "      <td>BTC-USDT</td>\n",
       "    </tr>\n",
       "    <tr>\n",
       "      <th>1</th>\n",
       "      <td>2025-01-01 01:00:00</td>\n",
       "      <td>93484.0</td>\n",
       "      <td>82.085040</td>\n",
       "      <td>BTC-USDT</td>\n",
       "    </tr>\n",
       "    <tr>\n",
       "      <th>2</th>\n",
       "      <td>2025-01-01 02:00:00</td>\n",
       "      <td>93585.1</td>\n",
       "      <td>125.375445</td>\n",
       "      <td>BTC-USDT</td>\n",
       "    </tr>\n",
       "    <tr>\n",
       "      <th>3</th>\n",
       "      <td>2025-01-01 03:00:00</td>\n",
       "      <td>94399.9</td>\n",
       "      <td>322.777877</td>\n",
       "      <td>BTC-USDT</td>\n",
       "    </tr>\n",
       "    <tr>\n",
       "      <th>4</th>\n",
       "      <td>2025-01-01 04:00:00</td>\n",
       "      <td>93604.7</td>\n",
       "      <td>186.278996</td>\n",
       "      <td>BTC-USDT</td>\n",
       "    </tr>\n",
       "    <tr>\n",
       "      <th>...</th>\n",
       "      <td>...</td>\n",
       "      <td>...</td>\n",
       "      <td>...</td>\n",
       "      <td>...</td>\n",
       "    </tr>\n",
       "    <tr>\n",
       "      <th>1243</th>\n",
       "      <td>2025-02-21 19:00:00</td>\n",
       "      <td>98227.9</td>\n",
       "      <td>809.763722</td>\n",
       "      <td>BTC-USDT</td>\n",
       "    </tr>\n",
       "    <tr>\n",
       "      <th>1244</th>\n",
       "      <td>2025-02-21 20:00:00</td>\n",
       "      <td>96974.0</td>\n",
       "      <td>957.709901</td>\n",
       "      <td>BTC-USDT</td>\n",
       "    </tr>\n",
       "    <tr>\n",
       "      <th>1245</th>\n",
       "      <td>2025-02-21 21:00:00</td>\n",
       "      <td>96528.1</td>\n",
       "      <td>1302.196432</td>\n",
       "      <td>BTC-USDT</td>\n",
       "    </tr>\n",
       "    <tr>\n",
       "      <th>1246</th>\n",
       "      <td>2025-02-21 22:00:00</td>\n",
       "      <td>95272.4</td>\n",
       "      <td>846.440868</td>\n",
       "      <td>BTC-USDT</td>\n",
       "    </tr>\n",
       "    <tr>\n",
       "      <th>1247</th>\n",
       "      <td>2025-02-21 23:00:00</td>\n",
       "      <td>95050.6</td>\n",
       "      <td>793.200642</td>\n",
       "      <td>BTC-USDT</td>\n",
       "    </tr>\n",
       "  </tbody>\n",
       "</table>\n",
       "<p>1248 rows × 4 columns</p>\n",
       "</div>"
      ],
      "text/plain": [
       "                    time    close       volume    ticker\n",
       "0    2025-01-01 00:00:00  93892.7   176.749908  BTC-USDT\n",
       "1    2025-01-01 01:00:00  93484.0    82.085040  BTC-USDT\n",
       "2    2025-01-01 02:00:00  93585.1   125.375445  BTC-USDT\n",
       "3    2025-01-01 03:00:00  94399.9   322.777877  BTC-USDT\n",
       "4    2025-01-01 04:00:00  93604.7   186.278996  BTC-USDT\n",
       "...                  ...      ...          ...       ...\n",
       "1243 2025-02-21 19:00:00  98227.9   809.763722  BTC-USDT\n",
       "1244 2025-02-21 20:00:00  96974.0   957.709901  BTC-USDT\n",
       "1245 2025-02-21 21:00:00  96528.1  1302.196432  BTC-USDT\n",
       "1246 2025-02-21 22:00:00  95272.4   846.440868  BTC-USDT\n",
       "1247 2025-02-21 23:00:00  95050.6   793.200642  BTC-USDT\n",
       "\n",
       "[1248 rows x 4 columns]"
      ]
     },
     "execution_count": 15,
     "metadata": {},
     "output_type": "execute_result"
    }
   ],
   "source": [
    "%%time\n",
    "df = get_all_candles(ticker='BTC-USDT', \n",
    "                start=pd.Timestamp('2025-01-01'),\n",
    "                end=pd.Timestamp('2025-02-22'),\n",
    "                interval='1H') #5m, 1H, 1Dutc\n",
    "df"
   ]
  },
  {
   "cell_type": "code",
   "execution_count": null,
   "id": "5a6b0312-a95b-4150-a293-d1ba3d56c294",
   "metadata": {},
   "outputs": [],
   "source": []
  },
  {
   "cell_type": "code",
   "execution_count": 32,
   "id": "8f9dc581-c9b8-4057-8b41-879bac4c870d",
   "metadata": {},
   "outputs": [
    {
     "data": {
      "text/plain": [
       "2"
      ]
     },
     "execution_count": 32,
     "metadata": {},
     "output_type": "execute_result"
    }
   ],
   "source": [
    "stocks = [\n",
    "    #'BTC-USDT',\n",
    "#          'ETH-USDT',\n",
    "#          'ETC-USDT',\n",
    "#          'XRP-USDT',\n",
    "#          'BNB-USDT',\n",
    "#          'SOL-USDT',\n",
    "#          'DOGE-USDT',\n",
    "#          'ADA-USDT',\n",
    "#          'TRX-USDT',\n",
    "#          'LINK-USDT', #10\n",
    "#          'AVAX-USDT', \n",
    "#          'SUI-USDT',\n",
    "#          'XLM-USDT',\n",
    "#          'LTC-USDT',\n",
    "         'TON-USDT',\n",
    "         # 'SHIB-USDT',\n",
    "         # 'HBAR-USDT',\n",
    "         # 'DOT-USDT',\n",
    "         # 'BCH-USDT',\n",
    "         # 'OP-USDT', #20\n",
    "         'NEAR-USDT',\n",
    "         # 'AAVE-USDT',\n",
    "         # 'LDO-USDT',\n",
    "         # 'ARB-USDT',\n",
    "         # 'UNI-USDT',\n",
    "         # 'ATOM-USDT', #26\n",
    "         ]\n",
    "\n",
    "start = pd.Timestamp(\"2024-01-01\")\n",
    "end = pd.Timestamp(\"2025-03-25\") # не включительно\n",
    "\n",
    "#\n",
    "len(stocks)"
   ]
  },
  {
   "cell_type": "code",
   "execution_count": null,
   "id": "7c3b7bf8-9209-4527-9468-90d14aa48cd2",
   "metadata": {},
   "outputs": [],
   "source": []
  },
  {
   "cell_type": "markdown",
   "id": "186454aa-adfc-4f02-8aed-786d0249b791",
   "metadata": {},
   "source": [
    "### create dirs"
   ]
  },
  {
   "cell_type": "code",
   "execution_count": 36,
   "id": "430b269a-8a3b-4985-b6bc-5a8dd24fc12a",
   "metadata": {},
   "outputs": [
    {
     "name": "stdout",
     "output_type": "stream",
     "text": [
      "mkdir: data: File exists\n"
     ]
    }
   ],
   "source": [
    "!mkdir data"
   ]
  },
  {
   "cell_type": "code",
   "execution_count": 38,
   "id": "3de647b5-def8-4c5d-b1bb-68d0683997da",
   "metadata": {},
   "outputs": [
    {
     "name": "stdout",
     "output_type": "stream",
     "text": [
      "mkdir: data/raw: File exists\n"
     ]
    }
   ],
   "source": [
    "!mkdir data/raw"
   ]
  },
  {
   "cell_type": "code",
   "execution_count": 40,
   "id": "8ab7c0e2-3675-4fb6-8752-451b4a4ab1f8",
   "metadata": {},
   "outputs": [
    {
     "name": "stdout",
     "output_type": "stream",
     "text": [
      "mkdir: data/raw/1day: File exists\n",
      "mkdir: data/raw/1hour: File exists\n",
      "mkdir: data/raw/5min: File exists\n"
     ]
    }
   ],
   "source": [
    "!mkdir data/raw/1day data/raw/1hour data/raw/5min"
   ]
  },
  {
   "cell_type": "code",
   "execution_count": null,
   "id": "98a95e37-07a0-4f50-91d0-8130a5afc408",
   "metadata": {},
   "outputs": [],
   "source": []
  },
  {
   "cell_type": "markdown",
   "id": "29cd5b11-94e2-4ed9-ae4e-6c99142bbe97",
   "metadata": {},
   "source": [
    "#### #1day"
   ]
  },
  {
   "cell_type": "code",
   "execution_count": 44,
   "id": "a0516a0c-a26d-46cc-8daf-4502f2755c58",
   "metadata": {},
   "outputs": [
    {
     "name": "stdout",
     "output_type": "stream",
     "text": [
      "NEAR-USDT DatetimeIndex(['2024-02-19 03:00:00'], dtype='datetime64[ns]', freq=None)\n"
     ]
    },
    {
     "name": "stderr",
     "output_type": "stream",
     "text": [
      "100%|███████████████████████████████████████████████████████████████████████████| 2/2 [00:03<00:00,  1.72s/it]\n"
     ]
    }
   ],
   "source": [
    "#1day\n",
    "for stock in tqdm(stocks):\n",
    "    data = get_all_candles(ticker=stock,\n",
    "                               start=start,\n",
    "                               end=end,\n",
    "                               interval='1Dutc') #5m, 1H, 1Dutc\n",
    "\n",
    "    dump_pkl(data, f\"./data/raw/1day/{stock}.pkl\")"
   ]
  },
  {
   "cell_type": "code",
   "execution_count": null,
   "id": "9b8393ee-b066-4735-853a-02fe70f3dcfb",
   "metadata": {},
   "outputs": [],
   "source": []
  },
  {
   "cell_type": "markdown",
   "id": "339e700c-7458-40ff-9544-78111a7198ac",
   "metadata": {},
   "source": [
    "#### #1hour"
   ]
  },
  {
   "cell_type": "code",
   "execution_count": 48,
   "id": "8e62c6fa-097b-4ed5-a52f-5b0238558d20",
   "metadata": {},
   "outputs": [],
   "source": [
    "# stocks = ['TON-USDT',\n",
    "#          'NEAR-USDT',]\n",
    "\n",
    "# start = pd.Timestamp(\"2022-07-01\")\n",
    "# end = pd.Timestamp(\"2025-03-04\") # не включительно\n",
    "\n",
    "# #1hour\n",
    "\n",
    "\n",
    "\n",
    "# for stock in tqdm(stocks):\n",
    "#     data = get_all_candles(ticker=stock,\n",
    "#                                start=start,\n",
    "#                                end=end,\n",
    "#                                interval='1H') #5m, 1H, 1Dutc\n",
    "\n",
    "#     dump_pkl(data, f\"./data/raw/1hour/{stock}.pkl\")"
   ]
  },
  {
   "cell_type": "code",
   "execution_count": 57,
   "id": "a8bfa0f1-f1c5-4c54-8aba-f74d609d4e37",
   "metadata": {},
   "outputs": [
    {
     "name": "stdout",
     "output_type": "stream",
     "text": [
      "NEAR-USDT DatetimeIndex(['2024-01-04 04:00:00'], dtype='datetime64[ns]', freq=None)\n"
     ]
    },
    {
     "name": "stderr",
     "output_type": "stream",
     "text": [
      "100%|███████████████████████████████████████████████████████████████████████████| 2/2 [01:09<00:00, 35.00s/it]\n"
     ]
    }
   ],
   "source": [
    "#1hour\n",
    "\n",
    "\n",
    "\n",
    "for stock in tqdm(stocks):\n",
    "    data = get_all_candles(ticker=stock,\n",
    "                               start=start,\n",
    "                               end=end,\n",
    "                               interval='1H') #5m, 1H, 1Dutc\n",
    "\n",
    "    dump_pkl(data, f\"./data/raw/1hour/{stock}.pkl\")"
   ]
  },
  {
   "cell_type": "code",
   "execution_count": null,
   "id": "7f620b8d-18c8-41d7-ac12-3ae1d8c46665",
   "metadata": {},
   "outputs": [],
   "source": []
  },
  {
   "cell_type": "markdown",
   "id": "2b117067-01da-473c-9401-8db6dfae4b5e",
   "metadata": {},
   "source": [
    "#### #5min"
   ]
  },
  {
   "cell_type": "code",
   "execution_count": null,
   "id": "8da3c660-7259-45c2-b6e6-37fe79b7b4ef",
   "metadata": {},
   "outputs": [],
   "source": []
  },
  {
   "cell_type": "code",
   "execution_count": 62,
   "id": "4cedff80-79d5-4187-9063-4ceb1da42891",
   "metadata": {},
   "outputs": [
    {
     "name": "stdout",
     "output_type": "stream",
     "text": [
      "NEAR-USDT DatetimeIndex(['2024-01-01 01:00:00'], dtype='datetime64[ns]', freq=None)\n"
     ]
    },
    {
     "name": "stderr",
     "output_type": "stream",
     "text": [
      "100%|██████████████████████████████████████████████████████████████████████████| 2/2 [14:07<00:00, 423.62s/it]\n"
     ]
    }
   ],
   "source": [
    "#5min\n",
    "for stock in tqdm(stocks):\n",
    "    data = get_all_candles(ticker=stock,\n",
    "                               start=start,\n",
    "                               end=end,\n",
    "                               interval='5m') #5m, 1H, 1Dutc\n",
    "\n",
    "    dump_pkl(data, f\"./data/raw/5min/{stock}.pkl\")"
   ]
  },
  {
   "cell_type": "code",
   "execution_count": null,
   "id": "13e0a050-b7b0-4c8f-a9c3-866498bf9f7e",
   "metadata": {},
   "outputs": [],
   "source": []
  },
  {
   "cell_type": "code",
   "execution_count": null,
   "id": "e02b5e2b-45ea-4038-965a-3c23a2eaafcf",
   "metadata": {},
   "outputs": [],
   "source": []
  },
  {
   "cell_type": "code",
   "execution_count": null,
   "id": "6041738e-db16-4cab-881f-7cf418798638",
   "metadata": {},
   "outputs": [],
   "source": []
  },
  {
   "cell_type": "markdown",
   "id": "f6ccf0d9-ee66-4a06-80b8-ec2f44af089c",
   "metadata": {},
   "source": [
    "### 2. Data Period"
   ]
  },
  {
   "cell_type": "markdown",
   "id": "08e49ad4-648c-46da-8f54-a0a9820ac08e",
   "metadata": {},
   "source": [
    "#### #1day"
   ]
  },
  {
   "cell_type": "code",
   "execution_count": 81,
   "id": "3ab98bc0-1230-42ca-906e-908ccc4dfff3",
   "metadata": {},
   "outputs": [
    {
     "name": "stderr",
     "output_type": "stream",
     "text": [
      "100%|██████████████████████████████████████████████████████████████████████████| 2/2 [00:00<00:00, 506.07it/s]\n"
     ]
    },
    {
     "data": {
      "text/html": [
       "<div>\n",
       "<style scoped>\n",
       "    .dataframe tbody tr th:only-of-type {\n",
       "        vertical-align: middle;\n",
       "    }\n",
       "\n",
       "    .dataframe tbody tr th {\n",
       "        vertical-align: top;\n",
       "    }\n",
       "\n",
       "    .dataframe thead th {\n",
       "        text-align: right;\n",
       "    }\n",
       "</style>\n",
       "<table border=\"1\" class=\"dataframe\">\n",
       "  <thead>\n",
       "    <tr style=\"text-align: right;\">\n",
       "      <th></th>\n",
       "      <th>ticker</th>\n",
       "      <th>data_min</th>\n",
       "      <th>data_max</th>\n",
       "    </tr>\n",
       "  </thead>\n",
       "  <tbody>\n",
       "    <tr>\n",
       "      <th>0</th>\n",
       "      <td>TON-USDT</td>\n",
       "      <td>2024-01-01 03:00:00</td>\n",
       "      <td>2025-03-24 03:00:00</td>\n",
       "    </tr>\n",
       "    <tr>\n",
       "      <th>1</th>\n",
       "      <td>NEAR-USDT</td>\n",
       "      <td>2024-01-01 03:00:00</td>\n",
       "      <td>2025-03-24 03:00:00</td>\n",
       "    </tr>\n",
       "  </tbody>\n",
       "</table>\n",
       "</div>"
      ],
      "text/plain": [
       "      ticker            data_min            data_max\n",
       "0   TON-USDT 2024-01-01 03:00:00 2025-03-24 03:00:00\n",
       "1  NEAR-USDT 2024-01-01 03:00:00 2025-03-24 03:00:00"
      ]
     },
     "execution_count": 81,
     "metadata": {},
     "output_type": "execute_result"
    }
   ],
   "source": [
    "data_min = []\n",
    "data_max = []\n",
    "for stock in tqdm(stocks):\n",
    "    df = load_pkl(f\"./data/raw/1day/{stock}.pkl\")\n",
    "    data_min += [df['time'].min()]\n",
    "    data_max += [df['time'].max()]\n",
    "\n",
    "pd.DataFrame({'ticker' : stocks,\n",
    "             'data_min' : data_min,\n",
    "             'data_max' : data_max,\n",
    "             })"
   ]
  },
  {
   "cell_type": "code",
   "execution_count": null,
   "id": "1929b024-5773-49d4-89ea-81dcab1de961",
   "metadata": {},
   "outputs": [],
   "source": []
  },
  {
   "cell_type": "code",
   "execution_count": null,
   "id": "b386c6f0-955a-48e0-8d7f-e38803194481",
   "metadata": {},
   "outputs": [],
   "source": []
  },
  {
   "cell_type": "markdown",
   "id": "683c664f-178d-425b-a855-36cb1f072b74",
   "metadata": {},
   "source": [
    "#### #1hour"
   ]
  },
  {
   "cell_type": "code",
   "execution_count": 86,
   "id": "b3c24161-e92d-46a5-8759-63b787fbee1b",
   "metadata": {},
   "outputs": [
    {
     "name": "stderr",
     "output_type": "stream",
     "text": [
      "100%|██████████████████████████████████████████████████████████████████████████| 2/2 [00:00<00:00, 285.79it/s]\n"
     ]
    },
    {
     "data": {
      "text/html": [
       "<div>\n",
       "<style scoped>\n",
       "    .dataframe tbody tr th:only-of-type {\n",
       "        vertical-align: middle;\n",
       "    }\n",
       "\n",
       "    .dataframe tbody tr th {\n",
       "        vertical-align: top;\n",
       "    }\n",
       "\n",
       "    .dataframe thead th {\n",
       "        text-align: right;\n",
       "    }\n",
       "</style>\n",
       "<table border=\"1\" class=\"dataframe\">\n",
       "  <thead>\n",
       "    <tr style=\"text-align: right;\">\n",
       "      <th></th>\n",
       "      <th>ticker</th>\n",
       "      <th>data_min</th>\n",
       "      <th>data_max</th>\n",
       "    </tr>\n",
       "  </thead>\n",
       "  <tbody>\n",
       "    <tr>\n",
       "      <th>0</th>\n",
       "      <td>TON-USDT</td>\n",
       "      <td>2024-01-01</td>\n",
       "      <td>2025-03-24 23:00:00</td>\n",
       "    </tr>\n",
       "    <tr>\n",
       "      <th>1</th>\n",
       "      <td>NEAR-USDT</td>\n",
       "      <td>2024-01-01</td>\n",
       "      <td>2025-03-24 23:00:00</td>\n",
       "    </tr>\n",
       "  </tbody>\n",
       "</table>\n",
       "</div>"
      ],
      "text/plain": [
       "      ticker   data_min            data_max\n",
       "0   TON-USDT 2024-01-01 2025-03-24 23:00:00\n",
       "1  NEAR-USDT 2024-01-01 2025-03-24 23:00:00"
      ]
     },
     "execution_count": 86,
     "metadata": {},
     "output_type": "execute_result"
    }
   ],
   "source": [
    "data_min = []\n",
    "data_max = []\n",
    "for stock in tqdm(stocks):\n",
    "    df = load_pkl(f\"./data/raw/1hour/{stock}.pkl\")\n",
    "    data_min += [df['time'].min()]\n",
    "    data_max += [df['time'].max()]\n",
    "\n",
    "pd.DataFrame({'ticker' : stocks,\n",
    "             'data_min' : data_min,\n",
    "             'data_max' : data_max,\n",
    "             })"
   ]
  },
  {
   "cell_type": "code",
   "execution_count": null,
   "id": "425e6ac0-f7d6-461e-a026-865572560dbd",
   "metadata": {},
   "outputs": [],
   "source": []
  },
  {
   "cell_type": "code",
   "execution_count": null,
   "id": "90b990ea-87c3-446d-9aef-eb1024fddde5",
   "metadata": {},
   "outputs": [],
   "source": []
  },
  {
   "cell_type": "markdown",
   "id": "23e1325b-4f54-4860-bd34-f647a553aca5",
   "metadata": {},
   "source": [
    "#### #5min"
   ]
  },
  {
   "cell_type": "code",
   "execution_count": 91,
   "id": "4b0cb6da-d62b-4780-a3e2-1eaced24f207",
   "metadata": {},
   "outputs": [
    {
     "name": "stderr",
     "output_type": "stream",
     "text": [
      "100%|██████████████████████████████████████████████████████████████████████████| 2/2 [00:00<00:00, 105.07it/s]\n"
     ]
    },
    {
     "data": {
      "text/html": [
       "<div>\n",
       "<style scoped>\n",
       "    .dataframe tbody tr th:only-of-type {\n",
       "        vertical-align: middle;\n",
       "    }\n",
       "\n",
       "    .dataframe tbody tr th {\n",
       "        vertical-align: top;\n",
       "    }\n",
       "\n",
       "    .dataframe thead th {\n",
       "        text-align: right;\n",
       "    }\n",
       "</style>\n",
       "<table border=\"1\" class=\"dataframe\">\n",
       "  <thead>\n",
       "    <tr style=\"text-align: right;\">\n",
       "      <th></th>\n",
       "      <th>ticker</th>\n",
       "      <th>data_min</th>\n",
       "      <th>data_max</th>\n",
       "    </tr>\n",
       "  </thead>\n",
       "  <tbody>\n",
       "    <tr>\n",
       "      <th>0</th>\n",
       "      <td>TON-USDT</td>\n",
       "      <td>2024-01-01</td>\n",
       "      <td>2025-03-24 23:55:00</td>\n",
       "    </tr>\n",
       "    <tr>\n",
       "      <th>1</th>\n",
       "      <td>NEAR-USDT</td>\n",
       "      <td>2024-01-01</td>\n",
       "      <td>2025-03-24 23:55:00</td>\n",
       "    </tr>\n",
       "  </tbody>\n",
       "</table>\n",
       "</div>"
      ],
      "text/plain": [
       "      ticker   data_min            data_max\n",
       "0   TON-USDT 2024-01-01 2025-03-24 23:55:00\n",
       "1  NEAR-USDT 2024-01-01 2025-03-24 23:55:00"
      ]
     },
     "execution_count": 91,
     "metadata": {},
     "output_type": "execute_result"
    }
   ],
   "source": [
    "data_min = []\n",
    "data_max = []\n",
    "for stock in tqdm(stocks):\n",
    "    df = load_pkl(f\"./data/raw/5min/{stock}.pkl\")\n",
    "    data_min += [df['time'].min()]\n",
    "    data_max += [df['time'].max()]\n",
    "\n",
    "pd.DataFrame({'ticker' : stocks,\n",
    "             'data_min' : data_min,\n",
    "             'data_max' : data_max,\n",
    "             })"
   ]
  },
  {
   "cell_type": "code",
   "execution_count": null,
   "id": "42d97a23-dfc6-4811-ba1a-ef4df2890ba0",
   "metadata": {},
   "outputs": [],
   "source": []
  },
  {
   "cell_type": "markdown",
   "id": "c6480cb3-d2b8-49ba-a9e4-154249cc0579",
   "metadata": {},
   "source": [
    "### 3. Отсортированы, дубли, NaNs, дельты"
   ]
  },
  {
   "cell_type": "markdown",
   "id": "7c6e6b80-73f3-4675-9b65-bd4488f31268",
   "metadata": {},
   "source": [
    "#### #1day"
   ]
  },
  {
   "cell_type": "code",
   "execution_count": 116,
   "id": "b124b214-eaee-45fb-8fe4-018ca256dff7",
   "metadata": {},
   "outputs": [
    {
     "name": "stderr",
     "output_type": "stream",
     "text": [
      "100%|████████████████████████████████████████████████████████████████████████| 26/26 [00:00<00:00, 619.85it/s]\n"
     ]
    }
   ],
   "source": [
    "# dfs = []\n",
    "delta_time = pd.Timedelta(hours=24)\n",
    "\n",
    "for stock in tqdm(stocks):\n",
    "    df = load_pkl(f\"./data/raw/1day/{stock}.pkl\")\n",
    "    \n",
    "    if not (df['time'].sort_values()  == df['time']).all():\n",
    "        print(f'{stock} not sorted: {(df['time'].sort_values()  != df['time']).sum()}')\n",
    "        \n",
    "    if df['time'].duplicated().any():\n",
    "        print(f'{stock} duplicated: {df['time'].duplicated().sum()}')\n",
    "        \n",
    "    if not df.notnull().all().all():\n",
    "        print(f'{stock} nulls: {df.isnull().sum()}')\n",
    "\n",
    "\n",
    "    df['diff'] = df['time'].diff() / delta_time\n",
    "    #проверка кратности delta_time\n",
    "    if not (df['diff'].iloc[1:] % 1 == 0).all():\n",
    "        print(f'{stock} not a multiple of delta time: {(df['diff'].iloc[1:] % 1 != 0).sum()}')\n",
    "\n",
    "    #проверка пропущенных delta_time\n",
    "    if not (df['diff'].iloc[1:] == 1).all():\n",
    "        print(f'{stock} time gaps: {(df['diff'].iloc[1:] != 1).sum()}')\n",
    "    \n",
    "    \n",
    "    # dfs += [df.copy()]\n"
   ]
  },
  {
   "cell_type": "code",
   "execution_count": 118,
   "id": "af67c117-5309-419c-910f-efd171b13015",
   "metadata": {},
   "outputs": [],
   "source": [
    "#Время отсортировано, нет дублей по времени, нет NaNs в данных, временная сетка имеет кратность delta_time и нет пропусков совсем "
   ]
  },
  {
   "cell_type": "code",
   "execution_count": null,
   "id": "60723832-355d-4c52-9a58-dc51d9a115e8",
   "metadata": {},
   "outputs": [],
   "source": []
  },
  {
   "cell_type": "markdown",
   "id": "e35e4ac9-b372-428f-9aaf-dc92e6021b16",
   "metadata": {},
   "source": [
    "#### #1hour"
   ]
  },
  {
   "cell_type": "code",
   "execution_count": 127,
   "id": "6e5a3e03-db56-4e1d-98a5-8fefc8a032f9",
   "metadata": {},
   "outputs": [
    {
     "name": "stderr",
     "output_type": "stream",
     "text": [
      "100%|████████████████████████████████████████████████████████████████████████| 26/26 [00:00<00:00, 379.65it/s]\n"
     ]
    }
   ],
   "source": [
    "# dfs = []\n",
    "delta_time = pd.Timedelta(hours=1)\n",
    "\n",
    "for stock in tqdm(stocks):\n",
    "    df = load_pkl(f\"./data/raw/1hour/{stock}.pkl\")\n",
    "    \n",
    "    if not (df['time'].sort_values()  == df['time']).all():\n",
    "        print(f'{stock} not sorted: {(df['time'].sort_values()  != df['time']).sum()}')\n",
    "        \n",
    "    if df['time'].duplicated().any():\n",
    "        print(f'{stock} duplicated: {df['time'].duplicated().sum()}')\n",
    "        \n",
    "    if not df.notnull().all().all():\n",
    "        print(f'{stock} nulls: {df.isnull().sum()}')\n",
    "\n",
    "\n",
    "    df['diff'] = df['time'].diff() / delta_time\n",
    "    #проверка кратности delta_time\n",
    "    if not (df['diff'].iloc[1:] % 1 == 0).all():\n",
    "        print(f'{stock} not a multiple of delta time: {(df['diff'].iloc[1:] % 1 != 0).sum()}')\n",
    "\n",
    "    #проверка пропущенных delta_time\n",
    "    if not (df['diff'].iloc[1:] == 1).all():\n",
    "        print(f'{stock} time gaps: {(df['diff'].iloc[1:] != 1).sum()}')\n",
    "    \n",
    "    \n",
    "    # dfs += [df.copy()]\n"
   ]
  },
  {
   "cell_type": "code",
   "execution_count": 129,
   "id": "7b6d1a3f-93e0-4b5e-9623-e061dce35624",
   "metadata": {},
   "outputs": [],
   "source": [
    "#Время отсортировано, нет дублей по времени, нет NaNs в данных, временная сетка имеет кратность delta_time и нет пропусков совсем "
   ]
  },
  {
   "cell_type": "code",
   "execution_count": null,
   "id": "b541a403-a9d5-4880-b1d9-07c967491102",
   "metadata": {},
   "outputs": [],
   "source": []
  },
  {
   "cell_type": "markdown",
   "id": "63065512-c80c-4c17-8ff1-569b6d4d163a",
   "metadata": {},
   "source": [
    "#### #5min"
   ]
  },
  {
   "cell_type": "code",
   "execution_count": 133,
   "id": "73ecebb7-1082-427d-9df1-c2bbf3470261",
   "metadata": {},
   "outputs": [
    {
     "name": "stderr",
     "output_type": "stream",
     "text": [
      "100%|█████████████████████████████████████████████████████████████████████████| 26/26 [00:00<00:00, 51.48it/s]\n"
     ]
    }
   ],
   "source": [
    "# dfs = []\n",
    "delta_time = pd.Timedelta(minutes=5)\n",
    "\n",
    "for stock in tqdm(stocks):\n",
    "    df = load_pkl(f\"./data/raw/5min/{stock}.pkl\")\n",
    "    \n",
    "    if not (df['time'].sort_values()  == df['time']).all():\n",
    "        print(f'{stock} not sorted: {(df['time'].sort_values()  != df['time']).sum()}')\n",
    "        \n",
    "    if df['time'].duplicated().any():\n",
    "        print(f'{stock} duplicated: {df['time'].duplicated().sum()}')\n",
    "        \n",
    "    if not df.notnull().all().all():\n",
    "        print(f'{stock} nulls: {df.isnull().sum()}')\n",
    "\n",
    "\n",
    "    df['diff'] = df['time'].diff() / delta_time\n",
    "    #проверка кратности delta_time\n",
    "    if not (df['diff'].iloc[1:] % 1 == 0).all():\n",
    "        print(f'{stock} not a multiple of delta time: {(df['diff'].iloc[1:] % 1 != 0).sum()}')\n",
    "\n",
    "    #проверка пропущенных delta_time\n",
    "    if not (df['diff'].iloc[1:] == 1).all():\n",
    "        print(f'{stock} time gaps: {(df['diff'].iloc[1:] != 1).sum()}')\n",
    "    \n",
    "    \n",
    "    # dfs += [df.copy()]\n"
   ]
  },
  {
   "cell_type": "code",
   "execution_count": 135,
   "id": "e04179fe-6516-4865-b734-e9e23ed3d278",
   "metadata": {},
   "outputs": [],
   "source": [
    "#Время отсортировано, нет дублей по времени, нет NaNs в данных, временная сетка имеет кратность delta_time и нет пропусков совсем "
   ]
  },
  {
   "cell_type": "code",
   "execution_count": null,
   "id": "70b7adb0-792b-4d72-b40b-c46379d6964b",
   "metadata": {},
   "outputs": [],
   "source": []
  },
  {
   "cell_type": "code",
   "execution_count": 140,
   "id": "1fff354f-99da-4752-9402-2ae5bdfe8b35",
   "metadata": {},
   "outputs": [],
   "source": [
    "#Как-то через чур хорошо, что даже разрывов во времени нет, какая-то сказка"
   ]
  },
  {
   "cell_type": "code",
   "execution_count": null,
   "id": "06f5e759-2a92-4912-8e09-4fca906551c1",
   "metadata": {},
   "outputs": [],
   "source": []
  },
  {
   "cell_type": "markdown",
   "id": "db1c8580-ea37-482d-ab9e-347f8bee44a8",
   "metadata": {},
   "source": [
    "### 4. Preproc (склейка с BTC)"
   ]
  },
  {
   "cell_type": "code",
   "execution_count": 148,
   "id": "ed09537c-d4bd-44f0-8ca3-7737b3c06fbf",
   "metadata": {},
   "outputs": [
    {
     "data": {
      "text/plain": [
       "25"
      ]
     },
     "execution_count": 148,
     "metadata": {},
     "output_type": "execute_result"
    }
   ],
   "source": [
    "stocks = [#'BTC-USDT',\n",
    "         'ETH-USDT',\n",
    "         'ETC-USDT',\n",
    "         'XRP-USDT',\n",
    "         'BNB-USDT',\n",
    "         'SOL-USDT',\n",
    "         'DOGE-USDT',\n",
    "         'ADA-USDT',\n",
    "         'TRX-USDT',\n",
    "         'LINK-USDT', \n",
    "         'AVAX-USDT', \n",
    "         'SUI-USDT',\n",
    "         'XLM-USDT',\n",
    "         'LTC-USDT',\n",
    "         'TON-USDT',\n",
    "         'SHIB-USDT',\n",
    "         'HBAR-USDT',\n",
    "         'DOT-USDT',\n",
    "         'BCH-USDT',\n",
    "         'OP-USDT', \n",
    "         'NEAR-USDT',\n",
    "         'AAVE-USDT',\n",
    "         'LDO-USDT',\n",
    "         'ARB-USDT',\n",
    "         'UNI-USDT',\n",
    "         'ATOM-USDT', \n",
    "         ]\n",
    "len(stocks)"
   ]
  },
  {
   "cell_type": "code",
   "execution_count": 150,
   "id": "68189146-3a22-412a-b9c1-e50c18a5448c",
   "metadata": {},
   "outputs": [],
   "source": [
    "!mkdir ./data/preproc"
   ]
  },
  {
   "cell_type": "code",
   "execution_count": 152,
   "id": "6a2ab97c-f41b-4b8b-9190-7489d02919b9",
   "metadata": {},
   "outputs": [],
   "source": [
    "!mkdir ./data/preproc/1day ./data/preproc/1hour ./data/preproc/5min"
   ]
  },
  {
   "cell_type": "code",
   "execution_count": null,
   "id": "4d97e5e3-4fc6-41f6-b979-ad3895a47ed0",
   "metadata": {},
   "outputs": [],
   "source": []
  },
  {
   "cell_type": "markdown",
   "id": "1bd8acfb-d243-46fa-be7c-0584ab5df628",
   "metadata": {},
   "source": [
    "#### #1day"
   ]
  },
  {
   "cell_type": "code",
   "execution_count": null,
   "id": "482d59a7-c200-43d5-81a4-649b6d90cd7a",
   "metadata": {},
   "outputs": [],
   "source": []
  },
  {
   "cell_type": "code",
   "execution_count": 163,
   "id": "4811d856-cec8-4e7d-9d3c-3ca5b91b62c1",
   "metadata": {},
   "outputs": [
    {
     "name": "stderr",
     "output_type": "stream",
     "text": [
      "100%|████████████████████████████████████████████████████████████████████████| 25/25 [00:00<00:00, 487.56it/s]\n"
     ]
    }
   ],
   "source": [
    "data_btc = load_pkl(f\"./data/raw/1day/BTC-USDT.pkl\")\n",
    "\n",
    "for stock in tqdm(stocks):\n",
    "    data = load_pkl(f\"./data/raw/1day/{stock}.pkl\")\n",
    "\n",
    "    data_ext = data.merge(data_btc[['time', 'close']].copy().rename(columns={\"close\" : \"btc_close\"}), how='left', on='time')\n",
    "    assert data.shape[0] == data_ext.shape[0], 'Error 1'\n",
    "    \n",
    "    assert data_ext['btc_close'].isnull().sum() == 0, 'Error 2'\n",
    "    #data['btc_close'] = data['btc_close'].ffill()\n",
    "    \n",
    "    dump_pkl(data_ext, f\"./data/preproc/1day/{stock}.pkl\")"
   ]
  },
  {
   "cell_type": "code",
   "execution_count": null,
   "id": "989f79af-75b7-48d1-b7e6-d23ee7f46ebe",
   "metadata": {},
   "outputs": [],
   "source": []
  },
  {
   "cell_type": "markdown",
   "id": "86750a08-9d49-4784-8f0d-3daed1a5c8fd",
   "metadata": {},
   "source": [
    "#### #1hour"
   ]
  },
  {
   "cell_type": "code",
   "execution_count": 167,
   "id": "789cb3c1-983c-4d52-8ef6-e300de450562",
   "metadata": {},
   "outputs": [
    {
     "name": "stderr",
     "output_type": "stream",
     "text": [
      "100%|████████████████████████████████████████████████████████████████████████| 25/25 [00:00<00:00, 256.66it/s]\n"
     ]
    }
   ],
   "source": [
    "data_btc = load_pkl(f\"./data/raw/1hour/BTC-USDT.pkl\")\n",
    "\n",
    "for stock in tqdm(stocks):\n",
    "    data = load_pkl(f\"./data/raw/1hour/{stock}.pkl\")\n",
    "\n",
    "    data_ext = data.merge(data_btc[['time', 'close']].copy().rename(columns={\"close\" : \"btc_close\"}), how='left', on='time')\n",
    "    assert data.shape[0] == data_ext.shape[0], 'Error 1'\n",
    "    \n",
    "    assert data_ext['btc_close'].isnull().sum() == 0, 'Error 2'\n",
    "    #data['btc_close'] = data['btc_close'].ffill()\n",
    "    \n",
    "    dump_pkl(data_ext, f\"./data/preproc/1hour/{stock}.pkl\")"
   ]
  },
  {
   "cell_type": "code",
   "execution_count": null,
   "id": "796b0445-856d-45b3-b763-32e850a6433e",
   "metadata": {},
   "outputs": [],
   "source": []
  },
  {
   "cell_type": "markdown",
   "id": "5ee87826-a69d-40fb-bbf9-7269e1cf823a",
   "metadata": {},
   "source": [
    "#### #5min"
   ]
  },
  {
   "cell_type": "code",
   "execution_count": 171,
   "id": "4a1b7f79-9735-4200-beac-de0abc96bbe9",
   "metadata": {},
   "outputs": [
    {
     "name": "stderr",
     "output_type": "stream",
     "text": [
      "100%|█████████████████████████████████████████████████████████████████████████| 25/25 [00:00<00:00, 55.97it/s]\n"
     ]
    }
   ],
   "source": [
    "data_btc = load_pkl(f\"./data/raw/5min/BTC-USDT.pkl\")\n",
    "\n",
    "for stock in tqdm(stocks):\n",
    "    data = load_pkl(f\"./data/raw/5min/{stock}.pkl\")\n",
    "\n",
    "    data_ext = data.merge(data_btc[['time', 'close']].copy().rename(columns={\"close\" : \"btc_close\"}), how='left', on='time')\n",
    "    assert data.shape[0] == data_ext.shape[0], 'Error 1'\n",
    "    \n",
    "    assert data_ext['btc_close'].isnull().sum() == 0, 'Error 2'\n",
    "    #data['btc_close'] = data['btc_close'].ffill()\n",
    "    \n",
    "    dump_pkl(data_ext, f\"./data/preproc/5min/{stock}.pkl\")"
   ]
  },
  {
   "cell_type": "code",
   "execution_count": null,
   "id": "3469c546-7b57-42da-97c9-967be1912117",
   "metadata": {},
   "outputs": [],
   "source": []
  },
  {
   "cell_type": "code",
   "execution_count": null,
   "id": "18c56d5a-1908-4db7-98f6-c57b30351949",
   "metadata": {},
   "outputs": [],
   "source": []
  },
  {
   "cell_type": "markdown",
   "id": "e9ebd860-019d-423e-8eeb-369d7d1b9c4c",
   "metadata": {},
   "source": [
    "### -1. Check data"
   ]
  },
  {
   "cell_type": "code",
   "execution_count": null,
   "id": "354b2d26-9c81-4fa2-b097-bcff78fb95f5",
   "metadata": {},
   "outputs": [],
   "source": [
    "#чекнуть сами данные и совпадение с индексом"
   ]
  },
  {
   "cell_type": "markdown",
   "id": "0abd239a-1d56-48d3-8368-0ea66011f233",
   "metadata": {},
   "source": [
    "#### #1day"
   ]
  },
  {
   "cell_type": "code",
   "execution_count": 213,
   "id": "f2ac53f7-8ad1-4636-97cb-70e3565646ce",
   "metadata": {},
   "outputs": [
    {
     "data": {
      "text/html": [
       "<div>\n",
       "<style scoped>\n",
       "    .dataframe tbody tr th:only-of-type {\n",
       "        vertical-align: middle;\n",
       "    }\n",
       "\n",
       "    .dataframe tbody tr th {\n",
       "        vertical-align: top;\n",
       "    }\n",
       "\n",
       "    .dataframe thead th {\n",
       "        text-align: right;\n",
       "    }\n",
       "</style>\n",
       "<table border=\"1\" class=\"dataframe\">\n",
       "  <thead>\n",
       "    <tr style=\"text-align: right;\">\n",
       "      <th></th>\n",
       "      <th>time</th>\n",
       "      <th>close</th>\n",
       "      <th>volume</th>\n",
       "      <th>ticker</th>\n",
       "      <th>btc_close</th>\n",
       "    </tr>\n",
       "  </thead>\n",
       "  <tbody>\n",
       "    <tr>\n",
       "      <th>899</th>\n",
       "      <td>2024-12-16 03:00:00</td>\n",
       "      <td>6.059</td>\n",
       "      <td>7.826239e+06</td>\n",
       "      <td>TON-USDT</td>\n",
       "      <td>106066.0</td>\n",
       "    </tr>\n",
       "    <tr>\n",
       "      <th>900</th>\n",
       "      <td>2024-12-17 03:00:00</td>\n",
       "      <td>5.822</td>\n",
       "      <td>7.610322e+06</td>\n",
       "      <td>TON-USDT</td>\n",
       "      <td>106128.4</td>\n",
       "    </tr>\n",
       "  </tbody>\n",
       "</table>\n",
       "</div>"
      ],
      "text/plain": [
       "                   time  close        volume    ticker  btc_close\n",
       "899 2024-12-16 03:00:00  6.059  7.826239e+06  TON-USDT   106066.0\n",
       "900 2024-12-17 03:00:00  5.822  7.610322e+06  TON-USDT   106128.4"
      ]
     },
     "execution_count": 213,
     "metadata": {},
     "output_type": "execute_result"
    }
   ],
   "source": [
    "i = 900\n",
    "ticker = 'TON-USDT'\n",
    "\n",
    "df = load_pkl(f\"./data/preproc/1day/{ticker}.pkl\")\n",
    "df.iloc[i-1:i+1]"
   ]
  },
  {
   "cell_type": "code",
   "execution_count": 242,
   "id": "2089d053-b4a1-412b-92f4-4f8899fb53a9",
   "metadata": {},
   "outputs": [
    {
     "data": {
      "text/html": [
       "<div>\n",
       "<style scoped>\n",
       "    .dataframe tbody tr th:only-of-type {\n",
       "        vertical-align: middle;\n",
       "    }\n",
       "\n",
       "    .dataframe tbody tr th {\n",
       "        vertical-align: top;\n",
       "    }\n",
       "\n",
       "    .dataframe thead th {\n",
       "        text-align: right;\n",
       "    }\n",
       "</style>\n",
       "<table border=\"1\" class=\"dataframe\">\n",
       "  <thead>\n",
       "    <tr style=\"text-align: right;\">\n",
       "      <th></th>\n",
       "      <th>time</th>\n",
       "      <th>close</th>\n",
       "      <th>volume</th>\n",
       "      <th>ticker</th>\n",
       "      <th>btc_close</th>\n",
       "    </tr>\n",
       "  </thead>\n",
       "  <tbody>\n",
       "    <tr>\n",
       "      <th>889</th>\n",
       "      <td>2024-12-06 03:00:00</td>\n",
       "      <td>0.000031</td>\n",
       "      <td>1.638883e+12</td>\n",
       "      <td>SHIB-USDT</td>\n",
       "      <td>99734.0</td>\n",
       "    </tr>\n",
       "    <tr>\n",
       "      <th>890</th>\n",
       "      <td>2024-12-07 03:00:00</td>\n",
       "      <td>0.000032</td>\n",
       "      <td>2.286781e+12</td>\n",
       "      <td>SHIB-USDT</td>\n",
       "      <td>99835.4</td>\n",
       "    </tr>\n",
       "  </tbody>\n",
       "</table>\n",
       "</div>"
      ],
      "text/plain": [
       "                   time     close        volume     ticker  btc_close\n",
       "889 2024-12-06 03:00:00  0.000031  1.638883e+12  SHIB-USDT    99734.0\n",
       "890 2024-12-07 03:00:00  0.000032  2.286781e+12  SHIB-USDT    99835.4"
      ]
     },
     "execution_count": 242,
     "metadata": {},
     "output_type": "execute_result"
    }
   ],
   "source": [
    "i = 890\n",
    "ticker = 'SHIB-USDT'\n",
    "\n",
    "df = load_pkl(f\"./data/preproc/1day/{ticker}.pkl\")\n",
    "df.iloc[i-1:i+1]"
   ]
  },
  {
   "cell_type": "code",
   "execution_count": 224,
   "id": "94f2b0d4-decf-4e20-988e-66e67ccc97c6",
   "metadata": {},
   "outputs": [
    {
     "data": {
      "text/html": [
       "<div>\n",
       "<style scoped>\n",
       "    .dataframe tbody tr th:only-of-type {\n",
       "        vertical-align: middle;\n",
       "    }\n",
       "\n",
       "    .dataframe tbody tr th {\n",
       "        vertical-align: top;\n",
       "    }\n",
       "\n",
       "    .dataframe thead th {\n",
       "        text-align: right;\n",
       "    }\n",
       "</style>\n",
       "<table border=\"1\" class=\"dataframe\">\n",
       "  <thead>\n",
       "    <tr style=\"text-align: right;\">\n",
       "      <th></th>\n",
       "      <th>time</th>\n",
       "      <th>close</th>\n",
       "      <th>volume</th>\n",
       "      <th>ticker</th>\n",
       "      <th>btc_close</th>\n",
       "    </tr>\n",
       "  </thead>\n",
       "  <tbody>\n",
       "    <tr>\n",
       "      <th>749</th>\n",
       "      <td>2024-07-19 03:00:00</td>\n",
       "      <td>3504.20</td>\n",
       "      <td>80959.220153</td>\n",
       "      <td>ETH-USDT</td>\n",
       "      <td>66659.9</td>\n",
       "    </tr>\n",
       "    <tr>\n",
       "      <th>750</th>\n",
       "      <td>2024-07-20 03:00:00</td>\n",
       "      <td>3517.35</td>\n",
       "      <td>45096.645280</td>\n",
       "      <td>ETH-USDT</td>\n",
       "      <td>67137.7</td>\n",
       "    </tr>\n",
       "  </tbody>\n",
       "</table>\n",
       "</div>"
      ],
      "text/plain": [
       "                   time    close        volume    ticker  btc_close\n",
       "749 2024-07-19 03:00:00  3504.20  80959.220153  ETH-USDT    66659.9\n",
       "750 2024-07-20 03:00:00  3517.35  45096.645280  ETH-USDT    67137.7"
      ]
     },
     "execution_count": 224,
     "metadata": {},
     "output_type": "execute_result"
    }
   ],
   "source": [
    "i = 750\n",
    "ticker = 'ETH-USDT'\n",
    "\n",
    "df = load_pkl(f\"./data/preproc/1day/{ticker}.pkl\")\n",
    "df.iloc[i-1:i+1]"
   ]
  },
  {
   "cell_type": "code",
   "execution_count": null,
   "id": "7aa9d848-b7b8-42ec-a064-8c458c3d7516",
   "metadata": {},
   "outputs": [],
   "source": []
  },
  {
   "cell_type": "code",
   "execution_count": null,
   "id": "a9fa4c79-13cf-40d8-8902-74d5cf24713e",
   "metadata": {},
   "outputs": [],
   "source": []
  },
  {
   "cell_type": "markdown",
   "id": "f3c8bae1-90cd-4a42-b2d0-7ac1f1aaa3ad",
   "metadata": {},
   "source": [
    "#### #1hour"
   ]
  },
  {
   "cell_type": "code",
   "execution_count": 277,
   "id": "7008451b-12e6-43ee-bb6d-adaa04f43844",
   "metadata": {},
   "outputs": [
    {
     "data": {
      "text/html": [
       "<div>\n",
       "<style scoped>\n",
       "    .dataframe tbody tr th:only-of-type {\n",
       "        vertical-align: middle;\n",
       "    }\n",
       "\n",
       "    .dataframe tbody tr th {\n",
       "        vertical-align: top;\n",
       "    }\n",
       "\n",
       "    .dataframe thead th {\n",
       "        text-align: right;\n",
       "    }\n",
       "</style>\n",
       "<table border=\"1\" class=\"dataframe\">\n",
       "  <thead>\n",
       "    <tr style=\"text-align: right;\">\n",
       "      <th></th>\n",
       "      <th>time</th>\n",
       "      <th>close</th>\n",
       "      <th>volume</th>\n",
       "      <th>ticker</th>\n",
       "      <th>btc_close</th>\n",
       "    </tr>\n",
       "  </thead>\n",
       "  <tbody>\n",
       "    <tr>\n",
       "      <th>22999</th>\n",
       "      <td>2025-02-13 07:00:00</td>\n",
       "      <td>3.386</td>\n",
       "      <td>26114.925675</td>\n",
       "      <td>NEAR-USDT</td>\n",
       "      <td>96949.0</td>\n",
       "    </tr>\n",
       "    <tr>\n",
       "      <th>23000</th>\n",
       "      <td>2025-02-13 08:00:00</td>\n",
       "      <td>3.375</td>\n",
       "      <td>21805.760994</td>\n",
       "      <td>NEAR-USDT</td>\n",
       "      <td>96669.9</td>\n",
       "    </tr>\n",
       "  </tbody>\n",
       "</table>\n",
       "</div>"
      ],
      "text/plain": [
       "                     time  close        volume     ticker  btc_close\n",
       "22999 2025-02-13 07:00:00  3.386  26114.925675  NEAR-USDT    96949.0\n",
       "23000 2025-02-13 08:00:00  3.375  21805.760994  NEAR-USDT    96669.9"
      ]
     },
     "execution_count": 277,
     "metadata": {},
     "output_type": "execute_result"
    }
   ],
   "source": [
    "i = 23000\n",
    "ticker = 'NEAR-USDT'\n",
    "\n",
    "df = load_pkl(f\"./data/preproc/1hour/{ticker}.pkl\")\n",
    "df.iloc[i-1:i+1]"
   ]
  },
  {
   "cell_type": "code",
   "execution_count": 271,
   "id": "a3c85863-6611-4cd9-b73b-03109cdd7c99",
   "metadata": {},
   "outputs": [
    {
     "data": {
      "text/html": [
       "<div>\n",
       "<style scoped>\n",
       "    .dataframe tbody tr th:only-of-type {\n",
       "        vertical-align: middle;\n",
       "    }\n",
       "\n",
       "    .dataframe tbody tr th {\n",
       "        vertical-align: top;\n",
       "    }\n",
       "\n",
       "    .dataframe thead th {\n",
       "        text-align: right;\n",
       "    }\n",
       "</style>\n",
       "<table border=\"1\" class=\"dataframe\">\n",
       "  <thead>\n",
       "    <tr style=\"text-align: right;\">\n",
       "      <th></th>\n",
       "      <th>time</th>\n",
       "      <th>close</th>\n",
       "      <th>volume</th>\n",
       "      <th>ticker</th>\n",
       "      <th>btc_close</th>\n",
       "    </tr>\n",
       "  </thead>\n",
       "  <tbody>\n",
       "    <tr>\n",
       "      <th>20999</th>\n",
       "      <td>2024-11-21 23:00:00</td>\n",
       "      <td>0.000025</td>\n",
       "      <td>3.435063e+10</td>\n",
       "      <td>SHIB-USDT</td>\n",
       "      <td>98107.9</td>\n",
       "    </tr>\n",
       "    <tr>\n",
       "      <th>21000</th>\n",
       "      <td>2024-11-22 00:00:00</td>\n",
       "      <td>0.000025</td>\n",
       "      <td>2.848376e+10</td>\n",
       "      <td>SHIB-USDT</td>\n",
       "      <td>97967.2</td>\n",
       "    </tr>\n",
       "  </tbody>\n",
       "</table>\n",
       "</div>"
      ],
      "text/plain": [
       "                     time     close        volume     ticker  btc_close\n",
       "20999 2024-11-21 23:00:00  0.000025  3.435063e+10  SHIB-USDT    98107.9\n",
       "21000 2024-11-22 00:00:00  0.000025  2.848376e+10  SHIB-USDT    97967.2"
      ]
     },
     "execution_count": 271,
     "metadata": {},
     "output_type": "execute_result"
    }
   ],
   "source": [
    "i = 21000\n",
    "ticker = 'SHIB-USDT'\n",
    "\n",
    "df = load_pkl(f\"./data/preproc/1hour/{ticker}.pkl\")\n",
    "df.iloc[i-1:i+1]"
   ]
  },
  {
   "cell_type": "code",
   "execution_count": 281,
   "id": "69952fa5-0107-41f9-a3cf-fa723137bf53",
   "metadata": {},
   "outputs": [
    {
     "data": {
      "text/html": [
       "<div>\n",
       "<style scoped>\n",
       "    .dataframe tbody tr th:only-of-type {\n",
       "        vertical-align: middle;\n",
       "    }\n",
       "\n",
       "    .dataframe tbody tr th {\n",
       "        vertical-align: top;\n",
       "    }\n",
       "\n",
       "    .dataframe thead th {\n",
       "        text-align: right;\n",
       "    }\n",
       "</style>\n",
       "<table border=\"1\" class=\"dataframe\">\n",
       "  <thead>\n",
       "    <tr style=\"text-align: right;\">\n",
       "      <th></th>\n",
       "      <th>time</th>\n",
       "      <th>close</th>\n",
       "      <th>volume</th>\n",
       "      <th>ticker</th>\n",
       "      <th>btc_close</th>\n",
       "    </tr>\n",
       "  </thead>\n",
       "  <tbody>\n",
       "    <tr>\n",
       "      <th>16999</th>\n",
       "      <td>2024-11-28 13:00:00</td>\n",
       "      <td>658.4</td>\n",
       "      <td>1603.791742</td>\n",
       "      <td>BNB-USDT</td>\n",
       "      <td>94952.4</td>\n",
       "    </tr>\n",
       "    <tr>\n",
       "      <th>17000</th>\n",
       "      <td>2024-11-28 14:00:00</td>\n",
       "      <td>659.9</td>\n",
       "      <td>1427.955300</td>\n",
       "      <td>BNB-USDT</td>\n",
       "      <td>95456.0</td>\n",
       "    </tr>\n",
       "  </tbody>\n",
       "</table>\n",
       "</div>"
      ],
      "text/plain": [
       "                     time  close       volume    ticker  btc_close\n",
       "16999 2024-11-28 13:00:00  658.4  1603.791742  BNB-USDT    94952.4\n",
       "17000 2024-11-28 14:00:00  659.9  1427.955300  BNB-USDT    95456.0"
      ]
     },
     "execution_count": 281,
     "metadata": {},
     "output_type": "execute_result"
    }
   ],
   "source": [
    "i = 17000\n",
    "ticker = 'BNB-USDT'\n",
    "\n",
    "df = load_pkl(f\"./data/preproc/1hour/{ticker}.pkl\")\n",
    "df.iloc[i-1:i+1]"
   ]
  },
  {
   "cell_type": "code",
   "execution_count": null,
   "id": "b4e47792-d6c4-4230-80ab-114506b552fb",
   "metadata": {},
   "outputs": [],
   "source": []
  },
  {
   "cell_type": "code",
   "execution_count": null,
   "id": "4366e01f-a93b-4530-bf5c-1c7b23c34c3c",
   "metadata": {},
   "outputs": [],
   "source": []
  },
  {
   "cell_type": "markdown",
   "id": "956a36bc-04b2-4201-9096-5d99df82ed7c",
   "metadata": {},
   "source": [
    "#### #5min"
   ]
  },
  {
   "cell_type": "code",
   "execution_count": 330,
   "id": "6333c239-3caf-44a2-ac87-a4265bf67c1c",
   "metadata": {},
   "outputs": [
    {
     "data": {
      "text/html": [
       "<div>\n",
       "<style scoped>\n",
       "    .dataframe tbody tr th:only-of-type {\n",
       "        vertical-align: middle;\n",
       "    }\n",
       "\n",
       "    .dataframe tbody tr th {\n",
       "        vertical-align: top;\n",
       "    }\n",
       "\n",
       "    .dataframe thead th {\n",
       "        text-align: right;\n",
       "    }\n",
       "</style>\n",
       "<table border=\"1\" class=\"dataframe\">\n",
       "  <thead>\n",
       "    <tr style=\"text-align: right;\">\n",
       "      <th></th>\n",
       "      <th>time</th>\n",
       "      <th>close</th>\n",
       "      <th>volume</th>\n",
       "      <th>ticker</th>\n",
       "      <th>btc_close</th>\n",
       "    </tr>\n",
       "  </thead>\n",
       "  <tbody>\n",
       "    <tr>\n",
       "      <th>278868</th>\n",
       "      <td>2025-02-23 07:00:00</td>\n",
       "      <td>0.24345</td>\n",
       "      <td>6.913738e+05</td>\n",
       "      <td>DOGE-USDT</td>\n",
       "      <td>96388.1</td>\n",
       "    </tr>\n",
       "    <tr>\n",
       "      <th>278869</th>\n",
       "      <td>2025-02-23 07:05:00</td>\n",
       "      <td>0.24323</td>\n",
       "      <td>1.477939e+06</td>\n",
       "      <td>DOGE-USDT</td>\n",
       "      <td>96398.1</td>\n",
       "    </tr>\n",
       "    <tr>\n",
       "      <th>278870</th>\n",
       "      <td>2025-02-23 07:10:00</td>\n",
       "      <td>0.24351</td>\n",
       "      <td>7.856233e+05</td>\n",
       "      <td>DOGE-USDT</td>\n",
       "      <td>96448.1</td>\n",
       "    </tr>\n",
       "  </tbody>\n",
       "</table>\n",
       "</div>"
      ],
      "text/plain": [
       "                      time    close        volume     ticker  btc_close\n",
       "278868 2025-02-23 07:00:00  0.24345  6.913738e+05  DOGE-USDT    96388.1\n",
       "278869 2025-02-23 07:05:00  0.24323  1.477939e+06  DOGE-USDT    96398.1\n",
       "278870 2025-02-23 07:10:00  0.24351  7.856233e+05  DOGE-USDT    96448.1"
      ]
     },
     "execution_count": 330,
     "metadata": {},
     "output_type": "execute_result"
    }
   ],
   "source": [
    "i = -202\n",
    "ticker = 'DOGE-USDT'\n",
    "\n",
    "df = load_pkl(f\"./data/preproc/5min/{ticker}.pkl\")\n",
    "df.iloc[i-2:i+1]"
   ]
  },
  {
   "cell_type": "code",
   "execution_count": 332,
   "id": "245a9e4e-52d2-4cc7-a6dd-32499e9fc5de",
   "metadata": {},
   "outputs": [
    {
     "data": {
      "text/plain": [
       "2954936.2011720003"
      ]
     },
     "execution_count": 332,
     "metadata": {},
     "output_type": "execute_result"
    }
   ],
   "source": [
    "df['volume'].iloc[i-2:i+1].sum()"
   ]
  },
  {
   "cell_type": "code",
   "execution_count": 334,
   "id": "94a06b01-3b4c-4561-890e-cf66f653aaee",
   "metadata": {},
   "outputs": [
    {
     "data": {
      "text/html": [
       "<div>\n",
       "<style scoped>\n",
       "    .dataframe tbody tr th:only-of-type {\n",
       "        vertical-align: middle;\n",
       "    }\n",
       "\n",
       "    .dataframe tbody tr th {\n",
       "        vertical-align: top;\n",
       "    }\n",
       "\n",
       "    .dataframe thead th {\n",
       "        text-align: right;\n",
       "    }\n",
       "</style>\n",
       "<table border=\"1\" class=\"dataframe\">\n",
       "  <thead>\n",
       "    <tr style=\"text-align: right;\">\n",
       "      <th></th>\n",
       "      <th>time</th>\n",
       "      <th>close</th>\n",
       "      <th>volume</th>\n",
       "      <th>ticker</th>\n",
       "      <th>btc_close</th>\n",
       "    </tr>\n",
       "  </thead>\n",
       "  <tbody>\n",
       "    <tr>\n",
       "      <th>274068</th>\n",
       "      <td>2025-02-06 15:00:00</td>\n",
       "      <td>0.000016</td>\n",
       "      <td>1.705860e+09</td>\n",
       "      <td>SHIB-USDT</td>\n",
       "      <td>98982.9</td>\n",
       "    </tr>\n",
       "    <tr>\n",
       "      <th>274069</th>\n",
       "      <td>2025-02-06 15:05:00</td>\n",
       "      <td>0.000016</td>\n",
       "      <td>2.923923e+09</td>\n",
       "      <td>SHIB-USDT</td>\n",
       "      <td>98642.1</td>\n",
       "    </tr>\n",
       "    <tr>\n",
       "      <th>274070</th>\n",
       "      <td>2025-02-06 15:10:00</td>\n",
       "      <td>0.000016</td>\n",
       "      <td>1.175243e+09</td>\n",
       "      <td>SHIB-USDT</td>\n",
       "      <td>98604.4</td>\n",
       "    </tr>\n",
       "  </tbody>\n",
       "</table>\n",
       "</div>"
      ],
      "text/plain": [
       "                      time     close        volume     ticker  btc_close\n",
       "274068 2025-02-06 15:00:00  0.000016  1.705860e+09  SHIB-USDT    98982.9\n",
       "274069 2025-02-06 15:05:00  0.000016  2.923923e+09  SHIB-USDT    98642.1\n",
       "274070 2025-02-06 15:10:00  0.000016  1.175243e+09  SHIB-USDT    98604.4"
      ]
     },
     "execution_count": 334,
     "metadata": {},
     "output_type": "execute_result"
    }
   ],
   "source": [
    "i = -5002\n",
    "ticker = 'SHIB-USDT'\n",
    "\n",
    "df = load_pkl(f\"./data/preproc/5min/{ticker}.pkl\")\n",
    "df.iloc[i-2:i+1]"
   ]
  },
  {
   "cell_type": "code",
   "execution_count": 336,
   "id": "52ce5c39-71be-4552-9ff8-0c0afcfe8d00",
   "metadata": {},
   "outputs": [
    {
     "data": {
      "text/plain": [
       "5805025017.0"
      ]
     },
     "execution_count": 336,
     "metadata": {},
     "output_type": "execute_result"
    }
   ],
   "source": [
    "df['volume'].iloc[i-2:i+1].sum()"
   ]
  },
  {
   "cell_type": "code",
   "execution_count": 338,
   "id": "733d6d87-ed62-4824-b9d4-36394204408f",
   "metadata": {},
   "outputs": [
    {
     "data": {
      "text/html": [
       "<div>\n",
       "<style scoped>\n",
       "    .dataframe tbody tr th:only-of-type {\n",
       "        vertical-align: middle;\n",
       "    }\n",
       "\n",
       "    .dataframe tbody tr th {\n",
       "        vertical-align: top;\n",
       "    }\n",
       "\n",
       "    .dataframe thead th {\n",
       "        text-align: right;\n",
       "    }\n",
       "</style>\n",
       "<table border=\"1\" class=\"dataframe\">\n",
       "  <thead>\n",
       "    <tr style=\"text-align: right;\">\n",
       "      <th></th>\n",
       "      <th>time</th>\n",
       "      <th>close</th>\n",
       "      <th>volume</th>\n",
       "      <th>ticker</th>\n",
       "      <th>btc_close</th>\n",
       "    </tr>\n",
       "  </thead>\n",
       "  <tbody>\n",
       "    <tr>\n",
       "      <th>278070</th>\n",
       "      <td>2025-02-20 12:30:00</td>\n",
       "      <td>172.28</td>\n",
       "      <td>775.086874</td>\n",
       "      <td>SOL-USDT</td>\n",
       "      <td>97191.1</td>\n",
       "    </tr>\n",
       "    <tr>\n",
       "      <th>278071</th>\n",
       "      <td>2025-02-20 12:35:00</td>\n",
       "      <td>172.12</td>\n",
       "      <td>583.303418</td>\n",
       "      <td>SOL-USDT</td>\n",
       "      <td>97190.1</td>\n",
       "    </tr>\n",
       "    <tr>\n",
       "      <th>278072</th>\n",
       "      <td>2025-02-20 12:40:00</td>\n",
       "      <td>172.35</td>\n",
       "      <td>1796.954872</td>\n",
       "      <td>SOL-USDT</td>\n",
       "      <td>97276.0</td>\n",
       "    </tr>\n",
       "  </tbody>\n",
       "</table>\n",
       "</div>"
      ],
      "text/plain": [
       "                      time   close       volume    ticker  btc_close\n",
       "278070 2025-02-20 12:30:00  172.28   775.086874  SOL-USDT    97191.1\n",
       "278071 2025-02-20 12:35:00  172.12   583.303418  SOL-USDT    97190.1\n",
       "278072 2025-02-20 12:40:00  172.35  1796.954872  SOL-USDT    97276.0"
      ]
     },
     "execution_count": 338,
     "metadata": {},
     "output_type": "execute_result"
    }
   ],
   "source": [
    "i = -1000\n",
    "ticker = 'SOL-USDT'\n",
    "\n",
    "df = load_pkl(f\"./data/preproc/5min/{ticker}.pkl\")\n",
    "df.iloc[i-2:i+1]"
   ]
  },
  {
   "cell_type": "code",
   "execution_count": 340,
   "id": "f9d200fd-e169-434d-97cf-faafa8b84c85",
   "metadata": {},
   "outputs": [
    {
     "data": {
      "text/plain": [
       "3155.3451640000003"
      ]
     },
     "execution_count": 340,
     "metadata": {},
     "output_type": "execute_result"
    }
   ],
   "source": [
    "df['volume'].iloc[i-2:i+1].sum()"
   ]
  },
  {
   "cell_type": "code",
   "execution_count": null,
   "id": "8ab7e706-3156-410c-a297-448d5a178eaf",
   "metadata": {},
   "outputs": [],
   "source": []
  },
  {
   "cell_type": "code",
   "execution_count": null,
   "id": "8520e2a9-980f-4bab-a706-5f3e2f0e5f65",
   "metadata": {},
   "outputs": [],
   "source": [
    "#Все бьется с терминальными данными =)"
   ]
  },
  {
   "cell_type": "code",
   "execution_count": null,
   "id": "cb0d5533-c087-4d3e-8630-59a6fe772143",
   "metadata": {},
   "outputs": [],
   "source": []
  },
  {
   "cell_type": "code",
   "execution_count": null,
   "id": "1e75871d-904c-456b-a754-e07aae9405e1",
   "metadata": {},
   "outputs": [],
   "source": []
  },
  {
   "cell_type": "code",
   "execution_count": null,
   "id": "4ef19304-d178-44c5-a048-cf834c49a4d2",
   "metadata": {},
   "outputs": [],
   "source": []
  },
  {
   "cell_type": "code",
   "execution_count": 3,
   "id": "c38f6cc8-8332-4d00-9f17-0d87a68b035e",
   "metadata": {},
   "outputs": [
    {
     "data": {
      "text/plain": [
       "-10617"
      ]
     },
     "execution_count": 3,
     "metadata": {},
     "output_type": "execute_result"
    }
   ],
   "source": [
    "279080+140300+141200 -571197"
   ]
  },
  {
   "cell_type": "code",
   "execution_count": null,
   "id": "504c35c8-317b-4ddc-9a40-e65d68145bff",
   "metadata": {},
   "outputs": [],
   "source": []
  }
 ],
 "metadata": {
  "kernelspec": {
   "display_name": "Python 3 (ipykernel)",
   "language": "python",
   "name": "python3"
  },
  "language_info": {
   "codemirror_mode": {
    "name": "ipython",
    "version": 3
   },
   "file_extension": ".py",
   "mimetype": "text/x-python",
   "name": "python",
   "nbconvert_exporter": "python",
   "pygments_lexer": "ipython3",
   "version": "3.12.7"
  }
 },
 "nbformat": 4,
 "nbformat_minor": 5
}
